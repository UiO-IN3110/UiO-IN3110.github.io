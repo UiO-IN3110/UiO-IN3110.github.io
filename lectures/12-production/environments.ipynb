{
 "cells": [
  {
   "cell_type": "markdown",
   "metadata": {},
   "source": [
    "# Environments\n",
    "\n",
    "\n",
    "**Note:** this notebook uses the bash kernel. Intall it with `pip install bash_kernel` or run these commands in a shell.\n",
    "\n",
    "\n",
    "A \"virtualenv\" is a directory isolating a collection of Python packages.\n",
    "The `venv` package in the standard library creates virtualenvs.\n",
    "There are various wrappers, such as `virtualenvwrapper` that can add some functionality if you use envs a lot.\n",
    "\n",
    "\n",
    "to create an env:"
   ]
  },
  {
   "cell_type": "code",
   "execution_count": null,
   "metadata": {},
   "outputs": [],
   "source": [
    "# --clear means delete an env if there already was one at this location\n",
    "python -m venv --clear ./env-1\n",
    "./env-1/bin/pip install --upgrade pip\n",
    "\n",
    "# tree will show us a peek at what's in the env\n",
    "tree -L 2 env-1"
   ]
  },
  {
   "cell_type": "markdown",
   "metadata": {},
   "source": [
    "I have a lot of packages in my main environment!"
   ]
  },
  {
   "cell_type": "code",
   "execution_count": null,
   "metadata": {},
   "outputs": [],
   "source": [
    "pip list | wc -l"
   ]
  },
  {
   "cell_type": "markdown",
   "metadata": {},
   "source": [
    "Run\n",
    "\n",
    "\n",
    "```bash\n",
    "source $PREFIX/bin/active\n",
    "```\n",
    "\n",
    "to *activate* an env. Which mainly means:\n",
    "\n",
    "1. put the env on the front of your $PATH\n",
    "2. now, when I run `python` or `pip`, only the packages in the env are available:"
   ]
  },
  {
   "cell_type": "code",
   "execution_count": null,
   "metadata": {},
   "outputs": [],
   "source": [
    "VIRTUAL_ENV_DISABLE_PROMPT=1\n",
    "source ./env-1/bin/activate\n",
    "pip list"
   ]
  },
  {
   "cell_type": "code",
   "execution_count": null,
   "metadata": {},
   "outputs": [],
   "source": [
    "cat requirements.txt"
   ]
  },
  {
   "cell_type": "code",
   "execution_count": null,
   "metadata": {},
   "outputs": [],
   "source": [
    "pip install -r requirements.txt"
   ]
  },
  {
   "cell_type": "code",
   "execution_count": null,
   "metadata": {},
   "outputs": [],
   "source": [
    "pip list"
   ]
  },
  {
   "cell_type": "markdown",
   "metadata": {},
   "source": [
    "But what about reproducible builds? What if a new release of altair breaks my application?\n",
    "\n",
    "Solution: Pin specific versions?\n",
    "\n",
    "```\n",
    "# requirements.txt\n",
    "altair==4.1.0\n",
    "vega-datasets==0.8.0\n",
    "flask==1.1.2\n",
    "```\n",
    "\n",
    "💣 this is the works possible thing!\n",
    "\n",
    "1. it ensures that your direct dependencies are not updated (fine), but\n",
    "2. it **does not** ensure that their dependencies are not updated\n",
    "\n",
    "This *guarantees* that your env will break when a dependency is updated. If you had left everything unpinned, it is likely your code would not break, unless the APIs your code uses change. But partial pinning is a way to *guarantee* something will break, even if your code works fine with the latest version of everything.\n",
    "\n",
    "If you are pinning dependencies, it should be *all or nothing*, never partial. Ideally, this should include Python itself!"
   ]
  },
  {
   "cell_type": "code",
   "execution_count": null,
   "metadata": {},
   "outputs": [],
   "source": [
    "pip freeze"
   ]
  },
  {
   "cell_type": "markdown",
   "metadata": {},
   "source": [
    "[pip-tools](https://github.com/jazzband/pip-tools) is a collection of tools to solve\n",
    "the \"loose vs pinned\" dependency problem.\n",
    "\n",
    "Instead of a single `requirements.txt`, you have a human-mananged `requirements.in` with only direct, loose dependencies, and an automatically managed `requirements.txt` with a fully pinned environment, including all dependencies."
   ]
  },
  {
   "cell_type": "code",
   "execution_count": null,
   "metadata": {},
   "outputs": [],
   "source": [
    "pip install pip-tools"
   ]
  },
  {
   "cell_type": "code",
   "execution_count": null,
   "metadata": {},
   "outputs": [],
   "source": [
    "cp requirements.txt pip-tools/requirements.in"
   ]
  },
  {
   "cell_type": "code",
   "execution_count": null,
   "metadata": {},
   "outputs": [],
   "source": [
    "cd pip-tools"
   ]
  },
  {
   "cell_type": "code",
   "execution_count": null,
   "metadata": {},
   "outputs": [],
   "source": [
    "pip-compile"
   ]
  },
  {
   "cell_type": "markdown",
   "metadata": {},
   "source": [
    "When you start, there is no difference between\n",
    "\n",
    "```bash\n",
    "pip install -r requirements.in\n",
    "```\n",
    "\n",
    "and\n",
    "\n",
    "```bash\n",
    "pip install -r requirements.txt\n",
    "```\n",
    "\n",
    "The distinction is: `requirements.in` will install *different things over time*, while `requirements.txt` will always install the same exact things until you change it, e.g. by running `pip-compile` again to upgrade packages, or after editing `requirements.in`.\n"
   ]
  },
  {
   "cell_type": "code",
   "execution_count": null,
   "metadata": {},
   "outputs": [],
   "source": [
    "cat requirements.in"
   ]
  },
  {
   "cell_type": "code",
   "execution_count": null,
   "metadata": {},
   "outputs": [],
   "source": [
    "cat requirements.txt"
   ]
  },
  {
   "cell_type": "markdown",
   "metadata": {},
   "source": [
    "## pipenv\n",
    "\n",
    "[pipenv](https://pipenv.pypa.io) is a tool built around pipfiles that does a similar thing to pip-tools, but one step removed.\n",
    "\n",
    "- uses [Pipfile](https://github.com/pypa/pipfile) format instead of requirements.txt\n",
    "- Pipfile.lock for pinned versions\n",
    "- includes specifying the Python version itself, and additional informat about *how* to install pacakges\n",
    "- manages environments as well\n"
   ]
  },
  {
   "cell_type": "code",
   "execution_count": null,
   "metadata": {},
   "outputs": [],
   "source": [
    "cd ../pipfile"
   ]
  },
  {
   "cell_type": "code",
   "execution_count": null,
   "metadata": {},
   "outputs": [],
   "source": [
    "cat Pipfile"
   ]
  },
  {
   "cell_type": "markdown",
   "metadata": {},
   "source": [
    "Leave our earlier env"
   ]
  },
  {
   "cell_type": "code",
   "execution_count": null,
   "metadata": {},
   "outputs": [],
   "source": [
    "deactivate\n",
    "pip install pipenv"
   ]
  },
  {
   "cell_type": "code",
   "execution_count": null,
   "metadata": {},
   "outputs": [],
   "source": [
    "pipenv lock"
   ]
  },
  {
   "cell_type": "code",
   "execution_count": null,
   "metadata": {},
   "outputs": [],
   "source": [
    "pipenv install"
   ]
  },
  {
   "cell_type": "code",
   "execution_count": null,
   "metadata": {},
   "outputs": [],
   "source": [
    "pipenv run python -c \"import sys; print(sys.prefix)\""
   ]
  },
  {
   "cell_type": "code",
   "execution_count": null,
   "metadata": {},
   "outputs": [],
   "source": [
    "pipenv run pip list"
   ]
  },
  {
   "cell_type": "code",
   "execution_count": null,
   "metadata": {},
   "outputs": [],
   "source": [
    "head -n 30 Pipfile.lock"
   ]
  },
  {
   "cell_type": "code",
   "execution_count": null,
   "metadata": {},
   "outputs": [],
   "source": []
  }
 ],
 "metadata": {
  "kernelspec": {
   "display_name": "Bash",
   "language": "bash",
   "name": "bash"
  },
  "language_info": {
   "codemirror_mode": "shell",
   "file_extension": ".sh",
   "mimetype": "text/x-sh",
   "name": "bash"
  },
  "widgets": {
   "application/vnd.jupyter.widget-state+json": {
    "state": {},
    "version_major": 2,
    "version_minor": 0
   }
  }
 },
 "nbformat": 4,
 "nbformat_minor": 4
}
