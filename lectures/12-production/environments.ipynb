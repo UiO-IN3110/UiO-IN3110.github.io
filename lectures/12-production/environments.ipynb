{
 "cells": [
  {
   "cell_type": "markdown",
   "metadata": {},
   "source": [
    "# Environments\n",
    "\n",
    "\n",
    "**Note:** this notebook uses the bash kernel. Intall it with `pip install bash_kernel` or run these commands in a shell.\n",
    "\n",
    "\n",
    "A \"virtualenv\" is a directory isolating a collection of Python packages.\n",
    "The `venv` package in the standard library creates virtualenvs.\n",
    "There are various wrappers, such as `virtualenvwrapper` that can add some functionality if you use envs a lot.\n",
    "\n",
    "\n",
    "to create an env:"
   ]
  },
  {
   "cell_type": "code",
   "execution_count": 1,
   "metadata": {},
   "outputs": [
    {
     "name": "stdout",
     "output_type": "stream",
     "text": [
      "Requirement already satisfied: pip in ./env-1/lib/python3.10/site-packages (22.0.4)\n",
      "Collecting pip\n",
      "  Using cached pip-22.3.1-py3-none-any.whl (2.1 MB)\n",
      "Installing collected packages: pip\n",
      "  Attempting uninstall: pip\n",
      "    Found existing installation: pip 22.0.4\n",
      "    Uninstalling pip-22.0.4:\n",
      "      Successfully uninstalled pip-22.0.4\n",
      "Successfully installed pip-22.3.1\n",
      "env-1\n",
      "├── bin\n",
      "│   ├── Activate.ps1\n",
      "│   ├── activate\n",
      "│   ├── activate.csh\n",
      "│   ├── activate.fish\n",
      "│   ├── pip\n",
      "│   ├── pip3\n",
      "│   ├── pip3.10\n",
      "│   ├── python -> /Users/minrk/conda/bin/python\n",
      "│   ├── python3 -> python\n",
      "│   └── python3.10 -> python\n",
      "├── include\n",
      "├── lib\n",
      "│   └── python3.10\n",
      "└── pyvenv.cfg\n",
      "\n",
      "4 directories, 11 files\n"
     ]
    }
   ],
   "source": [
    "# --clear means delete an env if there already was one at this location\n",
    "python -m venv --clear ./env-1\n",
    "./env-1/bin/pip install --upgrade pip\n",
    "\n",
    "# tree will show us a peek at what's in the env\n",
    "tree -L 2 env-1"
   ]
  },
  {
   "cell_type": "markdown",
   "metadata": {},
   "source": [
    "I have a lot of packages in my main environment!"
   ]
  },
  {
   "cell_type": "code",
   "execution_count": 2,
   "metadata": {},
   "outputs": [
    {
     "name": "stdout",
     "output_type": "stream",
     "text": [
      "     486\n"
     ]
    }
   ],
   "source": [
    "pip list | wc -l"
   ]
  },
  {
   "cell_type": "markdown",
   "metadata": {},
   "source": [
    "Run\n",
    "\n",
    "\n",
    "```bash\n",
    "source $PREFIX/bin/active\n",
    "```\n",
    "\n",
    "to *activate* an env. Which mainly means:\n",
    "\n",
    "1. put the env on the front of your $PATH\n",
    "2. now, when I run `python` or `pip`, only the packages in the env are available:"
   ]
  },
  {
   "cell_type": "code",
   "execution_count": 3,
   "metadata": {},
   "outputs": [
    {
     "name": "stdout",
     "output_type": "stream",
     "text": [
      "Package    Version\n",
      "---------- -------\n",
      "pip        22.3.1\n",
      "setuptools 58.1.0\n"
     ]
    }
   ],
   "source": [
    "VIRTUAL_ENV_DISABLE_PROMPT=1\n",
    "source ./env-1/bin/activate\n",
    "pip list"
   ]
  },
  {
   "cell_type": "code",
   "execution_count": 4,
   "metadata": {},
   "outputs": [
    {
     "name": "stdout",
     "output_type": "stream",
     "text": [
      "altair\n",
      "flask\n",
      "vega_datasets\n"
     ]
    }
   ],
   "source": [
    "cat requirements.txt"
   ]
  },
  {
   "cell_type": "code",
   "execution_count": 5,
   "metadata": {},
   "outputs": [
    {
     "name": "stdout",
     "output_type": "stream",
     "text": [
      "Collecting altair\n",
      "  Downloading altair-4.2.0-py3-none-any.whl (812 kB)\n",
      "\u001b[2K     \u001b[38;2;114;156;31m━━━━━━━━━━━━━━━━━━━━━━━━━━━━━━━━━━━━━━\u001b[0m \u001b[32m812.8/812.8 kB\u001b[0m \u001b[31m20.4 MB/s\u001b[0m eta \u001b[36m0:00:00\u001b[0mm eta \u001b[36m0:00:01\u001b[0m\n",
      "\u001b[?25hCollecting flask\n",
      "  Using cached Flask-2.2.2-py3-none-any.whl (101 kB)\n",
      "Collecting vega_datasets\n",
      "  Using cached vega_datasets-0.9.0-py3-none-any.whl (210 kB)\n",
      "Collecting numpy\n",
      "  Using cached numpy-1.23.4-cp310-cp310-macosx_11_0_arm64.whl (13.3 MB)\n",
      "Collecting pandas>=0.18\n",
      "  Downloading pandas-1.5.1-cp310-cp310-macosx_11_0_arm64.whl (10.8 MB)\n",
      "\u001b[2K     \u001b[38;2;114;156;31m━━━━━━━━━━━━━━━━━━━━━━━━━━━━━━━━━━━━━━━━\u001b[0m \u001b[32m10.8/10.8 MB\u001b[0m \u001b[31m52.3 MB/s\u001b[0m eta \u001b[36m0:00:00\u001b[0m[36m0:00:01\u001b[0m eta \u001b[36m0:00:01\u001b[0m\n",
      "\u001b[?25hCollecting toolz\n",
      "  Downloading toolz-0.12.0-py3-none-any.whl (55 kB)\n",
      "\u001b[2K     \u001b[38;2;114;156;31m━━━━━━━━━━━━━━━━━━━━━━━━━━━━━━━━━━━━━━━━\u001b[0m \u001b[32m55.8/55.8 kB\u001b[0m \u001b[31m7.0 MB/s\u001b[0m eta \u001b[36m0:00:00\u001b[0m\n",
      "\u001b[?25hCollecting jinja2\n",
      "  Using cached Jinja2-3.1.2-py3-none-any.whl (133 kB)\n",
      "Collecting jsonschema>=3.0\n",
      "  Using cached jsonschema-4.17.0-py3-none-any.whl (83 kB)\n",
      "Collecting entrypoints\n",
      "  Using cached entrypoints-0.4-py3-none-any.whl (5.3 kB)\n",
      "Collecting Werkzeug>=2.2.2\n",
      "  Using cached Werkzeug-2.2.2-py3-none-any.whl (232 kB)\n",
      "Collecting click>=8.0\n",
      "  Using cached click-8.1.3-py3-none-any.whl (96 kB)\n",
      "Collecting itsdangerous>=2.0\n",
      "  Using cached itsdangerous-2.1.2-py3-none-any.whl (15 kB)\n",
      "Collecting MarkupSafe>=2.0\n",
      "  Using cached MarkupSafe-2.1.1-cp310-cp310-macosx_10_9_universal2.whl (17 kB)\n",
      "Collecting pyrsistent!=0.17.0,!=0.17.1,!=0.17.2,>=0.14.0\n",
      "  Downloading pyrsistent-0.19.2-cp310-cp310-macosx_10_9_universal2.whl (82 kB)\n",
      "\u001b[2K     \u001b[38;2;114;156;31m━━━━━━━━━━━━━━━━━━━━━━━━━━━━━━━━━━━━━━━━\u001b[0m \u001b[32m82.5/82.5 kB\u001b[0m \u001b[31m10.0 MB/s\u001b[0m eta \u001b[36m0:00:00\u001b[0m\n",
      "\u001b[?25hCollecting attrs>=17.4.0\n",
      "  Using cached attrs-22.1.0-py2.py3-none-any.whl (58 kB)\n",
      "Collecting pytz>=2020.1\n",
      "  Using cached pytz-2022.6-py2.py3-none-any.whl (498 kB)\n",
      "Collecting python-dateutil>=2.8.1\n",
      "  Using cached python_dateutil-2.8.2-py2.py3-none-any.whl (247 kB)\n",
      "Collecting six>=1.5\n",
      "  Using cached six-1.16.0-py2.py3-none-any.whl (11 kB)\n",
      "Installing collected packages: pytz, toolz, six, pyrsistent, numpy, MarkupSafe, itsdangerous, entrypoints, click, attrs, Werkzeug, python-dateutil, jsonschema, jinja2, pandas, flask, vega_datasets, altair\n",
      "Successfully installed MarkupSafe-2.1.1 Werkzeug-2.2.2 altair-4.2.0 attrs-22.1.0 click-8.1.3 entrypoints-0.4 flask-2.2.2 itsdangerous-2.1.2 jinja2-3.1.2 jsonschema-4.17.0 numpy-1.23.4 pandas-1.5.1 pyrsistent-0.19.2 python-dateutil-2.8.2 pytz-2022.6 six-1.16.0 toolz-0.12.0 vega_datasets-0.9.0\n"
     ]
    }
   ],
   "source": [
    "pip install -r requirements.txt"
   ]
  },
  {
   "cell_type": "code",
   "execution_count": 6,
   "metadata": {},
   "outputs": [
    {
     "name": "stdout",
     "output_type": "stream",
     "text": [
      "Package         Version\n",
      "--------------- -------\n",
      "altair          4.2.0\n",
      "attrs           22.1.0\n",
      "click           8.1.3\n",
      "entrypoints     0.4\n",
      "Flask           2.2.2\n",
      "itsdangerous    2.1.2\n",
      "Jinja2          3.1.2\n",
      "jsonschema      4.17.0\n",
      "MarkupSafe      2.1.1\n",
      "numpy           1.23.4\n",
      "pandas          1.5.1\n",
      "pip             22.3.1\n",
      "pyrsistent      0.19.2\n",
      "python-dateutil 2.8.2\n",
      "pytz            2022.6\n",
      "setuptools      58.1.0\n",
      "six             1.16.0\n",
      "toolz           0.12.0\n",
      "vega-datasets   0.9.0\n",
      "Werkzeug        2.2.2\n"
     ]
    }
   ],
   "source": [
    "pip list"
   ]
  },
  {
   "cell_type": "markdown",
   "metadata": {},
   "source": [
    "But what about reproducible builds? What if a new release of altair breaks my application?\n",
    "\n",
    "Solution: Pin specific versions?\n",
    "\n",
    "```\n",
    "# requirements.txt\n",
    "altair==4.1.0\n",
    "vega-datasets==0.8.0\n",
    "flask==1.1.2\n",
    "```\n",
    "\n",
    "💣 this is the works possible thing!\n",
    "\n",
    "1. it ensures that your direct dependencies are not updated (fine), but\n",
    "2. it **does not** ensure that their dependencies are not updated\n",
    "\n",
    "This *guarantees* that your env will break when a dependency is updated. If you had left everything unpinned, it is likely your code would not break, unless the APIs your code uses change. But partial pinning is a way to *guarantee* something will break, even if your code works fine with the latest version of everything.\n",
    "\n",
    "If you are pinning dependencies, it should be *all or nothing*, never partial. Ideally, this should include Python itself!"
   ]
  },
  {
   "cell_type": "code",
   "execution_count": null,
   "metadata": {},
   "outputs": [],
   "source": [
    "pip freeze"
   ]
  },
  {
   "cell_type": "markdown",
   "metadata": {},
   "source": [
    "[pip-tools](https://github.com/jazzband/pip-tools) is a collection of tools to solve\n",
    "the \"loose vs pinned\" dependency problem.\n",
    "\n",
    "Instead of a single `requirements.txt`, you have a human-mananged `requirements.in` with only direct, loose dependencies, and an automatically managed `requirements.txt` with a fully pinned environment, including all dependencies."
   ]
  },
  {
   "cell_type": "code",
   "execution_count": 7,
   "metadata": {},
   "outputs": [
    {
     "name": "stdout",
     "output_type": "stream",
     "text": [
      "Collecting pip-tools\n",
      "  Downloading pip_tools-6.10.0-py3-none-any.whl (53 kB)\n",
      "\u001b[2K     \u001b[38;2;114;156;31m━━━━━━━━━━━━━━━━━━━━━━━━━━━━━━━━━━━━━━━━\u001b[0m \u001b[32m53.4/53.4 kB\u001b[0m \u001b[31m4.5 MB/s\u001b[0m eta \u001b[36m0:00:00\u001b[0m\n",
      "\u001b[?25hRequirement already satisfied: setuptools in ./env-1/lib/python3.10/site-packages (from pip-tools) (58.1.0)\n",
      "Collecting build\n",
      "  Downloading build-0.9.0-py3-none-any.whl (17 kB)\n",
      "Requirement already satisfied: pip>=21.2 in ./env-1/lib/python3.10/site-packages (from pip-tools) (22.3.1)\n",
      "Collecting wheel\n",
      "  Downloading wheel-0.38.4-py3-none-any.whl (36 kB)\n",
      "Requirement already satisfied: click>=7 in ./env-1/lib/python3.10/site-packages (from pip-tools) (8.1.3)\n",
      "Collecting pep517>=0.9.1\n",
      "  Using cached pep517-0.13.0-py3-none-any.whl (18 kB)\n",
      "Collecting packaging>=19.0\n",
      "  Using cached packaging-21.3-py3-none-any.whl (40 kB)\n",
      "Collecting tomli>=1.0.0\n",
      "  Using cached tomli-2.0.1-py3-none-any.whl (12 kB)\n",
      "Collecting pyparsing!=3.0.5,>=2.0.2\n",
      "  Using cached pyparsing-3.0.9-py3-none-any.whl (98 kB)\n",
      "Installing collected packages: wheel, tomli, pyparsing, pep517, packaging, build, pip-tools\n",
      "Successfully installed build-0.9.0 packaging-21.3 pep517-0.13.0 pip-tools-6.10.0 pyparsing-3.0.9 tomli-2.0.1 wheel-0.38.4\n"
     ]
    }
   ],
   "source": [
    "pip install pip-tools"
   ]
  },
  {
   "cell_type": "code",
   "execution_count": 17,
   "metadata": {},
   "outputs": [],
   "source": [
    "cp requirements.txt pip-tools/requirements.in\n",
    "rm -f pip-tools/requirements.txt"
   ]
  },
  {
   "cell_type": "code",
   "execution_count": 18,
   "metadata": {},
   "outputs": [],
   "source": [
    "cd pip-tools"
   ]
  },
  {
   "cell_type": "code",
   "execution_count": 19,
   "metadata": {},
   "outputs": [
    {
     "name": "stdout",
     "output_type": "stream",
     "text": [
      "\u001b[33mWARNING: using legacy resolver is deprecated and will be removed in future versions. The default resolver will be change to 'backtracking' in 7.0.0 version. Specify --resolver=backtracking to silence this warning.\u001b[0m\n",
      "\u001b[32m#\u001b[0m\u001b[0m\n",
      "\u001b[32m# This file is autogenerated by pip-compile with python 3.10\u001b[0m\u001b[0m\n",
      "\u001b[32m# To update, run:\u001b[0m\u001b[0m\n",
      "\u001b[32m#\u001b[0m\u001b[0m\n",
      "\u001b[32m#    pip-compile\u001b[0m\u001b[0m\n",
      "\u001b[32m#\u001b[0m\u001b[0m\n",
      "altair==4.2.0\n",
      "    \u001b[32m# via -r requirements.in\u001b[0m\u001b[0m\n",
      "attrs==22.1.0\n",
      "    \u001b[32m# via jsonschema\u001b[0m\u001b[0m\n",
      "click==8.1.3\n",
      "    \u001b[32m# via flask\u001b[0m\u001b[0m\n",
      "entrypoints==0.4\n",
      "    \u001b[32m# via altair\u001b[0m\u001b[0m\n",
      "flask==2.2.2\n",
      "    \u001b[32m# via -r requirements.in\u001b[0m\u001b[0m\n",
      "itsdangerous==2.1.2\n",
      "    \u001b[32m# via flask\u001b[0m\u001b[0m\n",
      "jinja2==3.1.2\n",
      "    \u001b[32m# via\n",
      "    #   altair\n",
      "    #   flask\u001b[0m\u001b[0m\n",
      "jsonschema==4.17.0\n",
      "    \u001b[32m# via altair\u001b[0m\u001b[0m\n",
      "markupsafe==2.1.1\n",
      "    \u001b[32m# via\n",
      "    #   jinja2\n",
      "    #   werkzeug\u001b[0m\u001b[0m\n",
      "numpy==1.23.4\n",
      "    \u001b[32m# via\n",
      "    #   altair\n",
      "    #   pandas\u001b[0m\u001b[0m\n",
      "pandas==1.5.1\n",
      "    \u001b[32m# via\n",
      "    #   altair\n",
      "    #   vega-datasets\u001b[0m\u001b[0m\n",
      "pyrsistent==0.19.2\n",
      "    \u001b[32m# via jsonschema\u001b[0m\u001b[0m\n",
      "python-dateutil==2.8.2\n",
      "    \u001b[32m# via pandas\u001b[0m\u001b[0m\n",
      "pytz==2022.6\n",
      "    \u001b[32m# via pandas\u001b[0m\u001b[0m\n",
      "six==1.16.0\n",
      "    \u001b[32m# via python-dateutil\u001b[0m\u001b[0m\n",
      "toolz==0.12.0\n",
      "    \u001b[32m# via altair\u001b[0m\u001b[0m\n",
      "vega-datasets==0.9.0\n",
      "    \u001b[32m# via -r requirements.in\u001b[0m\u001b[0m\n",
      "werkzeug==2.2.2\n",
      "    \u001b[32m# via flask\u001b[0m\u001b[0m\n"
     ]
    }
   ],
   "source": [
    "pip-compile"
   ]
  },
  {
   "cell_type": "markdown",
   "metadata": {},
   "source": [
    "When you start, there is no difference between\n",
    "\n",
    "```bash\n",
    "pip install -r requirements.in\n",
    "```\n",
    "\n",
    "and\n",
    "\n",
    "```bash\n",
    "pip install -r requirements.txt\n",
    "```\n",
    "\n",
    "The distinction is: `requirements.in` will install *different things over time*, while `requirements.txt` will always install the same exact things until you change it, e.g. by running `pip-compile` again to upgrade packages, or after editing `requirements.in`.\n"
   ]
  },
  {
   "cell_type": "code",
   "execution_count": 20,
   "metadata": {},
   "outputs": [
    {
     "name": "stdout",
     "output_type": "stream",
     "text": [
      "altair\n",
      "flask\n",
      "vega_datasets\n"
     ]
    }
   ],
   "source": [
    "cat requirements.in"
   ]
  },
  {
   "cell_type": "code",
   "execution_count": 21,
   "metadata": {},
   "outputs": [
    {
     "name": "stdout",
     "output_type": "stream",
     "text": [
      "#\n",
      "# This file is autogenerated by pip-compile with python 3.10\n",
      "# To update, run:\n",
      "#\n",
      "#    pip-compile\n",
      "#\n",
      "altair==4.2.0\n",
      "    # via -r requirements.in\n",
      "attrs==22.1.0\n",
      "    # via jsonschema\n",
      "click==8.1.3\n",
      "    # via flask\n",
      "entrypoints==0.4\n",
      "    # via altair\n",
      "flask==2.2.2\n",
      "    # via -r requirements.in\n",
      "itsdangerous==2.1.2\n",
      "    # via flask\n",
      "jinja2==3.1.2\n",
      "    # via\n",
      "    #   altair\n",
      "    #   flask\n",
      "jsonschema==4.17.0\n",
      "    # via altair\n",
      "markupsafe==2.1.1\n",
      "    # via\n",
      "    #   jinja2\n",
      "    #   werkzeug\n",
      "numpy==1.23.4\n",
      "    # via\n",
      "    #   altair\n",
      "    #   pandas\n",
      "pandas==1.5.1\n",
      "    # via\n",
      "    #   altair\n",
      "    #   vega-datasets\n",
      "pyrsistent==0.19.2\n",
      "    # via jsonschema\n",
      "python-dateutil==2.8.2\n",
      "    # via pandas\n",
      "pytz==2022.6\n",
      "    # via pandas\n",
      "six==1.16.0\n",
      "    # via python-dateutil\n",
      "toolz==0.12.0\n",
      "    # via altair\n",
      "vega-datasets==0.9.0\n",
      "    # via -r requirements.in\n",
      "werkzeug==2.2.2\n",
      "    # via flask\n"
     ]
    }
   ],
   "source": [
    "cat requirements.txt"
   ]
  },
  {
   "cell_type": "markdown",
   "metadata": {},
   "source": [
    "## pipenv\n",
    "\n",
    "[pipenv](https://pipenv.pypa.io) is a tool built around pipfiles that does a similar thing to pip-tools, but one step removed.\n",
    "\n",
    "- uses [Pipfile](https://github.com/pypa/pipfile) format instead of requirements.txt\n",
    "- Pipfile.lock for pinned versions\n",
    "- includes specifying the Python version itself, and additional informat about *how* to install pacakges\n",
    "- manages environments as well\n"
   ]
  },
  {
   "cell_type": "code",
   "execution_count": 22,
   "metadata": {},
   "outputs": [],
   "source": [
    "cd ../pipfile"
   ]
  },
  {
   "cell_type": "code",
   "execution_count": 24,
   "metadata": {},
   "outputs": [
    {
     "name": "stdout",
     "output_type": "stream",
     "text": [
      "[requires]\n",
      "python_version = \"3.10\"\n",
      "\n",
      "[packages]\n",
      "altair = \"*\"\n",
      "flask = \"*\"\n",
      "vega-datasets = \"*\"\n"
     ]
    }
   ],
   "source": [
    "cat Pipfile"
   ]
  },
  {
   "cell_type": "markdown",
   "metadata": {},
   "source": [
    "Leave our earlier env"
   ]
  },
  {
   "cell_type": "code",
   "execution_count": 25,
   "metadata": {},
   "outputs": [
    {
     "name": "stdout",
     "output_type": "stream",
     "text": [
      "Requirement already satisfied: pipenv in /Users/minrk/conda/lib/python3.10/site-packages (2022.9.2)\n",
      "Requirement already satisfied: certifi in /Users/minrk/conda/lib/python3.10/site-packages (from pipenv) (2022.6.15.1)\n",
      "Requirement already satisfied: setuptools>=36.2.1 in /Users/minrk/conda/lib/python3.10/site-packages (from pipenv) (63.2.0)\n",
      "Requirement already satisfied: virtualenv-clone>=0.2.5 in /Users/minrk/conda/lib/python3.10/site-packages (from pipenv) (0.5.7)\n",
      "Requirement already satisfied: virtualenv in /Users/minrk/conda/lib/python3.10/site-packages (from pipenv) (20.16.4)\n",
      "Requirement already satisfied: platformdirs<3,>=2.4 in /Users/minrk/conda/lib/python3.10/site-packages (from virtualenv->pipenv) (2.5.2)\n",
      "Requirement already satisfied: filelock<4,>=3.4.1 in /Users/minrk/conda/lib/python3.10/site-packages (from virtualenv->pipenv) (3.7.1)\n",
      "Requirement already satisfied: distlib<1,>=0.3.5 in /Users/minrk/conda/lib/python3.10/site-packages (from virtualenv->pipenv) (0.3.5)\n"
     ]
    }
   ],
   "source": [
    "deactivate\n",
    "pip install pipenv"
   ]
  },
  {
   "cell_type": "code",
   "execution_count": 26,
   "metadata": {},
   "outputs": [
    {
     "name": "stdout",
     "output_type": "stream",
     "text": [
      "\u001b[1mCreating a virtualenv for this project...\u001b[0m\n",
      "Pipfile: \u001b[33m\u001b[1m/Users/minrk/dev/simula/in3110/site/lectures/12-production/pipfile/Pipfile\u001b[0m\n",
      "\u001b[1mUsing\u001b[0m \u001b[33m\u001b[1m/opt/homebrew/bin/python3\u001b[0m \u001b[32m(3.10.8)\u001b[0m \u001b[1mto create virtualenv...\u001b[0m\n",
      "⠇\u001b[0m Creating virtual environment...\u001b[K\u001b[36mcreated virtual environment CPython3.10.8.final.0-64 in 391ms\n",
      "  creator CPython3Posix(dest=/Users/minrk/env/pipfile-K1fiq9Jh, clear=False, no_vcs_ignore=False, global=False)\n",
      "  seeder FromAppData(download=False, pip=bundle, setuptools=bundle, wheel=bundle, via=copy, app_data_dir=/Users/minrk/Library/Application Support/virtualenv)\n",
      "    added seed packages: pip==22.3.1, setuptools==65.5.1, wheel==0.37.1\n",
      "  activators BashActivator,CShellActivator,FishActivator,NushellActivator,PowerShellActivator,PythonActivator\n",
      "\u001b[0m\n",
      "\u001b[K\u001b[?25h\u001b[32m\u001b[22m✔ Successfully created virtual environment!\u001b[39m\u001b[22m\u001b[0m \n",
      "\u001b[32mVirtualenv location: /Users/minrk/env/pipfile-K1fiq9Jh\u001b[0m\n",
      "Locking\u001b[0m \u001b[33m[packages]\u001b[0m dependencies...\u001b[0m\n",
      "\u001b[KBuilding requirements...\n",
      "\u001b[KResolving dependencies...\n",
      "\u001b[K\u001b[?25h\u001b[32m\u001b[22m✔ Success!\u001b[39m\u001b[22m\u001b[0m \n",
      "Locking\u001b[0m \u001b[33m[dev-packages]\u001b[0m dependencies...\u001b[0m\n",
      "\u001b[1mUpdated Pipfile.lock (70b772)!\u001b[0m\n",
      "\u001b[0m"
     ]
    }
   ],
   "source": [
    "pipenv lock"
   ]
  },
  {
   "cell_type": "code",
   "execution_count": 27,
   "metadata": {},
   "outputs": [
    {
     "name": "stdout",
     "output_type": "stream",
     "text": [
      "\u001b[1mInstalling dependencies from Pipfile.lock (70b772)...\u001b[0m\n",
      "To activate this project's virtualenv, run \u001b[33mpipenv shell\u001b[0m.\n",
      "Alternatively, run a command inside the virtualenv with \u001b[33mpipenv run\u001b[0m.\n",
      "\u001b[0m"
     ]
    }
   ],
   "source": [
    "pipenv install"
   ]
  },
  {
   "cell_type": "code",
   "execution_count": 28,
   "metadata": {},
   "outputs": [
    {
     "name": "stdout",
     "output_type": "stream",
     "text": [
      "/Users/minrk/env/pipfile-K1fiq9Jh\n"
     ]
    }
   ],
   "source": [
    "pipenv run python -c \"import sys; print(sys.prefix)\""
   ]
  },
  {
   "cell_type": "code",
   "execution_count": 29,
   "metadata": {},
   "outputs": [
    {
     "name": "stdout",
     "output_type": "stream",
     "text": [
      "Package         Version\n",
      "--------------- -------\n",
      "altair          4.2.0\n",
      "attrs           22.1.0\n",
      "click           8.1.3\n",
      "entrypoints     0.4\n",
      "Flask           2.2.2\n",
      "itsdangerous    2.1.2\n",
      "Jinja2          3.1.2\n",
      "jsonschema      4.17.0\n",
      "MarkupSafe      2.1.1\n",
      "numpy           1.23.4\n",
      "pandas          1.5.1\n",
      "pip             22.3.1\n",
      "pyrsistent      0.19.2\n",
      "python-dateutil 2.8.2\n",
      "pytz            2022.6\n",
      "setuptools      65.5.1\n",
      "six             1.16.0\n",
      "toolz           0.12.0\n",
      "vega-datasets   0.9.0\n",
      "Werkzeug        2.2.2\n",
      "wheel           0.37.1\n"
     ]
    }
   ],
   "source": [
    "pipenv run pip list"
   ]
  },
  {
   "cell_type": "code",
   "execution_count": 30,
   "metadata": {},
   "outputs": [
    {
     "name": "stdout",
     "output_type": "stream",
     "text": [
      "{\n",
      "    \"_meta\": {\n",
      "        \"hash\": {\n",
      "            \"sha256\": \"644e57b07835e87b285d8338676a8bde3d24b8412120203e96731a83b770b772\"\n",
      "        },\n",
      "        \"pipfile-spec\": 6,\n",
      "        \"requires\": {\n",
      "            \"python_version\": \"3.10\"\n",
      "        },\n",
      "        \"sources\": [\n",
      "            {\n",
      "                \"name\": \"pypi\",\n",
      "                \"url\": \"https://pypi.org/simple\",\n",
      "                \"verify_ssl\": true\n",
      "            }\n",
      "        ]\n",
      "    },\n",
      "    \"default\": {\n",
      "        \"altair\": {\n",
      "            \"hashes\": [\n",
      "                \"sha256:0c724848ae53410c13fa28be2b3b9a9dcb7b5caa1a70f7f217bd663bb419935a\",\n",
      "                \"sha256:d87d9372e63b48cd96b2a6415f0cf9457f50162ab79dc7a31cd7e024dd840026\"\n",
      "            ],\n",
      "            \"index\": \"pypi\",\n",
      "            \"version\": \"==4.2.0\"\n",
      "        },\n",
      "        \"attrs\": {\n",
      "            \"hashes\": [\n",
      "                \"sha256:29adc2665447e5191d0e7c568fde78b21f9672d344281d0c6e1ab085429b22b6\",\n",
      "                \"sha256:86efa402f67bf2df34f51a335487cf46b1ec130d02b8d39fd248abfd30da551c\"\n"
     ]
    }
   ],
   "source": [
    "head -n 30 Pipfile.lock"
   ]
  }
 ],
 "metadata": {
  "kernelspec": {
   "display_name": "Bash",
   "language": "bash",
   "name": "bash"
  },
  "language_info": {
   "codemirror_mode": "shell",
   "file_extension": ".sh",
   "mimetype": "text/x-sh",
   "name": "bash"
  },
  "widgets": {
   "application/vnd.jupyter.widget-state+json": {
    "state": {},
    "version_major": 2,
    "version_minor": 0
   }
  }
 },
 "nbformat": 4,
 "nbformat_minor": 4
}
