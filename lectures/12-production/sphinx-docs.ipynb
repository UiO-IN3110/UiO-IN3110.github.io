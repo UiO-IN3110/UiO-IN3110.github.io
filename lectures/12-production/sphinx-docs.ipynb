{
 "cells": [
  {
   "cell_type": "markdown",
   "metadata": {},
   "source": [
    "# Sphinx API documentation\n",
    "\n",
    "[Sphinx](https://www.sphinx-doc.org) is a powerful documentation tool, based on [reStructuredText](https://www.sphinx-doc.org/en/3.x/usage/restructuredtext/basics.html).\n",
    "\n",
    "If you are more comfortable with markdown, you can use [MyST](https://myst-parser.readthedocs.io)"
   ]
  },
  {
   "cell_type": "code",
   "execution_count": 16,
   "metadata": {},
   "outputs": [
    {
     "name": "stdout",
     "output_type": "stream",
     "text": [
      "\u001b[34mdocs\u001b[m\u001b[m/               \u001b[34mpip-tools\u001b[m\u001b[m/          requirements.txt\n",
      "\u001b[34menv-1\u001b[m\u001b[m/              \u001b[34mpipfile\u001b[m\u001b[m/            \u001b[34msphinx-docs\u001b[m\u001b[m/\n",
      "environments.ipynb  \u001b[31mproduction.key\u001b[m\u001b[m*     sphinx-docs.ipynb\n"
     ]
    }
   ],
   "source": [
    "ls"
   ]
  },
  {
   "cell_type": "code",
   "execution_count": 17,
   "metadata": {},
   "outputs": [
    {
     "name": "stdout",
     "output_type": "stream",
     "text": [
      "/Users/minrk/dev/simula/in3110/lectures/12-production/sphinx-docs\n"
     ]
    }
   ],
   "source": [
    "cd sphinx-docs"
   ]
  },
  {
   "cell_type": "code",
   "execution_count": 18,
   "metadata": {},
   "outputs": [
    {
     "name": "stdout",
     "output_type": "stream",
     "text": [
      "\u001b[34m__pycache__\u001b[m\u001b[m/ \u001b[34mdocs\u001b[m\u001b[m/        myarray.py\n"
     ]
    }
   ],
   "source": [
    "ls"
   ]
  },
  {
   "cell_type": "markdown",
   "metadata": {},
   "source": [
    "We can initialize our docs with the command:\n",
    "\n",
    "    sphinx-quickstart\n",
    "    \n",
    "which will prompt with a few questions to set up the docs directory.\n",
    "\n",
    "There are two key files created (and several more):\n",
    "\n",
    "1. `conf.py` - the sphinx configuration file\n",
    "2. `index.rst` the first page of our documentation. This is the landing page for our docs\n",
    "\n",
    "Let's start by checking out the docs:\n",
    "\n",
    "    make html\n",
    "\n",
    "in the docs directory, then open `_build/index.html`\n"
   ]
  },
  {
   "cell_type": "markdown",
   "metadata": {},
   "source": [
    "The first thing we are going to do is add the [autodoc](https://www.sphinx-doc.org/en/3.x/usage/extensions/autodoc.html) extension.\n",
    "`autodoc` is an extension that defines **directives** (commands) for automatically documenting your code.\n",
    "\n",
    "```python\n",
    "extensions = [\n",
    "    \"sphinx.ext.autodoc\",\n",
    "]\n",
    "```\n",
    "\n",
    "Our module `myarray` defines an `Array` class and an `asarray` function. We want to docment these.\n",
    "Since we went through the trouble of adding docstrings, it would be nice to import those into our docs! That's what autodoc is for.\n",
    "\n",
    "Inspecting our module and class, we can see their docstrings:"
   ]
  },
  {
   "cell_type": "code",
   "execution_count": 11,
   "metadata": {},
   "outputs": [
    {
     "data": {
      "text/plain": [
       "\u001b[0;31mType:\u001b[0m        module\n",
       "\u001b[0;31mString form:\u001b[0m <module 'myarray' from '/Users/minrk/dev/simula/in3110/lectures/12-production/myvector/myarray.py'>\n",
       "\u001b[0;31mFile:\u001b[0m        ~/dev/simula/in3110/lectures/12-production/myvector/myarray.py\n",
       "\u001b[0;31mDocstring:\u001b[0m  \n",
       "Defines an Array class.\n",
       "\n",
       "Class template for Arrays, IN 3110 assignment 3\n"
      ]
     },
     "metadata": {},
     "output_type": "display_data"
    }
   ],
   "source": [
    "import myarray\n",
    "myarray?"
   ]
  },
  {
   "cell_type": "code",
   "execution_count": 7,
   "metadata": {},
   "outputs": [
    {
     "data": {
      "text/plain": [
       "\u001b[0;31mSignature:\u001b[0m \u001b[0mmyarray\u001b[0m\u001b[0;34m.\u001b[0m\u001b[0mArray\u001b[0m\u001b[0;34m.\u001b[0m\u001b[0mmean\u001b[0m\u001b[0;34m(\u001b[0m\u001b[0mself\u001b[0m\u001b[0;34m)\u001b[0m\u001b[0;34m\u001b[0m\u001b[0;34m\u001b[0m\u001b[0m\n",
       "\u001b[0;31mDocstring:\u001b[0m\n",
       "Computes the mean of the array\n",
       "\n",
       "Only needs to work for numeric data types.\n",
       "\n",
       "Returns:\n",
       "    float: The mean of the array values.\n",
       "\u001b[0;31mFile:\u001b[0m      ~/dev/simula/in3110/lectures/12-production/myvector/myarray.py\n",
       "\u001b[0;31mType:\u001b[0m      function\n"
      ]
     },
     "metadata": {},
     "output_type": "display_data"
    }
   ],
   "source": [
    "myarray.Array.mean?"
   ]
  },
  {
   "cell_type": "markdown",
   "metadata": {},
   "source": [
    "Let's get started by creating a new file int he docs directory, with`docs/api.rst`:\n",
    "\n",
    "```rst\n",
    "My Array API\n",
    "============\n",
    "\n",
    ".. automodule:: myarray\n",
    "\n",
    "```\n",
    "\n",
    "\n",
    "and we can try to build the docs again with `make html`.\n",
    "\n",
    "We will see two warnings:\n",
    "\n",
    "> ```\n",
    "> WARNING: autodoc: failed to import module 'myarray'; the following exception was raised:\n",
    "> No module named 'myarray'\n",
    "> ```\n",
    "\n",
    "and\n",
    "\n",
    "> ```\n",
    "> docs/api.rst: WARNING: document isn't included in any toctree\n",
    "> ```"
   ]
  },
  {
   "cell_type": "markdown",
   "metadata": {},
   "source": [
    "The toctree (**t**able **o**f **c**ontents tree) warning is because our new `api.rst` document is not included in any `.. toc::` directives.\n",
    "Sphinx wants to make sure that you can navigate through all the documentation\n",
    "via table of contents, so it encourages you to include all your documents in\n",
    "\n",
    "\n",
    "We can add our new document to the top-level table of contents in `index.rst`:\n",
    "\n",
    "```rst\n",
    ".. toctree::\n",
    "   :maxdepth: 2\n",
    "   :caption: Contents:\n",
    "\n",
    "   api.rst\n",
    "```"
   ]
  },
  {
   "cell_type": "markdown",
   "metadata": {},
   "source": [
    "The `autodoc` warning is because our `myarray.py` is not importable, because sphinx is not run from our module directory.\n",
    "\n",
    "The default `conf.py` has a snippet of code that we can edit to make our module importable:\n",
    "\n",
    "```python\n",
    "import os\n",
    "import sys\n",
    "sys.path.insert(0, os.path.abspath(os.pardir))\n",
    "```\n",
    "\n",
    "This adds the parent directory (`pardir`) of the docs directory to `sys.path`.\n",
    "That's where our `myarray.py` is, so it will be importable.\n",
    "\n",
    "\n",
    "*If we have a 'proper' package (with setup.py or pyproject.toml), this is not necessary, because we can always install our package to make it importable).*\n",
    "\n",
    "No we can build again with `make html` and open `_build/html/api.html`\n",
    "\n",
    "Next, we can add our function to the documentation:"
   ]
  },
  {
   "cell_type": "markdown",
   "metadata": {},
   "source": [
    "```rst\n",
    "My Array API\n",
    "============\n",
    "\n",
    ".. automodule:: myarray\n",
    "\n",
    ".. autofunction:: asarray\n",
    "```\n",
    "\n",
    "and build again with `make html`, reloading [_build/html/api.html](sphinx-docs/docs/_build/html/api.html)"
   ]
  },
  {
   "cell_type": "markdown",
   "metadata": {},
   "source": [
    "Similarly, we can document our `Array` class:\n",
    "\n",
    "```rst\n",
    "My Array API\n",
    "============\n",
    "\n",
    ".. automodule:: myarray\n",
    "\n",
    ".. autofunction:: asarray\n",
    "\n",
    ".. autoclass:: Array\n",
    "```\n",
    "\n",
    "now all our top-level items are documented, but we probably want to see our member methods, not just the constructor."
   ]
  },
  {
   "cell_type": "markdown",
   "metadata": {},
   "source": [
    "For that, we add the `:members:` option to autoclass:\n",
    "\n",
    "\n",
    "```rst\n",
    "My Array API\n",
    "============\n",
    "\n",
    ".. automodule:: myarray\n",
    "\n",
    ".. autofunction:: asarray\n",
    "\n",
    ".. autoclass:: Array\n",
    "    :members:\n",
    "```\n",
    "\n",
    "\n"
   ]
  },
  {
   "cell_type": "markdown",
   "metadata": {},
   "source": [
    "And finally, since we are most interested in \"special\" methods (`__mul__` and friends), we may want to document the special methods as well, which are not included by default in `:members:`:\n",
    "\n",
    "```rst\n",
    "My Array API\n",
    "============\n",
    "\n",
    ".. automodule:: myarray\n",
    "\n",
    ".. autofunction:: asarray\n",
    "\n",
    ".. autoclass:: Array\n",
    "    :members:\n",
    "    :special-members:\n",
    "```"
   ]
  },
  {
   "cell_type": "markdown",
   "metadata": {},
   "source": [
    "Now we are done setting up our API docs.\n",
    "[autodoc](https://www.sphinx-doc.org/en/3.x/usage/extensions/autodoc.html) has lots of options for controlling which members are \n",
    "\n",
    "The last step we are going to do is enable another extension called [napoleon](https://www.sphinx-doc.org/en/3.x/usage/extensions/napoleon.html),\n",
    "which understands special docstring formats, which are widely used.\n",
    "These give nice highlighting and linking for parameters, return types, etc.\n",
    "\n",
    "```python\n",
    "extensions = [\n",
    "    \"sphinx.ext.autodoc\",\n",
    "    \"sphinx.ext.napoleon\",\n",
    "]\n",
    "```\n",
    "\n",
    "Now rebuild, and see how much nicer the output is!"
   ]
  }
 ],
 "metadata": {
  "kernelspec": {
   "display_name": "Python 3",
   "language": "python",
   "name": "python3"
  },
  "language_info": {
   "codemirror_mode": {
    "name": "ipython",
    "version": 3
   },
   "file_extension": ".py",
   "mimetype": "text/x-python",
   "name": "python",
   "nbconvert_exporter": "python",
   "pygments_lexer": "ipython3",
   "version": "3.8.5"
  },
  "widgets": {
   "application/vnd.jupyter.widget-state+json": {
    "state": {},
    "version_major": 2,
    "version_minor": 0
   }
  }
 },
 "nbformat": 4,
 "nbformat_minor": 4
}
