{
 "cells": [
  {
   "cell_type": "markdown",
   "metadata": {},
   "source": [
    "# From script to project\n"
   ]
  },
  {
   "cell_type": "markdown",
   "metadata": {},
   "source": [
    "## Typical steps\n",
    "\n",
    "1. Organize your script into a package and modules\n",
    "2. Add install scripts/instructions\n",
    "3. Add documentation and make it available online\n",
    "4. Add tests\n",
    "5. Deploy your application/library\n",
    "\n",
    "\n",
    "The final version of this lecture are available here: \n",
    "\n",
    "Source code:\n",
    "https://github.com/UiO-IN3110/monty_hall_game\n",
    "\n",
    "Online documentation: https://uio-monty-hall-game-pre.readthedocs.io\n",
    "\n",
    "Automatic testing:\n",
    "https://github.com/UiO-IN3110/monty_hall_game/actions\n",
    "\n",
    "Online: \n",
    "https://vast-beach-25845.herokuapp.com"
   ]
  },
  {
   "cell_type": "markdown",
   "metadata": {},
   "source": [
    "## Our test case "
   ]
  },
  {
   "cell_type": "markdown",
   "metadata": {},
   "source": [
    "We will use the `Monty Hall Game` implementation from last week as an example."
   ]
  },
  {
   "cell_type": "markdown",
   "metadata": {},
   "source": [
    "<img src=\"images/monty_hall_game.png\" style=\"width: 400px;\"/>"
   ]
  },
  {
   "cell_type": "markdown",
   "metadata": {},
   "source": [
    "This `project` currently consists of the game file itself and some html templates:"
   ]
  },
  {
   "cell_type": "markdown",
   "metadata": {},
   "source": [
    "```bash\n",
    "monty_hall_game/\n",
    "    game_server.py     # Start web server\n",
    "    templates/*.html   # Templates for web-server\n",
    "```"
   ]
  },
  {
   "cell_type": "markdown",
   "metadata": {},
   "source": [
    "**Goal**:\n",
    "Make the game available as a project with:\n",
    "* a *command line* interface \n",
    "* a *web* interface\n",
    "* online and offline documentation\n",
    "* tests \n",
    "* error handling."
   ]
  },
  {
   "cell_type": "markdown",
   "metadata": {},
   "source": [
    "# Step 1. Organize your script into modules and functions."
   ]
  },
  {
   "cell_type": "markdown",
   "metadata": {},
   "source": [
    "We would like to offer a command line interface and a web interface. To achieve this, \n",
    "we separate the game logic into a separate package (which is simply a directory with Python modules). \n",
    "\n",
    "```bash\n",
    "myproject/\n",
    "    monty_hall_game/               # Game package\n",
    "        __init__.py                    #    Init file module \n",
    "        monty_hall_game.py             #    Core game module\n",
    "```        \n",
    "\n",
    "\n",
    "\n",
    "The core game module contains the class `MontyHallGame`, which implements the core functionality of the game. Here is a the user interface for the game package:"
   ]
  },
  {
   "cell_type": "markdown",
   "metadata": {},
   "source": [
    "Let's look at the user interface of the package.\n",
    "\n",
    "Setting up the game:"
   ]
  },
  {
   "cell_type": "code",
   "execution_count": 44,
   "metadata": {},
   "outputs": [
    {
     "name": "stdout",
     "output_type": "stream",
     "text": [
      "\u001b[01;34mmonty-hall-game0\u001b[00m\n",
      "├── game_server.py\n",
      "└── \u001b[01;34mtemplates\u001b[00m\n",
      "    ├── final.html\n",
      "    ├── reselect.html\n",
      "    ├── reselect1.html\n",
      "    ├── select.html\n",
      "    └── select2.html\n",
      "\n",
      "1 directory, 6 files\n"
     ]
    }
   ],
   "source": [
    "!tree monty-hall-game0"
   ]
  },
  {
   "cell_type": "code",
   "execution_count": 46,
   "metadata": {},
   "outputs": [
    {
     "name": "stdout",
     "output_type": "stream",
     "text": [
      "\u001b[01;34mmonty-hall-game1\u001b[00m\n",
      "├── \u001b[01;34mbin\u001b[00m\n",
      "│   ├── \u001b[01;32mplay_monty_hall_cli.py\u001b[00m\n",
      "│   └── \u001b[01;32mplay_monty_hall_web.py\u001b[00m\n",
      "├── \u001b[01;34mmonty_hall_game\u001b[00m\n",
      "│   ├── __init__.py\n",
      "│   └── monty_hall_game.py\n",
      "└── \u001b[01;34mtemplates\u001b[00m\n",
      "    ├── final.html\n",
      "    ├── reselect.html\n",
      "    ├── reselect1.html\n",
      "    ├── select.html\n",
      "    └── select2.html\n",
      "\n",
      "3 directories, 9 files\n"
     ]
    }
   ],
   "source": [
    "!tree -I __pycache__ monty-hall-game1"
   ]
  },
  {
   "cell_type": "code",
   "execution_count": 4,
   "metadata": {},
   "outputs": [],
   "source": [
    "import sys\n",
    "sys.path.insert(0, os.path.join(os.getcwd(), \"monty-hall-game1\"))"
   ]
  },
  {
   "cell_type": "code",
   "execution_count": 5,
   "metadata": {},
   "outputs": [],
   "source": [
    "import monty_hall_game\n",
    "\n",
    "game = monty_hall_game.MontyHallGame()"
   ]
  },
  {
   "cell_type": "markdown",
   "metadata": {},
   "source": [
    "We can now play one round:"
   ]
  },
  {
   "cell_type": "code",
   "execution_count": 6,
   "metadata": {},
   "outputs": [],
   "source": [
    "game.select_door(door=1)"
   ]
  },
  {
   "cell_type": "code",
   "execution_count": 7,
   "metadata": {},
   "outputs": [
    {
     "data": {
      "text/plain": [
       "3"
      ]
     },
     "execution_count": 7,
     "metadata": {},
     "output_type": "execute_result"
    }
   ],
   "source": [
    "game.let_host_open_door()"
   ]
  },
  {
   "cell_type": "code",
   "execution_count": 8,
   "metadata": {},
   "outputs": [],
   "source": [
    "game.select_door(1)"
   ]
  },
  {
   "cell_type": "code",
   "execution_count": 9,
   "metadata": {},
   "outputs": [
    {
     "data": {
      "text/plain": [
       "False"
      ]
     },
     "execution_count": 9,
     "metadata": {},
     "output_type": "execute_result"
    }
   ],
   "source": [
    "game.open_door()   # True == win, False == lose"
   ]
  },
  {
   "cell_type": "markdown",
   "metadata": {},
   "source": [
    "Printing the game statistics:"
   ]
  },
  {
   "cell_type": "code",
   "execution_count": 10,
   "metadata": {},
   "outputs": [
    {
     "name": "stdout",
     "output_type": "stream",
     "text": [
      "Changed and won: 0 out of 0\n",
      "Not changed and won: 0 out of 1\n"
     ]
    }
   ],
   "source": [
    "print(game.statistics())"
   ]
  },
  {
   "cell_type": "markdown",
   "metadata": {},
   "source": [
    "With this package, we can build scripts that expose the game to the user via the command line and the web-interface.\n",
    "We implement these in the folder `bin` (for binary files. We use this name of convention reasons, even though our files are not really bindary files)."
   ]
  },
  {
   "cell_type": "markdown",
   "metadata": {},
   "source": [
    "Our new directory structure is:"
   ]
  },
  {
   "cell_type": "markdown",
   "metadata": {},
   "source": [
    "```bash\n",
    "myproject/\n",
    "    bin/                           # Scripts\n",
    "        play_monty_hall_cli.py         #    Start game with command line interface \n",
    "        play_monty_hall_web.py         #    Start game with web-server\n",
    "    monty_hall_game/               # Game package\n",
    "        __init__.py                    #    Init file module \n",
    "        monty_hall_game.py             #    Core game module\n",
    "    templates/*.html               # Templates for web-server        \n",
    "```"
   ]
  },
  {
   "cell_type": "markdown",
   "metadata": {},
   "source": [
    "Let's look at the code in more detail (see files in `monty-hall-game1` folder)"
   ]
  },
  {
   "cell_type": "markdown",
   "metadata": {},
   "source": [
    "# Step 2. Add installation files and instructions"
   ]
  },
  {
   "cell_type": "markdown",
   "metadata": {},
   "source": [
    "### Record dependencies with requirements.txt"
   ]
  },
  {
   "cell_type": "markdown",
   "metadata": {},
   "source": [
    "Our project has some dependencies to run it, such as `flask`,\n",
    "and other dependencies to \"develop\" it such as pytest and (later) sphinx:"
   ]
  },
  {
   "cell_type": "code",
   "execution_count": 11,
   "metadata": {},
   "outputs": [
    {
     "name": "stdout",
     "output_type": "stream",
     "text": [
      "flask\n"
     ]
    }
   ],
   "source": [
    "!cat monty-hall-game4/requirements.txt"
   ]
  },
  {
   "cell_type": "code",
   "execution_count": 12,
   "metadata": {},
   "outputs": [
    {
     "name": "stdout",
     "output_type": "stream",
     "text": [
      "sphinx\n",
      "pytest\n"
     ]
    }
   ],
   "source": [
    "!cat monty-hall-game4/dev-requirements.txt"
   ]
  },
  {
   "cell_type": "markdown",
   "metadata": {},
   "source": [
    "The dependencies can be automatically installed with"
   ]
  },
  {
   "cell_type": "code",
   "execution_count": 13,
   "metadata": {},
   "outputs": [
    {
     "name": "stdout",
     "output_type": "stream",
     "text": [
      "Requirement already satisfied: flask in /Users/minrk/conda/lib/python3.8/site-packages (from -r monty-hall-game4/requirements.txt (line 1)) (1.1.2)\n",
      "Requirement already satisfied: sphinx in /Users/minrk/conda/lib/python3.8/site-packages (from -r monty-hall-game4/dev-requirements.txt (line 1)) (3.2.1)\n",
      "Requirement already satisfied: pytest in /Users/minrk/conda/lib/python3.8/site-packages (from -r monty-hall-game4/dev-requirements.txt (line 2)) (6.1.1)\n",
      "Requirement already satisfied: click>=5.1 in /Users/minrk/conda/lib/python3.8/site-packages (from flask->-r monty-hall-game4/requirements.txt (line 1)) (7.1.2)\n",
      "Requirement already satisfied: Jinja2>=2.10.1 in /Users/minrk/conda/lib/python3.8/site-packages (from flask->-r monty-hall-game4/requirements.txt (line 1)) (2.11.2)\n",
      "Requirement already satisfied: itsdangerous>=0.24 in /Users/minrk/conda/lib/python3.8/site-packages (from flask->-r monty-hall-game4/requirements.txt (line 1)) (1.1.0)\n",
      "Requirement already satisfied: Werkzeug>=0.15 in /Users/minrk/conda/lib/python3.8/site-packages (from flask->-r monty-hall-game4/requirements.txt (line 1)) (1.0.1)\n",
      "Requirement already satisfied: docutils>=0.12 in /Users/minrk/conda/lib/python3.8/site-packages (from sphinx->-r monty-hall-game4/dev-requirements.txt (line 1)) (0.16)\n",
      "Requirement already satisfied: alabaster<0.8,>=0.7 in /Users/minrk/conda/lib/python3.8/site-packages (from sphinx->-r monty-hall-game4/dev-requirements.txt (line 1)) (0.7.12)\n",
      "Requirement already satisfied: snowballstemmer>=1.1 in /Users/minrk/conda/lib/python3.8/site-packages (from sphinx->-r monty-hall-game4/dev-requirements.txt (line 1)) (2.0.0)\n",
      "Requirement already satisfied: requests>=2.5.0 in /Users/minrk/conda/lib/python3.8/site-packages (from sphinx->-r monty-hall-game4/dev-requirements.txt (line 1)) (2.24.0)\n",
      "Requirement already satisfied: sphinxcontrib-qthelp in /Users/minrk/conda/lib/python3.8/site-packages (from sphinx->-r monty-hall-game4/dev-requirements.txt (line 1)) (1.0.3)\n",
      "Requirement already satisfied: imagesize in /Users/minrk/conda/lib/python3.8/site-packages (from sphinx->-r monty-hall-game4/dev-requirements.txt (line 1)) (1.2.0)\n",
      "Requirement already satisfied: sphinxcontrib-serializinghtml in /Users/minrk/conda/lib/python3.8/site-packages (from sphinx->-r monty-hall-game4/dev-requirements.txt (line 1)) (1.1.4)\n",
      "Requirement already satisfied: sphinxcontrib-htmlhelp in /Users/minrk/conda/lib/python3.8/site-packages (from sphinx->-r monty-hall-game4/dev-requirements.txt (line 1)) (1.0.3)\n",
      "Requirement already satisfied: sphinxcontrib-jsmath in /Users/minrk/conda/lib/python3.8/site-packages (from sphinx->-r monty-hall-game4/dev-requirements.txt (line 1)) (1.0.1)\n",
      "Requirement already satisfied: sphinxcontrib-applehelp in /Users/minrk/conda/lib/python3.8/site-packages (from sphinx->-r monty-hall-game4/dev-requirements.txt (line 1)) (1.0.2)\n",
      "Requirement already satisfied: sphinxcontrib-devhelp in /Users/minrk/conda/lib/python3.8/site-packages (from sphinx->-r monty-hall-game4/dev-requirements.txt (line 1)) (1.0.2)\n",
      "Requirement already satisfied: Pygments>=2.0 in /Users/minrk/conda/lib/python3.8/site-packages (from sphinx->-r monty-hall-game4/dev-requirements.txt (line 1)) (2.7.1)\n",
      "Requirement already satisfied: babel>=1.3 in /Users/minrk/conda/lib/python3.8/site-packages (from sphinx->-r monty-hall-game4/dev-requirements.txt (line 1)) (2.8.0)\n",
      "Requirement already satisfied: packaging in /Users/minrk/conda/lib/python3.8/site-packages (from sphinx->-r monty-hall-game4/dev-requirements.txt (line 1)) (20.4)\n",
      "Requirement already satisfied: setuptools in /Users/minrk/conda/lib/python3.8/site-packages (from sphinx->-r monty-hall-game4/dev-requirements.txt (line 1)) (49.6.0.post20200917)\n",
      "Requirement already satisfied: attrs>=17.4.0 in /Users/minrk/conda/lib/python3.8/site-packages (from pytest->-r monty-hall-game4/dev-requirements.txt (line 2)) (20.2.0)\n",
      "Requirement already satisfied: iniconfig in /Users/minrk/conda/lib/python3.8/site-packages (from pytest->-r monty-hall-game4/dev-requirements.txt (line 2)) (1.0.1)\n",
      "Requirement already satisfied: pluggy<1.0,>=0.12 in /Users/minrk/conda/lib/python3.8/site-packages (from pytest->-r monty-hall-game4/dev-requirements.txt (line 2)) (0.13.1)\n",
      "Requirement already satisfied: py>=1.8.2 in /Users/minrk/conda/lib/python3.8/site-packages (from pytest->-r monty-hall-game4/dev-requirements.txt (line 2)) (1.9.0)\n",
      "Requirement already satisfied: toml in /Users/minrk/conda/lib/python3.8/site-packages (from pytest->-r monty-hall-game4/dev-requirements.txt (line 2)) (0.10.1)\n",
      "Requirement already satisfied: MarkupSafe>=0.23 in /Users/minrk/conda/lib/python3.8/site-packages (from Jinja2>=2.10.1->flask->-r monty-hall-game4/requirements.txt (line 1)) (1.1.1)\n",
      "Requirement already satisfied: chardet<4,>=3.0.2 in /Users/minrk/conda/lib/python3.8/site-packages (from requests>=2.5.0->sphinx->-r monty-hall-game4/dev-requirements.txt (line 1)) (3.0.4)\n",
      "Requirement already satisfied: idna<3,>=2.5 in /Users/minrk/conda/lib/python3.8/site-packages (from requests>=2.5.0->sphinx->-r monty-hall-game4/dev-requirements.txt (line 1)) (2.10)\n",
      "Requirement already satisfied: urllib3!=1.25.0,!=1.25.1,<1.26,>=1.21.1 in /Users/minrk/conda/lib/python3.8/site-packages (from requests>=2.5.0->sphinx->-r monty-hall-game4/dev-requirements.txt (line 1)) (1.25.10)\n",
      "Requirement already satisfied: certifi>=2017.4.17 in /Users/minrk/conda/lib/python3.8/site-packages (from requests>=2.5.0->sphinx->-r monty-hall-game4/dev-requirements.txt (line 1)) (2020.11.8)\n",
      "Requirement already satisfied: pytz>=2015.7 in /Users/minrk/conda/lib/python3.8/site-packages (from babel>=1.3->sphinx->-r monty-hall-game4/dev-requirements.txt (line 1)) (2020.1)\n",
      "Requirement already satisfied: six in /Users/minrk/conda/lib/python3.8/site-packages (from packaging->sphinx->-r monty-hall-game4/dev-requirements.txt (line 1)) (1.15.0)\n",
      "Requirement already satisfied: pyparsing>=2.0.2 in /Users/minrk/conda/lib/python3.8/site-packages (from packaging->sphinx->-r monty-hall-game4/dev-requirements.txt (line 1)) (2.4.7)\n",
      "Note: you may need to restart the kernel to use updated packages.\n"
     ]
    }
   ],
   "source": [
    "%pip install -r monty-hall-game4/requirements.txt -r monty-hall-game4/dev-requirements.txt"
   ]
  },
  {
   "cell_type": "markdown",
   "metadata": {},
   "source": [
    "### Setuptools\n",
    "Further, we can create a setup file to simplify the installation of our game. \n",
    "First thing we need is a `setup.py` file:"
   ]
  },
  {
   "cell_type": "code",
   "execution_count": 3,
   "metadata": {},
   "outputs": [
    {
     "data": {
      "text/plain": [
       "\u001b[0;32mfrom\u001b[0m \u001b[0msetuptools\u001b[0m \u001b[0;32mimport\u001b[0m \u001b[0msetup\u001b[0m\u001b[0;34m\u001b[0m\n",
       "\u001b[0;34m\u001b[0m\u001b[0;34m\u001b[0m\n",
       "\u001b[0;34m\u001b[0m\u001b[0;32mwith\u001b[0m \u001b[0mopen\u001b[0m\u001b[0;34m(\u001b[0m\u001b[0;34m\"requirements.txt\"\u001b[0m\u001b[0;34m)\u001b[0m \u001b[0;32mas\u001b[0m \u001b[0mf\u001b[0m\u001b[0;34m:\u001b[0m\u001b[0;34m\u001b[0m\n",
       "\u001b[0;34m\u001b[0m    \u001b[0minstall_requires\u001b[0m \u001b[0;34m=\u001b[0m \u001b[0mf\u001b[0m\u001b[0;34m.\u001b[0m\u001b[0mreadlines\u001b[0m\u001b[0;34m(\u001b[0m\u001b[0;34m)\u001b[0m\u001b[0;34m\u001b[0m\n",
       "\u001b[0;34m\u001b[0m\u001b[0;34m\u001b[0m\n",
       "\u001b[0;34m\u001b[0m\u001b[0msetup\u001b[0m\u001b[0;34m(\u001b[0m\u001b[0;34m\u001b[0m\n",
       "\u001b[0;34m\u001b[0m    \u001b[0mname\u001b[0m\u001b[0;34m=\u001b[0m\u001b[0;34m\"uio-monty-hall-game\"\u001b[0m\u001b[0;34m,\u001b[0m\u001b[0;34m\u001b[0m\n",
       "\u001b[0;34m\u001b[0m    \u001b[0mversion\u001b[0m\u001b[0;34m=\u001b[0m\u001b[0;34m\"2020.11.0\"\u001b[0m\u001b[0;34m,\u001b[0m\u001b[0;34m\u001b[0m\n",
       "\u001b[0;34m\u001b[0m    \u001b[0mauthor\u001b[0m\u001b[0;34m=\u001b[0m\u001b[0;34m\"Simon Funke\"\u001b[0m\u001b[0;34m,\u001b[0m\u001b[0;34m\u001b[0m\n",
       "\u001b[0;34m\u001b[0m    \u001b[0mauthor_email\u001b[0m\u001b[0;34m=\u001b[0m\u001b[0;34m\"simon@simula.no\"\u001b[0m\u001b[0;34m,\u001b[0m\u001b[0;34m\u001b[0m\n",
       "\u001b[0;34m\u001b[0m    \u001b[0mdescription\u001b[0m\u001b[0;34m=\u001b[0m\u001b[0;34m(\u001b[0m\u001b[0;34m\"A game implementation of the Monty Hall problem.\"\u001b[0m\u001b[0;34m)\u001b[0m\u001b[0;34m,\u001b[0m\u001b[0;34m\u001b[0m\n",
       "\u001b[0;34m\u001b[0m    \u001b[0mlicense\u001b[0m\u001b[0;34m=\u001b[0m\u001b[0;34m\"BSD\"\u001b[0m\u001b[0;34m,\u001b[0m\u001b[0;34m\u001b[0m\n",
       "\u001b[0;34m\u001b[0m    \u001b[0mpackages\u001b[0m\u001b[0;34m=\u001b[0m\u001b[0;34m[\u001b[0m\u001b[0;34m\"monty_hall_game\"\u001b[0m\u001b[0;34m]\u001b[0m\u001b[0;34m,\u001b[0m\u001b[0;34m\u001b[0m\n",
       "\u001b[0;34m\u001b[0m    \u001b[0mpackage_data\u001b[0m\u001b[0;34m=\u001b[0m\u001b[0;34m{\u001b[0m\u001b[0;34m\"monty_hall_game\"\u001b[0m\u001b[0;34m:\u001b[0m \u001b[0;34m[\u001b[0m\u001b[0;34m\"templates/**\"\u001b[0m\u001b[0;34m]\u001b[0m\u001b[0;34m}\u001b[0m\u001b[0;34m,\u001b[0m\u001b[0;34m\u001b[0m\n",
       "\u001b[0;34m\u001b[0m    \u001b[0minstall_requires\u001b[0m\u001b[0;34m=\u001b[0m\u001b[0minstall_requires\u001b[0m\u001b[0;34m,\u001b[0m\u001b[0;34m\u001b[0m\n",
       "\u001b[0;34m\u001b[0m    \u001b[0mscripts\u001b[0m\u001b[0;34m=\u001b[0m\u001b[0;34m[\u001b[0m\u001b[0;34m\"bin/play_monty_hall_cli.py\"\u001b[0m\u001b[0;34m,\u001b[0m \u001b[0;34m\"bin/play_monty_hall_web.py\"\u001b[0m\u001b[0;34m]\u001b[0m\u001b[0;34m,\u001b[0m\u001b[0;34m\u001b[0m\n",
       "\u001b[0;34m\u001b[0m    \u001b[0mzip_safe\u001b[0m\u001b[0;34m=\u001b[0m\u001b[0;32mFalse\u001b[0m\u001b[0;34m,\u001b[0m\u001b[0;34m\u001b[0m\n",
       "\u001b[0;34m\u001b[0m\u001b[0;34m)\u001b[0m\u001b[0;34m\u001b[0m\u001b[0;34m\u001b[0m\u001b[0m\n"
      ]
     },
     "metadata": {},
     "output_type": "display_data"
    }
   ],
   "source": [
    "%pycat monty-hall-game4/setup.py "
   ]
  },
  {
   "cell_type": "markdown",
   "metadata": {},
   "source": [
    "We can now install the `monty_hall_game` package with\n",
    "\n",
    "```bash\n",
    "pip install . \n",
    "```"
   ]
  },
  {
   "cell_type": "markdown",
   "metadata": {},
   "source": [
    "Using the Python package manager `pip` has the advantage that we can uninstall the package again:\n",
    "```bash\n",
    "pip uninstall uio-monty-hall-game\n",
    "```"
   ]
  },
  {
   "cell_type": "markdown",
   "metadata": {},
   "source": [
    "### Installation instructions"
   ]
  },
  {
   "cell_type": "markdown",
   "metadata": {},
   "source": [
    "Finally it is good practice to add a installation instructions to the README.md file:"
   ]
  },
  {
   "cell_type": "code",
   "execution_count": 14,
   "metadata": {},
   "outputs": [
    {
     "name": "stdout",
     "output_type": "stream",
     "text": [
      "# Monty Hall Game\n",
      "\n",
      "This repository contains a simple implemenation of the Monty Hall Game with\n",
      "a command line and web interface.\n",
      "\n",
      "\n",
      "## Installation\n",
      "\n",
      "Install dependencies with\n",
      "\n",
      "    pip install -r requirements.txt\n",
      "\n",
      "Install the game with\n",
      "\n",
      "    pip install .\n",
      "\n",
      "## Running the game\n",
      "\n",
      "The command line interface is started with:\n",
      "\n",
      "    play_monty_hall_cli.py\n",
      "\n",
      "The web server is started with:\n",
      "\n",
      "    play_monty_hall_web.py\n"
     ]
    }
   ],
   "source": [
    "!cat monty-hall-game4/README.md"
   ]
  },
  {
   "cell_type": "code",
   "execution_count": 15,
   "metadata": {},
   "outputs": [
    {
     "data": {
      "text/markdown": [
       "# Monty Hall Game\n",
       "\n",
       "This repository contains a simple implemenation of the Monty Hall Game with\n",
       "a command line and web interface.\n",
       "\n",
       "\n",
       "## Installation\n",
       "\n",
       "Install dependencies with\n",
       "\n",
       "    pip install -r requirements.txt\n",
       "\n",
       "Install the game with\n",
       "\n",
       "    pip install .\n",
       "\n",
       "## Running the game\n",
       "\n",
       "The command line interface is started with:\n",
       "\n",
       "    play_monty_hall_cli.py\n",
       "\n",
       "The web server is started with:\n",
       "\n",
       "    play_monty_hall_web.py\n"
      ],
      "text/plain": [
       "<IPython.core.display.Markdown object>"
      ]
     },
     "metadata": {},
     "output_type": "display_data"
    }
   ],
   "source": [
    "from IPython.display import display, Markdown\n",
    "\n",
    "with open(\"monty-hall-game4/README.md\") as f:\n",
    "    display(Markdown(f.read()))\n"
   ]
  },
  {
   "cell_type": "markdown",
   "metadata": {},
   "source": [
    "### New files\n",
    "    \n",
    "```bash\n",
    "monty_hall_game/\n",
    "    README.md                   # Installation instructions\n",
    "    requirements.txt            # List of project dependencies\n",
    "    dev-requirements.txt        # List of development dependencies\n",
    "    setup.py                    # SetupTools file\n",
    "```"
   ]
  },
  {
   "cell_type": "markdown",
   "metadata": {},
   "source": [
    "## Step 3. Add documentation"
   ]
  },
  {
   "cell_type": "markdown",
   "metadata": {},
   "source": [
    "We should add docstrings to the module `monty_hall_game.py` file.\n",
    "\n",
    "Note, that I write the documentation in a Sphinx Markup Style (see https://www.sphinx-doc.org/en/master/usage/extensions/napoleon.html) to obtain nicely rendered online documentation.\n",
    "\n",
    "Let's look at the code in more detail (see files in `monty-hall-game2` folder)\n",
    "\n",
    "Once done, we can access the docstrings as usual:"
   ]
  },
  {
   "cell_type": "code",
   "execution_count": 20,
   "metadata": {},
   "outputs": [],
   "source": [
    "# update import path and re-import monty_hall_game\n",
    "sys.path.insert(0, os.path.join(os.getcwd(), \"monty-hall-game2\"))\n",
    "from importlib import reload\n",
    "reload(monty_hall_game)\n",
    "reload(monty_hall_game.monty_hall_game)\n",
    "reload(monty_hall_game)\n",
    "\n",
    "from monty_hall_game.monty_hall_game import MontyHallGame\n"
   ]
  },
  {
   "cell_type": "code",
   "execution_count": 21,
   "metadata": {},
   "outputs": [
    {
     "data": {
      "text/plain": [
       "\u001b[0;31mSignature:\u001b[0m \u001b[0mMontyHallGame\u001b[0m\u001b[0;34m.\u001b[0m\u001b[0mlet_host_open_door\u001b[0m\u001b[0;34m(\u001b[0m\u001b[0mself\u001b[0m\u001b[0;34m)\u001b[0m\u001b[0;34m\u001b[0m\u001b[0;34m\u001b[0m\u001b[0m\n",
       "\u001b[0;31mDocstring:\u001b[0m\n",
       "When this function is called, the host will open a door that contains no price.\n",
       "\n",
       ":returns: The newly opened door number as an `int`.\n",
       "\u001b[0;31mFile:\u001b[0m      ~/dev/simula/in3110/lectures/11-production/from-script-to-project/monty-hall-game2/monty_hall_game/monty_hall_game.py\n",
       "\u001b[0;31mType:\u001b[0m      function\n"
      ]
     },
     "metadata": {},
     "output_type": "display_data"
    }
   ],
   "source": [
    "MontyHallGame.let_host_open_door?"
   ]
  },
  {
   "cell_type": "markdown",
   "metadata": {},
   "source": [
    "## Python documentation with Sphinx\n",
    "\n",
    "Sphinx is a powerful tool to create documentation for Python projects and provides more flexibiliy.\n",
    "\n",
    "#### Installation\n",
    "\n",
    "```bash\n",
    "pip install sphinx\n",
    "```\n",
    "\n",
    "#### How to get started\n",
    "\n",
    "1. Use the quick start command to configure a base Sphinx documentation\n",
    "\n",
    "   ```bash\n",
    "   sphinx-quickstart\n",
    "   ```\n",
    "\n",
    "   Among other things, the quickstart guide will ask for the documentation folder. I typically choose `docs` for this.\n",
    "\n",
    "2. Use \n",
    "   ```bash\n",
    "   mkdir -p docs/api\n",
    "   sphinx-apidoc -o docs/api monty_hall_game\n",
    "   ```\n",
    "   to add documentation for each module. \n",
    "3. Edit `docs/index.rst` to change the content of your main page. \n",
    "4. Compile the documentation with:\n",
    "   ```bash\n",
    "   cd docs\n",
    "   make html\n",
    "   ```\n",
    "   (make sure that the module is in sys.path or installed).\n",
    "5. The documentation is available on `docs/_build/html/index.html`."
   ]
  },
  {
   "cell_type": "markdown",
   "metadata": {},
   "source": [
    "#### New files (autogenerated with `sphinx-quickstart` and `sphinx-apidoc`)\n",
    "    \n",
    "```bash\n",
    "    docs/\n",
    "        conf.py              # Sphinx configuration file\n",
    "        index.rst            # Index page (in markdown format)\n",
    "        make.bat             # Windows build file\n",
    "        Makefile             # Linux/MacOS build file\n",
    "    docs/api\n",
    "        modules.rst          # Module page\n",
    "        monty_hall_game.rst  # Module page\n",
    "``` \n",
    "\n",
    "**Tip**: I use https://readthedocs.org/ to host my documentation. It also automatically generates your documentation when you push to your github repo. "
   ]
  },
  {
   "cell_type": "code",
   "execution_count": 23,
   "metadata": {},
   "outputs": [
    {
     "name": "stdout",
     "output_type": "stream",
     "text": [
      "# .readthedocs.yml\n",
      "# Read the Docs configuration file\n",
      "# See https://docs.readthedocs.io/en/stable/config-file/v2.html for details\n",
      "\n",
      "# Required\n",
      "version: 2\n",
      "\n",
      "# Build documentation in the docs/ directory with Sphinx\n",
      "sphinx:\n",
      "  configuration: docs/conf.py\n",
      "\n",
      "# Optionally set the version of Python and requirements required to build your docs\n",
      "python:\n",
      "  version: 3.8\n",
      "  install:\n",
      "    - requirements: requirements.txt\n",
      "    - method: pip\n",
      "      path: .\n"
     ]
    }
   ],
   "source": [
    "cat monty-hall-game4/readthedocs.yml"
   ]
  },
  {
   "cell_type": "markdown",
   "metadata": {},
   "source": [
    "## Step 4. Add tests\n",
    "\n",
    "We will use `pytest` as testing framework.\n",
    "New files:\n",
    "    \n",
    "```bash\n",
    "monty_hall_game/\n",
    "    tests\n",
    "        test_module.py\n",
    "```\n",
    "\n",
    "We can run the test suite with"
   ]
  },
  {
   "cell_type": "markdown",
   "metadata": {},
   "source": [
    "Let's look at the code in more detail (see files in `monty-hall-game4` folder)"
   ]
  },
  {
   "cell_type": "code",
   "execution_count": 25,
   "metadata": {},
   "outputs": [
    {
     "name": "stdout",
     "output_type": "stream",
     "text": [
      "\u001b[1m============================= test session starts ==============================\u001b[0m\n",
      "platform darwin -- Python 3.8.5, pytest-6.1.1, py-1.9.0, pluggy-0.13.1\n",
      "rootdir: /Users/minrk, configfile: pytest.ini\n",
      "plugins: regressions-2.0.2, datadir-1.3.1, requests-mock-1.8.0, rerunfailures-9.1.1, tornasync-0.6.0.post2, check-links-4.3.3, cov-2.10.1, asyncio-0.14.0, jupyter-server-1.0.4\n",
      "collected 3 items                                                              \u001b[0m\n",
      "\n",
      "tests/test_game_module.py \u001b[32m.\u001b[0m\u001b[32m.\u001b[0m\u001b[32m.\u001b[0m\u001b[32m                                            [100%]\u001b[0m\n",
      "\n",
      "\u001b[32m============================== \u001b[32m\u001b[1m3 passed\u001b[0m\u001b[32m in 0.03s\u001b[0m\u001b[32m ===============================\u001b[0m\n"
     ]
    }
   ],
   "source": [
    "!cd monty-hall-game4 && python -m pytest tests"
   ]
  },
  {
   "cell_type": "markdown",
   "metadata": {},
   "source": [
    "## Continuous integration with GitHub Actions\n",
    "\n",
    "[GitHub Actions docs](https://docs.github.com/actions)\n",
    "\n",
    "**Quick guide to GitHub actions**\n",
    "\n",
    "\n",
    "create `.github/workflows/test.yml` (any `name.yml` will do, you can have several) with steps:\n",
    "\n",
    "1. checkout the repo\n",
    "2. install Python\n",
    "3. install your package and its dependencies\n",
    "4. run the tests\n",
    "\n",
    "```yaml\n",
    "name: Tests\n",
    "\n",
    "jobs:\n",
    "  test:\n",
    "    runs-on: ubuntu-20.04\n",
    "\n",
    "    strategy:\n",
    "      matrix:\n",
    "        python:\n",
    "          - \"3.7\"\n",
    "          - \"3.8\"\n",
    "          - \"3.9\"\n",
    "\n",
    "    steps:\n",
    "      # checkout the repository\n",
    "      - uses: actions/checkout@v2\n",
    "      \n",
    "      # setup Python\n",
    "      - name: Install Python ${{ matrix.python }}\n",
    "        uses: actions/setup-python@v2\n",
    "        with:\n",
    "          python-version: ${{ matrix.python }}\n",
    "\n",
    "      - name: Install Python dependencies\n",
    "        run: |\n",
    "          pip install --upgrade pip\n",
    "          pip install --upgrade -r dev-requirements.txt -r requirements.txt .\n",
    "          pip freeze\n",
    "\n",
    "      - name: Run tests\n",
    "        run: |\n",
    "          pytest\n",
    "```\n",
    "\n",
    "\n",
    "Check:\n",
    "\n",
    "https://github.com/UiO-IN3110/monty_hall_game/actions\n",
    "\n",
    "\n",
    "Check the build status page to see if your build passes or fails according to the return status of the build command by visiting your GitHub repository and selecting `actions`."
   ]
  },
  {
   "cell_type": "markdown",
   "metadata": {},
   "source": [
    "### Current directory structure\n",
    "\n",
    "```bash\n",
    "monyty_hall_game/\n",
    "    Readme.md                      # Installation instructions\n",
    "    requirements.txt               # Dependencies\n",
    "    setup.py                       # Setuptools\n",
    "    monty_hall_game/               # Main module\n",
    "        __init__.py  \n",
    "        game_exceptions.py  \n",
    "        monty_hall_game.py    \n",
    "    \n",
    "    bin/                           # Scripts \n",
    "        play_monty_hall_cli.py  \n",
    "        play_monty_hall_web.py  \n",
    "    templates/*.html\n",
    "    docs/                          # Sphinx documentation (mostly autogenerated)\n",
    "        conf.py  \n",
    "        index.rst  \n",
    "        Makefile  \n",
    "        modules.rst  \n",
    "        monty_hall_game.rst  \n",
    "    tests                          # tests in pytest format\n",
    "        test_game_module.py\n",
    "    .github/workflows/test.yml     # continuous integration\n",
    "    .gitignore                     \n",
    "```"
   ]
  },
  {
   "cell_type": "markdown",
   "metadata": {},
   "source": [
    "Deployment of the web application with Heroku\n",
    "---------------------------\n",
    "\n",
    "* Define a set of processes/commands that it should run beforehand. These commands are located in the file Procfile.txt:\n",
    "```\n",
    "web: gunicorn app:montyhallgame\n",
    "```\n",
    "The web command tells Heroku to start a web server for the application, using gunicorn. Since our application is called app.py, we've set the app name to be app as well.\n",
    "\n",
    "* Now, we should create a Heroku account.\n",
    "\n",
    "* Once that is out of the way, on the dashboard, select New -> Create new app:\n",
    "\n",
    "* Deploying the app:\n",
    "    ```\n",
    "    $ heroku login -i\n",
    "    ```\n",
    "    \n",
    "* Add our repository to the remote one:\n",
    "    ```\n",
    "    $ heroku create\n",
    "    ```\n",
    "    \n",
    "* Push to heroku:\n",
    "    ```\n",
    "    $ git push heroku main\n",
    "    ```\n",
    "\n",
    "* Add at least one web dyno to start the webapplication\n",
    "    ```\n",
    "    $ heroku ps\n",
    "    ```\n",
    "\n",
    "    ```\n",
    "    $ heroku ps:scale web=1\n",
    "    ```"
   ]
  },
  {
   "cell_type": "markdown",
   "metadata": {},
   "source": [
    "### Deploy your Python library to PyPI\n",
    "\n",
    "Wouldn't it be nice if your users could just type in:\n",
    "\n",
    "```bash\n",
    "pip install monty_hall_game\n",
    "```\n",
    "\n",
    "\n",
    "This is possible by uploading the package to the Python Package Index (PyPI).\n",
    "\n",
    "\n",
    "1. Create a source and wheel distribution with the following command:\n",
    "\n",
    "```bash\n",
    "python -m pip install build\n",
    "python -m build . \n",
    "```\n",
    "\n",
    "2. Upload the distribution to pypi (will ask for the pypi credentials) with:\n",
    "\n",
    "```bash\n",
    "twine upload dist/*\n",
    "```\n",
    "    \n",
    "\n",
    "Result see https://pypi.org/project/uio-monty-hall-game/\n"
   ]
  },
  {
   "cell_type": "markdown",
   "metadata": {},
   "source": [
    "## Final directory layout"
   ]
  },
  {
   "cell_type": "code",
   "execution_count": null,
   "metadata": {},
   "outputs": [],
   "source": [
    "!tree -I __pycache__ monty-hall-game4/"
   ]
  },
  {
   "cell_type": "markdown",
   "metadata": {},
   "source": [
    "```bash\n",
    "monyty_hall_game/\n",
    "    README.md                      # Installation instructions\n",
    "    requirements.txt               # Dependencies\n",
    "    setup.py                       # Setuptools\n",
    "    monty_hall_game/               # Our package\n",
    "        __init__.py  \n",
    "        game_exceptions.py  \n",
    "        monty_hall_game.py    \n",
    "    \n",
    "    bin/                           # Scripts \n",
    "        play_monty_hall_cli.py  \n",
    "        play_monty_hall_web.py  \n",
    "        templates/*.html\n",
    "    docs/                          # Sphinx documentation (mostly autogenerated)\n",
    "        conf.py  \n",
    "        index.rst  \n",
    "        Makefile  \n",
    "        modules.rst  \n",
    "        monty_hall_game.rst  \n",
    "    tests                          # tests in pytest format\n",
    "        test_game_module.py\n",
    "    .github/workflows/test.yml     # continuous integration\n",
    "    .gitignore                     \n",
    "```"
   ]
  },
  {
   "cell_type": "markdown",
   "metadata": {},
   "source": [
    "\n",
    "# Summary of today's topics\n",
    "\n",
    "* **Installation**\n",
    "    * requirements.txt\n",
    "    * Package + setup.py \n",
    "    * README.md \n",
    "* **Testing**\n",
    "    * py.test\n",
    "    * Continuous integration (with GitHub)\n",
    "* **Documentation**\n",
    "    * Sphinx\n",
    "    * ReadTheDocs\n",
    "* **Deployment / Publishing**\n",
    "    * Deployment of Python packages with PyP*\n",
    "    * Deployment of web applications with Heroku.\n"
   ]
  }
 ],
 "metadata": {
  "kernelspec": {
   "display_name": "Python 3",
   "language": "python",
   "name": "python3"
  },
  "language_info": {
   "codemirror_mode": {
    "name": "ipython",
    "version": 3
   },
   "file_extension": ".py",
   "mimetype": "text/x-python",
   "name": "python",
   "nbconvert_exporter": "python",
   "pygments_lexer": "ipython3",
   "version": "3.8.5"
  },
  "nteract": {
   "version": "0.26.0"
  },
  "widgets": {
   "application/vnd.jupyter.widget-state+json": {
    "state": {},
    "version_major": 2,
    "version_minor": 0
   }
  }
 },
 "nbformat": 4,
 "nbformat_minor": 4
}
