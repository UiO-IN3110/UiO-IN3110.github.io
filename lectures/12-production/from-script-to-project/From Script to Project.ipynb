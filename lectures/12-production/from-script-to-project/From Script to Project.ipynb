{
 "cells": [
  {
   "cell_type": "markdown",
   "metadata": {},
   "source": [
    "# From script to project\n"
   ]
  },
  {
   "cell_type": "markdown",
   "metadata": {},
   "source": [
    "## Typical steps\n",
    "\n",
    "1. Organize your script into a package and modules\n",
    "2. Add install scripts/instructions\n",
    "3. Add documentation and make it available online\n",
    "4. Add tests\n",
    "5. Deploy your application/library\n",
    "\n",
    "\n",
    "The final version of this lecture are available here: \n",
    "\n",
    "Source code:\n",
    "https://github.com/UiO-IN3110/monty_hall_game\n",
    "\n",
    "Online documentation: https://uio-monty-hall-pre.readthedocs.io\n",
    "\n",
    "Automatic testing:\n",
    "https://github.com/UiO-IN3110/monty_hall_game/actions\n"
   ]
  },
  {
   "cell_type": "markdown",
   "metadata": {},
   "source": [
    "## Our test case "
   ]
  },
  {
   "cell_type": "markdown",
   "metadata": {},
   "source": [
    "We will use the `Monty Hall Game` implementation from last week as an example."
   ]
  },
  {
   "cell_type": "markdown",
   "metadata": {},
   "source": [
    "<img src=\"images/monty_hall_game.png\" style=\"width: 400px;\"/>"
   ]
  },
  {
   "cell_type": "markdown",
   "metadata": {},
   "source": [
    "This `project` currently consists of the game file itself and some html templates:"
   ]
  },
  {
   "cell_type": "markdown",
   "metadata": {},
   "source": [
    "```bash\n",
    "monty_hall_game/\n",
    "    game_server.py     # Start web server\n",
    "    templates/*.html   # Templates for web-server\n",
    "```"
   ]
  },
  {
   "cell_type": "markdown",
   "metadata": {},
   "source": [
    "**Goal**:\n",
    "Make the game available as a project with:\n",
    "* a *command line* interface \n",
    "* a *web* interface\n",
    "* online and offline documentation\n",
    "* tests \n",
    "* error handling."
   ]
  },
  {
   "cell_type": "markdown",
   "metadata": {},
   "source": [
    "# Step 1. Organize your script into modules and functions."
   ]
  },
  {
   "cell_type": "markdown",
   "metadata": {},
   "source": [
    "We would like to offer a command line interface and a web interface. To achieve this, \n",
    "we separate the game logic into a separate package (which is simply a directory with Python modules). \n",
    "\n",
    "```bash\n",
    "myproject/\n",
    "    monty_hall_game/               # Game package\n",
    "        __init__.py                    #    Init file module \n",
    "        monty_hall_game.py             #    Core game module\n",
    "```        \n",
    "\n",
    "\n",
    "\n",
    "The core game module contains the class `MontyHallGame`, which implements the core functionality of the game. Here is a the user interface for the game package:"
   ]
  },
  {
   "cell_type": "markdown",
   "metadata": {},
   "source": [
    "Let's look at the user interface of the package.\n",
    "\n",
    "Setting up the game:"
   ]
  },
  {
   "cell_type": "code",
   "execution_count": 1,
   "metadata": {},
   "outputs": [
    {
     "name": "stdout",
     "output_type": "stream",
     "text": [
      "\u001b[01;34mmonty-hall-game0\u001b[0m\n",
      "├── \u001b[00mgame_server.py\u001b[0m\n",
      "└── \u001b[01;34mtemplates\u001b[0m\n",
      "    ├── \u001b[00mfinal.html\u001b[0m\n",
      "    ├── \u001b[00mreselect.html\u001b[0m\n",
      "    ├── \u001b[00mreselect1.html\u001b[0m\n",
      "    ├── \u001b[00mselect.html\u001b[0m\n",
      "    └── \u001b[00mselect2.html\u001b[0m\n",
      "\n",
      "1 directory, 6 files\n"
     ]
    }
   ],
   "source": [
    "!tree monty-hall-game0"
   ]
  },
  {
   "cell_type": "code",
   "execution_count": 2,
   "metadata": {},
   "outputs": [
    {
     "name": "stdout",
     "output_type": "stream",
     "text": [
      "\u001b[01;34mmonty-hall-game1\u001b[0m\n",
      "├── \u001b[01;34mbin\u001b[0m\n",
      "│   ├── \u001b[01;32mplay_monty_hall_cli.py\u001b[0m\n",
      "│   └── \u001b[01;32mplay_monty_hall_web.py\u001b[0m\n",
      "├── \u001b[01;34mmonty_hall_game\u001b[0m\n",
      "│   ├── \u001b[00m__init__.py\u001b[0m\n",
      "│   └── \u001b[00mmonty_hall_game.py\u001b[0m\n",
      "└── \u001b[01;34mtemplates\u001b[0m\n",
      "    ├── \u001b[00mfinal.html\u001b[0m\n",
      "    ├── \u001b[00mreselect.html\u001b[0m\n",
      "    ├── \u001b[00mreselect1.html\u001b[0m\n",
      "    ├── \u001b[00mselect.html\u001b[0m\n",
      "    └── \u001b[00mselect2.html\u001b[0m\n",
      "\n",
      "3 directories, 9 files\n"
     ]
    }
   ],
   "source": [
    "!tree -I __pycache__ monty-hall-game1"
   ]
  },
  {
   "cell_type": "code",
   "execution_count": 3,
   "metadata": {},
   "outputs": [],
   "source": [
    "import sys\n",
    "sys.path.insert(0, os.path.join(os.getcwd(), \"monty-hall-game1\"))"
   ]
  },
  {
   "cell_type": "code",
   "execution_count": 4,
   "metadata": {},
   "outputs": [],
   "source": [
    "import monty_hall_game\n",
    "\n",
    "game = monty_hall_game.MontyHallGame()"
   ]
  },
  {
   "cell_type": "markdown",
   "metadata": {},
   "source": [
    "We can now play one round:"
   ]
  },
  {
   "cell_type": "code",
   "execution_count": 5,
   "metadata": {},
   "outputs": [],
   "source": [
    "game.select_door(door=1)"
   ]
  },
  {
   "cell_type": "code",
   "execution_count": 6,
   "metadata": {},
   "outputs": [
    {
     "data": {
      "text/plain": [
       "2"
      ]
     },
     "execution_count": 6,
     "metadata": {},
     "output_type": "execute_result"
    }
   ],
   "source": [
    "game.let_host_open_door()"
   ]
  },
  {
   "cell_type": "code",
   "execution_count": 7,
   "metadata": {},
   "outputs": [],
   "source": [
    "game.select_door(1)"
   ]
  },
  {
   "cell_type": "code",
   "execution_count": 8,
   "metadata": {},
   "outputs": [
    {
     "data": {
      "text/plain": [
       "True"
      ]
     },
     "execution_count": 8,
     "metadata": {},
     "output_type": "execute_result"
    }
   ],
   "source": [
    "game.open_door()   # True == win, False == lose"
   ]
  },
  {
   "cell_type": "markdown",
   "metadata": {},
   "source": [
    "Printing the game statistics:"
   ]
  },
  {
   "cell_type": "code",
   "execution_count": 9,
   "metadata": {},
   "outputs": [
    {
     "name": "stdout",
     "output_type": "stream",
     "text": [
      "Changed and won: 0 out of 0\n",
      "Not changed and won: 1 out of 1\n"
     ]
    }
   ],
   "source": [
    "print(game.statistics())"
   ]
  },
  {
   "cell_type": "markdown",
   "metadata": {},
   "source": [
    "With this package, we can build scripts that expose the game to the user via the command line and the web-interface.\n",
    "We implement these in the folder `bin` (for binary files. We use this name of convention reasons, even though our files are not really bindary files)."
   ]
  },
  {
   "cell_type": "markdown",
   "metadata": {},
   "source": [
    "Our new directory structure is:"
   ]
  },
  {
   "cell_type": "markdown",
   "metadata": {},
   "source": [
    "```bash\n",
    "myproject/\n",
    "    bin/                           # Scripts\n",
    "        play_monty_hall_cli.py         #    Start game with command line interface \n",
    "        play_monty_hall_web.py         #    Start game with web-server\n",
    "    monty_hall_game/               # Game package\n",
    "        __init__.py                    #    Init file module \n",
    "        monty_hall_game.py             #    Core game module\n",
    "    templates/*.html               # Templates for web-server        \n",
    "```"
   ]
  },
  {
   "cell_type": "markdown",
   "metadata": {},
   "source": [
    "Let's look at the code in more detail (see files in `monty-hall-game1` folder)"
   ]
  },
  {
   "cell_type": "markdown",
   "metadata": {},
   "source": [
    "# Step 2. Add installation files and instructions"
   ]
  },
  {
   "cell_type": "markdown",
   "metadata": {},
   "source": [
    "### Record dependencies with requirements.txt"
   ]
  },
  {
   "cell_type": "markdown",
   "metadata": {},
   "source": [
    "Our project has some dependencies to run it, such as `flask`,\n",
    "and other dependencies to \"develop\" it such as pytest and (later) sphinx:"
   ]
  },
  {
   "cell_type": "code",
   "execution_count": 10,
   "metadata": {},
   "outputs": [
    {
     "name": "stdout",
     "output_type": "stream",
     "text": [
      "flask\n"
     ]
    }
   ],
   "source": [
    "!cat monty-hall-game4/requirements.txt"
   ]
  },
  {
   "cell_type": "code",
   "execution_count": 11,
   "metadata": {},
   "outputs": [
    {
     "name": "stdout",
     "output_type": "stream",
     "text": [
      "sphinx\n",
      "pytest\n"
     ]
    }
   ],
   "source": [
    "!cat monty-hall-game4/dev-requirements.txt"
   ]
  },
  {
   "cell_type": "markdown",
   "metadata": {},
   "source": [
    "The dependencies can be automatically installed with"
   ]
  },
  {
   "cell_type": "code",
   "execution_count": 12,
   "metadata": {},
   "outputs": [
    {
     "name": "stdout",
     "output_type": "stream",
     "text": [
      "Requirement already satisfied: flask in /Users/minrk/conda/lib/python3.10/site-packages (from -r monty-hall-game4/requirements.txt (line 1)) (2.2.2)\n",
      "Requirement already satisfied: sphinx in /Users/minrk/conda/lib/python3.10/site-packages (from -r monty-hall-game4/dev-requirements.txt (line 1)) (4.5.0)\n",
      "Requirement already satisfied: pytest in /Users/minrk/conda/lib/python3.10/site-packages (from -r monty-hall-game4/dev-requirements.txt (line 2)) (7.1.2)\n",
      "Requirement already satisfied: Jinja2>=3.0 in /Users/minrk/conda/lib/python3.10/site-packages (from flask->-r monty-hall-game4/requirements.txt (line 1)) (3.1.2)\n",
      "Requirement already satisfied: itsdangerous>=2.0 in /Users/minrk/conda/lib/python3.10/site-packages (from flask->-r monty-hall-game4/requirements.txt (line 1)) (2.1.2)\n",
      "Requirement already satisfied: click>=8.0 in /Users/minrk/conda/lib/python3.10/site-packages (from flask->-r monty-hall-game4/requirements.txt (line 1)) (8.1.3)\n",
      "Requirement already satisfied: Werkzeug>=2.2.2 in /Users/minrk/conda/lib/python3.10/site-packages (from flask->-r monty-hall-game4/requirements.txt (line 1)) (2.2.2)\n",
      "Requirement already satisfied: babel>=1.3 in /Users/minrk/conda/lib/python3.10/site-packages (from sphinx->-r monty-hall-game4/dev-requirements.txt (line 1)) (2.10.3)\n",
      "Requirement already satisfied: packaging in /Users/minrk/conda/lib/python3.10/site-packages (from sphinx->-r monty-hall-game4/dev-requirements.txt (line 1)) (21.3)\n",
      "Requirement already satisfied: sphinxcontrib-htmlhelp>=2.0.0 in /Users/minrk/conda/lib/python3.10/site-packages (from sphinx->-r monty-hall-game4/dev-requirements.txt (line 1)) (2.0.0)\n",
      "Requirement already satisfied: requests>=2.5.0 in /Users/minrk/conda/lib/python3.10/site-packages (from sphinx->-r monty-hall-game4/dev-requirements.txt (line 1)) (2.27.1)\n",
      "Requirement already satisfied: Pygments>=2.0 in /Users/minrk/conda/lib/python3.10/site-packages (from sphinx->-r monty-hall-game4/dev-requirements.txt (line 1)) (2.12.0)\n",
      "Requirement already satisfied: alabaster<0.8,>=0.7 in /Users/minrk/conda/lib/python3.10/site-packages (from sphinx->-r monty-hall-game4/dev-requirements.txt (line 1)) (0.7.12)\n",
      "Requirement already satisfied: imagesize in /Users/minrk/conda/lib/python3.10/site-packages (from sphinx->-r monty-hall-game4/dev-requirements.txt (line 1)) (1.4.1)\n",
      "Requirement already satisfied: sphinxcontrib-jsmath in /Users/minrk/conda/lib/python3.10/site-packages (from sphinx->-r monty-hall-game4/dev-requirements.txt (line 1)) (1.0.1)\n",
      "Requirement already satisfied: sphinxcontrib-qthelp in /Users/minrk/conda/lib/python3.10/site-packages (from sphinx->-r monty-hall-game4/dev-requirements.txt (line 1)) (1.0.3)\n",
      "Requirement already satisfied: docutils<0.18,>=0.14 in /Users/minrk/conda/lib/python3.10/site-packages (from sphinx->-r monty-hall-game4/dev-requirements.txt (line 1)) (0.16)\n",
      "Requirement already satisfied: sphinxcontrib-serializinghtml>=1.1.5 in /Users/minrk/conda/lib/python3.10/site-packages (from sphinx->-r monty-hall-game4/dev-requirements.txt (line 1)) (1.1.5)\n",
      "Requirement already satisfied: sphinxcontrib-applehelp in /Users/minrk/conda/lib/python3.10/site-packages (from sphinx->-r monty-hall-game4/dev-requirements.txt (line 1)) (1.0.2)\n",
      "Requirement already satisfied: sphinxcontrib-devhelp in /Users/minrk/conda/lib/python3.10/site-packages (from sphinx->-r monty-hall-game4/dev-requirements.txt (line 1)) (1.0.2)\n",
      "Requirement already satisfied: snowballstemmer>=1.1 in /Users/minrk/conda/lib/python3.10/site-packages (from sphinx->-r monty-hall-game4/dev-requirements.txt (line 1)) (2.2.0)\n",
      "Requirement already satisfied: attrs>=19.2.0 in /Users/minrk/conda/lib/python3.10/site-packages (from pytest->-r monty-hall-game4/dev-requirements.txt (line 2)) (21.4.0)\n",
      "Requirement already satisfied: iniconfig in /Users/minrk/conda/lib/python3.10/site-packages (from pytest->-r monty-hall-game4/dev-requirements.txt (line 2)) (1.1.1)\n",
      "Requirement already satisfied: pluggy<2.0,>=0.12 in /Users/minrk/conda/lib/python3.10/site-packages (from pytest->-r monty-hall-game4/dev-requirements.txt (line 2)) (1.0.0)\n",
      "Requirement already satisfied: py>=1.8.2 in /Users/minrk/conda/lib/python3.10/site-packages (from pytest->-r monty-hall-game4/dev-requirements.txt (line 2)) (1.11.0)\n",
      "Requirement already satisfied: tomli>=1.0.0 in /Users/minrk/conda/lib/python3.10/site-packages (from pytest->-r monty-hall-game4/dev-requirements.txt (line 2)) (2.0.1)\n",
      "Requirement already satisfied: pytz>=2015.7 in /Users/minrk/conda/lib/python3.10/site-packages (from babel>=1.3->sphinx->-r monty-hall-game4/dev-requirements.txt (line 1)) (2022.1)\n",
      "Requirement already satisfied: MarkupSafe>=2.0 in /Users/minrk/conda/lib/python3.10/site-packages (from Jinja2>=3.0->flask->-r monty-hall-game4/requirements.txt (line 1)) (2.1.1)\n",
      "Requirement already satisfied: charset-normalizer~=2.0.0 in /Users/minrk/conda/lib/python3.10/site-packages (from requests>=2.5.0->sphinx->-r monty-hall-game4/dev-requirements.txt (line 1)) (2.0.12)\n",
      "Requirement already satisfied: urllib3<1.27,>=1.21.1 in /Users/minrk/conda/lib/python3.10/site-packages (from requests>=2.5.0->sphinx->-r monty-hall-game4/dev-requirements.txt (line 1)) (1.26.9)\n",
      "Requirement already satisfied: certifi>=2017.4.17 in /Users/minrk/conda/lib/python3.10/site-packages (from requests>=2.5.0->sphinx->-r monty-hall-game4/dev-requirements.txt (line 1)) (2022.6.15.1)\n",
      "Requirement already satisfied: idna<4,>=2.5 in /Users/minrk/conda/lib/python3.10/site-packages (from requests>=2.5.0->sphinx->-r monty-hall-game4/dev-requirements.txt (line 1)) (3.3)\n",
      "Requirement already satisfied: pyparsing!=3.0.5,>=2.0.2 in /Users/minrk/conda/lib/python3.10/site-packages (from packaging->sphinx->-r monty-hall-game4/dev-requirements.txt (line 1)) (3.0.9)\n",
      "Note: you may need to restart the kernel to use updated packages.\n"
     ]
    }
   ],
   "source": [
    "%pip install -r monty-hall-game4/requirements.txt -r monty-hall-game4/dev-requirements.txt"
   ]
  },
  {
   "cell_type": "markdown",
   "metadata": {},
   "source": [
    "### Setuptools\n",
    "Further, we can create a setup file to simplify the installation of our game. \n",
    "First thing we need is a `pyproject.toml` file:"
   ]
  },
  {
   "cell_type": "code",
   "execution_count": 13,
   "metadata": {},
   "outputs": [
    {
     "data": {
      "text/plain": [
       "\u001b[0;34m[\u001b[0m\u001b[0mbuild\u001b[0m\u001b[0;34m-\u001b[0m\u001b[0msystem\u001b[0m\u001b[0;34m]\u001b[0m\u001b[0;34m\u001b[0m\n",
       "\u001b[0;34m\u001b[0m\u001b[0mrequires\u001b[0m \u001b[0;34m=\u001b[0m \u001b[0;34m[\u001b[0m\u001b[0;34m\u001b[0m\n",
       "\u001b[0;34m\u001b[0m    \u001b[0;34m\"setuptools\"\u001b[0m\u001b[0;34m,\u001b[0m\u001b[0;34m\u001b[0m\n",
       "\u001b[0;34m\u001b[0m\u001b[0;34m]\u001b[0m\u001b[0;34m\u001b[0m\n",
       "\u001b[0;34m\u001b[0m\u001b[0mbuild\u001b[0m\u001b[0;34m-\u001b[0m\u001b[0mbackend\u001b[0m \u001b[0;34m=\u001b[0m \u001b[0;34m\"setuptools.build_meta\"\u001b[0m\u001b[0;34m\u001b[0m\n",
       "\u001b[0;34m\u001b[0m\u001b[0;34m\u001b[0m\n",
       "\u001b[0;34m\u001b[0m\u001b[0;34m[\u001b[0m\u001b[0mproject\u001b[0m\u001b[0;34m]\u001b[0m\u001b[0;34m\u001b[0m\n",
       "\u001b[0;34m\u001b[0m\u001b[0mversion\u001b[0m \u001b[0;34m=\u001b[0m \u001b[0;34m\"2022.11.16\"\u001b[0m\u001b[0;34m\u001b[0m\n",
       "\u001b[0;34m\u001b[0m\u001b[0mrequires\u001b[0m\u001b[0;34m-\u001b[0m\u001b[0mpython\u001b[0m \u001b[0;34m=\u001b[0m \u001b[0;34m\">=3.7\"\u001b[0m\u001b[0;34m\u001b[0m\n",
       "\u001b[0;34m\u001b[0m\u001b[0mlicense\u001b[0m \u001b[0;34m=\u001b[0m \u001b[0;34m{\u001b[0m\u001b[0mtext\u001b[0m \u001b[0;34m=\u001b[0m \u001b[0;34m\"MIT License\"\u001b[0m\u001b[0;34m}\u001b[0m\u001b[0;34m\u001b[0m\n",
       "\u001b[0;34m\u001b[0m\u001b[0;34m\u001b[0m\n",
       "\u001b[0;34m\u001b[0m\u001b[0mname\u001b[0m \u001b[0;34m=\u001b[0m \u001b[0;34m\"uio-monty-hall-game\"\u001b[0m\u001b[0;34m\u001b[0m\n",
       "\u001b[0;34m\u001b[0m\u001b[0mdescription\u001b[0m \u001b[0;34m=\u001b[0m \u001b[0;34m\"...\"\u001b[0m\u001b[0;34m\u001b[0m\n",
       "\u001b[0;34m\u001b[0m\u001b[0mreadme\u001b[0m \u001b[0;34m=\u001b[0m \u001b[0;34m\"README.md\"\u001b[0m\u001b[0;34m\u001b[0m\n",
       "\u001b[0;34m\u001b[0m\u001b[0mdynamic\u001b[0m \u001b[0;34m=\u001b[0m \u001b[0;34m[\u001b[0m\u001b[0;34m\"dependencies\"\u001b[0m\u001b[0;34m]\u001b[0m\u001b[0;34m\u001b[0m\n",
       "\u001b[0;34m\u001b[0m\u001b[0;34m\u001b[0m\n",
       "\u001b[0;34m\u001b[0m\u001b[0;34m\u001b[0m\n",
       "\u001b[0;34m\u001b[0m\u001b[0;34m[\u001b[0m\u001b[0mtool\u001b[0m\u001b[0;34m.\u001b[0m\u001b[0msetuptools\u001b[0m\u001b[0;34m.\u001b[0m\u001b[0mdynamic\u001b[0m\u001b[0;34m]\u001b[0m\u001b[0;34m\u001b[0m\n",
       "\u001b[0;34m\u001b[0m\u001b[0mdependencies\u001b[0m \u001b[0;34m=\u001b[0m \u001b[0;34m{\u001b[0m\u001b[0mfile\u001b[0m \u001b[0;34m=\u001b[0m \u001b[0;34m[\u001b[0m\u001b[0;34m\"requirements.txt\"\u001b[0m\u001b[0;34m]\u001b[0m\u001b[0;34m}\u001b[0m\u001b[0;34m\u001b[0m\n",
       "\u001b[0;34m\u001b[0m\u001b[0;34m\u001b[0m\n",
       "\u001b[0;34m\u001b[0m\u001b[0;34m[\u001b[0m\u001b[0mproject\u001b[0m\u001b[0;34m.\u001b[0m\u001b[0mscripts\u001b[0m\u001b[0;34m]\u001b[0m\u001b[0;34m\u001b[0m\n",
       "\u001b[0;34m\u001b[0m\u001b[0mmonty\u001b[0m\u001b[0;34m-\u001b[0m\u001b[0mhall\u001b[0m\u001b[0;34m-\u001b[0m\u001b[0mcli\u001b[0m \u001b[0;34m=\u001b[0m \u001b[0;34m\"monty_hall_game.cli:main\"\u001b[0m\u001b[0;34m\u001b[0m\n",
       "\u001b[0;34m\u001b[0m\u001b[0mmonty\u001b[0m\u001b[0;34m-\u001b[0m\u001b[0mhall\u001b[0m\u001b[0;34m-\u001b[0m\u001b[0mweb\u001b[0m \u001b[0;34m=\u001b[0m \u001b[0;34m\"monty_hall_game.web:main\"\u001b[0m\u001b[0;34m\u001b[0m\u001b[0;34m\u001b[0m\u001b[0m\n"
      ]
     },
     "metadata": {},
     "output_type": "display_data"
    }
   ],
   "source": [
    "%pycat monty-hall-game4/pyproject.toml"
   ]
  },
  {
   "cell_type": "markdown",
   "metadata": {},
   "source": [
    "We can now install the `monty_hall_game` package with\n",
    "\n",
    "```bash\n",
    "pip install . \n",
    "```"
   ]
  },
  {
   "cell_type": "markdown",
   "metadata": {},
   "source": [
    "Using the Python package manager `pip` has the advantage that we can uninstall the package again:\n",
    "```bash\n",
    "pip uninstall uio-monty-hall-game\n",
    "```"
   ]
  },
  {
   "cell_type": "code",
   "execution_count": 15,
   "metadata": {},
   "outputs": [
    {
     "name": "stdout",
     "output_type": "stream",
     "text": [
      "\u001b[01;34mmonty-hall-game4/\u001b[0m\n",
      "├── \u001b[00mREADME.md\u001b[0m\n",
      "├── \u001b[00mdev-requirements.txt\u001b[0m\n",
      "├── \u001b[01;34mdocs\u001b[0m\n",
      "│   ├── \u001b[00mMakefile\u001b[0m\n",
      "│   ├── \u001b[01;34mapi\u001b[0m\n",
      "│   │   ├── \u001b[00mindex.rst\u001b[0m\n",
      "│   │   └── \u001b[00mmonty_hall_game.rst\u001b[0m\n",
      "│   ├── \u001b[00mconf.py\u001b[0m\n",
      "│   ├── \u001b[00mindex.rst\u001b[0m\n",
      "│   └── \u001b[01;32mmake.bat\u001b[0m\n",
      "├── \u001b[01;34mmonty_hall_game\u001b[0m\n",
      "│   ├── \u001b[00m__init__.py\u001b[0m\n",
      "│   ├── \u001b[01;32mcli.py\u001b[0m\n",
      "│   ├── \u001b[00mgame_exceptions.py\u001b[0m\n",
      "│   ├── \u001b[00mmonty_hall_game.py\u001b[0m\n",
      "│   ├── \u001b[01;34mstatic\u001b[0m\n",
      "│   │   ├── \u001b[01;35mcar.jpg\u001b[0m\n",
      "│   │   ├── \u001b[00mdoor1.png\u001b[0m\n",
      "│   │   ├── \u001b[00mdoor2.png\u001b[0m\n",
      "│   │   ├── \u001b[00mdoor3.png\u001b[0m\n",
      "│   │   ├── \u001b[01;35mgoat.jpg\u001b[0m\n",
      "│   │   ├── \u001b[01;35mgoat_lost.jpg\u001b[0m\n",
      "│   │   └── \u001b[00mwinner.png\u001b[0m\n",
      "│   ├── \u001b[01;34mtemplates\u001b[0m\n",
      "│   │   ├── \u001b[00mfinal.html\u001b[0m\n",
      "│   │   ├── \u001b[00mlayout7.html\u001b[0m\n",
      "│   │   ├── \u001b[00mreselect.html\u001b[0m\n",
      "│   │   └── \u001b[00mselect.html\u001b[0m\n",
      "│   └── \u001b[01;32mweb.py\u001b[0m\n",
      "├── \u001b[00mpyproject.toml\u001b[0m\n",
      "├── \u001b[00mreadthedocs.yml\u001b[0m\n",
      "├── \u001b[00mrequirements.txt\u001b[0m\n",
      "├── \u001b[00mruntime.txt\u001b[0m\n",
      "└── \u001b[01;34mtests\u001b[0m\n",
      "    └── \u001b[00mtest_game_module.py\u001b[0m\n",
      "\n",
      "6 directories, 29 files\n"
     ]
    }
   ],
   "source": [
    "!tree monty-hall-game4/"
   ]
  },
  {
   "cell_type": "markdown",
   "metadata": {},
   "source": [
    "### Installation instructions"
   ]
  },
  {
   "cell_type": "markdown",
   "metadata": {},
   "source": [
    "Finally it is good practice to add a installation instructions to the README.md file:"
   ]
  },
  {
   "cell_type": "code",
   "execution_count": 14,
   "metadata": {},
   "outputs": [
    {
     "data": {
      "text/markdown": [
       "Monty Hall Game\n",
       "===============\n",
       "\n",
       "This repository contains a simple implementation of the Monty Hall Game with\n",
       "a command line and web interface.\n",
       "\n",
       "\n",
       "Installation\n",
       "------------\n",
       "\n",
       "Install the game with\n",
       "\n",
       "    pip install .\n",
       "\n",
       "Running the game\n",
       "----------------\n",
       "\n",
       "The command line interface is started with:\n",
       "\n",
       "    monty-hall-cli\n",
       "\n",
       "The web server is started with:\n",
       "\n",
       "    monty-hall-web\n"
      ],
      "text/plain": [
       "<IPython.core.display.Markdown object>"
      ]
     },
     "metadata": {},
     "output_type": "display_data"
    }
   ],
   "source": [
    "from IPython.display import display, Markdown\n",
    "\n",
    "with open(\"monty-hall-game4/README.md\") as f:\n",
    "    display(Markdown(f.read()))\n"
   ]
  },
  {
   "cell_type": "markdown",
   "metadata": {},
   "source": [
    "### New files\n",
    "    \n",
    "```bash\n",
    "monty_hall_game/\n",
    "    README.md                   # Installation instructions\n",
    "    requirements.txt            # List of project dependencies\n",
    "    dev-requirements.txt        # List of development dependencies\n",
    "    pyproject.toml              # SetupTools file\n",
    "```"
   ]
  },
  {
   "cell_type": "code",
   "execution_count": 16,
   "metadata": {},
   "outputs": [
    {
     "data": {
      "text/plain": [
       "'/Users/minrk/dev/simula/in3110/site/lectures/12-production/from-script-to-project'"
      ]
     },
     "execution_count": 16,
     "metadata": {},
     "output_type": "execute_result"
    }
   ],
   "source": [
    "pwd"
   ]
  },
  {
   "cell_type": "code",
   "execution_count": 18,
   "metadata": {},
   "outputs": [
    {
     "name": "stdout",
     "output_type": "stream",
     "text": [
      "/Users/minrk/dev/simula/in3110/site/lectures/12-production/from-script-to-project/monty-hall-game4\n",
      "Processing /Users/minrk/dev/simula/in3110/site/lectures/12-production/from-script-to-project/monty-hall-game4\n",
      "  Installing build dependencies ... \u001b[?25ldone\n",
      "\u001b[?25h  Getting requirements to build wheel ... \u001b[?25ldone\n",
      "\u001b[?25h  Installing backend dependencies ... \u001b[?25ldone\n",
      "\u001b[?25h  Preparing metadata (pyproject.toml) ... \u001b[?25ldone\n",
      "\u001b[?25hRequirement already satisfied: flask in /Users/minrk/conda/lib/python3.10/site-packages (from uio-monty-hall-game==2022.11.16) (2.2.2)\n",
      "Requirement already satisfied: Werkzeug>=2.2.2 in /Users/minrk/conda/lib/python3.10/site-packages (from flask->uio-monty-hall-game==2022.11.16) (2.2.2)\n",
      "Requirement already satisfied: click>=8.0 in /Users/minrk/conda/lib/python3.10/site-packages (from flask->uio-monty-hall-game==2022.11.16) (8.1.3)\n",
      "Requirement already satisfied: Jinja2>=3.0 in /Users/minrk/conda/lib/python3.10/site-packages (from flask->uio-monty-hall-game==2022.11.16) (3.1.2)\n",
      "Requirement already satisfied: itsdangerous>=2.0 in /Users/minrk/conda/lib/python3.10/site-packages (from flask->uio-monty-hall-game==2022.11.16) (2.1.2)\n",
      "Requirement already satisfied: MarkupSafe>=2.0 in /Users/minrk/conda/lib/python3.10/site-packages (from Jinja2>=3.0->flask->uio-monty-hall-game==2022.11.16) (2.1.1)\n",
      "Building wheels for collected packages: uio-monty-hall-game\n",
      "  Building wheel for uio-monty-hall-game (pyproject.toml) ... \u001b[?25ldone\n",
      "\u001b[?25h  Created wheel for uio-monty-hall-game: filename=uio_monty_hall_game-2022.11.16-py3-none-any.whl size=5288 sha256=f77a8a97eb0b7030de2474742feb812bff0d7b6f7f1bbf1ffd5b7598c5a4374c\n",
      "  Stored in directory: /Users/minrk/Library/Caches/pip/wheels/61/ac/b9/d8d3ca0accf195f16027cc6da83267292c98a1c388330afcb0\n",
      "Successfully built uio-monty-hall-game\n",
      "Installing collected packages: uio-monty-hall-game\n",
      "  Attempting uninstall: uio-monty-hall-game\n",
      "    Found existing installation: uio-monty-hall-game 0.1.0\n",
      "    Uninstalling uio-monty-hall-game-0.1.0:\n",
      "      Successfully uninstalled uio-monty-hall-game-0.1.0\n",
      "Successfully installed uio-monty-hall-game-2022.11.16\n",
      "Note: you may need to restart the kernel to use updated packages.\n"
     ]
    }
   ],
   "source": [
    "%cd monty-hall-game4/\n",
    "%pip install ."
   ]
  },
  {
   "cell_type": "markdown",
   "metadata": {},
   "source": [
    "## Step 3. Add documentation"
   ]
  },
  {
   "cell_type": "markdown",
   "metadata": {},
   "source": [
    "We should add docstrings to the module `monty_hall_game.py` file.\n",
    "\n",
    "Note, that I write the documentation in a Sphinx Markup Style (see https://www.sphinx-doc.org/en/master/usage/extensions/napoleon.html) to obtain nicely rendered online documentation.\n",
    "\n",
    "Let's look at the code in more detail (see files in `monty-hall-game2` folder)\n",
    "\n",
    "Once done, we can access the docstrings as usual:"
   ]
  },
  {
   "cell_type": "code",
   "execution_count": 20,
   "metadata": {},
   "outputs": [],
   "source": [
    "# update import path and re-import monty_hall_game\n",
    "sys.path.insert(0, os.path.join(os.getcwd(), \"monty-hall-game2\"))\n",
    "from importlib import reload\n",
    "reload(monty_hall_game)\n",
    "reload(monty_hall_game.monty_hall_game)\n",
    "reload(monty_hall_game)\n",
    "\n",
    "from monty_hall_game.monty_hall_game import MontyHallGame\n"
   ]
  },
  {
   "cell_type": "code",
   "execution_count": 21,
   "metadata": {},
   "outputs": [
    {
     "data": {
      "text/plain": [
       "\u001b[0;31mSignature:\u001b[0m \u001b[0mMontyHallGame\u001b[0m\u001b[0;34m.\u001b[0m\u001b[0mlet_host_open_door\u001b[0m\u001b[0;34m(\u001b[0m\u001b[0mself\u001b[0m\u001b[0;34m)\u001b[0m\u001b[0;34m\u001b[0m\u001b[0;34m\u001b[0m\u001b[0m\n",
       "\u001b[0;31mDocstring:\u001b[0m <no docstring>\n",
       "\u001b[0;31mFile:\u001b[0m      ~/dev/simula/in3110/site/lectures/12-production/from-script-to-project/monty-hall-game1/monty_hall_game/monty_hall_game.py\n",
       "\u001b[0;31mType:\u001b[0m      function\n"
      ]
     },
     "metadata": {},
     "output_type": "display_data"
    }
   ],
   "source": [
    "MontyHallGame.let_host_open_door?"
   ]
  },
  {
   "cell_type": "markdown",
   "metadata": {},
   "source": [
    "## Python documentation with Sphinx\n",
    "\n",
    "Sphinx is a powerful tool to create documentation for Python projects and provides more flexibiliy.\n",
    "\n",
    "#### Installation\n",
    "\n",
    "```bash\n",
    "pip install sphinx\n",
    "```\n",
    "\n",
    "#### How to get started\n",
    "\n",
    "1. Use the quick start command to configure a base Sphinx documentation\n",
    "\n",
    "   ```bash\n",
    "   sphinx-quickstart\n",
    "   ```\n",
    "\n",
    "   Among other things, the quickstart guide will ask for the documentation folder. I typically choose `docs` for this.\n",
    "\n",
    "2. Use \n",
    "   ```bash\n",
    "   mkdir -p docs/api\n",
    "   sphinx-apidoc -o docs/api monty_hall_game\n",
    "   ```\n",
    "   to add documentation for each module. \n",
    "3. Edit `docs/index.rst` to change the content of your main page. \n",
    "4. Compile the documentation with:\n",
    "   ```bash\n",
    "   cd docs\n",
    "   make html\n",
    "   ```\n",
    "   (make sure that the module is in sys.path or installed).\n",
    "5. The documentation is available on `docs/_build/html/index.html`."
   ]
  },
  {
   "cell_type": "code",
   "execution_count": 23,
   "metadata": {},
   "outputs": [
    {
     "name": "stdout",
     "output_type": "stream",
     "text": [
      "/Users/minrk/dev/simula/in3110/site/lectures/12-production/from-script-to-project/monty-hall-game4/docs\n",
      "sphinx-build -b html -d _build/doctrees   . _build/html\n",
      "\u001b[01mRunning Sphinx v4.5.0\u001b[39;49;00m\n",
      "\u001b[01mmaking output directory... \u001b[39;49;00mdone\n",
      "\u001b[91mWARNING: html_static_path entry '_static' does not exist\u001b[39;49;00m\n",
      "\u001b[01mbuilding [mo]: \u001b[39;49;00mtargets for 0 po files that are out of date\n",
      "\u001b[01mbuilding [html]: \u001b[39;49;00mtargets for 6 source files that are out of date\n",
      "\u001b[01mupdating environment: \u001b[39;49;00m[new config] 6 added, 0 changed, 0 removed\n",
      "\u001b[01mreading sources... \u001b[39;49;00m[100%] \u001b[35mindex\u001b[39;49;00m                                                 \n",
      "\u001b[91m/Users/minrk/dev/simula/in3110/site/lectures/12-production/from-script-to-project/monty-hall-game4/docs/.ipynb_checkpoints/index-checkpoint.rst:18: WARNING: toctree contains reference to nonexisting document '.ipynb_checkpoints/api/index'\u001b[39;49;00m\n",
      "\u001b[91m/Users/minrk/dev/simula/in3110/site/lectures/12-production/from-script-to-project/monty-hall-game4/docs/api/.ipynb_checkpoints/index-checkpoint.rst:6: WARNING: toctree contains reference to nonexisting document 'api/.ipynb_checkpoints/monty_hall_game'\u001b[39;49;00m\n",
      "\u001b[91m/Users/minrk/conda/lib/python3.10/site-packages/monty_hall_game/game_exceptions.py:docstring of monty_hall_game.game_exceptions:1: WARNING: duplicate object description of monty_hall_game.game_exceptions, other instance in api/.ipynb_checkpoints/monty_hall_game-checkpoint, use :noindex: for one of them\u001b[39;49;00m\n",
      "\u001b[91m/Users/minrk/conda/lib/python3.10/site-packages/monty_hall_game/game_exceptions.py:docstring of monty_hall_game.game_exceptions.InvalidGameInput:1: WARNING: duplicate object description of monty_hall_game.game_exceptions.InvalidGameInput, other instance in api/.ipynb_checkpoints/monty_hall_game-checkpoint, use :noindex: for one of them\u001b[39;49;00m\n",
      "\u001b[91m/Users/minrk/conda/lib/python3.10/site-packages/monty_hall_game/monty_hall_game.py:docstring of monty_hall_game.monty_hall_game:1: WARNING: duplicate object description of monty_hall_game.monty_hall_game, other instance in api/.ipynb_checkpoints/monty_hall_game-checkpoint, use :noindex: for one of them\u001b[39;49;00m\n",
      "\u001b[91m/Users/minrk/conda/lib/python3.10/site-packages/monty_hall_game/monty_hall_game.py:docstring of monty_hall_game.monty_hall_game.MontyHallGame:1: WARNING: duplicate object description of monty_hall_game.monty_hall_game.MontyHallGame, other instance in api/.ipynb_checkpoints/monty_hall_game-checkpoint, use :noindex: for one of them\u001b[39;49;00m\n",
      "\u001b[91m/Users/minrk/conda/lib/python3.10/site-packages/monty_hall_game/monty_hall_game.py:docstring of monty_hall_game.monty_hall_game.MontyHallGame.available_doors:1: WARNING: duplicate object description of monty_hall_game.monty_hall_game.MontyHallGame.available_doors, other instance in api/.ipynb_checkpoints/monty_hall_game-checkpoint, use :noindex: for one of them\u001b[39;49;00m\n",
      "\u001b[91m/Users/minrk/conda/lib/python3.10/site-packages/monty_hall_game/monty_hall_game.py:docstring of monty_hall_game.monty_hall_game.MontyHallGame.let_host_open_door:1: WARNING: duplicate object description of monty_hall_game.monty_hall_game.MontyHallGame.let_host_open_door, other instance in api/.ipynb_checkpoints/monty_hall_game-checkpoint, use :noindex: for one of them\u001b[39;49;00m\n",
      "\u001b[91m/Users/minrk/conda/lib/python3.10/site-packages/monty_hall_game/monty_hall_game.py:docstring of monty_hall_game.monty_hall_game.MontyHallGame.open_door:1: WARNING: duplicate object description of monty_hall_game.monty_hall_game.MontyHallGame.open_door, other instance in api/.ipynb_checkpoints/monty_hall_game-checkpoint, use :noindex: for one of them\u001b[39;49;00m\n",
      "\u001b[91m/Users/minrk/conda/lib/python3.10/site-packages/monty_hall_game/monty_hall_game.py:docstring of monty_hall_game.monty_hall_game.MontyHallGame.select_door:1: WARNING: duplicate object description of monty_hall_game.monty_hall_game.MontyHallGame.select_door, other instance in api/.ipynb_checkpoints/monty_hall_game-checkpoint, use :noindex: for one of them\u001b[39;49;00m\n",
      "\u001b[91m/Users/minrk/conda/lib/python3.10/site-packages/monty_hall_game/monty_hall_game.py:docstring of monty_hall_game.monty_hall_game.MontyHallGame.statistics:1: WARNING: duplicate object description of monty_hall_game.monty_hall_game.MontyHallGame.statistics, other instance in api/.ipynb_checkpoints/monty_hall_game-checkpoint, use :noindex: for one of them\u001b[39;49;00m\n",
      "\u001b[91m/Users/minrk/conda/lib/python3.10/site-packages/monty_hall_game/monty_hall_game.py:docstring of monty_hall_game.monty_hall_game.MontyHallGame.stats:1: WARNING: duplicate object description of monty_hall_game.monty_hall_game.MontyHallGame.stats, other instance in api/.ipynb_checkpoints/monty_hall_game-checkpoint, use :noindex: for one of them\u001b[39;49;00m\n",
      "\u001b[91m/Users/minrk/conda/lib/python3.10/site-packages/monty_hall_game/monty_hall_game.py:docstring of monty_hall_game.monty_hall_game.MontyHallGame.winning_door:1: WARNING: duplicate object description of monty_hall_game.monty_hall_game.MontyHallGame.winning_door, other instance in api/.ipynb_checkpoints/monty_hall_game-checkpoint, use :noindex: for one of them\u001b[39;49;00m\n",
      "\u001b[91m/Users/minrk/conda/lib/python3.10/site-packages/monty_hall_game/__init__.py:docstring of monty_hall_game:1: WARNING: duplicate object description of monty_hall_game, other instance in api/.ipynb_checkpoints/monty_hall_game-checkpoint, use :noindex: for one of them\u001b[39;49;00m\n",
      "\u001b[01mlooking for now-outdated files... \u001b[39;49;00mnone found\n",
      "\u001b[01mpickling environment... \u001b[39;49;00mdone\n",
      "\u001b[01mchecking consistency... \u001b[39;49;00m\u001b[91m/Users/minrk/dev/simula/in3110/site/lectures/12-production/from-script-to-project/monty-hall-game4/docs/.ipynb_checkpoints/index-checkpoint.rst: WARNING: document isn't included in any toctree\u001b[39;49;00m\n",
      "\u001b[91m/Users/minrk/dev/simula/in3110/site/lectures/12-production/from-script-to-project/monty-hall-game4/docs/api/.ipynb_checkpoints/index-checkpoint.rst: WARNING: document isn't included in any toctree\u001b[39;49;00m\n",
      "\u001b[91m/Users/minrk/dev/simula/in3110/site/lectures/12-production/from-script-to-project/monty-hall-game4/docs/api/.ipynb_checkpoints/monty_hall_game-checkpoint.rst: WARNING: document isn't included in any toctree\u001b[39;49;00m\n",
      "done\n",
      "\u001b[01mpreparing documents... \u001b[39;49;00mdone\n",
      "\u001b[01mwriting output... \u001b[39;49;00m[100%] \u001b[32mindex\u001b[39;49;00m                                                  \n",
      "\u001b[01mgenerating indices... \u001b[39;49;00mgenindex py-modindex done\n",
      "\u001b[01mhighlighting module code... \u001b[39;49;00m[100%] \u001b[94mmonty_hall_game.monty_hall_game\u001b[39;49;00m              \n",
      "\u001b[01mwriting additional pages... \u001b[39;49;00msearch done\n",
      "\u001b[01mcopying static files... \u001b[39;49;00mdone\n",
      "\u001b[01mcopying extra files... \u001b[39;49;00mdone\n",
      "\u001b[01mdumping search index in English (code: en)... \u001b[39;49;00mdone\n",
      "\u001b[01mdumping object inventory... \u001b[39;49;00mdone\n",
      "\u001b[01mbuild succeeded, 18 warnings.\u001b[39;49;00m\n",
      "\n",
      "The HTML pages are in _build/html.\n",
      "\n",
      "Build finished. The HTML pages are in _build/html.\n"
     ]
    }
   ],
   "source": [
    "%cd docs\n",
    "!make html"
   ]
  },
  {
   "cell_type": "markdown",
   "metadata": {},
   "source": [
    "#### New files (autogenerated with `sphinx-quickstart` and `sphinx-apidoc`)\n",
    "    \n",
    "```bash\n",
    "    docs/\n",
    "        conf.py              # Sphinx configuration file\n",
    "        index.rst            # Index page (in markdown format)\n",
    "        make.bat             # Windows build file\n",
    "        Makefile             # Linux/MacOS build file\n",
    "    docs/api\n",
    "        modules.rst          # Module page\n",
    "        monty_hall_game.rst  # Module page\n",
    "``` \n",
    "\n",
    "**Tip**: I use https://readthedocs.org/ to host my documentation. It also automatically generates your documentation when you push to your github repo. "
   ]
  },
  {
   "cell_type": "code",
   "execution_count": 28,
   "metadata": {},
   "outputs": [
    {
     "name": "stdout",
     "output_type": "stream",
     "text": [
      "# .readthedocs.yml\n",
      "# Read the Docs configuration file\n",
      "# See https://docs.readthedocs.io/en/stable/config-file/v2.html for details\n",
      "\n",
      "# Required\n",
      "version: 2\n",
      "\n",
      "# Build documentation in the docs/ directory with Sphinx\n",
      "sphinx:\n",
      "  configuration: docs/conf.py\n",
      "\n",
      "# Optionally set the version of Python and requirements required to build your docs\n",
      "python:\n",
      "  version: 3.10\n",
      "  install:\n",
      "    - requirements: requirements.txt\n",
      "    - method: pip\n",
      "      path: .\n"
     ]
    }
   ],
   "source": [
    "cat monty-hall-game4/readthedocs.yml"
   ]
  },
  {
   "cell_type": "markdown",
   "metadata": {},
   "source": [
    "## Step 4. Add tests\n",
    "\n",
    "We will use `pytest` as testing framework.\n",
    "New files:\n",
    "    \n",
    "```bash\n",
    "monty_hall_game/\n",
    "    tests\n",
    "        test_game_module.py\n",
    "```\n",
    "\n",
    "We can run the test suite with"
   ]
  },
  {
   "cell_type": "markdown",
   "metadata": {},
   "source": [
    "Let's look at the code in more detail (see files in `monty-hall-game4` folder)"
   ]
  },
  {
   "cell_type": "code",
   "execution_count": 29,
   "metadata": {},
   "outputs": [
    {
     "name": "stdout",
     "output_type": "stream",
     "text": [
      "\u001b[1m============================= test session starts ==============================\u001b[0m\n",
      "platform darwin -- Python 3.10.4, pytest-7.1.2, pluggy-1.0.0\n",
      "rootdir: /Users/minrk, configfile: pytest.ini\n",
      "plugins: anyio-3.6.1, xdist-2.5.0, forked-1.4.0, asyncio-0.19.0, timeout-2.1.0, requests-mock-1.10.0, cov-3.0.0\n",
      "asyncio: mode=strict\n",
      "collected 3 items                                                              \u001b[0m\n",
      "\n",
      "tests/test_game_module.py \u001b[32m.\u001b[0m\u001b[32m.\u001b[0m\u001b[32m.\u001b[0m\u001b[32m                                            [100%]\u001b[0m\n",
      "\n",
      "\u001b[32m============================== \u001b[32m\u001b[1m3 passed\u001b[0m\u001b[32m in 0.04s\u001b[0m\u001b[32m ===============================\u001b[0m\n"
     ]
    }
   ],
   "source": [
    "!cd monty-hall-game4 && python -m pytest tests"
   ]
  },
  {
   "cell_type": "markdown",
   "metadata": {},
   "source": [
    "## Continuous integration with GitHub Actions\n",
    "\n",
    "[GitHub Actions docs](https://docs.github.com/actions)\n",
    "\n",
    "**Quick guide to GitHub actions**\n",
    "\n",
    "\n",
    "create `.github/workflows/test.yml` (any `name.yml` will do, you can have several) with steps:\n",
    "\n",
    "1. checkout the repo\n",
    "2. install Python\n",
    "3. install your package and its dependencies\n",
    "4. run the tests\n",
    "\n",
    "```yaml\n",
    "# This is a GitHub workflow defining a set of jobs with a set of steps.\n",
    "# ref: https://docs.github.com/en/free-pro-team@latest/actions/reference/workflow-syntax-for-github-actions\n",
    "#\n",
    "name: Tests\n",
    "\n",
    "on:\n",
    "  pull_request:\n",
    "  push:\n",
    "\n",
    "jobs:\n",
    "  test:\n",
    "    runs-on: ubuntu-22.04\n",
    "\n",
    "    strategy:\n",
    "      matrix:\n",
    "        python:\n",
    "          - \"3.9\"\n",
    "          - \"3.10\"\n",
    "\n",
    "    steps:\n",
    "      # checkout the repository\n",
    "      - uses: actions/checkout@v3\n",
    "\n",
    "      # setup Python\n",
    "      - name: Install Python ${{ matrix.python }}\n",
    "        uses: actions/setup-python@v4\n",
    "        with:\n",
    "          python-version: ${{ matrix.python }}\n",
    "\n",
    "      # preserve pip cache to speed up installation\n",
    "      - name: Cache pip\n",
    "        uses: actions/cache@v3\n",
    "        with:\n",
    "          path: ~/.cache/pip\n",
    "          # Look to see if there is a cache hit for the corresponding requirements file\n",
    "          key: ${{ runner.os }}-pip-${{ hashFiles('*requirements.txt') }}\n",
    "          restore-keys: |\n",
    "            ${{ runner.os }}-pip-\n",
    "\n",
    "      - name: Install Python dependencies\n",
    "        run: |\n",
    "          pip install --upgrade pip\n",
    "          pip install --upgrade -r dev-requirements.txt -r requirements.txt .\n",
    "          pip freeze\n",
    "\n",
    "      - name: Run tests\n",
    "        run: |\n",
    "          pytest -v --color=yes\n",
    "```\n",
    "\n",
    "\n",
    "Check:\n",
    "\n",
    "https://github.com/UiO-IN3110/monty_hall_game/actions\n",
    "\n",
    "\n",
    "Check the build status page to see if your build passes or fails according to the return status of the build command by visiting your GitHub repository and selecting `actions`."
   ]
  },
  {
   "cell_type": "markdown",
   "metadata": {},
   "source": [
    "### Current directory structure\n",
    "\n",
    "```bash\n",
    "monyty_hall_game/\n",
    "    README.md                      # Installation instructions\n",
    "    requirements.txt               # Dependencies\n",
    "    setup.py                       # Setuptools\n",
    "    monty_hall_game/               # Main module\n",
    "        __init__.py  \n",
    "        web.py\n",
    "        cli.py\n",
    "        game_exceptions.py  \n",
    "        monty_hall_game.py\n",
    "        templates/*.html\n",
    "        static/*.{png,jpg}\n",
    "    docs/                          # Sphinx documentation (mostly autogenerated)\n",
    "        conf.py  \n",
    "        index.rst  \n",
    "        Makefile  \n",
    "        modules.rst  \n",
    "        monty_hall_game.rst  \n",
    "    tests                          # tests in pytest format\n",
    "        test_game_module.py\n",
    "    .github/workflows/test.yml     # continuous integration\n",
    "    .gitignore                     \n",
    "```"
   ]
  },
  {
   "cell_type": "markdown",
   "metadata": {},
   "source": [
    "### Deploy your Python library to PyPI\n",
    "\n",
    "Wouldn't it be nice if your users could just type in:\n",
    "\n",
    "```bash\n",
    "pip install monty_hall_game\n",
    "```\n",
    "\n",
    "\n",
    "This is possible by uploading the package to the Python Package Index (PyPI).\n",
    "\n",
    "\n",
    "1. Create a source and wheel distribution with the following command:\n",
    "\n",
    "```bash\n",
    "python -m pip install build\n",
    "python -m build . \n",
    "```\n",
    "\n",
    "2. Upload the distribution to pypi (will ask for the pypi credentials) with:\n",
    "\n",
    "```bash\n",
    "twine upload -r test dist/*\n",
    "```\n",
    "    \n",
    "\n",
    "Result see https://test.pypi.org/project/uio-monty-hall-game/\n"
   ]
  },
  {
   "cell_type": "code",
   "execution_count": 30,
   "metadata": {},
   "outputs": [
    {
     "name": "stdout",
     "output_type": "stream",
     "text": [
      "/Users/minrk/dev/simula/in3110/site/lectures/12-production/from-script-to-project/monty-hall-game4\n",
      "Requirement already satisfied: build in /Users/minrk/conda/lib/python3.10/site-packages (0.7.0)\n",
      "Requirement already satisfied: packaging>=19.0 in /Users/minrk/conda/lib/python3.10/site-packages (from build) (21.3)\n",
      "Requirement already satisfied: tomli>=1.0.0 in /Users/minrk/conda/lib/python3.10/site-packages (from build) (2.0.1)\n",
      "Requirement already satisfied: pep517>=0.9.1 in /Users/minrk/conda/lib/python3.10/site-packages (from build) (0.12.0)\n",
      "Requirement already satisfied: pyparsing!=3.0.5,>=2.0.2 in /Users/minrk/conda/lib/python3.10/site-packages (from packaging>=19.0->build) (3.0.9)\n",
      "\u001b[1m* Creating virtualenv isolated environment...\u001b[0m\n",
      "\u001b[1m* Installing packages in isolated environment... (setuptools)\u001b[0m\n",
      "\u001b[1m* Getting dependencies for sdist...\u001b[0m\n",
      "/private/var/folders/qr/3vxfnp1x2t1fw55dr288mphc0000gn/T/build-env-eo606f8i/lib/python3.10/site-packages/setuptools/config/pyprojecttoml.py:108: _BetaConfiguration: Support for `[tool.setuptools]` in `pyproject.toml` is still *beta*.\n",
      "  warnings.warn(msg, _BetaConfiguration)\n",
      "running egg_info\n",
      "writing uio_monty_hall_game.egg-info/PKG-INFO\n",
      "writing dependency_links to uio_monty_hall_game.egg-info/dependency_links.txt\n",
      "writing entry points to uio_monty_hall_game.egg-info/entry_points.txt\n",
      "writing requirements to uio_monty_hall_game.egg-info/requires.txt\n",
      "writing top-level names to uio_monty_hall_game.egg-info/top_level.txt\n",
      "reading manifest file 'uio_monty_hall_game.egg-info/SOURCES.txt'\n",
      "writing manifest file 'uio_monty_hall_game.egg-info/SOURCES.txt'\n",
      "\u001b[1m* Building sdist...\u001b[0m\n",
      "/private/var/folders/qr/3vxfnp1x2t1fw55dr288mphc0000gn/T/build-env-eo606f8i/lib/python3.10/site-packages/setuptools/config/pyprojecttoml.py:108: _BetaConfiguration: Support for `[tool.setuptools]` in `pyproject.toml` is still *beta*.\n",
      "  warnings.warn(msg, _BetaConfiguration)\n",
      "running sdist\n",
      "running egg_info\n",
      "writing uio_monty_hall_game.egg-info/PKG-INFO\n",
      "writing dependency_links to uio_monty_hall_game.egg-info/dependency_links.txt\n",
      "writing entry points to uio_monty_hall_game.egg-info/entry_points.txt\n",
      "writing requirements to uio_monty_hall_game.egg-info/requires.txt\n",
      "writing top-level names to uio_monty_hall_game.egg-info/top_level.txt\n",
      "reading manifest file 'uio_monty_hall_game.egg-info/SOURCES.txt'\n",
      "writing manifest file 'uio_monty_hall_game.egg-info/SOURCES.txt'\n",
      "running check\n",
      "creating uio-monty-hall-game-2022.11.17\n",
      "creating uio-monty-hall-game-2022.11.17/monty_hall_game\n",
      "creating uio-monty-hall-game-2022.11.17/uio_monty_hall_game.egg-info\n",
      "copying files to uio-monty-hall-game-2022.11.17...\n",
      "copying README.md -> uio-monty-hall-game-2022.11.17\n",
      "copying pyproject.toml -> uio-monty-hall-game-2022.11.17\n",
      "copying monty_hall_game/__init__.py -> uio-monty-hall-game-2022.11.17/monty_hall_game\n",
      "copying monty_hall_game/cli.py -> uio-monty-hall-game-2022.11.17/monty_hall_game\n",
      "copying monty_hall_game/game_exceptions.py -> uio-monty-hall-game-2022.11.17/monty_hall_game\n",
      "copying monty_hall_game/monty_hall_game.py -> uio-monty-hall-game-2022.11.17/monty_hall_game\n",
      "copying monty_hall_game/web.py -> uio-monty-hall-game-2022.11.17/monty_hall_game\n",
      "copying uio_monty_hall_game.egg-info/PKG-INFO -> uio-monty-hall-game-2022.11.17/uio_monty_hall_game.egg-info\n",
      "copying uio_monty_hall_game.egg-info/SOURCES.txt -> uio-monty-hall-game-2022.11.17/uio_monty_hall_game.egg-info\n",
      "copying uio_monty_hall_game.egg-info/dependency_links.txt -> uio-monty-hall-game-2022.11.17/uio_monty_hall_game.egg-info\n",
      "copying uio_monty_hall_game.egg-info/entry_points.txt -> uio-monty-hall-game-2022.11.17/uio_monty_hall_game.egg-info\n",
      "copying uio_monty_hall_game.egg-info/requires.txt -> uio-monty-hall-game-2022.11.17/uio_monty_hall_game.egg-info\n",
      "copying uio_monty_hall_game.egg-info/top_level.txt -> uio-monty-hall-game-2022.11.17/uio_monty_hall_game.egg-info\n",
      "Writing uio-monty-hall-game-2022.11.17/setup.cfg\n",
      "Creating tar archive\n",
      "removing 'uio-monty-hall-game-2022.11.17' (and everything under it)\n",
      "\u001b[1m* Building wheel from sdist\u001b[0m\n",
      "\u001b[1m* Creating virtualenv isolated environment...\u001b[0m\n",
      "\u001b[1m* Installing packages in isolated environment... (setuptools)\u001b[0m\n",
      "\u001b[1m* Getting dependencies for wheel...\u001b[0m\n",
      "/private/var/folders/qr/3vxfnp1x2t1fw55dr288mphc0000gn/T/build-env-wxri3ufi/lib/python3.10/site-packages/setuptools/config/pyprojecttoml.py:108: _BetaConfiguration: Support for `[tool.setuptools]` in `pyproject.toml` is still *beta*.\n",
      "  warnings.warn(msg, _BetaConfiguration)\n",
      "/private/var/folders/qr/3vxfnp1x2t1fw55dr288mphc0000gn/T/build-env-wxri3ufi/lib/python3.10/site-packages/setuptools/config/expand.py:144: UserWarning: File '/private/var/folders/qr/3vxfnp1x2t1fw55dr288mphc0000gn/T/build-via-sdist-mkhrr074/uio-monty-hall-game-2022.11.17/requirements.txt' cannot be found\n",
      "  warnings.warn(f\"File {path!r} cannot be found\")\n",
      "running egg_info\n",
      "writing uio_monty_hall_game.egg-info/PKG-INFO\n",
      "writing dependency_links to uio_monty_hall_game.egg-info/dependency_links.txt\n",
      "writing entry points to uio_monty_hall_game.egg-info/entry_points.txt\n",
      "deleting uio_monty_hall_game.egg-info/requires.txt\n",
      "writing top-level names to uio_monty_hall_game.egg-info/top_level.txt\n",
      "reading manifest file 'uio_monty_hall_game.egg-info/SOURCES.txt'\n",
      "writing manifest file 'uio_monty_hall_game.egg-info/SOURCES.txt'\n",
      "\u001b[1m* Installing packages in isolated environment... (wheel)\u001b[0m\n",
      "\u001b[1m* Building wheel...\u001b[0m\n",
      "/private/var/folders/qr/3vxfnp1x2t1fw55dr288mphc0000gn/T/build-env-wxri3ufi/lib/python3.10/site-packages/setuptools/config/pyprojecttoml.py:108: _BetaConfiguration: Support for `[tool.setuptools]` in `pyproject.toml` is still *beta*.\n",
      "  warnings.warn(msg, _BetaConfiguration)\n",
      "/private/var/folders/qr/3vxfnp1x2t1fw55dr288mphc0000gn/T/build-env-wxri3ufi/lib/python3.10/site-packages/setuptools/config/expand.py:144: UserWarning: File '/private/var/folders/qr/3vxfnp1x2t1fw55dr288mphc0000gn/T/build-via-sdist-mkhrr074/uio-monty-hall-game-2022.11.17/requirements.txt' cannot be found\n",
      "  warnings.warn(f\"File {path!r} cannot be found\")\n",
      "running bdist_wheel\n",
      "running build\n",
      "running build_py\n",
      "creating build\n",
      "creating build/lib\n",
      "creating build/lib/monty_hall_game\n",
      "copying monty_hall_game/web.py -> build/lib/monty_hall_game\n",
      "copying monty_hall_game/__init__.py -> build/lib/monty_hall_game\n",
      "copying monty_hall_game/game_exceptions.py -> build/lib/monty_hall_game\n",
      "copying monty_hall_game/cli.py -> build/lib/monty_hall_game\n",
      "copying monty_hall_game/monty_hall_game.py -> build/lib/monty_hall_game\n",
      "running egg_info\n",
      "writing uio_monty_hall_game.egg-info/PKG-INFO\n",
      "writing dependency_links to uio_monty_hall_game.egg-info/dependency_links.txt\n",
      "writing entry points to uio_monty_hall_game.egg-info/entry_points.txt\n",
      "writing top-level names to uio_monty_hall_game.egg-info/top_level.txt\n",
      "reading manifest file 'uio_monty_hall_game.egg-info/SOURCES.txt'\n",
      "writing manifest file 'uio_monty_hall_game.egg-info/SOURCES.txt'\n",
      "installing to build/bdist.macosx-11.0-arm64/wheel\n",
      "running install\n",
      "running install_lib\n",
      "creating build/bdist.macosx-11.0-arm64\n",
      "creating build/bdist.macosx-11.0-arm64/wheel\n",
      "creating build/bdist.macosx-11.0-arm64/wheel/monty_hall_game\n",
      "copying build/lib/monty_hall_game/web.py -> build/bdist.macosx-11.0-arm64/wheel/monty_hall_game\n",
      "copying build/lib/monty_hall_game/__init__.py -> build/bdist.macosx-11.0-arm64/wheel/monty_hall_game\n",
      "copying build/lib/monty_hall_game/game_exceptions.py -> build/bdist.macosx-11.0-arm64/wheel/monty_hall_game\n",
      "copying build/lib/monty_hall_game/cli.py -> build/bdist.macosx-11.0-arm64/wheel/monty_hall_game\n",
      "copying build/lib/monty_hall_game/monty_hall_game.py -> build/bdist.macosx-11.0-arm64/wheel/monty_hall_game\n",
      "running install_egg_info\n",
      "Copying uio_monty_hall_game.egg-info to build/bdist.macosx-11.0-arm64/wheel/uio_monty_hall_game-2022.11.17-py3.10.egg-info\n",
      "running install_scripts\n",
      "creating build/bdist.macosx-11.0-arm64/wheel/uio_monty_hall_game-2022.11.17.dist-info/WHEEL\n",
      "creating '/Users/minrk/dev/simula/in3110/site/lectures/12-production/from-script-to-project/monty-hall-game4/dist/tmpt5fnhd5w/uio_monty_hall_game-2022.11.17-py3-none-any.whl' and adding 'build/bdist.macosx-11.0-arm64/wheel' to it\n",
      "adding 'monty_hall_game/__init__.py'\n",
      "adding 'monty_hall_game/cli.py'\n",
      "adding 'monty_hall_game/game_exceptions.py'\n",
      "adding 'monty_hall_game/monty_hall_game.py'\n",
      "adding 'monty_hall_game/web.py'\n",
      "adding 'uio_monty_hall_game-2022.11.17.dist-info/METADATA'\n",
      "adding 'uio_monty_hall_game-2022.11.17.dist-info/WHEEL'\n",
      "adding 'uio_monty_hall_game-2022.11.17.dist-info/entry_points.txt'\n",
      "adding 'uio_monty_hall_game-2022.11.17.dist-info/top_level.txt'\n",
      "adding 'uio_monty_hall_game-2022.11.17.dist-info/RECORD'\n",
      "removing build/bdist.macosx-11.0-arm64/wheel\n",
      "\u001b[1m\u001b[92mSuccessfully built \u001b[4muio-monty-hall-game-2022.11.17.tar.gz\u001b[0m\u001b[1m\u001b[92m and \u001b[4muio_monty_hall_game-2022.11.17-py3-none-any.whl\u001b[0m\u001b[1m\u001b[92m\u001b[0m\n",
      "\u001b[0m"
     ]
    }
   ],
   "source": [
    "%cd monty-hall-game4\n",
    "!rm -rf dist\n",
    "!python -m pip install build\n",
    "!python -m build ."
   ]
  },
  {
   "cell_type": "code",
   "execution_count": 31,
   "metadata": {},
   "outputs": [
    {
     "name": "stdout",
     "output_type": "stream",
     "text": [
      "uio-monty-hall-game-2022.11.17.tar.gz\n",
      "uio_monty_hall_game-2022.11.17-py3-none-any.whl\n"
     ]
    }
   ],
   "source": [
    "ls dist"
   ]
  },
  {
   "cell_type": "code",
   "execution_count": 32,
   "metadata": {},
   "outputs": [
    {
     "name": "stdout",
     "output_type": "stream",
     "text": [
      "Uploading distributions to https://test.pypi.org/legacy/\n",
      "Uploading uio_monty_hall_game-2022.11.17-py3-none-any.whl\n",
      "\u001b[2K\u001b[35m100%\u001b[0m \u001b[38;2;114;156;31m━━━━━━━━━━━━━━━━━━━━━━━━━━━━━━━━━━━━━━━━\u001b[0m \u001b[32m8.2/8.2 kB\u001b[0m • \u001b[33m00:00\u001b[0m • \u001b[31m278.3 kB/s\u001b[0m\n",
      "\u001b[?25hUploading uio-monty-hall-game-2022.11.17.tar.gz\n",
      "\u001b[2K\u001b[35m100%\u001b[0m \u001b[38;2;114;156;31m━━━━━━━━━━━━━━━━━━━━━━━━━━━━━━━━━━━━━━━━\u001b[0m \u001b[32m6.8/6.8 kB\u001b[0m • \u001b[33m00:00\u001b[0m • \u001b[31m?\u001b[0m\n",
      "\u001b[?25h\n",
      "\u001b[32mView at:\u001b[0m\n",
      "https://test.pypi.org/project/uio-monty-hall-game/2022.11.17/\n"
     ]
    }
   ],
   "source": [
    "!twine upload -r test dist/*"
   ]
  },
  {
   "cell_type": "markdown",
   "metadata": {},
   "source": [
    "## Final directory layout"
   ]
  },
  {
   "cell_type": "code",
   "execution_count": 33,
   "metadata": {},
   "outputs": [
    {
     "name": "stdout",
     "output_type": "stream",
     "text": [
      "\u001b[01;34m.\u001b[0m\n",
      "├── \u001b[00mREADME.md\u001b[0m\n",
      "├── \u001b[01;34mbuild\u001b[0m\n",
      "│   ├── \u001b[01;34mbdist.macosx-11.0-arm64\u001b[0m\n",
      "│   └── \u001b[01;34mlib\u001b[0m\n",
      "│       └── \u001b[01;34mmonty_hall_game\u001b[0m\n",
      "│           ├── \u001b[00m__init__.py\u001b[0m\n",
      "│           ├── \u001b[00mcli.py\u001b[0m\n",
      "│           ├── \u001b[00mgame_exceptions.py\u001b[0m\n",
      "│           ├── \u001b[00mmonty_hall_game.py\u001b[0m\n",
      "│           └── \u001b[00mweb.py\u001b[0m\n",
      "├── \u001b[00mdev-requirements.txt\u001b[0m\n",
      "├── \u001b[01;34mdist\u001b[0m\n",
      "│   ├── \u001b[01;31muio-monty-hall-game-2022.11.17.tar.gz\u001b[0m\n",
      "│   └── \u001b[00muio_monty_hall_game-2022.11.17-py3-none-any.whl\u001b[0m\n",
      "├── \u001b[01;34mdocs\u001b[0m\n",
      "│   ├── \u001b[00mMakefile\u001b[0m\n",
      "│   ├── \u001b[01;34m_build\u001b[0m\n",
      "│   │   ├── \u001b[01;34mdoctrees\u001b[0m\n",
      "│   │   │   ├── \u001b[01;34mapi\u001b[0m\n",
      "│   │   │   │   ├── \u001b[00mindex.doctree\u001b[0m\n",
      "│   │   │   │   └── \u001b[00mmonty_hall_game.doctree\u001b[0m\n",
      "│   │   │   ├── \u001b[00menvironment.pickle\u001b[0m\n",
      "│   │   │   └── \u001b[00mindex.doctree\u001b[0m\n",
      "│   │   └── \u001b[01;34mhtml\u001b[0m\n",
      "│   │       ├── \u001b[01;34m_modules\u001b[0m\n",
      "│   │       │   ├── \u001b[00mindex.html\u001b[0m\n",
      "│   │       │   └── \u001b[01;34mmonty_hall_game\u001b[0m\n",
      "│   │       │       ├── \u001b[00mgame_exceptions.html\u001b[0m\n",
      "│   │       │       └── \u001b[00mmonty_hall_game.html\u001b[0m\n",
      "│   │       ├── \u001b[01;34m_sources\u001b[0m\n",
      "│   │       │   ├── \u001b[01;34mapi\u001b[0m\n",
      "│   │       │   │   ├── \u001b[00mindex.rst.txt\u001b[0m\n",
      "│   │       │   │   └── \u001b[00mmonty_hall_game.rst.txt\u001b[0m\n",
      "│   │       │   └── \u001b[00mindex.rst.txt\u001b[0m\n",
      "│   │       ├── \u001b[01;34m_static\u001b[0m\n",
      "│   │       │   ├── \u001b[00malabaster.css\u001b[0m\n",
      "│   │       │   ├── \u001b[00mbasic.css\u001b[0m\n",
      "│   │       │   ├── \u001b[00mcustom.css\u001b[0m\n",
      "│   │       │   ├── \u001b[00mdoctools.js\u001b[0m\n",
      "│   │       │   ├── \u001b[00mdocumentation_options.js\u001b[0m\n",
      "│   │       │   ├── \u001b[00mfile.png\u001b[0m\n",
      "│   │       │   ├── \u001b[00mjquery-3.5.1.js\u001b[0m\n",
      "│   │       │   ├── \u001b[00mjquery.js\u001b[0m\n",
      "│   │       │   ├── \u001b[00mlanguage_data.js\u001b[0m\n",
      "│   │       │   ├── \u001b[00mminus.png\u001b[0m\n",
      "│   │       │   ├── \u001b[00mplus.png\u001b[0m\n",
      "│   │       │   ├── \u001b[00mpygments.css\u001b[0m\n",
      "│   │       │   ├── \u001b[00msearchtools.js\u001b[0m\n",
      "│   │       │   ├── \u001b[00munderscore-1.13.1.js\u001b[0m\n",
      "│   │       │   └── \u001b[00munderscore.js\u001b[0m\n",
      "│   │       ├── \u001b[01;34mapi\u001b[0m\n",
      "│   │       │   ├── \u001b[00mindex.html\u001b[0m\n",
      "│   │       │   └── \u001b[00mmonty_hall_game.html\u001b[0m\n",
      "│   │       ├── \u001b[00mgenindex.html\u001b[0m\n",
      "│   │       ├── \u001b[00mindex.html\u001b[0m\n",
      "│   │       ├── \u001b[00mobjects.inv\u001b[0m\n",
      "│   │       ├── \u001b[00mpy-modindex.html\u001b[0m\n",
      "│   │       ├── \u001b[00msearch.html\u001b[0m\n",
      "│   │       └── \u001b[00msearchindex.js\u001b[0m\n",
      "│   ├── \u001b[01;34mapi\u001b[0m\n",
      "│   │   ├── \u001b[00mindex.rst\u001b[0m\n",
      "│   │   └── \u001b[00mmonty_hall_game.rst\u001b[0m\n",
      "│   ├── \u001b[00mconf.py\u001b[0m\n",
      "│   ├── \u001b[00mindex.rst\u001b[0m\n",
      "│   └── \u001b[01;32mmake.bat\u001b[0m\n",
      "├── \u001b[01;34mmonty_hall_game\u001b[0m\n",
      "│   ├── \u001b[00m__init__.py\u001b[0m\n",
      "│   ├── \u001b[01;32mcli.py\u001b[0m\n",
      "│   ├── \u001b[00mgame_exceptions.py\u001b[0m\n",
      "│   ├── \u001b[00mmonty_hall_game.py\u001b[0m\n",
      "│   ├── \u001b[01;34mstatic\u001b[0m\n",
      "│   │   ├── \u001b[01;35mcar.jpg\u001b[0m\n",
      "│   │   ├── \u001b[00mdoor1.png\u001b[0m\n",
      "│   │   ├── \u001b[00mdoor2.png\u001b[0m\n",
      "│   │   ├── \u001b[00mdoor3.png\u001b[0m\n",
      "│   │   ├── \u001b[01;35mgoat.jpg\u001b[0m\n",
      "│   │   ├── \u001b[01;35mgoat_lost.jpg\u001b[0m\n",
      "│   │   └── \u001b[00mwinner.png\u001b[0m\n",
      "│   ├── \u001b[01;34mtemplates\u001b[0m\n",
      "│   │   ├── \u001b[00mfinal.html\u001b[0m\n",
      "│   │   ├── \u001b[00mlayout7.html\u001b[0m\n",
      "│   │   ├── \u001b[00mreselect.html\u001b[0m\n",
      "│   │   └── \u001b[00mselect.html\u001b[0m\n",
      "│   └── \u001b[01;32mweb.py\u001b[0m\n",
      "├── \u001b[00mpyproject.toml\u001b[0m\n",
      "├── \u001b[00mreadthedocs.yml\u001b[0m\n",
      "├── \u001b[00mrequirements.txt\u001b[0m\n",
      "├── \u001b[00mruntime.txt\u001b[0m\n",
      "├── \u001b[01;34mtests\u001b[0m\n",
      "│   └── \u001b[00mtest_game_module.py\u001b[0m\n",
      "└── \u001b[01;34muio_monty_hall_game.egg-info\u001b[0m\n",
      "    ├── \u001b[00mPKG-INFO\u001b[0m\n",
      "    ├── \u001b[00mSOURCES.txt\u001b[0m\n",
      "    ├── \u001b[00mdependency_links.txt\u001b[0m\n",
      "    ├── \u001b[00mentry_points.txt\u001b[0m\n",
      "    ├── \u001b[00mrequires.txt\u001b[0m\n",
      "    └── \u001b[00mtop_level.txt\u001b[0m\n",
      "\n",
      "22 directories, 75 files\n"
     ]
    }
   ],
   "source": [
    "!tree -I __pycache__ ."
   ]
  },
  {
   "cell_type": "markdown",
   "metadata": {},
   "source": [
    "```bash\n",
    "monyty_hall_game/\n",
    "    README.md                      # Installation instructions\n",
    "    requirements.txt               # Dependencies\n",
    "    setup.py                       # Setuptools\n",
    "    monty_hall_game/               # Our package\n",
    "        __init__.py  \n",
    "        game_exceptions.py  \n",
    "        monty_hall_game.py    \n",
    "    \n",
    "    bin/                           # Scripts \n",
    "        play_monty_hall_cli.py  \n",
    "        play_monty_hall_web.py  \n",
    "        templates/*.html\n",
    "    docs/                          # Sphinx documentation (mostly autogenerated)\n",
    "        conf.py  \n",
    "        index.rst  \n",
    "        Makefile  \n",
    "        modules.rst  \n",
    "        monty_hall_game.rst  \n",
    "    tests                          # tests in pytest format\n",
    "        test_game_module.py\n",
    "    .github/workflows/test.yml     # continuous integration\n",
    "    .gitignore                     \n",
    "```"
   ]
  },
  {
   "cell_type": "markdown",
   "metadata": {},
   "source": [
    "\n",
    "# Summary of today's topics\n",
    "\n",
    "* **Installation**\n",
    "    * requirements.txt\n",
    "    * Package + setup.py \n",
    "    * README.md \n",
    "* **Testing**\n",
    "    * py.test\n",
    "    * Continuous integration (with GitHub)\n",
    "* **Documentation**\n",
    "    * Sphinx\n",
    "    * ReadTheDocs\n",
    "* **Deployment / Publishing**\n",
    "    * Deployment of Python packages with PyPI\n"
   ]
  }
 ],
 "metadata": {
  "kernelspec": {
   "display_name": "Python 3 (ipykernel)",
   "language": "python",
   "name": "python3"
  },
  "language_info": {
   "codemirror_mode": {
    "name": "ipython",
    "version": 3
   },
   "file_extension": ".py",
   "mimetype": "text/x-python",
   "name": "python",
   "nbconvert_exporter": "python",
   "pygments_lexer": "ipython3",
   "version": "3.10.4"
  },
  "nteract": {
   "version": "0.26.0"
  },
  "widgets": {
   "application/vnd.jupyter.widget-state+json": {
    "state": {},
    "version_major": 2,
    "version_minor": 0
   }
  }
 },
 "nbformat": 4,
 "nbformat_minor": 4
}
