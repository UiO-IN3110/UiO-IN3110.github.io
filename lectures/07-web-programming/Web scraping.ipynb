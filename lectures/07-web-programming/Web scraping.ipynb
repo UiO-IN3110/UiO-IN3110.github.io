{
 "cells": [
  {
   "cell_type": "markdown",
   "metadata": {},
   "source": [
    "# Installation\n",
    "\n",
    "With conda, you can install the required dependencies with:\n",
    "\n",
    "```bash\n",
    "conda install beautifulsoup4 requests\n",
    "```\n"
   ]
  },
  {
   "cell_type": "markdown",
   "metadata": {},
   "source": [
    "# Basic usage of BeautifulSoup"
   ]
  },
  {
   "cell_type": "markdown",
   "metadata": {},
   "source": [
    "First, we import the `BeatifulSoup` class:"
   ]
  },
  {
   "cell_type": "code",
   "execution_count": 1,
   "metadata": {},
   "outputs": [],
   "source": [
    "from bs4 import BeautifulSoup"
   ]
  },
  {
   "cell_type": "markdown",
   "metadata": {},
   "source": [
    "We load the html source file from disk and pass the source the the BeautifulSoup constructor."
   ]
  },
  {
   "cell_type": "code",
   "execution_count": 11,
   "metadata": {},
   "outputs": [
    {
     "name": "stdout",
     "output_type": "stream",
     "text": [
      "<!DOCTYPE html>\n",
      "\n",
      "<html>\n",
      "<body>\n",
      "<h2>An Unordered HTML List</h2>\n",
      "<ul id=\"unordered_list\" style=\"color:#069\">\n",
      "<li>\n",
      "      Coffee\n",
      "  </li>\n",
      "<li>\n",
      "      Tea\n",
      "  </li>\n",
      "<li>\n",
      "      Milk\n",
      "  </li>\n",
      "</ul>\n",
      "<h2>An Ordered HTML List</h2>\n",
      "<ol id=\"ordered_list\" style=\"color:#069\">\n",
      "<li>Coffee</li>\n",
      "<li>Tea</li>\n",
      "<li>Milk</li>\n",
      "</ol>\n",
      "</body>\n",
      "</html>\n",
      "\n"
     ]
    }
   ],
   "source": [
    "with open(\"list.html\") as f:\n",
    "    document = BeautifulSoup(f, \"html.parser\")\n",
    "print(document)"
   ]
  },
  {
   "cell_type": "markdown",
   "metadata": {},
   "source": [
    "### Finding tags by name"
   ]
  },
  {
   "cell_type": "markdown",
   "metadata": {},
   "source": [
    "The document now contains the full html document. We can find the first occuring tag with a specific name with the `find` function. Let's find the first un-ordered list tag:"
   ]
  },
  {
   "cell_type": "code",
   "execution_count": 12,
   "metadata": {},
   "outputs": [],
   "source": [
    "ulist = document.find(\"ul\")"
   ]
  },
  {
   "cell_type": "markdown",
   "metadata": {},
   "source": [
    "The result contains all tags contained in the matched tag:"
   ]
  },
  {
   "cell_type": "code",
   "execution_count": 13,
   "metadata": {},
   "outputs": [
    {
     "data": {
      "text/plain": [
       "<ul id=\"unordered_list\" style=\"color:#069\">\n",
       "<li>\n",
       "      Coffee\n",
       "  </li>\n",
       "<li>\n",
       "      Tea\n",
       "  </li>\n",
       "<li>\n",
       "      Milk\n",
       "  </li>\n",
       "</ul>"
      ]
     },
     "execution_count": 13,
     "metadata": {},
     "output_type": "execute_result"
    }
   ],
   "source": [
    "ulist"
   ]
  },
  {
   "cell_type": "markdown",
   "metadata": {},
   "source": [
    "The `find_all` function returns **all** tags that match the given tag name. We can use it to get a list of all list items:"
   ]
  },
  {
   "cell_type": "code",
   "execution_count": 14,
   "metadata": {},
   "outputs": [
    {
     "data": {
      "text/plain": [
       "[<li>\n",
       "       Coffee\n",
       "   </li>,\n",
       " <li>\n",
       "       Tea\n",
       "   </li>,\n",
       " <li>\n",
       "       Milk\n",
       "   </li>]"
      ]
     },
     "execution_count": 14,
     "metadata": {},
     "output_type": "execute_result"
    }
   ],
   "source": [
    "items = ulist.find_all(\"li\")\n",
    "items"
   ]
  },
  {
   "cell_type": "markdown",
   "metadata": {},
   "source": [
    "Finally, we can loop over all items and extract their contant with the `get_text` function:"
   ]
  },
  {
   "cell_type": "code",
   "execution_count": 15,
   "metadata": {
    "scrolled": true
   },
   "outputs": [
    {
     "name": "stdout",
     "output_type": "stream",
     "text": [
      "'\\n      Coffee\\n  '\n",
      "'\\n      Tea\\n  '\n",
      "'\\n      Milk\\n  '\n"
     ]
    }
   ],
   "source": [
    "for item in items:\n",
    "    print(repr(item.get_text()))"
   ]
  },
  {
   "cell_type": "markdown",
   "metadata": {},
   "source": [
    "Because whitespace is not meaningful in HTML,\n",
    "it is often useful to strip it when you are getting the content of a tag.\n",
    "You can do this with `strip=True`"
   ]
  },
  {
   "cell_type": "code",
   "execution_count": 16,
   "metadata": {},
   "outputs": [
    {
     "name": "stdout",
     "output_type": "stream",
     "text": [
      "'Coffee'\n",
      "'Tea'\n",
      "'Milk'\n"
     ]
    }
   ],
   "source": [
    "for item in items:\n",
    "    print(repr(item.get_text(strip=True)))"
   ]
  },
  {
   "cell_type": "markdown",
   "metadata": {},
   "source": [
    "Note that `find_all` is **recursive** by default. This means that we could call it the on the full `document` to get the items\n",
    "of both the ordered and un-ordered lists:"
   ]
  },
  {
   "cell_type": "code",
   "execution_count": 17,
   "metadata": {},
   "outputs": [
    {
     "data": {
      "text/plain": [
       "[]"
      ]
     },
     "execution_count": 17,
     "metadata": {},
     "output_type": "execute_result"
    }
   ],
   "source": [
    "document.find_all(\"li\", recursive=False)"
   ]
  },
  {
   "cell_type": "markdown",
   "metadata": {},
   "source": [
    "A recursive search finds all `li` tags anywhere."
   ]
  },
  {
   "cell_type": "code",
   "execution_count": 18,
   "metadata": {},
   "outputs": [
    {
     "data": {
      "text/plain": [
       "[<li>\n",
       "       Coffee\n",
       "   </li>,\n",
       " <li>\n",
       "       Tea\n",
       "   </li>,\n",
       " <li>\n",
       "       Milk\n",
       "   </li>,\n",
       " <li>Coffee</li>,\n",
       " <li>Tea</li>,\n",
       " <li>Milk</li>]"
      ]
     },
     "execution_count": 18,
     "metadata": {},
     "output_type": "execute_result"
    }
   ],
   "source": [
    "document.find_all(\"li\")"
   ]
  },
  {
   "cell_type": "markdown",
   "metadata": {},
   "source": [
    "### Finding tags by attributes"
   ]
  },
  {
   "cell_type": "markdown",
   "metadata": {},
   "source": [
    "Sometimes the easiest way to find a tag is by its attribute name. In our examples, both lists have an `id` attribute that uniquely identifies the tables. We can also use the `find*` methods to search for attributes:\n"
   ]
  },
  {
   "cell_type": "code",
   "execution_count": 19,
   "metadata": {},
   "outputs": [
    {
     "data": {
      "text/plain": [
       "<ul id=\"unordered_list\" style=\"color:#069\">\n",
       "<li>\n",
       "      Coffee\n",
       "  </li>\n",
       "<li>\n",
       "      Tea\n",
       "  </li>\n",
       "<li>\n",
       "      Milk\n",
       "  </li>\n",
       "</ul>"
      ]
     },
     "execution_count": 19,
     "metadata": {},
     "output_type": "execute_result"
    }
   ],
   "source": [
    "document.find(attrs={\"id\": \"unordered_list\"})"
   ]
  },
  {
   "cell_type": "markdown",
   "metadata": {},
   "source": [
    "### Accessing attributes"
   ]
  },
  {
   "cell_type": "markdown",
   "metadata": {},
   "source": [
    "The `ul` tag also contains a `style` attribute. Any bs4 tag behaves like a dictionary with attribute names as keys and attribute values as values:"
   ]
  },
  {
   "cell_type": "code",
   "execution_count": 20,
   "metadata": {},
   "outputs": [
    {
     "data": {
      "text/plain": [
       "{'id': 'unordered_list', 'style': 'color:#069'}"
      ]
     },
     "execution_count": 20,
     "metadata": {},
     "output_type": "execute_result"
    }
   ],
   "source": [
    "ulist.attrs"
   ]
  },
  {
   "cell_type": "code",
   "execution_count": 21,
   "metadata": {},
   "outputs": [
    {
     "data": {
      "text/plain": [
       "'color:#069'"
      ]
     },
     "execution_count": 21,
     "metadata": {},
     "output_type": "execute_result"
    }
   ],
   "source": [
    "ulist[\"style\"]"
   ]
  },
  {
   "cell_type": "markdown",
   "metadata": {},
   "source": [
    "# Downloading a table from Wikipedia\n",
    "\n",
    "We aim to get a list of countries sorted by their population size:\n",
    "https://en.wikipedia.org/wiki/List_of_countries_and_dependencies_by_population"
   ]
  },
  {
   "cell_type": "markdown",
   "metadata": {},
   "source": [
    "First, let's import the required modules:"
   ]
  },
  {
   "cell_type": "code",
   "execution_count": 22,
   "metadata": {},
   "outputs": [],
   "source": [
    "import requests\n",
    "from bs4 import BeautifulSoup\n",
    "import re\n",
    "import dateutil"
   ]
  },
  {
   "cell_type": "markdown",
   "metadata": {},
   "source": [
    "This time, we load the html source directly from a website using the requests module:"
   ]
  },
  {
   "cell_type": "code",
   "execution_count": 26,
   "metadata": {},
   "outputs": [],
   "source": [
    "r = requests.get(\"https://en.wikipedia.org/wiki/List_of_countries_and_dependencies_by_population\")"
   ]
  },
  {
   "cell_type": "markdown",
   "metadata": {},
   "source": [
    "The web server returns a status code to indicate if the request was (un-)succesfully.\n",
    "We use that status-code to check if the page was succesfully loaded:"
   ]
  },
  {
   "cell_type": "code",
   "execution_count": 27,
   "metadata": {},
   "outputs": [],
   "source": [
    "assert r.status_code == 200"
   ]
  },
  {
   "cell_type": "markdown",
   "metadata": {},
   "source": [
    "Next, we extract the html source and initiated BeautifulSoup:"
   ]
  },
  {
   "cell_type": "code",
   "execution_count": 29,
   "metadata": {},
   "outputs": [],
   "source": [
    "html = result.text\n",
    "document = BeautifulSoup(html, \"html.parser\")"
   ]
  },
  {
   "cell_type": "markdown",
   "metadata": {},
   "source": [
    "by looking at the document, we can see that we are interested in first table. So we use `find`:"
   ]
  },
  {
   "cell_type": "code",
   "execution_count": 30,
   "metadata": {},
   "outputs": [],
   "source": [
    "table = document.find(\"table\")"
   ]
  },
  {
   "cell_type": "markdown",
   "metadata": {},
   "source": [
    "If you are not familiar with html table, read this example first: https://www.w3schools.com/html/tryit.asp?filename=tryhtml_table_intro"
   ]
  },
  {
   "cell_type": "code",
   "execution_count": 32,
   "metadata": {},
   "outputs": [
    {
     "name": "stdout",
     "output_type": "stream",
     "text": [
      "<table class=\"wikitable sortable\">\n",
      "<tbody><tr>\n",
      "<th>Rank</th>\n",
      "<th><a href=\"/wiki/List_of_sovereign_states\" title=\"List of sovereign states\">Country</a> / <a href=\"/wiki/Dependent_territory\" title=\"Dependent territory\">Dependency</a></th>\n",
      "<th>Population</th>\n",
      "<th>Percentage of the world</th>\n",
      "<th>Date</th>\n",
      "<th><span class=\"nowrap\">Source (official or from</span> the <a href=\"/wiki/United_Nations\" title=\"United Nations\">United Nations</a>)</th>\n",
      "<th>Notes\n",
      "</th></tr>\n",
      "<tr>\n",
      "<td style=\"text-align:center\"><b>–</b>\n",
      "</td>\n",
      "<td><b>World</b>\n",
      "</td>\n",
      "<td style=\"text-align:center\"><b> 7,984,158,000</b></td>\n",
      "<td style=\"text-align:right\"><b>100%</b></td>\n",
      "<td><b><span data-sort-value=\"000000002022-10-12-0000\" style=\"white-space:nowrap\">12 Oct 2022</span></b></td>\n",
      "<td style=\"text-align:left\"><b>UN projection<sup class=\"reference\" id=\"cite_ref-unpop_4-0\"><a href=\"#cite_note-unpop-4\">[3]</a></sup></b></td>\n",
      "<td>\n",
      "</td></tr>\n",
      "<tr>\n",
      "<th>1\n",
      "</th>\n",
      "<td scope=\"row\" style=\"text-align:left\"><span class=\"flagicon\"><img alt=\"\" class=\"thumbborder\" da\n"
     ]
    }
   ],
   "source": [
    "print(str(table)[:1024])"
   ]
  },
  {
   "cell_type": "markdown",
   "metadata": {},
   "source": [
    "At this point, it is a good idea to programatically check that the table contains the correct header:"
   ]
  },
  {
   "cell_type": "code",
   "execution_count": 33,
   "metadata": {},
   "outputs": [],
   "source": [
    "assert table.find(\"th\").get_text() == \"Rank\""
   ]
  },
  {
   "cell_type": "code",
   "execution_count": 34,
   "metadata": {},
   "outputs": [],
   "source": [
    "rows = table.find_all(\"tr\")  # Note: this works because find_all is resursive by default"
   ]
  },
  {
   "cell_type": "code",
   "execution_count": 45,
   "metadata": {},
   "outputs": [
    {
     "name": "stdout",
     "output_type": "stream",
     "text": [
      "1, China, 1.41e+09, 17.7%, 2021-12-31, Official estimate[4]\n",
      "2, India, 1.38e+09, 17.2%, 2022-03-01, Official projection[5]\n",
      "3, United States, 3.32e+08, 4.16%, 2021-07-01, Official estimate[6]\n",
      "4, Indonesia, 2.76e+08, 3.45%, 2022-07-01, Official estimate[7]\n",
      "5, Pakistan, 2.29e+08, 2.87%, 2022-07-01, UN projection[3]\n",
      "6, Nigeria, 2.17e+08, 2.71%, 2022-07-01, UN projection[3]\n",
      "7, Brazil, 2.15e+08, 2.7%, 2022-10-12, National population clock[8]\n",
      "8, Bangladesh, 1.65e+08, 2.07%, 2022-06-15, 2022 preliminary census result[9]\n",
      "9, Russia, 1.45e+08, 1.82%, 2022-06-01, Official estimate[10]\n",
      "10, Mexico, 1.29e+08, 1.61%, 2022-06-30, National quarterly estimate[11]\n",
      "11, Japan, 1.26e+08, 1.58%, 2022-01-01, Official estimate[12]\n",
      "12, Philippines, 1.13e+08, 1.41%, 2022-10-12, National population clock[13]\n",
      "13, Ethiopia, 1.05e+08, 1.32%, 2022-07-01, National annual projection[14]\n",
      "14, Egypt, 1.04e+08, 1.3%, 2022-10-12, National population clock[15]\n",
      "15, Vietnam, 9.85e+07, 1.23%, 2021-07-01, Official estimate[16]\n",
      "16, DR Congo, 9.52e+07, 1.19%, 2022-07-01, UN projection[3]\n",
      "17, Iran, 8.58e+07, 1.08%, 2022-10-12, National population clock[17]\n",
      "18, Turkey, 8.47e+07, 1.06%, 2021-12-31, Official estimate[18]\n",
      "19, Germany, 8.41e+07, 1.05%, 2022-06-30, National quarterly estimate[19]\n",
      "20, France, 6.79e+07, 0.851%, 2022-09-01, Monthly national estimate[20]\n",
      "21, United Kingdom, 6.71e+07, 0.84%, 2020-06-30, Official estimate[22]\n",
      "22, Thailand, 6.68e+07, 0.837%, 2022-10-12, National population clock[24]\n",
      "23, Tanzania, 6.13e+07, 0.768%, 2022-07-01, Official projection[25]\n",
      "24, South Africa, 6.06e+07, 0.759%, 2022-07-01, Official estimate[26]\n",
      "25, Italy, 5.89e+07, 0.737%, 2022-07-31, Monthly national estimate[27]\n",
      "26, Myanmar, 5.53e+07, 0.693%, 2021-07-01, National annual projection[28]\n",
      "27, South Korea, 5.16e+07, 0.647%, 2021-12-31, Official estimate[29]\n",
      "28, Colombia, 5.10e+07, 0.639%, 2021-06-30, Official projection[30]\n",
      "29, Kenya, 4.76e+07, 0.596%, 2019-08-31, 2019 census result[31]\n",
      "30, Spain, 4.74e+07, 0.594%, 2022-01-01, Official estimate[32]\n",
      "31, Argentina, 4.73e+07, 0.593%, 2022-05-18, 2022 census preliminary result[33]\n",
      "32, Algeria, 4.54e+07, 0.569%, 2022-01-01, Official estimate[34]\n",
      "33, Sudan, 4.48e+07, 0.561%, 2022-10-12, National population clock[35]\n",
      "34, Uganda, 4.29e+07, 0.537%, 2021-07-01, Official projection[36]\n",
      "35, Iraq, 4.12e+07, 0.516%, 2021-07-01, Official estimate[37]\n",
      "36, Ukraine, 4.11e+07, 0.515%, 2022-02-01, National monthly estimate[38]\n",
      "37, Canada, 3.90e+07, 0.488%, 2022-10-12, National population clock[39]\n",
      "38, Poland, 3.80e+07, 0.476%, 2022-07-31, National monthly estimate[40]\n",
      "39, Morocco, 3.67e+07, 0.46%, 2022-10-12, National population clock[41]\n",
      "40, Uzbekistan, 3.58e+07, 0.449%, 2022-10-12, National population clock[42]\n",
      "41, Saudi Arabia, 3.50e+07, 0.439%, 2020-07-01, Official estimate[43]\n",
      "42, Peru, 3.34e+07, 0.418%, 2022-07-01, National annual projection[44]\n",
      "43, Angola, 3.31e+07, 0.414%, 2022-06-30, National annual projection[45]\n",
      "44, Afghanistan, 3.29e+07, 0.412%, 2020-07-01, Official estimate[46]\n",
      "45, Malaysia, 3.27e+07, 0.41%, 2022-10-12, National population clock[47]\n",
      "46, Mozambique, 3.16e+07, 0.396%, 2022-07-01, National annual projection[48]\n",
      "47, Yemen, 3.12e+07, 0.39%, 2022-07-01, UN projection[3]\n",
      "48, Ghana, 3.08e+07, 0.386%, 2021-06-27, 2021 census results[49]\n",
      "49, Ivory Coast, 2.94e+07, 0.368%, 2021-12-14, 2021 census result[50]\n",
      "50, Venezuela, 2.93e+07, 0.367%, 2022-07-01, UN projection[3]\n",
      "51, Nepal, 2.92e+07, 0.366%, 2021-11-11, 2021 census result[51]\n",
      "52, Madagascar, 2.69e+07, 0.337%, 2021-07-01, National annual projection[52]\n",
      "53, Australia, 2.60e+07, 0.325%, 2022-10-12, National population clock[53]\n",
      "54, North Korea, 2.57e+07, 0.321%, 2021-07-01, National annual projection[54]\n",
      "55, Cameroon, 2.43e+07, 0.305%, 2019-07-01, National annual projection[55]\n",
      "56, Niger, 2.41e+07, 0.302%, 2021-07-01, National annual projection[56]\n",
      "–, Taiwan, 2.34e+07, 0.293%, 2021-12-31, Official estimate[57]\n",
      "57, Sri Lanka, 2.22e+07, 0.277%, 2021-07-01, Official estimate[58]\n",
      "58, Burkina Faso, 2.15e+07, 0.269%, 2020-07-01, National annual projection[59]\n",
      "59, Malawi, 2.15e+07, 0.269%, 2022-07-01, National annual projection[60]\n",
      "60, Mali, 2.15e+07, 0.269%, 2022-07-01, UN projection[3]\n",
      "61, Chile, 1.97e+07, 0.246%, 2021-06-30, National annual projection[61]\n",
      "62, Kazakhstan, 1.93e+07, 0.242%, 2022-10-12, National population clock[62]\n",
      "63, Romania, 1.90e+07, 0.238%, 2022-01-01, Official estimate[63]\n",
      "64, Zambia, 1.84e+07, 0.23%, 2021-07-01, National annual projection[64]\n",
      "65, Syria, 1.83e+07, 0.229%, 2021-07-01, UN projection[3]\n",
      "66, Ecuador, 1.81e+07, 0.226%, 2022-10-12, National population clock[65]\n",
      "67, Netherlands, 1.78e+07, 0.222%, 2022-10-12, National population clock[66]\n",
      "68, Senegal, 1.72e+07, 0.216%, 2021-07-01, National annual projection[67]\n",
      "69, Guatemala, 1.71e+07, 0.214%, 2021-07-01, National annual projection[68]\n",
      "70, Chad, 1.68e+07, 0.211%, 2021-07-01, National annual projection[69]\n",
      "71, Somalia, 1.64e+07, 0.205%, 2021-07-01, UN projection[3]\n",
      "72, Cambodia, 1.56e+07, 0.195%, 2019-03-03, 2019 census result[70]\n",
      "73, Zimbabwe, 1.52e+07, 0.19%, 2022-04-20, 2022 preliminary census result[71]\n",
      "74, South Sudan, 1.32e+07, 0.166%, 2020-07-01, National annual projection[72]\n",
      "75, Rwanda, 1.30e+07, 0.162%, 2021-07-01, National annual projection[73]\n",
      "76, Guinea, 1.29e+07, 0.162%, 2021-07-01, National annual projection[74]\n",
      "77, Burundi, 1.26e+07, 0.157%, 2021-07-01, National annual projection[75]\n",
      "78, Benin, 1.25e+07, 0.157%, 2021-07-01, National annual projection[76]\n",
      "79, Tunisia, 1.18e+07, 0.148%, 2022-01-01, National semi-annual estimate[77]\n",
      "80, Bolivia, 1.18e+07, 0.148%, 2021-07-01, National annual projection[78]\n",
      "81, Haiti, 1.17e+07, 0.147%, 2020-07-01, National annual projection[79]\n",
      "82, Belgium, 1.17e+07, 0.146%, 2022-05-01, Official estimate[80]\n",
      "83, Jordan, 1.13e+07, 0.142%, 2022-10-12, National population clock[81]\n",
      "84, Cuba, 1.11e+07, 0.139%, 2021-12-31, Official estimate[82]\n",
      "85, Dominican Republic, 1.05e+07, 0.132%, 2021-07-01, National annual projection[83]\n",
      "86, Czech Republic, 1.05e+07, 0.132%, 2022-06-30, 2022 estimate[84]\n",
      "87, Sweden, 1.05e+07, 0.132%, 2022-08-31, Monthly national estimate[85]\n",
      "88, Greece, 1.04e+07, 0.131%, 2021-11-23, 2021 census preliminary results[86]\n",
      "89, Portugal, 1.03e+07, 0.13%, 2021-04-19, 2021 census preliminary results[87]\n",
      "90, Azerbaijan, 1.02e+07, 0.128%, 2022-07-01, Monthly national estimate[88]\n",
      "91, Hungary, 9.69e+06, 0.121%, 2022-01-01, Official estimate[89]\n",
      "92, Israel, 9.59e+06, 0.12%, 2022-10-12, National population clock[90]\n",
      "93, Honduras, 9.55e+06, 0.12%, 2021-07-01, National annual projection[91]\n",
      "94, Tajikistan, 9.51e+06, 0.119%, 2021-01-01, Official estimate[92]\n",
      "95, United Arab Emirates, 9.28e+06, 0.116%, 2020-12-31, Official estimate[93]\n",
      "96, Belarus, 9.26e+06, 0.116%, 2022-01-01, Official estimate[94]\n",
      "97, Papua New Guinea, 9.12e+06, 0.114%, 2021-07-01, National annual projection[95]\n",
      "98, Austria, 9.06e+06, 0.113%, 2022-07-01, National quarterly estimate[96]\n",
      "99, Switzerland, 8.77e+06, 0.11%, 2022-06-30, National quarterly estimate[97]\n",
      "100, Sierra Leone, 8.30e+06, 0.104%, 2021-07-01, National annual projection[98]\n",
      "101, Togo, 7.89e+06, 0.0988%, 2021-07-01, National annual projection[99]\n",
      "–, Hong Kong(China), 7.40e+06, 0.0927%, 2021-12-31, National semi-annual estimate[100]\n",
      "102, Paraguay, 7.35e+06, 0.0921%, 2021-07-01, National annual projection[101]\n",
      "103, Laos, 7.34e+06, 0.0919%, 2021-07-01, National annual projection[102]\n",
      "104, Libya, 7.05e+06, 0.0884%, 2022-07-01, UN projection[3]\n",
      "105, El Salvador, 6.83e+06, 0.0855%, 2021-07-01, National annual projection[103]\n",
      "106, Kyrgyzstan, 6.80e+06, 0.0852%, 2022-07-01, Monthly national estimate[104]\n",
      "107, Serbia, 6.80e+06, 0.0851%, 2022-01-01, Official estimate[105]\n",
      "108, Lebanon, 6.77e+06, 0.0848%, 2021-07-01, UN projection[3]\n",
      "109, Nicaragua, 6.60e+06, 0.0826%, 2020-06-30, Official estimate[106]\n",
      "110, Bulgaria, 6.52e+06, 0.0817%, 2021-09-07, Official estimate[107]\n",
      "111, Turkmenistan, 6.12e+06, 0.0766%, 2021-07-01, UN projection[3]\n",
      "112, Denmark, 5.91e+06, 0.074%, 2022-07-01, National quarterly estimate[108]\n",
      "113, Congo, 5.66e+06, 0.0709%, 2021-07-01, UN projection[3]\n",
      "114, Central African Republic, 5.63e+06, 0.0706%, 2020-07-01, National annual projection[109]\n",
      "115, Finland, 5.52e+06, 0.0692%, 2022-06-30, Monthly national estimate[110]\n",
      "116, Singapore, 5.45e+06, 0.0683%, 2021-06-30, Official estimate[111]\n",
      "117, Norway, 5.46e+06, 0.0683%, 2022-06-30, National quarterly estimate[112]\n",
      "118, Slovakia, 5.43e+06, 0.0681%, 2021-12-31, National quarterly estimate[113]\n",
      "119, Palestine, 5.23e+06, 0.0655%, 2021-07-01, National annual projection[114]\n",
      "120, Costa Rica, 5.16e+06, 0.0647%, 2021-06-30, National annual projection[115]\n",
      "121, New Zealand, 5.13e+06, 0.0643%, 2022-10-12, National population clock[116]\n",
      "122, Ireland, 5.12e+06, 0.0642%, 2022-04-03, 2022 census preliminary results[117]\n",
      "123, Kuwait, 4.67e+06, 0.0585%, 2020-12-31, Official estimate[118]\n",
      "124, Liberia, 4.66e+06, 0.0584%, 2021-07-01, National annual projection[119]\n",
      "125, Oman, 4.53e+06, 0.0567%, 2021-12-31, Monthly national estimate[120]\n",
      "126, Panama, 4.28e+06, 0.0536%, 2020-07-01, National annual projection[121]\n",
      "127, Mauritania, 4.27e+06, 0.0535%, 2021-07-01, National annual projection[122]\n",
      "128, Croatia, 3.89e+06, 0.0487%, 2021-08-31, 2021 census preliminary results[123]\n",
      "129, Georgia, 3.69e+06, 0.0462%, 2022-01-01, Official estimate[124]\n",
      "130, Eritrea, 3.60e+06, 0.0451%, 2021-07-01, UN projection[3]\n",
      "131, Uruguay, 3.55e+06, 0.0445%, 2021-06-30, National annual projection[125]\n",
      "132, Mongolia, 3.46e+06, 0.0434%, 2022-10-12, National population clock[126]\n",
      "133, Bosnia and Herzegovina, 3.32e+06, 0.0416%, 2020-07-01, Official estimate[127][128]\n",
      "–, Puerto Rico(United States), 3.29e+06, 0.0412%, 2020-04-01, 2020 census result[129]\n",
      "134, Armenia, 2.96e+06, 0.0371%, 2021-03-31, National quarterly estimate[130]\n",
      "135, Lithuania, 2.83e+06, 0.0354%, 2022-07-01, Monthly national estimate[131]\n",
      "136, Albania, 2.83e+06, 0.0354%, 2021-01-01, Official estimate[132]\n",
      "137, Qatar, 2.80e+06, 0.0351%, 2019-07-31, Official estimate[133]\n",
      "138, Jamaica, 2.73e+06, 0.0342%, 2019-12-31, National semi-annual estimate[134]\n",
      "139, Moldova, 2.60e+06, 0.0325%, 2021-01-01, Official estimate[135]\n",
      "140, Namibia, 2.55e+06, 0.0319%, 2021-07-01, National annual projection[136]\n",
      "141, Gambia, 2.49e+06, 0.0311%, 2021-07-01, UN projection[3]\n",
      "142, Botswana, 2.41e+06, 0.0302%, 2021-07-01, National annual projection[137]\n",
      "143, Gabon, 2.23e+06, 0.028%, 2021-07-01, National annual projection[138]\n",
      "144, Lesotho, 2.16e+06, 0.027%, 2021-07-01, UN projection[3]\n",
      "145, Slovenia, 2.11e+06, 0.0264%, 2021-01-01, 2021 census result[139]\n",
      "146, Latvia, 1.89e+06, 0.0237%, 2022-06-01, Monthly national estimate[140]\n",
      "147, North Macedonia, 1.83e+06, 0.023%, 2021-11-01, 2021 census result[141]\n",
      "–, Kosovo, 1.80e+06, 0.0225%, 2020-12-31, Official estimate[142]\n",
      "148, Guinea, 1.65e+06, 0.0206%, 2021-07-01, National annual projection[143]\n",
      "149, Equatorial Guinea, 1.51e+06, 0.0189%, 2021-07-01, Official estimate[144]\n",
      "150, Bahrain, 1.50e+06, 0.0188%, 2020-03-17, 2020 census result[145]\n",
      "151, Trinidad and Tobago, 1.37e+06, 0.0171%, 2021-06-30, Official estimate[146]\n",
      "152, Estonia, 1.33e+06, 0.0167%, 2022-01-01, Official estimate[147]\n",
      "153, East Timor, 1.32e+06, 0.0165%, 2021-07-01, National annual projection[148]\n",
      "154, Mauritius, 1.27e+06, 0.0159%, 2021-06-30, National semi-annual estimate[149]\n",
      "155, Eswatini, 1.17e+06, 0.0147%, 2021-07-01, UN projection[3]\n",
      "156, Djibouti, 9.76e+05, 0.0122%, 2019-07-01, National annual projection[150]\n",
      "157, Cyprus, 9.18e+05, 0.0115%, 2021-10-01, 2021 census preliminary results[151]\n",
      "158, Fiji, 8.98e+05, 0.0113%, 2021-07-01, National annual projection[95]\n",
      "159, Comoros, 7.58e+05, 0.0095%, 2017-12-15, 2017 census result[152]\n",
      "160, Bhutan, 7.63e+05, 0.00956%, 2022-05-30, National annual projection[153]\n",
      "161, Guyana, 7.44e+05, 0.00931%, 2019-07-01, Official estimate[154]\n",
      "162, Solomon Islands, 7.28e+05, 0.00912%, 2021-07-01, National annual projection[95]\n",
      "–, Macau(China), 6.83e+05, 0.00856%, 2021-12-31, National quarterly estimate[155]\n",
      "163, Luxembourg, 6.45e+05, 0.00808%, 2022-01-01, Official estimate[156]\n",
      "164, Montenegro, 6.21e+05, 0.00778%, 2020-07-01, National semi-annual estimate[157]\n",
      "–, Western Sahara, 6.12e+05, 0.00767%, 2021-07-01, UN projection[3]\n",
      "165, Suriname, 5.98e+05, 0.00749%, 2019-07-01, Official estimate[158]\n",
      "166, Cape Verde, 5.63e+05, 0.00705%, 2021-07-01, National annual projection[159]\n",
      "167, Malta, 5.20e+05, 0.00651%, 2021-11-21, Census 2021[160]\n",
      "168, Belize, 4.30e+05, 0.00539%, 2021-07-01, Official estimate[161]\n",
      "169, Brunei, 4.30e+05, 0.00539%, 2021-07-01, Official estimate[162]\n",
      "170, Bahamas, 3.93e+05, 0.00493%, 2021-07-01, National annual projection[163]\n",
      "171, Maldives, 3.83e+05, 0.0048%, 2019-12-31, Official estimate[164]\n",
      "–, Northern Cyprus, 3.82e+05, 0.00479%, 2019-12-31, Official estimate[165]\n",
      "172, Iceland, 3.81e+05, 0.00478%, 2022-06-30, National quarterly estimate[166]\n",
      "–, Transnistria, 3.06e+05, 0.00383%, 2018-01-01, 2021 estimate[167]\n",
      "173, Vanuatu, 3.01e+05, 0.00377%, 2021-07-01, National annual projection[95]\n",
      "174, Barbados, 2.88e+05, 0.00361%, 2021-07-01, UN projection[3]\n",
      "–, French Polynesia(France), 2.80e+05, 0.00351%, 2021-07-01, National annual projection[95]\n",
      "–, New Caledonia(France), 2.74e+05, 0.00343%, 2021-07-01, National annual projection[95]\n",
      "–, Abkhazia, 2.45e+05, 0.00307%, 2020-01-01, Official estimate[168]\n",
      "175, São Tomé and Príncipe, 2.15e+05, 0.00269%, 2021-07-01, National annual projection[169]\n",
      "176, Samoa, 2.00e+05, 0.0025%, 2021-07-01, National annual projection[95]\n",
      "177, Saint Lucia, 1.79e+05, 0.00224%, 2018-07-01, Official estimate[170]\n",
      "–, Guam(United States), 1.54e+05, 0.00193%, 2020-04-01, 2020 census result[171]\n",
      "–, Curaçao(Netherlands), 1.54e+05, 0.00192%, 2021-01-01, Official estimate[172]\n",
      "–, Artsakh, 1.49e+05, 0.00186%, 2021-01-01, Official estimate[173]\n",
      "178, Kiribati, 1.21e+05, 0.00151%, 2021-07-01, National annual projection[95]\n",
      "179, Grenada, 1.13e+05, 0.00142%, 2021-07-01, UN projection[3]\n",
      "–, Aruba(Netherlands), 1.11e+05, 0.00139%, 2020-12-31, National quarterly estimate[174]\n",
      "180, Saint Vincent and the Grenadines, 1.11e+05, 0.00139%, 2020-07-01, Official estimate[175]\n",
      "–, Jersey(British Crown Dependency), 1.08e+05, 0.00135%, 2019-12-31, Official estimate[176]\n",
      "181, Micronesia, 1.06e+05, 0.00132%, 2021-07-01, National annual projection[95]\n",
      "182, Tonga, 9.95e+04, 0.00125%, 2021-07-01, National annual projection[95]\n",
      "183, Antigua and Barbuda, 9.93e+04, 0.00124%, 2021-07-01, National annual projection[177]\n",
      "184, Seychelles, 9.92e+04, 0.00124%, 2021-06-30, National semi-annual estimate[178]\n",
      "–, U.S. Virgin Islands(United States), 8.71e+04, 0.00109%, 2020-04-01, 2020 census result[179]\n",
      "–, Isle of Man(British Crown Dependency), 8.41e+04, 0.00105%, 2021-05-30, 2021 Census results[180]\n",
      "185, Andorra, 7.95e+04, 0.000996%, 2021-12-31, Official estimate[181]\n",
      "186, Dominica, 7.20e+04, 0.000902%, 2021-07-01, UN projection[3]\n",
      "–, Cayman Islands(United Kingdom), 6.58e+04, 0.000824%, 2020-09-30, National quarterly estimate[182]\n",
      "–, Bermuda(United Kingdom), 6.41e+04, 0.000802%, 2021-07-01, National annual projection[183]\n",
      "–, Guernsey(British Crown Dependency), 6.31e+04, 0.000791%, 2020-06-30, National quarterly estimate[184]\n",
      "–, Greenland(Denmark), 5.66e+04, 0.000708%, 2022-01-01, National quarterly estimate[185]\n",
      "187, Marshall Islands, 5.45e+04, 0.000683%, 2021-07-01, National annual projection[95]\n",
      "188, Saint Kitts and Nevis, 5.41e+04, 0.000677%, 2021-07-01, UN projection[3]\n",
      "–, Faroe Islands(Denmark), 5.40e+04, 0.000676%, 2022-06-01, Monthly national estimate[186]\n",
      "–, South Ossetia, 5.35e+04, 0.00067%, 2015-10-15, 2015 census result[187]\n",
      "–, American Samoa(United States), 4.97e+04, 0.000623%, 2020-04-01, 2020 census result[188]\n",
      "–, Northern Mariana Islands(United States), 4.73e+04, 0.000593%, 2020-04-01, 2020 census result[189]\n",
      "–, Turks and Caicos Islands(United Kingdom), 4.45e+04, 0.000558%, 2020-07-01, Official estimate[190]\n",
      "–, Sint Maarten(Netherlands), 4.26e+04, 0.000533%, 2021-01-01, Official estimate[191]\n",
      "189, Liechtenstein, 3.93e+04, 0.000492%, 2021-12-31, National semi-annual estimate[192]\n",
      "190, Monaco, 3.92e+04, 0.00049%, 2021-12-31, Official estimate[193]\n",
      "–, Gibraltar(United Kingdom), 3.40e+04, 0.000426%, 2021-07-01, UN projection[3]\n",
      "191, San Marino, 3.38e+04, 0.000423%, 2022-08-31, Monthly national estimate[194]\n",
      "–, Saint Martin(France), 3.25e+04, 0.000407%, 2019-01-01, Official estimate[195]\n",
      "–, Åland(Finland), 3.04e+04, 0.000381%, 2022-06-30, Monthly national estimate[110]\n",
      "–, British Virgin Islands(United Kingdom), 3.00e+04, 0.000376%, 2021-07-01, UN projection[3]\n",
      "192, Palau, 1.80e+04, 0.000225%, 2021-07-01, National annual projection[95]\n",
      "–, Cook Islands(New Zealand), 1.53e+04, 0.000192%, 2021-07-01, National annual projection[95]\n",
      "–, Anguilla(United Kingdom), 1.50e+04, 0.000188%, 2021-07-01, UN projection[3]\n",
      "193, Nauru, 1.18e+04, 0.000148%, 2021-07-01, National annual projection[95]\n",
      "–, Wallis and Futuna(France), 1.14e+04, 0.000142%, 2021-01-01, National annual projection[95]\n",
      "194, Tuvalu, 1.07e+04, 0.000134%, 2021-07-01, National annual projection[95]\n",
      "–, Saint Barthélemy(France), 1.03e+04, 0.000129%, 2019-01-01, Official estimate[196]\n",
      "–, Saint Helena, 6.00e+03, 0.0%, 2021-07-01, UN projection[3]\n",
      "–, Saint Pierre and Miquelon(France), 5.97e+03, 0.0%, 2019-01-01, Official estimate[197]\n",
      "–, Montserrat(United Kingdom), 5.00e+03, 0.0%, 2021-07-01, UN projection[3]\n",
      "–, Falkland Islands(United Kingdom), 4.00e+03, 0.0%, 2021-07-01, UN projection[3]\n",
      "–, Christmas Island(Australia), 1.97e+03, 0.0%, 2020-06-30, Official estimate[198]\n",
      "–, Norfolk Island(Australia), 1.73e+03, 0.0%, 2020-06-30, Official estimate[198]\n",
      "–, Niue(New Zealand), 1.55e+03, 0.0%, 2021-07-01, National annual projection[95]\n",
      "–, Tokelau(New Zealand), 1.50e+03, 0.0%, 2021-07-01, National annual projection[95]\n",
      "195, Vatican City, 8.25e+02, 0.0%, 2019-02-01, Monthly national estimate[199]\n",
      "–, Cocos (Keeling) Islands(Australia), 5.73e+02, 0.0%, 2020-06-30, Official estimate[198]\n"
     ]
    }
   ],
   "source": [
    "for row in rows[2:-1]:\n",
    "    cells = row.find_all([\"td\", \"th\"])\n",
    "\n",
    "    cells_text = [cell.get_text(strip=True) for cell in cells]\n",
    "    (rank, country, population, percentage, updated_at, source, comment) = cells_text\n",
    "\n",
    "    # Clean population string str(\"1,404,890,600\") -> int(1404890600)\n",
    "    population = int(population.replace(\",\", \"\"))\n",
    "\n",
    "    # Clean country name\n",
    "    country = re.findall(r\"[\\w\\s()\\.]+\", country)[0]\n",
    "\n",
    "    # Convert percentage to floats\n",
    "    percentage = float(re.findall(r\"[\\d\\.]+\", percentage)[0])\n",
    "\n",
    "    # Convert updated_at to date object\n",
    "    updated_at = dateutil.parser.parse(updated_at).date()\n",
    "\n",
    "    print(f\"{rank}, {country}, {population:.2e}, {percentage}%, {updated_at}, {source}\")"
   ]
  },
  {
   "cell_type": "markdown",
   "metadata": {},
   "source": [
    "**Attention**: Beautiful Soup does not execute Javascript. This means that you the code in your browser inspector might look a bit different from the original HTML source code. "
   ]
  },
  {
   "cell_type": "markdown",
   "metadata": {},
   "source": [
    "# Another example of downloading a Wikipedia table \n",
    "\n",
    "Let's consider another table in a Wikipedia page. This page has a lot more tables, so one challenge will be to pick the right table\n",
    "\n",
    "https://en.wikipedia.org/wiki/Serena_Williams\n",
    "\n",
    "\n",
    "We are interested in extracting these two tables:\n",
    "\n",
    "![Target Wikipedia tables](pictures/wiki_tables.png)\n",
    "\n",
    "**Exercise**: \n",
    "\n",
    "1) Identify the id=\"The_Players_Championship\", by using title = document.find(id=\"The_Players_Championship\")\n",
    "\n",
    "2) First find all tables below the id in 1) by title.find_all_next('table').\n",
    "\n",
    "3) Search for headers (th) by table.find('th') for table in tables to identify the \"Tournament\" header. Remember to use get_text(strip=True)\n",
    "\n",
    "4) Save all tables with the header \"Tournament\" into a list tournament_tables. Check the length of the table and reduce it if it is needed.\n",
    "\n",
    "5) Bonus: Print out the information in the two tables of interest in the terminal"
   ]
  },
  {
   "cell_type": "markdown",
   "metadata": {},
   "source": [
    "We begin by downloading the webpage and instatiating the BeautifulSoup object:"
   ]
  },
  {
   "cell_type": "code",
   "execution_count": 49,
   "metadata": {},
   "outputs": [],
   "source": [
    "r = requests.get(\"https://en.wikipedia.org/wiki/Serena_Williams\")\n",
    "document = BeautifulSoup(r.text, \"html.parser\")"
   ]
  },
  {
   "cell_type": "markdown",
   "metadata": {},
   "source": [
    "This page contains a lot of tables without specific attributes that would make it easy to find our table of interest. Further, the same headings of the tables are used for multiple tables, making it difficult to find a table just by its headings:"
   ]
  },
  {
   "cell_type": "code",
   "execution_count": 50,
   "metadata": {},
   "outputs": [
    {
     "data": {
      "text/plain": [
       "76"
      ]
     },
     "execution_count": 50,
     "metadata": {},
     "output_type": "execute_result"
    }
   ],
   "source": [
    "len(document.find_all(\"table\"))"
   ]
  },
  {
   "cell_type": "markdown",
   "metadata": {},
   "source": [
    "Therefore, we choose another strategy. First, we extract the tag that defines the header just before our tables of interest. That header tag has a unique identifier attribute `id=\"The_Players_Championship\"`. Then we use the `find_all_next` function in BeautifulSoup to extract all following table tags:"
   ]
  },
  {
   "cell_type": "code",
   "execution_count": 61,
   "metadata": {},
   "outputs": [
    {
     "data": {
      "text/plain": [
       "<span class=\"mw-headline\" id=\"Singles:_33_(23–10)\">Singles: 33 (23–10)</span>"
      ]
     },
     "execution_count": 61,
     "metadata": {},
     "output_type": "execute_result"
    }
   ],
   "source": [
    "singles = document.find(string=re.compile(r\"Singles.*\"), class_=\"mw-headline\")\n",
    "singles"
   ]
  },
  {
   "cell_type": "markdown",
   "metadata": {},
   "source": [
    "Now, our tables of interest are the first two tables with the \"Tournament\" heading. We write a small helper function (a generator https://wiki.python.org/moin/Generators) that returns a table with a given heading:"
   ]
  },
  {
   "cell_type": "code",
   "execution_count": 62,
   "metadata": {},
   "outputs": [],
   "source": [
    "def find_table_with_heading(document, heading_pat):\n",
    "    heading_element = document.find(string=heading_pat, class_=\"mw-headline\")\n",
    "    table = heading_element.find_next(\"table\")\n",
    "    return table\n"
   ]
  },
  {
   "cell_type": "code",
   "execution_count": 71,
   "metadata": {},
   "outputs": [
    {
     "data": {
      "text/plain": [
       "['Result', 'Year', 'Tournament', 'Surface', 'Opponents', 'Score']"
      ]
     },
     "execution_count": 71,
     "metadata": {},
     "output_type": "execute_result"
    }
   ],
   "source": [
    "singles_table = find_table_with_heading(document, re.compile(\"^Singles.*\"))\n",
    "[th.get_text(strip=True) for th in singles_table.find_all(\"th\")]"
   ]
  },
  {
   "cell_type": "markdown",
   "metadata": {},
   "source": [
    "Next, we can extract the table rows and columns as usual. We only extract the first two tables, as these are the only ones we were interested in:"
   ]
  },
  {
   "cell_type": "code",
   "execution_count": 72,
   "metadata": {},
   "outputs": [
    {
     "data": {
      "text/plain": [
       "['Result', 'Year', 'Tournament', 'Surface', 'Partner', 'Opponents', 'Score']"
      ]
     },
     "execution_count": 72,
     "metadata": {},
     "output_type": "execute_result"
    }
   ],
   "source": [
    "doubles_table = find_table_with_heading(document, re.compile(\"^Women's doubles.*\"))\n",
    "[th.get_text(strip=True) for th in doubles_table.find_all(\"th\")]\n"
   ]
  },
  {
   "cell_type": "markdown",
   "metadata": {},
   "source": [
    "## Exercise:\n",
    "\n",
    "Convert singles_table HTML data to pandas DataFrame\n",
    "\n",
    "doubles_table\n"
   ]
  },
  {
   "cell_type": "code",
   "execution_count": 69,
   "metadata": {},
   "outputs": [],
   "source": []
  },
  {
   "cell_type": "code",
   "execution_count": 95,
   "metadata": {},
   "outputs": [
    {
     "data": {
      "text/plain": [
       "[['Win', 1999, 'US Open', 'Hard', 'Martina Hingis', '6–3, 7–6(7–4)'],\n",
       " ['Loss', 2001, 'US Open', 'Hard', 'Venus Williams', '2–6, 4–6'],\n",
       " ['Win', 2002, 'French Open', 'Clay', 'Venus Williams', '7–5, 6–3'],\n",
       " ['Win', 2002, 'Wimbledon', 'Grass', 'Venus Williams', '7–6(7–4), 6–3'],\n",
       " ['Win', 2002, 'US Open', 'Hard', 'Venus Williams', '6–4, 6–3'],\n",
       " ['Win',\n",
       "  2003,\n",
       "  'Australian Open',\n",
       "  'Hard',\n",
       "  'Venus Williams',\n",
       "  '7–6(7–4), 3–6, 6–4'],\n",
       " ['Win', 2003, 'Wimbledon', 'Grass', 'Venus Williams', '4–6, 6–4, 6–2'],\n",
       " ['Loss', 2004, 'Wimbledon', 'Grass', 'Maria Sharapova', '1–6, 4–6'],\n",
       " ['Win',\n",
       "  2005,\n",
       "  'Australian Open',\n",
       "  'Hard',\n",
       "  'Lindsay Davenport',\n",
       "  '2–6, 6–3, 6–0'],\n",
       " ['Win', 2007, 'Australian Open', 'Hard', 'Maria Sharapova', '6–1, 6–2'],\n",
       " ['Loss', 2008, 'Wimbledon', 'Grass', 'Venus Williams', '5–7, 4–6'],\n",
       " ['Win', 2008, 'US Open', 'Hard', 'Jelena Janković', '6–4, 7–5'],\n",
       " ['Win', 2009, 'Australian Open', 'Hard', 'Dinara Safina', '6–0, 6–3'],\n",
       " ['Win', 2009, 'Wimbledon', 'Grass', 'Venus Williams', '7–6(7–3), 6–2'],\n",
       " ['Win', 2010, 'Australian Open', 'Hard', 'Justine Henin', '6–4, 3–6, 6–2'],\n",
       " ['Win', 2010, 'Wimbledon', 'Grass', 'Vera Zvonareva', '6–3, 6–2'],\n",
       " ['Loss', 2011, 'US Open', 'Hard', 'Samantha Stosur', '2–6, 3–6'],\n",
       " ['Win', 2012, 'Wimbledon', 'Grass', 'Agnieszka Radwańska', '6–1, 5–7, 6–2'],\n",
       " ['Win', 2012, 'US Open', 'Hard', 'Victoria Azarenka', '6–2, 2–6, 7–5'],\n",
       " ['Win', 2013, 'French Open', 'Clay', 'Maria Sharapova', '6–4, 6–4'],\n",
       " ['Win', 2013, 'US Open', 'Hard', 'Victoria Azarenka', '7–5, 6–7(6–8), 6–1'],\n",
       " ['Win', 2014, 'US Open', 'Hard', 'Caroline Wozniacki', '6–3, 6–3'],\n",
       " ['Win', 2015, 'Australian Open', 'Hard', 'Maria Sharapova', '6–3, 7–6(7–5)'],\n",
       " ['Win', 2015, 'French Open', 'Clay', 'Lucie Šafářová', '6–3, 6–7(2–7), 6–2'],\n",
       " ['Win', 2015, 'Wimbledon', 'Grass', 'Garbiñe Muguruza', '6–4, 6–4'],\n",
       " ['Loss',\n",
       "  2016,\n",
       "  'Australian Open',\n",
       "  'Hard',\n",
       "  'Angelique Kerber',\n",
       "  '4–6, 6–3, 4–6'],\n",
       " ['Loss', 2016, 'French Open', 'Clay', 'Garbiñe Muguruza', '5–7, 4–6'],\n",
       " ['Win', 2016, 'Wimbledon', 'Grass', 'Angelique Kerber', '7–5, 6–3'],\n",
       " ['Win', 2017, 'Australian Open', 'Hard', 'Venus Williams', '6–4, 6–4'],\n",
       " ['Loss', 2018, 'Wimbledon', 'Grass', 'Angelique Kerber', '3–6, 3–6'],\n",
       " ['Loss', 2018, 'US Open', 'Hard', 'Naomi Osaka', '2–6, 4–6'],\n",
       " ['Loss', 2019, 'Wimbledon', 'Grass', 'Simona Halep', '2–6, 2–6'],\n",
       " ['Loss', 2019, 'US Open', 'Hard', 'Bianca Andreescu', '3–6, 5–7']]"
      ]
     },
     "execution_count": 95,
     "metadata": {},
     "output_type": "execute_result"
    }
   ],
   "source": [
    "data = []\n",
    "for row in singles_table.find_all(\"tr\"):\n",
    "    cells = row.find_all(\"td\")\n",
    "    if not cells:\n",
    "        # e.g. header row\n",
    "        continue\n",
    "    values = [cell.get_text(strip=True) for cell in cells]\n",
    "    # convert year to int\n",
    "    values[1] = int(values[1])\n",
    "    # strip trailing (n) notes from events\n",
    "    values[2] = re.sub(r\"\\s*\\(\\d+\\)$\", \"\", values[2])\n",
    "    data.append(values)\n",
    "data"
   ]
  },
  {
   "cell_type": "markdown",
   "metadata": {},
   "source": [
    "When data is in this form, we can convert it into a DataFrame with pandas.\n",
    "\n",
    "You'll learn more about pandas next week."
   ]
  },
  {
   "cell_type": "code",
   "execution_count": 96,
   "metadata": {},
   "outputs": [
    {
     "data": {
      "text/html": [
       "<div>\n",
       "<style scoped>\n",
       "    .dataframe tbody tr th:only-of-type {\n",
       "        vertical-align: middle;\n",
       "    }\n",
       "\n",
       "    .dataframe tbody tr th {\n",
       "        vertical-align: top;\n",
       "    }\n",
       "\n",
       "    .dataframe thead th {\n",
       "        text-align: right;\n",
       "    }\n",
       "</style>\n",
       "<table border=\"1\" class=\"dataframe\">\n",
       "  <thead>\n",
       "    <tr style=\"text-align: right;\">\n",
       "      <th></th>\n",
       "      <th>Result</th>\n",
       "      <th>Year</th>\n",
       "      <th>Tournament</th>\n",
       "      <th>Surface</th>\n",
       "      <th>Opponents</th>\n",
       "      <th>Score</th>\n",
       "    </tr>\n",
       "  </thead>\n",
       "  <tbody>\n",
       "    <tr>\n",
       "      <th>0</th>\n",
       "      <td>Win</td>\n",
       "      <td>1999</td>\n",
       "      <td>US Open</td>\n",
       "      <td>Hard</td>\n",
       "      <td>Martina Hingis</td>\n",
       "      <td>6–3, 7–6(7–4)</td>\n",
       "    </tr>\n",
       "    <tr>\n",
       "      <th>1</th>\n",
       "      <td>Loss</td>\n",
       "      <td>2001</td>\n",
       "      <td>US Open</td>\n",
       "      <td>Hard</td>\n",
       "      <td>Venus Williams</td>\n",
       "      <td>2–6, 4–6</td>\n",
       "    </tr>\n",
       "    <tr>\n",
       "      <th>2</th>\n",
       "      <td>Win</td>\n",
       "      <td>2002</td>\n",
       "      <td>French Open</td>\n",
       "      <td>Clay</td>\n",
       "      <td>Venus Williams</td>\n",
       "      <td>7–5, 6–3</td>\n",
       "    </tr>\n",
       "    <tr>\n",
       "      <th>3</th>\n",
       "      <td>Win</td>\n",
       "      <td>2002</td>\n",
       "      <td>Wimbledon</td>\n",
       "      <td>Grass</td>\n",
       "      <td>Venus Williams</td>\n",
       "      <td>7–6(7–4), 6–3</td>\n",
       "    </tr>\n",
       "    <tr>\n",
       "      <th>4</th>\n",
       "      <td>Win</td>\n",
       "      <td>2002</td>\n",
       "      <td>US Open</td>\n",
       "      <td>Hard</td>\n",
       "      <td>Venus Williams</td>\n",
       "      <td>6–4, 6–3</td>\n",
       "    </tr>\n",
       "    <tr>\n",
       "      <th>5</th>\n",
       "      <td>Win</td>\n",
       "      <td>2003</td>\n",
       "      <td>Australian Open</td>\n",
       "      <td>Hard</td>\n",
       "      <td>Venus Williams</td>\n",
       "      <td>7–6(7–4), 3–6, 6–4</td>\n",
       "    </tr>\n",
       "    <tr>\n",
       "      <th>6</th>\n",
       "      <td>Win</td>\n",
       "      <td>2003</td>\n",
       "      <td>Wimbledon</td>\n",
       "      <td>Grass</td>\n",
       "      <td>Venus Williams</td>\n",
       "      <td>4–6, 6–4, 6–2</td>\n",
       "    </tr>\n",
       "    <tr>\n",
       "      <th>7</th>\n",
       "      <td>Loss</td>\n",
       "      <td>2004</td>\n",
       "      <td>Wimbledon</td>\n",
       "      <td>Grass</td>\n",
       "      <td>Maria Sharapova</td>\n",
       "      <td>1–6, 4–6</td>\n",
       "    </tr>\n",
       "    <tr>\n",
       "      <th>8</th>\n",
       "      <td>Win</td>\n",
       "      <td>2005</td>\n",
       "      <td>Australian Open</td>\n",
       "      <td>Hard</td>\n",
       "      <td>Lindsay Davenport</td>\n",
       "      <td>2–6, 6–3, 6–0</td>\n",
       "    </tr>\n",
       "    <tr>\n",
       "      <th>9</th>\n",
       "      <td>Win</td>\n",
       "      <td>2007</td>\n",
       "      <td>Australian Open</td>\n",
       "      <td>Hard</td>\n",
       "      <td>Maria Sharapova</td>\n",
       "      <td>6–1, 6–2</td>\n",
       "    </tr>\n",
       "    <tr>\n",
       "      <th>10</th>\n",
       "      <td>Loss</td>\n",
       "      <td>2008</td>\n",
       "      <td>Wimbledon</td>\n",
       "      <td>Grass</td>\n",
       "      <td>Venus Williams</td>\n",
       "      <td>5–7, 4–6</td>\n",
       "    </tr>\n",
       "    <tr>\n",
       "      <th>11</th>\n",
       "      <td>Win</td>\n",
       "      <td>2008</td>\n",
       "      <td>US Open</td>\n",
       "      <td>Hard</td>\n",
       "      <td>Jelena Janković</td>\n",
       "      <td>6–4, 7–5</td>\n",
       "    </tr>\n",
       "    <tr>\n",
       "      <th>12</th>\n",
       "      <td>Win</td>\n",
       "      <td>2009</td>\n",
       "      <td>Australian Open</td>\n",
       "      <td>Hard</td>\n",
       "      <td>Dinara Safina</td>\n",
       "      <td>6–0, 6–3</td>\n",
       "    </tr>\n",
       "    <tr>\n",
       "      <th>13</th>\n",
       "      <td>Win</td>\n",
       "      <td>2009</td>\n",
       "      <td>Wimbledon</td>\n",
       "      <td>Grass</td>\n",
       "      <td>Venus Williams</td>\n",
       "      <td>7–6(7–3), 6–2</td>\n",
       "    </tr>\n",
       "    <tr>\n",
       "      <th>14</th>\n",
       "      <td>Win</td>\n",
       "      <td>2010</td>\n",
       "      <td>Australian Open</td>\n",
       "      <td>Hard</td>\n",
       "      <td>Justine Henin</td>\n",
       "      <td>6–4, 3–6, 6–2</td>\n",
       "    </tr>\n",
       "    <tr>\n",
       "      <th>15</th>\n",
       "      <td>Win</td>\n",
       "      <td>2010</td>\n",
       "      <td>Wimbledon</td>\n",
       "      <td>Grass</td>\n",
       "      <td>Vera Zvonareva</td>\n",
       "      <td>6–3, 6–2</td>\n",
       "    </tr>\n",
       "    <tr>\n",
       "      <th>16</th>\n",
       "      <td>Loss</td>\n",
       "      <td>2011</td>\n",
       "      <td>US Open</td>\n",
       "      <td>Hard</td>\n",
       "      <td>Samantha Stosur</td>\n",
       "      <td>2–6, 3–6</td>\n",
       "    </tr>\n",
       "    <tr>\n",
       "      <th>17</th>\n",
       "      <td>Win</td>\n",
       "      <td>2012</td>\n",
       "      <td>Wimbledon</td>\n",
       "      <td>Grass</td>\n",
       "      <td>Agnieszka Radwańska</td>\n",
       "      <td>6–1, 5–7, 6–2</td>\n",
       "    </tr>\n",
       "    <tr>\n",
       "      <th>18</th>\n",
       "      <td>Win</td>\n",
       "      <td>2012</td>\n",
       "      <td>US Open</td>\n",
       "      <td>Hard</td>\n",
       "      <td>Victoria Azarenka</td>\n",
       "      <td>6–2, 2–6, 7–5</td>\n",
       "    </tr>\n",
       "    <tr>\n",
       "      <th>19</th>\n",
       "      <td>Win</td>\n",
       "      <td>2013</td>\n",
       "      <td>French Open</td>\n",
       "      <td>Clay</td>\n",
       "      <td>Maria Sharapova</td>\n",
       "      <td>6–4, 6–4</td>\n",
       "    </tr>\n",
       "    <tr>\n",
       "      <th>20</th>\n",
       "      <td>Win</td>\n",
       "      <td>2013</td>\n",
       "      <td>US Open</td>\n",
       "      <td>Hard</td>\n",
       "      <td>Victoria Azarenka</td>\n",
       "      <td>7–5, 6–7(6–8), 6–1</td>\n",
       "    </tr>\n",
       "    <tr>\n",
       "      <th>21</th>\n",
       "      <td>Win</td>\n",
       "      <td>2014</td>\n",
       "      <td>US Open</td>\n",
       "      <td>Hard</td>\n",
       "      <td>Caroline Wozniacki</td>\n",
       "      <td>6–3, 6–3</td>\n",
       "    </tr>\n",
       "    <tr>\n",
       "      <th>22</th>\n",
       "      <td>Win</td>\n",
       "      <td>2015</td>\n",
       "      <td>Australian Open</td>\n",
       "      <td>Hard</td>\n",
       "      <td>Maria Sharapova</td>\n",
       "      <td>6–3, 7–6(7–5)</td>\n",
       "    </tr>\n",
       "    <tr>\n",
       "      <th>23</th>\n",
       "      <td>Win</td>\n",
       "      <td>2015</td>\n",
       "      <td>French Open</td>\n",
       "      <td>Clay</td>\n",
       "      <td>Lucie Šafářová</td>\n",
       "      <td>6–3, 6–7(2–7), 6–2</td>\n",
       "    </tr>\n",
       "    <tr>\n",
       "      <th>24</th>\n",
       "      <td>Win</td>\n",
       "      <td>2015</td>\n",
       "      <td>Wimbledon</td>\n",
       "      <td>Grass</td>\n",
       "      <td>Garbiñe Muguruza</td>\n",
       "      <td>6–4, 6–4</td>\n",
       "    </tr>\n",
       "    <tr>\n",
       "      <th>25</th>\n",
       "      <td>Loss</td>\n",
       "      <td>2016</td>\n",
       "      <td>Australian Open</td>\n",
       "      <td>Hard</td>\n",
       "      <td>Angelique Kerber</td>\n",
       "      <td>4–6, 6–3, 4–6</td>\n",
       "    </tr>\n",
       "    <tr>\n",
       "      <th>26</th>\n",
       "      <td>Loss</td>\n",
       "      <td>2016</td>\n",
       "      <td>French Open</td>\n",
       "      <td>Clay</td>\n",
       "      <td>Garbiñe Muguruza</td>\n",
       "      <td>5–7, 4–6</td>\n",
       "    </tr>\n",
       "    <tr>\n",
       "      <th>27</th>\n",
       "      <td>Win</td>\n",
       "      <td>2016</td>\n",
       "      <td>Wimbledon</td>\n",
       "      <td>Grass</td>\n",
       "      <td>Angelique Kerber</td>\n",
       "      <td>7–5, 6–3</td>\n",
       "    </tr>\n",
       "    <tr>\n",
       "      <th>28</th>\n",
       "      <td>Win</td>\n",
       "      <td>2017</td>\n",
       "      <td>Australian Open</td>\n",
       "      <td>Hard</td>\n",
       "      <td>Venus Williams</td>\n",
       "      <td>6–4, 6–4</td>\n",
       "    </tr>\n",
       "    <tr>\n",
       "      <th>29</th>\n",
       "      <td>Loss</td>\n",
       "      <td>2018</td>\n",
       "      <td>Wimbledon</td>\n",
       "      <td>Grass</td>\n",
       "      <td>Angelique Kerber</td>\n",
       "      <td>3–6, 3–6</td>\n",
       "    </tr>\n",
       "    <tr>\n",
       "      <th>30</th>\n",
       "      <td>Loss</td>\n",
       "      <td>2018</td>\n",
       "      <td>US Open</td>\n",
       "      <td>Hard</td>\n",
       "      <td>Naomi Osaka</td>\n",
       "      <td>2–6, 4–6</td>\n",
       "    </tr>\n",
       "    <tr>\n",
       "      <th>31</th>\n",
       "      <td>Loss</td>\n",
       "      <td>2019</td>\n",
       "      <td>Wimbledon</td>\n",
       "      <td>Grass</td>\n",
       "      <td>Simona Halep</td>\n",
       "      <td>2–6, 2–6</td>\n",
       "    </tr>\n",
       "    <tr>\n",
       "      <th>32</th>\n",
       "      <td>Loss</td>\n",
       "      <td>2019</td>\n",
       "      <td>US Open</td>\n",
       "      <td>Hard</td>\n",
       "      <td>Bianca Andreescu</td>\n",
       "      <td>3–6, 5–7</td>\n",
       "    </tr>\n",
       "  </tbody>\n",
       "</table>\n",
       "</div>"
      ],
      "text/plain": [
       "   Result  Year       Tournament Surface            Opponents  \\\n",
       "0     Win  1999          US Open    Hard       Martina Hingis   \n",
       "1    Loss  2001          US Open    Hard       Venus Williams   \n",
       "2     Win  2002      French Open    Clay       Venus Williams   \n",
       "3     Win  2002        Wimbledon   Grass       Venus Williams   \n",
       "4     Win  2002          US Open    Hard       Venus Williams   \n",
       "5     Win  2003  Australian Open    Hard       Venus Williams   \n",
       "6     Win  2003        Wimbledon   Grass       Venus Williams   \n",
       "7    Loss  2004        Wimbledon   Grass      Maria Sharapova   \n",
       "8     Win  2005  Australian Open    Hard    Lindsay Davenport   \n",
       "9     Win  2007  Australian Open    Hard      Maria Sharapova   \n",
       "10   Loss  2008        Wimbledon   Grass       Venus Williams   \n",
       "11    Win  2008          US Open    Hard      Jelena Janković   \n",
       "12    Win  2009  Australian Open    Hard        Dinara Safina   \n",
       "13    Win  2009        Wimbledon   Grass       Venus Williams   \n",
       "14    Win  2010  Australian Open    Hard        Justine Henin   \n",
       "15    Win  2010        Wimbledon   Grass       Vera Zvonareva   \n",
       "16   Loss  2011          US Open    Hard      Samantha Stosur   \n",
       "17    Win  2012        Wimbledon   Grass  Agnieszka Radwańska   \n",
       "18    Win  2012          US Open    Hard    Victoria Azarenka   \n",
       "19    Win  2013      French Open    Clay      Maria Sharapova   \n",
       "20    Win  2013          US Open    Hard    Victoria Azarenka   \n",
       "21    Win  2014          US Open    Hard   Caroline Wozniacki   \n",
       "22    Win  2015  Australian Open    Hard      Maria Sharapova   \n",
       "23    Win  2015      French Open    Clay       Lucie Šafářová   \n",
       "24    Win  2015        Wimbledon   Grass     Garbiñe Muguruza   \n",
       "25   Loss  2016  Australian Open    Hard     Angelique Kerber   \n",
       "26   Loss  2016      French Open    Clay     Garbiñe Muguruza   \n",
       "27    Win  2016        Wimbledon   Grass     Angelique Kerber   \n",
       "28    Win  2017  Australian Open    Hard       Venus Williams   \n",
       "29   Loss  2018        Wimbledon   Grass     Angelique Kerber   \n",
       "30   Loss  2018          US Open    Hard          Naomi Osaka   \n",
       "31   Loss  2019        Wimbledon   Grass         Simona Halep   \n",
       "32   Loss  2019          US Open    Hard     Bianca Andreescu   \n",
       "\n",
       "                 Score  \n",
       "0        6–3, 7–6(7–4)  \n",
       "1             2–6, 4–6  \n",
       "2             7–5, 6–3  \n",
       "3        7–6(7–4), 6–3  \n",
       "4             6–4, 6–3  \n",
       "5   7–6(7–4), 3–6, 6–4  \n",
       "6        4–6, 6–4, 6–2  \n",
       "7             1–6, 4–6  \n",
       "8        2–6, 6–3, 6–0  \n",
       "9             6–1, 6–2  \n",
       "10            5–7, 4–6  \n",
       "11            6–4, 7–5  \n",
       "12            6–0, 6–3  \n",
       "13       7–6(7–3), 6–2  \n",
       "14       6–4, 3–6, 6–2  \n",
       "15            6–3, 6–2  \n",
       "16            2–6, 3–6  \n",
       "17       6–1, 5–7, 6–2  \n",
       "18       6–2, 2–6, 7–5  \n",
       "19            6–4, 6–4  \n",
       "20  7–5, 6–7(6–8), 6–1  \n",
       "21            6–3, 6–3  \n",
       "22       6–3, 7–6(7–5)  \n",
       "23  6–3, 6–7(2–7), 6–2  \n",
       "24            6–4, 6–4  \n",
       "25       4–6, 6–3, 4–6  \n",
       "26            5–7, 4–6  \n",
       "27            7–5, 6–3  \n",
       "28            6–4, 6–4  \n",
       "29            3–6, 3–6  \n",
       "30            2–6, 4–6  \n",
       "31            2–6, 2–6  \n",
       "32            3–6, 5–7  "
      ]
     },
     "execution_count": 96,
     "metadata": {},
     "output_type": "execute_result"
    }
   ],
   "source": [
    "import pandas as pd\n",
    "\n",
    "headings = [th.get_text(strip=True) for th in singles_table.find_all(\"th\")]\n",
    "df = pd.DataFrame(data, columns=headings)\n",
    "df"
   ]
  },
  {
   "cell_type": "markdown",
   "metadata": {},
   "source": [
    "With pandas, we can filter this data, group it, and plot interesting relationships"
   ]
  },
  {
   "cell_type": "code",
   "execution_count": 90,
   "metadata": {},
   "outputs": [
    {
     "data": {
      "text/html": [
       "<div>\n",
       "<style scoped>\n",
       "    .dataframe tbody tr th:only-of-type {\n",
       "        vertical-align: middle;\n",
       "    }\n",
       "\n",
       "    .dataframe tbody tr th {\n",
       "        vertical-align: top;\n",
       "    }\n",
       "\n",
       "    .dataframe thead th {\n",
       "        text-align: right;\n",
       "    }\n",
       "</style>\n",
       "<table border=\"1\" class=\"dataframe\">\n",
       "  <thead>\n",
       "    <tr style=\"text-align: right;\">\n",
       "      <th>Result</th>\n",
       "      <th>Loss</th>\n",
       "      <th>Win</th>\n",
       "    </tr>\n",
       "    <tr>\n",
       "      <th>Year</th>\n",
       "      <th></th>\n",
       "      <th></th>\n",
       "    </tr>\n",
       "  </thead>\n",
       "  <tbody>\n",
       "    <tr>\n",
       "      <th>1999</th>\n",
       "      <td>NaN</td>\n",
       "      <td>1.0</td>\n",
       "    </tr>\n",
       "    <tr>\n",
       "      <th>2001</th>\n",
       "      <td>1.0</td>\n",
       "      <td>NaN</td>\n",
       "    </tr>\n",
       "    <tr>\n",
       "      <th>2002</th>\n",
       "      <td>NaN</td>\n",
       "      <td>3.0</td>\n",
       "    </tr>\n",
       "    <tr>\n",
       "      <th>2003</th>\n",
       "      <td>NaN</td>\n",
       "      <td>2.0</td>\n",
       "    </tr>\n",
       "    <tr>\n",
       "      <th>2004</th>\n",
       "      <td>1.0</td>\n",
       "      <td>NaN</td>\n",
       "    </tr>\n",
       "    <tr>\n",
       "      <th>2005</th>\n",
       "      <td>NaN</td>\n",
       "      <td>1.0</td>\n",
       "    </tr>\n",
       "    <tr>\n",
       "      <th>2007</th>\n",
       "      <td>NaN</td>\n",
       "      <td>1.0</td>\n",
       "    </tr>\n",
       "    <tr>\n",
       "      <th>2008</th>\n",
       "      <td>1.0</td>\n",
       "      <td>1.0</td>\n",
       "    </tr>\n",
       "    <tr>\n",
       "      <th>2009</th>\n",
       "      <td>NaN</td>\n",
       "      <td>2.0</td>\n",
       "    </tr>\n",
       "    <tr>\n",
       "      <th>2010</th>\n",
       "      <td>NaN</td>\n",
       "      <td>2.0</td>\n",
       "    </tr>\n",
       "    <tr>\n",
       "      <th>2011</th>\n",
       "      <td>1.0</td>\n",
       "      <td>NaN</td>\n",
       "    </tr>\n",
       "    <tr>\n",
       "      <th>2012</th>\n",
       "      <td>NaN</td>\n",
       "      <td>2.0</td>\n",
       "    </tr>\n",
       "    <tr>\n",
       "      <th>2013</th>\n",
       "      <td>NaN</td>\n",
       "      <td>2.0</td>\n",
       "    </tr>\n",
       "    <tr>\n",
       "      <th>2014</th>\n",
       "      <td>NaN</td>\n",
       "      <td>1.0</td>\n",
       "    </tr>\n",
       "    <tr>\n",
       "      <th>2015</th>\n",
       "      <td>NaN</td>\n",
       "      <td>3.0</td>\n",
       "    </tr>\n",
       "    <tr>\n",
       "      <th>2016</th>\n",
       "      <td>2.0</td>\n",
       "      <td>1.0</td>\n",
       "    </tr>\n",
       "    <tr>\n",
       "      <th>2017</th>\n",
       "      <td>NaN</td>\n",
       "      <td>1.0</td>\n",
       "    </tr>\n",
       "    <tr>\n",
       "      <th>2018</th>\n",
       "      <td>2.0</td>\n",
       "      <td>NaN</td>\n",
       "    </tr>\n",
       "    <tr>\n",
       "      <th>2019</th>\n",
       "      <td>2.0</td>\n",
       "      <td>NaN</td>\n",
       "    </tr>\n",
       "  </tbody>\n",
       "</table>\n",
       "</div>"
      ],
      "text/plain": [
       "Result  Loss  Win\n",
       "Year             \n",
       "1999     NaN  1.0\n",
       "2001     1.0  NaN\n",
       "2002     NaN  3.0\n",
       "2003     NaN  2.0\n",
       "2004     1.0  NaN\n",
       "2005     NaN  1.0\n",
       "2007     NaN  1.0\n",
       "2008     1.0  1.0\n",
       "2009     NaN  2.0\n",
       "2010     NaN  2.0\n",
       "2011     1.0  NaN\n",
       "2012     NaN  2.0\n",
       "2013     NaN  2.0\n",
       "2014     NaN  1.0\n",
       "2015     NaN  3.0\n",
       "2016     2.0  1.0\n",
       "2017     NaN  1.0\n",
       "2018     2.0  NaN\n",
       "2019     2.0  NaN"
      ]
     },
     "execution_count": 90,
     "metadata": {},
     "output_type": "execute_result"
    }
   ],
   "source": [
    "results_by_year = df.groupby([\"Year\", \"Result\"]).Tournament.count().unstack()\n",
    "results_by_year"
   ]
  },
  {
   "cell_type": "code",
   "execution_count": 91,
   "metadata": {},
   "outputs": [
    {
     "data": {
      "text/plain": [
       "<AxesSubplot:xlabel='Year'>"
      ]
     },
     "execution_count": 91,
     "metadata": {},
     "output_type": "execute_result"
    },
    {
     "data": {
      "image/png": "[encoded data removed]",
      "text/plain": [
       "<Figure size 720x444.984 with 1 Axes>"
      ]
     },
     "metadata": {
      "image/png": {
       "height": 396,
       "width": 595
      },
      "needs_background": "light"
     },
     "output_type": "display_data"
    }
   ],
   "source": [
    "results_by_year.plot(kind=\"bar\")"
   ]
  },
  {
   "cell_type": "code",
   "execution_count": 92,
   "metadata": {},
   "outputs": [
    {
     "data": {
      "text/html": [
       "<div>\n",
       "<style scoped>\n",
       "    .dataframe tbody tr th:only-of-type {\n",
       "        vertical-align: middle;\n",
       "    }\n",
       "\n",
       "    .dataframe tbody tr th {\n",
       "        vertical-align: top;\n",
       "    }\n",
       "\n",
       "    .dataframe thead th {\n",
       "        text-align: right;\n",
       "    }\n",
       "</style>\n",
       "<table border=\"1\" class=\"dataframe\">\n",
       "  <thead>\n",
       "    <tr style=\"text-align: right;\">\n",
       "      <th>Result</th>\n",
       "      <th>Loss</th>\n",
       "      <th>Win</th>\n",
       "    </tr>\n",
       "    <tr>\n",
       "      <th>Surface</th>\n",
       "      <th></th>\n",
       "      <th></th>\n",
       "    </tr>\n",
       "  </thead>\n",
       "  <tbody>\n",
       "    <tr>\n",
       "      <th>Clay</th>\n",
       "      <td>1</td>\n",
       "      <td>3</td>\n",
       "    </tr>\n",
       "    <tr>\n",
       "      <th>Grass</th>\n",
       "      <td>4</td>\n",
       "      <td>7</td>\n",
       "    </tr>\n",
       "    <tr>\n",
       "      <th>Hard</th>\n",
       "      <td>5</td>\n",
       "      <td>13</td>\n",
       "    </tr>\n",
       "  </tbody>\n",
       "</table>\n",
       "</div>"
      ],
      "text/plain": [
       "Result   Loss  Win\n",
       "Surface           \n",
       "Clay        1    3\n",
       "Grass       4    7\n",
       "Hard        5   13"
      ]
     },
     "execution_count": 92,
     "metadata": {},
     "output_type": "execute_result"
    }
   ],
   "source": [
    "results_by_surface = df.groupby([\"Surface\", \"Result\"]).Tournament.count().unstack()\n",
    "results_by_surface"
   ]
  },
  {
   "cell_type": "code",
   "execution_count": 94,
   "metadata": {},
   "outputs": [
    {
     "data": {
      "text/plain": [
       "<AxesSubplot:xlabel='Surface'>"
      ]
     },
     "execution_count": 94,
     "metadata": {},
     "output_type": "execute_result"
    },
    {
     "data": {
      "image/png": "[encoded data removed]",
      "text/plain": [
       "<Figure size 720x444.984 with 1 Axes>"
      ]
     },
     "metadata": {
      "image/png": {
       "height": 399,
       "width": 592
      },
      "needs_background": "light"
     },
     "output_type": "display_data"
    }
   ],
   "source": [
    "results_by_surface.plot(kind=\"bar\")"
   ]
  },
  {
   "cell_type": "code",
   "execution_count": 107,
   "metadata": {},
   "outputs": [
    {
     "data": {
      "text/plain": [
       "<AxesSubplot:xlabel='Opponents'>"
      ]
     },
     "execution_count": 107,
     "metadata": {},
     "output_type": "execute_result"
    },
    {
     "data": {
      "image/png": "[encoded data removed]",
      "text/plain": [
       "<Figure size 720x444.984 with 1 Axes>"
      ]
     },
     "metadata": {
      "image/png": {
       "height": 463,
       "width": 585
      },
      "needs_background": "light"
     },
     "output_type": "display_data"
    }
   ],
   "source": [
    "results_by_op = df.groupby([\"Opponents\", \"Result\"]).Tournament.count().unstack()\n",
    "\n",
    "# we can exclude opponents only met once:\n",
    "results_by_op = results_by_op.fillna(0)\n",
    "multiple_meetings = results_by_op[(results_by_op.Loss + results_by_op.Win > 1)]\n",
    "multiple_meetings.plot(kind=\"bar\")\n"
   ]
  },
  {
   "cell_type": "markdown",
   "metadata": {},
   "source": [
    "# Exercise:\n",
    "\n",
    "Find images on the UiO page\n",
    "\n",
    "1) Go to https://en.wikipedia.org/wiki/University_of_Oslo \n",
    "2) Download the content from the site using BeautifulSoup and requests\n",
    "3) Search for all images (using `images = document.find_all('img')`) and print out the content\n",
    "4) Include only images with the attribute `class_=\"thumbimage\"` in your list of images. This can be done by inspecting image.attrs. (E.g. `images[0].attrs`)\n",
    "5) Print out a list of the value of the \"src\" attribute for the images in 4. \n",
    "6) See if you can display an image by pasting a result from 5 into your web-browser. Remember to put https: in front of your string in the web-browser"
   ]
  },
  {
   "cell_type": "code",
   "execution_count": null,
   "metadata": {},
   "outputs": [],
   "source": [
    "r = requests.get..."
   ]
  }
 ],
 "metadata": {
  "celltoolbar": "Slideshow",
  "kernelspec": {
   "display_name": "Python 3 (ipykernel)",
   "language": "python",
   "name": "python3"
  },
  "language_info": {
   "codemirror_mode": {
    "name": "ipython",
    "version": 3
   },
   "file_extension": ".py",
   "mimetype": "text/x-python",
   "name": "python",
   "nbconvert_exporter": "python",
   "pygments_lexer": "ipython3",
   "version": "3.10.4"
  },
  "widgets": {
   "application/vnd.jupyter.widget-state+json": {
    "state": {},
    "version_major": 2,
    "version_minor": 0
   }
  }
 },
 "nbformat": 4,
 "nbformat_minor": 4
}
