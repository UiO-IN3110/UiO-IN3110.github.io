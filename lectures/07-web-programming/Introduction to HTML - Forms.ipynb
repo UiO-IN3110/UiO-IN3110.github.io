{
 "cells": [
  {
   "cell_type": "markdown",
   "metadata": {},
   "source": [
    "# HTML Forms"
   ]
  },
  {
   "cell_type": "markdown",
   "metadata": {},
   "source": [
    "HTML forms allow user inputs. These data is send from the client (e.g. the web browser) to the web server. The syntax is:\n",
    "\n",
    "```html\n",
    "<form>   \n",
    "\n",
    "<!-- form elements -->\n",
    "\n",
    "</form>\n",
    "```"
   ]
  },
  {
   "cell_type": "markdown",
   "metadata": {},
   "source": [
    "A HTML form contains one or many form elements. These elements can be \n",
    "* text input \n",
    "<form>\n",
    "  <input type=\"text\" name=\"firstname\">\n",
    "</form>\n",
    "* checkboxes\n",
    "<form>\n",
    "<input id=\"checkBox\" type=\"checkbox\"> Norway\n",
    "<input id=\"checkBox\" type=\"checkbox\"> USA\n",
    "</form>\n",
    "* radio buttons\n",
    "<form>\n",
    "  <input type=\"radio\" name=\"sex\" value=\"male\" checked>Male\n",
    "  <br>\n",
    "  <input type=\"radio\" name=\"sex\" value=\"female\">Female\n",
    "</form>\n",
    "* submit buttons\n",
    "<form action=\"#\">\n",
    "  <input type=\"submit\" value=\"Submit\">\n",
    "</form>"
   ]
  },
  {
   "cell_type": "markdown",
   "metadata": {},
   "source": [
    "## The `<input>` element"
   ]
  },
  {
   "cell_type": "markdown",
   "metadata": {},
   "source": [
    "The input element is a form element that allows the user to input data. "
   ]
  },
  {
   "cell_type": "markdown",
   "metadata": {},
   "source": [
    "```html\n",
    "<form>\n",
    "  <input type=\"text\" name=\"...\">\n",
    "</form>\n",
    "```"
   ]
  },
  {
   "cell_type": "markdown",
   "metadata": {},
   "source": [
    "\n",
    "\n",
    "\n",
    "There are different `types` of input elements:\n",
    "* `type=text`: Defines a text input\n",
    "* `type=password`: Defines a text input where characters are hidden.\n",
    "* `type=radio`: Defines a radio button input (select one out of N).\n",
    "* `type=submit`: Defines a submit button for submitting the form."
   ]
  },
  {
   "cell_type": "markdown",
   "metadata": {},
   "source": [
    "**Note**: The `name` attribute is used as an identifier to access the form values."
   ]
  },
  {
   "cell_type": "markdown",
   "metadata": {},
   "source": [
    "## Text input"
   ]
  },
  {
   "cell_type": "code",
   "execution_count": 4,
   "metadata": {},
   "outputs": [
    {
     "data": {
      "text/html": [
       "<form>\n",
       "  First name:<br>\n",
       "  <input type=\"text\" name=\"firstname\">\n",
       "  <br>\n",
       "  Last name:<br>\n",
       "  <input type=\"text\" name=\"lastname\">\n",
       "  <br>\n",
       "  Password:<br>\n",
       "  <input type=\"password\" name=\"password\">\n",
       "</form>\n"
      ],
      "text/plain": [
       "<IPython.core.display.HTML object>"
      ]
     },
     "metadata": {},
     "output_type": "display_data"
    }
   ],
   "source": [
    "%%html\n",
    "<form>\n",
    "  First name:<br>\n",
    "  <input type=\"text\" name=\"firstname\">\n",
    "  <br>\n",
    "  Last name:<br>\n",
    "  <input type=\"text\" name=\"lastname\">\n",
    "  <br>\n",
    "  Password:<br>\n",
    "  <input type=\"password\" name=\"password\">\n",
    "</form>"
   ]
  },
  {
   "cell_type": "markdown",
   "metadata": {},
   "source": [
    "## Radio input"
   ]
  },
  {
   "cell_type": "code",
   "execution_count": 1,
   "metadata": {},
   "outputs": [
    {
     "data": {
      "text/html": [
       "<form>\n",
       "  <input type=\"radio\" name=\"color\" value=\"red\" checked>Red\n",
       "  <br>\n",
       "  <input type=\"radio\" name=\"sex\" value=\"blue\">Blue\n",
       "</form>\n"
      ],
      "text/plain": [
       "<IPython.core.display.HTML object>"
      ]
     },
     "metadata": {},
     "output_type": "display_data"
    }
   ],
   "source": [
    "%%html\n",
    "<form>\n",
    "  <input type=\"radio\" name=\"color\" value=\"red\" checked>Red\n",
    "  <br>\n",
    "  <input type=\"radio\" name=\"sex\" value=\"blue\">Blue\n",
    "</form>"
   ]
  },
  {
   "cell_type": "markdown",
   "metadata": {},
   "source": [
    "## Submit button"
   ]
  },
  {
   "cell_type": "markdown",
   "metadata": {},
   "source": [
    "We can also add a submit button to our form:"
   ]
  },
  {
   "cell_type": "code",
   "execution_count": 2,
   "metadata": {},
   "outputs": [],
   "source": [
    "from IPython.display import IFrame"
   ]
  },
  {
   "cell_type": "code",
   "execution_count": 3,
   "metadata": {},
   "outputs": [
    {
     "data": {
      "text/plain": [
       "\u001b[0;31mInit signature:\u001b[0m \u001b[0mIFrame\u001b[0m\u001b[0;34m(\u001b[0m\u001b[0msrc\u001b[0m\u001b[0;34m,\u001b[0m \u001b[0mwidth\u001b[0m\u001b[0;34m,\u001b[0m \u001b[0mheight\u001b[0m\u001b[0;34m,\u001b[0m \u001b[0mextras\u001b[0m\u001b[0;34m:\u001b[0m \u001b[0mIterable\u001b[0m\u001b[0;34m[\u001b[0m\u001b[0mstr\u001b[0m\u001b[0;34m]\u001b[0m \u001b[0;34m=\u001b[0m \u001b[0;32mNone\u001b[0m\u001b[0;34m,\u001b[0m \u001b[0;34m**\u001b[0m\u001b[0mkwargs\u001b[0m\u001b[0;34m)\u001b[0m\u001b[0;34m\u001b[0m\u001b[0;34m\u001b[0m\u001b[0m\n",
       "\u001b[0;31mDocstring:\u001b[0m      Generic class to embed an iframe in an IPython notebook\n",
       "\u001b[0;31mFile:\u001b[0m           ~/conda/lib/python3.10/site-packages/IPython/lib/display.py\n",
       "\u001b[0;31mType:\u001b[0m           type\n",
       "\u001b[0;31mSubclasses:\u001b[0m     YouTubeVideo, VimeoVideo, ScribdDocument\n"
      ]
     },
     "metadata": {},
     "output_type": "display_data"
    }
   ],
   "source": [
    "IFrame?"
   ]
  },
  {
   "cell_type": "code",
   "execution_count": 6,
   "metadata": {},
   "outputs": [
    {
     "data": {
      "text/html": [
       "<form action=\"http://www.bing.com/search\" method=\"GET\">\n",
       "  Bing search:<br>\n",
       "  <input type=\"text\" name=\"q\" value=\"Search me\">\n",
       "  <br>\n",
       "  <input type=\"submit\" value=\"Submit\">\n",
       "</form>\n"
      ],
      "text/plain": [
       "<IPython.core.display.HTML object>"
      ]
     },
     "metadata": {},
     "output_type": "display_data"
    }
   ],
   "source": [
    "%%html\n",
    "<form action=\"http://www.bing.com/search\" method=\"GET\">\n",
    "  Bing search:<br>\n",
    "  <input type=\"text\" name=\"q\" value=\"Search me\">\n",
    "  <br>\n",
    "  <input type=\"submit\" value=\"Submit\">\n",
    "</form>"
   ]
  },
  {
   "cell_type": "markdown",
   "metadata": {},
   "source": [
    "Pressing the submit button will send a `GET` request to the `bing.com/search` URL."
   ]
  },
  {
   "cell_type": "markdown",
   "metadata": {},
   "source": [
    "## Interactive web applications with HTML forms"
   ]
  },
  {
   "cell_type": "markdown",
   "metadata": {},
   "source": [
    "Using the template, we can now create a HTML form with a `POST` request"
   ]
  },
  {
   "cell_type": "markdown",
   "metadata": {},
   "source": [
    "```html\n",
    "<!-- ./templates/login.html -->\n",
    "\n",
    "<!doctype html>\n",
    "<title>Login</title>\n",
    "\n",
    "{% if error %}\n",
    "<p style=\"color:red\">{{ error }}</p>\n",
    "{% endif %}\n",
    "\n",
    "<form action=\"/login\" method=\"POST\">\n",
    "    Username:\n",
    "    <br>\n",
    "    <input type=\"text\" name=\"username\">\n",
    "    <br>\n",
    "    Password:\n",
    "    <br>\n",
    "    <input type=\"password\" name=\"password\">\n",
    "    <br>\n",
    "    <input type=\"submit\" value=\"Submit\">\n",
    "</form>\n",
    "```\n"
   ]
  },
  {
   "cell_type": "code",
   "execution_count": 3,
   "metadata": {},
   "outputs": [],
   "source": [
    "# File: hello_world.py\n",
    "from flask import Flask\n",
    "from flask import render_template\n",
    "\n",
    "app = Flask(__name__)\n",
    "\n",
    "@app.route('/login')\n",
    "def login():\n",
    "    return render_template('login.html')"
   ]
  },
  {
   "cell_type": "code",
   "execution_count": null,
   "metadata": {},
   "outputs": [
    {
     "name": "stdout",
     "output_type": "stream",
     "text": [
      " * Serving Flask app '__main__'\n",
      " * Debug mode: off\n"
     ]
    },
    {
     "name": "stderr",
     "output_type": "stream",
     "text": [
      "WARNING: This is a development server. Do not use it in a production deployment. Use a production WSGI server instead.\n",
      " * Running on http://127.0.0.1:5000\n",
      "Press CTRL+C to quit\n",
      "127.0.0.1 - - [12/Oct/2022 14:00:00] \"GET /login HTTP/1.1\" 200 -\n",
      "127.0.0.1 - - [12/Oct/2022 14:00:03] \"POST /login HTTP/1.1\" 405 -\n"
     ]
    }
   ],
   "source": [
    "app.run()"
   ]
  },
  {
   "cell_type": "markdown",
   "metadata": {},
   "source": [
    "Matches http://localhost:5000/login"
   ]
  },
  {
   "cell_type": "markdown",
   "metadata": {},
   "source": [
    "## Handling the `POST` request."
   ]
  },
  {
   "cell_type": "markdown",
   "metadata": {},
   "source": [
    "The form above sends a `POST` request to the `handle_login` URL. \n",
    "\n",
    "We can use \n",
    "```python\n",
    "@app.route('/handle_login', methods=['POST'])     \n",
    "```\n",
    "to create a new Flask handler that accepts `POST` requests.\n",
    "\n",
    "We can then use the \n",
    "```python\n",
    "flask.request\n",
    "```\n",
    "attribute to access the data contained the `POST` request (here the username and password that the user provided in the form)."
   ]
  },
  {
   "cell_type": "code",
   "execution_count": 1,
   "metadata": {},
   "outputs": [],
   "source": [
    "from flask import Flask\n",
    "from flask import render_template\n",
    "from flask import request\n",
    "\n",
    "app = Flask(__name__)\n",
    "\n",
    "\n",
    "@app.route(\"/login\")\n",
    "def login():\n",
    "    return render_template(\"login.html\")\n",
    "\n",
    "\n",
    "@app.route(\"/login\", methods=[\"POST\"])\n",
    "def handle_login():\n",
    "\n",
    "    # Acces the form data:\n",
    "    username = request.form[\"username\"]\n",
    "    password = request.form[\"password\"]\n",
    "\n",
    "    if username == \"kate\" and password == \"dade\":\n",
    "        return \"You are logged in, Kate\"\n",
    "    else:\n",
    "        error = \"Invalid credentials\"\n",
    "        return render_template(\"login.html\", error=error)"
   ]
  },
  {
   "cell_type": "code",
   "execution_count": 2,
   "metadata": {},
   "outputs": [
    {
     "name": "stdout",
     "output_type": "stream",
     "text": [
      " * Serving Flask app '__main__'\n",
      " * Debug mode: off\n"
     ]
    },
    {
     "name": "stderr",
     "output_type": "stream",
     "text": [
      "WARNING: This is a development server. Do not use it in a production deployment. Use a production WSGI server instead.\n",
      " * Running on http://127.0.0.1:5001\n",
      "Press CTRL+C to quit\n",
      "127.0.0.1 - - [12/Oct/2022 13:58:44] \"GET /login HTTP/1.1\" 200 -\n",
      "127.0.0.1 - - [12/Oct/2022 13:58:50] \"POST /login HTTP/1.1\" 200 -\n",
      "127.0.0.1 - - [12/Oct/2022 13:58:54] \"POST /login HTTP/1.1\" 200 -\n"
     ]
    }
   ],
   "source": [
    "app.run(port=5001)"
   ]
  },
  {
   "cell_type": "markdown",
   "metadata": {},
   "source": [
    "Try it on http://localhost:5001/login"
   ]
  },
  {
   "cell_type": "code",
   "execution_count": null,
   "metadata": {},
   "outputs": [],
   "source": []
  }
 ],
 "metadata": {
  "kernelspec": {
   "display_name": "Python 3 (ipykernel)",
   "language": "python",
   "name": "python3"
  },
  "language_info": {
   "codemirror_mode": {
    "name": "ipython",
    "version": 3
   },
   "file_extension": ".py",
   "mimetype": "text/x-python",
   "name": "python",
   "nbconvert_exporter": "python",
   "pygments_lexer": "ipython3",
   "version": "3.10.4"
  },
  "widgets": {
   "application/vnd.jupyter.widget-state+json": {
    "state": {},
    "version_major": 2,
    "version_minor": 0
   }
  }
 },
 "nbformat": 4,
 "nbformat_minor": 4
}
