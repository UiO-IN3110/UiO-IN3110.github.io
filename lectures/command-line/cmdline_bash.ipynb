{
 "cells": [
  {
   "cell_type": "markdown",
   "id": "5cc3ccbc",
   "metadata": {
    "editable": true,
    "slideshow": {
     "slide_type": ""
    },
    "tags": []
   },
   "source": [
    "# Bash programming and Linux command-line tools\n",
    "\n",
    "<center>\n",
    "  <img src=\"figs/bash.png\" style=\"width: 500px;\"/>\n",
    "</center>\n",
    "    \n",
    "In our course **IN3110 – Problemløsning med høynivå-språk** we have so far only used Python (mostly; Cython). In this lecture we will add to the family of languages as we will discuss shell(Bash) scripting. The takehome message is that (simple) scripts combined with other command-line utities can provide elegant solutions and powerful pre/processing pipelines for processing data. "
   ]
  },
  {
   "cell_type": "markdown",
   "id": "a6d8924b",
   "metadata": {},
   "source": [
    "## A bit of history - there were/are many shells\n",
    "\n",
    "- 1979: Bourne shell (`sh`)\n",
    "- 1978: C and TC shell (`csh` and `tcsh`)\n",
    "- 1989: Bourne Again shell (`bash`)\n",
    "- Bash derivatives: \n",
    "    - 1983: Korn shell (`ksh`), \n",
    "    - 1990: Z shell (`zsh`)\n",
    "    - 2002: Dash (`dash`),  "
   ]
  },
  {
   "cell_type": "markdown",
   "id": "03509aca",
   "metadata": {},
   "source": [
    "## Why learn Bash? \n",
    "\n",
    "- Learning Bash means learning the roots of scripting \n",
    "- Bash, are frequently encountered on Unix systems\n",
    "- Bash is the dominating command interpreter and scripting language\n",
    "\n",
    "Shell scripts evolve naturally from a workflow: \n",
    "  1. A sequence of commands you use often are placed in a file\n",
    "  2. Command-line options are introduced to enable different options to be passed to the commands\n",
    "  3. Introducing variables, if tests, loops enables more complex program flow\n",
    "  4. At some point pre- and postprocessing becomes too advanced for bash, at which point (parts of) the script should be ported to Python or other tools\n",
    "  \n",
    "In this lecture we imagine that we find ourselves working e.g. on some Linux cluster where we cannot get the admin permission to install Python modules or text editors we have available on our machines. We will try to get things done with utilities that are commonly installed by default."
   ]
  },
  {
   "cell_type": "markdown",
   "id": "c38a0dee",
   "metadata": {},
   "source": [
    "## What Bash is *good* for\n",
    "\n",
    "- File and directory management\n",
    "- Systems management (build scripts)\n",
    "- Combining other scripts and commands\n",
    "- Rapid prototyping of more advanced scripts\n",
    "- Very simple output processing, plotting etc."
   ]
  },
  {
   "cell_type": "markdown",
   "id": "0d656de8",
   "metadata": {},
   "source": [
    "## Some common tasks in Bash\n",
    "\n",
    "- file writing and managing files and directories (creation, deletion, renaming)\n",
    "- for-loops\n",
    "- running an application\n",
    "- combining applications (pipes)\n",
    "- file globbing, testing file types"
   ]
  },
  {
   "cell_type": "markdown",
   "id": "6b0e024b",
   "metadata": {},
   "source": [
    "## What Bash is *not* good for\n",
    "\n",
    "- Cross-platform portability\n",
    "- Graphics, GUIs\n",
    "- Interface with libraries or legacy code\n",
    "- More advanced post processing and plotting\n",
    "- Calculations, math etc."
   ]
  },
  {
   "cell_type": "markdown",
   "id": "d7cbc381",
   "metadata": {},
   "source": [
    "## Installation\n",
    "\n",
    "- All our examples can be run under Bash, and many in the Bourne shell\n",
    "- Differences in operating systems:\n",
    "    - Mac OSX: `/bin/sh` is just a link to Bash (`/bin/bash`).\n",
    "    - Ubuntu: `/bin/sh` is a link to Dash, a minimal, but much faster shell than bash. Alternatively `/bin/bash`\n",
    "    - Windows: bash is available through `cygwin` or the Linux-Subsystem in Windows 10.  \n",
    "    \n",
    "**Use within jupyter notebooks**: We will use line magic `!` or cell magic `` to run the shell commands in the notebook."
   ]
  },
  {
   "cell_type": "markdown",
   "id": "82800aef",
   "metadata": {
    "editable": true,
    "slideshow": {
     "slide_type": ""
    },
    "tags": []
   },
   "source": [
    "## Bash tutorial\n",
    "You will see a number of Bash/Unix commands in this lecture. The new commands will be highlighted with a <font color='red'>⚠️ </font>."
   ]
  },
  {
   "cell_type": "code",
   "execution_count": 1,
   "id": "f79fa6ee",
   "metadata": {},
   "outputs": [
    {
     "name": "stdout",
     "output_type": "stream",
     "text": [
      "Hello from bash\n"
     ]
    }
   ],
   "source": [
    "echo \"Hello from bash\""
   ]
  },
  {
   "cell_type": "markdown",
   "id": "47bfa5a0",
   "metadata": {},
   "source": [
    "Function is called by giving its named followed by arguments. <font color='red'>⚠️ </font> `echo` prints text to screen."
   ]
  },
  {
   "cell_type": "markdown",
   "id": "debe78e6",
   "metadata": {},
   "source": [
    "We could write the above source code into a source file, here `./scripts/hello_world.sh`"
   ]
  },
  {
   "cell_type": "markdown",
   "id": "47fdc3a1",
   "metadata": {
    "editable": true,
    "slideshow": {
     "slide_type": ""
    },
    "tags": []
   },
   "source": [
    "### VIM intermezzo\n",
    "\n",
    "To stick to our scenario of being stuck on a cluster where there is no VScode/SublimeText and what not let us use VIM for editing. VIM is a powerful text editor (i(M)proving it predecessor VI editor) - here we will only scratch \n",
    "its surface (no macros, advanced search). In some sense the philosphy behind VIM is that a painter first picks his instrument (mode selection), places it on the canvas (navigation) before starting to draw (e.g. editing)."
   ]
  },
  {
   "cell_type": "markdown",
   "id": "55bfd889",
   "metadata": {},
   "source": [
    "_Navigation_\n",
    "`ESC` to leave the current mode. Then press\n",
    "- `0` jump to line beginning\n",
    "- `$` jump to line end\n",
    "- `h`, `l`, `j`, `k` to move left, right, down or up\n",
    "- `gg` to jump to the start of the file, or `G` to jump to the end\n",
    "- `w` to jump forward a word or  `b` to move back a word\n",
    "\n",
    "_Manipulation/Editing_\n",
    "- Pressing `i` enters edit mode (you can type as you want)\n",
    "- Pressing `x`, `dw`, `dd` deletes respectivel a character, word or entire line\n",
    "- Pressing NUMBER before the command in general repeats it NUMBER times\n",
    "- Pressing `.` repeats the previous action\n",
    "- `ctrl+a` jumps to the end of the line and enters edit mode\n",
    "- `s` (substite) deletes the character under cursor and enters edit mode\n",
    "- `u` undoes\n",
    "- 'v' enters visual mode\n",
    "- `:w` saves the buffer to file\n",
    "\n",
    "_Search_\n",
    "- `/` enters search mode. After specifying the pattern pressing `n` will move forward to the next match, while `N` searches backward\n",
    "\n",
    "[_Exiting_](https://stackoverflow.blog/2017/05/23/stack-overflow-helping-one-million-developers-exit-vim/)\n",
    "- `:q` or `:q!` \n",
    "\n",
    "<center>\n",
    "          <img src=\"figs/vim.png\" style=\"width: 800px;\"/>\n",
    "</center>   "
   ]
  },
  {
   "cell_type": "markdown",
   "id": "5ead68c2",
   "metadata": {},
   "source": [
    "A great reference to learn more about VIM is the book [Practical VIM: Edit Text at the Speed of Thought](https://www.amazon.com/Practical-Vim-Edit-Speed-Thought/dp/1680501275). "
   ]
  },
  {
   "cell_type": "markdown",
   "id": "a8dde46e",
   "metadata": {
    "editable": true,
    "slideshow": {
     "slide_type": ""
    },
    "tags": []
   },
   "source": [
    "### Back to Bash"
   ]
  },
  {
   "cell_type": "code",
   "execution_count": 2,
   "id": "93bf5183",
   "metadata": {},
   "outputs": [
    {
     "name": "stdout",
     "output_type": "stream",
     "text": [
      "#!/bin/bash\n",
      "# This is a regular comment line\n",
      "echo \"hello world!\"\n"
     ]
    }
   ],
   "source": [
    "cat ./scripts/hello_world.sh"
   ]
  },
  {
   "cell_type": "markdown",
   "id": "439af8d5",
   "metadata": {},
   "source": [
    "Here the lines starting with hash `#` interpreted as comments. \n",
    "\n",
    "Above we have used <font color='red'>⚠️ </font> `cat` command to view the file content. Later we will see that it can be used for reading and writing too. "
   ]
  },
  {
   "cell_type": "markdown",
   "id": "c609de4e",
   "metadata": {},
   "source": [
    "Now we could try to run the script only to find that we get and error"
   ]
  },
  {
   "cell_type": "code",
   "execution_count": 3,
   "id": "4692983f",
   "metadata": {
    "editable": true,
    "slideshow": {
     "slide_type": ""
    },
    "tags": [
     "raises-exception"
    ]
   },
   "outputs": [
    {
     "name": "stdout",
     "output_type": "stream",
     "text": [
      "bash: ./scripts/hello_world.sh: Permission denied\n"
     ]
    },
    {
     "ename": "",
     "evalue": "126",
     "output_type": "error",
     "traceback": []
    }
   ],
   "source": [
    "./scripts/hello_world.sh"
   ]
  },
  {
   "cell_type": "markdown",
   "id": "9048c213",
   "metadata": {},
   "source": [
    "The issue is that the file is not executable. We can see this with <font color='red'>⚠️ </font> `ls` command (where we specify the \"-l\" flag to get a long output)"
   ]
  },
  {
   "cell_type": "code",
   "execution_count": 4,
   "id": "1addafb2",
   "metadata": {},
   "outputs": [
    {
     "name": "stdout",
     "output_type": "stream",
     "text": [
      "-rw-r--r--  1 minrk  staff  65 Aug 28 13:36 ./scripts/hello_world.sh\n"
     ]
    }
   ],
   "source": [
    "ls -l ./scripts/hello_world.sh"
   ]
  },
  {
   "cell_type": "markdown",
   "id": "fcfb8e9d",
   "metadata": {},
   "source": [
    "The permisions are r(ead), w(rite), x(execute)."
   ]
  },
  {
   "cell_type": "markdown",
   "id": "0b995e9e",
   "metadata": {},
   "source": [
    "For fix we use the <font color='red'>⚠️ </font> `chmod` command. In particular, below we add execution permission to the user (group)  "
   ]
  },
  {
   "cell_type": "code",
   "execution_count": 5,
   "id": "33e039a1",
   "metadata": {},
   "outputs": [
    {
     "name": "stdout",
     "output_type": "stream",
     "text": [
      "-rwxr--r--  1 minrk  staff  65 Aug 28 13:36 \u001b[31m./scripts/hello_world.sh\u001b[39;49m\u001b[0m\n"
     ]
    }
   ],
   "source": [
    "chmod u+x ./scripts/hello_world.sh\n",
    "ls -l ./scripts/hello_world.sh"
   ]
  },
  {
   "cell_type": "markdown",
   "id": "89b00b1f",
   "metadata": {},
   "source": [
    "Now we can finally execute"
   ]
  },
  {
   "cell_type": "code",
   "execution_count": 6,
   "id": "351d6112",
   "metadata": {},
   "outputs": [
    {
     "name": "stdout",
     "output_type": "stream",
     "text": [
      "hello world!\n"
     ]
    }
   ],
   "source": [
    "./scripts/hello_world.sh"
   ]
  },
  {
   "cell_type": "markdown",
   "id": "0abf743a",
   "metadata": {},
   "source": [
    "Now that the code run we could ask about who actually run/interpreted it. Bash uses itself as default interpreter, if not otherwise specified. We can be explicit about the interpreter:"
   ]
  },
  {
   "cell_type": "code",
   "execution_count": 7,
   "id": "5639b8f6",
   "metadata": {},
   "outputs": [
    {
     "name": "stdout",
     "output_type": "stream",
     "text": [
      "#!/bin/bash\n",
      "# This is a regular comment line\n",
      "echo \"hello world!\"\n"
     ]
    }
   ],
   "source": [
    "cat scripts/hello_world_bang.sh"
   ]
  },
  {
   "cell_type": "markdown",
   "id": "791056a3",
   "metadata": {},
   "source": [
    "Observe that the first line starting with `shebang`, i.e. `#!` specifies the interpreter to use for the script. The second line, starting with the hash, `#`, is a comment. "
   ]
  },
  {
   "cell_type": "markdown",
   "id": "a7c90344",
   "metadata": {},
   "source": [
    "__Note__ We could have specified a different interpreter/shell as by giving instead the first line `/usr/bin/sh`. Let's see what sort of shell that is"
   ]
  },
  {
   "cell_type": "code",
   "execution_count": 8,
   "id": "09bffea0",
   "metadata": {},
   "outputs": [
    {
     "name": "stdout",
     "output_type": "stream",
     "text": [
      "SH(1)                       General Commands Manual                      SH(1)\n",
      "\n",
      "NAME\n",
      "     sh – POSIX-compliant command interpreter\n",
      "\n",
      "SYNOPSIS\n",
      "     sh [options]\n",
      "\n",
      "DESCRIPTION\n",
      "     sh is a POSIX-compliant command interpreter (shell).  It is implemented\n",
      "     by re-execing as either bash(1), dash(1), or zsh(1) as determined by the\n",
      "     symbolic link located at /private/var/select/sh.  If\n",
      "     /private/var/select/sh does not exist or does not point to a valid shell,\n",
      "     sh will use one of the supported shells.\n",
      "\n",
      "FILES\n",
      "     /private/var/select/sh\n",
      "\n",
      "     $HOME/.profile\n",
      "\n",
      "     /etc/profile\n",
      "\n",
      "SEE ALSO\n",
      "     bash(1), dash(1), ksh(1), tcsh(1), zsh(1)\n",
      "\n",
      "macOS 13.5                     February 8, 2019                     macOS 13.5\n"
     ]
    }
   ],
   "source": [
    "man sh"
   ]
  },
  {
   "cell_type": "markdown",
   "id": "075c2bc0",
   "metadata": {},
   "source": [
    "Using the <font color='red'>⚠️ </font> `man` (manual) command we see that on this mashing `sh` points to the `dash` shell."
   ]
  },
  {
   "cell_type": "markdown",
   "id": "ed7278f0",
   "metadata": {},
   "source": [
    "For convenience we will use the cell `` magic in the the rest of the lecture to write our scripts"
   ]
  },
  {
   "cell_type": "markdown",
   "id": "ab728a02",
   "metadata": {
    "editable": true,
    "slideshow": {
     "slide_type": ""
    },
    "tags": []
   },
   "source": [
    "### Variables\n",
    "\n",
    "- Assign a variable by `var=value` (__NOTE__ no spaces around `=`!)\n",
    "- Retrieve the value of the variable by `${var}` or `$var`"
   ]
  },
  {
   "cell_type": "code",
   "execution_count": 9,
   "id": "c22e22b0",
   "metadata": {},
   "outputs": [
    {
     "name": "stdout",
     "output_type": "stream",
     "text": [
      "Hi world!\n",
      "Hi !\n"
     ]
    }
   ],
   "source": [
    "#!/usr/bin/bash\n",
    "\n",
    "cmd=echo    # Functions can be passed around\n",
    "greet=\"Hi\"\n",
    "\n",
    "${cmd} ${greet} world!\n",
    "\n",
    "# Undefined variables result in empty string\n",
    "\n",
    "${cmd} ${greet} ${world}!"
   ]
  },
  {
   "cell_type": "markdown",
   "id": "aa4a8e66",
   "metadata": {},
   "source": [
    "There are also special variables defined in the environment. By convention their names are all uppercase. As an example, recall that when running `hello_world.sh` \n",
    "above we have specified the full path to the script. \n",
    "In particular, the following would give an error"
   ]
  },
  {
   "cell_type": "code",
   "execution_count": 10,
   "id": "8ae157c1",
   "metadata": {
    "editable": true,
    "slideshow": {
     "slide_type": ""
    },
    "tags": [
     "raises-exception"
    ]
   },
   "outputs": [
    {
     "name": "stdout",
     "output_type": "stream",
     "text": [
      "bash: ./hello_world.sh: No such file or directory\n"
     ]
    },
    {
     "ename": "",
     "evalue": "127",
     "output_type": "error",
     "traceback": []
    }
   ],
   "source": [
    "./hello_world.sh"
   ]
  },
  {
   "cell_type": "markdown",
   "id": "8f275dcc",
   "metadata": {},
   "source": [
    "To fix this problem, \n",
    "recall the role of `PYTHONPATH` in looking up Python modules by the Python interpreter. In fact `PYTHONPATH` is environmental variable"
   ]
  },
  {
   "cell_type": "code",
   "execution_count": 11,
   "id": "343145b3",
   "metadata": {
    "editable": true,
    "slideshow": {
     "slide_type": ""
    },
    "tags": []
   },
   "outputs": [
    {
     "name": "stdout",
     "output_type": "stream",
     "text": [
      "\n"
     ]
    }
   ],
   "source": [
    "echo $PYTHONPATH"
   ]
  },
  {
   "cell_type": "markdown",
   "id": "419b743b",
   "metadata": {},
   "source": [
    "Similar role is played by the environmental variable `PATH` which \n",
    "specifies directories to look for program executables."
   ]
  },
  {
   "cell_type": "code",
   "execution_count": 12,
   "id": "89437be6",
   "metadata": {},
   "outputs": [
    {
     "name": "stdout",
     "output_type": "stream",
     "text": [
      "/Users/minrk/dev/mine/git-stuff/bin:/opt/homebrew/Caskroom/google-cloud-sdk/latest/google-cloud-sdk/bin:/Users/minrk/.local/bin:/Users/minrk/conda/bin:/usr/local/texlive/2022/bin/universal-darwin:/Users/minrk/Dropbox/bin:/opt/homebrew/bin:/usr/local/MacGPG2/bin:/usr/local/Homebrew/bin:/usr/local/bin:/usr/X11R6/bin:/usr/X11/bin:/usr/bin:/opt/pypy/bin:/Users/minrk/Dropbox/scripts:/opt/homebrew/opt/ruby/bin:/usr/local/opt/ruby/bin:/Users/minrk/dev/mine/git-stuff/bin:/Users/minrk/conda/condabin:/Users/minrk/Dropbox/bin:/System/Cryptexes/App/usr/bin:/bin:/usr/sbin:/sbin:/Library/TeX/texbin:/opt/X11/bin:/Library/Apple/usr/bin:/Library/Frameworks/Mono.framework/Versions/Current/Commands:/Applications/Wireshark.app/Contents/MacOS:/var/run/com.apple.security.cryptexd/codex.system/bootstrap/usr/local/bin:/var/run/com.apple.security.cryptexd/codex.system/bootstrap/usr/bin:/var/run/com.apple.security.cryptexd/codex.system/bootstrap/usr/appleinternal/bin\n"
     ]
    }
   ],
   "source": [
    "echo $PATH"
   ]
  },
  {
   "cell_type": "markdown",
   "id": "dffeaa40",
   "metadata": {},
   "source": [
    "What we would like to do to run our script just as `hello_world.sh` is to modify the env. Consider the following "
   ]
  },
  {
   "cell_type": "code",
   "execution_count": 13,
   "id": "83eb791a",
   "metadata": {},
   "outputs": [
    {
     "name": "stdout",
     "output_type": "stream",
     "text": [
      "/Users/minrk/dev/simula/in3110/site/lectures/command-line/scripts:/Users/minrk/dev/mine/git-stuff/bin:/opt/homebrew/Caskroom/google-cloud-sdk/latest/google-cloud-sdk/bin:/Users/minrk/.local/bin:/Users/minrk/conda/bin:/usr/local/texlive/2022/bin/universal-darwin:/Users/minrk/Dropbox/bin:/opt/homebrew/bin:/usr/local/MacGPG2/bin:/usr/local/Homebrew/bin:/usr/local/bin:/usr/X11R6/bin:/usr/X11/bin:/usr/bin:/opt/pypy/bin:/Users/minrk/Dropbox/scripts:/opt/homebrew/opt/ruby/bin:/usr/local/opt/ruby/bin:/Users/minrk/dev/mine/git-stuff/bin:/Users/minrk/conda/condabin:/Users/minrk/Dropbox/bin:/System/Cryptexes/App/usr/bin:/bin:/usr/sbin:/sbin:/Library/TeX/texbin:/opt/X11/bin:/Library/Apple/usr/bin:/Library/Frameworks/Mono.framework/Versions/Current/Commands:/Applications/Wireshark.app/Contents/MacOS:/var/run/com.apple.security.cryptexd/codex.system/bootstrap/usr/local/bin:/var/run/com.apple.security.cryptexd/codex.system/bootstrap/usr/bin:/var/run/com.apple.security.cryptexd/codex.system/bootstrap/usr/appleinternal/bin\n"
     ]
    }
   ],
   "source": [
    "new_PATH=\"$PWD/scripts:$PATH\"\n",
    "echo $new_PATH"
   ]
  },
  {
   "cell_type": "markdown",
   "id": "6064b292",
   "metadata": {},
   "source": [
    "Here we have __computed__ the value assigned to `new_PATH` by using <font color='red'>⚠️ </font> `pwd` command and building up the string. Note that we prepend to the list to get higher precedence to our directory. To update the `PATH` we could continue as follows"
   ]
  },
  {
   "cell_type": "code",
   "execution_count": 14,
   "id": "11ed2f30",
   "metadata": {},
   "outputs": [
    {
     "name": "stdout",
     "output_type": "stream",
     "text": [
      "/Users/minrk/dev/simula/in3110/site/lectures/command-line/scripts:/Users/minrk/dev/mine/git-stuff/bin:/opt/homebrew/Caskroom/google-cloud-sdk/latest/google-cloud-sdk/bin:/Users/minrk/.local/bin:/Users/minrk/conda/bin:/usr/local/texlive/2022/bin/universal-darwin:/Users/minrk/Dropbox/bin:/opt/homebrew/bin:/usr/local/MacGPG2/bin:/usr/local/Homebrew/bin:/usr/local/bin:/usr/X11R6/bin:/usr/X11/bin:/usr/bin:/opt/pypy/bin:/Users/minrk/Dropbox/scripts:/opt/homebrew/opt/ruby/bin:/usr/local/opt/ruby/bin:/Users/minrk/dev/mine/git-stuff/bin:/Users/minrk/conda/condabin:/Users/minrk/Dropbox/bin:/System/Cryptexes/App/usr/bin:/bin:/usr/sbin:/sbin:/Library/TeX/texbin:/opt/X11/bin:/Library/Apple/usr/bin:/Library/Frameworks/Mono.framework/Versions/Current/Commands:/Applications/Wireshark.app/Contents/MacOS:/var/run/com.apple.security.cryptexd/codex.system/bootstrap/usr/local/bin:/var/run/com.apple.security.cryptexd/codex.system/bootstrap/usr/bin:/var/run/com.apple.security.cryptexd/codex.system/bootstrap/usr/appleinternal/bin\n",
      "\n",
      "hello world!\n"
     ]
    }
   ],
   "source": [
    "new_PATH=\"$PWD/scripts:$PATH\"\n",
    "export PATH=$new_PATH  # PATH is set\n",
    "\n",
    "echo $PATH\n",
    "\n",
    "# Navigate somewhere else so that we don't get lucky\n",
    "cd $HOME\n",
    "# Call\n",
    "echo\n",
    "hello_world.sh"
   ]
  },
  {
   "cell_type": "markdown",
   "id": "18c9622b",
   "metadata": {},
   "source": [
    "Here we have used the command <font color='red'>⚠️ </font> `cd` to change the directory to `HOME` which is an environment variable holding the user home directory, here"
   ]
  },
  {
   "cell_type": "code",
   "execution_count": 15,
   "id": "3c4962b6",
   "metadata": {},
   "outputs": [
    {
     "name": "stdout",
     "output_type": "stream",
     "text": [
      "/Users/minrk\n"
     ]
    }
   ],
   "source": [
    "echo $HOME"
   ]
  },
  {
   "cell_type": "markdown",
   "id": "4ec5c8df",
   "metadata": {},
   "source": [
    "__NOTE__ There is a pitfall in each notebook cell execution is its own [process](https://stackoverflow.com/questions/67850706/unable-to-export-path-in-jupyterlab). In particular, the exported variables will not be reflected in the next (not child) processes. "
   ]
  },
  {
   "cell_type": "code",
   "execution_count": 16,
   "id": "dba4ebd0",
   "metadata": {},
   "outputs": [
    {
     "name": "stdout",
     "output_type": "stream",
     "text": [
      "/Users/minrk/dev/simula/in3110/site/lectures/command-line/scripts:/Users/minrk/dev/mine/git-stuff/bin:/opt/homebrew/Caskroom/google-cloud-sdk/latest/google-cloud-sdk/bin:/Users/minrk/.local/bin:/Users/minrk/conda/bin:/usr/local/texlive/2022/bin/universal-darwin:/Users/minrk/Dropbox/bin:/opt/homebrew/bin:/usr/local/MacGPG2/bin:/usr/local/Homebrew/bin:/usr/local/bin:/usr/X11R6/bin:/usr/X11/bin:/usr/bin:/opt/pypy/bin:/Users/minrk/Dropbox/scripts:/opt/homebrew/opt/ruby/bin:/usr/local/opt/ruby/bin:/Users/minrk/dev/mine/git-stuff/bin:/Users/minrk/conda/condabin:/Users/minrk/Dropbox/bin:/System/Cryptexes/App/usr/bin:/bin:/usr/sbin:/sbin:/Library/TeX/texbin:/opt/X11/bin:/Library/Apple/usr/bin:/Library/Frameworks/Mono.framework/Versions/Current/Commands:/Applications/Wireshark.app/Contents/MacOS:/var/run/com.apple.security.cryptexd/codex.system/bootstrap/usr/local/bin:/var/run/com.apple.security.cryptexd/codex.system/bootstrap/usr/bin:/var/run/com.apple.security.cryptexd/codex.system/bootstrap/usr/appleinternal/bin\n"
     ]
    }
   ],
   "source": [
    "echo $PATH   "
   ]
  },
  {
   "cell_type": "markdown",
   "id": "6f6a480c",
   "metadata": {},
   "source": [
    "So we will do this outside in the terminal/in one running shell session. We can put this process to sleep by `ctrl+z`. After the setting we can bring it back to (f)ore(g)round by <font color='red'>⚠️ </font> `fg`. Alternatively, we can resume the sleeping process in the (b)ack(g)round <font color='red'>⚠️ </font> `bg`."
   ]
  },
  {
   "cell_type": "markdown",
   "id": "7d81e433",
   "metadata": {},
   "source": [
    "Some other examples of setting variables on computations\n"
   ]
  },
  {
   "cell_type": "code",
   "execution_count": 17,
   "id": "8790ec34",
   "metadata": {},
   "outputs": [
    {
     "name": "stdout",
     "output_type": "stream",
     "text": [
      "Today is Monday 2023-08-28 14:23:32.\n"
     ]
    }
   ],
   "source": [
    "weekday=$(date +\"%A %Y-%m-%d %H:%M:%S\")    # date +\"%A\" is a bash command to display the day of the week \n",
    "echo \"Today is $weekday.\""
   ]
  },
  {
   "cell_type": "code",
   "execution_count": 18,
   "id": "2c60ae8e",
   "metadata": {},
   "outputs": [
    {
     "name": "stdout",
     "output_type": "stream",
     "text": [
      "Shared benjaminrk hugo kira minrk\n"
     ]
    }
   ],
   "source": [
    "# Here we just use a different syntax to get it\n",
    "files=`ls ..`\n",
    "echo $files"
   ]
  },
  {
   "cell_type": "markdown",
   "id": "0e37c21f",
   "metadata": {},
   "source": [
    "As said before command <font color='red'>⚠️ </font> `ls` lists content of a directory."
   ]
  },
  {
   "cell_type": "markdown",
   "id": "e13a5a7f",
   "metadata": {
    "editable": true,
    "slideshow": {
     "slide_type": ""
    },
    "tags": []
   },
   "source": [
    "### Typed variables\n",
    "\n",
    "By default variables are un-typed, and treated as character arrays"
   ]
  },
  {
   "cell_type": "code",
   "execution_count": 19,
   "id": "2a4f8636",
   "metadata": {},
   "outputs": [
    {
     "name": "stdout",
     "output_type": "stream",
     "text": [
      "5+5\n"
     ]
    }
   ],
   "source": [
    "x=5\n",
    "x=$x+5\n",
    "echo $x"
   ]
  },
  {
   "cell_type": "markdown",
   "id": "f7f5f24b",
   "metadata": {},
   "source": [
    "We can be explicit about the type of variable"
   ]
  },
  {
   "cell_type": "code",
   "execution_count": 20,
   "id": "35505562",
   "metadata": {},
   "outputs": [
    {
     "name": "stdout",
     "output_type": "stream",
     "text": [
      "10\n"
     ]
    }
   ],
   "source": [
    "declare -i b     # define an integer variable b\n",
    "a=5\n",
    "b=$a+5\n",
    "echo $b"
   ]
  },
  {
   "cell_type": "markdown",
   "id": "35950d9b",
   "metadata": {},
   "source": [
    "Or express that the variable is constant/read-only"
   ]
  },
  {
   "cell_type": "code",
   "execution_count": 21,
   "id": "cc435225",
   "metadata": {
    "editable": true,
    "slideshow": {
     "slide_type": ""
    },
    "tags": [
     "raises-exception"
    ]
   },
   "outputs": [
    {
     "name": "stdout",
     "output_type": "stream",
     "text": [
      "10\n",
      "bash: r: readonly variable\n"
     ]
    },
    {
     "ename": "",
     "evalue": "1",
     "output_type": "error",
     "traceback": []
    }
   ],
   "source": [
    "declare -r r=10            \n",
    "echo $r\n",
    "r=5"
   ]
  },
  {
   "cell_type": "markdown",
   "id": "17bd5714",
   "metadata": {},
   "source": [
    "Bash also support `array` type"
   ]
  },
  {
   "cell_type": "code",
   "execution_count": 22,
   "id": "5204fa73",
   "metadata": {
    "editable": true,
    "slideshow": {
     "slide_type": ""
    },
    "tags": []
   },
   "outputs": [
    {
     "name": "stdout",
     "output_type": "stream",
     "text": [
      "foo\n",
      "foo bar\n",
      "3\n",
      "2\n"
     ]
    }
   ],
   "source": [
    "declare -a array=(\"foo\" \"bar\") # array\n",
    "echo ${array[0]}  # First array value\n",
    "echo ${array[@]}  # All array values\n",
    "echo ${#array}    # !!!Array size\n",
    "echo ${#array[@]} # But"
   ]
  },
  {
   "cell_type": "markdown",
   "id": "1799e578",
   "metadata": {
    "editable": true,
    "slideshow": {
     "slide_type": ""
    },
    "tags": []
   },
   "source": [
    "### Flow control and functions\n",
    "\n",
    "For flow we shall discuss `if`, `case` and `for` and `while` loops\n",
    "\n",
    "__`if`__ statement"
   ]
  },
  {
   "cell_type": "code",
   "execution_count": 23,
   "id": "85b85269",
   "metadata": {},
   "outputs": [
    {
     "name": "stdout",
     "output_type": "stream",
     "text": [
      "Joseph\n"
     ]
    }
   ],
   "source": [
    "declare name=\"Joe\"\n",
    "# Here we are comparing 2 strings\n",
    "if [ $name == \"Joe\" ]\n",
    "then\n",
    "  echo \"Joseph\"\n",
    "else\n",
    "  echo \"Don't know\"\n",
    "fi"
   ]
  },
  {
   "cell_type": "markdown",
   "id": "453f227e",
   "metadata": {},
   "source": [
    "__Note__ `[` is not a bracket(for grouping)"
   ]
  },
  {
   "cell_type": "code",
   "execution_count": 24,
   "id": "34619d82",
   "metadata": {},
   "outputs": [
    {
     "name": "stdout",
     "output_type": "stream",
     "text": [
      "The variable is at most 10\n"
     ]
    }
   ],
   "source": [
    "declare -i -r number=10\n",
    "# Here we are comparing numbers\n",
    "if [ $number -gt 10 ]    # -eq -le\n",
    "then\n",
    "  echo \"The variable is greater than 10.\"\n",
    "else\n",
    "  echo \"The variable is at most 10\"\n",
    "fi"
   ]
  },
  {
   "cell_type": "markdown",
   "id": "69b6104e",
   "metadata": {},
   "source": [
    "We can do `if`-`elif` branching and the tests can be combined with `&&` (AND) or `||` (OR). Below we also introduce [parameter expansion](https://www.gnu.org/software/bash/manual/html_node/Shell-Parameter-Expansion.html) `{ }` to grab substrings or get length of strings and `(( )` to perform some simple arithmetic"
   ]
  },
  {
   "cell_type": "code",
   "execution_count": 25,
   "id": "4f4e7562",
   "metadata": {},
   "outputs": [
    {
     "name": "stdout",
     "output_type": "stream",
     "text": [
      "Don't know for 5 char long name\n",
      "Blpha\n",
      "exit\n",
      "Restarting Bash\n"
     ]
    }
   ],
   "source": [
    "declare name=\"Blpha\"\n",
    "\n",
    "if [ $name == \"Joe\" ]\n",
    "then\n",
    "  echo Name is Joe\n",
    "fi\n",
    "\n",
    "# AND\n",
    "if [ ${name: 0:1} == \"J\" ] && [ ${name: -1:1} == \"y\" ]\n",
    "then\n",
    "  echo The first letter is J and last is y\n",
    "# OR\n",
    "elif [ ${name: 0:1} == \"A\" ] || [ ${#name} -eq $((2+2)) ]\n",
    "then\n",
    "  echo The first letter is A or name length is $((1+3))\n",
    "else\n",
    "  [ ${#name} -eq 5 ] && echo \"Don't know for 5 char long name\"\n",
    "fi\n",
    "# NOTE: we add this \"success\" expression so that ipython does not complain\n",
    "# about notzero exit status\n",
    "echo $name\n",
    "# We could also use\n",
    "exit 0"
   ]
  },
  {
   "cell_type": "markdown",
   "id": "85c87939",
   "metadata": {},
   "source": [
    "<font color='red'>⚠️ </font> `exit` with status flag/number is used to indicate succesful or failed execution. 0 means success. These is a special variable which captures exit code of the preceeding call"
   ]
  },
  {
   "cell_type": "code",
   "execution_count": 26,
   "id": "795b2565",
   "metadata": {
    "editable": true,
    "slideshow": {
     "slide_type": ""
    },
    "tags": []
   },
   "outputs": [
    {
     "name": "stdout",
     "output_type": "stream",
     "text": [
      "There was a problem\n"
     ]
    }
   ],
   "source": [
    "name=\"alex\"\n",
    "[ ${#name} -eq 5 ] && echo \"Exec only when name 5\"\n",
    "\n",
    "if [ \"$?\" == \"0\" ]\n",
    "then\n",
    "  echo There was no problem\n",
    "else\n",
    "  echo There was a problem\n",
    "fi"
   ]
  },
  {
   "cell_type": "markdown",
   "id": "6d9f8413",
   "metadata": {},
   "source": [
    "There are handy tests for existence of files/directories. For example we can check"
   ]
  },
  {
   "cell_type": "code",
   "execution_count": 27,
   "id": "fef0861c",
   "metadata": {},
   "outputs": [
    {
     "name": "stdout",
     "output_type": "stream",
     "text": [
      "There is scripts directory\n",
      "Bash - interactive lecture.ipynb       first.txt\n",
      "Bash - interactive lecture.slides.html \u001b[34mhello-world\u001b[39;49m\u001b[0m\n",
      "Makefile                               hw.sh\n",
      "Untitled.ipynb                         \u001b[34mresults\u001b[39;49m\u001b[0m\n",
      "cmdline_bash.ipynb                     \u001b[31mrun_and_test.sh\u001b[39;49m\u001b[0m\n",
      "\u001b[34mdata\u001b[39;49m\u001b[0m                                   \u001b[34mscripts\u001b[39;49m\u001b[0m\n",
      "\u001b[34mfigs\u001b[39;49m\u001b[0m                                   \u001b[34mscripts.bk\u001b[39;49m\u001b[0m\n",
      "\n",
      "scripts contains executable\n"
     ]
    }
   ],
   "source": [
    "dir='scripts'\n",
    "\n",
    "if [ -d $dir ]\n",
    "then\n",
    "  echo There is $dir directory\n",
    "  cp -r $dir $dir.bk\n",
    "  ls .             # . is a current directoy, .. is the one above\n",
    "  echo\n",
    "  if [ -x \"$dir/hello_world.sh\" ]\n",
    "  then\n",
    "    echo $dir contains executable\n",
    "  fi\n",
    "fi"
   ]
  },
  {
   "cell_type": "markdown",
   "id": "7a5ddd2d",
   "metadata": {},
   "source": [
    "Here we have used the copy command <font color='red'>⚠️ </font> `cp` with a `-r` recursive switch."
   ]
  },
  {
   "cell_type": "markdown",
   "id": "3c8f3281",
   "metadata": {},
   "source": [
    "Other test switches\n",
    "\n",
    "- `-h` FILE - True if the FILE exists and is a symbolic link.\n",
    "- `-r` FILE - True if the FILE exists and is readable.\n",
    "- `-w` FILE - True if the FILE exists and is writable.\n",
    "- `-x` FILE - True if the FILE exists and is executable.\n",
    "- `-d` FILE - True if the FILE exists and is a directory.\n",
    "- `-e` FILE - True if the FILE exists and is a file, regardless of type \n",
    "- `-f` FILE - True if the FILE exists and is a regular file (not a directory or device)"
   ]
  },
  {
   "cell_type": "markdown",
   "id": "00967c46",
   "metadata": {},
   "source": [
    "__`case`__ statement\n",
    "\n",
    "To simplify writing nested `if` statements especially if branching is a case analysis/pattern matching we use `case` construct. This will be useful e.g. for parsing command line arguments (see later)"
   ]
  },
  {
   "cell_type": "code",
   "execution_count": 28,
   "id": "f567bb5d",
   "metadata": {},
   "outputs": [
    {
     "name": "stdout",
     "output_type": "stream",
     "text": [
      "-1\n"
     ]
    }
   ],
   "source": [
    "place=\"Drammen\"\n",
    "case $place in\n",
    "        Oslo)\n",
    "            m=4;;  # ;; indicates end of case\n",
    "        Bergen)\n",
    "            m=5 ;;\n",
    "        *)\n",
    "            m=-1\n",
    "esac\n",
    "echo $m"
   ]
  },
  {
   "cell_type": "markdown",
   "id": "f9c279af",
   "metadata": {},
   "source": [
    "__`for`__ loop\n",
    "\n",
    "Consider this setup where we run over bunch of parameters to perform a \"simulation\" whose result we want to store"
   ]
  },
  {
   "cell_type": "code",
   "execution_count": null,
   "id": "231114e0",
   "metadata": {
    "editable": true,
    "slideshow": {
     "slide_type": ""
    },
    "tags": []
   },
   "outputs": [],
   "source": [
    "experiments=\"first second third\"\n",
    "\n",
    "dir=results\n",
    "\n",
    "if [ -d $dir ]\n",
    "then\n",
    "  echo $dir exists\n",
    "else\n",
    "  mkdir $dir\n",
    "fi\n",
    "\n",
    "declare -i counter\n",
    "counter=0\n",
    "\n",
    "for e in $experiments\n",
    "do\n",
    "  echo running $e\n",
    "  sleep 0.2\n",
    "  touch $e.txt        # Touch/create empty file with that name\n",
    "  cp $e.txt $dir      # Back it up\n",
    "  rm -vf $e.txt           # Remove the original\n",
    "  ((counter=counter+1))       # Increase the counter\n",
    "done\n",
    "echo Performed $counter experiments"
   ]
  },
  {
   "cell_type": "markdown",
   "id": "d2c45793",
   "metadata": {
    "editable": true,
    "slideshow": {
     "slide_type": ""
    },
    "tags": []
   },
   "source": [
    "Here we have used a make directory command <font color='red'>⚠️ </font> `mkdir`, the simulation was mocked up by <font color='red'>⚠️ </font> `sleep` command which delays the execution by arg seconds and the results were created by <font color='red'>⚠️ </font> `touch`. Finally we removed the original results by <font color='red'>⚠️ </font> `rm`."
   ]
  },
  {
   "cell_type": "markdown",
   "id": "ed432898",
   "metadata": {},
   "source": [
    "Previus example illustrates a common situation where the tasks in the loop could execute in parallel as opposed to serial \n",
    "as done previosly. Lunching the tasks in parallel can be done with `&`"
   ]
  },
  {
   "cell_type": "code",
   "execution_count": 30,
   "id": "1dc4cd99",
   "metadata": {},
   "outputs": [
    {
     "name": "stdout",
     "output_type": "stream",
     "text": [
      "Launched first\n",
      "Launched second\n",
      "Launched third\n"
     ]
    }
   ],
   "source": [
    "experiments=\"first second third\"\n",
    "\n",
    "for e in $experiments\n",
    "do\n",
    "  sleep 1 && echo Launched $e\n",
    "done"
   ]
  },
  {
   "cell_type": "markdown",
   "id": "21f7b878",
   "metadata": {},
   "source": [
    "In contrast the parallel execution as expected runs quicker"
   ]
  },
  {
   "cell_type": "code",
   "execution_count": 31,
   "id": "62f49049",
   "metadata": {},
   "outputs": [
    {
     "name": "stdout",
     "output_type": "stream",
     "text": [
      "[1] 20307\n",
      "[2] 20308\n",
      "[3] 20310\n"
     ]
    }
   ],
   "source": [
    "experiments=\"first second third\"\n",
    "\n",
    "for e in $experiments\n",
    "do\n",
    "  sleep 1 && echo Launched $e &\n",
    "done"
   ]
  },
  {
   "cell_type": "markdown",
   "id": "e3081ee5",
   "metadata": {},
   "source": [
    "__`while`__ loop\n",
    "\n",
    "Consider the task of counting lines in a file"
   ]
  },
  {
   "cell_type": "code",
   "execution_count": 32,
   "id": "228c7c12",
   "metadata": {},
   "outputs": [
    {
     "name": "stdout",
     "output_type": "stream",
     "text": [
      "Start counting...\n",
      "done\n",
      "Number of lines in : 13\n"
     ]
    }
   ],
   "source": [
    "filename=\"./data/text.txt\"\n",
    "declare -i count; count=0\n",
    "\n",
    "echo \"Start counting...\"\n",
    "# loop over all lines of  file\n",
    "while read p\n",
    "do\n",
    "    # increase line counter\n",
    "    ((count++))\n",
    "done < $filename\n",
    "echo \"done\"\n",
    "\n",
    "echo \"Number of lines in $file: $count\""
   ]
  },
  {
   "cell_type": "markdown",
   "id": "45bc5008",
   "metadata": {},
   "source": [
    "Color printing by setting terminal [properties](https://linuxcommand.org/lc3_adv_tput.php)"
   ]
  },
  {
   "cell_type": "code",
   "execution_count": 33,
   "id": "8100bcf0",
   "metadata": {},
   "outputs": [
    {
     "name": "stdout",
     "output_type": "stream",
     "text": [
      "Launched first\n",
      "Launched second\n",
      "Launched third\n",
      "[1]   Done                    sleep 1 && echo Launched $e\n",
      "[2]-  Done                    sleep 1 && echo Launched $e\n",
      "[3]+  Done                    sleep 1 && echo Launched $e\n",
      "\u001b[31m\u001b[42mIndex is 1\n",
      "\u001b[91m\u001b[32m\u001b[43mIndex is 2\n",
      "\u001b[91m\u001b[33m\u001b[44mIndex is 3\n",
      "\u001b[91m\u001b[34m\u001b[45mIndex is 4\n",
      "\u001b[91m\n"
     ]
    }
   ],
   "source": [
    "declare -i index; index=1\n",
    "\n",
    "normal=$(tput setaf 9)\n",
    "\n",
    "while [ $index -le 4 ]\n",
    "do\n",
    "    tput setaf $index          # Foreground\n",
    "    tput setab $((index+1))          # Background\n",
    "    echo Index is $index\n",
    "    tput setaf 9   # Restore\n",
    "    ((index++))\n",
    "done"
   ]
  },
  {
   "cell_type": "markdown",
   "id": "ea5d7fac",
   "metadata": {},
   "source": [
    "#### Functions\n",
    "\n",
    "Functions are declared by `function` keyword and called with their name followed by arguments. Note that by default variables inside the function body are global"
   ]
  },
  {
   "cell_type": "code",
   "execution_count": 34,
   "id": "56e5cec6",
   "metadata": {},
   "outputs": [
    {
     "name": "stdout",
     "output_type": "stream",
     "text": [
      "Nothing\n",
      "greet was called\n",
      "some value What\n"
     ]
    }
   ],
   "source": [
    "myresult=\"Nothing\"\n",
    "\n",
    "function greet\n",
    "{\n",
    "    echo \"greet was called\"\n",
    "    myresult='some value'  # Global\n",
    "    insideresult=\"What\"    # Global\n",
    "}\n",
    "\n",
    "echo $myresult\n",
    "greet  # Call\n",
    "echo $myresult $insideresult"
   ]
  },
  {
   "cell_type": "markdown",
   "id": "16f8239d",
   "metadata": {},
   "source": [
    "Arguments of the function can be parsed with special accessors"
   ]
  },
  {
   "cell_type": "code",
   "execution_count": 35,
   "id": "9053ab42",
   "metadata": {},
   "outputs": [
    {
     "name": "stdout",
     "output_type": "stream",
     "text": [
      "foo called with 1 arguments\n",
      "The first one is /opt/homebrew/bin/bash\n",
      "command-line argument no. 1 is <This>\n",
      "\n",
      "foo called with 2 arguments\n",
      "The first one is /opt/homebrew/bin/bash\n",
      "command-line argument no. 1 is <This>\n",
      "command-line argument no. 2 is <That>\n"
     ]
    }
   ],
   "source": [
    "function foo\n",
    "{\n",
    "    echo \"foo called with $# arguments\"  # $# is the arg count\n",
    "    echo \"The first one is $0\" # NOTE the zero argument is not the first one from the user!\n",
    "                               # $1 $2 etc  \n",
    "    # Show all of them\n",
    "    declare -i n; n=1\n",
    "    for arg in $@; do\n",
    "      echo \"command-line argument no. $n is <$arg>\"\n",
    "      ((n++))\n",
    "    done\n",
    "}\n",
    "\n",
    "foo This\n",
    "echo\n",
    "foo This That"
   ]
  },
  {
   "cell_type": "markdown",
   "id": "6e6db656",
   "metadata": {},
   "source": [
    "Or we can process them in an array-style"
   ]
  },
  {
   "cell_type": "code",
   "execution_count": 36,
   "id": "51593713",
   "metadata": {},
   "outputs": [
    {
     "name": "stdout",
     "output_type": "stream",
     "text": [
      "Jim is years old\n",
      "Ana is 30 years old\n",
      "Exit status 0\n",
      "\n"
     ]
    }
   ],
   "source": [
    "function bar\n",
    "{\n",
    "    while [ $# -gt 0 ]\n",
    "    do\n",
    "        option=$1; # load arg into option\n",
    "        shift;     # move $1 pointer\n",
    "        case \"$option\" in\n",
    "            -n)\n",
    "                name=$1\n",
    "                shift\n",
    "                ;;  \n",
    "            -a)\n",
    "                age=$1; shift; ;;  \n",
    "            *)\n",
    "                echo \"$0: invalid option \\\"$option\\\"\"; exit 1;;\n",
    "        esac\n",
    "    done\n",
    "    echo $name is $age years old\n",
    "}\n",
    "\n",
    "bar -n \"Jim\"\n",
    "#echo\n",
    "bar -a 30 -n Ana\n",
    "echo \"Exit status \"$?\n",
    "echo\n",
    "# bar -a 30 -b Ana"
   ]
  },
  {
   "cell_type": "markdown",
   "id": "dfb66785",
   "metadata": {
    "editable": true,
    "slideshow": {
     "slide_type": ""
    },
    "tags": []
   },
   "source": [
    "### Combining bash commands"
   ]
  },
  {
   "cell_type": "markdown",
   "id": "02252396",
   "metadata": {},
   "source": [
    "Unix processes uses the following three standard streams as preconnected input and output communication channels:\n",
    "\n",
    "<center>\n",
    "<!--<img src=\"figs/bash_process_codes.jpg\" style=\"width: 500px;\"/>-->\n",
    "<img src=\"https://upload.wikimedia.org/wikipedia/commons/thumb/7/70/Stdstreams-notitle.svg/646px-Stdstreams-notitle.svg.png\" style=\"width: 500px;\"/>\n",
    "</center>\n",
    "\n",
    "- user input is passed to the standard input `STDIN` stream\n",
    "- normal information is passed to the standard output `STDOUT` stream\n",
    "- error information is passed to the standard error `STDERR` stream.\n",
    "\n",
    "The streams can be redireced"
   ]
  },
  {
   "cell_type": "markdown",
   "id": "0a78b4c2",
   "metadata": {},
   "source": [
    "__`STDOUT` to file__\n",
    "\n",
    "Bash redirects `>` pass `STDOUT` to a file:\n",
    "\n",
    "```bash\n",
    "./myscript.sh > myfile.txt   \n",
    "```\n",
    "same as above, but appends output to an existing file\n",
    "```bash\n",
    "./myscript.sh >> myfile.txt   \n",
    "```"
   ]
  },
  {
   "cell_type": "code",
   "execution_count": 37,
   "id": "3318511f",
   "metadata": {},
   "outputs": [
    {
     "name": "stdout",
     "output_type": "stream",
     "text": [
      "hello world!\n",
      "\n",
      "hello world!\n",
      "hello world!\n",
      "hello world!\n",
      "hello world!\n",
      "hello world!\n",
      "hello world!\n"
     ]
    }
   ],
   "source": [
    "chmod u+x ./scripts/hello_world_bang.sh\n",
    "./scripts/hello_world_bang.sh > ./data/foo.txt\n",
    "cat ./data/foo.txt\n",
    "\n",
    "echo\n",
    "\n",
    "for i in {1..5}\n",
    "do\n",
    "    ./scripts/hello_world_bang.sh >> ./data/foo.txt\n",
    "done\n",
    "cat ./data/foo.txt"
   ]
  },
  {
   "cell_type": "markdown",
   "id": "6efb0fdb",
   "metadata": {},
   "source": [
    "__File to `STDIN`__\n",
    "Use the `<` redirect to send a file to `STDIN`:"
   ]
  },
  {
   "cell_type": "code",
   "execution_count": 38,
   "id": "646ec372",
   "metadata": {},
   "outputs": [
    {
     "name": "stdout",
     "output_type": "stream",
     "text": [
      "      35\n",
      "\n",
      "\n",
      "      35\n",
      "      13\n",
      "     239\n"
     ]
    }
   ],
   "source": [
    "wc -w < ./data/text.txt # Count the number of words and print to STDOUT \n",
    "echo\n",
    "\n",
    "wc -w < ./data/text.txt > ./data/word_stat.txt # Same as above, but save STDOUT output to file\n",
    "wc -l < ./data/text.txt > ./data/line_stat.txt \n",
    "wc -m < ./data/text.txt > ./data/char_stat.txt \n",
    "echo\n",
    "\n",
    "cat ./data/word_stat.txt ./data/line_stat.txt ./data/char_stat.txt"
   ]
  },
  {
   "cell_type": "markdown",
   "id": "57790f55",
   "metadata": {},
   "source": [
    "<font color='red'>⚠️ </font> `wc` prints the word(`-w`), line(`-l`) or character(`-m`) counts for a file "
   ]
  },
  {
   "cell_type": "markdown",
   "id": "db663301",
   "metadata": {},
   "source": [
    "You can specify which stream to redirect. `[STREAM]>`. Valid values for `STREAM` is `1` for stdout, `2` for stderr and `&` for both.\n",
    "\n",
    "```bash\n",
    "./compile_model.sh                 # stdout and stderr are displayed on the terminal\n",
    "./compile_model.sh 1> out.txt      # Redirect stdout to file, same as >\n",
    "./compile_model.sh 2> err.txt      # Redirect stderr to file\n",
    "./compile_model.sh &> outerr.txt   # Redirect stdout and stderr to file\n",
    "```"
   ]
  },
  {
   "cell_type": "markdown",
   "id": "5a17d749",
   "metadata": {},
   "source": [
    "__Combining bash commands: Pipes__\n",
    "\n",
    "<center>\n",
    "<img src=\"https://upload.wikimedia.org/wikipedia/commons/thumb/f/f6/Pipeline.svg/560px-Pipeline.svg.png\n",
    "\" style=\"width: 500px;\"/>\n",
    "</center>\n",
    "\n",
    "The bash pipe `|` connects `STDOUT` of one command to `STDIN` of another. Let's look at some pipeline examples\n",
    "\n",
    "1. _Print the file content (here single column data) in a sorted way_"
   ]
  },
  {
   "cell_type": "code",
   "execution_count": 39,
   "id": "a0ad3b9f",
   "metadata": {},
   "outputs": [
    {
     "name": "stdout",
     "output_type": "stream",
     "text": [
      "      40\n",
      "aaapath\n",
      "autonomy\n",
      "autonomy\n",
      "biscuit\n",
      "charismatic\n",
      "cruel\n",
      "daughter\n",
      "decrease\n",
      "decrease\n",
      "demonstrator\n",
      "demonstrator\n",
      "drawer\n",
      "excavate\n",
      "facade\n",
      "joke\n",
      "joke\n",
      "journal\n",
      "laaaandscape\n",
      "letter\n",
      "liability\n",
      "liability\n",
      "lineage\n",
      "lung\n",
      "magnitude\n",
      "mall\n",
      "man\n",
      "maniac\n",
      "manipulation\n",
      "maximum\n",
      "maximum\n",
      "missile\n",
      "noble\n",
      "paaalace\n",
      "paaaot\n",
      "rank\n",
      "reign\n",
      "relieve\n",
      "straaaeam\n",
      "suggest\n",
      "suggest\n"
     ]
    }
   ],
   "source": [
    "# Look first how many\n",
    "wc -l < ./data/names.txt\n",
    "cat ./data/names.txt | sort"
   ]
  },
  {
   "cell_type": "markdown",
   "id": "1c271a40",
   "metadata": {},
   "source": [
    "Note that we get a possibly a very long list. To only look at a selection we could extend the pipilene with calls to \n",
    "<font color='red'>⚠️ </font> `head`, <font color='red'>⚠️ </font> `tail` and <font color='red'>⚠️ </font> `more` which \"zoom\" on beginning, end or yield chunks of the text. "
   ]
  },
  {
   "cell_type": "code",
   "execution_count": 40,
   "id": "f8920fc1",
   "metadata": {},
   "outputs": [
    {
     "name": "stdout",
     "output_type": "stream",
     "text": [
      "aaapath\n",
      "autonomy\n",
      "autonomy\n"
     ]
    }
   ],
   "source": [
    "cat ./data/names.txt | sort | head -3"
   ]
  },
  {
   "cell_type": "code",
   "execution_count": 41,
   "id": "10d6b1cc",
   "metadata": {},
   "outputs": [
    {
     "name": "stdout",
     "output_type": "stream",
     "text": [
      "straaaeam\n",
      "suggest\n",
      "suggest\n"
     ]
    }
   ],
   "source": [
    "cat ./data/names.txt | sort | tail -3"
   ]
  },
  {
   "cell_type": "code",
   "execution_count": 42,
   "id": "695f47ca",
   "metadata": {},
   "outputs": [],
   "source": [
    "# NOTE: not notebook friendly as it expects some user interaction - run in terminal\n",
    "# cat ./data/names.txt | sort | more -2"
   ]
  },
  {
   "cell_type": "markdown",
   "id": "aae404d6",
   "metadata": {},
   "source": [
    "2. _Introduce T junction_\n",
    "\n",
    "Buiding on the previous example we might want to only get the count of unique words. This can be accomplised by adding  <font color='red'>⚠️ </font> `uniq` to the pipiline"
   ]
  },
  {
   "cell_type": "code",
   "execution_count": 43,
   "id": "119992c3",
   "metadata": {},
   "outputs": [
    {
     "name": "stdout",
     "output_type": "stream",
     "text": [
      "      33\n"
     ]
    }
   ],
   "source": [
    "cat ./data/names.txt | sort | uniq | wc -l"
   ]
  },
  {
   "cell_type": "markdown",
   "id": "29fc5e44",
   "metadata": {},
   "source": [
    "However, wouldn't it be useful to have the list of unique words too? This is where <font color='red'>⚠️ </font> `tee` comes in, introducing a T junction in the pipeline redirecting the partial output to a file"
   ]
  },
  {
   "cell_type": "code",
   "execution_count": 44,
   "id": "6ac81ada",
   "metadata": {},
   "outputs": [
    {
     "name": "stdout",
     "output_type": "stream",
     "text": [
      "      33\n",
      "\n",
      "aaapath\n",
      "autonomy\n"
     ]
    }
   ],
   "source": [
    "cat ./data/names.txt | sort | uniq | tee ./data/unique_name.txt | wc -l\n",
    "echo\n",
    "head -2 ./data/unique_name.txt"
   ]
  },
  {
   "cell_type": "markdown",
   "id": "4f0b2667",
   "metadata": {},
   "source": [
    "3. _Combine with variables_\n",
    "\n",
    "As an example we wish to build news app. We begin by retrieving the data using <font color='red'>⚠️ </font> `curl` running in `-s` silent mode. Let's see what we work with"
   ]
  },
  {
   "cell_type": "code",
   "execution_count": 45,
   "id": "d250944a",
   "metadata": {},
   "outputs": [
    {
     "name": "stdout",
     "output_type": "stream",
     "text": [
      "          <h3 class=\"kur-newsfeed__message-title\">To pågrepet etter alvorlig voldshendelse</h3>\n",
      "          <h3 class=\"kur-newsfeed__message-title\">Fire døde etter påkjørsel ved bryllup i Madrid</h3>\n",
      "          <h3 class=\"kur-newsfeed__message-title\">To til sykehus etter eksplosjonsartet brann</h3>\n",
      "          <h3 class=\"kur-newsfeed__message-title\">Sperret av hus i Skien etter mulig voldshendelse</h3>\n",
      "          <h3 class=\"kur-newsfeed__message-title\">Fly styrtet i Victoriasjøen - 15 reddet</h3>\n",
      "          <h3 class=\"kur-newsfeed__message-title\">Drapsmistenkt nordmann fremstilles for fengsling</h3>\n",
      "          <h3 class=\"kur-newsfeed__message-title\">Norsk overvåkingstårn fikk strøm fra Russland</h3>\n",
      "          <h3 class=\"kur-newsfeed__message-title\">Mann falt i sjøen i Alver - fløyet til sykehus </h3>\n",
      "          <h3 class=\"kur-newsfeed__message-title\">Gresk avis: Tidligere statsminister og statsråder ble avlyttet</h3>\n",
      "          <h3 class=\"kur-newsfeed__message-title\">Enebolig nedbrent på Berger i Svelvik – to husløse</h3>\n"
     ]
    }
   ],
   "source": [
    "# myvar=`curl -s \"https://www.nrk.no/\"` \n",
    "# Fall back if net is down\n",
    "cat ./data/nrk_data.txt | grep newsfeed__message-title"
   ]
  },
  {
   "cell_type": "markdown",
   "id": "a9694307",
   "metadata": {},
   "source": [
    "Our next step is to extract information from this text. Specifically, we are after the first headline. One possibility is to split (as in Python string) based on some delimiter and working with \"fields\" / elemnts of the resulting array. This is the functionality of <font color='red'>⚠️ </font>`cut -d DELIMITER -fINDEX` "
   ]
  },
  {
   "cell_type": "code",
   "execution_count": 46,
   "id": "66dea0a4",
   "metadata": {},
   "outputs": [
    {
     "name": "stdout",
     "output_type": "stream",
     "text": [
      "To pågrepet etter alvorlig voldshendelse</h3\n"
     ]
    }
   ],
   "source": [
    "cat ./data/nrk_data.txt | grep newsfeed__message-title | head -1 | cut -d '>' -f2 "
   ]
  },
  {
   "cell_type": "markdown",
   "id": "c2c970b4",
   "metadata": {},
   "source": [
    "Following the same logic we can get"
   ]
  },
  {
   "cell_type": "code",
   "execution_count": 47,
   "id": "39e84826",
   "metadata": {},
   "outputs": [
    {
     "name": "stdout",
     "output_type": "stream",
     "text": [
      "To pågrepet etter alvorlig voldshendelse\n"
     ]
    }
   ],
   "source": [
    "title=`cat ./data/nrk_data.txt | grep newsfeed__message-title | head -1 | cut -d '>' -f2 | cut -d '<' -f1`\n",
    "echo $title"
   ]
  },
  {
   "cell_type": "markdown",
   "id": "0a1b8553",
   "metadata": {},
   "source": [
    "At this point we know the basics and are in position to \"glue\" different programs together. We have seen a few already, e.g. `cut`, `sort`. In the following we cover a few more which could are useful in the scientific workflow."
   ]
  },
  {
   "cell_type": "markdown",
   "id": "2de89cd1",
   "metadata": {},
   "source": [
    "## Text manipulation utilities - `grep`, `awk` and `sed`\n",
    "\n",
    "### `grep` global regular expression print\n",
    "\n",
    "Grep _searches_ input file, looks at them line by line, prints if there is a match until there are no more lines. Recall our list or words "
   ]
  },
  {
   "cell_type": "code",
   "execution_count": 48,
   "id": "77de56a9",
   "metadata": {},
   "outputs": [
    {
     "name": "stdout",
     "output_type": "stream",
     "text": [
      "journal\n",
      "lineage\n",
      "excavate\n",
      "charismatic\n",
      "rank\n",
      "missile\n",
      "biscuit\n",
      "reign\n",
      "letter\n",
      "paaalace\n"
     ]
    }
   ],
   "source": [
    "head -10 ./data/names.txt"
   ]
  },
  {
   "cell_type": "markdown",
   "id": "7dd6b958",
   "metadata": {},
   "source": [
    "By using grep we can answer questions like:\n",
    "\n",
    "1. _Are there lines containing \"ma\"?__"
   ]
  },
  {
   "cell_type": "code",
   "execution_count": 49,
   "id": "d8cf85d2",
   "metadata": {},
   "outputs": [
    {
     "name": "stdout",
     "output_type": "stream",
     "text": [
      "charismatic\n",
      "magnitude\n",
      "man\n",
      "mall\n",
      "maniac\n",
      "maximum\n",
      "manipulation\n",
      "maximum\n"
     ]
    }
   ],
   "source": [
    "grep \"ma\" ./data/names.txt"
   ]
  },
  {
   "cell_type": "markdown",
   "id": "6e8bdf96",
   "metadata": {},
   "source": [
    "2. _What are the lines and line numbers containing \"ma\"?_ (`-n`)"
   ]
  },
  {
   "cell_type": "code",
   "execution_count": 50,
   "id": "d151c253",
   "metadata": {},
   "outputs": [
    {
     "name": "stdout",
     "output_type": "stream",
     "text": [
      "4:charismatic\n",
      "16:magnitude\n",
      "21:man\n",
      "23:mall\n",
      "25:maniac\n",
      "26:maximum\n",
      "27:manipulation\n",
      "34:maximum\n"
     ]
    }
   ],
   "source": [
    "grep -n \"ma\" ./data/names.txt"
   ]
  },
  {
   "cell_type": "markdown",
   "id": "754d9754",
   "metadata": {},
   "source": [
    "Or which do not (`-v` flag for lines that do not match)"
   ]
  },
  {
   "cell_type": "code",
   "execution_count": 52,
   "id": "9d7606a2",
   "metadata": {
    "editable": true,
    "slideshow": {
     "slide_type": ""
    },
    "tags": []
   },
   "outputs": [
    {
     "name": "stdout",
     "output_type": "stream",
     "text": [
      "journal\n",
      "lineage\n",
      "excavate\n",
      "rank\n",
      "missile\n",
      "biscuit\n",
      "reign\n",
      "letter\n",
      "paaalace\n",
      "paaaot\n",
      "straaaeam\n",
      "aaapath\n",
      "laaaandscape\n",
      "drawer\n",
      "lung\n",
      "noble\n",
      "relieve\n",
      "facade\n",
      "daughter\n",
      "cruel\n",
      "suggest\n",
      "decrease\n",
      "demonstrator\n",
      "joke\n",
      "autonomy\n",
      "liability\n",
      "suggest\n",
      "decrease\n",
      "demonstrator\n",
      "joke\n",
      "autonomy\n",
      "liability\n"
     ]
    }
   ],
   "source": [
    "grep -v \"ma\" ./data/names.txt"
   ]
  },
  {
   "cell_type": "markdown",
   "id": "d8ed53b5",
   "metadata": {
    "editable": true,
    "slideshow": {
     "slide_type": ""
    },
    "tags": []
   },
   "source": [
    "3. _How many lines match ?_ (`-c`)"
   ]
  },
  {
   "cell_type": "code",
   "execution_count": 53,
   "id": "07501fb1",
   "metadata": {
    "editable": true,
    "slideshow": {
     "slide_type": ""
    },
    "tags": []
   },
   "outputs": [
    {
     "name": "stdout",
     "output_type": "stream",
     "text": [
      "8\n"
     ]
    }
   ],
   "source": [
    "grep -c \"ma\" ./data/names.txt"
   ]
  },
  {
   "cell_type": "markdown",
   "id": "8669ad9a",
   "metadata": {},
   "source": [
    "Of course we now know that the same could have been accomplised e.g. with pipes"
   ]
  },
  {
   "cell_type": "code",
   "execution_count": 54,
   "id": "661fd31c",
   "metadata": {},
   "outputs": [
    {
     "name": "stdout",
     "output_type": "stream",
     "text": [
      "       8\n"
     ]
    }
   ],
   "source": [
    "grep \"ma\" ./data/names.txt | wc -l"
   ]
  },
  {
   "cell_type": "markdown",
   "id": "40c438df",
   "metadata": {},
   "source": [
    "There is support for regular expression in the search word. By default it is limited. "
   ]
  },
  {
   "cell_type": "code",
   "execution_count": 55,
   "id": "6cd9231e",
   "metadata": {},
   "outputs": [
    {
     "name": "stdout",
     "output_type": "stream",
     "text": [
      "../12-production/environments.ipynb\n",
      "../12-production/sphinx-docs.ipynb\n",
      "../13_scikit_learn/scikit-learn-1-presentation.ipynb\n",
      "../13_scikit_learn/scikit-learn-1.ipynb\n",
      "../13_scikit_learn/scikit-learn-2.ipynb\n",
      "../14-julia-ml/julia_examples.ipynb\n",
      "../14-julia-ml/python_examples.ipynb\n",
      "../14-julia-ml/stokes_pinns.ipynb\n",
      "../about/About the course.ipynb\n",
      "../about/Introduction to git.ipynb\n",
      "../about/Scripting vs regular programming.ipynb\n",
      "../best_practices/Best practices.ipynb\n",
      "../command-line/Bash - interactive lecture.ipynb\n",
      "../command-line/Untitled.ipynb\n",
      "../command-line/cmdline_bash.ipynb\n",
      "../mixed-programming/Numba.ipynb\n",
      "../mixed-programming/Profiling and Optimizing with IPython.ipynb\n",
      "../mixed-programming/Untitled.ipynb\n",
      "../mixed-programming/mixed_programming_cython.ipynb\n",
      "../mixed-programming/mixed_programming_introduction.ipynb\n",
      "../numerical-python/exercises.ipynb\n",
      "../numerical-python/numerical_python.ipynb\n",
      "../numerical-python/python_profiling.ipynb\n",
      "../pandas/API-exercises.ipynb\n",
      "../pandas/Pandas.ipynb\n",
      "../pandas/Pandas_exercises.ipynb\n",
      "../pandas/PublicAPIs.ipynb\n",
      "../pull-request/Peer review assignment 5.ipynb\n",
      "../python/exercises.ipynb\n",
      "../python/ipython.ipynb\n",
      "../python/more_python.ipynb\n",
      "../python/packages_and_testing.ipynb\n",
      "../python/python_summary-classes.ipynb\n",
      "../python/python_summary-typing.ipynb\n",
      "../python/python_summary.ipynb\n",
      "../regular-expressions/regular-expressions.ipynb\n",
      "../tips_and_tricks/Builtin Superheroes.ipynb\n",
      "../tips_and_tricks/bash_rc_alias.ipynb\n",
      "../tips_and_tricks/git_branches.ipynb\n",
      "../tips_and_tricks/git_gui.ipynb\n",
      "../tips_and_tricks/git_ssh_keys.ipynb\n",
      "../tips_and_tricks/gitignore.ipynb\n",
      "../tips_and_tricks/ipython_embed.ipynb\n",
      "../tips_and_tricks/prettier_git.ipynb\n",
      "../tips_and_tricks/ssh_keys.ipynb\n",
      "../visualisation/Untitled.ipynb\n",
      "../visualisation/altair-demo.ipynb\n",
      "../visualisation/corona-data.ipynb\n",
      "../web-servers/Introduction to HTML - Forms.ipynb\n",
      "../web-servers/Introduction to webservers.ipynb\n",
      "../web-servers/monty-hall-game.ipynb\n",
      "../web-servers/monty-hall-rest.ipynb\n",
      "../web/Introduction to HTML.ipynb\n",
      "../web/Web scraping.ipynb\n"
     ]
    }
   ],
   "source": [
    "# Use -l to print files containing lines with regexp nu* in them\n",
    "grep -l \"nu*\" ../*/*.ipynb"
   ]
  },
  {
   "cell_type": "markdown",
   "id": "896945fd",
   "metadata": {},
   "source": [
    "With `egrep` we have the full power"
   ]
  },
  {
   "cell_type": "code",
   "execution_count": 56,
   "id": "dbb4b59a",
   "metadata": {},
   "outputs": [
    {
     "name": "stdout",
     "output_type": "stream",
     "text": [
      "../12-production/environments.ipynb\n",
      "../12-production/sphinx-docs.ipynb\n",
      "../13_scikit_learn/scikit-learn-1-presentation.ipynb\n",
      "../13_scikit_learn/scikit-learn-1.ipynb\n",
      "../13_scikit_learn/scikit-learn-2.ipynb\n",
      "../14-julia-ml/julia_examples.ipynb\n",
      "../14-julia-ml/python_examples.ipynb\n",
      "../14-julia-ml/stokes_pinns.ipynb\n",
      "../about/About the course.ipynb\n",
      "../about/Introduction to git.ipynb\n",
      "../about/Scripting vs regular programming.ipynb\n",
      "../best_practices/Best practices.ipynb\n",
      "../command-line/Bash - interactive lecture.ipynb\n",
      "../command-line/Untitled.ipynb\n",
      "../command-line/cmdline_bash.ipynb\n",
      "../mixed-programming/Numba.ipynb\n",
      "../mixed-programming/Profiling and Optimizing with IPython.ipynb\n",
      "../mixed-programming/Untitled.ipynb\n",
      "../mixed-programming/mixed_programming_cython.ipynb\n",
      "../mixed-programming/mixed_programming_introduction.ipynb\n",
      "../numerical-python/exercises.ipynb\n",
      "../numerical-python/numerical_python.ipynb\n",
      "../numerical-python/python_profiling.ipynb\n",
      "../pandas/API-exercises.ipynb\n",
      "../pandas/Pandas.ipynb\n",
      "../pandas/Pandas_exercises.ipynb\n",
      "../pandas/PublicAPIs.ipynb\n",
      "../pull-request/Peer review assignment 5.ipynb\n",
      "../python/exercises.ipynb\n",
      "../python/ipython.ipynb\n",
      "../python/more_python.ipynb\n",
      "../python/packages_and_testing.ipynb\n",
      "../python/python_summary-classes.ipynb\n",
      "../python/python_summary-typing.ipynb\n",
      "../python/python_summary.ipynb\n",
      "../regular-expressions/regular-expressions.ipynb\n",
      "../tips_and_tricks/Builtin Superheroes.ipynb\n",
      "../tips_and_tricks/bash_rc_alias.ipynb\n",
      "../tips_and_tricks/git_gui.ipynb\n",
      "../tips_and_tricks/ipython_embed.ipynb\n",
      "../tips_and_tricks/prettier_git.ipynb\n",
      "../visualisation/altair-demo.ipynb\n",
      "../visualisation/corona-data.ipynb\n",
      "../web-servers/Introduction to HTML - Forms.ipynb\n",
      "../web-servers/Introduction to webservers.ipynb\n",
      "../web-servers/monty-hall-game.ipynb\n",
      "../web-servers/monty-hall-rest.ipynb\n",
      "../web/Introduction to HTML.ipynb\n",
      "../web/Web scraping.ipynb\n"
     ]
    }
   ],
   "source": [
    "egrep -l \"np|numpy|python|import\" ../*/*.ipynb"
   ]
  },
  {
   "cell_type": "markdown",
   "id": "5a9ad5b7",
   "metadata": {},
   "source": [
    "__`awk`__  is a text pattern scanning and processing language. It operates on lines of the input file which it sees as being made of fields marked by a separator. This allows to extract information and do further processing.\n",
    "\n",
    "Let's use `awk` to extract the file permission column "
   ]
  },
  {
   "cell_type": "code",
   "execution_count": 57,
   "id": "823eae55",
   "metadata": {},
   "outputs": [
    {
     "name": "stdout",
     "output_type": "stream",
     "text": [
      "total\n",
      "-rw-r--r--\n",
      "-rw-r--r--\n",
      "-rw-r--r--\n",
      "-rw-r--r--\n",
      "-rw-r--r--\n",
      "drwxr-xr-x\n",
      "drwxr-xr-x\n",
      "-rw-r--r--\n",
      "drwxr-xr-x\n",
      "-rw-r--r--\n",
      "drwxr-xr-x\n",
      "-rwxr-xr-x\n",
      "drwxr-xr-x\n",
      "drwxr-xr-x\n"
     ]
    }
   ],
   "source": [
    "# Unpack this\n",
    "ls -l | awk '{print $1}'"
   ]
  },
  {
   "cell_type": "markdown",
   "id": "bf00c7b1",
   "metadata": {},
   "source": [
    "Combined with grep we can get the total number of execubles "
   ]
  },
  {
   "cell_type": "code",
   "execution_count": 58,
   "id": "c56a1d89",
   "metadata": {},
   "outputs": [
    {
     "name": "stdout",
     "output_type": "stream",
     "text": [
      "7\n"
     ]
    }
   ],
   "source": [
    "ls -l | awk '{print $1}' | egrep -c \"x.\" "
   ]
  },
  {
   "cell_type": "markdown",
   "id": "e47ee5ca",
   "metadata": {},
   "source": [
    "and cout their size in bytes"
   ]
  },
  {
   "cell_type": "code",
   "execution_count": 59,
   "id": "06cbb74c",
   "metadata": {},
   "outputs": [
    {
     "name": "stdout",
     "output_type": "stream",
     "text": [
      "3359\n"
     ]
    }
   ],
   "source": [
    "# Unpack\n",
    "ls -l | awk '{print $1, $5}' | egrep \"x.\" | awk 'BEGIN {sum=0} {sum=sum+$2} END {print sum}'"
   ]
  },
  {
   "cell_type": "markdown",
   "id": "4db573b7",
   "metadata": {},
   "source": [
    "Of course the delimiter can be specified. For example with a CSV file from the Pandas lecture we would work with a comma separator"
   ]
  },
  {
   "cell_type": "code",
   "execution_count": 60,
   "id": "6aeede6f",
   "metadata": {},
   "outputs": [
    {
     "name": "stdout",
     "output_type": "stream",
     "text": [
      "\"ID\"\n",
      "\"158856\"\n",
      "\"165573\"\n",
      "\"164846\"\n",
      "\"165408\"\n",
      "\"129794\"\n",
      "\"165147\"\n",
      "\"165327\"\n",
      "\"33291\"\n",
      "\"74172\"\n",
      "awk: write error on /dev/stdout\n",
      " input record number 3942, file ./data/used_car_sales.csv\n",
      " source line number 1\n"
     ]
    }
   ],
   "source": [
    "awk -F \",\" '{print $1}' ./data/used_car_sales.csv | head -10"
   ]
  },
  {
   "cell_type": "markdown",
   "id": "b86c10c5",
   "metadata": {},
   "source": [
    "__`sed`__ stream editor allows us to do text transformation on the input stream, e.g. filter, perform substitutions. Here we will run with `-e` to embed `sed`.\n",
    "\n",
    "The first usecase we consider is `sed -e 's/pattern/substitute/' file` where we run ins `s` substitution mode. `sed` with consume the stream and for each mathc on a line peform the substition."
   ]
  },
  {
   "cell_type": "code",
   "execution_count": 61,
   "id": "282ffee0",
   "metadata": {},
   "outputs": [
    {
     "name": "stdout",
     "output_type": "stream",
     "text": [
      "journal       XXX\n",
      "lineage\t      lineage\t      \n",
      "excavate      excavate      \n",
      "charisXXXtic   charisXXXtic   \n",
      "rank\t      XXX\n",
      "XXXissile\t      XXXissile\t      \n",
      "biscuit\t      biscuit\t      \n",
      "reign\t      reign\t      \n",
      "letter\t      letter\t      \n",
      "paaalace      paaalace      \n",
      "paaaot\t      paaaot\t      \n",
      "straaaeaXXX     straaaeaXXX     \n",
      "aaapath\t      aaapath\t      \n",
      "laaaandscape  laaaandscape  \n",
      "drawer\t      drawer\t      \n",
      "XXXgnitude     XXXgnitude     \n",
      "lung\t      lung\t      \n",
      "noble\t      noble\t      \n",
      "relieve\t      relieve\t      \n",
      "facade\t      facade\t      \n",
      "XXXn\t      XXXn\t      \n",
      "daughter      daughter      \n",
      "XXXll\t      XXXll\t      \n",
      "cruel\t      cruel\t      \n",
      "XXXniac\t      XXXniac\t      \n",
      "XXXxiXXXuXXX\t      XXXxiXXXuXXX\t      \n",
      "XXXnipulation  XXXnipulation  \n",
      "suggest\t      suggest\t      \n",
      "decrease      decrease      \n",
      "deXXXonstrator  deXXXonstrator  \n",
      "joke\t      joke\t      \n",
      "autonoXXXy      autonoXXXy      \n",
      "liability     liability     \n",
      "XXXxiXXXuXXX\t      XXXxiXXXuXXX\t      \n",
      "suggest\t      suggest\t      \n",
      "decrease      decrease      \n",
      "deXXXonstrator  deXXXonstrator  \n",
      "joke\t      joke\t      \n",
      "autonoXXXy      autonoXXXy      \n",
      "liability     liability     \n"
     ]
    }
   ],
   "source": [
    "sed -e 's/ma*/XXX/g' ./data/names_columns.txt"
   ]
  },
  {
   "cell_type": "markdown",
   "id": "e727ca65",
   "metadata": {},
   "source": [
    "Note that `/g` above stands for `greedy` execution.\n",
    "\n",
    "We can redirect the output to a new file with \n",
    "```bash\n",
    "sed -e 's/ma*/XXX/g' ./data/names_columns.txt > ./data/names_modif.txt\n",
    "```\n",
    "or perform the substituion in place\n",
    "```bash\n",
    "sed -e -i 's/ma*/XXX/g' ./data/names_columns.txt\n",
    "```"
   ]
  },
  {
   "cell_type": "markdown",
   "id": "d484add4",
   "metadata": {},
   "source": [
    "The patterns can be full on regular expressions. Let's use `sed` to hide numbers from the phone book (where we pretend that all numbers have only 3 digits)"
   ]
  },
  {
   "cell_type": "code",
   "execution_count": 62,
   "id": "4bebfefc",
   "metadata": {},
   "outputs": [
    {
     "name": "stdout",
     "output_type": "stream",
     "text": [
      "# This \n",
      "# is a \n",
      "# comment\n",
      "xxx joe\n",
      "xxx miro\n",
      "ana\n",
      "xxx peter\n",
      "lucy xxx\n"
     ]
    }
   ],
   "source": [
    "sed -e 's/[0-9][0-9][0-9]/xxx/g' ./data/contacts.txt"
   ]
  },
  {
   "cell_type": "markdown",
   "id": "972430d8",
   "metadata": {},
   "source": [
    "Another usecase is to perform an action on a match. First action we will use is `p` for print. Let's print all the directories using `sed`"
   ]
  },
  {
   "cell_type": "code",
   "execution_count": 63,
   "id": "0fa8dbff",
   "metadata": {},
   "outputs": [
    {
     "name": "stdout",
     "output_type": "stream",
     "text": [
      "drwxr-xr-x  15 minrk  staff     480 Aug 28 13:48 data\n",
      "drwxr-xr-x   9 minrk  staff     288 Aug 28 13:36 figs\n",
      "drwxr-xr-x  45 minrk  staff    1440 Aug 28 13:36 hello-world\n",
      "drwxr-xr-x   3 minrk  staff      96 Aug 28 13:45 results\n",
      "drwxr-xr-x  14 minrk  staff     448 Aug 28 13:36 scripts\n",
      "drwxr-xr-x  15 minrk  staff     480 Aug 28 14:23 scripts.bk\n"
     ]
    }
   ],
   "source": [
    "ls -l | sed -n -e '/^d/ p'"
   ]
  },
  {
   "cell_type": "markdown",
   "id": "e90e7247",
   "metadata": {},
   "source": [
    "Another action is `d` for delete. Suppose you would like to remove all the comments (from say your python code)"
   ]
  },
  {
   "cell_type": "code",
   "execution_count": 64,
   "id": "bc2eb2e8",
   "metadata": {},
   "outputs": [
    {
     "name": "stdout",
     "output_type": "stream",
     "text": [
      "123 joe\n",
      "333 miro\n",
      "ana\n",
      "233 peter\n",
      "lucy 222\n"
     ]
    }
   ],
   "source": [
    "sed -e '/^#/ d' ./data/contacts.txt\n",
    "# We could redirect with > or -i for inplace"
   ]
  },
  {
   "cell_type": "markdown",
   "id": "600ac424",
   "metadata": {},
   "source": [
    "`sed` also understand line numbers so we could for example delete some 10 lines of the long CSV file"
   ]
  },
  {
   "cell_type": "code",
   "execution_count": 65,
   "id": "5783413c",
   "metadata": {},
   "outputs": [
    {
     "name": "stdout",
     "output_type": "stream",
     "text": [
      "size before 13055021\n",
      "size after 13053080\n"
     ]
    }
   ],
   "source": [
    "echo size before `ls -lrvt ./data/used_car_sales.csv | awk '{print $5}'`\n",
    "sed -i -e '2,20 d' ./data/used_car_sales.csv\n",
    "echo size after `ls -lrvt ./data/used_car_sales.csv | awk '{print $5}'`"
   ]
  },
  {
   "cell_type": "markdown",
   "id": "91154cd2",
   "metadata": {},
   "source": [
    "For more information see the nice [summary](https://www.google.com/url?sa=t&rct=j&q=&esrc=s&source=web&cd=&cad=rja&uact=8&ved=2ahUKEwjSha6_mZH7AhUPSPEDHa58A48QFnoECA8QAQ&url=https%3A%2F%2Fwww-users.york.ac.uk%2F~mijp1%2Fteaching%2F2nd_year_Comp_Lab%2Fguides%2Fgrep_awk_sed.pdf&usg=AOvVaw0np7_TlTZOLKf4aQk99DfX) by Matt Probert. We forgot to emphasize that <font color='red'>⚠️ </font> `grep`, `awk` and `sed` are more additions to our family of seen programs/commands."
   ]
  },
  {
   "cell_type": "markdown",
   "id": "625cf588",
   "metadata": {},
   "source": [
    "## File manipulation utilities - `find`, `tar` and `gzip`\n",
    "\n",
    "Assume that we have run some analysis on remote machine. When the computations are done we would like to gather the data and compress them for easier transfer.\n",
    "\n",
    "<font color='red'>⚠️ </font> `find` visits all files in a directory tree and can execute one or more commands for every file\n",
    "```bash\n",
    "find source [specifiers]\n",
    "```"
   ]
  },
  {
   "cell_type": "markdown",
   "id": "914d531c",
   "metadata": {},
   "source": [
    "We can specify the `name` and `type` (regular (f)ile, (d)irectory)"
   ]
  },
  {
   "cell_type": "code",
   "execution_count": 66,
   "id": "9a1c7842",
   "metadata": {},
   "outputs": [],
   "source": [
    "find ./scripts/ -name hello* -type f "
   ]
  },
  {
   "cell_type": "markdown",
   "id": "181ecda1",
   "metadata": {},
   "source": [
    "In case the source tree is very deep it is good idea to limit the depth of the tree traveral"
   ]
  },
  {
   "cell_type": "code",
   "execution_count": 67,
   "id": "2652bfa3",
   "metadata": {},
   "outputs": [],
   "source": [
    "find $HOME -maxdepth 1 -name *square* -type f "
   ]
  },
  {
   "cell_type": "markdown",
   "id": "9f0f56e1",
   "metadata": {},
   "source": [
    "The name specifier can combine several filters"
   ]
  },
  {
   "cell_type": "code",
   "execution_count": 68,
   "id": "a32af74c",
   "metadata": {},
   "outputs": [
    {
     "name": "stdout",
     "output_type": "stream",
     "text": [
      "/Users/minrk/.bzr.log\n"
     ]
    }
   ],
   "source": [
    "# Or find all log and PDF files\n",
    "find $HOME -maxdepth 1 \\( -name '*.log' -o -name '*.pdf' \\) -type f"
   ]
  },
  {
   "cell_type": "markdown",
   "id": "a28a73d3",
   "metadata": {},
   "source": [
    "We can also run a command for each file:\n",
    "```bash\n",
    "find rootdir -name filenamespec -exec command {} \\; -print\n",
    "# {} is the current filename\n",
    "```"
   ]
  },
  {
   "cell_type": "markdown",
   "id": "993e6b21",
   "metadata": {},
   "source": [
    "Let's use this to print a more detailed info about the file"
   ]
  },
  {
   "cell_type": "code",
   "execution_count": 69,
   "id": "bc55afa6",
   "metadata": {},
   "outputs": [
    {
     "name": "stdout",
     "output_type": "stream",
     "text": [
      "-rw-r--r--  1 minrk  staff  15868 Sep 24  2020 /Users/minrk/.bzr.log\n"
     ]
    }
   ],
   "source": [
    "find $HOME -maxdepth 1 \\( -name '*.log' -o -name '*.pdf' \\) -type f  -exec ls -lrvt {} \\;"
   ]
  },
  {
   "cell_type": "markdown",
   "id": "b64959c8",
   "metadata": {},
   "source": [
    "We can perform several actions. Below we copy `cp` the file in addition to printing some more info.  "
   ]
  },
  {
   "cell_type": "code",
   "execution_count": 70,
   "id": "4c40a602",
   "metadata": {
    "editable": true,
    "slideshow": {
     "slide_type": ""
    },
    "tags": [
     "raises-exception"
    ]
   },
   "outputs": [
    {
     "name": "stdout",
     "output_type": "stream",
     "text": [
      "ls: *.pdf: No such file or directory\n"
     ]
    },
    {
     "ename": "",
     "evalue": "1",
     "output_type": "error",
     "traceback": []
    }
   ],
   "source": [
    "find $HOME -maxdepth 1 \\( -name '*.log' -o -name '*.pdf' \\) -type f -size +30k  -exec ls -lrvt {} \\; -exec cp  \"{}\" . \\;\n",
    "ls *.pdf"
   ]
  },
  {
   "cell_type": "markdown",
   "id": "fdc89560",
   "metadata": {},
   "source": [
    "Note that we have narrowed the search by a `size` specifier. The unit above is k(ilobytes). "
   ]
  },
  {
   "cell_type": "markdown",
   "id": "912f2208",
   "metadata": {},
   "source": [
    "Now that we can find things. Let's compress them. \n",
    "\n",
    "The <font color='red'>⚠️ </font>`tar` command can pack single files or  all files in a directory tree into one file, which can be unpacked later.\n",
    "\n",
    "```bash\n",
    "tar -cvf myfiles.tar mytree file1 file2\n",
    "#           dest     sources\n",
    "# options:\n",
    "# c: pack, v: list name of files, f: pack into file\n",
    "\n",
    "# unpack the mytree tree and the files file1 and file2:\n",
    "tar -xvf myfiles.tar\n",
    "\n",
    "# options:\n",
    "# x: extract (unpack)\n",
    "```"
   ]
  },
  {
   "cell_type": "markdown",
   "id": "bded2079",
   "metadata": {},
   "source": [
    "The tarfile can be compressed with <font color='red'>⚠️ </font>`gzip` \n",
    "```bash\n",
    "gzip mytar.tar\n",
    "# result: mytar.tar.gz\n",
    "```"
   ]
  },
  {
   "cell_type": "markdown",
   "id": "41c21786",
   "metadata": {},
   "source": [
    "Let's deal with these PDFs that are lying around"
   ]
  },
  {
   "cell_type": "code",
   "execution_count": 71,
   "id": "f37ac9d7",
   "metadata": {
    "editable": true,
    "slideshow": {
     "slide_type": ""
    },
    "tags": [
     "raises-exception"
    ]
   },
   "outputs": [
    {
     "name": "stdout",
     "output_type": "stream",
     "text": [
      "tar: no files or directories specified\n",
      "gzip: can't stat: allPDFs.tar (allPDFs.tar): No such file or directory\n",
      "\n",
      "ls: allPDFs.*: No such file or directory\n"
     ]
    },
    {
     "ename": "",
     "evalue": "1",
     "output_type": "error",
     "traceback": []
    }
   ],
   "source": [
    "[ -e allPDFs.tar ] && rm allPDFs.tar\n",
    "[ -e allPDFs.tar.gz ] && rm allPDFs.tar.gz \n",
    "\n",
    "tar -cvf allPDFs.tar `find . -name '*.pdf' -print`\n",
    "gzip -k allPDFs.tar\n",
    "echo\n",
    "ls -lrvth allPDFs.*"
   ]
  },
  {
   "cell_type": "markdown",
   "id": "059619b0",
   "metadata": {},
   "source": [
    "Here we have ran `gzip` with `-k` keep flag, otherwise the tar file would be removed."
   ]
  },
  {
   "cell_type": "markdown",
   "id": "a5dd1a76",
   "metadata": {},
   "source": [
    "We started this section assuming the scenario that we find ourselves on some remote machine. How do we get there?"
   ]
  },
  {
   "cell_type": "markdown",
   "id": "f613a2af",
   "metadata": {},
   "source": [
    "### Remote connection utilities\n",
    "\n",
    "Here are some commands that come in handy when working with remote machines. They are all <font color='red'>⚠️ </font>\n",
    "\n",
    "- `ping` is the machine connected?\n",
    "- `ssh` to connect over SSH, `-X` or `-Y`  switch for window forwarding, i.e. graphics\n",
    "```bash\n",
    "ssh username@hostname\n",
    "```\n",
    "- `scp` secured copy, `-r` for directories\n",
    "```bash\n",
    "ssh username@hostname:/path/to/source destination\n",
    "```\n",
    "- `hostname` how is the machine called?\n",
    "- `whoami` what is my user name\n",
    "- `who` who else is logged in\n",
    "- `ps` what are the running processes\n",
    "- `top` see how much resources are used\n",
    "- `which` see which executable is used when calling (`which python` - do you have the right interpreter?)"
   ]
  },
  {
   "cell_type": "markdown",
   "id": "424ff0d1",
   "metadata": {},
   "source": [
    "We demo most of the above commands outside in the terminal. We make one exception below to see some of the concepts discussed today in action"
   ]
  },
  {
   "cell_type": "code",
   "execution_count": 72,
   "id": "84ae1562",
   "metadata": {
    "editable": true,
    "slideshow": {
     "slide_type": ""
    },
    "tags": []
   },
   "outputs": [
    {
     "name": "stdout",
     "output_type": "stream",
     "text": [
      "Internet connected\n"
     ]
    }
   ],
   "source": [
    " # evalApply is name of my machine and I have SSH server runing on it \n",
    "ping google.com -c 1 &> /dev/null\n",
    "\n",
    "if [ $? -gt 0 ]; then\n",
    "    echo Internet not connected\n",
    "else\n",
    "    echo Internet connected\n",
    "fi"
   ]
  },
  {
   "cell_type": "markdown",
   "id": "3de1475b",
   "metadata": {},
   "source": [
    "<center>\n",
    "          <img src=\"figs/one-ping-only.gif\"\" style=\"width: 500px;\"/>\n",
    "</center>"
   ]
  },
  {
   "cell_type": "markdown",
   "id": "5aa03d22",
   "metadata": {
    "editable": true,
    "slideshow": {
     "slide_type": ""
    },
    "tags": []
   },
   "source": [
    "## Plotting utilities\n",
    "\n",
    "Now that we have data we may want to do some visual exploration. One option is to [GNUPlot](http://www.gnuplot.info/docs_4.2/). Note that the program does not ship with Ubuntu by default and needs to be installed. Gnuplot offers interactive plotting (somewhat like building up the plot in ipython). It can also exacure scripts. For example, below is a rather intuite way of producing a plot from data\n",
    "\n",
    "```bash\n",
    "plot \"data1_leg.txt\" using 1:2 title 'L0' with linespoints lt 3 lc rgb 'red', \\\n",
    "     \"data2_leg.txt\" using 1:3 title 'L1' with linespoints\n",
    "```\n",
    "\n",
    "This can be entered on a prompt when gnuplot is running \n",
    "```bash\n",
    "gnuplot\n",
    "gnuplot> COMMANDS HERE\n",
    "```\n",
    "\n",
    "or if we have stored the source in a file, say `foo.txt`, we can get the plot by `gnuplot -p foo.txt`. Nice feature of GNUPlot is the ability to generate plots for LaTex. "
   ]
  },
  {
   "cell_type": "markdown",
   "id": "6b13c731",
   "metadata": {},
   "source": [
    "Note that GNUPlot is not limited to line plots, cf. the gallery of [examples](https://gnuplot.sourceforge.net/demo/)"
   ]
  },
  {
   "cell_type": "code",
   "execution_count": null,
   "id": "7e38f31e",
   "metadata": {
    "editable": true,
    "slideshow": {
     "slide_type": ""
    },
    "tags": []
   },
   "outputs": [],
   "source": [
    "./scripts/tori.gplot"
   ]
  },
  {
   "cell_type": "markdown",
   "id": "96a106f7",
   "metadata": {
    "editable": true,
    "slideshow": {
     "slide_type": ""
    },
    "tags": []
   },
   "source": [
    "<center>\n",
    "  <img src=\"figs/tori_gnuplot.svg\"\" style=\"width: 500px;\"/>\n",
    "</center>"
   ]
  }
 ],
 "metadata": {
  "kernelspec": {
   "display_name": "Bash",
   "language": "bash",
   "name": "bash"
  },
  "language_info": {
   "codemirror_mode": "shell",
   "file_extension": ".sh",
   "mimetype": "text/x-sh",
   "name": "bash"
  }
 },
 "nbformat": 4,
 "nbformat_minor": 5
}
