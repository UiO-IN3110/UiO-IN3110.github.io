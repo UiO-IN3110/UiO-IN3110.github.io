{
 "cells": [
  {
   "cell_type": "markdown",
   "id": "5cc3ccbc",
   "metadata": {
    "slideshow": {
     "slide_type": ""
    },
    "tags": []
   },
   "source": [
    "# Bash programming and Linux command-line tools\n",
    "\n",
    "<center>\n",
    "  <img src=\"figs/bash.png\" style=\"width: 500px;\"/>\n",
    "</center>\n",
    "    \n",
    "In our course **IN3110 – Problemløsning med høynivå-språk** we have so far only used Python (mostly; Cython). In this lecture we will add to the family of languages as we will discuss shell(Bash) scripting. The takehome message is that (simple) scripts combined with other command-line utities can provide elegant solutions and powerful pre/processing pipelines for processing data. "
   ]
  },
  {
   "cell_type": "markdown",
   "id": "a6d8924b",
   "metadata": {},
   "source": [
    "## A bit of history - there were/are many shells\n",
    "\n",
    "- 1979: Bourne shell (`sh`)\n",
    "- 1978: C and TC shell (`csh` and `tcsh`)\n",
    "- 1989: Bourne Again shell (`bash`)\n",
    "- Bash derivatives: \n",
    "    - 1983: Korn shell (`ksh`), \n",
    "    - 1990: Z shell (`zsh`)\n",
    "    - 2002: Dash (`dash`),  "
   ]
  },
  {
   "cell_type": "markdown",
   "id": "03509aca",
   "metadata": {},
   "source": [
    "## Why learn Bash? \n",
    "\n",
    "- Learning Bash means learning the roots of scripting \n",
    "- Bash, are frequently encountered on Unix systems\n",
    "- Bash is the dominating command interpreter and scripting language\n",
    "\n",
    "Shell scripts evolve naturally from a workflow: \n",
    "  1. A sequence of commands you use often are placed in a file\n",
    "  2. Command-line options are introduced to enable different options to be passed to the commands\n",
    "  3. Introducing variables, if tests, loops enables more complex program flow\n",
    "  4. At some point pre- and postprocessing becomes too advanced for bash, at which point (parts of) the script should be ported to Python or other tools\n",
    "  \n",
    "In this lecture we imagine that we find ourselves working e.g. on some Linux cluster where we cannot get the admin permission to install Python modules or text editors we have available on our machines. We will try to get things done with utilities that are commonly installed by default."
   ]
  },
  {
   "cell_type": "markdown",
   "id": "c38a0dee",
   "metadata": {},
   "source": [
    "## What Bash is *good* for\n",
    "\n",
    "- File and directory management\n",
    "- Systems management (build scripts)\n",
    "- Combining other scripts and commands\n",
    "- Rapid prototyping of more advanced scripts\n",
    "- Very simple output processing, plotting etc."
   ]
  },
  {
   "cell_type": "markdown",
   "id": "0d656de8",
   "metadata": {},
   "source": [
    "## Some common tasks in Bash\n",
    "\n",
    "- file writing and managing files and directories (creation, deletion, renaming)\n",
    "- for-loops\n",
    "- running an application\n",
    "- combining applications (pipes)\n",
    "- file globbing, testing file types"
   ]
  },
  {
   "cell_type": "markdown",
   "id": "6b0e024b",
   "metadata": {},
   "source": [
    "## What Bash is *not* good for\n",
    "\n",
    "- Cross-platform portability\n",
    "- Graphics, GUIs\n",
    "- Interface with libraries or legacy code\n",
    "- More advanced post processing and plotting\n",
    "- Calculations, math etc."
   ]
  },
  {
   "cell_type": "markdown",
   "id": "803c68d1",
   "metadata": {},
   "source": [
    "## Installation\n",
    "\n",
    "- All our examples can be run under Bash, and many in the Bourne shell\n",
    "- Differences in operating systems:\n",
    "    - Mac OSX: `/bin/sh` is just a link to Bash (`/bin/bash`).\n",
    "    - Ubuntu: `/bin/sh` is a link to Dash, a minimal, but much faster shell than bash. Alternatively `/bin/bash`\n",
    "    - Windows: bash is available through `cygwin` or the Linux-Subsystem in Windows 10.  \n",
    "    \n",
    "**Use within jupyter notebooks**: We will use line magic `!` or cell magic `` to run the shell commands in the notebook.\n",
    "\n",
    "**Alternatively** We can install a [bash kernel](http://slhogle.github.io/2017/bash_jupyter_notebook/) and use it within the notebook (Kernel>Set kernel)"
   ]
  },
  {
   "cell_type": "markdown",
   "id": "82800aef",
   "metadata": {
    "slideshow": {
     "slide_type": ""
    },
    "tags": []
   },
   "source": [
    "## Bash tutorial\n",
    "You will see a number of Bash/Unix commands in this lecture. The new commands will be highlighted with a <font color='red'>⚠️ </font>."
   ]
  },
  {
   "cell_type": "code",
   "execution_count": 3,
   "id": "f79fa6ee",
   "metadata": {},
   "outputs": [
    {
     "name": "stdout",
     "output_type": "stream",
     "text": [
      "Hello from bash\r\n"
     ]
    }
   ],
   "source": [
    "!echo \"Hello from bash\""
   ]
  },
  {
   "cell_type": "markdown",
   "id": "47bfa5a0",
   "metadata": {},
   "source": [
    "Function is called by giving its named followed by arguments. <font color='red'>⚠️ </font> `echo` prints text to screen."
   ]
  },
  {
   "cell_type": "markdown",
   "id": "debe78e6",
   "metadata": {},
   "source": [
    "We could write the above source code into a source file, here `./scripts/hello_world.sh`"
   ]
  },
  {
   "cell_type": "markdown",
   "id": "47fdc3a1",
   "metadata": {
    "slideshow": {
     "slide_type": ""
    },
    "tags": []
   },
   "source": [
    "### VIM intermezzo\n",
    "\n",
    "To stick to our scenario of being stuck on a cluster where there is no VScode/SublimeText and what not let us use VIM for editing. VIM is a powerful text editor (i(M)proving it predecessor VI editor) - here we will only scratch \n",
    "its surface (no macros, advanced search). In some sense the philosphy behind VIM is that a painter first picks his instrument (mode selection), places it on the canvas (navigation) before starting to draw (e.g. editing)."
   ]
  },
  {
   "cell_type": "markdown",
   "id": "55bfd889",
   "metadata": {},
   "source": [
    "_Navigation_\n",
    "`ESC` to leave the current mode. Then press\n",
    "- `0` jump to line beginning\n",
    "- `$` jump to line end\n",
    "- `h`, `l`, `j`, `k` to move left, right, down or up\n",
    "- `gg` to jump to the start of the file, or `G` to jump to the end\n",
    "- `w` to jump forward a word or  `b` to move back a word\n",
    "\n",
    "_Manipulation/Editing_\n",
    "- Pressing `i` enters edit mode (you can type as you want)\n",
    "- Pressing `x`, `dw`, `dd` deletes respectivel a character, word or entire line\n",
    "- Pressing NUMBER before the command in general repeats it NUMBER times\n",
    "- Pressing `.` repeats the previous action\n",
    "- `ctrl+a` jumps to the end of the line and enters edit mode\n",
    "- `s` (substitute) deletes the character under cursor and enters edit mode\n",
    "- `u` undoes\n",
    "- 'v' enters visual mode\n",
    "- `:w` saves the buffer to file\n",
    "\n",
    "_Search_\n",
    "- `/` enters search mode. After specifying the pattern pressing `n` will move forward to the next match, while `N` searches backward\n",
    "\n",
    "[_Exiting_](https://stackoverflow.blog/2017/05/23/stack-overflow-helping-one-million-developers-exit-vim/)\n",
    "- `:q` or `:q!` \n",
    "\n",
    "<center>\n",
    "          <img src=\"figs/vim.png\" style=\"width: 800px;\"/>\n",
    "</center>   "
   ]
  },
  {
   "cell_type": "markdown",
   "id": "5ead68c2",
   "metadata": {},
   "source": [
    "A great reference to learn more about VIM is the book [Practical VIM: Edit Text at the Speed of Thought](https://www.amazon.com/Practical-Vim-Edit-Speed-Thought/dp/1680501275). "
   ]
  },
  {
   "cell_type": "markdown",
   "id": "a8dde46e",
   "metadata": {
    "slideshow": {
     "slide_type": ""
    },
    "tags": []
   },
   "source": [
    "### Back to Bash"
   ]
  },
  {
   "cell_type": "code",
   "execution_count": 4,
   "id": "93bf5183",
   "metadata": {},
   "outputs": [
    {
     "name": "stdout",
     "output_type": "stream",
     "text": [
      "#!/bin/bash\r\n",
      "# This is a regular comment line\r\n",
      "echo \"hello world!\"\r\n"
     ]
    }
   ],
   "source": [
    "! cat ./scripts/hello_world.sh"
   ]
  },
  {
   "cell_type": "markdown",
   "id": "439af8d5",
   "metadata": {},
   "source": [
    "Here the lines starting with hash `#` interpreted as comments. \n",
    "\n",
    "Above we have used <font color='red'>⚠️ </font> `cat` command to view the file content. Later we will see that it can be used for reading and writing too. "
   ]
  },
  {
   "cell_type": "markdown",
   "id": "c609de4e",
   "metadata": {},
   "source": [
    "Now we could try to run the script only to find that we get and error"
   ]
  },
  {
   "cell_type": "code",
   "execution_count": 8,
   "id": "4692983f",
   "metadata": {
    "slideshow": {
     "slide_type": ""
    },
    "tags": [
     "raises-exception"
    ]
   },
   "outputs": [
    {
     "name": "stdout",
     "output_type": "stream",
     "text": [
      "hello world!\r\n"
     ]
    }
   ],
   "source": [
    "! ./scripts/hello_world.sh"
   ]
  },
  {
   "cell_type": "markdown",
   "id": "9048c213",
   "metadata": {},
   "source": [
    "The issue is that the file is not executable. We can see this with <font color='red'>⚠️ </font> `ls` command (where we specify the \"-l\" flag to get a long output)"
   ]
  },
  {
   "cell_type": "code",
   "execution_count": 6,
   "id": "1addafb2",
   "metadata": {},
   "outputs": [
    {
     "name": "stdout",
     "output_type": "stream",
     "text": [
      "-rwxrw-r-- 1 mirok mirok 65 sep.   5 16:42 ./scripts/hello_world.sh\r\n"
     ]
    }
   ],
   "source": [
    "! ls -l ./scripts/hello_world.sh"
   ]
  },
  {
   "cell_type": "markdown",
   "id": "fcfb8e9d",
   "metadata": {},
   "source": [
    "The permisions are r(ead), w(rite), x(execute) and are specified gor user groups owner(u)/group(g)/other(o)."
   ]
  },
  {
   "cell_type": "markdown",
   "id": "0b995e9e",
   "metadata": {},
   "source": [
    "For fix we use the <font color='red'>⚠️ </font> `chmod` command. In particular, below we add execution permission to the user (group)  "
   ]
  },
  {
   "cell_type": "code",
   "execution_count": 9,
   "id": "33e039a1",
   "metadata": {},
   "outputs": [
    {
     "name": "stdout",
     "output_type": "stream",
     "text": [
      "-rwxrwxr-x 1 mirok mirok 65 sep.   5 16:42 ./scripts/hello_world.sh\n"
     ]
    }
   ],
   "source": [
    "%%bash\n",
    "chmod u+x ./scripts/hello_world.sh\n",
    "ls -l ./scripts/hello_world.sh"
   ]
  },
  {
   "cell_type": "markdown",
   "id": "89b00b1f",
   "metadata": {},
   "source": [
    "Now we can finally execute"
   ]
  },
  {
   "cell_type": "code",
   "execution_count": 10,
   "id": "351d6112",
   "metadata": {},
   "outputs": [
    {
     "name": "stdout",
     "output_type": "stream",
     "text": [
      "hello world!\r\n"
     ]
    }
   ],
   "source": [
    "! ./scripts/hello_world.sh"
   ]
  },
  {
   "cell_type": "markdown",
   "id": "0abf743a",
   "metadata": {},
   "source": [
    "Now that the code run we could ask about who actually run/interpreted it. Bash uses itself as default interpreter, if not otherwise specified. We can be explicit about the interpreter:"
   ]
  },
  {
   "cell_type": "code",
   "execution_count": 14,
   "id": "5639b8f6",
   "metadata": {},
   "outputs": [
    {
     "name": "stdout",
     "output_type": "stream",
     "text": [
      "#!/bin/bash\r\n",
      "# This is a regular comment line\r\n",
      "echo \"hello world!\"\r\n"
     ]
    }
   ],
   "source": [
    "! cat scripts/hello_world_bang.sh"
   ]
  },
  {
   "cell_type": "code",
   "execution_count": 11,
   "id": "d3d20eb1",
   "metadata": {},
   "outputs": [],
   "source": [
    "print?"
   ]
  },
  {
   "cell_type": "markdown",
   "id": "791056a3",
   "metadata": {},
   "source": [
    "Observe that the first line starting with `shebang`, i.e. `#!` specifies the interpreter to use for the script. The second line, starting with the hash, `#`, is a comment. "
   ]
  },
  {
   "cell_type": "markdown",
   "id": "a7c90344",
   "metadata": {},
   "source": [
    "__Note__ We could have specified a different interpreter/shell as by giving instead the first line `/usr/bin/sh`. Let's see what sort of shell that is"
   ]
  },
  {
   "cell_type": "code",
   "execution_count": 12,
   "id": "09bffea0",
   "metadata": {},
   "outputs": [
    {
     "name": "stdout",
     "output_type": "stream",
     "text": [
      "DASH(1)                   BSD General Commands Manual                  DASH(1)\n",
      "\n",
      "NAME\n",
      "     dash — command interpreter (shell)\n",
      "\n",
      "SYNOPSIS\n",
      "     dash [-aCefnuvxIimqVEbp] [+aCefnuvxIimqVEbp] [-o option_name]\n",
      "          [+o option_name] [command_file [argument ...]]\n",
      "     dash -c [-aCefnuvxIimqVEbp] [+aCefnuvxIimqVEbp] [-o option_name]\n",
      "          [+o option_name] command_string [command_name [argument ...]]\n",
      "     dash -s [-aCefnuvxIimqVEbp] [+aCefnuvxIimqVEbp] [-o option_name]\n",
      "          [+o option_name] [argument ...]\n",
      "\n",
      "DESCRIPTION\n",
      "     dash is the standard command interpreter for the system.  The current\n",
      "     version of dash is in the process of being changed to conform with the\n",
      "     POSIX 1003.2 and 1003.2a specifications for the shell.  This version has\n",
      "     many features which make it appear similar in some respects to the Korn\n",
      "     shell, but it is not a Korn shell clone (see ksh(1)).  Only features des‐\n",
      "     ignated by POSIX, plus a few Berkeley extensions, are being incorporated\n",
      "     into this shell.  This man page is not intended to be a tutorial or a\n",
      "     complete specification of the shell.\n",
      "\n",
      "   Overview\n",
      "     The shell is a command that reads lines from either a file or the termi‐\n",
      "     nal, interprets them, and generally executes other commands.  It is the\n",
      "     program that is running when a user logs into the system (although a user\n",
      "     can select a different shell with the chsh(1) command).  The shell imple‐\n",
      "     ments a language that has flow control constructs, a macro facility that\n",
      "     provides a variety of features in addition to data storage, along with\n",
      "     built in history and line editing capabilities.  It incorporates many\n",
      "     features to aid interactive use and has the advantage that the interpre‐\n",
      "     tative language is common to both interactive and non-interactive use\n",
      "     (shell scripts).  That is, commands can be typed directly to the running\n",
      "     shell or can be put into a file and the file can be executed directly by\n",
      "     the shell.\n",
      "\n",
      "   Invocation\n",
      "     If no args are present and if the standard input of the shell is con‐\n",
      "     nected to a terminal (or if the -i flag is set), and the -c option is not\n",
      "     present, the shell is considered an interactive shell.  An interactive\n",
      "     shell generally prompts before each command and handles programming and\n",
      "     command errors differently (as described below).  When first starting,\n",
      "     the shell inspects argument 0, and if it begins with a dash ‘-’, the\n",
      "     shell is also considered a login shell.  This is normally done automati‐\n",
      "     cally by the system when the user first logs in.  A login shell first\n",
      "     reads commands from the files /etc/profile and .profile if they exist.\n",
      "     If the environment variable ENV is set on entry to an interactive shell,\n",
      "     or is set in the .profile of a login shell, the shell next reads commands\n",
      "     from the file named in ENV.  Therefore, a user should place commands that\n",
      "     are to be executed only at login time in the .profile file, and commands\n",
      "     that are executed for every interactive shell inside the ENV file.  To\n",
      "     set the ENV variable to some file, place the following line in your\n",
      "     .profile of your home directory\n",
      "\n",
      "           ENV=$HOME/.shinit; export ENV\n",
      "\n",
      "     substituting for “.shinit” any filename you wish.\n",
      "\n",
      "     If command line arguments besides the options have been specified, then\n",
      "     the shell treats the first argument as the name of a file from which to\n",
      "     read commands (a shell script), and the remaining arguments are set as\n",
      "     the positional parameters of the shell ($1, $2, etc).  Otherwise, the\n",
      "     shell reads commands from its standard input.\n",
      "\n",
      "   Argument List Processing\n",
      "     All of the single letter options that have a corresponding name can be\n",
      "     used as an argument to the -o option.  The set -o name is provided next\n",
      "     to the single letter option in the description below.  Specifying a dash\n",
      "     “-” turns the option on, while using a plus “+” disables the option.  The\n",
      "     following options can be set from the command line or with the set\n",
      "     builtin (described later).\n",
      "\n",
      "           -a allexport     Export all variables assigned to.\n",
      "\n",
      "           -c               Read commands from the command_string operand in‐\n",
      "                            stead of from the standard input.  Special parame‐\n",
      "                            ter 0 will be set from the command_name operand\n",
      "                            and the positional parameters ($1, $2, etc.)  set\n",
      "                            from the remaining argument operands.\n",
      "\n",
      "           -C noclobber     Don't overwrite existing files with “>”.\n",
      "\n",
      "           -e errexit       If not interactive, exit immediately if any\n",
      "                            untested command fails.  The exit status of a com‐\n",
      "                            mand is considered to be explicitly tested if the\n",
      "                            command is used to control an if, elif, while, or\n",
      "                            until; or if the command is the left hand operand\n",
      "                            of an “&&” or “||” operator.\n",
      "\n",
      "           -f noglob        Disable pathname expansion.\n",
      "\n",
      "           -n noexec        If not interactive, read commands but do not exe‐\n",
      "                            cute them.  This is useful for checking the syntax\n",
      "                            of shell scripts.\n",
      "\n",
      "           -u nounset       Write a message to standard error when attempting\n",
      "                            to expand a variable that is not set, and if the\n",
      "                            shell is not interactive, exit immediately.\n",
      "\n",
      "           -v verbose       The shell writes its input to standard error as it\n",
      "                            is read.  Useful for debugging.\n",
      "\n",
      "           -x xtrace        Write each command to standard error (preceded by\n",
      "                            a ‘+ ’) before it is executed.  Useful for debug‐\n",
      "                            ging.\n",
      "\n",
      "           -I ignoreeof     Ignore EOF's from input when interactive.\n",
      "\n",
      "           -i interactive   Force the shell to behave interactively.\n",
      "\n",
      "           -l               Make dash act as if it had been invoked as a login\n",
      "                            shell.\n",
      "\n",
      "           -m monitor       Turn on job control (set automatically when inter‐\n",
      "                            active).\n",
      "\n",
      "           -s stdin         Read commands from standard input (set automati‐\n",
      "                            cally if no file arguments are present).  This op‐\n",
      "                            tion has no effect when set after the shell has\n",
      "                            already started running (i.e. with set).\n",
      "\n",
      "           -V vi            Enable the built-in vi(1) command line editor\n",
      "                            (disables -E if it has been set).\n",
      "\n",
      "           -E emacs         Enable the built-in emacs(1) command line editor\n",
      "                            (disables -V if it has been set).\n",
      "\n",
      "           -b notify        Enable asynchronous notification of background job\n",
      "                            completion.  (UNIMPLEMENTED for 4.4alpha)\n",
      "\n",
      "           -p priviliged    Do not attempt to reset effective uid if it does\n",
      "                            not match uid. This is not set by default to help\n",
      "                            avoid incorrect usage by setuid root programs via\n",
      "                            system(3) or popen(3).\n",
      "\n",
      "   Lexical Structure\n",
      "     The shell reads input in terms of lines from a file and breaks it up into\n",
      "     words at whitespace (blanks and tabs), and at certain sequences of char‐\n",
      "     acters that are special to the shell called “operators”.  There are two\n",
      "     types of operators: control operators and redirection operators (their\n",
      "     meaning is discussed later).  Following is a list of operators:\n",
      "\n",
      "           Control operators:\n",
      "                 & && ( ) ; ;; | || <newline>\n",
      "\n",
      "           Redirection operators:\n",
      "                 < > >| << >> <& >& <<- <>\n",
      "\n",
      "   Quoting\n",
      "     Quoting is used to remove the special meaning of certain characters or\n",
      "     words to the shell, such as operators, whitespace, or keywords.  There\n",
      "     are three types of quoting: matched single quotes, matched double quotes,\n",
      "     and backslash.\n",
      "\n",
      "   Backslash\n",
      "     A backslash preserves the literal meaning of the following character,\n",
      "     with the exception of ⟨newline⟩.  A backslash preceding a ⟨newline⟩ is\n",
      "     treated as a line continuation.\n",
      "\n",
      "   Single Quotes\n",
      "     Enclosing characters in single quotes preserves the literal meaning of\n",
      "     all the characters (except single quotes, making it impossible to put\n",
      "     single-quotes in a single-quoted string).\n",
      "\n",
      "   Double Quotes\n",
      "     Enclosing characters within double quotes preserves the literal meaning\n",
      "     of all characters except dollarsign ($), backquote (`), and backslash\n",
      "     (\\).  The backslash inside double quotes is historically weird, and\n",
      "     serves to quote only the following characters:\n",
      "           $ ` \" \\ <newline>.\n",
      "     Otherwise it remains literal.\n",
      "\n",
      "   Reserved Words\n",
      "     Reserved words are words that have special meaning to the shell and are\n",
      "     recognized at the beginning of a line and after a control operator.  The\n",
      "     following are reserved words:\n",
      "\n",
      "           !       elif    fi      while   case\n",
      "           else    for     then    {       }\n",
      "           do      done    until   if      esac\n",
      "\n",
      "     Their meaning is discussed later.\n",
      "\n",
      "   Aliases\n",
      "     An alias is a name and corresponding value set using the alias(1) builtin\n",
      "     command.  Whenever a reserved word may occur (see above), and after\n",
      "     checking for reserved words, the shell checks the word to see if it\n",
      "     matches an alias.  If it does, it replaces it in the input stream with\n",
      "     its value.  For example, if there is an alias called “lf” with the value\n",
      "     “ls -F”, then the input:\n",
      "\n",
      "           lf foobar ⟨return⟩\n",
      "\n",
      "     would become\n",
      "\n",
      "           ls -F foobar ⟨return⟩\n",
      "\n",
      "     Aliases provide a convenient way for naive users to create shorthands for\n",
      "     commands without having to learn how to create functions with arguments.\n",
      "     They can also be used to create lexically obscure code.  This use is dis‐\n",
      "     couraged.\n",
      "\n",
      "   Commands\n",
      "     The shell interprets the words it reads according to a language, the\n",
      "     specification of which is outside the scope of this man page (refer to\n",
      "     the BNF in the POSIX 1003.2 document).  Essentially though, a line is\n",
      "     read and if the first word of the line (or after a control operator) is\n",
      "     not a reserved word, then the shell has recognized a simple command.\n",
      "     Otherwise, a complex command or some other special construct may have\n",
      "     been recognized.\n",
      "\n",
      "   Simple Commands\n",
      "     If a simple command has been recognized, the shell performs the following\n",
      "     actions:\n",
      "\n",
      "           1.   Leading words of the form “name=value” are stripped off and\n",
      "                assigned to the environment of the simple command.  Redirect‐\n",
      "                ion operators and their arguments (as described below) are\n",
      "                stripped off and saved for processing.\n",
      "\n",
      "           2.   The remaining words are expanded as described in the section\n",
      "                called “Expansions”, and the first remaining word is consid‐\n",
      "                ered the command name and the command is located.  The remain‐\n",
      "                ing words are considered the arguments of the command.  If no\n",
      "                command name resulted, then the “name=value” variable assign‐\n",
      "                ments recognized in item 1 affect the current shell.\n",
      "\n",
      "           3.   Redirections are performed as described in the next section.\n",
      "\n",
      "   Redirections\n",
      "     Redirections are used to change where a command reads its input or sends\n",
      "     its output.  In general, redirections open, close, or duplicate an exist‐\n",
      "     ing reference to a file.  The overall format used for redirection is:\n",
      "\n",
      "           [n] redir-op file\n",
      "\n",
      "     where redir-op is one of the redirection operators mentioned previously.\n",
      "     Following is a list of the possible redirections.  The [n] is an optional\n",
      "     number between 0 and 9, as in ‘3’ (not ‘[3]’), that refers to a file de‐\n",
      "     scriptor.\n",
      "\n",
      "           [n]> file   Redirect standard output (or n) to file.\n",
      "\n",
      "           [n]>| file  Same, but override the -C option.\n",
      "\n",
      "           [n]>> file  Append standard output (or n) to file.\n",
      "\n",
      "           [n]< file   Redirect standard input (or n) from file.\n",
      "\n",
      "           [n1]<&n2    Copy file descriptor n2 as stdout (or fd n1).  fd n2.\n",
      "\n",
      "           [n]<&-      Close standard input (or n).\n",
      "\n",
      "           [n1]>&n2    Copy file descriptor n2 as stdin (or fd n1).  fd n2.\n",
      "\n",
      "           [n]>&-      Close standard output (or n).\n",
      "\n",
      "           [n]<> file  Open file for reading and writing on standard input (or\n",
      "                       n).\n",
      "\n",
      "     The following redirection is often called a “here-document”.\n",
      "\n",
      "           [n]<< delimiter\n",
      "                 here-doc-text ...\n",
      "           delimiter\n",
      "\n",
      "     All the text on successive lines up to the delimiter is saved away and\n",
      "     made available to the command on standard input, or file descriptor n if\n",
      "     it is specified.  If the delimiter as specified on the initial line is\n",
      "     quoted, then the here-doc-text is treated literally, otherwise the text\n",
      "     is subjected to parameter expansion, command substitution, and arithmetic\n",
      "     expansion (as described in the section on “Expansions”).  If the operator\n",
      "     is “<<-” instead of “<<”, then leading tabs in the here-doc-text are\n",
      "     stripped.\n",
      "\n",
      "   Search and Execution\n",
      "     There are three types of commands: shell functions, builtin commands, and\n",
      "     normal programs – and the command is searched for (by name) in that or‐\n",
      "     der.  They each are executed in a different way.\n",
      "\n",
      "     When a shell function is executed, all of the shell positional parameters\n",
      "     (except $0, which remains unchanged) are set to the arguments of the\n",
      "     shell function.  The variables which are explicitly placed in the envi‐\n",
      "     ronment of the command (by placing assignments to them before the func‐\n",
      "     tion name) are made local to the function and are set to the values\n",
      "     given.  Then the command given in the function definition is executed.\n",
      "     The positional parameters are restored to their original values when the\n",
      "     command completes.  This all occurs within the current shell.\n",
      "\n",
      "     Shell builtins are executed internally to the shell, without spawning a\n",
      "     new process.\n",
      "\n",
      "     Otherwise, if the command name doesn't match a function or builtin, the\n",
      "     command is searched for as a normal program in the file system (as de‐\n",
      "     scribed in the next section).  When a normal program is executed, the\n",
      "     shell runs the program, passing the arguments and the environment to the\n",
      "     program.  If the program is not a normal executable file (i.e., if it\n",
      "     does not begin with the \"magic number\" whose ASCII representation is\n",
      "     \"#!\", so execve(2) returns ENOEXEC then) the shell will interpret the\n",
      "     program in a subshell.  The child shell will reinitialize itself in this\n",
      "     case, so that the effect will be as if a new shell had been invoked to\n",
      "     handle the ad-hoc shell script, except that the location of hashed com‐\n",
      "     mands located in the parent shell will be remembered by the child.\n",
      "\n",
      "     Note that previous versions of this document and the source code itself\n",
      "     misleadingly and sporadically refer to a shell script without a magic\n",
      "     number as a \"shell procedure\".\n",
      "\n",
      "   Path Search\n",
      "     When locating a command, the shell first looks to see if it has a shell\n",
      "     function by that name.  Then it looks for a builtin command by that name.\n",
      "     If a builtin command is not found, one of two things happen:\n",
      "\n",
      "     1.   Command names containing a slash are simply executed without per‐\n",
      "          forming any searches.\n",
      "\n",
      "     2.   The shell searches each entry in PATH in turn for the command.  The\n",
      "          value of the PATH variable should be a series of entries separated\n",
      "          by colons.  Each entry consists of a directory name.  The current\n",
      "          directory may be indicated implicitly by an empty directory name, or\n",
      "          explicitly by a single period.\n",
      "\n",
      "   Command Exit Status\n",
      "     Each command has an exit status that can influence the behaviour of other\n",
      "     shell commands.  The paradigm is that a command exits with zero for nor‐\n",
      "     mal or success, and non-zero for failure, error, or a false indication.\n",
      "     The man page for each command should indicate the various exit codes and\n",
      "     what they mean.  Additionally, the builtin commands return exit codes, as\n",
      "     does an executed shell function.\n",
      "\n",
      "     If a command consists entirely of variable assignments then the exit sta‐\n",
      "     tus of the command is that of the last command substitution if any, oth‐\n",
      "     erwise 0.\n",
      "\n",
      "   Complex Commands\n",
      "     Complex commands are combinations of simple commands with control opera‐\n",
      "     tors or reserved words, together creating a larger complex command.  More\n",
      "     generally, a command is one of the following:\n",
      "\n",
      "     •   simple command\n",
      "\n",
      "     •   pipeline\n",
      "\n",
      "     •   list or compound-list\n",
      "\n",
      "     •   compound command\n",
      "\n",
      "     •   function definition\n",
      "\n",
      "     Unless otherwise stated, the exit status of a command is that of the last\n",
      "     simple command executed by the command.\n",
      "\n",
      "   Pipelines\n",
      "     A pipeline is a sequence of one or more commands separated by the control\n",
      "     operator |.  The standard output of all but the last command is connected\n",
      "     to the standard input of the next command.  The standard output of the\n",
      "     last command is inherited from the shell, as usual.\n",
      "\n",
      "     The format for a pipeline is:\n",
      "\n",
      "           [!] command1 [| command2 ...]\n",
      "\n",
      "     The standard output of command1 is connected to the standard input of\n",
      "     command2.  The standard input, standard output, or both of a command is\n",
      "     considered to be assigned by the pipeline before any redirection speci‐\n",
      "     fied by redirection operators that are part of the command.\n",
      "\n",
      "     If the pipeline is not in the background (discussed later), the shell\n",
      "     waits for all commands to complete.\n",
      "\n",
      "     If the reserved word ! does not precede the pipeline, the exit status is\n",
      "     the exit status of the last command specified in the pipeline.  Other‐\n",
      "     wise, the exit status is the logical NOT of the exit status of the last\n",
      "     command.  That is, if the last command returns zero, the exit status is\n",
      "     1; if the last command returns greater than zero, the exit status is\n",
      "     zero.\n",
      "\n",
      "     Because pipeline assignment of standard input or standard output or both\n",
      "     takes place before redirection, it can be modified by redirection.  For\n",
      "     example:\n",
      "\n",
      "           $ command1 2>&1 | command2\n",
      "\n",
      "     sends both the standard output and standard error of command1 to the\n",
      "     standard input of command2.\n",
      "\n",
      "     A ; or ⟨newline⟩ terminator causes the preceding AND-OR-list (described\n",
      "     next) to be executed sequentially; a & causes asynchronous execution of\n",
      "     the preceding AND-OR-list.\n",
      "\n",
      "     Note that unlike some other shells, each process in the pipeline is a\n",
      "     child of the invoking shell (unless it is a shell builtin, in which case\n",
      "     it executes in the current shell – but any effect it has on the environ‐\n",
      "     ment is wiped).\n",
      "\n",
      "   Background Commands – &\n",
      "     If a command is terminated by the control operator ampersand (&), the\n",
      "     shell executes the command asynchronously – that is, the shell does not\n",
      "     wait for the command to finish before executing the next command.\n",
      "\n",
      "     The format for running a command in background is:\n",
      "\n",
      "           command1 & [command2 & ...]\n",
      "\n",
      "     If the shell is not interactive, the standard input of an asynchronous\n",
      "     command is set to /dev/null.\n",
      "\n",
      "   Lists – Generally Speaking\n",
      "     A list is a sequence of zero or more commands separated by newlines,\n",
      "     semicolons, or ampersands, and optionally terminated by one of these\n",
      "     three characters.  The commands in a list are executed in the order they\n",
      "     are written.  If command is followed by an ampersand, the shell starts\n",
      "     the command and immediately proceeds onto the next command; otherwise it\n",
      "     waits for the command to terminate before proceeding to the next one.\n",
      "\n",
      "   Short-Circuit List Operators\n",
      "     “&&” and “||” are AND-OR list operators.  “&&” executes the first com‐\n",
      "     mand, and then executes the second command if and only if the exit status\n",
      "     of the first command is zero.  “||” is similar, but executes the second\n",
      "     command if and only if the exit status of the first command is nonzero.\n",
      "     “&&” and “||” both have the same priority.\n",
      "\n",
      "   Flow-Control Constructs – if, while, for, case\n",
      "     The syntax of the if command is\n",
      "\n",
      "           if list\n",
      "           then list\n",
      "           [ elif list\n",
      "           then    list ] ...\n",
      "           [ else list ]\n",
      "           fi\n",
      "\n",
      "     The syntax of the while command is\n",
      "\n",
      "           while list\n",
      "           do   list\n",
      "           done\n",
      "\n",
      "     The two lists are executed repeatedly while the exit status of the first\n",
      "     list is zero.  The until command is similar, but has the word until in\n",
      "     place of while, which causes it to repeat until the exit status of the\n",
      "     first list is zero.\n",
      "\n",
      "     The syntax of the for command is\n",
      "\n",
      "           for variable [ in [ word ... ] ]\n",
      "           do   list\n",
      "           done\n",
      "\n",
      "     The words following in are expanded, and then the list is executed re‐\n",
      "     peatedly with the variable set to each word in turn.  Omitting in word\n",
      "     ... is equivalent to in \"$@\".\n",
      "\n",
      "     The syntax of the break and continue command is\n",
      "\n",
      "           break [ num ]\n",
      "           continue [ num ]\n",
      "\n",
      "     Break terminates the num innermost for or while loops.  Continue contin‐\n",
      "     ues with the next iteration of the innermost loop.  These are implemented\n",
      "     as builtin commands.\n",
      "\n",
      "     The syntax of the case command is\n",
      "\n",
      "           case word in\n",
      "           [(]pattern) list ;;\n",
      "           ...\n",
      "           esac\n",
      "\n",
      "     The pattern can actually be one or more patterns (see Shell Patterns de‐\n",
      "     scribed later), separated by “|” characters.  The “(” character before\n",
      "     the pattern is optional.\n",
      "\n",
      "   Grouping Commands Together\n",
      "     Commands may be grouped by writing either\n",
      "\n",
      "           (list)\n",
      "\n",
      "     or\n",
      "\n",
      "           { list; }\n",
      "\n",
      "     The first of these executes the commands in a subshell.  Builtin commands\n",
      "     grouped into a (list) will not affect the current shell.  The second form\n",
      "     does not fork another shell so is slightly more efficient.  Grouping com‐\n",
      "     mands together this way allows you to redirect their output as though\n",
      "     they were one program:\n",
      "\n",
      "           { printf \" hello \" ; printf \" world\\n\" ; } > greeting\n",
      "\n",
      "     Note that “}” must follow a control operator (here, “;”) so that it is\n",
      "     recognized as a reserved word and not as another command argument.\n",
      "\n",
      "   Functions\n",
      "     The syntax of a function definition is\n",
      "\n",
      "           name () command\n",
      "\n",
      "     A function definition is an executable statement; when executed it in‐\n",
      "     stalls a function named name and returns an exit status of zero.  The\n",
      "     command is normally a list enclosed between “{” and “}”.\n",
      "\n",
      "     Variables may be declared to be local to a function by using a local com‐\n",
      "     mand.  This should appear as the first statement of a function, and the\n",
      "     syntax is\n",
      "\n",
      "           local [variable | -] ...\n",
      "\n",
      "     Local is implemented as a builtin command.\n",
      "\n",
      "     When a variable is made local, it inherits the initial value and exported\n",
      "     and readonly flags from the variable with the same name in the surround‐\n",
      "     ing scope, if there is one.  Otherwise, the variable is initially unset.\n",
      "     The shell uses dynamic scoping, so that if you make the variable x local\n",
      "     to function f, which then calls function g, references to the variable x\n",
      "     made inside g will refer to the variable x declared inside f, not to the\n",
      "     global variable named x.\n",
      "\n",
      "     The only special parameter that can be made local is “-”.  Making “-” lo‐\n",
      "     cal any shell options that are changed via the set command inside the\n",
      "     function to be restored to their original values when the function re‐\n",
      "     turns.\n",
      "\n",
      "     The syntax of the return command is\n",
      "\n",
      "           return [exitstatus]\n",
      "\n",
      "     It terminates the currently executing function.  Return is implemented as\n",
      "     a builtin command.\n",
      "\n",
      "   Variables and Parameters\n",
      "     The shell maintains a set of parameters.  A parameter denoted by a name\n",
      "     is called a variable.  When starting up, the shell turns all the environ‐\n",
      "     ment variables into shell variables.  New variables can be set using the\n",
      "     form\n",
      "\n",
      "           name=value\n",
      "\n",
      "     Variables set by the user must have a name consisting solely of alphabet‐\n",
      "     ics, numerics, and underscores - the first of which must not be numeric.\n",
      "     A parameter can also be denoted by a number or a special character as ex‐\n",
      "     plained below.\n",
      "\n",
      "   Positional Parameters\n",
      "     A positional parameter is a parameter denoted by a number (n > 0).  The\n",
      "     shell sets these initially to the values of its command line arguments\n",
      "     that follow the name of the shell script.  The set builtin can also be\n",
      "     used to set or reset them.\n",
      "\n",
      "   Special Parameters\n",
      "     A special parameter is a parameter denoted by one of the following spe‐\n",
      "     cial characters.  The value of the parameter is listed next to its char‐\n",
      "     acter.\n",
      "\n",
      "     *            Expands to the positional parameters, starting from one.\n",
      "                  When the expansion occurs within a double-quoted string it\n",
      "                  expands to a single field with the value of each parameter\n",
      "                  separated by the first character of the IFS variable, or by\n",
      "                  a ⟨space⟩ if IFS is unset.\n",
      "\n",
      "     @            Expands to the positional parameters, starting from one.\n",
      "                  When the expansion occurs within double-quotes, each posi‐\n",
      "                  tional parameter expands as a separate argument.  If there\n",
      "                  are no positional parameters, the expansion of @ generates\n",
      "                  zero arguments, even when @ is double-quoted.  What this ba‐\n",
      "                  sically means, for example, is if $1 is “abc” and $2 is “def\n",
      "                  ghi”, then \"$@\" expands to the two arguments:\n",
      "\n",
      "                        \"abc\" \"def ghi\"\n",
      "\n",
      "     #            Expands to the number of positional parameters.\n",
      "\n",
      "     ?            Expands to the exit status of the most recent pipeline.\n",
      "\n",
      "     - (Hyphen.)  Expands to the current option flags (the single-letter op‐\n",
      "                  tion names concatenated into a string) as specified on invo‐\n",
      "                  cation, by the set builtin command, or implicitly by the\n"
     ]
    },
    {
     "name": "stdout",
     "output_type": "stream",
     "text": [
      "                  shell.\r\n",
      "\r\n",
      "     $            Expands to the process ID of the invoked shell.  A subshell\r\n",
      "                  retains the same value of $ as its parent.\r\n",
      "\r\n",
      "     !            Expands to the process ID of the most recent background com‐\r\n",
      "                  mand executed from the current shell.  For a pipeline, the\r\n",
      "                  process ID is that of the last command in the pipeline.\r\n",
      "\r\n",
      "     0 (Zero.)    Expands to the name of the shell or shell script.\r\n",
      "\r\n",
      "   W\bWo\bor\brd\bd E\bEx\bxp\bpa\ban\bns\bsi\bio\bon\bns\bs\r\n",
      "     This clause describes the various expansions that are performed on words.\r\n",
      "     Not all expansions are performed on every word, as explained later.\r\n",
      "\r\n",
      "     Tilde expansions, parameter expansions, command substitutions, arithmetic\r\n",
      "     expansions, and quote removals that occur within a single word expand to\r\n",
      "     a single field.  It is only field splitting or pathname expansion that\r\n",
      "     can create multiple fields from a single word.  The single exception to\r\n",
      "     this rule is the expansion of the special parameter @ within double-\r\n",
      "     quotes, as was described above.\r\n",
      "\r\n",
      "     The order of word expansion is:\r\n",
      "\r\n",
      "     1.   Tilde Expansion, Parameter Expansion, Command Substitution, Arith‐\r\n",
      "          metic Expansion (these all occur at the same time).\r\n",
      "\r\n",
      "     2.   Field Splitting is performed on fields generated by step (1) unless\r\n",
      "          the IFS variable is null.\r\n",
      "\r\n",
      "     3.   Pathname Expansion (unless set -\b-f\bf is in effect).\r\n",
      "\r\n",
      "     4.   Quote Removal.\r\n",
      "\r\n",
      "     The $ character is used to introduce parameter expansion, command substi‐\r\n",
      "     tution, or arithmetic evaluation.\r\n",
      "\r\n",
      "   T\bTi\bil\bld\bde\be E\bEx\bxp\bpa\ban\bns\bsi\bio\bon\bn (\b(s\bsu\bub\bbs\bst\bti\bit\btu\but\bti\bin\bng\bg a\ba u\bus\bse\ber\br'\b's\bs h\bho\bom\bme\be d\bdi\bir\bre\bec\bct\bto\bor\bry\by)\b)\r\n",
      "     A word beginning with an unquoted tilde character (~) is subjected to\r\n",
      "     tilde expansion.  All the characters up to a slash (/) or the end of the\r\n",
      "     word are treated as a username and are replaced with the user's home di‐\r\n",
      "     rectory.  If the username is missing (as in _\b~_\b/_\bf_\bo_\bo_\bb_\ba_\br), the tilde is re‐\r\n",
      "     placed with the value of the _\bH_\bO_\bM_\bE variable (the current user's home di‐\r\n",
      "     rectory).\r\n",
      "\r\n",
      "   P\bPa\bar\bra\bam\bme\bet\bte\ber\br E\bEx\bxp\bpa\ban\bns\bsi\bio\bon\bn\r\n",
      "     The format for parameter expansion is as follows:\r\n",
      "\r\n",
      "           ${expression}\r\n",
      "\r\n",
      "     where expression consists of all characters until the matching “}”.  Any\r\n",
      "     “}” escaped by a backslash or within a quoted string, and characters in\r\n",
      "     embedded arithmetic expansions, command substitutions, and variable ex‐\r\n",
      "     pansions, are not examined in determining the matching “}”.\r\n",
      "\r\n",
      "     The simplest form for parameter expansion is:\r\n",
      "\r\n",
      "           ${parameter}\r\n",
      "\r\n",
      "     The value, if any, of parameter is substituted.\r\n",
      "\r\n",
      "     The parameter name or symbol can be enclosed in braces, which are op‐\r\n",
      "     tional except for positional parameters with more than one digit or when\r\n",
      "     parameter is followed by a character that could be interpreted as part of\r\n",
      "     the name.  If a parameter expansion occurs inside double-quotes:\r\n",
      "\r\n",
      "     1.   Pathname expansion is not performed on the results of the expansion.\r\n",
      "\r\n",
      "     2.   Field splitting is not performed on the results of the expansion,\r\n",
      "          with the exception of @.\r\n",
      "\r\n",
      "     In addition, a parameter expansion can be modified by using one of the\r\n",
      "     following formats.\r\n",
      "\r\n",
      "     ${parameter:-word}    Use Default Values.  If parameter is unset or null,\r\n",
      "                           the expansion of word is substituted; otherwise,\r\n",
      "                           the value of parameter is substituted.\r\n",
      "\r\n",
      "     ${parameter:=word}    Assign Default Values.  If parameter is unset or\r\n",
      "                           null, the expansion of word is assigned to parame‐\r\n",
      "                           ter.  In all cases, the final value of parameter is\r\n",
      "                           substituted.  Only variables, not positional param‐\r\n",
      "                           eters or special parameters, can be assigned in\r\n",
      "                           this way.\r\n",
      "\r\n",
      "     ${parameter:?[word]}  Indicate Error if Null or Unset.  If parameter is\r\n",
      "                           unset or null, the expansion of word (or a message\r\n",
      "                           indicating it is unset if word is omitted) is writ‐\r\n",
      "                           ten to standard error and the shell exits with a\r\n",
      "                           nonzero exit status.  Otherwise, the value of pa‐\r\n",
      "                           rameter is substituted.  An interactive shell need\r\n",
      "                           not exit.\r\n",
      "\r\n",
      "     ${parameter:+word}    Use Alternative Value.  If parameter is unset or\r\n",
      "                           null, null is substituted; otherwise, the expansion\r\n",
      "                           of word is substituted.\r\n",
      "\r\n",
      "     In the parameter expansions shown previously, use of the colon in the\r\n",
      "     format results in a test for a parameter that is unset or null; omission\r\n",
      "     of the colon results in a test for a parameter that is only unset.\r\n",
      "\r\n",
      "     ${#parameter}         String Length.  The length in characters of the\r\n",
      "                           value of parameter.\r\n",
      "\r\n",
      "     The following four varieties of parameter expansion provide for substring\r\n",
      "     processing.  In each case, pattern matching notation (see _\bS_\bh_\be_\bl_\bl\r\n",
      "     _\bP_\ba_\bt_\bt_\be_\br_\bn_\bs), rather than regular expression notation, is used to evaluate\r\n",
      "     the patterns.  If parameter is * or @, the result of the expansion is un‐\r\n",
      "     specified.  Enclosing the full parameter expansion string in double-\r\n",
      "     quotes does not cause the following four varieties of pattern characters\r\n",
      "     to be quoted, whereas quoting characters within the braces has this ef‐\r\n",
      "     fect.\r\n",
      "\r\n",
      "     ${parameter%word}     Remove Smallest Suffix Pattern.  The word is ex‐\r\n",
      "                           panded to produce a pattern.  The parameter expan‐\r\n",
      "                           sion then results in parameter, with the smallest\r\n",
      "                           portion of the suffix matched by the pattern\r\n",
      "                           deleted.\r\n",
      "\r\n",
      "     ${parameter%%word}    Remove Largest Suffix Pattern.  The word is ex‐\r\n",
      "                           panded to produce a pattern.  The parameter expan‐\r\n",
      "                           sion then results in parameter, with the largest\r\n",
      "                           portion of the suffix matched by the pattern\r\n",
      "                           deleted.\r\n",
      "\r\n",
      "     ${parameter#word}     Remove Smallest Prefix Pattern.  The word is ex‐\r\n",
      "                           panded to produce a pattern.  The parameter expan‐\r\n",
      "                           sion then results in parameter, with the smallest\r\n",
      "                           portion of the prefix matched by the pattern\r\n",
      "                           deleted.\r\n",
      "\r\n",
      "     ${parameter##word}    Remove Largest Prefix Pattern.  The word is ex‐\r\n",
      "                           panded to produce a pattern.  The parameter expan‐\r\n",
      "                           sion then results in parameter, with the largest\r\n",
      "                           portion of the prefix matched by the pattern\r\n",
      "                           deleted.\r\n",
      "\r\n",
      "   C\bCo\bom\bmm\bma\ban\bnd\bd S\bSu\bub\bbs\bst\bti\bit\btu\but\bti\bio\bon\bn\r\n",
      "     Command substitution allows the output of a command to be substituted in\r\n",
      "     place of the command name itself.  Command substitution occurs when the\r\n",
      "     command is enclosed as follows:\r\n",
      "\r\n",
      "           $(command)\r\n",
      "\r\n",
      "     or (“backquoted” version):\r\n",
      "\r\n",
      "           `command`\r\n",
      "\r\n",
      "     The shell expands the command substitution by executing command in a sub‐\r\n",
      "     shell environment and replacing the command substitution with the stan‐\r\n",
      "     dard output of the command, removing sequences of one or more ⟨newline⟩s\r\n",
      "     at the end of the substitution.  (Embedded ⟨newline⟩s before the end of\r\n",
      "     the output are not removed; however, during field splitting, they may be\r\n",
      "     translated into ⟨space⟩s, depending on the value of IFS and quoting that\r\n",
      "     is in effect.)\r\n",
      "\r\n",
      "   A\bAr\bri\bit\bth\bhm\bme\bet\bti\bic\bc E\bEx\bxp\bpa\ban\bns\bsi\bio\bon\bn\r\n",
      "     Arithmetic expansion provides a mechanism for evaluating an arithmetic\r\n",
      "     expression and substituting its value.  The format for arithmetic expan‐\r\n",
      "     sion is as follows:\r\n",
      "\r\n",
      "           $((expression))\r\n",
      "\r\n",
      "     The expression is treated as if it were in double-quotes, except that a\r\n",
      "     double-quote inside the expression is not treated specially.  The shell\r\n",
      "     expands all tokens in the expression for parameter expansion, command\r\n",
      "     substitution, and quote removal.\r\n",
      "\r\n",
      "     Next, the shell treats this as an arithmetic expression and substitutes\r\n",
      "     the value of the expression.\r\n",
      "\r\n",
      "   W\bWh\bhi\bit\bte\be S\bSp\bpa\bac\bce\be S\bSp\bpl\bli\bit\btt\bti\bin\bng\bg (\b(F\bFi\bie\bel\bld\bd S\bSp\bpl\bli\bit\btt\bti\bin\bng\bg)\b)\r\n",
      "     After parameter expansion, command substitution, and arithmetic expansion\r\n",
      "     the shell scans the results of expansions and substitutions that did not\r\n",
      "     occur in double-quotes for field splitting and multiple fields can re‐\r\n",
      "     sult.\r\n",
      "\r\n",
      "     The shell treats each character of the IFS as a delimiter and uses the\r\n",
      "     delimiters to split the results of parameter expansion and command sub‐\r\n",
      "     stitution into fields.\r\n",
      "\r\n",
      "   P\bPa\bat\bth\bhn\bna\bam\bme\be E\bEx\bxp\bpa\ban\bns\bsi\bio\bon\bn (\b(F\bFi\bil\ble\be N\bNa\bam\bme\be G\bGe\ben\bne\ber\bra\bat\bti\bio\bon\bn)\b)\r\n",
      "     Unless the -\b-f\bf flag is set, file name generation is performed after word\r\n",
      "     splitting is complete.  Each word is viewed as a series of patterns, sep‐\r\n",
      "     arated by slashes.  The process of expansion replaces the word with the\r\n",
      "     names of all existing files whose names can be formed by replacing each\r\n",
      "     pattern with a string that matches the specified pattern.  There are two\r\n",
      "     restrictions on this: first, a pattern cannot match a string containing a\r\n",
      "     slash, and second, a pattern cannot match a string starting with a period\r\n",
      "     unless the first character of the pattern is a period.  The next section\r\n",
      "     describes the patterns used for both Pathname Expansion and the c\bca\bas\bse\be com‐\r\n",
      "     mand.\r\n",
      "\r\n",
      "   S\bSh\bhe\bel\bll\bl P\bPa\bat\btt\bte\ber\brn\bns\bs\r\n",
      "     A pattern consists of normal characters, which match themselves, and\r\n",
      "     meta-characters.  The meta-characters are “!”, “*”, “?”, and “[”.  These\r\n",
      "     characters lose their special meanings if they are quoted.  When command\r\n",
      "     or variable substitution is performed and the dollar sign or back quotes\r\n",
      "     are not double quoted, the value of the variable or the output of the\r\n",
      "     command is scanned for these characters and they are turned into meta-\r\n",
      "     characters.\r\n",
      "\r\n",
      "     An asterisk (“*”) matches any string of characters.  A question mark\r\n",
      "     matches any single character.  A left bracket (“[”) introduces a charac‐\r\n",
      "     ter class.  The end of the character class is indicated by a (“]”); if\r\n",
      "     the “]” is missing then the “[” matches a “[” rather than introducing a\r\n",
      "     character class.  A character class matches any of the characters between\r\n",
      "     the square brackets.  A range of characters may be specified using a mi‐\r\n",
      "     nus sign.  The character class may be complemented by making an exclama‐\r\n",
      "     tion point the first character of the character class.\r\n",
      "\r\n",
      "     To include a “]” in a character class, make it the first character listed\r\n",
      "     (after the “!”, if any).  To include a minus sign, make it the first or\r\n",
      "     last character listed.\r\n",
      "\r\n",
      "   B\bBu\bui\bil\blt\bti\bin\bns\bs\r\n",
      "     This section lists the builtin commands which are builtin because they\r\n",
      "     need to perform some operation that can't be performed by a separate\r\n",
      "     process.  In addition to these, there are several other commands that may\r\n",
      "     be builtin for efficiency (e.g.  printf(1), echo(1), test(1), etc).\r\n",
      "\r\n",
      "     :\r\n",
      "\r\n",
      "     true   A null command that returns a 0 (true) exit value.\r\n",
      "\r\n",
      "     . file\r\n",
      "            The commands in the specified file are read and executed by the\r\n",
      "            shell.\r\n",
      "\r\n",
      "     alias [_\bn_\ba_\bm_\be[_\b=_\bs_\bt_\br_\bi_\bn_\bg _\b._\b._\b.]]\r\n",
      "            If _\bn_\ba_\bm_\be_\b=_\bs_\bt_\br_\bi_\bn_\bg is specified, the shell defines the alias _\bn_\ba_\bm_\be with\r\n",
      "            value _\bs_\bt_\br_\bi_\bn_\bg.  If just _\bn_\ba_\bm_\be is specified, the value of the alias\r\n",
      "            _\bn_\ba_\bm_\be is printed.  With no arguments, the a\bal\bli\bia\bas\bs builtin prints the\r\n",
      "            names and values of all defined aliases (see u\bun\bna\bal\bli\bia\bas\bs).\r\n",
      "\r\n",
      "     bg [_\bj_\bo_\bb] _\b._\b._\b.\r\n",
      "            Continue the specified jobs (or the current job if no jobs are\r\n",
      "            given) in the background.\r\n",
      "\r\n",
      "     command [-\b-p\bp] [-\b-v\bv] [-\b-V\bV] _\bc_\bo_\bm_\bm_\ba_\bn_\bd [_\ba_\br_\bg _\b._\b._\b.]\r\n",
      "            Execute the specified command but ignore shell functions when\r\n",
      "            searching for it.  (This is useful when you have a shell function\r\n",
      "            with the same name as a builtin command.)\r\n",
      "\r\n",
      "            -\b-p\bp     search for command using a PATH that guarantees to find all\r\n",
      "                   the standard utilities.\r\n",
      "\r\n",
      "            -\b-V\bV     Do not execute the command but search for the command and\r\n",
      "                   print the resolution of the command search.  This is the\r\n",
      "                   same as the type builtin.\r\n",
      "\r\n",
      "            -\b-v\bv     Do not execute the command but search for the command and\r\n",
      "                   print the absolute pathname of utilities, the name for\r\n",
      "                   builtins or the expansion of aliases.\r\n",
      "\r\n",
      "     cd _\b-\r\n",
      "\r\n",
      "     cd [-\b-L\bLP\bP] [_\bd_\bi_\br_\be_\bc_\bt_\bo_\br_\by]\r\n",
      "            Switch to the specified directory (default HOME).  If an entry for\r\n",
      "            CDPATH appears in the environment of the c\bcd\bd command or the shell\r\n",
      "            variable CDPATH is set and the directory name does not begin with\r\n",
      "            a slash, then the directories listed in CDPATH will be searched\r\n",
      "            for the specified directory.  The format of CDPATH is the same as\r\n",
      "            that of PATH.  If a single dash is specified as the argument, it\r\n",
      "            will be replaced by the value of OLDPWD.  The c\bcd\bd command will\r\n",
      "            print out the name of the directory that it actually switched to\r\n",
      "            if this is different from the name that the user gave.  These may\r\n",
      "            be different either because the CDPATH mechanism was used or be‐\r\n",
      "            cause the argument is a single dash.  The -\b-P\bP option causes the\r\n",
      "            physical directory structure to be used, that is, all symbolic\r\n",
      "            links are resolved to their respective values.  The -\b-L\bL option\r\n",
      "            turns off the effect of any preceding -\b-P\bP options.\r\n",
      "\r\n",
      "     echo [-\b-n\bn] _\ba_\br_\bg_\bs_\b._\b._\b.\r\n",
      "            Print the arguments on the standard output, separated by spaces.\r\n",
      "            Unless the -\b-n\bn option is present, a newline is output following the\r\n",
      "            arguments.\r\n",
      "\r\n",
      "            If any of the following sequences of characters is encountered\r\n",
      "            during output, the sequence is not output.  Instead, the specified\r\n",
      "            action is performed:\r\n",
      "\r\n",
      "            \\b      A backspace character is output.\r\n",
      "\r\n",
      "            \\c      Subsequent output is suppressed.  This is normally used at\r\n",
      "                    the end of the last argument to suppress the trailing new‐\r\n",
      "                    line that e\bec\bch\bho\bo would otherwise output.\r\n",
      "\r\n",
      "            \\e      Outputs an escape character (ESC).\r\n",
      "\r\n",
      "            \\f      Output a form feed.\r\n",
      "\r\n",
      "            \\n      Output a newline character.\r\n",
      "\r\n",
      "            \\r      Output a carriage return.\r\n",
      "\r\n",
      "            \\t      Output a (horizontal) tab character.\r\n",
      "\r\n",
      "            \\v      Output a vertical tab.\r\n",
      "\r\n",
      "            \\0_\bd_\bi_\bg_\bi_\bt_\bs\r\n",
      "                    Output the character whose value is given by zero to three\r\n",
      "                    octal digits.  If there are zero digits, a nul character\r\n",
      "                    is output.\r\n",
      "\r\n",
      "            \\\\      Output a backslash.\r\n",
      "\r\n",
      "            All other backslash sequences elicit undefined behaviour.\r\n",
      "\r\n",
      "     eval _\bs_\bt_\br_\bi_\bn_\bg _\b._\b._\b.\r\n",
      "            Concatenate all the arguments with spaces.  Then re-parse and exe‐\r\n",
      "            cute the command.\r\n",
      "\r\n",
      "     exec [_\bc_\bo_\bm_\bm_\ba_\bn_\bd _\ba_\br_\bg _\b._\b._\b.]\r\n",
      "            Unless command is omitted, the shell process is replaced with the\r\n",
      "            specified program (which must be a real program, not a shell\r\n",
      "            builtin or function).  Any redirections on the e\bex\bxe\bec\bc command are\r\n",
      "            marked as permanent, so that they are not undone when the e\bex\bxe\bec\bc\r\n",
      "            command finishes.\r\n",
      "\r\n",
      "     exit [_\be_\bx_\bi_\bt_\bs_\bt_\ba_\bt_\bu_\bs]\r\n",
      "            Terminate the shell process.  If _\be_\bx_\bi_\bt_\bs_\bt_\ba_\bt_\bu_\bs is given it is used as\r\n",
      "            the exit status of the shell; otherwise the exit status of the\r\n",
      "            preceding command is used.\r\n",
      "\r\n",
      "     export _\bn_\ba_\bm_\be _\b._\b._\b.\r\n",
      "\r\n",
      "     export -\b-p\bp\r\n",
      "            The specified names are exported so that they will appear in the\r\n",
      "            environment of subsequent commands.  The only way to un-export a\r\n",
      "            variable is to unset it.  The shell allows the value of a variable\r\n",
      "            to be set at the same time it is exported by writing\r\n",
      "\r\n",
      "                  export name=value\r\n",
      "\r\n",
      "            With no arguments the export command lists the names of all ex‐\r\n",
      "            ported variables.  With the -\b-p\bp option specified the output will be\r\n",
      "            formatted suitably for non-interactive use.\r\n",
      "\r\n",
      "     fc [-\b-e\be _\be_\bd_\bi_\bt_\bo_\br] [_\bf_\bi_\br_\bs_\bt [_\bl_\ba_\bs_\bt]]\r\n",
      "\r\n",
      "     fc -\b-l\bl [-\b-n\bnr\br] [_\bf_\bi_\br_\bs_\bt [_\bl_\ba_\bs_\bt]]\r\n",
      "\r\n",
      "     fc -\b-s\bs [_\bo_\bl_\bd_\b=_\bn_\be_\bw] [_\bf_\bi_\br_\bs_\bt]\r\n",
      "            The f\bfc\bc builtin lists, or edits and re-executes, commands previ‐\r\n",
      "            ously entered to an interactive shell.\r\n",
      "\r\n",
      "            -\b-e\be editor\r\n",
      "                   Use the editor named by editor to edit the commands.  The\r\n",
      "                   editor string is a command name, subject to search via the\r\n",
      "                   PATH variable.  The value in the FCEDIT variable is used as\r\n",
      "                   a default when -\b-e\be is not specified.  If FCEDIT is null or\r\n",
      "                   unset, the value of the EDITOR variable is used.  If EDITOR\r\n",
      "                   is null or unset, ed(1) is used as the editor.\r\n",
      "\r\n",
      "            -\b-l\bl (ell)\r\n",
      "                   List the commands rather than invoking an editor on them.\r\n",
      "                   The commands are written in the sequence indicated by the\r\n",
      "                   first and last operands, as affected by -\b-r\br, with each com‐\r\n",
      "                   mand preceded by the command number.\r\n",
      "\r\n",
      "            -\b-n\bn     Suppress command numbers when listing with -l.\r\n",
      "\r\n",
      "            -\b-r\br     Reverse the order of the commands listed (with -\b-l\bl) or\r\n",
      "                   edited (with neither -\b-l\bl nor -\b-s\bs).\r\n",
      "\r\n",
      "            -\b-s\bs     Re-execute the command without invoking an editor.\r\n",
      "\r\n",
      "            first\r\n",
      "\r\n",
      "            last   Select the commands to list or edit.  The number of previ‐\r\n",
      "                   ous commands that can be accessed are determined by the\r\n",
      "                   value of the HISTSIZE variable.  The value of first or last\r\n",
      "                   or both are one of the following:\r\n",
      "\r\n",
      "                   [+]number\r\n",
      "                          A positive number representing a command number;\r\n",
      "                          command numbers can be displayed with the -\b-l\bl option.\r\n",
      "\r\n",
      "                   -\b-n\bnu\bum\bmb\bbe\ber\br\r\n",
      "                          A negative decimal number representing the command\r\n",
      "                          that was executed number of commands previously.\r\n",
      "                          For example, -1 is the immediately previous command.\r\n",
      "\r\n",
      "            string\r\n",
      "                   A string indicating the most recently entered command that\r\n",
      "                   begins with that string.  If the old=new operand is not\r\n",
      "                   also specified with -\b-s\bs, the string form of the first oper‐\r\n",
      "                   and cannot contain an embedded equal sign.\r\n",
      "\r\n",
      "            The following environment variables affect the execution of fc:\r\n",
      "\r\n",
      "            FCEDIT    Name of the editor to use.\r\n",
      "\r\n",
      "            HISTSIZE  The number of previous commands that are accessible.\r\n",
      "\r\n",
      "     fg [_\bj_\bo_\bb]\r\n",
      "            Move the specified job or the current job to the foreground.\r\n",
      "\r\n",
      "     getopts _\bo_\bp_\bt_\bs_\bt_\br_\bi_\bn_\bg _\bv_\ba_\br\r\n",
      "            The POSIX g\bge\bet\bto\bop\bpt\bts\bs command, not to be confused with the _\bB_\be_\bl_\bl _\bL_\ba_\bb_\bs\r\n",
      "            -derived getopt(1).\r\n",
      "\r\n",
      "            The first argument should be a series of letters, each of which\r\n",
      "            may be optionally followed by a colon to indicate that the option\r\n",
      "            requires an argument.  The variable specified is set to the parsed\r\n",
      "            option.\r\n",
      "\r\n",
      "            The g\bge\bet\bto\bop\bpt\bts\bs command deprecates the older getopt(1) utility due to\r\n",
      "            its handling of arguments containing whitespace.\r\n",
      "\r\n",
      "            The g\bge\bet\bto\bop\bpt\bts\bs builtin may be used to obtain options and their argu‐\r\n",
      "            ments from a list of parameters.  When invoked, g\bge\bet\bto\bop\bpt\bts\bs places the\r\n",
      "            value of the next option from the option string in the list in the\r\n",
      "            shell variable specified by _\bv_\ba_\br and its index in the shell vari‐\r\n",
      "            able OPTIND.  When the shell is invoked, OPTIND is initialized to\r\n",
      "            1.  For each option that requires an argument, the g\bge\bet\bto\bop\bpt\bts\bs builtin\r\n",
      "            will place it in the shell variable OPTARG.  If an option is not\r\n",
      "            allowed for in the _\bo_\bp_\bt_\bs_\bt_\br_\bi_\bn_\bg, then OPTARG will be unset.\r\n",
      "\r\n",
      "            _\bo_\bp_\bt_\bs_\bt_\br_\bi_\bn_\bg is a string of recognized option letters (see\r\n",
      "            getopt(3)).  If a letter is followed by a colon, the option is ex‐\r\n",
      "            pected to have an argument which may or may not be separated from\r\n",
      "            it by white space.  If an option character is not found where ex‐\r\n",
      "            pected, g\bge\bet\bto\bop\bpt\bts\bs will set the variable _\bv_\ba_\br to a “?”; g\bge\bet\bto\bop\bpt\bts\bs will\r\n",
      "            then unset OPTARG and write output to standard error.  By specify‐\r\n",
      "            ing a colon as the first character of _\bo_\bp_\bt_\bs_\bt_\br_\bi_\bn_\bg all errors will be\r\n",
      "            ignored.\r\n",
      "\r\n",
      "            After the last option g\bge\bet\bto\bop\bpt\bts\bs will return a non-zero value and set\r\n",
      "            _\bv_\ba_\br to “?”.\r\n",
      "\r\n",
      "            The following code fragment shows how one might process the argu‐\r\n",
      "            ments for a command that can take the options [a] and [b], and the\r\n",
      "            option [c], which requires an argument.\r\n",
      "\r\n",
      "                  while getopts abc: f\r\n",
      "                  do\r\n",
      "                          case $f in\r\n",
      "                          a | b)  flag=$f;;\r\n",
      "                          c)      carg=$OPTARG;;\r\n",
      "                          \\?)     echo $USAGE; exit 1;;\r\n",
      "                          esac\r\n",
      "                  done\r\n",
      "                  shift `expr $OPTIND - 1`\r\n",
      "\r\n",
      "            This code will accept any of the following as equivalent:\r\n",
      "\r\n",
      "                  cmd -acarg file file\r\n",
      "                  cmd -a -c arg file file\r\n",
      "                  cmd -carg -a file file\r\n",
      "                  cmd -a -carg -- file file\r\n",
      "\r\n",
      "     hash -\b-r\brv\bv _\bc_\bo_\bm_\bm_\ba_\bn_\bd _\b._\b._\b.\r\n",
      "            The shell maintains a hash table which remembers the locations of\r\n",
      "            commands.  With no arguments whatsoever, the h\bha\bas\bsh\bh command prints\r\n",
      "            out the contents of this table.  Entries which have not been\r\n",
      "            looked at since the last c\bcd\bd command are marked with an asterisk;\r\n",
      "            it is possible for these entries to be invalid.\r\n",
      "\r\n",
      "            With arguments, the h\bha\bas\bsh\bh command removes the specified commands\r\n",
      "            from the hash table (unless they are functions) and then locates\r\n",
      "            them.  With the -\b-v\bv option, hash prints the locations of the com‐\r\n",
      "            mands as it finds them.  The -\b-r\br option causes the hash command to\r\n",
      "            delete all the entries in the hash table except for functions.\r\n",
      "\r\n",
      "     pwd [-\b-L\bLP\bP]\r\n",
      "            builtin command remembers what the current directory is rather\r\n",
      "            than recomputing it each time.  This makes it faster.  However, if\r\n",
      "            the current directory is renamed, the builtin version of p\bpw\bwd\bd will\r\n",
      "            continue to print the old name for the directory.  The -\b-P\bP option\r\n",
      "            causes the physical value of the current working directory to be\r\n",
      "            shown, that is, all symbolic links are resolved to their respec‐\r\n",
      "            tive values.  The -\b-L\bL option turns off the effect of any preceding\r\n",
      "            -\b-P\bP options.\r\n",
      "\r\n",
      "     read [-\b-p\bp _\bp_\br_\bo_\bm_\bp_\bt] [-\b-r\br] _\bv_\ba_\br_\bi_\ba_\bb_\bl_\be [_\b._\b._\b.]\r\n",
      "            The prompt is printed if the -\b-p\bp option is specified and the stan‐\r\n",
      "            dard input is a terminal.  Then a line is read from the standard\r\n",
      "            input.  The trailing newline is deleted from the line and the line\r\n"
     ]
    },
    {
     "name": "stdout",
     "output_type": "stream",
     "text": [
      "            is split as described in the section on word splitting above, and\r\n",
      "            the pieces are assigned to the variables in order.  At least one\r\n",
      "            variable must be specified.  If there are more pieces than vari‐\r\n",
      "            ables, the remaining pieces (along with the characters in IFS that\r\n",
      "            separated them) are assigned to the last variable.  If there are\r\n",
      "            more variables than pieces, the remaining variables are assigned\r\n",
      "            the null string.  The r\bre\bea\bad\bd builtin will indicate success unless\r\n",
      "            EOF is encountered on input, in which case failure is returned.\r\n",
      "\r\n",
      "            By default, unless the -\b-r\br option is specified, the backslash “\\”\r\n",
      "            acts as an escape character, causing the following character to be\r\n",
      "            treated literally.  If a backslash is followed by a newline, the\r\n",
      "            backslash and the newline will be deleted.\r\n",
      "\r\n",
      "     readonly _\bn_\ba_\bm_\be _\b._\b._\b.\r\n",
      "\r\n",
      "     readonly -\b-p\bp\r\n",
      "            The specified names are marked as read only, so that they cannot\r\n",
      "            be subsequently modified or unset.  The shell allows the value of\r\n",
      "            a variable to be set at the same time it is marked read only by\r\n",
      "            writing\r\n",
      "\r\n",
      "                  readonly name=value\r\n",
      "\r\n",
      "            With no arguments the readonly command lists the names of all read\r\n",
      "            only variables.  With the -\b-p\bp option specified the output will be\r\n",
      "            formatted suitably for non-interactive use.\r\n",
      "\r\n",
      "     printf _\bf_\bo_\br_\bm_\ba_\bt [_\ba_\br_\bg_\bu_\bm_\be_\bn_\bt_\bs _\b._\b._\b.]\r\n",
      "            p\bpr\bri\bin\bnt\btf\bf formats and prints its arguments, after the first, under\r\n",
      "            control of the _\bf_\bo_\br_\bm_\ba_\bt.  The _\bf_\bo_\br_\bm_\ba_\bt is a character string which\r\n",
      "            contains three types of objects: plain characters, which are sim‐\r\n",
      "            ply copied to standard output, character escape sequences which\r\n",
      "            are converted and copied to the standard output, and format speci‐\r\n",
      "            fications, each of which causes printing of the next successive\r\n",
      "            _\ba_\br_\bg_\bu_\bm_\be_\bn_\bt.\r\n",
      "\r\n",
      "            The _\ba_\br_\bg_\bu_\bm_\be_\bn_\bt_\bs after the first are treated as strings if the corre‐\r\n",
      "            sponding format is either b\bb, c\bc or s\bs; otherwise it is evaluated as\r\n",
      "            a C constant, with the following extensions:\r\n",
      "\r\n",
      "                  •\b•   A leading plus or minus sign is allowed.\r\n",
      "                  •\b•   If the leading character is a single or double quote,\r\n",
      "                      the value is the ASCII code of the next character.\r\n",
      "\r\n",
      "            The format string is reused as often as necessary to satisfy the\r\n",
      "            _\ba_\br_\bg_\bu_\bm_\be_\bn_\bt_\bs.  Any extra format specifications are evaluated with\r\n",
      "            zero or the null string.\r\n",
      "\r\n",
      "            Character escape sequences are in backslash notation as defined in\r\n",
      "            ANSI X3.159-1989 (“ANSI C89”).  The characters and their meanings\r\n",
      "            are as follows:\r\n",
      "\r\n",
      "                  \\\b\\a\ba      Write a <bell> character.\r\n",
      "\r\n",
      "                  \\\b\\b\bb      Write a <backspace> character.\r\n",
      "\r\n",
      "                  \\\b\\e\be      Write an <escape> (ESC) character.\r\n",
      "\r\n",
      "                  \\\b\\f\bf      Write a <form-feed> character.\r\n",
      "\r\n",
      "                  \\\b\\n\bn      Write a <new-line> character.\r\n",
      "\r\n",
      "                  \\\b\\r\br      Write a <carriage return> character.\r\n",
      "\r\n",
      "                  \\\b\\t\bt      Write a <tab> character.\r\n",
      "\r\n",
      "                  \\\b\\v\bv      Write a <vertical tab> character.\r\n",
      "\r\n",
      "                  \\\b\\\\\b\\      Write a backslash character.\r\n",
      "\r\n",
      "                  \\\b\\_\bn_\bu_\bm    Write an 8-bit character whose ASCII value is the\r\n",
      "                          1-, 2-, or 3-digit octal number _\bn_\bu_\bm.\r\n",
      "\r\n",
      "            Each format specification is introduced by the percent character\r\n",
      "            (``%'').  The remainder of the format specification includes, in\r\n",
      "            the following order:\r\n",
      "\r\n",
      "            Zero or more of the following flags:\r\n",
      "\r\n",
      "                    #\b#       A `#' character specifying that the value should\r\n",
      "                            be printed in an ``alternative form''.  For b\bb, c\bc,\r\n",
      "                            d\bd, and s\bs formats, this option has no effect.  For\r\n",
      "                            the o\bo format the precision of the number is in‐\r\n",
      "                            creased to force the first character of the output\r\n",
      "                            string to a zero.  For the x\bx (X\bX) format, a non-\r\n",
      "                            zero result has the string 0x (0X) prepended to\r\n",
      "                            it.  For e\be, E\bE, f\bf, g\bg, and G\bG formats, the result\r\n",
      "                            will always contain a decimal point, even if no\r\n",
      "                            digits follow the point (normally, a decimal point\r\n",
      "                            only appears in the results of those formats if a\r\n",
      "                            digit follows the decimal point).  For g\bg and G\bG\r\n",
      "                            formats, trailing zeros are not removed from the\r\n",
      "                            result as they would otherwise be.\r\n",
      "\r\n",
      "                    -\b-       A minus sign `-' which specifies _\bl_\be_\bf_\bt _\ba_\bd_\bj_\bu_\bs_\bt_\bm_\be_\bn_\bt\r\n",
      "                            of the output in the indicated field;\r\n",
      "\r\n",
      "                    +\b+       A `+' character specifying that there should al‐\r\n",
      "                            ways be a sign placed before the number when using\r\n",
      "                            signed formats.\r\n",
      "\r\n",
      "                    ‘ ’     A space specifying that a blank should be left be‐\r\n",
      "                            fore a positive number for a signed format.  A `+'\r\n",
      "                            overrides a space if both are used;\r\n",
      "\r\n",
      "                    0\b0       A zero `0' character indicating that zero-padding\r\n",
      "                            should be used rather than blank-padding.  A `-'\r\n",
      "                            overrides a `0' if both are used;\r\n",
      "\r\n",
      "            Field Width:\r\n",
      "                    An optional digit string specifying a _\bf_\bi_\be_\bl_\bd _\bw_\bi_\bd_\bt_\bh; if the\r\n",
      "                    output string has fewer characters than the field width it\r\n",
      "                    will be blank-padded on the left (or right, if the left-\r\n",
      "                    adjustment indicator has been given) to make up the field\r\n",
      "                    width (note that a leading zero is a flag, but an embedded\r\n",
      "                    zero is part of a field width);\r\n",
      "\r\n",
      "            Precision:\r\n",
      "                    An optional period, ‘.\b.’, followed by an optional digit\r\n",
      "                    string giving a _\bp_\br_\be_\bc_\bi_\bs_\bi_\bo_\bn which specifies the number of\r\n",
      "                    digits to appear after the decimal point, for e\be and f\bf for‐\r\n",
      "                    mats, or the maximum number of bytes to be printed from a\r\n",
      "                    string (b\bb and s\bs formats); if the digit string is missing,\r\n",
      "                    the precision is treated as zero;\r\n",
      "\r\n",
      "            Format:\r\n",
      "                    A character which indicates the type of format to use (one\r\n",
      "                    of d\bdi\bio\bou\bux\bxX\bXf\bfw\bwE\bEg\bgG\bGb\bbc\bcs\bs).\r\n",
      "\r\n",
      "            A field width or precision may be ‘*\b*’ instead of a digit string.\r\n",
      "            In this case an _\ba_\br_\bg_\bu_\bm_\be_\bn_\bt supplies the field width or precision.\r\n",
      "\r\n",
      "            The format characters and their meanings are:\r\n",
      "\r\n",
      "            d\bdi\bio\bou\buX\bXx\bx      The _\ba_\br_\bg_\bu_\bm_\be_\bn_\bt is printed as a signed decimal (d or i),\r\n",
      "                        unsigned octal, unsigned decimal, or unsigned hexadec‐\r\n",
      "                        imal (X or x), respectively.\r\n",
      "\r\n",
      "            f\bf           The _\ba_\br_\bg_\bu_\bm_\be_\bn_\bt is printed in the style [-]ddd.\b.ddd where\r\n",
      "                        the number of d's after the decimal point is equal to\r\n",
      "                        the precision specification for the argument.  If the\r\n",
      "                        precision is missing, 6 digits are given; if the pre‐\r\n",
      "                        cision is explicitly 0, no digits and no decimal point\r\n",
      "                        are printed.\r\n",
      "\r\n",
      "            e\beE\bE          The _\ba_\br_\bg_\bu_\bm_\be_\bn_\bt is printed in the style [-]d.\b.ddde\be±dd\r\n",
      "                        where there is one digit before the decimal point and\r\n",
      "                        the number after is equal to the precision specifica‐\r\n",
      "                        tion for the argument; when the precision is missing,\r\n",
      "                        6 digits are produced.  An upper-case E is used for an\r\n",
      "                        `E' format.\r\n",
      "\r\n",
      "            g\bgG\bG          The _\ba_\br_\bg_\bu_\bm_\be_\bn_\bt is printed in style f\bf or in style e\be (E\bE)\r\n",
      "                        whichever gives full precision in minimum space.\r\n",
      "\r\n",
      "            b\bb           Characters from the string _\ba_\br_\bg_\bu_\bm_\be_\bn_\bt are printed with\r\n",
      "                        backslash-escape sequences expanded.\r\n",
      "                        The following additional backslash-escape sequences\r\n",
      "                        are supported:\r\n",
      "\r\n",
      "                        \\\b\\c\bc      Causes d\bda\bas\bsh\bh to ignore any remaining characters\r\n",
      "                                in the string operand containing it, any re‐\r\n",
      "                                maining string operands, and any additional\r\n",
      "                                characters in the format operand.\r\n",
      "\r\n",
      "                        \\\b\\0\b0_\bn_\bu_\bm   Write an 8-bit character whose ASCII value is\r\n",
      "                                the 1-, 2-, or 3-digit octal number _\bn_\bu_\bm.\r\n",
      "\r\n",
      "            c\bc           The first character of _\ba_\br_\bg_\bu_\bm_\be_\bn_\bt is printed.\r\n",
      "\r\n",
      "            s\bs           Characters from the string _\ba_\br_\bg_\bu_\bm_\be_\bn_\bt are printed until\r\n",
      "                        the end is reached or until the number of bytes indi‐\r\n",
      "                        cated by the precision specification is reached; if\r\n",
      "                        the precision is omitted, all characters in the string\r\n",
      "                        are printed.\r\n",
      "\r\n",
      "            %\b%           Print a `%'; no argument is used.\r\n",
      "\r\n",
      "            In no case does a non-existent or small field width cause trunca‐\r\n",
      "            tion of a field; padding takes place only if the specified field\r\n",
      "            width exceeds the actual width.\r\n",
      "\r\n",
      "     set [{ -\b-o\bop\bpt\bti\bio\bon\bns\bs | +\b+o\bop\bpt\bti\bio\bon\bns\bs | -\b--\b- }\b}] _\ba_\br_\bg _\b._\b._\b.\r\n",
      "            The s\bse\bet\bt command performs three different functions.\r\n",
      "\r\n",
      "            With no arguments, it lists the values of all shell variables.\r\n",
      "\r\n",
      "            If options are given, it sets the specified option flags, or\r\n",
      "            clears them as described in the section called _\bA_\br_\bg_\bu_\bm_\be_\bn_\bt _\bL_\bi_\bs_\bt\r\n",
      "            _\bP_\br_\bo_\bc_\be_\bs_\bs_\bi_\bn_\bg.  As a special case, if the option is -o or +o and no\r\n",
      "            argument is supplied, the shell prints the settings of all its op‐\r\n",
      "            tions.  If the option is -o, the settings are printed in a human-\r\n",
      "            readable format; if the option is +o, the settings are printed in\r\n",
      "            a format suitable for reinput to the shell to affect the same op‐\r\n",
      "            tion settings.\r\n",
      "\r\n",
      "            The third use of the set command is to set the values of the\r\n",
      "            shell's positional parameters to the specified args.  To change\r\n",
      "            the positional parameters without changing any options, use “--”\r\n",
      "            as the first argument to set.  If no args are present, the set\r\n",
      "            command will clear all the positional parameters (equivalent to\r\n",
      "            executing “shift $#”.)\r\n",
      "\r\n",
      "     shift [_\bn]\r\n",
      "            Shift the positional parameters n times.  A s\bsh\bhi\bif\bft\bt sets the value\r\n",
      "            of _\b$_\b1 to the value of _\b$_\b2, the value of _\b$_\b2 to the value of _\b$_\b3, and\r\n",
      "            so on, decreasing the value of _\b$_\b# by one.  If n is greater than\r\n",
      "            the number of positional parameters, s\bsh\bhi\bif\bft\bt will issue an error\r\n",
      "            message, and exit with return status 2.\r\n",
      "\r\n",
      "     test _\be_\bx_\bp_\br_\be_\bs_\bs_\bi_\bo_\bn\r\n",
      "\r\n",
      "     [ _\be_\bx_\bp_\br_\be_\bs_\bs_\bi_\bo_\bn ]\b]\r\n",
      "            The t\bte\bes\bst\bt utility evaluates the expression and, if it evaluates to\r\n",
      "            true, returns a zero (true) exit status; otherwise it returns 1\r\n",
      "            (false).  If there is no expression, test also returns 1 (false).\r\n",
      "\r\n",
      "            All operators and flags are separate arguments to the t\bte\bes\bst\bt util‐\r\n",
      "            ity.\r\n",
      "\r\n",
      "            The following primaries are used to construct expression:\r\n",
      "\r\n",
      "            -\b-b\bb _\bf_\bi_\bl_\be       True if _\bf_\bi_\bl_\be exists and is a block special file.\r\n",
      "\r\n",
      "            -\b-c\bc _\bf_\bi_\bl_\be       True if _\bf_\bi_\bl_\be exists and is a character special file.\r\n",
      "\r\n",
      "            -\b-d\bd _\bf_\bi_\bl_\be       True if _\bf_\bi_\bl_\be exists and is a directory.\r\n",
      "\r\n",
      "            -\b-e\be _\bf_\bi_\bl_\be       True if _\bf_\bi_\bl_\be exists (regardless of type).\r\n",
      "\r\n",
      "            -\b-f\bf _\bf_\bi_\bl_\be       True if _\bf_\bi_\bl_\be exists and is a regular file.\r\n",
      "\r\n",
      "            -\b-g\bg _\bf_\bi_\bl_\be       True if _\bf_\bi_\bl_\be exists and its set group ID flag is\r\n",
      "                          set.\r\n",
      "\r\n",
      "            -\b-h\bh _\bf_\bi_\bl_\be       True if _\bf_\bi_\bl_\be exists and is a symbolic link.\r\n",
      "\r\n",
      "            -\b-k\bk _\bf_\bi_\bl_\be       True if _\bf_\bi_\bl_\be exists and its sticky bit is set.\r\n",
      "\r\n",
      "            -\b-n\bn _\bs_\bt_\br_\bi_\bn_\bg     True if the length of _\bs_\bt_\br_\bi_\bn_\bg is nonzero.\r\n",
      "\r\n",
      "            -\b-p\bp _\bf_\bi_\bl_\be       True if _\bf_\bi_\bl_\be is a named pipe (FIFO).\r\n",
      "\r\n",
      "            -\b-r\br _\bf_\bi_\bl_\be       True if _\bf_\bi_\bl_\be exists and is readable.\r\n",
      "\r\n",
      "            -\b-s\bs _\bf_\bi_\bl_\be       True if _\bf_\bi_\bl_\be exists and has a size greater than\r\n",
      "                          zero.\r\n",
      "\r\n",
      "            -\b-t\bt _\bf_\bi_\bl_\be_\b__\bd_\be_\bs_\bc_\br_\bi_\bp_\bt_\bo_\br\r\n",
      "                          True if the file whose file descriptor number is\r\n",
      "                          _\bf_\bi_\bl_\be_\b__\bd_\be_\bs_\bc_\br_\bi_\bp_\bt_\bo_\br is open and is associated with a\r\n",
      "                          terminal.\r\n",
      "\r\n",
      "            -\b-u\bu _\bf_\bi_\bl_\be       True if _\bf_\bi_\bl_\be exists and its set user ID flag is set.\r\n",
      "\r\n",
      "            -\b-w\bw _\bf_\bi_\bl_\be       True if _\bf_\bi_\bl_\be exists and is writable.  True indicates\r\n",
      "                          only that the write flag is on.  The file is not\r\n",
      "                          writable on a read-only file system even if this\r\n",
      "                          test indicates true.\r\n",
      "\r\n",
      "            -\b-x\bx _\bf_\bi_\bl_\be       True if _\bf_\bi_\bl_\be exists and is executable.  True indi‐\r\n",
      "                          cates only that the execute flag is on.  If _\bf_\bi_\bl_\be is\r\n",
      "                          a directory, true indicates that _\bf_\bi_\bl_\be can be\r\n",
      "                          searched.\r\n",
      "\r\n",
      "            -\b-z\bz _\bs_\bt_\br_\bi_\bn_\bg     True if the length of _\bs_\bt_\br_\bi_\bn_\bg is zero.\r\n",
      "\r\n",
      "            -\b-L\bL _\bf_\bi_\bl_\be       True if _\bf_\bi_\bl_\be exists and is a symbolic link.  This\r\n",
      "                          operator is retained for compatibility with previous\r\n",
      "                          versions of this program.  Do not rely on its exis‐\r\n",
      "                          tence; use -\b-h\bh instead.\r\n",
      "\r\n",
      "            -\b-O\bO _\bf_\bi_\bl_\be       True if _\bf_\bi_\bl_\be exists and its owner matches the effec‐\r\n",
      "                          tive user id of this process.\r\n",
      "\r\n",
      "            -\b-G\bG _\bf_\bi_\bl_\be       True if _\bf_\bi_\bl_\be exists and its group matches the effec‐\r\n",
      "                          tive group id of this process.\r\n",
      "\r\n",
      "            -\b-S\bS _\bf_\bi_\bl_\be       True if _\bf_\bi_\bl_\be exists and is a socket.\r\n",
      "\r\n",
      "            _\bf_\bi_\bl_\be_\b1 -\b-n\bnt\bt _\bf_\bi_\bl_\be_\b2\r\n",
      "                          True if _\bf_\bi_\bl_\be_\b1 and _\bf_\bi_\bl_\be_\b2 exist and _\bf_\bi_\bl_\be_\b1 is newer\r\n",
      "                          than _\bf_\bi_\bl_\be_\b2.\r\n",
      "\r\n",
      "            _\bf_\bi_\bl_\be_\b1 -\b-o\bot\bt _\bf_\bi_\bl_\be_\b2\r\n",
      "                          True if _\bf_\bi_\bl_\be_\b1 and _\bf_\bi_\bl_\be_\b2 exist and _\bf_\bi_\bl_\be_\b1 is older\r\n",
      "                          than _\bf_\bi_\bl_\be_\b2.\r\n",
      "\r\n",
      "            _\bf_\bi_\bl_\be_\b1 -\b-e\bef\bf _\bf_\bi_\bl_\be_\b2\r\n",
      "                          True if _\bf_\bi_\bl_\be_\b1 and _\bf_\bi_\bl_\be_\b2 exist and refer to the same\r\n",
      "                          file.\r\n",
      "\r\n",
      "            _\bs_\bt_\br_\bi_\bn_\bg        True if _\bs_\bt_\br_\bi_\bn_\bg is not the null string.\r\n",
      "\r\n",
      "            _\bs_\b1 =\b= _\bs_\b2       True if the strings _\bs_\b1 and _\bs_\b2 are identical.\r\n",
      "\r\n",
      "            _\bs_\b1 !\b!=\b= _\bs_\b2      True if the strings _\bs_\b1 and _\bs_\b2 are not identical.\r\n",
      "\r\n",
      "            _\bs_\b1 <\b< _\bs_\b2       True if string _\bs_\b1 comes before _\bs_\b2 based on the ASCII\r\n",
      "                          value of their characters.\r\n",
      "\r\n",
      "            _\bs_\b1 >\b> _\bs_\b2       True if string _\bs_\b1 comes after _\bs_\b2 based on the ASCII\r\n",
      "                          value of their characters.\r\n",
      "\r\n",
      "            _\bn_\b1 -\b-e\beq\bq _\bn_\b2     True if the integers _\bn_\b1 and _\bn_\b2 are algebraically\r\n"
     ]
    },
    {
     "name": "stdout",
     "output_type": "stream",
     "text": [
      "                          equal.\r\n",
      "\r\n",
      "            _\bn_\b1 -\b-n\bne\be _\bn_\b2     True if the integers _\bn_\b1 and _\bn_\b2 are not algebraically\r\n",
      "                          equal.\r\n",
      "\r\n",
      "            _\bn_\b1 -\b-g\bgt\bt _\bn_\b2     True if the integer _\bn_\b1 is algebraically greater than\r\n",
      "                          the integer _\bn_\b2.\r\n",
      "\r\n",
      "            _\bn_\b1 -\b-g\bge\be _\bn_\b2     True if the integer _\bn_\b1 is algebraically greater than\r\n",
      "                          or equal to the integer _\bn_\b2.\r\n",
      "\r\n",
      "            _\bn_\b1 -\b-l\blt\bt _\bn_\b2     True if the integer _\bn_\b1 is algebraically less than\r\n",
      "                          the integer _\bn_\b2.\r\n",
      "\r\n",
      "            _\bn_\b1 -\b-l\ble\be _\bn_\b2     True if the integer _\bn_\b1 is algebraically less than or\r\n",
      "                          equal to the integer _\bn_\b2.\r\n",
      "\r\n",
      "            These primaries can be combined with the following operators:\r\n",
      "\r\n",
      "            !\b! _\be_\bx_\bp_\br_\be_\bs_\bs_\bi_\bo_\bn  True if _\be_\bx_\bp_\br_\be_\bs_\bs_\bi_\bo_\bn is false.\r\n",
      "\r\n",
      "            _\be_\bx_\bp_\br_\be_\bs_\bs_\bi_\bo_\bn_\b1 -\b-a\ba _\be_\bx_\bp_\br_\be_\bs_\bs_\bi_\bo_\bn_\b2\r\n",
      "                          True if both _\be_\bx_\bp_\br_\be_\bs_\bs_\bi_\bo_\bn_\b1 and _\be_\bx_\bp_\br_\be_\bs_\bs_\bi_\bo_\bn_\b2 are true.\r\n",
      "\r\n",
      "            _\be_\bx_\bp_\br_\be_\bs_\bs_\bi_\bo_\bn_\b1 -\b-o\bo _\be_\bx_\bp_\br_\be_\bs_\bs_\bi_\bo_\bn_\b2\r\n",
      "                          True if either _\be_\bx_\bp_\br_\be_\bs_\bs_\bi_\bo_\bn_\b1 or _\be_\bx_\bp_\br_\be_\bs_\bs_\bi_\bo_\bn_\b2 are true.\r\n",
      "\r\n",
      "            (\b(_\be_\bx_\bp_\br_\be_\bs_\bs_\bi_\bo_\bn)\b)  True if expression is true.\r\n",
      "\r\n",
      "            The -\b-a\ba operator has higher precedence than the -\b-o\bo operator.\r\n",
      "\r\n",
      "     times  Print the accumulated user and system times for the shell and for\r\n",
      "            processes run from the shell.  The return status is 0.\r\n",
      "\r\n",
      "     trap [_\ba_\bc_\bt_\bi_\bo_\bn _\bs_\bi_\bg_\bn_\ba_\bl _\b._\b._\b.]\r\n",
      "            Cause the shell to parse and execute action when any of the speci‐\r\n",
      "            fied signals are received.  The signals are specified by signal\r\n",
      "            number or as the name of the signal.  If _\bs_\bi_\bg_\bn_\ba_\bl is 0 or EXIT, the\r\n",
      "            action is executed when the shell exits.  _\ba_\bc_\bt_\bi_\bo_\bn may be empty\r\n",
      "            (''), which causes the specified signals to be ignored.  With\r\n",
      "            _\ba_\bc_\bt_\bi_\bo_\bn omitted or set to `-' the specified signals are set to\r\n",
      "            their default action.  When the shell forks off a subshell, it re‐\r\n",
      "            sets trapped (but not ignored) signals to the default action.  The\r\n",
      "            t\btr\bra\bap\bp command has no effect on signals that were ignored on entry\r\n",
      "            to the shell.  t\btr\bra\bap\bp without any arguments cause it to write a list\r\n",
      "            of signals and their associated action to the standard output in a\r\n",
      "            format that is suitable as an input to the shell that achieves the\r\n",
      "            same trapping results.\r\n",
      "\r\n",
      "            Examples:\r\n",
      "\r\n",
      "                  trap\r\n",
      "\r\n",
      "            List trapped signals and their corresponding action\r\n",
      "\r\n",
      "                  trap '' INT QUIT tstp 30\r\n",
      "\r\n",
      "            Ignore signals INT QUIT TSTP USR1\r\n",
      "\r\n",
      "                  trap date INT\r\n",
      "\r\n",
      "            Print date upon receiving signal INT\r\n",
      "\r\n",
      "     type [_\bn_\ba_\bm_\be _\b._\b._\b.]\r\n",
      "            Interpret each name as a command and print the resolution of the\r\n",
      "            command search.  Possible resolutions are: shell keyword, alias,\r\n",
      "            shell builtin, command, tracked alias and not found.  For aliases\r\n",
      "            the alias expansion is printed; for commands and tracked aliases\r\n",
      "            the complete pathname of the command is printed.\r\n",
      "\r\n",
      "     ulimit [-\b-H\bH | -\b-S\bS] [-\b-a\ba | -\b-t\btf\bfd\bds\bsc\bcm\bml\blp\bpn\bnv\bv [_\bv_\ba_\bl_\bu_\be]]\r\n",
      "            Inquire about or set the hard or soft limits on processes or set\r\n",
      "            new limits.  The choice between hard limit (which no process is\r\n",
      "            allowed to violate, and which may not be raised once it has been\r\n",
      "            lowered) and soft limit (which causes processes to be signaled but\r\n",
      "            not necessarily killed, and which may be raised) is made with\r\n",
      "            these flags:\r\n",
      "\r\n",
      "            -\b-H\bH          set or inquire about hard limits\r\n",
      "\r\n",
      "            -\b-S\bS          set or inquire about soft limits.  If neither -\b-H\bH nor\r\n",
      "                        -\b-S\bS is specified, the soft limit is displayed or both\r\n",
      "                        limits are set.  If both are specified, the last one\r\n",
      "                        wins.\r\n",
      "\r\n",
      "            The limit to be interrogated or set, then, is chosen by specifying\r\n",
      "            any one of these flags:\r\n",
      "\r\n",
      "            -\b-a\ba          show all the current limits\r\n",
      "\r\n",
      "            -\b-t\bt          show or set the limit on CPU time (in seconds)\r\n",
      "\r\n",
      "            -\b-f\bf          show or set the limit on the largest file that can be\r\n",
      "                        created (in 512-byte blocks)\r\n",
      "\r\n",
      "            -\b-d\bd          show or set the limit on the data segment size of a\r\n",
      "                        process (in kilobytes)\r\n",
      "\r\n",
      "            -\b-s\bs          show or set the limit on the stack size of a process\r\n",
      "                        (in kilobytes)\r\n",
      "\r\n",
      "            -\b-c\bc          show or set the limit on the largest core dump size\r\n",
      "                        that can be produced (in 512-byte blocks)\r\n",
      "\r\n",
      "            -\b-m\bm          show or set the limit on the total physical memory\r\n",
      "                        that can be in use by a process (in kilobytes)\r\n",
      "\r\n",
      "            -\b-l\bl          show or set the limit on how much memory a process can\r\n",
      "                        lock with mlock(2) (in kilobytes)\r\n",
      "\r\n",
      "            -\b-p\bp          show or set the limit on the number of processes this\r\n",
      "                        user can have at one time\r\n",
      "\r\n",
      "            -\b-n\bn          show or set the limit on the number files a process\r\n",
      "                        can have open at once\r\n",
      "\r\n",
      "            -\b-v\bv          show or set the limit on the total virtual memory that\r\n",
      "                        can be in use by a process (in kilobytes)\r\n",
      "\r\n",
      "            -\b-r\br          show or set the limit on the real-time scheduling pri‐\r\n",
      "                        ority of a process\r\n",
      "\r\n",
      "            If none of these is specified, it is the limit on file size that\r\n",
      "            is shown or set.  If value is specified, the limit is set to that\r\n",
      "            number; otherwise the current limit is displayed.\r\n",
      "\r\n",
      "            Limits of an arbitrary process can be displayed or set using the\r\n",
      "            sysctl(8) utility.\r\n",
      "\r\n",
      "     umask [_\bm_\ba_\bs_\bk]\r\n",
      "            Set the value of umask (see umask(2)) to the specified octal\r\n",
      "            value.  If the argument is omitted, the umask value is printed.\r\n",
      "\r\n",
      "     unalias [-\b-a\ba] [_\bn_\ba_\bm_\be]\r\n",
      "            If _\bn_\ba_\bm_\be is specified, the shell removes that alias.  If -\b-a\ba is\r\n",
      "            specified, all aliases are removed.\r\n",
      "\r\n",
      "     unset [-\b-f\bfv\bv] _\bn_\ba_\bm_\be _\b._\b._\b.\r\n",
      "            The specified variables and functions are unset and unexported.\r\n",
      "            If -\b-f\bf or -\b-v\bv is specified, the corresponding function or variable\r\n",
      "            is unset, respectively.  If a given name corresponds to both a\r\n",
      "            variable and a function, and no options are given, only the vari‐\r\n",
      "            able is unset.\r\n",
      "\r\n",
      "     wait [_\bj_\bo_\bb]\r\n",
      "            Wait for the specified job to complete and return the exit status\r\n",
      "            of the last process in the job.  If the argument is omitted, wait\r\n",
      "            for all jobs to complete and return an exit status of zero.\r\n",
      "\r\n",
      "   C\bCo\bom\bmm\bma\ban\bnd\bd L\bLi\bin\bne\be E\bEd\bdi\bit\bti\bin\bng\bg\r\n",
      "     When d\bda\bas\bsh\bh is being used interactively from a terminal, the current com‐\r\n",
      "     mand and the command history (see f\bfc\bc in _\bB_\bu_\bi_\bl_\bt_\bi_\bn_\bs) can be edited using vi-\r\n",
      "     mode command-line editing.  This mode uses commands, described below,\r\n",
      "     similar to a subset of those described in the vi man page.  The command\r\n",
      "     ‘set -o vi’ enables vi-mode editing and places sh into vi insert mode.\r\n",
      "     With vi-mode enabled, sh can be switched between insert mode and command\r\n",
      "     mode.  It is similar to vi: typing ⟨ESC⟩ enters vi command mode.  Hitting\r\n",
      "     ⟨return⟩ while in command mode will pass the line to the shell.\r\n",
      "\r\n",
      "E\bEX\bXI\bIT\bT S\bST\bTA\bAT\bTU\bUS\bS\r\n",
      "     Errors that are detected by the shell, such as a syntax error, will cause\r\n",
      "     the shell to exit with a non-zero exit status.  If the shell is not an\r\n",
      "     interactive shell, the execution of the shell file will be aborted.  Oth‐\r\n",
      "     erwise the shell will return the exit status of the last command exe‐\r\n",
      "     cuted, or if the exit builtin is used with a numeric argument, it will\r\n",
      "     return the argument.\r\n",
      "\r\n",
      "E\bEN\bNV\bVI\bIR\bRO\bON\bNM\bME\bEN\bNT\bT\r\n",
      "     HOME       Set automatically by login(1) from the user's login directory\r\n",
      "                in the password file (passwd(4)).  This environment variable\r\n",
      "                also functions as the default argument for the cd builtin.\r\n",
      "\r\n",
      "     PATH       The default search path for executables.  See the above sec‐\r\n",
      "                tion _\bP_\ba_\bt_\bh _\bS_\be_\ba_\br_\bc_\bh.\r\n",
      "\r\n",
      "     CDPATH     The search path used with the cd builtin.\r\n",
      "\r\n",
      "     MAIL       The name of a mail file, that will be checked for the arrival\r\n",
      "                of new mail.  Overridden by MAILPATH.\r\n",
      "\r\n",
      "     MAILCHECK  The frequency in seconds that the shell checks for the arrival\r\n",
      "                of mail in the files specified by the MAILPATH or the MAIL\r\n",
      "                file.  If set to 0, the check will occur at each prompt.\r\n",
      "\r\n",
      "     MAILPATH   A colon “:” separated list of file names, for the shell to\r\n",
      "                check for incoming mail.  This environment setting overrides\r\n",
      "                the MAIL setting.  There is a maximum of 10 mailboxes that can\r\n",
      "                be monitored at once.\r\n",
      "\r\n",
      "     PS1        The primary prompt string, which defaults to “$ ”, unless you\r\n",
      "                are the superuser, in which case it defaults to “# ”.\r\n",
      "\r\n",
      "     PS2        The secondary prompt string, which defaults to “> ”.\r\n",
      "\r\n",
      "     PS4        Output before each line when execution trace (set -x) is en‐\r\n",
      "                abled, defaults to “+ ”.\r\n",
      "\r\n",
      "     IFS        Input Field Separators.  This is normally set to ⟨space⟩,\r\n",
      "                ⟨tab⟩, and ⟨newline⟩.  See the _\bW_\bh_\bi_\bt_\be _\bS_\bp_\ba_\bc_\be _\bS_\bp_\bl_\bi_\bt_\bt_\bi_\bn_\bg section\r\n",
      "                for more details.\r\n",
      "\r\n",
      "     TERM       The default terminal setting for the shell.  This is inherited\r\n",
      "                by children of the shell, and is used in the history editing\r\n",
      "                modes.\r\n",
      "\r\n",
      "     HISTSIZE   The number of lines in the history buffer for the shell.\r\n",
      "\r\n",
      "     PWD        The logical value of the current working directory.  This is\r\n",
      "                set by the c\bcd\bd command.\r\n",
      "\r\n",
      "     OLDPWD     The previous logical value of the current working directory.\r\n",
      "                This is set by the c\bcd\bd command.\r\n",
      "\r\n",
      "     PPID       The process ID of the parent process of the shell.\r\n",
      "\r\n",
      "F\bFI\bIL\bLE\bES\bS\r\n",
      "     _\b$_\bH_\bO_\bM_\bE_\b/_\b._\bp_\br_\bo_\bf_\bi_\bl_\be\r\n",
      "\r\n",
      "     _\b/_\be_\bt_\bc_\b/_\bp_\br_\bo_\bf_\bi_\bl_\be\r\n",
      "\r\n",
      "S\bSE\bEE\bE A\bAL\bLS\bSO\bO\r\n",
      "     csh(1), echo(1), getopt(1), ksh(1), login(1), printf(1), test(1),\r\n",
      "     getopt(3), passwd(5), environ(7), sysctl(8)\r\n",
      "\r\n",
      "H\bHI\bIS\bST\bTO\bOR\bRY\bY\r\n",
      "     d\bda\bas\bsh\bh is a POSIX-compliant implementation of /bin/sh that aims to be as\r\n",
      "     small as possible.  d\bda\bas\bsh\bh is a direct descendant of the NetBSD version of\r\n",
      "     ash (the Almquist SHell), ported to Linux in early 1997.  It was renamed\r\n",
      "     to d\bda\bas\bsh\bh in 2002.\r\n",
      "\r\n",
      "B\bBU\bUG\bGS\bS\r\n",
      "     Setuid shell scripts should be avoided at all costs, as they are a sig‐\r\n",
      "     nificant security risk.\r\n",
      "\r\n",
      "     PS1, PS2, and PS4 should be subject to parameter expansion before being\r\n",
      "     displayed.\r\n",
      "\r\n",
      "BSD                            January 19, 2003                            BSD\r\n"
     ]
    }
   ],
   "source": [
    "! man sh"
   ]
  },
  {
   "cell_type": "markdown",
   "id": "075c2bc0",
   "metadata": {},
   "source": [
    "Using the <font color='red'>⚠️ </font> `man` (manual) command we see that on this mashing `sh` points to the `dash` shell."
   ]
  },
  {
   "cell_type": "markdown",
   "id": "ed7278f0",
   "metadata": {},
   "source": [
    "For convenience we will use the cell `` magic in the the rest of the lecture to write our scripts"
   ]
  },
  {
   "cell_type": "markdown",
   "id": "a98d6010",
   "metadata": {},
   "source": [
    "For figuring out binding of commands to different executables (you can have several python interpreters alongside each other on your system) use <font color='red'>⚠️ </font> `which`"
   ]
  },
  {
   "cell_type": "code",
   "execution_count": 13,
   "id": "1d43467a",
   "metadata": {},
   "outputs": [
    {
     "name": "stdout",
     "output_type": "stream",
     "text": [
      "/home/mirok/miniconda3/envs/in3110/bin/python\r\n"
     ]
    }
   ],
   "source": [
    "!which python"
   ]
  },
  {
   "cell_type": "markdown",
   "id": "ab728a02",
   "metadata": {
    "slideshow": {
     "slide_type": ""
    },
    "tags": []
   },
   "source": [
    "### Variables\n",
    "\n",
    "- Assign a variable by `var=value` (__NOTE__ no spaces around `=`!)\n",
    "- Retrieve the value of the variable by `${var}` or `$var`"
   ]
  },
  {
   "cell_type": "code",
   "execution_count": 14,
   "id": "c22e22b0",
   "metadata": {},
   "outputs": [
    {
     "name": "stdout",
     "output_type": "stream",
     "text": [
      "Hi world Hi!\n",
      "Hi !\n"
     ]
    }
   ],
   "source": [
    "%%bash\n",
    "#!/usr/bin/bash\n",
    "\n",
    "cmd=echo    # Functions can be passed around\n",
    "greet=\"Hi\"\n",
    "\n",
    "${cmd} ${greet} world $greet!\n",
    "\n",
    "# Undefined variables result in empty string\n",
    "\n",
    "${cmd} ${greet} ${world}!"
   ]
  },
  {
   "cell_type": "markdown",
   "id": "aa4a8e66",
   "metadata": {},
   "source": [
    "There are also special variables defined in the environment. By convention their names are all uppercase. As an example, recall that when running `hello_world.sh` \n",
    "above we have specified the full path to the script. \n",
    "In particular, the following would give an error"
   ]
  },
  {
   "cell_type": "code",
   "execution_count": 16,
   "id": "8ae157c1",
   "metadata": {
    "slideshow": {
     "slide_type": ""
    },
    "tags": [
     "raises-exception"
    ]
   },
   "outputs": [
    {
     "name": "stdout",
     "output_type": "stream",
     "text": [
      "hello world!\r\n"
     ]
    }
   ],
   "source": [
    "! ./scripts/hello_world.sh"
   ]
  },
  {
   "cell_type": "markdown",
   "id": "8f275dcc",
   "metadata": {},
   "source": [
    "To fix this problem, \n",
    "recall the role of `PYTHONPATH` in looking up Python modules by the Python interpreter. In fact `PYTHONPATH` is environmental variable"
   ]
  },
  {
   "cell_type": "code",
   "execution_count": 17,
   "id": "343145b3",
   "metadata": {
    "slideshow": {
     "slide_type": ""
    },
    "tags": []
   },
   "outputs": [
    {
     "name": "stdout",
     "output_type": "stream",
     "text": [
      "\r\n"
     ]
    }
   ],
   "source": [
    "! echo $PYTHONPATH   # NOTE that this could be empty"
   ]
  },
  {
   "cell_type": "markdown",
   "id": "419b743b",
   "metadata": {},
   "source": [
    "Similar role is played by the environmental variable `PATH` which \n",
    "specifies directories to look for program executables."
   ]
  },
  {
   "cell_type": "code",
   "execution_count": 18,
   "id": "89437be6",
   "metadata": {},
   "outputs": [
    {
     "name": "stdout",
     "output_type": "stream",
     "text": [
      "/home/mirok/Documents/Teaching/UiO-IN3110.github.io/lectures/command-line/scripts/scripts:/home/mirok/Documents/Software/AnaMorph/bin:/home/mirok/Documents/Software/visit3_3_3.linux-x86_64/bin:/home/mirok/Documents/Software/Fiji.app:/home/mirok/Documents/Software/julia:/home/mirok/Documents/Software/ParaView-5.11.0-MPI-Linux-Python3.9-x86_64/bin:/home/mirok/miniconda3/envs/in3110/bin:/home/mirok/miniconda3/condabin:/home/mirok/.local/bin:/usr/local/sbin:/usr/local/bin:/usr/sbin:/usr/bin:/sbin:/bin:/usr/games:/usr/local/games:/snap/bin:/snap/bin\r\n"
     ]
    }
   ],
   "source": [
    "! echo $PATH"
   ]
  },
  {
   "cell_type": "markdown",
   "id": "dffeaa40",
   "metadata": {},
   "source": [
    "What we would like to do to run our script just as `hello_world.sh` is to modify the env. Consider the following "
   ]
  },
  {
   "cell_type": "code",
   "execution_count": 19,
   "id": "83eb791a",
   "metadata": {},
   "outputs": [
    {
     "name": "stdout",
     "output_type": "stream",
     "text": [
      "/home/mirok/Documents/Teaching/UiO-IN3110.github.io/lectures/command-line/scripts:/home/mirok/Documents/Teaching/UiO-IN3110.github.io/lectures/command-line/scripts/scripts:/home/mirok/Documents/Software/AnaMorph/bin:/home/mirok/Documents/Software/visit3_3_3.linux-x86_64/bin:/home/mirok/Documents/Software/Fiji.app:/home/mirok/Documents/Software/julia:/home/mirok/Documents/Software/ParaView-5.11.0-MPI-Linux-Python3.9-x86_64/bin:/home/mirok/miniconda3/envs/in3110/bin:/home/mirok/miniconda3/condabin:/home/mirok/.local/bin:/usr/local/sbin:/usr/local/bin:/usr/sbin:/usr/bin:/sbin:/bin:/usr/games:/usr/local/games:/snap/bin:/snap/bin\n"
     ]
    }
   ],
   "source": [
    "%%bash\n",
    "new_PATH=\"$PWD/scripts:$PATH\"\n",
    "echo $new_PATH"
   ]
  },
  {
   "cell_type": "markdown",
   "id": "6064b292",
   "metadata": {},
   "source": [
    "Here we have __computed__ the value assigned to `new_PATH` by using <font color='red'>⚠️ </font> `pwd` command and building up the string. Note that we prepend to the list to get higher precedence to our directory. To update the `PATH` we could continue as follows"
   ]
  },
  {
   "cell_type": "code",
   "execution_count": 20,
   "id": "11ed2f30",
   "metadata": {},
   "outputs": [
    {
     "name": "stdout",
     "output_type": "stream",
     "text": [
      "/home/mirok/Documents/Teaching/UiO-IN3110.github.io/lectures/command-line/scripts:/home/mirok/Documents/Teaching/UiO-IN3110.github.io/lectures/command-line/scripts/scripts:/home/mirok/Documents/Software/AnaMorph/bin:/home/mirok/Documents/Software/visit3_3_3.linux-x86_64/bin:/home/mirok/Documents/Software/Fiji.app:/home/mirok/Documents/Software/julia:/home/mirok/Documents/Software/ParaView-5.11.0-MPI-Linux-Python3.9-x86_64/bin:/home/mirok/miniconda3/envs/in3110/bin:/home/mirok/miniconda3/condabin:/home/mirok/.local/bin:/usr/local/sbin:/usr/local/bin:/usr/sbin:/usr/bin:/sbin:/bin:/usr/games:/usr/local/games:/snap/bin:/snap/bin\n",
      "Now at /home/mirok\n",
      "\n",
      "hello world!\n"
     ]
    }
   ],
   "source": [
    "%%bash\n",
    "new_PATH=\"$PWD/scripts:$PATH\"\n",
    "export PATH=$new_PATH  # PATH is set\n",
    "\n",
    "echo $PATH\n",
    "\n",
    "# Navigate somewhere else so that we don't get lucky\n",
    "cd $HOME\n",
    "echo \"Now at\" $PWD\n",
    "# Call\n",
    "echo\n",
    "hello_world.sh"
   ]
  },
  {
   "cell_type": "markdown",
   "id": "18c9622b",
   "metadata": {},
   "source": [
    "Here we have used the command <font color='red'>⚠️ </font> `cd` to change the directory to `HOME` which is an environment variable holding the user home directory, here"
   ]
  },
  {
   "cell_type": "code",
   "execution_count": 21,
   "id": "3c4962b6",
   "metadata": {},
   "outputs": [
    {
     "name": "stdout",
     "output_type": "stream",
     "text": [
      "/home/mirok\r\n"
     ]
    }
   ],
   "source": [
    "! echo $HOME"
   ]
  },
  {
   "cell_type": "markdown",
   "id": "4ec5c8df",
   "metadata": {},
   "source": [
    "__NOTE__ There is a pitfall in each notebook cell execution is its own [process](https://stackoverflow.com/questions/67850706/unable-to-export-path-in-jupyterlab). In particular, the exported variables will not be reflected in the next (not child) processes. "
   ]
  },
  {
   "cell_type": "code",
   "execution_count": 32,
   "id": "dba4ebd0",
   "metadata": {},
   "outputs": [
    {
     "name": "stdout",
     "output_type": "stream",
     "text": [
      "/home/mirok/Documents/Software/AnaMorph/bin:/home/mirok/Documents/Software/visit3_3_3.linux-x86_64/bin:/home/mirok/Documents/Software/Fiji.app:/home/mirok/Documents/Software/julia:/home/mirok/Documents/Software/ParaView-5.11.0-MPI-Linux-Python3.9-x86_64/bin:/home/mirok/miniconda3/envs/in3110/bin:/home/mirok/miniconda3/condabin:/home/mirok/.local/bin:/usr/local/sbin:/usr/local/bin:/usr/sbin:/usr/bin:/sbin:/bin:/usr/games:/usr/local/games:/snap/bin:/snap/bin\r\n"
     ]
    }
   ],
   "source": [
    "! echo $PATH   "
   ]
  },
  {
   "cell_type": "markdown",
   "id": "6f6a480c",
   "metadata": {},
   "source": [
    "So we will do this outside in the terminal/in one running shell session. We can put this process to sleep by `ctrl+z`. After the setting we can bring it back to (f)ore(g)round by <font color='red'>⚠️ </font> `fg`. Alternatively, we can resume the sleeping process in the (b)ack(g)round <font color='red'>⚠️ </font> `bg`."
   ]
  },
  {
   "cell_type": "markdown",
   "id": "7d81e433",
   "metadata": {},
   "source": [
    "Some other examples of setting variables on computations\n"
   ]
  },
  {
   "cell_type": "code",
   "execution_count": 22,
   "id": "8790ec34",
   "metadata": {},
   "outputs": [
    {
     "name": "stdout",
     "output_type": "stream",
     "text": [
      "Today is onsdag 2023-11-01 12:43:00.\n"
     ]
    }
   ],
   "source": [
    "%%bash\n",
    "weekday=$(date +\"%A %Y-%m-%d %H:%M:%S\")    # date +\"%A\" is a bash command to display the day of the week \n",
    "echo \"Today is $weekday.\""
   ]
  },
  {
   "cell_type": "code",
   "execution_count": 25,
   "id": "2c60ae8e",
   "metadata": {},
   "outputs": [
    {
     "name": "stdout",
     "output_type": "stream",
     "text": [
      "13_scikit_learn 14-julia-ml about best_practices command-line mixed-programming numerical-python pandas Peer-review information.ipynb production pull-request python regular-expressions tips_and_tricks visualisation web web-servers\n"
     ]
    }
   ],
   "source": [
    "%%bash\n",
    "# Here we just use a different syntax to get it\n",
    "files=`ls ..`\n",
    "echo $files"
   ]
  },
  {
   "cell_type": "markdown",
   "id": "0e37c21f",
   "metadata": {},
   "source": [
    "As said before command <font color='red'>⚠️ </font> `ls` lists content of a directory."
   ]
  },
  {
   "cell_type": "markdown",
   "id": "e13a5a7f",
   "metadata": {
    "slideshow": {
     "slide_type": ""
    },
    "tags": []
   },
   "source": [
    "### Typed variables\n",
    "\n",
    "By default variables are un-typed, and treated as character arrays"
   ]
  },
  {
   "cell_type": "code",
   "execution_count": 27,
   "id": "2a4f8636",
   "metadata": {},
   "outputs": [
    {
     "name": "stdout",
     "output_type": "stream",
     "text": [
      "5++5\n"
     ]
    }
   ],
   "source": [
    "%%bash\n",
    "x=5\n",
    "x=$x++5\n",
    "echo $x"
   ]
  },
  {
   "cell_type": "markdown",
   "id": "f7f5f24b",
   "metadata": {},
   "source": [
    "We can be explicit about the type of variable"
   ]
  },
  {
   "cell_type": "code",
   "execution_count": 28,
   "id": "35505562",
   "metadata": {},
   "outputs": [
    {
     "name": "stdout",
     "output_type": "stream",
     "text": [
      "10\n"
     ]
    }
   ],
   "source": [
    "%%bash\n",
    "declare -i b     # define an integer variable b\n",
    "a=5\n",
    "b=$a+5\n",
    "echo $b"
   ]
  },
  {
   "cell_type": "markdown",
   "id": "35950d9b",
   "metadata": {},
   "source": [
    "Or express that the variable is constant/read-only"
   ]
  },
  {
   "cell_type": "code",
   "execution_count": 29,
   "id": "cc435225",
   "metadata": {
    "collapsed": true,
    "slideshow": {
     "slide_type": ""
    },
    "tags": [
     "raises-exception"
    ]
   },
   "outputs": [
    {
     "name": "stdout",
     "output_type": "stream",
     "text": [
      "10\n"
     ]
    },
    {
     "name": "stderr",
     "output_type": "stream",
     "text": [
      "bash: line 3: r: readonly variable\n"
     ]
    },
    {
     "ename": "CalledProcessError",
     "evalue": "Command 'b'declare -r r=10            \\necho $r\\nr=5\\n'' returned non-zero exit status 1.",
     "output_type": "error",
     "traceback": [
      "\u001b[0;31m---------------------------------------------------------------------------\u001b[0m",
      "\u001b[0;31mCalledProcessError\u001b[0m                        Traceback (most recent call last)",
      "Cell \u001b[0;32mIn [29], line 1\u001b[0m\n\u001b[0;32m----> 1\u001b[0m \u001b[43mget_ipython\u001b[49m\u001b[43m(\u001b[49m\u001b[43m)\u001b[49m\u001b[38;5;241;43m.\u001b[39;49m\u001b[43mrun_cell_magic\u001b[49m\u001b[43m(\u001b[49m\u001b[38;5;124;43m'\u001b[39;49m\u001b[38;5;124;43mbash\u001b[39;49m\u001b[38;5;124;43m'\u001b[39;49m\u001b[43m,\u001b[49m\u001b[43m \u001b[49m\u001b[38;5;124;43m'\u001b[39;49m\u001b[38;5;124;43m'\u001b[39;49m\u001b[43m,\u001b[49m\u001b[43m \u001b[49m\u001b[38;5;124;43m'\u001b[39;49m\u001b[38;5;124;43mdeclare -r r=10            \u001b[39;49m\u001b[38;5;130;43;01m\\n\u001b[39;49;00m\u001b[38;5;124;43mecho $r\u001b[39;49m\u001b[38;5;130;43;01m\\n\u001b[39;49;00m\u001b[38;5;124;43mr=5\u001b[39;49m\u001b[38;5;130;43;01m\\n\u001b[39;49;00m\u001b[38;5;124;43m'\u001b[39;49m\u001b[43m)\u001b[49m\n",
      "File \u001b[0;32m~/miniconda3/envs/in3110/lib/python3.9/site-packages/IPython/core/interactiveshell.py:2417\u001b[0m, in \u001b[0;36mInteractiveShell.run_cell_magic\u001b[0;34m(self, magic_name, line, cell)\u001b[0m\n\u001b[1;32m   2415\u001b[0m \u001b[38;5;28;01mwith\u001b[39;00m \u001b[38;5;28mself\u001b[39m\u001b[38;5;241m.\u001b[39mbuiltin_trap:\n\u001b[1;32m   2416\u001b[0m     args \u001b[38;5;241m=\u001b[39m (magic_arg_s, cell)\n\u001b[0;32m-> 2417\u001b[0m     result \u001b[38;5;241m=\u001b[39m \u001b[43mfn\u001b[49m\u001b[43m(\u001b[49m\u001b[38;5;241;43m*\u001b[39;49m\u001b[43margs\u001b[49m\u001b[43m,\u001b[49m\u001b[43m \u001b[49m\u001b[38;5;241;43m*\u001b[39;49m\u001b[38;5;241;43m*\u001b[39;49m\u001b[43mkwargs\u001b[49m\u001b[43m)\u001b[49m\n\u001b[1;32m   2418\u001b[0m \u001b[38;5;28;01mreturn\u001b[39;00m result\n",
      "File \u001b[0;32m~/miniconda3/envs/in3110/lib/python3.9/site-packages/IPython/core/magics/script.py:153\u001b[0m, in \u001b[0;36mScriptMagics._make_script_magic.<locals>.named_script_magic\u001b[0;34m(line, cell)\u001b[0m\n\u001b[1;32m    151\u001b[0m \u001b[38;5;28;01melse\u001b[39;00m:\n\u001b[1;32m    152\u001b[0m     line \u001b[38;5;241m=\u001b[39m script\n\u001b[0;32m--> 153\u001b[0m \u001b[38;5;28;01mreturn\u001b[39;00m \u001b[38;5;28;43mself\u001b[39;49m\u001b[38;5;241;43m.\u001b[39;49m\u001b[43mshebang\u001b[49m\u001b[43m(\u001b[49m\u001b[43mline\u001b[49m\u001b[43m,\u001b[49m\u001b[43m \u001b[49m\u001b[43mcell\u001b[49m\u001b[43m)\u001b[49m\n",
      "File \u001b[0;32m~/miniconda3/envs/in3110/lib/python3.9/site-packages/IPython/core/magics/script.py:305\u001b[0m, in \u001b[0;36mScriptMagics.shebang\u001b[0;34m(self, line, cell)\u001b[0m\n\u001b[1;32m    300\u001b[0m \u001b[38;5;28;01mif\u001b[39;00m args\u001b[38;5;241m.\u001b[39mraise_error \u001b[38;5;129;01mand\u001b[39;00m p\u001b[38;5;241m.\u001b[39mreturncode \u001b[38;5;241m!=\u001b[39m \u001b[38;5;241m0\u001b[39m:\n\u001b[1;32m    301\u001b[0m     \u001b[38;5;66;03m# If we get here and p.returncode is still None, we must have\u001b[39;00m\n\u001b[1;32m    302\u001b[0m     \u001b[38;5;66;03m# killed it but not yet seen its return code. We don't wait for it,\u001b[39;00m\n\u001b[1;32m    303\u001b[0m     \u001b[38;5;66;03m# in case it's stuck in uninterruptible sleep. -9 = SIGKILL\u001b[39;00m\n\u001b[1;32m    304\u001b[0m     rc \u001b[38;5;241m=\u001b[39m p\u001b[38;5;241m.\u001b[39mreturncode \u001b[38;5;129;01mor\u001b[39;00m \u001b[38;5;241m-\u001b[39m\u001b[38;5;241m9\u001b[39m\n\u001b[0;32m--> 305\u001b[0m     \u001b[38;5;28;01mraise\u001b[39;00m CalledProcessError(rc, cell)\n",
      "\u001b[0;31mCalledProcessError\u001b[0m: Command 'b'declare -r r=10            \\necho $r\\nr=5\\n'' returned non-zero exit status 1."
     ]
    }
   ],
   "source": [
    "%%bash\n",
    "declare -r r=10            \n",
    "echo $r\n",
    "r=5"
   ]
  },
  {
   "cell_type": "markdown",
   "id": "17bd5714",
   "metadata": {},
   "source": [
    "Bash also support `array` type"
   ]
  },
  {
   "cell_type": "code",
   "execution_count": 30,
   "id": "5204fa73",
   "metadata": {
    "slideshow": {
     "slide_type": ""
    },
    "tags": []
   },
   "outputs": [
    {
     "name": "stdout",
     "output_type": "stream",
     "text": [
      "foo\n",
      "foo bar\n",
      "3\n",
      "2\n"
     ]
    }
   ],
   "source": [
    "%%bash\n",
    "declare -a array=(\"foo\" \"bar\") # array\n",
    "echo ${array[0]}  # First array value\n",
    "echo ${array[@]}  # All array values\n",
    "echo ${#array}    # !!!Array size\n",
    "echo ${#array[@]} # But"
   ]
  },
  {
   "cell_type": "markdown",
   "id": "1799e578",
   "metadata": {
    "slideshow": {
     "slide_type": ""
    },
    "tags": []
   },
   "source": [
    "### Flow control and functions\n",
    "\n",
    "For flow we shall discuss `if`, `case` and `for` and `while` loops\n",
    "\n",
    "__`if`__ statement"
   ]
  },
  {
   "cell_type": "code",
   "execution_count": 33,
   "id": "85b85269",
   "metadata": {},
   "outputs": [
    {
     "name": "stdout",
     "output_type": "stream",
     "text": [
      "Don't know\n"
     ]
    }
   ],
   "source": [
    "%%bash\n",
    "declare name=\"Joe2\"\n",
    "# Here we are comparing 2 strings\n",
    "if [ $name == \"Joe\" ]\n",
    "then\n",
    "  echo \"Joseph\"\n",
    "else\n",
    "  echo \"Don't know\"\n",
    "fi"
   ]
  },
  {
   "cell_type": "markdown",
   "id": "453f227e",
   "metadata": {},
   "source": [
    "__Note__ `[` is not a bracket(for grouping)"
   ]
  },
  {
   "cell_type": "code",
   "execution_count": 35,
   "id": "34619d82",
   "metadata": {},
   "outputs": [
    {
     "name": "stdout",
     "output_type": "stream",
     "text": [
      "The variable is at most 10\n"
     ]
    }
   ],
   "source": [
    "%%bash\n",
    "declare -i -r number=10\n",
    "# Here we are comparing numbers\n",
    "if [ $number -gt 10 ]    # -eq -le\n",
    "then\n",
    "  echo \"The variable is greater than 10.\"\n",
    "else\n",
    "  echo \"The variable is at most 10\"\n",
    "fi"
   ]
  },
  {
   "cell_type": "markdown",
   "id": "69b6104e",
   "metadata": {},
   "source": [
    "We can do `if`-`elif` branching and the tests can be combined with `&&` (AND) or `||` (OR). Below we also introduce [parameter expansion](https://www.gnu.org/software/bash/manual/html_node/Shell-Parameter-Expansion.html) `{ }` to grab substrings or get length of strings and `(( )` to perform some simple arithmetic"
   ]
  },
  {
   "cell_type": "code",
   "execution_count": 42,
   "id": "4f4e7562",
   "metadata": {},
   "outputs": [
    {
     "name": "stdout",
     "output_type": "stream",
     "text": [
      "The first letter is A or name length is 4\n"
     ]
    }
   ],
   "source": [
    "%%bash\n",
    "declare name=\"Blph\"  \n",
    "# Joey\n",
    "\n",
    "if [ $name == \"Joe\" ]\n",
    "then\n",
    "  echo Name is Joe\n",
    "fi\n",
    "\n",
    "# AND\n",
    "if [ ${name: 0:1} == \"J\" ] && [ ${name: -1:1} == \"y\" ]\n",
    "then\n",
    "  echo The first letter is J and last is y\n",
    "# OR\n",
    "elif [ ${name: 0:1} == \"A\" ] || [ ${#name} -eq $((2+2)) ]\n",
    "then\n",
    "  echo The first letter is A or name length is $((1+3))\n",
    "else\n",
    "  [ ${#name} -eq 5 ] && echo \"Don't know for 5 char long name\"\n",
    "fi\n",
    "# NOTE: we add this \"success\" expression so that ipython does not complain\n",
    "# about notzero exit status\n",
    "# We could also use\n",
    "exit 0"
   ]
  },
  {
   "cell_type": "markdown",
   "id": "85c87939",
   "metadata": {},
   "source": [
    "<font color='red'>⚠️ </font> `exit` with status flag/number is used to indicate succesful or failed execution. 0 means success. These is a special variable which captures exit code of the preceeding call"
   ]
  },
  {
   "cell_type": "code",
   "execution_count": 43,
   "id": "e65536e7",
   "metadata": {},
   "outputs": [
    {
     "name": "stdout",
     "output_type": "stream",
     "text": [
      "1\n",
      "2 y\n",
      "3 y\n"
     ]
    }
   ],
   "source": [
    "%%bash\n",
    "name=\"Joey\"\n",
    "echo 1 ${name: -1:0}\n",
    "echo 2 ${name: -1:1}\n",
    "echo 3 ${name: -1:2}"
   ]
  },
  {
   "cell_type": "markdown",
   "id": "5ec53191",
   "metadata": {},
   "source": [
    "Let's illustrate the exit status "
   ]
  },
  {
   "cell_type": "code",
   "execution_count": 46,
   "id": "795b2565",
   "metadata": {
    "slideshow": {
     "slide_type": ""
    },
    "tags": []
   },
   "outputs": [
    {
     "name": "stdout",
     "output_type": "stream",
     "text": [
      "There was a problem\n"
     ]
    }
   ],
   "source": [
    "%%bash\n",
    "name=\"alex\" # alexa\n",
    "[ ${#name} -eq 5 ] && echo \"Exec only when name 5\"\n",
    "\n",
    "if [ \"$?\" == \"0\" ]\n",
    "then\n",
    "  echo There was no problem\n",
    "else\n",
    "  echo There was a problem\n",
    "fi"
   ]
  },
  {
   "cell_type": "markdown",
   "id": "6d9f8413",
   "metadata": {},
   "source": [
    "There are handy tests for existence of files/directories. For example we can check"
   ]
  },
  {
   "cell_type": "code",
   "execution_count": 47,
   "id": "fef0861c",
   "metadata": {},
   "outputs": [
    {
     "name": "stdout",
     "output_type": "stream",
     "text": [
      "There is scripts directory\n",
      "allPDFs.tar\n",
      "allPDFs.tar.gz\n",
      "Bash - interactive lecture.ipynb\n",
      "Bash - interactive lecture.slides.html\n",
      "cmdline_bash.ipynb\n",
      "data\n",
      "figs\n",
      "hello-world\n",
      "hw.sh\n",
      "Makefile\n",
      "ottar_scicomm.pdf\n",
      "results\n",
      "run_and_test.sh\n",
      "scripts\n",
      "scripts.bk\n",
      "Valgkort_2023.pdf\n",
      "\n",
      "scripts contains executable\n"
     ]
    }
   ],
   "source": [
    "%%bash\n",
    "dir='scripts'\n",
    "\n",
    "if [ -d $dir ]\n",
    "then\n",
    "  echo There is $dir directory\n",
    "  cp -r $dir $dir.bk\n",
    "  ls .             # . is a current directoy, .. is the one above\n",
    "  echo\n",
    "  if [ -x \"$dir/hello_world.sh\" ]\n",
    "  then\n",
    "    echo $dir contains executable\n",
    "  fi\n",
    "fi"
   ]
  },
  {
   "cell_type": "markdown",
   "id": "7a5ddd2d",
   "metadata": {},
   "source": [
    "Here we have used the copy command <font color='red'>⚠️ </font> `cp` with a `-r` recursive switch."
   ]
  },
  {
   "cell_type": "markdown",
   "id": "3c8f3281",
   "metadata": {},
   "source": [
    "Other test switches\n",
    "\n",
    "- `-h` FILE - True if the FILE exists and is a symbolic link.\n",
    "- `-r` FILE - True if the FILE exists and is readable.\n",
    "- `-w` FILE - True if the FILE exists and is writable.\n",
    "- `-x` FILE - True if the FILE exists and is executable.\n",
    "- `-d` FILE - True if the FILE exists and is a directory.\n",
    "- `-e` FILE - True if the FILE exists and is a file, regardless of type \n",
    "- `-f` FILE - True if the FILE exists and is a regular file (not a directory or device)"
   ]
  },
  {
   "cell_type": "markdown",
   "id": "00967c46",
   "metadata": {},
   "source": [
    "__`case`__ statement\n",
    "\n",
    "To simplify writing nested `if` statements especially if branching is a case analysis/pattern matching we use `case` construct. This will be useful e.g. for parsing command line arguments (see later)"
   ]
  },
  {
   "cell_type": "code",
   "execution_count": 49,
   "id": "f567bb5d",
   "metadata": {},
   "outputs": [
    {
     "name": "stdout",
     "output_type": "stream",
     "text": [
      "4\n"
     ]
    }
   ],
   "source": [
    "%%bash\n",
    "place=\"Oslo\"\n",
    "case $place in\n",
    "        Oslo)\n",
    "            m=4;;  # ;; indicates end of case\n",
    "        Bergen)\n",
    "            m=5;;\n",
    "        *)\n",
    "            m=-1\n",
    "esac\n",
    "echo $m"
   ]
  },
  {
   "cell_type": "markdown",
   "id": "f9c279af",
   "metadata": {},
   "source": [
    "__`for`__ loop\n",
    "\n",
    "Consider this setup where we run over bunch of parameters to perform a \"simulation\" whose result we want to store"
   ]
  },
  {
   "cell_type": "code",
   "execution_count": 50,
   "id": "231114e0",
   "metadata": {
    "slideshow": {
     "slide_type": ""
    },
    "tags": []
   },
   "outputs": [
    {
     "name": "stdout",
     "output_type": "stream",
     "text": [
      "results exists\n",
      "running first\n",
      "removed 'first.txt'\n",
      "running second\n",
      "removed 'second.txt'\n",
      "running third\n",
      "removed 'third.txt'\n",
      "Performed 3 experiments\n"
     ]
    }
   ],
   "source": [
    "%%bash\n",
    "experiments=\"first second third\"\n",
    "\n",
    "dir=results\n",
    "\n",
    "if [ -d $dir ]\n",
    "then\n",
    "  echo $dir exists\n",
    "else\n",
    "  mkdir $dir\n",
    "fi\n",
    "\n",
    "declare -i counter\n",
    "counter=0\n",
    "\n",
    "for e in $experiments\n",
    "do\n",
    "  echo running $e\n",
    "  sleep 0.2\n",
    "  touch $e.txt        # Touch/create empty file with that name\n",
    "  cp $e.txt $dir      # Back it up\n",
    "  rm -vf $e.txt           # Remove the original\n",
    "  ((counter=counter+1))       # Increase the counter\n",
    "done\n",
    "echo Performed $counter experiments"
   ]
  },
  {
   "cell_type": "markdown",
   "id": "d2c45793",
   "metadata": {
    "slideshow": {
     "slide_type": ""
    },
    "tags": []
   },
   "source": [
    "Here we have used a make directory command <font color='red'>⚠️ </font> `mkdir`, the simulation was mocked up by <font color='red'>⚠️ </font> `sleep` command which delays the execution by arg seconds and the results were created by <font color='red'>⚠️ </font> `touch`. Finally we removed the original results by <font color='red'>⚠️ </font> `rm`."
   ]
  },
  {
   "cell_type": "markdown",
   "id": "ed432898",
   "metadata": {},
   "source": [
    "Previus example illustrates a common situation where the tasks in the loop could execute in parallel as opposed to serial \n",
    "as done previosly. Lunching the tasks in parallel can be done with `&`"
   ]
  },
  {
   "cell_type": "code",
   "execution_count": 51,
   "id": "1dc4cd99",
   "metadata": {},
   "outputs": [
    {
     "name": "stdout",
     "output_type": "stream",
     "text": [
      "Launched first\n",
      "Launched second\n",
      "Launched third\n"
     ]
    }
   ],
   "source": [
    "%%bash\n",
    "experiments=\"first second third\"\n",
    "\n",
    "for e in $experiments\n",
    "do\n",
    "  sleep 1 && echo Launched $e\n",
    "done"
   ]
  },
  {
   "cell_type": "markdown",
   "id": "21f7b878",
   "metadata": {},
   "source": [
    "In contrast the parallel execution as expected runs quicker"
   ]
  },
  {
   "cell_type": "code",
   "execution_count": 53,
   "id": "62f49049",
   "metadata": {},
   "outputs": [
    {
     "name": "stdout",
     "output_type": "stream",
     "text": [
      "Launched first\n",
      "Launched third\n",
      "Launched second\n"
     ]
    }
   ],
   "source": [
    "%%bash\n",
    "experiments=\"first second third\"\n",
    "\n",
    "for e in $experiments\n",
    "do\n",
    "  sleep 1 && echo Launched $e &\n",
    "done"
   ]
  },
  {
   "cell_type": "markdown",
   "id": "e3081ee5",
   "metadata": {},
   "source": [
    "__`while`__ loop\n",
    "\n",
    "Consider the task of counting lines in a file"
   ]
  },
  {
   "cell_type": "code",
   "execution_count": 56,
   "id": "228c7c12",
   "metadata": {},
   "outputs": [
    {
     "name": "stdout",
     "output_type": "stream",
     "text": [
      "Start counting...\n",
      "done\n",
      "Number of lines in : 13\n",
      "13 ./data/text.txt\n"
     ]
    }
   ],
   "source": [
    "%%bash\n",
    "filename=\"./data/text.txt\"\n",
    "declare -i count; count=0\n",
    "\n",
    "echo \"Start counting...\"\n",
    "# loop over all lines of  file\n",
    "while read p\n",
    "do\n",
    "    # echo $p\n",
    "    # increase line counter\n",
    "    ((count++))\n",
    "done < $filename\n",
    "echo \"done\"\n",
    "\n",
    "echo \"Number of lines in $file: $count\"\n",
    "wc -l $filename     # We compare with a builtin"
   ]
  },
  {
   "cell_type": "markdown",
   "id": "45bc5008",
   "metadata": {},
   "source": [
    "Color printing by setting terminal [properties](https://linuxcommand.org/lc3_adv_tput.php)"
   ]
  },
  {
   "cell_type": "code",
   "execution_count": 57,
   "id": "8100bcf0",
   "metadata": {},
   "outputs": [
    {
     "name": "stdout",
     "output_type": "stream",
     "text": [
      "\u001b[31m\u001b[42mIndex is 1\n",
      "\u001b[39m\u001b[32m\u001b[43mIndex is 2\n",
      "\u001b[39m\u001b[33m\u001b[44mIndex is 3\n",
      "\u001b[39m\u001b[34m\u001b[45mIndex is 4\n",
      "\u001b[39m"
     ]
    }
   ],
   "source": [
    "%%bash\n",
    "declare -i index; index=1\n",
    "\n",
    "normal=$(tput setaf 9)\n",
    "\n",
    "while [ $index -le 4 ]\n",
    "do\n",
    "    tput setaf $index          # Foreground\n",
    "    tput setab $((index+1))          # Background\n",
    "    echo Index is $index\n",
    "    tput setaf 9   # Restore\n",
    "    ((index++))\n",
    "done"
   ]
  },
  {
   "cell_type": "markdown",
   "id": "ea5d7fac",
   "metadata": {},
   "source": [
    "#### Functions\n",
    "\n",
    "Functions are declared by `function` keyword and called with their name followed by arguments. Note that by default variables inside the function body are global"
   ]
  },
  {
   "cell_type": "code",
   "execution_count": 58,
   "id": "56e5cec6",
   "metadata": {},
   "outputs": [
    {
     "name": "stdout",
     "output_type": "stream",
     "text": [
      "Nothing\n",
      "greet was called\n",
      "some value What\n"
     ]
    }
   ],
   "source": [
    "%%bash\n",
    "myresult=\"Nothing\"\n",
    "\n",
    "function greet\n",
    "{\n",
    "    echo \"greet was called\"\n",
    "    myresult='some value'  # Global\n",
    "    insideresult=\"What\"    # Global\n",
    "}\n",
    "\n",
    "echo $myresult\n",
    "greet  # Call\n",
    "echo $myresult $insideresult"
   ]
  },
  {
   "cell_type": "markdown",
   "id": "16f8239d",
   "metadata": {},
   "source": [
    "Arguments of the function can be parsed with special accessors"
   ]
  },
  {
   "cell_type": "code",
   "execution_count": 59,
   "id": "9053ab42",
   "metadata": {},
   "outputs": [
    {
     "name": "stdout",
     "output_type": "stream",
     "text": [
      "foo called with 1 arguments\n",
      "The first one is bash\n",
      "command-line argument no. 1 is <This>\n",
      "\n",
      "foo called with 2 arguments\n",
      "The first one is bash\n",
      "command-line argument no. 1 is <This>\n",
      "command-line argument no. 2 is <That>\n"
     ]
    }
   ],
   "source": [
    "%%bash\n",
    "function foo\n",
    "{\n",
    "    echo \"foo called with $# arguments\"  # $# is the arg count\n",
    "    echo \"The first one is $0\" # NOTE the zero argument is not the first one from the user!\n",
    "                               # $1 $2 etc  \n",
    "    # Show all of them\n",
    "    declare -i n; n=1\n",
    "    for arg in $@; do\n",
    "      echo \"command-line argument no. $n is <$arg>\"\n",
    "      ((n++))\n",
    "    done\n",
    "}\n",
    "\n",
    "foo This\n",
    "echo\n",
    "foo This That"
   ]
  },
  {
   "cell_type": "markdown",
   "id": "6e6db656",
   "metadata": {},
   "source": [
    "Or we can process them in an array-style"
   ]
  },
  {
   "cell_type": "code",
   "execution_count": 60,
   "id": "51593713",
   "metadata": {},
   "outputs": [
    {
     "name": "stdout",
     "output_type": "stream",
     "text": [
      "Jim is years old\n",
      "Ana is 30 years old\n",
      "Exit status 0\n",
      "\n"
     ]
    }
   ],
   "source": [
    "%%bash\n",
    "function bar\n",
    "{\n",
    "    while [ $# -gt 0 ]\n",
    "    do\n",
    "        option=$1; # load arg into option\n",
    "        shift;     # move $1 pointer\n",
    "        case \"$option\" in\n",
    "            -n)\n",
    "                name=$1\n",
    "                shift\n",
    "                ;;  \n",
    "            -a)\n",
    "                age=$1; shift; ;;  \n",
    "            *)\n",
    "                echo \"$0: invalid option \\\"$option\\\"\"; exit 1;;\n",
    "        esac\n",
    "    done\n",
    "    echo $name is $age years old\n",
    "}\n",
    "\n",
    "bar -n \"Jim\"\n",
    "#echo\n",
    "bar -a 30 -n Ana\n",
    "echo \"Exit status \"$?\n",
    "echo\n",
    "# bar -a 30 -b Ana"
   ]
  },
  {
   "cell_type": "markdown",
   "id": "dfb66785",
   "metadata": {
    "slideshow": {
     "slide_type": ""
    },
    "tags": []
   },
   "source": [
    "### Combining bash commands"
   ]
  },
  {
   "cell_type": "markdown",
   "id": "02252396",
   "metadata": {},
   "source": [
    "Unix processes uses the following three standard streams as preconnected input and output communication channels:\n",
    "\n",
    "<center>\n",
    "<!--<img src=\"figs/bash_process_codes.jpg\" style=\"width: 500px;\"/>-->\n",
    "<img src=\"https://upload.wikimedia.org/wikipedia/commons/thumb/7/70/Stdstreams-notitle.svg/646px-Stdstreams-notitle.svg.png\" style=\"width: 500px;\"/>\n",
    "</center>\n",
    "\n",
    "- user input is passed to the standard input `STDIN` stream\n",
    "- normal information is passed to the standard output `STDOUT` stream\n",
    "- error information is passed to the standard error `STDERR` stream.\n",
    "\n",
    "The streams can be redireced"
   ]
  },
  {
   "cell_type": "markdown",
   "id": "0a78b4c2",
   "metadata": {},
   "source": [
    "__`STDOUT` to file__\n",
    "\n",
    "Bash redirects `>` pass `STDOUT` to a file:\n",
    "\n",
    "```bash\n",
    "./myscript.sh > myfile.txt   \n",
    "```\n",
    "same as above, but appends output to an existing file\n",
    "```bash\n",
    "./myscript.sh >> myfile.txt   \n",
    "```"
   ]
  },
  {
   "cell_type": "code",
   "execution_count": 62,
   "id": "3318511f",
   "metadata": {},
   "outputs": [
    {
     "name": "stdout",
     "output_type": "stream",
     "text": [
      "hello world!\n",
      "\n",
      "hello world!\n",
      "hello world!\n",
      "hello world!\n",
      "hello world!\n",
      "hello world!\n",
      "hello world!\n"
     ]
    }
   ],
   "source": [
    "%%bash\n",
    "chmod u+x ./scripts/hello_world_bang.sh\n",
    "./scripts/hello_world_bang.sh > ./data/foo.txt\n",
    "cat ./data/foo.txt\n",
    "\n",
    "echo\n",
    "\n",
    "for i in {1..5}\n",
    "do\n",
    "    ./scripts/hello_world_bang.sh >> ./data/foo.txt\n",
    "done\n",
    "cat ./data/foo.txt"
   ]
  },
  {
   "cell_type": "markdown",
   "id": "6efb0fdb",
   "metadata": {},
   "source": [
    "__File to `STDIN`__\n",
    "Use the `<` redirect to send a file to `STDIN`:"
   ]
  },
  {
   "cell_type": "code",
   "execution_count": 63,
   "id": "646ec372",
   "metadata": {},
   "outputs": [
    {
     "name": "stdout",
     "output_type": "stream",
     "text": [
      "35\n",
      "\n",
      "\n",
      "35\n",
      "13\n",
      "239\n"
     ]
    }
   ],
   "source": [
    "%%bash\n",
    "wc -w < ./data/text.txt # Count the number of words and print to STDOUT \n",
    "echo\n",
    "\n",
    "wc -w < ./data/text.txt > ./data/word_stat.txt # Same as above, but save STDOUT output to file\n",
    "wc -l < ./data/text.txt > ./data/line_stat.txt \n",
    "wc -m < ./data/text.txt > ./data/char_stat.txt # Characters\n",
    "echo\n",
    "\n",
    "cat ./data/word_stat.txt ./data/line_stat.txt ./data/char_stat.txt"
   ]
  },
  {
   "cell_type": "markdown",
   "id": "57790f55",
   "metadata": {},
   "source": [
    "<font color='red'>⚠️ </font> `wc` prints the word(`-w`), line(`-l`) or character(`-m`) counts for a file "
   ]
  },
  {
   "cell_type": "markdown",
   "id": "db663301",
   "metadata": {},
   "source": [
    "You can specify which stream to redirect. `[STREAM]>`. Valid values for `STREAM` is `1` for stdout, `2` for stderr and `&` for both.\n",
    "\n",
    "```bash\n",
    "./compile_model.sh                 # stdout and stderr are displayed on the terminal\n",
    "./compile_model.sh 1> out.txt      # Redirect stdout to file, same as >\n",
    "./compile_model.sh 2> err.txt      # Redirect stderr to file\n",
    "./compile_model.sh &> outerr.txt   # Redirect stdout and stderr to file\n",
    "```"
   ]
  },
  {
   "cell_type": "markdown",
   "id": "5a17d749",
   "metadata": {},
   "source": [
    "__Combining bash commands: Pipes__\n",
    "\n",
    "<center>\n",
    "<img src=\"https://upload.wikimedia.org/wikipedia/commons/thumb/f/f6/Pipeline.svg/560px-Pipeline.svg.png\n",
    "\" style=\"width: 500px;\"/>\n",
    "</center>\n",
    "\n",
    "The bash pipe `|` connects `STDOUT` of one command to `STDIN` of another. Let's look at some pipeline examples\n",
    "\n",
    "1. _Print the file content (here single column data) in a sorted way_"
   ]
  },
  {
   "cell_type": "code",
   "execution_count": 65,
   "id": "9ebdbcd2",
   "metadata": {},
   "outputs": [
    {
     "name": "stdout",
     "output_type": "stream",
     "text": [
      "journal\r\n",
      "lineage\r\n",
      "excavate\r\n",
      "charismatic\r\n",
      "rank\r\n"
     ]
    }
   ],
   "source": [
    "! head -5 ./data/names.txt"
   ]
  },
  {
   "cell_type": "code",
   "execution_count": 66,
   "id": "a0ad3b9f",
   "metadata": {},
   "outputs": [
    {
     "name": "stdout",
     "output_type": "stream",
     "text": [
      "40\n",
      "aaapath\n",
      "autonomy\n",
      "autonomy\n",
      "biscuit\n",
      "charismatic\n",
      "cruel\n",
      "daughter\n",
      "decrease\n",
      "decrease\n",
      "demonstrator\n",
      "demonstrator\n",
      "drawer\n",
      "excavate\n",
      "facade\n",
      "joke\n",
      "joke\n",
      "journal\n",
      "laaaandscape\n",
      "letter\n",
      "liability\n",
      "liability\n",
      "lineage\n",
      "lung\n",
      "magnitude\n",
      "mall\n",
      "man\n",
      "maniac\n",
      "manipulation\n",
      "maximum\n",
      "maximum\n",
      "missile\n",
      "noble\n",
      "paaalace\n",
      "paaaot\n",
      "rank\n",
      "reign\n",
      "relieve\n",
      "straaaeam\n",
      "suggest\n",
      "suggest\n"
     ]
    }
   ],
   "source": [
    "%%bash\n",
    "# Look first how many\n",
    "wc -l < ./data/names.txt\n",
    "cat ./data/names.txt | sort"
   ]
  },
  {
   "cell_type": "markdown",
   "id": "1c271a40",
   "metadata": {},
   "source": [
    "Note that we get a possibly a very long list. To only look at a selection we could extend the pipilene with calls to \n",
    "<font color='red'>⚠️ </font> `head`, <font color='red'>⚠️ </font> `tail` and <font color='red'>⚠️ </font> `more` which \"zoom\" on beginning, end or yield chunks of the text. "
   ]
  },
  {
   "cell_type": "code",
   "execution_count": 67,
   "id": "f8920fc1",
   "metadata": {},
   "outputs": [
    {
     "name": "stdout",
     "output_type": "stream",
     "text": [
      "aaapath\r\n",
      "autonomy\r\n",
      "autonomy\r\n"
     ]
    }
   ],
   "source": [
    "!cat ./data/names.txt | sort | head -3"
   ]
  },
  {
   "cell_type": "code",
   "execution_count": 68,
   "id": "10d6b1cc",
   "metadata": {},
   "outputs": [
    {
     "name": "stdout",
     "output_type": "stream",
     "text": [
      "straaaeam\r\n",
      "suggest\r\n",
      "suggest\r\n"
     ]
    }
   ],
   "source": [
    "!cat ./data/names.txt | sort | tail -3"
   ]
  },
  {
   "cell_type": "code",
   "execution_count": 42,
   "id": "695f47ca",
   "metadata": {},
   "outputs": [],
   "source": [
    "# NOTE: not notebook friendly as it expects some user interaction - run in terminal\n",
    "# cat ./data/names.txt | sort | more -2"
   ]
  },
  {
   "cell_type": "markdown",
   "id": "aae404d6",
   "metadata": {},
   "source": [
    "2. _Introduce T junction_\n",
    "\n",
    "Buiding on the previous example we might want to only get the count of unique words. This can be accomplised by adding  <font color='red'>⚠️ </font> `uniq` to the pipiline"
   ]
  },
  {
   "cell_type": "code",
   "execution_count": 69,
   "id": "119992c3",
   "metadata": {},
   "outputs": [
    {
     "name": "stdout",
     "output_type": "stream",
     "text": [
      "33\r\n"
     ]
    }
   ],
   "source": [
    "! cat ./data/names.txt | sort | uniq | wc -l"
   ]
  },
  {
   "cell_type": "markdown",
   "id": "29fc5e44",
   "metadata": {},
   "source": [
    "However, wouldn't it be useful to have the list of unique words too? This is where <font color='red'>⚠️ </font> `tee` comes in, introducing a T junction in the pipeline redirecting the partial output to a file"
   ]
  },
  {
   "cell_type": "code",
   "execution_count": 71,
   "id": "6ac81ada",
   "metadata": {},
   "outputs": [
    {
     "name": "stdout",
     "output_type": "stream",
     "text": [
      "33\n",
      "\n",
      "aaapath\n",
      "autonomy\n",
      "biscuit\n",
      "charismatic\n",
      "cruel\n",
      "daughter\n"
     ]
    }
   ],
   "source": [
    "%%bash\n",
    "cat ./data/names.txt | sort | uniq | tee ./data/unique_name.txt | wc -l\n",
    "echo\n",
    "head -6 ./data/unique_name.txt"
   ]
  },
  {
   "cell_type": "markdown",
   "id": "4f0b2667",
   "metadata": {},
   "source": [
    "3. _Combine with variables_\n",
    "\n",
    "As an example we wish to build news app. We begin by retrieving the data using <font color='red'>⚠️ </font> `curl` running in `-s` silent mode. Let's see what we work with"
   ]
  },
  {
   "cell_type": "code",
   "execution_count": 76,
   "id": "d250944a",
   "metadata": {},
   "outputs": [
    {
     "name": "stdout",
     "output_type": "stream",
     "text": [
      "          <h3 class=\"kur-newsfeed__message-title\">Samlet rester fra Meierigården – søker etter levninger</h3>\n",
      "          <h3 class=\"kur-newsfeed__message-title\">Medier: Tre svensker pågrepet for drap i Bosnia</h3>\n",
      "          <h3 class=\"kur-newsfeed__message-title\">Veskeforbud på større svenske arrangementer</h3>\n",
      "          <h3 class=\"kur-newsfeed__message-title\">Nye angrep mot opprørere nord i Myanmar</h3>\n",
      "          <h3 class=\"kur-newsfeed__message-title\">EUs utenrikssjef uttrykker sjokk etter israelsk angrep mot flyktningleir</h3>\n",
      "          <h3 class=\"kur-newsfeed__message-title\">Mann i 30-årene bedro flere titalls personer med løfter om fotballbilletter</h3>\n",
      "          <h3 class=\"kur-newsfeed__message-title\">Nytt angrep mot flyktningleir i Gaza</h3>\n",
      "          <h3 class=\"kur-newsfeed__message-title\">TV 2 har anmeldt demonstranter som stormet «Skal vi danse»-scenen</h3>\n",
      "          <h3 class=\"kur-newsfeed__message-title\">Irans utenriksminister: – Konsekvensene blir alvorlige</h3>\n",
      "          <h3 class=\"kur-newsfeed__message-title\">Dømt til over fem års fengsel for grov vold i Vika</h3>\n"
     ]
    }
   ],
   "source": [
    "%%bash\n",
    "#  \n",
    "# Fall back if net is down\n",
    "cat ./data/nrk_data.txt | grep newsfeed__message-title"
   ]
  },
  {
   "cell_type": "markdown",
   "id": "a9694307",
   "metadata": {},
   "source": [
    "Our next step is to extract information from this text. Specifically, we are after the first headline. One possibility is to split (as in Python string) based on some delimiter and working with \"fields\" / elemnts of the resulting array. This is the functionality of <font color='red'>⚠️ </font>`cut -d DELIMITER -fINDEX` "
   ]
  },
  {
   "cell_type": "code",
   "execution_count": 77,
   "id": "66dea0a4",
   "metadata": {},
   "outputs": [
    {
     "name": "stdout",
     "output_type": "stream",
     "text": [
      "Samlet rester fra Meierigården – søker etter levninger</h3\r\n"
     ]
    }
   ],
   "source": [
    "! cat ./data/nrk_data.txt | grep newsfeed__message-title | head -1 | cut -d '>' -f2 "
   ]
  },
  {
   "cell_type": "markdown",
   "id": "c2c970b4",
   "metadata": {},
   "source": [
    "Following the same logic we can get"
   ]
  },
  {
   "cell_type": "code",
   "execution_count": 78,
   "id": "39e84826",
   "metadata": {},
   "outputs": [
    {
     "name": "stdout",
     "output_type": "stream",
     "text": [
      "Samlet rester fra Meierigården – søker etter levninger\n"
     ]
    }
   ],
   "source": [
    "%%bash\n",
    "title=`cat ./data/nrk_data.txt | grep newsfeed__message-title | head -1 | cut -d '>' -f2 | cut -d '<' -f1`\n",
    "echo $title"
   ]
  },
  {
   "cell_type": "markdown",
   "id": "0a1b8553",
   "metadata": {},
   "source": [
    "At this point we know the basics and are in position to \"glue\" different programs together. We have seen a few already, e.g. `cut`, `sort`. In the following we cover a few more which could are useful in the scientific workflow."
   ]
  },
  {
   "cell_type": "markdown",
   "id": "2de89cd1",
   "metadata": {},
   "source": [
    "## Text manipulation utilities - `grep`, `awk` and `sed`\n",
    "\n",
    "### `grep` global regular expression print\n",
    "\n",
    "Grep _searches_ input file, looks at them line by line, prints if there is a match until there are no more lines. Recall our list or words "
   ]
  },
  {
   "cell_type": "code",
   "execution_count": 79,
   "id": "77de56a9",
   "metadata": {},
   "outputs": [
    {
     "name": "stdout",
     "output_type": "stream",
     "text": [
      "journal\r\n",
      "lineage\r\n",
      "excavate\r\n",
      "charismatic\r\n",
      "rank\r\n",
      "missile\r\n",
      "biscuit\r\n",
      "reign\r\n",
      "letter\r\n",
      "paaalace\r\n"
     ]
    }
   ],
   "source": [
    "! head -10 ./data/names.txt"
   ]
  },
  {
   "cell_type": "markdown",
   "id": "7dd6b958",
   "metadata": {},
   "source": [
    "By using grep we can answer questions like:\n",
    "\n",
    "1. _Are there lines containing \"ma\"?__"
   ]
  },
  {
   "cell_type": "code",
   "execution_count": 80,
   "id": "d8cf85d2",
   "metadata": {},
   "outputs": [
    {
     "name": "stdout",
     "output_type": "stream",
     "text": [
      "charismatic\r\n",
      "magnitude\r\n",
      "man\r\n",
      "mall\r\n",
      "maniac\r\n",
      "maximum\r\n",
      "manipulation\r\n",
      "maximum\r\n"
     ]
    }
   ],
   "source": [
    "! grep \"ma\" ./data/names.txt"
   ]
  },
  {
   "cell_type": "markdown",
   "id": "6e8bdf96",
   "metadata": {},
   "source": [
    "2. _What are the lines and line numbers containing \"ma\"?_ (`-n`)"
   ]
  },
  {
   "cell_type": "code",
   "execution_count": 6,
   "id": "d151c253",
   "metadata": {},
   "outputs": [
    {
     "name": "stdout",
     "output_type": "stream",
     "text": [
      "4:charismatic\r\n",
      "16:magnitude\r\n",
      "21:man\r\n",
      "23:mall\r\n",
      "25:maniac\r\n",
      "26:maximum\r\n",
      "27:manipulation\r\n",
      "34:maximum\r\n"
     ]
    }
   ],
   "source": [
    "! grep -n \"ma\" ./data/names.txt"
   ]
  },
  {
   "cell_type": "markdown",
   "id": "754d9754",
   "metadata": {},
   "source": [
    "Or which do not (`-v` flag for lines that do not match)"
   ]
  },
  {
   "cell_type": "code",
   "execution_count": 7,
   "id": "9d7606a2",
   "metadata": {
    "slideshow": {
     "slide_type": ""
    },
    "tags": []
   },
   "outputs": [
    {
     "name": "stdout",
     "output_type": "stream",
     "text": [
      "journal\r\n",
      "lineage\r\n",
      "excavate\r\n",
      "rank\r\n",
      "missile\r\n",
      "biscuit\r\n",
      "reign\r\n",
      "letter\r\n",
      "paaalace\r\n",
      "paaaot\r\n",
      "straaaeam\r\n",
      "aaapath\r\n",
      "laaaandscape\r\n",
      "drawer\r\n",
      "lung\r\n",
      "noble\r\n",
      "relieve\r\n",
      "facade\r\n",
      "daughter\r\n",
      "cruel\r\n",
      "suggest\r\n",
      "decrease\r\n",
      "demonstrator\r\n",
      "joke\r\n",
      "autonomy\r\n",
      "liability\r\n",
      "suggest\r\n",
      "decrease\r\n",
      "demonstrator\r\n",
      "joke\r\n",
      "autonomy\r\n",
      "liability\r\n"
     ]
    }
   ],
   "source": [
    "! grep -v \"ma\" ./data/names.txt"
   ]
  },
  {
   "cell_type": "markdown",
   "id": "d8ed53b5",
   "metadata": {
    "slideshow": {
     "slide_type": ""
    },
    "tags": []
   },
   "source": [
    "3. _How many lines match ?_ (`-c`)"
   ]
  },
  {
   "cell_type": "code",
   "execution_count": 8,
   "id": "07501fb1",
   "metadata": {
    "slideshow": {
     "slide_type": ""
    },
    "tags": []
   },
   "outputs": [
    {
     "name": "stdout",
     "output_type": "stream",
     "text": [
      "8\r\n"
     ]
    }
   ],
   "source": [
    "! grep -c \"ma\" ./data/names.txt"
   ]
  },
  {
   "cell_type": "markdown",
   "id": "8669ad9a",
   "metadata": {},
   "source": [
    "Of course we now know that the same could have been accomplised e.g. with pipes"
   ]
  },
  {
   "cell_type": "code",
   "execution_count": 81,
   "id": "661fd31c",
   "metadata": {},
   "outputs": [
    {
     "name": "stdout",
     "output_type": "stream",
     "text": [
      "8\r\n"
     ]
    }
   ],
   "source": [
    "! grep \"ma\" ./data/names.txt | wc -l"
   ]
  },
  {
   "cell_type": "markdown",
   "id": "40c438df",
   "metadata": {},
   "source": [
    "There is support for regular expression in the search word. By default it is limited. "
   ]
  },
  {
   "cell_type": "code",
   "execution_count": 10,
   "id": "6cd9231e",
   "metadata": {},
   "outputs": [
    {
     "name": "stdout",
     "output_type": "stream",
     "text": [
      "../13_scikit_learn/scikit-learn-1.ipynb\r\n",
      "../13_scikit_learn/scikit-learn-1-presentation.ipynb\r\n",
      "../13_scikit_learn/scikit-learn-2.ipynb\r\n",
      "../14-julia-ml/julia_examples.ipynb\r\n",
      "../14-julia-ml/python_examples.ipynb\r\n",
      "../14-julia-ml/stokes_pinns.ipynb\r\n",
      "../about/About the course.ipynb\r\n",
      "../about/Introduction to git.ipynb\r\n",
      "../about/Scripting vs regular programming.ipynb\r\n",
      "../best_practices/Best practices.ipynb\r\n",
      "../command-line/Bash - interactive lecture.ipynb\r\n",
      "../command-line/cmdline_bash.ipynb\r\n",
      "../mixed-programming/mixed_programming_cython.ipynb\r\n",
      "../mixed-programming/mixed_programming_introduction.ipynb\r\n",
      "../mixed-programming/Numba.ipynb\r\n",
      "../mixed-programming/Profiling and Optimizing with IPython.ipynb\r\n",
      "../numerical-python/exercises.ipynb\r\n",
      "../numerical-python/numerical_python.ipynb\r\n",
      "../numerical-python/python_profiling.ipynb\r\n",
      "../pandas/API-exercises.ipynb\r\n",
      "../pandas/Pandas_exercises.ipynb\r\n",
      "../pandas/Pandas.ipynb\r\n",
      "../pandas/PublicAPIs.ipynb\r\n",
      "../production/environments.ipynb\r\n",
      "../production/sphinx-docs.ipynb\r\n",
      "../pull-request/Peer review assignment 5.ipynb\r\n",
      "../python/exercises.ipynb\r\n",
      "../python/ipython.ipynb\r\n",
      "../python/more_python.ipynb\r\n",
      "../python/packages_and_testing.ipynb\r\n",
      "../python/python_summary-classes.ipynb\r\n",
      "../python/python_summary.ipynb\r\n",
      "../python/python_summary-typing.ipynb\r\n",
      "../regular-expressions/regular-expressions.ipynb\r\n",
      "../tips_and_tricks/bash_rc_alias.ipynb\r\n",
      "../tips_and_tricks/Builtin Superheroes.ipynb\r\n",
      "../tips_and_tricks/git_branches.ipynb\r\n",
      "../tips_and_tricks/git_gui.ipynb\r\n",
      "../tips_and_tricks/gitignore.ipynb\r\n",
      "../tips_and_tricks/git_ssh_keys.ipynb\r\n",
      "../tips_and_tricks/ipython_embed.ipynb\r\n",
      "../tips_and_tricks/prettier_git.ipynb\r\n",
      "../tips_and_tricks/ssh_keys.ipynb\r\n",
      "../visualisation/altair.ipynb\r\n",
      "../visualisation/corona-data.ipynb\r\n",
      "../visualisation/gendata.ipynb\r\n",
      "../visualisation/maps.ipynb\r\n",
      "../visualisation/matplotlib.ipynb\r\n",
      "../visualisation/visualisation.ipynb\r\n",
      "../web/Introduction to HTML.ipynb\r\n",
      "../web-servers/Introduction to HTML - Forms.ipynb\r\n",
      "../web-servers/Introduction to webservers.ipynb\r\n",
      "../web-servers/monty-hall-game.ipynb\r\n",
      "../web-servers/monty-hall-rest.ipynb\r\n",
      "../web/web.ipynb\r\n",
      "../web/Web scraping.ipynb\r\n"
     ]
    }
   ],
   "source": [
    "# Use -l to print files containing lines with regexp nu* in them\n",
    "! grep -l \"nu*\" ../*/*.ipynb"
   ]
  },
  {
   "cell_type": "markdown",
   "id": "896945fd",
   "metadata": {},
   "source": [
    "With `egrep` we have the full power"
   ]
  },
  {
   "cell_type": "code",
   "execution_count": 82,
   "id": "dbb4b59a",
   "metadata": {},
   "outputs": [
    {
     "name": "stdout",
     "output_type": "stream",
     "text": [
      "../13_scikit_learn/scikit-learn-1.ipynb\r\n",
      "../13_scikit_learn/scikit-learn-1-presentation.ipynb\r\n",
      "../13_scikit_learn/scikit-learn-2.ipynb\r\n",
      "../14-julia-ml/julia_examples.ipynb\r\n",
      "../14-julia-ml/python_examples.ipynb\r\n",
      "../14-julia-ml/stokes_pinns.ipynb\r\n",
      "../about/About the course.ipynb\r\n",
      "../about/Introduction to git.ipynb\r\n",
      "../about/Scripting vs regular programming.ipynb\r\n",
      "../best_practices/Best practices.ipynb\r\n",
      "../command-line/Bash - interactive lecture.ipynb\r\n",
      "../command-line/cmdline_bash.ipynb\r\n",
      "../mixed-programming/mixed_programming_cython.ipynb\r\n",
      "../mixed-programming/mixed_programming_introduction.ipynb\r\n",
      "../mixed-programming/Numba.ipynb\r\n",
      "../mixed-programming/Profiling and Optimizing with IPython.ipynb\r\n",
      "../numerical-python/exercises.ipynb\r\n",
      "../numerical-python/numerical_python.ipynb\r\n",
      "../numerical-python/python_profiling.ipynb\r\n",
      "../pandas/API-exercises.ipynb\r\n",
      "../pandas/Pandas_exercises.ipynb\r\n",
      "../pandas/Pandas.ipynb\r\n",
      "../pandas/PublicAPIs.ipynb\r\n",
      "../production/environments.ipynb\r\n",
      "../production/sphinx-docs.ipynb\r\n",
      "../pull-request/Peer review assignment 5.ipynb\r\n",
      "../python/exercises.ipynb\r\n",
      "../python/ipython.ipynb\r\n",
      "../python/more_python.ipynb\r\n",
      "../python/packages_and_testing.ipynb\r\n",
      "../python/python_summary-classes.ipynb\r\n",
      "../python/python_summary.ipynb\r\n",
      "../python/python_summary-typing.ipynb\r\n",
      "../regular-expressions/regular-expressions.ipynb\r\n",
      "../tips_and_tricks/bash_rc_alias.ipynb\r\n",
      "../tips_and_tricks/Builtin Superheroes.ipynb\r\n",
      "../tips_and_tricks/git_gui.ipynb\r\n",
      "../tips_and_tricks/ipython_embed.ipynb\r\n",
      "../tips_and_tricks/prettier_git.ipynb\r\n",
      "../visualisation/altair.ipynb\r\n",
      "../visualisation/corona-data.ipynb\r\n",
      "../visualisation/gendata.ipynb\r\n",
      "../visualisation/maps.ipynb\r\n",
      "../visualisation/matplotlib.ipynb\r\n",
      "../visualisation/visualisation.ipynb\r\n",
      "../web/Introduction to HTML.ipynb\r\n",
      "../web-servers/Introduction to HTML - Forms.ipynb\r\n",
      "../web-servers/Introduction to webservers.ipynb\r\n",
      "../web-servers/monty-hall-game.ipynb\r\n",
      "../web-servers/monty-hall-rest.ipynb\r\n",
      "../web/web.ipynb\r\n",
      "../web/Web scraping.ipynb\r\n"
     ]
    }
   ],
   "source": [
    "! egrep -l \"np|numpy|python|import\" ../*/*.ipynb"
   ]
  },
  {
   "cell_type": "markdown",
   "id": "5a9ad5b7",
   "metadata": {},
   "source": [
    "__`awk`__  is a text pattern scanning and processing language. It operates on lines of the input file which it sees as being made of fields marked by a separator. This allows to extract information and do further processing.\n",
    "\n",
    "Let's use `awk` to extract the file permission column "
   ]
  },
  {
   "cell_type": "code",
   "execution_count": 84,
   "id": "823eae55",
   "metadata": {},
   "outputs": [
    {
     "name": "stdout",
     "output_type": "stream",
     "text": [
      "total 912K\n",
      "drwxrwxr-x 4 mirok mirok 4,0K nov.   1 13:16 scripts.bk\n",
      "drwxrwxr-x 3 mirok mirok 4,0K nov.   1 12:28 scripts\n",
      "-rwxrwxr-x 1 mirok mirok  127 sep.   5 16:42 run_and_test.sh\n",
      "drwxrwxr-x 2 mirok mirok 4,0K nov.   1 10:12 results\n",
      "-rw-rw-r-- 1 mirok mirok  33K nov.   1 11:02 ottar_scicomm.pdf\n",
      "-rw-rw-r-- 1 mirok mirok   30 sep.   5 16:42 hw.sh\n",
      "drwxrwxr-x 2 mirok mirok 4,0K sep.   5 16:42 hello-world\n",
      "drwxrwxr-x 2 mirok mirok 4,0K sep.   5 16:42 figs\n",
      "drwxrwxr-x 2 mirok mirok 4,0K nov.   1 10:49 data\n",
      "-rw-rw-r-- 1 mirok mirok 189K nov.   1 13:48 cmdline_bash.ipynb\n",
      "-rw-rw-r-- 1 mirok mirok  80K nov.   1 11:02 allPDFs.tar.gz\n",
      "-rw-rw-r-- 1 mirok mirok  90K nov.   1 11:02 allPDFs.tar\n",
      "-rw-rw-r-- 1 mirok mirok  51K nov.   1 11:02 Valgkort_2023.pdf\n",
      "-rw-rw-r-- 1 mirok mirok  180 sep.   5 16:42 Makefile\n",
      "-rw-rw-r-- 1 mirok mirok 401K sep.   5 16:42 Bash - interactive lecture.slides.html\n",
      "-rw-rw-r-- 1 mirok mirok  18K sep.   5 16:42 Bash - interactive lecture.ipynb\n",
      "\n",
      "total\n",
      "drwxrwxr-x\n",
      "drwxrwxr-x\n",
      "-rwxrwxr-x\n",
      "drwxrwxr-x\n"
     ]
    }
   ],
   "source": [
    "%%bash\n",
    "# Unpack this\n",
    "ls -lrvrh\n",
    "echo\n",
    "ls -lrvrh | awk '{print $1}' | head -5"
   ]
  },
  {
   "cell_type": "markdown",
   "id": "bf00c7b1",
   "metadata": {},
   "source": [
    "Combined with grep we can get the total number of executables"
   ]
  },
  {
   "cell_type": "code",
   "execution_count": 85,
   "id": "c56a1d89",
   "metadata": {},
   "outputs": [
    {
     "name": "stdout",
     "output_type": "stream",
     "text": [
      "drwxrwxr-x\n",
      "drwxrwxr-x\n",
      "drwxrwxr-x\n",
      "drwxrwxr-x\n",
      "-rwxrwxr-x\n",
      "drwxrwxr-x\n",
      "drwxrwxr-x\n",
      "\n",
      "7\n"
     ]
    }
   ],
   "source": [
    "%%bash\n",
    "ls -l | awk '{print $1}' | egrep \"x.\" \n",
    "echo\n",
    "ls -l | awk '{print $1}' | egrep -c \"x.\" "
   ]
  },
  {
   "cell_type": "markdown",
   "id": "e47ee5ca",
   "metadata": {},
   "source": [
    "and cout their size in bytes"
   ]
  },
  {
   "cell_type": "code",
   "execution_count": 86,
   "id": "06cbb74c",
   "metadata": {},
   "outputs": [
    {
     "name": "stdout",
     "output_type": "stream",
     "text": [
      "24703\r\n"
     ]
    }
   ],
   "source": [
    "# Unpack\n",
    "!ls -l | awk '{print $1, $5}' | egrep \"x.\" | awk 'BEGIN {sum=0} {sum=sum+$2} END {print sum}'"
   ]
  },
  {
   "cell_type": "markdown",
   "id": "4db573b7",
   "metadata": {},
   "source": [
    "Of course the delimiter can be specified. For example with a CSV file from the Pandas lecture we would work with a comma separator"
   ]
  },
  {
   "cell_type": "code",
   "execution_count": 20,
   "id": "6aeede6f",
   "metadata": {},
   "outputs": [
    {
     "name": "stdout",
     "output_type": "stream",
     "text": [
      "\"ID\",\"pricesold\",\"yearsold\",\"zipcode\",\"Mileage\",\"Make\",\"Model\",\"Year\",\"Trim\",\"Engine\",\"BodyType\",\"NumCylinders\",\"DriveType\"\n",
      "\"121144\",\"3500\",\"2020\",\"430**\",\"101249\",\"Chrysler\",\"300 Series\",\"2006\",\"TOURING\",\"3.5L MPI 24-VALVE HO V6\",\"Sedan\",\"6\",\"RWD\"\n",
      "\"155642\",\"29000\",\"2020\",\"386**\",\"25165\",\"Chevrolet\",\"Corvette\",\"2007\",\"\",\"\",\"Coupe\",\"0\",\"\"\n",
      "\"59517\",\"4000\",\"2019\",\"33707\",\"210500\",\"Chevrolet\",\"Silverado 2500\",\"2002\",\"LT\",\"6.6L Turbo Diesel Duramax\",\"Crew Cab Pickup\",\"8\",\"4WD\"\n",
      "\"56873\",\"10010\",\"2019\",\"01501\",\"21632\",\"Chevrolet\",\"Camaro\",\"1987\",\"\",\"350\",\"Coupe\",\"8\",\"RWD\"\n",
      "\n",
      "\"ID\"\n",
      "\"121144\"\n",
      "\"155642\"\n",
      "\"59517\"\n",
      "\"56873\"\n",
      "\"5550\"\n",
      "\"46260\"\n",
      "\"73673\"\n",
      "\"84557\"\n",
      "\"15603\"\n"
     ]
    }
   ],
   "source": [
    "%%bash\n",
    "head -5 ./data/used_car_sales.csv\n",
    "echo\n",
    "awk -F \",\" '{print $1}' ./data/used_car_sales.csv | head -10"
   ]
  },
  {
   "cell_type": "markdown",
   "id": "b86c10c5",
   "metadata": {},
   "source": [
    "__`sed`__ stream editor allows us to do text transformation on the input stream, e.g. filter, perform substitutions. Here we will run with `-e` to embed `sed`.\n",
    "\n",
    "The first usecase we consider is `sed -e 's/pattern/substitute/' file` where we run ins `s` substitution mode. `sed` with consume the stream and for each mathc on a line peform the substition."
   ]
  },
  {
   "cell_type": "code",
   "execution_count": 24,
   "id": "2c392732",
   "metadata": {},
   "outputs": [
    {
     "name": "stdout",
     "output_type": "stream",
     "text": [
      "journal       maa\r\n",
      "lineage\t      lineage\t      \r\n",
      "excavate      excavate      \r\n",
      "charismatic   charismatic   \r\n",
      "rank\t      maa\r\n",
      "missile\t      missile\t      \r\n",
      "biscuit\t      biscuit\t      \r\n",
      "reign\t      reign\t      \r\n"
     ]
    }
   ],
   "source": [
    "!head -8 ./data/names_columns.txt"
   ]
  },
  {
   "cell_type": "code",
   "execution_count": 87,
   "id": "282ffee0",
   "metadata": {},
   "outputs": [
    {
     "name": "stdout",
     "output_type": "stream",
     "text": [
      "journal       XXX\r\n",
      "lineage\t      lineage\t      \r\n",
      "excavate      excavate      \r\n",
      "charisXXXtic   charisXXXtic   \r\n",
      "rank\t      XXX\r\n",
      "XXXissile\t      XXXissile\t      \r\n",
      "biscuit\t      biscuit\t      \r\n",
      "reign\t      reign\t      \r\n"
     ]
    }
   ],
   "source": [
    "! sed -e 's/ma*/XXX/g' ./data/names_columns.txt | head -8"
   ]
  },
  {
   "cell_type": "markdown",
   "id": "b26ebdfb",
   "metadata": {},
   "source": [
    "Note that `/g` above stands for `greedy` execution.Note that `/g` above stands for `greedy` execution. Can you spot the difference?"
   ]
  },
  {
   "cell_type": "code",
   "execution_count": 28,
   "id": "bb717195",
   "metadata": {},
   "outputs": [
    {
     "name": "stdout",
     "output_type": "stream",
     "text": [
      "journal       XXX\r\n",
      "lineage\t      lineage\t      \r\n",
      "excavate      excavate      \r\n",
      "charisXXXtic   charismatic   \r\n",
      "rank\t      XXX\r\n",
      "XXXissile\t      missile\t      \r\n",
      "biscuit\t      biscuit\t      \r\n",
      "reign\t      reign\t      \r\n"
     ]
    }
   ],
   "source": [
    "! sed -e 's/ma*/XXX/' ./data/names_columns.txt | head -8"
   ]
  },
  {
   "cell_type": "markdown",
   "id": "e727ca65",
   "metadata": {},
   "source": [
    "We can redirect the output to a new file with \n",
    "```bash\n",
    "sed -e 's/ma*/XXX/g' ./data/names_columns.txt > ./data/names_modif.txt\n",
    "```\n",
    "or perform the substituion in place\n",
    "```bash\n",
    "sed -e -i 's/ma*/XXX/g' ./data/names_columns.txt\n",
    "```"
   ]
  },
  {
   "cell_type": "markdown",
   "id": "d484add4",
   "metadata": {},
   "source": [
    "The patterns can be full on regular expressions. Let's use `sed` to hide numbers from the phone book (where we pretend that all numbers have only 3 digits)"
   ]
  },
  {
   "cell_type": "code",
   "execution_count": 29,
   "id": "acd7ced8",
   "metadata": {},
   "outputs": [
    {
     "name": "stdout",
     "output_type": "stream",
     "text": [
      "# This \r\n",
      "# is a \r\n",
      "# comment\r\n",
      "123 joe\r\n",
      "333 miro\r\n"
     ]
    }
   ],
   "source": [
    "! head -5 ./data/contacts.txt"
   ]
  },
  {
   "cell_type": "code",
   "execution_count": 88,
   "id": "4bebfefc",
   "metadata": {},
   "outputs": [
    {
     "name": "stdout",
     "output_type": "stream",
     "text": [
      "# This \r\n",
      "# is a \r\n",
      "# comment\r\n",
      "xxxy joe\r\n",
      "xxxy miro\r\n",
      "ana\r\n",
      "xxxy peter\r\n",
      "lucy xxxy\r\n"
     ]
    }
   ],
   "source": [
    "! sed -e 's/[0-9][0-9][0-9]/xxxy/g' ./data/contacts.txt"
   ]
  },
  {
   "cell_type": "markdown",
   "id": "972430d8",
   "metadata": {},
   "source": [
    "Another usecase is to perform an action on a match. First action we will use is `p` for print. Let's print all the directories using `sed`"
   ]
  },
  {
   "cell_type": "code",
   "execution_count": 89,
   "id": "0fa8dbff",
   "metadata": {},
   "outputs": [
    {
     "name": "stdout",
     "output_type": "stream",
     "text": [
      "drwxrwxr-x 2 mirok mirok   4096 nov.   1 10:49 data\r\n",
      "drwxrwxr-x 2 mirok mirok   4096 sep.   5 16:42 figs\r\n",
      "drwxrwxr-x 2 mirok mirok   4096 sep.   5 16:42 hello-world\r\n",
      "drwxrwxr-x 2 mirok mirok   4096 nov.   1 10:12 results\r\n",
      "drwxrwxr-x 3 mirok mirok   4096 nov.   1 12:28 scripts\r\n",
      "drwxrwxr-x 4 mirok mirok   4096 nov.   1 13:16 scripts.bk\r\n"
     ]
    }
   ],
   "source": [
    "!ls -l | sed -n -e '/^d/ p' # vs no -n"
   ]
  },
  {
   "cell_type": "markdown",
   "id": "e90e7247",
   "metadata": {},
   "source": [
    "Another action is `d` for delete. Suppose you would like to remove all the comments (from say your python code)"
   ]
  },
  {
   "cell_type": "code",
   "execution_count": 90,
   "id": "bc2eb2e8",
   "metadata": {},
   "outputs": [
    {
     "name": "stdout",
     "output_type": "stream",
     "text": [
      "123 joe\r\n",
      "333 miro\r\n",
      "ana\r\n",
      "233 peter\r\n",
      "lucy 222\r\n"
     ]
    }
   ],
   "source": [
    "! sed -e '/^#/ d' ./data/contacts.txt\n",
    "# We could redirect with > or -i for inplace"
   ]
  },
  {
   "cell_type": "markdown",
   "id": "600ac424",
   "metadata": {},
   "source": [
    "`sed` also understand line numbers so we could for example delete some 10 lines of the long CSV file"
   ]
  },
  {
   "cell_type": "code",
   "execution_count": 43,
   "id": "5783413c",
   "metadata": {},
   "outputs": [
    {
     "name": "stdout",
     "output_type": "stream",
     "text": [
      "size before 13057047\n",
      "size after 13055021\n"
     ]
    }
   ],
   "source": [
    "%%bash \n",
    "echo size before `ls -lrvt ./data/used_car_sales.csv | awk '{print $5}'`\n",
    "sed -i -e '2,20 d' ./data/used_car_sales.csv\n",
    "echo size after `ls -lrvt ./data/used_car_sales.csv | awk '{print $5}'`"
   ]
  },
  {
   "cell_type": "markdown",
   "id": "91154cd2",
   "metadata": {},
   "source": [
    "For more information see the nice [summary](https://www.google.com/url?sa=t&rct=j&q=&esrc=s&source=web&cd=&cad=rja&uact=8&ved=2ahUKEwjSha6_mZH7AhUPSPEDHa58A48QFnoECA8QAQ&url=https%3A%2F%2Fwww-users.york.ac.uk%2F~mijp1%2Fteaching%2F2nd_year_Comp_Lab%2Fguides%2Fgrep_awk_sed.pdf&usg=AOvVaw0np7_TlTZOLKf4aQk99DfX) by Matt Probert. We forgot to emphasize that <font color='red'>⚠️ </font> `grep`, `awk` and `sed` are more additions to our family of seen programs/commands."
   ]
  },
  {
   "cell_type": "markdown",
   "id": "625cf588",
   "metadata": {},
   "source": [
    "## File manipulation utilities - `find`, `tar` and `gzip`\n",
    "\n",
    "Assume that we have run some analysis on remote machine. When the computations are done we would like to gather the data and compress them for easier transfer.\n",
    "\n",
    "<font color='red'>⚠️ </font> `find` visits all files in a directory tree and can execute one or more commands for every file\n",
    "```bash\n",
    "find source [specifiers]\n",
    "```"
   ]
  },
  {
   "cell_type": "markdown",
   "id": "914d531c",
   "metadata": {},
   "source": [
    "We can specify the `name` and `type` (regular (f)ile, (d)irectory)"
   ]
  },
  {
   "cell_type": "code",
   "execution_count": 91,
   "id": "9a1c7842",
   "metadata": {},
   "outputs": [
    {
     "name": "stdout",
     "output_type": "stream",
     "text": [
      "./scripts/hello_world_bang.sh\r\n",
      "./scripts/hello_world.sh\r\n"
     ]
    }
   ],
   "source": [
    "! find ./scripts/ -name \"hello*\" -type f "
   ]
  },
  {
   "cell_type": "markdown",
   "id": "181ecda1",
   "metadata": {},
   "source": [
    "In case the source tree is very deep it is good idea to limit the depth of the tree traveral"
   ]
  },
  {
   "cell_type": "code",
   "execution_count": 92,
   "id": "2652bfa3",
   "metadata": {},
   "outputs": [
    {
     "name": "stdout",
     "output_type": "stream",
     "text": [
      "/home/mirok/Downloads/ip_hdg_poisson.py\r\n",
      "/home/mirok/Downloads/emi_test_single.py\r\n",
      "/home/mirok/Downloads/rami_mesh_refine.py\r\n",
      "/home/mirok/Downloads/train_x2.py\r\n",
      "/home/mirok/Downloads/hdg_primal_poisson.py\r\n",
      "/home/mirok/Downloads/stokes-3d.py\r\n",
      "/home/mirok/Downloads/clement.py\r\n",
      "/home/mirok/Downloads/stokes-3d(1).py\r\n",
      "/home/mirok/Downloads/darcy_robin_dirichlet.py\r\n",
      "/home/mirok/Downloads/single_test.py\r\n"
     ]
    }
   ],
   "source": [
    "! find $HOME -maxdepth 2 -name \"*.py\" -type f "
   ]
  },
  {
   "cell_type": "markdown",
   "id": "9f0f56e1",
   "metadata": {},
   "source": [
    "The name specifier can combine several filters"
   ]
  },
  {
   "cell_type": "code",
   "execution_count": 58,
   "id": "a32af74c",
   "metadata": {},
   "outputs": [
    {
     "name": "stdout",
     "output_type": "stream",
     "text": [
      "/home/mirok/ottar_scicomm.pdf\r\n",
      "/home/mirok/Valgkort_2023.pdf\r\n",
      "/home/mirok/burgas_vienna.pdf\r\n",
      "/home/mirok/ottar_scicomm.log\r\n"
     ]
    }
   ],
   "source": [
    "# Or find all log and PDF files\n",
    "! find $HOME -maxdepth 1 \\( -name '*.log' -o -name '*.pdf' \\) -type f"
   ]
  },
  {
   "cell_type": "markdown",
   "id": "a28a73d3",
   "metadata": {},
   "source": [
    "We can also run a command for each file:\n",
    "```bash\n",
    "find rootdir -name filenamespec -exec command {} \\; -print\n",
    "# {} is the current filename\n",
    "```"
   ]
  },
  {
   "cell_type": "markdown",
   "id": "993e6b21",
   "metadata": {},
   "source": [
    "Let's use this to print a more detailed info about the file"
   ]
  },
  {
   "cell_type": "code",
   "execution_count": 93,
   "id": "bc55afa6",
   "metadata": {},
   "outputs": [
    {
     "name": "stdout",
     "output_type": "stream",
     "text": [
      "-rw-rw-r-- 1 mirok mirok 33646 aug.  23 12:44 /home/mirok/ottar_scicomm.pdf\r\n",
      "-rw-rw-r-- 1 mirok mirok 52093 aug.   2 10:31 /home/mirok/Valgkort_2023.pdf\r\n",
      "-rw-rw-r-- 1 mirok mirok 28948 juni  23 09:27 /home/mirok/burgas_vienna.pdf\r\n",
      "-rw-rw-r-- 1 mirok mirok 11409 aug.  23 12:44 /home/mirok/ottar_scicomm.log\r\n"
     ]
    }
   ],
   "source": [
    "!find $HOME -maxdepth 1 \\( -name '*.log' -o -name '*.pdf' \\) -type f  -exec ls -lrvt {} \\;"
   ]
  },
  {
   "cell_type": "markdown",
   "id": "b64959c8",
   "metadata": {},
   "source": [
    "We can perform several actions. Below we copy `cp` the file in addition to printing some more info.  "
   ]
  },
  {
   "cell_type": "code",
   "execution_count": 94,
   "id": "4c40a602",
   "metadata": {
    "slideshow": {
     "slide_type": ""
    },
    "tags": [
     "raises-exception"
    ]
   },
   "outputs": [
    {
     "name": "stdout",
     "output_type": "stream",
     "text": [
      "-rw-rw-r-- 1 mirok mirok 33646 aug.  23 12:44 /home/mirok/ottar_scicomm.pdf\n",
      "-rw-rw-r-- 1 mirok mirok 52093 aug.   2 10:31 /home/mirok/Valgkort_2023.pdf\n",
      "ottar_scicomm.pdf\n",
      "Valgkort_2023.pdf\n"
     ]
    }
   ],
   "source": [
    "%%bash\n",
    "find $HOME -maxdepth 1 \\( -name '*.log' -o -name '*.pdf' \\) -type f -size +30k  -exec ls -lrvt {} \\; -exec cp  \"{}\" . \\;\n",
    "ls *.pdf"
   ]
  },
  {
   "cell_type": "markdown",
   "id": "fdc89560",
   "metadata": {},
   "source": [
    "Note that we have narrowed the search by a `size` specifier. The unit above is k(ilobytes). "
   ]
  },
  {
   "cell_type": "markdown",
   "id": "912f2208",
   "metadata": {},
   "source": [
    "Now that we can find things. Let's compress them. \n",
    "\n",
    "The <font color='red'>⚠️ </font>`tar` command can pack single files or  all files in a directory tree into one file, which can be unpacked later.\n",
    "\n",
    "```bash\n",
    "tar -cvf myfiles.tar mytree file1 file2\n",
    "#           dest     sources\n",
    "# options:\n",
    "# c: pack, v: list name of files, f: pack into file\n",
    "\n",
    "# unpack the mytree tree and the files file1 and file2:\n",
    "tar -xvf myfiles.tar\n",
    "\n",
    "# options:\n",
    "# x: extract (unpack)\n",
    "```"
   ]
  },
  {
   "cell_type": "markdown",
   "id": "bded2079",
   "metadata": {},
   "source": [
    "The tarfile can be compressed with <font color='red'>⚠️ </font>`gzip` \n",
    "```bash\n",
    "gzip mytar.tar\n",
    "# result: mytar.tar.gz\n",
    "```"
   ]
  },
  {
   "cell_type": "markdown",
   "id": "41c21786",
   "metadata": {},
   "source": [
    "Let's deal with these PDFs that are lying around"
   ]
  },
  {
   "cell_type": "code",
   "execution_count": 65,
   "id": "f37ac9d7",
   "metadata": {
    "slideshow": {
     "slide_type": ""
    },
    "tags": [
     "raises-exception"
    ]
   },
   "outputs": [
    {
     "name": "stdout",
     "output_type": "stream",
     "text": [
      "./ottar_scicomm.pdf\n",
      "./Valgkort_2023.pdf\n",
      "\n",
      "-rw-rw-r-- 1 mirok mirok 80K nov.   1 11:02 allPDFs.tar.gz\n",
      "-rw-rw-r-- 1 mirok mirok 90K nov.   1 11:02 allPDFs.tar\n"
     ]
    }
   ],
   "source": [
    "%%bash \n",
    "[ -e allPDFs.tar ] && rm allPDFs.tar\n",
    "[ -e allPDFs.tar.gz ] && rm allPDFs.tar.gz \n",
    "\n",
    "tar -cvf allPDFs.tar `find . -name '*.pdf' -print`\n",
    "gzip -k allPDFs.tar\n",
    "echo\n",
    "ls -lrvth allPDFs.*"
   ]
  },
  {
   "cell_type": "markdown",
   "id": "059619b0",
   "metadata": {},
   "source": [
    "Here we have ran `gzip` with `-k` keep flag, otherwise the tar file would be removed."
   ]
  },
  {
   "cell_type": "markdown",
   "id": "a5dd1a76",
   "metadata": {},
   "source": [
    "We started this section assuming the scenario that we find ourselves on some remote machine. How do we get there?"
   ]
  },
  {
   "cell_type": "markdown",
   "id": "f613a2af",
   "metadata": {},
   "source": [
    "### Remote connection utilities\n",
    "\n",
    "Here are some commands that come in handy when working with remote machines. They are all <font color='red'>⚠️ </font>\n",
    "\n",
    "- `ping` is the machine connected?\n",
    "- `ssh` to connect over SSH, `-X` or `-Y`  switch for window forwarding, i.e. graphics\n",
    "```bash\n",
    "ssh username@hostname\n",
    "```\n",
    "- `scp` secured copy, `-r` for directories\n",
    "```bash\n",
    "ssh username@hostname:/path/to/source destination\n",
    "```\n",
    "- `hostname` how is the machine called?\n",
    "- `whoami` what is my user name\n",
    "- `who` who else is logged in\n",
    "- `ps` what are the running processes\n",
    "- `top` see how much resources are used"
   ]
  },
  {
   "cell_type": "markdown",
   "id": "424ff0d1",
   "metadata": {},
   "source": [
    "We demo most of the above commands outside in the terminal. We make one exception below to see some of the concepts discussed today in action"
   ]
  },
  {
   "cell_type": "code",
   "execution_count": 68,
   "id": "84ae1562",
   "metadata": {
    "slideshow": {
     "slide_type": ""
    },
    "tags": []
   },
   "outputs": [
    {
     "name": "stdout",
     "output_type": "stream",
     "text": [
      "Connection to evalApply can be established\n"
     ]
    }
   ],
   "source": [
    "%%bash\n",
    "# evalApply is name of my machine and I have SSH server runing on it \n",
    "machine=evalApply\n",
    "ping $machine -c 1 &> /dev/null\n",
    "\n",
    "if [ $? -gt 0 ]; then\n",
    "    echo Connection to $machine cannot be established\n",
    "else\n",
    "    echo Connection to $machine can be established\n",
    "fi"
   ]
  },
  {
   "cell_type": "markdown",
   "id": "3de1475b",
   "metadata": {},
   "source": [
    "<center>\n",
    "          <img src=\"figs/one-ping-only.gif\"\" style=\"width: 500px;\"/>\n",
    "</center>"
   ]
  },
  {
   "cell_type": "markdown",
   "id": "5aa03d22",
   "metadata": {
    "slideshow": {
     "slide_type": ""
    },
    "tags": []
   },
   "source": [
    "## Plotting utilities\n",
    "\n",
    "Now that we have data we may want to do some visual exploration. One option is to [GNUPlot](http://www.gnuplot.info/docs_4.2/). Note that the program does not ship with Ubuntu by default and needs to be installed. Gnuplot offers interactive plotting (somewhat like building up the plot in ipython). It can also exacure scripts. For example, below is a rather intuite way of producing a plot from data\n",
    "\n",
    "```bash\n",
    "plot \"data1_leg.txt\" using 1:2 title 'L0' with linespoints lt 3 lc rgb 'red', \\\n",
    "     \"data2_leg.txt\" using 1:3 title 'L1' with linespoints\n",
    "```\n",
    "\n",
    "This can be entered on a prompt when gnuplot is running \n",
    "```bash\n",
    "gnuplot\n",
    "gnuplot> COMMANDS HERE\n",
    "```\n",
    "\n",
    "or if we have stored the source in a file, say `foo.txt`, we can get the plot by `gnuplot -p foo.txt`. Nice feature of GNUPlot is the ability to generate plots for LaTex. "
   ]
  },
  {
   "cell_type": "markdown",
   "id": "6b13c731",
   "metadata": {},
   "source": [
    "Note that GNUPlot is not limited to line plots, cf. the gallery of [examples](https://gnuplot.sourceforge.net/demo/)"
   ]
  },
  {
   "cell_type": "code",
   "execution_count": 69,
   "id": "7e38f31e",
   "metadata": {
    "slideshow": {
     "slide_type": ""
    },
    "tags": []
   },
   "outputs": [
    {
     "name": "stdout",
     "output_type": "stream",
     "text": [
      "/bin/bash: ./scripts/tori.gplot: /usr/bin/gnuplot: bad interpreter: No such file or directory\r\n"
     ]
    }
   ],
   "source": [
    "!./scripts/tori.gplot"
   ]
  },
  {
   "cell_type": "markdown",
   "id": "96a106f7",
   "metadata": {
    "slideshow": {
     "slide_type": ""
    },
    "tags": []
   },
   "source": [
    "<center>\n",
    "  <img src=\"figs/tori_gnuplot.svg\"\" style=\"width: 500px;\"/>\n",
    "</center>"
   ]
  }
 ],
 "metadata": {
  "kernelspec": {
   "display_name": "Python 3 (ipykernel)",
   "language": "python",
   "name": "python3"
  },
  "language_info": {
   "codemirror_mode": {
    "name": "ipython",
    "version": 3
   },
   "file_extension": ".py",
   "mimetype": "text/x-python",
   "name": "python",
   "nbconvert_exporter": "python",
   "pygments_lexer": "ipython3",
   "version": "3.9.15"
  }
 },
 "nbformat": 4,
 "nbformat_minor": 5
}
