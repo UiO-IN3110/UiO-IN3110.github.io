{
 "cells": [
  {
   "cell_type": "markdown",
   "metadata": {
    "tags": []
   },
   "source": [
    "## The Monty Hall game\n",
    "\n",
    "Suppose you're on a game show, and you're given the choice of three doors: Behind one door is a car; behind the others, goats.\n",
    "\n",
    "In search of a new car, the player picks a door, say 1. The game host then opens one of the other doors, say 3, to reveal a goat and offers to let the player pick door 2 instead of door 1.\n",
    "\n",
    "![image](pictures/440px-Monty_open_door.svg.png \"image source: Wikipedia\")\n",
    "\n",
    "**Goal**: Implement this game as a web application.\n",
    "\n",
    "If you want to look at the code at home, here is the implementation: https://github.com/UiO-INF3331/UiO-INF3331.github.io/tree/HEAD/lectures/09_web_programming/monty-hall-game"
   ]
  },
  {
   "cell_type": "code",
   "execution_count": null,
   "metadata": {},
   "outputs": [],
   "source": [
    "import random\n",
    "from functools import partial\n",
    "from typing import Optional\n",
    "\n",
    "from pydantic import BaseModel, Field\n",
    "\n",
    "\n",
    "class MontyHallGame(BaseModel):\n",
    "    winning: int = Field(default_factory=partial(random.randint, 1, 3))\n",
    "    first_choice: Optional[int]\n",
    "    opened: Optional[int]\n",
    "    second_choice: Optional[int]\n",
    "    has_won: Optional[bool]\n",
    "\n",
    "    def choose(self, choice: int):\n",
    "        \"\"\"The first step: Make a choice\"\"\"\n",
    "        self.first_choice = choice\n",
    "\n",
    "    def reveal(self):\n",
    "        \"\"\"The second step: host reveals a door that definitely has a goat.\"\"\"\n",
    "        choices = set([1, 2, 3])\n",
    "        # don't open the winning door\n",
    "        choices.discard(self.winning)\n",
    "        # don't open the door they've already chosen\n",
    "        choices.discard(self.first_choice)\n",
    "        # open a random remaining door.\n",
    "        # there is either 1 or 2 choices left\n",
    "        self.opened = random.choice(list(choices))\n",
    "        return self.opened\n",
    "\n",
    "    def choose_again(self, switch: bool):\n",
    "        \"\"\"Guest can either switch to the other door, or stay with their first choice\"\"\"\n",
    "        if switch:\n",
    "            choices = set([1, 2, 3])\n",
    "            choices.discard(self.first_choice)\n",
    "            choices.discard(self.opened)\n",
    "            self.second_choice = choices.pop()\n",
    "        else:\n",
    "            self.second_choice = self.first_choice\n",
    "        self.has_won = self.second_choice == self.winning\n",
    "        return self.second_choice\n",
    "\n",
    "    def play(self):\n",
    "        \"\"\"Play one full round\"\"\"\n",
    "        first_choice = int(input(\"Pick a door (1, 2, 3): \"))\n",
    "        self.choose(first_choice)\n",
    "        self.reveal()\n",
    "        available = set([1, 2, 3])\n",
    "        available.discard(first_choice)\n",
    "        available.discard(self.opened)\n",
    "        remaining = available.pop()\n",
    "        ans = input(\n",
    "            f\"I've opened door number {self.opened}. Would you like to switch (y/N)?\"\n",
    "        )\n",
    "        second_choice = self.choose_again(switch=ans.lower().startswith(\"y\"))\n",
    "\n",
    "        print(f\"You picked door number {self.second_choice}\")\n",
    "        if self.second_choice == self.winning:\n",
    "            print(\"You win!\")\n",
    "        else:\n",
    "            print(f\"Sorry, it was door number {self.winning} :(\")"
   ]
  },
  {
   "cell_type": "code",
   "execution_count": null,
   "metadata": {},
   "outputs": [],
   "source": [
    "game = MontyHallGame()\n",
    "game.play()"
   ]
  },
  {
   "cell_type": "code",
   "execution_count": null,
   "metadata": {},
   "outputs": [],
   "source": [
    "import random\n",
    "from IPython.display import display\n",
    "import ipywidgets\n",
    "\n",
    "def autoplay(samples):\n",
    "    switch_progress = ipywidgets.IntProgress(description=\"switch\", max=samples)\n",
    "    stay_progress = ipywidgets.IntProgress(description=\"stay\", max=samples)\n",
    "    display(switch_progress)\n",
    "    display(stay_progress)\n",
    "    for i in range(samples):\n",
    "        for switch, progress in zip((True, False), (switch_progress, stay_progress)):\n",
    "            first_choice = random.randint(1, 3)\n",
    "            game = MonteHallGame()\n",
    "            game.choose(first_choice)\n",
    "            game.reveal()\n",
    "            game.choose_again(switch=switch)\n",
    "            if game.has_won:\n",
    "                progress.value += 1\n",
    "            \n",
    "autoplay(10_000)"
   ]
  },
  {
   "cell_type": "markdown",
   "metadata": {},
   "source": [
    "Tasks:\n",
    "\n",
    "1. create a 'welcome' page\n",
    "2. serve a form for \"pick a door\"\n",
    "3. handle form submission for picking a door\n",
    "4. select a door to open\n",
    "5. serve a form to make final pick\n",
    "6. serve a result\n",
    "\n",
    "\n",
    "Initial FastAPI boilerplate:\n",
    "\n",
    "```python\n",
    "from fastapi import FastAPI, Form, Request\n",
    "from fastapi.responses import HTMLResponse\n",
    "from fastapi.templating import Jinja2Templates\n",
    "\n",
    "app = FastAPI()\n",
    "templates = Jinja2Templates(directory=\"templates\")\n",
    "\n",
    "@app.get(\"/\", response_class=HTMLResponse)\n",
    "def welcome():\n",
    "    ...\n",
    "\n",
    "if __name__ == \"__main__\":\n",
    "    import uvicorn\n",
    "    uvicorn.run(app, debug=True)\n",
    "```\n"
   ]
  },
  {
   "cell_type": "code",
   "execution_count": null,
   "metadata": {},
   "outputs": [],
   "source": []
  }
 ],
 "metadata": {
  "kernelspec": {
   "display_name": "Python 3 (ipykernel)",
   "language": "python",
   "name": "python3"
  },
  "language_info": {
   "codemirror_mode": {
    "name": "ipython",
    "version": 3
   },
   "file_extension": ".py",
   "mimetype": "text/x-python",
   "name": "python",
   "nbconvert_exporter": "python",
   "pygments_lexer": "ipython3",
   "version": "3.9.6"
  },
  "widgets": {
   "application/vnd.jupyter.widget-state+json": {
    "state": {
     "0f883097b37c41a98a83d85a098f5d3b": {
      "model_module": "@jupyter-widgets/base",
      "model_module_version": "1.2.0",
      "model_name": "LayoutModel",
      "state": {}
     },
     "17891183cf6040a295799482b34e60d4": {
      "model_module": "@jupyter-widgets/controls",
      "model_module_version": "1.5.0",
      "model_name": "IntProgressModel",
      "state": {
       "description": "switch",
       "layout": "IPY_MODEL_9eb89049db674d0fad6617747fa5c4b6",
       "max": 10000,
       "style": "IPY_MODEL_ad7b17ec127046448d50431a3341b255",
       "value": 6591
      }
     },
     "37d91342b7ed4f3e91f3525874f6adc3": {
      "model_module": "@jupyter-widgets/base",
      "model_module_version": "1.2.0",
      "model_name": "LayoutModel",
      "state": {}
     },
     "46a3355031584e43869b8e9add4281d0": {
      "model_module": "@jupyter-widgets/controls",
      "model_module_version": "1.5.0",
      "model_name": "ProgressStyleModel",
      "state": {
       "description_width": ""
      }
     },
     "4bfafd5ad9e444a1b7b46d612ef4f6ca": {
      "model_module": "@jupyter-widgets/base",
      "model_module_version": "1.2.0",
      "model_name": "LayoutModel",
      "state": {}
     },
     "8c77db92c91545f6a979e2100b3d817e": {
      "model_module": "@jupyter-widgets/base",
      "model_module_version": "1.2.0",
      "model_name": "LayoutModel",
      "state": {}
     },
     "8cae0f2ebd66422bacbee9d180ef4a54": {
      "model_module": "@jupyter-widgets/controls",
      "model_module_version": "1.5.0",
      "model_name": "IntProgressModel",
      "state": {
       "description": "stay",
       "layout": "IPY_MODEL_37d91342b7ed4f3e91f3525874f6adc3",
       "max": 10000,
       "style": "IPY_MODEL_99f19f651b7d4c0d834b5565099507ee",
       "value": 3323
      }
     },
     "8dad67da37d64781bcdb7cd6e1ce0e53": {
      "model_module": "@jupyter-widgets/controls",
      "model_module_version": "1.5.0",
      "model_name": "IntProgressModel",
      "state": {
       "description": "stay",
       "layout": "IPY_MODEL_8c77db92c91545f6a979e2100b3d817e",
       "max": 20000,
       "style": "IPY_MODEL_94c2b9de7a6b4c36a8f01233ab20094b",
       "value": 6736
      }
     },
     "94c2b9de7a6b4c36a8f01233ab20094b": {
      "model_module": "@jupyter-widgets/controls",
      "model_module_version": "1.5.0",
      "model_name": "ProgressStyleModel",
      "state": {
       "description_width": ""
      }
     },
     "99f19f651b7d4c0d834b5565099507ee": {
      "model_module": "@jupyter-widgets/controls",
      "model_module_version": "1.5.0",
      "model_name": "ProgressStyleModel",
      "state": {
       "description_width": ""
      }
     },
     "9eb89049db674d0fad6617747fa5c4b6": {
      "model_module": "@jupyter-widgets/base",
      "model_module_version": "1.2.0",
      "model_name": "LayoutModel",
      "state": {}
     },
     "a0e868667ff541049c138298ea12edf3": {
      "model_module": "@jupyter-widgets/controls",
      "model_module_version": "1.5.0",
      "model_name": "IntProgressModel",
      "state": {
       "description": "switch",
       "layout": "IPY_MODEL_fb983d6d09ab426a98b159f365ec75d1",
       "max": 10000,
       "style": "IPY_MODEL_a242f299dd84467fa9a8dc14668c8211",
       "value": 6786
      }
     },
     "a242f299dd84467fa9a8dc14668c8211": {
      "model_module": "@jupyter-widgets/controls",
      "model_module_version": "1.5.0",
      "model_name": "ProgressStyleModel",
      "state": {
       "description_width": ""
      }
     },
     "ad7b17ec127046448d50431a3341b255": {
      "model_module": "@jupyter-widgets/controls",
      "model_module_version": "1.5.0",
      "model_name": "ProgressStyleModel",
      "state": {
       "description_width": ""
      }
     },
     "c999039b2d5141b4bb765ca9d0f6f328": {
      "model_module": "@jupyter-widgets/controls",
      "model_module_version": "1.5.0",
      "model_name": "ProgressStyleModel",
      "state": {
       "description_width": ""
      }
     },
     "cafd927dfd734f519eebdd953d1c4f9c": {
      "model_module": "@jupyter-widgets/controls",
      "model_module_version": "1.5.0",
      "model_name": "IntProgressModel",
      "state": {
       "description": "stay",
       "layout": "IPY_MODEL_0f883097b37c41a98a83d85a098f5d3b",
       "max": 10000,
       "style": "IPY_MODEL_46a3355031584e43869b8e9add4281d0",
       "value": 3349
      }
     },
     "fb983d6d09ab426a98b159f365ec75d1": {
      "model_module": "@jupyter-widgets/base",
      "model_module_version": "1.2.0",
      "model_name": "LayoutModel",
      "state": {}
     },
     "ffc6b33d25254dc1a71e8910bc879759": {
      "model_module": "@jupyter-widgets/controls",
      "model_module_version": "1.5.0",
      "model_name": "IntProgressModel",
      "state": {
       "description": "switch",
       "layout": "IPY_MODEL_4bfafd5ad9e444a1b7b46d612ef4f6ca",
       "max": 20000,
       "style": "IPY_MODEL_c999039b2d5141b4bb765ca9d0f6f328",
       "value": 13308
      }
     }
    },
    "version_major": 2,
    "version_minor": 0
   }
  }
 },
 "nbformat": 4,
 "nbformat_minor": 4
}
