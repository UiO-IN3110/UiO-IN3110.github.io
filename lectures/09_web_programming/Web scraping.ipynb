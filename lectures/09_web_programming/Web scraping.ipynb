{
 "cells": [
  {
   "cell_type": "markdown",
   "metadata": {},
   "source": [
    "# Installation\n",
    "\n",
    "With conda, you can install the required dependencies with:\n",
    "\n",
    "```bash\n",
    "conda install bs4 requests lxml\n",
    "```\n"
   ]
  },
  {
   "cell_type": "markdown",
   "metadata": {},
   "source": [
    "# Basic usage of BeautifulSoup"
   ]
  },
  {
   "cell_type": "markdown",
   "metadata": {},
   "source": [
    "First, we import the `BeatifulSoup` class:"
   ]
  },
  {
   "cell_type": "code",
   "execution_count": 1,
   "metadata": {},
   "outputs": [],
   "source": [
    "from bs4 import BeautifulSoup"
   ]
  },
  {
   "cell_type": "markdown",
   "metadata": {},
   "source": [
    "We load the html source file from disk and pass the source the the BeautifulSoup constructor. We choose the \"lxml\" parser for XML documents, which is faster than the defaul parser that comes with BeautifulSoup:"
   ]
  },
  {
   "cell_type": "code",
   "execution_count": 2,
   "metadata": {},
   "outputs": [
    {
     "name": "stdout",
     "output_type": "stream",
     "text": [
      "<!DOCTYPE html>\n",
      "<html>\n",
      "<body>\n",
      "<h2>An Unordered HTML List</h2>\n",
      "<ul id=\"unordered_list\" style=\"color:#069\">\n",
      "<li>Coffee</li>\n",
      "<li>Tea</li>\n",
      "<li>Milk</li>\n",
      "</ul>\n",
      "<h2>An Ordered HTML List</h2>\n",
      "<ol id=\"ordered_list\" style=\"color:#069\">\n",
      "<li>Coffee</li>\n",
      "<li>Tea</li>\n",
      "<li>Milk</li>\n",
      "</ol>\n",
      "</body>\n",
      "</html>\n",
      "\n"
     ]
    }
   ],
   "source": [
    "src = open(\"list.html\")\n",
    "document = BeautifulSoup(src, 'lxml')\n",
    "print(document)"
   ]
  },
  {
   "cell_type": "markdown",
   "metadata": {},
   "source": [
    "### Finding tags by name"
   ]
  },
  {
   "cell_type": "markdown",
   "metadata": {},
   "source": [
    "The document now contains the full html document. We can find the first occuring tag with a specific name with the `find` function. Let's find the first un-ordered list tag:"
   ]
  },
  {
   "cell_type": "code",
   "execution_count": 3,
   "metadata": {},
   "outputs": [],
   "source": [
    "ulist = document.find(\"ul\")"
   ]
  },
  {
   "cell_type": "markdown",
   "metadata": {},
   "source": [
    "The result contains all tags contained in the matched tag:"
   ]
  },
  {
   "cell_type": "code",
   "execution_count": 4,
   "metadata": {},
   "outputs": [
    {
     "data": {
      "text/plain": [
       "<ul id=\"unordered_list\" style=\"color:#069\">\n",
       "<li>Coffee</li>\n",
       "<li>Tea</li>\n",
       "<li>Milk</li>\n",
       "</ul>"
      ]
     },
     "execution_count": 4,
     "metadata": {},
     "output_type": "execute_result"
    }
   ],
   "source": [
    "ulist"
   ]
  },
  {
   "cell_type": "markdown",
   "metadata": {},
   "source": [
    "The `find_all` function returns **all** tags that match the given tag name. We can use it to get a list of all list items:"
   ]
  },
  {
   "cell_type": "code",
   "execution_count": 5,
   "metadata": {},
   "outputs": [
    {
     "data": {
      "text/plain": [
       "[<li>Coffee</li>, <li>Tea</li>, <li>Milk</li>]"
      ]
     },
     "execution_count": 5,
     "metadata": {},
     "output_type": "execute_result"
    }
   ],
   "source": [
    "items = ulist.find_all(\"li\")\n",
    "items"
   ]
  },
  {
   "cell_type": "markdown",
   "metadata": {},
   "source": [
    "Finally, we can loop over all items and extract their contant with the `get_text` function:"
   ]
  },
  {
   "cell_type": "code",
   "execution_count": 6,
   "metadata": {
    "scrolled": true
   },
   "outputs": [
    {
     "name": "stdout",
     "output_type": "stream",
     "text": [
      "Coffee\n",
      "Tea\n",
      "Milk\n"
     ]
    }
   ],
   "source": [
    "for item in items:\n",
    "    print(item.get_text())"
   ]
  },
  {
   "cell_type": "markdown",
   "metadata": {},
   "source": [
    "Note that `find_all` is **recursive** by default. This means that we could call it the on the full `document` to get the items\n",
    "of both the ordered and un-ordered lists:"
   ]
  },
  {
   "cell_type": "code",
   "execution_count": 7,
   "metadata": {},
   "outputs": [
    {
     "data": {
      "text/plain": [
       "[]"
      ]
     },
     "execution_count": 7,
     "metadata": {},
     "output_type": "execute_result"
    }
   ],
   "source": [
    "document.find_all(\"li\", recursive=False)"
   ]
  },
  {
   "cell_type": "markdown",
   "metadata": {},
   "source": [
    "### Finding tags by attributes"
   ]
  },
  {
   "cell_type": "markdown",
   "metadata": {},
   "source": [
    "Sometimes the easiest way to find a tag is by its attribute name. In our examples, both lists have an `id` attribute that uniquely identifies the tables. We can also use the `find*` methods to search for attributes:\n"
   ]
  },
  {
   "cell_type": "code",
   "execution_count": 8,
   "metadata": {},
   "outputs": [
    {
     "data": {
      "text/plain": [
       "<ul id=\"unordered_list\" style=\"color:#069\">\n",
       "<li>Coffee</li>\n",
       "<li>Tea</li>\n",
       "<li>Milk</li>\n",
       "</ul>"
      ]
     },
     "execution_count": 8,
     "metadata": {},
     "output_type": "execute_result"
    }
   ],
   "source": [
    "document.find(attrs={\"id\":\"unordered_list\"})"
   ]
  },
  {
   "cell_type": "markdown",
   "metadata": {},
   "source": [
    "### Accessing attributes"
   ]
  },
  {
   "cell_type": "markdown",
   "metadata": {},
   "source": [
    "The `ul` tag also contains a `style` attribute. Any bs4 tag behaves like a dictionary with attribute names as keys and attribute values as values:"
   ]
  },
  {
   "cell_type": "code",
   "execution_count": 9,
   "metadata": {},
   "outputs": [
    {
     "data": {
      "text/plain": [
       "{'id': 'unordered_list', 'style': 'color:#069'}"
      ]
     },
     "execution_count": 9,
     "metadata": {},
     "output_type": "execute_result"
    }
   ],
   "source": [
    "ulist.attrs"
   ]
  },
  {
   "cell_type": "code",
   "execution_count": 10,
   "metadata": {},
   "outputs": [
    {
     "data": {
      "text/plain": [
       "'color:#069'"
      ]
     },
     "execution_count": 10,
     "metadata": {},
     "output_type": "execute_result"
    }
   ],
   "source": [
    "ulist[\"style\"]"
   ]
  },
  {
   "cell_type": "markdown",
   "metadata": {},
   "source": [
    "# Downloading a table from Wikipedia\n",
    "\n",
    "We aim to get a list of countries sorted by their population size:\n",
    "https://en.wikipedia.org/wiki/List_of_countries_and_dependencies_by_population"
   ]
  },
  {
   "cell_type": "markdown",
   "metadata": {},
   "source": [
    "First, let's import the required modules:"
   ]
  },
  {
   "cell_type": "code",
   "execution_count": 3,
   "metadata": {},
   "outputs": [],
   "source": [
    "import requests\n",
    "from bs4 import BeautifulSoup\n",
    "import re\n",
    "import dateutil"
   ]
  },
  {
   "cell_type": "markdown",
   "metadata": {},
   "source": [
    "This time, we load the html source directly from a website using the requests module:"
   ]
  },
  {
   "cell_type": "code",
   "execution_count": 4,
   "metadata": {},
   "outputs": [],
   "source": [
    "result = requests.get(\"https://en.wikipedia.org/wiki/List_of_countries_and_dependencies_by_population\")"
   ]
  },
  {
   "cell_type": "markdown",
   "metadata": {},
   "source": [
    "The web server returns a status code to indicate if the request was (un-)succesfully.\n",
    "We use that status-code to check if the page was succesfully loaded:"
   ]
  },
  {
   "cell_type": "code",
   "execution_count": 5,
   "metadata": {},
   "outputs": [],
   "source": [
    "assert result.status_code==200  "
   ]
  },
  {
   "cell_type": "markdown",
   "metadata": {},
   "source": [
    "Next, we extract the html source and initiated BeautifulSoup:"
   ]
  },
  {
   "cell_type": "code",
   "execution_count": 6,
   "metadata": {},
   "outputs": [],
   "source": [
    "src = result.content\n",
    "document = BeautifulSoup(src, 'lxml')"
   ]
  },
  {
   "cell_type": "markdown",
   "metadata": {},
   "source": [
    "by looking at the document, we can see that we are interested in first table. So we use `find`:"
   ]
  },
  {
   "cell_type": "code",
   "execution_count": 7,
   "metadata": {},
   "outputs": [],
   "source": [
    "table = document.find(\"table\")"
   ]
  },
  {
   "cell_type": "markdown",
   "metadata": {},
   "source": [
    "If you are not familiar with html table, read this example first: https://www.w3schools.com/html/tryit.asp?filename=tryhtml_table_intro"
   ]
  },
  {
   "cell_type": "markdown",
   "metadata": {},
   "source": [
    "At this point, it is a good idea to programatically check that the table contains the correct header:"
   ]
  },
  {
   "cell_type": "code",
   "execution_count": 8,
   "metadata": {},
   "outputs": [],
   "source": [
    "assert table.find(\"th\").get_text() == \"Rank\""
   ]
  },
  {
   "cell_type": "code",
   "execution_count": 9,
   "metadata": {},
   "outputs": [],
   "source": [
    "rows = table.find_all(\"tr\")  # Note: this works because find_all is resursive by default\n"
   ]
  },
  {
   "cell_type": "code",
   "execution_count": 10,
   "metadata": {},
   "outputs": [
    {
     "name": "stdout",
     "output_type": "stream",
     "text": [
      "1, China, 1411778724, 17.9, 2020-11-01 00:00:00, 2020 census result[3]\n",
      "2, India, 1383001530, 17.5, 2021-10-12 00:00:00, National population clock[4]\n",
      "3, United States, 332520029, 4.21, 2021-10-12 00:00:00, National population clock[5]\n",
      "4, Indonesia, 271350000, 3.43, 2020-12-31 00:00:00, National annual estimate[6]\n",
      "5, Pakistan, 225200000, 2.85, 2021-07-01 00:00:00, UN projection[2]\n",
      "6, Brazil, 213799167, 2.71, 2021-10-12 00:00:00, National population clock[7]\n",
      "7, Nigeria, 211401000, 2.68, 2021-07-01 00:00:00, UN projection[2]\n",
      "8, Bangladesh, 171511228, 2.17, 2021-10-12 00:00:00, National population clock[8]\n",
      "9, Russia, 146171015, 1.85, 2021-01-01 00:00:00, National annual estimate[9]\n",
      "10, Mexico, 126014024, 1.59, 2020-03-02 00:00:00, 2020 census result[10]\n",
      "11, Japan, 125210000, 1.58, 2021-09-01 00:00:00, Monthly national estimate[11]\n",
      "12, Ethiopia, 117876000, 1.49, 2021-07-01 00:00:00, UN projection[2]\n",
      "13, Philippines, 110945986, 1.4, 2021-10-12 00:00:00, Official 2020 census result[12]\n",
      "14, Egypt, 102430678, 1.3, 2021-10-12 00:00:00, National population clock[13]\n",
      "15, Vietnam, 97580000, 1.23, 2020-07-01 00:00:00, National annual estimate[14]\n",
      "16, DR Congo, 92378000, 1.17, 2021-07-01 00:00:00, UN projection[2]\n",
      "17, Iran, 84853399, 1.07, 2021-10-12 00:00:00, National population clock[15]\n",
      "18, Turkey, 83614362, 1.06, 2020-12-31 00:00:00, National annual estimate[16]\n",
      "19, Germany, 83129285, 1.05, 2021-06-30 00:00:00, National quarterly estimate[17]\n",
      "20, France, 67486000, 0.854, 2021-09-01 00:00:00, Monthly national estimate[18]\n",
      "21, United Kingdom, 67081234, 0.849, 2020-06-30 00:00:00, National annual estimate[19]\n",
      "22, Thailand, 66704830, 0.844, 2021-10-12 00:00:00, National population clock[20]\n",
      "23, South Africa, 60142978, 0.761, 2021-07-01 00:00:00, National annual estimate[21]\n",
      "24, Tanzania, 59441988, 0.752, 2021-07-01 00:00:00, National annual projection[22]\n",
      "25, Italy, 59108671, 0.748, 2021-07-31 00:00:00, Monthly national estimate[23]\n",
      "26, Myanmar, 55294979, 0.7, 2021-07-01 00:00:00, National annual projection[24]\n",
      "27, South Korea, 51671569, 0.654, 2021-07-01 00:00:00, Monthly national estimate[25]\n",
      "28, Colombia, 51049498, 0.646, 2021-06-30 00:00:00, National annual projection[26]\n",
      "29, Kenya, 47564296, 0.602, 2019-08-31 00:00:00, 2019 census result[27]\n",
      "30, Spain, 47394223, 0.6, 2021-01-01 00:00:00, National semi-annual estimate[28]\n",
      "31, Argentina, 45808747, 0.58, 2021-07-01 00:00:00, National annual projection[29]\n",
      "32, Algeria, 44700000, 0.566, 2021-01-01 00:00:00, National annual estimate[30]\n",
      "33, Sudan, 43863470, 0.555, 2021-10-12 00:00:00, National population clock[31]\n",
      "34, Uganda, 42885900, 0.543, 2021-07-01 00:00:00, National annual projection[32]\n",
      "35, Ukraine, 41362393, 0.523, 2021-08-01 00:00:00, Monthly national estimate[33]\n",
      "36, Iraq, 41190700, 0.521, 2021-07-01 00:00:00, National annual projection[34]\n",
      "37, Canada, 38436781, 0.486, 2021-10-12 00:00:00, National population clock[35]\n",
      "38, Poland, 38158000, 0.483, 2021-07-31 00:00:00, Monthly national estimate[36]\n",
      "39, Morocco, 36394782, 0.461, 2021-10-12 00:00:00, National population clock[37]\n",
      "40, Uzbekistan, 35141117, 0.445, 2021-10-12 00:00:00, National population clock[38]\n",
      "41, Saudi Arabia, 35013414, 0.443, 2020-07-01 00:00:00, National annual estimate[39]\n",
      "42, Peru, 33035304, 0.418, 2021-07-01 00:00:00, National annual projection[40]\n",
      "43, Afghanistan, 32890171, 0.416, 2020-07-01 00:00:00, National annual estimate[41]\n",
      "44, Malaysia, 32720800, 0.414, 2021-10-12 00:00:00, National population clock[42]\n",
      "45, Angola, 32097671, 0.406, 2021-06-30 00:00:00, National annual projection[43]\n",
      "46, Mozambique, 30832244, 0.39, 2021-07-01 00:00:00, National annual projection[44]\n",
      "47, Ghana, 30792608, 0.39, 2021-06-27 00:00:00, Preliminary or provivional 2021 census result[45]\n",
      "48, Yemen, 30491000, 0.386, 2021-07-01 00:00:00, UN projection[2]\n",
      "49, Nepal, 30378055, 0.384, 2021-07-01 00:00:00, National annual projection[46]\n",
      "50, Venezuela, 28705000, 0.363, 2021-07-01 00:00:00, UN projection[2]\n",
      "51, Ivory Coast, 27087732, 0.343, 2021-07-01 00:00:00, National annual projection[47]\n",
      "52, Madagascar, 26923353, 0.341, 2021-07-01 00:00:00, National annual projection[48]\n",
      "53, Australia, 25879924, 0.328, 2021-10-12 00:00:00, National population clock[49]\n",
      "54, North Korea, 25660000, 0.325, 2021-07-01 00:00:00, National annual projection[50]\n",
      "55, Cameroon, 24348251, 0.308, 2019-07-01 00:00:00, National annual projection[51]\n",
      "56, Niger, 24112753, 0.305, 2021-07-01 00:00:00, National annual projection[52]\n",
      "–, Taiwan, 23451837, 0.297, 2021-08-31 00:00:00, Monthly national estimate[53]\n",
      "57, Sri Lanka, 22156000, 0.28, 2021-07-01 00:00:00, National annual estimate[54]\n",
      "58, Burkina Faso, 21510181, 0.272, 2020-07-01 00:00:00, National annual projection[55]\n",
      "59, Mali, 20856000, 0.264, 2021-07-01 00:00:00, UN projection[2]\n",
      "60, Chile, 19678363, 0.249, 2021-06-30 00:00:00, National annual projection[56]\n",
      "61, Romania, 19186201, 0.243, 2021-01-01 00:00:00, National annual estimate[57]\n",
      "62, Kazakhstan, 19018200, 0.241, 2021-10-12 00:00:00, National population clock[58]\n",
      "63, Malawi, 18898441, 0.239, 2021-07-01 00:00:00, National annual projection[59]\n",
      "64, Zambia, 18400556, 0.233, 2021-07-01 00:00:00, National annual projection[60]\n",
      "65, Syria, 18276000, 0.231, 2021-07-01 00:00:00, UN projection[2]\n",
      "66, Ecuador, 17833932, 0.226, 2021-10-12 00:00:00, National population clock[61]\n",
      "67, Netherlands, 17646331, 0.223, 2021-10-12 00:00:00, National population clock[62]\n",
      "68, Senegal, 17223497, 0.218, 2021-07-01 00:00:00, National annual projection[63]\n",
      "69, Guatemala, 17109746, 0.217, 2021-07-01 00:00:00, National annual projection[64]\n",
      "70, Chad, 16818391, 0.213, 2021-07-01 00:00:00, National annual projection[65]\n",
      "71, Somalia, 16360000, 0.207, 2021-07-01 00:00:00, UN projection[2]\n",
      "72, Zimbabwe, 15790716, 0.2, 2021-07-01 00:00:00, National annual projection[66]\n",
      "73, Cambodia, 15552211, 0.197, 2019-03-03 00:00:00, 2019 census result[67]\n",
      "74, South Sudan, 13249924, 0.168, 2020-07-01 00:00:00, National annual projection[68]\n",
      "75, Rwanda, 12955768, 0.164, 2021-07-01 00:00:00, National annual projection[69]\n",
      "76, Guinea, 12907395, 0.163, 2021-07-01 00:00:00, National annual projection[70]\n",
      "77, Burundi, 12574571, 0.159, 2021-07-01 00:00:00, National annual projection[71]\n",
      "78, Benin, 12506347, 0.158, 2021-07-01 00:00:00, National annual projection[72]\n",
      "79, Bolivia, 11797257, 0.149, 2021-07-01 00:00:00, National annual projection[73]\n",
      "80, Tunisia, 11746695, 0.149, 2020-07-01 00:00:00, National semi-annual estimate[74]\n",
      "81, Haiti, 11743017, 0.149, 2020-07-01 00:00:00, National annual projection[75]\n",
      "82, Belgium, 11580185, 0.147, 2021-08-01 00:00:00, Monthly national estimate[76]\n",
      "83, Cuba, 11181595, 0.142, 2020-12-31 00:00:00, National annual estimate[77]\n",
      "84, Jordan, 11053388, 0.14, 2021-10-12 00:00:00, National population clock[78]\n",
      "85, Greece, 10718565, 0.136, 2020-01-01 00:00:00, National annual estimate[79]\n",
      "86, Czech Republic, 10702942, 0.135, 2021-06-30 00:00:00, National quarterly estimate[80]\n",
      "87, Dominican Republic, 10535535, 0.133, 2021-07-01 00:00:00, National annual projection[81]\n",
      "88, Sweden, 10427296, 0.132, 2021-08-31 00:00:00, Monthly national estimate[82]\n",
      "89, Portugal, 10347892, 0.131, 2021-03-22 00:00:00, 2021 census preliminary results[83]\n",
      "90, Azerbaijan, 10139196, 0.128, 2021-07-01 00:00:00, Monthly national estimate[84]\n",
      "91, Hungary, 9730772, 0.123, 2021-01-01 00:00:00, National annual estimate[85]\n",
      "92, Tajikistan, 9504000, 0.12, 2021-01-01 00:00:00, National annual estimate[86]\n",
      "93, United Arab Emirates, 9503738, 0.12, 2019-12-31 00:00:00, National annual estimate[87]\n",
      "94, Honduras, 9450711, 0.12, 2021-07-01 00:00:00, National annual projection[88]\n",
      "95, Israel, 9413660, 0.119, 2021-10-12 00:00:00, National population clock[89]\n",
      "96, Belarus, 9349645, 0.118, 2021-01-01 00:00:00, National annual estimate[90]\n",
      "97, Papua New Guinea, 9122994, 0.115, 2021-07-01 00:00:00, National annual projection[91]\n",
      "98, Austria, 8950544, 0.113, 2021-07-01 00:00:00, National quarterly estimate[92]\n",
      "99, Switzerland, 8696088, 0.11, 2021-06-30 00:00:00, National quarterly estimate[93]\n",
      "100, Sierra Leone, 8297882, 0.105, 2021-07-01 00:00:00, National annual projection[94]\n",
      "101, Togo, 7886000, 0.0998, 2021-07-01 00:00:00, National annual projection[95]\n",
      "–, Hong Kong(China), 7394700, 0.0936, 2021-06-30 00:00:00, National semi-annual estimate[96]\n",
      "102, Paraguay, 7353038, 0.0931, 2021-07-01 00:00:00, National annual projection[97]\n",
      "103, Laos, 7337783, 0.0929, 2021-07-01 00:00:00, National annual projection[98]\n",
      "104, Libya, 6959000, 0.0881, 2021-07-01 00:00:00, UN projection[2]\n",
      "105, Bulgaria, 6875040, 0.087, 2021-06-30 00:00:00, National annual estimate[99]\n",
      "106, Serbia, 6871547, 0.087, 2021-01-01 00:00:00, National annual estimate[100]\n",
      "107, El Salvador, 6825935, 0.0864, 2021-07-01 00:00:00, National annual projection[101]\n",
      "108, Lebanon, 6769000, 0.0857, 2021-07-01 00:00:00, UN projection[2]\n",
      "109, Kyrgyzstan, 6663000, 0.0843, 2021-04-01 00:00:00, Monthly national estimate[102]\n",
      "110, Nicaragua, 6595674, 0.0835, 2020-06-30 00:00:00, National annual estimate[103]\n",
      "111, Turkmenistan, 6118000, 0.0774, 2021-07-01 00:00:00, UN projection[2]\n",
      "112, Denmark, 5850189, 0.074, 2021-07-01 00:00:00, National quarterly estimate[104]\n",
      "113, Singapore, 5685807, 0.072, 2020-06-30 00:00:00, 2020 census result[105]\n",
      "114, Congo, 5657000, 0.0716, 2021-07-01 00:00:00, UN projection[2]\n",
      "115, Central African Republic, 5633412, 0.0713, 2020-07-01 00:00:00, National annual projection[106]\n",
      "116, Finland, 5514825, 0.0698, 2021-08-31 00:00:00, Monthly national estimate[107]\n",
      "117, Slovakia, 5459781, 0.0691, 2020-12-31 00:00:00, National quarterly estimate[108]\n",
      "118, Norway, 5402171, 0.0684, 2021-07-01 00:00:00, National quarterly estimate[109]\n",
      "119, Palestine, 5227193, 0.0662, 2021-07-01 00:00:00, National annual projection[110]\n",
      "120, Costa Rica, 5163038, 0.0653, 2021-06-30 00:00:00, National annual projection[111]\n",
      "121, New Zealand, 5131970, 0.0649, 2021-10-12 00:00:00, National population clock[112]\n",
      "122, Ireland, 5011500, 0.0634, 2021-04-01 00:00:00, National annual estimate[113]\n",
      "123, Liberia, 4661010, 0.059, 2021-07-01 00:00:00, National annual projection[114]\n",
      "124, Oman, 4513666, 0.0571, 2021-04-30 00:00:00, Monthly national estimate[115]\n",
      "125, Kuwait, 4670713, 0.0591, 2020-12-31 00:00:00, National annual estimate[116]\n",
      "126, Panama, 4278500, 0.0541, 2020-07-01 00:00:00, National annual projection[117]\n",
      "127, Mauritania, 4271197, 0.0541, 2021-07-01 00:00:00, National annual projection[118]\n",
      "128, Croatia, 4036355, 0.0511, 2020-12-31 00:00:00, National semi-annual estimate[119]\n",
      "129, Georgia, 3728573, 0.0472, 2021-01-01 00:00:00, National annual estimate[120]\n",
      "130, Eritrea, 3601000, 0.0456, 2021-07-01 00:00:00, UN projection[2]\n",
      "131, Uruguay, 3554915, 0.045, 2021-06-30 00:00:00, National annual projection[121]\n",
      "132, Mongolia, 3402047, 0.0431, 2021-10-12 00:00:00, National population clock[122]\n",
      "133, Bosnia and Herzegovina, 3320954, 0.042, 2020-07-01 00:00:00, National annual estimate[123][124]\n",
      "–, Puerto Rico(United States), 3285874, 0.0416, 2020-04-01 00:00:00, 2020 census result[125]\n",
      "134, Armenia, 2963900, 0.0375, 2021-03-31 00:00:00, National quarterly estimate[126]\n",
      "135, Albania, 2829741, 0.0358, 2021-01-01 00:00:00, National annual estimate[127]\n",
      "136, Lithuania, 2786006, 0.0353, 2021-06-01 00:00:00, Monthly national estimate[128]\n",
      "137, Jamaica, 2734093, 0.0346, 2019-12-31 00:00:00, National semi-annual estimate[129]\n",
      "138, Moldova, 2597100, 0.0329, 2021-01-01 00:00:00, National annual estimate[130]\n",
      "139, Namibia, 2550226, 0.0323, 2021-07-01 00:00:00, National annual projection[131]\n",
      "140, Gambia, 2487000, 0.0315, 2021-07-01 00:00:00, UN projection[2]\n",
      "141, Botswana, 2410338, 0.0305, 2021-07-01 00:00:00, National annual projection[132]\n",
      "142, Qatar, 2799202, 0.0354, 2019-07-31 00:00:00, National annual estimate[133]\n",
      "143, Gabon, 2233272, 0.0283, 2021-07-01 00:00:00, National annual projection[134]\n",
      "144, Lesotho, 2159000, 0.0273, 2021-07-01 00:00:00, UN projection[2]\n",
      "145, Slovenia, 2108977, 0.0267, 2021-04-01 00:00:00, 2021 census result[135]\n",
      "146, North Macedonia, 2068808, 0.0262, 2020-12-31 00:00:00, National annual estimate[136]\n",
      "147, Latvia, 1882200, 0.0238, 2021-07-01 00:00:00, Monthly national estimate[137]\n",
      "–, Kosovo, 1782115, 0.0226, 2019-12-31 00:00:00, National annual estimate[138]\n",
      "148, Guinea, 1646077, 0.0208, 2021-07-01 00:00:00, National annual projection[139]\n",
      "149, Equatorial Guinea, 1505588, 0.0191, 2021-07-01 00:00:00, National annual estimate[140]\n",
      "150, Bahrain, 1501635, 0.019, 2020-03-17 00:00:00, 2020 census result[141]\n",
      "151, Trinidad and Tobago, 1366725, 0.0173, 2020-06-30 00:00:00, National annual estimate[142]\n",
      "152, Estonia, 1330068, 0.0168, 2021-01-01 00:00:00, National annual estimate[143]\n",
      "153, East Timor, 1317780, 0.0167, 2021-07-01 00:00:00, National annual projection[144]\n",
      "154, Mauritius, 1266334, 0.016, 2021-06-30 00:00:00, National semi-annual estimate[145]\n",
      "155, Eswatini, 1172000, 0.0148, 2021-07-01 00:00:00, UN projection[2]\n",
      "156, Djibouti, 976107, 0.0124, 2019-07-01 00:00:00, National annual projection[146]\n",
      "157, Fiji, 898402, 0.0114, 2021-07-01 00:00:00, National annual projection[91]\n",
      "158, Cyprus, 888005, 0.0112, 2019-12-31 00:00:00, National annual estimate[147]\n",
      "159, Comoros, 758316, 0.0096, 2017-12-15 00:00:00, 2017 census result[148]\n",
      "160, Bhutan, 756129, 0.00957, 2021-07-01 00:00:00, National annual projection[149]\n",
      "161, Guyana, 743699, 0.00941, 2019-07-01 00:00:00, National annual estimate[150]\n",
      "162, Solomon Islands, 728041, 0.00921, 2021-07-01 00:00:00, National annual projection[91]\n",
      "–, Macau(China), 682500, 0.00864, 2021-06-30 00:00:00, National quarterly estimate[151]\n",
      "163, Luxembourg, 634730, 0.00803, 2021-01-01 00:00:00, National annual estimate[152]\n",
      "164, Montenegro, 621306, 0.00786, 2020-07-01 00:00:00, National semi-annual estimate[153]\n",
      "–, Western Sahara, 612000, 0.00775, 2021-07-01 00:00:00, UN projection[2]\n",
      "165, Suriname, 598000, 0.00757, 2019-07-01 00:00:00, National annual estimate[154]\n",
      "166, Cape Verde, 563198, 0.00713, 2021-07-01 00:00:00, National annual projection[155]\n",
      "167, Malta, 514564, 0.00651, 2019-12-31 00:00:00, National annual estimate[156]\n",
      "–, Transnistria, 469000, 0.00594, 2018-01-01 00:00:00, National annual estimate[157]\n",
      "168, Brunei, 453600, 0.00574, 2020-07-01 00:00:00, National annual estimate[158]\n",
      "169, Belize, 430191, 0.00544, 2021-07-01 00:00:00, National annual estimate[159]\n",
      "170, Bahamas, 393450, 0.00498, 2021-07-01 00:00:00, National annual projection[160]\n",
      "171, Maldives, 383135, 0.00485, 2019-12-31 00:00:00, National annual estimate[161]\n",
      "–, Northern Cyprus, 372486, 0.00471, 2018-12-31 00:00:00, National annual estimate[162]\n",
      "172, Iceland, 371580, 0.0047, 2021-06-30 00:00:00, National quarterly estimate[163]\n",
      "173, Vanuatu, 301295, 0.00381, 2021-07-01 00:00:00, National annual projection[91]\n",
      "174, Barbados, 288000, 0.00364, 2021-07-01 00:00:00, UN projection[2]\n",
      "–, French Polynesia(France), 279890, 0.00354, 2021-07-01 00:00:00, National annual projection[91]\n",
      "–, New Caledonia(France), 273674, 0.00346, 2021-07-01 00:00:00, National annual projection[91]\n",
      "–, Abkhazia, 245424, 0.00311, 2020-01-01 00:00:00, National annual estimate[164]\n",
      "175, São Tomé and Príncipe, 214610, 0.00272, 2021-07-01 00:00:00, National annual projection[165]\n",
      "176, Samoa, 199853, 0.00253, 2021-07-01 00:00:00, National annual projection[91]\n",
      "177, Saint Lucia, 178696, 0.00226, 2018-07-01 00:00:00, National annual estimate[166]\n",
      "–, Guam(United States), 178306, 0.00226, 2021-07-01 00:00:00, National annual projection[91]\n",
      "–, Curaçao(Netherlands), 153671, 0.00194, 2021-01-01 00:00:00, National annual estimate[167]\n",
      "–, Republic of Artsakh, 148900, 0.00188, 2021-01-01 00:00:00, National annual estimate[168]\n",
      "178, Kiribati, 120740, 0.00153, 2021-07-01 00:00:00, National annual projection[91]\n",
      "179, Grenada, 113000, 0.00143, 2021-07-01 00:00:00, UN projection[2]\n",
      "–, Aruba(Netherlands), 111050, 0.00141, 2020-12-31 00:00:00, National quarterly estimate[169]\n",
      "180, Saint Vincent and the Grenadines, 110696, 0.0014, 2020-07-01 00:00:00, National annual estimate[170]\n",
      "–, Jersey(British Crown Dependency), 107800, 0.00136, 2019-12-31 00:00:00, National annual estimate[171]\n",
      "181, Micronesia, 105754, 0.00134, 2021-07-01 00:00:00, National annual projection[91]\n",
      "–, U.S. Virgin Islands(United States), 104000, 0.00132, 2021-07-01 00:00:00, UN projection[2]\n",
      "182, Tonga, 99532, 0.00126, 2021-07-01 00:00:00, National annual projection[91]\n",
      "183, Antigua and Barbuda, 99337, 0.00126, 2021-07-01 00:00:00, National annual projection[172]\n",
      "184, Seychelles, 99202, 0.00126, 2021-06-30 00:00:00, National semi-annual estimate[173]\n",
      "–, Isle of Man(British Crown Dependency), 85000, 0.00108, 2021-07-01 00:00:00, UN projection[2]\n",
      "185, Andorra, 78015, 0.000987, 2020-12-31 00:00:00, National annual estimate[174]\n",
      "186, Dominica, 72000, 0.000911, 2021-07-01 00:00:00, UN projection[2]\n",
      "–, Cayman Islands(United Kingdom), 65786, 0.000833, 2020-09-30 00:00:00, National quarterly estimate[175]\n",
      "–, Bermuda(United Kingdom), 64055, 0.000811, 2021-07-01 00:00:00, National annual projection[176]\n",
      "–, Guernsey(British Crown Dependency), 63124, 0.000799, 2020-06-30 00:00:00, National quarterly estimate[177]\n",
      "–, American Samoa(United States), 56951, 0.000721, 2021-07-01 00:00:00, National annual projection[91]\n",
      "–, Northern Mariana Islands(United States), 56801, 0.000719, 2021-07-01 00:00:00, National annual projection[91]\n",
      "–, Greenland(Denmark), 56653, 0.000717, 2021-07-01 00:00:00, National quarterly estimate[178]\n",
      "187, Marshall Islands, 54516, 0.00069, 2021-07-01 00:00:00, National annual projection[91]\n",
      "188, Saint Kitts and Nevis, 54000, 0.000683, 2021-07-01 00:00:00, UN projection[2]\n",
      "–, South Ossetia, 53532, 0.000677, 2015-10-15 00:00:00, 2015 census result[179]\n",
      "–, Faroe Islands(Denmark), 53567, 0.000678, 2021-08-01 00:00:00, Monthly national estimate[180]\n",
      "–, Turks and Caicos Islands(United Kingdom), 42953, 0.000544, 2019-07-01 00:00:00, National annual estimate[181]\n",
      "–, Sint Maarten(Netherlands), 41486, 0.000525, 2019-01-01 00:00:00, National annual estimate[182]\n",
      "189, Liechtenstein, 39062, 0.000494, 2020-12-31 00:00:00, National semi-annual estimate[183]\n",
      "190, Monaco, 38350, 0.000485, 2020-12-31 00:00:00, National annual estimate[184]\n",
      "–, Saint Martin(France), 34065, 0.000431, 2018-01-01 00:00:00, National annual estimate[185]\n",
      "–, Gibraltar(United Kingdom), 34000, 0.00043, 2021-07-01 00:00:00, UN projection[2]\n",
      "191, San Marino, 33599, 0.000425, 2021-05-31 00:00:00, Monthly national estimate[186]\n"
     ]
    },
    {
     "ename": "ValueError",
     "evalue": "not enough values to unpack (expected 8, got 7)",
     "output_type": "error",
     "traceback": [
      "\u001b[0;31m---------------------------------------------------------------------------\u001b[0m",
      "\u001b[0;31mValueError\u001b[0m                                Traceback (most recent call last)",
      "\u001b[0;32m<ipython-input-10-c4aaf52f0980>\u001b[0m in \u001b[0;36m<module>\u001b[0;34m()\u001b[0m\n\u001b[1;32m      3\u001b[0m \u001b[0;34m\u001b[0m\u001b[0m\n\u001b[1;32m      4\u001b[0m     \u001b[0mcells_text\u001b[0m \u001b[0;34m=\u001b[0m \u001b[0;34m[\u001b[0m\u001b[0mcell\u001b[0m\u001b[0;34m.\u001b[0m\u001b[0mget_text\u001b[0m\u001b[0;34m(\u001b[0m\u001b[0mstrip\u001b[0m\u001b[0;34m=\u001b[0m\u001b[0;32mTrue\u001b[0m\u001b[0;34m)\u001b[0m \u001b[0;32mfor\u001b[0m \u001b[0mcell\u001b[0m \u001b[0;32min\u001b[0m \u001b[0mcells\u001b[0m\u001b[0;34m]\u001b[0m\u001b[0;34m\u001b[0m\u001b[0;34m\u001b[0m\u001b[0m\n\u001b[0;32m----> 5\u001b[0;31m     \u001b[0;34m(\u001b[0m\u001b[0mrank\u001b[0m\u001b[0;34m,\u001b[0m \u001b[0mcountry\u001b[0m\u001b[0;34m,\u001b[0m \u001b[0mregion\u001b[0m\u001b[0;34m,\u001b[0m \u001b[0mpopulation\u001b[0m\u001b[0;34m,\u001b[0m \u001b[0mpercentage\u001b[0m\u001b[0;34m,\u001b[0m \u001b[0mupdated_at\u001b[0m\u001b[0;34m,\u001b[0m \u001b[0msource\u001b[0m\u001b[0;34m,\u001b[0m \u001b[0mcomment\u001b[0m\u001b[0;34m)\u001b[0m \u001b[0;34m=\u001b[0m \u001b[0mcells_text\u001b[0m\u001b[0;34m\u001b[0m\u001b[0;34m\u001b[0m\u001b[0m\n\u001b[0m\u001b[1;32m      6\u001b[0m \u001b[0;34m\u001b[0m\u001b[0m\n\u001b[1;32m      7\u001b[0m     \u001b[0;31m# Clean population using a regular expression str(\"1,404,890,600\") -> int(1404890600)\u001b[0m\u001b[0;34m\u001b[0m\u001b[0;34m\u001b[0m\u001b[0;34m\u001b[0m\u001b[0m\n",
      "\u001b[0;31mValueError\u001b[0m: not enough values to unpack (expected 8, got 7)"
     ]
    }
   ],
   "source": [
    "for row in rows[2:-1]:\n",
    "    cells = row.find_all([\"td\", \"th\"])\n",
    "    \n",
    "    cells_text = [cell.get_text(strip=True) for cell in cells]\n",
    "    (rank, country, region, population, percentage, updated_at, source, comment) = cells_text\n",
    "    \n",
    "    # Clean population using a regular expression str(\"1,404,890,600\") -> int(1404890600)\n",
    "    population = int(re.sub(',', '', population))   \n",
    "    \n",
    "    # Clean country name\n",
    "    country = re.findall(r'[\\w\\s()\\.]+', country)[0]\n",
    "    \n",
    "    # Convert percentage to floats\n",
    "    percentage = float(re.findall(r'[\\d\\.]+', percentage)[0])    \n",
    "    \n",
    "    # Convert updated_at to date object\n",
    "    updated_at = dateutil.parser.parse(updated_at)    \n",
    "    \n",
    "    print(f\"{rank}, {country}, {population}, {percentage}, {updated_at}, {source}\")\n",
    "    "
   ]
  },
  {
   "cell_type": "markdown",
   "metadata": {},
   "source": [
    "**Attention**: Beautiful Soup does not execute Javascript. This means that you the code in the Google Chrome inspector might look different to the original source code. "
   ]
  },
  {
   "cell_type": "markdown",
   "metadata": {},
   "source": [
    "# Another example of downloading a Wikipedia table \n",
    "\n",
    "Let's consider another table in a Wikipedia page. This page has a lot more tables, so one challenge will be to pick the right table\n",
    "\n",
    "https://en.wikipedia.org/wiki/Tiger_Woods\n",
    "\n",
    "\n",
    "We are interested in extracting these two tables:\n",
    "\n",
    "![Target Wikipedia tables](pictures/wiki_tables.png)\n",
    "\n",
    "**Exercise**: \n",
    "\n",
    "1) Identify the id=\"The_Players_Championship\", by using title = document.find(id=\"The_Players_Championship\")\n",
    "\n",
    "2) First find all tables below the id in 1) by title.find_all_next('table').\n",
    "\n",
    "3) Search for headers (th) by table.find('th') for table in tables to identify the \"Tournament\" header. Remember to use get_text(strip=True)\n",
    "\n",
    "4) Save all tables with the header \"Tournament\" into a list tournament_tables\n",
    "\n",
    "5) Bonus: Print out the information in the two tables of interest in the terminal"
   ]
  },
  {
   "cell_type": "markdown",
   "metadata": {},
   "source": [
    "We begin by downloading the webpage and instatiating the BeautifulSoup object:"
   ]
  },
  {
   "cell_type": "code",
   "execution_count": 11,
   "metadata": {},
   "outputs": [],
   "source": [
    "result = requests.get(\"https://en.wikipedia.org/wiki/Tiger_Woods\")\n",
    "src = result.content\n",
    "document = BeautifulSoup(src, 'lxml')"
   ]
  },
  {
   "cell_type": "markdown",
   "metadata": {},
   "source": [
    "This page contains a lot of tables without specific attributes that would make it easy to find our table of interest. Further, the same headings of the tables are used for multiple tables, making it difficult to find a table just by its headings:"
   ]
  },
  {
   "cell_type": "code",
   "execution_count": 12,
   "metadata": {},
   "outputs": [
    {
     "data": {
      "text/plain": [
       "60"
      ]
     },
     "execution_count": 12,
     "metadata": {},
     "output_type": "execute_result"
    }
   ],
   "source": [
    "len(document.find_all(\"table\"))"
   ]
  },
  {
   "cell_type": "markdown",
   "metadata": {},
   "source": [
    "Therefore, we choose another strategy. First, we extract the tag that defines the header just before our tables of interest. That header tag has a unique identifier attribute `id=\"The_Players_Championship\"`. Then we use the `find_all_next` function in BeautifulSoup to extract all following table tags:"
   ]
  },
  {
   "cell_type": "code",
   "execution_count": 13,
   "metadata": {},
   "outputs": [],
   "source": [
    "title = document.find(id=\"The_Players_Championship\")\n",
    "tables = title.find_all_next(\"table\")"
   ]
  },
  {
   "cell_type": "markdown",
   "metadata": {},
   "source": [
    "Now, our tables of interest are the first two tables with the \"Tournament\" heading. We write a small helper function (a generator https://wiki.python.org/moin/Generators) that returns a table with a given heading:"
   ]
  },
  {
   "cell_type": "code",
   "execution_count": 14,
   "metadata": {},
   "outputs": [],
   "source": [
    "def find_table_with_heading(tables, heading):\n",
    "    for table in tables:\n",
    "        if table.find(\"th\").get_text(strip=True) == heading:\n",
    "            yield table"
   ]
  },
  {
   "cell_type": "markdown",
   "metadata": {},
   "source": [
    "Next, we can extract the table rows and columns as usual. We only extract the first two tables, as these are the only ones we were interested in:"
   ]
  },
  {
   "cell_type": "code",
   "execution_count": 16,
   "metadata": {},
   "outputs": [
    {
     "name": "stdout",
     "output_type": "stream",
     "text": [
      "['Tournament', '1997', '1998', '1999', '2000', '2001', '2002', '2003', '2004', '2005', '2006', '2007', '2008', '2009']\n",
      "['The Players Championship', 'T31', 'T35', 'T10', '2', '1', 'T14', 'T11', 'T16', 'T53', 'T22', 'T37', '', '8']\n",
      "['Tournament', '2010', '2011', '2012', '2013', '2014', '2015', '2016', '2017', '2018', '2019']\n",
      "['The Players Championship', 'WD', 'WD', 'T40', '1', '', 'T69', '', '', 'T11', 'T30']\n"
     ]
    }
   ],
   "source": [
    "tournament_tables = list(find_table_with_heading(tables, \"Tournament\"))\n",
    "\n",
    "for table in tournament_tables[:2]:\n",
    "    for row in table.find_all(\"tr\"):\n",
    "        cells= row.find_all([\"th\", \"td\"])\n",
    "        print([cell.get_text(strip=\"True\") for cell in cells])\n",
    "        "
   ]
  },
  {
   "cell_type": "markdown",
   "metadata": {},
   "source": [
    "# Exercise:\n",
    "1) Go to https://en.wikipedia.org/wiki/University_of_Oslo \n",
    "\n"
   ]
  },
  {
   "cell_type": "markdown",
   "metadata": {},
   "source": [
    "2) Download the content from the site using BeautifulSoup and requests"
   ]
  },
  {
   "cell_type": "markdown",
   "metadata": {},
   "source": [
    "3) Search for all images (using images = document.find_all()) and print out the content"
   ]
  },
  {
   "cell_type": "markdown",
   "metadata": {},
   "source": [
    "4) Include only images with the attribute \"class\":\"thumbimage\" in your list of images. This can be done by inspecting image.attrs"
   ]
  },
  {
   "cell_type": "markdown",
   "metadata": {},
   "source": [
    "5) Print out a list of the value of the \"src\" attribute for the images in 4. "
   ]
  },
  {
   "cell_type": "markdown",
   "metadata": {},
   "source": [
    "6) See if you can display your image by pasting the results from 5 into your web-browser. Remember to put https: in front of your string in the web-browser"
   ]
  },
  {
   "cell_type": "code",
   "execution_count": null,
   "metadata": {},
   "outputs": [],
   "source": []
  }
 ],
 "metadata": {
  "celltoolbar": "Slideshow",
  "kernelspec": {
   "display_name": "Python 3",
   "language": "python",
   "name": "python3"
  },
  "language_info": {
   "codemirror_mode": {
    "name": "ipython",
    "version": 3
   },
   "file_extension": ".py",
   "mimetype": "text/x-python",
   "name": "python",
   "nbconvert_exporter": "python",
   "pygments_lexer": "ipython3",
   "version": "3.6.9"
  }
 },
 "nbformat": 4,
 "nbformat_minor": 4
}
