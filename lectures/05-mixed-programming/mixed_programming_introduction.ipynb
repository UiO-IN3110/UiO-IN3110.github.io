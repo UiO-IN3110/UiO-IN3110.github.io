{
 "cells": [
  {
   "cell_type": "markdown",
   "metadata": {
    "slideshow": {
     "slide_type": "slide"
    }
   },
   "source": [
    "# Mixed programming with Python"
   ]
  },
  {
   "cell_type": "markdown",
   "metadata": {
    "slideshow": {
     "slide_type": "subslide"
    }
   },
   "source": [
    "## Is Python slow for numerical computing?"
   ]
  },
  {
   "cell_type": "markdown",
   "metadata": {
    "slideshow": {
     "slide_type": "fragment"
    }
   },
   "source": [
    "**Task**: Fill a NumPy array with function values.\n",
    "\n",
    "#### Python implementation"
   ]
  },
  {
   "cell_type": "code",
   "execution_count": 6,
   "metadata": {
    "slideshow": {
     "slide_type": "fragment"
    }
   },
   "outputs": [],
   "source": [
    "#from numpy import zeros, arange, sin\n",
    "from math import sin\n",
    "\n",
    "n = 2000\n",
    "a = zeros((n,n))\n",
    "xcoor = arange(0,1,1/float(n))\n",
    "ycoor = arange(0,1,1/float(n))\n",
    "\n",
    "f = lambda x, y: sin(x**2 + y)\n",
    "\n",
    "for i in range(n):\n",
    "    for j in range(n):\n",
    "        a[i,j] = f(xcoor[i], ycoor[j])"
   ]
  },
  {
   "cell_type": "markdown",
   "metadata": {
    "slideshow": {
     "slide_type": "subslide"
    }
   },
   "source": [
    "# Timings\n",
    "\n",
    "|Version|Time (normalised)|\n",
    "|--|-------------------------------|\n",
    "|Fortran/C/C++ version |1.0|\n",
    "|NumPy vectorized evaluation of `f` |3.0|\n",
    "|Python loop version (`numpy.sin`)|  140 |\n",
    "|Python loop version (`math.sin`)|  350 |"
   ]
  },
  {
   "cell_type": "markdown",
   "metadata": {
    "slideshow": {
     "slide_type": "fragment"
    }
   },
   "source": [
    "#### Conclusions\n",
    "\n",
    "* Python loops over arrays are extremely slow\n",
    "* NumPy vectorization may be sufficient\n",
    "* However, sometimes plain loops in Fortran/C/C++ are easier"
   ]
  },
  {
   "cell_type": "markdown",
   "metadata": {
    "slideshow": {
     "slide_type": "subslide"
    }
   },
   "source": [
    "## Why are version in the compiled languages faster?\n",
    "\n",
    "Optimizations of C, C++, and Fortran:\n",
    "* Compilers do a good job for C, C++, and Fortran.\n",
    "* The type system makes agressive optimization possible.\n",
    "* Examples: code inlining, loop unrolling, and memory prefetching."
   ]
  },
  {
   "cell_type": "markdown",
   "metadata": {
    "slideshow": {
     "slide_type": "fragment"
    }
   },
   "source": [
    "In contrast, in Python we have:\n",
    "\n",
    "* No compiler.\n",
    "* No type declaration of variables.\n",
    "* No inlining and no loop unrolling.\n",
    "* Probably inefficient in Python:\n",
    "   ```python\n",
    "   def f(a, b):\n",
    "      return a + b\n",
    "   ```"
   ]
  },
  {
   "cell_type": "markdown",
   "metadata": {
    "slideshow": {
     "slide_type": "slide"
    }
   },
   "source": [
    "# Overview of mixed programming tools"
   ]
  },
  {
   "cell_type": "markdown",
   "metadata": {
    "slideshow": {
     "slide_type": "subslide"
    }
   },
   "source": [
    "## Extending vs embedding Python"
   ]
  },
  {
   "cell_type": "markdown",
   "metadata": {
    "slideshow": {
     "slide_type": "fragment"
    }
   },
   "source": [
    "Python can be mixed with other languages in two ways:\n",
    "  1. By **extending** Python with libraries and functions written in other languages\n",
    "  2. By **embedding**, i.e. calling Python from inside a program written in another language    "
   ]
  },
  {
   "cell_type": "markdown",
   "metadata": {
    "slideshow": {
     "slide_type": "fragment"
    }
   },
   "source": [
    "We only consider extending Python. This has two main use cases: \n",
    "  1. Accessing **functions in existing libraries** written in C or C++,   to avoid re-inventing existing tools \n",
    "  2. Speeding up a Python program by **migrating slow code** (e.g. loops) to C or C++"
   ]
  },
  {
   "cell_type": "markdown",
   "metadata": {
    "slideshow": {
     "slide_type": "subslide"
    }
   },
   "source": [
    "## Summary of mixed-programming tools\n",
    "\n",
    "* **Hand written wrapper code** using the Python-C-API;\n",
    "    * [+] General, low level control, no need for additional libraries   and tools\n",
    "    * [-] Time consuming, significant overhead"
   ]
  },
  {
   "cell_type": "markdown",
   "metadata": {
    "slideshow": {
     "slide_type": "fragment"
    }
   },
   "source": [
    "* **Ctypes**\n",
    "    \n",
    "    * Provides C compatible data types, and allows calling functions in shared libraries.\n",
    "    * [+] Part of the standard Python library, no need for compiling,   all wrapper code is written in Python\n",
    "    * [-] Low support for C++, Python wrapper code introduces overhead"
   ]
  },
  {
   "cell_type": "markdown",
   "metadata": {
    "slideshow": {
     "slide_type": "subslide"
    }
   },
   "source": [
    "* **Cython**\n",
    "    * Extends the Python language with elements from C\n",
    "    * Python/Cython code is compiled and available as a Python module\n",
    "    * Lots of advanced tools and possibilities"
   ]
  },
  {
   "cell_type": "markdown",
   "metadata": {
    "slideshow": {
     "slide_type": "fragment"
    }
   },
   "source": [
    "* **Numba**\n",
    "    * Uses Just in Time compilation (JIT) to speed up Python code\n",
    "    * [+] (Almost) fully automatic\n",
    "    * [o] Seems magical, which can make debugging more tricky\n",
    "    * [-] Needs to be installed as external dependency"
   ]
  }
 ],
 "metadata": {
  "celltoolbar": "Slideshow",
  "kernelspec": {
   "display_name": "Python 3",
   "language": "python",
   "name": "python3"
  },
  "language_info": {
   "codemirror_mode": {
    "name": "ipython",
    "version": 3
   },
   "file_extension": ".py",
   "mimetype": "text/x-python",
   "name": "python",
   "nbconvert_exporter": "python",
   "pygments_lexer": "ipython3",
   "version": "3.8.5"
  },
  "livereveal": {
   "scroll": true,
   "start_slideshow_at": "selected",
   "theme": "serif"
  }
 },
 "nbformat": 4,
 "nbformat_minor": 1
}
