{
 "cells": [
  {
   "cell_type": "markdown",
   "metadata": {
    "slideshow": {
     "slide_type": "slide"
    }
   },
   "source": [
    "# Bash programming\n",
    "\n",
    "<center>\n",
    "<img src=\"figs/bash.png\" style=\"width: 500px;\"/>\n",
    "    </center>"
   ]
  },
  {
   "cell_type": "markdown",
   "metadata": {
    "slideshow": {
     "slide_type": "subslide"
    }
   },
   "source": [
    "## History of Unix shells\n",
    "\n",
    "\n",
    "  * 1979: Bourne shell (`sh`)\n",
    "  * 1978: C and TC shell (`csh` and `tcsh`)\n",
    "  * 1989: Bourne Again shell (`bash`)\n",
    "  * Bash derivatives: \n",
    "      * 1983: Korn shell (`ksh`), \n",
    "      * 1990: Z shell (`zsh`)\n",
    "      * 2002: Dash (`dash`),       "
   ]
  },
  {
   "cell_type": "markdown",
   "metadata": {
    "slideshow": {
     "slide_type": "subslide"
    }
   },
   "source": [
    "## Why learn Bash? (1)\n",
    "\n",
    "  * Learning Bash means learning the roots of scripting \n",
    "  * Bash, are frequently encountered on Unix systems\n",
    "  * Bash is the dominating command interpreter and scripting language"
   ]
  },
  {
   "cell_type": "markdown",
   "metadata": {
    "slideshow": {
     "slide_type": "subslide"
    }
   },
   "source": [
    "## Why learn Bash? (2)\n",
    "\n",
    "Shell scripts evolve naturally from a workflow: \n",
    "  1. A sequence of commands you use often are placed in a file\n",
    "  2. Command-line options are introduced to enable different options to be passed to the commands\n",
    "  3. Introducing variables, if tests, loops enables more complex program flow\n",
    "  4. At some point pre- and postprocessing becomes too advanced for bash, at which point (parts of) the script should be ported to Python or other tools\n"
   ]
  },
  {
   "cell_type": "markdown",
   "metadata": {
    "slideshow": {
     "slide_type": "skip"
    }
   },
   "source": [
    "## Installation\n",
    "\n",
    "* All our examples can be run under Bash, and many in the Bourne shell\n",
    "* Differences in operating systems:\n",
    "    * **Mac OSX**: `/bin/sh` is just a link to Bash (`/bin/bash`).\n",
    "    * **Ubuntu**: `/bin/sh` is a link to Dash, a minimal, but much faster shell than bash.\n",
    "    * **Windows**: bash is available through `cygwin` or the Linux-Subsystem in Windows 10.     "
   ]
  },
  {
   "cell_type": "markdown",
   "metadata": {
    "slideshow": {
     "slide_type": "skip"
    }
   },
   "source": [
    "## Some reference material\n",
    "  \n",
    "  * Bash reference manual: `www.gnu.org/software/bash/manual/bashref.html`\n",
    "  * \"Advanced Bash-Scripting Guide\": `http://www.tldp.org/LDP/abs/html/`"
   ]
  },
  {
   "cell_type": "markdown",
   "metadata": {
    "slideshow": {
     "slide_type": "subslide"
    }
   },
   "source": [
    "## What Bash is *good* for\n",
    "\n",
    "* File and directory management\n",
    "\n",
    "* Systems management (build scripts)\n",
    "\n",
    "* Combining other scripts and commands\n",
    "\n",
    "* Rapid prototyping of more advanced scripts\n",
    "\n",
    "* Very simple output processing, plotting etc."
   ]
  },
  {
   "cell_type": "markdown",
   "metadata": {
    "slideshow": {
     "slide_type": "subslide"
    }
   },
   "source": [
    "## What Bash is *not good* for\n",
    "\n",
    "* Cross-platform portability\n",
    "\n",
    "* Graphics, GUIs\n",
    "\n",
    "* Interface with libraries or legacy code\n",
    "\n",
    "* More advanced post processing and plotting\n",
    "\n",
    "* Calculations, math etc."
   ]
  },
  {
   "cell_type": "markdown",
   "metadata": {
    "slideshow": {
     "slide_type": "subslide"
    }
   },
   "source": [
    "## Some common tasks in Bash\n",
    "\n",
    "  * file writing\n",
    "  * for-loops\n",
    "  * running an application\n",
    "  * combining applications (pipes)\n",
    "  * file globbing, testing file types\n",
    "  * managing files and directories (creation, deletion, renaming)\n",
    "  * directory tree traversal\n",
    "  * packing directory trees"
   ]
  },
  {
   "cell_type": "markdown",
   "metadata": {
    "slideshow": {
     "slide_type": "slide"
    }
   },
   "source": [
    "# Let's get started!"
   ]
  },
  {
   "cell_type": "markdown",
   "metadata": {
    "slideshow": {
     "slide_type": "subslide"
    }
   },
   "source": [
    "### Bash example: Hello world"
   ]
  },
  {
   "cell_type": "code",
   "execution_count": 6,
   "metadata": {},
   "outputs": [
    {
     "name": "stdout",
     "output_type": "stream",
     "text": [
      "Hello world\n"
     ]
    }
   ],
   "source": [
    "echo \"Hello world\"  # This is a comment"
   ]
  },
  {
   "cell_type": "markdown",
   "metadata": {},
   "source": [
    "**Note**: You will learn a lot of Bash/Unix commands in this lecture. \n",
    "I will highlight new commands with a <font color='red'>⚠️ </font> and explain its action. \n",
    "\n",
    "<font color='red'>⚠️ </font> **echo** prints text to screen."
   ]
  },
  {
   "cell_type": "markdown",
   "metadata": {
    "slideshow": {
     "slide_type": "subslide"
    }
   },
   "source": [
    "#### How to run this script? \n",
    "\n",
    "\n",
    "**Option 1**: Type the commands directly in the bash shell (only feasible for\n",
    "small scripts)."
   ]
  },
  {
   "cell_type": "markdown",
   "metadata": {
    "slideshow": {
     "slide_type": "fragment"
    }
   },
   "source": [
    "**Option 2**. Save the code as `helloworld.sh`, make it executable with \n",
    "```bash\n",
    "chmod a+x helloworld.sh\n",
    "``` \n",
    "and run with:\n",
    "```bash\n",
    "./helloworld.sh\n",
    "```\n",
    "\n",
    "<font color='red'>⚠️ </font> Use **chmod** to change file permissions."
   ]
  },
  {
   "cell_type": "markdown",
   "metadata": {
    "slideshow": {
     "slide_type": "subslide"
    }
   },
   "source": [
    "### How does the OS know that this is a bash script?"
   ]
  },
  {
   "cell_type": "markdown",
   "metadata": {
    "slideshow": {
     "slide_type": "fragment"
    }
   },
   "source": [
    "Bash uses itself as default interpreter, if not otherwise specified.\n",
    "\n",
    "**Better**: Add a \"magic\" line as the first line to tell the operating system which interpreter to use:\n",
    "\n",
    "```bash\n",
    "\n",
    "#!/bin/bash  \n",
    "\n",
    "echo \"Hello world\"\n",
    "```"
   ]
  },
  {
   "cell_type": "markdown",
   "metadata": {
    "slideshow": {
     "slide_type": "subslide"
    }
   },
   "source": [
    "### Why do I need add the \"./\" when execting \"./helloworld.sh\" ?"
   ]
  },
  {
   "cell_type": "markdown",
   "metadata": {
    "slideshow": {
     "slide_type": "subslide"
    }
   },
   "source": [
    "### Bash example: Hello world, v2 (variables)"
   ]
  },
  {
   "cell_type": "markdown",
   "metadata": {},
   "source": [
    "**Syntax**:\n",
    "* Assign a variable by `var=value`.\n",
    "* Retrieve the value of the variable by `${var}` or `$var`"
   ]
  },
  {
   "cell_type": "markdown",
   "metadata": {
    "slideshow": {
     "slide_type": "fragment"
    }
   },
   "source": [
    "**Example**"
   ]
  },
  {
   "cell_type": "code",
   "execution_count": 5,
   "metadata": {
    "slideshow": {
     "slide_type": "-"
    }
   },
   "outputs": [
    {
     "name": "stdout",
     "output_type": "stream",
     "text": [
      "Hello world, Simons!\n"
     ]
    }
   ],
   "source": [
    "#!/bin/bash\n",
    "\n",
    "cmd=echo\n",
    "name=\"Simon\"\n",
    "\n",
    "${cmd} \"Hello world, ${name}s!\""
   ]
  },
  {
   "cell_type": "markdown",
   "metadata": {
    "slideshow": {
     "slide_type": "subslide"
    }
   },
   "source": [
    "### Bash example: Hello world, v3 (getting output of commands)\n",
    "**Syntax**: `var=$(cmd)` stores the output of the command `cmd` in the variable `var`.\n"
   ]
  },
  {
   "cell_type": "markdown",
   "metadata": {
    "slideshow": {
     "slide_type": "fragment"
    }
   },
   "source": [
    "**Task**: Display the day of the week."
   ]
  },
  {
   "cell_type": "code",
   "execution_count": 6,
   "metadata": {},
   "outputs": [
    {
     "name": "stdout",
     "output_type": "stream",
     "text": [
      "I dag er det mandag.\n"
     ]
    }
   ],
   "source": [
    "#!/bin/bash\n",
    "\n",
    "weekday=$(date +\"%A\")    # date +\"%A\" is a bash command to display the day of the week \n",
    "echo \"I dag er det $weekday.\""
   ]
  },
  {
   "cell_type": "markdown",
   "metadata": {
    "slideshow": {
     "slide_type": "subslide"
    }
   },
   "source": [
    "## Bash is (sometimes surprisingly) strict in its syntax\n",
    "\n",
    "What happens when running this code?"
   ]
  },
  {
   "cell_type": "code",
   "execution_count": 8,
   "metadata": {},
   "outputs": [],
   "source": [
    "myvar = 5"
   ]
  },
  {
   "cell_type": "markdown",
   "metadata": {
    "slideshow": {
     "slide_type": "fragment"
    }
   },
   "source": [
    "**Remember**: Do not use spaces around the \"=\" in variable assignments!\n",
    "\n",
    "\n",
    "Also: Non-existing variables evaluate to an emptry string:"
   ]
  },
  {
   "cell_type": "code",
   "execution_count": 3,
   "metadata": {},
   "outputs": [
    {
     "name": "stdout",
     "output_type": "stream",
     "text": [
      "Value of new variable is .\n"
     ]
    }
   ],
   "source": [
    "echo \"Value of new variable is ${never_used}.\""
   ]
  },
  {
   "cell_type": "markdown",
   "metadata": {
    "slideshow": {
     "slide_type": "subslide"
    }
   },
   "source": [
    "## By default variables are un-typed, and treated as character arrays"
   ]
  },
  {
   "cell_type": "code",
   "execution_count": 1,
   "metadata": {},
   "outputs": [
    {
     "name": "stdout",
     "output_type": "stream",
     "text": [
      "5+5\n"
     ]
    }
   ],
   "source": [
    "x=5\n",
    "x=$x+5\n",
    "echo $x"
   ]
  },
  {
   "cell_type": "markdown",
   "metadata": {
    "slideshow": {
     "slide_type": "subslide"
    }
   },
   "source": [
    "You can explicitly declare the variable type:"
   ]
  },
  {
   "cell_type": "code",
   "execution_count": 2,
   "metadata": {},
   "outputs": [
    {
     "name": "stdout",
     "output_type": "stream",
     "text": [
      "10\n"
     ]
    }
   ],
   "source": [
    "declare -i b     # define an integer variable b\n",
    "a=5\n",
    "b=$a+5\n",
    "echo $b"
   ]
  },
  {
   "cell_type": "code",
   "execution_count": 4,
   "metadata": {
    "slideshow": {
     "slide_type": "fragment"
    }
   },
   "outputs": [
    {
     "name": "stdout",
     "output_type": "stream",
     "text": [
      "0\n"
     ]
    }
   ],
   "source": [
    "b=\"Hallo\"\n",
    "echo $b"
   ]
  },
  {
   "cell_type": "markdown",
   "metadata": {
    "slideshow": {
     "slide_type": "subslide"
    }
   },
   "source": [
    "### Other variable types\n",
    "Read only variables"
   ]
  },
  {
   "cell_type": "code",
   "execution_count": 5,
   "metadata": {},
   "outputs": [],
   "source": [
    "declare -r r=10            # read only"
   ]
  },
  {
   "cell_type": "code",
   "execution_count": 6,
   "metadata": {},
   "outputs": [
    {
     "name": "stdout",
     "output_type": "stream",
     "text": [
      "bash: r: readonly variable\n"
     ]
    },
    {
     "ename": "",
     "evalue": "1",
     "output_type": "error",
     "traceback": []
    }
   ],
   "source": [
    "r = 5"
   ]
  },
  {
   "cell_type": "markdown",
   "metadata": {},
   "source": [
    "Arrays"
   ]
  },
  {
   "cell_type": "code",
   "execution_count": 15,
   "metadata": {
    "collapsed": true
   },
   "outputs": [
    {
     "name": "stdout",
     "output_type": "stream",
     "text": [
      "foo\n",
      "foo bar\n",
      "2\n"
     ]
    }
   ],
   "source": [
    "declare -a array=(\"foo\" \"bar\") # array\n",
    "echo ${array[0]}  # First array value\n",
    "echo ${array[@]}  # All array values\n",
    "echo ${#array[@]}    # Array size"
   ]
  },
  {
   "cell_type": "markdown",
   "metadata": {
    "slideshow": {
     "slide_type": "slide"
    }
   },
   "source": [
    "# Bash programming, part 2\n",
    "\n",
    "<center>\n",
    "<img src=\"figs/bash.png\" style=\"width: 500px;\"/>\n",
    "    </center>"
   ]
  },
  {
   "cell_type": "markdown",
   "metadata": {
    "slideshow": {
     "slide_type": "slide"
    }
   },
   "source": [
    "# Combining bash commands\n",
    "\n",
    "Core concepts of UNIX:\n",
    "\n",
    "* The power of Unix lies in combining simple commands into powerful operations.\n",
    "* Standard bash commands and UNIX applications normally do one simple task (but very well).\n",
    "* Text is used for input and output - easy to send output from one command as input to another."
   ]
  },
  {
   "cell_type": "markdown",
   "metadata": {
    "slideshow": {
     "slide_type": "subslide"
    }
   },
   "source": [
    "### Problem: Write a script that prints today's weather forecast in Oslo"
   ]
  },
  {
   "cell_type": "code",
   "execution_count": 3,
   "metadata": {},
   "outputs": [
    {
     "name": "stdout",
     "output_type": "stream",
     "text": [
      " _______________________________________\n",
      "/ Temperature: 18°. Feels like 18°. For \\\n",
      "\\ the period: 19:00                     /\n",
      " ---------------------------------------\n",
      "        \\   ^__^\n",
      "         \\  (oo)\\_______\n",
      "            (__)\\       )\\/\\\n",
      "                ||----w |\n",
      "                ||     ||\n"
     ]
    }
   ],
   "source": [
    "curl -s https://www.yr.no/place/Norway/Oslo/Oslo/Oslo/ | \\\n",
    "grep \"temperature\" | \\\n",
    "head -n 1 | \\\n",
    "cut -d\"\\\"\" -f4 | \\\n",
    "cowsay"
   ]
  },
  {
   "cell_type": "markdown",
   "metadata": {
    "slideshow": {
     "slide_type": "subslide"
    }
   },
   "source": [
    "## The in-/outputs of a bash process: `STDIN`, `STDOUT` and `STDERR`"
   ]
  },
  {
   "cell_type": "markdown",
   "metadata": {},
   "source": [
    "Unix processes uses the following three standard streams as preconnected input and output communication channels:\n",
    "\n",
    "<center>\n",
    "<!--<img src=\"figs/bash_process_codes.jpg\" style=\"width: 500px;\"/>-->\n",
    "<img src=\"https://upload.wikimedia.org/wikipedia/commons/thumb/7/70/Stdstreams-notitle.svg/646px-Stdstreams-notitle.svg.png\" style=\"width: 500px;\"/>\n",
    "</center>\n",
    "\n",
    "* user input is passed to the standard input `STDIN` stream\n",
    "* normal information is passed to the standard output `STDOUT` stream\n",
    "* error information is passed to the standard error `STDERR` stream."
   ]
  },
  {
   "cell_type": "markdown",
   "metadata": {
    "slideshow": {
     "slide_type": "subslide"
    }
   },
   "source": [
    "## Combining bash commands: Pipes\n",
    "\n",
    "<center>\n",
    "<img src=\"https://upload.wikimedia.org/wikipedia/commons/thumb/f/f6/Pipeline.svg/560px-Pipeline.svg.png\n",
    "\" style=\"width: 500px;\"/>\n",
    "</center>\n",
    "\n",
    "The bash pipe `|` connects `STDOUT` of one command to `STDIN` of another. "
   ]
  },
  {
   "cell_type": "markdown",
   "metadata": {
    "slideshow": {
     "slide_type": "subslide"
    }
   },
   "source": [
    "### Examples\n",
    "\n",
    "List all Jupyter Notebook files in a directory tree:"
   ]
  },
  {
   "cell_type": "code",
   "execution_count": 8,
   "metadata": {
    "collapsed": true,
    "slideshow": {
     "slide_type": "-"
    }
   },
   "outputs": [
    {
     "name": "stdout",
     "output_type": "stream",
     "text": [
      "../Peer-review information\u001b[01;31m\u001b[K.ipynb\u001b[m\u001b[K\n",
      "About the course\u001b[01;31m\u001b[K.ipynb\u001b[m\u001b[K\n",
      "Introduction to git\u001b[01;31m\u001b[K.ipynb\u001b[m\u001b[K\n",
      "Scripting vs regular programming\u001b[01;31m\u001b[K.ipynb\u001b[m\u001b[K\n",
      "Bash programming\u001b[01;31m\u001b[K.ipynb\u001b[m\u001b[K\n",
      "Untitled\u001b[01;31m\u001b[K.ipynb\u001b[m\u001b[K\n",
      "03_python_summary\u001b[01;31m\u001b[K.ipynb\u001b[m\u001b[K\n",
      "03_python_summary-short\u001b[01;31m\u001b[K.ipynb\u001b[m\u001b[K\n",
      "03_python_summary-subclasses\u001b[01;31m\u001b[K.ipynb\u001b[m\u001b[K\n",
      "04_python_summary2\u001b[01;31m\u001b[K.ipynb\u001b[m\u001b[K\n",
      "Error handling in Python\u001b[01;31m\u001b[K.ipynb\u001b[m\u001b[K\n",
      "Essentials for better Python programming\u001b[01;31m\u001b[K.ipynb\u001b[m\u001b[K\n",
      "How to structure your program\u001b[01;31m\u001b[K.ipynb\u001b[m\u001b[K\n",
      "Testing\u001b[01;31m\u001b[K.ipynb\u001b[m\u001b[K\n",
      "05_numerical_python\u001b[01;31m\u001b[K.ipynb\u001b[m\u001b[K\n",
      "cython_from_crash_course\u001b[01;31m\u001b[K.ipynb\u001b[m\u001b[K\n",
      "mixed_programming_cython\u001b[01;31m\u001b[K.ipynb\u001b[m\u001b[K\n",
      "mixed_programming_introduction\u001b[01;31m\u001b[K.ipynb\u001b[m\u001b[K\n",
      "Numba\u001b[01;31m\u001b[K.ipynb\u001b[m\u001b[K\n",
      "python_profiling\u001b[01;31m\u001b[K.ipynb\u001b[m\u001b[K\n",
      "introduction_to_c\u001b[01;31m\u001b[K.ipynb\u001b[m\u001b[K\n",
      "mixed_programming_ctypes_instant\u001b[01;31m\u001b[K.ipynb\u001b[m\u001b[K\n",
      "mixed_programming_swig\u001b[01;31m\u001b[K.ipynb\u001b[m\u001b[K\n",
      "mixed_programming_swig_numpy\u001b[01;31m\u001b[K.ipynb\u001b[m\u001b[K\n",
      "Introduction to Flask\u001b[01;31m\u001b[K.ipynb\u001b[m\u001b[K\n",
      "Introduction to HTML - Forms\u001b[01;31m\u001b[K.ipynb\u001b[m\u001b[K\n",
      "Introduction to HTML\u001b[01;31m\u001b[K.ipynb\u001b[m\u001b[K\n",
      "monty-hall-game\u001b[01;31m\u001b[K.ipynb\u001b[m\u001b[K\n",
      "Decorators in Python\u001b[01;31m\u001b[K.ipynb\u001b[m\u001b[K\n",
      "Error handling in Python\u001b[01;31m\u001b[K.ipynb\u001b[m\u001b[K\n",
      "From Script to Project\u001b[01;31m\u001b[K.ipynb\u001b[m\u001b[K\n",
      "Pandas\u001b[01;31m\u001b[K.ipynb\u001b[m\u001b[K\n",
      "scikit-learn-1\u001b[01;31m\u001b[K.ipynb\u001b[m\u001b[K\n",
      "scikit-learn-1-presentation\u001b[01;31m\u001b[K.ipynb\u001b[m\u001b[K\n",
      "scikit-learn-2\u001b[01;31m\u001b[K.ipynb\u001b[m\u001b[K\n",
      "Best practices\u001b[01;31m\u001b[K.ipynb\u001b[m\u001b[K\n",
      "Peer review assignment 5\u001b[01;31m\u001b[K.ipynb\u001b[m\u001b[K\n",
      "bash_rc_alias\u001b[01;31m\u001b[K.ipynb\u001b[m\u001b[K\n",
      "Builtin Superheroes\u001b[01;31m\u001b[K.ipynb\u001b[m\u001b[K\n",
      "git_branches\u001b[01;31m\u001b[K.ipynb\u001b[m\u001b[K\n",
      "git_gui\u001b[01;31m\u001b[K.ipynb\u001b[m\u001b[K\n",
      "gitignore\u001b[01;31m\u001b[K.ipynb\u001b[m\u001b[K\n",
      "git_ssh_keys\u001b[01;31m\u001b[K.ipynb\u001b[m\u001b[K\n",
      "ipython_embed\u001b[01;31m\u001b[K.ipynb\u001b[m\u001b[K\n",
      "prettier_git\u001b[01;31m\u001b[K.ipynb\u001b[m\u001b[K\n",
      "ssh_keys\u001b[01;31m\u001b[K.ipynb\u001b[m\u001b[K\n"
     ]
    }
   ],
   "source": [
    "ls ../* | grep \".ipynb\""
   ]
  },
  {
   "cell_type": "markdown",
   "metadata": {
    "slideshow": {
     "slide_type": "-"
    }
   },
   "source": [
    "<font color='red'>⚠️ </font> `ls` lists the files in a directory.<br>\n",
    "<font color='red'>⚠️ </font> `grep` filters lines that contain a string"
   ]
  },
  {
   "cell_type": "markdown",
   "metadata": {
    "slideshow": {
     "slide_type": "subslide"
    }
   },
   "source": [
    "### Examples "
   ]
  },
  {
   "cell_type": "markdown",
   "metadata": {
    "slideshow": {
     "slide_type": "-"
    }
   },
   "source": [
    "Show options about case-sensitivity in the manual page of `grep`:"
   ]
  },
  {
   "cell_type": "code",
   "execution_count": 13,
   "metadata": {
    "slideshow": {
     "slide_type": "-"
    }
   },
   "outputs": [
    {
     "name": "stdout",
     "output_type": "stream",
     "text": [
      "       -i, --ignore-\u001b[01;31m\u001b[Kcase\u001b[m\u001b[K\n",
      "              Ignore  \u001b[01;31m\u001b[Kcase\u001b[m\u001b[K  distinctions  in  patterns and input data, so that\n",
      "              characters that differ only in \u001b[01;31m\u001b[Kcase\u001b[m\u001b[K match each other.\n",
      "       --no-ignore-\u001b[01;31m\u001b[Kcase\u001b[m\u001b[K\n",
      "              Do not ignore \u001b[01;31m\u001b[Kcase\u001b[m\u001b[K distinctions  in  patterns  and  input  data.\n"
     ]
    }
   ],
   "source": [
    "man grep  | grep \"case\""
   ]
  },
  {
   "cell_type": "markdown",
   "metadata": {
    "slideshow": {
     "slide_type": "-"
    }
   },
   "source": [
    "<font color='red'>⚠️ </font> `man` shows the manual of a UNIX/bash command"
   ]
  },
  {
   "cell_type": "markdown",
   "metadata": {
    "slideshow": {
     "slide_type": "subslide"
    }
   },
   "source": [
    "## Redirecting streams to files"
   ]
  },
  {
   "cell_type": "markdown",
   "metadata": {
    "slideshow": {
     "slide_type": "subslide"
    }
   },
   "source": [
    "## `STDOUT` to file\n",
    "\n",
    "Bash redirects `>` pass `STDOUT` to a file:\n",
    "\n",
    "```bash\n",
    "./myscript.sh > myfile.txt   \n",
    "```\n",
    "same as above, but appends output to an existing file\n",
    "```bash\n",
    "./myscript.sh >> myfile.txt   \n",
    "```"
   ]
  },
  {
   "cell_type": "markdown",
   "metadata": {
    "slideshow": {
     "slide_type": "subslide"
    }
   },
   "source": [
    "## File to `STDIN`\n",
    "Use the `<` redirect to send a file to `STDIN`:\n",
    "\n",
    "```bash\n",
    "wc -w < thesis.txt # Count the number of words and print to STDOUT \n",
    "wc -w < thesis.txt > word_stat.txt # Same as above, but save STDOUT output to file\n",
    "```\n",
    "\n",
    "\n",
    "<font color='red'>⚠️ </font> `wc` prints newline, word, and byte counts for a file "
   ]
  },
  {
   "cell_type": "markdown",
   "metadata": {
    "slideshow": {
     "slide_type": "subslide"
    }
   },
   "source": [
    "## Specifying which stream to redirect"
   ]
  },
  {
   "cell_type": "markdown",
   "metadata": {},
   "source": [
    "You can specify which stream to redirect. \n",
    "\n",
    "**Syntax**: `[STREAM]>`. Valid values for `STREAM` is `1` for stdin, `2` for stderr and `&` for both.\n",
    "\n",
    "**Example**:"
   ]
  },
  {
   "cell_type": "markdown",
   "metadata": {},
   "source": [
    "```bash\n",
    "./compile_model.sh                 # stdout and stderr are displayed on the terminal\n",
    "./compile_model.sh 1> out.txt      # Redirect stout to file, same as >\n",
    "./compile_model.sh 2> err.txt      # Redirect stderr to file\n",
    "./compile_model.sh &> outerr.txt   # Redirect stdout and stderr to file\n",
    "```"
   ]
  },
  {
   "cell_type": "markdown",
   "metadata": {
    "slideshow": {
     "slide_type": "slide"
    }
   },
   "source": [
    "# Flow control and command line arguments"
   ]
  },
  {
   "cell_type": "markdown",
   "metadata": {
    "slideshow": {
     "slide_type": "subslide"
    }
   },
   "source": [
    "## Comparisons and if statements\n",
    "\n",
    "A simple `if` statement with **string comparison**:"
   ]
  },
  {
   "cell_type": "markdown",
   "metadata": {},
   "source": [
    "```bash\n",
    "if [ \"$name\" == \"øyvind\" ]; then  \n",
    "    echo \"Du heter øyvind\"\n",
    "fi \n",
    "```\n",
    "**Note**: You **must** have spaces after `[` and before `]`. "
   ]
  },
  {
   "cell_type": "markdown",
   "metadata": {
    "slideshow": {
     "slide_type": "subslide"
    }
   },
   "source": [
    "### `if` statement with integer comparison:\n",
    "\n",
    "```bash\n",
    "if [ $variable -eq 10 ]; then \n",
    "    echo \"The variable is 10\"\n",
    "fi \n",
    "```\n",
    "\n"
   ]
  },
  {
   "cell_type": "markdown",
   "metadata": {
    "slideshow": {
     "slide_type": "fragment"
    }
   },
   "source": [
    "**Important**: Unless you have declared a variable to be an integer, assume that all variables are strings and use double quotes (strings) when comparing variables:\n",
    "\n",
    "\n",
    "```bash\n",
    "if [ \"$?\" != \"0\" ]; then  # this is safe\n",
    "```\n",
    "\n",
    "```bash\n",
    "if [  $?  !=  0  ]; then  # might be unsafe\n",
    "```"
   ]
  },
  {
   "cell_type": "markdown",
   "metadata": {
    "slideshow": {
     "slide_type": "subslide"
    }
   },
   "source": [
    "## Command line arguments\n",
    "\n",
    "It is common to pass command line arguments when running a script:\n",
    "\n",
    "\n",
    "```bash\n",
    "ls -l -h\n",
    "```\n",
    "\n",
    "Bash provides the special (array) variable `$` for accessing these arguments:\n",
    "\n",
    "* `$0` contains the script name, here `ls`\n",
    "* `$1` contains `-l`\n",
    "* `$2` contains `-h`\n",
    "* ...\n",
    "\n",
    "In addition, you can use:\n",
    "* `$@` to access all command line arguments as array\n",
    "* `$#` to get the number of arguments\n"
   ]
  },
  {
   "cell_type": "markdown",
   "metadata": {
    "slideshow": {
     "slide_type": "subslide"
    }
   },
   "source": [
    "## For-loops\n",
    "\n",
    "\n",
    "What if we want to run the application for multiple input files?"
   ]
  },
  {
   "cell_type": "markdown",
   "metadata": {},
   "source": [
    "```bash\n",
    "./run.sh test1.i test2.i test3.i test4.i\n",
    "```\n",
    "or\n",
    "```bash\n",
    "./run.sh *.i\n",
    "```"
   ]
  },
  {
   "cell_type": "markdown",
   "metadata": {
    "slideshow": {
     "slide_type": "subslide"
    }
   },
   "source": [
    "A for-loop over command line arguments"
   ]
  },
  {
   "cell_type": "markdown",
   "metadata": {},
   "source": [
    "```bash\n",
    "for arg in $@; do\n",
    "  simulation_app < $arg\n",
    "done\n",
    "```"
   ]
  },
  {
   "cell_type": "markdown",
   "metadata": {},
   "source": [
    "Can be combined with more advanced command line options, output\n",
    "  directories, etc..."
   ]
  },
  {
   "cell_type": "markdown",
   "metadata": {
    "slideshow": {
     "slide_type": "subslide"
    }
   },
   "source": [
    "## For-loops (2)\n",
    "\n",
    "\n",
    "For loops for file management:"
   ]
  },
  {
   "cell_type": "markdown",
   "metadata": {},
   "source": [
    "```bash\n",
    "files=$(ls *.tmp) \n",
    "\n",
    "for file in $files\n",
    "do\n",
    "  echo removing $file\n",
    "  rm -f $file\n",
    "done\n",
    "```"
   ]
  },
  {
   "cell_type": "markdown",
   "metadata": {
    "slideshow": {
     "slide_type": "subslide"
    }
   },
   "source": [
    "## Counters\n",
    "\n",
    "\n",
    "Declare an integer counter:"
   ]
  },
  {
   "cell_type": "code",
   "execution_count": 14,
   "metadata": {},
   "outputs": [],
   "source": [
    "declare -i counter\n",
    "counter=0\n",
    "# arithmetic expressions must appear inside (( ))"
   ]
  },
  {
   "cell_type": "code",
   "execution_count": 15,
   "metadata": {},
   "outputs": [
    {
     "name": "stdout",
     "output_type": "stream",
     "text": [
      "1\n"
     ]
    }
   ],
   "source": [
    "((counter++))\n",
    "echo $counter  # yields 1"
   ]
  },
  {
   "cell_type": "markdown",
   "metadata": {},
   "source": [
    "For-loop with counter:"
   ]
  },
  {
   "cell_type": "markdown",
   "metadata": {},
   "source": [
    "```bash\n",
    "declare -i n; n=1\n",
    "for arg in $@; do\n",
    "  echo \"command-line argument no. $n is <$arg>\"\n",
    "  ((n++))\n",
    "done\n",
    "```"
   ]
  },
  {
   "cell_type": "markdown",
   "metadata": {
    "slideshow": {
     "slide_type": "subslide"
    }
   },
   "source": [
    "## Example: the classical Unix script\n",
    "A combination of commands, or a single long command, that you use often:"
   ]
  },
  {
   "cell_type": "markdown",
   "metadata": {},
   "source": [
    "```bash\n",
    "./pulse_app -cmt WinslowRice -casename ellipsoid < ellipsoid.i | tee main_output\n",
    "```"
   ]
  },
  {
   "cell_type": "markdown",
   "metadata": {},
   "source": [
    "In this case, flexibility is often not a high priority. \n",
    "\n",
    "However, there\n",
    "is room for improvement;\n",
    "\n",
    "1. Not possible to change command line options, input and output files\n",
    "2. Output file `main_output` is overwritten for each run\n",
    "3. Can we edit the input file for each run?"
   ]
  },
  {
   "cell_type": "markdown",
   "metadata": {
    "slideshow": {
     "slide_type": "subslide"
    }
   },
   "source": [
    "## Problem 1: changing command line options\n",
    "In many cases only one parameter is changed frequently:"
   ]
  },
  {
   "cell_type": "markdown",
   "metadata": {},
   "source": [
    "```bash\n",
    "CASE='testbox'\n",
    "CMT='WinslowRice'\n",
    "if [ $# -gt 0 ]; then\n",
    "   CMT=$1\n",
    "fi\n",
    "INFILE='ellipsoid_test.i'\n",
    "OUTFILE='main_output'\n",
    "\n",
    "./pulse_app -cmt $CMT -cname $CASE < $INFILE | tee $OUTFILE\n",
    "```"
   ]
  },
  {
   "cell_type": "markdown",
   "metadata": {},
   "source": [
    "Still not very flexible, but in many cases sufficient. More\n",
    "flexibility requires more advanced parsing of command line options,\n",
    "which will be introduced later."
   ]
  },
  {
   "cell_type": "markdown",
   "metadata": {
    "slideshow": {
     "slide_type": "subslide"
    }
   },
   "source": [
    "## Problem 2: overwriting output file\n",
    "\n",
    "\n",
    "A simple solution is to add the output file as a command line\n",
    "  option, but what if we forget to change this from one run to the\n",
    "  next?\n",
    "\n",
    "Simple solution to ensure data is never over-written:"
   ]
  },
  {
   "cell_type": "markdown",
   "metadata": {},
   "source": [
    "```bash\n",
    "jobdir=$PWD/$(date)\n",
    "mkdir $jobdir\n",
    "cd $jobdir\n",
    "\n",
    "./pulse_app -cmt $CMT -cname $CASE  < $INFILE | tee $OUTFILE\n",
    "cd ..\n",
    "if [ -L 'latest' ]; then\n",
    "    rm latest\n",
    "fi\n",
    "ln -s $jobdir latest\n",
    "```"
   ]
  },
  {
   "cell_type": "markdown",
   "metadata": {},
   "source": [
    "<font color='red'>⚠️ </font> New commands:\n",
    "* **mkdir** creates a directory\n",
    "* **-L FILE** checks if `FILE` exists and is a symbolic link (you can use **f file** to check if **file** exists and is a regular file\n",
    "* **ln** creates a links to files."
   ]
  },
  {
   "cell_type": "markdown",
   "metadata": {
    "slideshow": {
     "slide_type": "subslide"
    }
   },
   "source": [
    "## Problem 2: overwriting output file (2)\n",
    "Alternative solutions for creating a unique path:\n",
    "\n",
    "1. Use process ID of the script (`$$`, not really unique)\n",
    "\n",
    "2. <font color='red'>⚠️ </font> `mktemp` can create a temporary file with a unique name, for\n",
    "  use by the script\n",
    "\n",
    "3. Check if subdirectory exists, exit script if it does:"
   ]
  },
  {
   "cell_type": "markdown",
   "metadata": {},
   "source": [
    "```bash\n",
    "dir=$case\n",
    "# check if $dir is a directory:\n",
    "if [ -d $dir ]\n",
    "then\n",
    "  # exit script to avoid overwriting data\n",
    "  echo \"Output directory exists, provide a different name\"\n",
    "  exit\n",
    "fi\n",
    "mkdir $dir   # create new directory $dir\n",
    "cd $dir      # move to $dir\n",
    "```"
   ]
  },
  {
   "cell_type": "markdown",
   "metadata": {},
   "source": [
    "<font color='red'>⚠️ </font> **-d DIR** checks if a `DIR` is a directory"
   ]
  },
  {
   "cell_type": "markdown",
   "metadata": {
    "slideshow": {
     "slide_type": "subslide"
    }
   },
   "source": [
    "## Problem 3: can we edit the input file at run time?\n",
    "\n",
    "**Problem:** Some applications do not take command line options, all input must read from standard input or an input file\n",
    "\n",
    "A Bash script can be used to equip such programs with basic handling of command line options\n",
    "\n",
    "**Idea**: We want to grab input from the command line, create the correct input file, and run the application"
   ]
  },
  {
   "cell_type": "markdown",
   "metadata": {
    "slideshow": {
     "slide_type": "subslide"
    }
   },
   "source": [
    "## File reading and writing\n",
    "\n",
    "\n",
    "File writing is efficiently done by 'on-the-fly documents':"
   ]
  },
  {
   "cell_type": "markdown",
   "metadata": {},
   "source": [
    "```bash\n",
    "cat <<EOF\n",
    "multi-line text\n",
    "can now be inserted here,\n",
    "and variable substition such as\n",
    "$myvariable is\n",
    "supported.\n",
    "EOF > myfile\n",
    "```"
   ]
  },
  {
   "cell_type": "markdown",
   "metadata": {},
   "source": [
    "The final EOF must\n",
    "start in column 1 of the\n",
    "script file.\n",
    "\n",
    "<font color='red'>⚠️ </font> **cat** prints the content of a file (or `STDIN`) to `STDOUT`."
   ]
  },
  {
   "cell_type": "markdown",
   "metadata": {
    "slideshow": {
     "slide_type": "subslide"
    }
   },
   "source": [
    "## Parsing command-line options"
   ]
  },
  {
   "cell_type": "markdown",
   "metadata": {},
   "source": [
    "```bash\n",
    "# We want to support arguments of the form \"-m 2 -b 1.5\"\n",
    "\n",
    "# read variables from the command line, one by one:\n",
    "while [ $# -gt 0 ]\n",
    "do\n",
    "    option=$1; # load command-line arg into option\n",
    "    shift;     # eat currently first command-line arg\n",
    "    case \"$option\" in\n",
    "        -m)\n",
    "            m=$1; shift; ;;  # ;; indicates end of case\n",
    "        -b)\n",
    "            b=$1; shift; ;;\n",
    "        *)\n",
    "            echo \"$0: invalid option \\\"$option\\\"\"; exit ;;\n",
    "    esac\n",
    "done\n",
    "\n",
    "echo \"Command line arguments:\"\n",
    "[ -n \"$m\" ] && echo \"m=$m\"\n",
    "[ -n \"$b\" ] && echo \"b=$b\"\n",
    "```\n",
    "\n",
    "<font color='red'>⚠️ </font> **shift** easts the current first command line argument."
   ]
  },
  {
   "cell_type": "markdown",
   "metadata": {
    "slideshow": {
     "slide_type": "subslide"
    }
   },
   "source": [
    "## Alternative to case: if\n",
    "\n",
    "`case` is standard when parsing command-line arguments in Bash, but if-tests can also be used. Consider"
   ]
  },
  {
   "cell_type": "markdown",
   "metadata": {},
   "source": [
    "```bash\n",
    "if [ \"$option\" == \"-m\" ]; then\n",
    "    m=$1; shift;  \n",
    "elif [ \"$option\" == \"-b\" ]; then\n",
    "    b=$1; shift;\n",
    "else\n",
    "    exit;\n",
    "fi\n",
    "```"
   ]
  },
  {
   "cell_type": "markdown",
   "metadata": {
    "slideshow": {
     "slide_type": "subslide"
    }
   },
   "source": [
    "## After assigning variables, we can write the input file"
   ]
  },
  {
   "cell_type": "markdown",
   "metadata": {},
   "source": [
    "Write to `$infile` the lines that appear between the EOF symbols:\n",
    "\n",
    "```bash\n",
    "cat > $infile <<EOF\n",
    "        gridfile='test2.grid'\n",
    "        param_m=$m\n",
    "        param_b=$b\n",
    "EOF\n",
    "```"
   ]
  },
  {
   "cell_type": "markdown",
   "metadata": {
    "slideshow": {
     "slide_type": "subslide"
    }
   },
   "source": [
    "## Then execute the program as usual\n",
    "\n",
    "\n",
    "Redirecting input to read from the new input file"
   ]
  },
  {
   "cell_type": "markdown",
   "metadata": {},
   "source": [
    "```bash\n",
    "../pulse_app < $infile\n",
    "```"
   ]
  },
  {
   "cell_type": "markdown",
   "metadata": {
    "slideshow": {
     "slide_type": "subslide"
    }
   },
   "source": [
    "## Print an error if someting goes wrong\n",
    "\n",
    "We can add a check for successful execution.\n",
    "The shell variable `$?` is 0 if last command\n",
    "was successful, otherwise `$? != 0`."
   ]
  },
  {
   "cell_type": "markdown",
   "metadata": {},
   "source": [
    "```bash\n",
    "if [ \"$?\" != \"0\" ]; then\n",
    "  echo \"running pulse_app failed\"; exit 1\n",
    "fi\n",
    "```\n",
    "\n",
    "\n",
    "<font color='red'>⚠️ </font> **exit n** sets $? to n and exits the script"
   ]
  },
  {
   "cell_type": "markdown",
   "metadata": {
    "slideshow": {
     "slide_type": "subslide"
    }
   },
   "source": [
    "## Example: bundle files\n",
    "\n",
    "\n",
    "Pack a series of files into one file\n",
    "\n",
    "Executing this single file as a Bash script packs out all the individual files again\n",
    "\n",
    "Usage:"
   ]
  },
  {
   "cell_type": "markdown",
   "metadata": {},
   "source": [
    "```bash\n",
    "bundle file1 file2 file3 > onefile  # pack\n",
    "bash onefile # unpack\n",
    "```"
   ]
  },
  {
   "cell_type": "markdown",
   "metadata": {},
   "source": [
    "Writing `bundle` is easy:"
   ]
  },
  {
   "cell_type": "markdown",
   "metadata": {},
   "source": [
    "```bash\n",
    "#/bin/sh\n",
    "for i in $@; do\n",
    "    echo \"echo unpacking file $i\"\n",
    "    echo \"cat > $i <<EOF\"\n",
    "    cat $i\n",
    "    echo \"EOF\"\n",
    "done\n",
    "```"
   ]
  },
  {
   "cell_type": "markdown",
   "metadata": {
    "slideshow": {
     "slide_type": "subslide"
    }
   },
   "source": [
    "## The bundle output file\n",
    "\n",
    "\n",
    "Consider 2 fake files: `file1`:"
   ]
  },
  {
   "cell_type": "markdown",
   "metadata": {},
   "source": [
    "```bash\n",
    "Hello, World!\n",
    "No sine computations today\n",
    "```"
   ]
  },
  {
   "cell_type": "markdown",
   "metadata": {},
   "source": [
    "and `file2`:"
   ]
  },
  {
   "cell_type": "markdown",
   "metadata": {},
   "source": [
    "```bash\n",
    "1.0 2.0 4.0\n",
    "0.1 0.2 0.4\n",
    "```"
   ]
  },
  {
   "cell_type": "markdown",
   "metadata": {},
   "source": [
    "Running `bundle file1 file2` yields the output"
   ]
  },
  {
   "cell_type": "markdown",
   "metadata": {},
   "source": [
    "```bash\n",
    "echo unpacking file file1\n",
    "cat > file1 <<EOF\n",
    "Hello, World!\n",
    "No sine computations today\n",
    "EOF\n",
    "echo unpacking file file2\n",
    "cat > file2 <<EOF\n",
    "1.0 2.0 4.0\n",
    "0.1 0.2 0.4\n",
    "EOF\n",
    "```"
   ]
  },
  {
   "cell_type": "markdown",
   "metadata": {
    "slideshow": {
     "slide_type": "fragment"
    }
   },
   "source": [
    "**Note**: In the terminal, you can send a foreground job into the background by pressing `Ctrl-Z` followed by the `bg` command, and retrieve it again with `fg`."
   ]
  },
  {
   "cell_type": "markdown",
   "metadata": {
    "slideshow": {
     "slide_type": "subslide"
    }
   },
   "source": [
    "## Functions"
   ]
  },
  {
   "cell_type": "markdown",
   "metadata": {},
   "source": [
    "```bash\n",
    "function system {\n",
    "# Run operating system command and if failure, report and abort\n",
    "\n",
    "  \"$@\"\n",
    "  if [ $? -ne 0 ]; then\n",
    "    echo \"make.sh: unsuccessful command $@\"\n",
    "    echo \"abort!\"\n",
    "    exit 1\n",
    "  fi\n",
    "}\n",
    "# function arguments: $1 $2 $3 and so on\n",
    "\n",
    "# call:\n",
    "system pdflatex mydoc.tex\n",
    "system bibtex mydoc\n",
    "```"
   ]
  },
  {
   "cell_type": "markdown",
   "metadata": {},
   "source": [
    "How to return a value from a function? Define a new variable within the function - all functions are global!"
   ]
  },
  {
   "cell_type": "markdown",
   "metadata": {
    "slideshow": {
     "slide_type": "subslide"
    }
   },
   "source": [
    "## File globbing, for loop on the command line\n",
    "\n",
    "\n",
    "List all .ps and .gif files using wildcard notation:"
   ]
  },
  {
   "cell_type": "markdown",
   "metadata": {},
   "source": [
    "```bash\n",
    "files=`ls *.ps *.gif`\n",
    "\n",
    "# compress and move the files:\n",
    "gzip $files\n",
    "for file in $files; do\n",
    "  mv ${file}.gz $HOME/images\n",
    "```\n",
    "\n",
    "\n",
    "\n",
    "<font color='red'>⚠️ </font> **gzip** compresses a file,\n",
    "**mv** moves a file, **$HOME** is a string with the path to your home directory."
   ]
  },
  {
   "cell_type": "markdown",
   "metadata": {
    "slideshow": {
     "slide_type": "subslide"
    }
   },
   "source": [
    "## The find command\n",
    "\n",
    "Very useful command!\n",
    "\n",
    "\n",
    "<font color='red'>⚠️ </font> `find` visits all files in a directory tree and can execute one or more commands for every file\n",
    "\n",
    "Basic example: find the `oscillator` codes"
   ]
  },
  {
   "cell_type": "markdown",
   "metadata": {},
   "source": [
    "```bash\n",
    "find $scripting/src -name 'oscillator*' -print\n",
    "```"
   ]
  },
  {
   "cell_type": "markdown",
   "metadata": {},
   "source": [
    "Or find all log and PDF files"
   ]
  },
  {
   "cell_type": "markdown",
   "metadata": {},
   "source": [
    "```bash\n",
    "find $HOME \\( -name '*.log' -o -name '*.pdf' \\) -print\n",
    "```"
   ]
  },
  {
   "cell_type": "markdown",
   "metadata": {},
   "source": [
    "We can also run a command for each file:"
   ]
  },
  {
   "cell_type": "markdown",
   "metadata": {},
   "source": [
    "```bash\n",
    "find rootdir -name filenamespec -exec command {} \\; -print\n",
    "# {} is the current filename\n",
    "```"
   ]
  },
  {
   "cell_type": "markdown",
   "metadata": {
    "slideshow": {
     "slide_type": "subslide"
    }
   },
   "source": [
    "## Applications of find (1)\n",
    "\n",
    "\n",
    "Find all files larger than 2000 blocks a 512 bytes (=1Mb):"
   ]
  },
  {
   "cell_type": "markdown",
   "metadata": {},
   "source": [
    "```bash\n",
    "find $HOME -name '*' -type f -size +2000 -exec ls -s {} \\;\n",
    "```"
   ]
  },
  {
   "cell_type": "markdown",
   "metadata": {},
   "source": [
    "Remove all these files:"
   ]
  },
  {
   "cell_type": "markdown",
   "metadata": {},
   "source": [
    "```bash\n",
    "find $HOME -name '*' -type f -size +2000 \\\n",
    "           -exec ls -s {} \\; -exec rm -f {} \\;\n",
    "```"
   ]
  },
  {
   "cell_type": "markdown",
   "metadata": {},
   "source": [
    "or ask the user for permission to remove:"
   ]
  },
  {
   "cell_type": "markdown",
   "metadata": {},
   "source": [
    "```bash\n",
    "find $HOME -name '*' -type f -size +2000 \\\n",
    "           -exec ls -s {} \\; -ok rm -f {} \\;\n",
    "```"
   ]
  },
  {
   "cell_type": "markdown",
   "metadata": {
    "slideshow": {
     "slide_type": "subslide"
    }
   },
   "source": [
    "## Applications of find (2)\n",
    "\n",
    "\n",
    "Find all files not being accessed for the last 90 days:"
   ]
  },
  {
   "cell_type": "markdown",
   "metadata": {},
   "source": [
    "```bash\n",
    "find $HOME -name '*' -atime +90 -print\n",
    "```"
   ]
  },
  {
   "cell_type": "markdown",
   "metadata": {},
   "source": [
    "and move these to /tmp/trash:"
   ]
  },
  {
   "cell_type": "markdown",
   "metadata": {},
   "source": [
    "```bash\n",
    "find $HOME -name '*' -atime +90 -print \\\n",
    "           -exec mv -f {} /tmp/trash \\;\n",
    "```"
   ]
  },
  {
   "cell_type": "markdown",
   "metadata": {
    "slideshow": {
     "slide_type": "subslide"
    }
   },
   "source": [
    "## Tar and gzip\n",
    "\n",
    "\n",
    "<font color='red'>⚠️ </font> The `tar` command can pack single files or  all files in a directory tree into one file, which can be unpacked later"
   ]
  },
  {
   "cell_type": "markdown",
   "metadata": {},
   "source": [
    "```bash\n",
    "tar -cvf myfiles.tar mytree file1 file2\n",
    "\n",
    "# options:\n",
    "# c: pack, v: list name of files, f: pack into file\n",
    "\n",
    "# unpack the mytree tree and the files file1 and file2:\n",
    "tar -xvf myfiles.tar\n",
    "\n",
    "# options:\n",
    "# x: extract (unpack)\n",
    "```"
   ]
  },
  {
   "cell_type": "markdown",
   "metadata": {},
   "source": [
    "The tarfile can be compressed:"
   ]
  },
  {
   "cell_type": "markdown",
   "metadata": {},
   "source": [
    "```bash\n",
    "gzip mytar.tar\n",
    "# result: mytar.tar.gz\n",
    "```"
   ]
  },
  {
   "cell_type": "markdown",
   "metadata": {
    "slideshow": {
     "slide_type": "subslide"
    }
   },
   "source": [
    "## A find/tar/gzip example\n",
    "\n",
    "\n",
    "Pack all PostScript figures:"
   ]
  },
  {
   "cell_type": "markdown",
   "metadata": {},
   "source": [
    "```bash\n",
    "tar -cvf ps.tar `find $HOME -name '*.ps' -print`\n",
    "gzip ps.tar\n",
    "```"
   ]
  },
  {
   "cell_type": "markdown",
   "metadata": {},
   "source": [
    "# That is it for today\n",
    "\n",
    "<center>\n",
    "<img src=\"https://upload.wikimedia.org/wikipedia/commons/thumb/a/a4/Anatomy_of_a_Sunset-2.jpg/2880px-Anatomy_of_a_Sunset-2.jpg\" style=\"width: 500px;\"/>\n",
    "</center>"
   ]
  }
 ],
 "metadata": {
  "celltoolbar": "Slideshow",
  "kernelspec": {
   "display_name": "Python 3",
   "language": "python",
   "name": "python3"
  },
  "language_info": {
   "codemirror_mode": {
    "name": "ipython",
    "version": 3
   },
   "file_extension": ".py",
   "mimetype": "text/x-python",
   "name": "python",
   "nbconvert_exporter": "python",
   "pygments_lexer": "ipython3",
   "version": "3.6.9"
  },
  "livereveal": {
   "scroll": true,
   "start_slideshow_at": "selected",
   "theme": "serif"
  }
 },
 "nbformat": 4,
 "nbformat_minor": 1
}
