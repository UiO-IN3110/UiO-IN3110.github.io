{
 "cells": [
  {
   "cell_type": "markdown",
   "metadata": {
    "slideshow": {
     "slide_type": "slide"
    }
   },
   "source": [
    "## Bash Programming Interactive lecture\n"
   ]
  },
  {
   "cell_type": "markdown",
   "metadata": {
    "slideshow": {
     "slide_type": "subslide"
    }
   },
   "source": [
    "## We recommend using your own choice of text editor\n"
   ]
  },
  {
   "cell_type": "markdown",
   "metadata": {
    "slideshow": {
     "slide_type": "fragment"
    }
   },
   "source": [
    "<img src=\"figs/editors.png\" style=\"width: 500px;\"/>\n",
    "* Everyone should know how to exit and edit text in vim"
   ]
  },
  {
   "cell_type": "markdown",
   "metadata": {
    "slideshow": {
     "slide_type": "subslide"
    }
   },
   "source": [
    "## Vim basics\n"
   ]
  },
  {
   "cell_type": "markdown",
   "metadata": {
    "slideshow": {
     "slide_type": "fragment"
    }
   },
   "source": [
    "On some supercomputers (e.g. SAGA), vim may be the only option for text editing.\n",
    "* Open vim and a textfile hello_world.sh with $ vim hello_world.sh\n",
    "* To edit text in vim we have to enter INSERT mode by typing \"i\"\n",
    "* The cursor can not be moved with mouse clicks. Use arrows and \"PgUp\", \"End\" etc. \n",
    "* Inside INSERT mode text can be edited as normal\n",
    "* To exit INSERT mode press Esc\n",
    "* To save changes type :w\n",
    "* To exit vim (important!), type :q \n",
    "* Save and exit :wq"
   ]
  },
  {
   "cell_type": "markdown",
   "metadata": {
    "slideshow": {
     "slide_type": "subslide"
    }
   },
   "source": [
    "## Reminder: Combining bash commands: Pipes\n",
    "\n",
    "<center>\n",
    "<img src=\"https://upload.wikimedia.org/wikipedia/commons/thumb/f/f6/Pipeline.svg/560px-Pipeline.svg.png\n",
    "\" style=\"width: 500px;\"/>\n",
    "</center>\n",
    "\n",
    "The bash pipe `|` connects `STDOUT` of one command to `STDIN` of another. "
   ]
  },
  {
   "cell_type": "markdown",
   "metadata": {
    "slideshow": {
     "slide_type": "subslide"
    }
   },
   "source": [
    "## Live programming: Oslo's weather report."
   ]
  },
  {
   "cell_type": "markdown",
   "metadata": {
    "slideshow": {
     "slide_type": "fragment"
    }
   },
   "source": [
    "<font color='red'>⚠️ </font>  Unix commands used here:\n",
    "* **curl**: downloads a website\n",
    "* **grep**: filter lines with a given keyword \n",
    "* **head**: limit the output to the first X lines\n",
    "* **cut**:  select a specific column defined by a deliminter\n",
    "* **cowsay**: let a cow say something\n",
    "\n"
   ]
  },
  {
   "cell_type": "markdown",
   "metadata": {
    "slideshow": {
     "slide_type": "subslide"
    }
   },
   "source": [
    "### Interactive programming\n",
    "\n",
    "Solve the following exercises:\n",
    "\n",
    "1) Implement a weather forcast script that outputs the current weather in Bergen (i suggest using https://pent.no or https://wttr.in/your_location). Feel free to vary the layout and amount of details in the output. \n",
    "\n",
    "2) (Optional) Implement a script that outputs headlines of nrk.no.\n",
    "\n",
    "3) (Optional) Implement a weather forecast script as in 1) using www.yr.no.\n",
    "\n",
    "useful: curl, grep, head, cut, (cowsay)\n",
    "\n",
    "\n",
    "**Time: 15 minutes**\n",
    "\n",
    "\n",
    "\n"
   ]
  },
  {
   "cell_type": "markdown",
   "metadata": {
    "slideshow": {
     "slide_type": "subslide"
    }
   },
   "source": [
    "## More pipe examples"
   ]
  },
  {
   "cell_type": "markdown",
   "metadata": {
    "slideshow": {
     "slide_type": "fragment"
    }
   },
   "source": [
    "* Sort all files in a directory \n",
    "tree, with the largest files appearing first, and\n",
    "equip the output with paging functionality:\n",
    "\n",
    "```bash\n",
    "du -a lectures | sort -rn | less\n",
    "```\n",
    "\n",
    "<font color='red'>⚠️ </font> **du** shows the disk usages of files\n",
    "<br>\n",
    "<font color='red'>⚠️ </font> **sorts** sorts the input\n",
    "<br>\n",
    "<font color='red'>⚠️ </font> **less** paginates the output for easier reading"
   ]
  },
  {
   "cell_type": "markdown",
   "metadata": {
    "slideshow": {
     "slide_type": "subslide"
    }
   },
   "source": [
    "* Save output to disk and display it on the console:\n",
    "\n",
    "```bash\n",
    "./weather.sh | tee weather.log\n",
    "```\n",
    "\n",
    "<font color='red'>⚠️ </font> **tee** writes `STDIN` to `STDOUT` and file\n",
    "<img src=\"figs/tee.png\" style=\"width: 500px;\"/>"
   ]
  },
  {
   "cell_type": "markdown",
   "metadata": {
    "slideshow": {
     "slide_type": "subslide"
    }
   },
   "source": [
    "## Quiz: Can you simplify this code?"
   ]
  },
  {
   "cell_type": "markdown",
   "metadata": {},
   "source": [
    "```bash\n",
    "ls > files.txt ; grep weather < files.txt ; rm files.txt\n",
    "```\n",
    "\n",
    "<font color='red'>⚠️ </font> **CMD1 ; CMD2** executes `CMD2` after `CMD1`."
   ]
  },
  {
   "cell_type": "markdown",
   "metadata": {
    "slideshow": {
     "slide_type": "fragment"
    }
   },
   "source": [
    "The code above implements an (inefficient) pipe. \n",
    "\n",
    "Better:\n",
    "```bash\n",
    "ls | grep weather\n",
    "```"
   ]
  },
  {
   "cell_type": "markdown",
   "metadata": {
    "slideshow": {
     "slide_type": "subslide"
    }
   },
   "source": [
    "## Functions"
   ]
  },
  {
   "cell_type": "markdown",
   "metadata": {},
   "source": [
    "Bash has simple support for functions."
   ]
  },
  {
   "cell_type": "markdown",
   "metadata": {},
   "source": [
    "```bash\n",
    "function geturl {\n",
    "    \n",
    "    # function arguments: $1 $2 $3 and so on\n",
    "    \n",
    "\tif [ $1 == \"Oslo\" ]; then\n",
    "\t\turl=\"https://www.yr.no/place/Norway/Oslo/Oslo/Oslo/\"\n",
    "\tfi\n",
    "}\n",
    "\n",
    "\n",
    "# call:\n",
    "geturl \"Oslo\"\n",
    "echo $url       # Bash functions have no return values, but all variables are global\n",
    "```"
   ]
  },
  {
   "cell_type": "markdown",
   "metadata": {
    "slideshow": {
     "slide_type": "subslide"
    }
   },
   "source": [
    "### Interactive programming\n",
    "\n",
    "\n",
    "Implement a \"geturl\" function that takes a city as input and stores the assoicated weather report url as output. \n",
    "\n",
    "The function should work for Bergen, Oslo and Stavanger. \n",
    "\n",
    "If an invalid city is provided, the function should exit the script and print an error message.\n",
    "\n",
    "Optional: Print out the current weather instead of the link to the website\n",
    " \n",
    "**Time: 10 minutes**\n",
    "\n",
    "\n",
    "\n"
   ]
  },
  {
   "cell_type": "markdown",
   "metadata": {
    "slideshow": {
     "slide_type": "subslide"
    }
   },
   "source": [
    "## Convenient debugging tool: -x\n",
    "\n",
    "\n",
    "Each source code line is printed prior to its execution if you add -x as option to `/bin/sh` or `/bin/bash`\n",
    "\n",
    "Either in the header\n",
    "\n",
    "```bash\n",
    "#!/bin/bash -x\n",
    "```\n",
    "or on the command line:\n",
    "```bash\n",
    "bash -x scripts/weather_functions.sh\n",
    "```\n",
    "\n",
    "**Live example**"
   ]
  },
  {
   "cell_type": "code",
   "execution_count": null,
   "metadata": {},
   "outputs": [],
   "source": [
    "!scripts/weather_functions.sh"
   ]
  },
  {
   "cell_type": "markdown",
   "metadata": {
    "slideshow": {
     "slide_type": "subslide"
    }
   },
   "source": [
    "## Reminder: command line arguments\n",
    "\n",
    "Bash provides the special (array) variable `$` for accessing these arguments:\n",
    "\n",
    "* `$0` contains the script name\n",
    "* `$1` contains the first command line option\n",
    "* `$2` contains the second command line option\n",
    "* ..."
   ]
  },
  {
   "cell_type": "markdown",
   "metadata": {
    "slideshow": {
     "slide_type": "subslide"
    }
   },
   "source": [
    "### Interactive programming\n",
    "\n",
    "\n",
    "1) Extend your weather forecast script so that it takes the city as a command line option: \n",
    "\n",
    "Example usage:\n",
    "```bash\n",
    "weather.sh Oslo   # Prints out Oslo's weather\n",
    "```\n",
    "\n",
    "```bash\n",
    "weather.sh Mars   # Prints out an error message (not a city)\n",
    "```\n",
    "\n",
    "2) (Optional): Print a short usage documentation for the script when no command line options are provided.\n",
    "\n",
    " \n",
    "**Time: 10 minutes**\n",
    "\n",
    "\n",
    "\n"
   ]
  },
  {
   "cell_type": "markdown",
   "metadata": {
    "slideshow": {
     "slide_type": "subslide"
    }
   },
   "source": [
    "### Running an application in the foreground\n",
    "\n",
    "**Syntax**: \n",
    "\n",
    "* `cmd &` executes a program in the background. \n",
    "* Use `wait` to block a script until all background processes are completed.\n",
    "\n",
    "**Example**:\n",
    "```bash\n",
    "myprog -c file.1 -p -f -q < my_input_file &\n",
    "\n",
    "# any commands here will be executed while myprog is still running\n",
    "```\n",
    "\n",
    "**Live demo**:\n",
    "`scripts/background_test.sh`"
   ]
  },
  {
   "cell_type": "markdown",
   "metadata": {
    "slideshow": {
     "slide_type": "subslide"
    }
   },
   "source": [
    "## File globbing, for loop on the command line\n",
    "\n",
    "\n",
    "List all .ps and .gif files using wildcard notation:"
   ]
  },
  {
   "cell_type": "markdown",
   "metadata": {},
   "source": [
    "```bash\n",
    "files=$(ls *.png *.eps)\n",
    "\n",
    "# compress and move the files:\n",
    "gzip $files\n",
    "for file in $files; do\n",
    "  cp ${file}.gz $HOME/Pictures\n",
    "done\n",
    "```\n",
    "\n",
    "\n",
    "\n",
    "<font color='red'>⚠️ </font> **gzip** compresses a file,\n",
    "**cp** copies a file, **$HOME** is a string with the path to your home directory."
   ]
  },
  {
   "cell_type": "markdown",
   "metadata": {
    "slideshow": {
     "slide_type": "subslide"
    }
   },
   "source": [
    "## The find command\n",
    "\n",
    "Very useful command!\n",
    "\n",
    "\n",
    "<font color='red'>⚠️ </font> `find` visits all files in a directory tree and can execute one or more commands for every file\n",
    "\n",
    "Basic example: find the `weather` codes"
   ]
  },
  {
   "cell_type": "markdown",
   "metadata": {},
   "source": [
    "```bash\n",
    "find -name 'weather*'\n",
    "```"
   ]
  },
  {
   "cell_type": "markdown",
   "metadata": {},
   "source": [
    "Or find all log and PDF files"
   ]
  },
  {
   "cell_type": "markdown",
   "metadata": {},
   "source": [
    "```bash\n",
    "find $HOME -name '*.log' -o -name '*.pdf'\n",
    "```"
   ]
  },
  {
   "cell_type": "markdown",
   "metadata": {
    "slideshow": {
     "slide_type": "subslide"
    }
   },
   "source": [
    "# That is it for today\n",
    "\n",
    "<center>\n",
    "<img src=\"https://upload.wikimedia.org/wikipedia/commons/thumb/a/a4/Anatomy_of_a_Sunset-2.jpg/2880px-Anatomy_of_a_Sunset-2.jpg\" style=\"width: 500px;\"/>\n",
    "</center>"
   ]
  },
  {
   "cell_type": "markdown",
   "metadata": {
    "slideshow": {
     "slide_type": "subslide"
    }
   },
   "source": [
    "## Applications of find (1)\n",
    "\n",
    "\n",
    "Find all files larger than 2000 blocks a 512 bytes (=1Mb):"
   ]
  },
  {
   "cell_type": "markdown",
   "metadata": {},
   "source": [
    "```bash\n",
    "find $HOME -name '*' -type f -size +2000 -exec ls -s {} \\;\n",
    "```"
   ]
  },
  {
   "cell_type": "markdown",
   "metadata": {},
   "source": [
    "Remove all these files:"
   ]
  },
  {
   "cell_type": "markdown",
   "metadata": {},
   "source": [
    "```bash\n",
    "find $HOME -name '*' -type f -size +2000 \\\n",
    "           -exec ls -s {} \\; -exec rm -f {} \\;\n",
    "```"
   ]
  },
  {
   "cell_type": "markdown",
   "metadata": {},
   "source": [
    "or ask the user for permission to remove:"
   ]
  },
  {
   "cell_type": "markdown",
   "metadata": {},
   "source": [
    "```bash\n",
    "find $HOME -name '*' -type f -size +2000 \\\n",
    "           -exec ls -s {} \\; -ok rm -f {} \\;\n",
    "```"
   ]
  },
  {
   "cell_type": "markdown",
   "metadata": {},
   "source": [
    "### Backup slides"
   ]
  },
  {
   "cell_type": "markdown",
   "metadata": {
    "slideshow": {
     "slide_type": "subslide"
    }
   },
   "source": [
    "## Redirects and pipes can be combined"
   ]
  },
  {
   "cell_type": "markdown",
   "metadata": {},
   "source": [
    "View `STDOUT` and `STDERR` with paging functionality:\n",
    "\n",
    "```bash   \n",
    "./compile 2>&1 | tee compile.log | less \n",
    "```"
   ]
  },
  {
   "cell_type": "markdown",
   "metadata": {
    "slideshow": {
     "slide_type": "subslide"
    }
   },
   "source": [
    "## Example: bundle files\n",
    "\n",
    "\n",
    "Pack a series of files into one file\n",
    "\n",
    "Executing this single file as a Bash script packs out all the individual files again\n",
    "\n",
    "Usage:"
   ]
  },
  {
   "cell_type": "markdown",
   "metadata": {},
   "source": [
    "```bash\n",
    "bundle file1 file2 file3 > onefile  # pack\n",
    "bash onefile # unpack\n",
    "```"
   ]
  },
  {
   "cell_type": "markdown",
   "metadata": {},
   "source": [
    "Writing `bundle` is easy:"
   ]
  },
  {
   "cell_type": "markdown",
   "metadata": {},
   "source": [
    "```bash\n",
    "#/bin/sh\n",
    "for i in $@; do\n",
    "    echo \"echo unpacking file $i\"\n",
    "    echo \"cat > $i <<EOF\"\n",
    "    cat $i\n",
    "    echo \"EOF\"\n",
    "done\n",
    "```"
   ]
  },
  {
   "cell_type": "markdown",
   "metadata": {
    "slideshow": {
     "slide_type": "subslide"
    }
   },
   "source": [
    "## The bundle output file\n",
    "\n",
    "\n",
    "Consider 2 fake files: `file1`:"
   ]
  },
  {
   "cell_type": "markdown",
   "metadata": {},
   "source": [
    "```bash\n",
    "Hello, World!\n",
    "No sine computations today\n",
    "```"
   ]
  },
  {
   "cell_type": "markdown",
   "metadata": {},
   "source": [
    "and `file2`:"
   ]
  },
  {
   "cell_type": "markdown",
   "metadata": {},
   "source": [
    "```bash\n",
    "1.0 2.0 4.0\n",
    "0.1 0.2 0.4\n",
    "```"
   ]
  },
  {
   "cell_type": "markdown",
   "metadata": {},
   "source": [
    "Running `bundle file1 file2` yields the output"
   ]
  },
  {
   "cell_type": "markdown",
   "metadata": {},
   "source": [
    "```bash\n",
    "echo unpacking file file1\n",
    "cat > file1 <<EOF\n",
    "Hello, World!\n",
    "No sine computations today\n",
    "EOF\n",
    "echo unpacking file file2\n",
    "cat > file2 <<EOF\n",
    "1.0 2.0 4.0\n",
    "0.1 0.2 0.4\n",
    "EOF\n",
    "```"
   ]
  },
  {
   "cell_type": "markdown",
   "metadata": {
    "slideshow": {
     "slide_type": "fragment"
    }
   },
   "source": [
    "**Note**: In the terminal, you can send a foreground job into the background by pressing `Ctrl-Z` followed by the `bg` command, and retrieve it again with `fg`."
   ]
  },
  {
   "cell_type": "markdown",
   "metadata": {},
   "source": [
    "How to return a value from a function? Define a new variable within the function - all functions are global!"
   ]
  },
  {
   "cell_type": "markdown",
   "metadata": {
    "slideshow": {
     "slide_type": "subslide"
    }
   },
   "source": [
    "## Applications of find (2)\n",
    "\n",
    "\n",
    "Find all files not being accessed for the last 90 days:"
   ]
  },
  {
   "cell_type": "markdown",
   "metadata": {},
   "source": [
    "```bash\n",
    "find $HOME -name '*' -atime +90 -print\n",
    "```"
   ]
  },
  {
   "cell_type": "markdown",
   "metadata": {},
   "source": [
    "and move these to /tmp/trash:"
   ]
  },
  {
   "cell_type": "markdown",
   "metadata": {},
   "source": [
    "```bash\n",
    "find $HOME -name '*' -atime +90 -print \\\n",
    "           -exec mv -f {} /tmp/trash \\;\n",
    "```"
   ]
  },
  {
   "cell_type": "markdown",
   "metadata": {
    "slideshow": {
     "slide_type": "subslide"
    }
   },
   "source": [
    "## Tar and gzip\n",
    "\n",
    "\n",
    "<font color='red'>⚠️ </font> The `tar` command can pack single files or  all files in a directory tree into one file, which can be unpacked later"
   ]
  },
  {
   "cell_type": "markdown",
   "metadata": {},
   "source": [
    "```bash\n",
    "tar -cvf myfiles.tar mytree file1 file2\n",
    "\n",
    "# options:\n",
    "# c: pack, v: list name of files, f: pack into file\n",
    "\n",
    "# unpack the mytree tree and the files file1 and file2:\n",
    "tar -xvf myfiles.tar\n",
    "\n",
    "# options:\n",
    "# x: extract (unpack)\n",
    "```"
   ]
  },
  {
   "cell_type": "markdown",
   "metadata": {},
   "source": [
    "The tarfile can be compressed:"
   ]
  },
  {
   "cell_type": "markdown",
   "metadata": {},
   "source": [
    "```bash\n",
    "gzip mytar.tar\n",
    "# result: mytar.tar.gz\n",
    "```"
   ]
  },
  {
   "cell_type": "markdown",
   "metadata": {
    "slideshow": {
     "slide_type": "subslide"
    }
   },
   "source": [
    "## A find/tar/gzip example\n",
    "\n",
    "\n",
    "Pack all PostScript figures:"
   ]
  },
  {
   "cell_type": "markdown",
   "metadata": {},
   "source": [
    "```bash\n",
    "tar -cvf ps.tar `find $HOME -name '*.ps' -print`\n",
    "gzip ps.tar\n",
    "```"
   ]
  }
 ],
 "metadata": {
  "celltoolbar": "Slideshow",
  "kernelspec": {
   "display_name": "Python 3",
   "language": "python",
   "name": "python3"
  },
  "language_info": {
   "codemirror_mode": {
    "name": "ipython",
    "version": 3
   },
   "file_extension": ".py",
   "mimetype": "text/x-python",
   "name": "python",
   "nbconvert_exporter": "python",
   "pygments_lexer": "ipython3",
   "version": "3.6.9"
  }
 },
 "nbformat": 4,
 "nbformat_minor": 2
}
