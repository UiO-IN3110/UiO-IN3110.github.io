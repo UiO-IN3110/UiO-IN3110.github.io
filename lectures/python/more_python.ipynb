{
 "cells": [
  {
   "cell_type": "markdown",
   "id": "3dd8cda0",
   "metadata": {},
   "source": [
    "# Advanced topics in Python programming\n",
    "\n",
    "This notebook explores (slightly) more advanced elements of programming in Python. Among other things we will look into\n",
    "- functional programming \n",
    "- iterators\n",
    "- documenting code \n",
    "- error handling\n",
    "\n",
    "One aspect not addressed here is writting code following the PEP8 style guide, e.g. indentations, class/function names. There are tools to format your code that way (often given as extension to IDEs), for example [flake8](https://flake8.pycqa.org/en/latest/)."
   ]
  },
  {
   "cell_type": "markdown",
   "id": "78ef45ee",
   "metadata": {},
   "source": [
    "## Bits of functional programming\n",
    "\n",
    "We have seen how to define a function, i.e. give it a name\n",
    "\n",
    "```python\n",
    "def identity(x): return x\n",
    "```\n",
    "\n",
    "However, sometimes we might have use for nameless function - enter **Anonymous functions**. For example in sorting"
   ]
  },
  {
   "cell_type": "code",
   "execution_count": null,
   "id": "6b5ab743",
   "metadata": {},
   "outputs": [],
   "source": [
    "import random\n",
    "\n",
    "# Let's generate random pairs with the idea of sorting them later\n",
    "random_tuples = []\n",
    "for i in range(10):\n",
    "    random_tuples.append((random.random(), random.random()))\n",
    "random_tuples"
   ]
  },
  {
   "cell_type": "code",
   "execution_count": null,
   "id": "fc35c00b",
   "metadata": {},
   "outputs": [],
   "source": [
    "# By default tuples are sorted by considering first the first elements, then comparing the rest, i.e.\n",
    "sorted(random_tuples)"
   ]
  },
  {
   "cell_type": "code",
   "execution_count": null,
   "id": "527c607c",
   "metadata": {},
   "outputs": [],
   "source": [
    "# Treating them as points we might want to consider their l^2 norm\n",
    "sorted(random_tuples, key=lambda t: (t[0] ** 2 + t[1] ** 2) ** 0.5)"
   ]
  },
  {
   "cell_type": "code",
   "execution_count": null,
   "id": "2116b20b",
   "metadata": {},
   "outputs": [],
   "source": [
    "min(random_tuples, key=lambda t: (t[0] ** 2 + t[1] ** 2) ** 0.5)"
   ]
  },
  {
   "cell_type": "markdown",
   "id": "2366c107",
   "metadata": {},
   "source": [
    "Here `lambda` is a key word used for defining anonymous functions. It is followed by arguments. Above the function accepts one argument (referred to as t). The function body follows after `:`. Side note, $\\lambda$-calculus and its inventor [Alonzo Church](https://en.wikipedia.org/wiki/Alonzo_Church)"
   ]
  },
  {
   "cell_type": "markdown",
   "id": "30c83306",
   "metadata": {},
   "source": [
    "__In capturing variables beware of late binding__"
   ]
  },
  {
   "cell_type": "code",
   "execution_count": null,
   "id": "39132835",
   "metadata": {},
   "outputs": [],
   "source": [
    "# The idea is that foos[1](x) should return x+1\n",
    "foos = [lambda x: x + n for n in range(5)]\n",
    "# But ...\n",
    "for f in foos:\n",
    "    print(f(0))"
   ]
  },
  {
   "cell_type": "markdown",
   "id": "aa8b9729",
   "metadata": {},
   "source": [
    "Definition is evaluated at runtime (then n = 4) and not at definition time"
   ]
  },
  {
   "cell_type": "code",
   "execution_count": null,
   "id": "4e9b1d96",
   "metadata": {},
   "outputs": [],
   "source": [
    "# Solution [referred to as currying]\n",
    "foos = [lambda x, n=n: x + n for n in range(5)]\n",
    "for f in foos:\n",
    "    print(f(0))"
   ]
  },
  {
   "cell_type": "markdown",
   "id": "a396f6c2",
   "metadata": {},
   "source": [
    "Anonymous functions are often used to build **iterators**. Here the idea is that we want to compute on demand and not all the answers at once."
   ]
  },
  {
   "cell_type": "code",
   "execution_count": null,
   "id": "c0f4cd49",
   "metadata": {},
   "outputs": [],
   "source": [
    "selected = filter(lambda p: p[0] < 0.5, random_tuples)\n",
    "# Not the answers but ...\n",
    "selected"
   ]
  },
  {
   "cell_type": "code",
   "execution_count": null,
   "id": "edf12593",
   "metadata": {},
   "outputs": [],
   "source": [
    "# Iterator needs to be forced\n",
    "next(selected)"
   ]
  },
  {
   "cell_type": "code",
   "execution_count": null,
   "id": "b0e22868",
   "metadata": {},
   "outputs": [],
   "source": [
    "# or consumed\n",
    "for item in selected:\n",
    "    print(item)"
   ]
  },
  {
   "cell_type": "code",
   "execution_count": null,
   "id": "3d07f4e4",
   "metadata": {},
   "outputs": [],
   "source": [
    "# Note that we have now exhausted the iterator so that the following attempt to get the next item fails\n",
    "next(selected)"
   ]
  },
  {
   "cell_type": "markdown",
   "id": "2938ade0",
   "metadata": {},
   "source": [
    "Iterators can be combined to build processing pipelines"
   ]
  },
  {
   "cell_type": "code",
   "execution_count": null,
   "id": "d80c7447",
   "metadata": {},
   "outputs": [],
   "source": [
    "# Keep only the elements in iterable for which the function is true\n",
    "selected = filter(lambda p: p[0] < 0.5, random_tuples)\n",
    "# Apply sum function to all the elements in iterable\n",
    "processed = map(sum, selected)\n",
    "processed"
   ]
  },
  {
   "cell_type": "markdown",
   "id": "1bd6314d",
   "metadata": {},
   "source": [
    "What is the sum of such elements ? One option is \n",
    "```python\n",
    "sum(list(processed))\n",
    "```\n",
    "Also ```sum(processed)``` would work but we want to showcase a nice module from the standard library, namely, `functools`."
   ]
  },
  {
   "cell_type": "code",
   "execution_count": null,
   "id": "0c7c492d",
   "metadata": {},
   "outputs": [],
   "source": [
    "# Option 1) to comsume and turn into a list\n",
    "from functools import reduce\n",
    "\n",
    "# combine first two items of iterable to make the input\n",
    "# for next round while the other argument is the next item in iterable\n",
    "reduce(lambda x, y: x + y, processed)"
   ]
  },
  {
   "cell_type": "markdown",
   "id": "0d184672",
   "metadata": {},
   "source": [
    "**Food for thoought:**\n",
    "1. Could we use `reduce(sum, processed)` above ?\n",
    "2. What does `functools.partial` do?\n",
    "3. Which digits are common to all entries obtained by summing tuples in `random_tuples`?"
   ]
  },
  {
   "cell_type": "code",
   "execution_count": null,
   "id": "efcc319b",
   "metadata": {},
   "outputs": [],
   "source": [
    "import operator\n",
    "\n",
    "def digits(num):\n",
    "    '''Set of digits of the number'''\n",
    "    return set(filter(str.isdecimal, str(num)))\n",
    "\n",
    "# To find the answer we reduce by set intersection\n",
    "reduce(operator.and_, (map(lambda t: digits(t[0]+t[1]), random_tuples)))"
   ]
  },
  {
   "cell_type": "markdown",
   "id": "a0b44b95",
   "metadata": {},
   "source": [
    "Many useful iterators can be constucted using standard library module ``itertools``. Let's do cartesian coordinates"
   ]
  },
  {
   "cell_type": "code",
   "execution_count": null,
   "id": "1347a81b",
   "metadata": {},
   "outputs": [],
   "source": [
    "from itertools import product\n",
    "\n",
    "x = range(1, 5)\n",
    "y = range(4, 12)\n",
    "grid = product(x, y)\n",
    "# Get them all\n",
    "print(list(grid))"
   ]
  },
  {
   "cell_type": "markdown",
   "id": "4cf0c39c",
   "metadata": {},
   "source": [
    "Using `itertools.permutations`, `itertools.combinations` we can save ourselves writing a lot to nested for loop. For example: *Which number 1 <= a < b < c <= 100 for Pythagorean trippets?*  "
   ]
  },
  {
   "cell_type": "code",
   "execution_count": null,
   "id": "9edefa91",
   "metadata": {},
   "outputs": [],
   "source": [
    "tripplets = []\n",
    "for a in range(1, 101):\n",
    "    for b in range(a, 101):\n",
    "        for c in range(b, 101):\n",
    "            # Short circuit\n",
    "            # arg0 and arg1 evals arg1 only if arg0 is True because\n",
    "            # arg0 False determined the boolean value of the expression\n",
    "            # Alternative to if \n",
    "            a**2 + b**2 == c**2 and tripplets.append((a, b, c)) "
   ]
  },
  {
   "cell_type": "markdown",
   "id": "2d091d0b",
   "metadata": {},
   "source": [
    "Contrast with"
   ]
  },
  {
   "cell_type": "code",
   "execution_count": null,
   "id": "9aabf23a",
   "metadata": {},
   "outputs": [],
   "source": [
    "from itertools import combinations\n",
    "\n",
    "tripplets2 = []\n",
    "for (a, b, c) in combinations(range(1, 101), 3):\n",
    "    a**2 + b**2 == c**2 and tripplets2.append((a, b, c)) \n",
    "# Or even shorter with list comprehensions, see later\n",
    "set(tripplets) == set(tripplets2)"
   ]
  },
  {
   "cell_type": "markdown",
   "id": "8e436d3a",
   "metadata": {},
   "source": [
    "Another example of ondemand/lazy computations are **generators**. They are introduced by **yield** keyword."
   ]
  },
  {
   "cell_type": "code",
   "execution_count": null,
   "id": "a27ea20a",
   "metadata": {},
   "outputs": [],
   "source": [
    "def even_numbers():\n",
    "    k = 1\n",
    "    while True:\n",
    "        yield 2*k\n",
    "        k += 1"
   ]
  },
  {
   "cell_type": "code",
   "execution_count": null,
   "id": "1644b382",
   "metadata": {},
   "outputs": [],
   "source": [
    "evens = even_numbers()"
   ]
  },
  {
   "cell_type": "markdown",
   "id": "3e2b8935",
   "metadata": {},
   "source": [
    "We can start consuming the generator. For example take the first items"
   ]
  },
  {
   "cell_type": "code",
   "execution_count": null,
   "id": "ac00d993",
   "metadata": {},
   "outputs": [],
   "source": [
    "# NOTE: zip - pairs iterables into tuples, terminating when one of them is exhaused [range(5) determines this above]\n",
    "# We can run this many times.\n",
    "for v, _ in zip(evens, range(5)):  # And some more ...\n",
    "    print(v)"
   ]
  },
  {
   "cell_type": "markdown",
   "id": "7882e38e",
   "metadata": {},
   "source": [
    "Here we use itertools's `count` which is counts from argument upwards"
   ]
  },
  {
   "cell_type": "code",
   "execution_count": null,
   "id": "4ecc3f50",
   "metadata": {},
   "outputs": [],
   "source": [
    "from itertools import count\n",
    "\n",
    "def odd_numbers():\n",
    "    for v in count(1):\n",
    "        yield 2*v-1"
   ]
  },
  {
   "cell_type": "code",
   "execution_count": null,
   "id": "8ebc1214",
   "metadata": {},
   "outputs": [],
   "source": [
    "for v, _ in zip(odd_numbers(), range(5)):\n",
    "    print(v)"
   ]
  },
  {
   "cell_type": "markdown",
   "id": "6fb83c65",
   "metadata": {},
   "source": [
    "In the previous example we were consuming other iterator which was built in `count`. Would the definition of `count` below accomplish the same?"
   ]
  },
  {
   "cell_type": "code",
   "execution_count": null,
   "id": "ade15c7b",
   "metadata": {},
   "outputs": [],
   "source": [
    "def count(n):\n",
    "    yield n\n",
    "    yield from count(n + 1)\n",
    "\n",
    "numbers = count(-10)\n",
    "for i in range(10_000):     # How about counting longer (1_000) ?\n",
    "    print(next(numbers))"
   ]
  },
  {
   "cell_type": "markdown",
   "id": "877ba4e0",
   "metadata": {},
   "source": [
    "The issue with our definition is that it is recursive and the calls go to stack "
   ]
  },
  {
   "cell_type": "code",
   "execution_count": null,
   "id": "8ac7d6d8",
   "metadata": {},
   "outputs": [],
   "source": [
    "import sys\n",
    "sys.getrecursionlimit()\n",
    "# sys.setrecursionlimit(3_000)"
   ]
  },
  {
   "cell_type": "markdown",
   "id": "293b8099",
   "metadata": {},
   "source": [
    "However, increasing the stack size doesn't always cut it. The recursive implementation often yields to exponentially growing execution time (and memory). The notorious example of this is (doubly recursive) Fibonacci numbers."
   ]
  },
  {
   "cell_type": "code",
   "execution_count": null,
   "id": "61df278e",
   "metadata": {},
   "outputs": [],
   "source": [
    "from itertools import count\n",
    "\n",
    "def fib(k):\n",
    "    assert k > 0\n",
    "    if k == 1:\n",
    "        return 1\n",
    "    if k == 2:\n",
    "        return 1\n",
    "    return fib(k-1) + fib(k-2)\n",
    "\n",
    "\n",
    "def fibs():\n",
    "    '''Generator for all of them'''\n",
    "    for k in count(1):\n",
    "        yield fib(k)"
   ]
  },
  {
   "cell_type": "markdown",
   "id": "77d671fa",
   "metadata": {},
   "source": [
    "Let's look at peformance"
   ]
  },
  {
   "cell_type": "code",
   "execution_count": null,
   "id": "f5eede22",
   "metadata": {},
   "outputs": [],
   "source": [
    "from time import perf_counter\n",
    "from itertools import islice  # Iterator slice  \n",
    "\n",
    "t0 = perf_counter()\n",
    "for i, k in enumerate(islice(fibs(), 40)):\n",
    "    t1 = perf_counter()\n",
    "    print(f'{i} -> {k} in {(t1 - t0):.5f}s')\n",
    "    t0 = t1"
   ]
  },
  {
   "cell_type": "markdown",
   "id": "740f0323",
   "metadata": {},
   "source": [
    "After a while the time till next number behaves like the Fibonacci sequence itself! We are better off with iterations:"
   ]
  },
  {
   "cell_type": "code",
   "execution_count": null,
   "id": "c80d0239",
   "metadata": {},
   "outputs": [],
   "source": [
    "def fibs():\n",
    "    \"\"\"Generate Fibonacci numbers\"\"\"\n",
    "    a, b = 0, 1\n",
    "    while True:\n",
    "        a, b = a + b, a\n",
    "        yield a  # Yield keyword makes this function a generator\n",
    "\n",
    "numbers = fibs()"
   ]
  },
  {
   "cell_type": "code",
   "execution_count": null,
   "id": "777d1091",
   "metadata": {},
   "outputs": [],
   "source": [
    "# Let get first ten\n",
    "for i, num in zip(range(5), numbers):\n",
    "    print(i, num)"
   ]
  },
  {
   "cell_type": "markdown",
   "id": "c8fe44c2",
   "metadata": {},
   "source": [
    "When we care about all results of pipeline it might be better/more explicit/readbable to use **comprehensions**. Here we consider list and dictionary comprehensions. "
   ]
  },
  {
   "cell_type": "code",
   "execution_count": null,
   "id": "93a81c5c",
   "metadata": {},
   "outputs": [],
   "source": [
    "with open(\"./data/file.txt\") as stream:\n",
    "    # NOTE: with invokes a context manager. We want to manage resources;\n",
    "    # here open a file and then make sure that it is correctly closed no matter what\n",
    "    # will happen during manipulation, e.g. some error\n",
    "    lines = [float(line.strip()) for i, line in enumerate(stream) if i % 2]\n",
    "\n",
    "    # A Dictionary comprehension, create dict mapping row number to value\n",
    "    d = {i: float(line.strip()) for i, line in enumerate(stream) if i % 2}\n",
    "\n",
    "\n",
    "# To be compared with\n",
    "with open(\"./data/file.txt\") as stream:\n",
    "    iterator = map(\n",
    "        lambda p: float(p[1].strip()), filter(lambda p: p[0] % 2, enumerate(stream))\n",
    "    )\n",
    "    lines_ = list(iterator)\n",
    "# Check that they are the same. We will come back to the `assert` statement shortly\n",
    "assert lines == lines_\n",
    "(d, bool(lines))"
   ]
  },
  {
   "cell_type": "markdown",
   "id": "fe669b27",
   "metadata": {},
   "source": [
    "**Food for thought:** \n",
    "1. Why is the dictionary empty while we clearly have lines as a non-empty list?\n",
    "2. What is the performance of building list by for-loop versus list comprehensions? [Consider `%%timeit` magic]"
   ]
  },
  {
   "cell_type": "code",
   "execution_count": null,
   "id": "cb5c7366",
   "metadata": {},
   "outputs": [],
   "source": [
    "%%timeit\n",
    "\n",
    "\n",
    "def f(string):\n",
    "    return sum(map(ord, string))\n",
    "\n",
    "\n",
    "f(\"IN3110\")"
   ]
  },
  {
   "cell_type": "markdown",
   "id": "9a9a7ba8",
   "metadata": {},
   "source": [
    "While there are *set* comprehensions, one has to be careful with \"tuple\" comprehensions"
   ]
  },
  {
   "cell_type": "code",
   "execution_count": null,
   "id": "f8d36369",
   "metadata": {},
   "outputs": [],
   "source": [
    "{l for l in 'aqowngeåonewvewuw'}"
   ]
  },
  {
   "cell_type": "code",
   "execution_count": null,
   "id": "d9cddf22",
   "metadata": {},
   "outputs": [],
   "source": [
    "(v for v in islice(fibs(), 20) if v % 2)"
   ]
  },
  {
   "cell_type": "code",
   "execution_count": null,
   "id": "4f57c9a1",
   "metadata": {},
   "outputs": [],
   "source": [
    "tuple(v for v in islice(fibs(), 20) if v % 2)"
   ]
  },
  {
   "cell_type": "markdown",
   "id": "134dad90",
   "metadata": {},
   "source": [
    "The **with** keyword is an entry point for [contextmanager](https://docs.python.org/3/library/contextlib.html) Its functionality is useful when there is some setup and tear-down needed before and after computations. Typical example is writing to file."
   ]
  },
  {
   "cell_type": "code",
   "execution_count": null,
   "id": "1ebf6c2a",
   "metadata": {},
   "outputs": [],
   "source": [
    "# Only write in caps\n",
    "class CapsFile:\n",
    "    # __enter__ and __exit__ special for context manager protocol\n",
    "    def __init__(self, file_name, mode):\n",
    "        self.file_obj = open(file_name, mode)\n",
    "        write = self.file_obj.write\n",
    "        # Here we replace the file object's write method\n",
    "        self.file_obj.write = lambda w, write=write: write(w.upper())\n",
    "        \n",
    "    def __enter__(self):\n",
    "        return self.file_obj\n",
    "    \n",
    "    def __exit__(self, type, value, traceback):\n",
    "        self.file_obj.close()\n",
    "\n",
    "with CapsFile('tes.t', 'w') as out:\n",
    "    out.write('Hello weltx')\n",
    "    # raise ValueError"
   ]
  },
  {
   "cell_type": "markdown",
   "id": "1ea79adf",
   "metadata": {},
   "source": [
    "See about the result"
   ]
  },
  {
   "cell_type": "code",
   "execution_count": null,
   "id": "76ada7b6",
   "metadata": {},
   "outputs": [],
   "source": [
    "cat tes.t"
   ]
  },
  {
   "cell_type": "markdown",
   "id": "7e9022cd",
   "metadata": {},
   "source": [
    "## Writting cleaner functions\n",
    "\n",
    "(Personal opinion) A good function 1) does what it is supposed to do, 2) does it quickly, 3) is user/developer friendly. Here we will focus on friendlines"
   ]
  },
  {
   "cell_type": "markdown",
   "id": "886010b0",
   "metadata": {},
   "source": [
    "Python uses so called duck-typing but we can express our intensions of the input arguments and function output by type annotations. These can be checked by `mypy` (but are not enfoced)\n",
    "\n",
    "```python\n",
    "# Following is code included in factorial.py.\n",
    "def factorial(n: int) -> int:\n",
    "    if n == 0:\n",
    "        return 1\n",
    "    return n*factorial(n-1)\n",
    "\n",
    "factorial('works?')\n",
    "```\n",
    "\n",
    "We run type analysis by\n",
    "```bash\n",
    "(in3110) mirok@evalApply:data|$ mypy factorial.py \n",
    "```"
   ]
  },
  {
   "cell_type": "markdown",
   "id": "5a141fed",
   "metadata": {},
   "source": [
    "Role of arguments should be clarified in a docstring of a function (or class). Type can be part of the docstring. We can also include tests via [doctest](https://docs.python.org/3/library/doctest.html). Documentation in the form of for example HTML pages can be generated by [shinx](https://www.sphinx-doc.org/en/master/usage/quickstart.html). The following illustates a doctring with some nonexhaustive tests. For examples of Google-style docstrings see [here](http://sphinxcontrib-napoleon.readthedocs.io/en/latest/example_google.html)\n",
    "\n",
    "```python\n",
    "# Part of factorial_doctest.py\n",
    "def factorial(n: int) -> int:\n",
    "    '''Return the factorial of n, an exact integer >= 0.\n",
    "\n",
    "    Args:\n",
    "       n (int):  n!\n",
    "\n",
    "    Returns:\n",
    "       int.  The factorial value::\n",
    "\n",
    "    >>> factorial(5)\n",
    "    120\n",
    "    >>> factorial(0)\n",
    "    1\n",
    "\n",
    "    '''\n",
    "    if n == 0:\n",
    "        return 1\n",
    "    return n*factorial(n-1)\n",
    "\n",
    "```\n",
    "To run the doctest we execute\n",
    "```bash\n",
    "(in3110) mirok@evalApply:data|$ python factorial_doctest.py -v\n",
    "```"
   ]
  },
  {
   "cell_type": "markdown",
   "id": "09ee4768",
   "metadata": {},
   "source": [
    "We will come back to testing when discussing Python package development in the next part."
   ]
  },
  {
   "cell_type": "markdown",
   "id": "84061c3c",
   "metadata": {},
   "source": [
    "Enforcing the behaviour via exceptions (and their handling). There are several predifined exception types: eg. ValueError, AssertionError, MethodError. We can also define our own type."
   ]
  },
  {
   "cell_type": "code",
   "execution_count": null,
   "id": "d5bdb196",
   "metadata": {},
   "outputs": [],
   "source": [
    "class MyError(BaseException):\n",
    "    def __init__(self, msg):\n",
    "        self.msg = msg\n",
    "\n",
    "    def __str__(self):\n",
    "        return f'MyError occured with error message \"{self.msg}\"'"
   ]
  },
  {
   "cell_type": "code",
   "execution_count": null,
   "id": "fb7698ed",
   "metadata": {},
   "outputs": [],
   "source": [
    "# This is contrived to illustrate the custom exceptions in action.\n",
    "\n",
    "\n",
    "def factorial(n: int) -> int:\n",
    "    \"\"\"Return the factorial of n, an exact integer >= 0.\n",
    "\n",
    "    Args:\n",
    "       n (int):  n!\n",
    "\n",
    "    Returns:\n",
    "       int.  The factorial value::\n",
    "\n",
    "    >>> factorial(5)\n",
    "    120\n",
    "    >>> factorial(0)\n",
    "    1\n",
    "    >>> factorial(-1)\n",
    "    Traceback (most recent call last):\n",
    "        ...\n",
    "    ValueError: Only non-negative inputs are expected\n",
    "    \"\"\"\n",
    "    # Raise AssertionError if the type is wrong\n",
    "    assert isinstance(n, int)\n",
    "    # Raise a different exception for negative integers\n",
    "    if n < 0:\n",
    "        raise ValueError(\"Only non-negative inputs are expected\")\n",
    "\n",
    "    if n == 42:\n",
    "        raise MyError(\"This is not meant to be\")\n",
    "\n",
    "    if n == 0:\n",
    "        return 1\n",
    "    return n * factorial(n - 1)"
   ]
  },
  {
   "cell_type": "markdown",
   "id": "39898ca6",
   "metadata": {},
   "source": [
    "Handling the raised exceptions. There are several predifined expection types: eg. ValueError, AssertionError, MethodError. We can also define our own type."
   ]
  },
  {
   "cell_type": "code",
   "execution_count": null,
   "id": "f2077764",
   "metadata": {},
   "outputs": [],
   "source": [
    "val = -5 #  32\n",
    "\n",
    "try:\n",
    "    f = factorial(val)\n",
    "# We will try with the integer value\n",
    "except AssertionError:\n",
    "    from math import ceil\n",
    "\n",
    "    n = ceil(val)\n",
    "    print(f\"Calling instead with {n}\")\n",
    "    f = factorial(n)\n",
    "\n",
    "# Let's say that for negative we flip the sign\n",
    "except ValueError:\n",
    "    n = -val\n",
    "    print(f\"Calling instead with {n}\")\n",
    "    f = factorial(n)\n",
    "\n",
    "except MyError as e:\n",
    "    print(\"42!\")\n",
    "\n",
    "finally:\n",
    "    # Sieve through here\n",
    "    pass"
   ]
  },
  {
   "cell_type": "markdown",
   "id": "fb2fe460",
   "metadata": {},
   "source": [
    "## Modifying function behavior\n",
    "By now we have written function, we have seen functions that take in functions. What we want to do now is to write functions that return __modified__ functions. In our first example we want to write a function which modifies the input function with timing information."
   ]
  },
  {
   "cell_type": "code",
   "execution_count": null,
   "id": "5ce032e3",
   "metadata": {},
   "outputs": [],
   "source": [
    "import time\n",
    "from functools import wraps\n",
    "\n",
    "\n",
    "def timeit(foo):\n",
    "    \"\"\"Return exacution time\"\"\"\n",
    "\n",
    "    @wraps(foo)\n",
    "    def wrapper(*args, **kwargs):\n",
    "        then = time.perf_counter()\n",
    "        result = foo(*args, **kwargs)\n",
    "        now = time.perf_counter()\n",
    "        print(f\"{foo.__name__} executed in {now-then} s\")\n",
    "\n",
    "        return result\n",
    "\n",
    "    return wrapper"
   ]
  },
  {
   "cell_type": "markdown",
   "id": "642c5381",
   "metadata": {},
   "source": [
    "Here we use the `@wraps` in order to preserve metadata of `foo` (see below). Let's write the function to be timed."
   ]
  },
  {
   "cell_type": "code",
   "execution_count": null,
   "id": "e248fd6f",
   "metadata": {},
   "outputs": [],
   "source": [
    "def one_second():\n",
    "    time.sleep(1)\n",
    "\n",
    "\n",
    "print(one_second())\n",
    "\n",
    "timed = timeit(one_second)\n",
    "# As a **Food for thought** omit the @wraps decorator above and consider what happens with timed.__name__\n",
    "timed.__name__"
   ]
  },
  {
   "cell_type": "code",
   "execution_count": null,
   "id": "213be113",
   "metadata": {},
   "outputs": [],
   "source": [
    "print(timed())"
   ]
  },
  {
   "cell_type": "markdown",
   "id": "74e2709c",
   "metadata": {},
   "source": [
    "A syntacting sugar for applying timeit is via `@`"
   ]
  },
  {
   "cell_type": "code",
   "execution_count": null,
   "id": "310cce76",
   "metadata": {},
   "outputs": [],
   "source": [
    "@timeit\n",
    "def one_second():\n",
    "    time.sleep(1)\n",
    "\n",
    "\n",
    "print(one_second())"
   ]
  },
  {
   "cell_type": "markdown",
   "id": "4220e118",
   "metadata": {},
   "source": [
    "As another example of decorators consider memoization is a technique for caching the function's return value for given input such that it does not need to be computed again. We can test the idea with the functools.lru_cache decorator."
   ]
  },
  {
   "cell_type": "code",
   "execution_count": null,
   "id": "c30858eb",
   "metadata": {},
   "outputs": [],
   "source": [
    "from functools import lru_cache\n",
    "\n",
    "\n",
    "def slow_factorial(n):\n",
    "    \"\"\"Factorial by recursion\"\"\"\n",
    "    if n == 0:\n",
    "        return 1\n",
    "    return n * slow_factorial(n - 1)\n",
    "\n",
    "\n",
    "@lru_cache\n",
    "def faster_factorial(n):\n",
    "    return slow_factorial(n)"
   ]
  },
  {
   "cell_type": "markdown",
   "id": "945a591e",
   "metadata": {},
   "source": [
    "Let's see about the speed"
   ]
  },
  {
   "cell_type": "code",
   "execution_count": null,
   "id": "e37d115d",
   "metadata": {},
   "outputs": [],
   "source": [
    "%timeit slow_factorial(10)"
   ]
  },
  {
   "cell_type": "code",
   "execution_count": null,
   "id": "501bac1f",
   "metadata": {},
   "outputs": [],
   "source": [
    "%timeit faster_factorial(10)"
   ]
  },
  {
   "cell_type": "markdown",
   "id": "0bef6031",
   "metadata": {},
   "source": [
    "As an exercise let's write the cache decorator ourselves. However, unlike in `@timeit` we want to make a decorator which takes in an argument which is the cache size. Note that `@lru_cache` has this behavior too. We base our cache on a dictionary"
   ]
  },
  {
   "cell_type": "code",
   "execution_count": null,
   "id": "d0571479",
   "metadata": {},
   "outputs": [],
   "source": [
    "class Cache(dict):\n",
    "    def __init__(self, size):\n",
    "        self.size = size\n",
    "\n",
    "    def __setitem__(self, key, value):\n",
    "        # Make room\n",
    "        if len(self) >= self.size:\n",
    "            # Grab some key\n",
    "            key = next(iter(self))\n",
    "            # and remove the entry\n",
    "            self.pop(key)\n",
    "        # Set it via parent (dict class)\n",
    "        super().__setitem__(key, value)"
   ]
  },
  {
   "cell_type": "markdown",
   "id": "efd66d1b",
   "metadata": {},
   "source": [
    "Recall that decorator with arguments is applied as decorator(arguments)(function). That is decorator(arguments) must return a function"
   ]
  },
  {
   "cell_type": "code",
   "execution_count": null,
   "id": "98fd80bc",
   "metadata": {},
   "outputs": [],
   "source": [
    "from functools import wraps\n",
    "\n",
    "\n",
    "def cache(size):\n",
    "    \"\"\"Memoize\"\"\"\n",
    "\n",
    "    def decorate(foo):\n",
    "        memory = Cache(size)\n",
    "\n",
    "        @wraps(foo)\n",
    "        def wrapper(*args):\n",
    "            # Lookup arguments. NOTE: here we only assumed positional arguments\n",
    "            if args in memory:\n",
    "                return memory[args]\n",
    "            # Compute and remember\n",
    "            result = foo(*args)\n",
    "            memory[args] = result\n",
    "            return result\n",
    "\n",
    "        return wrapper\n",
    "\n",
    "    return decorate\n",
    "\n",
    "\n",
    "@cache(10)\n",
    "def faster_factorial2(n):\n",
    "    return slow_factorial(n)"
   ]
  },
  {
   "cell_type": "code",
   "execution_count": null,
   "id": "2d18c156",
   "metadata": {},
   "outputs": [],
   "source": [
    "faster_factorial2(3)"
   ]
  },
  {
   "cell_type": "code",
   "execution_count": null,
   "id": "39bacd21",
   "metadata": {},
   "outputs": [],
   "source": [
    "# c = faster_factorial2.__closure__[1]\n",
    "# c.cell_contents"
   ]
  },
  {
   "cell_type": "markdown",
   "id": "84b6de96",
   "metadata": {},
   "source": [
    "Let's now speed up Fibinacci with cache"
   ]
  },
  {
   "cell_type": "code",
   "execution_count": null,
   "id": "106ebcfb",
   "metadata": {},
   "outputs": [],
   "source": [
    "# Speed up Fibinachi with cache\n",
    "@cache(1_0000)\n",
    "def fib(k):\n",
    "    assert k > 0\n",
    "    if k == 1:\n",
    "        return 1\n",
    "    if k == 2:\n",
    "        return 1\n",
    "    return fib(k-1) + fib(k-2)\n",
    "\n",
    "\n",
    "def fibs():\n",
    "    '''Generator for all of them'''\n",
    "    for k in count(1):\n",
    "        yield fib(k)"
   ]
  },
  {
   "cell_type": "code",
   "execution_count": null,
   "id": "62c1c181",
   "metadata": {},
   "outputs": [],
   "source": [
    "from time import perf_counter\n",
    "\n",
    "t0 = perf_counter()\n",
    "for i, k in enumerate(islice(fibs(), 100)):\n",
    "    t1 = perf_counter()\n",
    "    print(f'{i} -> {k} in {(t1 - t0):.5f}s')\n",
    "    t0 = t1"
   ]
  },
  {
   "cell_type": "markdown",
   "id": "012be29f",
   "metadata": {},
   "source": [
    "Some other useful decorators are `@property` in class definitions."
   ]
  },
  {
   "cell_type": "code",
   "execution_count": null,
   "id": "9e630ea3",
   "metadata": {},
   "outputs": [],
   "source": [
    "class UnixName:\n",
    "    \"\"\"Max 8 characters\"\"\"\n",
    "\n",
    "    def __init__(self, name):\n",
    "        self.name = name  # NOTE: here were're calling the setter\n",
    "\n",
    "    # Get\n",
    "    @property\n",
    "    def name(self):\n",
    "        return self._name\n",
    "\n",
    "    # Set\n",
    "    @name.setter\n",
    "    def name(self, name):\n",
    "        if len(name) > 8:\n",
    "            name = name[:8]\n",
    "        self._name = name\n",
    "\n",
    "\n",
    "(UnixName(\"Miro\").name, UnixName(\"MiroslavKuchta\").name)"
   ]
  },
  {
   "cell_type": "markdown",
   "id": "4c419d7b",
   "metadata": {},
   "source": [
    "Some extras for class: we have seen special methods that hook up e.g. to arithmetic '+' (`__add__`) or interact with **with** (`__enter__`). What if you want to make your class iterable? In the example below we would like to iterate over a word in a special way where each letter is (shifter)[https://en.wikipedia.org/wiki/Caesar_cipher]"
   ]
  },
  {
   "cell_type": "code",
   "execution_count": null,
   "id": "0872a49c",
   "metadata": {},
   "outputs": [],
   "source": [
    "# __iter__ method\n",
    "class Ceasar:\n",
    "    def __init__(self, word, shift=2):\n",
    "        assert word.isalpha()\n",
    "        assert word.lower() == word\n",
    "        self.word = word\n",
    "        self.shift = shift\n",
    "        \n",
    "    def __iter__(self):\n",
    "        for ch in self.word:\n",
    "            yield chr(ord(ch) + self.shift)"
   ]
  },
  {
   "cell_type": "code",
   "execution_count": null,
   "id": "e3d70017",
   "metadata": {},
   "outputs": [],
   "source": [
    "for l, c in zip('helloworld', Ceasar('helloworld')):\n",
    "    print(f'{l} -> {c}')"
   ]
  },
  {
   "cell_type": "markdown",
   "id": "599c49ea",
   "metadata": {},
   "source": [
    "Putting some of the lessons learned today and last time together: the following is heavily inspired by talk by David Beazley, see (YouTube)[https://www.youtube.com/watch?v=js_0wjzuMfc&t=3s] for original. We have seen that type annotations can be used for static type checking. Here we would like to \"hook\" into the type system with (i) our own types and (ii) at runtime. Think for example a function `set_month` that should take only non-empty strings containing [A-Z][a-z]"
   ]
  },
  {
   "cell_type": "markdown",
   "id": "303d0445",
   "metadata": {},
   "source": [
    "We begin by getting out custom string type by (multiple) inheritance"
   ]
  },
  {
   "cell_type": "code",
   "execution_count": null,
   "id": "96b7f128",
   "metadata": {},
   "outputs": [],
   "source": [
    "class Contract:\n",
    "    @classmethod\n",
    "    def check(cls, val):\n",
    "        pass\n",
    "    \n",
    "    \n",
    "class Typed(Contract):\n",
    "    type = None\n",
    "    @classmethod\n",
    "    def check(cls, val):\n",
    "        assert isinstance(val, cls.type)\n",
    "        super().check(val)\n",
    "        \n",
    "        \n",
    "class String(Typed):\n",
    "    type = str\n",
    "    \n",
    "    \n",
    "class NonEmpty(Contract):\n",
    "    @classmethod\n",
    "    def check(cls, val):\n",
    "        assert len(val) > 0\n",
    "        super().check(val)\n",
    "        \n",
    "        \n",
    "class AlphaString(String, NonEmpty):\n",
    "    @classmethod\n",
    "    def check(cls, val):\n",
    "        assert val.isalpha()\n",
    "        super().check(val)\n",
    "\n",
    "AlphaString.check('mkds')"
   ]
  },
  {
   "cell_type": "markdown",
   "id": "4d3a1af7",
   "metadata": {},
   "source": [
    "Now we would like to declare the argument type and enforce it\n",
    "```python\n",
    "def set_month(x : AlphaString):\n",
    "    return x\n",
    "```\n",
    "For modifying function behaviour we have before used decorators ..."
   ]
  },
  {
   "cell_type": "code",
   "execution_count": null,
   "id": "abb89eac",
   "metadata": {},
   "outputs": [],
   "source": [
    "from functools import wraps\n",
    "import inspect \n",
    "\n",
    "def checked(func):\n",
    "    signature = inspect.signature(func) \n",
    "    annotations = func.__annotations__     \n",
    "    \n",
    "    @wraps(func)\n",
    "    def wrapper(*args, **kwargs):\n",
    "        # Bind arguments(names) to their values\n",
    "        bound = signature.bind(*args, **kwargs)\n",
    "        for varname, value in bound.arguments.items():\n",
    "            if varname in annotations:\n",
    "                # For each annotated argument check the bound value\n",
    "                typed = annotations[varname]\n",
    "                typed.check(value)\n",
    "        # If everything is okay we can call func\n",
    "        return func(*args, **kwargs)\n",
    "    return wrapper"
   ]
  },
  {
   "cell_type": "code",
   "execution_count": null,
   "id": "9df03e63",
   "metadata": {},
   "outputs": [],
   "source": [
    "@checked\n",
    "def set_month(x : AlphaString):\n",
    "    return x\n",
    "\n",
    "set_month('january')"
   ]
  }
 ],
 "metadata": {
  "kernelspec": {
   "display_name": "Python 3 (ipykernel)",
   "language": "python",
   "name": "python3"
  },
  "language_info": {
   "codemirror_mode": {
    "name": "ipython",
    "version": 3
   },
   "file_extension": ".py",
   "mimetype": "text/x-python",
   "name": "python",
   "nbconvert_exporter": "python",
   "pygments_lexer": "ipython3",
   "version": "3.9.15"
  },
  "widgets": {
   "application/vnd.jupyter.widget-state+json": {
    "state": {},
    "version_major": 2,
    "version_minor": 0
   }
  }
 },
 "nbformat": 4,
 "nbformat_minor": 5
}
