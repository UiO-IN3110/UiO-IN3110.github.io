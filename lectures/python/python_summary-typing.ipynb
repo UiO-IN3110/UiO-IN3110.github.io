{
 "cells": [
  {
   "cell_type": "markdown",
   "id": "6dfae7c4-0378-4043-a1f4-02e5e302daff",
   "metadata": {
    "slideshow": {
     "slide_type": "slide"
    },
    "tags": []
   },
   "source": [
    "# Type annotations\n",
    "\n",
    "As we have talked about in earlier lectures, Python is a dynamically language, this means that a variable does not have to have a single type throughout a program.\n",
    "For instance, the following is valid:"
   ]
  },
  {
   "cell_type": "code",
   "execution_count": 2,
   "id": "73e9f2e7-dd55-4a0f-899e-03cfcf1f62d8",
   "metadata": {
    "slideshow": {
     "slide_type": ""
    },
    "tags": []
   },
   "outputs": [
    {
     "name": "stdout",
     "output_type": "stream",
     "text": [
      "<class 'str'>\n",
      "<class 'float'>\n",
      "<class 'int'>\n"
     ]
    }
   ],
   "source": [
    "x = \"42\"\n",
    "print(type(x))\n",
    "x = 42.0\n",
    "print(type(x))\n",
    "x = 42\n",
    "print(type(x))"
   ]
  },
  {
   "cell_type": "markdown",
   "id": "d68e305e-985a-4cf1-afd1-39253cb90552",
   "metadata": {
    "slideshow": {
     "slide_type": "skip"
    },
    "tags": []
   },
   "source": [
    "In [PEP484](https://peps.python.org/pep-0484/) (Python Enchancement Proposal 484) it was suggested to add type hints to Python, allowing users to annotate their code with hints at to what type an input or output variable of a function should have. However, these annotations are not checked at run-time, and third-party libraries such as [mypy](https://mypy-lang.org/) exist for static type-checking."
   ]
  },
  {
   "cell_type": "markdown",
   "id": "b17d433c-62a9-4aa2-9fa4-ebedb2ce2316",
   "metadata": {
    "slideshow": {
     "slide_type": "slide"
    },
    "tags": []
   },
   "source": [
    "We can annotate a variable with a type hint by using a \"colon\" (`:`)"
   ]
  },
  {
   "cell_type": "code",
   "execution_count": 3,
   "id": "3ebd95be-81bf-4e62-974e-923fe2ed69a4",
   "metadata": {
    "slideshow": {
     "slide_type": ""
    },
    "tags": []
   },
   "outputs": [],
   "source": [
    "a: int  # Declare that we expect a to be an integer\n",
    "b: int = 5  # Declare that we expect an integer and set it to 5"
   ]
  },
  {
   "cell_type": "markdown",
   "id": "1ec8272f-0783-4af2-8d2e-06bfa8e3b857",
   "metadata": {
    "slideshow": {
     "slide_type": "fragment"
    },
    "tags": []
   },
   "source": [
    "However, as the language is not statically typed, we can still assign other types to the variables"
   ]
  },
  {
   "cell_type": "code",
   "execution_count": 4,
   "id": "bc09ce88-3b4d-4b7b-97ab-6308281242df",
   "metadata": {
    "slideshow": {
     "slide_type": ""
    },
    "tags": []
   },
   "outputs": [],
   "source": [
    "a = \"s\"  # No error\n",
    "b = [11.0, 15.0, 13.0]  # No error"
   ]
  },
  {
   "cell_type": "markdown",
   "id": "9c34d898-a05e-4ab7-8c32-5f14ecfb8317",
   "metadata": {
    "slideshow": {
     "slide_type": "slide"
    },
    "tags": []
   },
   "source": [
    "We can use type-hints for all built in types in Python"
   ]
  },
  {
   "cell_type": "code",
   "execution_count": 5,
   "id": "79ae7825-b93f-43dc-8ef6-21a665f240a1",
   "metadata": {
    "slideshow": {
     "slide_type": "fragment"
    },
    "tags": []
   },
   "outputs": [],
   "source": [
    "c: list[str] = [\"a\", \"b\", \"c\"]"
   ]
  },
  {
   "cell_type": "markdown",
   "id": "d0a822b4-0305-429a-bba5-c7357876780a",
   "metadata": {
    "slideshow": {
     "slide_type": ""
    },
    "tags": []
   },
   "source": [
    "For older versions of Python (<3.9), one have to import `List` from the [typing-module](https://docs.python.org/3/library/typing.html)"
   ]
  },
  {
   "cell_type": "code",
   "execution_count": 6,
   "id": "d129d146-3f69-4b4a-80c5-48fb0687f669",
   "metadata": {
    "slideshow": {
     "slide_type": ""
    },
    "tags": []
   },
   "outputs": [],
   "source": [
    "from typing import List\n",
    "\n",
    "c: List[str]"
   ]
  },
  {
   "cell_type": "markdown",
   "id": "35302420-e1e4-4ed2-99a7-71682af2bfcf",
   "metadata": {
    "slideshow": {
     "slide_type": "slide"
    },
    "tags": []
   },
   "source": [
    "## Type hints for functions"
   ]
  },
  {
   "cell_type": "markdown",
   "id": "85699584-c117-4231-9836-149fe4af4f0b",
   "metadata": {
    "slideshow": {
     "slide_type": "skip"
    },
    "tags": []
   },
   "source": [
    "We can use type hints for each input argument of a function by declaring the type after a colon. The return type is declared after the function brackets by using `->` followed by the type before starting the function block."
   ]
  },
  {
   "cell_type": "code",
   "execution_count": 7,
   "id": "ad4c54c4-ca1f-4ffc-ae7e-def302ea391c",
   "metadata": {
    "slideshow": {
     "slide_type": ""
    },
    "tags": []
   },
   "outputs": [],
   "source": [
    "def triple(x: float) -> float:\n",
    "    print(f\"Computing 3 * {x}\")\n",
    "    return 3.0 * x"
   ]
  },
  {
   "cell_type": "markdown",
   "id": "2bcf94c9-98b2-4f04-906b-69726feccf6d",
   "metadata": {
    "slideshow": {
     "slide_type": ""
    },
    "tags": []
   },
   "source": [
    "We can use `typing.Callable` to give type definititons for a function."
   ]
  },
  {
   "cell_type": "code",
   "execution_count": 8,
   "id": "be657d35-4d0e-41f9-855c-6a94191d5ed7",
   "metadata": {
    "slideshow": {
     "slide_type": ""
    },
    "tags": []
   },
   "outputs": [
    {
     "name": "stdout",
     "output_type": "stream",
     "text": [
      "Computing 0.5 * 10\n",
      "Computing 3 * 5.0\n",
      "Computed: 15.0\n"
     ]
    }
   ],
   "source": [
    "from typing import Callable\n",
    "\n",
    "\n",
    "def half(x: float) -> float:\n",
    "    print(f\"Computing 0.5 * {x}\")\n",
    "    return 0.5 * x\n",
    "\n",
    "\n",
    "def f_of_g(f: Callable[[float], float], g: Callable[[float], float], x: float) -> float:\n",
    "    return f(g(x))\n",
    "\n",
    "\n",
    "print(f\"Computed: {f_of_g(triple, half, 10)}\")"
   ]
  },
  {
   "cell_type": "markdown",
   "id": "72180537-30b4-442c-9e07-69b5a2a4ac6e",
   "metadata": {
    "slideshow": {
     "slide_type": "slide"
    },
    "tags": []
   },
   "source": [
    "## Union types\n",
    "Some times a function can take in an argument that can have multiple types, we use the `typing.Union[type_x, type_y,...]` operator (for Python < 3.10) or the `|` operator in (Python >= 3.10) for this"
   ]
  },
  {
   "cell_type": "code",
   "execution_count": 9,
   "id": "503b50b9-fdb6-46da-96d3-1db6d4c66a7e",
   "metadata": {
    "slideshow": {
     "slide_type": ""
    },
    "tags": []
   },
   "outputs": [],
   "source": [
    "def user_id(name: str, year: int | str):\n",
    "    if isinstance(year, str):\n",
    "        return name + year\n",
    "    elif isinstance(year, int):\n",
    "        return name + str(year)\n",
    "    else:\n",
    "        raise ValueError(f\"Unsupported input: {type(year)=}.\")"
   ]
  },
  {
   "cell_type": "code",
   "execution_count": 10,
   "id": "047d863e-4ad1-43b7-a619-8bf9941dfe5a",
   "metadata": {
    "slideshow": {
     "slide_type": ""
    },
    "tags": []
   },
   "outputs": [
    {
     "data": {
      "text/plain": [
       "'James1705'"
      ]
     },
     "execution_count": 10,
     "metadata": {},
     "output_type": "execute_result"
    }
   ],
   "source": [
    "user_id(\"James\", 1705)"
   ]
  },
  {
   "cell_type": "code",
   "execution_count": 11,
   "id": "dca73399-f74d-46ea-a239-e47db30fbf07",
   "metadata": {
    "slideshow": {
     "slide_type": ""
    },
    "tags": []
   },
   "outputs": [
    {
     "data": {
      "text/plain": [
       "'James1992'"
      ]
     },
     "execution_count": 11,
     "metadata": {},
     "output_type": "execute_result"
    }
   ],
   "source": [
    "user_id(\"James\", \"1992\")"
   ]
  },
  {
   "cell_type": "markdown",
   "id": "4f28d6b2-f1bc-4eab-a614-c9005f73b7a0",
   "metadata": {
    "slideshow": {
     "slide_type": "slide"
    },
    "tags": []
   },
   "source": [
    "## Other types of importance\n",
    "- `typing.Optional` - Used when an input argument to a function is optional (i.e. default value in function is `None`). Equivalent to `Union[type_x | None]`.\n",
    "- `typing.Dict[x, y]`. In Python >= 3.9 one can use `dict[x, y]` to decleare that all keys of a dictionary is of type `x`, while all values are of type `y`.\n",
    "- `typing.Protocol` - Static duck typing, [PEP544](https://peps.python.org/pep-0544/). Used to make sure that type-checkers can work with the duck-typing priciple. \n",
    "\n",
    "### Resources\n",
    "- [PEP484](https://peps.python.org/pep-0484/)\n",
    "- [PEP544](https://peps.python.org/pep-0544/)\n",
    "- [PEP585](https://peps.python.org/pep-0585/)\n",
    "- [Python Typing module](https://docs.python.org/3/library/typing.html) for more information."
   ]
  }
 ],
 "metadata": {
  "kernelspec": {
   "display_name": "Python 3 (ipykernel)",
   "language": "python",
   "name": "python3"
  },
  "language_info": {
   "codemirror_mode": {
    "name": "ipython",
    "version": 3
   },
   "file_extension": ".py",
   "mimetype": "text/x-python",
   "name": "python",
   "nbconvert_exporter": "python",
   "pygments_lexer": "ipython3",
   "version": "3.10.12"
  }
 },
 "nbformat": 4,
 "nbformat_minor": 5
}
