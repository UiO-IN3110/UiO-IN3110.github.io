{
 "cells": [
  {
   "cell_type": "markdown",
   "id": "65ada78b",
   "metadata": {},
   "source": [
    "# Structuring Python code: Modules and Packages\n",
    "\n",
    "<img src=\"doc/python_structure_options.svg\" style=\"width: 800px;\"/>\n"
   ]
  },
  {
   "cell_type": "markdown",
   "id": "85205a4b",
   "metadata": {},
   "source": [
    "## What is a Python module and what is it good for?\n",
    "\n",
    "A module is a file consisting of Python code. A module can define functions, classes and variables. A module can also include runnable code.\n",
    "\n",
    "Use modules to organize your program logically\n",
    "\n",
    "- Split the code into several files for easier maintenance.\n",
    "- Group related code into a module.\n",
    "- Share common code between scripts.\n",
    "- Publish modules on the web for other people to use (even better: create a **package**, see below).\n"
   ]
  },
  {
   "cell_type": "markdown",
   "id": "cf60eeb1",
   "metadata": {},
   "source": [
    "### Using modules\n",
    "\n",
    "We have already seen some example of usage in the previous lecture part\n",
    "\n",
    "```python\n",
    "import itertools\n",
    "# Access function from the module\n",
    "itertools.product\n",
    "\n",
    "# Alias\n",
    "import itertools as itools\n",
    "itool.product\n",
    "\n",
    "# The following is considered a bad practice\n",
    "from itertools import *\n",
    "# Easy to shadow existing variables (also hard for IDEs)\n",
    "```\n"
   ]
  },
  {
   "cell_type": "markdown",
   "metadata": {},
   "source": [
    "## What makes `itertools` into a module and not a package?\n",
    "\n",
    "It is a single file!\n",
    "Python has a lot of built-in modules\n",
    "\n",
    "```python\n",
    "import sys\n",
    "print(sys.builtin_module_names)\n",
    "```\n"
   ]
  },
  {
   "cell_type": "markdown",
   "id": "7b9d7c41",
   "metadata": {},
   "source": [
    "## Creating and using Python modules\n",
    "\n",
    "Creating own modules in Python is **very simple**:\n",
    "\n",
    "1. Put any code (variables, functions, classes) that should be part of the module in a Python file.\n",
    "\n",
    "Let us consider a simple user-defined function, put in the file `user_factorial.py`\n"
   ]
  },
  {
   "cell_type": "code",
   "execution_count": 1,
   "metadata": {},
   "outputs": [
    {
     "data": {
      "text/plain": [
       "0"
      ]
     },
     "execution_count": 1,
     "metadata": {},
     "output_type": "execute_result"
    }
   ],
   "source": [
    "import os\n",
    "\n",
    "os.system(\"head -n 20 user_factorial.py\")"
   ]
  },
  {
   "cell_type": "markdown",
   "metadata": {},
   "source": [
    "We can now import this function to our code by calling\n"
   ]
  },
  {
   "cell_type": "code",
   "execution_count": 2,
   "id": "6b14e491",
   "metadata": {},
   "outputs": [
    {
     "data": {
      "text/plain": [
       "3628800"
      ]
     },
     "execution_count": 2,
     "metadata": {},
     "output_type": "execute_result"
    }
   ],
   "source": [
    "from user_factorial import factorial\n",
    "\n",
    "factorial(10)"
   ]
  },
  {
   "cell_type": "markdown",
   "id": "4ef233a4",
   "metadata": {},
   "source": [
    "How does Python find your modules? When importing a module (or package module), Python tries to find it in multiples places (in this order):\n",
    "\n",
    "    - The built-in modules shown above\n",
    "    - Your current working directory.\n",
    "    - Paths defined by the environment variable $PYTHONPATH.\n",
    "    - Some global paths, e.g. /usr/lib/python3.7/site-packages. This depends on your OS and Python installation.\n",
    "\n",
    "This can be verified as follows via another useful module `sys`\n"
   ]
  },
  {
   "cell_type": "code",
   "execution_count": 3,
   "id": "df01bd49",
   "metadata": {},
   "outputs": [
    {
     "data": {
      "text/plain": [
       "['/home/dokken/Documents/UiO-IN3110.github.io/lectures/python',\n",
       " '/usr/lib/python38.zip',\n",
       " '/usr/lib/python3.8',\n",
       " '/usr/lib/python3.8/lib-dynload',\n",
       " '',\n",
       " '/home/dokken/.local/lib/python3.8/site-packages',\n",
       " '/usr/local/lib/python3.8/dist-packages',\n",
       " '/usr/lib/python3/dist-packages']"
      ]
     },
     "execution_count": 3,
     "metadata": {},
     "output_type": "execute_result"
    }
   ],
   "source": [
    "import sys\n",
    "\n",
    "# Notice the order\n",
    "sys.path"
   ]
  },
  {
   "cell_type": "markdown",
   "id": "93d3a620",
   "metadata": {},
   "source": [
    "## Test block in a module\n",
    "\n",
    "Module files can have a test/demo section at the end:\n",
    "\n",
    "- The block is executed _only if_ the module file is run as a program (not if imported by another script)\n",
    "- The tests at the end of a module often serve as good examples on the usage of the module\n",
    "\n",
    "For the problem above, we add a simple hard-coded test of the factorial function\n"
   ]
  },
  {
   "cell_type": "code",
   "execution_count": 4,
   "metadata": {},
   "outputs": [
    {
     "name": "stdout",
     "output_type": "stream",
     "text": [
      "    N = int(sys.argv[1])\n",
      "    print(f\"Testing user defined factorial function for {N=}\")\n",
      "    user_n = factorial(N)\n",
      "    ref_factorial = math.factorial(N)\n",
      "    assert user_n == math.factorial(\n",
      "        N\n",
      "    ), f\"Factorial function returning wrong answer {user_n}!={ref_factorial}\"\n"
     ]
    }
   ],
   "source": [
    "!tail -n 7 user_factorial.py"
   ]
  },
  {
   "cell_type": "code",
   "execution_count": 5,
   "metadata": {},
   "outputs": [
    {
     "name": "stdout",
     "output_type": "stream",
     "text": [
      "Testing user defined factorial function for N=6\n"
     ]
    }
   ],
   "source": [
    "!python3 user_factorial.py 6"
   ]
  },
  {
   "cell_type": "markdown",
   "id": "547317df",
   "metadata": {},
   "source": [
    "## What is a package?\n",
    "\n",
    "A package is a hierarchical file directory structure that consists of modules and subpackages and sub-subpackages, and so on.\n",
    "\n",
    "**Example:**\n",
    "\n",
    "```python\n",
    "from scipy.optimize import minimize\n",
    "#      ^      ^               ^\n",
    "#      |      |               |\n",
    "#   Package   |               |\n",
    "#           Module            |\n",
    "#                          Function\n",
    "```\n",
    "\n",
    "Packages allow to organize modules and scripts into single environment. These can then easily be distributed and imported by name.\n"
   ]
  },
  {
   "cell_type": "markdown",
   "id": "97ceae98",
   "metadata": {},
   "source": [
    "Python comes with a set of powerful packages, e.g.\n",
    "\n",
    "- **scipy** Scientific Python\n",
    "- **numpy** Numerical Python\n",
    "- **ipython** Interactive Python\n",
    "- **matplotlib** Plotting\n",
    "- **pandas** Data analysis\n",
    "- **scikit learn** Machine learning\n",
    "\n",
    "_Several useful packages are included in Python distributions like Anaconda_\n"
   ]
  },
  {
   "cell_type": "markdown",
   "id": "660fe0ed",
   "metadata": {},
   "source": [
    "## Creating a package\n",
    "\n",
    "- A set of modules can be collected in a _package_\n",
    "- A package is organized as module files in a directory tree\n",
    "- Each subdirectory must have a `__init__.py` file (can be empty)\n",
    "- More infos: [Section 6 in the Python Tutorial](https://docs.python.org/3/tutorial/modules.html)\n",
    "\n",
    "We have a sample package in the `data/my-package` directory. The package tree is as follows\n"
   ]
  },
  {
   "cell_type": "code",
   "execution_count": 6,
   "id": "ed8c503b",
   "metadata": {},
   "outputs": [
    {
     "name": "stdout",
     "output_type": "stream",
     "text": [
      "\u001b[01;34mexamples/my-package\u001b[00m\n",
      "├── \u001b[01;34mbuild\u001b[00m\n",
      "│   ├── \u001b[01;34mbdist.linux-x86_64\u001b[00m\n",
      "│   └── \u001b[01;34mlib\u001b[00m\n",
      "│       └── \u001b[01;34mpkg\u001b[00m\n",
      "│           ├── analysis.py\n",
      "│           ├── __init__.py\n",
      "│           └── \u001b[01;34mprinting\u001b[00m\n",
      "│               ├── __init__.py\n",
      "│               └── printing.py\n",
      "├── LICENSE\n",
      "├── pyproject.toml\n",
      "├── README.md\n",
      "├── \u001b[01;34msrc\u001b[00m\n",
      "│   ├── \u001b[01;34mpkg\u001b[00m\n",
      "│   │   ├── analysis.py\n",
      "│   │   ├── __init__.py\n",
      "│   │   ├── \u001b[01;34mprinting\u001b[00m\n",
      "│   │   │   ├── __init__.py\n",
      "│   │   │   ├── printing.py\n",
      "│   │   │   └── \u001b[01;34m__pycache__\u001b[00m\n",
      "│   │   │       ├── __init__.cpython-38.pyc\n",
      "│   │   │       └── printing.cpython-38.pyc\n",
      "│   │   └── \u001b[01;34m__pycache__\u001b[00m\n",
      "│   │       ├── analysis.cpython-38.pyc\n",
      "│   │       └── __init__.cpython-38.pyc\n",
      "│   └── \u001b[01;34mpkg.egg-info\u001b[00m\n",
      "│       ├── dependency_links.txt\n",
      "│       ├── PKG-INFO\n",
      "│       ├── requires.txt\n",
      "│       ├── SOURCES.txt\n",
      "│       └── top_level.txt\n",
      "└── \u001b[01;34mtest\u001b[00m\n",
      "    ├── \u001b[01;34m__pycache__\u001b[00m\n",
      "    │   ├── test_analysis.cpython-38-pytest-7.1.3.pyc\n",
      "    │   └── test_printing.cpython-38-pytest-7.1.3.pyc\n",
      "    ├── test_analysis.py\n",
      "    └── test_printing.py\n",
      "\n",
      "13 directories, 24 files\n"
     ]
    }
   ],
   "source": [
    "!tree examples/my-package"
   ]
  },
  {
   "cell_type": "markdown",
   "id": "02aeecd6",
   "metadata": {},
   "source": [
    "## Installing a Python package\n",
    "\n",
    "One could in theory append the path to a package to the environment variable `PYTHONPATH`.\n",
    "However, this is not recommened, as it does not check dependencies and is not portable across systems."
   ]
  },
  {
   "cell_type": "markdown",
   "id": "3d8d0efe",
   "metadata": {},
   "source": [
    "A better option is to reate a `pyproject.toml` file in your package root directory.\n",
    "We start by expecting this file"
   ]
  },
  {
   "cell_type": "code",
   "execution_count": 17,
   "metadata": {},
   "outputs": [
    {
     "name": "stdout",
     "output_type": "stream",
     "text": [
      "[build-system]\n",
      "requires = [\"setuptools>=64.4.0\", \"wheel\", \"pip>=22.3\"]\n",
      "\n",
      "\n",
      "[project]\n",
      "name=\"pkg\"\n",
      "authors=[{\"name\"=\"Jørgen S. Dokken\", \"email\"=\"dokken@simula.no\"},\n",
      "         {\"name\"=\"Miroslav Kuchta\", \"email\"=\"miroslav.kuchta@gmail.com\"}\n",
      "]\n",
      "readme=\"README.md\"\n",
      "license={\"file\"=\"LICENSE\"}\n",
      "version=\"0.1.0\"\n",
      "requires-python=\">=3.8\"\n",
      "dependencies=[\"numpy>=1.20.0\"]\n",
      "\n",
      "[project.optional-dependencies]\n",
      "test = [\n",
      "    \"pytest\",\n",
      "]\n",
      "dev = [\n",
      "    \"pdbpp\", \"ipython\"\n",
      "]"
     ]
    }
   ],
   "source": [
    "!head -n 25 examples/my-package/pyproject.toml"
   ]
  },
  {
   "cell_type": "markdown",
   "metadata": {},
   "source": [
    "We now consider each of the sections in this file in turn.\n",
    "First we consider the `[...]`-notation. This defines a heading in a table, and we can create sub-tables, such as `[a]` and `[a.b]`.\n",
    "Many Python packages support their own headings for configuring the repository, such as formatting, import sorting, type-checking etc.\n",
    "\n",
    "# build-system\n",
    "Installing a package in Python means taking a set of files, and do some or all of the following options\n",
    "- Compile files from foreign languages (such as C/C++)\n",
    "- Move files from the current root directory to an appropriate path for the current installation of Python\n",
    "We will use [setuptools](https://setuptools.pypa.io/) for this, a common Python packager.\n",
    "\n",
    "With the file above, we can now call the following (requires root access), if defaults to user installation (see below)"
   ]
  },
  {
   "cell_type": "code",
   "execution_count": null,
   "metadata": {},
   "outputs": [
    {
     "name": "stdout",
     "output_type": "stream",
     "text": [
      "Defaulting to user installation because normal site-packages is not writeable\n",
      "Processing ./examples/my-package\n",
      "  Installing build dependencies ... \u001b[?25ldone\n",
      "\u001b[?25h  Getting requirements to build wheel ... \u001b[?25ldone\n",
      "\u001b[?25h  Preparing metadata (pyproject.toml) ... \u001b[?25ldone\n",
      "\u001b[?25hRequirement already satisfied: numpy>=1.20.0 in /home/dokken/.local/lib/python3.8/site-packages (from pkg==0.1.0) (1.20.1)\n",
      "Building wheels for collected packages: pkg\n",
      "  Building wheel for pkg (pyproject.toml) ... \u001b[?25ldone\n",
      "\u001b[?25h  Created wheel for pkg: filename=pkg-0.1.0-py3-none-any.whl size=3855 sha256=ec8b61658e3c132a99fdce2c5617543f8e8fdb7f9d7f65c5cc4f1e85dae45c7b\n",
      "  Stored in directory: /home/dokken/.cache/pip/wheels/55/cc/57/3120b08927ab03809b28e441ce1800d832c33b007a8f3fccf4\n",
      "Successfully built pkg\n",
      "Installing collected packages: pkg\n",
      "Successfully installed pkg-0.1.0\n"
     ]
    }
   ],
   "source": [
    "!python3 -m pip install ./examples/my-package"
   ]
  },
  {
   "cell_type": "markdown",
   "metadata": {},
   "source": [
    "We can check where the package now is located by calling"
   ]
  },
  {
   "cell_type": "code",
   "execution_count": null,
   "metadata": {},
   "outputs": [
    {
     "name": "stdout",
     "output_type": "stream",
     "text": [
      "['/home/dokken/.local/lib/python3.8/site-packages/pkg']\n"
     ]
    }
   ],
   "source": [
    "!python3 -c \"import pkg; print(pkg.__path__)\""
   ]
  },
  {
   "cell_type": "markdown",
   "metadata": {},
   "source": [
    "## Non-root installation\n",
    "We could have also installed the package in a few other ways. We could have used the `--user` flag to install it for the current user"
   ]
  },
  {
   "cell_type": "code",
   "execution_count": null,
   "metadata": {},
   "outputs": [
    {
     "name": "stdout",
     "output_type": "stream",
     "text": [
      "Found existing installation: pkg 0.1.0\n",
      "Uninstalling pkg-0.1.0:\n",
      "  Successfully uninstalled pkg-0.1.0\n",
      "Processing ./examples/my-package\n",
      "  Installing build dependencies ... \u001b[?25ldone\n",
      "\u001b[?25h  Getting requirements to build wheel ... \u001b[?25ldone\n",
      "\u001b[?25h  Preparing metadata (pyproject.toml) ... \u001b[?25ldone\n",
      "\u001b[?25hRequirement already satisfied: numpy>=1.20.0 in /home/dokken/.local/lib/python3.8/site-packages (from pkg==0.1.0) (1.20.1)\n",
      "Building wheels for collected packages: pkg\n",
      "  Building wheel for pkg (pyproject.toml) ... \u001b[?25ldone\n",
      "\u001b[?25h  Created wheel for pkg: filename=pkg-0.1.0-py3-none-any.whl size=3855 sha256=74ffcb73548cc146aea86252c02514759097a4be3fca162753bdc9428bb57848\n",
      "  Stored in directory: /home/dokken/.cache/pip/wheels/55/cc/57/3120b08927ab03809b28e441ce1800d832c33b007a8f3fccf4\n",
      "Successfully built pkg\n",
      "Installing collected packages: pkg\n",
      "Successfully installed pkg-0.1.0\n"
     ]
    }
   ],
   "source": [
    "!python3 -m pip uninstall -y pkg\n",
    "!python3 -m pip install --user ./examples/my-package"
   ]
  },
  {
   "cell_type": "code",
   "execution_count": null,
   "metadata": {},
   "outputs": [
    {
     "name": "stdout",
     "output_type": "stream",
     "text": [
      "['/home/dokken/.local/lib/python3.8/site-packages/pkg']\n"
     ]
    }
   ],
   "source": [
    "!python3 -c \"import pkg; print(pkg.__path__)\""
   ]
  },
  {
   "cell_type": "markdown",
   "id": "b35ac273",
   "metadata": {},
   "source": [
    "## Editable installation\n",
    "As we have seen in the scripts above, the files are copied from the current location to the another place on disk specific to the Python installation. With rapid development, this would be a time-consuming and annoying task. Therefore, one can use [editable installations](https://setuptools.pypa.io/en/latest/userguide/development_mode.html) that creates special `.pth` file in the Python-installations site package, that extends the Python-path to the package directory. This means that one do not have to re-install the package to reflect changes"
   ]
  },
  {
   "cell_type": "code",
   "execution_count": 14,
   "metadata": {},
   "outputs": [
    {
     "name": "stdout",
     "output_type": "stream",
     "text": [
      "Found existing installation: pkg 0.1.0\n",
      "Uninstalling pkg-0.1.0:\n",
      "  Successfully uninstalled pkg-0.1.0\n",
      "Using pip 23.3.1 from /home/dokken/.local/lib/python3.8/site-packages/pip (python 3.8)\n",
      "Defaulting to user installation because normal site-packages is not writeable\n",
      "Obtaining file:///home/dokken/Documents/UiO-IN3110.github.io/lectures/python/examples/my-package\n",
      "  Installing build dependencies ... \u001b[?25l  Running command pip subprocess to install build dependencies\n",
      "  Collecting setuptools>=64.4.0\n",
      "    Using cached setuptools-68.2.2-py3-none-any.whl.metadata (6.3 kB)\n",
      "  Collecting wheel\n",
      "    Using cached wheel-0.41.3-py3-none-any.whl.metadata (2.2 kB)\n",
      "  Collecting pip>=22.3\n",
      "    Using cached pip-23.3.1-py3-none-any.whl.metadata (3.5 kB)\n",
      "  Using cached setuptools-68.2.2-py3-none-any.whl (807 kB)\n",
      "  Using cached wheel-0.41.3-py3-none-any.whl (65 kB)\n",
      "  Using cached pip-23.3.1-py3-none-any.whl (2.1 MB)\n",
      "  Installing collected packages: wheel, setuptools, pip\n",
      "  ERROR: pip's dependency resolver does not currently take into account all the packages that are installed. This behaviour is the source of the following dependency conflicts.\n",
      "  launchpadlib 1.10.13 requires testresources, which is not installed.\n",
      "  Successfully installed pip-23.3.1 setuptools-68.2.2 wheel-0.41.3\n",
      "\u001b[?25hdone\n",
      "  Checking if build backend supports build_editable ... \u001b[?25l  Running command Checking if build backend supports build_editable\n",
      "\u001b[?25hdone\n",
      "  Getting requirements to build editable ... \u001b[?25l  Running command Getting requirements to build editable\n",
      "  running egg_info\n",
      "  writing src/pkg.egg-info/PKG-INFO\n",
      "  writing dependency_links to src/pkg.egg-info/dependency_links.txt\n",
      "  writing requirements to src/pkg.egg-info/requires.txt\n",
      "  writing top-level names to src/pkg.egg-info/top_level.txt\n",
      "  reading manifest file 'src/pkg.egg-info/SOURCES.txt'\n",
      "  adding license file 'LICENSE'\n",
      "  writing manifest file 'src/pkg.egg-info/SOURCES.txt'\n",
      "\u001b[?25hdone\n",
      "  Preparing editable metadata (pyproject.toml) ... \u001b[?25l  Running command Preparing editable metadata (pyproject.toml)\n",
      "  running dist_info\n",
      "  creating /tmp/pip-modern-metadata-wural_uh/pkg.egg-info\n",
      "  writing /tmp/pip-modern-metadata-wural_uh/pkg.egg-info/PKG-INFO\n",
      "  writing dependency_links to /tmp/pip-modern-metadata-wural_uh/pkg.egg-info/dependency_links.txt\n",
      "  writing requirements to /tmp/pip-modern-metadata-wural_uh/pkg.egg-info/requires.txt\n",
      "  writing top-level names to /tmp/pip-modern-metadata-wural_uh/pkg.egg-info/top_level.txt\n",
      "  writing manifest file '/tmp/pip-modern-metadata-wural_uh/pkg.egg-info/SOURCES.txt'\n",
      "  reading manifest file '/tmp/pip-modern-metadata-wural_uh/pkg.egg-info/SOURCES.txt'\n",
      "  adding license file 'LICENSE'\n",
      "  writing manifest file '/tmp/pip-modern-metadata-wural_uh/pkg.egg-info/SOURCES.txt'\n",
      "  creating '/tmp/pip-modern-metadata-wural_uh/pkg-0.1.0.dist-info'\n",
      "\u001b[?25hdone\n",
      "Requirement already satisfied: numpy>=1.20.0 in /home/dokken/.local/lib/python3.8/site-packages (from pkg==0.1.0) (1.20.1)\n",
      "Building wheels for collected packages: pkg\n",
      "  Building editable for pkg (pyproject.toml) ... \u001b[?25l  Running command Building editable for pkg (pyproject.toml)\n",
      "  running editable_wheel\n",
      "  creating /tmp/pip-wheel-dmzh2cwp/.tmp-zhoqa4rs/pkg.egg-info\n",
      "  writing /tmp/pip-wheel-dmzh2cwp/.tmp-zhoqa4rs/pkg.egg-info/PKG-INFO\n",
      "  writing dependency_links to /tmp/pip-wheel-dmzh2cwp/.tmp-zhoqa4rs/pkg.egg-info/dependency_links.txt\n",
      "  writing requirements to /tmp/pip-wheel-dmzh2cwp/.tmp-zhoqa4rs/pkg.egg-info/requires.txt\n",
      "  writing top-level names to /tmp/pip-wheel-dmzh2cwp/.tmp-zhoqa4rs/pkg.egg-info/top_level.txt\n",
      "  writing manifest file '/tmp/pip-wheel-dmzh2cwp/.tmp-zhoqa4rs/pkg.egg-info/SOURCES.txt'\n",
      "  reading manifest file '/tmp/pip-wheel-dmzh2cwp/.tmp-zhoqa4rs/pkg.egg-info/SOURCES.txt'\n",
      "  adding license file 'LICENSE'\n",
      "  writing manifest file '/tmp/pip-wheel-dmzh2cwp/.tmp-zhoqa4rs/pkg.egg-info/SOURCES.txt'\n",
      "  creating '/tmp/pip-wheel-dmzh2cwp/.tmp-zhoqa4rs/pkg-0.1.0.dist-info'\n",
      "  creating /tmp/pip-wheel-dmzh2cwp/.tmp-zhoqa4rs/pkg-0.1.0.dist-info/WHEEL\n",
      "  running build_py\n",
      "  running egg_info\n",
      "  creating /tmp/tmpdtdwdg4k.build-temp/pkg.egg-info\n",
      "  writing /tmp/tmpdtdwdg4k.build-temp/pkg.egg-info/PKG-INFO\n",
      "  writing dependency_links to /tmp/tmpdtdwdg4k.build-temp/pkg.egg-info/dependency_links.txt\n",
      "  writing requirements to /tmp/tmpdtdwdg4k.build-temp/pkg.egg-info/requires.txt\n",
      "  writing top-level names to /tmp/tmpdtdwdg4k.build-temp/pkg.egg-info/top_level.txt\n",
      "  writing manifest file '/tmp/tmpdtdwdg4k.build-temp/pkg.egg-info/SOURCES.txt'\n",
      "  reading manifest file '/tmp/tmpdtdwdg4k.build-temp/pkg.egg-info/SOURCES.txt'\n",
      "  adding license file 'LICENSE'\n",
      "  writing manifest file '/tmp/tmpdtdwdg4k.build-temp/pkg.egg-info/SOURCES.txt'\n",
      "\n",
      "          Editable install will be performed using .pth file to extend `sys.path` with:\n",
      "          ['src']\n",
      "\n",
      "  Options like `package-data`, `include/exclude-package-data` or\n",
      "  `packages.find.exclude/include` may have no effect.\n",
      "\n",
      "  adding '__editable__.pkg-0.1.0.pth'\n",
      "  creating '/tmp/pip-wheel-dmzh2cwp/.tmp-zhoqa4rs/pkg-0.1.0-0.editable-py3-none-any.whl' and adding '/tmp/tmpey6_0u3npkg-0.1.0-0.editable-py3-none-any.whl' to it\n",
      "  adding 'pkg-0.1.0.dist-info/LICENSE'\n",
      "  adding 'pkg-0.1.0.dist-info/METADATA'\n",
      "  adding 'pkg-0.1.0.dist-info/WHEEL'\n",
      "  adding 'pkg-0.1.0.dist-info/top_level.txt'\n",
      "  adding 'pkg-0.1.0.dist-info/RECORD'\n",
      "\u001b[?25hdone\n",
      "  Created wheel for pkg: filename=pkg-0.1.0-0.editable-py3-none-any.whl size=2827 sha256=bd04f696dbc3665fddf202128263cd9782f4472fb2f97cdcf061e6b8e78c5b1e\n",
      "  Stored in directory: /tmp/pip-ephem-wheel-cache-hvb7ac6k/wheels/55/cc/57/3120b08927ab03809b28e441ce1800d832c33b007a8f3fccf4\n",
      "Successfully built pkg\n",
      "Installing collected packages: pkg\n",
      "Successfully installed pkg-0.1.0\n"
     ]
    }
   ],
   "source": [
    "!python3 -m pip uninstall -y pkg\n",
    "!python3 -m pip install -e ./examples/my-package -v"
   ]
  },
  {
   "cell_type": "code",
   "execution_count": 16,
   "metadata": {},
   "outputs": [
    {
     "name": "stdout",
     "output_type": "stream",
     "text": [
      "['/home/dokken/Documents/UiO-IN3110.github.io/lectures/python/examples/my-package/src/pkg']\n"
     ]
    }
   ],
   "source": [
    "!python3 -c \"import pkg; print(pkg.__path__)\""
   ]
  },
  {
   "cell_type": "markdown",
   "metadata": {},
   "source": [
    "# Project specification"
   ]
  },
  {
   "cell_type": "code",
   "execution_count": 11,
   "metadata": {},
   "outputs": [
    {
     "name": "stdout",
     "output_type": "stream",
     "text": [
      "[project]\n",
      "name=\"pkg\"\n",
      "authors=[{\"name\"=\"Jørgen S. Dokken\", \"email\"=\"dokken@simula.no\"},\n",
      "         {\"name\"=\"Miroslav Kuchta\", \"email\"=\"miroslav.kuchta@gmail.com\"}\n",
      "]\n",
      "readme=\"README.md\"\n",
      "license={\"file\"=\"LICENSE\"}\n",
      "version=\"0.1.0\"\n",
      "requires-python=\">=3.8\"\n",
      "dependencies=[\"numpy>=1.20.0\"]\n",
      "\n"
     ]
    }
   ],
   "source": [
    "!head -n15 ./examples/my-package/pyproject.toml | tail -n11"
   ]
  },
  {
   "cell_type": "markdown",
   "metadata": {},
   "source": [
    "### Package name\n",
    "As seen in the file above, we observe that we do not need to specify alot in the project description.\n",
    "We give the package a name, which should be reflected in `/src/pkg`. We use the source layout as it avoids some issues with a flat package structure, see [Python packaging guide](https://packaging.python.org/en/latest/discussions/src-layout-vs-flat-layout/) for more details.\n",
    "\n",
    "### Author list\n",
    "We create  a list of authors with their name and email."
   ]
  },
  {
   "cell_type": "markdown",
   "id": "57ac4a86",
   "metadata": {},
   "source": [
    "We will now work on the package with an aim to cover some of the existing functionality by testing and add new functionality by\n",
    "practicing test-drive-development. First some crash-course in Python unit testing.\n"
   ]
  },
  {
   "cell_type": "markdown",
   "metadata": {},
   "source": [
    "### README\n",
    "\n",
    "A package should have a description. This should be placed in a README file. The string should contain the local path (relative to the `pyproject.toml` file) to the description file."
   ]
  },
  {
   "cell_type": "markdown",
   "metadata": {},
   "source": [
    "### Licensing\n",
    "It is very important to have  a license for your published code. This is how you instruct anyone that wants to use it on the terms and conditions of copying or modifying the code. [ChooseYourLicense](https://choosealicense.com/) is a good source of information.\n",
    "A summary of recommened licenses:\n",
    "- **MIT**: Permissive - Others can use your code in any way, and you will not be sued if the software doesn't work (recommended in most cases)\n",
    "- **GPL**: Copyleft - derivative work must use the same license - good way to embrace open source but often problematic for commercial companies\n",
    "- **LGPL**: Similar to GPL but software can be used under different license\n",
    "- **CC-BY-4.0** - Typically used for creative work (more journals use this)\n"
   ]
  },
  {
   "cell_type": "markdown",
   "metadata": {},
   "source": [
    "### Version\n",
    "Given a version number `MAJOR.MINOR.PATCH`, increment the:\n",
    "\n",
    "1. `MAJOR` version when you make incompatible API changes\n",
    "2. `MINOR` version when you add functionality in a backward compatible manner\n",
    "3. `PATCH` version when you make backward compatible bug fixes\n",
    "\n",
    "This is called semantic versioning, see [semver.org](https://semver.org/) for details."
   ]
  },
  {
   "cell_type": "markdown",
   "metadata": {},
   "source": [
    "### Python versioning\n",
    "As Python evolves and introduces new features and deprecates versions, your software should do the same. Decide on a minimal requirement for Python (and in some cases a maximum version if a package you are using is not supporting the latest Python version)."
   ]
  },
  {
   "cell_type": "markdown",
   "metadata": {},
   "source": [
    "### Dependencies\n",
    "As our package might depend on external software, we create a list of packages such as `[\"numpy>=1.21\", \"sklearn==1.3.0\"]` etc.\n",
    "These will be installed if not found on the system at the time of installation."
   ]
  },
  {
   "cell_type": "markdown",
   "metadata": {},
   "source": [
    "### Optional dependencies\n",
    "Sometimes, we require dependencies for testing or development that are not requirements of the source code. We call these optional dependencies and list them as below"
   ]
  },
  {
   "cell_type": "code",
   "execution_count": 16,
   "metadata": {},
   "outputs": [
    {
     "name": "stdout",
     "output_type": "stream",
     "text": [
      "\n",
      "[project.optional-dependencies]\n",
      "test = [\n",
      "    \"pytest\",\n",
      "]\n",
      "dev = [\n",
      "    \"pdbpp\", \"ipython\"\n",
      "]"
     ]
    }
   ],
   "source": [
    "!tail -8 ./examples/my-package/pyproject.toml"
   ]
  },
  {
   "cell_type": "markdown",
   "metadata": {},
   "source": [
    "We install these by calling\n",
    "```\n",
    "python3 -m pip install .... path/to/package[dev]\n",
    "```\n",
    "or\n",
    "```\n",
    "python3 -m pip install .... path/to/package[test]\n",
    "```\n",
    "or\n",
    "```\n",
    "python3 -m pip install .... path/to/package[dev,test]\n",
    "```"
   ]
  },
  {
   "cell_type": "code",
   "execution_count": 18,
   "metadata": {},
   "outputs": [
    {
     "name": "stdout",
     "output_type": "stream",
     "text": [
      "Defaulting to user installation because normal site-packages is not writeable\n",
      "Obtaining file:///home/dokken/Documents/UiO-IN3110.github.io/lectures/python/examples/my-package\n",
      "  Installing build dependencies ... \u001b[?25ldone\n",
      "\u001b[?25h  Checking if build backend supports build_editable ... \u001b[?25ldone\n",
      "\u001b[?25h  Getting requirements to build editable ... \u001b[?25ldone\n",
      "\u001b[?25h  Preparing editable metadata (pyproject.toml) ... \u001b[?25ldone\n",
      "\u001b[?25hRequirement already satisfied: numpy>=1.20.0 in /home/dokken/.local/lib/python3.8/site-packages (1.20.1)\n",
      "Requirement already satisfied: pytest in /home/dokken/.local/lib/python3.8/site-packages (7.1.3)\n",
      "Collecting pdbpp\n",
      "  Downloading pdbpp-0.10.3-py2.py3-none-any.whl (23 kB)\n",
      "Requirement already satisfied: ipython in /home/dokken/.local/lib/python3.8/site-packages (8.5.0)\n",
      "Requirement already satisfied: backcall in /home/dokken/.local/lib/python3.8/site-packages (from ipython) (0.2.0)\n",
      "Requirement already satisfied: decorator in /home/dokken/.local/lib/python3.8/site-packages (from ipython) (4.4.2)\n",
      "Requirement already satisfied: jedi>=0.16 in /home/dokken/.local/lib/python3.8/site-packages (from ipython) (0.18.0)\n",
      "Requirement already satisfied: matplotlib-inline in /home/dokken/.local/lib/python3.8/site-packages (from ipython) (0.1.6)\n",
      "Requirement already satisfied: pickleshare in /home/dokken/.local/lib/python3.8/site-packages (from ipython) (0.7.5)\n",
      "Requirement already satisfied: prompt-toolkit<3.1.0,>3.0.1 in /home/dokken/.local/lib/python3.8/site-packages (from ipython) (3.0.16)\n",
      "Requirement already satisfied: pygments>=2.4.0 in /home/dokken/.local/lib/python3.8/site-packages (from ipython) (2.8.1)\n",
      "Requirement already satisfied: stack-data in /home/dokken/.local/lib/python3.8/site-packages (from ipython) (0.5.0)\n",
      "Requirement already satisfied: traitlets>=5 in /home/dokken/.local/lib/python3.8/site-packages (from ipython) (5.9.0)\n",
      "Requirement already satisfied: pexpect>4.3 in /home/dokken/.local/lib/python3.8/site-packages (from ipython) (4.8.0)\n",
      "Collecting fancycompleter>=0.8 (from pdbpp)\n",
      "  Downloading fancycompleter-0.9.1-py3-none-any.whl (9.7 kB)\n",
      "Collecting wmctrl (from pdbpp)\n",
      "  Downloading wmctrl-0.5-py2.py3-none-any.whl.metadata (943 bytes)\n",
      "Requirement already satisfied: attrs>=19.2.0 in /home/dokken/.local/lib/python3.8/site-packages (from pytest) (20.3.0)\n",
      "Requirement already satisfied: iniconfig in /home/dokken/.local/lib/python3.8/site-packages (from pytest) (1.1.1)\n",
      "Requirement already satisfied: packaging in /home/dokken/.local/lib/python3.8/site-packages (from pytest) (23.0)\n",
      "Requirement already satisfied: pluggy<2.0,>=0.12 in /home/dokken/.local/lib/python3.8/site-packages (from pytest) (1.0.0)\n",
      "Requirement already satisfied: py>=1.8.2 in /home/dokken/.local/lib/python3.8/site-packages (from pytest) (1.11.0)\n",
      "Requirement already satisfied: tomli>=1.0.0 in /home/dokken/.local/lib/python3.8/site-packages (from pytest) (2.0.1)\n",
      "Collecting pyrepl>=0.8.2 (from fancycompleter>=0.8->pdbpp)\n",
      "  Downloading pyrepl-0.9.0.tar.gz (48 kB)\n",
      "\u001b[2K     \u001b[38;2;114;156;31m━━━━━━━━━━━━━━━━━━━━━━━━━━━━━━━━━━━━━━━━\u001b[0m \u001b[32m48.7/48.7 kB\u001b[0m \u001b[31m3.7 MB/s\u001b[0m eta \u001b[36m0:00:00\u001b[0m\n",
      "\u001b[?25h  Preparing metadata (setup.py) ... \u001b[?25ldone\n",
      "\u001b[?25hRequirement already satisfied: parso<0.9.0,>=0.8.0 in /home/dokken/.local/lib/python3.8/site-packages (from jedi>=0.16->ipython) (0.8.1)\n",
      "Requirement already satisfied: ptyprocess>=0.5 in /home/dokken/.local/lib/python3.8/site-packages (from pexpect>4.3->ipython) (0.7.0)\n",
      "Requirement already satisfied: wcwidth in /home/dokken/.local/lib/python3.8/site-packages (from prompt-toolkit<3.1.0,>3.0.1->ipython) (0.2.5)\n",
      "Requirement already satisfied: executing in /home/dokken/.local/lib/python3.8/site-packages (from stack-data->ipython) (1.0.0)\n",
      "Requirement already satisfied: asttokens in /home/dokken/.local/lib/python3.8/site-packages (from stack-data->ipython) (2.0.8)\n",
      "Requirement already satisfied: pure-eval in /home/dokken/.local/lib/python3.8/site-packages (from stack-data->ipython) (0.2.2)\n",
      "Requirement already satisfied: six in /usr/lib/python3/dist-packages (from asttokens->stack-data->ipython) (1.14.0)\n",
      "Downloading wmctrl-0.5-py2.py3-none-any.whl (4.3 kB)\n",
      "Checking if build backend supports build_editable ... \u001b[?25ldone\n",
      "\u001b[?25hBuilding wheels for collected packages: pkg, pyrepl\n",
      "  Building editable for pkg (pyproject.toml) ... \u001b[?25ldone\n",
      "\u001b[?25h  Created wheel for pkg: filename=pkg-0.1.0-0.editable-py3-none-any.whl size=2852 sha256=491be2407bad595377c19684c078526df2d05b5e501b46fd80907b67ea69d84e\n",
      "  Stored in directory: /tmp/pip-ephem-wheel-cache-7oud3mqv/wheels/55/cc/57/3120b08927ab03809b28e441ce1800d832c33b007a8f3fccf4\n",
      "  Building wheel for pyrepl (setup.py) ... \u001b[?25ldone\n",
      "\u001b[?25h  Created wheel for pyrepl: filename=pyrepl-0.9.0-py3-none-any.whl size=59907 sha256=6caad23ca7fe0129ee5803f7ef26ede82d3ba966439d8e91956c897c19355476\n",
      "  Stored in directory: /home/dokken/.cache/pip/wheels/b4/a5/d0/14169e64d73c6da225a09c696273a24c57e28826c2a795ea53\n",
      "Successfully built pkg pyrepl\n",
      "Installing collected packages: pyrepl, wmctrl, pkg, fancycompleter, pdbpp\n",
      "  Attempting uninstall: pkg\n",
      "    Found existing installation: pkg 0.1.0\n",
      "    Uninstalling pkg-0.1.0:\n",
      "      Successfully uninstalled pkg-0.1.0\n",
      "Successfully installed fancycompleter-0.9.1 pdbpp-0.10.3 pkg-0.1.0 pyrepl-0.9.0 wmctrl-0.5\n"
     ]
    }
   ],
   "source": [
    "!python3 -m pip install -e ./examples/my-package[dev,test]"
   ]
  }
 ],
 "metadata": {
  "kernelspec": {
   "display_name": "Python 3 (ipykernel)",
   "language": "python",
   "name": "python3"
  },
  "language_info": {
   "codemirror_mode": {
    "name": "ipython",
    "version": 3
   },
   "file_extension": ".py",
   "mimetype": "text/x-python",
   "name": "python",
   "nbconvert_exporter": "python",
   "pygments_lexer": "ipython3",
   "version": "3.8.10"
  },
  "widgets": {
   "application/vnd.jupyter.widget-state+json": {
    "state": {},
    "version_major": 2,
    "version_minor": 0
   }
  }
 },
 "nbformat": 4,
 "nbformat_minor": 5
}
