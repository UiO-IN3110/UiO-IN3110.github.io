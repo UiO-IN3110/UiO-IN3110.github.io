{
 "cells": [
  {
   "cell_type": "markdown",
   "id": "65ada78b",
   "metadata": {},
   "source": [
    "# Structuring Python code: Modules and Packages\n",
    "\n",
    "<img src=\"doc/python_structure_options.svg\" style=\"width: 800px;\"/>\n"
   ]
  },
  {
   "cell_type": "markdown",
   "id": "85205a4b",
   "metadata": {},
   "source": [
    "## What is a Python module and what is it good for?\n",
    "\n",
    "A module is a file consisting of Python code. A module can define functions, classes and variables. A module can also include runnable code.\n",
    "\n",
    "Use modules to organize your program logically\n",
    "\n",
    "- Split the code into several files for easier maintenance.\n",
    "- Group related code into a module.\n",
    "- Share common code between scripts.\n",
    "- Publish modules on the web for other people to use (even better: create a **package**, see below).\n"
   ]
  },
  {
   "cell_type": "markdown",
   "id": "cf60eeb1",
   "metadata": {},
   "source": [
    "### Using modules\n",
    "\n",
    "We have already seen some example of usage in the previous lecture part\n",
    "\n",
    "```python\n",
    "import itertools\n",
    "# Access function from the module\n",
    "itertools.product\n",
    "\n",
    "# Alias\n",
    "import itertools as itools\n",
    "itool.product\n",
    "\n",
    "# The following is considered a bad practice\n",
    "from itertools import *\n",
    "# Easy to shadow existing variables (also hard for IDEs)\n",
    "```\n"
   ]
  },
  {
   "cell_type": "markdown",
   "metadata": {},
   "source": [
    "## What makes `itertools` into a module and not a package?\n",
    "\n",
    "It is a single file!\n",
    "Python has a lot of built-in modules\n",
    "\n",
    "```python\n",
    "import sys\n",
    "print(sys.builtin_module_names)\n",
    "```\n"
   ]
  },
  {
   "cell_type": "markdown",
   "id": "7b9d7c41",
   "metadata": {},
   "source": [
    "## Creating and using Python modules\n",
    "\n",
    "Creating own modules in Python is **very simple**:\n",
    "\n",
    "1. Put any code (variables, functions, classes) that should be part of the module in a Python file.\n",
    "\n",
    "Let us consider a simple user-defined function, put in the file `user_factorial.py`\n"
   ]
  },
  {
   "cell_type": "code",
   "execution_count": 6,
   "metadata": {},
   "outputs": [
    {
     "name": "stdout",
     "output_type": "stream",
     "text": [
      "def factorial(n: int) -> int:\n",
      "    \"\"\"Return the factorial of n, an exact integer >= 0.\n",
      "\n",
      "    Args:\n",
      "       n (int):  n!\n",
      "\n",
      "    Returns:\n",
      "       int.  The factorial value::\n",
      "\n",
      "    >>> factorial(5)\n",
      "    120\n",
      "    >>> factorial(0)\n",
      "    1\n",
      "\n",
      "    \"\"\"\n",
      "    if n == 0:\n",
      "        return 1\n",
      "    return n * factorial(n - 1)\n",
      "\n"
     ]
    },
    {
     "data": {
      "text/plain": [
       "0"
      ]
     },
     "execution_count": 6,
     "metadata": {},
     "output_type": "execute_result"
    }
   ],
   "source": [
    "import os\n",
    "os.system(\"head -n 20 user_factorial.py\")"
   ]
  },
  {
   "cell_type": "markdown",
   "metadata": {},
   "source": [
    "We can now import this function to our code by calling\n"
   ]
  },
  {
   "cell_type": "code",
   "execution_count": 7,
   "id": "6b14e491",
   "metadata": {},
   "outputs": [
    {
     "data": {
      "text/plain": [
       "3628800"
      ]
     },
     "execution_count": 7,
     "metadata": {},
     "output_type": "execute_result"
    }
   ],
   "source": [
    "from user_factorial import factorial\n",
    "\n",
    "factorial(10)"
   ]
  },
  {
   "cell_type": "markdown",
   "id": "4ef233a4",
   "metadata": {},
   "source": [
    "How does Python find your modules? When importing a module (or package module), Python tries to find it in multiples places (in this order):\n",
    "\n",
    "    - The built-in modules shown above\n",
    "    - Your current working directory.\n",
    "    - Paths defined by the environment variable $PYTHONPATH.\n",
    "    - Some global paths, e.g. /usr/lib/python3.7/site-packages. This depends on your OS and Python installation.\n",
    "\n",
    "This can be verified as follows via another useful module `sys`\n"
   ]
  },
  {
   "cell_type": "code",
   "execution_count": 8,
   "id": "df01bd49",
   "metadata": {},
   "outputs": [
    {
     "data": {
      "text/plain": [
       "['/home/dokken/Documents/src/UiO/UiO-IN3110.github.io/lectures/python',\n",
       " '/home/dokken/src/mambaforge/envs/UIO-IN3110/lib/python310.zip',\n",
       " '/home/dokken/src/mambaforge/envs/UIO-IN3110/lib/python3.10',\n",
       " '/home/dokken/src/mambaforge/envs/UIO-IN3110/lib/python3.10/lib-dynload',\n",
       " '',\n",
       " '/home/dokken/.local/lib/python3.10/site-packages',\n",
       " '/home/dokken/src/mambaforge/envs/UIO-IN3110/lib/python3.10/site-packages']"
      ]
     },
     "execution_count": 8,
     "metadata": {},
     "output_type": "execute_result"
    }
   ],
   "source": [
    "import sys\n",
    "\n",
    "# Notice the order\n",
    "sys.path"
   ]
  },
  {
   "cell_type": "markdown",
   "id": "93d3a620",
   "metadata": {},
   "source": [
    "## Test block in a module\n",
    "\n",
    "Module files can have a test/demo section at the end:\n",
    "\n",
    "- The block is executed _only if_ the module file is run as a program (not if imported by another script)\n",
    "- The tests at the end of a module often serve as good examples on the usage of the module\n",
    "\n",
    "For the problem above, we add a simple hard-coded test of the factorial function\n"
   ]
  },
  {
   "cell_type": "code",
   "execution_count": 22,
   "metadata": {},
   "outputs": [
    {
     "name": "stdout",
     "output_type": "stream",
     "text": [
      "if __name__ == \"__main__\":\n",
      "    import math, sys\n",
      "    N = int(sys.argv[1])\n",
      "    print(f\"Testing user defined factorial function for {N=}\")\n",
      "    user_n = factorial(N)\n",
      "    ref_factorial = math.factorial(N)\n",
      "    assert user_n == math.factorial(N), f\"Factorial function returning wrong answer {user_n}!={ref_factorial}\""
     ]
    },
    {
     "data": {
      "text/plain": [
       "0"
      ]
     },
     "execution_count": 22,
     "metadata": {},
     "output_type": "execute_result"
    }
   ],
   "source": [
    "import os\n",
    "os.system(\"tail -n 7 user_factorial.py\")"
   ]
  },
  {
   "cell_type": "code",
   "execution_count": 23,
   "metadata": {},
   "outputs": [
    {
     "name": "stdout",
     "output_type": "stream",
     "text": [
      "Testing user defined factorial function for N=6\n"
     ]
    },
    {
     "data": {
      "text/plain": [
       "CompletedProcess(args=['python3', 'user_factorial.py', '6'], returncode=0)"
      ]
     },
     "execution_count": 23,
     "metadata": {},
     "output_type": "execute_result"
    }
   ],
   "source": [
    "import subprocess\n",
    "subprocess.run([\"python3\", \"user_factorial.py\", \"6\"])"
   ]
  },
  {
   "cell_type": "markdown",
   "id": "547317df",
   "metadata": {},
   "source": [
    "## What is a package?\n",
    "\n",
    "A package is a hierarchical file directory structure that consists of modules and subpackages and sub-subpackages, and so on.\n",
    "\n",
    "**Example:**\n",
    "\n",
    "```python\n",
    "from scipy.optimize import minimize\n",
    "#      ^      ^               ^\n",
    "#      |      |               |\n",
    "#   Package   |               |\n",
    "#           Module            |\n",
    "#                          Function\n",
    "```\n",
    "\n",
    "Packages allow to organize modules and scripts into single environment. These can then easily be distributed and imported by name.\n"
   ]
  },
  {
   "cell_type": "markdown",
   "id": "97ceae98",
   "metadata": {},
   "source": [
    "Python comes with a set of powerful packages, e.g.\n",
    "\n",
    "- **scipy** Scientific Python\n",
    "- **numpy** Numerical Python\n",
    "- **ipython** Interactive Python\n",
    "- **matplotlib** Plotting\n",
    "- **pandas** Data analysis\n",
    "- **scikit learn** Machine learning\n",
    "\n",
    "_Several useful packages are included in Python distributions like Anaconda_\n"
   ]
  },
  {
   "cell_type": "markdown",
   "id": "660fe0ed",
   "metadata": {},
   "source": [
    "## Creating a package\n",
    "\n",
    "- A set of modules can be collected in a _package_\n",
    "- A package is organized as module files in a directory tree\n",
    "- Each subdirectory must have a `__init__.py` file (can be empty)\n",
    "- More infos: [Section 6 in the Python Tutorial](https://docs.python.org/3/tutorial/modules.html)\n",
    "\n",
    "We have a sample package in the `data/my-package` directory. The package tree is as follows\n"
   ]
  },
  {
   "cell_type": "code",
   "execution_count": null,
   "id": "ed8c503b",
   "metadata": {},
   "outputs": [],
   "source": [
    "!tree data/my-package"
   ]
  },
  {
   "cell_type": "markdown",
   "id": "02aeecd6",
   "metadata": {},
   "source": [
    "## Using a package\n",
    "\n",
    "One option is to manipulate Bash variable PYTHONPATH\n",
    "\n",
    "```bash\n",
    "> export PYTHONPATH=/path/to/my-package:$PYTHONPATH\n",
    "```\n",
    "\n",
    "Note: The search path will be lost when you open a new Bash session. We can accomplish the same by manipulating the\n",
    "path from within python\n"
   ]
  },
  {
   "cell_type": "code",
   "execution_count": null,
   "id": "81f8592d",
   "metadata": {},
   "outputs": [],
   "source": [
    "import os\n",
    "import sys\n",
    "\n",
    "pkg_path = os.path.abspath(\"./data/my-package\")\n",
    "\n",
    "sys.path.append(pkg_path)\n",
    "sys.path"
   ]
  },
  {
   "cell_type": "code",
   "execution_count": null,
   "id": "73e34699",
   "metadata": {},
   "outputs": [],
   "source": [
    "from pkg.printing import print_red\n",
    "\n",
    "print_red(\"A RED MESSSAGE\")"
   ]
  },
  {
   "cell_type": "markdown",
   "id": "3d8d0efe",
   "metadata": {},
   "source": [
    "A better option is to reate a `setup.py` file in your package root directory.\n",
    "\n",
    "```python\n",
    "from setuptools import setup\n",
    "\n",
    "setup(name = 'pkg',\n",
    "      version = '0.1',\n",
    "      description = 'Simple package',\n",
    "      author = 'Miroslav Kuchta',\n",
    "      author_email = 'miroslav.kuchta@gmail.com',\n",
    "      # url = 'https://github.com/mirok/...',\n",
    "      packages = ['pkg'],\n",
    "      package_dir = {'pkg': 'pkg'}\n",
    ")\n",
    "\n",
    "```\n"
   ]
  },
  {
   "cell_type": "markdown",
   "id": "b35ac273",
   "metadata": {},
   "source": [
    "and install with one of\n",
    "\n",
    "```bash\n",
    "pip3 install . --user  # For single-user installation\n",
    "pip3 install .         # For system wide installation (requires root)\n",
    "pip3 install --editable .        # For developer mode (changes to source are immediately reflected)\n",
    "```\n",
    "\n",
    "you can remove the package installation again with:\n",
    "\n",
    "```bash\n",
    "pip3 uninstall pkg\n",
    "```\n"
   ]
  },
  {
   "cell_type": "markdown",
   "id": "57ac4a86",
   "metadata": {},
   "source": [
    "We will now work on the package with an aim to cover some of the existing functionality by testing and add new functionality by\n",
    "practicing test-drive-development. First some crash-course in Python unit testing\n"
   ]
  },
  {
   "cell_type": "markdown",
   "id": "ed279888",
   "metadata": {},
   "source": [
    "## Testing\n",
    "\n",
    "### Why should we test?\n",
    "\n",
    "- To check correctness of software.\n",
    "- To ensure that future changes do not break functionality.\n",
    "- To check if the software runs succesfully in a different environment (newer Python version, upgraded libraries, different operating system)\n",
    "\n",
    "### Unit testing\n",
    "\n",
    "1. Identify a _unit_ in your program that should have a well defined behavior given a certain input. A unit can be a:\n",
    "   - function\n",
    "   - module\n",
    "   - entire program\n",
    "2. Write a test function that calls this input and checks that the output/behavior is as expected\n",
    "3. The more the better! Preferably on several levels (function/module/program).\n"
   ]
  },
  {
   "cell_type": "markdown",
   "id": "9b69d391",
   "metadata": {},
   "source": [
    "## Unit testing in Python\n",
    "\n",
    "Use a test framework like [py.test](http://docs.pytest.org/en/latest/). Several other frameworks exist as well.\n",
    "\n",
    "```bash\n",
    "pip3 install pytest\n",
    "```\n",
    "\n",
    "Call `py.test` in the folder containing your project. The tools will look for anything that looks like a test (e.g. `test_*()` functions in `test_*.py` files) in your project (also subdirectories).\n"
   ]
  },
  {
   "cell_type": "markdown",
   "id": "c393aaca",
   "metadata": {},
   "source": [
    "```python\n",
    "# From test_factorial.py\n",
    "# Test of factorial function from module\n",
    "from factorial_doctest_exceptions import factorial\n",
    "import pytest\n",
    "\n",
    "\n",
    "def test_correctness():\n",
    "    assert factorial(0) == 1\n",
    "    assert factorial(1) == 1\n",
    "\n",
    "# We can generate more tests with decorators\n",
    "@pytest.mark.parametrize('inp, out', [(2, 2), (3, 6)])\n",
    "def test_correctness_dec(inp, out):\n",
    "    assert factorial(inp) == out\n",
    "\n",
    "\n",
    "def test_raises_not_int():\n",
    "    with pytest.raises(AssertionError):\n",
    "        factorial('1')\n",
    "\n",
    "\n",
    "def test_raises_negative():\n",
    "    with pytest.raises(ValueError):\n",
    "        factorial(-1)\n",
    "\n",
    "\n",
    "@pytest.mark.xfail\n",
    "def test_expected_fail():\n",
    "    assert factorial(3) == 4\n",
    "\n",
    "def test_will_fail():\n",
    "    assert factorial(5) == 6\n",
    "```\n",
    "\n",
    "We can run all the tests or be zoom on individual functions\n"
   ]
  },
  {
   "cell_type": "code",
   "execution_count": null,
   "id": "bf77a8ce",
   "metadata": {},
   "outputs": [],
   "source": [
    "!pytest ."
   ]
  },
  {
   "cell_type": "code",
   "execution_count": null,
   "id": "9a3c1cfb",
   "metadata": {},
   "outputs": [],
   "source": [
    "!pytest test_factorial.py::test_raises_negative"
   ]
  },
  {
   "cell_type": "markdown",
   "id": "8321b953",
   "metadata": {},
   "source": [
    "Note that you can use pytest to run the docstring tests also, for example\n",
    "\n",
    "```bash\n",
    "pytest --doctest-modules factorial_doctest_exceptions.py\n",
    "```\n"
   ]
  },
  {
   "cell_type": "markdown",
   "id": "774ac63a",
   "metadata": {},
   "source": [
    "We are now ready to add test suite to our package. It is customary to write them in a test folder. Let us create it\n"
   ]
  },
  {
   "cell_type": "code",
   "execution_count": null,
   "id": "e9ff4499",
   "metadata": {},
   "outputs": [],
   "source": [
    "import os\n",
    "\n",
    "not os.path.exists(\"./data/my-package/test\") and os.makedirs(\"./data/my-package/test\")"
   ]
  },
  {
   "cell_type": "markdown",
   "id": "fafceb87",
   "metadata": {},
   "source": [
    "The scanario for class demo is as follows:\n",
    "\n",
    "1.  Add tests to cover function as is\n",
    "2.  Improve the function and cover the functionality under test suit\n",
    "3.  Add new functionality\n",
    "4.  Illustrate debugging in the process\n",
    "    For debugging we will use [pdb](https://docs.python.org/3/library/pdb.html), `conda install pdb`, or IPython's embed.\n",
    "\n",
    "```python\n",
    "from IPython import embed\n",
    "embed()\n",
    "```\n"
   ]
  },
  {
   "cell_type": "markdown",
   "id": "54ecbfea",
   "metadata": {},
   "source": [
    "Of course, the ultimate form of debuggin are `print` statements :)\n"
   ]
  }
 ],
 "metadata": {
  "kernelspec": {
   "display_name": "Python 3 (ipykernel)",
   "language": "python",
   "name": "python3"
  },
  "language_info": {
   "codemirror_mode": {
    "name": "ipython",
    "version": 3
   },
   "file_extension": ".py",
   "mimetype": "text/x-python",
   "name": "python",
   "nbconvert_exporter": "python",
   "pygments_lexer": "ipython3",
   "version": "3.10.12"
  },
  "widgets": {
   "application/vnd.jupyter.widget-state+json": {
    "state": {},
    "version_major": 2,
    "version_minor": 0
   }
  }
 },
 "nbformat": 4,
 "nbformat_minor": 5
}
