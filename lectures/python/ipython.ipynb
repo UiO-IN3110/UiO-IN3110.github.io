{
 "cells": [
  {
   "cell_type": "markdown",
   "metadata": {},
   "source": [
    "# IPython and The Jupyter notebook\n",
    "\n",
    "Jupyter is the name for this notebook interface, and the document format.\n",
    "\n",
    "<img src=\"jupyter-logo.png\" width=\"300px\" />\n",
    "\n",
    "\n",
    "Notebooks can contain [Markdown](https://help.github.com/articles/markdown-basics/) like this cell here,\n",
    "as well as mathematics rendered with [mathjax](https://mathjax.org):\n",
    "\n",
    "$$\n",
    "\\frac{1}{\\Bigl(\\sqrt{\\phi \\sqrt{5}}-\\phi\\Bigr) e^{\\frac25 \\pi}} =\n",
    "1+\\frac{e^{-2\\pi}} {1+\\frac{e^{-4\\pi}} {1+\\frac{e^{-6\\pi}}\n",
    "{1+\\frac{e^{-8\\pi}} {1+\\ldots} } } } \n",
    "$$"
   ]
  },
  {
   "cell_type": "markdown",
   "metadata": {},
   "source": [
    "[nbviewer](https://nbviewer.org) is a service that renders notebooks to HTML,\n",
    "for sharing and reading notebooks on the Internet.\n",
    "\n",
    "[This notebook](https://nbviewer.org/github/uio-in3110/uio-in3110.github.io/blob/HEAD/lectures/02-python/ipython.ipynb) on nbviewer.\n",
    "\n",
    "You can also convert notebooks to HTML and other formats locally with `jupyter nbconvert`."
   ]
  },
  {
   "cell_type": "markdown",
   "metadata": {
    "slideshow": {
     "slide_type": "slide"
    }
   },
   "source": [
    "## IPython: beyond plain Python"
   ]
  },
  {
   "cell_type": "markdown",
   "metadata": {},
   "source": [
    "When executing code in IPython, all valid Python syntax works as-is, but IPython provides a number of features designed to make the interactive experience more fluid and efficient."
   ]
  },
  {
   "cell_type": "markdown",
   "metadata": {
    "slideshow": {
     "slide_type": "slide"
    }
   },
   "source": [
    "### First things first: running code, getting help"
   ]
  },
  {
   "cell_type": "markdown",
   "metadata": {},
   "source": [
    "In the notebook, to run a cell of code, hit `Shift-Enter`. This executes the cell and puts the cursor in the next cell below, or makes a new one if you are at the end.  Alternately, you can use:\n",
    "    \n",
    "- `Alt-Enter` (or `option-Enter`) to force the creation of a new cell unconditionally (useful when inserting new content in the middle of an existing notebook).\n",
    "- `Control-Enter` executes the cell and keeps the cursor in the same cell, useful for quick experimentation of snippets that you don't need to keep permanently."
   ]
  },
  {
   "cell_type": "code",
   "execution_count": 51,
   "metadata": {},
   "outputs": [
    {
     "name": "stdout",
     "output_type": "stream",
     "text": [
      "Hi\n"
     ]
    }
   ],
   "source": [
    "print(\"Hi\")"
   ]
  },
  {
   "cell_type": "code",
   "execution_count": 1,
   "metadata": {},
   "outputs": [
    {
     "name": "stdout",
     "output_type": "stream",
     "text": [
      "0 1 2 3 4 "
     ]
    }
   ],
   "source": [
    "import time\n",
    "\n",
    "for i in range(5):\n",
    "    print(i, end=\" \")\n",
    "    time.sleep(1)"
   ]
  },
  {
   "cell_type": "code",
   "execution_count": 2,
   "metadata": {},
   "outputs": [
    {
     "data": {
      "text/plain": [
       "4"
      ]
     },
     "execution_count": 2,
     "metadata": {},
     "output_type": "execute_result"
    }
   ],
   "source": [
    "i"
   ]
  },
  {
   "cell_type": "markdown",
   "metadata": {
    "slideshow": {
     "slide_type": "slide"
    }
   },
   "source": [
    "Getting help:"
   ]
  },
  {
   "cell_type": "markdown",
   "metadata": {
    "slideshow": {
     "slide_type": "slide"
    }
   },
   "source": [
    "Typing `object_name?` will print all sorts of details about any object, including docstrings, function definition lines (for call arguments) and constructor details for classes."
   ]
  },
  {
   "cell_type": "code",
   "execution_count": 3,
   "metadata": {},
   "outputs": [
    {
     "data": {
      "text/plain": [
       "\u001b[0;31mDocstring:\u001b[0m\n",
       "asarray(a, dtype=None, order=None, *, like=None)\n",
       "\n",
       "Convert the input to an array.\n",
       "\n",
       "Parameters\n",
       "----------\n",
       "a : array_like\n",
       "    Input data, in any form that can be converted to an array.  This\n",
       "    includes lists, lists of tuples, tuples, tuples of tuples, tuples\n",
       "    of lists and ndarrays.\n",
       "dtype : data-type, optional\n",
       "    By default, the data-type is inferred from the input data.\n",
       "order : {'C', 'F', 'A', 'K'}, optional\n",
       "    Memory layout.  'A' and 'K' depend on the order of input array a.\n",
       "    'C' row-major (C-style),\n",
       "    'F' column-major (Fortran-style) memory representation.\n",
       "    'A' (any) means 'F' if `a` is Fortran contiguous, 'C' otherwise\n",
       "    'K' (keep) preserve input order\n",
       "    Defaults to 'C'.\n",
       "like : array_like\n",
       "    Reference object to allow the creation of arrays which are not\n",
       "    NumPy arrays. If an array-like passed in as ``like`` supports\n",
       "    the ``__array_function__`` protocol, the result will be defined\n",
       "    by it. In this case, it ensures the creation of an array object\n",
       "    compatible with that passed in via this argument.\n",
       "\n",
       "    .. versionadded:: 1.20.0\n",
       "\n",
       "Returns\n",
       "-------\n",
       "out : ndarray\n",
       "    Array interpretation of `a`.  No copy is performed if the input\n",
       "    is already an ndarray with matching dtype and order.  If `a` is a\n",
       "    subclass of ndarray, a base class ndarray is returned.\n",
       "\n",
       "See Also\n",
       "--------\n",
       "asanyarray : Similar function which passes through subclasses.\n",
       "ascontiguousarray : Convert input to a contiguous array.\n",
       "asfarray : Convert input to a floating point ndarray.\n",
       "asfortranarray : Convert input to an ndarray with column-major\n",
       "                 memory order.\n",
       "asarray_chkfinite : Similar function which checks input for NaNs and Infs.\n",
       "fromiter : Create an array from an iterator.\n",
       "fromfunction : Construct an array by executing a function on grid\n",
       "               positions.\n",
       "\n",
       "Examples\n",
       "--------\n",
       "Convert a list into an array:\n",
       "\n",
       ">>> a = [1, 2]\n",
       ">>> np.asarray(a)\n",
       "array([1, 2])\n",
       "\n",
       "Existing arrays are not copied:\n",
       "\n",
       ">>> a = np.array([1, 2])\n",
       ">>> np.asarray(a) is a\n",
       "True\n",
       "\n",
       "If `dtype` is set, array is copied only if dtype does not match:\n",
       "\n",
       ">>> a = np.array([1, 2], dtype=np.float32)\n",
       ">>> np.asarray(a, dtype=np.float32) is a\n",
       "True\n",
       ">>> np.asarray(a, dtype=np.float64) is a\n",
       "False\n",
       "\n",
       "Contrary to `asanyarray`, ndarray subclasses are not passed through:\n",
       "\n",
       ">>> issubclass(np.recarray, np.ndarray)\n",
       "True\n",
       ">>> a = np.array([(1.0, 2), (3.0, 4)], dtype='f4,i4').view(np.recarray)\n",
       ">>> np.asarray(a) is a\n",
       "False\n",
       ">>> np.asanyarray(a) is a\n",
       "True\n",
       "\u001b[0;31mType:\u001b[0m      builtin_function_or_method\n"
      ]
     },
     "metadata": {},
     "output_type": "display_data"
    }
   ],
   "source": [
    "import numpy as np\n",
    "\n",
    "np.asarray?"
   ]
  },
  {
   "cell_type": "markdown",
   "metadata": {},
   "source": [
    "use two question marks `??` to see the source code:"
   ]
  },
  {
   "cell_type": "code",
   "execution_count": 4,
   "metadata": {
    "scrolled": true
   },
   "outputs": [
    {
     "data": {
      "text/plain": [
       "\u001b[0;31mDocstring:\u001b[0m\n",
       "asarray(a, dtype=None, order=None, *, like=None)\n",
       "\n",
       "Convert the input to an array.\n",
       "\n",
       "Parameters\n",
       "----------\n",
       "a : array_like\n",
       "    Input data, in any form that can be converted to an array.  This\n",
       "    includes lists, lists of tuples, tuples, tuples of tuples, tuples\n",
       "    of lists and ndarrays.\n",
       "dtype : data-type, optional\n",
       "    By default, the data-type is inferred from the input data.\n",
       "order : {'C', 'F', 'A', 'K'}, optional\n",
       "    Memory layout.  'A' and 'K' depend on the order of input array a.\n",
       "    'C' row-major (C-style),\n",
       "    'F' column-major (Fortran-style) memory representation.\n",
       "    'A' (any) means 'F' if `a` is Fortran contiguous, 'C' otherwise\n",
       "    'K' (keep) preserve input order\n",
       "    Defaults to 'C'.\n",
       "like : array_like\n",
       "    Reference object to allow the creation of arrays which are not\n",
       "    NumPy arrays. If an array-like passed in as ``like`` supports\n",
       "    the ``__array_function__`` protocol, the result will be defined\n",
       "    by it. In this case, it ensures the creation of an array object\n",
       "    compatible with that passed in via this argument.\n",
       "\n",
       "    .. versionadded:: 1.20.0\n",
       "\n",
       "Returns\n",
       "-------\n",
       "out : ndarray\n",
       "    Array interpretation of `a`.  No copy is performed if the input\n",
       "    is already an ndarray with matching dtype and order.  If `a` is a\n",
       "    subclass of ndarray, a base class ndarray is returned.\n",
       "\n",
       "See Also\n",
       "--------\n",
       "asanyarray : Similar function which passes through subclasses.\n",
       "ascontiguousarray : Convert input to a contiguous array.\n",
       "asfarray : Convert input to a floating point ndarray.\n",
       "asfortranarray : Convert input to an ndarray with column-major\n",
       "                 memory order.\n",
       "asarray_chkfinite : Similar function which checks input for NaNs and Infs.\n",
       "fromiter : Create an array from an iterator.\n",
       "fromfunction : Construct an array by executing a function on grid\n",
       "               positions.\n",
       "\n",
       "Examples\n",
       "--------\n",
       "Convert a list into an array:\n",
       "\n",
       ">>> a = [1, 2]\n",
       ">>> np.asarray(a)\n",
       "array([1, 2])\n",
       "\n",
       "Existing arrays are not copied:\n",
       "\n",
       ">>> a = np.array([1, 2])\n",
       ">>> np.asarray(a) is a\n",
       "True\n",
       "\n",
       "If `dtype` is set, array is copied only if dtype does not match:\n",
       "\n",
       ">>> a = np.array([1, 2], dtype=np.float32)\n",
       ">>> np.asarray(a, dtype=np.float32) is a\n",
       "True\n",
       ">>> np.asarray(a, dtype=np.float64) is a\n",
       "False\n",
       "\n",
       "Contrary to `asanyarray`, ndarray subclasses are not passed through:\n",
       "\n",
       ">>> issubclass(np.recarray, np.ndarray)\n",
       "True\n",
       ">>> a = np.array([(1.0, 2), (3.0, 4)], dtype='f4,i4').view(np.recarray)\n",
       ">>> np.asarray(a) is a\n",
       "False\n",
       ">>> np.asanyarray(a) is a\n",
       "True\n",
       "\u001b[0;31mType:\u001b[0m      builtin_function_or_method\n"
      ]
     },
     "metadata": {},
     "output_type": "display_data"
    }
   ],
   "source": [
    "np.asarray??"
   ]
  },
  {
   "cell_type": "markdown",
   "metadata": {
    "slideshow": {
     "slide_type": "slide"
    }
   },
   "source": [
    "### Tab completion"
   ]
  },
  {
   "cell_type": "markdown",
   "metadata": {},
   "source": [
    "Tab completion, especially for attributes, is a convenient way to explore the structure of any object you’re dealing with. Type `object_name.<TAB>` to view the object’s attributes. Besides Python objects and keywords, tab completion also works on file and directory names."
   ]
  },
  {
   "cell_type": "code",
   "execution_count": 5,
   "metadata": {
    "scrolled": true
   },
   "outputs": [],
   "source": [
    "from PIL import Image"
   ]
  },
  {
   "cell_type": "code",
   "execution_count": null,
   "metadata": {},
   "outputs": [],
   "source": [
    "Image."
   ]
  },
  {
   "cell_type": "markdown",
   "metadata": {
    "slideshow": {
     "slide_type": "slide"
    }
   },
   "source": [
    "### Accessing the underlying operating system\n",
    "\n",
    "We can use `cat` to view the contents of a file:"
   ]
  },
  {
   "cell_type": "code",
   "execution_count": 6,
   "metadata": {},
   "outputs": [
    {
     "name": "stdout",
     "output_type": "stream",
     "text": [
      "#!/usr/bin/env python3\n",
      "\n",
      "from math import sin\n",
      "import sys\n",
      "\n",
      "x = float(sys.argv[1])\n",
      "sin_x = sin(x)\n",
      "\n",
      "print(f\"Hello, sin({x:g}) = {sin_x:.3f}\")\n",
      "\n"
     ]
    }
   ],
   "source": [
    "!cat hw.py"
   ]
  },
  {
   "cell_type": "code",
   "execution_count": 7,
   "metadata": {},
   "outputs": [
    {
     "name": "stdout",
     "output_type": "stream",
     "text": [
      "/Users/minrk/dev/simula/in3110/site/lectures/02-python\n"
     ]
    }
   ],
   "source": [
    "import os\n",
    "\n",
    "print(os.getcwd())"
   ]
  },
  {
   "cell_type": "code",
   "execution_count": 11,
   "metadata": {},
   "outputs": [
    {
     "name": "stdout",
     "output_type": "stream",
     "text": [
      "total 1080\n",
      "-rw-r--r--  1 minrk  staff      21 Sep  2  2020 UiO.txt\n",
      "-rwxr-xr-x  1 minrk  staff     490 Sep  2  2020 car.py\n",
      "-rw-r--r--  1 minrk  staff   12814 Aug 22 12:04 exercises.ipynb\n",
      "drwxr-xr-x  6 minrk  staff     192 Aug 22 12:04 figs\n",
      "-rwxr-xr-x  1 minrk  staff     139 Sep  1 11:10 hw.py\n",
      "-rw-r--r--  1 minrk  staff  406877 Sep 22 09:28 ipython.ipynb\n",
      "-rw-r--r--  1 minrk  staff   22868 Aug 22 12:04 jupyter-logo.png\n",
      "-rw-r--r--  1 minrk  staff     740 Aug 22 12:04 myNumber_test.py\n",
      "-rwxr-xr-x  1 minrk  staff     823 Aug 22 12:04 point.py\n",
      "-rwxr-xr-x  1 minrk  staff     670 Sep  2  2020 point2d.py\n",
      "-rwxr-xr-x  1 minrk  staff     856 Sep  2  2020 point3d.py\n",
      "-rwxr-xr-x  1 minrk  staff    1488 Sep  2  2020 pointnd.py\n",
      "-rw-r--r--  1 minrk  staff   15011 Sep  1 11:10 python_summary-classes.ipynb\n",
      "-rw-r--r--  1 minrk  staff   49134 Sep  1 11:10 python_summary.ipynb\n",
      "-rwxr-xr-x  1 minrk  staff     658 Aug 22 12:04 shape.py\n",
      "\n"
     ]
    }
   ],
   "source": [
    "import subprocess\n",
    "\n",
    "p = subprocess.run([\"ls\", \"-l\"], capture_output=True, check=True)\n",
    "print(p.stdout.decode())"
   ]
  },
  {
   "cell_type": "code",
   "execution_count": 12,
   "metadata": {},
   "outputs": [
    {
     "name": "stdout",
     "output_type": "stream",
     "text": [
      "/Users/minrk/dev/simula/in3110/site/lectures/02-python\n"
     ]
    }
   ],
   "source": [
    "!pwd"
   ]
  },
  {
   "cell_type": "code",
   "execution_count": 13,
   "metadata": {},
   "outputs": [
    {
     "name": "stdout",
     "output_type": "stream",
     "text": [
      "total 1080\n",
      "drwxr-xr-x  18 minrk  staff     576 Sep 22 09:28 \u001b[34m.\u001b[m\u001b[m\n",
      "drwxr-xr-x  22 minrk  staff     704 Sep 13 10:23 \u001b[34m..\u001b[m\u001b[m\n",
      "drwxr-xr-x  11 minrk  staff     352 Sep 21 12:44 \u001b[34m.ipynb_checkpoints\u001b[m\u001b[m\n",
      "-rw-r--r--   1 minrk  staff      21 Sep  2  2020 UiO.txt\n",
      "-rwxr-xr-x   1 minrk  staff     490 Sep  2  2020 \u001b[31mcar.py\u001b[m\u001b[m\n",
      "-rw-r--r--   1 minrk  staff   12814 Aug 22 12:04 exercises.ipynb\n",
      "drwxr-xr-x   6 minrk  staff     192 Aug 22 12:04 \u001b[34mfigs\u001b[m\u001b[m\n",
      "-rwxr-xr-x   1 minrk  staff     139 Sep  1 11:10 \u001b[31mhw.py\u001b[m\u001b[m\n",
      "-rw-r--r--   1 minrk  staff  406877 Sep 22 09:28 ipython.ipynb\n",
      "-rw-r--r--   1 minrk  staff   22868 Aug 22 12:04 jupyter-logo.png\n",
      "-rw-r--r--   1 minrk  staff     740 Aug 22 12:04 myNumber_test.py\n",
      "-rwxr-xr-x   1 minrk  staff     823 Aug 22 12:04 \u001b[31mpoint.py\u001b[m\u001b[m\n",
      "-rwxr-xr-x   1 minrk  staff     670 Sep  2  2020 \u001b[31mpoint2d.py\u001b[m\u001b[m\n",
      "-rwxr-xr-x   1 minrk  staff     856 Sep  2  2020 \u001b[31mpoint3d.py\u001b[m\u001b[m\n",
      "-rwxr-xr-x   1 minrk  staff    1488 Sep  2  2020 \u001b[31mpointnd.py\u001b[m\u001b[m\n",
      "-rw-r--r--   1 minrk  staff   15011 Sep  1 11:10 python_summary-classes.ipynb\n",
      "-rw-r--r--   1 minrk  staff   49134 Sep  1 11:10 python_summary.ipynb\n",
      "-rwxr-xr-x   1 minrk  staff     658 Aug 22 12:04 \u001b[31mshape.py\u001b[m\u001b[m\n"
     ]
    }
   ],
   "source": [
    "!ls -la"
   ]
  },
  {
   "cell_type": "code",
   "execution_count": 14,
   "metadata": {},
   "outputs": [
    {
     "name": "stdout",
     "output_type": "stream",
     "text": [
      "My current directory's files:\n",
      "['UiO.txt', 'car.py', 'exercises.ipynb', 'figs', 'hw.py', 'ipython.ipynb', 'jupyter-logo.png', 'myNumber_test.py', 'point.py', 'point2d.py', 'point3d.py', 'pointnd.py', 'python_summary-classes.ipynb', 'python_summary.ipynb', 'shape.py']\n"
     ]
    }
   ],
   "source": [
    "files = !ls\n",
    "print(\"My current directory's files:\")\n",
    "print(files)"
   ]
  },
  {
   "cell_type": "code",
   "execution_count": 15,
   "metadata": {},
   "outputs": [
    {
     "name": "stdout",
     "output_type": "stream",
     "text": [
      "UiO.txt\n",
      "car.py\n",
      "exercises.ipynb\n",
      "figs\n",
      "hw.py\n",
      "ipython.ipynb\n",
      "jupyter-logo.png\n",
      "myNumber_test.py\n",
      "point.py\n",
      "point2d.py\n",
      "point3d.py\n",
      "pointnd.py\n",
      "python_summary-classes.ipynb\n",
      "python_summary.ipynb\n",
      "shape.py\n"
     ]
    }
   ],
   "source": [
    "for f in files:\n",
    "    print(f)"
   ]
  },
  {
   "cell_type": "markdown",
   "metadata": {},
   "source": [
    "### Beyond Python: magic functions"
   ]
  },
  {
   "cell_type": "markdown",
   "metadata": {},
   "source": [
    "The IPython 'magic' functions are a set of commands, invoked by prepending one or two `%` signs to their name, that live in a namespace separate from your normal Python variables and provide a more command-like interface.  They take flags with `--` and arguments without quotes, parentheses or commas. The motivation behind this system is two-fold:\n",
    "    \n",
    "- To provide a namespace for controlling IPython itself and exposing other system-oriented functionality.\n",
    "\n",
    "- To expose a calling mode that requires minimal verbosity and typing while working interactively.  Thus the inspiration taken from the classic Unix shell style for commands."
   ]
  },
  {
   "cell_type": "markdown",
   "metadata": {},
   "source": [
    "Line vs cell magics:"
   ]
  },
  {
   "cell_type": "code",
   "execution_count": 16,
   "metadata": {},
   "outputs": [
    {
     "name": "stdout",
     "output_type": "stream",
     "text": [
      "2.47 ms ± 15.8 µs per loop (mean ± std. dev. of 7 runs, 100 loops each)\n"
     ]
    }
   ],
   "source": [
    "%timeit list(range(10000))"
   ]
  },
  {
   "cell_type": "code",
   "execution_count": 17,
   "metadata": {},
   "outputs": [
    {
     "name": "stdout",
     "output_type": "stream",
     "text": [
      "2.58 µs ± 23.7 ns per loop (mean ± std. dev. of 7 runs, 100,000 loops each)\n"
     ]
    }
   ],
   "source": [
    "%%timeit\n",
    "list(range(10))\n",
    "list(range(100))"
   ]
  },
  {
   "cell_type": "markdown",
   "metadata": {},
   "source": [
    "Line magics can be used even inside code blocks:"
   ]
  },
  {
   "cell_type": "code",
   "execution_count": 18,
   "metadata": {},
   "outputs": [
    {
     "name": "stdout",
     "output_type": "stream",
     "text": [
      "size:         10 1.07 µs ± 10.2 ns per loop (mean ± std. dev. of 7 runs, 1,000,000 loops each)\n",
      "size:       1000 198 µs ± 2.67 µs per loop (mean ± std. dev. of 7 runs, 10,000 loops each)\n",
      "size:     100000 26.8 ms ± 233 µs per loop (mean ± std. dev. of 7 runs, 10 loops each)\n",
      "size:    1000000 267 ms ± 1.81 ms per loop (mean ± std. dev. of 7 runs, 1 loop each)\n"
     ]
    }
   ],
   "source": [
    "for size in [10, 1000, 100_000, 1_000_000]:\n",
    "    print(f\"size: {size:10}\", end=\" \")\n",
    "    %timeit list(range(size))"
   ]
  },
  {
   "cell_type": "code",
   "execution_count": 19,
   "metadata": {},
   "outputs": [
    {
     "name": "stdout",
     "output_type": "stream",
     "text": [
      "1 s ± 731 µs per loop (mean ± std. dev. of 7 runs, 1 loop each)\n"
     ]
    }
   ],
   "source": [
    "%timeit time.sleep(1) "
   ]
  },
  {
   "cell_type": "code",
   "execution_count": 20,
   "metadata": {
    "scrolled": true
   },
   "outputs": [
    {
     "data": {
      "text/plain": [
       "\u001b[0;31mDocstring:\u001b[0m\n",
       "Time execution of a Python statement or expression\n",
       "\n",
       "Usage, in line mode:\n",
       "  %timeit [-n<N> -r<R> [-t|-c] -q -p<P> -o] statement\n",
       "or in cell mode:\n",
       "  %%timeit [-n<N> -r<R> [-t|-c] -q -p<P> -o] setup_code\n",
       "  code\n",
       "  code...\n",
       "\n",
       "Time execution of a Python statement or expression using the timeit\n",
       "module.  This function can be used both as a line and cell magic:\n",
       "\n",
       "- In line mode you can time a single-line statement (though multiple\n",
       "  ones can be chained with using semicolons).\n",
       "\n",
       "- In cell mode, the statement in the first line is used as setup code\n",
       "  (executed but not timed) and the body of the cell is timed.  The cell\n",
       "  body has access to any variables created in the setup code.\n",
       "\n",
       "Options:\n",
       "-n<N>: execute the given statement <N> times in a loop. If <N> is not\n",
       "provided, <N> is determined so as to get sufficient accuracy.\n",
       "\n",
       "-r<R>: number of repeats <R>, each consisting of <N> loops, and take the\n",
       "best result.\n",
       "Default: 7\n",
       "\n",
       "-t: use time.time to measure the time, which is the default on Unix.\n",
       "This function measures wall time.\n",
       "\n",
       "-c: use time.clock to measure the time, which is the default on\n",
       "Windows and measures wall time. On Unix, resource.getrusage is used\n",
       "instead and returns the CPU user time.\n",
       "\n",
       "-p<P>: use a precision of <P> digits to display the timing result.\n",
       "Default: 3\n",
       "\n",
       "-q: Quiet, do not print result.\n",
       "\n",
       "-o: return a TimeitResult that can be stored in a variable to inspect\n",
       "    the result in more details.\n",
       "\n",
       ".. versionchanged:: 7.3\n",
       "    User variables are no longer expanded,\n",
       "    the magic line is always left unmodified.\n",
       "\n",
       "Examples\n",
       "--------\n",
       "::\n",
       "\n",
       "  In [1]: %timeit pass\n",
       "  8.26 ns ± 0.12 ns per loop (mean ± std. dev. of 7 runs, 100000000 loops each)\n",
       "\n",
       "  In [2]: u = None\n",
       "\n",
       "  In [3]: %timeit u is None\n",
       "  29.9 ns ± 0.643 ns per loop (mean ± std. dev. of 7 runs, 10000000 loops each)\n",
       "\n",
       "  In [4]: %timeit -r 4 u == None\n",
       "\n",
       "  In [5]: import time\n",
       "\n",
       "  In [6]: %timeit -n1 time.sleep(2)\n",
       "\n",
       "The times reported by %timeit will be slightly higher than those\n",
       "reported by the timeit.py script when variables are accessed. This is\n",
       "due to the fact that %timeit executes the statement in the namespace\n",
       "of the shell, compared with timeit.py, which uses a single setup\n",
       "statement to import function or create variables. Generally, the bias\n",
       "does not matter as long as results from timeit.py are not mixed with\n",
       "those from %timeit.\n",
       "\u001b[0;31mFile:\u001b[0m      ~/conda/lib/python3.10/site-packages/IPython/core/magics/execution.py\n"
      ]
     },
     "metadata": {},
     "output_type": "display_data"
    }
   ],
   "source": [
    "%timeit?"
   ]
  },
  {
   "cell_type": "markdown",
   "metadata": {},
   "source": [
    "We can use a magic to write a file."
   ]
  },
  {
   "cell_type": "code",
   "execution_count": 21,
   "metadata": {},
   "outputs": [
    {
     "name": "stdout",
     "output_type": "stream",
     "text": [
      "Writing test.txt\n"
     ]
    }
   ],
   "source": [
    "%%writefile test.txt\n",
    "This is a test file!\n",
    "It can contain anything I want...\n",
    "\n",
    "And more..."
   ]
  },
  {
   "cell_type": "code",
   "execution_count": 22,
   "metadata": {},
   "outputs": [
    {
     "name": "stdout",
     "output_type": "stream",
     "text": [
      "This is a test file!\n",
      "It can contain anything I want...\n",
      "\n",
      "And more...\n"
     ]
    }
   ],
   "source": [
    "!cat test.txt"
   ]
  },
  {
   "cell_type": "markdown",
   "metadata": {},
   "source": [
    "Let's see what other magics are currently defined in the system:"
   ]
  },
  {
   "cell_type": "code",
   "execution_count": 42,
   "metadata": {},
   "outputs": [
    {
     "data": {
      "application/json": {
       "cell": {
        "!": "OSMagics",
        "HTML": "Other",
        "SVG": "Other",
        "bash": "Other",
        "capture": "ExecutionMagics",
        "debug": "ExecutionMagics",
        "file": "Other",
        "html": "DisplayMagics",
        "javascript": "DisplayMagics",
        "js": "DisplayMagics",
        "latex": "DisplayMagics",
        "markdown": "DisplayMagics",
        "perl": "Other",
        "prun": "ExecutionMagics",
        "pypy": "Other",
        "python": "Other",
        "python2": "Other",
        "python3": "Other",
        "ruby": "Other",
        "script": "ScriptMagics",
        "sh": "Other",
        "svg": "DisplayMagics",
        "sx": "OSMagics",
        "system": "OSMagics",
        "time": "ExecutionMagics",
        "timeit": "ExecutionMagics",
        "writefile": "OSMagics"
       },
       "line": {
        "alias": "OSMagics",
        "alias_magic": "BasicMagics",
        "autoawait": "AsyncMagics",
        "autocall": "AutoMagics",
        "automagic": "AutoMagics",
        "autosave": "KernelMagics",
        "bookmark": "OSMagics",
        "cat": "Other",
        "cd": "OSMagics",
        "clear": "KernelMagics",
        "colors": "BasicMagics",
        "conda": "PackagingMagics",
        "config": "ConfigMagics",
        "connect_info": "KernelMagics",
        "cp": "Other",
        "debug": "ExecutionMagics",
        "dhist": "OSMagics",
        "dirs": "OSMagics",
        "doctest_mode": "BasicMagics",
        "ed": "Other",
        "edit": "KernelMagics",
        "env": "OSMagics",
        "gui": "BasicMagics",
        "hist": "Other",
        "history": "HistoryMagics",
        "killbgscripts": "ScriptMagics",
        "ldir": "Other",
        "less": "KernelMagics",
        "lf": "Other",
        "lk": "Other",
        "ll": "Other",
        "load": "CodeMagics",
        "load_ext": "ExtensionMagics",
        "loadpy": "CodeMagics",
        "logoff": "LoggingMagics",
        "logon": "LoggingMagics",
        "logstart": "LoggingMagics",
        "logstate": "LoggingMagics",
        "logstop": "LoggingMagics",
        "ls": "Other",
        "lsmagic": "BasicMagics",
        "lx": "Other",
        "macro": "ExecutionMagics",
        "magic": "BasicMagics",
        "man": "KernelMagics",
        "matplotlib": "PylabMagics",
        "mkdir": "Other",
        "more": "KernelMagics",
        "mv": "Other",
        "notebook": "BasicMagics",
        "page": "BasicMagics",
        "pastebin": "CodeMagics",
        "pdb": "ExecutionMagics",
        "pdef": "NamespaceMagics",
        "pdoc": "NamespaceMagics",
        "pfile": "NamespaceMagics",
        "pinfo": "NamespaceMagics",
        "pinfo2": "NamespaceMagics",
        "pip": "PackagingMagics",
        "popd": "OSMagics",
        "pprint": "BasicMagics",
        "precision": "BasicMagics",
        "prun": "ExecutionMagics",
        "psearch": "NamespaceMagics",
        "psource": "NamespaceMagics",
        "pushd": "OSMagics",
        "pwd": "OSMagics",
        "pycat": "OSMagics",
        "pylab": "PylabMagics",
        "qtconsole": "KernelMagics",
        "quickref": "BasicMagics",
        "recall": "HistoryMagics",
        "rehashx": "OSMagics",
        "reload_ext": "ExtensionMagics",
        "rep": "Other",
        "rerun": "HistoryMagics",
        "reset": "NamespaceMagics",
        "reset_selective": "NamespaceMagics",
        "rm": "Other",
        "rmdir": "Other",
        "run": "ExecutionMagics",
        "save": "CodeMagics",
        "sc": "OSMagics",
        "set_env": "OSMagics",
        "store": "StoreMagics",
        "sx": "OSMagics",
        "system": "OSMagics",
        "tb": "ExecutionMagics",
        "time": "ExecutionMagics",
        "timeit": "ExecutionMagics",
        "unalias": "OSMagics",
        "unload_ext": "ExtensionMagics",
        "who": "NamespaceMagics",
        "who_ls": "NamespaceMagics",
        "whos": "NamespaceMagics",
        "xdel": "NamespaceMagics",
        "xmode": "BasicMagics"
       }
      },
      "text/plain": [
       "Available line magics:\n",
       "%alias  %alias_magic  %autoawait  %autocall  %automagic  %autosave  %bookmark  %cat  %cd  %clear  %colors  %conda  %config  %connect_info  %cp  %debug  %dhist  %dirs  %doctest_mode  %ed  %edit  %env  %gui  %hist  %history  %killbgscripts  %ldir  %less  %lf  %lk  %ll  %load  %load_ext  %loadpy  %logoff  %logon  %logstart  %logstate  %logstop  %ls  %lsmagic  %lx  %macro  %magic  %man  %matplotlib  %mkdir  %more  %mv  %notebook  %page  %pastebin  %pdb  %pdef  %pdoc  %pfile  %pinfo  %pinfo2  %pip  %popd  %pprint  %precision  %prun  %psearch  %psource  %pushd  %pwd  %pycat  %pylab  %qtconsole  %quickref  %recall  %rehashx  %reload_ext  %rep  %rerun  %reset  %reset_selective  %rm  %rmdir  %run  %save  %sc  %set_env  %store  %sx  %system  %tb  %time  %timeit  %unalias  %unload_ext  %who  %who_ls  %whos  %xdel  %xmode\n",
       "\n",
       "Available cell magics:\n",
       "%%!  %%HTML  %%SVG  %%bash  %%capture  %%debug  %%file  %%html  %%javascript  %%js  %%latex  %%markdown  %%perl  %%prun  %%pypy  %%python  %%python2  %%python3  %%ruby  %%script  %%sh  %%svg  %%sx  %%system  %%time  %%timeit  %%writefile\n",
       "\n",
       "Automagic is ON, % prefix IS NOT needed for line magics."
      ]
     },
     "execution_count": 42,
     "metadata": {},
     "output_type": "execute_result"
    }
   ],
   "source": [
    "%lsmagic"
   ]
  },
  {
   "cell_type": "markdown",
   "metadata": {},
   "source": [
    "## Plotting in the notebook"
   ]
  },
  {
   "cell_type": "markdown",
   "metadata": {},
   "source": [
    "This magic configures matplotlib to render its figures inline:"
   ]
  },
  {
   "cell_type": "code",
   "execution_count": 23,
   "metadata": {},
   "outputs": [],
   "source": [
    "%matplotlib inline"
   ]
  },
  {
   "cell_type": "code",
   "execution_count": 25,
   "metadata": {},
   "outputs": [],
   "source": [
    "import matplotlib.pyplot as plt\n",
    "import numpy as np"
   ]
  },
  {
   "cell_type": "code",
   "execution_count": 26,
   "metadata": {},
   "outputs": [
    {
     "data": {
      "image/png": "[encoded data removed]",
      "text/plain": [
       "<Figure size 720x444.984 with 1 Axes>"
      ]
     },
     "metadata": {
      "image/png": {
       "height": 382,
       "width": 610
      },
      "needs_background": "light"
     },
     "output_type": "display_data"
    }
   ],
   "source": [
    "x = np.linspace(0, 2 * np.pi, 300)\n",
    "y = np.sin(x**2)\n",
    "plt.plot(x, y)\n",
    "plt.title(\"A little chirp\");"
   ]
  }
 ],
 "metadata": {
  "gist_id": "81c2a94563d102d93895",
  "kernelspec": {
   "display_name": "Python 3 (ipykernel)",
   "language": "python",
   "name": "python3"
  },
  "language_info": {
   "codemirror_mode": {
    "name": "ipython",
    "version": 3
   },
   "file_extension": ".py",
   "mimetype": "text/x-python",
   "name": "python",
   "nbconvert_exporter": "python",
   "pygments_lexer": "ipython3",
   "version": "3.11.3"
  },
  "widgets": {
   "application/vnd.jupyter.widget-state+json": {
    "state": {},
    "version_major": 2,
    "version_minor": 0
   }
  }
 },
 "nbformat": 4,
 "nbformat_minor": 4
}
