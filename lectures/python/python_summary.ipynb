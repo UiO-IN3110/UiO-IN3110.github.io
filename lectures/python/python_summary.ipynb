{
 "cells": [
  {
   "cell_type": "markdown",
   "metadata": {
    "slideshow": {
     "slide_type": "slide"
    }
   },
   "source": [
    "# Python refresher\n",
    "\n",
    "Python is a high-level, interpreted programming language and currently one of the most popular programming languages.\n",
    "\n",
    "The syntax is by design easy to read and resembles pseudocode.\n",
    "\n",
    "Python is fast to program but not the fastest programming language (although there are ways to write faster Python code).\n"
   ]
  },
  {
   "cell_type": "markdown",
   "metadata": {
    "slideshow": {
     "slide_type": "skip"
    }
   },
   "source": [
    "## Books and tutorials\n",
    "\n",
    "Here are some good books and tutorials for Python 3:\n",
    "\n",
    "- [Python Library Reference](https://docs.python.org/3/)\n",
    "- [Python 3 tutorial](https://docs.python.org/3/tutorial/)\n",
    "- [Think Python](https://greenteapress.com/wp/think-python-2e/)\n"
   ]
  },
  {
   "cell_type": "markdown",
   "metadata": {
    "editable": true,
    "slideshow": {
     "slide_type": "slide"
    },
    "tags": []
   },
   "source": [
    "## Installation\n",
    "\n",
    "Python can be installed in different ways - and might be already installed on your system.\n",
    "\n",
    "Your computer most likely uses Python for its own purposes; this is something you should not interfere with.\n",
    "\n",
    "It is customary to use tools such as docker, conda and virtual environments to keep track of different versions of Python and installed packages.\n",
    "\n",
    "<img src=\"figs/anaconda-logo.png\" style=\"width: 30%; margin: auto;\">\n",
    "\n",
    "We recommend `anaconda` as a quick way to get ~everything you need for scientific Python.\n",
    "\n",
    "Advantages:\n",
    "\n",
    "- Includes a Python distribution with package manager and many packages.\n",
    "- Freely available for Windows, mac, and Linux\n",
    "\n",
    "Install `anaconda` from https://anaconda.com as a local user.\n"
   ]
  },
  {
   "cell_type": "markdown",
   "metadata": {
    "slideshow": {
     "slide_type": "slide"
    },
    "tags": []
   },
   "source": [
    "### The conda package manager\n",
    "\n",
    "conda can install many types of packages, including Python itself. conda can also install Python _packages_, which add functionality to Python.\n",
    "\n",
    "1. Make a conda environment `conda create -n in3110`\n",
    "2. Activate the conda environment `conda activate in3110`.\n",
    "3. Install Python `conda install python`\n",
    "\n",
    "Check where Python is executing from: `which python3`.\n"
   ]
  },
  {
   "cell_type": "markdown",
   "metadata": {
    "slideshow": {
     "slide_type": "fragment"
    },
    "tags": []
   },
   "source": [
    "You can use the conda package manager to find and install new packages:\n",
    "\n",
    "- Search for a package:\n",
    "  ```bash\n",
    "  conda search scipy\n",
    "  ```\n",
    "- Install a package:\n",
    "  ```bash\n",
    "  conda install scipy\n",
    "  ```\n",
    "- List all installed packages:\n",
    "  ```bash\n",
    "  conda list\n",
    "  ```\n"
   ]
  },
  {
   "cell_type": "markdown",
   "metadata": {
    "slideshow": {
     "slide_type": "slide"
    },
    "tags": []
   },
   "source": [
    "### The pip package manager\n",
    "\n",
    "`pip` is Python's own package manager, and can install only Python packages.\n",
    "You can use `pip` to find and install new packages:\n",
    "\n",
    "- Search for a package:\n",
    "  ```bash\n",
    "  python3 -m pip search scipy\n",
    "  ```\n",
    "- Install a package:\n",
    "  ```bash\n",
    "  python3 -m pip install scipy\n",
    "  ```\n",
    "- List all installed packages:\n",
    "  ```bash\n",
    "  python3 -m pip list\n",
    "  ```\n"
   ]
  },
  {
   "cell_type": "markdown",
   "metadata": {
    "slideshow": {
     "slide_type": "fragment"
    },
    "tags": []
   },
   "source": [
    "**Q**: What does `python3 -m pip ....` do?\n",
    "\n",
    "- This calls the Python-module `pip` and its `__main__.py` file (see: [Python3 Docs](https://docs.python.org/3/using/cmdline.html#cmdoption-m))\n",
    "- We can look for other command-line arguments with `python3 --help` or `man python`\n"
   ]
  },
  {
   "cell_type": "markdown",
   "metadata": {
    "slideshow": {
     "slide_type": "fragment"
    },
    "tags": []
   },
   "source": [
    "**Q**: What does it actually mean to install a package?\n",
    "\n",
    "- Download the source code\n",
    "- Adding source code to path\n"
   ]
  },
  {
   "cell_type": "code",
   "execution_count": 1,
   "metadata": {
    "slideshow": {
     "slide_type": "fragment"
    },
    "tags": []
   },
   "outputs": [
    {
     "name": "stdout",
     "output_type": "stream",
     "text": [
      "usage: python3 [option] ... [-c cmd | -m mod | file | -] [arg] ...\n",
      "Options and arguments (and corresponding environment variables):\n",
      "-b     : issue warnings about str(bytes_instance), str(bytearray_instance)\n",
      "         and comparing bytes/bytearray with str. (-bb: issue errors)\n",
      "-B     : don't write .pyc files on import; also PYTHONDONTWRITEBYTECODE=x\n",
      "-c cmd : program passed in as string (terminates option list)\n",
      "-d     : turn on parser debugging output (for experts only, only works on\n",
      "         debug builds); also PYTHONDEBUG=x\n",
      "-E     : ignore PYTHON* environment variables (such as PYTHONPATH)\n",
      "-h     : print this help message and exit (also -? or --help)\n",
      "-i     : inspect interactively after running script; forces a prompt even\n",
      "         if stdin does not appear to be a terminal; also PYTHONINSPECT=x\n",
      "-I     : isolate Python from the user's environment (implies -E and -s)\n",
      "-m mod : run library module as a script (terminates option list)\n",
      "-O     : remove assert and __debug__-dependent statements; add .opt-1 before\n",
      "         .pyc extension; also PYTHONOPTIMIZE=x\n",
      "-OO    : do -O changes and also discard docstrings; add .opt-2 before\n",
      "         .pyc extension\n",
      "-q     : don't print version and copyright messages on interactive startup\n",
      "-s     : don't add user site directory to sys.path; also PYTHONNOUSERSITE\n",
      "-S     : don't imply 'import site' on initialization\n",
      "-u     : force the stdout and stderr streams to be unbuffered;\n",
      "         this option has no effect on stdin; also PYTHONUNBUFFERED=x\n",
      "-v     : verbose (trace import statements); also PYTHONVERBOSE=x\n",
      "         can be supplied multiple times to increase verbosity\n",
      "-V     : print the Python version number and exit (also --version)\n",
      "         when given twice, print more information about the build\n",
      "-W arg : warning control; arg is action:message:category:module:lineno\n",
      "         also PYTHONWARNINGS=arg\n",
      "-x     : skip first line of source, allowing use of non-Unix forms of #!cmd\n",
      "-X opt : set implementation-specific option. The following options are available:\n",
      "         -X faulthandler: enable faulthandler\n",
      "         -X showrefcount: output the total reference count and number of used\n",
      "             memory blocks when the program finishes or after each statement in the\n",
      "             interactive interpreter. This only works on debug builds\n",
      "         -X tracemalloc: start tracing Python memory allocations using the\n",
      "             tracemalloc module. By default, only the most recent frame is stored in a\n",
      "             traceback of a trace. Use -X tracemalloc=NFRAME to start tracing with a\n",
      "             traceback limit of NFRAME frames\n",
      "         -X importtime: show how long each import takes. It shows module name,\n",
      "             cumulative time (including nested imports) and self time (excluding\n",
      "             nested imports). Note that its output may be broken in multi-threaded\n",
      "             application. Typical usage is python3 -X importtime -c 'import asyncio'\n",
      "         -X dev: enable CPython's \"development mode\", introducing additional runtime\n",
      "             checks which are too expensive to be enabled by default. Effect of the\n",
      "             developer mode:\n",
      "                * Add default warning filter, as -W default\n",
      "                * Install debug hooks on memory allocators: see the PyMem_SetupDebugHooks()\n",
      "                  C function\n",
      "                * Enable the faulthandler module to dump the Python traceback on a crash\n",
      "                * Enable asyncio debug mode\n",
      "                * Set the dev_mode attribute of sys.flags to True\n",
      "                * io.IOBase destructor logs close() exceptions\n",
      "         -X utf8: enable UTF-8 mode for operating system interfaces, overriding the default\n",
      "             locale-aware mode. -X utf8=0 explicitly disables UTF-8 mode (even when it would\n",
      "             otherwise activate automatically)\n",
      "         -X pycache_prefix=PATH: enable writing .pyc files to a parallel tree rooted at the\n",
      "             given directory instead of to the code tree\n",
      "         -X warn_default_encoding: enable opt-in EncodingWarning for 'encoding=None'\n",
      "         -X int_max_str_digits=number: limit the size of int<->str conversions.\n",
      "             This helps avoid denial of service attacks when parsing untrusted data.\n",
      "             The default is sys.int_info.default_max_str_digits.  0 disables.\n",
      "\n",
      "--check-hash-based-pycs always|default|never:\n",
      "    control how Python invalidates hash-based .pyc files\n",
      "file   : program read from script file\n",
      "-      : program read from stdin (default; interactive mode if a tty)\n",
      "arg ...: arguments passed to program in sys.argv[1:]\n",
      "\n",
      "Other environment variables:\n",
      "PYTHONSTARTUP: file executed on interactive startup (no default)\n",
      "PYTHONPATH   : ':'-separated list of directories prefixed to the\n",
      "               default module search path.  The result is sys.path.\n",
      "PYTHONHOME   : alternate <prefix> directory (or <prefix>:<exec_prefix>).\n",
      "               The default module search path uses <prefix>/lib/pythonX.X.\n",
      "PYTHONPLATLIBDIR : override sys.platlibdir.\n",
      "PYTHONCASEOK : ignore case in 'import' statements (Windows).\n",
      "PYTHONUTF8: if set to 1, enable the UTF-8 mode.\n",
      "PYTHONIOENCODING: Encoding[:errors] used for stdin/stdout/stderr.\n",
      "PYTHONFAULTHANDLER: dump the Python traceback on fatal errors.\n",
      "PYTHONHASHSEED: if this variable is set to 'random', a random value is used\n",
      "   to seed the hashes of str and bytes objects.  It can also be set to an\n",
      "   integer in the range [0,4294967295] to get hash values with a\n",
      "   predictable seed.\n",
      "PYTHONINTMAXSTRDIGITS: limits the maximum digit characters in an int value\n",
      "   when converting from a string and when converting an int back to a str.\n",
      "   A value of 0 disables the limit.  Conversions to or from bases 2, 4, 8,\n",
      "   16, and 32 are never limited.\n",
      "PYTHONMALLOC: set the Python memory allocators and/or install debug hooks\n",
      "   on Python memory allocators. Use PYTHONMALLOC=debug to install debug\n",
      "   hooks.\n",
      "PYTHONCOERCECLOCALE: if this variable is set to 0, it disables the locale\n",
      "   coercion behavior. Use PYTHONCOERCECLOCALE=warn to request display of\n",
      "   locale coercion and locale compatibility warnings on stderr.\n",
      "PYTHONBREAKPOINT: if this variable is set to 0, it disables the default\n",
      "   debugger. It can be set to the callable of your debugger of choice.\n",
      "PYTHONDEVMODE: enable the development mode.\n",
      "PYTHONPYCACHEPREFIX: root directory for bytecode cache (pyc) files.\n",
      "PYTHONWARNDEFAULTENCODING: enable opt-in EncodingWarning for 'encoding=None'.\n"
     ]
    }
   ],
   "source": [
    "! python3 --help"
   ]
  },
  {
   "cell_type": "code",
   "execution_count": 2,
   "metadata": {
    "slideshow": {
     "slide_type": "skip"
    },
    "tags": []
   },
   "outputs": [
    {
     "name": "stdout",
     "output_type": "stream",
     "text": [
      "PYTHON(1)                   General Commands Manual                  PYTHON(1)\n",
      "\n",
      "NAME\n",
      "       python  - an interpreted, interactive, object-oriented programming lan‐\n",
      "       guage\n",
      "\n",
      "SYNOPSIS\n",
      "       python [ -B ] [ -b ] [ -d ] [ -E ] [ -h ] [ -i ] [ -I ]\n",
      "              [ -m module-name ] [ -q ] [ -O ] [ -OO ] [ -s ] [ -S ] [ -u ]\n",
      "              [ -v ] [ -V ] [ -W argument ] [ -x ] [ -X option ] [ -?  ]\n",
      "              [ --check-hash-based-pycs default | always | never ]\n",
      "              [ -c command | script | - ] [ arguments ]\n",
      "\n",
      "DESCRIPTION\n",
      "       Python is an interpreted, interactive, object-oriented programming lan‐\n",
      "       guage  that  combines  remarkable power with very clear syntax.  For an\n",
      "       introduction to programming in Python, see the  Python  Tutorial.   The\n",
      "       Python  Library  Reference  documents built-in and standard types, con‐\n",
      "       stants, functions and modules.  Finally, the  Python  Reference  Manual\n",
      "       describes  the  syntax  and  semantics of the core language in (perhaps\n",
      "       too) much detail.  (These documents may be located via the INTERNET RE‐\n",
      "       SOURCES below; they may be installed on your system as well.)\n",
      "\n",
      "       Python's basic power can be extended with your own modules written in C\n",
      "       or C++.  On most  systems  such  modules  may  be  dynamically  loaded.\n",
      "       Python is also adaptable as an extension language for existing applica‐\n",
      "       tions.  See the internal documentation for hints.\n",
      "\n",
      "       Documentation for installed Python modules and packages can  be  viewed\n",
      "       by running the pydoc program.\n",
      "\n",
      "COMMAND LINE OPTIONS\n",
      "       -B     Don't  write .pyc files on import. See also PYTHONDONTWRITEBYTE‐\n",
      "              CODE.\n",
      "\n",
      "       -b     Issue  warnings  about  str(bytes_instance),   str(bytearray_in‐\n",
      "              stance)  and comparing bytes/bytearray with str. (-bb: issue er‐\n",
      "              rors)\n",
      "\n",
      "       -c command\n",
      "              Specify the command to execute (see next section).  This  termi‐\n",
      "              nates the option list (following options are passed as arguments\n",
      "              to the command).\n",
      "\n",
      "       --check-hash-based-pycs mode\n",
      "              Configure how Python evaluates the up-to-dateness of  hash-based\n",
      "              .pyc files.\n",
      "\n",
      "       -d     Turn  on  parser debugging output (for expert only, depending on\n",
      "              compilation options).\n",
      "\n",
      "       -E     Ignore environment variables like PYTHONPATH and PYTHONHOME that\n",
      "              modify the behavior of the interpreter.\n",
      "\n",
      "       -h ,  -? ,  --help\n",
      "              Prints the usage for the interpreter executable and exits.\n",
      "\n",
      "       -i     When  a  script  is passed as first argument or the -c option is\n",
      "              used, enter interactive mode after executing the script  or  the\n",
      "              command.  It does not read the $PYTHONSTARTUP file.  This can be\n",
      "              useful to inspect global variables  or  a  stack  trace  when  a\n",
      "              script raises an exception.\n",
      "\n",
      "       -I     Run  Python  in  isolated  mode. This also implies -E and -s. In\n",
      "              isolated mode sys.path contains neither the  script's  directory\n",
      "              nor  the user's site-packages directory. All PYTHON* environment\n",
      "              variables are ignored, too.  Further restrictions may be imposed\n",
      "              to prevent the user from injecting malicious code.\n",
      "\n",
      "       -m module-name\n",
      "              Searches  sys.path for the named module and runs the correspond‐\n",
      "              ing .py file as a script. This terminates the option list  (fol‐\n",
      "              lowing options are passed as arguments to the module).\n",
      "\n",
      "       -O     Remove  assert  statements and any code conditional on the value\n",
      "              of __debug__; augment the filename for compiled (bytecode) files\n",
      "              by adding .opt-1 before the .pyc extension.\n",
      "\n",
      "       -OO    Do  -O and also discard docstrings; change the filename for com‐\n",
      "              piled (bytecode) files by adding .opt-2 before the  .pyc  exten‐\n",
      "              sion.\n",
      "\n",
      "       -q     Do  not print the version and copyright messages. These messages\n",
      "              are also suppressed in non-interactive mode.\n",
      "\n",
      "       -s     Don't add user site directory to sys.path.\n",
      "\n",
      "       -S     Disable the import of the module site and the site-dependent ma‐\n",
      "              nipulations of sys.path that it entails.  Also disable these ma‐\n",
      "              nipulations if site is explicitly imported later.\n",
      "\n",
      "       -u     Force the stdout and stderr streams to be unbuffered.  This  op‐\n",
      "              tion has no effect on the stdin stream.\n",
      "\n",
      "       -v     Print  a  message each time a module is initialized, showing the\n",
      "              place (filename or built-in module) from  which  it  is  loaded.\n",
      "              When  given twice, print a message for each file that is checked\n",
      "              for when searching for a module.  Also provides  information  on\n",
      "              module cleanup at exit.\n",
      "\n",
      "       -V ,  --version\n",
      "              Prints  the  Python  version number of the executable and exits.\n",
      "              When given twice, print more information about the build.\n",
      "\n",
      "       -W argument\n",
      "              Warning control. Python's warning machinery  by  default  prints\n",
      "              warning messages to sys.stderr.\n",
      "\n",
      "              The  simplest settings apply a particular action unconditionally\n",
      "              to all warnings emitted by a process (even those that are other‐\n",
      "              wise ignored by default):\n",
      "\n",
      "                -Wdefault  # Warn once per call location\n",
      "                -Werror    # Convert to exceptions\n",
      "                -Walways   # Warn every time\n",
      "                -Wmodule   # Warn once per calling module\n",
      "                -Wonce     # Warn once per Python process\n",
      "                -Wignore   # Never warn\n",
      "\n",
      "              The  action  names  can be abbreviated as desired and the inter‐\n",
      "              preter will resolve them to the appropriate action name. For ex‐\n",
      "              ample, -Wi is the same as -Wignore .\n",
      "\n",
      "              The  full  form  of  argument  is:  action:message:category:mod‐\n",
      "              ule:lineno\n",
      "\n",
      "              Empty fields match all values;  trailing  empty  fields  may  be\n",
      "              omitted.  For  example -W ignore::DeprecationWarning ignores all\n",
      "              DeprecationWarning warnings.\n",
      "\n",
      "              The action field is as explained above but only applies to warn‐\n",
      "              ings that match the remaining fields.\n",
      "\n",
      "              The  message field must match the whole printed warning message;\n",
      "              this match is case-insensitive.\n",
      "\n",
      "              The category field matches the warning category  (ex:  \"Depreca‐\n",
      "              tionWarning\"). This must be a class name; the match test whether\n",
      "              the actual warning category of the message is a subclass of  the\n",
      "              specified warning category.\n",
      "\n",
      "              The module field matches the (fully-qualified) module name; this\n",
      "              match is case-sensitive.\n",
      "\n",
      "              The lineno field matches the line number, where zero matches all\n",
      "              line numbers and is thus equivalent to an omitted line number.\n",
      "\n",
      "              Multiple  -W  options  can be given; when a warning matches more\n",
      "              than one option, the action for the last matching option is per‐\n",
      "              formed.  Invalid  -W options are ignored (though, a warning mes‐\n",
      "              sage is printed about invalid options when the first warning  is\n",
      "              issued).\n",
      "\n",
      "              Warnings  can  also be controlled using the PYTHONWARNINGS envi‐\n",
      "              ronment variable and from within  a  Python  program  using  the\n",
      "              warnings  module.   For  example,  the warnings.filterwarnings()\n",
      "              function can be used to use a regular expression on the  warning\n",
      "              message.\n",
      "\n",
      "       -X option\n",
      "              Set  implementation  specific  option. The following options are\n",
      "              available:\n",
      "\n",
      "                  -X faulthandler: enable faulthandler\n",
      "\n",
      "                  -X showrefcount: output the total reference count and number\n",
      "              of used\n",
      "                      memory  blocks  when  the program finishes or after each\n",
      "              statement in the\n",
      "                      interactive interpreter. This only works on debug builds\n",
      "\n",
      "                  -X tracemalloc: start tracing Python memory allocations  us‐\n",
      "              ing the\n",
      "                      tracemalloc  module.  By  default,  only the most recent\n",
      "              frame is stored in a\n",
      "                      traceback of a trace. Use -X tracemalloc=NFRAME to start\n",
      "              tracing with a\n",
      "                      traceback limit of NFRAME frames\n",
      "\n",
      "                  -X  importtime:  show  how  long each import takes. It shows\n",
      "              module name,\n",
      "                      cumulative time (including nested imports) and self time\n",
      "              (excluding\n",
      "                      nested  imports).  Note that its output may be broken in\n",
      "              multi-threaded\n",
      "                      application. Typical usage is python3 -X  importtime  -c\n",
      "              'import asyncio'\n",
      "\n",
      "                  -X dev: enable CPython's \"development mode\", introducing ad‐\n",
      "              ditional runtime\n",
      "                      checks which are too expensive to be enabled by default.\n",
      "              It will not be\n",
      "                      more  verbose  than  the default if the code is correct:\n",
      "              new warnings are\n",
      "                      only emitted when an issue is detected.  Effect  of  the\n",
      "              developer mode:\n",
      "                         * Add default warning filter, as -W default\n",
      "                         *  Install  debug hooks on memory allocators: see the\n",
      "              PyMem_SetupDebugHooks()\n",
      "                           C function\n",
      "                         * Enable the faulthandler module to dump  the  Python\n",
      "              traceback on a crash\n",
      "                         * Enable asyncio debug mode\n",
      "                         * Set the dev_mode attribute of sys.flags to True\n",
      "                         * io.IOBase destructor logs close() exceptions\n",
      "\n",
      "                  -X  utf8: enable UTF-8 mode for operating system interfaces,\n",
      "              overriding the default\n",
      "                      locale-aware mode. -X utf8=0 explicitly  disables  UTF-8\n",
      "              mode (even when it would\n",
      "                      otherwise  activate  automatically).  See PYTHONUTF8 for\n",
      "              more details\n",
      "\n",
      "                  -X pycache_prefix=PATH: enable writing .pyc files to a  par‐\n",
      "              allel tree rooted at the\n",
      "                      given directory instead of to the code tree.\n",
      "\n",
      "                  -X  warn_default_encoding: enable opt-in EncodingWarning for\n",
      "              'encoding=None'\n",
      "\n",
      "                  -X int_max_str_digits=number: limit the  size  of  int<->str\n",
      "              conversions.\n",
      "                     This  helps  avoid denial of service attacks when parsing\n",
      "              untrusted data.\n",
      "                     The default  is  sys.int_info.default_max_str_digits.   0\n",
      "              disables.\n",
      "\n",
      "       -x     Skip  the  first line of the source.  This is intended for a DOS\n",
      "              specific hack only.  Warning: the line numbers in error messages\n",
      "              will be off by one!\n",
      "\n",
      "INTERPRETER INTERFACE\n",
      "       The interpreter interface resembles that of the UNIX shell: when called\n",
      "       with standard input connected to a tty device, it prompts for  commands\n",
      "       and  executes  them  until an EOF is read; when called with a file name\n",
      "       argument or with a file as standard input,  it  reads  and  executes  a\n",
      "       script  from  that  file;  when called with -c command, it executes the\n",
      "       Python statement(s) given as command.  Here command may contain  multi‐\n",
      "       ple  statements  separated by newlines.  Leading whitespace is signifi‐\n",
      "       cant in Python statements!  In non-interactive mode, the  entire  input\n",
      "       is parsed before it is executed.\n",
      "\n",
      "       If  available,  the script name and additional arguments thereafter are\n",
      "       passed to the script in the Python variable sys.argv, which is  a  list\n",
      "       of  strings (you must first import sys to be able to access it).  If no\n",
      "       script name is given, sys.argv[0] is an empty string; if  -c  is  used,\n",
      "       sys.argv[0] contains the string '-c'.  Note that options interpreted by\n",
      "       the Python interpreter itself are not placed in sys.argv.\n",
      "\n",
      "       In interactive mode, the primary prompt is  `>>>';  the  second  prompt\n",
      "       (which  appears  when a command is not complete) is `...'.  The prompts\n",
      "       can be changed by assignment to sys.ps1 or  sys.ps2.   The  interpreter\n",
      "       quits  when  it  reads an EOF at a prompt.  When an unhandled exception\n",
      "       occurs, a stack trace is printed and control  returns  to  the  primary\n",
      "       prompt;  in  non-interactive mode, the interpreter exits after printing\n",
      "       the stack trace.  The interrupt signal raises the KeyboardInterrupt ex‐\n",
      "       ception;  other  UNIX  signals  are  not caught (except that SIGPIPE is\n",
      "       sometimes ignored, in favor of the IOError exception).  Error  messages\n",
      "       are written to stderr.\n",
      "\n",
      "FILES AND DIRECTORIES\n",
      "       These are subject to difference depending on local installation conven‐\n",
      "       tions; ${prefix}  and  ${exec_prefix}  are  installation-dependent  and\n",
      "       should  be  interpreted as for GNU software; they may be the same.  The\n",
      "       default for both is /usr/local.\n",
      "\n",
      "       ${exec_prefix}/bin/python\n",
      "              Recommended location of the interpreter.\n",
      "\n",
      "       ${prefix}/lib/python<version>\n",
      "       ${exec_prefix}/lib/python<version>\n",
      "              Recommended locations of the directories containing the standard\n",
      "              modules.\n",
      "\n",
      "       ${prefix}/include/python<version>\n",
      "       ${exec_prefix}/include/python<version>\n",
      "              Recommended  locations of the directories containing the include\n",
      "              files needed for developing Python extensions and embedding  the\n",
      "              interpreter.\n",
      "\n",
      "ENVIRONMENT VARIABLES\n",
      "       PYTHONHOME\n",
      "              Change  the  location  of the standard Python libraries.  By de‐\n",
      "              fault, the libraries are searched  in  ${prefix}/lib/python<ver‐\n",
      "              sion>  and  ${exec_prefix}/lib/python<version>,  where ${prefix}\n",
      "              and ${exec_prefix} are installation-dependent directories,  both\n",
      "              defaulting  to  /usr/local.  When $PYTHONHOME is set to a single\n",
      "              directory, its value replaces both ${prefix} and ${exec_prefix}.\n",
      "              To specify different values for these, set $PYTHONHOME to ${pre‐\n",
      "              fix}:${exec_prefix}.\n",
      "\n",
      "       PYTHONPATH\n",
      "              Augments the default search path for module files.   The  format\n",
      "              is  the  same  as the shell's $PATH: one or more directory path‐\n",
      "              names  separated  by  colons.   Non-existent   directories   are\n",
      "              silently  ignored.   The default search path is installation de‐\n",
      "              pendent, but generally begins with ${prefix}/lib/python<version>\n",
      "              (see  PYTHONHOME  above).  The default search path is always ap‐\n",
      "              pended to $PYTHONPATH.  If a script argument is given,  the  di‐\n",
      "              rectory  containing  the script is inserted in the path in front\n",
      "              of $PYTHONPATH.  The search path can be manipulated from  within\n",
      "              a Python program as the variable sys.path.\n",
      "\n",
      "       PYTHONPLATLIBDIR\n",
      "              Override sys.platlibdir.\n",
      "\n",
      "       PYTHONSTARTUP\n",
      "              If  this  is the name of a readable file, the Python commands in\n",
      "              that file are executed before the first prompt is  displayed  in\n",
      "              interactive  mode.   The file is executed in the same name space\n",
      "              where interactive commands are executed so that objects  defined\n",
      "              or  imported  in it can be used without qualification in the in‐\n",
      "              teractive session.  You can also change the prompts sys.ps1  and\n",
      "              sys.ps2 in this file.\n",
      "\n",
      "       PYTHONOPTIMIZE\n",
      "              If  this is set to a non-empty string it is equivalent to speci‐\n",
      "              fying the -O option. If set to an integer, it is  equivalent  to\n",
      "              specifying -O multiple times.\n",
      "\n",
      "       PYTHONDEBUG\n",
      "              If  this is set to a non-empty string it is equivalent to speci‐\n",
      "              fying the -d option. If set to an integer, it is  equivalent  to\n",
      "              specifying -d multiple times.\n",
      "\n",
      "       PYTHONDONTWRITEBYTECODE\n",
      "              If  this is set to a non-empty string it is equivalent to speci‐\n",
      "              fying the -B option (don't try to write .pyc files).\n",
      "\n",
      "       PYTHONINSPECT\n",
      "              If this is set to a non-empty string it is equivalent to  speci‐\n",
      "              fying the -i option.\n",
      "\n",
      "       PYTHONIOENCODING\n",
      "              If  this is set before running the interpreter, it overrides the\n",
      "              encoding used for stdin/stdout/stderr, in the  syntax  encoding‐\n",
      "              name:errorhandler  The errorhandler part is optional and has the\n",
      "              same meaning as in str.encode. For stderr, the errorhandler\n",
      "               part is ignored; the handler will always be ´backslashreplace´.\n",
      "\n",
      "       PYTHONNOUSERSITE\n",
      "              If this is set to a non-empty string it is equivalent to  speci‐\n",
      "              fying  the  -s  option  (Don't  add  the  user site directory to\n",
      "              sys.path).\n",
      "\n",
      "       PYTHONUNBUFFERED\n",
      "              If this is set to a non-empty string it is equivalent to  speci‐\n",
      "              fying the -u option.\n",
      "\n",
      "       PYTHONVERBOSE\n",
      "              If  this is set to a non-empty string it is equivalent to speci‐\n",
      "              fying the -v option. If set to an integer, it is  equivalent  to\n",
      "              specifying -v multiple times.\n",
      "\n",
      "       PYTHONWARNINGS\n",
      "              If  this  is set to a comma-separated string it is equivalent to\n",
      "              specifying the -W option for each separate value.\n",
      "\n",
      "       PYTHONHASHSEED\n",
      "              If this variable is set to \"random\", a random value is  used  to\n",
      "              seed the hashes of str and bytes objects.\n",
      "\n",
      "              If  PYTHONHASHSEED  is  set to an integer value, it is used as a\n",
      "              fixed seed for generating the hash() of the types covered by the\n",
      "              hash randomization.  Its purpose is to allow repeatable hashing,\n",
      "              such as for selftests for the interpreter itself, or to allow  a\n",
      "              cluster of python processes to share hash values.\n",
      "\n",
      "              The   integer   must   be   a   decimal   number  in  the  range\n",
      "              [0,4294967295].  Specifying the value 0 will disable  hash  ran‐\n",
      "              domization.\n",
      "\n",
      "       PYTHONINTMAXSTRDIGITS\n",
      "              Limit the maximum digit characters in an int value when convert‐\n",
      "              ing from a string and when converting an int back to a  str.   A\n",
      "              value  of 0 disables the limit.  Conversions to or from bases 2,\n",
      "              4, 8, 16, and 32 are never limited.\n",
      "\n",
      "       PYTHONMALLOC\n",
      "              Set the Python memory allocators and/or install debug hooks. The\n",
      "              available memory allocators are malloc and pymalloc.  The avail‐\n",
      "              able debug hooks are debug, malloc_debug, and pymalloc_debug.\n",
      "\n",
      "              When Python is compiled in debug mode,  the  default  is  pymal‐\n",
      "              loc_debug and the debug hooks are automatically used. Otherwise,\n",
      "              the default is pymalloc.\n",
      "\n",
      "       PYTHONMALLOCSTATS\n",
      "              If set to a non-empty string, Python will  print  statistics  of\n",
      "              the  pymalloc  memory allocator every time a new pymalloc object\n",
      "              arena is created, and on shutdown.\n",
      "\n",
      "              This variable is ignored if the $PYTHONMALLOC environment  vari‐\n",
      "              able  is used to force the malloc(3) allocator of the C library,\n",
      "              or if Python is configured without pymalloc support.\n",
      "\n",
      "       PYTHONASYNCIODEBUG\n",
      "              If this environment variable is set to a non-empty  string,  en‐\n",
      "              able the debug mode of the asyncio module.\n",
      "\n",
      "       PYTHONTRACEMALLOC\n",
      "              If this environment variable is set to a non-empty string, start\n",
      "              tracing Python memory allocations using the tracemalloc module.\n",
      "\n",
      "              The value of the variable is the maximum number of frames stored\n",
      "              in  a  traceback  of  a  trace. For example, PYTHONTRACEMALLOC=1\n",
      "              stores only the most recent frame.\n",
      "\n",
      "       PYTHONFAULTHANDLER\n",
      "              If this environment variable  is  set  to  a  non-empty  string,\n",
      "              faulthandler.enable()  is  called  at startup: install a handler\n",
      "              for SIGSEGV, SIGFPE, SIGABRT, SIGBUS and SIGILL signals to  dump\n",
      "              the Python traceback.\n",
      "\n",
      "              This is equivalent to the -X faulthandler option.\n",
      "\n",
      "       PYTHONEXECUTABLE\n",
      "              If  this environment variable is set, sys.argv[0] will be set to\n",
      "              its value instead of the value got through the C  runtime.  Only\n",
      "              works on Mac OS X.\n",
      "\n",
      "       PYTHONUSERBASE\n",
      "              Defines  the  user  base directory, which is used to compute the\n",
      "              path of the user site-packages directory and Distutils installa‐\n",
      "              tion paths for python setup.py install --user.\n",
      "\n",
      "       PYTHONPROFILEIMPORTTIME\n",
      "              If  this  environment  variable  is  set  to a non-empty string,\n",
      "              Python will show how long each import  takes.  This  is  exactly\n",
      "              equivalent to setting -X importtime on the command line.\n",
      "\n",
      "       PYTHONBREAKPOINT\n",
      "              If  this  environment  variable is set to 0, it disables the de‐\n",
      "              fault debugger. It can be set to the callable of  your  debugger\n",
      "              of choice.\n",
      "\n",
      "   Debug-mode variables\n",
      "       Setting  these variables only has an effect in a debug build of Python,\n",
      "       that is, if Python was configured with the --with-pydebug build option.\n",
      "\n",
      "       PYTHONTHREADDEBUG\n",
      "              If this environment variable is set, Python will print threading\n",
      "              debug  info.   The feature is deprecated in Python 3.10 and will\n",
      "              be removed in Python 3.12.\n",
      "\n",
      "       PYTHONDUMPREFS\n",
      "              If this environment variable is set, Python  will  dump  objects\n",
      "              and  reference counts still alive after shutting down the inter‐\n",
      "              preter.\n",
      "\n",
      "AUTHOR\n",
      "       The Python Software Foundation: https://www.python.org/psf/\n",
      "\n",
      "INTERNET RESOURCES\n",
      "       Main website:  https://www.python.org/\n",
      "       Documentation:  https://docs.python.org/\n",
      "       Developer resources:  https://devguide.python.org/\n",
      "       Downloads:  https://www.python.org/downloads/\n",
      "       Module repository:  https://pypi.org/\n",
      "       Newsgroups:  comp.lang.python, comp.lang.python.announce\n",
      "\n",
      "LICENSING\n",
      "       Python is distributed under an Open Source license.  See the file  \"LI‐\n",
      "       CENSE\"  in  the  Python  source distribution for information on terms &\n",
      "       conditions for accessing and otherwise using  Python  and  for  a  DIS‐\n",
      "       CLAIMER OF ALL WARRANTIES.\n",
      "\n",
      "                                                                     PYTHON(1)\n"
     ]
    }
   ],
   "source": [
    "! man python3"
   ]
  },
  {
   "cell_type": "markdown",
   "metadata": {
    "slideshow": {
     "slide_type": "slide"
    }
   },
   "source": [
    "## Example:\n",
    "\n",
    "Download course files and install necessary packages:\n",
    "\n",
    "```\n",
    "git clone https://github.com/UiO-IN3110/UiO-IN3110.github.io/\n",
    "cd UiO-IN3110.github.io\n",
    "conda create -n in3110\n",
    "conda activate in3110\n",
    "conda install python\n",
    "python3 -m pip install -r requirements.txt\n",
    "python3 -m bash_kernel.install --sys-prefix\n",
    "```\n"
   ]
  },
  {
   "cell_type": "markdown",
   "metadata": {
    "slideshow": {
     "slide_type": "slide"
    },
    "tags": []
   },
   "source": [
    "## First Python encounter: A scientific hello world program\n",
    "\n",
    "File `hw.py` in `UiO-IN3110.github.io/lectures/python`:\n",
    "\n",
    "```python\n",
    "#!/usr/bin/env python3\n",
    "from math import sin\n",
    "import sys\n",
    "\n",
    "x = float(sys.argv[1])\n",
    "print(f\"Hello world, sin({x}) = {sin(x)}\")\n",
    "```\n"
   ]
  },
  {
   "cell_type": "markdown",
   "metadata": {
    "slideshow": {
     "slide_type": "fragment"
    },
    "tags": []
   },
   "source": [
    "### Running the script from the command line\n",
    "\n",
    "Works an all operating systems:\n",
    "\n",
    "```bash\n",
    "> python3 hw.py 0.8\n",
    "Hello world, sin(0.8) = 0.7173560908995228\n",
    "```\n"
   ]
  },
  {
   "cell_type": "markdown",
   "metadata": {
    "slideshow": {
     "slide_type": "fragment"
    },
    "tags": []
   },
   "source": [
    "A Linux/mac alternative is to make the file executable.\n",
    "This will only work when the the line with `#!...` (known as the shebang) is included:\n",
    "\n",
    "```bash\n",
    "> chmod a+x hw.py\n",
    "> ./hw.py 10\n",
    "Hello world, sin(10.0) = -0.5440211108893698\n",
    "```\n"
   ]
  },
  {
   "cell_type": "markdown",
   "metadata": {
    "slideshow": {
     "slide_type": "slide"
    }
   },
   "source": [
    "## Dissection of `hw.py` (1)\n",
    "\n",
    "On Linux/mac: find out what kind of script language (interpreter) to use and expose all environment variables:\n",
    "\n",
    "```python\n",
    "#!/usr/bin/env python3\n",
    "```\n"
   ]
  },
  {
   "cell_type": "markdown",
   "metadata": {
    "slideshow": {
     "slide_type": "fragment"
    }
   },
   "source": [
    "Access library functionality like the function `sin` (from the [math-module](https://docs.python.org/3/library/math.html)) and the list `sys.argv`\n",
    "(of command-line arguments):\n",
    "\n",
    "```python\n",
    "from math import sin\n",
    "import sys\n",
    "```\n"
   ]
  },
  {
   "cell_type": "markdown",
   "metadata": {
    "slideshow": {
     "slide_type": "fragment"
    }
   },
   "source": [
    "Read first command line argument and convert it to a floating point object:\n",
    "\n",
    "```python\n",
    "x = float(sys.argv[1])\n",
    "```\n",
    "\n",
    "**Note**: Python variables are not declared.\n"
   ]
  },
  {
   "cell_type": "markdown",
   "metadata": {
    "slideshow": {
     "slide_type": "slide"
    }
   },
   "source": [
    "## Dissection of `hw.py` (2)\n",
    "\n",
    "Print out the result using a format string:\n",
    "\n",
    "```python\n",
    "print(f\"Hello world, sin({x}) = {sin(x)}\")\n",
    "```\n",
    "\n",
    "or with complete control of the formating of floats (similar to the C's `printf` syntax):\n",
    "\n",
    "```python\n",
    "print(f\"Hello world, sin({x:g}) = {sin(x):.3f}\")\n",
    "```\n"
   ]
  },
  {
   "cell_type": "markdown",
   "metadata": {
    "slideshow": {
     "slide_type": "slide"
    }
   },
   "source": [
    "# Essential Python syntax\n",
    "\n",
    "## Python as a calculator\n",
    "\n",
    "You can use the Python as a simple calculator:\n"
   ]
  },
  {
   "cell_type": "code",
   "execution_count": 3,
   "metadata": {
    "slideshow": {
     "slide_type": "fragment"
    }
   },
   "outputs": [
    {
     "data": {
      "text/plain": [
       "3"
      ]
     },
     "execution_count": 3,
     "metadata": {},
     "output_type": "execute_result"
    }
   ],
   "source": [
    "1 + 2"
   ]
  },
  {
   "cell_type": "code",
   "execution_count": 4,
   "metadata": {
    "slideshow": {
     "slide_type": "fragment"
    }
   },
   "outputs": [
    {
     "data": {
      "text/plain": [
       "10.5"
      ]
     },
     "execution_count": 4,
     "metadata": {},
     "output_type": "execute_result"
    }
   ],
   "source": [
    "4.5 / 3 + (1 + 2) * 3"
   ]
  },
  {
   "cell_type": "markdown",
   "metadata": {
    "slideshow": {
     "slide_type": "fragment"
    }
   },
   "source": [
    "Use `**` to compute the power:\n"
   ]
  },
  {
   "cell_type": "code",
   "execution_count": 5,
   "metadata": {
    "slideshow": {
     "slide_type": "fragment"
    }
   },
   "outputs": [
    {
     "data": {
      "text/plain": [
       "1024"
      ]
     },
     "execution_count": 5,
     "metadata": {},
     "output_type": "execute_result"
    }
   ],
   "source": [
    "4**5"
   ]
  },
  {
   "cell_type": "markdown",
   "metadata": {
    "slideshow": {
     "slide_type": "fragment"
    }
   },
   "source": [
    "Python also supports complex numbers:\n"
   ]
  },
  {
   "cell_type": "code",
   "execution_count": 6,
   "metadata": {
    "slideshow": {
     "slide_type": "fragment"
    }
   },
   "outputs": [
    {
     "data": {
      "text/plain": [
       "(13+1j)"
      ]
     },
     "execution_count": 6,
     "metadata": {},
     "output_type": "execute_result"
    }
   ],
   "source": [
    "a = 1 + 2j\n",
    "b = 3 - 5j\n",
    "a * b"
   ]
  },
  {
   "cell_type": "markdown",
   "metadata": {
    "slideshow": {
     "slide_type": "slide"
    }
   },
   "source": [
    "More advanced mathematical functions can be imported:\n"
   ]
  },
  {
   "cell_type": "code",
   "execution_count": 7,
   "metadata": {
    "slideshow": {
     "slide_type": "fragment"
    }
   },
   "outputs": [
    {
     "data": {
      "text/plain": [
       "0.6989700043360189"
      ]
     },
     "execution_count": 7,
     "metadata": {},
     "output_type": "execute_result"
    }
   ],
   "source": [
    "from math import log10\n",
    "\n",
    "log10(5)"
   ]
  },
  {
   "cell_type": "markdown",
   "metadata": {
    "slideshow": {
     "slide_type": "slide"
    }
   },
   "source": [
    "# Python variables and data types\n"
   ]
  },
  {
   "cell_type": "markdown",
   "metadata": {
    "slideshow": {
     "slide_type": "fragment"
    }
   },
   "source": [
    "## Basic types\n",
    "\n",
    "- strings: `\"strings for storing text\"`\n",
    "- numbers: `1, 1.5`\n",
    "- tuples: `(1, 2, 3)` for storing static collections\n",
    "- lists: `[\"a\", \"b\", \"c\"]` for mutable, ordered sequences\n",
    "- dicts: `{\"key\": \"value\"}` for storing key-value pairs\n",
    "- sets: `{\"do\", \"re\", \"mi\"}` for storing unique, unordered collections\n"
   ]
  },
  {
   "cell_type": "markdown",
   "metadata": {
    "slideshow": {
     "slide_type": "slide"
    }
   },
   "source": [
    "## Strings\n",
    "\n",
    "Strings can be expressed as single quotes (`'...'`) or double quotes (`\"...\"`) with the same result:\n",
    "\n",
    "```python\n",
    "'some string'\n",
    "```\n",
    "\n",
    "is equivalent to\n",
    "\n",
    "```python\n",
    "\"some string\"\n",
    "```\n",
    "\n",
    "Triple-quoted strings can be multi line with embedded newlines:\n",
    "\n",
    "```python\n",
    "text = \"\"\"large portions of a text\n",
    "can be conveniently placed inside\n",
    "triple-quoted strings (newlines\n",
    "are preserved)\"\"\"\n",
    "```\n"
   ]
  },
  {
   "cell_type": "markdown",
   "metadata": {
    "slideshow": {
     "slide_type": "slide"
    }
   },
   "source": [
    "## Special characters in strings\n"
   ]
  },
  {
   "cell_type": "markdown",
   "metadata": {
    "slideshow": {
     "slide_type": "fragment"
    }
   },
   "source": [
    "Use the backslash `\\` to escape special characters:\n"
   ]
  },
  {
   "cell_type": "code",
   "execution_count": 8,
   "metadata": {
    "slideshow": {
     "slide_type": "fragment"
    }
   },
   "outputs": [
    {
     "name": "stdout",
     "output_type": "stream",
     "text": [
      "\"This is a quote\" and \n",
      " here comes a backslash: \\\n"
     ]
    }
   ],
   "source": [
    "s = '\"This is a quote\" and \\n here comes a backslash: \\\\'\n",
    "print(s)"
   ]
  },
  {
   "cell_type": "markdown",
   "metadata": {
    "slideshow": {
     "slide_type": "slide"
    }
   },
   "source": [
    "## String concatenation\n",
    "\n",
    "Strings can be _glued_ together with the `+` and the `*` operators:\n"
   ]
  },
  {
   "cell_type": "code",
   "execution_count": 9,
   "metadata": {
    "slideshow": {
     "slide_type": "fragment"
    }
   },
   "outputs": [
    {
     "data": {
      "text/plain": [
       "'hello hello hello world'"
      ]
     },
     "execution_count": 9,
     "metadata": {},
     "output_type": "execute_result"
    }
   ],
   "source": [
    "\"hello \" * 3 + \"world\""
   ]
  },
  {
   "cell_type": "markdown",
   "metadata": {
    "slideshow": {
     "slide_type": "fragment"
    }
   },
   "source": [
    "This works also with string variables:\n"
   ]
  },
  {
   "cell_type": "code",
   "execution_count": 10,
   "metadata": {
    "slideshow": {
     "slide_type": "fragment"
    }
   },
   "outputs": [
    {
     "data": {
      "text/plain": [
       "'I will not eat chips all day, I will not eat chips all day, I will not eat chips all day, I will not eat chips all day, I will not eat chips all day, I will not eat chips all day, I will not eat chips all day, I will not eat chips all day, I will not eat chips all day, I will not eat chips all day, I will not eat chips all day'"
      ]
     },
     "execution_count": 10,
     "metadata": {},
     "output_type": "execute_result"
    }
   ],
   "source": [
    "quote = \"I will not eat chips all day\"\n",
    "(quote + \", \") * 10 + quote"
   ]
  },
  {
   "cell_type": "markdown",
   "metadata": {
    "slideshow": {
     "slide_type": "subslide"
    }
   },
   "source": [
    "## Slicing\n"
   ]
  },
  {
   "cell_type": "markdown",
   "metadata": {
    "slideshow": {
     "slide_type": "slide"
    }
   },
   "source": [
    "You can extract a sub-string with the `[start:end]` slicing notation:\n"
   ]
  },
  {
   "cell_type": "code",
   "execution_count": 11,
   "metadata": {
    "slideshow": {
     "slide_type": "fragment"
    }
   },
   "outputs": [
    {
     "data": {
      "text/plain": [
       "'will'"
      ]
     },
     "execution_count": 11,
     "metadata": {},
     "output_type": "execute_result"
    }
   ],
   "source": [
    "quote[2:6]"
   ]
  },
  {
   "cell_type": "markdown",
   "metadata": {
    "slideshow": {
     "slide_type": "fragment"
    }
   },
   "source": [
    "If the `start` (`left`) argument is left out, the substring will start from the first (last) character:\n"
   ]
  },
  {
   "cell_type": "code",
   "execution_count": 12,
   "metadata": {
    "slideshow": {
     "slide_type": "fragment"
    }
   },
   "outputs": [
    {
     "data": {
      "text/plain": [
       "'not eat chips all day'"
      ]
     },
     "execution_count": 12,
     "metadata": {},
     "output_type": "execute_result"
    }
   ],
   "source": [
    "quote[:6]  # I will\n",
    "quote[7:]  # not eat chips all day"
   ]
  },
  {
   "cell_type": "markdown",
   "metadata": {
    "slideshow": {
     "slide_type": "fragment"
    }
   },
   "source": [
    "Negative indices can be used to index \"from the right\":\n"
   ]
  },
  {
   "cell_type": "markdown",
   "metadata": {
    "slideshow": {
     "slide_type": "fragment"
    }
   },
   "source": [
    "```\n",
    " +---+---+---+---+---+\n",
    " | c | h | i | p | s |\n",
    " +---+---+---+---+---+\n",
    "   0   1   2   3   4\n",
    "  -5  -4  -3  -2  -1\n",
    "```\n"
   ]
  },
  {
   "cell_type": "code",
   "execution_count": 13,
   "metadata": {
    "slideshow": {
     "slide_type": "fragment"
    },
    "tags": []
   },
   "outputs": [
    {
     "data": {
      "text/plain": [
       "'hi'"
      ]
     },
     "execution_count": 13,
     "metadata": {},
     "output_type": "execute_result"
    }
   ],
   "source": [
    "\"chips\"[1:-2]"
   ]
  },
  {
   "cell_type": "markdown",
   "metadata": {
    "slideshow": {
     "slide_type": "slide"
    },
    "tags": []
   },
   "source": [
    "## Python strings cannot be changed\n",
    "\n",
    "Python strings are **immutable**, meaning that they cannot be changed:\n"
   ]
  },
  {
   "cell_type": "code",
   "execution_count": 14,
   "metadata": {
    "slideshow": {
     "slide_type": "fragment"
    }
   },
   "outputs": [
    {
     "ename": "TypeError",
     "evalue": "'str' object does not support item assignment",
     "output_type": "error",
     "traceback": [
      "\u001b[0;31m---------------------------------------------------------------------------\u001b[0m",
      "\u001b[0;31mTypeError\u001b[0m                                 Traceback (most recent call last)",
      "Cell \u001b[0;32mIn [14], line 1\u001b[0m\n\u001b[0;32m----> 1\u001b[0m \u001b[43mquote\u001b[49m\u001b[43m[\u001b[49m\u001b[38;5;241;43m1\u001b[39;49m\u001b[43m]\u001b[49m \u001b[38;5;241m=\u001b[39m \u001b[38;5;124m\"\u001b[39m\u001b[38;5;124mx\u001b[39m\u001b[38;5;124m\"\u001b[39m\n",
      "\u001b[0;31mTypeError\u001b[0m: 'str' object does not support item assignment"
     ]
    }
   ],
   "source": [
    "quote[1] = \"x\""
   ]
  },
  {
   "cell_type": "markdown",
   "metadata": {
    "slideshow": {
     "slide_type": "fragment"
    }
   },
   "source": [
    "If one wants to change a string, one needs to create a new one:\n"
   ]
  },
  {
   "cell_type": "code",
   "execution_count": 15,
   "metadata": {
    "slideshow": {
     "slide_type": "fragment"
    },
    "tags": []
   },
   "outputs": [
    {
     "name": "stdout",
     "output_type": "stream",
     "text": [
      "Ixwill not eat chips all day\n"
     ]
    }
   ],
   "source": [
    "quote = quote[:1] + \"x\" + quote[2:]\n",
    "print(quote)"
   ]
  },
  {
   "cell_type": "markdown",
   "metadata": {
    "slideshow": {
     "slide_type": "slide"
    },
    "tags": []
   },
   "source": [
    "## More useful string operations\n",
    "\n",
    "| Code                            | Meaning                            |\n",
    "| ------------------------------- | ---------------------------------- |\n",
    "| 'day' in quote                  | True if string contains substring  |\n",
    "| quote.find('i')                 | index where first 'i' is found     |\n",
    "| quote.split()                   | split at whitespace (returns list) |\n",
    "| quote.replace('chips', 'salad') | replace all occurances             |\n",
    "| quote.lower()                   | convert to lower case              |\n",
    "| quote.upper()                   | convert to upper case              |\n",
    "| quote.strip()                   | remove leading/trailing blanks     |\n"
   ]
  },
  {
   "cell_type": "markdown",
   "metadata": {
    "slideshow": {
     "slide_type": "skip"
    }
   },
   "source": [
    "Note that the modification operations return a **new** string (since strings are immutable).\n"
   ]
  },
  {
   "cell_type": "markdown",
   "metadata": {
    "slideshow": {
     "slide_type": "slide"
    }
   },
   "source": [
    "## Lists\n",
    "\n",
    "Python lists allow you to group together a sequence of values:\n"
   ]
  },
  {
   "cell_type": "code",
   "execution_count": null,
   "metadata": {
    "slideshow": {
     "slide_type": "fragment"
    }
   },
   "outputs": [],
   "source": [
    "mylist = [\"Hello\", \"world\", \"!!!\"]"
   ]
  },
  {
   "cell_type": "markdown",
   "metadata": {
    "slideshow": {
     "slide_type": "fragment"
    }
   },
   "source": [
    "Generally lists are used when you have an ordered collection of the same _kind_ of thing:\n",
    "\n",
    "- filenames\n",
    "- URLs\n",
    "- objects\n",
    "- numbers\n",
    "\n",
    "Lists do not _require_ items to have the same type,\n",
    "though in practice they usually do\n"
   ]
  },
  {
   "cell_type": "code",
   "execution_count": 16,
   "metadata": {
    "slideshow": {
     "slide_type": "fragment"
    },
    "tags": []
   },
   "outputs": [],
   "source": [
    "mylist = [\"Hello\", 4, True]"
   ]
  },
  {
   "cell_type": "markdown",
   "metadata": {
    "slideshow": {
     "slide_type": "slide"
    },
    "tags": []
   },
   "source": [
    "### List operations\n",
    "\n",
    "Many of the operations that we know from strings also work on lists, such as indexing:\n"
   ]
  },
  {
   "cell_type": "code",
   "execution_count": 17,
   "metadata": {
    "slideshow": {
     "slide_type": "fragment"
    },
    "tags": []
   },
   "outputs": [
    {
     "data": {
      "text/plain": [
       "'Hello'"
      ]
     },
     "execution_count": 17,
     "metadata": {},
     "output_type": "execute_result"
    }
   ],
   "source": [
    "mylist[0]"
   ]
  },
  {
   "cell_type": "markdown",
   "metadata": {
    "slideshow": {
     "slide_type": "fragment"
    },
    "tags": []
   },
   "source": [
    "slicing:\n"
   ]
  },
  {
   "cell_type": "code",
   "execution_count": 18,
   "metadata": {
    "slideshow": {
     "slide_type": "fragment"
    },
    "tags": []
   },
   "outputs": [
    {
     "data": {
      "text/plain": [
       "[4, True]"
      ]
     },
     "execution_count": 18,
     "metadata": {},
     "output_type": "execute_result"
    }
   ],
   "source": [
    "mylist[1:]"
   ]
  },
  {
   "cell_type": "markdown",
   "metadata": {
    "slideshow": {
     "slide_type": "fragment"
    },
    "tags": []
   },
   "source": [
    "and concatenation:\n"
   ]
  },
  {
   "cell_type": "code",
   "execution_count": 19,
   "metadata": {
    "slideshow": {
     "slide_type": "fragment"
    },
    "tags": []
   },
   "outputs": [
    {
     "data": {
      "text/plain": [
       "['Hello', 4, True, '!', '!', '!']"
      ]
     },
     "execution_count": 19,
     "metadata": {},
     "output_type": "execute_result"
    }
   ],
   "source": [
    "newlist = mylist + [\"!\"] * 3\n",
    "newlist"
   ]
  },
  {
   "cell_type": "markdown",
   "metadata": {
    "slideshow": {
     "slide_type": "slide"
    },
    "tags": []
   },
   "source": [
    "### Lists can be changed\n",
    "\n",
    "In constrast to `strings`, `lists` are **mutable** and can be changed:\n"
   ]
  },
  {
   "cell_type": "code",
   "execution_count": 20,
   "metadata": {
    "slideshow": {
     "slide_type": "fragment"
    },
    "tags": []
   },
   "outputs": [
    {
     "data": {
      "text/plain": [
       "[11, 12, 13]"
      ]
     },
     "execution_count": 20,
     "metadata": {},
     "output_type": "execute_result"
    }
   ],
   "source": [
    "mylist = [11, 12, 14]\n",
    "mylist[2] = 13\n",
    "mylist"
   ]
  },
  {
   "cell_type": "markdown",
   "metadata": {
    "slideshow": {
     "slide_type": "fragment"
    },
    "tags": []
   },
   "source": [
    "We can also append additional items to a list:\n"
   ]
  },
  {
   "cell_type": "code",
   "execution_count": 21,
   "metadata": {
    "slideshow": {
     "slide_type": "fragment"
    },
    "tags": []
   },
   "outputs": [
    {
     "data": {
      "text/plain": [
       "[11, 12, 13, 14]"
      ]
     },
     "execution_count": 21,
     "metadata": {},
     "output_type": "execute_result"
    }
   ],
   "source": [
    "mylist.append(14)\n",
    "mylist"
   ]
  },
  {
   "cell_type": "markdown",
   "metadata": {
    "slideshow": {
     "slide_type": "skip"
    },
    "tags": []
   },
   "source": [
    "## Cheat sheet for Python lists\n",
    "\n",
    "| Construction           | Meaning                                        |\n",
    "| ---------------------- | ---------------------------------------------- |\n",
    "| a = []                 | initialize an empty list                       |\n",
    "| a = [1, 4.4, 'run.py'] | initialize a list                              |\n",
    "| a.append(elem)         | add elem object to the end                     |\n",
    "| a + [1,3]              | add two lists                                  |\n",
    "| a.insert(i, e)         | insert element e before index i                |\n",
    "| a[3]                   | index a list element                           |\n",
    "| a[-1]                  | get last list element                          |\n",
    "| a[1:3]                 | slice: return sublist (here: index 1, 2)       |\n",
    "| del a[3]               | delete an element (index 3)                    |\n",
    "| a.remove(e)            | remove an element with value e                 |\n",
    "| a.index('run.py')      | find index corresponding to an element's value |\n",
    "| 'value' in a           | test if a value is contained in the list       |\n",
    "| a.count(v)             | count how many elements have the value v       |\n",
    "| len(a)                 | number of elements in list a                   |\n",
    "| min(a)                 | the smallest element in a                      |\n",
    "| max(a)                 | the largest element in a                       |\n",
    "| sum(a)                 | add all elements in a                          |\n",
    "| sorted(a)              | return sorted version of list a                |\n",
    "| reversed(a)            | return reversed view version of list a         |\n",
    "| b[3][0][2]             | nested list indexing                           |\n",
    "| isinstance(a, list)    | is True if a is a list                         |\n",
    "| type(a) is list        | is True if a is a list                         |\n"
   ]
  },
  {
   "cell_type": "markdown",
   "metadata": {
    "slideshow": {
     "slide_type": "slide"
    },
    "tags": []
   },
   "source": [
    "### Tuples\n",
    "\n",
    "Tuples are very similar to lists, but they are **immutable**, just like strings.\n",
    "\n",
    "Functionally, they are essentially immutable lists,\n",
    "but they tend to be used for a different purpose:\n",
    "\n",
    "> a single \"thing\" with multiple components\n",
    "\n",
    "Tuples are created with parentheses:\n"
   ]
  },
  {
   "cell_type": "code",
   "execution_count": 22,
   "metadata": {
    "slideshow": {
     "slide_type": "fragment"
    },
    "tags": []
   },
   "outputs": [],
   "source": [
    "mytuple = (\"a string\", 2.5, 6, \"another string\")"
   ]
  },
  {
   "cell_type": "markdown",
   "metadata": {
    "slideshow": {
     "slide_type": "fragment"
    },
    "tags": []
   },
   "source": [
    "Since tuples are immutable we cannot change them:\n",
    "\n",
    "```python\n",
    "mytuple[1] = -10  # Error, tuple cannot be changed\n",
    "```\n"
   ]
  },
  {
   "cell_type": "markdown",
   "metadata": {
    "slideshow": {
     "slide_type": "fragment"
    },
    "tags": []
   },
   "source": [
    "Instead we need to create a new tuple with the changed values, for example by converting the tuple to a list, changing it, and converting it back to a tuple:\n"
   ]
  },
  {
   "cell_type": "code",
   "execution_count": 23,
   "metadata": {
    "slideshow": {
     "slide_type": "fragment"
    },
    "tags": []
   },
   "outputs": [
    {
     "data": {
      "text/plain": [
       "('a string', 'is', 'not', 'another string')"
      ]
     },
     "execution_count": 23,
     "metadata": {},
     "output_type": "execute_result"
    }
   ],
   "source": [
    "l = list(mytuple)  # convert tuple to list (copy)\n",
    "l[1:3] = [\"is\", \"not\"]\n",
    "mytuple = tuple(l)  # convert list to tuple (copy)\n",
    "mytuple"
   ]
  },
  {
   "cell_type": "markdown",
   "metadata": {
    "slideshow": {
     "slide_type": "skip"
    },
    "tags": []
   },
   "source": [
    "## Tuple cheat sheet\n",
    "\n",
    "| Code                   | Meaning                                        |\n",
    "| ---------------------- | ---------------------------------------------- |\n",
    "| a = ()                 | initialize an empty tuple                      |\n",
    "| a = (1, 4.4, 'run.py') | initialize a tuple                             |\n",
    "| a + (1,3)              | concatenate two tuples (returns a new tuple)   |\n",
    "| a[3]                   | index a list element                           |\n",
    "| a[-1]                  | get last list element                          |\n",
    "| a[1:3]                 | slice: return subtuple (here: index 1, 2)      |\n",
    "| a.index('value')       | find index corresponding to an element's value |\n",
    "| 'value' in a           | test if a value is contained in the list       |\n",
    "| a.count(v)             | count how many elements have the value v       |\n",
    "| len(a)                 | number of elements in list a                   |\n",
    "| min(a)                 | the smallest element in a                      |\n",
    "| max(a)                 | the largest element in a                       |\n",
    "| sum(a)                 | add all elements in a                          |\n",
    "| sorted(a)              | return sorted list with the values of a        |\n",
    "| reversed(a)            | return reversed version of a                   |\n",
    "| b[3][0][2]             | nested list indexing                           |\n",
    "| isinstance(a, tuple)   | is True if a is a tuple or subclass            |\n",
    "| type(a) is tuple       | is True if a is exactly a tuple                |\n"
   ]
  },
  {
   "cell_type": "markdown",
   "metadata": {
    "editable": true,
    "slideshow": {
     "slide_type": "slide"
    },
    "tags": []
   },
   "source": [
    "## Python dictionaries\n",
    "\n",
    "<img src=\"figs/dictionary.jpg\" width=\"400\">\n",
    "\n",
    "Recall that lists always used integers as indices:\n",
    "\n",
    "```python\n",
    "mylist[10]\n",
    "```\n",
    "\n",
    "Python dictionaries are similar but you can use any **hashable** object as index:\n",
    "\n",
    "```python\n",
    "mydict[\"hallo\"]  # dictionary can use e.g. a string as indices\n",
    "```\n"
   ]
  },
  {
   "cell_type": "markdown",
   "metadata": {
    "editable": true,
    "slideshow": {
     "slide_type": "slide"
    },
    "tags": []
   },
   "source": [
    "## Basic dictionary operations\n",
    "\n",
    "We create dictionaries with the `{}` syntax.\n",
    "For each dictionary entry, we need to provide one (immutable) key and its value:\n"
   ]
  },
  {
   "cell_type": "markdown",
   "metadata": {
    "slideshow": {
     "slide_type": "fragment"
    }
   },
   "source": [
    "```python\n",
    "phonebook = {\"John Doe\"  : 99954329,\n",
    "             \"Franz Dahl\": 4881221}\n",
    "\n",
    "mydict = {\"1\"      : \"A number\",\n",
    "          \"house\"  : \"A building to live in\",\n",
    "          \"kitchen\": None}\n",
    "```\n"
   ]
  },
  {
   "cell_type": "markdown",
   "metadata": {
    "editable": true,
    "slideshow": {
     "slide_type": "fragment"
    },
    "tags": []
   },
   "source": [
    "Once created, we can access the dictionary entries:\n",
    "\n",
    "```python\n",
    "phonebook[\"John Doe\"]  # 99954329\n",
    "mydict[\"tbane\"]        # gives a KeyError\n",
    "```\n"
   ]
  },
  {
   "cell_type": "markdown",
   "metadata": {
    "editable": true,
    "slideshow": {
     "slide_type": "fragment"
    },
    "tags": []
   },
   "source": [
    "Dictionaries are **mutable**, so we can change them:\n",
    "\n",
    "```python\n",
    "mydict['somekey'] = 1.0\n",
    "\n",
    "mydict.update(otherdict)  # add/replace key-value pairs\n",
    "\n",
    "del mydict[2]\n",
    "del mydict['somekey']\n",
    "```\n"
   ]
  },
  {
   "cell_type": "markdown",
   "metadata": {
    "editable": true,
    "slideshow": {
     "slide_type": "skip"
    },
    "tags": []
   },
   "source": [
    "## Dictionary cheat sheet\n",
    "\n",
    "| Construction                       | Meaning                               |\n",
    "| ---------------------------------- | ------------------------------------- |\n",
    "| a = {}                             | initialize an empty dictionary        |\n",
    "| a = {'point': (0,0.1), 'value': 7} | initialize a dictionary               |\n",
    "| a = dict(point=(2,7), value=3)     | initialize a dictionary w/string keys |\n",
    "| a.update(b)                        | add key-value pairs from b in a       |\n",
    "| a.update(key1=value1, key2=value2) | add key-value pairs in a              |\n",
    "| a['hide'] = True                   | add new key-value pair to a           |\n",
    "| a['point']                         | get value corresponding to key point  |\n",
    "| for key in a:                      | loop over keys in unknown order       |\n",
    "| for key in sorted(a):              | loop over keys in alphabetic order    |\n",
    "| 'value' in a                       | True if string value is a key in a    |\n",
    "| del a['point']                     | delete a key-value pair from a        |\n",
    "| list(a.keys())                     | list of keys                          |\n",
    "| list(a.values())                   | list of values                        |\n",
    "| len(a)                             | number of key-value pairs in a        |\n",
    "| isinstance(a, dict)                | is True if a is a dictionary          |\n"
   ]
  },
  {
   "cell_type": "markdown",
   "metadata": {
    "slideshow": {
     "slide_type": "slide"
    }
   },
   "source": [
    "## Summary: Common data structures\n",
    "\n",
    "- Numbers:\n",
    "\n",
    "  - `int`\n",
    "  - `float`\n",
    "  - `complex`\n",
    "\n",
    "- Sequences:\n",
    "\n",
    "  - `string`\n",
    "  - `list`\n",
    "  - `tuple`\n",
    "  - `set`\n",
    "\n",
    "- Mappings:\n",
    "  - `dict` (dictionary/hash)\n"
   ]
  },
  {
   "cell_type": "markdown",
   "metadata": {
    "slideshow": {
     "slide_type": "slide"
    }
   },
   "source": [
    "# Control structures in Python\n"
   ]
  },
  {
   "cell_type": "markdown",
   "metadata": {
    "slideshow": {
     "slide_type": "fragment"
    }
   },
   "source": [
    "## Conditionals/branching\n",
    "\n",
    "```python\n",
    "if condition:\n",
    "    <block of statements>\n",
    "elif condition:\n",
    "    <block of statements>\n",
    "else:\n",
    "    <block of statements>\n",
    "```\n",
    "\n",
    "Also here, `condition` must be a boolean expression.\n",
    "\n",
    "**Important**: Python uses indentation to determine the start/end of blocks\n",
    "(instead of e.g. brackets). In Python, it is common to indent with 4 spaces.\n"
   ]
  },
  {
   "cell_type": "markdown",
   "metadata": {
    "slideshow": {
     "slide_type": "slide"
    }
   },
   "source": [
    "## Examples\n",
    "\n",
    "Let's look at an example:\n"
   ]
  },
  {
   "cell_type": "code",
   "execution_count": 29,
   "metadata": {
    "slideshow": {
     "slide_type": "fragment"
    },
    "tags": []
   },
   "outputs": [
    {
     "name": "stdout",
     "output_type": "stream",
     "text": [
      "25 is a large number\n"
     ]
    }
   ],
   "source": [
    "i = 25\n",
    "\n",
    "if i < 0:\n",
    "    print(f\"{i} is a negative number\")\n",
    "elif 0 <= i < 20:\n",
    "    print(f\"{i} is a small number\")\n",
    "else:\n",
    "    print(f\"{i} is a large number\")"
   ]
  },
  {
   "cell_type": "markdown",
   "metadata": {
    "slideshow": {
     "slide_type": "slide"
    },
    "tags": []
   },
   "source": [
    "Python variables are strongly typed. We can use if statements to test for a variable's type:\n",
    "\n",
    "```python\n",
    "if isinstance(a, int): # int?\n",
    "    # ...\n",
    "if isinstance(a, (list, tuple)): # list or tuple?\n",
    "    # ...\n",
    "```\n"
   ]
  },
  {
   "cell_type": "markdown",
   "metadata": {
    "slideshow": {
     "slide_type": "slide"
    },
    "tags": []
   },
   "source": [
    "## `while` loop\n",
    "\n",
    "```python\n",
    "while condition:\n",
    "    <block of statements>\n",
    "```\n",
    "\n",
    "Here, `condition` must be a boolean expression (or have a boolean interpretation), for example: `i < 10`.\n"
   ]
  },
  {
   "cell_type": "markdown",
   "metadata": {
    "slideshow": {
     "slide_type": "fragment"
    },
    "tags": []
   },
   "source": [
    "## `for` loop\n",
    "\n",
    "```python\n",
    "for element in somelist:\n",
    "    <block of statements>\n",
    "```\n",
    "\n",
    "Here, `somelist` must be an **iterable** object, for example a `list`, `tuple`, or `string`.\n"
   ]
  },
  {
   "cell_type": "markdown",
   "metadata": {
    "slideshow": {
     "slide_type": "slide"
    },
    "tags": []
   },
   "source": [
    "## Example\n",
    "\n",
    "Let's look at an example:\n"
   ]
  },
  {
   "cell_type": "code",
   "execution_count": 30,
   "metadata": {
    "slideshow": {
     "slide_type": "fragment"
    },
    "tags": []
   },
   "outputs": [
    {
     "name": "stdout",
     "output_type": "stream",
     "text": [
      "Remember to buy tea.\n",
      "Remember to buy butter.\n",
      "Remember to buy milk.\n"
     ]
    }
   ],
   "source": [
    "shoppinglist = [\"tea\", \"butter\", \"milk\"]\n",
    "\n",
    "for item in shoppinglist:\n",
    "    print(f\"Remember to buy {item}.\")"
   ]
  },
  {
   "cell_type": "markdown",
   "metadata": {
    "slideshow": {
     "slide_type": "fragment"
    },
    "tags": []
   },
   "source": [
    "If you want to iterate over a sequence of numbers, you can use the `range` command:\n"
   ]
  },
  {
   "cell_type": "code",
   "execution_count": 31,
   "metadata": {
    "slideshow": {
     "slide_type": "fragment"
    },
    "tags": []
   },
   "outputs": [
    {
     "name": "stdout",
     "output_type": "stream",
     "text": [
      "0\n",
      "1\n",
      "2\n"
     ]
    }
   ],
   "source": [
    "for i in range(3):\n",
    "    print(i)"
   ]
  },
  {
   "cell_type": "markdown",
   "metadata": {
    "slideshow": {
     "slide_type": "slide"
    },
    "tags": []
   },
   "source": [
    "# Functions\n"
   ]
  },
  {
   "cell_type": "markdown",
   "metadata": {
    "slideshow": {
     "slide_type": "fragment"
    },
    "tags": []
   },
   "source": [
    "Python functions allow you to encapsulate a task - they combine many instructions into a single line of code.\n"
   ]
  },
  {
   "cell_type": "markdown",
   "metadata": {
    "slideshow": {
     "slide_type": "fragment"
    },
    "tags": []
   },
   "source": [
    "As an example, let's write a function that splits a string at a given character:\n"
   ]
  },
  {
   "cell_type": "code",
   "execution_count": 32,
   "metadata": {
    "slideshow": {
     "slide_type": "fragment"
    },
    "tags": []
   },
   "outputs": [],
   "source": [
    "def split(string, char):\n",
    "    \"\"\"Split the string at the given character\"\"\"\n",
    "\n",
    "    position = string.find(char)\n",
    "\n",
    "    if position > 0:\n",
    "        return string[: position + 1], string[position + 1:]\n",
    "    else:\n",
    "        return string, \"\""
   ]
  },
  {
   "cell_type": "markdown",
   "metadata": {
    "slideshow": {
     "slide_type": "fragment"
    },
    "tags": []
   },
   "source": [
    "So far, we have only defined the function (in cooking this is equivalent of writing down a recipe).\n",
    "\n",
    "We must call our function to have an actual effect (or equivalently, actually cooking the recipe). Let's call our function for the first time:\n"
   ]
  },
  {
   "cell_type": "code",
   "execution_count": 33,
   "metadata": {
    "scrolled": true,
    "slideshow": {
     "slide_type": "fragment"
    },
    "tags": []
   },
   "outputs": [
    {
     "name": "stdout",
     "output_type": "stream",
     "text": [
      "('Hei', 'sann')\n"
     ]
    }
   ],
   "source": [
    "message = \"Heisann\"\n",
    "result = split(message, \"i\")  # Call our function\n",
    "print(result)"
   ]
  },
  {
   "cell_type": "markdown",
   "metadata": {
    "slideshow": {
     "slide_type": "slide"
    },
    "tags": []
   },
   "source": [
    "## Function syntax\n"
   ]
  },
  {
   "cell_type": "markdown",
   "metadata": {
    "slideshow": {
     "slide_type": "fragment"
    },
    "tags": []
   },
   "source": [
    "The syntax is the following:\n",
    "\n",
    "```python\n",
    "def functionname(arg1, arg2=\"default\", arg3=1.0, ...):\n",
    "   \"Docstring\"\n",
    "   <block of statements>\n",
    "   return [expression]\n",
    "```\n"
   ]
  },
  {
   "cell_type": "markdown",
   "metadata": {
    "slideshow": {
     "slide_type": "fragment"
    },
    "tags": []
   },
   "source": [
    "We have a few options how to call a function:\n",
    "\n",
    "```python\n",
    "functionname(1.0, \"x\", \"i\")\n",
    "```\n",
    "\n",
    "is the same as\n",
    "\n",
    "```python\n",
    "functionname(arg1=1.0, arg2=\"x\", arg2=\"i\")\n",
    "```\n",
    "\n",
    "Default arguments can be left out:\n",
    "\n",
    "```python\n",
    "functionname(1.0, args3=\"i\")\n",
    "```\n",
    "\n",
    "Positional arguments must appear before keyword arguments:\n",
    "\n",
    "```python\n",
    "functionname(arg3='i', \"x\") # invalid\n",
    "```\n"
   ]
  },
  {
   "cell_type": "markdown",
   "metadata": {
    "slideshow": {
     "slide_type": "slide"
    },
    "tags": []
   },
   "source": [
    "# Multiple return values\n",
    "\n",
    "Often it is useful to return multiple values in a function. This is achieved by packing the return values into a tuple:\n"
   ]
  },
  {
   "cell_type": "code",
   "execution_count": null,
   "metadata": {
    "slideshow": {
     "slide_type": "fragment"
    },
    "tags": []
   },
   "outputs": [],
   "source": [
    "def coordinates():\n",
    "    x = 1\n",
    "    y = 2\n",
    "    return x, y  # Note: Short notation for tuple([x, y])"
   ]
  },
  {
   "cell_type": "markdown",
   "metadata": {
    "slideshow": {
     "slide_type": "fragment"
    },
    "tags": []
   },
   "source": [
    "When calling the function, we can extract the two coordinate values from the tuple again:\n"
   ]
  },
  {
   "cell_type": "code",
   "execution_count": null,
   "metadata": {
    "slideshow": {
     "slide_type": "fragment"
    },
    "tags": []
   },
   "outputs": [],
   "source": [
    "xy = coordinates()\n",
    "x = xy[0]\n",
    "y = xy[1]"
   ]
  },
  {
   "cell_type": "markdown",
   "metadata": {
    "slideshow": {
     "slide_type": "fragment"
    },
    "tags": []
   },
   "source": [
    "or we use the shorter notation:\n"
   ]
  },
  {
   "cell_type": "code",
   "execution_count": null,
   "metadata": {
    "slideshow": {
     "slide_type": "fragment"
    },
    "tags": []
   },
   "outputs": [],
   "source": [
    "x, y = coordinates()  # Note: Python automatically \"unpacks\" the tuple entries"
   ]
  },
  {
   "cell_type": "code",
   "execution_count": null,
   "metadata": {
    "slideshow": {
     "slide_type": ""
    },
    "tags": []
   },
   "outputs": [],
   "source": []
  }
 ],
 "metadata": {
  "celltoolbar": "Slideshow",
  "kernelspec": {
   "display_name": "Python 3 (ipykernel)",
   "language": "python",
   "name": "python3"
  },
  "language_info": {
   "codemirror_mode": {
    "name": "ipython",
    "version": 3
   },
   "file_extension": ".py",
   "mimetype": "text/x-python",
   "name": "python",
   "nbconvert_exporter": "python",
   "pygments_lexer": "ipython3",
   "version": "3.10.12"
  },
  "rise": {
   "scroll": true,
   "start_slideshow_at": "selected",
   "theme": "serif",
   "transition": "none"
  },
  "vscode": {
   "interpreter": {
    "hash": "6e1847e6137efe9f4679b820e026aed0f392e65bf49234cc0764445f2e803444"
   }
  },
  "widgets": {
   "application/vnd.jupyter.widget-state+json": {
    "state": {},
    "version_major": 2,
    "version_minor": 0
   }
  }
 },
 "nbformat": 4,
 "nbformat_minor": 4
}
