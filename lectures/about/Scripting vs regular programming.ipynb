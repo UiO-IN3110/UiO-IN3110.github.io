{
 "cells": [
  {
   "cell_type": "markdown",
   "metadata": {
    "slideshow": {
     "slide_type": "slide"
    }
   },
   "source": [
    "# Scripting vs regular programming"
   ]
  },
  {
   "cell_type": "markdown",
   "metadata": {
    "slideshow": {
     "slide_type": "subslide"
    }
   },
   "source": [
    "## What is a script?\n",
    "\n",
    "* Very high-level, often short, program written in a high-level scripting language\n",
    "* Scripting languages:\n",
    "<img src=\"figs/scripting_languages.svg\" style=\"width: 500px;\"/>\n",
    "\n",
    "* This course: Python + a taste of Bash (Unix shell)"
   ]
  },
  {
   "cell_type": "markdown",
   "metadata": {
    "slideshow": {
     "slide_type": "notes"
    }
   },
   "source": [
    "## Why Python? It is the most popular scripting programming language\n",
    "\n",
    "### TIOBE Index - very long term history\n",
    "<img src=\"figs/tiobe_index.png\"/>      "
   ]
  },
  {
   "cell_type": "markdown",
   "metadata": {
    "slideshow": {
     "slide_type": "subslide"
    }
   },
   "source": [
    "## Characteristics of a script\n",
    "\n",
    "  * Glue other programs together and automate tasks\n",
    "      * Often special-purpose code\n",
    "      * Extensive text processing\n",
    "      * File and directory manipulation\n",
    "      * Many small interacting scripts may yield a big system\n",
    "  * Perhaps a special-purpose GUI on top\n",
    "  * (Sometimes) portable across Unix, Windows, Mac\n",
    "  * Interpreted program (no compilation+linking)"
   ]
  },
  {
   "cell_type": "markdown",
   "metadata": {
    "slideshow": {
     "slide_type": "subslide"
    }
   },
   "source": [
    "## Why not stick to Java or C/C++?\n",
    "\n",
    "Features of scripting languages compared to Java, C/C++ and Fortran:\n",
    "\n",
    "  * shorter, more high-level programs\n",
    "  * much faster software development\n",
    "  * more convenient programming\n",
    "  * you feel more productive:\n",
    "      * no variable declarations, but lots of consistency checks at run time\n",
    "      * technical details are hidden: no pointers, automatic garbage collection, ...\n",
    "      * easy to combine software components and interact with the OS\n",
    "      * lots of standardized libraries and tools     "
   ]
  },
  {
   "cell_type": "markdown",
   "metadata": {
    "slideshow": {
     "slide_type": "subslide"
    }
   },
   "source": [
    "## Scripts yield short code\n",
    "\n",
    "\n",
    "Consider reading real numbers from a file, where each line\n",
    "can contain an arbitrary number of real numbers:"
   ]
  },
  {
   "cell_type": "markdown",
   "metadata": {
    "slideshow": {
     "slide_type": "-"
    }
   },
   "source": [
    "```\n",
    "1.1  9   5.2\n",
    "1.762543E-02\n",
    "0 0.01 0.001\n",
    "        \n",
    "   9 3 7\n",
    "```\n"
   ]
  },
  {
   "cell_type": "markdown",
   "metadata": {
    "slideshow": {
     "slide_type": "-"
    }
   },
   "source": [
    "Python solution:"
   ]
  },
  {
   "cell_type": "code",
   "execution_count": 1,
   "metadata": {
    "slideshow": {
     "slide_type": "-"
    }
   },
   "outputs": [],
   "source": [
    "F = open(\"myfile.txt\")\n",
    "n = F.read().split()"
   ]
  },
  {
   "cell_type": "code",
   "execution_count": 2,
   "metadata": {},
   "outputs": [
    {
     "name": "stdout",
     "output_type": "stream",
     "text": [
      "['1.1', '9', '5.2', '1.762543E-02', '0', '0.01', '0.001', '9', '3', '7']\n"
     ]
    }
   ],
   "source": [
    "print(n)"
   ]
  },
  {
   "cell_type": "markdown",
   "metadata": {
    "slideshow": {
     "slide_type": "subslide"
    }
   },
   "source": [
    "## Using regular expressions (1)\n",
    "\n",
    "\n",
    "Suppose we want to read complex numbers written as text"
   ]
  },
  {
   "cell_type": "markdown",
   "metadata": {},
   "source": [
    "`(-3, 1.4)` or `(-1.437625E-9, 7.11)`  or  `(  4, 2 )`"
   ]
  },
  {
   "cell_type": "markdown",
   "metadata": {},
   "source": [
    "Python solution:"
   ]
  },
  {
   "cell_type": "code",
   "execution_count": 3,
   "metadata": {},
   "outputs": [
    {
     "name": "stdout",
     "output_type": "stream",
     "text": [
      "Real -3.0  Img:  1.4\n"
     ]
    }
   ],
   "source": [
    "import re\n",
    "\n",
    "m = re.search(r\"\\(\\s*([^,]+)\\s*,\\s*([^,]+)\\s*\\)\", \"(  -3,1.4)\")\n",
    "re, im = (float(x) for x in m.groups())\n",
    "print(\"Real\", re, \" Img: \", im)"
   ]
  },
  {
   "cell_type": "markdown",
   "metadata": {},
   "source": [
    "(This will only find the first match of the regular expression, use\n",
    "`re.findall` to return a list of all matches.)"
   ]
  },
  {
   "cell_type": "markdown",
   "metadata": {
    "slideshow": {
     "slide_type": "subslide"
    }
   },
   "source": [
    "## Using regular expressions (2)\n",
    "\n",
    "\n",
    "Regular expressions like"
   ]
  },
  {
   "cell_type": "markdown",
   "metadata": {},
   "source": [
    "        \\(\\s*([^,]+)\\s*,\\s*([^,]+)\\s*\\)\n"
   ]
  },
  {
   "cell_type": "markdown",
   "metadata": {},
   "source": [
    "constitute a powerful language for specifying text patterns\n",
    "\n",
    "Doing the same thing, without regular expressions, in Fortran and C requires quite some low-level code at the character array level\n",
    "\n",
    "**Remark**: we could read pairs (-3, 1.4) without using regular expressions,"
   ]
  },
  {
   "cell_type": "code",
   "execution_count": 4,
   "metadata": {},
   "outputs": [],
   "source": [
    "s = \"(-3,  1.4 )\"\n",
    "re, im = s[1:-1].split(\",\")"
   ]
  },
  {
   "cell_type": "markdown",
   "metadata": {
    "slideshow": {
     "slide_type": "subslide"
    }
   },
   "source": [
    "## Script variables are not declared\n",
    "\n",
    "\n",
    "Example of a Python function:"
   ]
  },
  {
   "cell_type": "code",
   "execution_count": 5,
   "metadata": {},
   "outputs": [],
   "source": [
    "import os\n",
    "\n",
    "def debug(leading_text, variable):\n",
    "    if os.environ.get(\"MYDEBUG\", \"0\") == \"1\":\n",
    "        print(leading_text, variable)"
   ]
  },
  {
   "cell_type": "markdown",
   "metadata": {},
   "source": [
    "Dumps **any** printable variable\n",
    "(number, list, hash, heterogeneous structure)\n",
    "\n",
    "Printing can be turned on/off by setting the\n",
    "environment variable `MYDEBUG`"
   ]
  },
  {
   "cell_type": "markdown",
   "metadata": {
    "slideshow": {
     "slide_type": "subslide"
    }
   },
   "source": [
    "## The same function in C++\n",
    "\n",
    "\n",
    "Templates can be used to mimic dynamically typed languages\n",
    "\n",
    "Not as quick and convenient programming:"
   ]
  },
  {
   "cell_type": "markdown",
   "metadata": {},
   "source": [
    "```c++\n",
    "template <class T>\n",
    "void debug(std::ostream &o, const std::string &leading_text,\n",
    "           const T &variable) {\n",
    "  char *c = getenv(\"MYDEBUG\");\n",
    "  bool defined = false;\n",
    "  if (c != NULL) {               // if MYDEBUG is defined ...\n",
    "    if (std::string(c) == \"1\") { // if MYDEBUG is true ...\n",
    "      defined = true;\n",
    "    }\n",
    "  }\n",
    "  if (defined) {\n",
    "    o << leading_text << \" \" << variable << std::endl;\n",
    "  }\n",
    "}\n",
    "```"
   ]
  },
  {
   "cell_type": "markdown",
   "metadata": {
    "slideshow": {
     "slide_type": "subslide"
    }
   },
   "source": [
    "## The relation to OOP\n",
    "\n",
    "Object-oriented programming can also be used to parameterize types.\n",
    "\n",
    "* Introduce base class `A` and a range of subclasses, all with a (virtual) print function;\n",
    "* Let `debug` work with `variable` as an `A` reference;\n",
    "* Now `debug` works for all subclasses of `A`.\n",
    "\n",
    "**Advantage**: complete control of the legal variable types that `debug` are allowed to print (may be important in big systems to ensure that a function can only make transactions with certain objects)\n",
    "\n",
    "**Disadvantage**: much more work, much more code, less reuse of `debug` in new occasions"
   ]
  },
  {
   "cell_type": "markdown",
   "metadata": {
    "slideshow": {
     "slide_type": "slide"
    }
   },
   "source": [
    "## Flexible function interfaces (1)\n",
    "\n",
    "\n",
    "User-friendly environments (Python, Matlab, Maple, Mathematica, S-Plus, ...)\n",
    "allow flexible function interfaces\n",
    "\n",
    "First try:\n",
    "\n",
    "\n",
    "```python\n",
    "# f is some data\n",
    "plot(f)\n",
    "```"
   ]
  },
  {
   "cell_type": "markdown",
   "metadata": {
    "slideshow": {
     "slide_type": "fragment"
    }
   },
   "source": [
    "More control of the plot:\n",
    "\n",
    "```python\n",
    "plot(f, label='f', xrange=[0,10])\n",
    "```"
   ]
  },
  {
   "cell_type": "markdown",
   "metadata": {
    "slideshow": {
     "slide_type": "fragment"
    }
   },
   "source": [
    "More fine-tuning:\n",
    "\n",
    "```python\n",
    "plot(f, label='f', xrange=[0,10], title='f demo',\n",
    "     linetype='dashed', linecolor='red')\n",
    "```"
   ]
  },
  {
   "cell_type": "markdown",
   "metadata": {
    "slideshow": {
     "slide_type": "subslide"
    }
   },
   "source": [
    "## Flexible function interfaces (2)\n",
    "\n",
    "\n",
    "In C++, some flexibility is obtained using default argument\n",
    "  values, e.g.,\n",
    "  \n",
    "```c++\n",
    "void plot(const double[] & data, const char[] label =\"\",\n",
    "          const char[] title = \"\", const char[] linecolor = \"black\");\n",
    "```\n",
    "\n",
    "Limited flexibility, since the order of arguments is significant."
   ]
  },
  {
   "cell_type": "markdown",
   "metadata": {
    "slideshow": {
     "slide_type": "fragment"
    }
   },
   "source": [
    "Python uses keyword arguments = function arguments with\n",
    "keywords and default values, e.g.,\n",
    "\n",
    "```python\n",
    "def plot(data, label='', xrange=None, title='',\n",
    "         linetype='solid', linecolor='black', ...)\n",
    "```         \n",
    "\n",
    "The sequence and number of arguments in the call\n",
    "can be chosen by the user."
   ]
  },
  {
   "cell_type": "markdown",
   "metadata": {
    "slideshow": {
     "slide_type": "subslide"
    }
   },
   "source": [
    "## Classification of languages (1)\n",
    "\n",
    "\n",
    "Many criteria can be used to classify computer languages.\n",
    "\n",
    "### Dynamically vs statically typed (or type-safe)\n",
    "\n",
    "Python (dynamic):\n",
    "\n",
    "```Python\n",
    "c = 1            # c is an integer\n",
    "c = [1,2,3]      # c is a list\n",
    "```"
   ]
  },
  {
   "cell_type": "markdown",
   "metadata": {},
   "source": [
    "C (static):\n",
    "```c\n",
    "double c; c = 5.2;  // c can only hold doubles\n",
    "c = \"a string...\";  // compiler error\n",
    "```"
   ]
  },
  {
   "cell_type": "markdown",
   "metadata": {
    "slideshow": {
     "slide_type": "subslide"
    }
   },
   "source": [
    "## Classification of languages (2)\n",
    "\n",
    "\n",
    "### Weakly vs strongly typed\n",
    "Perl (weak):\n",
    "\n",
    "```\n",
    "$b = '1.2'\n",
    "$c = 5*$b;   # implicit type conversion: '1.2' -> 1.2\n",
    "```\n"
   ]
  },
  {
   "cell_type": "markdown",
   "metadata": {},
   "source": [
    "Python (strong):"
   ]
  },
  {
   "cell_type": "code",
   "execution_count": 6,
   "metadata": {},
   "outputs": [
    {
     "name": "stdout",
     "output_type": "stream",
     "text": [
      "3.3201169227365472\n"
     ]
    }
   ],
   "source": [
    "import math\n",
    "\n",
    "b = \"1.2\"\n",
    "# c = 5*b                 # legal, but probably not the result you want\n",
    "# c = math.exp(b)         # illegal, no implicit type conversion\n",
    "c = math.exp(float(b))  # legal\n",
    "print(c)"
   ]
  },
  {
   "cell_type": "markdown",
   "metadata": {
    "slideshow": {
     "slide_type": "subslide"
    }
   },
   "source": [
    "## Classification of languages (3)\n",
    "\n",
    "More classifications:\n",
    "  * Interpreted vs compiled languages\n",
    "  * High-level vs low-level languages (Python-C)\n",
    "  * Scripting vs system languages"
   ]
  },
  {
   "cell_type": "markdown",
   "metadata": {
    "slideshow": {
     "slide_type": "subslide"
    }
   },
   "source": [
    "## Turning files into code (1)\n",
    "\n",
    "Code can be constructed and executed at run-time\n",
    "\n",
    "Consider an input file with the syntax"
   ]
  },
  {
   "cell_type": "markdown",
   "metadata": {},
   "source": [
    "```\n",
    "a = 1.2\n",
    "no of iterations = 100\n",
    "solution strategy = 'implicit'\n",
    "c1 = 0\n",
    "c2 = 0.1\n",
    "A = 4\n",
    "```"
   ]
  },
  {
   "cell_type": "markdown",
   "metadata": {},
   "source": [
    "How can we read this file and define variables `a`, `no_of_iterations`, `solution_strategy`, `c1`, `c2`, `A` with the specified values?"
   ]
  },
  {
   "cell_type": "markdown",
   "metadata": {
    "slideshow": {
     "slide_type": "subslide"
    }
   },
   "source": [
    "## Turning files into code (2)\n",
    "\n",
    "\n",
    "The answer lies in this short and generic code:"
   ]
  },
  {
   "cell_type": "code",
   "execution_count": 7,
   "metadata": {
    "editable": true,
    "slideshow": {
     "slide_type": ""
    },
    "tags": []
   },
   "outputs": [
    {
     "name": "stdout",
     "output_type": "stream",
     "text": [
      "4\n"
     ]
    }
   ],
   "source": [
    "file = open(\"inputfile.dat\")\n",
    "for line in file:\n",
    "    variable, value = line.split(\"=\")  # separate the statement by the = sign\n",
    "    variable = variable.strip()  # strip leading and trailing blanks\n",
    "    variable = variable.replace(\" \", \"_\")  # replace blanks by _\n",
    "    exec(variable + \"=\" + value)  # magic...\n",
    "print(A)  # noqa"
   ]
  },
  {
   "cell_type": "markdown",
   "metadata": {},
   "source": [
    "This cannot be done in Fortran, C or C++! Why?"
   ]
  },
  {
   "cell_type": "markdown",
   "metadata": {
    "editable": true,
    "slideshow": {
     "slide_type": "subslide"
    },
    "tags": []
   },
   "source": [
    "## Scripts can be slow\n",
    "\n",
    "\n",
    "Perl and Python scripts are first compiled to byte-code.\n",
    "\n",
    "The byte-code is then *interpreted*.\n",
    "\n",
    "Text processing is usually as fast as in C.\n",
    "\n",
    "Loops over large data structures might be very slow:\n",
    "```Python\n",
    "for i in range(len(A)):\n",
    "    A[i] = ...\n",
    "```    "
   ]
  },
  {
   "cell_type": "markdown",
   "metadata": {},
   "source": [
    "Fortran, C and C++ compilers are good at optimizing such loops at compile time and produce very efficient assembly code (e.g. 100 times faster).\n",
    "\n",
    "Fortunately, long loops in scripts can easily be migrated to Fortran or C."
   ]
  },
  {
   "cell_type": "markdown",
   "metadata": {
    "editable": true,
    "slideshow": {
     "slide_type": "subslide"
    },
    "tags": []
   },
   "source": [
    "## Scripts may be fast enough\n",
    "\n",
    "Read 100 000 (x,y) data from file and write (x,f(y)) out again\n",
    "\n",
    "  * Pure Python: 4s\n",
    "\n",
    "  * Pure Perl: 3s\n",
    "\n",
    "  * Pure Tcl: 11s\n",
    "\n",
    "  * Pure C (fscanf/fprintf): 1s\n",
    "\n",
    "  * Pure C++ (iostream): 3.6s\n",
    "\n",
    "  * Pure C++ (buffered streams): 2.5s\n",
    "\n",
    "  * Numerical Python modules: 2.2s (!)\n",
    "\n",
    "  * Remark: in practice, 100 000 data points are written and read in binary format, resulting in much smaller differences"
   ]
  },
  {
   "cell_type": "markdown",
   "metadata": {
    "slideshow": {
     "slide_type": "subslide"
    }
   },
   "source": [
    "## When scripting is convenient\n",
    "\n",
    "  * The application's main task is to connect together existing components\n",
    "  * The design of the application code is expected to change significantly  \n",
    "  * The application performs extensive string/text manipulation\n",
    "  * The application can be made short if it operates heavily on list or hash structures\n",
    "  * CPU-time intensive parts can be migrated to C/C++ or Fortran"
   ]
  },
  {
   "cell_type": "markdown",
   "metadata": {
    "slideshow": {
     "slide_type": "subslide"
    }
   },
   "source": [
    "## When to use C, C++, Java, Fortran\n",
    "\n",
    "  * Does the application implement complicated algorithms and data structures?\n",
    "\n",
    "  * Does the application manipulate large datasets so that execution speed is critical?\n",
    "\n",
    "  * Are the application's functions well-defined and changing slowly?\n",
    "\n",
    "  * Will type-safe languages be an advantage, e.g., in large development teams?"
   ]
  },
  {
   "cell_type": "markdown",
   "metadata": {
    "slideshow": {
     "slide_type": "subslide"
    }
   },
   "source": [
    "## Some personal applications of scripting\n",
    "\n",
    "  * Get the power of Unix also in non-Unix environments\n",
    "\n",
    "  * Automate manual interaction with the computer\n",
    "\n",
    "  * Customize your own working environment and become more efficient\n",
    "\n",
    "  * Increase the reliability of your work (what you did is documented in the script)\n",
    "\n",
    "  * Have more fun!"
   ]
  },
  {
   "cell_type": "markdown",
   "metadata": {
    "slideshow": {
     "slide_type": "subslide"
    }
   },
   "source": [
    "## Some business applications of scripting\n",
    "\n",
    "  * Many business sectors make use of scripting language internally:\n",
    "    * Financial sector (Model prototyping, R&D),\n",
    "    * Mobile App & Web companies (Development language)\n",
    "    * Engineering (Setup of simulation models, R&D)\n",
    "  \n",
    "  Python/bash knowledge is a welcomed skill for many jobs."
   ]
  },
  {
   "cell_type": "markdown",
   "metadata": {
    "editable": true,
    "slideshow": {
     "slide_type": "subslide"
    },
    "tags": []
   },
   "source": [
    "## What about mission-critical operations?\n",
    "\n",
    "  * Scripting languages are free\n",
    "\n",
    "  * What about companies that do mission-critical operations?\n",
    "\n",
    "  * Can we use Python when sending people (or robots) to Mars?\n",
    "\n",
    "  * Who is responsible for the quality of products?"
   ]
  },
  {
   "cell_type": "markdown",
   "metadata": {
    "editable": true,
    "slideshow": {
     "slide_type": "subslide"
    },
    "tags": []
   },
   "source": [
    "## The reliability of scripting tools\n",
    "\n",
    "  * Scripting languages are developed as a world-wide collaboration of volunteers (open source model)\n",
    "\n",
    "  * The open source community as a whole is responsible for the quality\n",
    "\n",
    "  * There is a single repository for the source code (plus mirror sites)\n",
    "\n",
    "  * This source is read, tested and controlled by a very large number of people (and experts)\n",
    "\n",
    "  * The reliability of *large* open source projects like Linux, Python, and Perl appears to be very good - at least as good as commercial software"
   ]
  }
 ],
 "metadata": {
  "celltoolbar": "Slideshow",
  "kernelspec": {
   "display_name": "Python 3 (ipykernel)",
   "language": "python",
   "name": "python3"
  },
  "language_info": {
   "codemirror_mode": {
    "name": "ipython",
    "version": 3
   },
   "file_extension": ".py",
   "mimetype": "text/x-python",
   "name": "python",
   "nbconvert_exporter": "python",
   "pygments_lexer": "ipython3",
   "version": "3.11.3"
  },
  "livereveal": {
   "scroll": true,
   "start_slideshow_at": "selected",
   "theme": "serif"
  },
  "widgets": {
   "application/vnd.jupyter.widget-state+json": {
    "state": {},
    "version_major": 2,
    "version_minor": 0
   }
  }
 },
 "nbformat": 4,
 "nbformat_minor": 4
}
