{
 "cells": [
  {
   "cell_type": "markdown",
   "metadata": {
    "tags": []
   },
   "source": [
    "# The Monty Hall game\n",
    "\n",
    "Suppose you're on a game show, and you're given the choice of three doors: Behind one door is a car; behind the others, goats.\n",
    "\n",
    "In search of a new car, the player picks a door, say 1. The game host then opens one of the other doors, say 3, to reveal a goat and offers to let the player pick door 2 instead of door 1.\n",
    "\n",
    "![image](pictures/440px-Monty_open_door.svg.png \"image source: Wikipedia\")\n",
    "\n",
    "**Goal**: Implement this game as a web application.\n",
    "\n",
    "If you want to look at the code at home, here are step-by-step implementations: https://github.com/UiO-IN3110/UiO-IN3110.github.io/tree/main/lectures/web-servers/monty-hall-game"
   ]
  },
  {
   "cell_type": "code",
   "execution_count": 1,
   "metadata": {},
   "outputs": [],
   "source": [
    "import random\n",
    "from functools import partial\n",
    "\n",
    "from pydantic import BaseModel, Field\n",
    "\n",
    "\n",
    "class MontyHallGame(BaseModel):\n",
    "    winning: int = Field(default_factory=partial(random.randint, 1, 3))\n",
    "    first_choice: int = None\n",
    "    opened: int = None\n",
    "    second_choice: int = None\n",
    "    has_won: int = None\n",
    "\n",
    "    def choose(self, choice: int):\n",
    "        \"\"\"The first step: Make a choice\"\"\"\n",
    "        self.first_choice = choice\n",
    "\n",
    "    def reveal(self):\n",
    "        \"\"\"The second step: host reveals a door that definitely has a goat.\"\"\"\n",
    "        choices = {1, 2, 3}\n",
    "        # don't open the winning door\n",
    "        choices.discard(self.winning)\n",
    "        # don't open the door they've already chosen\n",
    "        choices.discard(self.first_choice)\n",
    "        # open a random remaining door.\n",
    "        # there is either 1 or 2 choices left\n",
    "        self.opened = random.choice(list(choices))\n",
    "        return self.opened\n",
    "\n",
    "    def choose_again(self, switch: bool):\n",
    "        \"\"\"Guest can either switch to the other door, or stay with their first choice\"\"\"\n",
    "        if switch:\n",
    "            choices = {1, 2, 3}\n",
    "            choices.discard(self.first_choice)\n",
    "            choices.discard(self.opened)\n",
    "            self.second_choice = choices.pop()\n",
    "        else:\n",
    "            self.second_choice = self.first_choice\n",
    "        self.has_won = self.second_choice == self.winning\n",
    "        return self.second_choice\n",
    "\n",
    "    def play(self):\n",
    "        \"\"\"Play one full round\"\"\"\n",
    "        first_choice = int(input(\"Pick a door (1, 2, 3): \"))\n",
    "        self.choose(first_choice)\n",
    "        self.reveal()\n",
    "        available = {1, 2, 3}\n",
    "        available.discard(first_choice)\n",
    "        available.discard(self.opened)\n",
    "        remaining = available.pop()\n",
    "        ans = input(\n",
    "            f\"I've opened door number {self.opened}. Would you like to switch (y/N)?\"\n",
    "        )\n",
    "        second_choice = self.choose_again(switch=ans.lower().startswith(\"y\"))\n",
    "\n",
    "        print(f\"You picked door number {self.second_choice}\")\n",
    "        if self.second_choice == self.winning:\n",
    "            print(\"You win!\")\n",
    "        else:\n",
    "            print(f\"Sorry, it was door number {self.winning} :(\")"
   ]
  },
  {
   "cell_type": "code",
   "execution_count": 3,
   "metadata": {},
   "outputs": [
    {
     "name": "stdin",
     "output_type": "stream",
     "text": [
      "Pick a door (1, 2, 3):  1\n",
      "I've opened door number 3. Would you like to switch (y/N)? n\n"
     ]
    },
    {
     "name": "stdout",
     "output_type": "stream",
     "text": [
      "You picked door number 1\n",
      "You win!\n"
     ]
    }
   ],
   "source": [
    "game = MontyHallGame()\n",
    "game.play()"
   ]
  },
  {
   "cell_type": "markdown",
   "metadata": {},
   "source": [
    "Now we are going to simulate a number of games,\n",
    "recording our win rate for the switch strategy and the stay strategy."
   ]
  },
  {
   "cell_type": "code",
   "execution_count": 4,
   "metadata": {},
   "outputs": [
    {
     "data": {
      "application/vnd.jupyter.widget-view+json": {
       "model_id": "96ed31a4fec440169868a6a701a020b3",
       "version_major": 2,
       "version_minor": 0
      },
      "text/plain": [
       "switch:   0%|          | 0/100000 [00:00<?, ?it/s]"
      ]
     },
     "metadata": {},
     "output_type": "display_data"
    },
    {
     "data": {
      "application/vnd.jupyter.widget-view+json": {
       "model_id": "9beff419537e42ec98f94397752a4e55",
       "version_major": 2,
       "version_minor": 0
      },
      "text/plain": [
       "stay:   0%|          | 0/100000 [00:00<?, ?it/s]"
      ]
     },
     "metadata": {},
     "output_type": "display_data"
    }
   ],
   "source": [
    "import random\n",
    "\n",
    "import ipywidgets\n",
    "from IPython.display import display\n",
    "from tqdm.notebook import tqdm\n",
    "\n",
    "\n",
    "def autoplay(samples):\n",
    "    switch_progress = tqdm(desc=\"switch\", total=samples, mininterval=0.01)\n",
    "    stay_progress = tqdm(desc=\"stay\", total=samples, mininterval=0.01)\n",
    "\n",
    "    for i in range(samples):\n",
    "        for switch, progress in zip((True, False), (switch_progress, stay_progress)):\n",
    "            first_choice = random.randint(1, 3)\n",
    "            game = MontyHallGame()\n",
    "            game.choose(first_choice)\n",
    "            game.reveal()\n",
    "            game.choose_again(switch=switch)\n",
    "            if game.has_won:\n",
    "                progress.update(1)\n",
    "    switch_progress.close()\n",
    "    stay_progress.close()\n",
    "\n",
    "\n",
    "autoplay(100_000)"
   ]
  },
  {
   "cell_type": "markdown",
   "metadata": {},
   "source": [
    "Tasks:\n",
    "\n",
    "1. create a 'welcome' page\n",
    "2. serve a form for \"pick a door\"\n",
    "3. handle form submission for picking a door\n",
    "4. select a door to open\n",
    "5. serve a form to make final pick\n",
    "6. serve a result\n",
    "\n",
    "\n",
    "Initial FastAPI boilerplate:\n",
    "\n",
    "```python\n",
    "from fastapi import FastAPI, Form, Request\n",
    "from fastapi.responses import HTMLResponse\n",
    "from fastapi.templating import Jinja2Templates\n",
    "\n",
    "app = FastAPI()\n",
    "templates = Jinja2Templates(directory=\"templates\")\n",
    "\n",
    "@app.get(\"/\", response_class=HTMLResponse)\n",
    "def welcome():\n",
    "    ...\n",
    "\n",
    "if __name__ == \"__main__\":\n",
    "    import uvicorn\n",
    "    uvicorn.run(app, debug=True)\n",
    "```"
   ]
  }
 ],
 "metadata": {
  "kernelspec": {
   "display_name": "Python 3 (ipykernel)",
   "language": "python",
   "name": "python3"
  },
  "language_info": {
   "codemirror_mode": {
    "name": "ipython",
    "version": 3
   },
   "file_extension": ".py",
   "mimetype": "text/x-python",
   "name": "python",
   "nbconvert_exporter": "python",
   "pygments_lexer": "ipython3",
   "version": "3.10.13"
  },
  "widgets": {
   "application/vnd.jupyter.widget-state+json": {
    "state": {
     "103ca65887c1404ebc5b255b01249898": {
      "model_module": "@jupyter-widgets/base",
      "model_module_version": "2.0.0",
      "model_name": "LayoutModel",
      "state": {}
     },
     "15b1ef805fa04e27a633a4224db754df": {
      "model_module": "@jupyter-widgets/base",
      "model_module_version": "2.0.0",
      "model_name": "LayoutModel",
      "state": {}
     },
     "26c58c0baebd41aa9659e0d3c272a3c7": {
      "model_module": "@jupyter-widgets/base",
      "model_module_version": "2.0.0",
      "model_name": "LayoutModel",
      "state": {}
     },
     "2a955ed279b945909872436cc7b1cfaf": {
      "model_module": "@jupyter-widgets/base",
      "model_module_version": "2.0.0",
      "model_name": "LayoutModel",
      "state": {}
     },
     "2eb16e0855834ce29487ef02780a9487": {
      "model_module": "@jupyter-widgets/controls",
      "model_module_version": "2.0.0",
      "model_name": "HTMLModel",
      "state": {
       "layout": "IPY_MODEL_d2bbea99ef5f44ad899152c6f2f7ce9d",
       "style": "IPY_MODEL_584d27970fc244d7b19d46965c44f086",
       "value": "stay:  33%"
      }
     },
     "35a301a282724ad0ba34d989b3280ddf": {
      "model_module": "@jupyter-widgets/controls",
      "model_module_version": "2.0.0",
      "model_name": "FloatProgressModel",
      "state": {
       "bar_style": "danger",
       "layout": "IPY_MODEL_103ca65887c1404ebc5b255b01249898",
       "max": 100000,
       "style": "IPY_MODEL_7cbb6120d5604dd8a2c85c37511427b9",
       "value": 33165
      }
     },
     "3baaf1bd396342faa3135b24bbd160f6": {
      "model_module": "@jupyter-widgets/controls",
      "model_module_version": "2.0.0",
      "model_name": "HTMLStyleModel",
      "state": {
       "description_width": "",
       "font_size": null,
       "text_color": null
      }
     },
     "584d27970fc244d7b19d46965c44f086": {
      "model_module": "@jupyter-widgets/controls",
      "model_module_version": "2.0.0",
      "model_name": "HTMLStyleModel",
      "state": {
       "description_width": "",
       "font_size": null,
       "text_color": null
      }
     },
     "61b15c8be3c844219270d352b6915865": {
      "model_module": "@jupyter-widgets/controls",
      "model_module_version": "2.0.0",
      "model_name": "HTMLModel",
      "state": {
       "layout": "IPY_MODEL_26c58c0baebd41aa9659e0d3c272a3c7",
       "style": "IPY_MODEL_e723bf44e3354dd79d51ebb835391061",
       "value": " 66396/100000 [00:01&lt;00:00, 39815.29it/s]"
      }
     },
     "723a476a2c10453183c35c362724615e": {
      "model_module": "@jupyter-widgets/base",
      "model_module_version": "2.0.0",
      "model_name": "LayoutModel",
      "state": {}
     },
     "7cbb6120d5604dd8a2c85c37511427b9": {
      "model_module": "@jupyter-widgets/controls",
      "model_module_version": "2.0.0",
      "model_name": "ProgressStyleModel",
      "state": {
       "description_width": ""
      }
     },
     "96ed31a4fec440169868a6a701a020b3": {
      "model_module": "@jupyter-widgets/controls",
      "model_module_version": "2.0.0",
      "model_name": "HBoxModel",
      "state": {
       "children": [
        "IPY_MODEL_c6cc764a10dd45acae9066bfd0e6eb70",
        "IPY_MODEL_b9771d1e4f9a419aa3e873097ecc8277",
        "IPY_MODEL_61b15c8be3c844219270d352b6915865"
       ],
       "layout": "IPY_MODEL_c564de436d084f0c9df590f320db96b5"
      }
     },
     "9beff419537e42ec98f94397752a4e55": {
      "model_module": "@jupyter-widgets/controls",
      "model_module_version": "2.0.0",
      "model_name": "HBoxModel",
      "state": {
       "children": [
        "IPY_MODEL_2eb16e0855834ce29487ef02780a9487",
        "IPY_MODEL_35a301a282724ad0ba34d989b3280ddf",
        "IPY_MODEL_dd71da44d34e4200b6812e9e4ffa707e"
       ],
       "layout": "IPY_MODEL_2a955ed279b945909872436cc7b1cfaf"
      }
     },
     "a782ea3d59a84c4e9dc1a3d2fddff19a": {
      "model_module": "@jupyter-widgets/controls",
      "model_module_version": "2.0.0",
      "model_name": "ProgressStyleModel",
      "state": {
       "description_width": ""
      }
     },
     "b6c115beedde4e67a62fd4a574a7210f": {
      "model_module": "@jupyter-widgets/controls",
      "model_module_version": "2.0.0",
      "model_name": "HTMLStyleModel",
      "state": {
       "description_width": "",
       "font_size": null,
       "text_color": null
      }
     },
     "b9771d1e4f9a419aa3e873097ecc8277": {
      "model_module": "@jupyter-widgets/controls",
      "model_module_version": "2.0.0",
      "model_name": "FloatProgressModel",
      "state": {
       "bar_style": "danger",
       "layout": "IPY_MODEL_15b1ef805fa04e27a633a4224db754df",
       "max": 100000,
       "style": "IPY_MODEL_a782ea3d59a84c4e9dc1a3d2fddff19a",
       "value": 66396
      }
     },
     "c564de436d084f0c9df590f320db96b5": {
      "model_module": "@jupyter-widgets/base",
      "model_module_version": "2.0.0",
      "model_name": "LayoutModel",
      "state": {}
     },
     "c6cc764a10dd45acae9066bfd0e6eb70": {
      "model_module": "@jupyter-widgets/controls",
      "model_module_version": "2.0.0",
      "model_name": "HTMLModel",
      "state": {
       "layout": "IPY_MODEL_723a476a2c10453183c35c362724615e",
       "style": "IPY_MODEL_b6c115beedde4e67a62fd4a574a7210f",
       "value": "switch:  66%"
      }
     },
     "d2bbea99ef5f44ad899152c6f2f7ce9d": {
      "model_module": "@jupyter-widgets/base",
      "model_module_version": "2.0.0",
      "model_name": "LayoutModel",
      "state": {}
     },
     "dd71da44d34e4200b6812e9e4ffa707e": {
      "model_module": "@jupyter-widgets/controls",
      "model_module_version": "2.0.0",
      "model_name": "HTMLModel",
      "state": {
       "layout": "IPY_MODEL_f2b7acca2a144171916db62e2f1e7444",
       "style": "IPY_MODEL_3baaf1bd396342faa3135b24bbd160f6",
       "value": " 33165/100000 [00:01&lt;00:03, 19916.46it/s]"
      }
     },
     "e723bf44e3354dd79d51ebb835391061": {
      "model_module": "@jupyter-widgets/controls",
      "model_module_version": "2.0.0",
      "model_name": "HTMLStyleModel",
      "state": {
       "description_width": "",
       "font_size": null,
       "text_color": null
      }
     },
     "f2b7acca2a144171916db62e2f1e7444": {
      "model_module": "@jupyter-widgets/base",
      "model_module_version": "2.0.0",
      "model_name": "LayoutModel",
      "state": {}
     }
    },
    "version_major": 2,
    "version_minor": 0
   }
  }
 },
 "nbformat": 4,
 "nbformat_minor": 4
}
