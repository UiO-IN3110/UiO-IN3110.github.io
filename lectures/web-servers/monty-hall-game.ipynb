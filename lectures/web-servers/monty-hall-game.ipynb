{
 "cells": [
  {
   "cell_type": "markdown",
   "metadata": {
    "tags": []
   },
   "source": [
    "# The Monty Hall game\n",
    "\n",
    "Suppose you're on a game show, and you're given the choice of three doors: Behind one door is a car; behind the others, goats.\n",
    "\n",
    "In search of a new car, the player picks a door, say 1. The game host then opens one of the other doors, say 3, to reveal a goat and offers to let the player pick door 2 instead of door 1.\n",
    "\n",
    "![image](pictures/440px-Monty_open_door.svg.png \"image source: Wikipedia\")\n",
    "\n",
    "**Goal**: Implement this game as a web application.\n",
    "\n",
    "If you want to look at the code at home, here are step-by-step implementations: https://github.com/UiO-IN3110/UiO-IN3110.github.io/tree/main/lectures/web-servers/monty-hall-game"
   ]
  },
  {
   "cell_type": "code",
   "execution_count": null,
   "metadata": {},
   "outputs": [],
   "source": [
    "import random\n",
    "from functools import partial\n",
    "\n",
    "from pydantic import BaseModel, Field\n",
    "\n",
    "\n",
    "class MontyHallGame(BaseModel):\n",
    "    winning: int = Field(default_factory=partial(random.randint, 1, 3))\n",
    "    first_choice: int | None = None\n",
    "    opened: int | None = None\n",
    "    second_choice: int | None = None\n",
    "    has_won: int | None = None\n",
    "\n",
    "    def choose(self, choice: int):\n",
    "        \"\"\"The first step: Make a choice\"\"\"\n",
    "        self.first_choice = choice\n",
    "\n",
    "    def reveal(self):\n",
    "        \"\"\"The second step: host reveals a door that definitely has a goat.\"\"\"\n",
    "        choices = {1, 2, 3}\n",
    "        # don't open the winning door\n",
    "        choices.discard(self.winning)\n",
    "        # don't open the door they've already chosen\n",
    "        choices.discard(self.first_choice)\n",
    "        # open a random remaining door.\n",
    "        # there is either 1 or 2 choices left\n",
    "        self.opened = random.choice(list(choices))\n",
    "        return self.opened\n",
    "\n",
    "    def choose_again(self, switch: bool):\n",
    "        \"\"\"Guest can either switch to the other door, or stay with their first choice\"\"\"\n",
    "        if switch:\n",
    "            choices = {1, 2, 3}\n",
    "            choices.discard(self.first_choice)\n",
    "            choices.discard(self.opened)\n",
    "            self.second_choice = choices.pop()\n",
    "        else:\n",
    "            self.second_choice = self.first_choice\n",
    "        self.has_won = self.second_choice == self.winning\n",
    "        return self.second_choice\n",
    "\n",
    "    def play(self):\n",
    "        \"\"\"Play one full round\"\"\"\n",
    "        first_choice = int(input(\"Pick a door (1, 2, 3): \"))\n",
    "        self.choose(first_choice)\n",
    "        self.reveal()\n",
    "        available = {1, 2, 3}\n",
    "        available.discard(first_choice)\n",
    "        available.discard(self.opened)\n",
    "        remaining = available.pop()\n",
    "        ans = input(\n",
    "            f\"I've opened door number {self.opened}. Would you like to switch (y/N)?\"\n",
    "        )\n",
    "        second_choice = self.choose_again(switch=ans.lower().startswith(\"y\"))\n",
    "\n",
    "        print(f\"You picked door number {self.second_choice}\")\n",
    "        if self.second_choice == self.winning:\n",
    "            print(\"You win!\")\n",
    "        else:\n",
    "            print(f\"Sorry, it was door number {self.winning} :(\")"
   ]
  },
  {
   "cell_type": "code",
   "execution_count": null,
   "metadata": {},
   "outputs": [],
   "source": [
    "game = MontyHallGame()\n",
    "game.play()"
   ]
  },
  {
   "cell_type": "markdown",
   "metadata": {},
   "source": [
    "Now we are going to simulate a number of games,\n",
    "recording our win rate for the switch strategy and the stay strategy."
   ]
  },
  {
   "cell_type": "code",
   "execution_count": null,
   "metadata": {},
   "outputs": [],
   "source": [
    "import random\n",
    "\n",
    "import ipywidgets\n",
    "from IPython.display import display\n",
    "from tqdm.notebook import tqdm\n",
    "\n",
    "\n",
    "def autoplay(samples):\n",
    "    switch_progress = tqdm(desc=\"switch\", total=samples, mininterval=0.01)\n",
    "    stay_progress = tqdm(desc=\"stay\", total=samples, mininterval=0.01)\n",
    "\n",
    "    for i in range(samples):\n",
    "        for switch, progress in zip((True, False), (switch_progress, stay_progress)):\n",
    "            first_choice = random.randint(1, 3)\n",
    "            game = MontyHallGame()\n",
    "            game.choose(first_choice)\n",
    "            game.reveal()\n",
    "            game.choose_again(switch=switch)\n",
    "            if game.has_won:\n",
    "                progress.update(1)\n",
    "    switch_progress.close()\n",
    "    stay_progress.close()\n",
    "\n",
    "\n",
    "autoplay(100_000)"
   ]
  },
  {
   "cell_type": "markdown",
   "metadata": {},
   "source": [
    "Tasks:\n",
    "\n",
    "1. create a 'welcome' page\n",
    "2. serve a form for \"pick a door\"\n",
    "3. handle form submission for picking a door\n",
    "4. select a door to open\n",
    "5. serve a form to make final pick\n",
    "6. serve a result\n",
    "\n",
    "\n",
    "Initial FastAPI boilerplate:\n",
    "\n",
    "```python\n",
    "from fastapi import FastAPI, Form, Request\n",
    "from fastapi.responses import HTMLResponse\n",
    "from fastapi.templating import Jinja2Templates\n",
    "\n",
    "app = FastAPI()\n",
    "templates = Jinja2Templates(directory=\"templates\")\n",
    "\n",
    "@app.get(\"/\", response_class=HTMLResponse)\n",
    "def welcome():\n",
    "    ...\n",
    "\n",
    "if __name__ == \"__main__\":\n",
    "    import uvicorn\n",
    "    uvicorn.run(app, debug=True)\n",
    "```"
   ]
  }
 ],
 "metadata": {
  "kernelspec": {
   "display_name": "Python 3 (ipykernel)",
   "language": "python",
   "name": "python3"
  },
  "language_info": {
   "codemirror_mode": {
    "name": "ipython",
    "version": 3
   },
   "file_extension": ".py",
   "mimetype": "text/x-python",
   "name": "python",
   "nbconvert_exporter": "python",
   "pygments_lexer": "ipython3",
   "version": "3.10.13"
  },
  "widgets": {
   "application/vnd.jupyter.widget-state+json": {
    "state": {},
    "version_major": 2,
    "version_minor": 0
   }
  }
 },
 "nbformat": 4,
 "nbformat_minor": 4
}
