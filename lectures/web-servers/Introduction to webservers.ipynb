{
 "cells": [
  {
   "cell_type": "markdown",
   "metadata": {},
   "source": [
    "# Introduction to web servers\n",
    "\n",
    "## Tasks of a web server\n",
    "\n",
    "\n",
    "![A web server](https://ruslanspivak.com/lsbaws-part1/LSBAWS_HTTP_request_response.png)\n",
    "\n",
    "### The Hypertext Transfer Protocol \n",
    "\n",
    "The Hypertext Transfer Protocol (HTTP) is designed to enable communications between clients and servers.\n",
    "\n",
    "It is a request-response protocol between a client and server.\n",
    "\n",
    "\n",
    "\n",
    "### HTTP Request Methods: GET and POST\n",
    "\n",
    "Common HTTP methods:\n",
    "\n",
    "* GET: Requests data from a server\n",
    "* POST: Submits data to be processed by the server (Create/Modify) \n",
    "* PUT: Submits data to be processed by the server (Upload) \n",
    "* DELETE: Delete data on the server\n",
    "\n",
    "\n",
    "### Live demo of a GET request\n",
    "\n",
    "```bash\n",
    "python3 -m pip install \"fastapi[all]\"\n",
    "```\n",
    "\n",
    "```bash\n",
    "python3 hello_world_web.py    # Start a simple web server\n",
    "```"
   ]
  },
  {
   "cell_type": "code",
   "execution_count": 1,
   "metadata": {},
   "outputs": [
    {
     "data": {
      "text/plain": [
       "'\"Hello World!\"'"
      ]
     },
     "execution_count": 1,
     "metadata": {},
     "output_type": "execute_result"
    }
   ],
   "source": [
    "import requests\n",
    "\n",
    "r = requests.get(\"http://127.0.0.1:8000\")\n",
    "r.text"
   ]
  },
  {
   "cell_type": "markdown",
   "metadata": {},
   "source": [
    "### A(n extremely incomplete list of) popular scripting webservers\n",
    "\n",
    "* FastAPI (Python)\n",
    "* Flask (Python)\n",
    "* Django (Python)\n",
    "* Tornado (Python)\n",
    "* Express (Node.js)\n",
    "* Ruby on Rails (Ruby)"
   ]
  },
  {
   "cell_type": "markdown",
   "metadata": {},
   "source": [
    "# Building a webserver with FastAPI"
   ]
  },
  {
   "cell_type": "markdown",
   "metadata": {},
   "source": [
    "## What is FastAPI?\n",
    "\n",
    "Flask is a **web application framework** built for making web APIs.\n",
    "\n",
    "It's based strongly on the idea of **type hints**.\n",
    "\n",
    "You can use FastAPI to:\n",
    "* build a website (blog, private homepage)\n",
    "* build an API server\n",
    "\n",
    "Some key FastAPI features:\n",
    "* Development server and debugger\n",
    "* Integrated support for unit testing\n",
    "* Open-source\n",
    "* Deep integration with typing tools for validation, better errors\n",
    "\n",
    "### Documentation\n",
    "\n",
    "https://fastapi.tiangolo.com\n",
    "\n",
    "### Installation\n",
    "\n",
    "```bash\n",
    "conda install fastapi uvicorn\n",
    "```\n",
    "or \n",
    "\n",
    "```bash\n",
    "python3 -m pip install \"fastapi[all]\"\n",
    "```"
   ]
  },
  {
   "cell_type": "markdown",
   "metadata": {},
   "source": [
    "## Hello world in FastAPI"
   ]
  },
  {
   "cell_type": "code",
   "execution_count": 2,
   "metadata": {},
   "outputs": [],
   "source": [
    "# %load hello_world.py\n",
    "from fastapi import FastAPI\n",
    "\n",
    "app = FastAPI()\n",
    "\n",
    "\n",
    "@app.get(\"/\")\n",
    "def hello():\n",
    "    return \"Hello World!\""
   ]
  },
  {
   "cell_type": "markdown",
   "metadata": {},
   "source": [
    "Normally, your app script will end with something like:\n",
    "\n",
    "```python\n",
    "\n",
    "if __name__ == \"__main__\":\n",
    "    import uvicorn\n",
    "    uvicorn.run(app, host=\"127.0.0.1\", port=8000)\n",
    "```\n",
    "\n",
    "but we're going to do something special to allow running in the notebook:"
   ]
  },
  {
   "cell_type": "code",
   "execution_count": 4,
   "metadata": {},
   "outputs": [
    {
     "name": "stderr",
     "output_type": "stream",
     "text": [
      "INFO:     Started server process [8559]\n",
      "INFO:     Waiting for application startup.\n",
      "INFO:     Application startup complete.\n",
      "INFO:     Uvicorn running on http://127.0.0.1:8000 (Press CTRL+C to quit)\n"
     ]
    }
   ],
   "source": [
    "from threading import Thread\n",
    "\n",
    "import uvicorn\n",
    "\n",
    "\n",
    "def run_app():\n",
    "    uvicorn.run(app, host=\"127.0.0.1\", port=8000)\n",
    "\n",
    "\n",
    "app_thread = Thread(target=run_app)\n",
    "app_thread.start()\n",
    "# import asyncio\n",
    "# from uvicorn import Config, Server\n",
    "\n",
    "# async def start_server(app, **kwargs):\n",
    "#     config = Config(app=app, loop=asyncio.get_event_loop(), **kwargs)\n",
    "#     server = Server(config)\n",
    "#     asyncio.ensure_future(server.serve())\n",
    "#     return server\n",
    "\n",
    "# server = await start_server(app, host=\"127.0.0.1\", port=8000)"
   ]
  },
  {
   "cell_type": "markdown",
   "metadata": {},
   "source": [
    "Or we can run the server with:\n",
    "\n",
    "```bash\n",
    "python3 hello_world.py\n",
    "\n",
    "    INFO:     Uvicorn running on http://127.0.0.1:8000 (Press CTRL+C to quit)\n",
    "```            \n",
    "\n",
    "Then open http://127.0.0.1:8000 in your web browser. To stop the server, hit `Control-C`.\n"
   ]
  },
  {
   "cell_type": "code",
   "execution_count": 5,
   "metadata": {},
   "outputs": [
    {
     "name": "stdout",
     "output_type": "stream",
     "text": [
      "INFO:     127.0.0.1:63315 - \"GET / HTTP/1.1\" 200 OK\n"
     ]
    },
    {
     "data": {
      "text/plain": [
       "'\"Hello World!\"'"
      ]
     },
     "execution_count": 5,
     "metadata": {},
     "output_type": "execute_result"
    }
   ],
   "source": [
    "import requests\n",
    "\n",
    "r = requests.get(\"http://127.0.0.1:8000\")\n",
    "r.text"
   ]
  },
  {
   "cell_type": "markdown",
   "metadata": {},
   "source": [
    "## What happened?\n",
    "\n",
    "```python\n",
    "from fastapi import FastAPI\n",
    "\n",
    "app = FastAPI()\n",
    "```\n",
    "\n",
    "The instance of the `FastAPI` class is our web application.\n",
    "\n",
    "The first argument is needed so that FastAPI knows where to look for templates, static files, and so on. \n",
    "\n",
    "```python\n",
    "@app.get(\"/\")\n",
    "def hello():\n",
    "    return \"Hello World!\"\n",
    "```\n",
    "\n",
    "We then use the `get()` decorator to tell Flask what URL should trigger our function, and wht HTTP method. By default, Flask answers to GET requests, and the return value of the function is the answer of the `GET` request *which will be serialized to JSON*\n",
    "\n",
    "```python\n",
    "if __name__ == \"__main__\":\n",
    "    import uvicorn\n",
    "    uvicorn.run(app, host=\"127.0.0.1\", port=8000)\n",
    "```\n",
    "**Note**: You need to restart the sever when changing your code."
   ]
  },
  {
   "cell_type": "markdown",
   "metadata": {},
   "source": [
    "## Debug mode\n",
    "\n",
    "You can also run our app in debug mode with:\n",
    "\n",
    "```bash\n",
    "uvicorn hello_world_web:app --debug \n",
    "``` \n",
    "\n",
    "where:\n",
    "\n",
    "- `hello_world_web` is the name of our `hello_world_web.py` module, and\n",
    "- `app` is the name we used for our FastAPI object inside\n",
    "- `--debug` tells the server (uvicorn) to do a few things to help debugging and development:\n",
    "\n",
    "  - log with more detail\n",
    "  - reload the server when it notices changes to files (so you don't have to stop and restart the server)\n"
   ]
  },
  {
   "cell_type": "markdown",
   "metadata": {},
   "source": [
    "## Making the server available in your network\n",
    "\n",
    "If you want your server to be accessible from your entire network, you need to launch the server with:\n",
    "\n",
    "```python\n",
    "uvicorn.run(app, host='0.0.0.0')\n",
    "```\n",
    "\n",
    "or from the commandline\n",
    "\n",
    "```bash\n",
    "uvicorn hello_world_web:app --host 0.0.0.0\n",
    "```\n",
    "\n",
    "**Important**: This allows *anyone* in your network to access your server,\n",
    "which might be a severe security risk!"
   ]
  },
  {
   "cell_type": "markdown",
   "metadata": {},
   "source": [
    "## Adding more URLs"
   ]
  },
  {
   "cell_type": "markdown",
   "metadata": {},
   "source": [
    "We can serve additional URLs by adding new functions with the decorator\n",
    "for each HTTP verb (usually `@app.get`)."
   ]
  },
  {
   "cell_type": "code",
   "execution_count": 6,
   "metadata": {},
   "outputs": [],
   "source": [
    "users = {\n",
    "    \"spike\": \"Spike Spiegel\",\n",
    "    \"jet\": \"Jet Black\",\n",
    "    \"faye\": \"Faye Valentine\",\n",
    "    \"ed\": \"Edward Wong\",\n",
    "}\n",
    "\n",
    "\n",
    "@app.get(\"/users\")\n",
    "def show_user_overview():\n",
    "    return users\n",
    "\n",
    "\n",
    "# uvicorn.run(app, port=8000)"
   ]
  },
  {
   "cell_type": "markdown",
   "metadata": {},
   "source": [
    "Matches http://localhost:8000/users"
   ]
  },
  {
   "cell_type": "code",
   "execution_count": 8,
   "metadata": {},
   "outputs": [
    {
     "name": "stdout",
     "output_type": "stream",
     "text": [
      "INFO:     127.0.0.1:63446 - \"GET /users HTTP/1.1\" 200 OK\n"
     ]
    },
    {
     "data": {
      "text/plain": [
       "200 http://localhost:8000/users\n",
       "headers:   content-length: 86\n",
       "  content-type: application/json\n",
       "  date: Mon, 28 Aug 2023 10:31:10 GMT\n",
       "  server: uvicorn\n",
       "\n",
       "body (application/json):\n",
       "{'spike': 'Spike Spiegel',\n",
       " 'jet': 'Jet Black',\n",
       " 'faye': 'Faye Valentine',\n",
       " 'ed': 'Edward Wong'}"
      ]
     },
     "execution_count": 8,
     "metadata": {},
     "output_type": "execute_result"
    }
   ],
   "source": [
    "r = requests.get(\"http://localhost:8000/users\")\n",
    "r"
   ]
  },
  {
   "cell_type": "code",
   "execution_count": 9,
   "metadata": {},
   "outputs": [
    {
     "data": {
      "text/plain": [
       "'application/json'"
      ]
     },
     "execution_count": 9,
     "metadata": {},
     "output_type": "execute_result"
    }
   ],
   "source": [
    "r.headers[\"Content-Type\"]"
   ]
  },
  {
   "cell_type": "code",
   "execution_count": 10,
   "metadata": {},
   "outputs": [
    {
     "data": {
      "text/plain": [
       "{'spike': 'Spike Spiegel',\n",
       " 'jet': 'Jet Black',\n",
       " 'faye': 'Faye Valentine',\n",
       " 'ed': 'Edward Wong'}"
      ]
     },
     "execution_count": 10,
     "metadata": {},
     "output_type": "execute_result"
    }
   ],
   "source": [
    "r.json()"
   ]
  },
  {
   "cell_type": "code",
   "execution_count": 11,
   "metadata": {},
   "outputs": [
    {
     "data": {
      "text/plain": [
       "'Edward Wong'"
      ]
     },
     "execution_count": 11,
     "metadata": {},
     "output_type": "execute_result"
    }
   ],
   "source": [
    "r.json()[\"ed\"]"
   ]
  },
  {
   "cell_type": "code",
   "execution_count": 12,
   "metadata": {},
   "outputs": [],
   "source": [
    "@app.get(\"/users/{username}\")\n",
    "def show_user_profile(username):\n",
    "    # show the user profile for that user\n",
    "    return {\n",
    "        \"username\": username,\n",
    "        \"full name\": users[username],\n",
    "    }"
   ]
  },
  {
   "cell_type": "markdown",
   "metadata": {},
   "source": [
    "Matches http://localhost:8000/users/ed\n",
    "or http://localhost:8000/users/NAME for any `NAME` in our user list.\n"
   ]
  },
  {
   "cell_type": "code",
   "execution_count": 13,
   "metadata": {},
   "outputs": [
    {
     "name": "stdout",
     "output_type": "stream",
     "text": [
      "INFO:     127.0.0.1:63457 - \"GET /users/ed HTTP/1.1\" 200 OK\n"
     ]
    },
    {
     "data": {
      "text/plain": [
       "{'username': 'ed', 'full name': 'Edward Wong'}"
      ]
     },
     "execution_count": 13,
     "metadata": {},
     "output_type": "execute_result"
    }
   ],
   "source": [
    "r = requests.get(\"http://localhost:8000/users/ed\")\n",
    "r.json()"
   ]
  },
  {
   "cell_type": "markdown",
   "metadata": {},
   "source": [
    "What happens if we request a name that doesn't exist?"
   ]
  },
  {
   "cell_type": "code",
   "execution_count": 14,
   "metadata": {},
   "outputs": [
    {
     "name": "stdout",
     "output_type": "stream",
     "text": [
      "INFO:     127.0.0.1:63462 - \"GET /users/min HTTP/1.1\" 500 Internal Server Error\n"
     ]
    },
    {
     "name": "stderr",
     "output_type": "stream",
     "text": [
      "ERROR:    Exception in ASGI application\n",
      "Traceback (most recent call last):\n",
      "  File \"/Users/minrk/conda/lib/python3.11/site-packages/uvicorn/protocols/http/httptools_impl.py\", line 426, in run_asgi\n",
      "    result = await app(  # type: ignore[func-returns-value]\n",
      "             ^^^^^^^^^^^^^^^^^^^^^^^^^^^^^^^^^^^^^^^^^^^^^^\n",
      "  File \"/Users/minrk/conda/lib/python3.11/site-packages/uvicorn/middleware/proxy_headers.py\", line 84, in __call__\n",
      "    return await self.app(scope, receive, send)\n",
      "           ^^^^^^^^^^^^^^^^^^^^^^^^^^^^^^^^^^^^\n",
      "  File \"/Users/minrk/conda/lib/python3.11/site-packages/fastapi/applications.py\", line 292, in __call__\n",
      "    await super().__call__(scope, receive, send)\n",
      "  File \"/Users/minrk/conda/lib/python3.11/site-packages/starlette/applications.py\", line 122, in __call__\n",
      "    await self.middleware_stack(scope, receive, send)\n",
      "  File \"/Users/minrk/conda/lib/python3.11/site-packages/starlette/middleware/errors.py\", line 184, in __call__\n",
      "    raise exc\n",
      "  File \"/Users/minrk/conda/lib/python3.11/site-packages/starlette/middleware/errors.py\", line 162, in __call__\n",
      "    await self.app(scope, receive, _send)\n",
      "  File \"/Users/minrk/conda/lib/python3.11/site-packages/starlette/middleware/exceptions.py\", line 79, in __call__\n",
      "    raise exc\n",
      "  File \"/Users/minrk/conda/lib/python3.11/site-packages/starlette/middleware/exceptions.py\", line 68, in __call__\n",
      "    await self.app(scope, receive, sender)\n",
      "  File \"/Users/minrk/conda/lib/python3.11/site-packages/fastapi/middleware/asyncexitstack.py\", line 20, in __call__\n",
      "    raise e\n",
      "  File \"/Users/minrk/conda/lib/python3.11/site-packages/fastapi/middleware/asyncexitstack.py\", line 17, in __call__\n",
      "    await self.app(scope, receive, send)\n",
      "  File \"/Users/minrk/conda/lib/python3.11/site-packages/starlette/routing.py\", line 718, in __call__\n",
      "    await route.handle(scope, receive, send)\n",
      "  File \"/Users/minrk/conda/lib/python3.11/site-packages/starlette/routing.py\", line 276, in handle\n",
      "    await self.app(scope, receive, send)\n",
      "  File \"/Users/minrk/conda/lib/python3.11/site-packages/starlette/routing.py\", line 66, in app\n",
      "    response = await func(request)\n",
      "               ^^^^^^^^^^^^^^^^^^^\n",
      "  File \"/Users/minrk/conda/lib/python3.11/site-packages/fastapi/routing.py\", line 273, in app\n",
      "    raw_response = await run_endpoint_function(\n",
      "                   ^^^^^^^^^^^^^^^^^^^^^^^^^^^^\n",
      "  File \"/Users/minrk/conda/lib/python3.11/site-packages/fastapi/routing.py\", line 192, in run_endpoint_function\n",
      "    return await run_in_threadpool(dependant.call, **values)\n",
      "           ^^^^^^^^^^^^^^^^^^^^^^^^^^^^^^^^^^^^^^^^^^^^^^^^^\n",
      "  File \"/Users/minrk/conda/lib/python3.11/site-packages/starlette/concurrency.py\", line 41, in run_in_threadpool\n",
      "    return await anyio.to_thread.run_sync(func, *args)\n",
      "           ^^^^^^^^^^^^^^^^^^^^^^^^^^^^^^^^^^^^^^^^^^^\n",
      "  File \"/Users/minrk/conda/lib/python3.11/site-packages/anyio/to_thread.py\", line 33, in run_sync\n",
      "    return await get_asynclib().run_sync_in_worker_thread(\n",
      "           ^^^^^^^^^^^^^^^^^^^^^^^^^^^^^^^^^^^^^^^^^^^^^^^\n",
      "  File \"/Users/minrk/conda/lib/python3.11/site-packages/anyio/_backends/_asyncio.py\", line 877, in run_sync_in_worker_thread\n",
      "    return await future\n",
      "           ^^^^^^^^^^^^\n",
      "  File \"/Users/minrk/conda/lib/python3.11/site-packages/anyio/_backends/_asyncio.py\", line 807, in run\n",
      "    result = context.run(func, *args)\n",
      "             ^^^^^^^^^^^^^^^^^^^^^^^^\n",
      "  File \"/var/folders/qr/3vxfnp1x2t1fw55dr288mphc0000gn/T/ipykernel_8559/4191858267.py\", line 6, in show_user_profile\n",
      "    \"full name\": users[username],\n",
      "                 ~~~~~^^^^^^^^^^\n",
      "KeyError: 'min'\n"
     ]
    },
    {
     "data": {
      "text/plain": [
       "500 http://localhost:8000/users/min\n",
       "headers:   content-length: 21\n",
       "  content-type: text/plain; charset=utf-8\n",
       "  date: Mon, 28 Aug 2023 10:31:18 GMT\n",
       "  server: uvicorn\n",
       "\n",
       "body (text/plain; charset=utf-8):\n",
       "Internal Server Error"
      ]
     },
     "execution_count": 14,
     "metadata": {},
     "output_type": "execute_result"
    }
   ],
   "source": [
    "r = requests.get(\"http://localhost:8000/users/min\")\n",
    "r"
   ]
  },
  {
   "cell_type": "markdown",
   "metadata": {},
   "source": [
    "That brings us to\n",
    "\n",
    "### Error handling\n",
    "\n",
    "HTTP errors are common.\n",
    "You are probably familiar with \"404 not found\"\n",
    "\n",
    "Every HTTP response has a numerical status,\n",
    "in the range 100-599.\n",
    "\n",
    "Each 100 range has a broad category, and then there are more specific codes within those ranges:\n",
    "\n",
    "- 1XX is for protocol-level information (don't worry about it)\n",
    "- 2XX is for success\n",
    "- 3XX is for redirection (maybe okay, retry somewhere else)\n",
    "- 4XX is for client error (your fault)\n",
    "- 5XX is for server error (my fault)\n",
    "\n",
    "A great resource is https://developer.mozilla.org/en-US/docs/Web/HTTP/Status, which lists all the common and standardized codes, and what they are for.\n",
    "\n",
    "If the client request was wrong for some reason,\n",
    "it can respond with `400: Bad Request`.\n",
    "That's not very informative.\n",
    "\n",
    "A common mistake is for a request to be invalid because it asked for smething that doesn't exist.\n",
    "There's a special 4XX code for that: `404: not found`.\n",
    "\n",
    "That's the error we should raise when someone asks for a username that doesn't exist."
   ]
  },
  {
   "cell_type": "code",
   "execution_count": 15,
   "metadata": {},
   "outputs": [],
   "source": [
    "from fastapi import HTTPException, status\n",
    "\n",
    "\n",
    "@app.get(\"/users2/{username}\")\n",
    "def show_user_profile(username):\n",
    "    # show the user profile for that user\n",
    "    if username not in users:\n",
    "        raise HTTPException(\n",
    "            status.HTTP_404_NOT_FOUND,\n",
    "            detail=f\"No such user: {username}\",\n",
    "        )\n",
    "    return {\n",
    "        \"username\": username,\n",
    "        \"full name\": users[username],\n",
    "    }"
   ]
  },
  {
   "cell_type": "markdown",
   "metadata": {},
   "source": [
    "Now let's try again"
   ]
  },
  {
   "cell_type": "code",
   "execution_count": 16,
   "metadata": {},
   "outputs": [
    {
     "name": "stdout",
     "output_type": "stream",
     "text": [
      "INFO:     127.0.0.1:63478 - \"GET /users2/vicious HTTP/1.1\" 404 Not Found\n"
     ]
    },
    {
     "data": {
      "text/plain": [
       "404 http://localhost:8000/users2/vicious\n",
       "headers:   content-length: 34\n",
       "  content-type: application/json\n",
       "  date: Mon, 28 Aug 2023 10:31:29 GMT\n",
       "  server: uvicorn\n",
       "\n",
       "body (application/json):\n",
       "{'detail': 'No such user: vicious'}"
      ]
     },
     "execution_count": 16,
     "metadata": {},
     "output_type": "execute_result"
    }
   ],
   "source": [
    "r = requests.get(\"http://localhost:8000/users2/vicious\")\n",
    "r"
   ]
  },
  {
   "cell_type": "code",
   "execution_count": 17,
   "metadata": {},
   "outputs": [
    {
     "data": {
      "text/plain": [
       "404"
      ]
     },
     "execution_count": 17,
     "metadata": {},
     "output_type": "execute_result"
    }
   ],
   "source": [
    "r.status_code"
   ]
  },
  {
   "cell_type": "code",
   "execution_count": 18,
   "metadata": {},
   "outputs": [
    {
     "data": {
      "text/plain": [
       "{'detail': 'No such user: vicious'}"
      ]
     },
     "execution_count": 18,
     "metadata": {},
     "output_type": "execute_result"
    }
   ],
   "source": [
    "r.json()"
   ]
  },
  {
   "cell_type": "markdown",
   "metadata": {},
   "source": [
    "## Templates"
   ]
  },
  {
   "cell_type": "markdown",
   "metadata": {},
   "source": [
    "So far our webserver only served JSON, but no HTML documents. \n",
    "\n",
    "The first thing you need to do is declare a `response_class`\n",
    "\n",
    "```python\n",
    "from fastapi.responses import HTMLResponse\n",
    "\n",
    "@app.get(\"/login\", response_class=HTMLResponse)\n",
    "```\n",
    "\n",
    "That tells FastAPI to respond with HTML as text,\n",
    "rather than serialize a JSON model.\n",
    "\n",
    "One solution would be to define the entire HTML string in the URL handler, e.g.:\n",
    "\n",
    "```python\n",
    "@app.get('/plainhtml', respose_type=HTMLResponse)\n",
    "def some_html():\n",
    "    return '''\n",
    "<html>\n",
    "<header><title>The title</title></header>\n",
    "<body>\n",
    "Hello world\n",
    "</body>\n",
    "</html>    \n",
    "    '''\n",
    "```\n",
    "\n",
    "However, it is more common to use a templating system (Jinja is the most popular one) that makes our life a lot easier:"
   ]
  },
  {
   "cell_type": "code",
   "execution_count": 19,
   "metadata": {},
   "outputs": [],
   "source": [
    "from fastapi import Request\n",
    "from fastapi.responses import HTMLResponse\n",
    "from fastapi.templating import Jinja2Templates\n",
    "\n",
    "templates = Jinja2Templates(directory=\"templates\")\n",
    "\n",
    "\n",
    "@app.get(\"/post/\", response_class=HTMLResponse)\n",
    "@app.get(\"/post/{name}\", response_class=HTMLResponse)\n",
    "def post(request: Request, name=None):\n",
    "    return templates.TemplateResponse(\n",
    "        \"post.html\",\n",
    "        {\n",
    "            \"request\": request,\n",
    "            \"name\": name,\n",
    "        },\n",
    "    )"
   ]
  },
  {
   "cell_type": "markdown",
   "metadata": {},
   "source": [
    "Jinja will look for templates in the `templates` folder."
   ]
  },
  {
   "cell_type": "markdown",
   "metadata": {},
   "source": [
    "```html\n",
    "<!-- ./templates/post.html -->\n",
    "\n",
    "<!doctype html>\n",
    "<title>Hello from FastAPI</title>\n",
    "{% if name %}\n",
    "  <h1>Displaying blog post {{ name }}!</h1>\n",
    "{% else %}\n",
    "  <h1>No post name given!</h1>\n",
    "{% endif %}\n",
    "```"
   ]
  },
  {
   "cell_type": "code",
   "execution_count": 10,
   "metadata": {},
   "outputs": [
    {
     "name": "stderr",
     "output_type": "stream",
     "text": [
      "INFO:     Started server process [46631]\n",
      "INFO:     Waiting for application startup.\n",
      "INFO:     Application startup complete.\n",
      "INFO:     Uvicorn running on http://127.0.0.1:5001 (Press CTRL+C to quit)\n"
     ]
    },
    {
     "name": "stdout",
     "output_type": "stream",
     "text": [
      "INFO:     127.0.0.1:59237 - \"GET /post/History%20Of%20Science HTTP/1.1\" 200 OK\n"
     ]
    },
    {
     "name": "stderr",
     "output_type": "stream",
     "text": [
      "INFO:     Shutting down\n",
      "INFO:     Waiting for application shutdown.\n",
      "INFO:     Application shutdown complete.\n",
      "INFO:     Finished server process [46631]\n"
     ]
    }
   ],
   "source": [
    "# uvicorn.run(app, port=8000)"
   ]
  },
  {
   "cell_type": "markdown",
   "metadata": {},
   "source": [
    "Matches http://localhost:8000/post/History%20Of%20Science"
   ]
  },
  {
   "cell_type": "code",
   "execution_count": 20,
   "metadata": {},
   "outputs": [
    {
     "name": "stdout",
     "output_type": "stream",
     "text": [
      "INFO:     127.0.0.1:63520 - \"GET /post/History%20Of%20Science HTTP/1.1\" 200 OK\n"
     ]
    },
    {
     "data": {
      "text/html": [
       "<!doctype html>\n",
       "<title>Hello from FastAPI</title>\n",
       "\n",
       "<h1>Displaying blog post History Of Science!</h1>\n"
      ],
      "text/plain": [
       "<IPython.core.display.HTML object>"
      ]
     },
     "execution_count": 20,
     "metadata": {},
     "output_type": "execute_result"
    }
   ],
   "source": [
    "from IPython.display import HTML\n",
    "\n",
    "r = requests.get(\"http://localhost:8000/post/History%20Of%20Science\")\n",
    "HTML(r.text)"
   ]
  },
  {
   "cell_type": "markdown",
   "metadata": {},
   "source": [
    "## Interactive web applications with HTML forms"
   ]
  },
  {
   "cell_type": "markdown",
   "metadata": {},
   "source": [
    "Using the template, we can now create a HTML form with a `POST` request"
   ]
  },
  {
   "cell_type": "markdown",
   "metadata": {},
   "source": [
    "```html\n",
    "<!-- ./templates/login.html -->\n",
    "\n",
    "<!doctype html>\n",
    "<title>Login</title>\n",
    "\n",
    "{% if error %}\n",
    "<p style=\"color:red\">{{ error }}</p>\n",
    "{% endif %}\n",
    "\n",
    "<form action=\"login\" method=\"POST\">\n",
    "    Username:\n",
    "    <br>\n",
    "    <input type=\"text\" name=\"username\">\n",
    "    <br>\n",
    "    Password:\n",
    "    <br>\n",
    "    <input type=\"password\" name=\"password\">\n",
    "    <br>\n",
    "    <input type=\"submit\" value=\"Submit\">\n",
    "</form>\n",
    "```\n"
   ]
  },
  {
   "cell_type": "code",
   "execution_count": 21,
   "metadata": {},
   "outputs": [],
   "source": [
    "@app.get(\"/login\")\n",
    "def login(request: Request):\n",
    "    return templates.TemplateResponse(\"login.html\", {\"request\": request})"
   ]
  },
  {
   "cell_type": "markdown",
   "metadata": {},
   "source": [
    "Matches http://localhost:8000/login"
   ]
  },
  {
   "cell_type": "code",
   "execution_count": 22,
   "metadata": {},
   "outputs": [
    {
     "name": "stdout",
     "output_type": "stream",
     "text": [
      "INFO:     127.0.0.1:63559 - \"GET /login HTTP/1.1\" 200 OK\n"
     ]
    },
    {
     "data": {
      "text/html": [
       "<!doctype html>\n",
       "<title>Login</title>\n",
       "\n",
       "\n",
       "\n",
       "<form action=\"/login\" method=\"POST\">\n",
       "  Username:\n",
       "  <br />\n",
       "  <input type=\"text\" name=\"username\" />\n",
       "  <br />\n",
       "  Password:\n",
       "  <br />\n",
       "  <input type=\"password\" name=\"password\" />\n",
       "  <br />\n",
       "  <input type=\"submit\" value=\"Submit\" />\n",
       "</form>"
      ],
      "text/plain": [
       "<IPython.core.display.HTML object>"
      ]
     },
     "execution_count": 22,
     "metadata": {},
     "output_type": "execute_result"
    }
   ],
   "source": [
    "r = requests.get(\"http://localhost:8000/login\")\n",
    "HTML(r.text)"
   ]
  },
  {
   "cell_type": "markdown",
   "metadata": {},
   "source": [
    "## Handling the `POST` request."
   ]
  },
  {
   "cell_type": "markdown",
   "metadata": {},
   "source": [
    "The form above sends a `POST` request to the `handle_login` URL. \n",
    "\n",
    "We can use \n",
    "```python\n",
    "@app.post('/login')\n",
    "```\n",
    "to create a new handler that accepts `POST` requests.\n",
    "\n",
    "We use `Form(...)` to declare inputs to the request that should come the login form fields.\n",
    "The names of these variables are important!\n",
    "They must match"
   ]
  },
  {
   "cell_type": "code",
   "execution_count": 23,
   "metadata": {},
   "outputs": [],
   "source": [
    "from fastapi import Form\n",
    "\n",
    "\n",
    "@app.post(\"/login\")\n",
    "def login(username=Form(...), password=Form(...)):\n",
    "    if username == \"ein\" and password == \"datadog\":\n",
    "        return {\"username\": username}\n",
    "    else:\n",
    "        raise HTTPException(status.HTTP_403_FORBIDDEN)"
   ]
  },
  {
   "cell_type": "markdown",
   "metadata": {},
   "source": [
    "Try it on http://localhost:8000/login"
   ]
  }
 ],
 "metadata": {
  "celltoolbar": "Slideshow",
  "kernelspec": {
   "display_name": "Python 3 (ipykernel)",
   "language": "python",
   "name": "python3"
  },
  "language_info": {
   "codemirror_mode": {
    "name": "ipython",
    "version": 3
   },
   "file_extension": ".py",
   "mimetype": "text/x-python",
   "name": "python",
   "nbconvert_exporter": "python",
   "pygments_lexer": "ipython3",
   "version": "3.11.3"
  },
  "widgets": {
   "application/vnd.jupyter.widget-state+json": {
    "state": {},
    "version_major": 2,
    "version_minor": 0
   }
  }
 },
 "nbformat": 4,
 "nbformat_minor": 4
}
