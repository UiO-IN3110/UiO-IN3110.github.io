{
 "cells": [
  {
   "cell_type": "code",
   "execution_count": null,
   "id": "10b26bf8-5368-4890-81c9-60be933e9e6e",
   "metadata": {},
   "outputs": [],
   "source": [
    "import requests\n",
    "\n",
    "url = \"http://127.0.0.1:8000\""
   ]
  },
  {
   "cell_type": "code",
   "execution_count": null,
   "id": "32d7e6d5-6da5-45c3-90e9-d01b8c1a3d2b",
   "metadata": {},
   "outputs": [],
   "source": [
    "r = requests.post(f\"{url}/games\")\n",
    "r.json()"
   ]
  },
  {
   "cell_type": "code",
   "execution_count": null,
   "id": "38c08778-90ba-4bc6-be12-c5170928931b",
   "metadata": {},
   "outputs": [],
   "source": [
    "import json\n",
    "\n",
    "game_id = r.json()[\"id\"]\n",
    "r = requests.post(f\"{url}/games/{game_id}/choose\", data=json.dumps({\"door\": 1}))\n",
    "r.json()"
   ]
  },
  {
   "cell_type": "code",
   "execution_count": null,
   "id": "4a4df75d-1102-469b-a194-6e932d0d4469",
   "metadata": {},
   "outputs": [],
   "source": [
    "r = requests.post(\n",
    "    f\"{url}/games/{game_id}/choose-again\", data=json.dumps({\"switch\": False})\n",
    ")\n",
    "r.json()"
   ]
  },
  {
   "cell_type": "code",
   "execution_count": null,
   "id": "ea8651b3-d4e8-4797-b6a1-ef26fdafd998",
   "metadata": {},
   "outputs": [],
   "source": [
    "r = requests.get(f\"{url}/statistics\")\n",
    "stats = r.json()\n",
    "stats"
   ]
  },
  {
   "cell_type": "code",
   "execution_count": null,
   "id": "6344c7d2-549a-42c1-a9af-25fc6cf966ee",
   "metadata": {},
   "outputs": [],
   "source": [
    "records = []\n",
    "for choice, results in stats.items():\n",
    "    for win in results:\n",
    "        records.append({\"choice\": choice, \"win\": win})\n"
   ]
  },
  {
   "cell_type": "code",
   "execution_count": null,
   "id": "c9a331b7-4d03-44ae-a9c7-147819ef6661",
   "metadata": {},
   "outputs": [],
   "source": [
    "import pandas as pd\n",
    "\n",
    "df = pd.DataFrame(records)\n",
    "df"
   ]
  },
  {
   "cell_type": "code",
   "execution_count": null,
   "id": "66feb3a6-bada-4628-b1ae-b37f297f656e",
   "metadata": {},
   "outputs": [],
   "source": [
    "import altair as alt\n",
    "\n",
    "alt.Chart(df).mark_bar().encode(\n",
    "    x=\"choice\",\n",
    "    y=\"count()\",\n",
    "    color=\"win\",\n",
    ")"
   ]
  },
  {
   "cell_type": "code",
   "execution_count": null,
   "id": "a9b63039-d8a9-40dc-b4fd-fbc47fcd5521",
   "metadata": {},
   "outputs": [],
   "source": []
  }
 ],
 "metadata": {
  "kernelspec": {
   "display_name": "Python 3 (ipykernel)",
   "language": "python",
   "name": "python3"
  },
  "language_info": {
   "codemirror_mode": {
    "name": "ipython",
    "version": 3
   },
   "file_extension": ".py",
   "mimetype": "text/x-python",
   "name": "python",
   "nbconvert_exporter": "python",
   "pygments_lexer": "ipython3",
   "version": "3.10.13"
  },
  "widgets": {
   "application/vnd.jupyter.widget-state+json": {
    "state": {},
    "version_major": 2,
    "version_minor": 0
   }
  }
 },
 "nbformat": 4,
 "nbformat_minor": 5
}
