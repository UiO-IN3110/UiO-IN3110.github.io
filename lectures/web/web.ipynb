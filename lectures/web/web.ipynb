{
 "cells": [
  {
   "cell_type": "markdown",
   "id": "50cec11f-eb2a-4deb-8219-4fd1d7430d23",
   "metadata": {},
   "source": [
    "# The Web, how does it work?!\n",
    "\n",
    "<div style=\"height: 500px\"></div>\n",
    "\n",
    "The World-Wide Web (WWW) is a collection of standards, for how most things on the Internet connect to each other:\n",
    "\n",
    "- URLs - how to specify what document to request from what server (https://uio-in3110.github.io/)\n",
    "- DNS - how to resolve names (`uio-in3110.github.io`) to machine addresses (`185.199.111.153`)\n",
    "- TCP/IP - the low-level protocol of sending bytes back and forth to machines\n",
    "- HTTP - the protocol for how to request documents (more later in the semester)\n",
    "- HTML - markup language for documents on the web (topic for today)\n",
    "- Browser - an application that ties all these things together"
   ]
  },
  {
   "cell_type": "markdown",
   "id": "89d7b397-132e-438a-a9f4-5cee26538e2d",
   "metadata": {},
   "source": [
    "So I want to get the page at `http://example.com/`. That's my URL.\n",
    "It means I want to:\n",
    "\n",
    "1. use protocol `http`\n",
    "2. talk to the server at `example.com`\n",
    "3. request the document at `/`"
   ]
  },
  {
   "cell_type": "code",
   "execution_count": 1,
   "id": "54a4bef8-c88b-46b4-873e-c89d334ad43b",
   "metadata": {},
   "outputs": [
    {
     "data": {
      "text/html": [
       "<iframe src=\"http://example.com/\" style=\"width: 90%; height: 400px;\"></iframe>\n"
      ],
      "text/plain": [
       "<IPython.core.display.HTML object>"
      ]
     },
     "metadata": {},
     "output_type": "display_data"
    }
   ],
   "source": [
    "%%html\n",
    "<iframe src=\"http://example.com/\" style=\"width: 90%; height: 400px;\"></iframe>"
   ]
  },
  {
   "cell_type": "code",
   "execution_count": 2,
   "id": "b7ce3e40-be33-4736-8e55-a799c5b505aa",
   "metadata": {},
   "outputs": [
    {
     "data": {
      "text/plain": [
       "ParseResult(scheme='http', netloc='example.com', path='/', params='', query='', fragment='')"
      ]
     },
     "execution_count": 2,
     "metadata": {},
     "output_type": "execute_result"
    }
   ],
   "source": [
    "from urllib.parse import urlparse\n",
    "\n",
    "url = \"http://example.com/\"\n",
    "url_parsed = urlparse(url)\n",
    "url_parsed"
   ]
  },
  {
   "cell_type": "markdown",
   "id": "a0db3bad-7a2d-4cc6-aa78-5f1f3ca9764e",
   "metadata": {},
   "source": [
    "Step 1. resolve the machine \"example.com\" so I can talk to it"
   ]
  },
  {
   "cell_type": "code",
   "execution_count": 3,
   "id": "59cfd6dc-2f18-44f8-9498-af2bb8d77853",
   "metadata": {},
   "outputs": [
    {
     "data": {
      "text/plain": [
       "'93.184.216.34'"
      ]
     },
     "execution_count": 3,
     "metadata": {},
     "output_type": "execute_result"
    }
   ],
   "source": [
    "import socket\n",
    "\n",
    "hostname = url_parsed.hostname\n",
    "ip_address = socket.gethostbyname(hostname)\n",
    "ip_address"
   ]
  },
  {
   "cell_type": "markdown",
   "id": "ac5b4370-0691-4985-84ca-f043a6e9afd0",
   "metadata": {},
   "source": [
    "Step 2. connect to the server using the ip address"
   ]
  },
  {
   "cell_type": "code",
   "execution_count": 8,
   "id": "90a7ba9b-2fba-47d4-8823-aff5b71c3bd0",
   "metadata": {},
   "outputs": [],
   "source": [
    "s = socket.create_connection((ip_address, 80))"
   ]
  },
  {
   "cell_type": "markdown",
   "id": "3031793f-9ca7-4fa2-88aa-6e123739d583",
   "metadata": {},
   "source": [
    "Step 3. send an \"HTTP GET request\" for the document `/`"
   ]
  },
  {
   "cell_type": "code",
   "execution_count": 9,
   "id": "61747d5f-e47a-45df-95ca-360219073b7d",
   "metadata": {},
   "outputs": [
    {
     "data": {
      "text/plain": [
       "b'GET / HTTP/1.1\\r\\nHost: example.com\\r\\n\\r\\n'"
      ]
     },
     "execution_count": 9,
     "metadata": {},
     "output_type": "execute_result"
    }
   ],
   "source": [
    "message = f\"\"\"\\\n",
    "GET {url_parsed.path} HTTP/1.1\n",
    "Host: {url_parsed.hostname}\n",
    "\n",
    "\"\"\"\n",
    "\n",
    "message = message.replace(\"\\n\", \"\\r\\n\").encode(\"utf8\")\n",
    "message"
   ]
  },
  {
   "cell_type": "code",
   "execution_count": 10,
   "id": "5b2346f4-a543-4561-af12-3ffed6954ea6",
   "metadata": {},
   "outputs": [
    {
     "data": {
      "text/plain": [
       "37"
      ]
     },
     "execution_count": 10,
     "metadata": {},
     "output_type": "execute_result"
    }
   ],
   "source": [
    "s.send(message)"
   ]
  },
  {
   "cell_type": "markdown",
   "id": "a9f238a2-4b72-4b08-be6f-396b91967864",
   "metadata": {},
   "source": [
    "Step 4. receive the response"
   ]
  },
  {
   "cell_type": "code",
   "execution_count": 11,
   "id": "8a5083c4-6888-45ed-8112-e138e6477454",
   "metadata": {},
   "outputs": [
    {
     "data": {
      "text/plain": [
       "b'HTTP/1.1 200 OK\\r\\nAccept-Ranges: bytes\\r\\nAge: 453618\\r\\nCache-Control: max-age=604800\\r\\nContent-Type: text/html; charset=UTF-8\\r\\nDate: Wed, 04 Oct 2023 10:24:29 GMT\\r\\nEtag: \"3147526947\"\\r\\nExpires: Wed, 11 Oct 2023 10:24:29 GMT\\r\\nLast-Modified: Thu, 17 Oct 2019 07:18:26 GMT\\r\\nServer: ECS (dcb/7EC9)\\r\\nVary: Accept-Encoding\\r\\nX-Cache: HIT\\r\\nContent-Length: 1256\\r\\n\\r\\n<!doctype html>\\n<html>\\n<head>\\n    <title>Example Domain</title>\\n\\n    <meta charset=\"utf-8\" />\\n    <meta http-equiv=\"Content-type\" content=\"text/html; charset=utf-8\" />\\n    <meta name=\"viewport\" content=\"width=device-width, initial-scale=1\" />\\n    <style type=\"text/css\">\\n    body {\\n        background-color: #f0f0f2;\\n        margin: 0;\\n        padding: 0;\\n        font-family: -apple-system, system-ui, BlinkMacSystemFont, \"Segoe UI\", \"Open Sans\", \"Helvetica Neue\", Helvetica, Arial, sans-serif;\\n        \\n    }\\n    div {\\n        width: 600px;\\n        margin: 5em auto;\\n        padding: 2em;\\n        background-color: #fdfdff;\\n        border-radius: 0.5em;\\n        box-shadow: 2px 3px 7px 2px rgba(0,0,0,0.02);\\n    }\\n    a:link, a:visited {\\n        color: #38488f;\\n        text-decoration: none;\\n    }\\n    @media (max-width: 700px) {\\n        div {\\n            margin: 0 auto;\\n            width: auto;\\n        }\\n    }\\n    </style>    \\n</head>\\n\\n<body>\\n<div>\\n    <h1>Example Domain</h1>\\n    <p>This domain is for use in illustrative examples in documents. You may use this\\n    domain in literature without prior coordination or asking for permission.</p>\\n    <p><a href=\"https://www.iana.org/domains/example\">More information...</a></p>\\n</div>\\n</body>\\n</html>\\n'"
      ]
     },
     "execution_count": 11,
     "metadata": {},
     "output_type": "execute_result"
    }
   ],
   "source": [
    "response_bytes = s.recv(65535)\n",
    "response_bytes"
   ]
  },
  {
   "cell_type": "code",
   "execution_count": 12,
   "id": "853fe733-e7fa-421c-8771-3646aa3988af",
   "metadata": {},
   "outputs": [
    {
     "name": "stdout",
     "output_type": "stream",
     "text": [
      "HTTP/1.1 200 OK\n",
      "Accept-Ranges: bytes\n",
      "Age: 453618\n",
      "Cache-Control: max-age=604800\n",
      "Content-Type: text/html; charset=UTF-8\n",
      "Date: Wed, 04 Oct 2023 10:24:29 GMT\n",
      "Etag: \"3147526947\"\n",
      "Expires: Wed, 11 Oct 2023 10:24:29 GMT\n",
      "Last-Modified: Thu, 17 Oct 2019 07:18:26 GMT\n",
      "Server: ECS (dcb/7EC9)\n",
      "Vary: Accept-Encoding\n",
      "X-Cache: HIT\n",
      "Content-Length: 1256\n",
      "\n",
      "<!doctype html>\n",
      "<html>\n",
      "<head>\n",
      "    <title>Example Domain</title>\n",
      "\n",
      "    <meta charset=\"utf-8\" />\n",
      "    <meta http-equiv=\"Content-type\" content=\"text/html; charset=utf-8\" />\n",
      "    <meta name=\"viewport\" content=\"width=device-width, initial-scale=1\" />\n",
      "    <style type=\"text/css\">\n",
      "    body {\n",
      "        background-color: #f0f0f2;\n",
      "        margin: 0;\n",
      "        padding: 0;\n",
      "        font-family: -apple-system, system-ui, BlinkMacSystemFont, \"Segoe UI\", \"Open Sans\", \"Helvetica Neue\", Helvetica, Arial, sans-serif;\n",
      "        \n",
      "    }\n",
      "    div {\n",
      "        width: 600px;\n",
      "        margin: 5em auto;\n",
      "        padding: 2em;\n",
      "        background-color: #fdfdff;\n",
      "        border-radius: 0.5em;\n",
      "        box-shadow: 2px 3px 7px 2px rgba(0,0,0,0.02);\n",
      "    }\n",
      "    a:link, a:visited {\n",
      "        color: #38488f;\n",
      "        text-decoration: none;\n",
      "    }\n",
      "    @media (max-width: 700px) {\n",
      "        div {\n",
      "            margin: 0 auto;\n",
      "            width: auto;\n",
      "        }\n",
      "    }\n",
      "    </style>    \n",
      "</head>\n",
      "\n",
      "<body>\n",
      "<div>\n",
      "    <h1>Example Domain</h1>\n",
      "    <p>This domain is for use in illustrative examples in documents. You may use this\n",
      "    domain in literature without prior coordination or asking for permission.</p>\n",
      "    <p><a href=\"https://www.iana.org/domains/example\">More information...</a></p>\n",
      "</div>\n",
      "</body>\n",
      "</html>\n",
      "\n"
     ]
    }
   ],
   "source": [
    "response = response_bytes.decode(\"utf8\")\n",
    "print(response)"
   ]
  },
  {
   "cell_type": "markdown",
   "id": "1518ab2a-9c9b-4743-8d36-799051eda000",
   "metadata": {},
   "source": [
    "Step 5. extract the _content_ from the message"
   ]
  },
  {
   "cell_type": "code",
   "execution_count": 13,
   "id": "03f193ca-4cdd-41f2-95f0-578a8c67b765",
   "metadata": {},
   "outputs": [
    {
     "name": "stdout",
     "output_type": "stream",
     "text": [
      "<!doctype html>\n",
      "<html>\n",
      "<head>\n",
      "    <title>Example Domain</title>\n",
      "\n",
      "    <meta charset=\"utf-8\" />\n",
      "    <meta http-equiv=\"Content-type\" content=\"text/html; charset=utf-8\" />\n",
      "    <meta name=\"viewport\" content=\"width=device-width, initial-scale=1\" />\n",
      "    <style type=\"text/css\">\n",
      "    body {\n",
      "        background-color: #f0f0f2;\n",
      "        margin: 0;\n",
      "        padding: 0;\n",
      "        font-family: -apple-system, system-ui, BlinkMacSystemFont, \"Segoe UI\", \"Open Sans\", \"Helvetica Neue\", Helvetica, Arial, sans-serif;\n",
      "        \n",
      "    }\n",
      "    div {\n",
      "        width: 600px;\n",
      "        margin: 5em auto;\n",
      "        padding: 2em;\n",
      "        background-color: #fdfdff;\n",
      "        border-radius: 0.5em;\n",
      "        box-shadow: 2px 3px 7px 2px rgba(0,0,0,0.02);\n",
      "    }\n",
      "    a:link, a:visited {\n",
      "        color: #38488f;\n",
      "        text-decoration: none;\n",
      "    }\n",
      "    @media (max-width: 700px) {\n",
      "        div {\n",
      "            margin: 0 auto;\n",
      "            width: auto;\n",
      "        }\n",
      "    }\n",
      "    </style>    \n",
      "</head>\n",
      "\n",
      "<body>\n",
      "<div>\n",
      "    <h1>Example Domain</h1>\n",
      "    <p>This domain is for use in illustrative examples in documents. You may use this\n",
      "    domain in literature without prior coordination or asking for permission.</p>\n",
      "    <p><a href=\"https://www.iana.org/domains/example\">More information...</a></p>\n",
      "</div>\n",
      "</body>\n",
      "</html>\n",
      "\n"
     ]
    }
   ],
   "source": [
    "head, _, content = response.partition(\"\\r\\n\\r\\n\")\n",
    "print(content)"
   ]
  },
  {
   "cell_type": "markdown",
   "id": "c5c45b79-6783-4853-903b-8e5bfd0cf95c",
   "metadata": {},
   "source": [
    "Step 6. _interpret_ the content as HTML"
   ]
  },
  {
   "cell_type": "code",
   "execution_count": 14,
   "id": "1808466a-a26a-462c-9355-c0698634bd9c",
   "metadata": {},
   "outputs": [
    {
     "data": {
      "text/plain": [
       "<!DOCTYPE html>\n",
       "<html>\n",
       "<head>\n",
       "<title>Example Domain</title>\n",
       "<meta charset=\"utf-8\"/>\n",
       "<meta content=\"text/html; charset=utf-8\" http-equiv=\"Content-type\"/>\n",
       "<meta content=\"width=device-width, initial-scale=1\" name=\"viewport\"/>\n",
       "<style type=\"text/css\">\n",
       "    body {\n",
       "        background-color: #f0f0f2;\n",
       "        margin: 0;\n",
       "        padding: 0;\n",
       "        font-family: -apple-system, system-ui, BlinkMacSystemFont, \"Segoe UI\", \"Open Sans\", \"Helvetica Neue\", Helvetica, Arial, sans-serif;\n",
       "        \n",
       "    }\n",
       "    div {\n",
       "        width: 600px;\n",
       "        margin: 5em auto;\n",
       "        padding: 2em;\n",
       "        background-color: #fdfdff;\n",
       "        border-radius: 0.5em;\n",
       "        box-shadow: 2px 3px 7px 2px rgba(0,0,0,0.02);\n",
       "    }\n",
       "    a:link, a:visited {\n",
       "        color: #38488f;\n",
       "        text-decoration: none;\n",
       "    }\n",
       "    @media (max-width: 700px) {\n",
       "        div {\n",
       "            margin: 0 auto;\n",
       "            width: auto;\n",
       "        }\n",
       "    }\n",
       "    </style>\n",
       "</head>\n",
       "<body>\n",
       "<div>\n",
       "<h1>Example Domain</h1>\n",
       "<p>This domain is for use in illustrative examples in documents. You may use this\n",
       "    domain in literature without prior coordination or asking for permission.</p>\n",
       "<p><a href=\"https://www.iana.org/domains/example\">More information...</a></p>\n",
       "</div>\n",
       "</body>\n",
       "</html>"
      ]
     },
     "execution_count": 14,
     "metadata": {},
     "output_type": "execute_result"
    }
   ],
   "source": [
    "from bs4 import BeautifulSoup\n",
    "\n",
    "page = BeautifulSoup(content)\n",
    "page"
   ]
  },
  {
   "cell_type": "markdown",
   "id": "8294e828-68cd-4b3a-ae1b-06c5c7bf240d",
   "metadata": {},
   "source": [
    "Finally, do something with the page"
   ]
  },
  {
   "cell_type": "code",
   "execution_count": 15,
   "id": "e189163d-aaf6-4025-b449-48374a735159",
   "metadata": {},
   "outputs": [
    {
     "data": {
      "text/plain": [
       "'https://www.iana.org/domains/example'"
      ]
     },
     "execution_count": 15,
     "metadata": {},
     "output_type": "execute_result"
    }
   ],
   "source": [
    "new_url = page.find(\"a\")[\"href\"]\n",
    "new_url"
   ]
  },
  {
   "cell_type": "markdown",
   "id": "5b4394e3-cca7-46e7-b6e2-dec099fc5eab",
   "metadata": {},
   "source": [
    "More on HTML next."
   ]
  }
 ],
 "metadata": {
  "kernelspec": {
   "display_name": "Python 3 (ipykernel)",
   "language": "python",
   "name": "python3"
  },
  "language_info": {
   "codemirror_mode": {
    "name": "ipython",
    "version": 3
   },
   "file_extension": ".py",
   "mimetype": "text/x-python",
   "name": "python",
   "nbconvert_exporter": "python",
   "pygments_lexer": "ipython3",
   "version": "3.10.12"
  },
  "widgets": {
   "application/vnd.jupyter.widget-state+json": {
    "state": {},
    "version_major": 2,
    "version_minor": 0
   }
  }
 },
 "nbformat": 4,
 "nbformat_minor": 5
}
