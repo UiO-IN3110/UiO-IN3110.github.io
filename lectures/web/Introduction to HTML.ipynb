{
 "cells": [
  {
   "cell_type": "markdown",
   "metadata": {
    "slideshow": {
     "slide_type": "subslide"
    }
   },
   "source": [
    "# HyperText Markup Language\n",
    "\n",
    "HyperText Markup Language (HTML), is the standard markup language used to create web pages. \n",
    "\n",
    "* Used as markup language for basically every website on the internet.\n",
    "* Developed by the World Wide Web Consortium (W3C).\n",
    "* The current (and final) version is HTML5, a \"Living Standard\"\n",
    "\n",
    "\n",
    "## Resources\n",
    "\n",
    "* Lots of offline and online material available\n",
    "* For example the w3schools Tutorial https://www.w3schools.com/html/\n",
    "    \n",
    "\n",
    "## A simple HTML document\n",
    "\n",
    "The Hello world version of an HTML document is:\n",
    "\n",
    "```html\n",
    "<!DOCTYPE html>\n",
    "<html>\n",
    "\n",
    "  <!-- The head tag contains header information about the HTML document. -->\n",
    "  <head>\n",
    "    <title>A title for the browser window</title> \n",
    "  </head>\n",
    "  \n",
    "  <!-- The body tag contains the content of the HTML document. -->\n",
    "  <body>\n",
    "    <p>Hello world!</p>\n",
    "  </body>\n",
    "  \n",
    "</html>\n",
    "```\n",
    "\n",
    "Save this file as `index.html` and open it with your favorite web browser, e.g. `firefox index.html`\n",
    "\n",
    "\n",
    "\n",
    "## Syntax\n",
    "\n",
    "* The HTML file consists of tags, denoted by `<tagname>`\n",
    "* Most HTML elements are marked by a tag pair (start tag and end tag): `<tagname>content</tagname>`\n",
    "* Some HTML elements have no content (and hence no end tag): `<img>` or `<br>`\n",
    "* A tag can have attributes, for example: `<tagname atttribute1=\"value1\" attribute2=\"value2\">`\n",
    "\n",
    "## Comments\n",
    "\n",
    "Comments are enclosed the `<!-- This is a comment -->` tag:\n",
    "\n",
    "```html\n",
    "<!-- This is a multiline comment. \n",
    "It will not be rendered. -->\n",
    "```\n",
    "\n",
    "-------------------------------\n",
    "## Formatting\n",
    "\n",
    "### Headings"
   ]
  },
  {
   "cell_type": "code",
   "execution_count": 10,
   "metadata": {},
   "outputs": [
    {
     "data": {
      "text/html": [
       "\n",
       "<h1>I am a header</h1>\n",
       "<h2>I am a sub-header</h2>\n"
      ],
      "text/plain": [
       "<IPython.core.display.HTML object>"
      ]
     },
     "metadata": {},
     "output_type": "display_data"
    }
   ],
   "source": [
    "%%html\n",
    "\n",
    "<h1>I am a header</h1>\n",
    "<h2>I am a sub-header</h2>"
   ]
  },
  {
   "cell_type": "markdown",
   "metadata": {},
   "source": [
    "## New lines\n",
    "\n",
    "The HTML code for a newline is `<br>`:"
   ]
  },
  {
   "cell_type": "code",
   "execution_count": 11,
   "metadata": {},
   "outputs": [
    {
     "data": {
      "text/html": [
       "Hello world<br>New lines   \n",
       "\n",
       "and spaces        do not matter. Use the br tag instead\n"
      ],
      "text/plain": [
       "<IPython.core.display.HTML object>"
      ]
     },
     "metadata": {},
     "output_type": "display_data"
    }
   ],
   "source": [
    "%%html\n",
    "Hello world<br>New lines   \n",
    "\n",
    "and spaces        do not matter. Use the br tag instead"
   ]
  },
  {
   "cell_type": "markdown",
   "metadata": {
    "tags": []
   },
   "source": [
    "## Special characters\n",
    "\n",
    "HTML uses special codes to encode special characters, for example for mathematical, technical, and currency symbols, or non-ASCII characters.\n",
    "\n",
    "Full list: http://www.w3schools.com/html/html_symbols.asp\n",
    "\n",
    "Examples:\n",
    "\n",
    "\n",
    "| Symbol        | HTML entity   |\n",
    "| ------------- |:-------------:|\n",
    "| Å             | `&Aring;`     |\n",
    "| å             | `&aring;`     |\n",
    "| Ø             | `&Oslash;`    |\n",
    "| ø             | `&oslash;`    |\n",
    "| Æ             | `&Aelig;`     |\n",
    "| æ             | `&aelig;`     |\n",
    "| '             | `&#34;`       |\n",
    "| \"             | `&quot;`      |\n",
    "| &amp;         | `&amp;`       |"
   ]
  },
  {
   "cell_type": "code",
   "execution_count": 12,
   "metadata": {
    "slideshow": {
     "slide_type": "subslide"
    }
   },
   "outputs": [
    {
     "data": {
      "text/html": [
       "<p>\n",
       "&Aring;s, S&oslash;r-Tr&oslash;ndelag\n",
       "</p>\n"
      ],
      "text/plain": [
       "<IPython.core.display.HTML object>"
      ]
     },
     "metadata": {},
     "output_type": "display_data"
    }
   ],
   "source": [
    "%%html\n",
    "<p>\n",
    "&Aring;s, S&oslash;r-Tr&oslash;ndelag\n",
    "</p>"
   ]
  },
  {
   "cell_type": "markdown",
   "metadata": {
    "slideshow": {
     "slide_type": "subslide"
    }
   },
   "source": [
    "## Special characters alternative:\n",
    "\n",
    "Save your file with UTF-8 encoding (check your editor), and add the character encoding to your HTML document:\n",
    "\n",
    "```html\n",
    "<head>\n",
    "  <meta charset=\"UTF-8\">\n",
    "</head>\n",
    "```\n",
    "Then you can write ~any special character directly in the document."
   ]
  },
  {
   "cell_type": "markdown",
   "metadata": {
    "slideshow": {
     "slide_type": "subslide"
    }
   },
   "source": [
    "# Paragraphs"
   ]
  },
  {
   "cell_type": "code",
   "execution_count": 13,
   "metadata": {},
   "outputs": [
    {
     "data": {
      "text/html": [
       "<p>\n",
       "This is a paragraph.\n",
       "</p>\n",
       "<p>\n",
       "This is another paragraph.\n",
       "</p>\n"
      ],
      "text/plain": [
       "<IPython.core.display.HTML object>"
      ]
     },
     "metadata": {},
     "output_type": "display_data"
    }
   ],
   "source": [
    "%%html\n",
    "<p>\n",
    "This is a paragraph.\n",
    "</p>\n",
    "<p>\n",
    "This is another paragraph.\n",
    "</p>"
   ]
  },
  {
   "cell_type": "markdown",
   "metadata": {
    "slideshow": {
     "slide_type": "subslide"
    }
   },
   "source": [
    "## Italic text, bold text and links"
   ]
  },
  {
   "cell_type": "code",
   "execution_count": 16,
   "metadata": {},
   "outputs": [
    {
     "data": {
      "text/html": [
       "<b>Bold text</b>\n",
       "\n",
       "<br>\n",
       "<i>Italic text</i>\n",
       "\n",
       "<br>\n",
       "<em>Emphasized text</em>\n",
       "\n",
       "<br>\n",
       "<strong>Emphasized text</strong>\n",
       "\n",
       "<br>\n",
       "<a href=\"http://github.com\" id=\"abc\">This is a link</a>\n"
      ],
      "text/plain": [
       "<IPython.core.display.HTML object>"
      ]
     },
     "metadata": {},
     "output_type": "display_data"
    }
   ],
   "source": [
    "%%html\n",
    "<b>Bold text</b>\n",
    "\n",
    "<br>\n",
    "<i>Italic text</i>\n",
    "\n",
    "<br>\n",
    "<em>Emphasized text</em>\n",
    "\n",
    "<br>\n",
    "<strong>Emphasized text</strong>\n",
    "\n",
    "<br>\n",
    "<a href=\"http://github.com\" id=\"abc\">This is a link</a>"
   ]
  },
  {
   "cell_type": "markdown",
   "metadata": {
    "slideshow": {
     "slide_type": "subslide"
    }
   },
   "source": [
    "-------------------------------\n",
    "## Tables"
   ]
  },
  {
   "cell_type": "code",
   "execution_count": 17,
   "metadata": {},
   "outputs": [
    {
     "data": {
      "text/html": [
       "\n",
       "<table>\n",
       "  <tr>\n",
       "    <th>Name</th>\n",
       "    <th>Course</th> \n",
       "    <th>Points</th>\n",
       "  </tr>\n",
       "  <tr>\n",
       "    <td>Peter</td>\n",
       "    <td>INF3331</td> \n",
       "    <td>50</td>\n",
       "  </tr>\n",
       "  <tr>\n",
       "    <td>George</td>\n",
       "    <td>INF4331</td> \n",
       "    <td>94</td>\n",
       "  </tr>\n",
       "</table>\n"
      ],
      "text/plain": [
       "<IPython.core.display.HTML object>"
      ]
     },
     "metadata": {},
     "output_type": "display_data"
    }
   ],
   "source": [
    "%%html\n",
    "\n",
    "<table>\n",
    "  <tr>\n",
    "    <th>Name</th>\n",
    "    <th>Course</th> \n",
    "    <th>Points</th>\n",
    "  </tr>\n",
    "  <tr>\n",
    "    <td>Peter</td>\n",
    "    <td>INF3331</td> \n",
    "    <td>50</td>\n",
    "  </tr>\n",
    "  <tr>\n",
    "    <td>George</td>\n",
    "    <td>INF4331</td> \n",
    "    <td>94</td>\n",
    "  </tr>\n",
    "</table>"
   ]
  },
  {
   "cell_type": "markdown",
   "metadata": {
    "slideshow": {
     "slide_type": "subslide"
    }
   },
   "source": [
    "## Images"
   ]
  },
  {
   "cell_type": "code",
   "execution_count": 19,
   "metadata": {},
   "outputs": [
    {
     "data": {
      "text/html": [
       "\n",
       "<img src=\"Rhinoceros.png\" alt=\"D&uuml;rer's Rhinoceros\" title=\"the title\">D&uuml;rer's Rhinoceros\n"
      ],
      "text/plain": [
       "<IPython.core.display.HTML object>"
      ]
     },
     "metadata": {},
     "output_type": "display_data"
    }
   ],
   "source": [
    "%%html\n",
    "\n",
    "<img src=\"Rhinoceros.png\" alt=\"D&uuml;rer's Rhinoceros\" title=\"the title\">D&uuml;rer's Rhinoceros"
   ]
  },
  {
   "cell_type": "markdown",
   "metadata": {},
   "source": [
    "## Styling\n",
    "\n",
    "Every HTML document has a default style (background color white, text color black). The default style can be changed with the *style attribute*.\n",
    "\n",
    "```html\n",
    "<tagname style=\"property:value;\">\n",
    "```\n",
    "\n",
    "Multiple properties can be set with:\n",
    "```html\n",
    "<tagname style=\"property1:value; property2:value\">\n",
    "```\n",
    "\n",
    "Some Valid property options:\n",
    "* `width`\n",
    "* `height`\n",
    "* `color`\n",
    "* `background-color`\n",
    "* `font-family`\n",
    "* `font-size`\n",
    "* `text-align`\n"
   ]
  },
  {
   "cell_type": "markdown",
   "metadata": {
    "slideshow": {
     "slide_type": "subslide"
    }
   },
   "source": [
    "### Examples"
   ]
  },
  {
   "cell_type": "code",
   "execution_count": 20,
   "metadata": {},
   "outputs": [
    {
     "data": {
      "text/html": [
       "<img src=\"Rhinoceros.png\" alt=\"D&uuml;rer&#39;s Rhinoceros\" style=\"width:100px;\">D&uuml;rer&#39;s Rhinoceros\n"
      ],
      "text/plain": [
       "<IPython.core.display.HTML object>"
      ]
     },
     "metadata": {},
     "output_type": "display_data"
    }
   ],
   "source": [
    "%%html\n",
    "<img src=\"Rhinoceros.png\" alt=\"D&uuml;rer&#39;s Rhinoceros\" style=\"width:100px;\">D&uuml;rer&#39;s Rhinoceros"
   ]
  },
  {
   "cell_type": "code",
   "execution_count": 21,
   "metadata": {},
   "outputs": [
    {
     "data": {
      "text/html": [
       "<p style=\"color:white; background-color:rgb(255,0,255);\">\n",
       "Some colorful text.\n",
       "</p>\n"
      ],
      "text/plain": [
       "<IPython.core.display.HTML object>"
      ]
     },
     "metadata": {},
     "output_type": "display_data"
    }
   ],
   "source": [
    "%%html\n",
    "<p style=\"color:white; background-color:rgb(255,0,255);\">\n",
    "Some colorful text.\n",
    "</p>"
   ]
  },
  {
   "cell_type": "code",
   "execution_count": null,
   "metadata": {},
   "outputs": [],
   "source": []
  }
 ],
 "metadata": {
  "celltoolbar": "Slideshow",
  "kernelspec": {
   "display_name": "Python 3 (ipykernel)",
   "language": "python",
   "name": "python3"
  },
  "language_info": {
   "codemirror_mode": {
    "name": "ipython",
    "version": 3
   },
   "file_extension": ".py",
   "mimetype": "text/x-python",
   "name": "python",
   "nbconvert_exporter": "python",
   "pygments_lexer": "ipython3",
   "version": "3.10.4"
  },
  "widgets": {
   "application/vnd.jupyter.widget-state+json": {
    "state": {},
    "version_major": 2,
    "version_minor": 0
   }
  }
 },
 "nbformat": 4,
 "nbformat_minor": 4
}
