{
 "cells": [
  {
   "cell_type": "markdown",
   "metadata": {},
   "source": [
    "# Scraping the web with BeautifulSoup\n",
    "\n",
    "We are going to get information out of websites using `requests` and `beautifulsoup`.\n",
    "\n",
    "## Installation\n",
    "\n",
    "With conda, you can install the required dependencies with:\n",
    "\n",
    "```bash\n",
    "conda install beautifulsoup4 requests\n",
    "```\n",
    "\n",
    "or\n",
    "\n",
    "```bash\n",
    "python3 -m pip install beautifulsoup4 requests\n",
    "```\n"
   ]
  },
  {
   "cell_type": "markdown",
   "metadata": {},
   "source": [
    "## Basic usage of BeautifulSoup"
   ]
  },
  {
   "cell_type": "markdown",
   "metadata": {},
   "source": [
    "First, we import the `BeatifulSoup` class:"
   ]
  },
  {
   "cell_type": "code",
   "execution_count": 1,
   "metadata": {},
   "outputs": [],
   "source": [
    "from bs4 import BeautifulSoup"
   ]
  },
  {
   "cell_type": "markdown",
   "metadata": {},
   "source": [
    "We load the html source file from disk and pass the source the the BeautifulSoup constructor."
   ]
  },
  {
   "cell_type": "code",
   "execution_count": 2,
   "metadata": {},
   "outputs": [
    {
     "name": "stdout",
     "output_type": "stream",
     "text": [
      "<!doctype html>\n",
      "<html>\n",
      "  <body>\n",
      "    <h2>An Unordered HTML List</h2>\n",
      "\n",
      "    <ul id=\"unordered_list\" style=\"color: #069\">\n",
      "      <li>Coffee</li>\n",
      "      <li>Tea</li>\n",
      "      <li>Milk</li>\n",
      "    </ul>\n",
      "\n",
      "    <h2>An Ordered HTML List</h2>\n",
      "\n",
      "    <ol id=\"ordered_list\" style=\"color: #069\">\n",
      "      <li>Coffee</li>\n",
      "      <li>Tea</li>\n",
      "      <li>Milk</li>\n",
      "    </ol>\n",
      "  </body>\n",
      "</html>\n",
      "\n"
     ]
    }
   ],
   "source": [
    "with open(\"list.html\") as f:\n",
    "    html = f.read()\n",
    "    document = BeautifulSoup(html, \"html.parser\")\n",
    "print(html)"
   ]
  },
  {
   "cell_type": "code",
   "execution_count": 3,
   "metadata": {},
   "outputs": [
    {
     "data": {
      "text/html": [
       "<!doctype html>\n",
       "<html>\n",
       "  <body>\n",
       "    <h2>An Unordered HTML List</h2>\n",
       "\n",
       "    <ul id=\"unordered_list\" style=\"color: #069\">\n",
       "      <li>Coffee</li>\n",
       "      <li>Tea</li>\n",
       "      <li>Milk</li>\n",
       "    </ul>\n",
       "\n",
       "    <h2>An Ordered HTML List</h2>\n",
       "\n",
       "    <ol id=\"ordered_list\" style=\"color: #069\">\n",
       "      <li>Coffee</li>\n",
       "      <li>Tea</li>\n",
       "      <li>Milk</li>\n",
       "    </ol>\n",
       "  </body>\n",
       "</html>\n"
      ],
      "text/plain": [
       "<IPython.core.display.HTML object>"
      ]
     },
     "execution_count": 3,
     "metadata": {},
     "output_type": "execute_result"
    }
   ],
   "source": [
    "from IPython.display import HTML\n",
    "\n",
    "HTML(html)"
   ]
  },
  {
   "cell_type": "markdown",
   "metadata": {},
   "source": [
    "### Finding tags by name\n",
    "\n",
    "The document now contains the full html document. We can find the first occuring tag with a specific name with the `find` function. Let's find the first un-ordered list tag:"
   ]
  },
  {
   "cell_type": "code",
   "execution_count": 4,
   "metadata": {},
   "outputs": [],
   "source": [
    "ulist = document.find(\"ul\")"
   ]
  },
  {
   "cell_type": "markdown",
   "metadata": {},
   "source": [
    "The result contains all tags contained in the matched tag:"
   ]
  },
  {
   "cell_type": "code",
   "execution_count": 5,
   "metadata": {},
   "outputs": [
    {
     "data": {
      "text/plain": [
       "<ul id=\"unordered_list\" style=\"color: #069\">\n",
       "<li>Coffee</li>\n",
       "<li>Tea</li>\n",
       "<li>Milk</li>\n",
       "</ul>"
      ]
     },
     "execution_count": 5,
     "metadata": {},
     "output_type": "execute_result"
    }
   ],
   "source": [
    "ulist"
   ]
  },
  {
   "cell_type": "markdown",
   "metadata": {},
   "source": [
    "The `find_all` function returns **all** tags that match the given tag name. We can use it to get a list of all list items:"
   ]
  },
  {
   "cell_type": "code",
   "execution_count": 6,
   "metadata": {},
   "outputs": [
    {
     "data": {
      "text/plain": [
       "[<li>Coffee</li>, <li>Tea</li>, <li>Milk</li>]"
      ]
     },
     "execution_count": 6,
     "metadata": {},
     "output_type": "execute_result"
    }
   ],
   "source": [
    "items = ulist.find_all(\"li\")\n",
    "items"
   ]
  },
  {
   "cell_type": "markdown",
   "metadata": {},
   "source": [
    "Finally, we can loop over all items and extract their contant with the `get_text` function:"
   ]
  },
  {
   "cell_type": "code",
   "execution_count": 7,
   "metadata": {
    "tags": []
   },
   "outputs": [
    {
     "name": "stdout",
     "output_type": "stream",
     "text": [
      "'Coffee'\n",
      "'Tea'\n",
      "'Milk'\n"
     ]
    }
   ],
   "source": [
    "for item in items:\n",
    "    print(repr(item.get_text()))"
   ]
  },
  {
   "cell_type": "markdown",
   "metadata": {},
   "source": [
    "Because whitespace is not meaningful in HTML,\n",
    "it is often useful to strip it when you are getting the content of a tag.\n",
    "You can do this with `strip=True`"
   ]
  },
  {
   "cell_type": "code",
   "execution_count": 8,
   "metadata": {},
   "outputs": [
    {
     "name": "stdout",
     "output_type": "stream",
     "text": [
      "'Coffee'\n",
      "'Tea'\n",
      "'Milk'\n"
     ]
    }
   ],
   "source": [
    "for item in items:\n",
    "    print(repr(item.get_text(strip=True)))"
   ]
  },
  {
   "cell_type": "markdown",
   "metadata": {},
   "source": [
    "Note that `find_all` is **recursive** by default. This means that we could call it the on the full `document` to get the items\n",
    "of both the ordered and un-ordered lists:"
   ]
  },
  {
   "cell_type": "code",
   "execution_count": 9,
   "metadata": {},
   "outputs": [
    {
     "data": {
      "text/plain": [
       "[]"
      ]
     },
     "execution_count": 9,
     "metadata": {},
     "output_type": "execute_result"
    }
   ],
   "source": [
    "document.find_all(\"li\", recursive=False)"
   ]
  },
  {
   "cell_type": "code",
   "execution_count": 10,
   "metadata": {},
   "outputs": [
    {
     "data": {
      "text/plain": [
       "[<li>Coffee</li>, <li>Tea</li>, <li>Milk</li>]"
      ]
     },
     "execution_count": 10,
     "metadata": {},
     "output_type": "execute_result"
    }
   ],
   "source": [
    "ulist.find_all(\"li\", recursive=False)"
   ]
  },
  {
   "cell_type": "markdown",
   "metadata": {},
   "source": [
    "A recursive search finds all `li` tags anywhere."
   ]
  },
  {
   "cell_type": "code",
   "execution_count": 11,
   "metadata": {},
   "outputs": [
    {
     "data": {
      "text/plain": [
       "[<li>Coffee</li>,\n",
       " <li>Tea</li>,\n",
       " <li>Milk</li>,\n",
       " <li>Coffee</li>,\n",
       " <li>Tea</li>,\n",
       " <li>Milk</li>]"
      ]
     },
     "execution_count": 11,
     "metadata": {},
     "output_type": "execute_result"
    }
   ],
   "source": [
    "document.find_all(\"li\")"
   ]
  },
  {
   "cell_type": "markdown",
   "metadata": {},
   "source": [
    "### Finding tags by attributes"
   ]
  },
  {
   "cell_type": "markdown",
   "metadata": {},
   "source": [
    "Sometimes the easiest way to find a tag is by its attribute name. In our examples, both lists have an `id` attribute that uniquely identifies the tables. We can also use the `find*` methods to search for attributes:\n"
   ]
  },
  {
   "cell_type": "code",
   "execution_count": 12,
   "metadata": {},
   "outputs": [
    {
     "data": {
      "text/plain": [
       "<ul id=\"unordered_list\" style=\"color: #069\">\n",
       "<li>Coffee</li>\n",
       "<li>Tea</li>\n",
       "<li>Milk</li>\n",
       "</ul>"
      ]
     },
     "execution_count": 12,
     "metadata": {},
     "output_type": "execute_result"
    }
   ],
   "source": [
    "document.find(attrs={\"id\": \"unordered_list\"})"
   ]
  },
  {
   "cell_type": "markdown",
   "metadata": {},
   "source": [
    "### Accessing attributes\n",
    "\n",
    "The `ul` tag also contains a `style` attribute. Any bs4 tag behaves like a dictionary with attribute names as keys and attribute values as values:"
   ]
  },
  {
   "cell_type": "code",
   "execution_count": 13,
   "metadata": {},
   "outputs": [
    {
     "data": {
      "text/plain": [
       "{'id': 'unordered_list', 'style': 'color: #069'}"
      ]
     },
     "execution_count": 13,
     "metadata": {},
     "output_type": "execute_result"
    }
   ],
   "source": [
    "ulist.attrs"
   ]
  },
  {
   "cell_type": "code",
   "execution_count": 14,
   "metadata": {},
   "outputs": [
    {
     "data": {
      "text/plain": [
       "'color: #069'"
      ]
     },
     "execution_count": 14,
     "metadata": {},
     "output_type": "execute_result"
    }
   ],
   "source": [
    "ulist[\"style\"]"
   ]
  },
  {
   "cell_type": "markdown",
   "metadata": {},
   "source": [
    "## Downloading a table from Wikipedia\n",
    "\n",
    "We aim to get a list of countries sorted by their population size:\n",
    "https://en.wikipedia.org/wiki/List_of_countries_and_dependencies_by_population\n",
    "\n",
    "First, let's import the required modules:"
   ]
  },
  {
   "cell_type": "code",
   "execution_count": 15,
   "metadata": {},
   "outputs": [],
   "source": [
    "import re\n",
    "\n",
    "import dateutil\n",
    "import requests\n",
    "from bs4 import BeautifulSoup"
   ]
  },
  {
   "cell_type": "markdown",
   "metadata": {},
   "source": [
    "This time, we load the html directly from a website using the requests module:"
   ]
  },
  {
   "cell_type": "code",
   "execution_count": 16,
   "metadata": {},
   "outputs": [],
   "source": [
    "r = requests.get(\n",
    "    \"https://en.wikipedia.org/wiki/List_of_countries_and_dependencies_by_population\"\n",
    ")"
   ]
  },
  {
   "cell_type": "markdown",
   "metadata": {},
   "source": [
    "The web server returns a status code to indicate if the request was (un-)succesfully.\n",
    "We use that status-code to check if the page was succesfully loaded:"
   ]
  },
  {
   "cell_type": "code",
   "execution_count": 17,
   "metadata": {},
   "outputs": [],
   "source": [
    "assert r.status_code == 200"
   ]
  },
  {
   "cell_type": "markdown",
   "metadata": {},
   "source": [
    "Next, we extract the html source and initiated BeautifulSoup:"
   ]
  },
  {
   "cell_type": "code",
   "execution_count": 18,
   "metadata": {},
   "outputs": [],
   "source": [
    "html = r.text\n",
    "document = BeautifulSoup(html, \"html.parser\")"
   ]
  },
  {
   "cell_type": "markdown",
   "metadata": {},
   "source": [
    "by looking at the document, we can see that we are interested in first table. So we use `find`:"
   ]
  },
  {
   "cell_type": "code",
   "execution_count": 19,
   "metadata": {},
   "outputs": [],
   "source": [
    "table = document.find(\"table\", class_=\"wikitable\")"
   ]
  },
  {
   "cell_type": "markdown",
   "metadata": {},
   "source": [
    "If you are not familiar with html table, read this example first: https://www.w3schools.com/html/tryit.asp?filename=tryhtml_table_intro"
   ]
  },
  {
   "cell_type": "code",
   "execution_count": 20,
   "metadata": {},
   "outputs": [
    {
     "name": "stdout",
     "output_type": "stream",
     "text": [
      "<table class=\"wikitable sortable\">\n",
      "<tbody><tr class=\"is-sticky\">\n",
      "<th></th>\n",
      "<th><a href=\"/wiki/List_of_sovereign_states\" title=\"List of sovereign states\">Country</a> / <a href=\"/wiki/Dependent_territory\" title=\"Dependent territory\">Dependency</a></th>\n",
      "<th>Population</th>\n",
      "<th>% of the world</th>\n",
      "<th>Date</th>\n",
      "<th><span class=\"nowrap\">Source (official or from</span> the <a href=\"/wiki/United_Nations\" title=\"United Nations\">United Nations</a>)</th>\n",
      "<th class=\"unsortable\">\n",
      "</th></tr>\n",
      "<tr>\n",
      "<td style=\"text-align:center\"><b>–</b>\n",
      "</td>\n",
      "<td><b>World</b>\n",
      "</td>\n",
      "<td style=\"text-align:center\"><b> 8,038,654,000</b></td>\n",
      "<td style=\"text-align:right\"><b>100%</b></td>\n",
      "<td><b><span data-sort-value=\"000000002023-06-30-0000\" style=\"white-space:nowrap\">30 Jun 2023</span></b></td>\n",
      "<td style=\"text-align:left\"><b>UN projection<sup class=\"reference\" id=\"cite_ref-unpop_4-0\"><a href=\"#cite_note-unpop-4\">[3]</a></sup></b></td>\n",
      "<td>\n",
      "</td></tr>\n",
      "<tr>\n",
      "<th>1\n",
      "</th>\n",
      "<td scope=\"row\" style=\"text-align:left\"><span class=\"flagicon\"><img alt=\"\" cla\n"
     ]
    }
   ],
   "source": [
    "print(str(table)[:1024])"
   ]
  },
  {
   "cell_type": "markdown",
   "metadata": {},
   "source": [
    "At this point, it is a good idea to programatically check that the table contains the correct header:"
   ]
  },
  {
   "cell_type": "code",
   "execution_count": 21,
   "metadata": {},
   "outputs": [],
   "source": [
    "# assert \"Population\" in table.find(\"thead\").get_text(strip=True)"
   ]
  },
  {
   "cell_type": "code",
   "execution_count": 22,
   "metadata": {},
   "outputs": [],
   "source": [
    "rows = table.find_all(\"tr\")"
   ]
  },
  {
   "cell_type": "code",
   "execution_count": 23,
   "metadata": {},
   "outputs": [
    {
     "name": "stdout",
     "output_type": "stream",
     "text": [
      "–, World, 8.04e+09, 100.0%, 2023-06-30, UN projection[3]\n",
      "1, China, 1.41e+09, 17.6%, 2022-12-31, Official estimate[4]\n",
      "2, India, 1.39e+09, 17.3%, 2023-03-01, Official projection[5]\n",
      "3, United States, 3.35e+08, 4.17%, 2023-06-30, National population clock[7]\n",
      "4, Indonesia, 2.78e+08, 3.46%, 2022-12-31, Official estimate[8]\n",
      "5, Pakistan, 2.20e+08, 2.74%, 2020-07-01, Official projection[9]\n",
      "6, Nigeria, 2.19e+08, 2.72%, 2022-07-01, UN projection[3]\n",
      "7, Brazil, 2.03e+08, 2.53%, 2022-08-01, 2022 census result[10]\n",
      "8, Bangladesh, 1.70e+08, 2.11%, 2022-06-15, 2022 final census result[11]\n",
      "9, Russia, 1.46e+08, 1.82%, 2023-01-01, Official estimate[12]\n",
      "10, Mexico, 1.29e+08, 1.6%, 2022-09-30, National quarterly estimate[13]\n",
      "11, Japan, 1.24e+08, 1.55%, 2023-05-01, Official estimate[14]\n",
      "12, Philippines, 1.11e+08, 1.38%, 2023-06-30, National population clock[15]\n",
      "13, Ethiopia, 1.05e+08, 1.31%, 2022-07-01, National annual projection[16]\n",
      "14, Egypt, 1.02e+08, 1.27%, 2021-07-01, Official estimate[17]\n",
      "15, Vietnam, 9.95e+07, 1.24%, 2022-12-30, Official estimate[18]\n",
      "16, DR Congo, 9.90e+07, 1.23%, 2022-07-01, UN projection[3]\n",
      "17, Iran, 8.66e+07, 1.08%, 2023-06-30, National population clock[19]\n",
      "18, Turkey, 8.53e+07, 1.06%, 2022-12-31, Official estimate[20]\n",
      "19, Germany, 8.43e+07, 1.05%, 2022-09-30, National quarterly estimate[21]\n",
      "20, Thailand, 6.83e+07, 0.849%, 2021-07-01, Official estimate[22]\n",
      "21, France, 6.80e+07, 0.846%, 2023-01-01, Official estimate[23]\n",
      "22, United Kingdom, 6.70e+07, 0.834%, 2021-06-30, Official estimate[24]\n",
      "23, Tanzania, 6.17e+07, 0.768%, 2022-08-23, Census results[25]\n",
      "24, South Africa, 6.06e+07, 0.754%, 2022-07-01, Official estimate[26]\n",
      "25, Italy, 5.88e+07, 0.732%, 2023-03-31, Monthly national estimate[27]\n",
      "26, Myanmar, 5.58e+07, 0.694%, 2022-07-01, National annual projection[28]\n",
      "27, Colombia, 5.22e+07, 0.65%, 2023-06-30, Official projection[29]\n",
      "28, Kenya, 5.15e+07, 0.641%, 2023-01-01, Official projection[30]\n",
      "29, South Korea, 5.14e+07, 0.64%, 2022-12-31, Official estimate[31]\n",
      "30, Spain, 4.82e+07, 0.6%, 2023-04-01, Official estimate[32]\n",
      "31, Argentina, 4.60e+07, 0.573%, 2022-05-18, 2022 census preliminary result[33]\n",
      "32, Algeria, 4.54e+07, 0.565%, 2022-01-01, Official estimate[34]\n",
      "33, Uganda, 4.29e+07, 0.533%, 2021-07-01, Official projection[35]\n",
      "34, Sudan, 4.20e+07, 0.522%, 2018-07-01, Official projection[36]\n",
      "35, Iraq, 4.12e+07, 0.512%, 2021-07-01, Official estimate[37]\n",
      "36, Ukraine, 4.11e+07, 0.512%, 2022-02-01, National monthly estimate[38]\n",
      "37, Canada, 4.00e+07, 0.498%, 2023-06-30, National population clock[39]\n",
      "38, Poland, 3.77e+07, 0.469%, 2023-03-31, National monthly estimate[40]\n",
      "39, Morocco, 3.70e+07, 0.46%, 2023-06-30, National population clock[41]\n",
      "40, Uzbekistan, 3.62e+07, 0.45%, 2023-04-01, National quarterly estimate[42]\n",
      "41, Saudi Arabia, 3.41e+07, 0.424%, 2021-07-01, Official estimate[43]\n",
      "42, Yemen, 3.37e+07, 0.419%, 2022-07-01, UN projection[3]\n",
      "43, Peru, 3.34e+07, 0.415%, 2022-07-01, National annual projection[44]\n",
      "44, Angola, 3.31e+07, 0.412%, 2022-06-30, National annual projection[45]\n",
      "45, Malaysia, 3.30e+07, 0.411%, 2023-06-30, National population clock[46]\n",
      "46, Afghanistan, 3.29e+07, 0.409%, 2020-07-01, Official estimate[47]\n",
      "47, Mozambique, 3.24e+07, 0.403%, 2022-07-01, National annual projection[48]\n",
      "48, Ghana, 3.08e+07, 0.384%, 2021-06-27, 2021 census results[49]\n",
      "49, Ivory Coast, 2.94e+07, 0.366%, 2021-12-14, 2021 census result[50]\n",
      "50, Nepal, 2.92e+07, 0.363%, 2021-11-25, 2021 final census result[51]\n",
      "51, Venezuela, 2.83e+07, 0.352%, 2022-07-01, UN projection[3]\n",
      "52, Madagascar, 2.69e+07, 0.335%, 2021-07-01, National annual projection[52]\n",
      "53, Australia, 2.66e+07, 0.33%, 2023-06-30, National population clock[53]\n",
      "54, North Korea, 2.57e+07, 0.319%, 2021-07-01, National annual projection[54]\n",
      "55, Cameroon, 2.43e+07, 0.303%, 2019-07-01, National annual projection[55]\n",
      "56, Niger, 2.41e+07, 0.3%, 2021-07-01, National annual projection[56]\n",
      "–, Taiwan, 2.33e+07, 0.29%, 2023-04-30, Official estimate[57]\n",
      "57, Mali, 2.26e+07, 0.281%, 2022-07-01, UN projection[3]\n",
      "58, Burkina Faso, 2.22e+07, 0.276%, 2022-07-01, National projection[58]\n",
      "59, Sri Lanka, 2.22e+07, 0.276%, 2022-07-01, Official estimate[59]\n",
      "60, Syria, 2.21e+07, 0.275%, 2021-07-01, UN projection[3]\n",
      "61, Malawi, 2.15e+07, 0.268%, 2022-07-01, National annual projection[60]\n",
      "62, Chile, 2.00e+07, 0.248%, 2023-06-30, National annual projection[61]\n",
      "63, Kazakhstan, 1.99e+07, 0.247%, 2023-05-01, National quarterly estimate[62]\n",
      "64, Zambia, 1.96e+07, 0.244%, 2022-09-14, 2022 Zambian census[63]\n",
      "65, Romania, 1.91e+07, 0.237%, 2022-07-17, 2022 census preliminary result[64]\n",
      "66, Ecuador, 1.83e+07, 0.228%, 2023-06-30, National population clock[65]\n",
      "67, Netherlands, 1.79e+07, 0.222%, 2023-06-30, National population clock[66]\n",
      "68, Somalia, 1.76e+07, 0.219%, 2021-07-01, UN projection[3]\n",
      "69, Senegal, 1.72e+07, 0.214%, 2021-07-01, National annual projection[67]\n",
      "70, Guatemala, 1.71e+07, 0.213%, 2021-07-01, National annual projection[68]\n",
      "71, Chad, 1.68e+07, 0.209%, 2021-07-01, National annual projection[69]\n",
      "72, Cambodia, 1.56e+07, 0.193%, 2019-03-03, 2019 census result[70]\n",
      "73, Zimbabwe, 1.52e+07, 0.189%, 2022-04-20, 2022 preliminary census result[71]\n",
      "74, Guinea, 1.33e+07, 0.165%, 2022-07-01, National annual projection[72]\n",
      "75, South Sudan, 1.32e+07, 0.165%, 2020-07-01, National annual projection[73]\n"
     ]
    },
    {
     "ename": "ValueError",
     "evalue": "not enough values to unpack (expected 7, got 6)",
     "output_type": "error",
     "traceback": [
      "\u001b[0;31m---------------------------------------------------------------------------\u001b[0m",
      "\u001b[0;31mValueError\u001b[0m                                Traceback (most recent call last)",
      "Cell \u001b[0;32mIn[23], line 7\u001b[0m\n\u001b[1;32m      4\u001b[0m     \u001b[38;5;28;01mcontinue\u001b[39;00m\n\u001b[1;32m      6\u001b[0m cells_text \u001b[38;5;241m=\u001b[39m [cell\u001b[38;5;241m.\u001b[39mget_text(strip\u001b[38;5;241m=\u001b[39m\u001b[38;5;28;01mTrue\u001b[39;00m) \u001b[38;5;28;01mfor\u001b[39;00m cell \u001b[38;5;129;01min\u001b[39;00m cells]\n\u001b[0;32m----> 7\u001b[0m (rank, country, population, percentage, updated_at, source, comment) \u001b[38;5;241m=\u001b[39m cells_text\n\u001b[1;32m      9\u001b[0m \u001b[38;5;66;03m# Clean population string str(\"1,404,890,600\") -> int(1404890600)\u001b[39;00m\n\u001b[1;32m     10\u001b[0m population \u001b[38;5;241m=\u001b[39m \u001b[38;5;28mint\u001b[39m(population\u001b[38;5;241m.\u001b[39mreplace(\u001b[38;5;124m\"\u001b[39m\u001b[38;5;124m,\u001b[39m\u001b[38;5;124m\"\u001b[39m, \u001b[38;5;124m\"\u001b[39m\u001b[38;5;124m\"\u001b[39m))\n",
      "\u001b[0;31mValueError\u001b[0m: not enough values to unpack (expected 7, got 6)"
     ]
    }
   ],
   "source": [
    "for row in rows[1:]:\n",
    "    cells = row.find_all([\"th\", \"td\"])\n",
    "    if not cells:\n",
    "        continue\n",
    "\n",
    "    cells_text = [cell.get_text(strip=True) for cell in cells]\n",
    "    (rank, country, population, percentage, updated_at, source, comment) = cells_text\n",
    "\n",
    "    # Clean population string str(\"1,404,890,600\") -> int(1404890600)\n",
    "    population = int(population.replace(\",\", \"\"))\n",
    "\n",
    "    # Clean country name\n",
    "    country = re.findall(r\"[\\w\\s()\\.]+\", country)[0]\n",
    "\n",
    "    # Convert percentage to floats\n",
    "    percentage = float(re.findall(r\"[\\d\\.]+\", percentage)[0])\n",
    "\n",
    "    # Convert updated_at to date object\n",
    "    updated_at = dateutil.parser.parse(updated_at).date()\n",
    "\n",
    "    print(f\"{rank}, {country}, {population:.2e}, {percentage}%, {updated_at}, {source}\")"
   ]
  },
  {
   "cell_type": "markdown",
   "metadata": {},
   "source": [
    "**Attention**: Beautiful Soup does not execute Javascript. This means that you the code in your browser inspector might look a bit different from the original HTML source code. "
   ]
  },
  {
   "cell_type": "markdown",
   "metadata": {
    "tags": []
   },
   "source": [
    "# Another example of downloading a Wikipedia table \n",
    "\n",
    "Let's consider another table in a Wikipedia page. This page has a lot more tables, so one challenge will be to pick the right table\n",
    "\n",
    "https://en.wikipedia.org/wiki/Serena_Williams\n",
    "\n",
    "\n",
    "We are interested in extracting these two tables:\n",
    "\n",
    "![Target Wikipedia tables](pictures/wiki_tables.png)\n",
    "\n",
    "**Exercise**: \n",
    "\n",
    "Find the tables on a page by locating heading and using `.find_next()`\n"
   ]
  },
  {
   "cell_type": "markdown",
   "metadata": {},
   "source": [
    "We begin by downloading the webpage and instatiating the BeautifulSoup object:"
   ]
  },
  {
   "cell_type": "code",
   "execution_count": null,
   "metadata": {},
   "outputs": [],
   "source": [
    "r = requests.get(\"https://en.wikipedia.org/wiki/Serena_Williams\")\n",
    "document = BeautifulSoup(r.text, \"html.parser\")"
   ]
  },
  {
   "cell_type": "markdown",
   "metadata": {},
   "source": [
    "This page contains a lot of tables without specific attributes that would make it easy to find our table of interest. Further, the same headings of the tables are used for multiple tables, making it difficult to find a table just by its headings:"
   ]
  },
  {
   "cell_type": "code",
   "execution_count": null,
   "metadata": {},
   "outputs": [],
   "source": [
    "len(document.find_all(\"table\"))"
   ]
  },
  {
   "cell_type": "markdown",
   "metadata": {},
   "source": [
    "Therefore, we choose another strategy.\n",
    "\n",
    "First, we find the tag with class `mw-headling` whose `string` content _starts with_ `Singles`.\n",
    "Then we find the _next_ table using `heading_element.find_next(...)`:"
   ]
  },
  {
   "cell_type": "code",
   "execution_count": null,
   "metadata": {},
   "outputs": [],
   "source": [
    "document.find_all(class_=\"mw-headline\", string=re.compile(\"^Singles\"))"
   ]
  },
  {
   "cell_type": "code",
   "execution_count": null,
   "metadata": {},
   "outputs": [],
   "source": [
    "# string class\n",
    "singles_heading = document.find(class_=\"mw-headline\", string=re.compile(\"^Singles\"))\n",
    "singles_heading"
   ]
  },
  {
   "cell_type": "code",
   "execution_count": null,
   "metadata": {
    "scrolled": true,
    "tags": []
   },
   "outputs": [],
   "source": [
    "singles_heading.find_next(\"table\")"
   ]
  },
  {
   "cell_type": "markdown",
   "metadata": {},
   "source": [
    "Now, our tables of interest are the first two result tables for \"Singles\" and \"Women's doubles\". We write a small helper function that returns a table with a given heading:"
   ]
  },
  {
   "cell_type": "code",
   "execution_count": null,
   "metadata": {},
   "outputs": [],
   "source": [
    "def find_table_with_heading(document, heading_pat):\n",
    "    heading_element = document.find(class_=\"mw-headline\", string=heading_pat)\n",
    "    table = heading_element.find_next(\"table\")\n",
    "    return table"
   ]
  },
  {
   "cell_type": "code",
   "execution_count": null,
   "metadata": {},
   "outputs": [],
   "source": [
    "singles_table = find_table_with_heading(document, re.compile(\"^Singles\"))\n",
    "# print headers\n",
    "headings = singles_table.find_all(\"th\")\n",
    "[th.get_text(strip=True) for th in headings]"
   ]
  },
  {
   "cell_type": "markdown",
   "metadata": {},
   "source": [
    "Next, we can find the table after the heading \"Women's doubles\""
   ]
  },
  {
   "cell_type": "code",
   "execution_count": null,
   "metadata": {},
   "outputs": [],
   "source": [
    "doubles_table = find_table_with_heading(document, re.compile(r\"^Women's doubles\"))\n",
    "# print headers\n",
    "headings = doubles_table.find_all(\"th\")\n",
    "[th.get_text(strip=True) for th in headings]"
   ]
  },
  {
   "cell_type": "markdown",
   "metadata": {},
   "source": [
    "## Exercise:\n",
    "\n",
    "- Iterate through the rows\n",
    "- convert year to integer (or date)\n",
    "- strip note '(12)' from event, so the same event has the same string\n",
    "- load into pandas DataFrame (more on pandas in a later lecture)"
   ]
  },
  {
   "cell_type": "code",
   "execution_count": null,
   "metadata": {},
   "outputs": [],
   "source": [
    "re.sub?"
   ]
  },
  {
   "cell_type": "code",
   "execution_count": null,
   "metadata": {},
   "outputs": [],
   "source": [
    "data = []\n",
    "for row in singles_table.find_all(\"tr\"):\n",
    "    cells = row.find_all(\"td\")\n",
    "    if not cells:\n",
    "        # e.g. header row\n",
    "        continue\n",
    "    values = [td.get_text(strip=True) for td in cells]\n",
    "    # convert year to int\n",
    "    values[1] = int(values[1])\n",
    "    # strip trailing (n) notes from events\n",
    "    values[2] = re.sub(r\"\\s*\\(.+\\)$\", \"\", values[2])\n",
    "    data.append(values)\n",
    "data"
   ]
  },
  {
   "cell_type": "markdown",
   "metadata": {},
   "source": [
    "When data is in this form, we can convert it into a DataFrame with pandas.\n",
    "\n",
    "You'll learn more about pandas next week."
   ]
  },
  {
   "cell_type": "code",
   "execution_count": null,
   "metadata": {},
   "outputs": [],
   "source": [
    "import pandas as pd\n",
    "\n",
    "headings = [th.get_text(strip=True) for th in singles_table.find_all(\"th\")]\n",
    "df = pd.DataFrame(data, columns=headings)\n",
    "df"
   ]
  },
  {
   "cell_type": "markdown",
   "metadata": {},
   "source": [
    "With pandas, we can filter this data, group it, and plot interesting relationships.\n",
    "\n",
    "Pandas `groupby` is an interesting operation for performing aggregations,\n",
    "e.g. counting the wins/losses by year and result:"
   ]
  },
  {
   "cell_type": "code",
   "execution_count": null,
   "metadata": {},
   "outputs": [],
   "source": [
    "df.Result.value_counts()"
   ]
  },
  {
   "cell_type": "code",
   "execution_count": null,
   "metadata": {},
   "outputs": [],
   "source": [
    "results_by_year = df.groupby([\"Year\", \"Result\"]).Tournament.count().unstack()\n",
    "results_by_year"
   ]
  },
  {
   "cell_type": "markdown",
   "metadata": {},
   "source": [
    "Which we can now plot"
   ]
  },
  {
   "cell_type": "code",
   "execution_count": null,
   "metadata": {},
   "outputs": [],
   "source": [
    "results_by_year.plot(kind=\"bar\")"
   ]
  },
  {
   "cell_type": "markdown",
   "metadata": {},
   "source": [
    "Is there any significance to the court?"
   ]
  },
  {
   "cell_type": "code",
   "execution_count": null,
   "metadata": {},
   "outputs": [],
   "source": [
    "results_by_surface = df.groupby([\"Surface\", \"Result\"]).Tournament.count().unstack()\n",
    "results_by_surface"
   ]
  },
  {
   "cell_type": "code",
   "execution_count": null,
   "metadata": {},
   "outputs": [],
   "source": [
    "results_by_surface.plot(kind=\"bar\")"
   ]
  },
  {
   "cell_type": "markdown",
   "metadata": {},
   "source": [
    "We can even filter to e.g. select opponents who Williams faced at least twice"
   ]
  },
  {
   "cell_type": "code",
   "execution_count": null,
   "metadata": {},
   "outputs": [],
   "source": [
    "results_by_op = df.groupby([\"Opponents\", \"Result\"]).Tournament.count().unstack()\n",
    "results_by_op"
   ]
  },
  {
   "cell_type": "code",
   "execution_count": null,
   "metadata": {},
   "outputs": [],
   "source": [
    "# we can exclude opponents only met once:\n",
    "results_by_op = results_by_op.fillna(0)\n",
    "results_by_op"
   ]
  },
  {
   "cell_type": "code",
   "execution_count": null,
   "metadata": {},
   "outputs": [],
   "source": [
    "(results_by_op.Win + results_by_op.Loss) > 1"
   ]
  },
  {
   "cell_type": "code",
   "execution_count": null,
   "metadata": {},
   "outputs": [],
   "source": [
    "multiple_meetings = results_by_op[(results_by_op.Win + results_by_op.Loss) > 1]\n",
    "multiple_meetings.plot(kind=\"bar\")"
   ]
  },
  {
   "cell_type": "markdown",
   "metadata": {},
   "source": [
    "# Exercise:\n",
    "\n",
    "Find images on the UiO page\n",
    "\n",
    "1) Go to https://en.wikipedia.org/wiki/University_of_Oslo \n",
    "2) Download the content from the site using BeautifulSoup and requests\n",
    "3) Search for all images (using `images = document.find_all('img')`) and print out the content\n",
    "4) Include only images with the attribute `class_=\"thumbimage\"` in your list of images.\n",
    "5) Print out a list of the value of the \"src\" attribute for the images in 4. \n",
    "6) See if you can display an image by pasting a result from 5 into your web-browser."
   ]
  },
  {
   "cell_type": "code",
   "execution_count": null,
   "metadata": {},
   "outputs": [],
   "source": [
    "r = requests.get(\"https://en.wikipedia.org/wiki/University_of_Oslo\")\n",
    "html = r.text\n",
    "print(html[:400])"
   ]
  },
  {
   "cell_type": "code",
   "execution_count": null,
   "metadata": {},
   "outputs": [],
   "source": [
    "document = BeautifulSoup(html, \"html.parser\")"
   ]
  },
  {
   "cell_type": "code",
   "execution_count": null,
   "metadata": {},
   "outputs": [],
   "source": [
    "images = document.find_all(\"img\", class_=\"thumbimage\")\n",
    "len(images)"
   ]
  },
  {
   "cell_type": "code",
   "execution_count": null,
   "metadata": {},
   "outputs": [],
   "source": [
    "for image in images:\n",
    "    print(f\"https:{image['src']}\")"
   ]
  },
  {
   "cell_type": "code",
   "execution_count": null,
   "metadata": {},
   "outputs": [],
   "source": [
    "from IPython.display import HTML, display"
   ]
  },
  {
   "cell_type": "code",
   "execution_count": null,
   "metadata": {},
   "outputs": [],
   "source": [
    "for image in images:\n",
    "    src_url = f\"https:{image['src']}\"\n",
    "    html = HTML(f'<img src=\"{src_url}\">')\n",
    "    display(html)"
   ]
  },
  {
   "cell_type": "code",
   "execution_count": null,
   "metadata": {},
   "outputs": [],
   "source": []
  }
 ],
 "metadata": {
  "celltoolbar": "Slideshow",
  "kernelspec": {
   "display_name": "Python 3 (ipykernel)",
   "language": "python",
   "name": "python3"
  },
  "language_info": {
   "codemirror_mode": {
    "name": "ipython",
    "version": 3
   },
   "file_extension": ".py",
   "mimetype": "text/x-python",
   "name": "python",
   "nbconvert_exporter": "python",
   "pygments_lexer": "ipython3",
   "version": "3.11.3"
  },
  "widgets": {
   "application/vnd.jupyter.widget-state+json": {
    "state": {},
    "version_major": 2,
    "version_minor": 0
   }
  }
 },
 "nbformat": 4,
 "nbformat_minor": 4
}
