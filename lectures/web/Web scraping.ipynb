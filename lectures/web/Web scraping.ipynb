{
 "cells": [
  {
   "cell_type": "markdown",
   "metadata": {},
   "source": [
    "# Scraping the web with BeautifulSoup\n",
    "\n",
    "We are going to get information out of websites using `requests` and `beautifulsoup`.\n",
    "\n",
    "## Installation\n",
    "\n",
    "With conda, you can install the required dependencies with:\n",
    "\n",
    "```bash\n",
    "conda install beautifulsoup4 requests\n",
    "```\n",
    "\n",
    "or\n",
    "\n",
    "```bash\n",
    "python3 -m pip install beautifulsoup4 requests\n",
    "```\n"
   ]
  },
  {
   "cell_type": "markdown",
   "metadata": {},
   "source": [
    "## Basic usage of BeautifulSoup"
   ]
  },
  {
   "cell_type": "markdown",
   "metadata": {},
   "source": [
    "First, we import the `BeatifulSoup` class:"
   ]
  },
  {
   "cell_type": "code",
   "execution_count": 1,
   "metadata": {},
   "outputs": [],
   "source": [
    "from bs4 import BeautifulSoup"
   ]
  },
  {
   "cell_type": "markdown",
   "metadata": {},
   "source": [
    "We load the html source file from disk and pass the contents to the BeautifulSoup constructor."
   ]
  },
  {
   "cell_type": "code",
   "execution_count": 2,
   "metadata": {},
   "outputs": [
    {
     "name": "stdout",
     "output_type": "stream",
     "text": [
      "<!doctype html>\n",
      "<html>\n",
      "  <head>\n",
      "    <title>Sample HTML document</title>\n",
      "  </head>\n",
      "  <body>\n",
      "    <h2>An Unordered HTML List</h2>\n",
      "\n",
      "    <ul id=\"unordered_list\" style=\"color: #f0e\">\n",
      "      <li>Coffee</li>\n",
      "      <li>Tea</li>\n",
      "      <li>Milk</li>\n",
      "    </ul>\n",
      "\n",
      "    <h2>An Ordered HTML List</h2>\n",
      "\n",
      "    <ol id=\"ordered_list\" style=\"color: rgb(20, 200, 100)\">\n",
      "      <li>First</li>\n",
      "      <li>Second</li>\n",
      "      <li>Third</li>\n",
      "    </ol>\n",
      "  </body>\n",
      "</html>\n",
      "\n"
     ]
    }
   ],
   "source": [
    "with open(\"list.html\") as f:\n",
    "    html = f.read()\n",
    "    document = BeautifulSoup(html, \"html.parser\")\n",
    "print(html)"
   ]
  },
  {
   "cell_type": "code",
   "execution_count": 3,
   "metadata": {},
   "outputs": [
    {
     "data": {
      "text/html": [
       "<!doctype html>\n",
       "<html>\n",
       "  <head>\n",
       "    <title>Sample HTML document</title>\n",
       "  </head>\n",
       "  <body>\n",
       "    <h2>An Unordered HTML List</h2>\n",
       "\n",
       "    <ul id=\"unordered_list\" style=\"color: #f0e\">\n",
       "      <li>Coffee</li>\n",
       "      <li>Tea</li>\n",
       "      <li>Milk</li>\n",
       "    </ul>\n",
       "\n",
       "    <h2>An Ordered HTML List</h2>\n",
       "\n",
       "    <ol id=\"ordered_list\" style=\"color: rgb(20, 200, 100)\">\n",
       "      <li>First</li>\n",
       "      <li>Second</li>\n",
       "      <li>Third</li>\n",
       "    </ol>\n",
       "  </body>\n",
       "</html>\n"
      ],
      "text/plain": [
       "<IPython.core.display.HTML object>"
      ]
     },
     "execution_count": 3,
     "metadata": {},
     "output_type": "execute_result"
    }
   ],
   "source": [
    "from IPython.display import HTML\n",
    "\n",
    "HTML(html)"
   ]
  },
  {
   "cell_type": "markdown",
   "metadata": {},
   "source": [
    "### Finding tags by name\n",
    "\n",
    "The document now contains the full html document. We can find the first occuring tag with a specific name with the `find` function. Let's find the first un-ordered list tag:"
   ]
  },
  {
   "cell_type": "code",
   "execution_count": 4,
   "metadata": {},
   "outputs": [],
   "source": [
    "ulist = document.find(\"ul\")"
   ]
  },
  {
   "cell_type": "markdown",
   "metadata": {},
   "source": [
    "The result contains all tags contained in the matched tag:"
   ]
  },
  {
   "cell_type": "code",
   "execution_count": 5,
   "metadata": {},
   "outputs": [
    {
     "data": {
      "text/plain": [
       "<ul id=\"unordered_list\" style=\"color: #f0e\">\n",
       "<li>Coffee</li>\n",
       "<li>Tea</li>\n",
       "<li>Milk</li>\n",
       "</ul>"
      ]
     },
     "execution_count": 5,
     "metadata": {},
     "output_type": "execute_result"
    }
   ],
   "source": [
    "ulist"
   ]
  },
  {
   "cell_type": "markdown",
   "metadata": {},
   "source": [
    "The `find_all` function returns **all** tags that match the given tag name. We can use it to get a list of all list items:"
   ]
  },
  {
   "cell_type": "code",
   "execution_count": 6,
   "metadata": {},
   "outputs": [
    {
     "data": {
      "text/plain": [
       "[<li>Coffee</li>, <li>Tea</li>, <li>Milk</li>]"
      ]
     },
     "execution_count": 6,
     "metadata": {},
     "output_type": "execute_result"
    }
   ],
   "source": [
    "items = ulist.find_all(\"li\")\n",
    "items"
   ]
  },
  {
   "cell_type": "markdown",
   "metadata": {},
   "source": [
    "Finally, we can loop over all items and extract their contant with the `get_text` function:"
   ]
  },
  {
   "cell_type": "code",
   "execution_count": 7,
   "metadata": {
    "tags": []
   },
   "outputs": [
    {
     "name": "stdout",
     "output_type": "stream",
     "text": [
      "'Coffee'\n",
      "'Tea'\n",
      "'Milk'\n"
     ]
    }
   ],
   "source": [
    "for item in items:\n",
    "    print(repr(item.get_text()))"
   ]
  },
  {
   "cell_type": "markdown",
   "metadata": {},
   "source": [
    "Because whitespace is not meaningful in HTML,\n",
    "it is often useful to strip it when you are getting the content of a tag.\n",
    "You can do this with `strip=True`"
   ]
  },
  {
   "cell_type": "code",
   "execution_count": 8,
   "metadata": {},
   "outputs": [
    {
     "name": "stdout",
     "output_type": "stream",
     "text": [
      "'Coffee'\n",
      "'Tea'\n",
      "'Milk'\n"
     ]
    }
   ],
   "source": [
    "for item in items:\n",
    "    print(repr(item.get_text(strip=True)))"
   ]
  },
  {
   "cell_type": "markdown",
   "metadata": {},
   "source": [
    "Note that `find_all` is **recursive** by default. This means that we could call it the on the full `document` to get the items\n",
    "of both the ordered and un-ordered lists:"
   ]
  },
  {
   "cell_type": "code",
   "execution_count": 10,
   "metadata": {},
   "outputs": [
    {
     "data": {
      "text/plain": [
       "[<li>Coffee</li>,\n",
       " <li>Tea</li>,\n",
       " <li>Milk</li>,\n",
       " <li>First</li>,\n",
       " <li>Second</li>,\n",
       " <li>Third</li>]"
      ]
     },
     "execution_count": 10,
     "metadata": {},
     "output_type": "execute_result"
    }
   ],
   "source": [
    "document.find_all(\"li\")"
   ]
  },
  {
   "cell_type": "code",
   "execution_count": 9,
   "metadata": {},
   "outputs": [
    {
     "data": {
      "text/plain": [
       "[]"
      ]
     },
     "execution_count": 9,
     "metadata": {},
     "output_type": "execute_result"
    }
   ],
   "source": [
    "document.find_all(\"li\", recursive=False)"
   ]
  },
  {
   "cell_type": "code",
   "execution_count": 11,
   "metadata": {},
   "outputs": [
    {
     "data": {
      "text/plain": [
       "[<li>Coffee</li>, <li>Tea</li>, <li>Milk</li>]"
      ]
     },
     "execution_count": 11,
     "metadata": {},
     "output_type": "execute_result"
    }
   ],
   "source": [
    "ulist.find_all(\"li\", recursive=False)"
   ]
  },
  {
   "cell_type": "markdown",
   "metadata": {},
   "source": [
    "A recursive search finds all `li` tags anywhere."
   ]
  },
  {
   "cell_type": "code",
   "execution_count": null,
   "metadata": {},
   "outputs": [],
   "source": [
    "document.find_all(\"li\")"
   ]
  },
  {
   "cell_type": "markdown",
   "metadata": {},
   "source": [
    "### Finding tags by attributes"
   ]
  },
  {
   "cell_type": "markdown",
   "metadata": {},
   "source": [
    "Sometimes the easiest way to find a tag is by its attribute name. In our examples, both lists have an `id` attribute that uniquely identifies the tables. We can also use the `find*` methods to search for attributes:\n"
   ]
  },
  {
   "cell_type": "code",
   "execution_count": 12,
   "metadata": {},
   "outputs": [
    {
     "data": {
      "text/plain": [
       "<ul id=\"unordered_list\" style=\"color: #f0e\">\n",
       "<li>Coffee</li>\n",
       "<li>Tea</li>\n",
       "<li>Milk</li>\n",
       "</ul>"
      ]
     },
     "execution_count": 12,
     "metadata": {},
     "output_type": "execute_result"
    }
   ],
   "source": [
    "document.find(attrs={\"id\": \"unordered_list\"})"
   ]
  },
  {
   "cell_type": "markdown",
   "metadata": {},
   "source": [
    "### Accessing attributes\n",
    "\n",
    "The `ul` tag also contains a `style` attribute. Any bs4 tag behaves like a dictionary with attribute names as keys and attribute values as values:"
   ]
  },
  {
   "cell_type": "code",
   "execution_count": 13,
   "metadata": {},
   "outputs": [
    {
     "data": {
      "text/plain": [
       "{'id': 'unordered_list', 'style': 'color: #f0e'}"
      ]
     },
     "execution_count": 13,
     "metadata": {},
     "output_type": "execute_result"
    }
   ],
   "source": [
    "ulist.attrs"
   ]
  },
  {
   "cell_type": "code",
   "execution_count": 14,
   "metadata": {},
   "outputs": [
    {
     "data": {
      "text/plain": [
       "'color: #f0e'"
      ]
     },
     "execution_count": 14,
     "metadata": {},
     "output_type": "execute_result"
    }
   ],
   "source": [
    "ulist[\"style\"]"
   ]
  },
  {
   "cell_type": "markdown",
   "metadata": {},
   "source": [
    "## Downloading a table from Wikipedia\n",
    "\n",
    "We aim to get a list of countries sorted by their population size:\n",
    "https://en.wikipedia.org/wiki/List_of_countries_and_dependencies_by_population\n",
    "\n",
    "First, let's import the required modules:"
   ]
  },
  {
   "cell_type": "code",
   "execution_count": 15,
   "metadata": {},
   "outputs": [],
   "source": [
    "import re\n",
    "\n",
    "import dateutil\n",
    "import requests\n",
    "from bs4 import BeautifulSoup"
   ]
  },
  {
   "cell_type": "markdown",
   "metadata": {},
   "source": [
    "This time, we load the html directly from a website using the requests module:"
   ]
  },
  {
   "cell_type": "code",
   "execution_count": 16,
   "metadata": {},
   "outputs": [
    {
     "data": {
      "text/plain": [
       "'https://en.wikipedia.org/wiki/List_of_countries_and_dependencies_by_population'"
      ]
     },
     "execution_count": 16,
     "metadata": {},
     "output_type": "execute_result"
    }
   ],
   "source": [
    "url = \"https://en.wikipedia.org/wiki/List_of_countries_and_dependencies_by_population\"\n",
    "\n",
    "r = requests.get(url)\n",
    "url"
   ]
  },
  {
   "cell_type": "markdown",
   "metadata": {},
   "source": [
    "The web server returns a status code to indicate if the request was (un-)succesfully.\n",
    "We use that status-code to check if the page was succesfully loaded:"
   ]
  },
  {
   "cell_type": "code",
   "execution_count": 17,
   "metadata": {},
   "outputs": [],
   "source": [
    "assert r.status_code == 200"
   ]
  },
  {
   "cell_type": "markdown",
   "metadata": {},
   "source": [
    "Next, we extract the html source and initiated BeautifulSoup:"
   ]
  },
  {
   "cell_type": "code",
   "execution_count": 18,
   "metadata": {},
   "outputs": [],
   "source": [
    "html = r.text\n",
    "document = BeautifulSoup(html, \"html.parser\")"
   ]
  },
  {
   "cell_type": "markdown",
   "metadata": {},
   "source": [
    "by looking at the document, we can see that we are interested in first table. So we use `find`:"
   ]
  },
  {
   "cell_type": "code",
   "execution_count": 19,
   "metadata": {},
   "outputs": [],
   "source": [
    "table = document.find(\"table\", class_=\"wikitable\")"
   ]
  },
  {
   "cell_type": "markdown",
   "metadata": {},
   "source": [
    "If you are not familiar with html table, read this example first: https://www.w3schools.com/html/tryit.asp?filename=tryhtml_table_intro"
   ]
  },
  {
   "cell_type": "code",
   "execution_count": 20,
   "metadata": {},
   "outputs": [
    {
     "name": "stdout",
     "output_type": "stream",
     "text": [
      "<table class=\"wikitable sortable\" style=\"text-align:right\">\n",
      "<tbody><tr class=\"is-sticky\">\n",
      "<th></th>\n",
      "<th style=\"width:17em\"><a href=\"/wiki/List_of_sovereign_states\" title=\"List of sovereign states\">Country</a> / <a href=\"/wiki/Dependent_territory\" title=\"Dependent territory\">Dependency</a></th>\n",
      "<th>Population</th>\n",
      "<th style=\"width:2em\">% of<br/>world</th>\n",
      "<th>Date</th>\n",
      "<th><span class=\"nowrap\">Source (official or from</span><br/>the <a href=\"/wiki/United_Nations\" title=\"United Nations\">United Nations</a>)</th>\n",
      "<th class=\"unsortable\">\n",
      "</th></tr>\n",
      "<tr>\n",
      "<th>–\n",
      "</th>\n",
      "<td style=\"text-align:left\"><b>World</b>\n",
      "</td>\n",
      "<td><b>8,063,588,000</b></td>\n",
      "<td><b>100%</b></td>\n",
      "<td><b><span data-sort-value=\"000000002023-10-04-0000\" style=\"white-space:nowrap\">4 Oct 2023</span></b>\n",
      "</td>\n",
      "<td style=\"text-align:left\"><b>UN projection</b><sup class=\"reference\" id=\"cite_ref-unpop_4-0\"><a href=\"#cite_note-unpop-4\">[3]</a></sup></td>\n",
      "<td>\n",
      "</td></tr>\n",
      "<tr>\n",
      "<th>1\n",
      "</th>\n",
      "<td style=\"text-align:left\"><span class=\"flagicon\"><span class=\"mw-image-\n"
     ]
    }
   ],
   "source": [
    "print(str(table)[:1024])"
   ]
  },
  {
   "cell_type": "markdown",
   "metadata": {},
   "source": [
    "At this point, it is a good idea to programatically check that the table contains the correct header:"
   ]
  },
  {
   "cell_type": "code",
   "execution_count": 22,
   "metadata": {},
   "outputs": [
    {
     "data": {
      "text/plain": [
       "' Country/Dependency Population % ofworld Date Source (official or fromtheUnited Nations)  – 1 2 3 4 5 6 7 8 9 10 11 12 13 14 15 16 17 18 19 20 21 22 23 24 25 26 27 28 29 30 31 32 33 34 35 36 37 38 39 40 41 42 43 44 45 46 47 48 49 50 51 52 53 54 55 56 – 57 58 59 60 61 62 63 64 65 66 67 68 69 70 71 72 73 74 75 76 77 78 79 80 81 82 83 84 85 86 87 88 89 90 91 92 93 94 95 96 97 98 99 100 101 – 102 103 104 105 106 107 108 109 110 111 112 113 114 115 116 117 118 119 120 121 122 123 124 125 126 127 128 129 130 131 132 133 – 134 135 136 137 138 139 140 141 142 143 144 145 146 147 148 – 149 150 151 152 153 154 155 156 157 158 159 160 161 162 – 163 164 165 – 166 167 168 169 170 171 – 172 – 173 – – 174 – 175 176 177 – – – 178 179 180 – 181 – 182 183 184 – – 185 – 186 – – – – – – – 187 – – 188 189 190 – 191 – – – 192 – – 193 – 194 – – – – – – – – – 195 – –'"
      ]
     },
     "execution_count": 22,
     "metadata": {},
     "output_type": "execute_result"
    }
   ],
   "source": [
    "header = \" \".join([th.get_text(strip=True) for th in table.find_all(\"th\")])\n",
    "assert \"Population\" in header\n",
    "header"
   ]
  },
  {
   "cell_type": "markdown",
   "metadata": {},
   "source": [
    "### Exercise\n",
    "\n",
    "extract the information from the table\n",
    "\n",
    "- get the rows\n",
    "- find column names\n",
    "- get sensible data from each cell\n",
    "- parse numbers/dates where they show up\n",
    "  "
   ]
  },
  {
   "cell_type": "code",
   "execution_count": 23,
   "metadata": {},
   "outputs": [],
   "source": [
    "rows = table.find_all(\"tr\")"
   ]
  },
  {
   "cell_type": "code",
   "execution_count": 24,
   "metadata": {},
   "outputs": [
    {
     "data": {
      "text/plain": [
       "<tr class=\"is-sticky\">\n",
       "<th></th>\n",
       "<th style=\"width:17em\"><a href=\"/wiki/List_of_sovereign_states\" title=\"List of sovereign states\">Country</a> / <a href=\"/wiki/Dependent_territory\" title=\"Dependent territory\">Dependency</a></th>\n",
       "<th>Population</th>\n",
       "<th style=\"width:2em\">% of<br/>world</th>\n",
       "<th>Date</th>\n",
       "<th><span class=\"nowrap\">Source (official or from</span><br/>the <a href=\"/wiki/United_Nations\" title=\"United Nations\">United Nations</a>)</th>\n",
       "<th class=\"unsortable\">\n",
       "</th></tr>"
      ]
     },
     "execution_count": 24,
     "metadata": {},
     "output_type": "execute_result"
    }
   ],
   "source": [
    "rows[0]"
   ]
  },
  {
   "cell_type": "code",
   "execution_count": 25,
   "metadata": {},
   "outputs": [
    {
     "data": {
      "text/plain": [
       "['',\n",
       " 'Country/Dependency',\n",
       " 'Population',\n",
       " '% ofworld',\n",
       " 'Date',\n",
       " 'Source (official or fromtheUnited Nations)',\n",
       " '']"
      ]
     },
     "execution_count": 25,
     "metadata": {},
     "output_type": "execute_result"
    }
   ],
   "source": [
    "column_names = [th.get_text(strip=True) for th in rows[0].find_all(\"th\")]\n",
    "column_names"
   ]
  },
  {
   "cell_type": "code",
   "execution_count": 48,
   "metadata": {},
   "outputs": [
    {
     "name": "stdout",
     "output_type": "stream",
     "text": [
      "0 World 8.06e+09 100.0% 2023-10-04\n",
      "1 China 1.41e+09 17.5% 2022-12-31\n",
      "2 India 1.39e+09 17.3% 2023-03-01\n",
      "3 United States 3.35e+08 4.2% 2023-10-04\n",
      "4 Indonesia 2.79e+08 3.5% 2023-07-01\n",
      "5 Pakistan 2.41e+08 3.0% 2023-03-01\n",
      "6 Nigeria 2.17e+08 2.7% 2022-03-21\n",
      "7 Brazil 2.03e+08 2.5% 2022-08-01\n",
      "8 Bangladesh 1.70e+08 2.1% 2022-06-14\n",
      "9 Russia 1.46e+08 1.8% 2023-01-01\n",
      "10 Mexico 1.29e+08 1.6% 2023-06-30\n",
      "11 Japan 1.24e+08 1.5% 2023-09-01\n",
      "12 Philippines 1.11e+08 1.4% 2023-10-04\n",
      "13 Ethiopia 1.07e+08 1.3% 2023-07-01\n",
      "14 Egypt 1.05e+08 1.3% 2023-10-04\n",
      "15 Vietnam 1.00e+08 1.2% 2023-04-04\n",
      "16 DR Congo 9.54e+07 1.2% 2019-07-01\n",
      "17 Iran 8.53e+07 1.1% 2023-10-04\n",
      "18 Turkey 8.53e+07 1.1% 2022-12-31\n",
      "19 Germany 8.45e+07 1.0% 2023-06-30\n",
      "20 Thailand 6.83e+07 0.8% 2021-07-01\n",
      "21 France 6.82e+07 0.8% 2023-09-01\n",
      "22 United Kingdom 6.70e+07 0.8% 2021-06-30\n",
      "23 Tanzania 6.17e+07 0.8% 2022-08-23\n",
      "24 South Africa 6.06e+07 0.8% 2022-07-01\n",
      "25 Italy 5.88e+07 0.7% 2023-07-31\n",
      "26 Myanmar 5.58e+07 0.7% 2022-07-01\n",
      "27 Colombia 5.22e+07 0.6% 2023-06-30\n",
      "28 Kenya 5.15e+07 0.6% 2023-01-01\n",
      "29 South Korea 5.14e+07 0.6% 2022-12-31\n",
      "30 Spain 4.83e+07 0.6% 2023-07-01\n",
      "31 Argentina 4.67e+07 0.6% 2023-07-01\n",
      "32 Algeria 4.54e+07 0.6% 2022-01-01\n",
      "33 Iraq 4.33e+07 0.5% 2023-07-01\n",
      "34 Uganda 4.29e+07 0.5% 2021-07-01\n",
      "35 Sudan 4.20e+07 0.5% 2018-07-01\n",
      "36 Ukraine 4.11e+07 0.5% 2022-02-01\n",
      "37 Canada 4.04e+07 0.5% 2023-10-04\n",
      "38 Poland 3.77e+07 0.5% 2023-07-31\n",
      "39 Morocco 3.71e+07 0.5% 2023-10-04\n",
      "40 Uzbekistan 3.64e+07 0.5% 2023-07-01\n",
      "41 Afghanistan 3.43e+07 0.4% 2023-01-01\n",
      "42 Peru 3.34e+07 0.4% 2022-07-01\n",
      "43 Malaysia 3.34e+07 0.4% 2023-06-30\n",
      "44 Angola 3.31e+07 0.4% 2022-06-30\n",
      "45 Mozambique 3.24e+07 0.4% 2022-07-01\n",
      "46 Saudi Arabia 3.22e+07 0.4% 2022-05-10\n",
      "47 Yemen 3.19e+07 0.4% 2022-07-01\n",
      "48 Ghana 3.08e+07 0.4% 2021-06-27\n",
      "49 Ivory Coast 2.94e+07 0.4% 2021-12-14\n",
      "50 Nepal 2.92e+07 0.4% 2021-11-25\n",
      "51 Venezuela 2.83e+07 0.4% 2019-06-30\n",
      "52 Cameroon 2.81e+07 0.3% 2023-07-01\n",
      "53 Madagascar 2.69e+07 0.3% 2021-07-01\n",
      "54 Australia 2.68e+07 0.3% 2023-10-04\n",
      "55 North Korea 2.57e+07 0.3% 2021-07-01\n",
      "56 Niger 2.54e+07 0.3% 2023-07-01\n",
      "56 Taiwan 2.34e+07 0.3% 2023-08-31\n",
      "57 Syria 2.29e+07 0.3% 2021-07-01\n",
      "58 Mali 2.24e+07 0.3% 2022-06-15\n",
      "59 Burkina Faso 2.22e+07 0.3% 2022-07-01\n",
      "60 Sri Lanka 2.20e+07 0.3% 2023-07-01\n",
      "61 Malawi 2.15e+07 0.3% 2022-07-01\n",
      "62 Chile 2.00e+07 0.2% 2023-06-30\n",
      "63 Kazakhstan 1.99e+07 0.2% 2023-09-01\n",
      "64 Zambia 1.96e+07 0.2% 2022-09-14\n",
      "65 Romania 1.91e+07 0.2% 2023-01-01\n",
      "66 Ecuador 1.84e+07 0.2% 2023-10-04\n",
      "67 Senegal 1.83e+07 0.2% 2023-07-01\n",
      "68 Somalia 1.81e+07 0.2% 2023-07-01\n",
      "69 Netherlands 1.79e+07 0.2% 2023-10-04\n",
      "70 Guatemala 1.76e+07 0.2% 2023-07-01\n",
      "71 Chad 1.74e+07 0.2% 2022-07-01\n",
      "72 Cambodia 1.71e+07 0.2% 2023-07-01\n",
      "73 Zimbabwe 1.52e+07 0.2% 2022-04-20\n",
      "74 Guinea 1.33e+07 0.2% 2022-07-01\n",
      "75 South Sudan 1.32e+07 0.2% 2020-07-01\n",
      "76 Rwanda 1.32e+07 0.2% 2022-08-15\n",
      "77 Burundi 1.28e+07 0.2% 2022-07-01\n",
      "78 Benin 1.26e+07 0.2% 2023-07-01\n",
      "79 Bolivia 1.20e+07 0.1% 2022-07-01\n",
      "80 Tunisia 1.19e+07 0.1% 2023-01-01\n",
      "81 Papua New Guinea 1.18e+07 0.1% 2021-07-01\n",
      "82 Belgium 1.18e+07 0.1% 2023-08-01\n",
      "83 Haiti 1.17e+07 0.1% 2020-07-01\n",
      "84 Jordan 1.15e+07 0.1% 2023-10-04\n",
      "85 Cuba 1.11e+07 0.1% 2022-12-31\n",
      "86 Czech Republic 1.09e+07 0.1% 2023-06-30\n",
      "87 Sweden 1.05e+07 0.1% 2023-08-01\n",
      "88 Dominican Republic 1.05e+07 0.1% 2021-07-01\n",
      "89 Greece 1.05e+07 0.1% 2021-10-22\n",
      "90 Portugal 1.05e+07 0.1% 2022-12-31\n",
      "91 Azerbaijan 1.02e+07 0.1% 2023-07-01\n",
      "92 Tajikistan 1.01e+07 0.1% 2023-01-01\n",
      "93 Israel 9.80e+06 0.1% 2023-07-31\n",
      "94 Honduras 9.75e+06 0.1% 2023-07-01\n",
      "95 Hungary 9.60e+06 0.1% 2023-01-01\n",
      "96 United Arab Emirates 9.28e+06 0.1% 2020-12-31\n",
      "97 Belarus 9.20e+06 0.1% 2023-01-01\n",
      "98 Austria 9.13e+06 0.1% 2023-07-01\n",
      "99 Switzerland 8.90e+06 0.1% 2023-06-30\n",
      "100 Sierra Leone 8.49e+06 0.1% 2022-07-01\n",
      "101 Togo 8.10e+06 0.1% 2022-11-08\n",
      "101 Hong Kong(China) 7.50e+06 0.1% 2023-06-30\n",
      "102 Laos 7.44e+06 0.1% 2022-07-01\n",
      "103 Kyrgyzstan 7.10e+06 0.1% 2023-03-01\n",
      "104 Turkmenistan 7.06e+06 0.1% 2022-12-17\n",
      "105 Libya 6.93e+06 0.1% 2020-01-01\n",
      "106 El Salvador 6.88e+06 0.1% 2022-07-01\n",
      "107 Nicaragua 6.73e+06 0.1% 2022-06-30\n",
      "108 Serbia 6.65e+06 0.1% 2022-10-31\n",
      "109 Bulgaria 6.45e+06 0.1% 2022-12-31\n",
      "110 Paraguay 6.11e+06 0.1% 2022-11-10\n",
      "111 Congo 6.11e+06 0.1% 2023-07-01\n",
      "112 Denmark 5.94e+06 0.1% 2023-07-01\n",
      "113 Singapore 5.92e+06 0.1% 2023-06-30\n",
      "114 Central African Republic 5.63e+06 0.1% 2020-07-01\n",
      "115 Finland 5.56e+06 0.1% 2023-08-31\n",
      "116 Norway 5.51e+06 0.1% 2023-06-30\n",
      "117 Lebanon 5.49e+06 0.1% 2021-07-01\n",
      "118 Palestine 5.48e+06 0.1% 2023-01-01\n",
      "119 Slovakia 5.43e+06 0.1% 2023-06-30\n",
      "120 Ireland 5.28e+06 0.1% 2023-04-01\n",
      "121 Costa Rica 5.26e+06 0.1% 2023-06-30\n",
      "122 New Zealand 5.22e+06 0.1% 2023-06-30\n",
      "123 Oman 5.11e+06 0.1% 2023-08-31\n",
      "124 Kuwait 4.67e+06 0.1% 2020-12-31\n",
      "125 Liberia 4.66e+06 0.1% 2021-07-01\n",
      "126 Mauritania 4.48e+06 0.1% 2023-07-01\n",
      "127 Panama 4.34e+06 0.1% 2021-07-01\n",
      "128 Croatia 3.86e+06 0.1% 2022-07-01\n",
      "129 Eritrea 3.75e+06 0.1% 2023-07-01\n",
      "130 Georgia 3.74e+06 0.1% 2023-01-01\n",
      "131 Uruguay 3.57e+06 0.0% 2023-06-30\n",
      "132 Mongolia 3.46e+06 0.0% 2022-12-31\n",
      "133 Bosnia and Herzegovina 3.28e+06 0.0% 2022-07-01\n",
      "133 Puerto Rico(US) 3.22e+06 0.0% 2022-07-01\n",
      "134 Armenia 2.98e+06 0.0% 2023-01-01\n",
      "135 Lithuania 2.87e+06 0.0% 2023-09-01\n",
      "136 Jamaica 2.83e+06 0.0% 2019-07-01\n",
      "137 Albania 2.76e+06 0.0% 2023-01-01\n",
      "138 Qatar 2.66e+06 0.0% 2023-06-30\n",
      "139 Namibia 2.64e+06 0.0% 2023-07-01\n",
      "140 Moldova 2.51e+06 0.0% 2023-01-01\n",
      "141 Gambia 2.42e+06 0.0% 2022-07-01\n",
      "142 Botswana 2.41e+06 0.0% 2021-07-01\n",
      "143 Lesotho 2.31e+06 0.0% 2023-07-01\n",
      "144 Gabon 2.23e+06 0.0% 2021-07-01\n",
      "145 Slovenia 2.12e+06 0.0% 2023-04-01\n",
      "146 Latvia 1.88e+06 0.0% 2023-08-01\n",
      "147 North Macedonia 1.83e+06 0.0% 2021-11-01\n",
      "148 Guinea-Bissau 1.78e+06 0.0% 2023-07-01\n",
      "148 Kosovo 1.77e+06 0.0% 2021-12-31\n",
      "149 Bahrain 1.58e+06 0.0% 2023-07-01\n",
      "150 Equatorial Guinea 1.56e+06 0.0% 2022-07-01\n",
      "151 Estonia 1.37e+06 0.0% 2023-01-01\n",
      "152 Trinidad and Tobago 1.37e+06 0.0% 2022-06-30\n",
      "153 East Timor 1.35e+06 0.0% 2023-07-01\n",
      "154 Mauritius 1.26e+06 0.0% 2023-06-30\n",
      "155 Eswatini 1.22e+06 0.0% 2023-07-01\n",
      "156 Djibouti 1.00e+06 0.0% 2022-07-01\n",
      "157 Cyprus 9.18e+05 0.0% 2021-10-01\n",
      "158 Fiji 8.93e+05 0.0% 2021-07-01\n",
      "159 Bhutan 7.70e+05 0.0% 2023-10-04\n",
      "160 Comoros 7.58e+05 0.0% 2017-12-15\n",
      "161 Guyana 7.44e+05 0.0% 2019-07-01\n",
      "162 Solomon Islands 7.35e+05 0.0% 2023-07-01\n",
      "162 Macau(China) 6.79e+05 0.0% 2023-06-30\n",
      "163 Luxembourg 6.61e+05 0.0% 2023-01-01\n",
      "164 Montenegro 6.17e+05 0.0% 2023-01-01\n",
      "165 Suriname 6.16e+05 0.0% 2021-07-01\n",
      "165 Western Sahara 5.87e+05 0.0% 2023-07-01\n",
      "166 Malta 5.20e+05 0.0% 2021-11-21\n",
      "167 Cape Verde 4.91e+05 0.0% 2021-06-16\n",
      "168 Brunei 4.45e+05 0.0% 2022-07-01\n",
      "169 Belize 4.41e+05 0.0% 2022-07-01\n",
      "170 Bahamas 3.97e+05 0.0% 2022-07-01\n",
      "171 Iceland 3.94e+05 0.0% 2023-07-01\n",
      "171 Northern Cyprus 3.83e+05 0.0% 2020-12-31\n",
      "172 Maldives 3.83e+05 0.0% 2022-09-13\n",
      "172 Transnistria 3.61e+05 0.0% 2022-12-31\n",
      "173 Vanuatu 3.01e+05 0.0% 2021-07-01\n",
      "173 French Polynesia(France) 2.80e+05 0.0% 2021-07-01\n",
      "173 New Caledonia(France) 2.69e+05 0.0% 2023-01-01\n",
      "174 Barbados 2.68e+05 0.0% 2022-12-31\n",
      "174 Abkhazia 2.45e+05 0.0% 2020-01-01\n",
      "175 São Tomé and Príncipe 2.15e+05 0.0% 2021-07-01\n",
      "176 Samoa 2.06e+05 0.0% 2021-11-06\n",
      "177 Saint Lucia 1.79e+05 0.0% 2018-07-01\n",
      "177 Guam(US) 1.54e+05 0.0% 2020-04-01\n",
      "177 Curacao(Netherlands) 1.49e+05 0.0% 2023-01-01\n",
      "177 Artsakh 1.49e+05 0.0% 2019-10-01\n",
      "178 Kiribati 1.21e+05 0.0% 2021-07-01\n",
      "179 Grenada 1.13e+05 0.0% 2019-07-01\n",
      "180 Saint Vincent and the Grenadines 1.11e+05 0.0% 2022-07-01\n",
      "180 Aruba(Netherlands) 1.07e+05 0.0% 2022-09-30\n",
      "181 Micronesia 1.06e+05 0.0% 2021-07-01\n",
      "181 Jersey(UK) 1.03e+05 0.0% 2021-03-21\n",
      "182 Antigua and Barbuda 1.01e+05 0.0% 2022-01-01\n",
      "183 Seychelles 1.00e+05 0.0% 2022-04-22\n",
      "184 Tonga 1.00e+05 0.0% 2022-01-01\n",
      "184 US Virgin Islands(US) 8.71e+04 0.0% 2020-04-01\n",
      "184 Isle of Man(UK) 8.41e+04 0.0% 2021-05-30\n",
      "185 Andorra 8.35e+04 0.0% 2023-06-30\n",
      "185 Cayman Islands(UK) 7.11e+04 0.0% 2020-09-30\n",
      "186 Dominica 6.74e+04 0.0% 2017-12-31\n",
      "186 Guernsey(UK) 6.42e+04 0.0% 2022-09-30\n",
      "186 Bermuda(UK) 6.41e+04 0.0% 2021-07-01\n",
      "186 Greenland(Denmark) 5.69e+04 0.0% 2023-07-01\n",
      "186 South Ossetia 5.65e+04 0.0% 2021-12-31\n",
      "186 Faroe Islands(Denmark) 5.47e+04 0.0% 2023-08-01\n",
      "186 American Samoa(US) 4.97e+04 0.0% 2020-04-01\n",
      "186 Northern Mariana Islands(US) 4.73e+04 0.0% 2020-04-01\n",
      "187 Saint Kitts and Nevis 4.72e+04 0.0% 2011-05-15\n",
      "187 Turks and Caicos Islands(UK) 4.61e+04 0.0% 2021-07-01\n",
      "187 Sint Maarten(Netherlands) 4.29e+04 0.0% 2023-01-01\n",
      "188 Marshall Islands 4.24e+04 0.0% 2021-09-30\n",
      "189 Liechtenstein 3.97e+04 0.0% 2022-12-31\n",
      "190 Monaco 3.90e+04 0.0% 2022-12-31\n",
      "190 Gibraltar(UK) 3.40e+04 0.0% 2016-07-01\n",
      "191 San Marino 3.39e+04 0.0% 2023-07-31\n",
      "191 Saint Martin(France) 3.24e+04 0.0% 2020-01-01\n",
      "191 British Virgin Islands(UK) 3.15e+04 0.0% 2023-07-01\n",
      "191 Åland(Finland) 3.06e+04 0.0% 2023-08-31\n",
      "192 Palau 1.67e+04 0.0% 2021-07-01\n",
      "192 Anguilla(UK) 1.57e+04 0.0% 2021-12-31\n",
      "192 Cook Islands 1.50e+04 0.0% 2021-07-01\n",
      "193 Nauru 1.18e+04 0.0% 2021-07-01\n",
      "193 Wallis and Futuna(France) 1.14e+04 0.0% 2021-01-01\n",
      "194 Tuvalu 1.07e+04 0.0% 2021-07-01\n",
      "194 Saint Barthélemy(France) 1.06e+04 0.0% 2020-01-01\n",
      "194 Saint Pierre and Miquelon(France) 6.09e+03 0.0% 2020-01-01\n",
      "194 Saint Helena, Ascension and Tristan da Cunha(UK) 5.65e+03 0.0% 2021-07-01\n",
      "194 Montserrat(UK) 4.43e+03 0.0% 2022-07-01\n",
      "194 Falkland Islands(UK) 3.66e+03 0.0% 2021-10-10\n",
      "194 Norfolk Island(Australia) 2.19e+03 0.0% 2021-01-01\n",
      "194 Christmas Island(Australia) 1.69e+03 0.0% 2021-01-01\n",
      "194 Tokelau(NZ) 1.65e+03 0.0% 2019-01-01\n",
      "194 Niue 1.55e+03 0.0% 2021-07-01\n",
      "195 Vatican City 7.64e+02 0.0% 2023-06-26\n",
      "195 Cocos (Keeling) Islands(Australia) 5.93e+02 0.0% 2020-06-30\n",
      "195 Pitcairn Islands(UK) 4.70e+01 0.0% 2021-07-01\n"
     ]
    }
   ],
   "source": [
    "last_rank = 0\n",
    "for row in rows[1:]:\n",
    "    cells = row.find_all([\"th\", \"td\"])\n",
    "    if not cells:\n",
    "        continue\n",
    "    cells_text = [cell.get_text(strip=True) for cell in cells]\n",
    "    rank, country, population, percentage, updated_at, source, *comment = cells_text\n",
    "    if not rank.isdigit():\n",
    "        rank = last_rank\n",
    "    else:\n",
    "        last_rank = rank\n",
    "        rank = int(rank)\n",
    "    population = int(population.replace(\",\", \"\"))\n",
    "    percentage = float(re.findall(r\"[\\d\\.]+\", percentage)[0]) / 100\n",
    "    updated_at = dateutil.parser.parse(updated_at).date()\n",
    "\n",
    "    print(rank, country, f\"{population:,.2e}\", f\"{percentage:.1%}\", updated_at)"
   ]
  },
  {
   "cell_type": "markdown",
   "metadata": {},
   "source": [
    "**Attention**: Beautiful Soup does not execute Javascript. This means that you the code in your browser inspector might look a bit different from the original HTML source code. "
   ]
  },
  {
   "cell_type": "markdown",
   "metadata": {
    "tags": []
   },
   "source": [
    "# Another example of downloading a Wikipedia table \n",
    "\n",
    "Let's consider another table in a Wikipedia page. This page has a lot more tables, so one challenge will be to pick the right table\n",
    "\n",
    "https://en.wikipedia.org/wiki/Serena_Williams\n",
    "\n",
    "\n",
    "We are interested in extracting these two tables:\n",
    "\n",
    "![Target Wikipedia tables](figs/wiki_tables.png)\n",
    "\n",
    "**Exercise**: \n",
    "\n",
    "Find the tables on a page by locating heading and using `.find_next()`\n"
   ]
  },
  {
   "cell_type": "markdown",
   "metadata": {},
   "source": [
    "We begin by downloading the webpage and instatiating the BeautifulSoup object:"
   ]
  },
  {
   "cell_type": "code",
   "execution_count": 49,
   "metadata": {},
   "outputs": [],
   "source": [
    "r = requests.get(\"https://en.wikipedia.org/wiki/Serena_Williams\")\n",
    "document = BeautifulSoup(r.text, \"html.parser\")"
   ]
  },
  {
   "cell_type": "markdown",
   "metadata": {},
   "source": [
    "This page contains a lot of tables without specific attributes that would make it easy to find our table of interest. Further, the same headings of the tables are used for multiple tables, making it difficult to find a table just by its headings:"
   ]
  },
  {
   "cell_type": "code",
   "execution_count": 50,
   "metadata": {},
   "outputs": [
    {
     "data": {
      "text/plain": [
       "75"
      ]
     },
     "execution_count": 50,
     "metadata": {},
     "output_type": "execute_result"
    }
   ],
   "source": [
    "len(document.find_all(\"table\"))"
   ]
  },
  {
   "cell_type": "markdown",
   "metadata": {},
   "source": [
    "Therefore, we choose another strategy.\n",
    "\n",
    "First, we find the tag with class `mw-headling` whose `string` content _starts with_ `Singles`.\n",
    "Then we find the _next_ table using `heading_element.find_next(...)`:"
   ]
  },
  {
   "cell_type": "code",
   "execution_count": 51,
   "metadata": {},
   "outputs": [
    {
     "data": {
      "text/plain": [
       "[<span class=\"mw-headline\" id=\"Singles:_33_(23–10)\">Singles: 33 (23–10)</span>]"
      ]
     },
     "execution_count": 51,
     "metadata": {},
     "output_type": "execute_result"
    }
   ],
   "source": [
    "document.find_all(class_=\"mw-headline\", string=re.compile(\"^Singles\"))"
   ]
  },
  {
   "cell_type": "code",
   "execution_count": 52,
   "metadata": {},
   "outputs": [
    {
     "data": {
      "text/plain": [
       "<span class=\"mw-headline\" id=\"Singles:_33_(23–10)\">Singles: 33 (23–10)</span>"
      ]
     },
     "execution_count": 52,
     "metadata": {},
     "output_type": "execute_result"
    }
   ],
   "source": [
    "# string class\n",
    "singles_heading = document.find(class_=\"mw-headline\", string=re.compile(\"^Singles\"))\n",
    "singles_heading"
   ]
  },
  {
   "cell_type": "code",
   "execution_count": 53,
   "metadata": {
    "scrolled": true,
    "tags": []
   },
   "outputs": [
    {
     "data": {
      "text/plain": [
       "<table class=\"sortable wikitable\">\n",
       "<tbody><tr>\n",
       "<th>Result\n",
       "</th>\n",
       "<th>Year\n",
       "</th>\n",
       "<th>Tournament\n",
       "</th>\n",
       "<th>Surface\n",
       "</th>\n",
       "<th>Opponents\n",
       "</th>\n",
       "<th class=\"unsortable\">Score\n",
       "</th></tr>\n",
       "<tr style=\"background:#ccf;\">\n",
       "<td style=\"background:#98fb98;\">Win</td>\n",
       "<td><a href=\"/wiki/1999_US_Open_%E2%80%93_Women%27s_singles\" title=\"1999 US Open – Women's singles\">1999</a></td>\n",
       "<td><a href=\"/wiki/US_Open_(tennis)\" title=\"US Open (tennis)\">US Open</a></td>\n",
       "<td><a class=\"mw-redirect\" href=\"/wiki/Hard_court\" title=\"Hard court\">Hard</a></td>\n",
       "<td><span class=\"flagicon\"><span class=\"mw-image-border\" typeof=\"mw:File\"><a href=\"/wiki/Switzerland\" title=\"Switzerland\"><img alt=\"Switzerland\" class=\"mw-file-element\" data-file-height=\"512\" data-file-width=\"512\" decoding=\"async\" height=\"16\" src=\"//upload.wikimedia.org/wikipedia/commons/thumb/0/08/Flag_of_Switzerland_%28Pantone%29.svg/16px-Flag_of_Switzerland_%28Pantone%29.svg.png\" srcset=\"//upload.wikimedia.org/wikipedia/commons/thumb/0/08/Flag_of_Switzerland_%28Pantone%29.svg/24px-Flag_of_Switzerland_%28Pantone%29.svg.png 1.5x, //upload.wikimedia.org/wikipedia/commons/thumb/0/08/Flag_of_Switzerland_%28Pantone%29.svg/32px-Flag_of_Switzerland_%28Pantone%29.svg.png 2x\" width=\"16\"/></a></span></span> <a href=\"/wiki/Martina_Hingis\" title=\"Martina Hingis\">Martina Hingis</a></td>\n",
       "<td>6–3, 7–6<sup>(7–4)</sup>\n",
       "</td></tr>\n",
       "<tr style=\"background:#ccf;\">\n",
       "<td style=\"background:#ffa07a;\">Loss</td>\n",
       "<td><a href=\"/wiki/2001_US_Open_%E2%80%93_Women%27s_singles\" title=\"2001 US Open – Women's singles\">2001</a></td>\n",
       "<td>US Open</td>\n",
       "<td>Hard</td>\n",
       "<td><span class=\"flagicon\"><span class=\"mw-image-border\" typeof=\"mw:File\"><a href=\"/wiki/United_States\" title=\"United States\"><img alt=\"United States\" class=\"mw-file-element\" data-file-height=\"650\" data-file-width=\"1235\" decoding=\"async\" height=\"12\" src=\"//upload.wikimedia.org/wikipedia/en/thumb/a/a4/Flag_of_the_United_States.svg/23px-Flag_of_the_United_States.svg.png\" srcset=\"//upload.wikimedia.org/wikipedia/en/thumb/a/a4/Flag_of_the_United_States.svg/35px-Flag_of_the_United_States.svg.png 1.5x, //upload.wikimedia.org/wikipedia/en/thumb/a/a4/Flag_of_the_United_States.svg/46px-Flag_of_the_United_States.svg.png 2x\" width=\"23\"/></a></span></span> <a href=\"/wiki/Venus_Williams\" title=\"Venus Williams\">Venus Williams</a></td>\n",
       "<td>2–6, 4–6\n",
       "</td></tr>\n",
       "<tr bgcolor=\"#ebc2af\" style=\"border: 2px solid blue\">\n",
       "<td style=\"background:#98fb98;\">Win</td>\n",
       "<td><a href=\"/wiki/2002_French_Open_%E2%80%93_Women%27s_singles\" title=\"2002 French Open – Women's singles\">2002</a></td>\n",
       "<td>French Open</td>\n",
       "<td><a href=\"/wiki/Clay_court\" title=\"Clay court\">Clay</a></td>\n",
       "<td><span class=\"flagicon\"><span class=\"mw-image-border\" typeof=\"mw:File\"><a href=\"/wiki/United_States\" title=\"United States\"><img alt=\"United States\" class=\"mw-file-element\" data-file-height=\"650\" data-file-width=\"1235\" decoding=\"async\" height=\"12\" src=\"//upload.wikimedia.org/wikipedia/en/thumb/a/a4/Flag_of_the_United_States.svg/23px-Flag_of_the_United_States.svg.png\" srcset=\"//upload.wikimedia.org/wikipedia/en/thumb/a/a4/Flag_of_the_United_States.svg/35px-Flag_of_the_United_States.svg.png 1.5x, //upload.wikimedia.org/wikipedia/en/thumb/a/a4/Flag_of_the_United_States.svg/46px-Flag_of_the_United_States.svg.png 2x\" width=\"23\"/></a></span></span> Venus Williams</td>\n",
       "<td>7–5, 6–3\n",
       "</td></tr>\n",
       "<tr bgcolor=\"#cfc\" style=\"border: 2px solid blue\">\n",
       "<td style=\"background:#98fb98;\">Win</td>\n",
       "<td><a href=\"/wiki/2002_Wimbledon_Championships_%E2%80%93_Women%27s_singles\" title=\"2002 Wimbledon Championships – Women's singles\">2002</a></td>\n",
       "<td><a class=\"mw-redirect\" href=\"/wiki/The_Championships,_Wimbledon\" title=\"The Championships, Wimbledon\">Wimbledon</a></td>\n",
       "<td><a href=\"/wiki/Grass_court\" title=\"Grass court\">Grass</a></td>\n",
       "<td><span class=\"flagicon\"><span class=\"mw-image-border\" typeof=\"mw:File\"><a href=\"/wiki/United_States\" title=\"United States\"><img alt=\"United States\" class=\"mw-file-element\" data-file-height=\"650\" data-file-width=\"1235\" decoding=\"async\" height=\"12\" src=\"//upload.wikimedia.org/wikipedia/en/thumb/a/a4/Flag_of_the_United_States.svg/23px-Flag_of_the_United_States.svg.png\" srcset=\"//upload.wikimedia.org/wikipedia/en/thumb/a/a4/Flag_of_the_United_States.svg/35px-Flag_of_the_United_States.svg.png 1.5x, //upload.wikimedia.org/wikipedia/en/thumb/a/a4/Flag_of_the_United_States.svg/46px-Flag_of_the_United_States.svg.png 2x\" width=\"23\"/></a></span></span> Venus Williams</td>\n",
       "<td>7–6<sup>(7–4)</sup>, 6–3\n",
       "</td></tr>\n",
       "<tr bgcolor=\"#ccf\" style=\"border: 2px solid blue\">\n",
       "<td style=\"background:#98fb98;\">Win</td>\n",
       "<td><a href=\"/wiki/2002_US_Open_%E2%80%93_Women%27s_singles\" title=\"2002 US Open – Women's singles\">2002</a></td>\n",
       "<td>US Open <small>(2)</small></td>\n",
       "<td>Hard</td>\n",
       "<td><span class=\"flagicon\"><span class=\"mw-image-border\" typeof=\"mw:File\"><a href=\"/wiki/United_States\" title=\"United States\"><img alt=\"United States\" class=\"mw-file-element\" data-file-height=\"650\" data-file-width=\"1235\" decoding=\"async\" height=\"12\" src=\"//upload.wikimedia.org/wikipedia/en/thumb/a/a4/Flag_of_the_United_States.svg/23px-Flag_of_the_United_States.svg.png\" srcset=\"//upload.wikimedia.org/wikipedia/en/thumb/a/a4/Flag_of_the_United_States.svg/35px-Flag_of_the_United_States.svg.png 1.5x, //upload.wikimedia.org/wikipedia/en/thumb/a/a4/Flag_of_the_United_States.svg/46px-Flag_of_the_United_States.svg.png 2x\" width=\"23\"/></a></span></span> Venus Williams</td>\n",
       "<td>6–4, 6–3\n",
       "</td></tr>\n",
       "<tr bgcolor=\"#ffc\" style=\"border: 2px solid blue\">\n",
       "<td style=\"background:#98fb98;\">Win</td>\n",
       "<td><a href=\"/wiki/2003_Australian_Open_%E2%80%93_Women%27s_singles\" title=\"2003 Australian Open – Women's singles\">2003</a></td>\n",
       "<td>Australian Open</td>\n",
       "<td>Hard</td>\n",
       "<td><span class=\"flagicon\"><span class=\"mw-image-border\" typeof=\"mw:File\"><a href=\"/wiki/United_States\" title=\"United States\"><img alt=\"United States\" class=\"mw-file-element\" data-file-height=\"650\" data-file-width=\"1235\" decoding=\"async\" height=\"12\" src=\"//upload.wikimedia.org/wikipedia/en/thumb/a/a4/Flag_of_the_United_States.svg/23px-Flag_of_the_United_States.svg.png\" srcset=\"//upload.wikimedia.org/wikipedia/en/thumb/a/a4/Flag_of_the_United_States.svg/35px-Flag_of_the_United_States.svg.png 1.5x, //upload.wikimedia.org/wikipedia/en/thumb/a/a4/Flag_of_the_United_States.svg/46px-Flag_of_the_United_States.svg.png 2x\" width=\"23\"/></a></span></span> Venus Williams</td>\n",
       "<td>7–6<sup>(7–4)</sup>, 3–6, 6–4\n",
       "</td></tr>\n",
       "<tr style=\"background:#cfc;\">\n",
       "<td style=\"background:#98fb98;\">Win</td>\n",
       "<td><a href=\"/wiki/2003_Wimbledon_Championships_%E2%80%93_Women%27s_singles\" title=\"2003 Wimbledon Championships – Women's singles\">2003</a></td>\n",
       "<td>Wimbledon <small>(2)</small></td>\n",
       "<td>Grass</td>\n",
       "<td><span class=\"flagicon\"><span class=\"mw-image-border\" typeof=\"mw:File\"><a href=\"/wiki/United_States\" title=\"United States\"><img alt=\"United States\" class=\"mw-file-element\" data-file-height=\"650\" data-file-width=\"1235\" decoding=\"async\" height=\"12\" src=\"//upload.wikimedia.org/wikipedia/en/thumb/a/a4/Flag_of_the_United_States.svg/23px-Flag_of_the_United_States.svg.png\" srcset=\"//upload.wikimedia.org/wikipedia/en/thumb/a/a4/Flag_of_the_United_States.svg/35px-Flag_of_the_United_States.svg.png 1.5x, //upload.wikimedia.org/wikipedia/en/thumb/a/a4/Flag_of_the_United_States.svg/46px-Flag_of_the_United_States.svg.png 2x\" width=\"23\"/></a></span></span> Venus Williams</td>\n",
       "<td>4–6, 6–4, 6–2\n",
       "</td></tr>\n",
       "<tr style=\"background:#cfc;\">\n",
       "<td style=\"background:#ffa07a;\">Loss</td>\n",
       "<td><a href=\"/wiki/2004_Wimbledon_Championships_%E2%80%93_Women%27s_singles\" title=\"2004 Wimbledon Championships – Women's singles\">2004</a></td>\n",
       "<td>Wimbledon</td>\n",
       "<td>Grass</td>\n",
       "<td><span class=\"flagicon\"><span class=\"mw-image-border\" typeof=\"mw:File\"><a href=\"/wiki/Russia\" title=\"Russia\"><img alt=\"Russia\" class=\"mw-file-element\" data-file-height=\"600\" data-file-width=\"900\" decoding=\"async\" height=\"15\" src=\"//upload.wikimedia.org/wikipedia/en/thumb/f/f3/Flag_of_Russia.svg/23px-Flag_of_Russia.svg.png\" srcset=\"//upload.wikimedia.org/wikipedia/en/thumb/f/f3/Flag_of_Russia.svg/35px-Flag_of_Russia.svg.png 1.5x, //upload.wikimedia.org/wikipedia/en/thumb/f/f3/Flag_of_Russia.svg/45px-Flag_of_Russia.svg.png 2x\" width=\"23\"/></a></span></span> <a href=\"/wiki/Maria_Sharapova\" title=\"Maria Sharapova\">Maria Sharapova</a></td>\n",
       "<td>1–6, 4–6\n",
       "</td></tr>\n",
       "<tr style=\"background:#ffc;\">\n",
       "<td style=\"background:#98fb98;\">Win</td>\n",
       "<td><a href=\"/wiki/2005_Australian_Open_%E2%80%93_Women%27s_singles\" title=\"2005 Australian Open – Women's singles\">2005</a></td>\n",
       "<td>Australian Open <small>(2)</small></td>\n",
       "<td>Hard</td>\n",
       "<td><span class=\"flagicon\"><span class=\"mw-image-border\" typeof=\"mw:File\"><a href=\"/wiki/United_States\" title=\"United States\"><img alt=\"United States\" class=\"mw-file-element\" data-file-height=\"650\" data-file-width=\"1235\" decoding=\"async\" height=\"12\" src=\"//upload.wikimedia.org/wikipedia/en/thumb/a/a4/Flag_of_the_United_States.svg/23px-Flag_of_the_United_States.svg.png\" srcset=\"//upload.wikimedia.org/wikipedia/en/thumb/a/a4/Flag_of_the_United_States.svg/35px-Flag_of_the_United_States.svg.png 1.5x, //upload.wikimedia.org/wikipedia/en/thumb/a/a4/Flag_of_the_United_States.svg/46px-Flag_of_the_United_States.svg.png 2x\" width=\"23\"/></a></span></span> <a href=\"/wiki/Lindsay_Davenport\" title=\"Lindsay Davenport\">Lindsay Davenport</a></td>\n",
       "<td>2–6, 6–3, 6–0\n",
       "</td></tr>\n",
       "<tr style=\"background:#ffc;\">\n",
       "<td style=\"background:#98fb98;\">Win</td>\n",
       "<td><a href=\"/wiki/2007_Australian_Open_%E2%80%93_Women%27s_singles\" title=\"2007 Australian Open – Women's singles\">2007</a></td>\n",
       "<td>Australian Open <small>(3)</small></td>\n",
       "<td>Hard</td>\n",
       "<td><span class=\"flagicon\"><span class=\"mw-image-border\" typeof=\"mw:File\"><a href=\"/wiki/Russia\" title=\"Russia\"><img alt=\"Russia\" class=\"mw-file-element\" data-file-height=\"600\" data-file-width=\"900\" decoding=\"async\" height=\"15\" src=\"//upload.wikimedia.org/wikipedia/en/thumb/f/f3/Flag_of_Russia.svg/23px-Flag_of_Russia.svg.png\" srcset=\"//upload.wikimedia.org/wikipedia/en/thumb/f/f3/Flag_of_Russia.svg/35px-Flag_of_Russia.svg.png 1.5x, //upload.wikimedia.org/wikipedia/en/thumb/f/f3/Flag_of_Russia.svg/45px-Flag_of_Russia.svg.png 2x\" width=\"23\"/></a></span></span> Maria Sharapova</td>\n",
       "<td>6–1, 6–2\n",
       "</td></tr>\n",
       "<tr style=\"background:#cfc;\">\n",
       "<td style=\"background:#ffa07a;\">Loss</td>\n",
       "<td><a href=\"/wiki/2008_Wimbledon_Championships_%E2%80%93_Women%27s_singles\" title=\"2008 Wimbledon Championships – Women's singles\">2008</a></td>\n",
       "<td>Wimbledon</td>\n",
       "<td>Grass</td>\n",
       "<td><span class=\"flagicon\"><span class=\"mw-image-border\" typeof=\"mw:File\"><a href=\"/wiki/United_States\" title=\"United States\"><img alt=\"United States\" class=\"mw-file-element\" data-file-height=\"650\" data-file-width=\"1235\" decoding=\"async\" height=\"12\" src=\"//upload.wikimedia.org/wikipedia/en/thumb/a/a4/Flag_of_the_United_States.svg/23px-Flag_of_the_United_States.svg.png\" srcset=\"//upload.wikimedia.org/wikipedia/en/thumb/a/a4/Flag_of_the_United_States.svg/35px-Flag_of_the_United_States.svg.png 1.5x, //upload.wikimedia.org/wikipedia/en/thumb/a/a4/Flag_of_the_United_States.svg/46px-Flag_of_the_United_States.svg.png 2x\" width=\"23\"/></a></span></span> Venus Williams</td>\n",
       "<td>5–7, 4–6\n",
       "</td></tr>\n",
       "<tr style=\"background:#ccf;\">\n",
       "<td style=\"background:#98fb98;\">Win</td>\n",
       "<td><a href=\"/wiki/2008_US_Open_%E2%80%93_Women%27s_singles\" title=\"2008 US Open – Women's singles\">2008</a></td>\n",
       "<td>US Open <small>(3)</small></td>\n",
       "<td>Hard</td>\n",
       "<td><span class=\"flagicon\"><span class=\"mw-image-border\" typeof=\"mw:File\"><a href=\"/wiki/Serbia\" title=\"Serbia\"><img alt=\"Serbia\" class=\"mw-file-element\" data-file-height=\"600\" data-file-width=\"900\" decoding=\"async\" height=\"15\" src=\"//upload.wikimedia.org/wikipedia/commons/thumb/0/00/Flag_of_Serbia_%282004%E2%80%932010%29.svg/23px-Flag_of_Serbia_%282004%E2%80%932010%29.svg.png\" srcset=\"//upload.wikimedia.org/wikipedia/commons/thumb/0/00/Flag_of_Serbia_%282004%E2%80%932010%29.svg/35px-Flag_of_Serbia_%282004%E2%80%932010%29.svg.png 1.5x, //upload.wikimedia.org/wikipedia/commons/thumb/0/00/Flag_of_Serbia_%282004%E2%80%932010%29.svg/45px-Flag_of_Serbia_%282004%E2%80%932010%29.svg.png 2x\" width=\"23\"/></a></span></span> <a href=\"/wiki/Jelena_Jankovi%C4%87\" title=\"Jelena Janković\">Jelena Janković</a></td>\n",
       "<td>6–4, 7–5\n",
       "</td></tr>\n",
       "<tr style=\"background:#ffc;\">\n",
       "<td style=\"background:#98fb98;\">Win</td>\n",
       "<td><a href=\"/wiki/2009_Australian_Open_%E2%80%93_Women%27s_singles\" title=\"2009 Australian Open – Women's singles\">2009</a></td>\n",
       "<td>Australian Open <small>(4)</small></td>\n",
       "<td>Hard</td>\n",
       "<td><span class=\"flagicon\"><span class=\"mw-image-border\" typeof=\"mw:File\"><a href=\"/wiki/Russia\" title=\"Russia\"><img alt=\"Russia\" class=\"mw-file-element\" data-file-height=\"600\" data-file-width=\"900\" decoding=\"async\" height=\"15\" src=\"//upload.wikimedia.org/wikipedia/en/thumb/f/f3/Flag_of_Russia.svg/23px-Flag_of_Russia.svg.png\" srcset=\"//upload.wikimedia.org/wikipedia/en/thumb/f/f3/Flag_of_Russia.svg/35px-Flag_of_Russia.svg.png 1.5x, //upload.wikimedia.org/wikipedia/en/thumb/f/f3/Flag_of_Russia.svg/45px-Flag_of_Russia.svg.png 2x\" width=\"23\"/></a></span></span> <a href=\"/wiki/Dinara_Safina\" title=\"Dinara Safina\">Dinara Safina</a></td>\n",
       "<td>6–0, 6–3\n",
       "</td></tr>\n",
       "<tr style=\"background:#cfc;\">\n",
       "<td style=\"background:#98fb98;\">Win</td>\n",
       "<td><a href=\"/wiki/2009_Wimbledon_Championships_%E2%80%93_Women%27s_singles\" title=\"2009 Wimbledon Championships – Women's singles\">2009</a></td>\n",
       "<td>Wimbledon <small>(3)</small></td>\n",
       "<td>Grass</td>\n",
       "<td><span class=\"flagicon\"><span class=\"mw-image-border\" typeof=\"mw:File\"><a href=\"/wiki/United_States\" title=\"United States\"><img alt=\"United States\" class=\"mw-file-element\" data-file-height=\"650\" data-file-width=\"1235\" decoding=\"async\" height=\"12\" src=\"//upload.wikimedia.org/wikipedia/en/thumb/a/a4/Flag_of_the_United_States.svg/23px-Flag_of_the_United_States.svg.png\" srcset=\"//upload.wikimedia.org/wikipedia/en/thumb/a/a4/Flag_of_the_United_States.svg/35px-Flag_of_the_United_States.svg.png 1.5x, //upload.wikimedia.org/wikipedia/en/thumb/a/a4/Flag_of_the_United_States.svg/46px-Flag_of_the_United_States.svg.png 2x\" width=\"23\"/></a></span></span> Venus Williams</td>\n",
       "<td>7–6<sup>(7–3)</sup>, 6–2\n",
       "</td></tr>\n",
       "<tr style=\"background:#ffc;\">\n",
       "<td style=\"background:#98fb98;\">Win</td>\n",
       "<td><a href=\"/wiki/2010_Australian_Open_%E2%80%93_Women%27s_singles\" title=\"2010 Australian Open – Women's singles\">2010</a></td>\n",
       "<td>Australian Open <small>(5)</small></td>\n",
       "<td>Hard</td>\n",
       "<td><span class=\"flagicon\"><span class=\"mw-image-border\" typeof=\"mw:File\"><a href=\"/wiki/Belgium\" title=\"Belgium\"><img alt=\"Belgium\" class=\"mw-file-element\" data-file-height=\"600\" data-file-width=\"900\" decoding=\"async\" height=\"15\" src=\"//upload.wikimedia.org/wikipedia/commons/thumb/9/92/Flag_of_Belgium_%28civil%29.svg/23px-Flag_of_Belgium_%28civil%29.svg.png\" srcset=\"//upload.wikimedia.org/wikipedia/commons/thumb/9/92/Flag_of_Belgium_%28civil%29.svg/35px-Flag_of_Belgium_%28civil%29.svg.png 1.5x, //upload.wikimedia.org/wikipedia/commons/thumb/9/92/Flag_of_Belgium_%28civil%29.svg/45px-Flag_of_Belgium_%28civil%29.svg.png 2x\" width=\"23\"/></a></span></span> <a href=\"/wiki/Justine_Henin\" title=\"Justine Henin\">Justine Henin</a></td>\n",
       "<td>6–4, 3–6, 6–2\n",
       "</td></tr>\n",
       "<tr style=\"background:#cfc;\">\n",
       "<td style=\"background:#98fb98;\">Win</td>\n",
       "<td><a href=\"/wiki/2010_Wimbledon_Championships_%E2%80%93_Women%27s_singles\" title=\"2010 Wimbledon Championships – Women's singles\">2010</a></td>\n",
       "<td>Wimbledon <small>(4)</small></td>\n",
       "<td>Grass</td>\n",
       "<td><span class=\"flagicon\"><span class=\"mw-image-border\" typeof=\"mw:File\"><a href=\"/wiki/Russia\" title=\"Russia\"><img alt=\"Russia\" class=\"mw-file-element\" data-file-height=\"600\" data-file-width=\"900\" decoding=\"async\" height=\"15\" src=\"//upload.wikimedia.org/wikipedia/en/thumb/f/f3/Flag_of_Russia.svg/23px-Flag_of_Russia.svg.png\" srcset=\"//upload.wikimedia.org/wikipedia/en/thumb/f/f3/Flag_of_Russia.svg/35px-Flag_of_Russia.svg.png 1.5x, //upload.wikimedia.org/wikipedia/en/thumb/f/f3/Flag_of_Russia.svg/45px-Flag_of_Russia.svg.png 2x\" width=\"23\"/></a></span></span> <a href=\"/wiki/Vera_Zvonareva\" title=\"Vera Zvonareva\">Vera Zvonareva</a></td>\n",
       "<td>6–3, 6–2\n",
       "</td></tr>\n",
       "<tr style=\"background:#ccf;\">\n",
       "<td style=\"background:#ffa07a;\">Loss</td>\n",
       "<td><a href=\"/wiki/2011_US_Open_%E2%80%93_Women%27s_singles\" title=\"2011 US Open – Women's singles\">2011</a></td>\n",
       "<td>US Open</td>\n",
       "<td>Hard</td>\n",
       "<td><span class=\"flagicon\"><span class=\"mw-image-border\" typeof=\"mw:File\"><a href=\"/wiki/Australia\" title=\"Australia\"><img alt=\"Australia\" class=\"mw-file-element\" data-file-height=\"640\" data-file-width=\"1280\" decoding=\"async\" height=\"12\" src=\"//upload.wikimedia.org/wikipedia/commons/thumb/8/88/Flag_of_Australia_%28converted%29.svg/23px-Flag_of_Australia_%28converted%29.svg.png\" srcset=\"//upload.wikimedia.org/wikipedia/commons/thumb/8/88/Flag_of_Australia_%28converted%29.svg/35px-Flag_of_Australia_%28converted%29.svg.png 1.5x, //upload.wikimedia.org/wikipedia/commons/thumb/8/88/Flag_of_Australia_%28converted%29.svg/46px-Flag_of_Australia_%28converted%29.svg.png 2x\" width=\"23\"/></a></span></span> <a href=\"/wiki/Samantha_Stosur\" title=\"Samantha Stosur\">Samantha Stosur</a></td>\n",
       "<td>2–6, 3–6\n",
       "</td></tr>\n",
       "<tr style=\"background:#cfc;\">\n",
       "<td style=\"background:#98fb98;\">Win</td>\n",
       "<td><a href=\"/wiki/2012_Wimbledon_Championships_%E2%80%93_Women%27s_singles\" title=\"2012 Wimbledon Championships – Women's singles\">2012</a></td>\n",
       "<td>Wimbledon <small>(5)</small></td>\n",
       "<td>Grass</td>\n",
       "<td><span class=\"flagicon\"><span class=\"mw-image-border\" typeof=\"mw:File\"><a href=\"/wiki/Poland\" title=\"Poland\"><img alt=\"Poland\" class=\"mw-file-element\" data-file-height=\"800\" data-file-width=\"1280\" decoding=\"async\" height=\"14\" src=\"//upload.wikimedia.org/wikipedia/en/thumb/1/12/Flag_of_Poland.svg/23px-Flag_of_Poland.svg.png\" srcset=\"//upload.wikimedia.org/wikipedia/en/thumb/1/12/Flag_of_Poland.svg/35px-Flag_of_Poland.svg.png 1.5x, //upload.wikimedia.org/wikipedia/en/thumb/1/12/Flag_of_Poland.svg/46px-Flag_of_Poland.svg.png 2x\" width=\"23\"/></a></span></span> <a href=\"/wiki/Agnieszka_Radwa%C5%84ska\" title=\"Agnieszka Radwańska\">Agnieszka Radwańska</a></td>\n",
       "<td>6–1, 5–7, 6–2\n",
       "</td></tr>\n",
       "<tr style=\"background:#ccf;\">\n",
       "<td style=\"background:#98fb98;\">Win</td>\n",
       "<td><a href=\"/wiki/2012_US_Open_%E2%80%93_Women%27s_singles\" title=\"2012 US Open – Women's singles\">2012</a></td>\n",
       "<td>US Open <small>(4)</small></td>\n",
       "<td>Hard</td>\n",
       "<td><span class=\"flagicon\"><span class=\"mw-image-border\" typeof=\"mw:File\"><a href=\"/wiki/Belarus\" title=\"Belarus\"><img alt=\"Belarus\" class=\"mw-file-element\" data-file-height=\"600\" data-file-width=\"1200\" decoding=\"async\" height=\"12\" src=\"//upload.wikimedia.org/wikipedia/commons/thumb/8/85/Flag_of_Belarus.svg/23px-Flag_of_Belarus.svg.png\" srcset=\"//upload.wikimedia.org/wikipedia/commons/thumb/8/85/Flag_of_Belarus.svg/35px-Flag_of_Belarus.svg.png 1.5x, //upload.wikimedia.org/wikipedia/commons/thumb/8/85/Flag_of_Belarus.svg/46px-Flag_of_Belarus.svg.png 2x\" width=\"23\"/></a></span></span> <a href=\"/wiki/Victoria_Azarenka\" title=\"Victoria Azarenka\">Victoria Azarenka</a></td>\n",
       "<td>6–2, 2–6, 7–5\n",
       "</td></tr>\n",
       "<tr style=\"background:#ebc2af;\">\n",
       "<td style=\"background:#98fb98;\">Win</td>\n",
       "<td><a href=\"/wiki/2013_French_Open_%E2%80%93_Women%27s_singles\" title=\"2013 French Open – Women's singles\">2013</a></td>\n",
       "<td>French Open <small>(2)</small></td>\n",
       "<td>Clay</td>\n",
       "<td><span class=\"flagicon\"><span class=\"mw-image-border\" typeof=\"mw:File\"><a href=\"/wiki/Russia\" title=\"Russia\"><img alt=\"Russia\" class=\"mw-file-element\" data-file-height=\"600\" data-file-width=\"900\" decoding=\"async\" height=\"15\" src=\"//upload.wikimedia.org/wikipedia/en/thumb/f/f3/Flag_of_Russia.svg/23px-Flag_of_Russia.svg.png\" srcset=\"//upload.wikimedia.org/wikipedia/en/thumb/f/f3/Flag_of_Russia.svg/35px-Flag_of_Russia.svg.png 1.5x, //upload.wikimedia.org/wikipedia/en/thumb/f/f3/Flag_of_Russia.svg/45px-Flag_of_Russia.svg.png 2x\" width=\"23\"/></a></span></span> Maria Sharapova</td>\n",
       "<td>6–4, 6–4\n",
       "</td></tr>\n",
       "<tr style=\"background:#ccf;\">\n",
       "<td style=\"background:#98fb98;\">Win</td>\n",
       "<td><a href=\"/wiki/2013_US_Open_%E2%80%93_Women%27s_singles\" title=\"2013 US Open – Women's singles\">2013</a></td>\n",
       "<td>US Open <small>(5)</small></td>\n",
       "<td>Hard</td>\n",
       "<td><span class=\"flagicon\"><span class=\"mw-image-border\" typeof=\"mw:File\"><a href=\"/wiki/Belarus\" title=\"Belarus\"><img alt=\"Belarus\" class=\"mw-file-element\" data-file-height=\"600\" data-file-width=\"1200\" decoding=\"async\" height=\"12\" src=\"//upload.wikimedia.org/wikipedia/commons/thumb/8/85/Flag_of_Belarus.svg/23px-Flag_of_Belarus.svg.png\" srcset=\"//upload.wikimedia.org/wikipedia/commons/thumb/8/85/Flag_of_Belarus.svg/35px-Flag_of_Belarus.svg.png 1.5x, //upload.wikimedia.org/wikipedia/commons/thumb/8/85/Flag_of_Belarus.svg/46px-Flag_of_Belarus.svg.png 2x\" width=\"23\"/></a></span></span> Victoria Azarenka</td>\n",
       "<td>7–5, 6–7<sup>(6–8)</sup>, 6–1\n",
       "</td></tr>\n",
       "<tr bgcolor=\"#ccf\" style=\"border: 2px solid blue\">\n",
       "<td style=\"background:#98fb98;\">Win</td>\n",
       "<td><a href=\"/wiki/2014_US_Open_%E2%80%93_Women%27s_singles\" title=\"2014 US Open – Women's singles\">2014</a></td>\n",
       "<td>US Open <small>(6)</small></td>\n",
       "<td>Hard</td>\n",
       "<td><span class=\"flagicon\"><span class=\"mw-image-border\" typeof=\"mw:File\"><a href=\"/wiki/Denmark\" title=\"Denmark\"><img alt=\"Denmark\" class=\"mw-file-element\" data-file-height=\"387\" data-file-width=\"512\" decoding=\"async\" height=\"15\" src=\"//upload.wikimedia.org/wikipedia/commons/thumb/9/9c/Flag_of_Denmark.svg/20px-Flag_of_Denmark.svg.png\" srcset=\"//upload.wikimedia.org/wikipedia/commons/thumb/9/9c/Flag_of_Denmark.svg/31px-Flag_of_Denmark.svg.png 1.5x, //upload.wikimedia.org/wikipedia/commons/thumb/9/9c/Flag_of_Denmark.svg/40px-Flag_of_Denmark.svg.png 2x\" width=\"20\"/></a></span></span> <a href=\"/wiki/Caroline_Wozniacki\" title=\"Caroline Wozniacki\">Caroline Wozniacki</a></td>\n",
       "<td>6–3, 6–3\n",
       "</td></tr>\n",
       "<tr bgcolor=\"#ffc\" style=\"border: 2px solid blue\">\n",
       "<td style=\"background:#98fb98;\">Win</td>\n",
       "<td><a href=\"/wiki/2015_Australian_Open_%E2%80%93_Women%27s_singles\" title=\"2015 Australian Open – Women's singles\">2015</a></td>\n",
       "<td>Australian Open <small>(6)</small></td>\n",
       "<td>Hard</td>\n",
       "<td><span class=\"flagicon\"><span class=\"mw-image-border\" typeof=\"mw:File\"><a href=\"/wiki/Russia\" title=\"Russia\"><img alt=\"Russia\" class=\"mw-file-element\" data-file-height=\"600\" data-file-width=\"900\" decoding=\"async\" height=\"15\" src=\"//upload.wikimedia.org/wikipedia/en/thumb/f/f3/Flag_of_Russia.svg/23px-Flag_of_Russia.svg.png\" srcset=\"//upload.wikimedia.org/wikipedia/en/thumb/f/f3/Flag_of_Russia.svg/35px-Flag_of_Russia.svg.png 1.5x, //upload.wikimedia.org/wikipedia/en/thumb/f/f3/Flag_of_Russia.svg/45px-Flag_of_Russia.svg.png 2x\" width=\"23\"/></a></span></span> Maria Sharapova</td>\n",
       "<td>6–3, 7–6<sup>(7–5)</sup>\n",
       "</td></tr>\n",
       "<tr bgcolor=\"#ebc2af\" style=\"border: 2px solid blue\">\n",
       "<td style=\"background:#98fb98;\">Win</td>\n",
       "<td><a href=\"/wiki/2015_French_Open_%E2%80%93_Women%27s_singles\" title=\"2015 French Open – Women's singles\">2015</a></td>\n",
       "<td>French Open <small>(3)</small></td>\n",
       "<td>Clay</td>\n",
       "<td><span class=\"flagicon\"><span class=\"mw-image-border\" typeof=\"mw:File\"><a href=\"/wiki/Czech_Republic\" title=\"Czech Republic\"><img alt=\"Czech Republic\" class=\"mw-file-element\" data-file-height=\"600\" data-file-width=\"900\" decoding=\"async\" height=\"15\" src=\"//upload.wikimedia.org/wikipedia/commons/thumb/c/cb/Flag_of_the_Czech_Republic.svg/23px-Flag_of_the_Czech_Republic.svg.png\" srcset=\"//upload.wikimedia.org/wikipedia/commons/thumb/c/cb/Flag_of_the_Czech_Republic.svg/35px-Flag_of_the_Czech_Republic.svg.png 1.5x, //upload.wikimedia.org/wikipedia/commons/thumb/c/cb/Flag_of_the_Czech_Republic.svg/45px-Flag_of_the_Czech_Republic.svg.png 2x\" width=\"23\"/></a></span></span> <a href=\"/wiki/Lucie_%C5%A0af%C3%A1%C5%99ov%C3%A1\" title=\"Lucie Šafářová\">Lucie Šafářová</a></td>\n",
       "<td>6–3, 6–7<sup>(2–7)</sup>, 6–2\n",
       "</td></tr>\n",
       "<tr bgcolor=\"#cfc\" style=\"border: 2px solid blue\">\n",
       "<td style=\"background:#98fb98;\">Win</td>\n",
       "<td><a href=\"/wiki/2015_Wimbledon_Championships_%E2%80%93_Women%27s_singles\" title=\"2015 Wimbledon Championships – Women's singles\">2015</a></td>\n",
       "<td>Wimbledon <small>(6)</small></td>\n",
       "<td>Grass</td>\n",
       "<td><span class=\"flagicon\"><span class=\"mw-image-border\" typeof=\"mw:File\"><a href=\"/wiki/Spain\" title=\"Spain\"><img alt=\"Spain\" class=\"mw-file-element\" data-file-height=\"500\" data-file-width=\"750\" decoding=\"async\" height=\"15\" src=\"//upload.wikimedia.org/wikipedia/en/thumb/9/9a/Flag_of_Spain.svg/23px-Flag_of_Spain.svg.png\" srcset=\"//upload.wikimedia.org/wikipedia/en/thumb/9/9a/Flag_of_Spain.svg/35px-Flag_of_Spain.svg.png 1.5x, //upload.wikimedia.org/wikipedia/en/thumb/9/9a/Flag_of_Spain.svg/45px-Flag_of_Spain.svg.png 2x\" width=\"23\"/></a></span></span> <a href=\"/wiki/Garbi%C3%B1e_Muguruza\" title=\"Garbiñe Muguruza\">Garbiñe Muguruza</a></td>\n",
       "<td>6–4, 6–4\n",
       "</td></tr>\n",
       "<tr style=\"background:#ffc;\">\n",
       "<td style=\"background:#ffa07a;\">Loss</td>\n",
       "<td><a href=\"/wiki/2016_Australian_Open_%E2%80%93_Women%27s_singles\" title=\"2016 Australian Open – Women's singles\">2016</a></td>\n",
       "<td>Australian Open</td>\n",
       "<td>Hard</td>\n",
       "<td><span class=\"flagicon\"><span class=\"mw-image-border\" typeof=\"mw:File\"><a href=\"/wiki/Germany\" title=\"Germany\"><img alt=\"Germany\" class=\"mw-file-element\" data-file-height=\"600\" data-file-width=\"1000\" decoding=\"async\" height=\"14\" src=\"//upload.wikimedia.org/wikipedia/en/thumb/b/ba/Flag_of_Germany.svg/23px-Flag_of_Germany.svg.png\" srcset=\"//upload.wikimedia.org/wikipedia/en/thumb/b/ba/Flag_of_Germany.svg/35px-Flag_of_Germany.svg.png 1.5x, //upload.wikimedia.org/wikipedia/en/thumb/b/ba/Flag_of_Germany.svg/46px-Flag_of_Germany.svg.png 2x\" width=\"23\"/></a></span></span> <a href=\"/wiki/Angelique_Kerber\" title=\"Angelique Kerber\">Angelique Kerber</a></td>\n",
       "<td>4–6, 6–3, 4–6\n",
       "</td></tr>\n",
       "<tr style=\"background:#ebc2af;\">\n",
       "<td style=\"background:#ffa07a;\">Loss</td>\n",
       "<td><a href=\"/wiki/2016_French_Open_%E2%80%93_Women%27s_singles\" title=\"2016 French Open – Women's singles\">2016</a></td>\n",
       "<td>French Open</td>\n",
       "<td>Clay</td>\n",
       "<td><span class=\"flagicon\"><span class=\"mw-image-border\" typeof=\"mw:File\"><a href=\"/wiki/Spain\" title=\"Spain\"><img alt=\"Spain\" class=\"mw-file-element\" data-file-height=\"500\" data-file-width=\"750\" decoding=\"async\" height=\"15\" src=\"//upload.wikimedia.org/wikipedia/en/thumb/9/9a/Flag_of_Spain.svg/23px-Flag_of_Spain.svg.png\" srcset=\"//upload.wikimedia.org/wikipedia/en/thumb/9/9a/Flag_of_Spain.svg/35px-Flag_of_Spain.svg.png 1.5x, //upload.wikimedia.org/wikipedia/en/thumb/9/9a/Flag_of_Spain.svg/45px-Flag_of_Spain.svg.png 2x\" width=\"23\"/></a></span></span> Garbiñe Muguruza</td>\n",
       "<td>5–7, 4–6\n",
       "</td></tr>\n",
       "<tr style=\"background:#cfc;\">\n",
       "<td style=\"background:#98fb98;\">Win</td>\n",
       "<td><a href=\"/wiki/2016_Wimbledon_Championships_%E2%80%93_Women%27s_singles\" title=\"2016 Wimbledon Championships – Women's singles\">2016</a></td>\n",
       "<td>Wimbledon <small>(7)</small></td>\n",
       "<td>Grass</td>\n",
       "<td><span class=\"flagicon\"><span class=\"mw-image-border\" typeof=\"mw:File\"><a href=\"/wiki/Germany\" title=\"Germany\"><img alt=\"Germany\" class=\"mw-file-element\" data-file-height=\"600\" data-file-width=\"1000\" decoding=\"async\" height=\"14\" src=\"//upload.wikimedia.org/wikipedia/en/thumb/b/ba/Flag_of_Germany.svg/23px-Flag_of_Germany.svg.png\" srcset=\"//upload.wikimedia.org/wikipedia/en/thumb/b/ba/Flag_of_Germany.svg/35px-Flag_of_Germany.svg.png 1.5x, //upload.wikimedia.org/wikipedia/en/thumb/b/ba/Flag_of_Germany.svg/46px-Flag_of_Germany.svg.png 2x\" width=\"23\"/></a></span></span> Angelique Kerber</td>\n",
       "<td>7–5, 6–3\n",
       "</td></tr>\n",
       "<tr style=\"background:#ffc;\">\n",
       "<td style=\"background:#98fb98;\">Win</td>\n",
       "<td><a href=\"/wiki/2017_Australian_Open\" title=\"2017 Australian Open\">2017</a></td>\n",
       "<td>Australian Open <small>(7)</small></td>\n",
       "<td>Hard</td>\n",
       "<td><span class=\"flagicon\"><span class=\"mw-image-border\" typeof=\"mw:File\"><a href=\"/wiki/United_States\" title=\"United States\"><img alt=\"United States\" class=\"mw-file-element\" data-file-height=\"650\" data-file-width=\"1235\" decoding=\"async\" height=\"12\" src=\"//upload.wikimedia.org/wikipedia/en/thumb/a/a4/Flag_of_the_United_States.svg/23px-Flag_of_the_United_States.svg.png\" srcset=\"//upload.wikimedia.org/wikipedia/en/thumb/a/a4/Flag_of_the_United_States.svg/35px-Flag_of_the_United_States.svg.png 1.5x, //upload.wikimedia.org/wikipedia/en/thumb/a/a4/Flag_of_the_United_States.svg/46px-Flag_of_the_United_States.svg.png 2x\" width=\"23\"/></a></span></span> Venus Williams</td>\n",
       "<td>6–4, 6–4\n",
       "</td></tr>\n",
       "<tr style=\"background:#cfc;\">\n",
       "<td style=\"background:#ffa07a;\">Loss</td>\n",
       "<td><a href=\"/wiki/2018_Wimbledon_Championships_%E2%80%93_Women%27s_singles\" title=\"2018 Wimbledon Championships – Women's singles\">2018</a></td>\n",
       "<td>Wimbledon</td>\n",
       "<td>Grass</td>\n",
       "<td><span class=\"flagicon\"><span class=\"mw-image-border\" typeof=\"mw:File\"><a href=\"/wiki/Germany\" title=\"Germany\"><img alt=\"Germany\" class=\"mw-file-element\" data-file-height=\"600\" data-file-width=\"1000\" decoding=\"async\" height=\"14\" src=\"//upload.wikimedia.org/wikipedia/en/thumb/b/ba/Flag_of_Germany.svg/23px-Flag_of_Germany.svg.png\" srcset=\"//upload.wikimedia.org/wikipedia/en/thumb/b/ba/Flag_of_Germany.svg/35px-Flag_of_Germany.svg.png 1.5x, //upload.wikimedia.org/wikipedia/en/thumb/b/ba/Flag_of_Germany.svg/46px-Flag_of_Germany.svg.png 2x\" width=\"23\"/></a></span></span> Angelique Kerber</td>\n",
       "<td>3–6, 3–6\n",
       "</td></tr>\n",
       "<tr style=\"background:#ccf;\">\n",
       "<td style=\"background:#ffa07a;\">Loss</td>\n",
       "<td><a href=\"/wiki/2018_US_Open_%E2%80%93_Women%27s_singles\" title=\"2018 US Open – Women's singles\">2018</a></td>\n",
       "<td>US Open</td>\n",
       "<td>Hard</td>\n",
       "<td><span class=\"flagicon\"><span class=\"mw-image-border\" typeof=\"mw:File\"><a href=\"/wiki/Japan\" title=\"Japan\"><img alt=\"Japan\" class=\"mw-file-element\" data-file-height=\"600\" data-file-width=\"900\" decoding=\"async\" height=\"15\" src=\"//upload.wikimedia.org/wikipedia/en/thumb/9/9e/Flag_of_Japan.svg/23px-Flag_of_Japan.svg.png\" srcset=\"//upload.wikimedia.org/wikipedia/en/thumb/9/9e/Flag_of_Japan.svg/35px-Flag_of_Japan.svg.png 1.5x, //upload.wikimedia.org/wikipedia/en/thumb/9/9e/Flag_of_Japan.svg/45px-Flag_of_Japan.svg.png 2x\" width=\"23\"/></a></span></span> <a href=\"/wiki/Naomi_Osaka\" title=\"Naomi Osaka\">Naomi Osaka</a></td>\n",
       "<td><a href=\"/wiki/2018_US_Open_%E2%80%93_Women%27s_singles_final\" title=\"2018 US Open – Women's singles final\">2–6, 4–6</a>\n",
       "</td></tr>\n",
       "<tr style=\"background:#cfc;\">\n",
       "<td style=\"background:#ffa07a;\">Loss</td>\n",
       "<td><a href=\"/wiki/2019_Wimbledon_Championships_%E2%80%93_Women%27s_singles\" title=\"2019 Wimbledon Championships – Women's singles\">2019</a></td>\n",
       "<td>Wimbledon</td>\n",
       "<td>Grass</td>\n",
       "<td><span class=\"flagicon\"><span class=\"mw-image-border\" typeof=\"mw:File\"><a href=\"/wiki/Romania\" title=\"Romania\"><img alt=\"Romania\" class=\"mw-file-element\" data-file-height=\"400\" data-file-width=\"600\" decoding=\"async\" height=\"15\" src=\"//upload.wikimedia.org/wikipedia/commons/thumb/7/73/Flag_of_Romania.svg/23px-Flag_of_Romania.svg.png\" srcset=\"//upload.wikimedia.org/wikipedia/commons/thumb/7/73/Flag_of_Romania.svg/35px-Flag_of_Romania.svg.png 1.5x, //upload.wikimedia.org/wikipedia/commons/thumb/7/73/Flag_of_Romania.svg/45px-Flag_of_Romania.svg.png 2x\" width=\"23\"/></a></span></span> <a href=\"/wiki/Simona_Halep\" title=\"Simona Halep\">Simona Halep</a></td>\n",
       "<td>2–6, 2–6\n",
       "</td></tr>\n",
       "<tr style=\"background:#ccf;\">\n",
       "<td style=\"background:#ffa07a;\">Loss</td>\n",
       "<td><a href=\"/wiki/2019_US_Open_%E2%80%93_Women%27s_singles\" title=\"2019 US Open – Women's singles\">2019</a></td>\n",
       "<td>US Open</td>\n",
       "<td>Hard</td>\n",
       "<td><span class=\"flagicon\"><span class=\"mw-image-border\" typeof=\"mw:File\"><a href=\"/wiki/Canada\" title=\"Canada\"><img alt=\"Canada\" class=\"mw-file-element\" data-file-height=\"600\" data-file-width=\"1200\" decoding=\"async\" height=\"12\" src=\"//upload.wikimedia.org/wikipedia/commons/thumb/d/d9/Flag_of_Canada_%28Pantone%29.svg/23px-Flag_of_Canada_%28Pantone%29.svg.png\" srcset=\"//upload.wikimedia.org/wikipedia/commons/thumb/d/d9/Flag_of_Canada_%28Pantone%29.svg/35px-Flag_of_Canada_%28Pantone%29.svg.png 1.5x, //upload.wikimedia.org/wikipedia/commons/thumb/d/d9/Flag_of_Canada_%28Pantone%29.svg/46px-Flag_of_Canada_%28Pantone%29.svg.png 2x\" width=\"23\"/></a></span></span> <a href=\"/wiki/Bianca_Andreescu\" title=\"Bianca Andreescu\">Bianca Andreescu</a></td>\n",
       "<td>3–6, 5–7\n",
       "</td></tr></tbody></table>"
      ]
     },
     "execution_count": 53,
     "metadata": {},
     "output_type": "execute_result"
    }
   ],
   "source": [
    "singles_heading.find_next(\"table\")"
   ]
  },
  {
   "cell_type": "markdown",
   "metadata": {},
   "source": [
    "Now, our tables of interest are the first two result tables for \"Singles\" and \"Women's doubles\". We write a small helper function that returns a table with a given heading:"
   ]
  },
  {
   "cell_type": "code",
   "execution_count": 54,
   "metadata": {},
   "outputs": [],
   "source": [
    "def find_table_with_heading(document, heading_pat):\n",
    "    heading_element = document.find(class_=\"mw-headline\", string=heading_pat)\n",
    "    table = heading_element.find_next(\"table\")\n",
    "    return table"
   ]
  },
  {
   "cell_type": "code",
   "execution_count": 55,
   "metadata": {},
   "outputs": [
    {
     "data": {
      "text/plain": [
       "['Result', 'Year', 'Tournament', 'Surface', 'Opponents', 'Score']"
      ]
     },
     "execution_count": 55,
     "metadata": {},
     "output_type": "execute_result"
    }
   ],
   "source": [
    "singles_table = find_table_with_heading(document, re.compile(\"^Singles\"))\n",
    "# print headers\n",
    "headings = singles_table.find_all(\"th\")\n",
    "[th.get_text(strip=True) for th in headings]"
   ]
  },
  {
   "cell_type": "markdown",
   "metadata": {},
   "source": [
    "Next, we can find the table after the heading \"Women's doubles\""
   ]
  },
  {
   "cell_type": "code",
   "execution_count": 56,
   "metadata": {},
   "outputs": [
    {
     "data": {
      "text/plain": [
       "['Result', 'Year', 'Tournament', 'Surface', 'Partner', 'Opponents', 'Score']"
      ]
     },
     "execution_count": 56,
     "metadata": {},
     "output_type": "execute_result"
    }
   ],
   "source": [
    "doubles_table = find_table_with_heading(document, re.compile(r\"^Women's doubles\"))\n",
    "# print headers\n",
    "headings = doubles_table.find_all(\"th\")\n",
    "[th.get_text(strip=True) for th in headings]"
   ]
  },
  {
   "cell_type": "markdown",
   "metadata": {},
   "source": [
    "## Exercise:\n",
    "\n",
    "- Iterate through the rows\n",
    "- convert year to integer (or date)\n",
    "- strip note '(12)' from event, so the same event has the same string\n",
    "- load into pandas DataFrame (more on pandas in a later lecture)"
   ]
  },
  {
   "cell_type": "code",
   "execution_count": null,
   "metadata": {},
   "outputs": [],
   "source": [
    "re.sub?"
   ]
  },
  {
   "cell_type": "code",
   "execution_count": 61,
   "metadata": {},
   "outputs": [
    {
     "name": "stdout",
     "output_type": "stream",
     "text": [
      "['Win', 1999, 'US Open', 'Hard', 'Martina Hingis', '6–3, 7–6(7–4)']\n",
      "['Loss', 2001, 'US Open', 'Hard', 'Venus Williams', '2–6, 4–6']\n",
      "['Win', 2002, 'French Open', 'Clay', 'Venus Williams', '7–5, 6–3']\n",
      "['Win', 2002, 'Wimbledon', 'Grass', 'Venus Williams', '7–6(7–4), 6–3']\n",
      "['Win', 2002, 'US Open', 'Hard', 'Venus Williams', '6–4, 6–3']\n",
      "['Win', 2003, 'Australian Open', 'Hard', 'Venus Williams', '7–6(7–4), 3–6, 6–4']\n",
      "['Win', 2003, 'Wimbledon', 'Grass', 'Venus Williams', '4–6, 6–4, 6–2']\n",
      "['Loss', 2004, 'Wimbledon', 'Grass', 'Maria Sharapova', '1–6, 4–6']\n",
      "['Win', 2005, 'Australian Open', 'Hard', 'Lindsay Davenport', '2–6, 6–3, 6–0']\n",
      "['Win', 2007, 'Australian Open', 'Hard', 'Maria Sharapova', '6–1, 6–2']\n",
      "['Loss', 2008, 'Wimbledon', 'Grass', 'Venus Williams', '5–7, 4–6']\n",
      "['Win', 2008, 'US Open', 'Hard', 'Jelena Janković', '6–4, 7–5']\n",
      "['Win', 2009, 'Australian Open', 'Hard', 'Dinara Safina', '6–0, 6–3']\n",
      "['Win', 2009, 'Wimbledon', 'Grass', 'Venus Williams', '7–6(7–3), 6–2']\n",
      "['Win', 2010, 'Australian Open', 'Hard', 'Justine Henin', '6–4, 3–6, 6–2']\n",
      "['Win', 2010, 'Wimbledon', 'Grass', 'Vera Zvonareva', '6–3, 6–2']\n",
      "['Loss', 2011, 'US Open', 'Hard', 'Samantha Stosur', '2–6, 3–6']\n",
      "['Win', 2012, 'Wimbledon', 'Grass', 'Agnieszka Radwańska', '6–1, 5–7, 6–2']\n",
      "['Win', 2012, 'US Open', 'Hard', 'Victoria Azarenka', '6–2, 2–6, 7–5']\n",
      "['Win', 2013, 'French Open', 'Clay', 'Maria Sharapova', '6–4, 6–4']\n",
      "['Win', 2013, 'US Open', 'Hard', 'Victoria Azarenka', '7–5, 6–7(6–8), 6–1']\n",
      "['Win', 2014, 'US Open', 'Hard', 'Caroline Wozniacki', '6–3, 6–3']\n",
      "['Win', 2015, 'Australian Open', 'Hard', 'Maria Sharapova', '6–3, 7–6(7–5)']\n",
      "['Win', 2015, 'French Open', 'Clay', 'Lucie Šafářová', '6–3, 6–7(2–7), 6–2']\n",
      "['Win', 2015, 'Wimbledon', 'Grass', 'Garbiñe Muguruza', '6–4, 6–4']\n",
      "['Loss', 2016, 'Australian Open', 'Hard', 'Angelique Kerber', '4–6, 6–3, 4–6']\n",
      "['Loss', 2016, 'French Open', 'Clay', 'Garbiñe Muguruza', '5–7, 4–6']\n",
      "['Win', 2016, 'Wimbledon', 'Grass', 'Angelique Kerber', '7–5, 6–3']\n",
      "['Win', 2017, 'Australian Open', 'Hard', 'Venus Williams', '6–4, 6–4']\n",
      "['Loss', 2018, 'Wimbledon', 'Grass', 'Angelique Kerber', '3–6, 3–6']\n",
      "['Loss', 2018, 'US Open', 'Hard', 'Naomi Osaka', '2–6, 4–6']\n",
      "['Loss', 2019, 'Wimbledon', 'Grass', 'Simona Halep', '2–6, 2–6']\n",
      "['Loss', 2019, 'US Open', 'Hard', 'Bianca Andreescu', '3–6, 5–7']\n"
     ]
    }
   ],
   "source": [
    "data = []\n",
    "for row in singles_table.find_all(\"tr\"):\n",
    "    cells = row.find_all(\"td\")\n",
    "    if not cells:\n",
    "        continue\n",
    "    values = [cell.get_text(strip=True) for cell in cells]\n",
    "    values[1] = int(values[1])\n",
    "    values[2] = re.sub(r\"\\s*\\(.+\\)\", \"\", values[2])\n",
    "    print(values)\n",
    "    data.append(values)"
   ]
  },
  {
   "cell_type": "markdown",
   "metadata": {},
   "source": [
    "When data is in this form, we can convert it into a DataFrame with pandas.\n",
    "\n",
    "You'll learn more about pandas next week."
   ]
  },
  {
   "cell_type": "code",
   "execution_count": 62,
   "metadata": {},
   "outputs": [
    {
     "data": {
      "text/html": [
       "<div>\n",
       "<style scoped>\n",
       "    .dataframe tbody tr th:only-of-type {\n",
       "        vertical-align: middle;\n",
       "    }\n",
       "\n",
       "    .dataframe tbody tr th {\n",
       "        vertical-align: top;\n",
       "    }\n",
       "\n",
       "    .dataframe thead th {\n",
       "        text-align: right;\n",
       "    }\n",
       "</style>\n",
       "<table border=\"1\" class=\"dataframe\">\n",
       "  <thead>\n",
       "    <tr style=\"text-align: right;\">\n",
       "      <th></th>\n",
       "      <th>Result</th>\n",
       "      <th>Year</th>\n",
       "      <th>Tournament</th>\n",
       "      <th>Surface</th>\n",
       "      <th>Opponents</th>\n",
       "      <th>Score</th>\n",
       "    </tr>\n",
       "  </thead>\n",
       "  <tbody>\n",
       "    <tr>\n",
       "      <th>0</th>\n",
       "      <td>Win</td>\n",
       "      <td>1999</td>\n",
       "      <td>US Open</td>\n",
       "      <td>Hard</td>\n",
       "      <td>Martina Hingis</td>\n",
       "      <td>6–3, 7–6(7–4)</td>\n",
       "    </tr>\n",
       "    <tr>\n",
       "      <th>1</th>\n",
       "      <td>Loss</td>\n",
       "      <td>2001</td>\n",
       "      <td>US Open</td>\n",
       "      <td>Hard</td>\n",
       "      <td>Venus Williams</td>\n",
       "      <td>2–6, 4–6</td>\n",
       "    </tr>\n",
       "    <tr>\n",
       "      <th>2</th>\n",
       "      <td>Win</td>\n",
       "      <td>2002</td>\n",
       "      <td>French Open</td>\n",
       "      <td>Clay</td>\n",
       "      <td>Venus Williams</td>\n",
       "      <td>7–5, 6–3</td>\n",
       "    </tr>\n",
       "    <tr>\n",
       "      <th>3</th>\n",
       "      <td>Win</td>\n",
       "      <td>2002</td>\n",
       "      <td>Wimbledon</td>\n",
       "      <td>Grass</td>\n",
       "      <td>Venus Williams</td>\n",
       "      <td>7–6(7–4), 6–3</td>\n",
       "    </tr>\n",
       "    <tr>\n",
       "      <th>4</th>\n",
       "      <td>Win</td>\n",
       "      <td>2002</td>\n",
       "      <td>US Open</td>\n",
       "      <td>Hard</td>\n",
       "      <td>Venus Williams</td>\n",
       "      <td>6–4, 6–3</td>\n",
       "    </tr>\n",
       "    <tr>\n",
       "      <th>5</th>\n",
       "      <td>Win</td>\n",
       "      <td>2003</td>\n",
       "      <td>Australian Open</td>\n",
       "      <td>Hard</td>\n",
       "      <td>Venus Williams</td>\n",
       "      <td>7–6(7–4), 3–6, 6–4</td>\n",
       "    </tr>\n",
       "    <tr>\n",
       "      <th>6</th>\n",
       "      <td>Win</td>\n",
       "      <td>2003</td>\n",
       "      <td>Wimbledon</td>\n",
       "      <td>Grass</td>\n",
       "      <td>Venus Williams</td>\n",
       "      <td>4–6, 6–4, 6–2</td>\n",
       "    </tr>\n",
       "    <tr>\n",
       "      <th>7</th>\n",
       "      <td>Loss</td>\n",
       "      <td>2004</td>\n",
       "      <td>Wimbledon</td>\n",
       "      <td>Grass</td>\n",
       "      <td>Maria Sharapova</td>\n",
       "      <td>1–6, 4–6</td>\n",
       "    </tr>\n",
       "    <tr>\n",
       "      <th>8</th>\n",
       "      <td>Win</td>\n",
       "      <td>2005</td>\n",
       "      <td>Australian Open</td>\n",
       "      <td>Hard</td>\n",
       "      <td>Lindsay Davenport</td>\n",
       "      <td>2–6, 6–3, 6–0</td>\n",
       "    </tr>\n",
       "    <tr>\n",
       "      <th>9</th>\n",
       "      <td>Win</td>\n",
       "      <td>2007</td>\n",
       "      <td>Australian Open</td>\n",
       "      <td>Hard</td>\n",
       "      <td>Maria Sharapova</td>\n",
       "      <td>6–1, 6–2</td>\n",
       "    </tr>\n",
       "    <tr>\n",
       "      <th>10</th>\n",
       "      <td>Loss</td>\n",
       "      <td>2008</td>\n",
       "      <td>Wimbledon</td>\n",
       "      <td>Grass</td>\n",
       "      <td>Venus Williams</td>\n",
       "      <td>5–7, 4–6</td>\n",
       "    </tr>\n",
       "    <tr>\n",
       "      <th>11</th>\n",
       "      <td>Win</td>\n",
       "      <td>2008</td>\n",
       "      <td>US Open</td>\n",
       "      <td>Hard</td>\n",
       "      <td>Jelena Janković</td>\n",
       "      <td>6–4, 7–5</td>\n",
       "    </tr>\n",
       "    <tr>\n",
       "      <th>12</th>\n",
       "      <td>Win</td>\n",
       "      <td>2009</td>\n",
       "      <td>Australian Open</td>\n",
       "      <td>Hard</td>\n",
       "      <td>Dinara Safina</td>\n",
       "      <td>6–0, 6–3</td>\n",
       "    </tr>\n",
       "    <tr>\n",
       "      <th>13</th>\n",
       "      <td>Win</td>\n",
       "      <td>2009</td>\n",
       "      <td>Wimbledon</td>\n",
       "      <td>Grass</td>\n",
       "      <td>Venus Williams</td>\n",
       "      <td>7–6(7–3), 6–2</td>\n",
       "    </tr>\n",
       "    <tr>\n",
       "      <th>14</th>\n",
       "      <td>Win</td>\n",
       "      <td>2010</td>\n",
       "      <td>Australian Open</td>\n",
       "      <td>Hard</td>\n",
       "      <td>Justine Henin</td>\n",
       "      <td>6–4, 3–6, 6–2</td>\n",
       "    </tr>\n",
       "    <tr>\n",
       "      <th>15</th>\n",
       "      <td>Win</td>\n",
       "      <td>2010</td>\n",
       "      <td>Wimbledon</td>\n",
       "      <td>Grass</td>\n",
       "      <td>Vera Zvonareva</td>\n",
       "      <td>6–3, 6–2</td>\n",
       "    </tr>\n",
       "    <tr>\n",
       "      <th>16</th>\n",
       "      <td>Loss</td>\n",
       "      <td>2011</td>\n",
       "      <td>US Open</td>\n",
       "      <td>Hard</td>\n",
       "      <td>Samantha Stosur</td>\n",
       "      <td>2–6, 3–6</td>\n",
       "    </tr>\n",
       "    <tr>\n",
       "      <th>17</th>\n",
       "      <td>Win</td>\n",
       "      <td>2012</td>\n",
       "      <td>Wimbledon</td>\n",
       "      <td>Grass</td>\n",
       "      <td>Agnieszka Radwańska</td>\n",
       "      <td>6–1, 5–7, 6–2</td>\n",
       "    </tr>\n",
       "    <tr>\n",
       "      <th>18</th>\n",
       "      <td>Win</td>\n",
       "      <td>2012</td>\n",
       "      <td>US Open</td>\n",
       "      <td>Hard</td>\n",
       "      <td>Victoria Azarenka</td>\n",
       "      <td>6–2, 2–6, 7–5</td>\n",
       "    </tr>\n",
       "    <tr>\n",
       "      <th>19</th>\n",
       "      <td>Win</td>\n",
       "      <td>2013</td>\n",
       "      <td>French Open</td>\n",
       "      <td>Clay</td>\n",
       "      <td>Maria Sharapova</td>\n",
       "      <td>6–4, 6–4</td>\n",
       "    </tr>\n",
       "    <tr>\n",
       "      <th>20</th>\n",
       "      <td>Win</td>\n",
       "      <td>2013</td>\n",
       "      <td>US Open</td>\n",
       "      <td>Hard</td>\n",
       "      <td>Victoria Azarenka</td>\n",
       "      <td>7–5, 6–7(6–8), 6–1</td>\n",
       "    </tr>\n",
       "    <tr>\n",
       "      <th>21</th>\n",
       "      <td>Win</td>\n",
       "      <td>2014</td>\n",
       "      <td>US Open</td>\n",
       "      <td>Hard</td>\n",
       "      <td>Caroline Wozniacki</td>\n",
       "      <td>6–3, 6–3</td>\n",
       "    </tr>\n",
       "    <tr>\n",
       "      <th>22</th>\n",
       "      <td>Win</td>\n",
       "      <td>2015</td>\n",
       "      <td>Australian Open</td>\n",
       "      <td>Hard</td>\n",
       "      <td>Maria Sharapova</td>\n",
       "      <td>6–3, 7–6(7–5)</td>\n",
       "    </tr>\n",
       "    <tr>\n",
       "      <th>23</th>\n",
       "      <td>Win</td>\n",
       "      <td>2015</td>\n",
       "      <td>French Open</td>\n",
       "      <td>Clay</td>\n",
       "      <td>Lucie Šafářová</td>\n",
       "      <td>6–3, 6–7(2–7), 6–2</td>\n",
       "    </tr>\n",
       "    <tr>\n",
       "      <th>24</th>\n",
       "      <td>Win</td>\n",
       "      <td>2015</td>\n",
       "      <td>Wimbledon</td>\n",
       "      <td>Grass</td>\n",
       "      <td>Garbiñe Muguruza</td>\n",
       "      <td>6–4, 6–4</td>\n",
       "    </tr>\n",
       "    <tr>\n",
       "      <th>25</th>\n",
       "      <td>Loss</td>\n",
       "      <td>2016</td>\n",
       "      <td>Australian Open</td>\n",
       "      <td>Hard</td>\n",
       "      <td>Angelique Kerber</td>\n",
       "      <td>4–6, 6–3, 4–6</td>\n",
       "    </tr>\n",
       "    <tr>\n",
       "      <th>26</th>\n",
       "      <td>Loss</td>\n",
       "      <td>2016</td>\n",
       "      <td>French Open</td>\n",
       "      <td>Clay</td>\n",
       "      <td>Garbiñe Muguruza</td>\n",
       "      <td>5–7, 4–6</td>\n",
       "    </tr>\n",
       "    <tr>\n",
       "      <th>27</th>\n",
       "      <td>Win</td>\n",
       "      <td>2016</td>\n",
       "      <td>Wimbledon</td>\n",
       "      <td>Grass</td>\n",
       "      <td>Angelique Kerber</td>\n",
       "      <td>7–5, 6–3</td>\n",
       "    </tr>\n",
       "    <tr>\n",
       "      <th>28</th>\n",
       "      <td>Win</td>\n",
       "      <td>2017</td>\n",
       "      <td>Australian Open</td>\n",
       "      <td>Hard</td>\n",
       "      <td>Venus Williams</td>\n",
       "      <td>6–4, 6–4</td>\n",
       "    </tr>\n",
       "    <tr>\n",
       "      <th>29</th>\n",
       "      <td>Loss</td>\n",
       "      <td>2018</td>\n",
       "      <td>Wimbledon</td>\n",
       "      <td>Grass</td>\n",
       "      <td>Angelique Kerber</td>\n",
       "      <td>3–6, 3–6</td>\n",
       "    </tr>\n",
       "    <tr>\n",
       "      <th>30</th>\n",
       "      <td>Loss</td>\n",
       "      <td>2018</td>\n",
       "      <td>US Open</td>\n",
       "      <td>Hard</td>\n",
       "      <td>Naomi Osaka</td>\n",
       "      <td>2–6, 4–6</td>\n",
       "    </tr>\n",
       "    <tr>\n",
       "      <th>31</th>\n",
       "      <td>Loss</td>\n",
       "      <td>2019</td>\n",
       "      <td>Wimbledon</td>\n",
       "      <td>Grass</td>\n",
       "      <td>Simona Halep</td>\n",
       "      <td>2–6, 2–6</td>\n",
       "    </tr>\n",
       "    <tr>\n",
       "      <th>32</th>\n",
       "      <td>Loss</td>\n",
       "      <td>2019</td>\n",
       "      <td>US Open</td>\n",
       "      <td>Hard</td>\n",
       "      <td>Bianca Andreescu</td>\n",
       "      <td>3–6, 5–7</td>\n",
       "    </tr>\n",
       "  </tbody>\n",
       "</table>\n",
       "</div>"
      ],
      "text/plain": [
       "   Result  Year       Tournament Surface            Opponents  \\\n",
       "0     Win  1999          US Open    Hard       Martina Hingis   \n",
       "1    Loss  2001          US Open    Hard       Venus Williams   \n",
       "2     Win  2002      French Open    Clay       Venus Williams   \n",
       "3     Win  2002        Wimbledon   Grass       Venus Williams   \n",
       "4     Win  2002          US Open    Hard       Venus Williams   \n",
       "5     Win  2003  Australian Open    Hard       Venus Williams   \n",
       "6     Win  2003        Wimbledon   Grass       Venus Williams   \n",
       "7    Loss  2004        Wimbledon   Grass      Maria Sharapova   \n",
       "8     Win  2005  Australian Open    Hard    Lindsay Davenport   \n",
       "9     Win  2007  Australian Open    Hard      Maria Sharapova   \n",
       "10   Loss  2008        Wimbledon   Grass       Venus Williams   \n",
       "11    Win  2008          US Open    Hard      Jelena Janković   \n",
       "12    Win  2009  Australian Open    Hard        Dinara Safina   \n",
       "13    Win  2009        Wimbledon   Grass       Venus Williams   \n",
       "14    Win  2010  Australian Open    Hard        Justine Henin   \n",
       "15    Win  2010        Wimbledon   Grass       Vera Zvonareva   \n",
       "16   Loss  2011          US Open    Hard      Samantha Stosur   \n",
       "17    Win  2012        Wimbledon   Grass  Agnieszka Radwańska   \n",
       "18    Win  2012          US Open    Hard    Victoria Azarenka   \n",
       "19    Win  2013      French Open    Clay      Maria Sharapova   \n",
       "20    Win  2013          US Open    Hard    Victoria Azarenka   \n",
       "21    Win  2014          US Open    Hard   Caroline Wozniacki   \n",
       "22    Win  2015  Australian Open    Hard      Maria Sharapova   \n",
       "23    Win  2015      French Open    Clay       Lucie Šafářová   \n",
       "24    Win  2015        Wimbledon   Grass     Garbiñe Muguruza   \n",
       "25   Loss  2016  Australian Open    Hard     Angelique Kerber   \n",
       "26   Loss  2016      French Open    Clay     Garbiñe Muguruza   \n",
       "27    Win  2016        Wimbledon   Grass     Angelique Kerber   \n",
       "28    Win  2017  Australian Open    Hard       Venus Williams   \n",
       "29   Loss  2018        Wimbledon   Grass     Angelique Kerber   \n",
       "30   Loss  2018          US Open    Hard          Naomi Osaka   \n",
       "31   Loss  2019        Wimbledon   Grass         Simona Halep   \n",
       "32   Loss  2019          US Open    Hard     Bianca Andreescu   \n",
       "\n",
       "                 Score  \n",
       "0        6–3, 7–6(7–4)  \n",
       "1             2–6, 4–6  \n",
       "2             7–5, 6–3  \n",
       "3        7–6(7–4), 6–3  \n",
       "4             6–4, 6–3  \n",
       "5   7–6(7–4), 3–6, 6–4  \n",
       "6        4–6, 6–4, 6–2  \n",
       "7             1–6, 4–6  \n",
       "8        2–6, 6–3, 6–0  \n",
       "9             6–1, 6–2  \n",
       "10            5–7, 4–6  \n",
       "11            6–4, 7–5  \n",
       "12            6–0, 6–3  \n",
       "13       7–6(7–3), 6–2  \n",
       "14       6–4, 3–6, 6–2  \n",
       "15            6–3, 6–2  \n",
       "16            2–6, 3–6  \n",
       "17       6–1, 5–7, 6–2  \n",
       "18       6–2, 2–6, 7–5  \n",
       "19            6–4, 6–4  \n",
       "20  7–5, 6–7(6–8), 6–1  \n",
       "21            6–3, 6–3  \n",
       "22       6–3, 7–6(7–5)  \n",
       "23  6–3, 6–7(2–7), 6–2  \n",
       "24            6–4, 6–4  \n",
       "25       4–6, 6–3, 4–6  \n",
       "26            5–7, 4–6  \n",
       "27            7–5, 6–3  \n",
       "28            6–4, 6–4  \n",
       "29            3–6, 3–6  \n",
       "30            2–6, 4–6  \n",
       "31            2–6, 2–6  \n",
       "32            3–6, 5–7  "
      ]
     },
     "execution_count": 62,
     "metadata": {},
     "output_type": "execute_result"
    }
   ],
   "source": [
    "import pandas as pd\n",
    "\n",
    "headings = [th.get_text(strip=True) for th in singles_table.find_all(\"th\")]\n",
    "df = pd.DataFrame(data, columns=headings)\n",
    "df"
   ]
  },
  {
   "cell_type": "markdown",
   "metadata": {},
   "source": [
    "With pandas, we can filter this data, group it, and plot interesting relationships.\n",
    "\n",
    "Pandas `groupby` is an interesting operation for performing aggregations,\n",
    "e.g. counting the wins/losses by year and result:"
   ]
  },
  {
   "cell_type": "code",
   "execution_count": 63,
   "metadata": {},
   "outputs": [
    {
     "data": {
      "text/plain": [
       "Result\n",
       "Win     23\n",
       "Loss    10\n",
       "Name: count, dtype: int64"
      ]
     },
     "execution_count": 63,
     "metadata": {},
     "output_type": "execute_result"
    }
   ],
   "source": [
    "df.Result.value_counts()"
   ]
  },
  {
   "cell_type": "code",
   "execution_count": 64,
   "metadata": {},
   "outputs": [
    {
     "data": {
      "text/html": [
       "<div>\n",
       "<style scoped>\n",
       "    .dataframe tbody tr th:only-of-type {\n",
       "        vertical-align: middle;\n",
       "    }\n",
       "\n",
       "    .dataframe tbody tr th {\n",
       "        vertical-align: top;\n",
       "    }\n",
       "\n",
       "    .dataframe thead th {\n",
       "        text-align: right;\n",
       "    }\n",
       "</style>\n",
       "<table border=\"1\" class=\"dataframe\">\n",
       "  <thead>\n",
       "    <tr style=\"text-align: right;\">\n",
       "      <th>Result</th>\n",
       "      <th>Loss</th>\n",
       "      <th>Win</th>\n",
       "    </tr>\n",
       "    <tr>\n",
       "      <th>Year</th>\n",
       "      <th></th>\n",
       "      <th></th>\n",
       "    </tr>\n",
       "  </thead>\n",
       "  <tbody>\n",
       "    <tr>\n",
       "      <th>1999</th>\n",
       "      <td>0.0</td>\n",
       "      <td>1.0</td>\n",
       "    </tr>\n",
       "    <tr>\n",
       "      <th>2001</th>\n",
       "      <td>1.0</td>\n",
       "      <td>0.0</td>\n",
       "    </tr>\n",
       "    <tr>\n",
       "      <th>2002</th>\n",
       "      <td>0.0</td>\n",
       "      <td>3.0</td>\n",
       "    </tr>\n",
       "    <tr>\n",
       "      <th>2003</th>\n",
       "      <td>0.0</td>\n",
       "      <td>2.0</td>\n",
       "    </tr>\n",
       "    <tr>\n",
       "      <th>2004</th>\n",
       "      <td>1.0</td>\n",
       "      <td>0.0</td>\n",
       "    </tr>\n",
       "    <tr>\n",
       "      <th>2005</th>\n",
       "      <td>0.0</td>\n",
       "      <td>1.0</td>\n",
       "    </tr>\n",
       "    <tr>\n",
       "      <th>2007</th>\n",
       "      <td>0.0</td>\n",
       "      <td>1.0</td>\n",
       "    </tr>\n",
       "    <tr>\n",
       "      <th>2008</th>\n",
       "      <td>1.0</td>\n",
       "      <td>1.0</td>\n",
       "    </tr>\n",
       "    <tr>\n",
       "      <th>2009</th>\n",
       "      <td>0.0</td>\n",
       "      <td>2.0</td>\n",
       "    </tr>\n",
       "    <tr>\n",
       "      <th>2010</th>\n",
       "      <td>0.0</td>\n",
       "      <td>2.0</td>\n",
       "    </tr>\n",
       "    <tr>\n",
       "      <th>2011</th>\n",
       "      <td>1.0</td>\n",
       "      <td>0.0</td>\n",
       "    </tr>\n",
       "    <tr>\n",
       "      <th>2012</th>\n",
       "      <td>0.0</td>\n",
       "      <td>2.0</td>\n",
       "    </tr>\n",
       "    <tr>\n",
       "      <th>2013</th>\n",
       "      <td>0.0</td>\n",
       "      <td>2.0</td>\n",
       "    </tr>\n",
       "    <tr>\n",
       "      <th>2014</th>\n",
       "      <td>0.0</td>\n",
       "      <td>1.0</td>\n",
       "    </tr>\n",
       "    <tr>\n",
       "      <th>2015</th>\n",
       "      <td>0.0</td>\n",
       "      <td>3.0</td>\n",
       "    </tr>\n",
       "    <tr>\n",
       "      <th>2016</th>\n",
       "      <td>2.0</td>\n",
       "      <td>1.0</td>\n",
       "    </tr>\n",
       "    <tr>\n",
       "      <th>2017</th>\n",
       "      <td>0.0</td>\n",
       "      <td>1.0</td>\n",
       "    </tr>\n",
       "    <tr>\n",
       "      <th>2018</th>\n",
       "      <td>2.0</td>\n",
       "      <td>0.0</td>\n",
       "    </tr>\n",
       "    <tr>\n",
       "      <th>2019</th>\n",
       "      <td>2.0</td>\n",
       "      <td>0.0</td>\n",
       "    </tr>\n",
       "  </tbody>\n",
       "</table>\n",
       "</div>"
      ],
      "text/plain": [
       "Result  Loss  Win\n",
       "Year             \n",
       "1999     0.0  1.0\n",
       "2001     1.0  0.0\n",
       "2002     0.0  3.0\n",
       "2003     0.0  2.0\n",
       "2004     1.0  0.0\n",
       "2005     0.0  1.0\n",
       "2007     0.0  1.0\n",
       "2008     1.0  1.0\n",
       "2009     0.0  2.0\n",
       "2010     0.0  2.0\n",
       "2011     1.0  0.0\n",
       "2012     0.0  2.0\n",
       "2013     0.0  2.0\n",
       "2014     0.0  1.0\n",
       "2015     0.0  3.0\n",
       "2016     2.0  1.0\n",
       "2017     0.0  1.0\n",
       "2018     2.0  0.0\n",
       "2019     2.0  0.0"
      ]
     },
     "execution_count": 64,
     "metadata": {},
     "output_type": "execute_result"
    }
   ],
   "source": [
    "results_by_year = df.groupby([\"Year\", \"Result\"]).Tournament.count().unstack().fillna(0)\n",
    "results_by_year"
   ]
  },
  {
   "cell_type": "markdown",
   "metadata": {},
   "source": [
    "Which we can now plot"
   ]
  },
  {
   "cell_type": "code",
   "execution_count": 65,
   "metadata": {},
   "outputs": [
    {
     "data": {
      "text/plain": [
       "<Axes: xlabel='Year'>"
      ]
     },
     "execution_count": 65,
     "metadata": {},
     "output_type": "execute_result"
    },
    {
     "data": {
      "image/png": "[encoded data removed]",
      "text/plain": [
       "<Figure size 1000x618.034 with 1 Axes>"
      ]
     },
     "metadata": {
      "image/png": {
       "height": 560,
       "width": 826
      }
     },
     "output_type": "display_data"
    }
   ],
   "source": [
    "results_by_year.plot(kind=\"bar\", grid=False)"
   ]
  },
  {
   "cell_type": "markdown",
   "metadata": {},
   "source": [
    "Is there any significance to the court?"
   ]
  },
  {
   "cell_type": "code",
   "execution_count": 68,
   "metadata": {},
   "outputs": [
    {
     "data": {
      "text/html": [
       "<div>\n",
       "<style scoped>\n",
       "    .dataframe tbody tr th:only-of-type {\n",
       "        vertical-align: middle;\n",
       "    }\n",
       "\n",
       "    .dataframe tbody tr th {\n",
       "        vertical-align: top;\n",
       "    }\n",
       "\n",
       "    .dataframe thead th {\n",
       "        text-align: right;\n",
       "    }\n",
       "</style>\n",
       "<table border=\"1\" class=\"dataframe\">\n",
       "  <thead>\n",
       "    <tr style=\"text-align: right;\">\n",
       "      <th>Result</th>\n",
       "      <th>Loss</th>\n",
       "      <th>Win</th>\n",
       "    </tr>\n",
       "    <tr>\n",
       "      <th>Tournament</th>\n",
       "      <th></th>\n",
       "      <th></th>\n",
       "    </tr>\n",
       "  </thead>\n",
       "  <tbody>\n",
       "    <tr>\n",
       "      <th>Australian Open</th>\n",
       "      <td>1</td>\n",
       "      <td>7</td>\n",
       "    </tr>\n",
       "    <tr>\n",
       "      <th>French Open</th>\n",
       "      <td>1</td>\n",
       "      <td>3</td>\n",
       "    </tr>\n",
       "    <tr>\n",
       "      <th>US Open</th>\n",
       "      <td>4</td>\n",
       "      <td>6</td>\n",
       "    </tr>\n",
       "    <tr>\n",
       "      <th>Wimbledon</th>\n",
       "      <td>4</td>\n",
       "      <td>7</td>\n",
       "    </tr>\n",
       "  </tbody>\n",
       "</table>\n",
       "</div>"
      ],
      "text/plain": [
       "Result           Loss  Win\n",
       "Tournament                \n",
       "Australian Open     1    7\n",
       "French Open         1    3\n",
       "US Open             4    6\n",
       "Wimbledon           4    7"
      ]
     },
     "execution_count": 68,
     "metadata": {},
     "output_type": "execute_result"
    }
   ],
   "source": [
    "results_by_surface = df.groupby([\"Surface\", \"Result\"]).Tournament.count().unstack()\n",
    "results_by_surface"
   ]
  },
  {
   "cell_type": "code",
   "execution_count": 69,
   "metadata": {},
   "outputs": [
    {
     "data": {
      "text/plain": [
       "<Axes: xlabel='Tournament'>"
      ]
     },
     "execution_count": 69,
     "metadata": {},
     "output_type": "execute_result"
    },
    {
     "data": {
      "image/png": "[encoded data removed]",
      "text/plain": [
       "<Figure size 1000x618.034 with 1 Axes>"
      ]
     },
     "metadata": {
      "image/png": {
       "height": 636,
       "width": 813
      }
     },
     "output_type": "display_data"
    }
   ],
   "source": [
    "results_by_surface.plot(kind=\"bar\")"
   ]
  },
  {
   "cell_type": "markdown",
   "metadata": {},
   "source": [
    "We can even filter to e.g. select opponents who Williams faced at least twice"
   ]
  },
  {
   "cell_type": "code",
   "execution_count": 70,
   "metadata": {},
   "outputs": [
    {
     "data": {
      "text/html": [
       "<div>\n",
       "<style scoped>\n",
       "    .dataframe tbody tr th:only-of-type {\n",
       "        vertical-align: middle;\n",
       "    }\n",
       "\n",
       "    .dataframe tbody tr th {\n",
       "        vertical-align: top;\n",
       "    }\n",
       "\n",
       "    .dataframe thead th {\n",
       "        text-align: right;\n",
       "    }\n",
       "</style>\n",
       "<table border=\"1\" class=\"dataframe\">\n",
       "  <thead>\n",
       "    <tr style=\"text-align: right;\">\n",
       "      <th>Result</th>\n",
       "      <th>Loss</th>\n",
       "      <th>Win</th>\n",
       "    </tr>\n",
       "    <tr>\n",
       "      <th>Opponents</th>\n",
       "      <th></th>\n",
       "      <th></th>\n",
       "    </tr>\n",
       "  </thead>\n",
       "  <tbody>\n",
       "    <tr>\n",
       "      <th>Agnieszka Radwańska</th>\n",
       "      <td>NaN</td>\n",
       "      <td>1.0</td>\n",
       "    </tr>\n",
       "    <tr>\n",
       "      <th>Angelique Kerber</th>\n",
       "      <td>2.0</td>\n",
       "      <td>1.0</td>\n",
       "    </tr>\n",
       "    <tr>\n",
       "      <th>Bianca Andreescu</th>\n",
       "      <td>1.0</td>\n",
       "      <td>NaN</td>\n",
       "    </tr>\n",
       "    <tr>\n",
       "      <th>Caroline Wozniacki</th>\n",
       "      <td>NaN</td>\n",
       "      <td>1.0</td>\n",
       "    </tr>\n",
       "    <tr>\n",
       "      <th>Dinara Safina</th>\n",
       "      <td>NaN</td>\n",
       "      <td>1.0</td>\n",
       "    </tr>\n",
       "    <tr>\n",
       "      <th>Garbiñe Muguruza</th>\n",
       "      <td>1.0</td>\n",
       "      <td>1.0</td>\n",
       "    </tr>\n",
       "    <tr>\n",
       "      <th>Jelena Janković</th>\n",
       "      <td>NaN</td>\n",
       "      <td>1.0</td>\n",
       "    </tr>\n",
       "    <tr>\n",
       "      <th>Justine Henin</th>\n",
       "      <td>NaN</td>\n",
       "      <td>1.0</td>\n",
       "    </tr>\n",
       "    <tr>\n",
       "      <th>Lindsay Davenport</th>\n",
       "      <td>NaN</td>\n",
       "      <td>1.0</td>\n",
       "    </tr>\n",
       "    <tr>\n",
       "      <th>Lucie Šafářová</th>\n",
       "      <td>NaN</td>\n",
       "      <td>1.0</td>\n",
       "    </tr>\n",
       "    <tr>\n",
       "      <th>Maria Sharapova</th>\n",
       "      <td>1.0</td>\n",
       "      <td>3.0</td>\n",
       "    </tr>\n",
       "    <tr>\n",
       "      <th>Martina Hingis</th>\n",
       "      <td>NaN</td>\n",
       "      <td>1.0</td>\n",
       "    </tr>\n",
       "    <tr>\n",
       "      <th>Naomi Osaka</th>\n",
       "      <td>1.0</td>\n",
       "      <td>NaN</td>\n",
       "    </tr>\n",
       "    <tr>\n",
       "      <th>Samantha Stosur</th>\n",
       "      <td>1.0</td>\n",
       "      <td>NaN</td>\n",
       "    </tr>\n",
       "    <tr>\n",
       "      <th>Simona Halep</th>\n",
       "      <td>1.0</td>\n",
       "      <td>NaN</td>\n",
       "    </tr>\n",
       "    <tr>\n",
       "      <th>Venus Williams</th>\n",
       "      <td>2.0</td>\n",
       "      <td>7.0</td>\n",
       "    </tr>\n",
       "    <tr>\n",
       "      <th>Vera Zvonareva</th>\n",
       "      <td>NaN</td>\n",
       "      <td>1.0</td>\n",
       "    </tr>\n",
       "    <tr>\n",
       "      <th>Victoria Azarenka</th>\n",
       "      <td>NaN</td>\n",
       "      <td>2.0</td>\n",
       "    </tr>\n",
       "  </tbody>\n",
       "</table>\n",
       "</div>"
      ],
      "text/plain": [
       "Result               Loss  Win\n",
       "Opponents                     \n",
       "Agnieszka Radwańska   NaN  1.0\n",
       "Angelique Kerber      2.0  1.0\n",
       "Bianca Andreescu      1.0  NaN\n",
       "Caroline Wozniacki    NaN  1.0\n",
       "Dinara Safina         NaN  1.0\n",
       "Garbiñe Muguruza      1.0  1.0\n",
       "Jelena Janković       NaN  1.0\n",
       "Justine Henin         NaN  1.0\n",
       "Lindsay Davenport     NaN  1.0\n",
       "Lucie Šafářová        NaN  1.0\n",
       "Maria Sharapova       1.0  3.0\n",
       "Martina Hingis        NaN  1.0\n",
       "Naomi Osaka           1.0  NaN\n",
       "Samantha Stosur       1.0  NaN\n",
       "Simona Halep          1.0  NaN\n",
       "Venus Williams        2.0  7.0\n",
       "Vera Zvonareva        NaN  1.0\n",
       "Victoria Azarenka     NaN  2.0"
      ]
     },
     "execution_count": 70,
     "metadata": {},
     "output_type": "execute_result"
    }
   ],
   "source": [
    "results_by_op = df.groupby([\"Opponents\", \"Result\"]).Tournament.count().unstack()\n",
    "results_by_op"
   ]
  },
  {
   "cell_type": "code",
   "execution_count": 71,
   "metadata": {},
   "outputs": [
    {
     "data": {
      "text/html": [
       "<div>\n",
       "<style scoped>\n",
       "    .dataframe tbody tr th:only-of-type {\n",
       "        vertical-align: middle;\n",
       "    }\n",
       "\n",
       "    .dataframe tbody tr th {\n",
       "        vertical-align: top;\n",
       "    }\n",
       "\n",
       "    .dataframe thead th {\n",
       "        text-align: right;\n",
       "    }\n",
       "</style>\n",
       "<table border=\"1\" class=\"dataframe\">\n",
       "  <thead>\n",
       "    <tr style=\"text-align: right;\">\n",
       "      <th>Result</th>\n",
       "      <th>Loss</th>\n",
       "      <th>Win</th>\n",
       "    </tr>\n",
       "    <tr>\n",
       "      <th>Opponents</th>\n",
       "      <th></th>\n",
       "      <th></th>\n",
       "    </tr>\n",
       "  </thead>\n",
       "  <tbody>\n",
       "    <tr>\n",
       "      <th>Agnieszka Radwańska</th>\n",
       "      <td>0.0</td>\n",
       "      <td>1.0</td>\n",
       "    </tr>\n",
       "    <tr>\n",
       "      <th>Angelique Kerber</th>\n",
       "      <td>2.0</td>\n",
       "      <td>1.0</td>\n",
       "    </tr>\n",
       "    <tr>\n",
       "      <th>Bianca Andreescu</th>\n",
       "      <td>1.0</td>\n",
       "      <td>0.0</td>\n",
       "    </tr>\n",
       "    <tr>\n",
       "      <th>Caroline Wozniacki</th>\n",
       "      <td>0.0</td>\n",
       "      <td>1.0</td>\n",
       "    </tr>\n",
       "    <tr>\n",
       "      <th>Dinara Safina</th>\n",
       "      <td>0.0</td>\n",
       "      <td>1.0</td>\n",
       "    </tr>\n",
       "    <tr>\n",
       "      <th>Garbiñe Muguruza</th>\n",
       "      <td>1.0</td>\n",
       "      <td>1.0</td>\n",
       "    </tr>\n",
       "    <tr>\n",
       "      <th>Jelena Janković</th>\n",
       "      <td>0.0</td>\n",
       "      <td>1.0</td>\n",
       "    </tr>\n",
       "    <tr>\n",
       "      <th>Justine Henin</th>\n",
       "      <td>0.0</td>\n",
       "      <td>1.0</td>\n",
       "    </tr>\n",
       "    <tr>\n",
       "      <th>Lindsay Davenport</th>\n",
       "      <td>0.0</td>\n",
       "      <td>1.0</td>\n",
       "    </tr>\n",
       "    <tr>\n",
       "      <th>Lucie Šafářová</th>\n",
       "      <td>0.0</td>\n",
       "      <td>1.0</td>\n",
       "    </tr>\n",
       "    <tr>\n",
       "      <th>Maria Sharapova</th>\n",
       "      <td>1.0</td>\n",
       "      <td>3.0</td>\n",
       "    </tr>\n",
       "    <tr>\n",
       "      <th>Martina Hingis</th>\n",
       "      <td>0.0</td>\n",
       "      <td>1.0</td>\n",
       "    </tr>\n",
       "    <tr>\n",
       "      <th>Naomi Osaka</th>\n",
       "      <td>1.0</td>\n",
       "      <td>0.0</td>\n",
       "    </tr>\n",
       "    <tr>\n",
       "      <th>Samantha Stosur</th>\n",
       "      <td>1.0</td>\n",
       "      <td>0.0</td>\n",
       "    </tr>\n",
       "    <tr>\n",
       "      <th>Simona Halep</th>\n",
       "      <td>1.0</td>\n",
       "      <td>0.0</td>\n",
       "    </tr>\n",
       "    <tr>\n",
       "      <th>Venus Williams</th>\n",
       "      <td>2.0</td>\n",
       "      <td>7.0</td>\n",
       "    </tr>\n",
       "    <tr>\n",
       "      <th>Vera Zvonareva</th>\n",
       "      <td>0.0</td>\n",
       "      <td>1.0</td>\n",
       "    </tr>\n",
       "    <tr>\n",
       "      <th>Victoria Azarenka</th>\n",
       "      <td>0.0</td>\n",
       "      <td>2.0</td>\n",
       "    </tr>\n",
       "  </tbody>\n",
       "</table>\n",
       "</div>"
      ],
      "text/plain": [
       "Result               Loss  Win\n",
       "Opponents                     \n",
       "Agnieszka Radwańska   0.0  1.0\n",
       "Angelique Kerber      2.0  1.0\n",
       "Bianca Andreescu      1.0  0.0\n",
       "Caroline Wozniacki    0.0  1.0\n",
       "Dinara Safina         0.0  1.0\n",
       "Garbiñe Muguruza      1.0  1.0\n",
       "Jelena Janković       0.0  1.0\n",
       "Justine Henin         0.0  1.0\n",
       "Lindsay Davenport     0.0  1.0\n",
       "Lucie Šafářová        0.0  1.0\n",
       "Maria Sharapova       1.0  3.0\n",
       "Martina Hingis        0.0  1.0\n",
       "Naomi Osaka           1.0  0.0\n",
       "Samantha Stosur       1.0  0.0\n",
       "Simona Halep          1.0  0.0\n",
       "Venus Williams        2.0  7.0\n",
       "Vera Zvonareva        0.0  1.0\n",
       "Victoria Azarenka     0.0  2.0"
      ]
     },
     "execution_count": 71,
     "metadata": {},
     "output_type": "execute_result"
    }
   ],
   "source": [
    "# we can exclude opponents only met once:\n",
    "results_by_op = results_by_op.fillna(0)\n",
    "results_by_op"
   ]
  },
  {
   "cell_type": "code",
   "execution_count": 72,
   "metadata": {},
   "outputs": [
    {
     "data": {
      "text/plain": [
       "Opponents\n",
       "Agnieszka Radwańska    False\n",
       "Angelique Kerber        True\n",
       "Bianca Andreescu       False\n",
       "Caroline Wozniacki     False\n",
       "Dinara Safina          False\n",
       "Garbiñe Muguruza        True\n",
       "Jelena Janković        False\n",
       "Justine Henin          False\n",
       "Lindsay Davenport      False\n",
       "Lucie Šafářová         False\n",
       "Maria Sharapova         True\n",
       "Martina Hingis         False\n",
       "Naomi Osaka            False\n",
       "Samantha Stosur        False\n",
       "Simona Halep           False\n",
       "Venus Williams          True\n",
       "Vera Zvonareva         False\n",
       "Victoria Azarenka       True\n",
       "dtype: bool"
      ]
     },
     "execution_count": 72,
     "metadata": {},
     "output_type": "execute_result"
    }
   ],
   "source": [
    "(results_by_op.Win + results_by_op.Loss) > 1"
   ]
  },
  {
   "cell_type": "code",
   "execution_count": 73,
   "metadata": {},
   "outputs": [
    {
     "data": {
      "text/plain": [
       "<Axes: xlabel='Opponents'>"
      ]
     },
     "execution_count": 73,
     "metadata": {},
     "output_type": "execute_result"
    },
    {
     "data": {
      "image/png": "[encoded data removed]",
      "text/plain": [
       "<Figure size 1000x618.034 with 1 Axes>"
      ]
     },
     "metadata": {
      "image/png": {
       "height": 653,
       "width": 813
      }
     },
     "output_type": "display_data"
    }
   ],
   "source": [
    "multiple_meetings = results_by_op[(results_by_op.Win + results_by_op.Loss) > 1]\n",
    "multiple_meetings.plot(kind=\"bar\")"
   ]
  },
  {
   "cell_type": "markdown",
   "metadata": {},
   "source": [
    "# Exercise:\n",
    "\n",
    "Find images on the UiO page\n",
    "\n",
    "1) Go to https://en.wikipedia.org/wiki/University_of_Oslo \n",
    "2) Download the content from the site using BeautifulSoup and requests\n",
    "3) Search for all images (using `images = document.find_all('img')`) and print out the content\n",
    "4) Include only images with the attribute `class_=\"mw-file-element\"` in your list of images.\n",
    "5) Print out a list of the value of the \"src\" attribute for the images in 4. \n",
    "6) See if you can display an image by pasting a result from 5 into your web-browser."
   ]
  },
  {
   "cell_type": "code",
   "execution_count": 74,
   "metadata": {},
   "outputs": [
    {
     "name": "stdout",
     "output_type": "stream",
     "text": [
      "<!DOCTYPE html>\n",
      "<html class=\"client-nojs\" lang=\"nb\" dir=\"ltr\">\n",
      "<head>\n",
      "<meta charset=\"UTF-8\">\n",
      "<title>Universitetet i Oslo – Wikipedia</title>\n",
      "<script>document.documentElement.className=\"client-js\";RLCONF={\"wgBreakFrames\":false,\"wgSeparatorTransformTable\":[\",\\t.\",\" \\t,\"],\"wgDigitTransformTable\":[\"\",\"\"],\"wgDefaultDateFormat\":\"dmy\",\"wgMonthNames\":[\"\",\"januar\",\"februar\",\"mars\",\"april\",\"mai\",\"juni\",\"jul\n"
     ]
    }
   ],
   "source": [
    "r = requests.get(\"https://no.wikipedia.org/wiki/Universitetet_i_Oslo\")\n",
    "html = r.text\n",
    "print(html[:400])"
   ]
  },
  {
   "cell_type": "code",
   "execution_count": 75,
   "metadata": {},
   "outputs": [],
   "source": [
    "document = BeautifulSoup(html, \"html.parser\")"
   ]
  },
  {
   "cell_type": "code",
   "execution_count": 85,
   "metadata": {},
   "outputs": [
    {
     "data": {
      "text/plain": [
       "17"
      ]
     },
     "execution_count": 85,
     "metadata": {},
     "output_type": "execute_result"
    }
   ],
   "source": [
    "images = document.find_all(\"img\", class_=\"mw-file-element\")\n",
    "len(images)"
   ]
  },
  {
   "cell_type": "code",
   "execution_count": 89,
   "metadata": {},
   "outputs": [
    {
     "name": "stdout",
     "output_type": "stream",
     "text": [
      "<img alt=\"Rediger på Wikidata\" class=\"mw-file-element\" data-file-height=\"20\" data-file-width=\"20\" decoding=\"async\" height=\"10\" src=\"//upload.wikimedia.org/wikipedia/commons/thumb/8/8a/OOjs_UI_icon_edit-ltr-progressive.svg/10px-OOjs_UI_icon_edit-ltr-progressive.svg.png\" srcset=\"//upload.wikimedia.org/wikipedia/commons/thumb/8/8a/OOjs_UI_icon_edit-ltr-progressive.svg/15px-OOjs_UI_icon_edit-ltr-progressive.svg.png 1.5x, //upload.wikimedia.org/wikipedia/commons/thumb/8/8a/OOjs_UI_icon_edit-ltr-progressive.svg/20px-OOjs_UI_icon_edit-ltr-progressive.svg.png 2x\" width=\"10\"/>\n",
      "<img alt=\"Rediger på Wikidata\" class=\"mw-file-element\" data-file-height=\"20\" data-file-width=\"20\" decoding=\"async\" height=\"10\" src=\"//upload.wikimedia.org/wikipedia/commons/thumb/8/8a/OOjs_UI_icon_edit-ltr-progressive.svg/10px-OOjs_UI_icon_edit-ltr-progressive.svg.png\" srcset=\"//upload.wikimedia.org/wikipedia/commons/thumb/8/8a/OOjs_UI_icon_edit-ltr-progressive.svg/15px-OOjs_UI_icon_edit-ltr-progressive.svg.png 1.5x, //upload.wikimedia.org/wikipedia/commons/thumb/8/8a/OOjs_UI_icon_edit-ltr-progressive.svg/20px-OOjs_UI_icon_edit-ltr-progressive.svg.png 2x\" width=\"10\"/>\n",
      "<img alt=\"Rediger på Wikidata\" class=\"mw-file-element\" data-file-height=\"20\" data-file-width=\"20\" decoding=\"async\" height=\"10\" src=\"//upload.wikimedia.org/wikipedia/commons/thumb/8/8a/OOjs_UI_icon_edit-ltr-progressive.svg/10px-OOjs_UI_icon_edit-ltr-progressive.svg.png\" srcset=\"//upload.wikimedia.org/wikipedia/commons/thumb/8/8a/OOjs_UI_icon_edit-ltr-progressive.svg/15px-OOjs_UI_icon_edit-ltr-progressive.svg.png 1.5x, //upload.wikimedia.org/wikipedia/commons/thumb/8/8a/OOjs_UI_icon_edit-ltr-progressive.svg/20px-OOjs_UI_icon_edit-ltr-progressive.svg.png 2x\" width=\"10\"/>\n"
     ]
    }
   ],
   "source": [
    "for image in images:\n",
    "    print(image[\"src\"])"
   ]
  },
  {
   "cell_type": "code",
   "execution_count": 87,
   "metadata": {},
   "outputs": [],
   "source": [
    "from IPython.display import HTML, display"
   ]
  },
  {
   "cell_type": "code",
   "execution_count": 88,
   "metadata": {},
   "outputs": [
    {
     "data": {
      "text/html": [
       "<img src=\"https://upload.wikimedia.org/wikipedia/commons/thumb/d/d2/Apollo_seal.svg/250px-Apollo_seal.svg.png\">"
      ],
      "text/plain": [
       "<IPython.core.display.HTML object>"
      ]
     },
     "metadata": {},
     "output_type": "display_data"
    },
    {
     "data": {
      "text/html": [
       "<img src=\"https://upload.wikimedia.org/wikipedia/commons/thumb/c/c4/The_University_of_Oslo.jpg/250px-The_University_of_Oslo.jpg\">"
      ],
      "text/plain": [
       "<IPython.core.display.HTML object>"
      ]
     },
     "metadata": {},
     "output_type": "display_data"
    },
    {
     "data": {
      "text/html": [
       "<img src=\"https://upload.wikimedia.org/wikipedia/commons/thumb/4/4f/Universitetsbiblioteket_Blindern.jpg/250px-Universitetsbiblioteket_Blindern.jpg\">"
      ],
      "text/plain": [
       "<IPython.core.display.HTML object>"
      ]
     },
     "metadata": {},
     "output_type": "display_data"
    },
    {
     "data": {
      "text/html": [
       "<img src=\"https://upload.wikimedia.org/wikipedia/commons/thumb/4/4c/Helga_Engs_hus_Blindern.jpg/250px-Helga_Engs_hus_Blindern.jpg\">"
      ],
      "text/plain": [
       "<IPython.core.display.HTML object>"
      ]
     },
     "metadata": {},
     "output_type": "display_data"
    },
    {
     "data": {
      "text/html": [
       "<img src=\"https://upload.wikimedia.org/wikipedia/commons/thumb/5/5d/Ragnar_Frischs_auditorium.JPG/250px-Ragnar_Frischs_auditorium.JPG\">"
      ],
      "text/plain": [
       "<IPython.core.display.HTML object>"
      ]
     },
     "metadata": {},
     "output_type": "display_data"
    },
    {
     "data": {
      "text/html": [
       "<img src=\"https://upload.wikimedia.org/wikipedia/commons/thumb/a/ae/Det_matematisk-naturvitenskapelige_fakultet_i_1861.png/250px-Det_matematisk-naturvitenskapelige_fakultet_i_1861.png\">"
      ],
      "text/plain": [
       "<IPython.core.display.HTML object>"
      ]
     },
     "metadata": {},
     "output_type": "display_data"
    },
    {
     "data": {
      "text/html": [
       "<img src=\"https://upload.wikimedia.org/wikipedia/commons/thumb/8/85/Nedre_Blindern_1955.jpg/250px-Nedre_Blindern_1955.jpg\">"
      ],
      "text/plain": [
       "<IPython.core.display.HTML object>"
      ]
     },
     "metadata": {},
     "output_type": "display_data"
    },
    {
     "data": {
      "text/html": [
       "<img src=\"https://upload.wikimedia.org/wikipedia/commons/thumb/d/d2/Apollo_seal.svg/190px-Apollo_seal.svg.png\">"
      ],
      "text/plain": [
       "<IPython.core.display.HTML object>"
      ]
     },
     "metadata": {},
     "output_type": "display_data"
    },
    {
     "data": {
      "text/html": [
       "<img src=\"https://upload.wikimedia.org/wikipedia/commons/thumb/d/d9/Universitetet_i_Oslo_sentrum.jpg/250px-Universitetet_i_Oslo_sentrum.jpg\">"
      ],
      "text/plain": [
       "<IPython.core.display.HTML object>"
      ]
     },
     "metadata": {},
     "output_type": "display_data"
    },
    {
     "data": {
      "text/html": [
       "<img src=\"https://upload.wikimedia.org/wikipedia/commons/thumb/b/bb/UiO_001.jpg/250px-UiO_001.jpg\">"
      ],
      "text/plain": [
       "<IPython.core.display.HTML object>"
      ]
     },
     "metadata": {},
     "output_type": "display_data"
    },
    {
     "data": {
      "text/html": [
       "<img src=\"https://upload.wikimedia.org/wikipedia/commons/thumb/4/4a/Air_blindern.jpg/250px-Air_blindern.jpg\">"
      ],
      "text/plain": [
       "<IPython.core.display.HTML object>"
      ]
     },
     "metadata": {},
     "output_type": "display_data"
    },
    {
     "data": {
      "text/html": [
       "<img src=\"https://upload.wikimedia.org/wikipedia/commons/thumb/e/e8/Universbib_blindern.jpg/250px-Universbib_blindern.jpg\">"
      ],
      "text/plain": [
       "<IPython.core.display.HTML object>"
      ]
     },
     "metadata": {},
     "output_type": "display_data"
    },
    {
     "data": {
      "text/html": [
       "<img src=\"https://upload.wikimedia.org/wikipedia/commons/thumb/3/30/UiO_006.jpg/250px-UiO_006.jpg\">"
      ],
      "text/plain": [
       "<IPython.core.display.HTML object>"
      ]
     },
     "metadata": {},
     "output_type": "display_data"
    },
    {
     "data": {
      "text/html": [
       "<img src=\"https://upload.wikimedia.org/wikipedia/commons/thumb/0/0f/ChateauNeufOslo.jpg/250px-ChateauNeufOslo.jpg\">"
      ],
      "text/plain": [
       "<IPython.core.display.HTML object>"
      ]
     },
     "metadata": {},
     "output_type": "display_data"
    },
    {
     "data": {
      "text/html": [
       "<img src=\"https://upload.wikimedia.org/wikipedia/commons/thumb/8/8a/OOjs_UI_icon_edit-ltr-progressive.svg/10px-OOjs_UI_icon_edit-ltr-progressive.svg.png\">"
      ],
      "text/plain": [
       "<IPython.core.display.HTML object>"
      ]
     },
     "metadata": {},
     "output_type": "display_data"
    },
    {
     "data": {
      "text/html": [
       "<img src=\"https://upload.wikimedia.org/wikipedia/commons/thumb/8/8a/OOjs_UI_icon_edit-ltr-progressive.svg/10px-OOjs_UI_icon_edit-ltr-progressive.svg.png\">"
      ],
      "text/plain": [
       "<IPython.core.display.HTML object>"
      ]
     },
     "metadata": {},
     "output_type": "display_data"
    },
    {
     "data": {
      "text/html": [
       "<img src=\"https://upload.wikimedia.org/wikipedia/commons/thumb/8/8a/OOjs_UI_icon_edit-ltr-progressive.svg/10px-OOjs_UI_icon_edit-ltr-progressive.svg.png\">"
      ],
      "text/plain": [
       "<IPython.core.display.HTML object>"
      ]
     },
     "metadata": {},
     "output_type": "display_data"
    }
   ],
   "source": [
    "for image in images:\n",
    "    url = image[\"src\"]\n",
    "    if \"://\" in url:\n",
    "        pass\n",
    "    elif url.startswith(\"//\"):\n",
    "        # add 'scheme' or 'protocol'\n",
    "        url = \"https:\" + url\n",
    "    elif url.startswith(\"/\"):\n",
    "        url = \"https://no.wikipedia.org\" + url\n",
    "    else:\n",
    "        # not an understood URL\n",
    "        raise ValueError(f\"I don't understand this url: {url}\")\n",
    "    html = HTML(f'<img src=\"{url}\">')\n",
    "    display(html)"
   ]
  }
 ],
 "metadata": {
  "celltoolbar": "Slideshow",
  "kernelspec": {
   "display_name": "Python 3 (ipykernel)",
   "language": "python",
   "name": "python3"
  },
  "language_info": {
   "codemirror_mode": {
    "name": "ipython",
    "version": 3
   },
   "file_extension": ".py",
   "mimetype": "text/x-python",
   "name": "python",
   "nbconvert_exporter": "python",
   "pygments_lexer": "ipython3",
   "version": "3.10.12"
  },
  "widgets": {
   "application/vnd.jupyter.widget-state+json": {
    "state": {},
    "version_major": 2,
    "version_minor": 0
   }
  }
 },
 "nbformat": 4,
 "nbformat_minor": 4
}
