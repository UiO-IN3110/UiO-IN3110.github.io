{
 "cells": [
  {
   "cell_type": "markdown",
   "id": "fd2cf869-70e3-4ae0-b72e-981d8e613766",
   "metadata": {},
   "source": [
    "# Generate sample data\n",
    "\n",
    "For use in visualization samples"
   ]
  },
  {
   "cell_type": "code",
   "execution_count": 24,
   "id": "9447ffc4-eca4-4c35-8ae7-bc7ecb7cc76b",
   "metadata": {},
   "outputs": [],
   "source": [
    "import numpy as np\n",
    "\n",
    "x = np.linspace(0, 2 * np.pi, 100)\n",
    "y = np.sin(x)\n",
    "\n",
    "import pandas as pd\n",
    "\n",
    "df = pd.DataFrame({\"x\": x, \"s\": np.sin(x), \"c\": np.cos(x)}).set_index(\"x\")\n",
    "df.to_csv(\"somedata.csv\")"
   ]
  },
  {
   "cell_type": "code",
   "execution_count": 25,
   "id": "798e93aa-bae6-466d-8603-c2c48a8240c4",
   "metadata": {},
   "outputs": [
    {
     "name": "stdout",
     "output_type": "stream",
     "text": [
      "x,s,c\n",
      "0.0,0.0,1.0\n",
      "0.06346651825433926,0.0634239196565645,0.9979866764718844\n",
      "0.12693303650867852,0.12659245357374926,0.9919548128307953\n",
      "0.1903995547630178,0.18925124436041021,0.9819286972627067\n",
      "0.25386607301735703,0.2511479871810792,0.9679487013963562\n",
      "0.3173325912716963,0.31203344569848707,0.9500711177409454\n",
      "0.3807991095260356,0.3716624556603276,0.9283679330160726\n",
      "0.4442656277803748,0.42979491208917164,0.9029265382866212\n",
      "0.5077321460347141,0.4861967361004687,0.8738493770697849\n"
     ]
    }
   ],
   "source": [
    "!head somedata.csv"
   ]
  },
  {
   "cell_type": "code",
   "execution_count": null,
   "id": "a7e5695b-fdc5-4cf0-9899-8d700b3dd134",
   "metadata": {},
   "outputs": [],
   "source": []
  }
 ],
 "metadata": {
  "kernelspec": {
   "display_name": "Python 3 (ipykernel)",
   "language": "python",
   "name": "python3"
  },
  "language_info": {
   "codemirror_mode": {
    "name": "ipython",
    "version": 3
   },
   "file_extension": ".py",
   "mimetype": "text/x-python",
   "name": "python",
   "nbconvert_exporter": "python",
   "pygments_lexer": "ipython3",
   "version": "3.11.6"
  },
  "widgets": {
   "application/vnd.jupyter.widget-state+json": {
    "state": {},
    "version_major": 2,
    "version_minor": 0
   }
  }
 },
 "nbformat": 4,
 "nbformat_minor": 5
}
