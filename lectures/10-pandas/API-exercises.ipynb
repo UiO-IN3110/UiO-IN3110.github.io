{
 "cells": [
  {
   "cell_type": "code",
   "execution_count": null,
   "id": "9798aecd-e408-484f-90e1-c902339f85e0",
   "metadata": {},
   "outputs": [],
   "source": []
  },
  {
   "cell_type": "code",
   "execution_count": null,
   "id": "0dbd6ddd-5fd5-481d-98e1-85df12cc27c3",
   "metadata": {},
   "outputs": [],
   "source": []
  },
  {
   "cell_type": "markdown",
   "id": "69550f91-89cd-4784-a267-4e1a5e67f6b0",
   "metadata": {},
   "source": [
    "# Rain in Bergen\n",
    "\n",
    "<img src=\"images/bergen.png\" style=\"width: 500px;\"/>\n",
    "\n",
    "Bergen is famous for having a lot of rain. So much so that the Bergen bunad features umbrella-themed silver:\n",
    "\n",
    "<img src=\"images/bergen-solv.png\" style=\"width: 400px;\"/>\n",
    "\n",
    "To practise ``get`` requests, ``json`` and plotting, we are going to make a bar plot of the rain in Bergen by month. To do so, we will access historical data from MET.\n",
    "\n",
    "## Frost API\n",
    "\n",
    "The [Frost API](https://frost.met.no/index.html) from MET provides historical weather and climate data of e.g. temperature, precipitation and wind. \n",
    "\n",
    "**Step 1**\n",
    "\n",
    "Check the conditions for using this API.\n",
    "\n",
    "What rules do they have for using the API?\n",
    "\n",
    "**Step 2**\n",
    "\n",
    "Complete the following code snippet so that it gets the precipitation per day in Bergen\n",
    "\n",
    "You can use the following parameters for the get request\n",
    "\n",
    "| Key | Value |\n",
    "| --- | --- | \n",
    "| 'sources' | 'SN50540' | \n",
    "| 'elements' | 'sum(precipitation_amount P1D)' | \n",
    "| 'referencetime' | '2020-01-01/2020-12-31' | \n",
    "\n",
    "   \n",
    "Blindern has the code SN18700\n",
    "\n",
    "   "
   ]
  },
  {
   "cell_type": "code",
   "execution_count": 85,
   "id": "2c63f8ff-2706-4462-bfd3-acba8a249f7c",
   "metadata": {},
   "outputs": [],
   "source": [
    "import requests\n",
    "import json\n",
    "\n",
    "# Insert your own client ID here\n",
    "client_id = '9c3a6435-0847-42f8-8395-9b4e7ff42f05'\n",
    "\n",
    "# Define url for the get request\n",
    "url = 'https://frost.met.no/observations/v0.jsonld'\n",
    "\n",
    "# Define parameters for the get request (as a dictionary)\n",
    "parameters = { ...: ....\n",
    "}\n",
    "\n",
    "# Issue an HTTP GET request\n",
    "r = requests.get(url, parameters, auth=(client_id,''))\n",
    "\n",
    "# Check if the request worked, print out any errors\n",
    "if r.status_code == ...:"
   ]
  },
  {
   "cell_type": "code",
   "execution_count": 95,
   "id": "cab2502d-3fbc-4a40-a7b1-6b6b603d4fe5",
   "metadata": {},
   "outputs": [],
   "source": [
    "# Extract JSON data\n",
    "json = ..."
   ]
  },
  {
   "cell_type": "code",
   "execution_count": 87,
   "id": "8b21ba22-3a5a-4535-b616-c60e3e6e34a2",
   "metadata": {},
   "outputs": [],
   "source": [
    "# Parse through JSON data\n",
    "\n",
    "# Make a dict containing each month (by number) and total precipitation"
   ]
  },
  {
   "cell_type": "code",
   "execution_count": 88,
   "id": "95b11959-5b77-466c-baf8-9c04b0c61a75",
   "metadata": {},
   "outputs": [],
   "source": [
    "prec_per_month_bergen = {}\n",
    "prec_per_month_oslo = {}\n",
    "\n",
    "for i in range(len(data)):\n",
    "\n",
    "    month = int(data[i]['referenceTime'][5:7])\n",
    "    prec = data[i]['observations'][0]['value']\n",
    "    \n",
    "\n",
    "    if month in prec_per_month: \n",
    "        prec_per_month[month] += prec\n",
    "    else:\n",
    "        prec_per_month[month] = prec\n",
    "\n",
    "tot_prec = prec_per_month.values()\n",
    "months = prec_per_month.keys()\n"
   ]
  },
  {
   "cell_type": "markdown",
   "id": "14a04c52-a95a-40b5-89cb-dba6fd687d3d",
   "metadata": {},
   "source": [
    "Next we want to plot this data in a bar plot. \n",
    "\n",
    "To do this we use pyplot:"
   ]
  },
  {
   "cell_type": "code",
   "execution_count": 40,
   "id": "743da6ae-525a-473b-aa54-5d48393f8e6c",
   "metadata": {},
   "outputs": [
    {
     "data": {
      "image/png": "[encoded data removed]",
      "text/plain": [
       "<Figure size 432x288 with 1 Axes>"
      ]
     },
     "metadata": {
      "needs_background": "light"
     },
     "output_type": "display_data"
    }
   ],
   "source": [
    "import matplotlib.pyplot as plt\n",
    "fig = plt.figure()\n",
    "ax = plt.axes()"
   ]
  },
  {
   "cell_type": "markdown",
   "id": "b6e3e54f-2c53-4791-a272-adffa7200d0a",
   "metadata": {},
   "source": [
    "In pyplot, the *figure* (an instance of the class ``plt.Figure``) can be thought of as a single container that contains all the objects representing axes, graphics, text and labels. The *axes* (an instance of the class ``plt.axes``) is more or less what is shown above: a bounding box with ticks and labels, which we will fill with plot elements. \n",
    "\n",
    "We want to add a bar plot to ``ax``"
   ]
  },
  {
   "cell_type": "code",
   "execution_count": 42,
   "id": "f0279458-1fd8-4494-b2d8-aa0d594c62da",
   "metadata": {},
   "outputs": [
    {
     "data": {
      "text/plain": [
       "\u001b[0;31mSignature:\u001b[0m\n",
       "\u001b[0max\u001b[0m\u001b[0;34m.\u001b[0m\u001b[0mbar\u001b[0m\u001b[0;34m(\u001b[0m\u001b[0;34m\u001b[0m\n",
       "\u001b[0;34m\u001b[0m    \u001b[0mx\u001b[0m\u001b[0;34m,\u001b[0m\u001b[0;34m\u001b[0m\n",
       "\u001b[0;34m\u001b[0m    \u001b[0mheight\u001b[0m\u001b[0;34m,\u001b[0m\u001b[0;34m\u001b[0m\n",
       "\u001b[0;34m\u001b[0m    \u001b[0mwidth\u001b[0m\u001b[0;34m=\u001b[0m\u001b[0;36m0.8\u001b[0m\u001b[0;34m,\u001b[0m\u001b[0;34m\u001b[0m\n",
       "\u001b[0;34m\u001b[0m    \u001b[0mbottom\u001b[0m\u001b[0;34m=\u001b[0m\u001b[0;32mNone\u001b[0m\u001b[0;34m,\u001b[0m\u001b[0;34m\u001b[0m\n",
       "\u001b[0;34m\u001b[0m    \u001b[0;34m*\u001b[0m\u001b[0;34m,\u001b[0m\u001b[0;34m\u001b[0m\n",
       "\u001b[0;34m\u001b[0m    \u001b[0malign\u001b[0m\u001b[0;34m=\u001b[0m\u001b[0;34m'center'\u001b[0m\u001b[0;34m,\u001b[0m\u001b[0;34m\u001b[0m\n",
       "\u001b[0;34m\u001b[0m    \u001b[0mdata\u001b[0m\u001b[0;34m=\u001b[0m\u001b[0;32mNone\u001b[0m\u001b[0;34m,\u001b[0m\u001b[0;34m\u001b[0m\n",
       "\u001b[0;34m\u001b[0m    \u001b[0;34m**\u001b[0m\u001b[0mkwargs\u001b[0m\u001b[0;34m,\u001b[0m\u001b[0;34m\u001b[0m\n",
       "\u001b[0;34m\u001b[0m\u001b[0;34m)\u001b[0m\u001b[0;34m\u001b[0m\u001b[0;34m\u001b[0m\u001b[0m\n",
       "\u001b[0;31mDocstring:\u001b[0m\n",
       "Make a bar plot.\n",
       "\n",
       "The bars are positioned at *x* with the given *align*\\ment. Their\n",
       "dimensions are given by *height* and *width*. The vertical baseline\n",
       "is *bottom* (default 0).\n",
       "\n",
       "Many parameters can take either a single value applying to all bars\n",
       "or a sequence of values, one for each bar.\n",
       "\n",
       "Parameters\n",
       "----------\n",
       "x : float or array-like\n",
       "    The x coordinates of the bars. See also *align* for the\n",
       "    alignment of the bars to the coordinates.\n",
       "\n",
       "height : float or array-like\n",
       "    The height(s) of the bars.\n",
       "\n",
       "width : float or array-like, default: 0.8\n",
       "    The width(s) of the bars.\n",
       "\n",
       "bottom : float or array-like, default: 0\n",
       "    The y coordinate(s) of the bars bases.\n",
       "\n",
       "align : {'center', 'edge'}, default: 'center'\n",
       "    Alignment of the bars to the *x* coordinates:\n",
       "\n",
       "    - 'center': Center the base on the *x* positions.\n",
       "    - 'edge': Align the left edges of the bars with the *x* positions.\n",
       "\n",
       "    To align the bars on the right edge pass a negative *width* and\n",
       "    ``align='edge'``.\n",
       "\n",
       "Returns\n",
       "-------\n",
       "`.BarContainer`\n",
       "    Container with all the bars and optionally errorbars.\n",
       "\n",
       "Other Parameters\n",
       "----------------\n",
       "color : color or list of color, optional\n",
       "    The colors of the bar faces.\n",
       "\n",
       "edgecolor : color or list of color, optional\n",
       "    The colors of the bar edges.\n",
       "\n",
       "linewidth : float or array-like, optional\n",
       "    Width of the bar edge(s). If 0, don't draw edges.\n",
       "\n",
       "tick_label : str or list of str, optional\n",
       "    The tick labels of the bars.\n",
       "    Default: None (Use default numeric labels.)\n",
       "\n",
       "xerr, yerr : float or array-like of shape(N,) or shape(2, N), optional\n",
       "    If not *None*, add horizontal / vertical errorbars to the bar tips.\n",
       "    The values are +/- sizes relative to the data:\n",
       "\n",
       "    - scalar: symmetric +/- values for all bars\n",
       "    - shape(N,): symmetric +/- values for each bar\n",
       "    - shape(2, N): Separate - and + values for each bar. First row\n",
       "      contains the lower errors, the second row contains the upper\n",
       "      errors.\n",
       "    - *None*: No errorbar. (Default)\n",
       "\n",
       "    See :doc:`/gallery/statistics/errorbar_features`\n",
       "    for an example on the usage of ``xerr`` and ``yerr``.\n",
       "\n",
       "ecolor : color or list of color, default: 'black'\n",
       "    The line color of the errorbars.\n",
       "\n",
       "capsize : float, default: :rc:`errorbar.capsize`\n",
       "   The length of the error bar caps in points.\n",
       "\n",
       "error_kw : dict, optional\n",
       "    Dictionary of kwargs to be passed to the `~.Axes.errorbar`\n",
       "    method. Values of *ecolor* or *capsize* defined here take\n",
       "    precedence over the independent kwargs.\n",
       "\n",
       "log : bool, default: False\n",
       "    If *True*, set the y-axis to be log scale.\n",
       "\n",
       "**kwargs : `.Rectangle` properties\n",
       "\n",
       "Properties:\n",
       "    agg_filter: a filter function, which takes a (m, n, 3) float array and a dpi value, and returns a (m, n, 3) array\n",
       "    alpha: scalar or None\n",
       "    animated: bool\n",
       "    antialiased or aa: unknown\n",
       "    capstyle: `.CapStyle` or {'butt', 'projecting', 'round'}\n",
       "    clip_box: `.Bbox`\n",
       "    clip_on: bool\n",
       "    clip_path: Patch or (Path, Transform) or None\n",
       "    color: color\n",
       "    contains: unknown\n",
       "    edgecolor or ec: color or None or 'auto'\n",
       "    facecolor or fc: color or None\n",
       "    figure: `.Figure`\n",
       "    fill: bool\n",
       "    gid: str\n",
       "    hatch: {'/', '\\\\', '|', '-', '+', 'x', 'o', 'O', '.', '*'}\n",
       "    in_layout: bool\n",
       "    joinstyle: `.JoinStyle` or {'miter', 'round', 'bevel'}\n",
       "    label: object\n",
       "    linestyle or ls: {'-', '--', '-.', ':', '', (offset, on-off-seq), ...}\n",
       "    linewidth or lw: float or None\n",
       "    path_effects: `.AbstractPathEffect`\n",
       "    picker: None or bool or float or callable\n",
       "    rasterized: bool\n",
       "    sketch_params: (scale: float, length: float, randomness: float)\n",
       "    snap: bool or None\n",
       "    transform: `.Transform`\n",
       "    url: str\n",
       "    visible: bool\n",
       "    zorder: float\n",
       "\n",
       "See Also\n",
       "--------\n",
       "barh : Plot a horizontal bar plot.\n",
       "\n",
       "Notes\n",
       "-----\n",
       "Stacked bars can be achieved by passing individual *bottom* values per\n",
       "bar. See :doc:`/gallery/lines_bars_and_markers/bar_stacked`.\n",
       "\n",
       ".. note::\n",
       "    In addition to the above described arguments, this function can take\n",
       "    a *data* keyword argument. If such a *data* argument is given,\n",
       "    every other argument can also be string ``s``, which is\n",
       "    interpreted as ``data[s]`` (unless this raises an exception).\n",
       "\n",
       "    Objects passed as **data** must support item access (``data[s]``) and\n",
       "    membership test (``s in data``).\n",
       "\u001b[0;31mFile:\u001b[0m      ~/anaconda3/envs/py38/lib/python3.8/site-packages/matplotlib/axes/_axes.py\n",
       "\u001b[0;31mType:\u001b[0m      method\n"
      ]
     },
     "metadata": {},
     "output_type": "display_data"
    }
   ],
   "source": [
    "ax.bar?"
   ]
  },
  {
   "cell_type": "code",
   "execution_count": 84,
   "id": "59470e3e-7d31-490d-ad8a-a89b70d568e0",
   "metadata": {},
   "outputs": [
    {
     "data": {
      "image/png": "[encoded data removed]",
      "text/plain": [
       "<Figure size 432x288 with 1 Axes>"
      ]
     },
     "execution_count": 84,
     "metadata": {},
     "output_type": "execute_result"
    }
   ],
   "source": [
    "%matplotlib inline\n",
    "ax.bar(months, tot_prec)\n",
    "\n",
    "ax.set_xticks(list(months))\n",
    "\n",
    "import time\n",
    "labels = []\n",
    "\n",
    "xticks = list(months)\n",
    "xtick_vals = [calendar.month_abbr[i] for i in xticks]\n",
    "\n",
    "ax.set_xticklabels(xtick_vals)\n",
    "fig"
   ]
  },
  {
   "cell_type": "code",
   "execution_count": 82,
   "id": "f0c65b44-8d3f-49a7-8619-6ff8e8128cce",
   "metadata": {},
   "outputs": [
    {
     "data": {
      "text/plain": [
       "'January'"
      ]
     },
     "execution_count": 82,
     "metadata": {},
     "output_type": "execute_result"
    }
   ],
   "source": [
    "import calendar\n"
   ]
  }
 ],
 "metadata": {
  "kernelspec": {
   "display_name": "Python 3 (ipykernel)",
   "language": "python",
   "name": "python3"
  },
  "language_info": {
   "codemirror_mode": {
    "name": "ipython",
    "version": 3
   },
   "file_extension": ".py",
   "mimetype": "text/x-python",
   "name": "python",
   "nbconvert_exporter": "python",
   "pygments_lexer": "ipython3",
   "version": "3.8.10"
  }
 },
 "nbformat": 4,
 "nbformat_minor": 5
}
