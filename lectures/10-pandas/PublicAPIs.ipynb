{
 "cells": [
  {
   "cell_type": "markdown",
   "id": "382bf341-89ec-4dab-a596-6906694e0a26",
   "metadata": {},
   "source": [
    "# Data is the new oil\n",
    "\n",
    "<div>\n",
    "<img src=\"images/info.png\" width=\"500\"/>\n",
    "</div>\n",
    "\n",
    "[Image source](https://www.stadafa.com/2021/10/largest-companies-2010-vs-2021.html)\n",
    "\n",
    "\n",
    "Clive Humby, a british mathematician, is credited with coining the phrase \"data is the new oil.\" \n",
    "\n",
    "This quote was expanded by Michael Palmer with the assertion that data is \"valuable, but if unrefined it cannot really be used.  Oil has to be changed into gas, plastic, chemicals, etc to create a valuable entity that drives profitable activity; so, data must be broken down and analysed for it to have value.\"\n"
   ]
  },
  {
   "cell_type": "markdown",
   "id": "f263598b-de62-4878-bdfc-a1cb1f425bdc",
   "metadata": {},
   "source": [
    "# Public data APIs\n",
    "\n",
    "How do we access amazing data? The answer is data APIs.\n",
    "\n",
    "## What is an API?\n",
    "API stands for Application Programming Interface and it serves as a data transmitter between two different pieces of software. The term has historically been used to describe any sort of connectivity interface to an application. \n",
    "\n",
    "Today, the term API typically takes an additional meaning:\n",
    "- Modern APIs adhere to certain standards (typically HTTP and REST) \n",
    "- They are treated like products\n",
    "- They often adhere to high security standards\n",
    "\n",
    "## Types of APIs\n",
    "\n",
    "### By availability\n",
    "- **Open and public APIs** are available to everyone. Open APIs will be completely open, in the sense that they will provide access to the complete architecture and all features of their code.  Public APIs, contrarily, will provide restricted access to the codes and datasets.\n",
    "\n",
    "<img src=\"images/open-apis.png\" width=400 height=400 />\n",
    "\n",
    "- **Internal APIs** are used in-house by developers.\n",
    "\n",
    "- **Partner APIs** are a form of open API where access is granted under certain conditions determined by the publisher.\n",
    "\n",
    "### By structure\n",
    "APIs also differ in architecture. The most popular API architectures are:\n",
    "- **JSON-RPC and XML-RPC**\n",
    "RPC stands for Remote Procedure Call and is a protocol for data transmission in JSON or XML format. \n",
    "- **REST**\n",
    "REST stands for representational state transfer. It's a software architectural style that provides a set of recommendations for web development. \n",
    "- **SOAP** stands for simple object access protocol and is a definition of API protocols and standards.  "
   ]
  },
  {
   "cell_type": "markdown",
   "id": "1179a5ce-0b6f-4947-9ae2-ea1512ade84d",
   "metadata": {},
   "source": [
    "## Accessing a Public Data API with Python\n",
    "\n",
    "In order to retrieve data from an API we will combine the ``request`` library and the ``JSON`` library.\n",
    "\n",
    "When we want to receive data from the API we first make a *request*.\n",
    "\n",
    "To do so in python, we need to install the ``requests`` library. \n",
    "\n",
    "Open the virtual environment you are using for this course and run"
   ]
  },
  {
   "cell_type": "code",
   "execution_count": null,
   "id": "dfbd6234-adbb-4e6f-83b4-a79f7ec8957f",
   "metadata": {},
   "outputs": [],
   "source": [
    "! pip install requests \n",
    "## Recall: The exclamation mark to the left makes this command run in the associated terminal"
   ]
  },
  {
   "cell_type": "markdown",
   "id": "bd12de16-e9e0-41c3-a937-e6929045edbe",
   "metadata": {},
   "source": [
    "If you are using conda you can write ``conda install requests``."
   ]
  },
  {
   "cell_type": "markdown",
   "id": "22ef22cb-1942-4486-97e0-d04781aea43e",
   "metadata": {},
   "source": [
    "As soon as we have installed it we can import it"
   ]
  },
  {
   "cell_type": "code",
   "execution_count": null,
   "id": "f92e4d5a-5177-4b88-805b-4d8f415bf588",
   "metadata": {},
   "outputs": [],
   "source": [
    "import requests"
   ]
  },
  {
   "cell_type": "markdown",
   "id": "f2eaad38-b18f-436c-9711-9afc6814f4c2",
   "metadata": {},
   "source": [
    "### Example: NASA's APOD API\n",
    "\n",
    "Let us test out [NASA's open API](https://api.nasa.gov/):"
   ]
  },
  {
   "cell_type": "code",
   "execution_count": null,
   "id": "738c1cfe-94f4-462c-b458-cd8e0dd1cf1f",
   "metadata": {},
   "outputs": [],
   "source": [
    "demo_key = \"DEMO_KEY\"\n",
    "\n",
    "url = \"https://api.nasa.gov/planetary/apod?api_key=\" + demo_key\n",
    "\n",
    "response = requests.get(url)\n",
    "response"
   ]
  },
  {
   "cell_type": "code",
   "execution_count": null,
   "id": "73f67c1d-30e7-44e9-908b-9eb555d84f78",
   "metadata": {},
   "outputs": [],
   "source": [
    "import json\n",
    "data = response.json()\n",
    "from IPython.display import Image\n",
    "from IPython.core.display import HTML \n",
    "\n",
    "print(response.json()['explanation'])\n",
    "Image(url=data['url'], width=600)"
   ]
  },
  {
   "cell_type": "markdown",
   "id": "043b91f6-ebe8-4a5e-a6ba-5ecf8936592d",
   "metadata": {},
   "source": [
    "## Key concepts:\n",
    "\n",
    "**Get and post**\n",
    "\n",
    "The two most common requests we make are ``get`` and ``post``:\n",
    "- ``Get`` is used for viewing (without changing)\n",
    "- ``Post`` is used for viewing and possibly changing\n",
    "\n",
    "**Response codes**\n",
    "\n",
    "We can check the response code to see if our request was successfull. "
   ]
  },
  {
   "cell_type": "code",
   "execution_count": null,
   "id": "c16da466-f91b-45a1-8d9f-db00153995f2",
   "metadata": {},
   "outputs": [],
   "source": [
    "if response.status_code == 200:\n",
    "    print('Request succeeded!')\n",
    "else: \n",
    "    print(f'Uhoh, we got response code {response.status_code}...')"
   ]
  },
  {
   "cell_type": "markdown",
   "id": "cb11525d-972d-4389-b1b5-d9db8abce370",
   "metadata": {},
   "source": [
    "Here are some common status codes: \n",
    "\n",
    "(defined by HTTP)\n",
    "\n",
    "| Code | Status | Description |\n",
    "| --- | --- | --- |\n",
    "| 200 | OK | The request was successfully completed   |\n",
    "| 400 | Bad request| The request was invalid. |\n",
    "| 401 | Unauthorized | The request did not include an authentication token or the authentication token was expired. |\n",
    "| 403 | Forbidden | The client did not have permission to access the requested resource. |\n",
    "| 404 | Not Found | The requested resource was not found. |\n",
    "| 405 | Not Allowed | The client did not have permission to access the requested resource. |\n",
    "| 500 | Internal Server Error | The request was not completed due to an internal error on the server side. |\n",
    "| 503 | Service unavailable | The server was unavailable. |\n",
    "\n",
    "**Headers**\n",
    "\n",
    "We can communicate metadata (like who we are) to the API by means of a *header*.\n",
    "\n",
    "The API also communicates back to us with a header:\n"
   ]
  },
  {
   "cell_type": "code",
   "execution_count": null,
   "id": "76a6990f-1a0f-4793-85aa-8edee2b472c2",
   "metadata": {},
   "outputs": [],
   "source": [
    "response.headers"
   ]
  },
  {
   "cell_type": "markdown",
   "id": "a9f5ef56-f651-467c-a6e0-84573ccd0ff7",
   "metadata": {},
   "source": [
    "**Etiquette** \n",
    "\n",
    "When you access a public data API you are expected to follow the playing rules of the API. Therefore you should always start by checking the documentation on the website for the API.\n",
    "\n",
    "<div>\n",
    "<img src=\"images/rtfm.png\" width=\"250\"/>\n",
    "</div>\n",
    "\n",
    "In programming this is often referred to as RTFM (read the freaking manual).\n",
    "\n",
    "[xkcd: RTFM](https://xkcd.com/293/)\n",
    "\n",
    "### Exercise\n",
    "\n",
    "1. Make a get request and parse the data from Kanye Rest API:\n",
    "\n",
    "(it does not have any specific playing rules)"
   ]
  },
  {
   "cell_type": "code",
   "execution_count": null,
   "id": "80f859ea-35fa-41ab-a5ce-eaf135c2bae1",
   "metadata": {},
   "outputs": [],
   "source": [
    "url = 'https://api.kanye.rest/'\n",
    "\n",
    "r = requests.get( ... )\n",
    "\n",
    "data = r. .... "
   ]
  },
  {
   "cell_type": "code",
   "execution_count": null,
   "id": "5473344a-4bea-4e0b-9e29-ef6abdbe4db2",
   "metadata": {},
   "outputs": [],
   "source": [
    "requests.get?"
   ]
  },
  {
   "cell_type": "markdown",
   "id": "21076f8f-f1d9-4cd0-86ca-56c92974e42c",
   "metadata": {},
   "source": [
    "-----------\n",
    "## Data formats"
   ]
  },
  {
   "cell_type": "markdown",
   "id": "c1d7ea7e-c2b0-48c6-8bef-bf40637deae8",
   "metadata": {},
   "source": [
    "\n",
    "The actual data typically gets returned in a ``JSON``, ``XML`` or ``CSV file``.\n",
    "\n",
    "\n",
    "### CSV\n",
    "\n",
    "A Comma-Separated Values file is a delimited text file that uses a comma to separate values. It typically stores *tabular data*.\n",
    "\n",
    "<div>\n",
    "<img src=\"images/covid-nums.png\" width=\"300\"/>\n",
    "</div>\n",
    "\n",
    "*Example*: FHI provides [data](https://www.fhi.no/sv/smittsomme-sykdommer/corona/dags--og-ukerapporter/dags--og-ukerapporter-om-koronavirus/) about the number of confirmed COVID cases in Norway as a .csv file.\n",
    "\n",
    "\n",
    "\n",
    "### JSON\n",
    "JSON is the most common way of sending data back and forth in APIs. \n",
    "\n",
    "A JavaScript Object Notation (JSON) file encodes *data structures* so that they are easy to read for machines and somewhat easy to read for humans.\n",
    "\n",
    "JSON is a text file or string that follows the JavaScript object syntax. Most programming languages will have the ability to read (parse) and generate JSON files. \n",
    "\n",
    "The ``json`` library in Python has two main functions:\n",
    "- `json.dumps()` Takes in a python object and converts it (dumps it) to a string\n",
    "- `json.loads()` Takes in a JSON string and converts it (loads it) to a Python object.\n",
    "\n",
    "which will convert from/to the following formats\n",
    "\n",
    "| JSON | Python | \n",
    "| --- | --- | \n",
    "| object | dict | \n",
    "| array  | list | \n",
    "| string | str  | \n",
    "| number (int) |  int | \n",
    "| number (real) | float | \n",
    "| true | True | \n",
    "| false | False | \n",
    "| null | None | \n",
    "\n",
    "\n",
    "Let's look at what NASA gave us\n"
   ]
  },
  {
   "cell_type": "code",
   "execution_count": null,
   "id": "2f441d24-0ced-468a-958c-60d146118a17",
   "metadata": {},
   "outputs": [],
   "source": [
    "import json\n",
    "\n",
    "# Load data using response.json \n",
    "response.json?"
   ]
  },
  {
   "cell_type": "code",
   "execution_count": null,
   "id": "0188bf0a-571f-4839-a975-2a1f31fc075f",
   "metadata": {},
   "outputs": [],
   "source": [
    "data = response.json()\n",
    "\n",
    "print('Response.json is a ' + str(type(data)))\n",
    "print('Printing it yields: ')\n",
    "\n",
    "response.json()"
   ]
  },
  {
   "cell_type": "markdown",
   "id": "77c72810-83c3-43ee-9111-3b7151603000",
   "metadata": {},
   "source": [
    "-------\n",
    "\n",
    "### Exercise"
   ]
  },
  {
   "cell_type": "markdown",
   "id": "ebb9f1e5-e9ac-444a-beed-e44f9daf03c8",
   "metadata": {},
   "source": [
    "2. Make a get request from the [NASA Mars Rover API](https://api.nasa.gov/) to get pictures from Mars. \n",
    "3. Specifiy the camera viewpoint in parameters"
   ]
  },
  {
   "cell_type": "code",
   "execution_count": null,
   "id": "8e62729d-2b99-44b5-a735-692ec951487e",
   "metadata": {},
   "outputs": [],
   "source": [
    "\n",
    "# Get satellite image from Houston\n",
    "parameters = { \n",
    "    'sol': 1000,\n",
    "}\n",
    "\n",
    "url = 'https://api.nasa.gov/mars-photos/api/v1/rovers/curiosity/photos?page=1&api_key=DEMO_KEY'\n",
    "r = requests.get( url, parameters )\n",
    "r.json()"
   ]
  },
  {
   "cell_type": "markdown",
   "id": "f0859247-1322-4e0d-afda-1fbf75c34b66",
   "metadata": {
    "tags": []
   },
   "source": [
    "## Entur API\n",
    "\n",
    "The NASA is a good 'hello world' example of APIs but it does not quite showcase the usefullness of APIs. \n",
    "\n",
    "Entur has APIs is an example of an open API, that features both an open source code and APIs for stops, real-time data, mobility trends etc.\n",
    "\n",
    "The following snippet is adapted from [ruterstop](https://github.com/stigok/ruterstop) by [stigok](https://github.com/stigok):"
   ]
  },
  {
   "cell_type": "code",
   "execution_count": null,
   "id": "06bf2607-a825-4f88-bc53-d140655fea09",
   "metadata": {},
   "outputs": [],
   "source": [
    "stop_id = 5926\n",
    "\n",
    "__version__ = \"0.5.1\"\n",
    "\n",
    "ENTUR_CLIENT_ID = __version__\n",
    "\n",
    "ENTUR_GRAPHQL_ENDPOINT = \"https://api.entur.io/journey-planner/v2/graphql\"\n",
    "\n",
    "ENTUR_GRAPHQL_QUERY = \"\"\"\n",
    "{\n",
    "  stopPlace(id: \"NSR:StopPlace:5926\") {\n",
    "    name\n",
    "    estimatedCalls(timeRange: 72100, numberOfDepartures: 20) {\n",
    "      expectedArrivalTime\n",
    "      realtime\n",
    "      destinationDisplay {\n",
    "        frontText\n",
    "      }\n",
    "      serviceJourney {\n",
    "        directionType\n",
    "        line {\n",
    "          publicCode\n",
    "        }\n",
    "      }\n",
    "    }\n",
    "  }\n",
    "}\n",
    "\"\"\"\n",
    "\n",
    "headers = {\n",
    "        \"Accept\": \"application/json\",\n",
    "        \"ET-Client-Name\": \"UIO:IN3110 - ingeborggjerde\",\n",
    "        \"ET-Client-Id\": ENTUR_CLIENT_ID,\n",
    "    }\n",
    "\n",
    "qry = ENTUR_GRAPHQL_QUERY % dict(stop_id=stop_id)\n",
    "res = requests.post(\n",
    "    ENTUR_GRAPHQL_ENDPOINT,\n",
    "    headers=headers,\n",
    "    timeout=5,\n",
    "    json=dict(query=qry, variables={}),\n",
    ")"
   ]
  },
  {
   "cell_type": "code",
   "execution_count": null,
   "id": "74428afb-69e2-4517-a99b-13a90810a2d5",
   "metadata": {},
   "outputs": [],
   "source": [
    "res.json()"
   ]
  }
 ],
 "metadata": {
  "kernelspec": {
   "display_name": "Python 3 (ipykernel)",
   "language": "python",
   "name": "python3"
  },
  "language_info": {
   "codemirror_mode": {
    "name": "ipython",
    "version": 3
   },
   "file_extension": ".py",
   "mimetype": "text/x-python",
   "name": "python",
   "nbconvert_exporter": "python",
   "pygments_lexer": "ipython3",
   "version": "3.8.10"
  }
 },
 "nbformat": 4,
 "nbformat_minor": 5
}
