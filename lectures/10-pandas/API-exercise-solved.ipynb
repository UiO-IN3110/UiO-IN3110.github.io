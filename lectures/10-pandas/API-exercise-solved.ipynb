{
 "cells": [
  {
   "cell_type": "markdown",
   "metadata": {},
   "source": [
    "# Rain in Bergen\n",
    "\n",
    "<img src=\"images/bergen.png\" style=\"width: 500px;\"/>\n",
    "\n",
    "Bergen is famous for having a lot of rain. So much so that the Bergen bunad features umbrella-themed silver:\n",
    "\n",
    "<img src=\"images/bergen-solv.png\" style=\"width: 400px;\"/>\n",
    "\n",
    "To practise ``get`` requests, ``json`` and plotting, we are going to make a bar plot of the rain in Bergen by month. To do so, we will access historical data from MET.\n",
    "\n",
    "## Frost API\n",
    "\n",
    "The [Frost API](https://frost.met.no/index.html) from MET provides historical weather and climate data of e.g. temperature, precipitation and wind. \n",
    "\n",
    "**Step 1**\n",
    "\n",
    "Check the conditions for using this API.\n",
    "\n",
    "What rules do they have for using the API?\n",
    "\n",
    "**Step 2**\n",
    "\n",
    "Complete the following code snippet so that it gets the precipitation per day in Bergen\n",
    "\n",
    "You can use the following parameters for the get request\n",
    "\n",
    "| Key | Value |\n",
    "| --- | --- | \n",
    "| 'sources' | 'SN50540' | \n",
    "| 'elements' | 'sum(precipitation_amount P1D)' | \n",
    "| 'referencetime' | '2020-01-01/2020-12-31' | \n",
    "\n",
    "   \n",
    "Blindern has the code SN18700\n",
    "\n",
    "   "
   ]
  },
  {
   "cell_type": "code",
   "execution_count": 4,
   "metadata": {},
   "outputs": [
    {
     "name": "stdout",
     "output_type": "stream",
     "text": [
      "Request succeeded\n"
     ]
    }
   ],
   "source": [
    "import requests\n",
    "import json\n",
    "\n",
    "# Insert your own client ID here\n",
    "client_id = '9c3a6435-0847-42f8-8395-9b4e7ff42f05'\n",
    "\n",
    "# Define url for the get request\n",
    "url = 'https://frost.met.no/observations/v0.jsonld'\n",
    "\n",
    "# Define parameters for the get request (as a dictionary)\n",
    "parameters = { 'sources': 'SN50540',\n",
    "               'elements': 'sum(precipitation_amount P1D)',\n",
    "               'referencetime': '2020-01-01/2020-12-31'\n",
    "             }\n",
    "\n",
    "# Issue an HTTP GET request\n",
    "r = requests.get(url, parameters, auth=(client_id,''))\n",
    "\n",
    "# Check if the request worked, print out any errors\n",
    "if r.status_code==200:\n",
    "    print('Request succeeded')\n",
    "else: \n",
    "    print(f'Uhoh, we got an error, error code is {r.status_code}')"
   ]
  },
  {
   "cell_type": "markdown",
   "metadata": {},
   "source": [
    "Let's check the data we received"
   ]
  },
  {
   "cell_type": "code",
   "execution_count": 5,
   "metadata": {},
   "outputs": [
    {
     "name": "stdout",
     "output_type": "stream",
     "text": [
      "dict_keys(['@context', '@type', 'apiVersion', 'license', 'createdAt', 'queryTime', 'currentItemCount', 'itemsPerPage', 'offset', 'totalItemCount', 'currentLink', 'data'])\n"
     ]
    }
   ],
   "source": [
    "print(r.json().keys())"
   ]
  },
  {
   "cell_type": "markdown",
   "metadata": {},
   "source": [
    "We probably want the data"
   ]
  },
  {
   "cell_type": "code",
   "execution_count": 6,
   "metadata": {},
   "outputs": [
    {
     "name": "stdout",
     "output_type": "stream",
     "text": [
      "The data is in the form of a: <class 'list'>\n"
     ]
    }
   ],
   "source": [
    "print('The data is in the form of a: ' + str(type(r.json()['data'])))"
   ]
  },
  {
   "cell_type": "markdown",
   "metadata": {},
   "source": [
    "**Step 3:**\n",
    "\n",
    "Parse through the data. Make a dictionary of the total rain by month. "
   ]
  },
  {
   "cell_type": "code",
   "execution_count": 7,
   "metadata": {},
   "outputs": [],
   "source": [
    "prec_per_month = {}\n",
    "\n",
    "data = r.json()['data']\n",
    "\n",
    "for i in range(len(data)):\n",
    "\n",
    "    month = int(r.json()['data'][i]['referenceTime'][5:7])\n",
    "    prec = r.json()['data'][i]['observations'][0]['value']\n",
    "    \n",
    "    if month in prec_per_month: \n",
    "        prec_per_month[month] += prec\n",
    "    else:\n",
    "        prec_per_month[month] = prec\n",
    "\n",
    "tot_prec = prec_per_month.values()\n",
    "months = prec_per_month.keys()\n"
   ]
  },
  {
   "cell_type": "code",
   "execution_count": 8,
   "metadata": {},
   "outputs": [
    {
     "data": {
      "text/plain": [
       "{1: 469.2,\n",
       " 2: 334.1,\n",
       " 3: 257.5,\n",
       " 4: 173.10000000000002,\n",
       " 5: 114.6,\n",
       " 6: 46.0,\n",
       " 7: 222.79999999999993,\n",
       " 8: 171.70000000000002,\n",
       " 9: 383.2,\n",
       " 10: 188.10000000000002,\n",
       " 11: 480.5999999999999,\n",
       " 12: 210.5}"
      ]
     },
     "execution_count": 8,
     "metadata": {},
     "output_type": "execute_result"
    }
   ],
   "source": [
    "prec_per_month"
   ]
  },
  {
   "cell_type": "markdown",
   "metadata": {},
   "source": [
    "Next we want to plot this data in a bar plot. \n",
    "\n",
    "To do this we use pyplot:\n",
    "\n",
    "## Pyplot"
   ]
  },
  {
   "cell_type": "markdown",
   "metadata": {},
   "source": [
    "In pyplot, the *figure* (an instance of the class ``plt.Figure``) can be thought of as a single container that contains all the objects representing axes, graphics, text and labels. The *axes* (an instance of the class ``plt.axes``) is more or less what is shown above: a bounding box with ticks and labels, which we will fill with plot elements. \n",
    "\n",
    "We want to add a bar plot to ``ax``"
   ]
  },
  {
   "cell_type": "markdown",
   "metadata": {},
   "source": [
    "**Step 4**\n",
    "\n",
    "Make a bar plot showing the total precipitation each month. "
   ]
  },
  {
   "cell_type": "code",
   "execution_count": 10,
   "metadata": {},
   "outputs": [
    {
     "data": {
      "text/plain": [
       "<BarContainer object of 12 artists>"
      ]
     },
     "execution_count": 10,
     "metadata": {},
     "output_type": "execute_result"
    },
    {
     "data": {
      "image/png": "[encoded data removed]",
      "text/plain": [
       "<Figure size 432x288 with 1 Axes>"
      ]
     },
     "metadata": {
      "needs_background": "light"
     },
     "output_type": "display_data"
    }
   ],
   "source": [
    "import matplotlib.pyplot as plt\n",
    "fig = plt.figure()\n",
    "ax = plt.axes()\n",
    "\n",
    "months = list(prec_per_month.keys())\n",
    "height = list(prec_per_month.values())\n",
    "\n",
    "ax.bar(x= months, height = height)\n",
    "\n",
    "# You can save the figure to a png\n",
    "#fig.savefig('rain.png')"
   ]
  },
  {
   "cell_type": "markdown",
   "metadata": {},
   "source": [
    "**Step 5**\n",
    "\n",
    "Format the bar plot so that the xticks show the abbreviated month name. \n",
    "\n",
    "Tip: Use the calendar package. There you can ask for calendar.month_abbr, which is a list of abbreviations of the month names"
   ]
  },
  {
   "cell_type": "code",
   "execution_count": 11,
   "metadata": {},
   "outputs": [
    {
     "data": {
      "image/png": "[encoded data removed]",
      "text/plain": [
       "<Figure size 432x288 with 1 Axes>"
      ]
     },
     "execution_count": 11,
     "metadata": {},
     "output_type": "execute_result"
    }
   ],
   "source": [
    "\n",
    "import time\n",
    "import calendar\n",
    "\n",
    "xticks = months # this should be a list of xtick values\n",
    "xtick_vals = [calendar.month_abbr[i] for i in xticks ] # this should be a list of the corresponding xtick labels\n",
    "\n",
    "ax.set_xticks( xticks )\n",
    "ax.set_xticklabels(xtick_vals)\n",
    "\n",
    "ax.set_ylabel('mm rain')\n",
    "ax.set_title('Monthly total precipitation in Bergen (2018-2020)')\n",
    "fig"
   ]
  },
  {
   "cell_type": "markdown",
   "metadata": {},
   "source": [
    "**Step 6**\n",
    "Check the total rain for different time periods, for example for a 2 year period. Are there any general trends?"
   ]
  }
 ],
 "metadata": {
  "kernelspec": {
   "display_name": "Python 3",
   "language": "python",
   "name": "python3"
  },
  "language_info": {
   "codemirror_mode": {
    "name": "ipython",
    "version": 3
   },
   "file_extension": ".py",
   "mimetype": "text/x-python",
   "name": "python",
   "nbconvert_exporter": "python",
   "pygments_lexer": "ipython3",
   "version": "3.8.5"
  }
 },
 "nbformat": 4,
 "nbformat_minor": 5
}
