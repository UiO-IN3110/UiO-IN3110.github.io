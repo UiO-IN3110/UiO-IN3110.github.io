{
 "cells": [
  {
   "cell_type": "markdown",
   "id": "ea0d5443",
   "metadata": {},
   "source": [
    "# Pandas - Data Analysis with Python\n",
    "(last update 11/10/23)\n",
    "\n",
    "Pandas is a high-performance, easy-to-use data structures and data analysis tools.\n",
    "\n",
    "<img src=\"images/pandas.jpg\" style=\"width: 500px;\"/>\n",
    "\n",
    "**There is abundance of data and we should/need to make sense of it**\n",
    "- Smart devices, Strava, ...\n",
    "- [SSB](https://data.ssb.no/api/) Statistics Norway *\n",
    "- [EuroStat](https://ec.europa.eu/eurostat/web/population-demography/demography-population-stock-balance/database) Statistics Europe *\n",
    "- [Kaggle](https://www.kaggle.com/datasets/) Data Science compatitions*\n",
    "- [Quandl](https://www.quandl.com/) for finances\n",
    "- [Yr](http://om.yr.no/verdata/free-weather-data/)\n",
    "- [Oslo Bysykkel API](https://developer.oslobysykkel.no) **\n",
    "\n",
    "(We will work with these ones today in lecture* or exercises**)"
   ]
  },
  {
   "cell_type": "markdown",
   "id": "2797e613",
   "metadata": {},
   "source": [
    "## What is Pandas good for?\n",
    "\n",
    "Working with (large) data sets and created automated data processes.\n",
    "\n",
    "Pandas is extensively used to prepare data in data science (machine learning, data analytics, ...)\n",
    "\n",
    "Examples:\n",
    "- Import and export data into standard formats (CSV, Excel, Latex, ..).\n",
    "- Combine with Numpy for advanced computations or Matplotlib for visualisations.\n",
    "- Calculate statistics and answer questions about the data, like\n",
    "- What's the average, median, max, or min of each column?\n",
    "  - Does column A correlate with column B?\n",
    "  - What does the distribution of data in column C look like?\n",
    "- Clean up data (e.g. fill out missing information and fix inconsistent formatting) and merge multiple data sets into one common one"
   ]
  },
  {
   "cell_type": "markdown",
   "id": "af51a27b",
   "metadata": {},
   "source": [
    "## More information\n",
    "\n",
    "* Official Pandas documentation: http://pandas.pydata.org/pandas-docs/stable/tutorials.html \n",
    "* Pandas cookbook: http://pandas.pydata.org/pandas-docs/stable/cookbook.html\n",
    "* Wes McKinney, Python for Data Analysis \n",
    "![Python for Data Analysis](images/python_for_data_analysis.gif \"Python for Data Analysis\")\n",
    "* [Python Data Science Handbook](https://github.com/jakevdp/PythonDataScienceHandbook) by Jake VanderPlas *(We follow Chapter 4 in this lecture)*\n",
    "<img src=\"./images/PDSH-cover.png\" style=\"width: 200px;\"/>\n",
    "\n",
    "## This lecture\n",
    "- Part1 Introduction to Pandas\n",
    "- Part2 Hands on examples with real data"
   ]
  },
  {
   "cell_type": "markdown",
   "id": "e2e43d5e",
   "metadata": {},
   "source": [
    "## Installation\n",
    "\n",
    "- If you have Anaconda: Already installed\n",
    "- If you have Miniconda: \n",
    "      `conda install pandas`\n",
    "- If you have your another Python distribution: \n",
    "      `python3 -m pip install pandas`"
   ]
  },
  {
   "cell_type": "markdown",
   "id": "d2a60315",
   "metadata": {},
   "source": [
    "Let's dive in"
   ]
  },
  {
   "cell_type": "code",
   "execution_count": 1,
   "id": "c2044821",
   "metadata": {},
   "outputs": [],
   "source": [
    "import pandas as pd"
   ]
  },
  {
   "cell_type": "markdown",
   "id": "36309d38",
   "metadata": {},
   "source": [
    "## Pandas `Series` object\n",
    "`Series` is 1d series of data similar to `numpy.array`."
   ]
  },
  {
   "cell_type": "code",
   "execution_count": 2,
   "id": "f406d68c",
   "metadata": {},
   "outputs": [
    {
     "data": {
      "text/plain": [
       "array([4, 5, 6, 7, 8])"
      ]
     },
     "execution_count": 2,
     "metadata": {},
     "output_type": "execute_result"
    }
   ],
   "source": [
    "series = pd.Series([4, 5, 6, 7, 8])\n",
    "series.values"
   ]
  },
  {
   "cell_type": "code",
   "execution_count": 3,
   "id": "92af4f37",
   "metadata": {},
   "outputs": [
    {
     "data": {
      "text/plain": [
       "RangeIndex(start=0, stop=5, step=1)"
      ]
     },
     "execution_count": 3,
     "metadata": {},
     "output_type": "execute_result"
    }
   ],
   "source": [
    "series.index"
   ]
  },
  {
   "cell_type": "code",
   "execution_count": 4,
   "id": "d150b2ae",
   "metadata": {},
   "outputs": [
    {
     "data": {
      "text/plain": [
       "(dtype('int64'), dtype('int64'))"
      ]
     },
     "execution_count": 4,
     "metadata": {},
     "output_type": "execute_result"
    }
   ],
   "source": [
    "(series.values.dtype, series.index.dtype)"
   ]
  },
  {
   "cell_type": "markdown",
   "id": "0c93d0a6",
   "metadata": {},
   "source": [
    "We see that `series` are indexed and both `values` and `index` are typed. As we saw with numpy this has performance benefits. The similarity with `numpy.array`"
   ]
  },
  {
   "cell_type": "code",
   "execution_count": 5,
   "id": "8b20809b",
   "metadata": {},
   "outputs": [
    {
     "data": {
      "text/plain": [
       "4"
      ]
     },
     "execution_count": 5,
     "metadata": {},
     "output_type": "execute_result"
    }
   ],
   "source": [
    "series[0]"
   ]
  },
  {
   "cell_type": "code",
   "execution_count": 6,
   "id": "86a1897b",
   "metadata": {},
   "outputs": [
    {
     "data": {
      "text/plain": [
       "0    16\n",
       "1    25\n",
       "2    36\n",
       "3    49\n",
       "4    64\n",
       "dtype: int64"
      ]
     },
     "execution_count": 6,
     "metadata": {},
     "output_type": "execute_result"
    }
   ],
   "source": [
    "import numpy as np\n",
    "\n",
    "np.power(series, 2)"
   ]
  },
  {
   "cell_type": "markdown",
   "id": "07982899",
   "metadata": {},
   "source": [
    "However, the indices do not need to be numbers (and neither need to be the values)"
   ]
  },
  {
   "cell_type": "code",
   "execution_count": 7,
   "id": "622cfd94",
   "metadata": {},
   "outputs": [
    {
     "data": {
      "text/plain": [
       "A    65\n",
       "B    66\n",
       "C    67\n",
       "D    68\n",
       "E    69\n",
       "F    70\n",
       "G    71\n",
       "H    72\n",
       "I    73\n",
       "J    74\n",
       "dtype: int64"
      ]
     },
     "execution_count": 7,
     "metadata": {},
     "output_type": "execute_result"
    }
   ],
   "source": [
    "values = list(range(65, 75))\n",
    "index = [chr(v) for v in values]\n",
    "series = pd.Series(values, index=index)\n",
    "series"
   ]
  },
  {
   "cell_type": "markdown",
   "id": "fa34188b",
   "metadata": {},
   "source": [
    "The `series` than behaves also like a dictionary, although it supports fancy indexing."
   ]
  },
  {
   "cell_type": "code",
   "execution_count": 8,
   "id": "e9a7d303",
   "metadata": {},
   "outputs": [
    {
     "data": {
      "text/plain": [
       "(65,\n",
       " D    68\n",
       " E    69\n",
       " F    70\n",
       " G    71\n",
       " H    72\n",
       " dtype: int64)"
      ]
     },
     "execution_count": 8,
     "metadata": {},
     "output_type": "execute_result"
    }
   ],
   "source": [
    "series[\"A\"], series[\"D\":\"H\"]"
   ]
  },
  {
   "cell_type": "markdown",
   "id": "1f9d8317",
   "metadata": {},
   "source": [
    "Continuing the analogy with dictionary a possible way to make `series` is from a dictionary"
   ]
  },
  {
   "cell_type": "code",
   "execution_count": 9,
   "id": "5d106c76",
   "metadata": {},
   "outputs": [
    {
     "data": {
      "text/plain": [
       "Washington    United States of America\n",
       "London                   Great Britain\n",
       "Oslo                            Norway\n",
       "dtype: object"
      ]
     },
     "execution_count": 9,
     "metadata": {},
     "output_type": "execute_result"
    }
   ],
   "source": [
    "data = {\n",
    "    \"Washington\": \"United States of America\",\n",
    "    \"London\": \"Great Britain\",\n",
    "    \"Oslo\": \"Norway\",\n",
    "}\n",
    "series = pd.Series(data)\n",
    "series"
   ]
  },
  {
   "cell_type": "markdown",
   "id": "6f932cf4",
   "metadata": {},
   "source": [
    "Note that for values that are amenable to `str` we have the string methods ..."
   ]
  },
  {
   "cell_type": "code",
   "execution_count": 10,
   "id": "1ca733e8",
   "metadata": {},
   "outputs": [
    {
     "data": {
      "text/plain": [
       "Washington    UNITED STATES OF AMERICA\n",
       "London                   GREAT BRITAIN\n",
       "Oslo                            NORWAY\n",
       "dtype: object"
      ]
     },
     "execution_count": 10,
     "metadata": {},
     "output_type": "execute_result"
    }
   ],
   "source": [
    "series.str.upper()"
   ]
  },
  {
   "cell_type": "markdown",
   "id": "53e6d660",
   "metadata": {},
   "source": [
    "... and so we can for example compute a mask using regular expressions (here looking for states with 2 word names) ..."
   ]
  },
  {
   "cell_type": "code",
   "execution_count": 11,
   "id": "8a94803f",
   "metadata": {},
   "outputs": [
    {
     "data": {
      "text/plain": [
       "Washington    False\n",
       "London         True\n",
       "Oslo          False\n",
       "dtype: bool"
      ]
     },
     "execution_count": 11,
     "metadata": {},
     "output_type": "execute_result"
    }
   ],
   "source": [
    "mask = series.str.match(r\"^\\w+\\s+\\w+$\")\n",
    "mask"
   ]
  },
  {
   "cell_type": "markdown",
   "id": "ff8efdd8",
   "metadata": {},
   "source": [
    "... which can be used to index into the series"
   ]
  },
  {
   "cell_type": "code",
   "execution_count": 12,
   "id": "192df8d1",
   "metadata": {},
   "outputs": [
    {
     "data": {
      "text/plain": [
       "London    Great Britain\n",
       "dtype: object"
      ]
     },
     "execution_count": 12,
     "metadata": {},
     "output_type": "execute_result"
    }
   ],
   "source": [
    "series[mask]"
   ]
  },
  {
   "cell_type": "markdown",
   "id": "eb652753",
   "metadata": {},
   "source": [
    "Some other examples of series indexing"
   ]
  },
  {
   "cell_type": "code",
   "execution_count": 13,
   "id": "29fb5f17",
   "metadata": {},
   "outputs": [
    {
     "data": {
      "text/plain": [
       "('United States of America',\n",
       " London    Great Britain\n",
       " Oslo             Norway\n",
       " dtype: object,\n",
       " Washington    United States of America\n",
       " London                   Great Britain\n",
       " dtype: object)"
      ]
     },
     "execution_count": 13,
     "metadata": {},
     "output_type": "execute_result"
    }
   ],
   "source": [
    "(series[0], series[\"London\":\"Oslo\"], series[0:2])"
   ]
  },
  {
   "cell_type": "markdown",
   "id": "661dbb9c",
   "metadata": {},
   "source": [
    "We can be more explicit about the indexing with indexers `loc` and `iloc`"
   ]
  },
  {
   "cell_type": "code",
   "execution_count": 14,
   "id": "62a0ae94",
   "metadata": {},
   "outputs": [
    {
     "data": {
      "text/plain": [
       "('United States of America',\n",
       " London    Great Britain\n",
       " Oslo             Norway\n",
       " dtype: object,\n",
       " Washington    United States of America\n",
       " London                   Great Britain\n",
       " dtype: object)"
      ]
     },
     "execution_count": 14,
     "metadata": {},
     "output_type": "execute_result"
    }
   ],
   "source": [
    "(series.iloc[0], series.loc[\"London\":\"Oslo\"], series.iloc[0:2])"
   ]
  },
  {
   "cell_type": "code",
   "execution_count": 15,
   "id": "5a7990b1",
   "metadata": {},
   "outputs": [
    {
     "data": {
      "text/plain": [
       "London    Great Britain\n",
       "Oslo             Norway\n",
       "dtype: object"
      ]
     },
     "execution_count": 15,
     "metadata": {},
     "output_type": "execute_result"
    }
   ],
   "source": [
    "series[1:3]"
   ]
  },
  {
   "cell_type": "code",
   "execution_count": 16,
   "id": "a6ec233e",
   "metadata": {},
   "outputs": [
    {
     "name": "stdout",
     "output_type": "stream",
     "text": [
      "The Zen of Python, by Tim Peters\n",
      "\n",
      "Beautiful is better than ugly.\n",
      "Explicit is better than implicit.\n",
      "Simple is better than complex.\n",
      "Complex is better than complicated.\n",
      "Flat is better than nested.\n",
      "Sparse is better than dense.\n",
      "Readability counts.\n",
      "Special cases aren't special enough to break the rules.\n",
      "Although practicality beats purity.\n",
      "Errors should never pass silently.\n",
      "Unless explicitly silenced.\n",
      "In the face of ambiguity, refuse the temptation to guess.\n",
      "There should be one-- and preferably only one --obvious way to do it.\n",
      "Although that way may not be obvious at first unless you're Dutch.\n",
      "Now is better than never.\n",
      "Although never is often better than *right* now.\n",
      "If the implementation is hard to explain, it's a bad idea.\n",
      "If the implementation is easy to explain, it may be a good idea.\n",
      "Namespaces are one honking great idea -- let's do more of those!\n"
     ]
    }
   ],
   "source": [
    "import this"
   ]
  },
  {
   "cell_type": "markdown",
   "id": "67195b07",
   "metadata": {},
   "source": [
    "But why does this matter? Consider"
   ]
  },
  {
   "cell_type": "code",
   "execution_count": 17,
   "id": "2cf685e5",
   "metadata": {},
   "outputs": [
    {
     "data": {
      "text/plain": [
       "7    a\n",
       "5    b\n",
       "4    c\n",
       "dtype: object"
      ]
     },
     "execution_count": 17,
     "metadata": {},
     "output_type": "execute_result"
    }
   ],
   "source": [
    "tricky = pd.Series([\"a\", \"b\", \"c\"], index=[7, 5, 4])\n",
    "tricky"
   ]
  },
  {
   "cell_type": "code",
   "execution_count": 18,
   "id": "a9f705d8",
   "metadata": {},
   "outputs": [],
   "source": [
    "# Let's demonstrate that we can sort\n",
    "tricky = tricky.sort_index()"
   ]
  },
  {
   "cell_type": "code",
   "execution_count": 19,
   "id": "4bb92a1e",
   "metadata": {},
   "outputs": [
    {
     "data": {
      "text/plain": [
       "4    c\n",
       "5    b\n",
       "7    a\n",
       "dtype: object"
      ]
     },
     "execution_count": 19,
     "metadata": {},
     "output_type": "execute_result"
    }
   ],
   "source": [
    "tricky"
   ]
  },
  {
   "cell_type": "code",
   "execution_count": 20,
   "id": "470a51b8",
   "metadata": {},
   "outputs": [
    {
     "data": {
      "text/plain": [
       "('c',\n",
       " 4    c\n",
       " 5    b\n",
       " dtype: object)"
      ]
     },
     "execution_count": 20,
     "metadata": {},
     "output_type": "execute_result"
    }
   ],
   "source": [
    "# Here we are refering to the value at row where index = 4 and values where at first though second row!\n",
    "# Try tricky.loc[4] vs tricky.iloc[4]\n",
    "(tricky.loc[4], tricky[0:2])"
   ]
  },
  {
   "cell_type": "markdown",
   "id": "248fdb4c",
   "metadata": {},
   "source": [
    "## Pandas `DataFrame` object\n",
    "Two dimensional data are represented by `DataFrame`s. Again *Pandas* allows for flexibility of what row/columns indices can be. `DataFrame`s can be constructed in a number of ways"
   ]
  },
  {
   "cell_type": "code",
   "execution_count": 21,
   "id": "8f0b4c8f",
   "metadata": {},
   "outputs": [
    {
     "data": {
      "text/plain": [
       "r0    0.341584\n",
       "r1    0.154689\n",
       "r2    0.829218\n",
       "r3    0.860563\n",
       "r4    0.482496\n",
       "r5    0.623338\n",
       "r6    0.951465\n",
       "r7    0.330926\n",
       "r8    0.805647\n",
       "r9    0.038046\n",
       "Name: c0, dtype: float64"
      ]
     },
     "execution_count": 21,
     "metadata": {},
     "output_type": "execute_result"
    }
   ],
   "source": [
    "def spreadsheet(nrows, ncols, start=0, cstart=0, base=0):\n",
    "    data = base + np.random.rand(nrows, ncols)\n",
    "    index = [f\"r{i}\" for i in range(start, start + nrows)]\n",
    "    columns = [f\"c{i}\" for i in range(cstart, cstart + ncols)]\n",
    "    # c0 c1 c2\n",
    "    # r0\n",
    "    # r1\n",
    "    return pd.DataFrame(data, index=index, columns=columns)\n",
    "\n",
    "\n",
    "data_frame = spreadsheet(10, 4)\n",
    "data_frame['c0']"
   ]
  },
  {
   "cell_type": "markdown",
   "id": "42e26647",
   "metadata": {},
   "source": [
    "For large frame it is usefull to look at portions of the data  "
   ]
  },
  {
   "cell_type": "code",
   "execution_count": 22,
   "id": "abd4fd58",
   "metadata": {},
   "outputs": [
    {
     "name": "stdout",
     "output_type": "stream",
     "text": [
      "10000\n"
     ]
    },
    {
     "data": {
      "text/html": [
       "<div>\n",
       "<style scoped>\n",
       "    .dataframe tbody tr th:only-of-type {\n",
       "        vertical-align: middle;\n",
       "    }\n",
       "\n",
       "    .dataframe tbody tr th {\n",
       "        vertical-align: top;\n",
       "    }\n",
       "\n",
       "    .dataframe thead th {\n",
       "        text-align: right;\n",
       "    }\n",
       "</style>\n",
       "<table border=\"1\" class=\"dataframe\">\n",
       "  <thead>\n",
       "    <tr style=\"text-align: right;\">\n",
       "      <th></th>\n",
       "      <th>c0</th>\n",
       "      <th>c1</th>\n",
       "      <th>c2</th>\n",
       "      <th>c3</th>\n",
       "    </tr>\n",
       "  </thead>\n",
       "  <tbody>\n",
       "    <tr>\n",
       "      <th>r0</th>\n",
       "      <td>0.658119</td>\n",
       "      <td>0.888360</td>\n",
       "      <td>0.151696</td>\n",
       "      <td>0.680974</td>\n",
       "    </tr>\n",
       "    <tr>\n",
       "      <th>r1</th>\n",
       "      <td>0.519551</td>\n",
       "      <td>0.838755</td>\n",
       "      <td>0.180593</td>\n",
       "      <td>0.933276</td>\n",
       "    </tr>\n",
       "    <tr>\n",
       "      <th>r2</th>\n",
       "      <td>0.149844</td>\n",
       "      <td>0.110505</td>\n",
       "      <td>0.253935</td>\n",
       "      <td>0.506687</td>\n",
       "    </tr>\n",
       "    <tr>\n",
       "      <th>r3</th>\n",
       "      <td>0.582279</td>\n",
       "      <td>0.171603</td>\n",
       "      <td>0.414131</td>\n",
       "      <td>0.822162</td>\n",
       "    </tr>\n",
       "    <tr>\n",
       "      <th>r4</th>\n",
       "      <td>0.721373</td>\n",
       "      <td>0.428403</td>\n",
       "      <td>0.404248</td>\n",
       "      <td>0.841991</td>\n",
       "    </tr>\n",
       "    <tr>\n",
       "      <th>r5</th>\n",
       "      <td>0.432620</td>\n",
       "      <td>0.953647</td>\n",
       "      <td>0.023574</td>\n",
       "      <td>0.614961</td>\n",
       "    </tr>\n",
       "    <tr>\n",
       "      <th>r6</th>\n",
       "      <td>0.939906</td>\n",
       "      <td>0.018228</td>\n",
       "      <td>0.556107</td>\n",
       "      <td>0.012206</td>\n",
       "    </tr>\n",
       "    <tr>\n",
       "      <th>r7</th>\n",
       "      <td>0.836547</td>\n",
       "      <td>0.463066</td>\n",
       "      <td>0.802324</td>\n",
       "      <td>0.835970</td>\n",
       "    </tr>\n",
       "    <tr>\n",
       "      <th>r8</th>\n",
       "      <td>0.440520</td>\n",
       "      <td>0.777486</td>\n",
       "      <td>0.042400</td>\n",
       "      <td>0.008710</td>\n",
       "    </tr>\n",
       "    <tr>\n",
       "      <th>r9</th>\n",
       "      <td>0.165533</td>\n",
       "      <td>0.267046</td>\n",
       "      <td>0.287619</td>\n",
       "      <td>0.101397</td>\n",
       "    </tr>\n",
       "  </tbody>\n",
       "</table>\n",
       "</div>"
      ],
      "text/plain": [
       "          c0        c1        c2        c3\n",
       "r0  0.658119  0.888360  0.151696  0.680974\n",
       "r1  0.519551  0.838755  0.180593  0.933276\n",
       "r2  0.149844  0.110505  0.253935  0.506687\n",
       "r3  0.582279  0.171603  0.414131  0.822162\n",
       "r4  0.721373  0.428403  0.404248  0.841991\n",
       "r5  0.432620  0.953647  0.023574  0.614961\n",
       "r6  0.939906  0.018228  0.556107  0.012206\n",
       "r7  0.836547  0.463066  0.802324  0.835970\n",
       "r8  0.440520  0.777486  0.042400  0.008710\n",
       "r9  0.165533  0.267046  0.287619  0.101397"
      ]
     },
     "execution_count": 22,
     "metadata": {},
     "output_type": "execute_result"
    }
   ],
   "source": [
    "data_frame = spreadsheet(10_000, 4)\n",
    "print(len(data_frame))\n",
    "data_frame.head(10)  # data_frame.tail is for the end part"
   ]
  },
  {
   "cell_type": "markdown",
   "id": "3ec0cb37",
   "metadata": {},
   "source": [
    "We can combines multiple series into a frame"
   ]
  },
  {
   "cell_type": "code",
   "execution_count": 23,
   "id": "c1249143",
   "metadata": {},
   "outputs": [
    {
     "data": {
      "text/html": [
       "<div>\n",
       "<style scoped>\n",
       "    .dataframe tbody tr th:only-of-type {\n",
       "        vertical-align: middle;\n",
       "    }\n",
       "\n",
       "    .dataframe tbody tr th {\n",
       "        vertical-align: top;\n",
       "    }\n",
       "\n",
       "    .dataframe thead th {\n",
       "        text-align: right;\n",
       "    }\n",
       "</style>\n",
       "<table border=\"1\" class=\"dataframe\">\n",
       "  <thead>\n",
       "    <tr style=\"text-align: right;\">\n",
       "      <th></th>\n",
       "      <th>nat</th>\n",
       "      <th>uni</th>\n",
       "    </tr>\n",
       "  </thead>\n",
       "  <tbody>\n",
       "    <tr>\n",
       "      <th>Min</th>\n",
       "      <td>USA</td>\n",
       "      <td>Berkeley</td>\n",
       "    </tr>\n",
       "    <tr>\n",
       "      <th>Ingeborg</th>\n",
       "      <td>NOR</td>\n",
       "      <td>Bergen</td>\n",
       "    </tr>\n",
       "    <tr>\n",
       "      <th>Miro</th>\n",
       "      <td>SVK</td>\n",
       "      <td>Oslo</td>\n",
       "    </tr>\n",
       "  </tbody>\n",
       "</table>\n",
       "</div>"
      ],
      "text/plain": [
       "          nat       uni\n",
       "Min       USA  Berkeley\n",
       "Ingeborg  NOR    Bergen\n",
       "Miro      SVK      Oslo"
      ]
     },
     "execution_count": 23,
     "metadata": {},
     "output_type": "execute_result"
    }
   ],
   "source": [
    "index = (\"Min\", \"Ingeborg\", \"Miro\")\n",
    "nationality = pd.Series([\"USA\", \"NOR\", \"SVK\"], index=index)\n",
    "university = pd.Series([\"Berkeley\", \"Bergen\", \"Oslo\"], index=index)\n",
    "\n",
    "instructors = pd.DataFrame({\"nat\": nationality, \"uni\": university})\n",
    "instructors"
   ]
  },
  {
   "cell_type": "code",
   "execution_count": 24,
   "id": "a1637cb0",
   "metadata": {},
   "outputs": [
    {
     "data": {
      "text/plain": [
       "(Index(['Min', 'Ingeborg', 'Miro'], dtype='object'),\n",
       " Index(['nat', 'uni'], dtype='object'))"
      ]
     },
     "execution_count": 24,
     "metadata": {},
     "output_type": "execute_result"
    }
   ],
   "source": [
    "(instructors.index, instructors.columns)"
   ]
  },
  {
   "cell_type": "markdown",
   "id": "35278bee",
   "metadata": {},
   "source": [
    "Anothor way of creating is using dictionaries"
   ]
  },
  {
   "cell_type": "code",
   "execution_count": 25,
   "id": "c105d950",
   "metadata": {},
   "outputs": [
    {
     "data": {
      "text/html": [
       "<div>\n",
       "<style scoped>\n",
       "    .dataframe tbody tr th:only-of-type {\n",
       "        vertical-align: middle;\n",
       "    }\n",
       "\n",
       "    .dataframe tbody tr th {\n",
       "        vertical-align: top;\n",
       "    }\n",
       "\n",
       "    .dataframe thead th {\n",
       "        text-align: right;\n",
       "    }\n",
       "</style>\n",
       "<table border=\"1\" class=\"dataframe\">\n",
       "  <thead>\n",
       "    <tr style=\"text-align: right;\">\n",
       "      <th></th>\n",
       "      <th>country</th>\n",
       "      <th>capital</th>\n",
       "      <th>pop</th>\n",
       "    </tr>\n",
       "  </thead>\n",
       "  <tbody>\n",
       "    <tr>\n",
       "      <th>0</th>\n",
       "      <td>CZE</td>\n",
       "      <td>Prague</td>\n",
       "      <td>5</td>\n",
       "    </tr>\n",
       "    <tr>\n",
       "      <th>1</th>\n",
       "      <td>NOR</td>\n",
       "      <td>Oslo</td>\n",
       "      <td>10</td>\n",
       "    </tr>\n",
       "    <tr>\n",
       "      <th>2</th>\n",
       "      <td>USA</td>\n",
       "      <td>Washington DC</td>\n",
       "      <td>300</td>\n",
       "    </tr>\n",
       "  </tbody>\n",
       "</table>\n",
       "</div>"
      ],
      "text/plain": [
       "  country        capital  pop\n",
       "0     CZE         Prague    5\n",
       "1     NOR           Oslo   10\n",
       "2     USA  Washington DC  300"
      ]
     },
     "execution_count": 25,
     "metadata": {},
     "output_type": "execute_result"
    }
   ],
   "source": [
    "f = pd.DataFrame(\n",
    "    {\n",
    "        \"country\": [\"CZE\", \"NOR\", \"USA\"],\n",
    "        \"capital\": [\"Prague\", \"Oslo\", \"Washington DC\"],\n",
    "        \"pop\": [5, 10, 300],\n",
    "    }\n",
    ")\n",
    "f"
   ]
  },
  {
   "cell_type": "markdown",
   "id": "fa86352e",
   "metadata": {},
   "source": [
    "When some column is unique we can designate it as index. Of course, tables can be stored in various formats. We will come back to reading later."
   ]
  },
  {
   "cell_type": "code",
   "execution_count": 26,
   "id": "0590475a",
   "metadata": {},
   "outputs": [
    {
     "name": "stdout",
     "output_type": "stream",
     "text": [
      "\\begin{tabular}{llr}\n",
      " & capital & pop \\\\\n",
      "country &  &  \\\\\n",
      "CZE & Prague & 5 \\\\\n",
      "NOR & Oslo & 10 \\\\\n",
      "USA & Washington DC & 300 \\\\\n",
      "\\end{tabular}\n",
      "\n"
     ]
    }
   ],
   "source": [
    "# LaTex\n",
    "import re\n",
    "\n",
    "fi = f.set_index(\"country\")\n",
    "\n",
    "tex_table = fi.style.to_latex()\n",
    "# To ease the prining\n",
    "for row in re.split(r\"\\n\", tex_table):\n",
    "    print(row)"
   ]
  },
  {
   "cell_type": "code",
   "execution_count": 27,
   "id": "a218f8de",
   "metadata": {},
   "outputs": [
    {
     "name": "stdout",
     "output_type": "stream",
     "text": [
      "country;capital;pop\n",
      "CZE;Prague;5\n",
      "NOR;Oslo;10\n",
      "USA;Washington DC;300\n",
      "\n"
     ]
    }
   ],
   "source": [
    "# CSV\n",
    "tex_table = fi.to_csv(sep=\";\")\n",
    "# To ease the prining\n",
    "for row in re.split(r\"\\n\", tex_table):\n",
    "    print(row)"
   ]
  },
  {
   "cell_type": "markdown",
   "id": "e9cf2fa0",
   "metadata": {},
   "source": [
    "Going back to frame creation, recall that above, the two series had a common index. What happens with the frame when this is not the case? Below we also illustrate another constructor."
   ]
  },
  {
   "cell_type": "code",
   "execution_count": 28,
   "id": "252d38cb",
   "metadata": {},
   "outputs": [
    {
     "data": {
      "text/html": [
       "<div>\n",
       "<style scoped>\n",
       "    .dataframe tbody tr th:only-of-type {\n",
       "        vertical-align: middle;\n",
       "    }\n",
       "\n",
       "    .dataframe tbody tr th {\n",
       "        vertical-align: top;\n",
       "    }\n",
       "\n",
       "    .dataframe thead th {\n",
       "        text-align: right;\n",
       "    }\n",
       "</style>\n",
       "<table border=\"1\" class=\"dataframe\">\n",
       "  <thead>\n",
       "    <tr style=\"text-align: right;\">\n",
       "      <th></th>\n",
       "      <th>Miro</th>\n",
       "      <th>Ingeborg</th>\n",
       "      <th>Min</th>\n",
       "      <th>Joe</th>\n",
       "    </tr>\n",
       "  </thead>\n",
       "  <tbody>\n",
       "    <tr>\n",
       "      <th>nation</th>\n",
       "      <td>SVK</td>\n",
       "      <td>NOR</td>\n",
       "      <td>USA</td>\n",
       "      <td>NaN</td>\n",
       "    </tr>\n",
       "    <tr>\n",
       "      <th>uni</th>\n",
       "      <td>Oslo</td>\n",
       "      <td>Bergen</td>\n",
       "      <td>Berkeley</td>\n",
       "      <td>Harvard</td>\n",
       "    </tr>\n",
       "    <tr>\n",
       "      <th>office</th>\n",
       "      <td>303</td>\n",
       "      <td>309</td>\n",
       "      <td>311</td>\n",
       "      <td>-1</td>\n",
       "    </tr>\n",
       "  </tbody>\n",
       "</table>\n",
       "</div>"
      ],
      "text/plain": [
       "        Miro Ingeborg       Min      Joe\n",
       "nation   SVK      NOR       USA      NaN\n",
       "uni     Oslo   Bergen  Berkeley  Harvard\n",
       "office   303      309       311       -1"
      ]
     },
     "execution_count": 28,
     "metadata": {},
     "output_type": "execute_result"
    }
   ],
   "source": [
    "nationality = {\"Miro\": \"SVK\", \"Ingeborg\": \"NOR\", \"Min\": \"USA\"}\n",
    "university = {\"Miro\": \"Oslo\", \"Ingeborg\": \"Bergen\", \"Min\": \"Berkeley\", \"Joe\": \"Harvard\"}\n",
    "office = {\"Miro\": 303, \"Ingeborg\": 309, \"Min\": 311, \"Joe\": -1}\n",
    "# Construct from list of dictionary using union of keys as columns - we need to fill in values for some\n",
    "# NOTE: here each dictionary essentially defines a row\n",
    "missing_data_frame = pd.DataFrame(\n",
    "    [nationality, university, office], index=[\"nation\", \"uni\", \"office\"]\n",
    ")\n",
    "missing_data_frame"
   ]
  },
  {
   "cell_type": "code",
   "execution_count": 29,
   "id": "3768d334",
   "metadata": {},
   "outputs": [
    {
     "data": {
      "text/html": [
       "<div>\n",
       "<style scoped>\n",
       "    .dataframe tbody tr th:only-of-type {\n",
       "        vertical-align: middle;\n",
       "    }\n",
       "\n",
       "    .dataframe tbody tr th {\n",
       "        vertical-align: top;\n",
       "    }\n",
       "\n",
       "    .dataframe thead th {\n",
       "        text-align: right;\n",
       "    }\n",
       "</style>\n",
       "<table border=\"1\" class=\"dataframe\">\n",
       "  <thead>\n",
       "    <tr style=\"text-align: right;\">\n",
       "      <th></th>\n",
       "      <th>nation</th>\n",
       "      <th>uni</th>\n",
       "      <th>office</th>\n",
       "    </tr>\n",
       "  </thead>\n",
       "  <tbody>\n",
       "    <tr>\n",
       "      <th>Miro</th>\n",
       "      <td>SVK</td>\n",
       "      <td>Oslo</td>\n",
       "      <td>303</td>\n",
       "    </tr>\n",
       "    <tr>\n",
       "      <th>Ingeborg</th>\n",
       "      <td>NOR</td>\n",
       "      <td>Bergen</td>\n",
       "      <td>309</td>\n",
       "    </tr>\n",
       "    <tr>\n",
       "      <th>Min</th>\n",
       "      <td>USA</td>\n",
       "      <td>Berkeley</td>\n",
       "      <td>311</td>\n",
       "    </tr>\n",
       "    <tr>\n",
       "      <th>Joe</th>\n",
       "      <td>NaN</td>\n",
       "      <td>Harvard</td>\n",
       "      <td>-1</td>\n",
       "    </tr>\n",
       "  </tbody>\n",
       "</table>\n",
       "</div>"
      ],
      "text/plain": [
       "         nation       uni office\n",
       "Miro        SVK      Oslo    303\n",
       "Ingeborg    NOR    Bergen    309\n",
       "Min         USA  Berkeley    311\n",
       "Joe         NaN   Harvard     -1"
      ]
     },
     "execution_count": 29,
     "metadata": {},
     "output_type": "execute_result"
    }
   ],
   "source": [
    "# Just to make it look better\n",
    "missing_data_frame = missing_data_frame.T\n",
    "missing_data_frame"
   ]
  },
  {
   "cell_type": "markdown",
   "id": "aaa72076",
   "metadata": {},
   "source": [
    "The missing value has been filled with a special value. Real data often suffer from lack of regularity. We can check for this"
   ]
  },
  {
   "cell_type": "code",
   "execution_count": 30,
   "id": "c3fc9e4c",
   "metadata": {},
   "outputs": [
    {
     "data": {
      "text/html": [
       "<div>\n",
       "<style scoped>\n",
       "    .dataframe tbody tr th:only-of-type {\n",
       "        vertical-align: middle;\n",
       "    }\n",
       "\n",
       "    .dataframe tbody tr th {\n",
       "        vertical-align: top;\n",
       "    }\n",
       "\n",
       "    .dataframe thead th {\n",
       "        text-align: right;\n",
       "    }\n",
       "</style>\n",
       "<table border=\"1\" class=\"dataframe\">\n",
       "  <thead>\n",
       "    <tr style=\"text-align: right;\">\n",
       "      <th></th>\n",
       "      <th>nation</th>\n",
       "      <th>uni</th>\n",
       "      <th>office</th>\n",
       "    </tr>\n",
       "  </thead>\n",
       "  <tbody>\n",
       "    <tr>\n",
       "      <th>Miro</th>\n",
       "      <td>False</td>\n",
       "      <td>False</td>\n",
       "      <td>False</td>\n",
       "    </tr>\n",
       "    <tr>\n",
       "      <th>Ingeborg</th>\n",
       "      <td>False</td>\n",
       "      <td>False</td>\n",
       "      <td>False</td>\n",
       "    </tr>\n",
       "    <tr>\n",
       "      <th>Min</th>\n",
       "      <td>False</td>\n",
       "      <td>False</td>\n",
       "      <td>False</td>\n",
       "    </tr>\n",
       "    <tr>\n",
       "      <th>Joe</th>\n",
       "      <td>True</td>\n",
       "      <td>False</td>\n",
       "      <td>False</td>\n",
       "    </tr>\n",
       "  </tbody>\n",
       "</table>\n",
       "</div>"
      ],
      "text/plain": [
       "          nation    uni  office\n",
       "Miro       False  False   False\n",
       "Ingeborg   False  False   False\n",
       "Min        False  False   False\n",
       "Joe         True  False   False"
      ]
     },
     "execution_count": 30,
     "metadata": {},
     "output_type": "execute_result"
    }
   ],
   "source": [
    "missing_data_frame.isna()"
   ]
  },
  {
   "cell_type": "markdown",
   "id": "821c9a7e",
   "metadata": {},
   "source": [
    "And the provide a missing value. Note that this can be done already when we are constructing the frame."
   ]
  },
  {
   "cell_type": "code",
   "execution_count": 31,
   "id": "dcb3812e",
   "metadata": {},
   "outputs": [
    {
     "data": {
      "text/html": [
       "<div>\n",
       "<style scoped>\n",
       "    .dataframe tbody tr th:only-of-type {\n",
       "        vertical-align: middle;\n",
       "    }\n",
       "\n",
       "    .dataframe tbody tr th {\n",
       "        vertical-align: top;\n",
       "    }\n",
       "\n",
       "    .dataframe thead th {\n",
       "        text-align: right;\n",
       "    }\n",
       "</style>\n",
       "<table border=\"1\" class=\"dataframe\">\n",
       "  <thead>\n",
       "    <tr style=\"text-align: right;\">\n",
       "      <th></th>\n",
       "      <th>nation</th>\n",
       "      <th>uni</th>\n",
       "      <th>office</th>\n",
       "    </tr>\n",
       "  </thead>\n",
       "  <tbody>\n",
       "    <tr>\n",
       "      <th>Miro</th>\n",
       "      <td>SVK</td>\n",
       "      <td>Oslo</td>\n",
       "      <td>303</td>\n",
       "    </tr>\n",
       "    <tr>\n",
       "      <th>Ingeborg</th>\n",
       "      <td>NOR</td>\n",
       "      <td>Bergen</td>\n",
       "      <td>309</td>\n",
       "    </tr>\n",
       "    <tr>\n",
       "      <th>Min</th>\n",
       "      <td>USA</td>\n",
       "      <td>Berkeley</td>\n",
       "      <td>311</td>\n",
       "    </tr>\n",
       "    <tr>\n",
       "      <th>Joe</th>\n",
       "      <td>OutThere</td>\n",
       "      <td>Harvard</td>\n",
       "      <td>-1</td>\n",
       "    </tr>\n",
       "  </tbody>\n",
       "</table>\n",
       "</div>"
      ],
      "text/plain": [
       "            nation       uni  office\n",
       "Miro           SVK      Oslo     303\n",
       "Ingeborg       NOR    Bergen     309\n",
       "Min            USA  Berkeley     311\n",
       "Joe       OutThere   Harvard      -1"
      ]
     },
     "execution_count": 31,
     "metadata": {},
     "output_type": "execute_result"
    }
   ],
   "source": [
    "missing_data_frame.fillna(\"OutThere\")"
   ]
  },
  {
   "cell_type": "markdown",
   "id": "989b8735",
   "metadata": {},
   "source": [
    "Or discard the data. We can drop the row which has NaN. Note that by default any NaN is enough but we can be more tolerant (see `how` and `thresh` keyword arguments)"
   ]
  },
  {
   "cell_type": "code",
   "execution_count": 32,
   "id": "4df4fd17",
   "metadata": {},
   "outputs": [
    {
     "data": {
      "text/html": [
       "<div>\n",
       "<style scoped>\n",
       "    .dataframe tbody tr th:only-of-type {\n",
       "        vertical-align: middle;\n",
       "    }\n",
       "\n",
       "    .dataframe tbody tr th {\n",
       "        vertical-align: top;\n",
       "    }\n",
       "\n",
       "    .dataframe thead th {\n",
       "        text-align: right;\n",
       "    }\n",
       "</style>\n",
       "<table border=\"1\" class=\"dataframe\">\n",
       "  <thead>\n",
       "    <tr style=\"text-align: right;\">\n",
       "      <th></th>\n",
       "      <th>nation</th>\n",
       "      <th>uni</th>\n",
       "      <th>office</th>\n",
       "    </tr>\n",
       "  </thead>\n",
       "  <tbody>\n",
       "    <tr>\n",
       "      <th>Miro</th>\n",
       "      <td>SVK</td>\n",
       "      <td>Oslo</td>\n",
       "      <td>303</td>\n",
       "    </tr>\n",
       "    <tr>\n",
       "      <th>Ingeborg</th>\n",
       "      <td>NOR</td>\n",
       "      <td>Bergen</td>\n",
       "      <td>309</td>\n",
       "    </tr>\n",
       "    <tr>\n",
       "      <th>Min</th>\n",
       "      <td>USA</td>\n",
       "      <td>Berkeley</td>\n",
       "      <td>311</td>\n",
       "    </tr>\n",
       "  </tbody>\n",
       "</table>\n",
       "</div>"
      ],
      "text/plain": [
       "         nation       uni office\n",
       "Miro        SVK      Oslo    303\n",
       "Ingeborg    NOR    Bergen    309\n",
       "Min         USA  Berkeley    311"
      ]
     },
     "execution_count": 32,
     "metadata": {},
     "output_type": "execute_result"
    }
   ],
   "source": [
    "missing_data_frame.dropna()"
   ]
  },
  {
   "cell_type": "markdown",
   "id": "29369536",
   "metadata": {},
   "source": [
    "Or we drop the problematic column. Axis 0 is row (just like in `numpy`)"
   ]
  },
  {
   "cell_type": "code",
   "execution_count": 33,
   "id": "df6ed810",
   "metadata": {},
   "outputs": [
    {
     "data": {
      "text/html": [
       "<div>\n",
       "<style scoped>\n",
       "    .dataframe tbody tr th:only-of-type {\n",
       "        vertical-align: middle;\n",
       "    }\n",
       "\n",
       "    .dataframe tbody tr th {\n",
       "        vertical-align: top;\n",
       "    }\n",
       "\n",
       "    .dataframe thead th {\n",
       "        text-align: right;\n",
       "    }\n",
       "</style>\n",
       "<table border=\"1\" class=\"dataframe\">\n",
       "  <thead>\n",
       "    <tr style=\"text-align: right;\">\n",
       "      <th></th>\n",
       "      <th>uni</th>\n",
       "      <th>office</th>\n",
       "    </tr>\n",
       "  </thead>\n",
       "  <tbody>\n",
       "    <tr>\n",
       "      <th>Miro</th>\n",
       "      <td>Oslo</td>\n",
       "      <td>303</td>\n",
       "    </tr>\n",
       "    <tr>\n",
       "      <th>Ingeborg</th>\n",
       "      <td>Bergen</td>\n",
       "      <td>309</td>\n",
       "    </tr>\n",
       "    <tr>\n",
       "      <th>Min</th>\n",
       "      <td>Berkeley</td>\n",
       "      <td>311</td>\n",
       "    </tr>\n",
       "    <tr>\n",
       "      <th>Joe</th>\n",
       "      <td>Harvard</td>\n",
       "      <td>-1</td>\n",
       "    </tr>\n",
       "  </tbody>\n",
       "</table>\n",
       "</div>"
      ],
      "text/plain": [
       "               uni office\n",
       "Miro          Oslo    303\n",
       "Ingeborg    Bergen    309\n",
       "Min       Berkeley    311\n",
       "Joe        Harvard     -1"
      ]
     },
     "execution_count": 33,
     "metadata": {},
     "output_type": "execute_result"
    }
   ],
   "source": [
    "missing_data_frame.dropna(axis=1)"
   ]
  },
  {
   "cell_type": "markdown",
   "id": "1d2db167",
   "metadata": {},
   "source": [
    "Note that the above calls are returning a new `Frame`, ie. are not in in-place. For this use `.dropna(..., inplace=True)`"
   ]
  },
  {
   "cell_type": "markdown",
   "id": "bc317ef3",
   "metadata": {},
   "source": [
    "Once we have the frame we can start computing with it. Let's consider indexing first"
   ]
  },
  {
   "cell_type": "code",
   "execution_count": 34,
   "id": "05670fab",
   "metadata": {},
   "outputs": [
    {
     "data": {
      "text/html": [
       "<div>\n",
       "<style scoped>\n",
       "    .dataframe tbody tr th:only-of-type {\n",
       "        vertical-align: middle;\n",
       "    }\n",
       "\n",
       "    .dataframe tbody tr th {\n",
       "        vertical-align: top;\n",
       "    }\n",
       "\n",
       "    .dataframe thead th {\n",
       "        text-align: right;\n",
       "    }\n",
       "</style>\n",
       "<table border=\"1\" class=\"dataframe\">\n",
       "  <thead>\n",
       "    <tr style=\"text-align: right;\">\n",
       "      <th></th>\n",
       "      <th>nation</th>\n",
       "      <th>uni</th>\n",
       "      <th>office</th>\n",
       "    </tr>\n",
       "  </thead>\n",
       "  <tbody>\n",
       "    <tr>\n",
       "      <th>Miro</th>\n",
       "      <td>SVK</td>\n",
       "      <td>Oslo</td>\n",
       "      <td>303</td>\n",
       "    </tr>\n",
       "    <tr>\n",
       "      <th>Ingeborg</th>\n",
       "      <td>NOR</td>\n",
       "      <td>Bergen</td>\n",
       "      <td>309</td>\n",
       "    </tr>\n",
       "    <tr>\n",
       "      <th>Min</th>\n",
       "      <td>USA</td>\n",
       "      <td>Berkeley</td>\n",
       "      <td>311</td>\n",
       "    </tr>\n",
       "    <tr>\n",
       "      <th>Joe</th>\n",
       "      <td>NaN</td>\n",
       "      <td>Harvard</td>\n",
       "      <td>-1</td>\n",
       "    </tr>\n",
       "  </tbody>\n",
       "</table>\n",
       "</div>"
      ],
      "text/plain": [
       "         nation       uni office\n",
       "Miro        SVK      Oslo    303\n",
       "Ingeborg    NOR    Bergen    309\n",
       "Min         USA  Berkeley    311\n",
       "Joe         NaN   Harvard     -1"
      ]
     },
     "execution_count": 34,
     "metadata": {},
     "output_type": "execute_result"
    }
   ],
   "source": [
    "missing_data_frame"
   ]
  },
  {
   "cell_type": "code",
   "execution_count": 35,
   "id": "b0197212",
   "metadata": {},
   "outputs": [
    {
     "data": {
      "text/plain": [
       "Miro        SVK\n",
       "Ingeborg    NOR\n",
       "Min         USA\n",
       "Joe         NaN\n",
       "Name: nation, dtype: object"
      ]
     },
     "execution_count": 35,
     "metadata": {},
     "output_type": "execute_result"
    }
   ],
   "source": [
    "# Get a specific series\n",
    "missing_data_frame[\"nation\"]"
   ]
  },
  {
   "cell_type": "code",
   "execution_count": 36,
   "id": "8614dfa1",
   "metadata": {},
   "outputs": [
    {
     "data": {
      "text/html": [
       "<div>\n",
       "<style scoped>\n",
       "    .dataframe tbody tr th:only-of-type {\n",
       "        vertical-align: middle;\n",
       "    }\n",
       "\n",
       "    .dataframe tbody tr th {\n",
       "        vertical-align: top;\n",
       "    }\n",
       "\n",
       "    .dataframe thead th {\n",
       "        text-align: right;\n",
       "    }\n",
       "</style>\n",
       "<table border=\"1\" class=\"dataframe\">\n",
       "  <thead>\n",
       "    <tr style=\"text-align: right;\">\n",
       "      <th></th>\n",
       "      <th>nation</th>\n",
       "      <th>uni</th>\n",
       "    </tr>\n",
       "  </thead>\n",
       "  <tbody>\n",
       "    <tr>\n",
       "      <th>Miro</th>\n",
       "      <td>SVK</td>\n",
       "      <td>Oslo</td>\n",
       "    </tr>\n",
       "    <tr>\n",
       "      <th>Ingeborg</th>\n",
       "      <td>NOR</td>\n",
       "      <td>Bergen</td>\n",
       "    </tr>\n",
       "    <tr>\n",
       "      <th>Min</th>\n",
       "      <td>USA</td>\n",
       "      <td>Berkeley</td>\n",
       "    </tr>\n",
       "    <tr>\n",
       "      <th>Joe</th>\n",
       "      <td>NaN</td>\n",
       "      <td>Harvard</td>\n",
       "    </tr>\n",
       "  </tbody>\n",
       "</table>\n",
       "</div>"
      ],
      "text/plain": [
       "         nation       uni\n",
       "Miro        SVK      Oslo\n",
       "Ingeborg    NOR    Bergen\n",
       "Min         USA  Berkeley\n",
       "Joe         NaN   Harvard"
      ]
     },
     "execution_count": 36,
     "metadata": {},
     "output_type": "execute_result"
    }
   ],
   "source": [
    "# Or several as a frame\n",
    "missing_data_frame[[\"nation\", \"uni\"]]"
   ]
  },
  {
   "cell_type": "markdown",
   "id": "852f5bbc",
   "metadata": {},
   "source": [
    "Note that slicing default to rows"
   ]
  },
  {
   "cell_type": "code",
   "execution_count": 37,
   "id": "57fd32db",
   "metadata": {
    "collapsed": true
   },
   "outputs": [
    {
     "ename": "KeyError",
     "evalue": "'nation'",
     "output_type": "error",
     "traceback": [
      "\u001b[0;31m---------------------------------------------------------------------------\u001b[0m",
      "\u001b[0;31mKeyError\u001b[0m                                  Traceback (most recent call last)",
      "File \u001b[0;32m~/.local/lib/python3.9/site-packages/pandas/core/indexes/base.py:3653\u001b[0m, in \u001b[0;36mIndex.get_loc\u001b[0;34m(self, key)\u001b[0m\n\u001b[1;32m   3652\u001b[0m \u001b[38;5;28;01mtry\u001b[39;00m:\n\u001b[0;32m-> 3653\u001b[0m     \u001b[38;5;28;01mreturn\u001b[39;00m \u001b[38;5;28;43mself\u001b[39;49m\u001b[38;5;241;43m.\u001b[39;49m\u001b[43m_engine\u001b[49m\u001b[38;5;241;43m.\u001b[39;49m\u001b[43mget_loc\u001b[49m\u001b[43m(\u001b[49m\u001b[43mcasted_key\u001b[49m\u001b[43m)\u001b[49m\n\u001b[1;32m   3654\u001b[0m \u001b[38;5;28;01mexcept\u001b[39;00m \u001b[38;5;167;01mKeyError\u001b[39;00m \u001b[38;5;28;01mas\u001b[39;00m err:\n",
      "File \u001b[0;32m~/.local/lib/python3.9/site-packages/pandas/_libs/index.pyx:147\u001b[0m, in \u001b[0;36mpandas._libs.index.IndexEngine.get_loc\u001b[0;34m()\u001b[0m\n",
      "File \u001b[0;32m~/.local/lib/python3.9/site-packages/pandas/_libs/index.pyx:176\u001b[0m, in \u001b[0;36mpandas._libs.index.IndexEngine.get_loc\u001b[0;34m()\u001b[0m\n",
      "File \u001b[0;32mpandas/_libs/hashtable_class_helper.pxi:7080\u001b[0m, in \u001b[0;36mpandas._libs.hashtable.PyObjectHashTable.get_item\u001b[0;34m()\u001b[0m\n",
      "File \u001b[0;32mpandas/_libs/hashtable_class_helper.pxi:7088\u001b[0m, in \u001b[0;36mpandas._libs.hashtable.PyObjectHashTable.get_item\u001b[0;34m()\u001b[0m\n",
      "\u001b[0;31mKeyError\u001b[0m: 'nation'",
      "\nThe above exception was the direct cause of the following exception:\n",
      "\u001b[0;31mKeyError\u001b[0m                                  Traceback (most recent call last)",
      "Cell \u001b[0;32mIn [37], line 2\u001b[0m\n\u001b[1;32m      1\u001b[0m \u001b[38;5;66;03m# Will fail because no rows names like that\u001b[39;00m\n\u001b[0;32m----> 2\u001b[0m \u001b[43mmissing_data_frame\u001b[49m\u001b[43m[\u001b[49m\u001b[38;5;124;43m\"\u001b[39;49m\u001b[38;5;124;43mnation\u001b[39;49m\u001b[38;5;124;43m\"\u001b[39;49m\u001b[43m:\u001b[49m\u001b[38;5;124;43m\"\u001b[39;49m\u001b[38;5;124;43moffice\u001b[39;49m\u001b[38;5;124;43m\"\u001b[39;49m\u001b[43m]\u001b[49m\n",
      "File \u001b[0;32m~/.local/lib/python3.9/site-packages/pandas/core/frame.py:3735\u001b[0m, in \u001b[0;36mDataFrame.__getitem__\u001b[0;34m(self, key)\u001b[0m\n\u001b[1;32m   3733\u001b[0m \u001b[38;5;66;03m# Do we have a slicer (on rows)?\u001b[39;00m\n\u001b[1;32m   3734\u001b[0m \u001b[38;5;28;01mif\u001b[39;00m \u001b[38;5;28misinstance\u001b[39m(key, \u001b[38;5;28mslice\u001b[39m):\n\u001b[0;32m-> 3735\u001b[0m     indexer \u001b[38;5;241m=\u001b[39m \u001b[38;5;28;43mself\u001b[39;49m\u001b[38;5;241;43m.\u001b[39;49m\u001b[43mindex\u001b[49m\u001b[38;5;241;43m.\u001b[39;49m\u001b[43m_convert_slice_indexer\u001b[49m\u001b[43m(\u001b[49m\u001b[43mkey\u001b[49m\u001b[43m,\u001b[49m\u001b[43m \u001b[49m\u001b[43mkind\u001b[49m\u001b[38;5;241;43m=\u001b[39;49m\u001b[38;5;124;43m\"\u001b[39;49m\u001b[38;5;124;43mgetitem\u001b[39;49m\u001b[38;5;124;43m\"\u001b[39;49m\u001b[43m)\u001b[49m\n\u001b[1;32m   3736\u001b[0m     \u001b[38;5;28;01mif\u001b[39;00m \u001b[38;5;28misinstance\u001b[39m(indexer, np\u001b[38;5;241m.\u001b[39mndarray):\n\u001b[1;32m   3737\u001b[0m         \u001b[38;5;66;03m# reachable with DatetimeIndex\u001b[39;00m\n\u001b[1;32m   3738\u001b[0m         indexer \u001b[38;5;241m=\u001b[39m lib\u001b[38;5;241m.\u001b[39mmaybe_indices_to_slice(\n\u001b[1;32m   3739\u001b[0m             indexer\u001b[38;5;241m.\u001b[39mastype(np\u001b[38;5;241m.\u001b[39mintp, copy\u001b[38;5;241m=\u001b[39m\u001b[38;5;28;01mFalse\u001b[39;00m), \u001b[38;5;28mlen\u001b[39m(\u001b[38;5;28mself\u001b[39m)\n\u001b[1;32m   3740\u001b[0m         )\n",
      "File \u001b[0;32m~/.local/lib/python3.9/site-packages/pandas/core/indexes/base.py:4132\u001b[0m, in \u001b[0;36mIndex._convert_slice_indexer\u001b[0;34m(self, key, kind)\u001b[0m\n\u001b[1;32m   4130\u001b[0m     indexer \u001b[38;5;241m=\u001b[39m key\n\u001b[1;32m   4131\u001b[0m \u001b[38;5;28;01melse\u001b[39;00m:\n\u001b[0;32m-> 4132\u001b[0m     indexer \u001b[38;5;241m=\u001b[39m \u001b[38;5;28;43mself\u001b[39;49m\u001b[38;5;241;43m.\u001b[39;49m\u001b[43mslice_indexer\u001b[49m\u001b[43m(\u001b[49m\u001b[43mstart\u001b[49m\u001b[43m,\u001b[49m\u001b[43m \u001b[49m\u001b[43mstop\u001b[49m\u001b[43m,\u001b[49m\u001b[43m \u001b[49m\u001b[43mstep\u001b[49m\u001b[43m)\u001b[49m\n\u001b[1;32m   4134\u001b[0m \u001b[38;5;28;01mreturn\u001b[39;00m indexer\n",
      "File \u001b[0;32m~/.local/lib/python3.9/site-packages/pandas/core/indexes/base.py:6344\u001b[0m, in \u001b[0;36mIndex.slice_indexer\u001b[0;34m(self, start, end, step)\u001b[0m\n\u001b[1;32m   6300\u001b[0m \u001b[38;5;28;01mdef\u001b[39;00m \u001b[38;5;21mslice_indexer\u001b[39m(\n\u001b[1;32m   6301\u001b[0m     \u001b[38;5;28mself\u001b[39m,\n\u001b[1;32m   6302\u001b[0m     start: Hashable \u001b[38;5;241m|\u001b[39m \u001b[38;5;28;01mNone\u001b[39;00m \u001b[38;5;241m=\u001b[39m \u001b[38;5;28;01mNone\u001b[39;00m,\n\u001b[1;32m   6303\u001b[0m     end: Hashable \u001b[38;5;241m|\u001b[39m \u001b[38;5;28;01mNone\u001b[39;00m \u001b[38;5;241m=\u001b[39m \u001b[38;5;28;01mNone\u001b[39;00m,\n\u001b[1;32m   6304\u001b[0m     step: \u001b[38;5;28mint\u001b[39m \u001b[38;5;241m|\u001b[39m \u001b[38;5;28;01mNone\u001b[39;00m \u001b[38;5;241m=\u001b[39m \u001b[38;5;28;01mNone\u001b[39;00m,\n\u001b[1;32m   6305\u001b[0m ) \u001b[38;5;241m-\u001b[39m\u001b[38;5;241m>\u001b[39m \u001b[38;5;28mslice\u001b[39m:\n\u001b[1;32m   6306\u001b[0m \u001b[38;5;250m    \u001b[39m\u001b[38;5;124;03m\"\"\"\u001b[39;00m\n\u001b[1;32m   6307\u001b[0m \u001b[38;5;124;03m    Compute the slice indexer for input labels and step.\u001b[39;00m\n\u001b[1;32m   6308\u001b[0m \n\u001b[0;32m   (...)\u001b[0m\n\u001b[1;32m   6342\u001b[0m \u001b[38;5;124;03m    slice(1, 3, None)\u001b[39;00m\n\u001b[1;32m   6343\u001b[0m \u001b[38;5;124;03m    \"\"\"\u001b[39;00m\n\u001b[0;32m-> 6344\u001b[0m     start_slice, end_slice \u001b[38;5;241m=\u001b[39m \u001b[38;5;28;43mself\u001b[39;49m\u001b[38;5;241;43m.\u001b[39;49m\u001b[43mslice_locs\u001b[49m\u001b[43m(\u001b[49m\u001b[43mstart\u001b[49m\u001b[43m,\u001b[49m\u001b[43m \u001b[49m\u001b[43mend\u001b[49m\u001b[43m,\u001b[49m\u001b[43m \u001b[49m\u001b[43mstep\u001b[49m\u001b[38;5;241;43m=\u001b[39;49m\u001b[43mstep\u001b[49m\u001b[43m)\u001b[49m\n\u001b[1;32m   6346\u001b[0m     \u001b[38;5;66;03m# return a slice\u001b[39;00m\n\u001b[1;32m   6347\u001b[0m     \u001b[38;5;28;01mif\u001b[39;00m \u001b[38;5;129;01mnot\u001b[39;00m is_scalar(start_slice):\n",
      "File \u001b[0;32m~/.local/lib/python3.9/site-packages/pandas/core/indexes/base.py:6537\u001b[0m, in \u001b[0;36mIndex.slice_locs\u001b[0;34m(self, start, end, step)\u001b[0m\n\u001b[1;32m   6535\u001b[0m start_slice \u001b[38;5;241m=\u001b[39m \u001b[38;5;28;01mNone\u001b[39;00m\n\u001b[1;32m   6536\u001b[0m \u001b[38;5;28;01mif\u001b[39;00m start \u001b[38;5;129;01mis\u001b[39;00m \u001b[38;5;129;01mnot\u001b[39;00m \u001b[38;5;28;01mNone\u001b[39;00m:\n\u001b[0;32m-> 6537\u001b[0m     start_slice \u001b[38;5;241m=\u001b[39m \u001b[38;5;28;43mself\u001b[39;49m\u001b[38;5;241;43m.\u001b[39;49m\u001b[43mget_slice_bound\u001b[49m\u001b[43m(\u001b[49m\u001b[43mstart\u001b[49m\u001b[43m,\u001b[49m\u001b[43m \u001b[49m\u001b[38;5;124;43m\"\u001b[39;49m\u001b[38;5;124;43mleft\u001b[39;49m\u001b[38;5;124;43m\"\u001b[39;49m\u001b[43m)\u001b[49m\n\u001b[1;32m   6538\u001b[0m \u001b[38;5;28;01mif\u001b[39;00m start_slice \u001b[38;5;129;01mis\u001b[39;00m \u001b[38;5;28;01mNone\u001b[39;00m:\n\u001b[1;32m   6539\u001b[0m     start_slice \u001b[38;5;241m=\u001b[39m \u001b[38;5;241m0\u001b[39m\n",
      "File \u001b[0;32m~/.local/lib/python3.9/site-packages/pandas/core/indexes/base.py:6462\u001b[0m, in \u001b[0;36mIndex.get_slice_bound\u001b[0;34m(self, label, side)\u001b[0m\n\u001b[1;32m   6459\u001b[0m         \u001b[38;5;28;01mreturn\u001b[39;00m \u001b[38;5;28mself\u001b[39m\u001b[38;5;241m.\u001b[39m_searchsorted_monotonic(label, side)\n\u001b[1;32m   6460\u001b[0m     \u001b[38;5;28;01mexcept\u001b[39;00m \u001b[38;5;167;01mValueError\u001b[39;00m:\n\u001b[1;32m   6461\u001b[0m         \u001b[38;5;66;03m# raise the original KeyError\u001b[39;00m\n\u001b[0;32m-> 6462\u001b[0m         \u001b[38;5;28;01mraise\u001b[39;00m err\n\u001b[1;32m   6464\u001b[0m \u001b[38;5;28;01mif\u001b[39;00m \u001b[38;5;28misinstance\u001b[39m(slc, np\u001b[38;5;241m.\u001b[39mndarray):\n\u001b[1;32m   6465\u001b[0m     \u001b[38;5;66;03m# get_loc may return a boolean array, which\u001b[39;00m\n\u001b[1;32m   6466\u001b[0m     \u001b[38;5;66;03m# is OK as long as they are representable by a slice.\u001b[39;00m\n\u001b[1;32m   6467\u001b[0m     \u001b[38;5;28;01massert\u001b[39;00m is_bool_dtype(slc\u001b[38;5;241m.\u001b[39mdtype)\n",
      "File \u001b[0;32m~/.local/lib/python3.9/site-packages/pandas/core/indexes/base.py:6456\u001b[0m, in \u001b[0;36mIndex.get_slice_bound\u001b[0;34m(self, label, side)\u001b[0m\n\u001b[1;32m   6454\u001b[0m \u001b[38;5;66;03m# we need to look up the label\u001b[39;00m\n\u001b[1;32m   6455\u001b[0m \u001b[38;5;28;01mtry\u001b[39;00m:\n\u001b[0;32m-> 6456\u001b[0m     slc \u001b[38;5;241m=\u001b[39m \u001b[38;5;28;43mself\u001b[39;49m\u001b[38;5;241;43m.\u001b[39;49m\u001b[43mget_loc\u001b[49m\u001b[43m(\u001b[49m\u001b[43mlabel\u001b[49m\u001b[43m)\u001b[49m\n\u001b[1;32m   6457\u001b[0m \u001b[38;5;28;01mexcept\u001b[39;00m \u001b[38;5;167;01mKeyError\u001b[39;00m \u001b[38;5;28;01mas\u001b[39;00m err:\n\u001b[1;32m   6458\u001b[0m     \u001b[38;5;28;01mtry\u001b[39;00m:\n",
      "File \u001b[0;32m~/.local/lib/python3.9/site-packages/pandas/core/indexes/base.py:3655\u001b[0m, in \u001b[0;36mIndex.get_loc\u001b[0;34m(self, key)\u001b[0m\n\u001b[1;32m   3653\u001b[0m     \u001b[38;5;28;01mreturn\u001b[39;00m \u001b[38;5;28mself\u001b[39m\u001b[38;5;241m.\u001b[39m_engine\u001b[38;5;241m.\u001b[39mget_loc(casted_key)\n\u001b[1;32m   3654\u001b[0m \u001b[38;5;28;01mexcept\u001b[39;00m \u001b[38;5;167;01mKeyError\u001b[39;00m \u001b[38;5;28;01mas\u001b[39;00m err:\n\u001b[0;32m-> 3655\u001b[0m     \u001b[38;5;28;01mraise\u001b[39;00m \u001b[38;5;167;01mKeyError\u001b[39;00m(key) \u001b[38;5;28;01mfrom\u001b[39;00m \u001b[38;5;21;01merr\u001b[39;00m\n\u001b[1;32m   3656\u001b[0m \u001b[38;5;28;01mexcept\u001b[39;00m \u001b[38;5;167;01mTypeError\u001b[39;00m:\n\u001b[1;32m   3657\u001b[0m     \u001b[38;5;66;03m# If we have a listlike key, _check_indexing_error will raise\u001b[39;00m\n\u001b[1;32m   3658\u001b[0m     \u001b[38;5;66;03m#  InvalidIndexError. Otherwise we fall through and re-raise\u001b[39;00m\n\u001b[1;32m   3659\u001b[0m     \u001b[38;5;66;03m#  the TypeError.\u001b[39;00m\n\u001b[1;32m   3660\u001b[0m     \u001b[38;5;28mself\u001b[39m\u001b[38;5;241m.\u001b[39m_check_indexing_error(key)\n",
      "\u001b[0;31mKeyError\u001b[0m: 'nation'"
     ]
    }
   ],
   "source": [
    "# Will fail because no rows names like that\n",
    "missing_data_frame[\"nation\":\"office\"]"
   ]
  },
  {
   "cell_type": "code",
   "execution_count": 38,
   "id": "f1fe56c7",
   "metadata": {},
   "outputs": [
    {
     "data": {
      "text/html": [
       "<div>\n",
       "<style scoped>\n",
       "    .dataframe tbody tr th:only-of-type {\n",
       "        vertical-align: middle;\n",
       "    }\n",
       "\n",
       "    .dataframe tbody tr th {\n",
       "        vertical-align: top;\n",
       "    }\n",
       "\n",
       "    .dataframe thead th {\n",
       "        text-align: right;\n",
       "    }\n",
       "</style>\n",
       "<table border=\"1\" class=\"dataframe\">\n",
       "  <thead>\n",
       "    <tr style=\"text-align: right;\">\n",
       "      <th></th>\n",
       "      <th>nation</th>\n",
       "      <th>uni</th>\n",
       "      <th>office</th>\n",
       "    </tr>\n",
       "  </thead>\n",
       "  <tbody>\n",
       "    <tr>\n",
       "      <th>Miro</th>\n",
       "      <td>SVK</td>\n",
       "      <td>Oslo</td>\n",
       "      <td>303</td>\n",
       "    </tr>\n",
       "    <tr>\n",
       "      <th>Ingeborg</th>\n",
       "      <td>NOR</td>\n",
       "      <td>Bergen</td>\n",
       "      <td>309</td>\n",
       "    </tr>\n",
       "    <tr>\n",
       "      <th>Min</th>\n",
       "      <td>USA</td>\n",
       "      <td>Berkeley</td>\n",
       "      <td>311</td>\n",
       "    </tr>\n",
       "  </tbody>\n",
       "</table>\n",
       "</div>"
      ],
      "text/plain": [
       "         nation       uni office\n",
       "Miro        SVK      Oslo    303\n",
       "Ingeborg    NOR    Bergen    309\n",
       "Min         USA  Berkeley    311"
      ]
     },
     "execution_count": 38,
     "metadata": {},
     "output_type": "execute_result"
    }
   ],
   "source": [
    "# See that slice goes for rows\n",
    "missing_data_frame[\"Miro\":\"Min\"]"
   ]
  },
  {
   "cell_type": "markdown",
   "id": "28179044",
   "metadata": {},
   "source": [
    "We can call *indexers* to rescue"
   ]
  },
  {
   "cell_type": "code",
   "execution_count": 39,
   "id": "094b96f2",
   "metadata": {},
   "outputs": [
    {
     "data": {
      "text/html": [
       "<div>\n",
       "<style scoped>\n",
       "    .dataframe tbody tr th:only-of-type {\n",
       "        vertical-align: middle;\n",
       "    }\n",
       "\n",
       "    .dataframe tbody tr th {\n",
       "        vertical-align: top;\n",
       "    }\n",
       "\n",
       "    .dataframe thead th {\n",
       "        text-align: right;\n",
       "    }\n",
       "</style>\n",
       "<table border=\"1\" class=\"dataframe\">\n",
       "  <thead>\n",
       "    <tr style=\"text-align: right;\">\n",
       "      <th></th>\n",
       "      <th>nation</th>\n",
       "      <th>uni</th>\n",
       "    </tr>\n",
       "  </thead>\n",
       "  <tbody>\n",
       "    <tr>\n",
       "      <th>Miro</th>\n",
       "      <td>SVK</td>\n",
       "      <td>Oslo</td>\n",
       "    </tr>\n",
       "    <tr>\n",
       "      <th>Ingeborg</th>\n",
       "      <td>NOR</td>\n",
       "      <td>Bergen</td>\n",
       "    </tr>\n",
       "    <tr>\n",
       "      <th>Min</th>\n",
       "      <td>USA</td>\n",
       "      <td>Berkeley</td>\n",
       "    </tr>\n",
       "    <tr>\n",
       "      <th>Joe</th>\n",
       "      <td>NaN</td>\n",
       "      <td>Harvard</td>\n",
       "    </tr>\n",
       "  </tbody>\n",
       "</table>\n",
       "</div>"
      ],
      "text/plain": [
       "         nation       uni\n",
       "Miro        SVK      Oslo\n",
       "Ingeborg    NOR    Bergen\n",
       "Min         USA  Berkeley\n",
       "Joe         NaN   Harvard"
      ]
     },
     "execution_count": 39,
     "metadata": {},
     "output_type": "execute_result"
    }
   ],
   "source": [
    "missing_data_frame.loc[:, \"nation\":\"uni\"]"
   ]
  },
  {
   "cell_type": "markdown",
   "id": "39b9457d",
   "metadata": {},
   "source": [
    "Indexes can of course be more involed"
   ]
  },
  {
   "cell_type": "code",
   "execution_count": 40,
   "id": "8662cfc0",
   "metadata": {},
   "outputs": [
    {
     "data": {
      "text/plain": [
       "Miro        False\n",
       "Ingeborg     True\n",
       "Min          True\n",
       "Joe         False\n",
       "Name: office, dtype: bool"
      ]
     },
     "execution_count": 40,
     "metadata": {},
     "output_type": "execute_result"
    }
   ],
   "source": [
    "missing_data_frame[\"office\"] > 305"
   ]
  },
  {
   "cell_type": "code",
   "execution_count": 41,
   "id": "96a4d889",
   "metadata": {},
   "outputs": [
    {
     "data": {
      "text/html": [
       "<div>\n",
       "<style scoped>\n",
       "    .dataframe tbody tr th:only-of-type {\n",
       "        vertical-align: middle;\n",
       "    }\n",
       "\n",
       "    .dataframe tbody tr th {\n",
       "        vertical-align: top;\n",
       "    }\n",
       "\n",
       "    .dataframe thead th {\n",
       "        text-align: right;\n",
       "    }\n",
       "</style>\n",
       "<table border=\"1\" class=\"dataframe\">\n",
       "  <thead>\n",
       "    <tr style=\"text-align: right;\">\n",
       "      <th></th>\n",
       "      <th>uni</th>\n",
       "      <th>nation</th>\n",
       "    </tr>\n",
       "  </thead>\n",
       "  <tbody>\n",
       "    <tr>\n",
       "      <th>Ingeborg</th>\n",
       "      <td>Bergen</td>\n",
       "      <td>NOR</td>\n",
       "    </tr>\n",
       "    <tr>\n",
       "      <th>Min</th>\n",
       "      <td>Berkeley</td>\n",
       "      <td>USA</td>\n",
       "    </tr>\n",
       "  </tbody>\n",
       "</table>\n",
       "</div>"
      ],
      "text/plain": [
       "               uni nation\n",
       "Ingeborg    Bergen    NOR\n",
       "Min       Berkeley    USA"
      ]
     },
     "execution_count": 41,
     "metadata": {},
     "output_type": "execute_result"
    }
   ],
   "source": [
    "missing_data_frame.loc[missing_data_frame[\"office\"] > 305, [\"uni\", \"nation\"]]"
   ]
  },
  {
   "cell_type": "markdown",
   "id": "a53b5348",
   "metadata": {},
   "source": [
    "Next let's compute with the values in the frames"
   ]
  },
  {
   "cell_type": "code",
   "execution_count": 42,
   "id": "dddf81df",
   "metadata": {},
   "outputs": [
    {
     "data": {
      "text/html": [
       "<div>\n",
       "<style scoped>\n",
       "    .dataframe tbody tr th:only-of-type {\n",
       "        vertical-align: middle;\n",
       "    }\n",
       "\n",
       "    .dataframe tbody tr th {\n",
       "        vertical-align: top;\n",
       "    }\n",
       "\n",
       "    .dataframe thead th {\n",
       "        text-align: right;\n",
       "    }\n",
       "</style>\n",
       "<table border=\"1\" class=\"dataframe\">\n",
       "  <thead>\n",
       "    <tr style=\"text-align: right;\">\n",
       "      <th></th>\n",
       "      <th>c0</th>\n",
       "      <th>c1</th>\n",
       "      <th>c2</th>\n",
       "      <th>c3</th>\n",
       "    </tr>\n",
       "  </thead>\n",
       "  <tbody>\n",
       "    <tr>\n",
       "      <th>r0</th>\n",
       "      <td>0.870461</td>\n",
       "      <td>0.789699</td>\n",
       "      <td>0.739024</td>\n",
       "      <td>0.860132</td>\n",
       "    </tr>\n",
       "    <tr>\n",
       "      <th>r1</th>\n",
       "      <td>0.785803</td>\n",
       "      <td>0.718719</td>\n",
       "      <td>0.580812</td>\n",
       "      <td>0.584109</td>\n",
       "    </tr>\n",
       "    <tr>\n",
       "      <th>r2</th>\n",
       "      <td>0.988713</td>\n",
       "      <td>0.956762</td>\n",
       "      <td>0.956623</td>\n",
       "      <td>0.851564</td>\n",
       "    </tr>\n",
       "    <tr>\n",
       "      <th>r3</th>\n",
       "      <td>0.559086</td>\n",
       "      <td>0.889881</td>\n",
       "      <td>0.990609</td>\n",
       "      <td>0.903777</td>\n",
       "    </tr>\n",
       "  </tbody>\n",
       "</table>\n",
       "</div>"
      ],
      "text/plain": [
       "          c0        c1        c2        c3\n",
       "r0  0.870461  0.789699  0.739024  0.860132\n",
       "r1  0.785803  0.718719  0.580812  0.584109\n",
       "r2  0.988713  0.956762  0.956623  0.851564\n",
       "r3  0.559086  0.889881  0.990609  0.903777"
      ]
     },
     "execution_count": 42,
     "metadata": {},
     "output_type": "execute_result"
    }
   ],
   "source": [
    "f0 = spreadsheet(4, 4)\n",
    "np.cos(f0)"
   ]
  },
  {
   "cell_type": "markdown",
   "id": "f26cc73f",
   "metadata": {},
   "source": [
    "Binary operation will align the frame - operation is valid only for the index-column pairs found in both and with will get missing for the rest"
   ]
  },
  {
   "cell_type": "code",
   "execution_count": 43,
   "id": "e0557fc6",
   "metadata": {},
   "outputs": [
    {
     "data": {
      "text/html": [
       "<div>\n",
       "<style scoped>\n",
       "    .dataframe tbody tr th:only-of-type {\n",
       "        vertical-align: middle;\n",
       "    }\n",
       "\n",
       "    .dataframe tbody tr th {\n",
       "        vertical-align: top;\n",
       "    }\n",
       "\n",
       "    .dataframe thead th {\n",
       "        text-align: right;\n",
       "    }\n",
       "</style>\n",
       "<table border=\"1\" class=\"dataframe\">\n",
       "  <thead>\n",
       "    <tr style=\"text-align: right;\">\n",
       "      <th></th>\n",
       "      <th>c0</th>\n",
       "      <th>c1</th>\n",
       "      <th>c2</th>\n",
       "      <th>c3</th>\n",
       "      <th>c4</th>\n",
       "      <th>c5</th>\n",
       "    </tr>\n",
       "  </thead>\n",
       "  <tbody>\n",
       "    <tr>\n",
       "      <th>r0</th>\n",
       "      <td>0.533858</td>\n",
       "      <td>0.997285</td>\n",
       "      <td>1.098653</td>\n",
       "      <td>1.032666</td>\n",
       "      <td>NaN</td>\n",
       "      <td>NaN</td>\n",
       "    </tr>\n",
       "    <tr>\n",
       "      <th>r1</th>\n",
       "      <td>1.372231</td>\n",
       "      <td>0.804163</td>\n",
       "      <td>1.445381</td>\n",
       "      <td>1.393992</td>\n",
       "      <td>NaN</td>\n",
       "      <td>NaN</td>\n",
       "    </tr>\n",
       "    <tr>\n",
       "      <th>r2</th>\n",
       "      <td>1.056678</td>\n",
       "      <td>0.809150</td>\n",
       "      <td>0.589316</td>\n",
       "      <td>0.936123</td>\n",
       "      <td>NaN</td>\n",
       "      <td>NaN</td>\n",
       "    </tr>\n",
       "    <tr>\n",
       "      <th>r3</th>\n",
       "      <td>1.311115</td>\n",
       "      <td>0.863243</td>\n",
       "      <td>0.404915</td>\n",
       "      <td>0.961394</td>\n",
       "      <td>NaN</td>\n",
       "      <td>NaN</td>\n",
       "    </tr>\n",
       "    <tr>\n",
       "      <th>r4</th>\n",
       "      <td>NaN</td>\n",
       "      <td>NaN</td>\n",
       "      <td>NaN</td>\n",
       "      <td>NaN</td>\n",
       "      <td>NaN</td>\n",
       "      <td>NaN</td>\n",
       "    </tr>\n",
       "  </tbody>\n",
       "</table>\n",
       "</div>"
      ],
      "text/plain": [
       "          c0        c1        c2        c3  c4  c5\n",
       "r0  0.533858  0.997285  1.098653  1.032666 NaN NaN\n",
       "r1  1.372231  0.804163  1.445381  1.393992 NaN NaN\n",
       "r2  1.056678  0.809150  0.589316  0.936123 NaN NaN\n",
       "r3  1.311115  0.863243  0.404915  0.961394 NaN NaN\n",
       "r4       NaN       NaN       NaN       NaN NaN NaN"
      ]
     },
     "execution_count": 43,
     "metadata": {},
     "output_type": "execute_result"
    }
   ],
   "source": [
    "f1 = spreadsheet(5, 6)\n",
    "f0 + f1"
   ]
  },
  {
   "cell_type": "markdown",
   "id": "6a81d26c",
   "metadata": {},
   "source": [
    "Note that this is note unique to frames and works (unsuprisingly on series too)"
   ]
  },
  {
   "cell_type": "code",
   "execution_count": 44,
   "id": "671ef0dd",
   "metadata": {},
   "outputs": [
    {
     "data": {
      "text/plain": [
       "r0    0.533858\n",
       "r1    1.372231\n",
       "r2    1.056678\n",
       "r3    1.311115\n",
       "r4         NaN\n",
       "Name: c0, dtype: float64"
      ]
     },
     "execution_count": 44,
     "metadata": {},
     "output_type": "execute_result"
    }
   ],
   "source": [
    "c00 = f0[\"c0\"]\n",
    "c10 = f1[\"c0\"]\n",
    "c00 + c10"
   ]
  },
  {
   "cell_type": "markdown",
   "id": "199beb07",
   "metadata": {},
   "source": [
    "Reduction operators default to be computed for each column"
   ]
  },
  {
   "cell_type": "code",
   "execution_count": 45,
   "id": "5111e6ae",
   "metadata": {},
   "outputs": [
    {
     "data": {
      "text/plain": [
       "c0    0.906288\n",
       "c1    0.514013\n",
       "c2    0.883873\n",
       "c3    0.519110\n",
       "c4    0.910645\n",
       "c5    0.811385\n",
       "dtype: float64"
      ]
     },
     "execution_count": 45,
     "metadata": {},
     "output_type": "execute_result"
    }
   ],
   "source": [
    "f1.max()"
   ]
  },
  {
   "cell_type": "markdown",
   "id": "8811ffa9",
   "metadata": {},
   "source": [
    "For column wise reduction we need to specify the axis (`axis=1`)"
   ]
  },
  {
   "cell_type": "code",
   "execution_count": 46,
   "id": "cc715e18",
   "metadata": {},
   "outputs": [
    {
     "data": {
      "text/plain": [
       "r0    0.339750\n",
       "r1    0.554993\n",
       "r2    0.498857\n",
       "r3    0.482604\n",
       "r4    0.406889\n",
       "dtype: float64"
      ]
     },
     "execution_count": 46,
     "metadata": {},
     "output_type": "execute_result"
    }
   ],
   "source": [
    "f1.mean(axis=\"columns\")"
   ]
  },
  {
   "cell_type": "markdown",
   "id": "8fc28d95",
   "metadata": {},
   "source": [
    "## Pandas `Index` object\n",
    "\n",
    "In the previous usecase `f0 + f1` we have seen that operation is performed for _common_ keys - this suggests that we can do logical operations on indices. This is indeed the case"
   ]
  },
  {
   "cell_type": "code",
   "execution_count": 47,
   "id": "29b1b924",
   "metadata": {},
   "outputs": [
    {
     "data": {
      "text/plain": [
       "(Index(['r0', 'r1', 'r2', 'r3', 'r4'], dtype='object'),\n",
       " Index(['r0', 'r1', 'r2', 'r3'], dtype='object'))"
      ]
     },
     "execution_count": 47,
     "metadata": {},
     "output_type": "execute_result"
    }
   ],
   "source": [
    "i0 = f0.index\n",
    "i1 = f1.index\n",
    "(i0.union(i1), i0.intersection(i1))"
   ]
  },
  {
   "cell_type": "markdown",
   "id": "00839931",
   "metadata": {},
   "source": [
    "Indexes can be explicitely constructed. For working with time series it is useful to index by time. Let's get timestamp indexing \n",
    "for every **D**ay between 2 dates"
   ]
  },
  {
   "cell_type": "code",
   "execution_count": 48,
   "id": "b34f17a5",
   "metadata": {},
   "outputs": [
    {
     "data": {
      "text/plain": [
       "DatetimeIndex(['2022-10-19', '2022-10-20', '2022-10-21', '2022-10-22',\n",
       "               '2022-10-23', '2022-10-24', '2022-10-25', '2022-10-26',\n",
       "               '2022-10-27', '2022-10-28', '2022-10-29', '2022-10-30',\n",
       "               '2022-10-31', '2022-11-01', '2022-11-02', '2022-11-03',\n",
       "               '2022-11-04', '2022-11-05', '2022-11-06', '2022-11-07',\n",
       "               '2022-11-08', '2022-11-09', '2022-11-10', '2022-11-11',\n",
       "               '2022-11-12', '2022-11-13', '2022-11-14', '2022-11-15',\n",
       "               '2022-11-16', '2022-11-17', '2022-11-18', '2022-11-19',\n",
       "               '2022-11-20', '2022-11-21', '2022-11-22', '2022-11-23',\n",
       "               '2022-11-24', '2022-11-25', '2022-11-26', '2022-11-27',\n",
       "               '2022-11-28', '2022-11-29', '2022-11-30', '2022-12-01',\n",
       "               '2022-12-02', '2022-12-03', '2022-12-04', '2022-12-05',\n",
       "               '2022-12-06', '2022-12-07', '2022-12-08', '2022-12-09',\n",
       "               '2022-12-10', '2022-12-11', '2022-12-12', '2022-12-13',\n",
       "               '2022-12-14', '2022-12-15', '2022-12-16', '2022-12-17',\n",
       "               '2022-12-18', '2022-12-19', '2022-12-20'],\n",
       "              dtype='datetime64[ns]', freq='D')"
      ]
     },
     "execution_count": 48,
     "metadata": {},
     "output_type": "execute_result"
    }
   ],
   "source": [
    "import datetime\n",
    "\n",
    "time = pd.date_range(\n",
    "    start=datetime.date.fromisoformat(\"2022-10-19\"),\n",
    "    end=datetime.date.fromisoformat(\"2022-12-20\"),\n",
    "    freq=\"D\",\n",
    ")\n",
    "time"
   ]
  },
  {
   "cell_type": "markdown",
   "id": "8fd51c0d",
   "metadata": {},
   "source": [
    "We generate the corresponding data and illustrate some plotting capabilities of `Pandas`"
   ]
  },
  {
   "cell_type": "code",
   "execution_count": 49,
   "id": "368b7882",
   "metadata": {},
   "outputs": [
    {
     "data": {
      "text/plain": [
       "<AxesSubplot: >"
      ]
     },
     "execution_count": 49,
     "metadata": {},
     "output_type": "execute_result"
    },
    {
     "data": {
      "image/png": "[encoded data removed]",
      "text/plain": [
       "<Figure size 640x480 with 1 Axes>"
      ]
     },
     "metadata": {},
     "output_type": "display_data"
    }
   ],
   "source": [
    "import matplotlib.pyplot as plt\n",
    "\n",
    "values = np.sin(np.pi / 10 * np.arange(len(time)))\n",
    "\n",
    "time_series = pd.Series(values, index=time)\n",
    "time_series.plot()"
   ]
  },
  {
   "cell_type": "markdown",
   "id": "2d1fda4e",
   "metadata": {},
   "source": [
    "Note that we are getting the nice xlabels for free!\n",
    "\n",
    "Time indexing allows us to do some fancy opearations. For example we can have a look at the signal for only the first day of the week (Monday?). For other functionality see `resample`, 'rolling' means on `windows` ets."
   ]
  },
  {
   "cell_type": "code",
   "execution_count": 50,
   "id": "fc6a21e2",
   "metadata": {},
   "outputs": [
    {
     "data": {
      "text/plain": [
       "<AxesSubplot: >"
      ]
     },
     "execution_count": 50,
     "metadata": {},
     "output_type": "execute_result"
    },
    {
     "data": {
      "image/png": "[encoded data removed]",
      "text/plain": [
       "<Figure size 640x480 with 1 Axes>"
      ]
     },
     "metadata": {},
     "output_type": "display_data"
    }
   ],
   "source": [
    "time_series[time.weekday == 0].plot()"
   ]
  },
  {
   "cell_type": "markdown",
   "id": "aead275b",
   "metadata": {},
   "source": [
    "Note the value of difference between to time indices"
   ]
  },
  {
   "cell_type": "code",
   "execution_count": 51,
   "id": "0eb90a2f",
   "metadata": {},
   "outputs": [
    {
     "data": {
      "text/plain": [
       "TimedeltaIndex(['-1 days', '-1 days', '-1 days', '-1 days'], dtype='timedelta64[ns]', freq=None)"
      ]
     },
     "execution_count": 51,
     "metadata": {},
     "output_type": "execute_result"
    }
   ],
   "source": [
    "time[:4] - time[1:5]"
   ]
  },
  {
   "cell_type": "markdown",
   "id": "60afa269",
   "metadata": {},
   "source": [
    "The `Timedelta` object can be useful for shifting"
   ]
  },
  {
   "cell_type": "code",
   "execution_count": 52,
   "id": "c76c2522",
   "metadata": {},
   "outputs": [
    {
     "data": {
      "text/plain": [
       "DatetimeIndex(['2022-10-19 00:01:00', '2022-10-20 00:01:00',\n",
       "               '2022-10-21 00:01:00', '2022-10-22 00:01:00',\n",
       "               '2022-10-23 00:01:00'],\n",
       "              dtype='datetime64[ns]', freq='D')"
      ]
     },
     "execution_count": 52,
     "metadata": {},
     "output_type": "execute_result"
    }
   ],
   "source": [
    "diff = pd.Timedelta(\"1m\")\n",
    "time = time + diff\n",
    "time[:5]"
   ]
  },
  {
   "cell_type": "markdown",
   "id": "12c19ec2",
   "metadata": {},
   "source": [
    "Time stamps often come in different format. Pandas offers convenience functions for their conversion/parsing."
   ]
  },
  {
   "cell_type": "code",
   "execution_count": 53,
   "id": "af946122",
   "metadata": {},
   "outputs": [
    {
     "data": {
      "text/html": [
       "<div>\n",
       "<style scoped>\n",
       "    .dataframe tbody tr th:only-of-type {\n",
       "        vertical-align: middle;\n",
       "    }\n",
       "\n",
       "    .dataframe tbody tr th {\n",
       "        vertical-align: top;\n",
       "    }\n",
       "\n",
       "    .dataframe thead th {\n",
       "        text-align: right;\n",
       "    }\n",
       "</style>\n",
       "<table border=\"1\" class=\"dataframe\">\n",
       "  <thead>\n",
       "    <tr style=\"text-align: right;\">\n",
       "      <th></th>\n",
       "      <th>date</th>\n",
       "      <th>value</th>\n",
       "    </tr>\n",
       "  </thead>\n",
       "  <tbody>\n",
       "    <tr>\n",
       "      <th>0</th>\n",
       "      <td>1470195805</td>\n",
       "      <td>2</td>\n",
       "    </tr>\n",
       "    <tr>\n",
       "      <th>1</th>\n",
       "      <td>1480195805</td>\n",
       "      <td>3</td>\n",
       "    </tr>\n",
       "    <tr>\n",
       "      <th>2</th>\n",
       "      <td>1490195805</td>\n",
       "      <td>4</td>\n",
       "    </tr>\n",
       "  </tbody>\n",
       "</table>\n",
       "</div>"
      ],
      "text/plain": [
       "         date  value\n",
       "0  1470195805      2\n",
       "1  1480195805      3\n",
       "2  1490195805      4"
      ]
     },
     "execution_count": 53,
     "metadata": {},
     "output_type": "execute_result"
    }
   ],
   "source": [
    "df = pd.DataFrame({'date': [1470195805, 1480195805, 1490195805],  \n",
    "                   'value': [2, 3, 4]})\n",
    "df"
   ]
  },
  {
   "cell_type": "markdown",
   "id": "cb7ba2d5",
   "metadata": {},
   "source": [
    "When was the clock started?"
   ]
  },
  {
   "cell_type": "code",
   "execution_count": 54,
   "id": "e78a791a",
   "metadata": {},
   "outputs": [
    {
     "data": {
      "text/plain": [
       "0   2016-08-03 03:43:25\n",
       "1   2016-11-26 21:30:05\n",
       "2   2017-03-22 15:16:45\n",
       "Name: date, dtype: datetime64[ns]"
      ]
     },
     "execution_count": 54,
     "metadata": {},
     "output_type": "execute_result"
    }
   ],
   "source": [
    "pd.to_datetime(df['date'], unit='s')"
   ]
  },
  {
   "cell_type": "code",
   "execution_count": 55,
   "id": "45abc734",
   "metadata": {},
   "outputs": [
    {
     "data": {
      "text/plain": [
       "0   1970-01-01 00:00:00.000000000\n",
       "1   2023-10-12 07:10:21.943605760\n",
       "dtype: datetime64[ns]"
      ]
     },
     "execution_count": 55,
     "metadata": {},
     "output_type": "execute_result"
    }
   ],
   "source": [
    "import time\n",
    "\n",
    "pd.to_datetime(pd.Series([0, time.time()]), unit='s')"
   ]
  },
  {
   "cell_type": "markdown",
   "id": "f0d17c15",
   "metadata": {},
   "source": [
    "__Question__: how can we get the years prior to 1970 to work?"
   ]
  },
  {
   "cell_type": "markdown",
   "id": "4c16bbe4",
   "metadata": {},
   "source": [
    "### Hierarchical indexing with MultiIndex"
   ]
  },
  {
   "cell_type": "markdown",
   "id": "086fe54b",
   "metadata": {},
   "source": [
    "Multiindexing is a way to handle higher order tensors, e.g. f(x, y, color). It also allows for organizing the data by establishing hierarchy in indexing. Suppose we have RGB image of 5 x 4 pixels. We could represent this as a table \n",
    "with channel x and y coordinate columns and 5 x 4 x 3 rows. A representation more true to the nature of the data would be to have a \"column\" for each color"
   ]
  },
  {
   "cell_type": "code",
   "execution_count": 56,
   "id": "d581ca6a",
   "metadata": {},
   "outputs": [
    {
     "data": {
      "text/plain": [
       "MultiIndex([('R', 0),\n",
       "            ('R', 1),\n",
       "            ('R', 2),\n",
       "            ('R', 3),\n",
       "            ('G', 0),\n",
       "            ('G', 1),\n",
       "            ('G', 2),\n",
       "            ('G', 3),\n",
       "            ('B', 0),\n",
       "            ('B', 1),\n",
       "            ('B', 2),\n",
       "            ('B', 3)],\n",
       "           names=['color', 'cindex'])"
      ]
     },
     "execution_count": 56,
     "metadata": {},
     "output_type": "execute_result"
    }
   ],
   "source": [
    "column_index = pd.MultiIndex.from_product(\n",
    "    [[\"R\", \"G\", \"B\"], [0, 1, 2, 3]], names=(\"color\", \"cindex\")\n",
    ")\n",
    "column_index"
   ]
  },
  {
   "cell_type": "code",
   "execution_count": 57,
   "id": "674cd7c0",
   "metadata": {},
   "outputs": [
    {
     "data": {
      "text/html": [
       "<div>\n",
       "<style scoped>\n",
       "    .dataframe tbody tr th:only-of-type {\n",
       "        vertical-align: middle;\n",
       "    }\n",
       "\n",
       "    .dataframe tbody tr th {\n",
       "        vertical-align: top;\n",
       "    }\n",
       "\n",
       "    .dataframe thead tr th {\n",
       "        text-align: left;\n",
       "    }\n",
       "\n",
       "    .dataframe thead tr:last-of-type th {\n",
       "        text-align: right;\n",
       "    }\n",
       "</style>\n",
       "<table border=\"1\" class=\"dataframe\">\n",
       "  <thead>\n",
       "    <tr>\n",
       "      <th>color</th>\n",
       "      <th colspan=\"4\" halign=\"left\">R</th>\n",
       "      <th colspan=\"4\" halign=\"left\">G</th>\n",
       "      <th colspan=\"4\" halign=\"left\">B</th>\n",
       "    </tr>\n",
       "    <tr>\n",
       "      <th>cindex</th>\n",
       "      <th>0</th>\n",
       "      <th>1</th>\n",
       "      <th>2</th>\n",
       "      <th>3</th>\n",
       "      <th>0</th>\n",
       "      <th>1</th>\n",
       "      <th>2</th>\n",
       "      <th>3</th>\n",
       "      <th>0</th>\n",
       "      <th>1</th>\n",
       "      <th>2</th>\n",
       "      <th>3</th>\n",
       "    </tr>\n",
       "    <tr>\n",
       "      <th>rindex</th>\n",
       "      <th></th>\n",
       "      <th></th>\n",
       "      <th></th>\n",
       "      <th></th>\n",
       "      <th></th>\n",
       "      <th></th>\n",
       "      <th></th>\n",
       "      <th></th>\n",
       "      <th></th>\n",
       "      <th></th>\n",
       "      <th></th>\n",
       "      <th></th>\n",
       "    </tr>\n",
       "  </thead>\n",
       "  <tbody>\n",
       "    <tr>\n",
       "      <th>0</th>\n",
       "      <td>0</td>\n",
       "      <td>1</td>\n",
       "      <td>2</td>\n",
       "      <td>3</td>\n",
       "      <td>4</td>\n",
       "      <td>5</td>\n",
       "      <td>6</td>\n",
       "      <td>7</td>\n",
       "      <td>8</td>\n",
       "      <td>9</td>\n",
       "      <td>10</td>\n",
       "      <td>11</td>\n",
       "    </tr>\n",
       "    <tr>\n",
       "      <th>1</th>\n",
       "      <td>12</td>\n",
       "      <td>13</td>\n",
       "      <td>14</td>\n",
       "      <td>15</td>\n",
       "      <td>16</td>\n",
       "      <td>17</td>\n",
       "      <td>18</td>\n",
       "      <td>19</td>\n",
       "      <td>20</td>\n",
       "      <td>21</td>\n",
       "      <td>22</td>\n",
       "      <td>23</td>\n",
       "    </tr>\n",
       "    <tr>\n",
       "      <th>2</th>\n",
       "      <td>24</td>\n",
       "      <td>25</td>\n",
       "      <td>26</td>\n",
       "      <td>27</td>\n",
       "      <td>28</td>\n",
       "      <td>29</td>\n",
       "      <td>30</td>\n",
       "      <td>31</td>\n",
       "      <td>32</td>\n",
       "      <td>33</td>\n",
       "      <td>34</td>\n",
       "      <td>35</td>\n",
       "    </tr>\n",
       "    <tr>\n",
       "      <th>3</th>\n",
       "      <td>36</td>\n",
       "      <td>37</td>\n",
       "      <td>38</td>\n",
       "      <td>39</td>\n",
       "      <td>40</td>\n",
       "      <td>41</td>\n",
       "      <td>42</td>\n",
       "      <td>43</td>\n",
       "      <td>44</td>\n",
       "      <td>45</td>\n",
       "      <td>46</td>\n",
       "      <td>47</td>\n",
       "    </tr>\n",
       "    <tr>\n",
       "      <th>4</th>\n",
       "      <td>48</td>\n",
       "      <td>49</td>\n",
       "      <td>50</td>\n",
       "      <td>51</td>\n",
       "      <td>52</td>\n",
       "      <td>53</td>\n",
       "      <td>54</td>\n",
       "      <td>55</td>\n",
       "      <td>56</td>\n",
       "      <td>57</td>\n",
       "      <td>58</td>\n",
       "      <td>59</td>\n",
       "    </tr>\n",
       "  </tbody>\n",
       "</table>\n",
       "</div>"
      ],
      "text/plain": [
       "color    R               G               B            \n",
       "cindex   0   1   2   3   0   1   2   3   0   1   2   3\n",
       "rindex                                                \n",
       "0        0   1   2   3   4   5   6   7   8   9  10  11\n",
       "1       12  13  14  15  16  17  18  19  20  21  22  23\n",
       "2       24  25  26  27  28  29  30  31  32  33  34  35\n",
       "3       36  37  38  39  40  41  42  43  44  45  46  47\n",
       "4       48  49  50  51  52  53  54  55  56  57  58  59"
      ]
     },
     "execution_count": 57,
     "metadata": {},
     "output_type": "execute_result"
    }
   ],
   "source": [
    "image = pd.DataFrame(\n",
    "    np.arange(60).reshape(5, 12),\n",
    "    index=pd.Index([0, 1, 2, 3, 4], name=\"rindex\"),\n",
    "    columns=column_index,\n",
    ")\n",
    "image"
   ]
  },
  {
   "cell_type": "markdown",
   "id": "a5ccbda0",
   "metadata": {},
   "source": [
    "We can have a look at the said \"flat\" representation of the data"
   ]
  },
  {
   "cell_type": "code",
   "execution_count": 58,
   "id": "2e4be873",
   "metadata": {},
   "outputs": [
    {
     "data": {
      "text/plain": [
       "color  cindex  rindex\n",
       "R      0       0          0\n",
       "               1         12\n",
       "               2         24\n",
       "               3         36\n",
       "               4         48\n",
       "       1       0          1\n",
       "               1         13\n",
       "               2         25\n",
       "               3         37\n",
       "               4         49\n",
       "       2       0          2\n",
       "               1         14\n",
       "               2         26\n",
       "               3         38\n",
       "               4         50\n",
       "       3       0          3\n",
       "               1         15\n",
       "               2         27\n",
       "               3         39\n",
       "               4         51\n",
       "G      0       0          4\n",
       "               1         16\n",
       "               2         28\n",
       "               3         40\n",
       "               4         52\n",
       "       1       0          5\n",
       "               1         17\n",
       "               2         29\n",
       "               3         41\n",
       "               4         53\n",
       "       2       0          6\n",
       "               1         18\n",
       "               2         30\n",
       "               3         42\n",
       "               4         54\n",
       "       3       0          7\n",
       "               1         19\n",
       "               2         31\n",
       "               3         43\n",
       "               4         55\n",
       "B      0       0          8\n",
       "               1         20\n",
       "               2         32\n",
       "               3         44\n",
       "               4         56\n",
       "       1       0          9\n",
       "               1         21\n",
       "               2         33\n",
       "               3         45\n",
       "               4         57\n",
       "       2       0         10\n",
       "               1         22\n",
       "               2         34\n",
       "               3         46\n",
       "               4         58\n",
       "       3       0         11\n",
       "               1         23\n",
       "               2         35\n",
       "               3         47\n",
       "               4         59\n",
       "dtype: int64"
      ]
     },
     "execution_count": 58,
     "metadata": {},
     "output_type": "execute_result"
    }
   ],
   "source": [
    "image.unstack()"
   ]
  },
  {
   "cell_type": "markdown",
   "id": "99c855cf",
   "metadata": {},
   "source": [
    "Accessing the entries works as follows"
   ]
  },
  {
   "cell_type": "code",
   "execution_count": 59,
   "id": "1c2629d9",
   "metadata": {},
   "outputs": [
    {
     "data": {
      "text/plain": [
       "25"
      ]
     },
     "execution_count": 59,
     "metadata": {},
     "output_type": "execute_result"
    }
   ],
   "source": [
    "image[\"R\"]  # Column(s) where first multiindex is R\n",
    "image.loc[:, (\"R\", 0)]  # Column multiindex by R, 0\n",
    "image.loc[2, (\"R\", 1)]  # The entry"
   ]
  },
  {
   "cell_type": "markdown",
   "id": "d58750e1",
   "metadata": {},
   "source": [
    "We can perform reduction operation"
   ]
  },
  {
   "cell_type": "code",
   "execution_count": 60,
   "id": "9f0fc250",
   "metadata": {},
   "outputs": [
    {
     "data": {
      "text/plain": [
       "29.5"
      ]
     },
     "execution_count": 60,
     "metadata": {},
     "output_type": "execute_result"
    }
   ],
   "source": [
    "image.mean().mean()"
   ]
  },
  {
   "cell_type": "markdown",
   "id": "c0ba9217",
   "metadata": {},
   "source": [
    "## Combining datasets - appending"
   ]
  },
  {
   "cell_type": "markdown",
   "id": "91ef8dd6",
   "metadata": {},
   "source": [
    "Extend `numpy.concatenate` to `pandas` objects. We can combine data from 2 frames if they have some \"axes\" in common. Let's start with 2 identical columns and do default vertical/row wise concatenation. Note that all the operations below create new `DataFrame`"
   ]
  },
  {
   "cell_type": "code",
   "execution_count": 61,
   "id": "241b768c",
   "metadata": {},
   "outputs": [
    {
     "name": "stdout",
     "output_type": "stream",
     "text": [
      "          c0        c1\n",
      "r0  0.904955  0.461721\n",
      "r1  0.728287  0.227259\n",
      "           c0         c1\n",
      "r0  10.784765  10.696760\n",
      "r1  10.949264  10.610865\n",
      "r2  10.835922  10.139623\n",
      "r3  10.458615  10.799789\n"
     ]
    }
   ],
   "source": [
    "# Unique row indices\n",
    "d1 = spreadsheet(2, 2, base=0)\n",
    "d2 = spreadsheet(4, 2, base=10)\n",
    "print(d1)\n",
    "print(d2)"
   ]
  },
  {
   "cell_type": "code",
   "execution_count": 62,
   "id": "9f8f1146",
   "metadata": {},
   "outputs": [
    {
     "data": {
      "text/html": [
       "<div>\n",
       "<style scoped>\n",
       "    .dataframe tbody tr th:only-of-type {\n",
       "        vertical-align: middle;\n",
       "    }\n",
       "\n",
       "    .dataframe tbody tr th {\n",
       "        vertical-align: top;\n",
       "    }\n",
       "\n",
       "    .dataframe thead th {\n",
       "        text-align: right;\n",
       "    }\n",
       "</style>\n",
       "<table border=\"1\" class=\"dataframe\">\n",
       "  <thead>\n",
       "    <tr style=\"text-align: right;\">\n",
       "      <th></th>\n",
       "      <th>c0</th>\n",
       "      <th>c1</th>\n",
       "    </tr>\n",
       "  </thead>\n",
       "  <tbody>\n",
       "    <tr>\n",
       "      <th>r0</th>\n",
       "      <td>0.904955</td>\n",
       "      <td>0.461721</td>\n",
       "    </tr>\n",
       "    <tr>\n",
       "      <th>r1</th>\n",
       "      <td>0.728287</td>\n",
       "      <td>0.227259</td>\n",
       "    </tr>\n",
       "    <tr>\n",
       "      <th>r0</th>\n",
       "      <td>10.784765</td>\n",
       "      <td>10.696760</td>\n",
       "    </tr>\n",
       "    <tr>\n",
       "      <th>r1</th>\n",
       "      <td>10.949264</td>\n",
       "      <td>10.610865</td>\n",
       "    </tr>\n",
       "    <tr>\n",
       "      <th>r2</th>\n",
       "      <td>10.835922</td>\n",
       "      <td>10.139623</td>\n",
       "    </tr>\n",
       "    <tr>\n",
       "      <th>r3</th>\n",
       "      <td>10.458615</td>\n",
       "      <td>10.799789</td>\n",
       "    </tr>\n",
       "  </tbody>\n",
       "</table>\n",
       "</div>"
      ],
      "text/plain": [
       "           c0         c1\n",
       "r0   0.904955   0.461721\n",
       "r1   0.728287   0.227259\n",
       "r0  10.784765  10.696760\n",
       "r1  10.949264  10.610865\n",
       "r2  10.835922  10.139623\n",
       "r3  10.458615  10.799789"
      ]
     },
     "execution_count": 62,
     "metadata": {},
     "output_type": "execute_result"
    }
   ],
   "source": [
    "pd.concat([d1, d2])"
   ]
  },
  {
   "cell_type": "markdown",
   "id": "e3342b89",
   "metadata": {},
   "source": [
    "What if there are duplicate indices?"
   ]
  },
  {
   "cell_type": "code",
   "execution_count": 63,
   "id": "f2f47377",
   "metadata": {},
   "outputs": [
    {
     "name": "stdout",
     "output_type": "stream",
     "text": [
      "          c0        c1\n",
      "r0  0.887823  0.685323\n",
      "r1  0.952741  0.543635\n",
      "           c0         c1\n",
      "r0  10.876731  10.797502\n",
      "r1  10.161474  10.832729\n"
     ]
    },
    {
     "data": {
      "text/html": [
       "<div>\n",
       "<style scoped>\n",
       "    .dataframe tbody tr th:only-of-type {\n",
       "        vertical-align: middle;\n",
       "    }\n",
       "\n",
       "    .dataframe tbody tr th {\n",
       "        vertical-align: top;\n",
       "    }\n",
       "\n",
       "    .dataframe thead th {\n",
       "        text-align: right;\n",
       "    }\n",
       "</style>\n",
       "<table border=\"1\" class=\"dataframe\">\n",
       "  <thead>\n",
       "    <tr style=\"text-align: right;\">\n",
       "      <th></th>\n",
       "      <th>c0</th>\n",
       "      <th>c1</th>\n",
       "    </tr>\n",
       "  </thead>\n",
       "  <tbody>\n",
       "    <tr>\n",
       "      <th>r0</th>\n",
       "      <td>0.887823</td>\n",
       "      <td>0.685323</td>\n",
       "    </tr>\n",
       "    <tr>\n",
       "      <th>r1</th>\n",
       "      <td>0.952741</td>\n",
       "      <td>0.543635</td>\n",
       "    </tr>\n",
       "    <tr>\n",
       "      <th>r0</th>\n",
       "      <td>10.876731</td>\n",
       "      <td>10.797502</td>\n",
       "    </tr>\n",
       "    <tr>\n",
       "      <th>r1</th>\n",
       "      <td>10.161474</td>\n",
       "      <td>10.832729</td>\n",
       "    </tr>\n",
       "  </tbody>\n",
       "</table>\n",
       "</div>"
      ],
      "text/plain": [
       "           c0         c1\n",
       "r0   0.887823   0.685323\n",
       "r1   0.952741   0.543635\n",
       "r0  10.876731  10.797502\n",
       "r1  10.161474  10.832729"
      ]
     },
     "execution_count": 63,
     "metadata": {},
     "output_type": "execute_result"
    }
   ],
   "source": [
    "d1 = spreadsheet(2, 2, base=0)  # Has r0, r1\n",
    "d2 = spreadsheet(2, 2, base=10)  # Has r0, r1\n",
    "print(d1)\n",
    "print(d2)\n",
    "d12 = pd.concat([d1, d2])\n",
    "d12"
   ]
  },
  {
   "cell_type": "markdown",
   "id": "e1810ee3",
   "metadata": {},
   "source": [
    "We can still get values but this lack of uniqueness might not be desirable and we might want to check for it..."
   ]
  },
  {
   "cell_type": "code",
   "execution_count": 64,
   "id": "76bcf50e",
   "metadata": {},
   "outputs": [
    {
     "data": {
      "text/html": [
       "<div>\n",
       "<style scoped>\n",
       "    .dataframe tbody tr th:only-of-type {\n",
       "        vertical-align: middle;\n",
       "    }\n",
       "\n",
       "    .dataframe tbody tr th {\n",
       "        vertical-align: top;\n",
       "    }\n",
       "\n",
       "    .dataframe thead th {\n",
       "        text-align: right;\n",
       "    }\n",
       "</style>\n",
       "<table border=\"1\" class=\"dataframe\">\n",
       "  <thead>\n",
       "    <tr style=\"text-align: right;\">\n",
       "      <th></th>\n",
       "      <th>c0</th>\n",
       "      <th>c1</th>\n",
       "    </tr>\n",
       "  </thead>\n",
       "  <tbody>\n",
       "    <tr>\n",
       "      <th>r0</th>\n",
       "      <td>0.887823</td>\n",
       "      <td>0.685323</td>\n",
       "    </tr>\n",
       "    <tr>\n",
       "      <th>r0</th>\n",
       "      <td>10.876731</td>\n",
       "      <td>10.797502</td>\n",
       "    </tr>\n",
       "  </tbody>\n",
       "</table>\n",
       "</div>"
      ],
      "text/plain": [
       "           c0         c1\n",
       "r0   0.887823   0.685323\n",
       "r0  10.876731  10.797502"
      ]
     },
     "execution_count": 64,
     "metadata": {},
     "output_type": "execute_result"
    }
   ],
   "source": [
    "d12.loc[\"r0\", :]"
   ]
  },
  {
   "cell_type": "code",
   "execution_count": 65,
   "id": "f8e82de8",
   "metadata": {},
   "outputs": [
    {
     "data": {
      "text/html": [
       "<div>\n",
       "<style scoped>\n",
       "    .dataframe tbody tr th:only-of-type {\n",
       "        vertical-align: middle;\n",
       "    }\n",
       "\n",
       "    .dataframe tbody tr th {\n",
       "        vertical-align: top;\n",
       "    }\n",
       "\n",
       "    .dataframe thead th {\n",
       "        text-align: right;\n",
       "    }\n",
       "</style>\n",
       "<table border=\"1\" class=\"dataframe\">\n",
       "  <thead>\n",
       "    <tr style=\"text-align: right;\">\n",
       "      <th></th>\n",
       "      <th>c0</th>\n",
       "      <th>c1</th>\n",
       "    </tr>\n",
       "  </thead>\n",
       "  <tbody>\n",
       "    <tr>\n",
       "      <th>r0</th>\n",
       "      <td>0.887823</td>\n",
       "      <td>0.685323</td>\n",
       "    </tr>\n",
       "    <tr>\n",
       "      <th>r1</th>\n",
       "      <td>0.952741</td>\n",
       "      <td>0.543635</td>\n",
       "    </tr>\n",
       "    <tr>\n",
       "      <th>r0</th>\n",
       "      <td>10.876731</td>\n",
       "      <td>10.797502</td>\n",
       "    </tr>\n",
       "    <tr>\n",
       "      <th>r1</th>\n",
       "      <td>10.161474</td>\n",
       "      <td>10.832729</td>\n",
       "    </tr>\n",
       "  </tbody>\n",
       "</table>\n",
       "</div>"
      ],
      "text/plain": [
       "           c0         c1\n",
       "r0   0.887823   0.685323\n",
       "r1   0.952741   0.543635\n",
       "r0  10.876731  10.797502\n",
       "r1  10.161474  10.832729"
      ]
     },
     "execution_count": 65,
     "metadata": {},
     "output_type": "execute_result"
    }
   ],
   "source": [
    "pd.concat([d1, d2], verify_integrity=False)  # True"
   ]
  },
  {
   "cell_type": "markdown",
   "id": "cef6da2c",
   "metadata": {},
   "source": [
    "... or reset the index. "
   ]
  },
  {
   "cell_type": "code",
   "execution_count": 66,
   "id": "2b2ca597",
   "metadata": {},
   "outputs": [
    {
     "data": {
      "text/html": [
       "<div>\n",
       "<style scoped>\n",
       "    .dataframe tbody tr th:only-of-type {\n",
       "        vertical-align: middle;\n",
       "    }\n",
       "\n",
       "    .dataframe tbody tr th {\n",
       "        vertical-align: top;\n",
       "    }\n",
       "\n",
       "    .dataframe thead th {\n",
       "        text-align: right;\n",
       "    }\n",
       "</style>\n",
       "<table border=\"1\" class=\"dataframe\">\n",
       "  <thead>\n",
       "    <tr style=\"text-align: right;\">\n",
       "      <th></th>\n",
       "      <th>c0</th>\n",
       "      <th>c1</th>\n",
       "    </tr>\n",
       "  </thead>\n",
       "  <tbody>\n",
       "    <tr>\n",
       "      <th>0</th>\n",
       "      <td>0.887823</td>\n",
       "      <td>0.685323</td>\n",
       "    </tr>\n",
       "    <tr>\n",
       "      <th>1</th>\n",
       "      <td>0.952741</td>\n",
       "      <td>0.543635</td>\n",
       "    </tr>\n",
       "    <tr>\n",
       "      <th>2</th>\n",
       "      <td>10.876731</td>\n",
       "      <td>10.797502</td>\n",
       "    </tr>\n",
       "    <tr>\n",
       "      <th>3</th>\n",
       "      <td>10.161474</td>\n",
       "      <td>10.832729</td>\n",
       "    </tr>\n",
       "  </tbody>\n",
       "</table>\n",
       "</div>"
      ],
      "text/plain": [
       "          c0         c1\n",
       "0   0.887823   0.685323\n",
       "1   0.952741   0.543635\n",
       "2  10.876731  10.797502\n",
       "3  10.161474  10.832729"
      ]
     },
     "execution_count": 66,
     "metadata": {},
     "output_type": "execute_result"
    }
   ],
   "source": [
    "pd.concat([d1, d2], ignore_index=True)"
   ]
  },
  {
   "cell_type": "markdown",
   "id": "3d62b7e1",
   "metadata": {},
   "source": [
    "A different, more organized option is to introduce multiindex to remember where the data came from"
   ]
  },
  {
   "cell_type": "code",
   "execution_count": 67,
   "id": "992f1967",
   "metadata": {},
   "outputs": [
    {
     "data": {
      "text/html": [
       "<div>\n",
       "<style scoped>\n",
       "    .dataframe tbody tr th:only-of-type {\n",
       "        vertical-align: middle;\n",
       "    }\n",
       "\n",
       "    .dataframe tbody tr th {\n",
       "        vertical-align: top;\n",
       "    }\n",
       "\n",
       "    .dataframe thead th {\n",
       "        text-align: right;\n",
       "    }\n",
       "</style>\n",
       "<table border=\"1\" class=\"dataframe\">\n",
       "  <thead>\n",
       "    <tr style=\"text-align: right;\">\n",
       "      <th></th>\n",
       "      <th></th>\n",
       "      <th>c0</th>\n",
       "      <th>c1</th>\n",
       "    </tr>\n",
       "  </thead>\n",
       "  <tbody>\n",
       "    <tr>\n",
       "      <th rowspan=\"2\" valign=\"top\">D1</th>\n",
       "      <th>r0</th>\n",
       "      <td>0.887823</td>\n",
       "      <td>0.685323</td>\n",
       "    </tr>\n",
       "    <tr>\n",
       "      <th>r1</th>\n",
       "      <td>0.952741</td>\n",
       "      <td>0.543635</td>\n",
       "    </tr>\n",
       "    <tr>\n",
       "      <th rowspan=\"2\" valign=\"top\">D2</th>\n",
       "      <th>r0</th>\n",
       "      <td>10.876731</td>\n",
       "      <td>10.797502</td>\n",
       "    </tr>\n",
       "    <tr>\n",
       "      <th>r1</th>\n",
       "      <td>10.161474</td>\n",
       "      <td>10.832729</td>\n",
       "    </tr>\n",
       "  </tbody>\n",
       "</table>\n",
       "</div>"
      ],
      "text/plain": [
       "              c0         c1\n",
       "D1 r0   0.887823   0.685323\n",
       "   r1   0.952741   0.543635\n",
       "D2 r0  10.876731  10.797502\n",
       "   r1  10.161474  10.832729"
      ]
     },
     "execution_count": 67,
     "metadata": {},
     "output_type": "execute_result"
    }
   ],
   "source": [
    "d12 = pd.concat([d1, d2], keys=[\"D1\", \"D2\"])\n",
    "d12"
   ]
  },
  {
   "cell_type": "code",
   "execution_count": 68,
   "id": "68182e03",
   "metadata": {},
   "outputs": [
    {
     "data": {
      "text/html": [
       "<div>\n",
       "<style scoped>\n",
       "    .dataframe tbody tr th:only-of-type {\n",
       "        vertical-align: middle;\n",
       "    }\n",
       "\n",
       "    .dataframe tbody tr th {\n",
       "        vertical-align: top;\n",
       "    }\n",
       "\n",
       "    .dataframe thead th {\n",
       "        text-align: right;\n",
       "    }\n",
       "</style>\n",
       "<table border=\"1\" class=\"dataframe\">\n",
       "  <thead>\n",
       "    <tr style=\"text-align: right;\">\n",
       "      <th></th>\n",
       "      <th>c0</th>\n",
       "      <th>c1</th>\n",
       "    </tr>\n",
       "  </thead>\n",
       "  <tbody>\n",
       "    <tr>\n",
       "      <th>r0</th>\n",
       "      <td>0.887823</td>\n",
       "      <td>0.685323</td>\n",
       "    </tr>\n",
       "    <tr>\n",
       "      <th>r1</th>\n",
       "      <td>0.952741</td>\n",
       "      <td>0.543635</td>\n",
       "    </tr>\n",
       "  </tbody>\n",
       "</table>\n",
       "</div>"
      ],
      "text/plain": [
       "          c0        c1\n",
       "r0  0.887823  0.685323\n",
       "r1  0.952741  0.543635"
      ]
     },
     "execution_count": 68,
     "metadata": {},
     "output_type": "execute_result"
    }
   ],
   "source": [
    "d12.loc[\"D1\", :]"
   ]
  },
  {
   "cell_type": "markdown",
   "id": "7d81d0b1",
   "metadata": {},
   "source": [
    "For frames sharing row index we can vertical/column wise concatenation"
   ]
  },
  {
   "cell_type": "code",
   "execution_count": 69,
   "id": "a94b81f3",
   "metadata": {},
   "outputs": [
    {
     "name": "stdout",
     "output_type": "stream",
     "text": [
      "          c0        c1        c2\n",
      "r0  0.022688  0.677420  0.705416\n",
      "r1  0.877029  0.949243  0.317691\n",
      "          c3        c4        c5\n",
      "r5  0.492914  0.206868  0.292487\n",
      "r6  0.824141  0.039968  0.829352\n"
     ]
    },
    {
     "data": {
      "text/html": [
       "<div>\n",
       "<style scoped>\n",
       "    .dataframe tbody tr th:only-of-type {\n",
       "        vertical-align: middle;\n",
       "    }\n",
       "\n",
       "    .dataframe tbody tr th {\n",
       "        vertical-align: top;\n",
       "    }\n",
       "\n",
       "    .dataframe thead th {\n",
       "        text-align: right;\n",
       "    }\n",
       "</style>\n",
       "<table border=\"1\" class=\"dataframe\">\n",
       "  <thead>\n",
       "    <tr style=\"text-align: right;\">\n",
       "      <th></th>\n",
       "      <th>c0</th>\n",
       "      <th>c1</th>\n",
       "      <th>c2</th>\n",
       "      <th>c3</th>\n",
       "      <th>c4</th>\n",
       "      <th>c5</th>\n",
       "    </tr>\n",
       "  </thead>\n",
       "  <tbody>\n",
       "    <tr>\n",
       "      <th>r0</th>\n",
       "      <td>0.022688</td>\n",
       "      <td>0.677420</td>\n",
       "      <td>0.705416</td>\n",
       "      <td>NaN</td>\n",
       "      <td>NaN</td>\n",
       "      <td>NaN</td>\n",
       "    </tr>\n",
       "    <tr>\n",
       "      <th>r1</th>\n",
       "      <td>0.877029</td>\n",
       "      <td>0.949243</td>\n",
       "      <td>0.317691</td>\n",
       "      <td>NaN</td>\n",
       "      <td>NaN</td>\n",
       "      <td>NaN</td>\n",
       "    </tr>\n",
       "    <tr>\n",
       "      <th>r5</th>\n",
       "      <td>NaN</td>\n",
       "      <td>NaN</td>\n",
       "      <td>NaN</td>\n",
       "      <td>0.492914</td>\n",
       "      <td>0.206868</td>\n",
       "      <td>0.292487</td>\n",
       "    </tr>\n",
       "    <tr>\n",
       "      <th>r6</th>\n",
       "      <td>NaN</td>\n",
       "      <td>NaN</td>\n",
       "      <td>NaN</td>\n",
       "      <td>0.824141</td>\n",
       "      <td>0.039968</td>\n",
       "      <td>0.829352</td>\n",
       "    </tr>\n",
       "  </tbody>\n",
       "</table>\n",
       "</div>"
      ],
      "text/plain": [
       "          c0        c1        c2        c3        c4        c5\n",
       "r0  0.022688  0.677420  0.705416       NaN       NaN       NaN\n",
       "r1  0.877029  0.949243  0.317691       NaN       NaN       NaN\n",
       "r5       NaN       NaN       NaN  0.492914  0.206868  0.292487\n",
       "r6       NaN       NaN       NaN  0.824141  0.039968  0.829352"
      ]
     },
     "execution_count": 69,
     "metadata": {},
     "output_type": "execute_result"
    }
   ],
   "source": [
    "d1 = spreadsheet(2, 3, cstart=0)\n",
    "d2 = spreadsheet(2, 3, cstart=3, start=5)\n",
    "print(d1)\n",
    "print(d2)\n",
    "pd.concat([d1, d2], axis=1, verify_integrity=True)"
   ]
  },
  {
   "cell_type": "code",
   "execution_count": 70,
   "id": "1b4efb23",
   "metadata": {},
   "outputs": [
    {
     "name": "stdout",
     "output_type": "stream",
     "text": [
      "          c0        c1        c2\n",
      "r0  0.178587  0.155051  0.513482\n",
      "r1  0.540436  0.585551  0.965622\n",
      "          c3        c4        c5\n",
      "r1  0.782119  0.806388  0.859816\n",
      "r2  0.574038  0.615266  0.536074\n"
     ]
    },
    {
     "data": {
      "text/html": [
       "<div>\n",
       "<style scoped>\n",
       "    .dataframe tbody tr th:only-of-type {\n",
       "        vertical-align: middle;\n",
       "    }\n",
       "\n",
       "    .dataframe tbody tr th {\n",
       "        vertical-align: top;\n",
       "    }\n",
       "\n",
       "    .dataframe thead th {\n",
       "        text-align: right;\n",
       "    }\n",
       "</style>\n",
       "<table border=\"1\" class=\"dataframe\">\n",
       "  <thead>\n",
       "    <tr style=\"text-align: right;\">\n",
       "      <th></th>\n",
       "      <th>c0</th>\n",
       "      <th>c1</th>\n",
       "      <th>c2</th>\n",
       "      <th>c3</th>\n",
       "      <th>c4</th>\n",
       "      <th>c5</th>\n",
       "    </tr>\n",
       "  </thead>\n",
       "  <tbody>\n",
       "    <tr>\n",
       "      <th>r0</th>\n",
       "      <td>0.178587</td>\n",
       "      <td>0.155051</td>\n",
       "      <td>0.513482</td>\n",
       "      <td>NaN</td>\n",
       "      <td>NaN</td>\n",
       "      <td>NaN</td>\n",
       "    </tr>\n",
       "    <tr>\n",
       "      <th>r1</th>\n",
       "      <td>0.540436</td>\n",
       "      <td>0.585551</td>\n",
       "      <td>0.965622</td>\n",
       "      <td>0.782119</td>\n",
       "      <td>0.806388</td>\n",
       "      <td>0.859816</td>\n",
       "    </tr>\n",
       "    <tr>\n",
       "      <th>r2</th>\n",
       "      <td>NaN</td>\n",
       "      <td>NaN</td>\n",
       "      <td>NaN</td>\n",
       "      <td>0.574038</td>\n",
       "      <td>0.615266</td>\n",
       "      <td>0.536074</td>\n",
       "    </tr>\n",
       "  </tbody>\n",
       "</table>\n",
       "</div>"
      ],
      "text/plain": [
       "          c0        c1        c2        c3        c4        c5\n",
       "r0  0.178587  0.155051  0.513482       NaN       NaN       NaN\n",
       "r1  0.540436  0.585551  0.965622  0.782119  0.806388  0.859816\n",
       "r2       NaN       NaN       NaN  0.574038  0.615266  0.536074"
      ]
     },
     "execution_count": 70,
     "metadata": {},
     "output_type": "execute_result"
    }
   ],
   "source": [
    "d1 = spreadsheet(2, 3, cstart=0)\n",
    "d2 = spreadsheet(2, 3, cstart=3, start=1)\n",
    "print(d1)\n",
    "print(d2)\n",
    "pd.concat([d1, d2], axis=1, verify_integrity=True)"
   ]
  },
  {
   "cell_type": "markdown",
   "id": "d3dec62c",
   "metadata": {},
   "source": [
    "What if we are appending two tables with slighlty different columns. It makes sense that there would be some missing data"
   ]
  },
  {
   "cell_type": "code",
   "execution_count": 71,
   "id": "9fc0e6cc",
   "metadata": {},
   "outputs": [
    {
     "name": "stdout",
     "output_type": "stream",
     "text": [
      "          c0        c1\n",
      "r0  0.151458  0.059844\n",
      "r1  0.623653  0.035702\n",
      "          c1        c2        c3\n",
      "r0  0.946713  0.906110  0.300365\n",
      "r1  0.514724  0.687296  0.905855\n"
     ]
    },
    {
     "data": {
      "text/html": [
       "<div>\n",
       "<style scoped>\n",
       "    .dataframe tbody tr th:only-of-type {\n",
       "        vertical-align: middle;\n",
       "    }\n",
       "\n",
       "    .dataframe tbody tr th {\n",
       "        vertical-align: top;\n",
       "    }\n",
       "\n",
       "    .dataframe thead th {\n",
       "        text-align: right;\n",
       "    }\n",
       "</style>\n",
       "<table border=\"1\" class=\"dataframe\">\n",
       "  <thead>\n",
       "    <tr style=\"text-align: right;\">\n",
       "      <th></th>\n",
       "      <th>c0</th>\n",
       "      <th>c1</th>\n",
       "      <th>c2</th>\n",
       "      <th>c3</th>\n",
       "    </tr>\n",
       "  </thead>\n",
       "  <tbody>\n",
       "    <tr>\n",
       "      <th>0</th>\n",
       "      <td>0.151458</td>\n",
       "      <td>0.059844</td>\n",
       "      <td>NaN</td>\n",
       "      <td>NaN</td>\n",
       "    </tr>\n",
       "    <tr>\n",
       "      <th>1</th>\n",
       "      <td>0.623653</td>\n",
       "      <td>0.035702</td>\n",
       "      <td>NaN</td>\n",
       "      <td>NaN</td>\n",
       "    </tr>\n",
       "    <tr>\n",
       "      <th>2</th>\n",
       "      <td>NaN</td>\n",
       "      <td>0.946713</td>\n",
       "      <td>0.906110</td>\n",
       "      <td>0.300365</td>\n",
       "    </tr>\n",
       "    <tr>\n",
       "      <th>3</th>\n",
       "      <td>NaN</td>\n",
       "      <td>0.514724</td>\n",
       "      <td>0.687296</td>\n",
       "      <td>0.905855</td>\n",
       "    </tr>\n",
       "  </tbody>\n",
       "</table>\n",
       "</div>"
      ],
      "text/plain": [
       "         c0        c1        c2        c3\n",
       "0  0.151458  0.059844       NaN       NaN\n",
       "1  0.623653  0.035702       NaN       NaN\n",
       "2       NaN  0.946713  0.906110  0.300365\n",
       "3       NaN  0.514724  0.687296  0.905855"
      ]
     },
     "execution_count": 71,
     "metadata": {},
     "output_type": "execute_result"
    }
   ],
   "source": [
    "d1 = spreadsheet(2, 2, cstart=0)  # Has c0 c1\n",
    "d2 = spreadsheet(2, 3, start=0, cstart=1)  # c1 c2 c3\n",
    "print(d1)\n",
    "print(d2)\n",
    "pd.concat([d1, d2], ignore_index=True)"
   ]
  },
  {
   "cell_type": "markdown",
   "id": "bb87ef7e",
   "metadata": {},
   "source": [
    "We see that the by default we combine columns from both tables. But we can be more specific using the `join` or `join_axes` keyword arguments"
   ]
  },
  {
   "cell_type": "code",
   "execution_count": 72,
   "id": "13c42fef",
   "metadata": {},
   "outputs": [
    {
     "data": {
      "text/html": [
       "<div>\n",
       "<style scoped>\n",
       "    .dataframe tbody tr th:only-of-type {\n",
       "        vertical-align: middle;\n",
       "    }\n",
       "\n",
       "    .dataframe tbody tr th {\n",
       "        vertical-align: top;\n",
       "    }\n",
       "\n",
       "    .dataframe thead th {\n",
       "        text-align: right;\n",
       "    }\n",
       "</style>\n",
       "<table border=\"1\" class=\"dataframe\">\n",
       "  <thead>\n",
       "    <tr style=\"text-align: right;\">\n",
       "      <th></th>\n",
       "      <th>c1</th>\n",
       "    </tr>\n",
       "  </thead>\n",
       "  <tbody>\n",
       "    <tr>\n",
       "      <th>0</th>\n",
       "      <td>0.059844</td>\n",
       "    </tr>\n",
       "    <tr>\n",
       "      <th>1</th>\n",
       "      <td>0.035702</td>\n",
       "    </tr>\n",
       "    <tr>\n",
       "      <th>2</th>\n",
       "      <td>0.946713</td>\n",
       "    </tr>\n",
       "    <tr>\n",
       "      <th>3</th>\n",
       "      <td>0.514724</td>\n",
       "    </tr>\n",
       "  </tbody>\n",
       "</table>\n",
       "</div>"
      ],
      "text/plain": [
       "         c1\n",
       "0  0.059844\n",
       "1  0.035702\n",
       "2  0.946713\n",
       "3  0.514724"
      ]
     },
     "execution_count": 72,
     "metadata": {},
     "output_type": "execute_result"
    }
   ],
   "source": [
    "pd.concat([d1, d2], ignore_index=True, join=\"inner\")  # Use the column intersection c1"
   ]
  },
  {
   "cell_type": "markdown",
   "id": "a8f49ecd",
   "metadata": {},
   "source": [
    "## Combining datasets - use relations to extend the data\n",
    "For `pd.concant` a typical use case is if we have tables of records (e.g. some logs of [transaction id, card number], [transaction id, amount]) and we want to append them. A different of way of building up/joining data is by `pd.merge`. Consider the following \"relational tables\". From `nationality` we know that \"Min\" -> \"USA\" while at the same time `university` maps \"Min\" to \"Berkeley\"."
   ]
  },
  {
   "cell_type": "code",
   "execution_count": 73,
   "id": "978bb686",
   "metadata": {},
   "outputs": [
    {
     "name": "stdout",
     "output_type": "stream",
     "text": [
      "       name nation\n",
      "0       Min    USA\n",
      "1      Miro    SVK\n",
      "2  Ingeborg    NOR\n",
      "3     Aslak    NOR\n",
      "       name       uni\n",
      "0      Miro      Oslo\n",
      "1  Ingeborg    Bergen\n",
      "2       Min  Berkeley\n",
      "3     Aslak      Oslo\n"
     ]
    }
   ],
   "source": [
    "nationality = pd.DataFrame(\n",
    "    {\n",
    "        \"name\": [\"Min\", \"Miro\", \"Ingeborg\", \"Aslak\"],\n",
    "        \"nation\": [\"USA\", \"SVK\", \"NOR\", \"NOR\"],\n",
    "    }\n",
    ")\n",
    "print(nationality)\n",
    "university = pd.DataFrame(\n",
    "    {\n",
    "        \"name\": [\"Miro\", \"Ingeborg\", \"Min\", \"Aslak\"],\n",
    "        \"uni\": [\"Oslo\", \"Bergen\", \"Berkeley\", \"Oslo\"],\n",
    "    }\n",
    ")\n",
    "print(university)"
   ]
  },
  {
   "cell_type": "markdown",
   "id": "e60e143a",
   "metadata": {},
   "source": [
    "Note that the frame are not aligned in their indexes but using `pd.merge` we can still capture the connection between \"Min\", \"Berkely\" and \"USA\""
   ]
  },
  {
   "cell_type": "code",
   "execution_count": 74,
   "id": "293b0b6a",
   "metadata": {},
   "outputs": [
    {
     "data": {
      "text/html": [
       "<div>\n",
       "<style scoped>\n",
       "    .dataframe tbody tr th:only-of-type {\n",
       "        vertical-align: middle;\n",
       "    }\n",
       "\n",
       "    .dataframe tbody tr th {\n",
       "        vertical-align: top;\n",
       "    }\n",
       "\n",
       "    .dataframe thead th {\n",
       "        text-align: right;\n",
       "    }\n",
       "</style>\n",
       "<table border=\"1\" class=\"dataframe\">\n",
       "  <thead>\n",
       "    <tr style=\"text-align: right;\">\n",
       "      <th></th>\n",
       "      <th>name</th>\n",
       "      <th>nation</th>\n",
       "      <th>uni</th>\n",
       "    </tr>\n",
       "  </thead>\n",
       "  <tbody>\n",
       "    <tr>\n",
       "      <th>0</th>\n",
       "      <td>Min</td>\n",
       "      <td>USA</td>\n",
       "      <td>Berkeley</td>\n",
       "    </tr>\n",
       "    <tr>\n",
       "      <th>1</th>\n",
       "      <td>Miro</td>\n",
       "      <td>SVK</td>\n",
       "      <td>Oslo</td>\n",
       "    </tr>\n",
       "    <tr>\n",
       "      <th>2</th>\n",
       "      <td>Ingeborg</td>\n",
       "      <td>NOR</td>\n",
       "      <td>Bergen</td>\n",
       "    </tr>\n",
       "    <tr>\n",
       "      <th>3</th>\n",
       "      <td>Aslak</td>\n",
       "      <td>NOR</td>\n",
       "      <td>Oslo</td>\n",
       "    </tr>\n",
       "  </tbody>\n",
       "</table>\n",
       "</div>"
      ],
      "text/plain": [
       "       name nation       uni\n",
       "0       Min    USA  Berkeley\n",
       "1      Miro    SVK      Oslo\n",
       "2  Ingeborg    NOR    Bergen\n",
       "3     Aslak    NOR      Oslo"
      ]
     },
     "execution_count": 74,
     "metadata": {},
     "output_type": "execute_result"
    }
   ],
   "source": [
    "pd.merge(nationality, university)"
   ]
  },
  {
   "cell_type": "markdown",
   "id": "2f9e8e1f",
   "metadata": {},
   "source": [
    "Above is an example of 1-1 join. We can go further and infer properties. Let's have a look up for capitals of some states."
   ]
  },
  {
   "cell_type": "code",
   "execution_count": 75,
   "id": "cc8c6df2",
   "metadata": {},
   "outputs": [
    {
     "data": {
      "text/html": [
       "<div>\n",
       "<style scoped>\n",
       "    .dataframe tbody tr th:only-of-type {\n",
       "        vertical-align: middle;\n",
       "    }\n",
       "\n",
       "    .dataframe tbody tr th {\n",
       "        vertical-align: top;\n",
       "    }\n",
       "\n",
       "    .dataframe thead th {\n",
       "        text-align: right;\n",
       "    }\n",
       "</style>\n",
       "<table border=\"1\" class=\"dataframe\">\n",
       "  <thead>\n",
       "    <tr style=\"text-align: right;\">\n",
       "      <th></th>\n",
       "      <th>nation</th>\n",
       "      <th>city</th>\n",
       "    </tr>\n",
       "  </thead>\n",
       "  <tbody>\n",
       "    <tr>\n",
       "      <th>0</th>\n",
       "      <td>USA</td>\n",
       "      <td>Washington</td>\n",
       "    </tr>\n",
       "    <tr>\n",
       "      <th>1</th>\n",
       "      <td>SVK</td>\n",
       "      <td>Brasislava</td>\n",
       "    </tr>\n",
       "    <tr>\n",
       "      <th>2</th>\n",
       "      <td>NOR</td>\n",
       "      <td>Oslo</td>\n",
       "    </tr>\n",
       "  </tbody>\n",
       "</table>\n",
       "</div>"
      ],
      "text/plain": [
       "  nation        city\n",
       "0    USA  Washington\n",
       "1    SVK  Brasislava\n",
       "2    NOR        Oslo"
      ]
     },
     "execution_count": 75,
     "metadata": {},
     "output_type": "execute_result"
    }
   ],
   "source": [
    "capitals = pd.DataFrame(\n",
    "    {\"nation\": [\"USA\", \"SVK\", \"NOR\"], \"city\": [\"Washington\", \"Brasislava\", \"Oslo\"]}\n",
    ")\n",
    "capitals"
   ]
  },
  {
   "cell_type": "markdown",
   "id": "293ad58e",
   "metadata": {},
   "source": [
    "Combining `nationality` with `capitals` we can see that \"Ingeborg -> NOR -> Oslo\" and thus can build a table with cities"
   ]
  },
  {
   "cell_type": "code",
   "execution_count": 76,
   "id": "dbcc5545",
   "metadata": {},
   "outputs": [
    {
     "data": {
      "text/html": [
       "<div>\n",
       "<style scoped>\n",
       "    .dataframe tbody tr th:only-of-type {\n",
       "        vertical-align: middle;\n",
       "    }\n",
       "\n",
       "    .dataframe tbody tr th {\n",
       "        vertical-align: top;\n",
       "    }\n",
       "\n",
       "    .dataframe thead th {\n",
       "        text-align: right;\n",
       "    }\n",
       "</style>\n",
       "<table border=\"1\" class=\"dataframe\">\n",
       "  <thead>\n",
       "    <tr style=\"text-align: right;\">\n",
       "      <th></th>\n",
       "      <th>name</th>\n",
       "      <th>nation</th>\n",
       "      <th>city</th>\n",
       "    </tr>\n",
       "  </thead>\n",
       "  <tbody>\n",
       "    <tr>\n",
       "      <th>0</th>\n",
       "      <td>Min</td>\n",
       "      <td>USA</td>\n",
       "      <td>Washington</td>\n",
       "    </tr>\n",
       "    <tr>\n",
       "      <th>1</th>\n",
       "      <td>Miro</td>\n",
       "      <td>SVK</td>\n",
       "      <td>Brasislava</td>\n",
       "    </tr>\n",
       "    <tr>\n",
       "      <th>2</th>\n",
       "      <td>Ingeborg</td>\n",
       "      <td>NOR</td>\n",
       "      <td>Oslo</td>\n",
       "    </tr>\n",
       "    <tr>\n",
       "      <th>3</th>\n",
       "      <td>Aslak</td>\n",
       "      <td>NOR</td>\n",
       "      <td>Oslo</td>\n",
       "    </tr>\n",
       "  </tbody>\n",
       "</table>\n",
       "</div>"
      ],
      "text/plain": [
       "       name nation        city\n",
       "0       Min    USA  Washington\n",
       "1      Miro    SVK  Brasislava\n",
       "2  Ingeborg    NOR        Oslo\n",
       "3     Aslak    NOR        Oslo"
      ]
     },
     "execution_count": 76,
     "metadata": {},
     "output_type": "execute_result"
    }
   ],
   "source": [
    "pd.merge(nationality, capitals)  "
   ]
  },
  {
   "cell_type": "markdown",
   "id": "31c7a1f2",
   "metadata": {},
   "source": [
    "Above the merge happened `on` unique common columns. Sometimes we want/need to be more explicit about the \"relation\"."
   ]
  },
  {
   "cell_type": "code",
   "execution_count": 77,
   "id": "7e634498",
   "metadata": {},
   "outputs": [
    {
     "data": {
      "text/html": [
       "<div>\n",
       "<style scoped>\n",
       "    .dataframe tbody tr th:only-of-type {\n",
       "        vertical-align: middle;\n",
       "    }\n",
       "\n",
       "    .dataframe tbody tr th {\n",
       "        vertical-align: top;\n",
       "    }\n",
       "\n",
       "    .dataframe thead th {\n",
       "        text-align: right;\n",
       "    }\n",
       "</style>\n",
       "<table border=\"1\" class=\"dataframe\">\n",
       "  <thead>\n",
       "    <tr style=\"text-align: right;\">\n",
       "      <th></th>\n",
       "      <th>state</th>\n",
       "      <th>city</th>\n",
       "      <th>count</th>\n",
       "    </tr>\n",
       "  </thead>\n",
       "  <tbody>\n",
       "    <tr>\n",
       "      <th>0</th>\n",
       "      <td>USA</td>\n",
       "      <td>Washington</td>\n",
       "      <td>4</td>\n",
       "    </tr>\n",
       "    <tr>\n",
       "      <th>1</th>\n",
       "      <td>SVK</td>\n",
       "      <td>Brasislava</td>\n",
       "      <td>5</td>\n",
       "    </tr>\n",
       "    <tr>\n",
       "      <th>2</th>\n",
       "      <td>NOR</td>\n",
       "      <td>Oslo</td>\n",
       "      <td>6</td>\n",
       "    </tr>\n",
       "  </tbody>\n",
       "</table>\n",
       "</div>"
      ],
      "text/plain": [
       "  state        city  count\n",
       "0   USA  Washington      4\n",
       "1   SVK  Brasislava      5\n",
       "2   NOR        Oslo      6"
      ]
     },
     "execution_count": 77,
     "metadata": {},
     "output_type": "execute_result"
    }
   ],
   "source": [
    "# This table does not have the \"nation\" column\n",
    "capitals2 = pd.DataFrame(\n",
    "    {\n",
    "        \"state\": [\"USA\", \"SVK\", \"NOR\"],\n",
    "        \"city\": [\"Washington\", \"Brasislava\", \"Oslo\"],\n",
    "        \"count\": [4, 5, 6],\n",
    "    }\n",
    ")\n",
    "capitals2"
   ]
  },
  {
   "cell_type": "markdown",
   "id": "673d67f8",
   "metadata": {},
   "source": [
    "We can specify which columns are to be used to build the relation as follows"
   ]
  },
  {
   "cell_type": "code",
   "execution_count": 78,
   "id": "6a9c3111",
   "metadata": {},
   "outputs": [
    {
     "data": {
      "text/html": [
       "<div>\n",
       "<style scoped>\n",
       "    .dataframe tbody tr th:only-of-type {\n",
       "        vertical-align: middle;\n",
       "    }\n",
       "\n",
       "    .dataframe tbody tr th {\n",
       "        vertical-align: top;\n",
       "    }\n",
       "\n",
       "    .dataframe thead th {\n",
       "        text-align: right;\n",
       "    }\n",
       "</style>\n",
       "<table border=\"1\" class=\"dataframe\">\n",
       "  <thead>\n",
       "    <tr style=\"text-align: right;\">\n",
       "      <th></th>\n",
       "      <th>name</th>\n",
       "      <th>state</th>\n",
       "      <th>city</th>\n",
       "      <th>count</th>\n",
       "    </tr>\n",
       "  </thead>\n",
       "  <tbody>\n",
       "    <tr>\n",
       "      <th>0</th>\n",
       "      <td>Min</td>\n",
       "      <td>USA</td>\n",
       "      <td>Washington</td>\n",
       "      <td>4</td>\n",
       "    </tr>\n",
       "    <tr>\n",
       "      <th>1</th>\n",
       "      <td>Miro</td>\n",
       "      <td>SVK</td>\n",
       "      <td>Brasislava</td>\n",
       "      <td>5</td>\n",
       "    </tr>\n",
       "    <tr>\n",
       "      <th>2</th>\n",
       "      <td>Ingeborg</td>\n",
       "      <td>NOR</td>\n",
       "      <td>Oslo</td>\n",
       "      <td>6</td>\n",
       "    </tr>\n",
       "    <tr>\n",
       "      <th>3</th>\n",
       "      <td>Aslak</td>\n",
       "      <td>NOR</td>\n",
       "      <td>Oslo</td>\n",
       "      <td>6</td>\n",
       "    </tr>\n",
       "  </tbody>\n",
       "</table>\n",
       "</div>"
      ],
      "text/plain": [
       "       name state        city  count\n",
       "0       Min   USA  Washington      4\n",
       "1      Miro   SVK  Brasislava      5\n",
       "2  Ingeborg   NOR        Oslo      6\n",
       "3     Aslak   NOR        Oslo      6"
      ]
     },
     "execution_count": 78,
     "metadata": {},
     "output_type": "execute_result"
    }
   ],
   "source": [
    "# We will have nation and state but they represent the same so drop\n",
    "pd.merge(nationality, capitals2, left_on=\"nation\", right_on=\"state\").drop(\n",
    "    \"nation\", axis=\"columns\"\n",
    ")"
   ]
  },
  {
   "cell_type": "markdown",
   "id": "b949f8f6",
   "metadata": {},
   "source": [
    "Indexes for row can also be used to this end. Let's make a new frame which use `state` column as index. "
   ]
  },
  {
   "cell_type": "code",
   "execution_count": 79,
   "id": "7e400f51",
   "metadata": {},
   "outputs": [
    {
     "data": {
      "text/html": [
       "<div>\n",
       "<style scoped>\n",
       "    .dataframe tbody tr th:only-of-type {\n",
       "        vertical-align: middle;\n",
       "    }\n",
       "\n",
       "    .dataframe tbody tr th {\n",
       "        vertical-align: top;\n",
       "    }\n",
       "\n",
       "    .dataframe thead th {\n",
       "        text-align: right;\n",
       "    }\n",
       "</style>\n",
       "<table border=\"1\" class=\"dataframe\">\n",
       "  <thead>\n",
       "    <tr style=\"text-align: right;\">\n",
       "      <th></th>\n",
       "      <th>state</th>\n",
       "      <th>city</th>\n",
       "      <th>count</th>\n",
       "    </tr>\n",
       "  </thead>\n",
       "  <tbody>\n",
       "    <tr>\n",
       "      <th>0</th>\n",
       "      <td>USA</td>\n",
       "      <td>Washington</td>\n",
       "      <td>4</td>\n",
       "    </tr>\n",
       "    <tr>\n",
       "      <th>1</th>\n",
       "      <td>SVK</td>\n",
       "      <td>Brasislava</td>\n",
       "      <td>5</td>\n",
       "    </tr>\n",
       "    <tr>\n",
       "      <th>2</th>\n",
       "      <td>NOR</td>\n",
       "      <td>Oslo</td>\n",
       "      <td>6</td>\n",
       "    </tr>\n",
       "  </tbody>\n",
       "</table>\n",
       "</div>"
      ],
      "text/plain": [
       "  state        city  count\n",
       "0   USA  Washington      4\n",
       "1   SVK  Brasislava      5\n",
       "2   NOR        Oslo      6"
      ]
     },
     "execution_count": 79,
     "metadata": {},
     "output_type": "execute_result"
    }
   ],
   "source": [
    "capitals2"
   ]
  },
  {
   "cell_type": "code",
   "execution_count": 80,
   "id": "c3d87335",
   "metadata": {},
   "outputs": [
    {
     "data": {
      "text/html": [
       "<div>\n",
       "<style scoped>\n",
       "    .dataframe tbody tr th:only-of-type {\n",
       "        vertical-align: middle;\n",
       "    }\n",
       "\n",
       "    .dataframe tbody tr th {\n",
       "        vertical-align: top;\n",
       "    }\n",
       "\n",
       "    .dataframe thead th {\n",
       "        text-align: right;\n",
       "    }\n",
       "</style>\n",
       "<table border=\"1\" class=\"dataframe\">\n",
       "  <thead>\n",
       "    <tr style=\"text-align: right;\">\n",
       "      <th></th>\n",
       "      <th>city</th>\n",
       "      <th>count</th>\n",
       "    </tr>\n",
       "    <tr>\n",
       "      <th>state</th>\n",
       "      <th></th>\n",
       "      <th></th>\n",
       "    </tr>\n",
       "  </thead>\n",
       "  <tbody>\n",
       "    <tr>\n",
       "      <th>USA</th>\n",
       "      <td>Washington</td>\n",
       "      <td>4</td>\n",
       "    </tr>\n",
       "    <tr>\n",
       "      <th>SVK</th>\n",
       "      <td>Brasislava</td>\n",
       "      <td>5</td>\n",
       "    </tr>\n",
       "    <tr>\n",
       "      <th>NOR</th>\n",
       "      <td>Oslo</td>\n",
       "      <td>6</td>\n",
       "    </tr>\n",
       "  </tbody>\n",
       "</table>\n",
       "</div>"
      ],
      "text/plain": [
       "             city  count\n",
       "state                   \n",
       "USA    Washington      4\n",
       "SVK    Brasislava      5\n",
       "NOR          Oslo      6"
      ]
     },
     "execution_count": 80,
     "metadata": {},
     "output_type": "execute_result"
    }
   ],
   "source": [
    "capitals_ri = capitals2.set_index(\"state\")\n",
    "capitals_ri"
   ]
  },
  {
   "cell_type": "markdown",
   "id": "7fe9a3be",
   "metadata": {},
   "source": [
    "It's merge can now be done in two ways. The old one ..."
   ]
  },
  {
   "cell_type": "code",
   "execution_count": 81,
   "id": "57c34155",
   "metadata": {},
   "outputs": [
    {
     "data": {
      "text/html": [
       "<div>\n",
       "<style scoped>\n",
       "    .dataframe tbody tr th:only-of-type {\n",
       "        vertical-align: middle;\n",
       "    }\n",
       "\n",
       "    .dataframe tbody tr th {\n",
       "        vertical-align: top;\n",
       "    }\n",
       "\n",
       "    .dataframe thead th {\n",
       "        text-align: right;\n",
       "    }\n",
       "</style>\n",
       "<table border=\"1\" class=\"dataframe\">\n",
       "  <thead>\n",
       "    <tr style=\"text-align: right;\">\n",
       "      <th></th>\n",
       "      <th>name</th>\n",
       "      <th>nation</th>\n",
       "      <th>city</th>\n",
       "      <th>count</th>\n",
       "    </tr>\n",
       "  </thead>\n",
       "  <tbody>\n",
       "    <tr>\n",
       "      <th>0</th>\n",
       "      <td>Min</td>\n",
       "      <td>USA</td>\n",
       "      <td>Washington</td>\n",
       "      <td>4</td>\n",
       "    </tr>\n",
       "    <tr>\n",
       "      <th>1</th>\n",
       "      <td>Miro</td>\n",
       "      <td>SVK</td>\n",
       "      <td>Brasislava</td>\n",
       "      <td>5</td>\n",
       "    </tr>\n",
       "    <tr>\n",
       "      <th>2</th>\n",
       "      <td>Ingeborg</td>\n",
       "      <td>NOR</td>\n",
       "      <td>Oslo</td>\n",
       "      <td>6</td>\n",
       "    </tr>\n",
       "    <tr>\n",
       "      <th>3</th>\n",
       "      <td>Aslak</td>\n",
       "      <td>NOR</td>\n",
       "      <td>Oslo</td>\n",
       "      <td>6</td>\n",
       "    </tr>\n",
       "  </tbody>\n",
       "</table>\n",
       "</div>"
      ],
      "text/plain": [
       "       name nation        city  count\n",
       "0       Min    USA  Washington      4\n",
       "1      Miro    SVK  Brasislava      5\n",
       "2  Ingeborg    NOR        Oslo      6\n",
       "3     Aslak    NOR        Oslo      6"
      ]
     },
     "execution_count": 81,
     "metadata": {},
     "output_type": "execute_result"
    }
   ],
   "source": [
    "pd.merge(nationality, capitals_ri, left_on=\"nation\", right_on=\"state\")"
   ]
  },
  {
   "cell_type": "markdown",
   "id": "d3755319",
   "metadata": {},
   "source": [
    "... or using row indexing"
   ]
  },
  {
   "cell_type": "code",
   "execution_count": 82,
   "id": "b8cac634",
   "metadata": {},
   "outputs": [
    {
     "data": {
      "text/html": [
       "<div>\n",
       "<style scoped>\n",
       "    .dataframe tbody tr th:only-of-type {\n",
       "        vertical-align: middle;\n",
       "    }\n",
       "\n",
       "    .dataframe tbody tr th {\n",
       "        vertical-align: top;\n",
       "    }\n",
       "\n",
       "    .dataframe thead th {\n",
       "        text-align: right;\n",
       "    }\n",
       "</style>\n",
       "<table border=\"1\" class=\"dataframe\">\n",
       "  <thead>\n",
       "    <tr style=\"text-align: right;\">\n",
       "      <th></th>\n",
       "      <th>name</th>\n",
       "      <th>nation</th>\n",
       "      <th>city</th>\n",
       "      <th>count</th>\n",
       "    </tr>\n",
       "  </thead>\n",
       "  <tbody>\n",
       "    <tr>\n",
       "      <th>0</th>\n",
       "      <td>Min</td>\n",
       "      <td>USA</td>\n",
       "      <td>Washington</td>\n",
       "      <td>4</td>\n",
       "    </tr>\n",
       "    <tr>\n",
       "      <th>1</th>\n",
       "      <td>Miro</td>\n",
       "      <td>SVK</td>\n",
       "      <td>Brasislava</td>\n",
       "      <td>5</td>\n",
       "    </tr>\n",
       "    <tr>\n",
       "      <th>2</th>\n",
       "      <td>Ingeborg</td>\n",
       "      <td>NOR</td>\n",
       "      <td>Oslo</td>\n",
       "      <td>6</td>\n",
       "    </tr>\n",
       "    <tr>\n",
       "      <th>3</th>\n",
       "      <td>Aslak</td>\n",
       "      <td>NOR</td>\n",
       "      <td>Oslo</td>\n",
       "      <td>6</td>\n",
       "    </tr>\n",
       "  </tbody>\n",
       "</table>\n",
       "</div>"
      ],
      "text/plain": [
       "       name nation        city  count\n",
       "0       Min    USA  Washington      4\n",
       "1      Miro    SVK  Brasislava      5\n",
       "2  Ingeborg    NOR        Oslo      6\n",
       "3     Aslak    NOR        Oslo      6"
      ]
     },
     "execution_count": 82,
     "metadata": {},
     "output_type": "execute_result"
    }
   ],
   "source": [
    "pd.merge(nationality, capitals_ri, left_on=\"nation\", right_index=True)"
   ]
  },
  {
   "cell_type": "markdown",
   "id": "f4c1acb7",
   "metadata": {},
   "source": [
    "What should happen if the relation cannot be establised for all the values needed? In the example below, we cannot infer position for all the `names` \n",
    "in the `nationality` frame. A sensible default is to perform merge only for those cases where it is well defined."
   ]
  },
  {
   "cell_type": "code",
   "execution_count": 83,
   "id": "4a944126",
   "metadata": {},
   "outputs": [
    {
     "data": {
      "text/html": [
       "<div>\n",
       "<style scoped>\n",
       "    .dataframe tbody tr th:only-of-type {\n",
       "        vertical-align: middle;\n",
       "    }\n",
       "\n",
       "    .dataframe tbody tr th {\n",
       "        vertical-align: top;\n",
       "    }\n",
       "\n",
       "    .dataframe thead th {\n",
       "        text-align: right;\n",
       "    }\n",
       "</style>\n",
       "<table border=\"1\" class=\"dataframe\">\n",
       "  <thead>\n",
       "    <tr style=\"text-align: right;\">\n",
       "      <th></th>\n",
       "      <th>name</th>\n",
       "      <th>nation</th>\n",
       "      <th>who</th>\n",
       "      <th>position</th>\n",
       "    </tr>\n",
       "  </thead>\n",
       "  <tbody>\n",
       "    <tr>\n",
       "      <th>0</th>\n",
       "      <td>Ingeborg</td>\n",
       "      <td>NOR</td>\n",
       "      <td>Ingeborg</td>\n",
       "      <td>researcher</td>\n",
       "    </tr>\n",
       "    <tr>\n",
       "      <th>1</th>\n",
       "      <td>Aslak</td>\n",
       "      <td>NOR</td>\n",
       "      <td>Aslak</td>\n",
       "      <td>ceo</td>\n",
       "    </tr>\n",
       "  </tbody>\n",
       "</table>\n",
       "</div>"
      ],
      "text/plain": [
       "       name nation       who    position\n",
       "0  Ingeborg    NOR  Ingeborg  researcher\n",
       "1     Aslak    NOR     Aslak         ceo"
      ]
     },
     "execution_count": 83,
     "metadata": {},
     "output_type": "execute_result"
    }
   ],
   "source": [
    "jobs = pd.DataFrame({\"who\": [\"Ingeborg\", \"Aslak\"], \"position\": [\"researcher\", \"ceo\"]})\n",
    "\n",
    "pd.merge(nationality, jobs, left_on=\"name\", right_on=\"who\")"
   ]
  },
  {
   "cell_type": "markdown",
   "id": "aaaf6600",
   "metadata": {},
   "source": [
    "However, by specifying the `how` keyword we can proceed with NaN for \"outer\" all the merged values or those in \"left\" or \"right\" frame."
   ]
  },
  {
   "cell_type": "code",
   "execution_count": 84,
   "id": "151b2a37",
   "metadata": {},
   "outputs": [
    {
     "data": {
      "text/html": [
       "<div>\n",
       "<style scoped>\n",
       "    .dataframe tbody tr th:only-of-type {\n",
       "        vertical-align: middle;\n",
       "    }\n",
       "\n",
       "    .dataframe tbody tr th {\n",
       "        vertical-align: top;\n",
       "    }\n",
       "\n",
       "    .dataframe thead th {\n",
       "        text-align: right;\n",
       "    }\n",
       "</style>\n",
       "<table border=\"1\" class=\"dataframe\">\n",
       "  <thead>\n",
       "    <tr style=\"text-align: right;\">\n",
       "      <th></th>\n",
       "      <th>name</th>\n",
       "      <th>nation</th>\n",
       "      <th>who</th>\n",
       "      <th>position</th>\n",
       "    </tr>\n",
       "  </thead>\n",
       "  <tbody>\n",
       "    <tr>\n",
       "      <th>0</th>\n",
       "      <td>Min</td>\n",
       "      <td>USA</td>\n",
       "      <td>NaN</td>\n",
       "      <td>NaN</td>\n",
       "    </tr>\n",
       "    <tr>\n",
       "      <th>1</th>\n",
       "      <td>Miro</td>\n",
       "      <td>SVK</td>\n",
       "      <td>NaN</td>\n",
       "      <td>NaN</td>\n",
       "    </tr>\n",
       "    <tr>\n",
       "      <th>2</th>\n",
       "      <td>Ingeborg</td>\n",
       "      <td>NOR</td>\n",
       "      <td>Ingeborg</td>\n",
       "      <td>researcher</td>\n",
       "    </tr>\n",
       "    <tr>\n",
       "      <th>3</th>\n",
       "      <td>Aslak</td>\n",
       "      <td>NOR</td>\n",
       "      <td>Aslak</td>\n",
       "      <td>ceo</td>\n",
       "    </tr>\n",
       "  </tbody>\n",
       "</table>\n",
       "</div>"
      ],
      "text/plain": [
       "       name nation       who    position\n",
       "0       Min    USA       NaN         NaN\n",
       "1      Miro    SVK       NaN         NaN\n",
       "2  Ingeborg    NOR  Ingeborg  researcher\n",
       "3     Aslak    NOR     Aslak         ceo"
      ]
     },
     "execution_count": 84,
     "metadata": {},
     "output_type": "execute_result"
    }
   ],
   "source": [
    "pd.merge(nationality, jobs, left_on=\"name\", right_on=\"who\", how=\"outer\")  # Inner"
   ]
  },
  {
   "cell_type": "markdown",
   "id": "45a938bc",
   "metadata": {},
   "source": [
    "Finally, `pd.merge` can yield to duplicate column indices. These are automatically made unique by `suffixes`"
   ]
  },
  {
   "cell_type": "code",
   "execution_count": 85,
   "id": "9b0e3325",
   "metadata": {},
   "outputs": [
    {
     "data": {
      "text/html": [
       "<div>\n",
       "<style scoped>\n",
       "    .dataframe tbody tr th:only-of-type {\n",
       "        vertical-align: middle;\n",
       "    }\n",
       "\n",
       "    .dataframe tbody tr th {\n",
       "        vertical-align: top;\n",
       "    }\n",
       "\n",
       "    .dataframe thead th {\n",
       "        text-align: right;\n",
       "    }\n",
       "</style>\n",
       "<table border=\"1\" class=\"dataframe\">\n",
       "  <thead>\n",
       "    <tr style=\"text-align: right;\">\n",
       "      <th></th>\n",
       "      <th>who</th>\n",
       "      <th>position_left</th>\n",
       "      <th>position_right</th>\n",
       "    </tr>\n",
       "  </thead>\n",
       "  <tbody>\n",
       "    <tr>\n",
       "      <th>0</th>\n",
       "      <td>Ingeborg</td>\n",
       "      <td>researcher</td>\n",
       "      <td>researcher</td>\n",
       "    </tr>\n",
       "    <tr>\n",
       "      <th>1</th>\n",
       "      <td>Aslak</td>\n",
       "      <td>ceo</td>\n",
       "      <td>ceo</td>\n",
       "    </tr>\n",
       "  </tbody>\n",
       "</table>\n",
       "</div>"
      ],
      "text/plain": [
       "        who position_left position_right\n",
       "0  Ingeborg    researcher     researcher\n",
       "1     Aslak           ceo            ceo"
      ]
     },
     "execution_count": 85,
     "metadata": {},
     "output_type": "execute_result"
    }
   ],
   "source": [
    "pd.merge(jobs, jobs, on=\"who\", suffixes=[\"_left\", \"_right\"])"
   ]
  },
  {
   "cell_type": "markdown",
   "id": "804e7cb9",
   "metadata": {},
   "source": [
    "## Data aggregation and transformations\n",
    "\n",
    "We have previously seen that we can extact information about `min`, `max`, `mean` etc where by default reduction happend for each fixed column. Hierchical indexing was one option to get some structure to what was being reduced. Here we introduce `groupby` which serves this purpose too. "
   ]
  },
  {
   "cell_type": "code",
   "execution_count": 86,
   "id": "e64c7606",
   "metadata": {},
   "outputs": [
    {
     "data": {
      "text/html": [
       "<div>\n",
       "<style scoped>\n",
       "    .dataframe tbody tr th:only-of-type {\n",
       "        vertical-align: middle;\n",
       "    }\n",
       "\n",
       "    .dataframe tbody tr th {\n",
       "        vertical-align: top;\n",
       "    }\n",
       "\n",
       "    .dataframe thead th {\n",
       "        text-align: right;\n",
       "    }\n",
       "</style>\n",
       "<table border=\"1\" class=\"dataframe\">\n",
       "  <thead>\n",
       "    <tr style=\"text-align: right;\">\n",
       "      <th></th>\n",
       "      <th>brand</th>\n",
       "      <th>model</th>\n",
       "      <th>type</th>\n",
       "      <th>hp</th>\n",
       "    </tr>\n",
       "  </thead>\n",
       "  <tbody>\n",
       "    <tr>\n",
       "      <th>0</th>\n",
       "      <td>tesla</td>\n",
       "      <td>S</td>\n",
       "      <td>sedan</td>\n",
       "      <td>32</td>\n",
       "    </tr>\n",
       "    <tr>\n",
       "      <th>1</th>\n",
       "      <td>tesla</td>\n",
       "      <td>3</td>\n",
       "      <td>sedan</td>\n",
       "      <td>43</td>\n",
       "    </tr>\n",
       "    <tr>\n",
       "      <th>2</th>\n",
       "      <td>tesla</td>\n",
       "      <td>X</td>\n",
       "      <td>suv</td>\n",
       "      <td>54</td>\n",
       "    </tr>\n",
       "    <tr>\n",
       "      <th>3</th>\n",
       "      <td>vw</td>\n",
       "      <td>tuareg</td>\n",
       "      <td>suv</td>\n",
       "      <td>102</td>\n",
       "    </tr>\n",
       "    <tr>\n",
       "      <th>4</th>\n",
       "      <td>vw</td>\n",
       "      <td>passat</td>\n",
       "      <td>sedan</td>\n",
       "      <td>30</td>\n",
       "    </tr>\n",
       "    <tr>\n",
       "      <th>5</th>\n",
       "      <td>mercedes</td>\n",
       "      <td>Gclass</td>\n",
       "      <td>suv</td>\n",
       "      <td>50</td>\n",
       "    </tr>\n",
       "  </tbody>\n",
       "</table>\n",
       "</div>"
      ],
      "text/plain": [
       "      brand   model   type   hp\n",
       "0     tesla       S  sedan   32\n",
       "1     tesla       3  sedan   43\n",
       "2     tesla       X    suv   54\n",
       "3        vw  tuareg    suv  102\n",
       "4        vw  passat  sedan   30\n",
       "5  mercedes  Gclass    suv   50"
      ]
     },
     "execution_count": 86,
     "metadata": {},
     "output_type": "execute_result"
    }
   ],
   "source": [
    "data = pd.DataFrame(\n",
    "    {\n",
    "        \"brand\": [\"tesla\", \"tesla\", \"tesla\", \"vw\", \"vw\", \"mercedes\"],\n",
    "        \"model\": [\"S\", \"3\", \"X\", \"tuareg\", \"passat\", \"Gclass\"],\n",
    "        \"type\": [\"sedan\", \"sedan\", \"suv\", \"suv\", \"sedan\", \"suv\"],\n",
    "        \"hp\": [32, 43, 54, 102, 30, 50],\n",
    "    }\n",
    ")\n",
    "data"
   ]
  },
  {
   "cell_type": "markdown",
   "id": "5cf4698b",
   "metadata": {},
   "source": [
    "Let us begin by \"fixing\" a table - say we want to capitalize the \"brand\" data, e.g. mercedes -> Mercedes. Half-way solution could be"
   ]
  },
  {
   "cell_type": "code",
   "execution_count": 87,
   "id": "d13153b7",
   "metadata": {},
   "outputs": [
    {
     "data": {
      "text/html": [
       "<div>\n",
       "<style scoped>\n",
       "    .dataframe tbody tr th:only-of-type {\n",
       "        vertical-align: middle;\n",
       "    }\n",
       "\n",
       "    .dataframe tbody tr th {\n",
       "        vertical-align: top;\n",
       "    }\n",
       "\n",
       "    .dataframe thead th {\n",
       "        text-align: right;\n",
       "    }\n",
       "</style>\n",
       "<table border=\"1\" class=\"dataframe\">\n",
       "  <thead>\n",
       "    <tr style=\"text-align: right;\">\n",
       "      <th></th>\n",
       "      <th>brand</th>\n",
       "      <th>model</th>\n",
       "      <th>type</th>\n",
       "      <th>hp</th>\n",
       "    </tr>\n",
       "  </thead>\n",
       "  <tbody>\n",
       "    <tr>\n",
       "      <th>0</th>\n",
       "      <td>TESLA</td>\n",
       "      <td>S</td>\n",
       "      <td>sedan</td>\n",
       "      <td>32</td>\n",
       "    </tr>\n",
       "    <tr>\n",
       "      <th>1</th>\n",
       "      <td>TESLA</td>\n",
       "      <td>3</td>\n",
       "      <td>sedan</td>\n",
       "      <td>43</td>\n",
       "    </tr>\n",
       "    <tr>\n",
       "      <th>2</th>\n",
       "      <td>TESLA</td>\n",
       "      <td>X</td>\n",
       "      <td>suv</td>\n",
       "      <td>54</td>\n",
       "    </tr>\n",
       "    <tr>\n",
       "      <th>3</th>\n",
       "      <td>VW</td>\n",
       "      <td>tuareg</td>\n",
       "      <td>suv</td>\n",
       "      <td>102</td>\n",
       "    </tr>\n",
       "    <tr>\n",
       "      <th>4</th>\n",
       "      <td>VW</td>\n",
       "      <td>passat</td>\n",
       "      <td>sedan</td>\n",
       "      <td>30</td>\n",
       "    </tr>\n",
       "    <tr>\n",
       "      <th>5</th>\n",
       "      <td>MERCEDES</td>\n",
       "      <td>Gclass</td>\n",
       "      <td>suv</td>\n",
       "      <td>50</td>\n",
       "    </tr>\n",
       "  </tbody>\n",
       "</table>\n",
       "</div>"
      ],
      "text/plain": [
       "      brand   model   type   hp\n",
       "0     TESLA       S  sedan   32\n",
       "1     TESLA       3  sedan   43\n",
       "2     TESLA       X    suv   54\n",
       "3        VW  tuareg    suv  102\n",
       "4        VW  passat  sedan   30\n",
       "5  MERCEDES  Gclass    suv   50"
      ]
     },
     "execution_count": 87,
     "metadata": {},
     "output_type": "execute_result"
    }
   ],
   "source": [
    "data[\"brand\"] = data[\"brand\"].str.upper()\n",
    "data"
   ]
  },
  {
   "cell_type": "markdown",
   "id": "793b1ef7",
   "metadata": {},
   "source": [
    "A better way is to use `transform` function to modify *one* series"
   ]
  },
  {
   "cell_type": "code",
   "execution_count": 88,
   "id": "8aede34c",
   "metadata": {},
   "outputs": [
    {
     "data": {
      "text/plain": [
       "0       Tesla\n",
       "1       Tesla\n",
       "2       Tesla\n",
       "3          Vw\n",
       "4          Vw\n",
       "5    Mercedes\n",
       "Name: brand, dtype: object"
      ]
     },
     "execution_count": 88,
     "metadata": {},
     "output_type": "execute_result"
    }
   ],
   "source": [
    "data[\"brand\"].transform(str.capitalize)"
   ]
  },
  {
   "cell_type": "markdown",
   "id": "5cc87917",
   "metadata": {},
   "source": [
    "Update the table by assignment"
   ]
  },
  {
   "cell_type": "code",
   "execution_count": 89,
   "id": "4b616c98",
   "metadata": {},
   "outputs": [
    {
     "data": {
      "text/html": [
       "<div>\n",
       "<style scoped>\n",
       "    .dataframe tbody tr th:only-of-type {\n",
       "        vertical-align: middle;\n",
       "    }\n",
       "\n",
       "    .dataframe tbody tr th {\n",
       "        vertical-align: top;\n",
       "    }\n",
       "\n",
       "    .dataframe thead th {\n",
       "        text-align: right;\n",
       "    }\n",
       "</style>\n",
       "<table border=\"1\" class=\"dataframe\">\n",
       "  <thead>\n",
       "    <tr style=\"text-align: right;\">\n",
       "      <th></th>\n",
       "      <th>brand</th>\n",
       "      <th>model</th>\n",
       "      <th>type</th>\n",
       "      <th>hp</th>\n",
       "    </tr>\n",
       "  </thead>\n",
       "  <tbody>\n",
       "    <tr>\n",
       "      <th>0</th>\n",
       "      <td>Tesla</td>\n",
       "      <td>S</td>\n",
       "      <td>sedan</td>\n",
       "      <td>32</td>\n",
       "    </tr>\n",
       "    <tr>\n",
       "      <th>1</th>\n",
       "      <td>Tesla</td>\n",
       "      <td>3</td>\n",
       "      <td>sedan</td>\n",
       "      <td>43</td>\n",
       "    </tr>\n",
       "    <tr>\n",
       "      <th>2</th>\n",
       "      <td>Tesla</td>\n",
       "      <td>X</td>\n",
       "      <td>suv</td>\n",
       "      <td>54</td>\n",
       "    </tr>\n",
       "    <tr>\n",
       "      <th>3</th>\n",
       "      <td>Vw</td>\n",
       "      <td>tuareg</td>\n",
       "      <td>suv</td>\n",
       "      <td>102</td>\n",
       "    </tr>\n",
       "    <tr>\n",
       "      <th>4</th>\n",
       "      <td>Vw</td>\n",
       "      <td>passat</td>\n",
       "      <td>sedan</td>\n",
       "      <td>30</td>\n",
       "    </tr>\n",
       "    <tr>\n",
       "      <th>5</th>\n",
       "      <td>Mercedes</td>\n",
       "      <td>Gclass</td>\n",
       "      <td>suv</td>\n",
       "      <td>50</td>\n",
       "    </tr>\n",
       "  </tbody>\n",
       "</table>\n",
       "</div>"
      ],
      "text/plain": [
       "      brand   model   type   hp\n",
       "0     Tesla       S  sedan   32\n",
       "1     Tesla       3  sedan   43\n",
       "2     Tesla       X    suv   54\n",
       "3        Vw  tuareg    suv  102\n",
       "4        Vw  passat  sedan   30\n",
       "5  Mercedes  Gclass    suv   50"
      ]
     },
     "execution_count": 89,
     "metadata": {},
     "output_type": "execute_result"
    }
   ],
   "source": [
    "data['brand'] = data[\"brand\"].transform(str.capitalize)\n",
    "data"
   ]
  },
  {
   "cell_type": "markdown",
   "id": "7f15eceb",
   "metadata": {},
   "source": [
    "`transform` mapping can be specified not only via functions but also strings (which map to numpy)"
   ]
  },
  {
   "cell_type": "code",
   "execution_count": 90,
   "id": "b0274ee5",
   "metadata": {},
   "outputs": [
    {
     "data": {
      "text/plain": [
       "0     5.656854\n",
       "1     6.557439\n",
       "2     7.348469\n",
       "3    10.099505\n",
       "4     5.477226\n",
       "5     7.071068\n",
       "Name: hp, dtype: float64"
      ]
     },
     "execution_count": 90,
     "metadata": {},
     "output_type": "execute_result"
    }
   ],
   "source": [
    "data[\"hp\"].transform('sqrt')"
   ]
  },
  {
   "cell_type": "code",
   "execution_count": 91,
   "id": "2a60f69d",
   "metadata": {},
   "outputs": [
    {
     "data": {
      "text/html": [
       "<div>\n",
       "<style scoped>\n",
       "    .dataframe tbody tr th:only-of-type {\n",
       "        vertical-align: middle;\n",
       "    }\n",
       "\n",
       "    .dataframe tbody tr th {\n",
       "        vertical-align: top;\n",
       "    }\n",
       "\n",
       "    .dataframe thead th {\n",
       "        text-align: right;\n",
       "    }\n",
       "</style>\n",
       "<table border=\"1\" class=\"dataframe\">\n",
       "  <thead>\n",
       "    <tr style=\"text-align: right;\">\n",
       "      <th></th>\n",
       "      <th>sqrt</th>\n",
       "      <th>cos</th>\n",
       "    </tr>\n",
       "  </thead>\n",
       "  <tbody>\n",
       "    <tr>\n",
       "      <th>0</th>\n",
       "      <td>5.656854</td>\n",
       "      <td>0.834223</td>\n",
       "    </tr>\n",
       "    <tr>\n",
       "      <th>1</th>\n",
       "      <td>6.557439</td>\n",
       "      <td>0.555113</td>\n",
       "    </tr>\n",
       "    <tr>\n",
       "      <th>2</th>\n",
       "      <td>7.348469</td>\n",
       "      <td>-0.829310</td>\n",
       "    </tr>\n",
       "    <tr>\n",
       "      <th>3</th>\n",
       "      <td>10.099505</td>\n",
       "      <td>0.101586</td>\n",
       "    </tr>\n",
       "    <tr>\n",
       "      <th>4</th>\n",
       "      <td>5.477226</td>\n",
       "      <td>0.154251</td>\n",
       "    </tr>\n",
       "    <tr>\n",
       "      <th>5</th>\n",
       "      <td>7.071068</td>\n",
       "      <td>0.964966</td>\n",
       "    </tr>\n",
       "  </tbody>\n",
       "</table>\n",
       "</div>"
      ],
      "text/plain": [
       "        sqrt       cos\n",
       "0   5.656854  0.834223\n",
       "1   6.557439  0.555113\n",
       "2   7.348469 -0.829310\n",
       "3  10.099505  0.101586\n",
       "4   5.477226  0.154251\n",
       "5   7.071068  0.964966"
      ]
     },
     "execution_count": 91,
     "metadata": {},
     "output_type": "execute_result"
    }
   ],
   "source": [
    "data[\"hp\"].transform(['sqrt', 'cos'])   # Get several series out"
   ]
  },
  {
   "cell_type": "markdown",
   "id": "08a402c5",
   "metadata": {},
   "source": [
    "When modifying the frame we can specify which series is specified by which function"
   ]
  },
  {
   "cell_type": "code",
   "execution_count": 92,
   "id": "703fc570",
   "metadata": {},
   "outputs": [
    {
     "data": {
      "text/html": [
       "<div>\n",
       "<style scoped>\n",
       "    .dataframe tbody tr th:only-of-type {\n",
       "        vertical-align: middle;\n",
       "    }\n",
       "\n",
       "    .dataframe tbody tr th {\n",
       "        vertical-align: top;\n",
       "    }\n",
       "\n",
       "    .dataframe thead th {\n",
       "        text-align: right;\n",
       "    }\n",
       "</style>\n",
       "<table border=\"1\" class=\"dataframe\">\n",
       "  <thead>\n",
       "    <tr style=\"text-align: right;\">\n",
       "      <th></th>\n",
       "      <th>hp</th>\n",
       "      <th>type</th>\n",
       "    </tr>\n",
       "  </thead>\n",
       "  <tbody>\n",
       "    <tr>\n",
       "      <th>0</th>\n",
       "      <td>5.656854</td>\n",
       "      <td>5</td>\n",
       "    </tr>\n",
       "    <tr>\n",
       "      <th>1</th>\n",
       "      <td>6.557439</td>\n",
       "      <td>5</td>\n",
       "    </tr>\n",
       "    <tr>\n",
       "      <th>2</th>\n",
       "      <td>7.348469</td>\n",
       "      <td>3</td>\n",
       "    </tr>\n",
       "    <tr>\n",
       "      <th>3</th>\n",
       "      <td>10.099505</td>\n",
       "      <td>3</td>\n",
       "    </tr>\n",
       "    <tr>\n",
       "      <th>4</th>\n",
       "      <td>5.477226</td>\n",
       "      <td>5</td>\n",
       "    </tr>\n",
       "    <tr>\n",
       "      <th>5</th>\n",
       "      <td>7.071068</td>\n",
       "      <td>3</td>\n",
       "    </tr>\n",
       "  </tbody>\n",
       "</table>\n",
       "</div>"
      ],
      "text/plain": [
       "          hp  type\n",
       "0   5.656854     5\n",
       "1   6.557439     5\n",
       "2   7.348469     3\n",
       "3  10.099505     3\n",
       "4   5.477226     5\n",
       "5   7.071068     3"
      ]
     },
     "execution_count": 92,
     "metadata": {},
     "output_type": "execute_result"
    }
   ],
   "source": [
    "data.transform({'hp': 'sqrt', 'type': lambda x: len(x)})"
   ]
  },
  {
   "cell_type": "markdown",
   "id": "698b1154",
   "metadata": {},
   "source": [
    "Note that simply passing `len` would not work. Therefore we pass in `lambda` and the transformation is applied element by element. In general, this way of computing will be less performant - Python's for loop vs. (numpy) vectorization"
   ]
  },
  {
   "cell_type": "markdown",
   "id": "ec618192",
   "metadata": {},
   "source": [
    "Finally, we look at `apply` of the table. Here we get access to the entire row, i.e. we can compute with multiplire series."
   ]
  },
  {
   "cell_type": "code",
   "execution_count": 93,
   "id": "641981e4",
   "metadata": {},
   "outputs": [
    {
     "data": {
      "text/html": [
       "<div>\n",
       "<style scoped>\n",
       "    .dataframe tbody tr th:only-of-type {\n",
       "        vertical-align: middle;\n",
       "    }\n",
       "\n",
       "    .dataframe tbody tr th {\n",
       "        vertical-align: top;\n",
       "    }\n",
       "\n",
       "    .dataframe thead th {\n",
       "        text-align: right;\n",
       "    }\n",
       "</style>\n",
       "<table border=\"1\" class=\"dataframe\">\n",
       "  <thead>\n",
       "    <tr style=\"text-align: right;\">\n",
       "      <th></th>\n",
       "      <th>brand</th>\n",
       "      <th>model</th>\n",
       "      <th>type</th>\n",
       "      <th>hp</th>\n",
       "      <th>w</th>\n",
       "    </tr>\n",
       "  </thead>\n",
       "  <tbody>\n",
       "    <tr>\n",
       "      <th>0</th>\n",
       "      <td>Tesla</td>\n",
       "      <td>S</td>\n",
       "      <td>sedan</td>\n",
       "      <td>32</td>\n",
       "      <td>22.4</td>\n",
       "    </tr>\n",
       "    <tr>\n",
       "      <th>1</th>\n",
       "      <td>Tesla</td>\n",
       "      <td>3</td>\n",
       "      <td>sedan</td>\n",
       "      <td>43</td>\n",
       "      <td>30.1</td>\n",
       "    </tr>\n",
       "    <tr>\n",
       "      <th>2</th>\n",
       "      <td>Tesla</td>\n",
       "      <td>X</td>\n",
       "      <td>suv</td>\n",
       "      <td>54</td>\n",
       "      <td>37.8</td>\n",
       "    </tr>\n",
       "    <tr>\n",
       "      <th>3</th>\n",
       "      <td>Vw</td>\n",
       "      <td>tuareg</td>\n",
       "      <td>suv</td>\n",
       "      <td>102</td>\n",
       "      <td>71.4</td>\n",
       "    </tr>\n",
       "    <tr>\n",
       "      <th>4</th>\n",
       "      <td>Vw</td>\n",
       "      <td>passat</td>\n",
       "      <td>sedan</td>\n",
       "      <td>30</td>\n",
       "      <td>21.0</td>\n",
       "    </tr>\n",
       "    <tr>\n",
       "      <th>5</th>\n",
       "      <td>Mercedes</td>\n",
       "      <td>Gclass</td>\n",
       "      <td>suv</td>\n",
       "      <td>50</td>\n",
       "      <td>35.0</td>\n",
       "    </tr>\n",
       "  </tbody>\n",
       "</table>\n",
       "</div>"
      ],
      "text/plain": [
       "      brand   model   type   hp     w\n",
       "0     Tesla       S  sedan   32  22.4\n",
       "1     Tesla       3  sedan   43  30.1\n",
       "2     Tesla       X    suv   54  37.8\n",
       "3        Vw  tuareg    suv  102  71.4\n",
       "4        Vw  passat  sedan   30  21.0\n",
       "5  Mercedes  Gclass    suv   50  35.0"
      ]
     },
     "execution_count": 93,
     "metadata": {},
     "output_type": "execute_result"
    }
   ],
   "source": [
    "def foo(x):\n",
    "    x[\"w\"] = x[\"hp\"] * 0.7\n",
    "    return x\n",
    "\n",
    "\n",
    "data.apply(foo, axis=\"columns\")  # NOTE: the new column index!"
   ]
  },
  {
   "cell_type": "markdown",
   "id": "df1181c4",
   "metadata": {},
   "source": [
    "Now that we are happy with the table we now want to gather information based on `brand`. If we split by `brand` we can think of 3 (as many as unique `brand` values) subtables. Within these subtables we perform further operations/reductions - they values with be combined in the final result. "
   ]
  },
  {
   "cell_type": "code",
   "execution_count": 94,
   "id": "3c89c46f",
   "metadata": {},
   "outputs": [
    {
     "data": {
      "text/plain": [
       "<pandas.core.groupby.generic.DataFrameGroupBy object at 0x7f8a4aa25f10>"
      ]
     },
     "execution_count": 94,
     "metadata": {},
     "output_type": "execute_result"
    }
   ],
   "source": [
    "g = data.groupby(\"brand\", group_keys=True)\n",
    "g"
   ]
  },
  {
   "cell_type": "markdown",
   "id": "ded12f61",
   "metadata": {},
   "source": [
    "Note that we do not get a frame back but instead there is a `DataFrameGroupBy` object. This way we do not compute rightaway which could be expensive. We can verify that it it's behavior is similar to the frame we wanted"
   ]
  },
  {
   "cell_type": "code",
   "execution_count": 95,
   "id": "1641559a",
   "metadata": {},
   "outputs": [
    {
     "data": {
      "text/plain": [
       "{'Mercedes': array([5]), 'Tesla': array([0, 1, 2]), 'Vw': array([3, 4])}"
      ]
     },
     "execution_count": 95,
     "metadata": {},
     "output_type": "execute_result"
    }
   ],
   "source": [
    "g.indices"
   ]
  },
  {
   "cell_type": "markdown",
   "id": "97f1b3e1",
   "metadata": {},
   "source": [
    "The object supports many methods of the `DataFrame` so we can continue \"defining\" our processing pipiline. For example we can get the column"
   ]
  },
  {
   "cell_type": "code",
   "execution_count": 96,
   "id": "8dabc66e",
   "metadata": {},
   "outputs": [
    {
     "data": {
      "text/plain": [
       "<pandas.core.groupby.generic.SeriesGroupBy object at 0x7f8a4b4dae50>"
      ]
     },
     "execution_count": 96,
     "metadata": {},
     "output_type": "execute_result"
    }
   ],
   "source": [
    "g[\"hp\"]"
   ]
  },
  {
   "cell_type": "markdown",
   "id": "12182183",
   "metadata": {},
   "source": [
    "And finally force the computation"
   ]
  },
  {
   "cell_type": "code",
   "execution_count": 97,
   "id": "083a3f08",
   "metadata": {},
   "outputs": [
    {
     "data": {
      "text/plain": [
       "brand\n",
       "Mercedes     50\n",
       "Tesla        54\n",
       "Vw          102\n",
       "Name: hp, dtype: int64"
      ]
     },
     "execution_count": 97,
     "metadata": {},
     "output_type": "execute_result"
    }
   ],
   "source": [
    "g[\"hp\"].max()"
   ]
  },
  {
   "cell_type": "markdown",
   "id": "cdcb3584",
   "metadata": {},
   "source": [
    "More complete description by `describe`"
   ]
  },
  {
   "cell_type": "code",
   "execution_count": 98,
   "id": "b486d825",
   "metadata": {},
   "outputs": [
    {
     "data": {
      "text/html": [
       "<div>\n",
       "<style scoped>\n",
       "    .dataframe tbody tr th:only-of-type {\n",
       "        vertical-align: middle;\n",
       "    }\n",
       "\n",
       "    .dataframe tbody tr th {\n",
       "        vertical-align: top;\n",
       "    }\n",
       "\n",
       "    .dataframe thead th {\n",
       "        text-align: right;\n",
       "    }\n",
       "</style>\n",
       "<table border=\"1\" class=\"dataframe\">\n",
       "  <thead>\n",
       "    <tr style=\"text-align: right;\">\n",
       "      <th></th>\n",
       "      <th>count</th>\n",
       "      <th>mean</th>\n",
       "      <th>std</th>\n",
       "      <th>min</th>\n",
       "      <th>25%</th>\n",
       "      <th>50%</th>\n",
       "      <th>75%</th>\n",
       "      <th>max</th>\n",
       "    </tr>\n",
       "    <tr>\n",
       "      <th>brand</th>\n",
       "      <th></th>\n",
       "      <th></th>\n",
       "      <th></th>\n",
       "      <th></th>\n",
       "      <th></th>\n",
       "      <th></th>\n",
       "      <th></th>\n",
       "      <th></th>\n",
       "    </tr>\n",
       "  </thead>\n",
       "  <tbody>\n",
       "    <tr>\n",
       "      <th>Mercedes</th>\n",
       "      <td>1.0</td>\n",
       "      <td>50.0</td>\n",
       "      <td>NaN</td>\n",
       "      <td>50.0</td>\n",
       "      <td>50.0</td>\n",
       "      <td>50.0</td>\n",
       "      <td>50.0</td>\n",
       "      <td>50.0</td>\n",
       "    </tr>\n",
       "    <tr>\n",
       "      <th>Tesla</th>\n",
       "      <td>3.0</td>\n",
       "      <td>43.0</td>\n",
       "      <td>11.000000</td>\n",
       "      <td>32.0</td>\n",
       "      <td>37.5</td>\n",
       "      <td>43.0</td>\n",
       "      <td>48.5</td>\n",
       "      <td>54.0</td>\n",
       "    </tr>\n",
       "    <tr>\n",
       "      <th>Vw</th>\n",
       "      <td>2.0</td>\n",
       "      <td>66.0</td>\n",
       "      <td>50.911688</td>\n",
       "      <td>30.0</td>\n",
       "      <td>48.0</td>\n",
       "      <td>66.0</td>\n",
       "      <td>84.0</td>\n",
       "      <td>102.0</td>\n",
       "    </tr>\n",
       "  </tbody>\n",
       "</table>\n",
       "</div>"
      ],
      "text/plain": [
       "          count  mean        std   min   25%   50%   75%    max\n",
       "brand                                                          \n",
       "Mercedes    1.0  50.0        NaN  50.0  50.0  50.0  50.0   50.0\n",
       "Tesla       3.0  43.0  11.000000  32.0  37.5  43.0  48.5   54.0\n",
       "Vw          2.0  66.0  50.911688  30.0  48.0  66.0  84.0  102.0"
      ]
     },
     "execution_count": 98,
     "metadata": {},
     "output_type": "execute_result"
    }
   ],
   "source": [
    "g[\"hp\"].describe()"
   ]
  },
  {
   "cell_type": "markdown",
   "id": "ad66f8e5",
   "metadata": {},
   "source": [
    "We can also use several aggregators at once by `aggregate`"
   ]
  },
  {
   "cell_type": "code",
   "execution_count": 99,
   "id": "72ff4f8b",
   "metadata": {},
   "outputs": [
    {
     "data": {
      "text/html": [
       "<div>\n",
       "<style scoped>\n",
       "    .dataframe tbody tr th:only-of-type {\n",
       "        vertical-align: middle;\n",
       "    }\n",
       "\n",
       "    .dataframe tbody tr th {\n",
       "        vertical-align: top;\n",
       "    }\n",
       "\n",
       "    .dataframe thead th {\n",
       "        text-align: right;\n",
       "    }\n",
       "</style>\n",
       "<table border=\"1\" class=\"dataframe\">\n",
       "  <thead>\n",
       "    <tr style=\"text-align: right;\">\n",
       "      <th></th>\n",
       "      <th>min</th>\n",
       "      <th>max</th>\n",
       "    </tr>\n",
       "    <tr>\n",
       "      <th>brand</th>\n",
       "      <th></th>\n",
       "      <th></th>\n",
       "    </tr>\n",
       "  </thead>\n",
       "  <tbody>\n",
       "    <tr>\n",
       "      <th>Mercedes</th>\n",
       "      <td>50</td>\n",
       "      <td>50</td>\n",
       "    </tr>\n",
       "    <tr>\n",
       "      <th>Tesla</th>\n",
       "      <td>32</td>\n",
       "      <td>54</td>\n",
       "    </tr>\n",
       "    <tr>\n",
       "      <th>Vw</th>\n",
       "      <td>30</td>\n",
       "      <td>102</td>\n",
       "    </tr>\n",
       "  </tbody>\n",
       "</table>\n",
       "</div>"
      ],
      "text/plain": [
       "          min  max\n",
       "brand             \n",
       "Mercedes   50   50\n",
       "Tesla      32   54\n",
       "Vw         30  102"
      ]
     },
     "execution_count": 99,
     "metadata": {},
     "output_type": "execute_result"
    }
   ],
   "source": [
    "g[\"hp\"].aggregate([\"min\", \"max\"])"
   ]
  },
  {
   "cell_type": "markdown",
   "id": "ee5b1afe",
   "metadata": {},
   "source": [
    "### Pivoting\n",
    "Another way of getting overview of the data is by `pivoting` (somewhat like groupby in multiple \"keys\")."
   ]
  },
  {
   "cell_type": "code",
   "execution_count": 100,
   "id": "0e0bc09e",
   "metadata": {},
   "outputs": [
    {
     "data": {
      "text/html": [
       "<div>\n",
       "<style scoped>\n",
       "    .dataframe tbody tr th:only-of-type {\n",
       "        vertical-align: middle;\n",
       "    }\n",
       "\n",
       "    .dataframe tbody tr th {\n",
       "        vertical-align: top;\n",
       "    }\n",
       "\n",
       "    .dataframe thead th {\n",
       "        text-align: right;\n",
       "    }\n",
       "</style>\n",
       "<table border=\"1\" class=\"dataframe\">\n",
       "  <thead>\n",
       "    <tr style=\"text-align: right;\">\n",
       "      <th></th>\n",
       "      <th>hp</th>\n",
       "    </tr>\n",
       "    <tr>\n",
       "      <th>brand</th>\n",
       "      <th></th>\n",
       "    </tr>\n",
       "  </thead>\n",
       "  <tbody>\n",
       "    <tr>\n",
       "      <th>Mercedes</th>\n",
       "      <td>50</td>\n",
       "    </tr>\n",
       "    <tr>\n",
       "      <th>Tesla</th>\n",
       "      <td>129</td>\n",
       "    </tr>\n",
       "    <tr>\n",
       "      <th>Vw</th>\n",
       "      <td>132</td>\n",
       "    </tr>\n",
       "  </tbody>\n",
       "</table>\n",
       "</div>"
      ],
      "text/plain": [
       "           hp\n",
       "brand        \n",
       "Mercedes   50\n",
       "Tesla     129\n",
       "Vw        132"
      ]
     },
     "execution_count": 100,
     "metadata": {},
     "output_type": "execute_result"
    }
   ],
   "source": [
    "# View \"hp\" just as a function of brand where the remaining dimensions are aggregated\n",
    "data.pivot_table(\"hp\", index=\"brand\", aggfunc=\"sum\")"
   ]
  },
  {
   "cell_type": "code",
   "execution_count": 101,
   "id": "f9d7d3cc",
   "metadata": {},
   "outputs": [
    {
     "data": {
      "text/html": [
       "<div>\n",
       "<style scoped>\n",
       "    .dataframe tbody tr th:only-of-type {\n",
       "        vertical-align: middle;\n",
       "    }\n",
       "\n",
       "    .dataframe tbody tr th {\n",
       "        vertical-align: top;\n",
       "    }\n",
       "\n",
       "    .dataframe thead th {\n",
       "        text-align: right;\n",
       "    }\n",
       "</style>\n",
       "<table border=\"1\" class=\"dataframe\">\n",
       "  <thead>\n",
       "    <tr style=\"text-align: right;\">\n",
       "      <th>type</th>\n",
       "      <th>sedan</th>\n",
       "      <th>suv</th>\n",
       "    </tr>\n",
       "    <tr>\n",
       "      <th>brand</th>\n",
       "      <th></th>\n",
       "      <th></th>\n",
       "    </tr>\n",
       "  </thead>\n",
       "  <tbody>\n",
       "    <tr>\n",
       "      <th>Mercedes</th>\n",
       "      <td>NaN</td>\n",
       "      <td>50.0</td>\n",
       "    </tr>\n",
       "    <tr>\n",
       "      <th>Tesla</th>\n",
       "      <td>75.0</td>\n",
       "      <td>54.0</td>\n",
       "    </tr>\n",
       "    <tr>\n",
       "      <th>Vw</th>\n",
       "      <td>30.0</td>\n",
       "      <td>102.0</td>\n",
       "    </tr>\n",
       "  </tbody>\n",
       "</table>\n",
       "</div>"
      ],
      "text/plain": [
       "type      sedan    suv\n",
       "brand                 \n",
       "Mercedes    NaN   50.0\n",
       "Tesla      75.0   54.0\n",
       "Vw         30.0  102.0"
      ]
     },
     "execution_count": 101,
     "metadata": {},
     "output_type": "execute_result"
    }
   ],
   "source": [
    "# View \"hp\" just as a function of brand and type (leaving agg on models). WE have 2 types SUV and SEDAN\n",
    "data.pivot_table(\"hp\", index=\"brand\", columns=[\"type\"], aggfunc=\"sum\")"
   ]
  },
  {
   "cell_type": "code",
   "execution_count": 102,
   "id": "c508afd2",
   "metadata": {},
   "outputs": [
    {
     "data": {
      "text/html": [
       "<div>\n",
       "<style scoped>\n",
       "    .dataframe tbody tr th:only-of-type {\n",
       "        vertical-align: middle;\n",
       "    }\n",
       "\n",
       "    .dataframe tbody tr th {\n",
       "        vertical-align: top;\n",
       "    }\n",
       "\n",
       "    .dataframe thead th {\n",
       "        text-align: right;\n",
       "    }\n",
       "</style>\n",
       "<table border=\"1\" class=\"dataframe\">\n",
       "  <thead>\n",
       "    <tr style=\"text-align: right;\">\n",
       "      <th>model</th>\n",
       "      <th>3</th>\n",
       "      <th>Gclass</th>\n",
       "      <th>S</th>\n",
       "      <th>X</th>\n",
       "      <th>passat</th>\n",
       "      <th>tuareg</th>\n",
       "    </tr>\n",
       "    <tr>\n",
       "      <th>brand</th>\n",
       "      <th></th>\n",
       "      <th></th>\n",
       "      <th></th>\n",
       "      <th></th>\n",
       "      <th></th>\n",
       "      <th></th>\n",
       "    </tr>\n",
       "  </thead>\n",
       "  <tbody>\n",
       "    <tr>\n",
       "      <th>Mercedes</th>\n",
       "      <td>NaN</td>\n",
       "      <td>50.0</td>\n",
       "      <td>NaN</td>\n",
       "      <td>NaN</td>\n",
       "      <td>NaN</td>\n",
       "      <td>NaN</td>\n",
       "    </tr>\n",
       "    <tr>\n",
       "      <th>Tesla</th>\n",
       "      <td>43.0</td>\n",
       "      <td>NaN</td>\n",
       "      <td>32.0</td>\n",
       "      <td>54.0</td>\n",
       "      <td>NaN</td>\n",
       "      <td>NaN</td>\n",
       "    </tr>\n",
       "    <tr>\n",
       "      <th>Vw</th>\n",
       "      <td>NaN</td>\n",
       "      <td>NaN</td>\n",
       "      <td>NaN</td>\n",
       "      <td>NaN</td>\n",
       "      <td>30.0</td>\n",
       "      <td>102.0</td>\n",
       "    </tr>\n",
       "  </tbody>\n",
       "</table>\n",
       "</div>"
      ],
      "text/plain": [
       "model        3  Gclass     S     X  passat  tuareg\n",
       "brand                                             \n",
       "Mercedes   NaN    50.0   NaN   NaN     NaN     NaN\n",
       "Tesla     43.0     NaN  32.0  54.0     NaN     NaN\n",
       "Vw         NaN     NaN   NaN   NaN    30.0   102.0"
      ]
     },
     "execution_count": 102,
     "metadata": {},
     "output_type": "execute_result"
    }
   ],
   "source": [
    "# Filling in missing data\n",
    "data.pivot_table(\"hp\", index=\"brand\", columns=[\"model\"], aggfunc=\"sum\")"
   ]
  },
  {
   "cell_type": "markdown",
   "id": "a2f6c821",
   "metadata": {},
   "source": [
    "## Hands on examples\n",
    "\n",
    "Let's explore some datasets\n",
    "\n",
    "__1. Used cars__\n",
    "\n",
    "This dataset is downloaded from [Kaggle](https://www.kaggle.com/datasets/tsaustin/us-used-car-sales-data?resource=download) and statistics on saled cars (ebay?). More precisely, having read the data by built-in \n",
    "reader `read_csv` we have"
   ]
  },
  {
   "cell_type": "code",
   "execution_count": 103,
   "id": "d2cf9920",
   "metadata": {},
   "outputs": [
    {
     "data": {
      "text/plain": [
       "Index(['ID', 'pricesold', 'yearsold', 'zipcode', 'Mileage', 'Make', 'Model',\n",
       "       'Year', 'Trim', 'Engine', 'BodyType', 'NumCylinders', 'DriveType'],\n",
       "      dtype='object')"
      ]
     },
     "execution_count": 103,
     "metadata": {},
     "output_type": "execute_result"
    }
   ],
   "source": [
    "from pathlib import Path\n",
    "\n",
    "import requests\n",
    "\n",
    "\n",
    "def download_file(filename, url):\n",
    "    path = Path(filename)\n",
    "    if path.exists():\n",
    "        return path\n",
    "    print(f\"Downloading {path}\")\n",
    "    with requests.get(url, stream=True) as r:\n",
    "        r.raise_for_status()\n",
    "        with path.open(\"wb\") as f:\n",
    "            for chunk in r.iter_content(chunk_size=8192):\n",
    "                f.write(chunk)\n",
    "    return path\n",
    "\n",
    "\n",
    "url = \"https://www.kaggle.com/datasets/tsaustin/us-used-car-sales-data/download?datasetVersionNumber=4\"\n",
    "filename = Path(\"data\") / \"used_car_sales.csv\"\n",
    "# download_file(filename, url)\n",
    "\n",
    "data = pd.read_csv(\n",
    "    \"./data/used_car_sales.csv\", dtype={\"Mileage\": int, \"pricesold\": int}\n",
    ")\n",
    "data.columns"
   ]
  },
  {
   "cell_type": "code",
   "execution_count": 104,
   "id": "9618f3f3",
   "metadata": {
    "scrolled": true
   },
   "outputs": [
    {
     "data": {
      "text/html": [
       "<div>\n",
       "<style scoped>\n",
       "    .dataframe tbody tr th:only-of-type {\n",
       "        vertical-align: middle;\n",
       "    }\n",
       "\n",
       "    .dataframe tbody tr th {\n",
       "        vertical-align: top;\n",
       "    }\n",
       "\n",
       "    .dataframe thead th {\n",
       "        text-align: right;\n",
       "    }\n",
       "</style>\n",
       "<table border=\"1\" class=\"dataframe\">\n",
       "  <thead>\n",
       "    <tr style=\"text-align: right;\">\n",
       "      <th></th>\n",
       "      <th>ID</th>\n",
       "      <th>pricesold</th>\n",
       "      <th>yearsold</th>\n",
       "      <th>zipcode</th>\n",
       "      <th>Mileage</th>\n",
       "      <th>Make</th>\n",
       "      <th>Model</th>\n",
       "      <th>Year</th>\n",
       "      <th>Trim</th>\n",
       "      <th>Engine</th>\n",
       "      <th>BodyType</th>\n",
       "      <th>NumCylinders</th>\n",
       "      <th>DriveType</th>\n",
       "    </tr>\n",
       "  </thead>\n",
       "  <tbody>\n",
       "    <tr>\n",
       "      <th>0</th>\n",
       "      <td>137178</td>\n",
       "      <td>7500</td>\n",
       "      <td>2020</td>\n",
       "      <td>786**</td>\n",
       "      <td>84430</td>\n",
       "      <td>Ford</td>\n",
       "      <td>Mustang</td>\n",
       "      <td>1988</td>\n",
       "      <td>LX</td>\n",
       "      <td>5.0L Gas V8</td>\n",
       "      <td>Sedan</td>\n",
       "      <td>0</td>\n",
       "      <td>RWD</td>\n",
       "    </tr>\n",
       "    <tr>\n",
       "      <th>1</th>\n",
       "      <td>96705</td>\n",
       "      <td>15000</td>\n",
       "      <td>2019</td>\n",
       "      <td>81006</td>\n",
       "      <td>0</td>\n",
       "      <td>Replica/Kit Makes</td>\n",
       "      <td>Jaguar Beck Lister</td>\n",
       "      <td>1958</td>\n",
       "      <td>NaN</td>\n",
       "      <td>383 Fuel injected</td>\n",
       "      <td>Convertible</td>\n",
       "      <td>8</td>\n",
       "      <td>RWD</td>\n",
       "    </tr>\n",
       "    <tr>\n",
       "      <th>2</th>\n",
       "      <td>119660</td>\n",
       "      <td>8750</td>\n",
       "      <td>2020</td>\n",
       "      <td>33449</td>\n",
       "      <td>55000</td>\n",
       "      <td>Jaguar</td>\n",
       "      <td>XJS</td>\n",
       "      <td>1995</td>\n",
       "      <td>2+2 Cabriolet</td>\n",
       "      <td>4.0L In-Line 6 Cylinder</td>\n",
       "      <td>Convertible</td>\n",
       "      <td>6</td>\n",
       "      <td>RWD</td>\n",
       "    </tr>\n",
       "    <tr>\n",
       "      <th>3</th>\n",
       "      <td>80773</td>\n",
       "      <td>11600</td>\n",
       "      <td>2019</td>\n",
       "      <td>07852</td>\n",
       "      <td>97200</td>\n",
       "      <td>Ford</td>\n",
       "      <td>Mustang</td>\n",
       "      <td>1968</td>\n",
       "      <td>Stock</td>\n",
       "      <td>289 cu. in. V8</td>\n",
       "      <td>Coupe</td>\n",
       "      <td>8</td>\n",
       "      <td>RWD</td>\n",
       "    </tr>\n",
       "    <tr>\n",
       "      <th>4</th>\n",
       "      <td>64287</td>\n",
       "      <td>44000</td>\n",
       "      <td>2019</td>\n",
       "      <td>07728</td>\n",
       "      <td>40703</td>\n",
       "      <td>Porsche</td>\n",
       "      <td>911</td>\n",
       "      <td>2002</td>\n",
       "      <td>Turbo X-50</td>\n",
       "      <td>3.6L</td>\n",
       "      <td>Coupe</td>\n",
       "      <td>6</td>\n",
       "      <td>AWD</td>\n",
       "    </tr>\n",
       "    <tr>\n",
       "      <th>5</th>\n",
       "      <td>132695</td>\n",
       "      <td>950</td>\n",
       "      <td>2020</td>\n",
       "      <td>462**</td>\n",
       "      <td>71300</td>\n",
       "      <td>Mercury</td>\n",
       "      <td>Montclair</td>\n",
       "      <td>1965</td>\n",
       "      <td>NaN</td>\n",
       "      <td>NO ENGINE</td>\n",
       "      <td>Sedan</td>\n",
       "      <td>0</td>\n",
       "      <td>RWD</td>\n",
       "    </tr>\n",
       "    <tr>\n",
       "      <th>6</th>\n",
       "      <td>132829</td>\n",
       "      <td>950</td>\n",
       "      <td>2020</td>\n",
       "      <td>105**</td>\n",
       "      <td>71300</td>\n",
       "      <td>Mercury</td>\n",
       "      <td>Montclair</td>\n",
       "      <td>1965</td>\n",
       "      <td>NaN</td>\n",
       "      <td>NaN</td>\n",
       "      <td>Sedan</td>\n",
       "      <td>0</td>\n",
       "      <td>NaN</td>\n",
       "    </tr>\n",
       "    <tr>\n",
       "      <th>7</th>\n",
       "      <td>5250</td>\n",
       "      <td>70000</td>\n",
       "      <td>2019</td>\n",
       "      <td>07627</td>\n",
       "      <td>6500</td>\n",
       "      <td>Land Rover</td>\n",
       "      <td>Defender</td>\n",
       "      <td>1997</td>\n",
       "      <td>NaN</td>\n",
       "      <td>4.0 Liter Fuel Injected V8</td>\n",
       "      <td>NaN</td>\n",
       "      <td>0</td>\n",
       "      <td>4WD</td>\n",
       "    </tr>\n",
       "    <tr>\n",
       "      <th>8</th>\n",
       "      <td>29023</td>\n",
       "      <td>1330</td>\n",
       "      <td>2019</td>\n",
       "      <td>07043</td>\n",
       "      <td>167000</td>\n",
       "      <td>Honda</td>\n",
       "      <td>Civic</td>\n",
       "      <td>2001</td>\n",
       "      <td>EX</td>\n",
       "      <td>NaN</td>\n",
       "      <td>Coupe</td>\n",
       "      <td>4</td>\n",
       "      <td>FWD</td>\n",
       "    </tr>\n",
       "    <tr>\n",
       "      <th>9</th>\n",
       "      <td>80293</td>\n",
       "      <td>25200</td>\n",
       "      <td>2019</td>\n",
       "      <td>33759</td>\n",
       "      <td>15000</td>\n",
       "      <td>Pontiac</td>\n",
       "      <td>GTO</td>\n",
       "      <td>1970</td>\n",
       "      <td>NaN</td>\n",
       "      <td>NaN</td>\n",
       "      <td>NaN</td>\n",
       "      <td>0</td>\n",
       "      <td>NaN</td>\n",
       "    </tr>\n",
       "  </tbody>\n",
       "</table>\n",
       "</div>"
      ],
      "text/plain": [
       "       ID  pricesold  yearsold zipcode  Mileage               Make  \\\n",
       "0  137178       7500      2020   786**    84430               Ford   \n",
       "1   96705      15000      2019   81006        0  Replica/Kit Makes   \n",
       "2  119660       8750      2020   33449    55000             Jaguar   \n",
       "3   80773      11600      2019   07852    97200               Ford   \n",
       "4   64287      44000      2019   07728    40703            Porsche   \n",
       "5  132695        950      2020   462**    71300            Mercury   \n",
       "6  132829        950      2020   105**    71300            Mercury   \n",
       "7    5250      70000      2019   07627     6500         Land Rover   \n",
       "8   29023       1330      2019   07043   167000              Honda   \n",
       "9   80293      25200      2019   33759    15000            Pontiac   \n",
       "\n",
       "                Model  Year           Trim                      Engine  \\\n",
       "0             Mustang  1988             LX                 5.0L Gas V8   \n",
       "1  Jaguar Beck Lister  1958            NaN           383 Fuel injected   \n",
       "2                 XJS  1995  2+2 Cabriolet     4.0L In-Line 6 Cylinder   \n",
       "3             Mustang  1968          Stock              289 cu. in. V8   \n",
       "4                 911  2002     Turbo X-50                        3.6L   \n",
       "5           Montclair  1965            NaN                   NO ENGINE   \n",
       "6           Montclair  1965            NaN                         NaN   \n",
       "7            Defender  1997            NaN  4.0 Liter Fuel Injected V8   \n",
       "8               Civic  2001             EX                         NaN   \n",
       "9                 GTO  1970            NaN                         NaN   \n",
       "\n",
       "      BodyType  NumCylinders DriveType  \n",
       "0        Sedan             0       RWD  \n",
       "1  Convertible             8       RWD  \n",
       "2  Convertible             6       RWD  \n",
       "3        Coupe             8       RWD  \n",
       "4        Coupe             6       AWD  \n",
       "5        Sedan             0       RWD  \n",
       "6        Sedan             0       NaN  \n",
       "7          NaN             0       4WD  \n",
       "8        Coupe             4       FWD  \n",
       "9          NaN             0       NaN  "
      ]
     },
     "execution_count": 104,
     "metadata": {},
     "output_type": "execute_result"
    }
   ],
   "source": [
    "data.head(10)"
   ]
  },
  {
   "cell_type": "markdown",
   "id": "7690bda3",
   "metadata": {},
   "source": [
    "As part of exploring the dataset let's see about the distributiion of the mileage of the cars. We use `cut` to comnpute a \"bin\" for each item"
   ]
  },
  {
   "cell_type": "code",
   "execution_count": 105,
   "id": "2161d2fe",
   "metadata": {},
   "outputs": [
    {
     "data": {
      "text/plain": [
       "0                (0.0, 111111.111]\n",
       "1                              NaN\n",
       "2                (0.0, 111111.111]\n",
       "3                (0.0, 111111.111]\n",
       "4                (0.0, 111111.111]\n",
       "                    ...           \n",
       "122139           (0.0, 111111.111]\n",
       "122140    (111111.111, 222222.222]\n",
       "122141           (0.0, 111111.111]\n",
       "122142    (111111.111, 222222.222]\n",
       "122143    (111111.111, 222222.222]\n",
       "Name: Mileage, Length: 122144, dtype: category\n",
       "Categories (9, interval[float64, right]): [(0.0, 111111.111] < (111111.111, 222222.222] < (222222.222, 333333.333] < (333333.333, 444444.444] ... (555555.556, 666666.667] < (666666.667, 777777.778] < (777777.778, 888888.889] < (888888.889, 1000000.0]]"
      ]
     },
     "execution_count": 105,
     "metadata": {},
     "output_type": "execute_result"
    }
   ],
   "source": [
    "max_distance = data['Mileage'].max()\n",
    "# max_distance\n",
    "mileage_dist = pd.cut(data['Mileage'], bins=np.linspace(0, 1_000_000, 10, endpoint=True))\n",
    "mileage_dist"
   ]
  },
  {
   "cell_type": "code",
   "execution_count": 106,
   "id": "f0a9cc55",
   "metadata": {},
   "outputs": [
    {
     "data": {
      "text/plain": [
       "Mileage\n",
       "(0.0, 111111.111]           73813\n",
       "(111111.111, 222222.222]    37788\n",
       "(222222.222, 333333.333]     4885\n",
       "(888888.889, 1000000.0]      1112\n",
       "(333333.333, 444444.444]      404\n",
       "(444444.444, 555555.556]       73\n",
       "(555555.556, 666666.667]       58\n",
       "(666666.667, 777777.778]       52\n",
       "(777777.778, 888888.889]       41\n",
       "Name: count, dtype: int64"
      ]
     },
     "execution_count": 106,
     "metadata": {},
     "output_type": "execute_result"
    }
   ],
   "source": [
    "# Let's see about the distribution\n",
    "mileage_dist.value_counts()"
   ]
  },
  {
   "cell_type": "markdown",
   "id": "214a6c6b",
   "metadata": {},
   "source": [
    "We can find out which manufacturer sold the most cars, by grouping and then collapsing based on size"
   ]
  },
  {
   "cell_type": "code",
   "execution_count": 107,
   "id": "e1b7949e",
   "metadata": {},
   "outputs": [
    {
     "data": {
      "text/plain": [
       "Make\n",
       "1964 International    1\n",
       "2101                  1\n",
       "300                   1\n",
       "AC                    1\n",
       "AC Cobra              1\n",
       "                     ..\n",
       "ponitac               1\n",
       "rambler               1\n",
       "renault               1\n",
       "smart                 1\n",
       "willy's jeep          1\n",
       "Length: 464, dtype: int64"
      ]
     },
     "execution_count": 107,
     "metadata": {},
     "output_type": "execute_result"
    }
   ],
   "source": [
    "data.groupby(\"Make\").size()"
   ]
  },
  {
   "cell_type": "code",
   "execution_count": 108,
   "id": "0420929f",
   "metadata": {},
   "outputs": [
    {
     "data": {
      "text/plain": [
       "Make\n",
       "Ford             22027\n",
       "Chevrolet        21171\n",
       "Toyota            6676\n",
       "Mercedes-Benz     6241\n",
       "Dodge             5899\n",
       "BMW               5128\n",
       "Jeep              4543\n",
       "Cadillac          3657\n",
       "Volkswagen        3589\n",
       "Honda             3451\n",
       "dtype: int64"
      ]
     },
     "execution_count": 108,
     "metadata": {},
     "output_type": "execute_result"
    }
   ],
   "source": [
    "# A sanity check\n",
    "data.groupby(\"Make\").size().sum() == len(data)\n",
    "# Unpack this\n",
    "data.groupby(\"Make\").size().sort_values(ascending=False).head(10)"
   ]
  },
  {
   "cell_type": "code",
   "execution_count": 109,
   "id": "68628dac",
   "metadata": {},
   "outputs": [
    {
     "data": {
      "text/plain": [
       "Make\n",
       "Ford             22027\n",
       "Chevrolet        21171\n",
       "Toyota            6676\n",
       "Mercedes-Benz     6241\n",
       "Dodge             5899\n",
       "BMW               5128\n",
       "Jeep              4543\n",
       "Cadillac          3657\n",
       "Volkswagen        3589\n",
       "Honda             3451\n",
       "Name: count, dtype: int64"
      ]
     },
     "execution_count": 109,
     "metadata": {},
     "output_type": "execute_result"
    }
   ],
   "source": [
    "data[\"Make\"].value_counts().sort_values(ascending=False).head(10)"
   ]
  },
  {
   "cell_type": "markdown",
   "id": "bf11df85",
   "metadata": {},
   "source": [
    "We might wonder how the price is related to the car attributes. Let's consider it first as a function of milage\n",
    "\n",
    "__Question__: Are these correlated?"
   ]
  },
  {
   "cell_type": "code",
   "execution_count": 110,
   "id": "f4d7e774",
   "metadata": {},
   "outputs": [
    {
     "data": {
      "image/png": "[encoded data removed]",
      "text/plain": [
       "<Figure size 640x480 with 1 Axes>"
      ]
     },
     "metadata": {},
     "output_type": "display_data"
    }
   ],
   "source": [
    "fix, ax = plt.subplots()\n",
    "# We take the mean in others\n",
    "data.pivot_table(\"pricesold\", index=\"Mileage\", aggfunc=\"mean\").plot(\n",
    "    ax=ax, marker=\"x\", linestyle=\"none\"\n",
    ")\n",
    "ax.set_xscale(\"log\")\n",
    "ax.set_yscale(\"log\")"
   ]
  },
  {
   "cell_type": "markdown",
   "id": "367a5eac",
   "metadata": {},
   "source": [
    "Does it vary with year?"
   ]
  },
  {
   "cell_type": "code",
   "execution_count": 111,
   "id": "80be3421",
   "metadata": {},
   "outputs": [
    {
     "data": {
      "image/png": "[encoded data removed]",
      "text/plain": [
       "<Figure size 1600x1000 with 3 Axes>"
      ]
     },
     "metadata": {},
     "output_type": "display_data"
    }
   ],
   "source": [
    "fix, ax = plt.subplots(1, 3, sharey=True, figsize=(16, 10))\n",
    "# We take the mean in others\n",
    "tab = data.pivot_table(\"pricesold\", index=\"Mileage\", columns=[\"yearsold\"], aggfunc=\"mean\")\n",
    "for i, year in enumerate((2018, 2019, 2020)):\n",
    "    tab[year].plot(ax=ax[i], marker=\"x\", linestyle=\"none\")\n",
    "    ax[i].set_xscale(\"log\")\n",
    "    ax[i].set_yscale(\"log\")"
   ]
  },
  {
   "cell_type": "markdown",
   "id": "d208bb2f",
   "metadata": {},
   "source": [
    "At this point we would like to see about the role of the cars age. However, we find out there's something off with the data."
   ]
  },
  {
   "cell_type": "code",
   "execution_count": 112,
   "id": "089f9c08",
   "metadata": {},
   "outputs": [
    {
     "data": {
      "text/plain": [
       "count    1.221440e+05\n",
       "mean     3.959362e+03\n",
       "std      1.984514e+05\n",
       "min      0.000000e+00\n",
       "25%      1.977000e+03\n",
       "50%      2.000000e+03\n",
       "75%      2.008000e+03\n",
       "max      2.014000e+07\n",
       "Name: Year, dtype: float64"
      ]
     },
     "execution_count": 112,
     "metadata": {},
     "output_type": "execute_result"
    }
   ],
   "source": [
    "data[\"Year\"].describe()\n",
    "# We see that we have 92, 0, 20140000"
   ]
  },
  {
   "cell_type": "markdown",
   "id": "0642ce6c",
   "metadata": {},
   "source": [
    "We show one way of dealing with strangely formated data in the next example. In particular, we will address the problem already when reading the data."
   ]
  },
  {
   "cell_type": "markdown",
   "id": "f328e666",
   "metadata": {},
   "source": [
    "__2. People in Norway by region and age in 2022__\n",
    "\n",
    "The dateset is obtained from [SSB](https://data.ssb.no/api/v0/dataset/1076?lang=no) and we see that the encoding of the age will present some difficulty for numerics. "
   ]
  },
  {
   "cell_type": "code",
   "execution_count": 113,
   "id": "5c4071d8",
   "metadata": {},
   "outputs": [
    {
     "name": "stdout",
     "output_type": "stream",
     "text": [
      "\"region\";\"alder\";\"ar\";\"xxx\";\"count\"\n",
      "\"30 Viken\";\"000 0 ar\";\"2022\";\"Personer\";12620\n",
      "\"30 Viken\";\"001 1 ar\";\"2022\";\"Personer\";12512\n",
      "\"30 Viken\";\"002 2 ar\";\"2022\";\"Personer\";13203\n",
      "\"30 Viken\";\"003 3 ar\";\"2022\";\"Personer\";13727\n"
     ]
    }
   ],
   "source": [
    "with open(\"./data/nor_population2022.csv\") as f:\n",
    "    ln = 0\n",
    "    while ln < 5:\n",
    "        print(next(f).strip())\n",
    "        ln += 1"
   ]
  },
  {
   "cell_type": "markdown",
   "id": "efd77a12",
   "metadata": {},
   "source": [
    "Our solution is to specify a converter for the column which uses regexp to get the age string which is converted to integer"
   ]
  },
  {
   "cell_type": "code",
   "execution_count": 114,
   "id": "3f9e6712",
   "metadata": {},
   "outputs": [
    {
     "data": {
      "text/html": [
       "<div>\n",
       "<style scoped>\n",
       "    .dataframe tbody tr th:only-of-type {\n",
       "        vertical-align: middle;\n",
       "    }\n",
       "\n",
       "    .dataframe tbody tr th {\n",
       "        vertical-align: top;\n",
       "    }\n",
       "\n",
       "    .dataframe thead th {\n",
       "        text-align: right;\n",
       "    }\n",
       "</style>\n",
       "<table border=\"1\" class=\"dataframe\">\n",
       "  <thead>\n",
       "    <tr style=\"text-align: right;\">\n",
       "      <th></th>\n",
       "      <th>region</th>\n",
       "      <th>alder</th>\n",
       "      <th>count</th>\n",
       "    </tr>\n",
       "  </thead>\n",
       "  <tbody>\n",
       "    <tr>\n",
       "      <th>0</th>\n",
       "      <td>30 Viken</td>\n",
       "      <td>0</td>\n",
       "      <td>12620</td>\n",
       "    </tr>\n",
       "    <tr>\n",
       "      <th>1</th>\n",
       "      <td>30 Viken</td>\n",
       "      <td>1</td>\n",
       "      <td>12512</td>\n",
       "    </tr>\n",
       "    <tr>\n",
       "      <th>2</th>\n",
       "      <td>30 Viken</td>\n",
       "      <td>2</td>\n",
       "      <td>13203</td>\n",
       "    </tr>\n",
       "    <tr>\n",
       "      <th>3</th>\n",
       "      <td>30 Viken</td>\n",
       "      <td>3</td>\n",
       "      <td>13727</td>\n",
       "    </tr>\n",
       "    <tr>\n",
       "      <th>4</th>\n",
       "      <td>30 Viken</td>\n",
       "      <td>4</td>\n",
       "      <td>14003</td>\n",
       "    </tr>\n",
       "    <tr>\n",
       "      <th>...</th>\n",
       "      <td>...</td>\n",
       "      <td>...</td>\n",
       "      <td>...</td>\n",
       "    </tr>\n",
       "    <tr>\n",
       "      <th>1267</th>\n",
       "      <td>21 Svalbard</td>\n",
       "      <td>101</td>\n",
       "      <td>0</td>\n",
       "    </tr>\n",
       "    <tr>\n",
       "      <th>1268</th>\n",
       "      <td>21 Svalbard</td>\n",
       "      <td>102</td>\n",
       "      <td>0</td>\n",
       "    </tr>\n",
       "    <tr>\n",
       "      <th>1269</th>\n",
       "      <td>21 Svalbard</td>\n",
       "      <td>103</td>\n",
       "      <td>0</td>\n",
       "    </tr>\n",
       "    <tr>\n",
       "      <th>1270</th>\n",
       "      <td>21 Svalbard</td>\n",
       "      <td>104</td>\n",
       "      <td>0</td>\n",
       "    </tr>\n",
       "    <tr>\n",
       "      <th>1271</th>\n",
       "      <td>21 Svalbard</td>\n",
       "      <td>105</td>\n",
       "      <td>0</td>\n",
       "    </tr>\n",
       "  </tbody>\n",
       "</table>\n",
       "<p>1272 rows × 3 columns</p>\n",
       "</div>"
      ],
      "text/plain": [
       "           region  alder  count\n",
       "0        30 Viken      0  12620\n",
       "1        30 Viken      1  12512\n",
       "2        30 Viken      2  13203\n",
       "3        30 Viken      3  13727\n",
       "4        30 Viken      4  14003\n",
       "...           ...    ...    ...\n",
       "1267  21 Svalbard    101      0\n",
       "1268  21 Svalbard    102      0\n",
       "1269  21 Svalbard    103      0\n",
       "1270  21 Svalbard    104      0\n",
       "1271  21 Svalbard    105      0\n",
       "\n",
       "[1272 rows x 3 columns]"
      ]
     },
     "execution_count": 114,
     "metadata": {},
     "output_type": "execute_result"
    }
   ],
   "source": [
    "import re\n",
    "\n",
    "# And we also get rid of some redundant data\n",
    "data = pd.read_csv(\n",
    "    \"./data/nor_population2022.csv\",\n",
    "    delimiter=\";\",\n",
    "    converters={\"alder\": lambda x: int(re.search(r\"(\\d+) (ar)\", x).group(1))},\n",
    ").drop([\"ar\", \"xxx\"], axis=\"columns\")\n",
    "data"
   ]
  },
  {
   "cell_type": "markdown",
   "id": "0bd4def2",
   "metadata": {},
   "source": [
    "**Question**: Can you now fix the problem with car dataset?"
   ]
  },
  {
   "cell_type": "markdown",
   "id": "bbe70ce7",
   "metadata": {},
   "source": [
    "We can have a look at the populaton in different regions"
   ]
  },
  {
   "cell_type": "code",
   "execution_count": 115,
   "id": "98d3ae2a",
   "metadata": {},
   "outputs": [
    {
     "data": {
      "image/png": "[encoded data removed]",
      "text/plain": [
       "<Figure size 640x480 with 1 Axes>"
      ]
     },
     "metadata": {},
     "output_type": "display_data"
    }
   ],
   "source": [
    "data.groupby(\"region\")[\"count\"].sum().plot()\n",
    "plt.xticks(rotation=45);"
   ]
  },
  {
   "cell_type": "markdown",
   "id": "52d8b3f2",
   "metadata": {},
   "source": [
    "Or breakdown the distribution"
   ]
  },
  {
   "cell_type": "code",
   "execution_count": 116,
   "id": "0779caf1",
   "metadata": {},
   "outputs": [
    {
     "data": {
      "text/plain": [
       "<matplotlib.legend.Legend at 0x7f8a493da880>"
      ]
     },
     "execution_count": 116,
     "metadata": {},
     "output_type": "execute_result"
    },
    {
     "data": {
      "image/png": "[encoded data removed]",
      "text/plain": [
       "<Figure size 640x480 with 1 Axes>"
      ]
     },
     "metadata": {},
     "output_type": "display_data"
    }
   ],
   "source": [
    "fig, ax = plt.subplots()\n",
    "data.pivot_table(\"count\", index=\"alder\", columns=[\"region\"]).plot(ax=ax)\n",
    "ax.legend(bbox_to_anchor=(1.05, 0.5))"
   ]
  },
  {
   "cell_type": "markdown",
   "id": "2b7ed1db",
   "metadata": {},
   "source": [
    "__3. Joining__\n",
    "\n",
    "This example is adopted from * [Python Data Science Handbook](https://github.com/jakevdp/PythonDataScienceHandbook) by Jake VanderPlas. We first download the datasets"
   ]
  },
  {
   "cell_type": "code",
   "execution_count": 117,
   "id": "9b37f672",
   "metadata": {},
   "outputs": [],
   "source": [
    "for name in \"abbrevs\", \"areas\", \"population\":\n",
    "    fname = f\"state-{name}.csv\"\n",
    "    download_file(\n",
    "        f\"data/{fname}\",\n",
    "        url=f\"https://raw.githubusercontent.com/jakevdp/data-USstates/HEAD/{fname}\",\n",
    "    )"
   ]
  },
  {
   "cell_type": "markdown",
   "id": "d4bdeedf",
   "metadata": {},
   "source": [
    "You can see that they contain data [full name -> population], [full_name -> area], [abbreviation -> full_name]. Given this we want to order the stated by population density"
   ]
  },
  {
   "cell_type": "code",
   "execution_count": 118,
   "id": "2cc27ba1",
   "metadata": {},
   "outputs": [
    {
     "data": {
      "text/html": [
       "<div>\n",
       "<style scoped>\n",
       "    .dataframe tbody tr th:only-of-type {\n",
       "        vertical-align: middle;\n",
       "    }\n",
       "\n",
       "    .dataframe tbody tr th {\n",
       "        vertical-align: top;\n",
       "    }\n",
       "\n",
       "    .dataframe thead th {\n",
       "        text-align: right;\n",
       "    }\n",
       "</style>\n",
       "<table border=\"1\" class=\"dataframe\">\n",
       "  <thead>\n",
       "    <tr style=\"text-align: right;\">\n",
       "      <th></th>\n",
       "      <th>state</th>\n",
       "      <th>abbreviation</th>\n",
       "    </tr>\n",
       "  </thead>\n",
       "  <tbody>\n",
       "    <tr>\n",
       "      <th>0</th>\n",
       "      <td>Alabama</td>\n",
       "      <td>AL</td>\n",
       "    </tr>\n",
       "    <tr>\n",
       "      <th>1</th>\n",
       "      <td>Alaska</td>\n",
       "      <td>AK</td>\n",
       "    </tr>\n",
       "    <tr>\n",
       "      <th>2</th>\n",
       "      <td>Arizona</td>\n",
       "      <td>AZ</td>\n",
       "    </tr>\n",
       "    <tr>\n",
       "      <th>3</th>\n",
       "      <td>Arkansas</td>\n",
       "      <td>AR</td>\n",
       "    </tr>\n",
       "    <tr>\n",
       "      <th>4</th>\n",
       "      <td>California</td>\n",
       "      <td>CA</td>\n",
       "    </tr>\n",
       "    <tr>\n",
       "      <th>5</th>\n",
       "      <td>Colorado</td>\n",
       "      <td>CO</td>\n",
       "    </tr>\n",
       "    <tr>\n",
       "      <th>6</th>\n",
       "      <td>Connecticut</td>\n",
       "      <td>CT</td>\n",
       "    </tr>\n",
       "    <tr>\n",
       "      <th>7</th>\n",
       "      <td>Delaware</td>\n",
       "      <td>DE</td>\n",
       "    </tr>\n",
       "    <tr>\n",
       "      <th>8</th>\n",
       "      <td>District of Columbia</td>\n",
       "      <td>DC</td>\n",
       "    </tr>\n",
       "    <tr>\n",
       "      <th>9</th>\n",
       "      <td>Florida</td>\n",
       "      <td>FL</td>\n",
       "    </tr>\n",
       "  </tbody>\n",
       "</table>\n",
       "</div>"
      ],
      "text/plain": [
       "                  state abbreviation\n",
       "0               Alabama           AL\n",
       "1                Alaska           AK\n",
       "2               Arizona           AZ\n",
       "3              Arkansas           AR\n",
       "4            California           CA\n",
       "5              Colorado           CO\n",
       "6           Connecticut           CT\n",
       "7              Delaware           DE\n",
       "8  District of Columbia           DC\n",
       "9               Florida           FL"
      ]
     },
     "execution_count": 118,
     "metadata": {},
     "output_type": "execute_result"
    }
   ],
   "source": [
    "abbrevs = pd.read_csv(\"./data/state-abbrevs.csv\")\n",
    "areas = pd.read_csv(\"./data/state-areas.csv\")\n",
    "pop = pd.read_csv(\"./data/state-population.csv\")\n",
    "abbrevs.head(10)"
   ]
  },
  {
   "cell_type": "code",
   "execution_count": 119,
   "id": "ad94ccd1",
   "metadata": {},
   "outputs": [
    {
     "data": {
      "text/plain": [
       "(Index(['state', 'area (sq. mi)'], dtype='object'),\n",
       " Index(['state/region', 'ages', 'year', 'population'], dtype='object'),\n",
       " Index(['state', 'abbreviation'], dtype='object'))"
      ]
     },
     "execution_count": 119,
     "metadata": {},
     "output_type": "execute_result"
    }
   ],
   "source": [
    "(areas.columns, pop.columns, abbrevs.columns)"
   ]
  },
  {
   "cell_type": "markdown",
   "id": "fb772745",
   "metadata": {},
   "source": [
    "We want to build a table which has both areas and population info. To get there population should get abbreviation so that we can look up areas."
   ]
  },
  {
   "cell_type": "code",
   "execution_count": 120,
   "id": "84853648",
   "metadata": {},
   "outputs": [
    {
     "data": {
      "text/html": [
       "<div>\n",
       "<style scoped>\n",
       "    .dataframe tbody tr th:only-of-type {\n",
       "        vertical-align: middle;\n",
       "    }\n",
       "\n",
       "    .dataframe tbody tr th {\n",
       "        vertical-align: top;\n",
       "    }\n",
       "\n",
       "    .dataframe thead th {\n",
       "        text-align: right;\n",
       "    }\n",
       "</style>\n",
       "<table border=\"1\" class=\"dataframe\">\n",
       "  <thead>\n",
       "    <tr style=\"text-align: right;\">\n",
       "      <th></th>\n",
       "      <th>state/region</th>\n",
       "      <th>ages</th>\n",
       "      <th>year</th>\n",
       "      <th>population</th>\n",
       "      <th>state</th>\n",
       "    </tr>\n",
       "  </thead>\n",
       "  <tbody>\n",
       "    <tr>\n",
       "      <th>0</th>\n",
       "      <td>AL</td>\n",
       "      <td>under18</td>\n",
       "      <td>2012</td>\n",
       "      <td>1117489.0</td>\n",
       "      <td>Alabama</td>\n",
       "    </tr>\n",
       "    <tr>\n",
       "      <th>1</th>\n",
       "      <td>AL</td>\n",
       "      <td>total</td>\n",
       "      <td>2012</td>\n",
       "      <td>4817528.0</td>\n",
       "      <td>Alabama</td>\n",
       "    </tr>\n",
       "    <tr>\n",
       "      <th>2</th>\n",
       "      <td>AL</td>\n",
       "      <td>under18</td>\n",
       "      <td>2010</td>\n",
       "      <td>1130966.0</td>\n",
       "      <td>Alabama</td>\n",
       "    </tr>\n",
       "    <tr>\n",
       "      <th>3</th>\n",
       "      <td>AL</td>\n",
       "      <td>total</td>\n",
       "      <td>2010</td>\n",
       "      <td>4785570.0</td>\n",
       "      <td>Alabama</td>\n",
       "    </tr>\n",
       "    <tr>\n",
       "      <th>4</th>\n",
       "      <td>AL</td>\n",
       "      <td>under18</td>\n",
       "      <td>2011</td>\n",
       "      <td>1125763.0</td>\n",
       "      <td>Alabama</td>\n",
       "    </tr>\n",
       "  </tbody>\n",
       "</table>\n",
       "</div>"
      ],
      "text/plain": [
       "  state/region     ages  year  population    state\n",
       "0           AL  under18  2012   1117489.0  Alabama\n",
       "1           AL    total  2012   4817528.0  Alabama\n",
       "2           AL  under18  2010   1130966.0  Alabama\n",
       "3           AL    total  2010   4785570.0  Alabama\n",
       "4           AL  under18  2011   1125763.0  Alabama"
      ]
     },
     "execution_count": 120,
     "metadata": {},
     "output_type": "execute_result"
    }
   ],
   "source": [
    "merged = pd.merge(\n",
    "    pop, abbrevs, left_on=\"state/region\", right_on=\"abbreviation\", how=\"outer\"\n",
    ").drop(\"abbreviation\", axis=1)\n",
    "merged.head(5)"
   ]
  },
  {
   "cell_type": "markdown",
   "id": "69708258",
   "metadata": {},
   "source": [
    "We inspect the integrity of dataset. Something is wrong with `state/region` which is a problem if we want to map further."
   ]
  },
  {
   "cell_type": "code",
   "execution_count": 121,
   "id": "a7c91b32",
   "metadata": {},
   "outputs": [
    {
     "data": {
      "text/plain": [
       "state/region    False\n",
       "ages            False\n",
       "year            False\n",
       "population       True\n",
       "state            True\n",
       "dtype: bool"
      ]
     },
     "execution_count": 121,
     "metadata": {},
     "output_type": "execute_result"
    }
   ],
   "source": [
    "merged.isnull().any()"
   ]
  },
  {
   "cell_type": "markdown",
   "id": "2aa018c1",
   "metadata": {},
   "source": [
    "By further inspection the missing data is for \"not the usual 50 states\" and so we just drop them"
   ]
  },
  {
   "cell_type": "code",
   "execution_count": 122,
   "id": "a2cc73f0",
   "metadata": {},
   "outputs": [
    {
     "data": {
      "text/plain": [
       "array(['PR', 'USA'], dtype=object)"
      ]
     },
     "execution_count": 122,
     "metadata": {},
     "output_type": "execute_result"
    }
   ],
   "source": [
    "merged.loc[merged[\"state\"].isnull(), \"state/region\"].unique()"
   ]
  },
  {
   "cell_type": "code",
   "execution_count": 123,
   "id": "4adca33b",
   "metadata": {},
   "outputs": [],
   "source": [
    "merged.dropna(inplace=True)"
   ]
  },
  {
   "cell_type": "markdown",
   "id": "b536e5a5",
   "metadata": {},
   "source": [
    "We can add to our table (left merge) the areas"
   ]
  },
  {
   "cell_type": "code",
   "execution_count": 124,
   "id": "99e5e025",
   "metadata": {},
   "outputs": [
    {
     "data": {
      "text/html": [
       "<div>\n",
       "<style scoped>\n",
       "    .dataframe tbody tr th:only-of-type {\n",
       "        vertical-align: middle;\n",
       "    }\n",
       "\n",
       "    .dataframe tbody tr th {\n",
       "        vertical-align: top;\n",
       "    }\n",
       "\n",
       "    .dataframe thead th {\n",
       "        text-align: right;\n",
       "    }\n",
       "</style>\n",
       "<table border=\"1\" class=\"dataframe\">\n",
       "  <thead>\n",
       "    <tr style=\"text-align: right;\">\n",
       "      <th></th>\n",
       "      <th>state/region</th>\n",
       "      <th>ages</th>\n",
       "      <th>year</th>\n",
       "      <th>population</th>\n",
       "      <th>state</th>\n",
       "      <th>area (sq. mi)</th>\n",
       "    </tr>\n",
       "  </thead>\n",
       "  <tbody>\n",
       "    <tr>\n",
       "      <th>0</th>\n",
       "      <td>AL</td>\n",
       "      <td>under18</td>\n",
       "      <td>2012</td>\n",
       "      <td>1117489.0</td>\n",
       "      <td>Alabama</td>\n",
       "      <td>52423</td>\n",
       "    </tr>\n",
       "    <tr>\n",
       "      <th>1</th>\n",
       "      <td>AL</td>\n",
       "      <td>total</td>\n",
       "      <td>2012</td>\n",
       "      <td>4817528.0</td>\n",
       "      <td>Alabama</td>\n",
       "      <td>52423</td>\n",
       "    </tr>\n",
       "    <tr>\n",
       "      <th>2</th>\n",
       "      <td>AL</td>\n",
       "      <td>under18</td>\n",
       "      <td>2010</td>\n",
       "      <td>1130966.0</td>\n",
       "      <td>Alabama</td>\n",
       "      <td>52423</td>\n",
       "    </tr>\n",
       "    <tr>\n",
       "      <th>3</th>\n",
       "      <td>AL</td>\n",
       "      <td>total</td>\n",
       "      <td>2010</td>\n",
       "      <td>4785570.0</td>\n",
       "      <td>Alabama</td>\n",
       "      <td>52423</td>\n",
       "    </tr>\n",
       "    <tr>\n",
       "      <th>4</th>\n",
       "      <td>AL</td>\n",
       "      <td>under18</td>\n",
       "      <td>2011</td>\n",
       "      <td>1125763.0</td>\n",
       "      <td>Alabama</td>\n",
       "      <td>52423</td>\n",
       "    </tr>\n",
       "  </tbody>\n",
       "</table>\n",
       "</div>"
      ],
      "text/plain": [
       "  state/region     ages  year  population    state  area (sq. mi)\n",
       "0           AL  under18  2012   1117489.0  Alabama          52423\n",
       "1           AL    total  2012   4817528.0  Alabama          52423\n",
       "2           AL  under18  2010   1130966.0  Alabama          52423\n",
       "3           AL    total  2010   4785570.0  Alabama          52423\n",
       "4           AL  under18  2011   1125763.0  Alabama          52423"
      ]
     },
     "execution_count": 124,
     "metadata": {},
     "output_type": "execute_result"
    }
   ],
   "source": [
    "final = pd.merge(merged, areas, on=\"state\") \n",
    "final.head(5)"
   ]
  },
  {
   "cell_type": "markdown",
   "id": "2b3695e6",
   "metadata": {},
   "source": [
    "We use `query` (SQL like) language to get the right rows"
   ]
  },
  {
   "cell_type": "code",
   "execution_count": 125,
   "id": "b45847ea",
   "metadata": {},
   "outputs": [
    {
     "data": {
      "text/html": [
       "<div>\n",
       "<style scoped>\n",
       "    .dataframe tbody tr th:only-of-type {\n",
       "        vertical-align: middle;\n",
       "    }\n",
       "\n",
       "    .dataframe tbody tr th {\n",
       "        vertical-align: top;\n",
       "    }\n",
       "\n",
       "    .dataframe thead th {\n",
       "        text-align: right;\n",
       "    }\n",
       "</style>\n",
       "<table border=\"1\" class=\"dataframe\">\n",
       "  <thead>\n",
       "    <tr style=\"text-align: right;\">\n",
       "      <th></th>\n",
       "      <th>state/region</th>\n",
       "      <th>ages</th>\n",
       "      <th>year</th>\n",
       "      <th>population</th>\n",
       "      <th>state</th>\n",
       "      <th>area (sq. mi)</th>\n",
       "    </tr>\n",
       "  </thead>\n",
       "  <tbody>\n",
       "    <tr>\n",
       "      <th>1</th>\n",
       "      <td>AL</td>\n",
       "      <td>total</td>\n",
       "      <td>2012</td>\n",
       "      <td>4817528.0</td>\n",
       "      <td>Alabama</td>\n",
       "      <td>52423</td>\n",
       "    </tr>\n",
       "    <tr>\n",
       "      <th>95</th>\n",
       "      <td>AK</td>\n",
       "      <td>total</td>\n",
       "      <td>2012</td>\n",
       "      <td>730307.0</td>\n",
       "      <td>Alaska</td>\n",
       "      <td>656425</td>\n",
       "    </tr>\n",
       "    <tr>\n",
       "      <th>97</th>\n",
       "      <td>AZ</td>\n",
       "      <td>total</td>\n",
       "      <td>2012</td>\n",
       "      <td>6551149.0</td>\n",
       "      <td>Arizona</td>\n",
       "      <td>114006</td>\n",
       "    </tr>\n",
       "    <tr>\n",
       "      <th>191</th>\n",
       "      <td>AR</td>\n",
       "      <td>total</td>\n",
       "      <td>2012</td>\n",
       "      <td>2949828.0</td>\n",
       "      <td>Arkansas</td>\n",
       "      <td>53182</td>\n",
       "    </tr>\n",
       "    <tr>\n",
       "      <th>193</th>\n",
       "      <td>CA</td>\n",
       "      <td>total</td>\n",
       "      <td>2012</td>\n",
       "      <td>37999878.0</td>\n",
       "      <td>California</td>\n",
       "      <td>163707</td>\n",
       "    </tr>\n",
       "    <tr>\n",
       "      <th>287</th>\n",
       "      <td>CO</td>\n",
       "      <td>total</td>\n",
       "      <td>2012</td>\n",
       "      <td>5189458.0</td>\n",
       "      <td>Colorado</td>\n",
       "      <td>104100</td>\n",
       "    </tr>\n",
       "    <tr>\n",
       "      <th>289</th>\n",
       "      <td>CT</td>\n",
       "      <td>total</td>\n",
       "      <td>2012</td>\n",
       "      <td>3591765.0</td>\n",
       "      <td>Connecticut</td>\n",
       "      <td>5544</td>\n",
       "    </tr>\n",
       "    <tr>\n",
       "      <th>383</th>\n",
       "      <td>DE</td>\n",
       "      <td>total</td>\n",
       "      <td>2012</td>\n",
       "      <td>917053.0</td>\n",
       "      <td>Delaware</td>\n",
       "      <td>1954</td>\n",
       "    </tr>\n",
       "    <tr>\n",
       "      <th>385</th>\n",
       "      <td>DC</td>\n",
       "      <td>total</td>\n",
       "      <td>2012</td>\n",
       "      <td>633427.0</td>\n",
       "      <td>District of Columbia</td>\n",
       "      <td>68</td>\n",
       "    </tr>\n",
       "    <tr>\n",
       "      <th>479</th>\n",
       "      <td>FL</td>\n",
       "      <td>total</td>\n",
       "      <td>2012</td>\n",
       "      <td>19320749.0</td>\n",
       "      <td>Florida</td>\n",
       "      <td>65758</td>\n",
       "    </tr>\n",
       "  </tbody>\n",
       "</table>\n",
       "</div>"
      ],
      "text/plain": [
       "    state/region   ages  year  population                 state  area (sq. mi)\n",
       "1             AL  total  2012   4817528.0               Alabama          52423\n",
       "95            AK  total  2012    730307.0                Alaska         656425\n",
       "97            AZ  total  2012   6551149.0               Arizona         114006\n",
       "191           AR  total  2012   2949828.0              Arkansas          53182\n",
       "193           CA  total  2012  37999878.0            California         163707\n",
       "287           CO  total  2012   5189458.0              Colorado         104100\n",
       "289           CT  total  2012   3591765.0           Connecticut           5544\n",
       "383           DE  total  2012    917053.0              Delaware           1954\n",
       "385           DC  total  2012    633427.0  District of Columbia             68\n",
       "479           FL  total  2012  19320749.0               Florida          65758"
      ]
     },
     "execution_count": 125,
     "metadata": {},
     "output_type": "execute_result"
    }
   ],
   "source": [
    "table = final.query(\n",
    "    \"year == 2012 & ages == 'total'\"\n",
    ")  # final['population']/final['area (sq. mi)']\n",
    "table.head(10)"
   ]
  },
  {
   "cell_type": "markdown",
   "id": "d23f2317",
   "metadata": {},
   "source": [
    "We will use the states to index into the column. By index preservation this will give us states to density"
   ]
  },
  {
   "cell_type": "code",
   "execution_count": 126,
   "id": "23e16361",
   "metadata": {},
   "outputs": [
    {
     "data": {
      "text/plain": [
       "state\n",
       "Alabama        91.897221\n",
       "Alaska          1.112552\n",
       "Arizona        57.463195\n",
       "Arkansas       55.466662\n",
       "California    232.121278\n",
       "dtype: float64"
      ]
     },
     "execution_count": 126,
     "metadata": {},
     "output_type": "execute_result"
    }
   ],
   "source": [
    "table.set_index(\"state\", inplace=True)\n",
    "density = table[\"population\"] / table[\"area (sq. mi)\"]\n",
    "density.head(5)"
   ]
  },
  {
   "cell_type": "code",
   "execution_count": 127,
   "id": "dd48de4b",
   "metadata": {},
   "outputs": [
    {
     "data": {
      "text/plain": [
       "state\n",
       "District of Columbia    9315.102941\n",
       "New Jersey              1016.710502\n",
       "Rhode Island             679.808414\n",
       "Connecticut              647.865260\n",
       "Massachusetts            629.588157\n",
       "Maryland                 474.318369\n",
       "Delaware                 469.320880\n",
       "New York                 359.359798\n",
       "Florida                  293.815946\n",
       "Pennsylvania             277.139151\n",
       "dtype: float64"
      ]
     },
     "execution_count": 127,
     "metadata": {},
     "output_type": "execute_result"
    }
   ],
   "source": [
    "density.sort_values(ascending=False).head(10)"
   ]
  },
  {
   "cell_type": "markdown",
   "id": "86f736cb",
   "metadata": {},
   "source": [
    "__Question__: Similar data can be obtained from [Eurostat](https://ec.europa.eu/eurostat/web/population-demography/demography-population-stock-balance/database). The new thing is that the format `.tsv`. Let's start parsing the population data"
   ]
  },
  {
   "cell_type": "code",
   "execution_count": 128,
   "id": "1f893edb",
   "metadata": {},
   "outputs": [
    {
     "name": "stdout",
     "output_type": "stream",
     "text": [
      "unit,age,sex,geo\\time\t2010 \t2011 \t2012 \t2013 \t2014 \t2015 \t2016 \t2017 \t2018 \t2019 \t2020 \t2021\n",
      "NR,TOTAL,T,AL01\t: \t: \t: \t: \t: \t: \t848059 \t826904 \t819793 \t813758 \t804689 \t797955\n",
      "NR,TOTAL,T,AL02\t: \t: \t: \t: \t: \t: \t1110562 \t1146183 \t1162544 \t1170142 \t1176240 \t1178435\n",
      "NR,TOTAL,T,AL03\t: \t: \t: \t: \t: \t: \t927405 \t903504 \t887987 \t878527 \t865026 \t853351\n",
      "NR,TOTAL,T,ALXX\t: \t: \t: \t: \t: \t: \t: \t: \t0 \t0 \t: \t:\n",
      "NR,TOTAL,T,AT11\t283697 \t284581 \t285782 \t286691 \t287416 \t288356 \t291011 \t291942 \t292675 \t293433 \t294436 \t296010\n",
      "NR,TOTAL,T,AT12\t1605897 \t1609474 \t1614455 \t1618592 \t1625485 \t1636778 \t1653691 \t1665753 \t1670668 \t1677542 \t1684287 \t1690879\n",
      "NR,TOTAL,T,AT13\t1689995 \t1702855 \t1717084 \t1741246 \t1766746 \t1797337 \t1840226 \t1867582 \t1888776 \t1897491 \t1911191 \t1920949\n",
      "NR,TOTAL,T,AT21\t557998 \t556718 \t556027 \t555473 \t555881 \t557641 \t560482 \t561077 \t560898 \t560939 \t561293 \t562089\n",
      "NR,TOTAL,T,AT22\t1205045 \t1206611 \t1208696 \t1210971 \t1215246 \t1221570 \t1232012 \t1237298 \t1240214 \t1243052 \t1246395 \t1247077\n"
     ]
    }
   ],
   "source": [
    "with open(\"./data/eustat_population.tsv\") as f:\n",
    "    ln = 0\n",
    "    while ln < 10:\n",
    "        print(next(f).strip())\n",
    "        ln += 1"
   ]
  },
  {
   "cell_type": "markdown",
   "id": "6cc5abf6",
   "metadata": {},
   "source": [
    "We see that the countries are subdivided. Let's figure out the reader to help here"
   ]
  },
  {
   "cell_type": "code",
   "execution_count": 129,
   "id": "37666160",
   "metadata": {},
   "outputs": [
    {
     "data": {
      "text/html": [
       "<div>\n",
       "<style scoped>\n",
       "    .dataframe tbody tr th:only-of-type {\n",
       "        vertical-align: middle;\n",
       "    }\n",
       "\n",
       "    .dataframe tbody tr th {\n",
       "        vertical-align: top;\n",
       "    }\n",
       "\n",
       "    .dataframe thead th {\n",
       "        text-align: right;\n",
       "    }\n",
       "</style>\n",
       "<table border=\"1\" class=\"dataframe\">\n",
       "  <thead>\n",
       "    <tr style=\"text-align: right;\">\n",
       "      <th></th>\n",
       "      <th>unit,age,sex,geo\\time</th>\n",
       "      <th>2010</th>\n",
       "      <th>2011</th>\n",
       "      <th>2012</th>\n",
       "      <th>2013</th>\n",
       "      <th>2014</th>\n",
       "      <th>2015</th>\n",
       "      <th>2016</th>\n",
       "      <th>2017</th>\n",
       "      <th>2018</th>\n",
       "      <th>2019</th>\n",
       "      <th>2020</th>\n",
       "      <th>2021</th>\n",
       "    </tr>\n",
       "  </thead>\n",
       "  <tbody>\n",
       "    <tr>\n",
       "      <th>0</th>\n",
       "      <td>AL</td>\n",
       "      <td>:</td>\n",
       "      <td>:</td>\n",
       "      <td>:</td>\n",
       "      <td>:</td>\n",
       "      <td>:</td>\n",
       "      <td>:</td>\n",
       "      <td>848059</td>\n",
       "      <td>826904</td>\n",
       "      <td>819793</td>\n",
       "      <td>813758</td>\n",
       "      <td>804689</td>\n",
       "      <td>797955</td>\n",
       "    </tr>\n",
       "    <tr>\n",
       "      <th>1</th>\n",
       "      <td>AL</td>\n",
       "      <td>:</td>\n",
       "      <td>:</td>\n",
       "      <td>:</td>\n",
       "      <td>:</td>\n",
       "      <td>:</td>\n",
       "      <td>:</td>\n",
       "      <td>1110562</td>\n",
       "      <td>1146183</td>\n",
       "      <td>1162544</td>\n",
       "      <td>1170142</td>\n",
       "      <td>1176240</td>\n",
       "      <td>1178435</td>\n",
       "    </tr>\n",
       "    <tr>\n",
       "      <th>2</th>\n",
       "      <td>AL</td>\n",
       "      <td>:</td>\n",
       "      <td>:</td>\n",
       "      <td>:</td>\n",
       "      <td>:</td>\n",
       "      <td>:</td>\n",
       "      <td>:</td>\n",
       "      <td>927405</td>\n",
       "      <td>903504</td>\n",
       "      <td>887987</td>\n",
       "      <td>878527</td>\n",
       "      <td>865026</td>\n",
       "      <td>853351</td>\n",
       "    </tr>\n",
       "    <tr>\n",
       "      <th>3</th>\n",
       "      <td>AL</td>\n",
       "      <td>:</td>\n",
       "      <td>:</td>\n",
       "      <td>:</td>\n",
       "      <td>:</td>\n",
       "      <td>:</td>\n",
       "      <td>:</td>\n",
       "      <td>:</td>\n",
       "      <td>:</td>\n",
       "      <td>0</td>\n",
       "      <td>0</td>\n",
       "      <td>:</td>\n",
       "      <td>:</td>\n",
       "    </tr>\n",
       "    <tr>\n",
       "      <th>4</th>\n",
       "      <td>AT</td>\n",
       "      <td>283697</td>\n",
       "      <td>284581</td>\n",
       "      <td>285782</td>\n",
       "      <td>286691</td>\n",
       "      <td>287416</td>\n",
       "      <td>288356</td>\n",
       "      <td>291011</td>\n",
       "      <td>291942</td>\n",
       "      <td>292675</td>\n",
       "      <td>293433</td>\n",
       "      <td>294436</td>\n",
       "      <td>296010</td>\n",
       "    </tr>\n",
       "    <tr>\n",
       "      <th>...</th>\n",
       "      <td>...</td>\n",
       "      <td>...</td>\n",
       "      <td>...</td>\n",
       "      <td>...</td>\n",
       "      <td>...</td>\n",
       "      <td>...</td>\n",
       "      <td>...</td>\n",
       "      <td>...</td>\n",
       "      <td>...</td>\n",
       "      <td>...</td>\n",
       "      <td>...</td>\n",
       "      <td>...</td>\n",
       "      <td>...</td>\n",
       "    </tr>\n",
       "    <tr>\n",
       "      <th>337</th>\n",
       "      <td>UK</td>\n",
       "      <td>463388</td>\n",
       "      <td>465794</td>\n",
       "      <td>466605</td>\n",
       "      <td>466737</td>\n",
       "      <td>467326</td>\n",
       "      <td>467889</td>\n",
       "      <td>468903</td>\n",
       "      <td>469420</td>\n",
       "      <td>470743</td>\n",
       "      <td>470990</td>\n",
       "      <td>:</td>\n",
       "      <td>:</td>\n",
       "    </tr>\n",
       "    <tr>\n",
       "      <th>338</th>\n",
       "      <td>UK</td>\n",
       "      <td>:</td>\n",
       "      <td>:</td>\n",
       "      <td>1915517</td>\n",
       "      <td>1924614</td>\n",
       "      <td>1933992</td>\n",
       "      <td>1946564</td>\n",
       "      <td>1961928</td>\n",
       "      <td>1976392</td>\n",
       "      <td>1988307</td>\n",
       "      <td>1998699</td>\n",
       "      <td>:</td>\n",
       "      <td>:</td>\n",
       "    </tr>\n",
       "    <tr>\n",
       "      <th>339</th>\n",
       "      <td>UK</td>\n",
       "      <td>:</td>\n",
       "      <td>:</td>\n",
       "      <td>1499887</td>\n",
       "      <td>1500987</td>\n",
       "      <td>1504303</td>\n",
       "      <td>1510438</td>\n",
       "      <td>1520628</td>\n",
       "      <td>1531216</td>\n",
       "      <td>1536415</td>\n",
       "      <td>1541998</td>\n",
       "      <td>:</td>\n",
       "      <td>:</td>\n",
       "    </tr>\n",
       "    <tr>\n",
       "      <th>340</th>\n",
       "      <td>UK</td>\n",
       "      <td>:</td>\n",
       "      <td>:</td>\n",
       "      <td>946492</td>\n",
       "      <td>945666</td>\n",
       "      <td>944842</td>\n",
       "      <td>944507</td>\n",
       "      <td>945233</td>\n",
       "      <td>946372</td>\n",
       "      <td>946837</td>\n",
       "      <td>947186</td>\n",
       "      <td>:</td>\n",
       "      <td>:</td>\n",
       "    </tr>\n",
       "    <tr>\n",
       "      <th>341</th>\n",
       "      <td>UK</td>\n",
       "      <td>1799019</td>\n",
       "      <td>1809539</td>\n",
       "      <td>1818995</td>\n",
       "      <td>1826761</td>\n",
       "      <td>1835290</td>\n",
       "      <td>1846229</td>\n",
       "      <td>1857048</td>\n",
       "      <td>1866638</td>\n",
       "      <td>1875957</td>\n",
       "      <td>:</td>\n",
       "      <td>:</td>\n",
       "      <td>:</td>\n",
       "    </tr>\n",
       "  </tbody>\n",
       "</table>\n",
       "<p>342 rows × 13 columns</p>\n",
       "</div>"
      ],
      "text/plain": [
       "    unit,age,sex,geo\\time     2010      2011      2012      2013      2014   \\\n",
       "0                      AL        :         :         :         :         :    \n",
       "1                      AL        :         :         :         :         :    \n",
       "2                      AL        :         :         :         :         :    \n",
       "3                      AL        :         :         :         :         :    \n",
       "4                      AT   283697    284581    285782    286691    287416    \n",
       "..                    ...       ...       ...       ...       ...       ...   \n",
       "337                    UK   463388    465794    466605    466737    467326    \n",
       "338                    UK        :         :   1915517   1924614   1933992    \n",
       "339                    UK        :         :   1499887   1500987   1504303    \n",
       "340                    UK        :         :    946492    945666    944842    \n",
       "341                    UK  1799019   1809539   1818995   1826761   1835290    \n",
       "\n",
       "        2015      2016      2017      2018      2019      2020      2021   \n",
       "0          :    848059    826904    819793    813758    804689    797955   \n",
       "1          :   1110562   1146183   1162544   1170142   1176240   1178435   \n",
       "2          :    927405    903504    887987    878527    865026    853351   \n",
       "3          :         :         :         0         0         :         :   \n",
       "4     288356    291011    291942    292675    293433    294436    296010   \n",
       "..        ...       ...       ...       ...       ...       ...       ...  \n",
       "337   467889    468903    469420    470743    470990         :         :   \n",
       "338  1946564   1961928   1976392   1988307   1998699         :         :   \n",
       "339  1510438   1520628   1531216   1536415   1541998         :         :   \n",
       "340   944507    945233    946372    946837    947186         :         :   \n",
       "341  1846229   1857048   1866638   1875957         :         :         :   \n",
       "\n",
       "[342 rows x 13 columns]"
      ]
     },
     "execution_count": 129,
     "metadata": {},
     "output_type": "execute_result"
    }
   ],
   "source": [
    "d = pd.read_csv(\n",
    "    \"./data/eustat_population.tsv\",\n",
    "    sep=\"\\t\",\n",
    "    converters={0: lambda x: re.search(r\"([A-Z]{2})(\\w\\w)$\", x).group(1)},\n",
    ")\n",
    "d"
   ]
  },
  {
   "cell_type": "markdown",
   "id": "41371424",
   "metadata": {},
   "source": [
    "The next challenge is to handle the missing values which do not show with `d.isna()` as all the values are strings and the missing is \": \". How would you solve this issue? "
   ]
  },
  {
   "cell_type": "markdown",
   "id": "20f382e6",
   "metadata": {},
   "source": [
    "__4. Timeseries analysis__\n",
    "\n",
    "Our final examples follows Chapter 4. in PDSH. We will be looking at statics from sensors counting bikers on a bridge. We have 2 counters one for left/right side each."
   ]
  },
  {
   "cell_type": "code",
   "execution_count": 131,
   "id": "0a38b0d7",
   "metadata": {
    "collapsed": true
   },
   "outputs": [
    {
     "name": "stderr",
     "output_type": "stream",
     "text": [
      "/tmp/ipykernel_419026/796841783.py:5: UserWarning: Could not infer format, so each element will be parsed individually, falling back to `dateutil`. To ensure parsing is consistent and as-expected, please specify a format.\n",
      "  data = pd.read_csv(\"data/FremontBridge.csv\", index_col=\"Date\", parse_dates=True)\n"
     ]
    },
    {
     "data": {
      "text/html": [
       "<div>\n",
       "<style scoped>\n",
       "    .dataframe tbody tr th:only-of-type {\n",
       "        vertical-align: middle;\n",
       "    }\n",
       "\n",
       "    .dataframe tbody tr th {\n",
       "        vertical-align: top;\n",
       "    }\n",
       "\n",
       "    .dataframe thead th {\n",
       "        text-align: right;\n",
       "    }\n",
       "</style>\n",
       "<table border=\"1\" class=\"dataframe\">\n",
       "  <thead>\n",
       "    <tr style=\"text-align: right;\">\n",
       "      <th></th>\n",
       "      <th>Fremont Bridge Sidewalks, south of N 34th St</th>\n",
       "      <th>Fremont Bridge Sidewalks, south of N 34th St Cyclist East Sidewalk</th>\n",
       "      <th>Fremont Bridge Sidewalks, south of N 34th St Cyclist West Sidewalk</th>\n",
       "    </tr>\n",
       "    <tr>\n",
       "      <th>Date</th>\n",
       "      <th></th>\n",
       "      <th></th>\n",
       "      <th></th>\n",
       "    </tr>\n",
       "  </thead>\n",
       "  <tbody>\n",
       "    <tr>\n",
       "      <th>2022-08-01 00:00:00</th>\n",
       "      <td>23.0</td>\n",
       "      <td>7.0</td>\n",
       "      <td>16.0</td>\n",
       "    </tr>\n",
       "    <tr>\n",
       "      <th>2022-08-01 01:00:00</th>\n",
       "      <td>12.0</td>\n",
       "      <td>5.0</td>\n",
       "      <td>7.0</td>\n",
       "    </tr>\n",
       "    <tr>\n",
       "      <th>2022-08-01 02:00:00</th>\n",
       "      <td>3.0</td>\n",
       "      <td>0.0</td>\n",
       "      <td>3.0</td>\n",
       "    </tr>\n",
       "    <tr>\n",
       "      <th>2022-08-01 03:00:00</th>\n",
       "      <td>5.0</td>\n",
       "      <td>2.0</td>\n",
       "      <td>3.0</td>\n",
       "    </tr>\n",
       "    <tr>\n",
       "      <th>2022-08-01 04:00:00</th>\n",
       "      <td>10.0</td>\n",
       "      <td>2.0</td>\n",
       "      <td>8.0</td>\n",
       "    </tr>\n",
       "  </tbody>\n",
       "</table>\n",
       "</div>"
      ],
      "text/plain": [
       "                     Fremont Bridge Sidewalks, south of N 34th St  \\\n",
       "Date                                                                \n",
       "2022-08-01 00:00:00                                          23.0   \n",
       "2022-08-01 01:00:00                                          12.0   \n",
       "2022-08-01 02:00:00                                           3.0   \n",
       "2022-08-01 03:00:00                                           5.0   \n",
       "2022-08-01 04:00:00                                          10.0   \n",
       "\n",
       "                     Fremont Bridge Sidewalks, south of N 34th St Cyclist East Sidewalk  \\\n",
       "Date                                                                                      \n",
       "2022-08-01 00:00:00                                                7.0                    \n",
       "2022-08-01 01:00:00                                                5.0                    \n",
       "2022-08-01 02:00:00                                                0.0                    \n",
       "2022-08-01 03:00:00                                                2.0                    \n",
       "2022-08-01 04:00:00                                                2.0                    \n",
       "\n",
       "                     Fremont Bridge Sidewalks, south of N 34th St Cyclist West Sidewalk  \n",
       "Date                                                                                     \n",
       "2022-08-01 00:00:00                                               16.0                   \n",
       "2022-08-01 01:00:00                                                7.0                   \n",
       "2022-08-01 02:00:00                                                3.0                   \n",
       "2022-08-01 03:00:00                                                3.0                   \n",
       "2022-08-01 04:00:00                                                8.0                   "
      ]
     },
     "execution_count": 131,
     "metadata": {},
     "output_type": "execute_result"
    }
   ],
   "source": [
    "download_file(\n",
    "    \"data/FremontBridge.csv\",\n",
    "    url=\"https://data.seattle.gov/api/views/65db-xm6k/rows.csv?accessType=DOWNLOAD\",\n",
    ")\n",
    "data = pd.read_csv(\"data/FremontBridge.csv\", index_col=\"Date\", parse_dates=True)\n",
    "data.head()"
   ]
  },
  {
   "cell_type": "code",
   "execution_count": 133,
   "id": "f9021012",
   "metadata": {},
   "outputs": [
    {
     "data": {
      "text/plain": [
       "95640"
      ]
     },
     "execution_count": 133,
     "metadata": {},
     "output_type": "execute_result"
    }
   ],
   "source": [
    "len(data)"
   ]
  },
  {
   "cell_type": "markdown",
   "id": "50b96ba4",
   "metadata": {},
   "source": [
    "For the next steps we will only consider the total count of bikers so we simplify the table"
   ]
  },
  {
   "cell_type": "code",
   "execution_count": 134,
   "id": "5c060c08",
   "metadata": {},
   "outputs": [
    {
     "data": {
      "text/html": [
       "<div>\n",
       "<style scoped>\n",
       "    .dataframe tbody tr th:only-of-type {\n",
       "        vertical-align: middle;\n",
       "    }\n",
       "\n",
       "    .dataframe tbody tr th {\n",
       "        vertical-align: top;\n",
       "    }\n",
       "\n",
       "    .dataframe thead th {\n",
       "        text-align: right;\n",
       "    }\n",
       "</style>\n",
       "<table border=\"1\" class=\"dataframe\">\n",
       "  <thead>\n",
       "    <tr style=\"text-align: right;\">\n",
       "      <th></th>\n",
       "      <th>Total</th>\n",
       "    </tr>\n",
       "    <tr>\n",
       "      <th>Date</th>\n",
       "      <th></th>\n",
       "    </tr>\n",
       "  </thead>\n",
       "  <tbody>\n",
       "    <tr>\n",
       "      <th>2022-08-01 00:00:00</th>\n",
       "      <td>23.0</td>\n",
       "    </tr>\n",
       "    <tr>\n",
       "      <th>2022-08-01 01:00:00</th>\n",
       "      <td>12.0</td>\n",
       "    </tr>\n",
       "    <tr>\n",
       "      <th>2022-08-01 02:00:00</th>\n",
       "      <td>3.0</td>\n",
       "    </tr>\n",
       "    <tr>\n",
       "      <th>2022-08-01 03:00:00</th>\n",
       "      <td>5.0</td>\n",
       "    </tr>\n",
       "    <tr>\n",
       "      <th>2022-08-01 04:00:00</th>\n",
       "      <td>10.0</td>\n",
       "    </tr>\n",
       "    <tr>\n",
       "      <th>...</th>\n",
       "      <td>...</td>\n",
       "    </tr>\n",
       "    <tr>\n",
       "      <th>2023-08-31 19:00:00</th>\n",
       "      <td>224.0</td>\n",
       "    </tr>\n",
       "    <tr>\n",
       "      <th>2023-08-31 20:00:00</th>\n",
       "      <td>142.0</td>\n",
       "    </tr>\n",
       "    <tr>\n",
       "      <th>2023-08-31 21:00:00</th>\n",
       "      <td>67.0</td>\n",
       "    </tr>\n",
       "    <tr>\n",
       "      <th>2023-08-31 22:00:00</th>\n",
       "      <td>43.0</td>\n",
       "    </tr>\n",
       "    <tr>\n",
       "      <th>2023-08-31 23:00:00</th>\n",
       "      <td>12.0</td>\n",
       "    </tr>\n",
       "  </tbody>\n",
       "</table>\n",
       "<p>95640 rows × 1 columns</p>\n",
       "</div>"
      ],
      "text/plain": [
       "                     Total\n",
       "Date                      \n",
       "2022-08-01 00:00:00   23.0\n",
       "2022-08-01 01:00:00   12.0\n",
       "2022-08-01 02:00:00    3.0\n",
       "2022-08-01 03:00:00    5.0\n",
       "2022-08-01 04:00:00   10.0\n",
       "...                    ...\n",
       "2023-08-31 19:00:00  224.0\n",
       "2023-08-31 20:00:00  142.0\n",
       "2023-08-31 21:00:00   67.0\n",
       "2023-08-31 22:00:00   43.0\n",
       "2023-08-31 23:00:00   12.0\n",
       "\n",
       "[95640 rows x 1 columns]"
      ]
     },
     "execution_count": 134,
     "metadata": {},
     "output_type": "execute_result"
    }
   ],
   "source": [
    "data.columns = [\"Total\", \"East\", \"West\"]\n",
    "data.drop(\"East\", axis=\"columns\", inplace=True)\n",
    "data.drop(\"West\", axis=\"columns\", inplace=True)\n",
    "data"
   ]
  },
  {
   "cell_type": "markdown",
   "id": "0865c687",
   "metadata": {},
   "source": [
    "Marking at the data we can definitely see Covid19 but also some seasonal variations"
   ]
  },
  {
   "cell_type": "code",
   "execution_count": 135,
   "id": "529f6065",
   "metadata": {},
   "outputs": [
    {
     "data": {
      "image/png": "[encoded data removed]",
      "text/plain": [
       "<Figure size 640x480 with 1 Axes>"
      ]
     },
     "metadata": {},
     "output_type": "display_data"
    }
   ],
   "source": [
    "data.plot()\n",
    "plt.ylabel(\"Hourly Bicycle Count\");  # NOTE: that hour data is for every hour"
   ]
  },
  {
   "cell_type": "markdown",
   "id": "afbc6ec4",
   "metadata": {},
   "source": [
    "We can downsample the signal to reveal the variations within year better. Below we downsample to **W**eeks"
   ]
  },
  {
   "cell_type": "code",
   "execution_count": 136,
   "id": "9196ba6c",
   "metadata": {},
   "outputs": [
    {
     "data": {
      "text/plain": [
       "DatetimeIndex(['2012-10-07', '2012-10-14', '2012-10-21', '2012-10-28',\n",
       "               '2012-11-04', '2012-11-11', '2012-11-18', '2012-11-25',\n",
       "               '2012-12-02', '2012-12-09',\n",
       "               ...\n",
       "               '2023-07-02', '2023-07-09', '2023-07-16', '2023-07-23',\n",
       "               '2023-07-30', '2023-08-06', '2023-08-13', '2023-08-20',\n",
       "               '2023-08-27', '2023-09-03'],\n",
       "              dtype='datetime64[ns]', name='Date', length=570, freq='W-SUN')"
      ]
     },
     "execution_count": 136,
     "metadata": {},
     "output_type": "execute_result"
    }
   ],
   "source": [
    "weekly = data.resample(\"W\").sum()\n",
    "# Confirmation\n",
    "weekly.index"
   ]
  },
  {
   "cell_type": "code",
   "execution_count": 137,
   "id": "ca7a3284",
   "metadata": {},
   "outputs": [
    {
     "data": {
      "text/plain": [
       "Date\n",
       "2012-10-07    40\n",
       "2012-10-14    41\n",
       "2012-10-21    42\n",
       "2012-10-28    43\n",
       "2012-11-04    44\n",
       "              ..\n",
       "2023-08-06    31\n",
       "2023-08-13    32\n",
       "2023-08-20    33\n",
       "2023-08-27    34\n",
       "2023-09-03    35\n",
       "Freq: W-SUN, Name: week, Length: 570, dtype: UInt32"
      ]
     },
     "execution_count": 137,
     "metadata": {},
     "output_type": "execute_result"
    }
   ],
   "source": [
    "# And again\n",
    "weekly.index.isocalendar().week"
   ]
  },
  {
   "cell_type": "code",
   "execution_count": 138,
   "id": "c9c78958",
   "metadata": {},
   "outputs": [
    {
     "data": {
      "image/png": "[encoded data removed]",
      "text/plain": [
       "<Figure size 640x480 with 1 Axes>"
      ]
     },
     "metadata": {},
     "output_type": "display_data"
    }
   ],
   "source": [
    "weekly.plot(style=[\"-\"])\n",
    "plt.ylabel(\"Weekly bicycle count\");"
   ]
  },
  {
   "cell_type": "markdown",
   "id": "1ed7e2ab",
   "metadata": {},
   "source": [
    "Recall that having time series as index enables many convience functions. For example, we can group/bin data time points by hour and reduce on the subindices giving hous an hourly mean bike usage. It appears to correlate well with rush hours."
   ]
  },
  {
   "cell_type": "code",
   "execution_count": 139,
   "id": "f9c026f0",
   "metadata": {},
   "outputs": [
    {
     "data": {
      "image/png": "[encoded data removed]",
      "text/plain": [
       "<Figure size 640x480 with 1 Axes>"
      ]
     },
     "metadata": {},
     "output_type": "display_data"
    }
   ],
   "source": [
    "by_time = data.groupby(data.index.time).mean()\n",
    "hourly_ticks = 4 * 60 * 60 * np.arange(6)  # 3600 * 24, every 4 hour\n",
    "by_time.plot(xticks=hourly_ticks, style=[\"-\"]);"
   ]
  },
  {
   "cell_type": "markdown",
   "id": "7e98d863",
   "metadata": {},
   "source": [
    "We can repeat the same exercise, this time breaking up the data by hours to reveal that bikes are probably most used for commuting to work"
   ]
  },
  {
   "cell_type": "code",
   "execution_count": 140,
   "id": "c6aef6b5",
   "metadata": {},
   "outputs": [
    {
     "data": {
      "image/png": "[encoded data removed]",
      "text/plain": [
       "<Figure size 640x480 with 1 Axes>"
      ]
     },
     "metadata": {},
     "output_type": "display_data"
    }
   ],
   "source": [
    "by_weekday = data.groupby(data.index.dayofweek).mean()\n",
    "by_weekday.index = [\"Mon\", \"Tues\", \"Wed\", \"Thurs\", \"Fri\", \"Sat\", \"Sun\"]\n",
    "by_weekday.plot(style=[\"-\"]);"
   ]
  },
  {
   "cell_type": "markdown",
   "id": "f682ace3",
   "metadata": {},
   "source": [
    "Another look at the same thing using `pivot_table`"
   ]
  },
  {
   "cell_type": "code",
   "execution_count": 141,
   "id": "41d6b5be",
   "metadata": {},
   "outputs": [
    {
     "data": {
      "text/plain": [
       "<matplotlib.colorbar.Colorbar at 0x7f8a46820460>"
      ]
     },
     "execution_count": 141,
     "metadata": {},
     "output_type": "execute_result"
    },
    {
     "data": {
      "image/png": "[encoded data removed]",
      "text/plain": [
       "<Figure size 640x480 with 2 Axes>"
      ]
     },
     "metadata": {},
     "output_type": "display_data"
    }
   ],
   "source": [
    "import matplotlib.colors as colors\n",
    "\n",
    "Z = data.pivot_table(\n",
    "    \"Total\", index=data.index.weekday, columns=[data.index.time]\n",
    ").values\n",
    "\n",
    "plt.pcolor(Z, norm=colors.LogNorm(vmin=Z.min(), vmax=Z.max()), cmap=\"inferno\")\n",
    "plt.colorbar()"
   ]
  },
  {
   "cell_type": "markdown",
   "id": "cdaa283b",
   "metadata": {},
   "source": [
    "The heatmap suggests that there are 2 peaks in weekdays and a single one during the weekend. We can varify this by essentially \n",
    "collapsing/averaging the plot in the vertical direction separately for the two categories of days. Let's compute the mask for each day in the series"
   ]
  },
  {
   "cell_type": "code",
   "execution_count": 142,
   "id": "b9c8ee9c",
   "metadata": {},
   "outputs": [],
   "source": [
    "weekend = np.where(data.index.weekday < 5, \"Weekday\", \"Weekend\")"
   ]
  },
  {
   "cell_type": "markdown",
   "id": "757a2809",
   "metadata": {},
   "source": [
    "Using the mask we can group the data first by the day catogory and then by hours"
   ]
  },
  {
   "cell_type": "code",
   "execution_count": 143,
   "id": "27c47eaf",
   "metadata": {},
   "outputs": [
    {
     "data": {
      "text/plain": [
       "MultiIndex([('Weekday', 00:00:00),\n",
       "            ('Weekday', 01:00:00),\n",
       "            ('Weekday', 02:00:00),\n",
       "            ('Weekday', 03:00:00)],\n",
       "           )"
      ]
     },
     "execution_count": 143,
     "metadata": {},
     "output_type": "execute_result"
    }
   ],
   "source": [
    "by_time = data.groupby([weekend, data.index.time]).mean()\n",
    "by_time.index[:4]"
   ]
  },
  {
   "cell_type": "markdown",
   "id": "acb693ca",
   "metadata": {},
   "source": [
    "Finally we have the two collapsed plots"
   ]
  },
  {
   "cell_type": "code",
   "execution_count": 144,
   "id": "56e83222",
   "metadata": {},
   "outputs": [
    {
     "data": {
      "image/png": "[encoded data removed]",
      "text/plain": [
       "<Figure size 1400x500 with 2 Axes>"
      ]
     },
     "metadata": {},
     "output_type": "display_data"
    }
   ],
   "source": [
    "import matplotlib.pyplot as plt\n",
    "\n",
    "fig, ax = plt.subplots(1, 2, figsize=(14, 5))\n",
    "by_time.loc[\"Weekday\"].plot(\n",
    "    ax=ax[0], title=\"Weekdays\", xticks=hourly_ticks, style=[\"-\"]\n",
    ")\n",
    "by_time.loc[\"Weekend\"].plot(\n",
    "    ax=ax[1], title=\"Weekends\", xticks=hourly_ticks, style=[\"-\"], color=\"red\"\n",
    ");"
   ]
  },
  {
   "cell_type": "markdown",
   "id": "f10edfc2",
   "metadata": {},
   "source": [
    "__Question__: Head on to [Oslo Bysykkel web](https://oslobysykkel.no/apne-data/historisk) and get the trip data (as CSV). In the last years the students analyzed the trips by distance (see the IN3110 course webpage). What about the distribution of trips by the average speed? Can you use this to infer if the trip was going (on average) uphill or downhill?"
   ]
  },
  {
   "cell_type": "code",
   "execution_count": 145,
   "id": "e096c48f",
   "metadata": {},
   "outputs": [
    {
     "data": {
      "text/plain": [
       "PosixPath('data/oslo_bike_2022_09.csv')"
      ]
     },
     "execution_count": 145,
     "metadata": {},
     "output_type": "execute_result"
    }
   ],
   "source": [
    "bike_csv = \"./data/oslo_bike_2022_09.csv\"\n",
    "download_file(\n",
    "    bike_csv, url=\"https://data.urbansharing.com/oslobysykkel.no/trips/v1/2022/09.csv\"\n",
    ")"
   ]
  },
  {
   "cell_type": "code",
   "execution_count": 146,
   "id": "056b66fa",
   "metadata": {},
   "outputs": [
    {
     "name": "stdout",
     "output_type": "stream",
     "text": [
      "started_at,ended_at,duration,start_station_id,start_station_name,start_station_description,start_station_latitude,start_station_longitude,end_station_id,end_station_name,end_station_description,end_station_latitude,end_station_longitude\n",
      "2022-09-01 03:04:31.178000+00:00,2022-09-01 03:13:01.298000+00:00,510,437,Sentrum Scene,ved Arbeidersamfunnets plass,59.91546786564256,10.751140873016311,583,Galgeberg,langs St. Halvards gate,59.90707579234818,10.779164402446728\n"
     ]
    }
   ],
   "source": [
    "with open(bike_csv) as f:\n",
    "    print(next(f).strip())\n",
    "    print(next(f).strip())"
   ]
  },
  {
   "cell_type": "markdown",
   "id": "b1df46ea",
   "metadata": {},
   "source": [
    "At this point we know that time info should be parsed with dates. For duration (in seconds) we will have ints"
   ]
  },
  {
   "cell_type": "code",
   "execution_count": 147,
   "id": "b37f6b45",
   "metadata": {
    "scrolled": true
   },
   "outputs": [
    {
     "data": {
      "text/html": [
       "<div>\n",
       "<style scoped>\n",
       "    .dataframe tbody tr th:only-of-type {\n",
       "        vertical-align: middle;\n",
       "    }\n",
       "\n",
       "    .dataframe tbody tr th {\n",
       "        vertical-align: top;\n",
       "    }\n",
       "\n",
       "    .dataframe thead th {\n",
       "        text-align: right;\n",
       "    }\n",
       "</style>\n",
       "<table border=\"1\" class=\"dataframe\">\n",
       "  <thead>\n",
       "    <tr style=\"text-align: right;\">\n",
       "      <th></th>\n",
       "      <th>started_at</th>\n",
       "      <th>ended_at</th>\n",
       "      <th>duration</th>\n",
       "      <th>start_station_id</th>\n",
       "      <th>start_station_name</th>\n",
       "      <th>start_station_description</th>\n",
       "      <th>start_station_latitude</th>\n",
       "      <th>start_station_longitude</th>\n",
       "      <th>end_station_id</th>\n",
       "      <th>end_station_name</th>\n",
       "      <th>end_station_description</th>\n",
       "      <th>end_station_latitude</th>\n",
       "      <th>end_station_longitude</th>\n",
       "    </tr>\n",
       "  </thead>\n",
       "  <tbody>\n",
       "    <tr>\n",
       "      <th>0</th>\n",
       "      <td>2022-09-01 03:04:31.178000+00:00</td>\n",
       "      <td>2022-09-01 03:13:01.298000+00:00</td>\n",
       "      <td>510</td>\n",
       "      <td>437</td>\n",
       "      <td>Sentrum Scene</td>\n",
       "      <td>ved Arbeidersamfunnets plass</td>\n",
       "      <td>59.915468</td>\n",
       "      <td>10.751141</td>\n",
       "      <td>583</td>\n",
       "      <td>Galgeberg</td>\n",
       "      <td>langs St. Halvards gate</td>\n",
       "      <td>59.907076</td>\n",
       "      <td>10.779164</td>\n",
       "    </tr>\n",
       "    <tr>\n",
       "      <th>1</th>\n",
       "      <td>2022-09-01 03:11:09.104000+00:00</td>\n",
       "      <td>2022-09-01 03:14:52.506000+00:00</td>\n",
       "      <td>223</td>\n",
       "      <td>578</td>\n",
       "      <td>Hallings gate</td>\n",
       "      <td>langs Dalsbergstien</td>\n",
       "      <td>59.922777</td>\n",
       "      <td>10.738655</td>\n",
       "      <td>499</td>\n",
       "      <td>Bjerregaards gate</td>\n",
       "      <td>ovenfor Fredrikke Qvams gate</td>\n",
       "      <td>59.925488</td>\n",
       "      <td>10.746058</td>\n",
       "    </tr>\n",
       "    <tr>\n",
       "      <th>2</th>\n",
       "      <td>2022-09-01 03:11:37.861000+00:00</td>\n",
       "      <td>2022-09-01 03:23:23.939000+00:00</td>\n",
       "      <td>706</td>\n",
       "      <td>421</td>\n",
       "      <td>Alexander Kiellands Plass</td>\n",
       "      <td>langs Maridalsveien</td>\n",
       "      <td>59.928067</td>\n",
       "      <td>10.751203</td>\n",
       "      <td>390</td>\n",
       "      <td>Saga Kino</td>\n",
       "      <td>langs Olav Vs gate</td>\n",
       "      <td>59.914240</td>\n",
       "      <td>10.732771</td>\n",
       "    </tr>\n",
       "    <tr>\n",
       "      <th>3</th>\n",
       "      <td>2022-09-01 03:13:00.843000+00:00</td>\n",
       "      <td>2022-09-01 03:17:17.639000+00:00</td>\n",
       "      <td>256</td>\n",
       "      <td>735</td>\n",
       "      <td>Oslo Hospital</td>\n",
       "      <td>ved trikkestoppet</td>\n",
       "      <td>59.903213</td>\n",
       "      <td>10.767344</td>\n",
       "      <td>465</td>\n",
       "      <td>Bjørvika</td>\n",
       "      <td>under broen Nylandsveien</td>\n",
       "      <td>59.909006</td>\n",
       "      <td>10.756180</td>\n",
       "    </tr>\n",
       "    <tr>\n",
       "      <th>4</th>\n",
       "      <td>2022-09-01 03:13:13.330000+00:00</td>\n",
       "      <td>2022-09-01 03:24:15.758000+00:00</td>\n",
       "      <td>662</td>\n",
       "      <td>525</td>\n",
       "      <td>Myraløkka Øst</td>\n",
       "      <td>ved Bentsenbrua</td>\n",
       "      <td>59.937205</td>\n",
       "      <td>10.760581</td>\n",
       "      <td>443</td>\n",
       "      <td>Sjøsiden ved trappen</td>\n",
       "      <td>Oslo S</td>\n",
       "      <td>59.910154</td>\n",
       "      <td>10.751981</td>\n",
       "    </tr>\n",
       "  </tbody>\n",
       "</table>\n",
       "</div>"
      ],
      "text/plain": [
       "                         started_at                          ended_at  \\\n",
       "0  2022-09-01 03:04:31.178000+00:00  2022-09-01 03:13:01.298000+00:00   \n",
       "1  2022-09-01 03:11:09.104000+00:00  2022-09-01 03:14:52.506000+00:00   \n",
       "2  2022-09-01 03:11:37.861000+00:00  2022-09-01 03:23:23.939000+00:00   \n",
       "3  2022-09-01 03:13:00.843000+00:00  2022-09-01 03:17:17.639000+00:00   \n",
       "4  2022-09-01 03:13:13.330000+00:00  2022-09-01 03:24:15.758000+00:00   \n",
       "\n",
       "   duration  start_station_id         start_station_name  \\\n",
       "0       510               437              Sentrum Scene   \n",
       "1       223               578              Hallings gate   \n",
       "2       706               421  Alexander Kiellands Plass   \n",
       "3       256               735              Oslo Hospital   \n",
       "4       662               525              Myraløkka Øst   \n",
       "\n",
       "      start_station_description  start_station_latitude  \\\n",
       "0  ved Arbeidersamfunnets plass               59.915468   \n",
       "1           langs Dalsbergstien               59.922777   \n",
       "2           langs Maridalsveien               59.928067   \n",
       "3             ved trikkestoppet               59.903213   \n",
       "4               ved Bentsenbrua               59.937205   \n",
       "\n",
       "   start_station_longitude  end_station_id      end_station_name  \\\n",
       "0                10.751141             583             Galgeberg   \n",
       "1                10.738655             499     Bjerregaards gate   \n",
       "2                10.751203             390             Saga Kino   \n",
       "3                10.767344             465              Bjørvika   \n",
       "4                10.760581             443  Sjøsiden ved trappen   \n",
       "\n",
       "        end_station_description  end_station_latitude  end_station_longitude  \n",
       "0       langs St. Halvards gate             59.907076              10.779164  \n",
       "1  ovenfor Fredrikke Qvams gate             59.925488              10.746058  \n",
       "2            langs Olav Vs gate             59.914240              10.732771  \n",
       "3      under broen Nylandsveien             59.909006              10.756180  \n",
       "4                        Oslo S             59.910154              10.751981  "
      ]
     },
     "execution_count": 147,
     "metadata": {},
     "output_type": "execute_result"
    }
   ],
   "source": [
    "data = pd.read_csv(\n",
    "    bike_csv,\n",
    "    parse_dates=[\"started_at\", \"ended_at\"],\n",
    "    dtype={\"duration\": int},\n",
    ")\n",
    "data.head(5)"
   ]
  },
  {
   "cell_type": "markdown",
   "id": "4221f55d",
   "metadata": {},
   "source": [
    "What is the station with most departures?"
   ]
  },
  {
   "cell_type": "code",
   "execution_count": 148,
   "id": "05dfbe51",
   "metadata": {},
   "outputs": [
    {
     "data": {
      "text/plain": [
       "start_station_id\n",
       "421     2133\n",
       "1755    2079\n",
       "480     1984\n",
       "398     1970\n",
       "551     1918\n",
       "        ... \n",
       "591       84\n",
       "1919      74\n",
       "454       72\n",
       "560       58\n",
       "573       44\n",
       "Name: count, Length: 263, dtype: int64"
      ]
     },
     "execution_count": 148,
     "metadata": {},
     "output_type": "execute_result"
    }
   ],
   "source": [
    "data[\"start_station_id\"].value_counts().sort_values(ascending=False)"
   ]
  },
  {
   "cell_type": "markdown",
   "id": "74ac5ac0",
   "metadata": {},
   "source": [
    "We will approximate the trip distance by measing it as the geodesic between start and end points."
   ]
  },
  {
   "cell_type": "code",
   "execution_count": 149,
   "id": "2fe70d1e",
   "metadata": {},
   "outputs": [],
   "source": [
    "from math import asin, cos, pi, sin, sqrt\n",
    "\n",
    "\n",
    "def trip_distance(row):\n",
    "    \"\"\"As the crow flies\"\"\"\n",
    "    lat_station = row[\"start_station_latitude\"]\n",
    "    lon_station = row[\"start_station_longitude\"]\n",
    "\n",
    "    lat_sentrum = row[\"end_station_latitude\"]\n",
    "    lon_sentrum = row[\"end_station_longitude\"]\n",
    "\n",
    "    degrees = pi / 180  # convert degrees to radians\n",
    "    a = (\n",
    "        0.5\n",
    "        - (cos((lat_sentrum - lat_station) * degrees) / 2)\n",
    "        + (\n",
    "            cos(lat_sentrum * degrees)\n",
    "            * cos(lat_station * degrees)\n",
    "            * (1 - cos((lon_station - lon_sentrum) * degrees))\n",
    "            / 2\n",
    "        )\n",
    "    )\n",
    "    # We have the return value in meters\n",
    "    return 12742_000 * asin(sqrt(a))  # 2 * R * asin...\n",
    "\n",
    "\n",
    "distance = data.apply(trip_distance, axis=\"columns\")"
   ]
  },
  {
   "cell_type": "code",
   "execution_count": 150,
   "id": "246782f4",
   "metadata": {},
   "outputs": [],
   "source": [
    "duration = data[\"duration\"]\n",
    "speed = distance / duration"
   ]
  },
  {
   "cell_type": "code",
   "execution_count": 151,
   "id": "635a820f",
   "metadata": {
    "scrolled": true
   },
   "outputs": [
    {
     "data": {
      "text/plain": [
       "<AxesSubplot: >"
      ]
     },
     "execution_count": 151,
     "metadata": {},
     "output_type": "execute_result"
    },
    {
     "data": {
      "image/png": "[encoded data removed]",
      "text/plain": [
       "<Figure size 640x480 with 1 Axes>"
      ]
     },
     "metadata": {},
     "output_type": "display_data"
    }
   ],
   "source": [
    "speed.hist()"
   ]
  },
  {
   "cell_type": "markdown",
   "id": "4c6c2f45",
   "metadata": {},
   "source": [
    "__Bonus__: Visualization"
   ]
  },
  {
   "cell_type": "code",
   "execution_count": 152,
   "id": "d5dafa9d",
   "metadata": {
    "collapsed": true
   },
   "outputs": [
    {
     "data": {
      "text/plain": [
       "start_station_id\n",
       "377     None\n",
       "378     None\n",
       "380     None\n",
       "381     None\n",
       "382     None\n",
       "        ... \n",
       "2340    None\n",
       "2347    None\n",
       "2349    None\n",
       "2350    None\n",
       "2351    None\n",
       "Length: 263, dtype: object"
      ]
     },
     "execution_count": 152,
     "metadata": {},
     "output_type": "execute_result"
    }
   ],
   "source": [
    "from ipyleaflet import Circle, Map, Marker, Polyline, basemap_to_tiles, basemaps\n",
    "from ipywidgets import HTML\n",
    "\n",
    "trip_csv = \"./data/oslo_bike_2022_09.csv\"\n",
    "trips = pd.read_csv(trip_csv)\n",
    "station_data = trips.groupby(\n",
    "    [\n",
    "        \"start_station_id\",\n",
    "        \"start_station_longitude\",\n",
    "        \"start_station_latitude\",\n",
    "        \"start_station_name\",\n",
    "    ]\n",
    ").count()\n",
    "station_data = station_data.reset_index()\n",
    "station_data = station_data.drop(columns=station_data.columns[-7:])\n",
    "station_data = station_data.rename(columns={\"started_at\": \"started_trips\"})\n",
    "station_data = station_data.set_index(\"start_station_id\")\n",
    "station_data[\"ended_trips\"] = trips[\"end_station_id\"].value_counts()\n",
    "\n",
    "oslo_center = (\n",
    "    59.9127,\n",
    "    10.7461,\n",
    ")  # NB ipyleaflet uses Lat-Long (i.e. y,x, when specifying coordinates)\n",
    "oslo_map = Map(center=oslo_center, zoom=13, close_popup_on_click=False)\n",
    "\n",
    "def add_markers(row):\n",
    "    center = row[\"start_station_latitude\"], row[\"start_station_longitude\"]\n",
    "    marker = Marker(\n",
    "        location=center\n",
    "    )\n",
    "    marker2 = Circle(\n",
    "        location=center, radius=int(0.04 * row[\"ended_trips\"]), color=\"red\"\n",
    "    )\n",
    "\n",
    "    message = HTML()\n",
    "    message.value = f\"{row['start_station_name']} <br> Trips started: {row['started_trips']}\"\n",
    "    \n",
    "    marker.popup = message\n",
    "    oslo_map.add_layer(marker)\n",
    "    oslo_map.add_layer(marker2)\n",
    "\n",
    "\n",
    "station_data.apply(add_markers, axis=1)"
   ]
  },
  {
   "cell_type": "code",
   "execution_count": 153,
   "id": "55e56da1",
   "metadata": {},
   "outputs": [
    {
     "data": {
      "application/vnd.jupyter.widget-view+json": {
       "model_id": "7ce7c8b5696541d6bdccde6c1d86ad4a",
       "version_major": 2,
       "version_minor": 0
      },
      "text/plain": [
       "Map(center=[59.9127, 10.7461], close_popup_on_click=False, controls=(ZoomControl(options=['position', 'zoom_in…"
      ]
     },
     "metadata": {},
     "output_type": "display_data"
    }
   ],
   "source": [
    "oslo_map"
   ]
  }
 ],
 "metadata": {
  "kernelspec": {
   "display_name": "Python 3 (ipykernel)",
   "language": "python",
   "name": "python3"
  },
  "language_info": {
   "codemirror_mode": {
    "name": "ipython",
    "version": 3
   },
   "file_extension": ".py",
   "mimetype": "text/x-python",
   "name": "python",
   "nbconvert_exporter": "python",
   "pygments_lexer": "ipython3",
   "version": "3.9.15"
  }
 },
 "nbformat": 4,
 "nbformat_minor": 5
}
