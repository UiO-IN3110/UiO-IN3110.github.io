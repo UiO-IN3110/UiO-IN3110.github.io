{
 "cells": [
  {
   "cell_type": "markdown",
   "id": "b1756e40",
   "metadata": {
    "editable": true,
    "slideshow": {
     "slide_type": ""
    },
    "tags": []
   },
   "source": [
    "# Text processing with regular expressions"
   ]
  },
  {
   "cell_type": "markdown",
   "id": "50416bc9-8c43-4ed8-b12a-c04047e503e0",
   "metadata": {
    "editable": false,
    "slideshow": {
     "slide_type": "notes"
    },
    "tags": []
   },
   "source": [
    "In this lecture we will discuss extracting information from strings/pieces of text.\n",
    "By information we mean here a substring which satisfies certain specifications, e.g. it represents a number or valid email address.\n",
    "We will see that this task can sometimes get quickly out of hand - capturing all the corner cases will lead to code which maybe hard to read and maintain.\n",
    "This is where _regular expressions_ will enter the stage to save the day. "
   ]
  },
  {
   "cell_type": "markdown",
   "id": "9c8e598d",
   "metadata": {
    "editable": true,
    "slideshow": {
     "slide_type": "slide"
    },
    "tags": []
   },
   "source": [
    "## String methods\n",
    "\n",
    "Recall the previously seen methods of `str` objects\n",
    "```python\n",
    "str.find\n",
    "str.index\n",
    "str.count\n",
    "str.replace\n",
    "str.split\n",
    "```\n",
    "which are suitable for working with specifications given by fixed characters."
   ]
  },
  {
   "cell_type": "code",
   "execution_count": 18,
   "id": "01677a85-4255-4811-a5d3-762a40c0cf97",
   "metadata": {
    "editable": true,
    "slideshow": {
     "slide_type": ""
    },
    "tags": []
   },
   "outputs": [],
   "source": [
    "filename = \"test.txt\""
   ]
  },
  {
   "cell_type": "code",
   "execution_count": 13,
   "id": "9cc72cd9-c7fe-44fe-b559-da3fa215459c",
   "metadata": {
    "editable": true,
    "slideshow": {
     "slide_type": ""
    },
    "tags": []
   },
   "outputs": [
    {
     "name": "stdout",
     "output_type": "stream",
     "text": [
      "filename[start_pos:]='txt'\n",
      "filename.count('t')=4\n"
     ]
    }
   ],
   "source": [
    "start_pos = filename.find(\"txt\")\n",
    "print(f\"{filename[start_pos:]=}\")\n",
    "print(f\"{filename.count('t')=}\")"
   ]
  },
  {
   "cell_type": "markdown",
   "id": "53c1d6a6-377b-440d-9567-38703629c53a",
   "metadata": {
    "editable": true,
    "slideshow": {
     "slide_type": "slide"
    },
    "tags": []
   },
   "source": [
    "## Split filename by extension\n",
    "For example, a simple re-implementation of `os.path.splitext` could read"
   ]
  },
  {
   "cell_type": "code",
   "execution_count": 19,
   "id": "fe5647c3-ce1a-4d4c-b2fc-75c8a66a6793",
   "metadata": {
    "editable": true,
    "slideshow": {
     "slide_type": ""
    },
    "tags": []
   },
   "outputs": [
    {
     "name": "stdout",
     "output_type": "stream",
     "text": [
      "('test', '.txt')\n"
     ]
    }
   ],
   "source": [
    "import os\n",
    "print(os.path.splitext(filename))"
   ]
  },
  {
   "cell_type": "code",
   "execution_count": 25,
   "id": "71c39f54-ecc9-45f4-a75d-ea060475f3ab",
   "metadata": {
    "editable": true,
    "slideshow": {
     "slide_type": ""
    },
    "tags": []
   },
   "outputs": [
    {
     "name": "stdout",
     "output_type": "stream",
     "text": [
      "['test', 'tar', 'gz']\n",
      "('test.tar', '.gz')\n"
     ]
    }
   ],
   "source": [
    "other_file = \"test.tar.gz\"\n",
    "print(other_file.split(\".\"))\n",
    "print(os.path.splitext(other_file))"
   ]
  },
  {
   "cell_type": "markdown",
   "id": "cef9e4e5-1a0a-4842-afb4-07dca84ba739",
   "metadata": {
    "editable": true,
    "slideshow": {
     "slide_type": ""
    },
    "tags": []
   },
   "source": [
    "Let us implement the split-extension ourself"
   ]
  },
  {
   "cell_type": "code",
   "execution_count": 41,
   "id": "d597f86b",
   "metadata": {
    "editable": true,
    "slideshow": {
     "slide_type": ""
    },
    "tags": []
   },
   "outputs": [],
   "source": [
    "def splitext(path: str) -> tuple[str, str]:\n",
    "    \"\"\"Naive implementation of split extension in os.path\"\"\"\n",
    "    extension_separator = \".\" # Could use machine default with `os.extsep`\n",
    "    if path.count(extension_separator) == 0:\n",
    "        return path, \"\"\n",
    "    *noext, ext = path.split(\".\") # Could also use `os.extsep` here\n",
    "    return (\"\".join(noext), f\".{ext}\")"
   ]
  },
  {
   "cell_type": "code",
   "execution_count": 42,
   "id": "9748613d-f667-4077-a239-bf8724fe7a31",
   "metadata": {
    "editable": true,
    "slideshow": {
     "slide_type": "fragment"
    },
    "tags": []
   },
   "outputs": [
    {
     "name": "stdout",
     "output_type": "stream",
     "text": [
      "('foo_bar', '')  ('foo_bar', '')\n",
      "('foo', '.bar')  ('foo', '.bar')\n",
      "('foobar', '.txt')  ('foo.bar', '.txt')\n"
     ]
    }
   ],
   "source": [
    "for path in [\"foo_bar\", \"foo.bar\", \"foo.bar.txt\"]:\n",
    "    print(f\"{splitext(path)}  {os.path.splitext(path)}\")"
   ]
  },
  {
   "cell_type": "markdown",
   "id": "6c65560d-5fa2-4c5c-b331-692ffb7b20dd",
   "metadata": {
    "editable": true,
    "slideshow": {
     "slide_type": ""
    },
    "tags": []
   },
   "source": [
    "As we can see, this didn't quite work out as we didn't take into account that we could have multiple extensions"
   ]
  },
  {
   "cell_type": "markdown",
   "id": "0db77b76",
   "metadata": {
    "editable": true,
    "slideshow": {
     "slide_type": "slide"
    },
    "tags": []
   },
   "source": [
    "### What is a number?"
   ]
  },
  {
   "cell_type": "markdown",
   "id": "5b62bbba-927e-4941-8cbf-87ae507d1a33",
   "metadata": {
    "editable": true,
    "slideshow": {
     "slide_type": "notes"
    },
    "tags": []
   },
   "source": [
    "What if the specifications are not as easy to define? In the following we will attempt to write a fuction which returns a list of numbers contained in a string. Before finding many we shold be able to find just one."
   ]
  },
  {
   "cell_type": "code",
   "execution_count": 45,
   "id": "3ac5d237",
   "metadata": {
    "editable": true,
    "slideshow": {
     "slide_type": ""
    },
    "tags": []
   },
   "outputs": [
    {
     "name": "stdout",
     "output_type": "stream",
     "text": [
      "Is '123a' a digit? Answer: False\n",
      "Is '123' a digit? Answer: True\n"
     ]
    }
   ],
   "source": [
    "# Our first definition motivated by integers\n",
    "\n",
    "\n",
    "def only_digits(string):\n",
    "    \"\"\"\n",
    "    Check if a string only consists of digits\n",
    "    \"\"\"\n",
    "    if set(string) <= {\"0\", \"1\", \"2\", \"3\", \"4\", \"5\", \"6\", \"7\", \"8\", \"9\"}:\n",
    "        return True\n",
    "    return False\n",
    "\n",
    "for string in [\"123a\", \"123\"]:\n",
    "    print(f\"Is '{string}' a digit? Answer: {only_digits(string)}\")"
   ]
  },
  {
   "cell_type": "markdown",
   "id": "8739bd9e",
   "metadata": {
    "editable": true,
    "slideshow": {
     "slide_type": "slide"
    },
    "tags": []
   },
   "source": [
    "But what about negative numbers"
   ]
  },
  {
   "cell_type": "code",
   "execution_count": 3,
   "id": "ddcc4573",
   "metadata": {
    "editable": true,
    "slideshow": {
     "slide_type": ""
    },
    "tags": []
   },
   "outputs": [
    {
     "name": "stdout",
     "output_type": "stream",
     "text": [
      "True\n"
     ]
    }
   ],
   "source": [
    "def is_integer(string):\n",
    "    if len(string) == 1:\n",
    "        return only_digits(string)\n",
    "    maybe_sign, rest = string[0], string[1:]\n",
    "    if maybe_sign == \"-\" and only_digits(rest):\n",
    "        return True\n",
    "\n",
    "    return only_digits(string)\n",
    "\n",
    "\n",
    "print(is_integer(\"-123\"))"
   ]
  },
  {
   "cell_type": "markdown",
   "id": "cda5dbe7",
   "metadata": {
    "editable": true,
    "slideshow": {
     "slide_type": "slide"
    },
    "tags": []
   },
   "source": [
    "Now what about `floats`, 0.234 and scientific formating 0.234E-04. We could probably handle all these after a while but here we will settle for a different approach: a number string is that string which can be converted to a number "
   ]
  },
  {
   "cell_type": "code",
   "execution_count": 1,
   "id": "7e0d4199",
   "metadata": {
    "editable": true,
    "slideshow": {
     "slide_type": ""
    },
    "tags": []
   },
   "outputs": [
    {
     "name": "stdout",
     "output_type": "stream",
     "text": [
      "True\n"
     ]
    }
   ],
   "source": [
    "def is_number(string):\n",
    "    \"\"\"It is a number if it can be converted\"\"\"\n",
    "    try:\n",
    "        float(string)\n",
    "        return True\n",
    "    except ValueError:\n",
    "        return False\n",
    "\n",
    "\n",
    "print(is_number(-3.43e-02))"
   ]
  },
  {
   "cell_type": "markdown",
   "id": "9462a460",
   "metadata": {
    "editable": true,
    "slideshow": {
     "slide_type": "slide"
    },
    "tags": []
   },
   "source": [
    "So far we have considered strings that were either number or not. But what if the strings are more involved. For example let us consider some string encoding wind speed and temperature `'wind27temperature-32'`. We don't expect \n",
    "```python\n",
    "is_number('wind27temperature32')\n",
    "```\n",
    "to work but we could start building a solution using `is_number` in the fundations."
   ]
  },
  {
   "cell_type": "code",
   "execution_count": 2,
   "id": "6e2657be",
   "metadata": {
    "editable": true,
    "slideshow": {
     "slide_type": ""
    },
    "tags": []
   },
   "outputs": [
    {
     "data": {
      "text/plain": [
       "False"
      ]
     },
     "execution_count": 2,
     "metadata": {},
     "output_type": "execute_result"
    }
   ],
   "source": [
    "is_number(\"wind27temperature32\")"
   ]
  },
  {
   "cell_type": "code",
   "execution_count": 3,
   "id": "507c6d70",
   "metadata": {
    "editable": true,
    "slideshow": {
     "slide_type": "slide"
    },
    "tags": []
   },
   "outputs": [
    {
     "name": "stdout",
     "output_type": "stream",
     "text": [
      "['27', '32']\n",
      "['27', '42.23423']\n"
     ]
    }
   ],
   "source": [
    "def find_numbers(string: str) -> list[str]:\n",
    "    numbers = []\n",
    "    first, n = 0, len(string)\n",
    "    while first < n:\n",
    "        maybe = string[first : first + 1]\n",
    "        # If we have a number, grow it as much as possible\n",
    "        if is_number(maybe):\n",
    "            last = first\n",
    "            while last < n and is_number(string[first : last + 1]):\n",
    "                maybe = string[first : last + 1]\n",
    "                last += 1\n",
    "            numbers.append(maybe)\n",
    "            first = last\n",
    "        else:\n",
    "            first += 1\n",
    "\n",
    "    return numbers\n",
    "\n",
    "print(find_numbers(\"wind27temperature32\"))\n",
    "print(find_numbers(\"wind27temperature42.23423\"))"
   ]
  },
  {
   "cell_type": "markdown",
   "id": "9674870d",
   "metadata": {
    "editable": true,
    "slideshow": {
     "slide_type": ""
    },
    "tags": []
   },
   "source": [
    "So this looks promising but what about negative temperatures and that scientific formatting again?"
   ]
  },
  {
   "cell_type": "code",
   "execution_count": 4,
   "id": "2d6378be",
   "metadata": {
    "editable": true,
    "slideshow": {
     "slide_type": "fragment"
    },
    "tags": []
   },
   "outputs": [
    {
     "name": "stdout",
     "output_type": "stream",
     "text": [
      "['27', '42.234', '23']\n"
     ]
    }
   ],
   "source": [
    "print(find_numbers(\"wind27temperature-42.234E-23\"))"
   ]
  },
  {
   "cell_type": "markdown",
   "id": "43023a6a-f1e4-4ebd-9f37-cf02a182efe0",
   "metadata": {
    "editable": true,
    "slideshow": {
     "slide_type": ""
    },
    "tags": []
   },
   "source": [
    "Not quite what we want ... ."
   ]
  },
  {
   "cell_type": "markdown",
   "id": "018c57bc",
   "metadata": {
    "editable": true,
    "slideshow": {
     "slide_type": "fragment"
    },
    "tags": []
   },
   "source": [
    "The problem above was matching on the smallest strings so e.g. leading minus sign `-` is ignore because it is not a number on its own and we don't include 42.234E-23 because \"42.234E\" is `False` according to `is_number`. We are back to the drawing board."
   ]
  },
  {
   "cell_type": "code",
   "execution_count": 5,
   "id": "492a450d",
   "metadata": {
    "editable": true,
    "slideshow": {
     "slide_type": "slide"
    },
    "tags": []
   },
   "outputs": [],
   "source": [
    "def get_substrings(string: str)-> list[str]:\n",
    "    \"\"\"Generated substring of string order by descending size\"\"\"\n",
    "    substrings = []\n",
    "    string_length = len(string)\n",
    "    for sub_length in range(string_length - 1, 0, -1):\n",
    "        for starting_position in range(string_length + 1 - sub_length):\n",
    "            substrings.append(string[starting_position : starting_position + sub_length])\n",
    "    return substrings"
   ]
  },
  {
   "cell_type": "markdown",
   "id": "4c33a8df-b037-4e8b-9e42-fe11164ea7e2",
   "metadata": {
    "editable": true,
    "slideshow": {
     "slide_type": ""
    },
    "tags": []
   },
   "source": [
    "![Illustration of `get_substrings` algorithm](sliding_window.png)"
   ]
  },
  {
   "cell_type": "code",
   "execution_count": 6,
   "id": "bf0a63f4-8b08-4ce7-891e-b2c3ae396cb0",
   "metadata": {
    "editable": true,
    "slideshow": {
     "slide_type": ""
    },
    "tags": []
   },
   "outputs": [
    {
     "name": "stdout",
     "output_type": "stream",
     "text": [
      "['Test thi', 'est this', 'Test th', 'est thi', 'st this', 'Test t', 'est th', 'st thi', 't this', 'Test ', 'est t', 'st th', 't thi', ' this', 'Test', 'est ', 'st t', 't th', ' thi', 'this', 'Tes', 'est', 'st ', 't t', ' th', 'thi', 'his', 'Te', 'es', 'st', 't ', ' t', 'th', 'hi', 'is', 'T', 'e', 's', 't', ' ', 't', 'h', 'i', 's']\n"
     ]
    }
   ],
   "source": [
    "print(get_substrings(\"Test this\"))"
   ]
  },
  {
   "cell_type": "code",
   "execution_count": 203,
   "id": "62fd29a0-def3-4293-aea4-c4b266bd103d",
   "metadata": {
    "editable": true,
    "slideshow": {
     "slide_type": "slide"
    },
    "tags": []
   },
   "outputs": [
    {
     "name": "stdout",
     "output_type": "stream",
     "text": [
      "['-4203.234e123', '-42.234E-23', '27', '28']\n"
     ]
    }
   ],
   "source": [
    "def find_numbers1(string: str) -> list[str]:\n",
    "    \"\"\"Match from largest\"\"\"\n",
    "    if not string:\n",
    "        return []\n",
    "\n",
    "    if is_number(string):\n",
    "        return [string]\n",
    "\n",
    "    numbers = []\n",
    "    for substring in get_substrings(string):\n",
    "        # For a match we clip the string and ask for matches in the neighbors\n",
    "        if is_number(substring):\n",
    "            numbers.append(substring.strip()) # Strip removes leading and trailing whitespaces\n",
    "            # print(f\"{substring=} is a number, now checking '{string[:string.index(substring)]}' and '{string[string.index(substring)+len(substring):]}'.\")\n",
    "            numbers.extend(find_numbers1(string[: string.index(substring)]))\n",
    "            numbers.extend(\n",
    "                find_numbers1(string[string.index(substring) + len(substring) :])\n",
    "            )\n",
    "            break\n",
    "    return numbers\n",
    "\n",
    "\n",
    "#print(find_numbers1(\"wind27temperature-42.234E-23\"))\n",
    "print(find_numbers1(\"wind27temperature-42.234E-23 wind28temperature-4203.234e123\"))"
   ]
  },
  {
   "cell_type": "markdown",
   "id": "66ce60b1",
   "metadata": {
    "editable": true,
    "slideshow": {
     "slide_type": ""
    },
    "tags": []
   },
   "source": [
    "This seems to work but (while it may have been fun to write this code) you should have a feeling that [There must be a better way](https://fullstackfeed.com/there-must-be-a-better-way-raymond-hettinger-python/). \n",
    "\n",
    "__Question__: 1. Can you come of with a different/better implementation of a number extractor?"
   ]
  },
  {
   "cell_type": "markdown",
   "id": "782bd50f",
   "metadata": {
    "editable": true,
    "slideshow": {
     "slide_type": "slide"
    },
    "tags": []
   },
   "source": [
    "## Regular expressions\n",
    "\n",
    "- sequence of characters that defines a search pattern\n",
    "- the pattern is parsed/interpretted in a special way (cf. programming language)\n",
    "- they are not unique to Python, see [RegEx 101](https://regex101.com/)\n",
    "\n",
    "You have seen regexp when working with your file system"
   ]
  },
  {
   "cell_type": "code",
   "execution_count": 14,
   "id": "2c285b68",
   "metadata": {
    "editable": true,
    "slideshow": {
     "slide_type": ""
    },
    "tags": []
   },
   "outputs": [
    {
     "name": "stdout",
     "output_type": "stream",
     "text": [
      "regular-expressions.ipynb\n"
     ]
    }
   ],
   "source": [
    "# Here is an example\n",
    "%ls *.ipynb"
   ]
  },
  {
   "cell_type": "markdown",
   "id": "703ea932",
   "metadata": {
    "editable": true,
    "slideshow": {
     "slide_type": "slide"
    },
    "tags": []
   },
   "source": [
    "In Python the functionality for RegEx is provided in the [re](https://docs.python.org/3/library/re.html) module. \n",
    "\n",
    "Here we will demonstrate the basics of regex syntax using the top-level function `re.search` and return to more of the module's functions later\n",
    "```python\n",
    "import re\n",
    "re.search(pattern:str, string:str, [flags]) -> re.Match or None\n",
    "```\n",
    "Match specifies the part of string where pattern was matched"
   ]
  },
  {
   "cell_type": "code",
   "execution_count": 17,
   "id": "8927f516",
   "metadata": {
    "editable": true,
    "slideshow": {
     "slide_type": "fragment"
    },
    "tags": []
   },
   "outputs": [
    {
     "name": "stdout",
     "output_type": "stream",
     "text": [
      "<re.Match object; span=(2, 9), match='tractor'>\n",
      "<re.Match object; span=(2, 9), match='tractor'>\n",
      "None\n",
      "<re.Match object; span=(2, 9), match='Tractor'>\n"
     ]
    }
   ],
   "source": [
    "import re\n",
    "\n",
    "print(re.search(\"tractor\", \"attractor\"))  # 'tractor' in 'Attractor'.lower()\n",
    "print(re.search(\"tractor\", \"Attractor\"))\n",
    "print(re.search(\"tractor\", \"ATTractor\"))\n",
    "print(re.search(\"tractor\", \"ATTractor\", re.IGNORECASE))  # re.IGNORECASE is our first flag"
   ]
  },
  {
   "cell_type": "code",
   "execution_count": 11,
   "id": "9bb8d6cc",
   "metadata": {
    "editable": true,
    "slideshow": {
     "slide_type": "slide"
    },
    "tags": []
   },
   "outputs": [
    {
     "name": "stdout",
     "output_type": "stream",
     "text": [
      "tractor\n"
     ]
    }
   ],
   "source": [
    "pattern, string = \"tractor\", \"Attractor\"\n",
    "match = re.search(pattern, string)\n",
    "print(string[match.start() : match.end()])"
   ]
  },
  {
   "cell_type": "markdown",
   "id": "426155ba",
   "metadata": {
    "editable": true,
    "slideshow": {
     "slide_type": ""
    },
    "tags": []
   },
   "source": [
    "And so we see that \"simple words\" specify a pattern that simply matches itself. \n",
    "However, we could already do that with `str` methods. To specify more intesting \n",
    "patterns RegEx use special syntax."
   ]
  },
  {
   "cell_type": "markdown",
   "id": "5e5e5744",
   "metadata": {
    "editable": true,
    "slideshow": {
     "slide_type": "slide"
    },
    "tags": []
   },
   "source": [
    "## Metacharacters\n",
    "\n",
    "The following characters have a special meaning in defining the pattern\n",
    "```\n",
    ". ^ $ * + ? { } [ ] \\ | ( )\n",
    "```\n",
    "When one wants to match them literally they need to be escaped"
   ]
  },
  {
   "cell_type": "code",
   "execution_count": 24,
   "id": "0eee264a",
   "metadata": {
    "editable": true,
    "slideshow": {
     "slide_type": ""
    },
    "tags": []
   },
   "outputs": [],
   "source": [
    "def search_string(pattern: str, string: str)-> re.Match|None:\n",
    "    result = re.search(pattern, string)\n",
    "    if result is None:\n",
    "        print(f\"No match found for {pattern} in '{string}'\")\n",
    "    else:\n",
    "        print(f\"Found: {pattern} in '{string}'  at position [{result.start()}:{result.end()}]\")"
   ]
  },
  {
   "cell_type": "code",
   "execution_count": 41,
   "id": "7f591522-b4d3-42e9-8379-44ff06507d07",
   "metadata": {
    "editable": true,
    "slideshow": {
     "slide_type": "fragment"
    },
    "tags": []
   },
   "outputs": [
    {
     "name": "stdout",
     "output_type": "stream",
     "text": [
      "Found: ^ in '2^6'  at position [0:0]\n",
      "Found: \\^ in '2^6'  at position [1:2]\n"
     ]
    }
   ],
   "source": [
    "search_string(\"^\", \"2^6\") # We have a match?!?\n",
    "search_string(\"\\^\", \"2^6\")  # Here as expected"
   ]
  },
  {
   "cell_type": "markdown",
   "id": "3f8470b4",
   "metadata": {
    "editable": true,
    "slideshow": {
     "slide_type": "slide"
    },
    "tags": []
   },
   "source": [
    "###### Square brackets delineate a character class. Characters can be listed individually ..."
   ]
  },
  {
   "cell_type": "code",
   "execution_count": 31,
   "id": "0b34fbdb",
   "metadata": {
    "editable": true,
    "slideshow": {
     "slide_type": ""
    },
    "tags": []
   },
   "outputs": [
    {
     "name": "stdout",
     "output_type": "stream",
     "text": [
      "<re.Match object; span=(6, 7), match='e'>\n",
      "<re.Match object; span=(1, 2), match='o'>\n"
     ]
    }
   ],
   "source": [
    "print(re.search(\"[ea]\", \"long lean\"))  #  Match at e or a\n",
    "print(re.search(\"[oea]\", \"long lean\"))"
   ]
  },
  {
   "cell_type": "markdown",
   "id": "b0b28f34-0cb5-460b-9e76-6037a8d129d0",
   "metadata": {
    "editable": true,
    "slideshow": {
     "slide_type": "slide"
    },
    "tags": []
   },
   "source": [
    "`re.search` stopped once we found a first match. All matches can be found with `re.findall`.\n",
    "We can also use `find-iter to get a `re.Match`-object for each match in a string"
   ]
  },
  {
   "cell_type": "code",
   "execution_count": 33,
   "id": "087fc46b-adfb-4674-94e1-8f4605ab4682",
   "metadata": {
    "editable": true,
    "slideshow": {
     "slide_type": ""
    },
    "tags": []
   },
   "outputs": [
    {
     "name": "stdout",
     "output_type": "stream",
     "text": [
      "['o', 'e', 'a']\n",
      "<re.Match object; span=(6, 7), match='a'>\n",
      "<re.Match object; span=(11, 12), match='e'>\n",
      "<re.Match object; span=(12, 13), match='a'>\n"
     ]
    }
   ],
   "source": [
    "print(re.findall(\"[oea]\", \"long lean\"))\n",
    "all_matches = re.finditer(\"[ea]\", \"long last lean\")\n",
    "for match in all_matches:\n",
    "    print(match)"
   ]
  },
  {
   "cell_type": "markdown",
   "id": "b33a3d64",
   "metadata": {
    "editable": true,
    "slideshow": {
     "slide_type": "slide"
    },
    "tags": []
   },
   "source": [
    "We can specify character ranges (or digit ranges, and they can be combined, as shown below"
   ]
  },
  {
   "cell_type": "code",
   "execution_count": 36,
   "id": "a308e877",
   "metadata": {
    "editable": true,
    "slideshow": {
     "slide_type": ""
    },
    "tags": []
   },
   "outputs": [
    {
     "name": "stdout",
     "output_type": "stream",
     "text": [
      "['l', 'i', 'f', 'e']\n",
      "['7', 'u', 'p']\n"
     ]
    }
   ],
   "source": [
    "print([match for match in re.findall(\"[a-z]\", \"life\")])\n",
    "print([match for match in re.findall(\"[a-zA-Z0-9]\", \"____7up\")])  # Walk though here"
   ]
  },
  {
   "cell_type": "markdown",
   "id": "5a5f5d89",
   "metadata": {
    "editable": true,
    "slideshow": {
     "slide_type": "fragment"
    },
    "tags": []
   },
   "source": [
    "and complemented"
   ]
  },
  {
   "cell_type": "code",
   "execution_count": 39,
   "id": "f49e1a16",
   "metadata": {
    "editable": true,
    "slideshow": {
     "slide_type": ""
    },
    "tags": []
   },
   "outputs": [
    {
     "name": "stdout",
     "output_type": "stream",
     "text": [
      "<re.Match object; span=(1, 2), match='b'>\n",
      "<re.Match object; span=(0, 1), match='b'>\n",
      "None\n",
      "<re.Match object; span=(2, 3), match='7'>\n"
     ]
    }
   ],
   "source": [
    "print(re.search(\"[^a]\", \"abc\"))\n",
    "print(re.search(\"[^a]\", \"bc\"))\n",
    "print(re.search(\"[^a-z]\", \"life\"))\n",
    "print(re.search(\"[^a-z]\", \"up7\"))"
   ]
  },
  {
   "cell_type": "markdown",
   "id": "186bac1b",
   "metadata": {
    "editable": true,
    "slideshow": {
     "slide_type": "slide"
    },
    "tags": []
   },
   "source": [
    "Note that metacharacters (except backslash) are not active inside a character class. \n",
    "For example we have seen a match in `re.search('^', '2^6')` because `^` means (normally) the anchor for start of a string. "
   ]
  },
  {
   "cell_type": "markdown",
   "id": "377a5a78",
   "metadata": {
    "editable": true,
    "slideshow": {
     "slide_type": ""
    },
    "tags": []
   },
   "source": [
    "Backslash `\\` is another another metacharacter. We recall that `\\` has \n",
    "a special meaning in Python strings, e.g. `'\\n'`, `'\\t'` are not simply strings of 2 characters but represent carriage return/newline \n",
    "and tab respecively. To supress this beviour we will use raw string `r\"string\"`"
   ]
  },
  {
   "cell_type": "code",
   "execution_count": 42,
   "id": "0c070c49",
   "metadata": {
    "editable": true,
    "slideshow": {
     "slide_type": ""
    },
    "tags": []
   },
   "outputs": [
    {
     "data": {
      "text/plain": [
       "(1, 2)"
      ]
     },
     "execution_count": 42,
     "metadata": {},
     "output_type": "execute_result"
    }
   ],
   "source": [
    "(len(\"\\n\"), len(r\"\\n\"))"
   ]
  },
  {
   "cell_type": "markdown",
   "id": "cc6aab59",
   "metadata": {
    "editable": true,
    "slideshow": {
     "slide_type": "slide"
    },
    "tags": []
   },
   "source": [
    "Special sequences beginning with `\\`\n",
    "\n",
    "- `\\d` : matches a single character that is a digit, `[0-9]`\n",
    "- `\\w` : matches a word character, `[a-zA-Z0-9_]`  (Note the underscore)\n",
    "- `\\s` : matches a whitespace character, ` [ \\t\\n\\r\\f\\v]`\n",
    "\n",
    "And their negations\n",
    "\n",
    "- `\\D` : matches a single character that is a not digit, `[^0-9]`\n",
    "- `\\W` : matches a non-word character, `[^a-zA-Z0-9_]`\n",
    "- `\\S` : matches a non-whitespace character, `[^\\t\\n\\r\\f\\v]`\n",
    "\n",
    "Note that these preserve their meaning inside character classes"
   ]
  },
  {
   "cell_type": "code",
   "execution_count": 45,
   "id": "af8d7f7a",
   "metadata": {
    "editable": true,
    "slideshow": {
     "slide_type": "slide"
    },
    "tags": []
   },
   "outputs": [
    {
     "name": "stdout",
     "output_type": "stream",
     "text": [
      "<re.Match object; span=(6, 7), match='9'>\n",
      "<re.Match object; span=(6, 7), match='.'>\n",
      "<re.Match object; span=(10, 14), match='23.2'>\n"
     ]
    }
   ],
   "source": [
    "# NOTE: we want to match . literally |\n",
    "# Digit or digit or . or digit       v\n",
    "print(re.search(r\"[\\d\\d\\.\\d]\", \"asasd 938323.23\"))  # Walk through\n",
    "#                                      |\n",
    "#                                      V\n",
    "print(re.search(r\"[\\d\\d\\.\\d]\", \"asasd ..938323.23\"))  # Walk through\n",
    "# Pattern is digit followed by digit, dot and digit\n",
    "#                                      <-->\n",
    "print(re.search(r\"\\d\\d\\.\\d\", \"asasd 938323.23\"))  # Walk through"
   ]
  },
  {
   "cell_type": "markdown",
   "id": "5d0f6721",
   "metadata": {
    "editable": true,
    "slideshow": {
     "slide_type": "slide"
    },
    "tags": []
   },
   "source": [
    "Other special characters\n",
    "- `.`  matches any character except a newline\n",
    "- `|` the OR operator"
   ]
  },
  {
   "cell_type": "code",
   "execution_count": 18,
   "id": "85a0c9ba",
   "metadata": {
    "editable": true,
    "slideshow": {
     "slide_type": ""
    },
    "tags": []
   },
   "outputs": [
    {
     "name": "stdout",
     "output_type": "stream",
     "text": [
      "None\n",
      "<re.Match object; span=(0, 1), match=' '>\n",
      "<re.Match object; span=(0, 1), match=' '>\n"
     ]
    }
   ],
   "source": [
    "print(re.search(\".\", \"\\n\"))\n",
    "print(re.search(\".\", \" \"))\n",
    "print(re.search(\".\", \" vv\"))"
   ]
  },
  {
   "cell_type": "code",
   "execution_count": 19,
   "id": "0cdbdeed",
   "metadata": {
    "editable": true,
    "slideshow": {
     "slide_type": "fragment"
    },
    "tags": []
   },
   "outputs": [
    {
     "name": "stdout",
     "output_type": "stream",
     "text": [
      "None\n",
      "<re.Match object; span=(2, 3), match='b'>\n"
     ]
    }
   ],
   "source": [
    "print(re.search(\"a|b\", \"xerox\"))\n",
    "print(re.search(\"a|b\", \"vibe\"))"
   ]
  },
  {
   "cell_type": "markdown",
   "id": "f9231f8d",
   "metadata": {
    "editable": true,
    "slideshow": {
     "slide_type": "slide"
    },
    "tags": []
   },
   "source": [
    "## Anchors\n",
    "\n",
    "Characters for specifing position or RE within the string \n",
    "- `^` match at the beginning of the string (but `re.MULTILINE`)\n",
    "- `\\A` matches only at the start of the string\n",
    "- `$` match at the end of string (but `re.MULTILINE`)\n",
    "- `\\Z` matches only at the start of the string\n",
    "- `\\b` word boundary\n",
    "- `\\B` not word boundary"
   ]
  },
  {
   "cell_type": "code",
   "execution_count": 49,
   "id": "92c35524",
   "metadata": {
    "editable": true,
    "slideshow": {
     "slide_type": ""
    },
    "tags": []
   },
   "outputs": [
    {
     "name": "stdout",
     "output_type": "stream",
     "text": [
      "None\n"
     ]
    }
   ],
   "source": [
    "print(re.search(\"^a\", \"ball\"))"
   ]
  },
  {
   "cell_type": "code",
   "execution_count": 52,
   "id": "a3521e15-0d51-4e47-9a18-9bace21fe01b",
   "metadata": {
    "editable": true,
    "slideshow": {
     "slide_type": "fragment"
    },
    "tags": []
   },
   "outputs": [
    {
     "name": "stdout",
     "output_type": "stream",
     "text": [
      "None\n"
     ]
    }
   ],
   "source": [
    "print(re.search(\"^a\", \"ball\\nall\"))"
   ]
  },
  {
   "cell_type": "code",
   "execution_count": 55,
   "id": "7738f448-915c-4e97-aacc-d093603f0888",
   "metadata": {
    "editable": true,
    "slideshow": {
     "slide_type": "fragment"
    },
    "tags": []
   },
   "outputs": [
    {
     "name": "stdout",
     "output_type": "stream",
     "text": [
      "<re.Match object; span=(5, 6), match='a'>\n"
     ]
    }
   ],
   "source": [
    "print(re.search(\"^a\", \"ball\\nall\", flags=re.MULTILINE))"
   ]
  },
  {
   "cell_type": "code",
   "execution_count": 57,
   "id": "ee7de1cb",
   "metadata": {
    "editable": true,
    "slideshow": {
     "slide_type": "slide"
    },
    "tags": []
   },
   "outputs": [
    {
     "name": "stdout",
     "output_type": "stream",
     "text": [
      "None\n",
      "<re.Match object; span=(0, 3), match='all'>\n",
      "<re.Match object; span=(0, 3), match='all'>\n",
      "None\n",
      "<re.Match object; span=(0, 3), match='all'>\n"
     ]
    }
   ],
   "source": [
    "# NOTE: '\\b' is the bell character hence r'...'\n",
    "print(re.search(r\"\\ball\\b\", \"ballistic\"))\n",
    "print(re.search(r\"\\ball\\b\", \"all\"))\n",
    "print(re.search(r\"\\ball\\b\", \"all things\"))\n",
    "print(re.search(r\"\\ball\\b\", \"allabama\"))\n",
    "print(re.search(r\"\\ball\\B\", \"allabama\"))"
   ]
  },
  {
   "cell_type": "markdown",
   "id": "3d4d71f7",
   "metadata": {
    "editable": true,
    "slideshow": {
     "slide_type": "slide"
    },
    "tags": []
   },
   "source": [
    "## Repeating patterns\n",
    "\n",
    "**Quantifiers**\n",
    "\n",
    "The characters `*`, `+`, `?` and `{}` are reserved as quantifiers.\n",
    "\n",
    "For example, \n",
    "- `*` 0 or more occurances of previous character/RE\n",
    "- `+` 1 or more occurances or previous character/RE\n",
    "- `?` 0 or 1 occurances of previous character/RE\n",
    "- `{n}` exactly `n` occurances of previous character/RE\n",
    "- `{n,}` at least `n` occurances\n",
    "- `{n, m}` n to m (included) occurances \n",
    "\n",
    "__Question__: \n",
    "1. What is the equivalent of `{0,}`\n",
    "2. What is the equivalent of `{1, }`"
   ]
  },
  {
   "cell_type": "code",
   "execution_count": 70,
   "id": "bfe17b92",
   "metadata": {
    "editable": true,
    "slideshow": {
     "slide_type": ""
    },
    "tags": []
   },
   "outputs": [
    {
     "name": "stdout",
     "output_type": "stream",
     "text": [
      "<re.Match object; span=(0, 0), match=''>\n",
      "None\n",
      "[<re.Match object; span=(7, 8), match='i'>, <re.Match object; span=(9, 10), match='i'>]\n",
      "[<re.Match object; span=(2, 3), match='i'>, <re.Match object; span=(4, 5), match='i'>]\n"
     ]
    }
   ],
   "source": [
    "print(re.search(\"i*\", \"team\"))\n",
    "print(re.search(\"i+\", \"team\"))\n",
    "print([match for match in re.finditer(\"i+\", \"team spirit\")])\n",
    "print([match for match in re.finditer(r\"\\Bi{1}\\B\", \"spiriti\")])"
   ]
  },
  {
   "cell_type": "code",
   "execution_count": 23,
   "id": "f3fc2964",
   "metadata": {
    "editable": true,
    "slideshow": {
     "slide_type": "slide"
    },
    "tags": []
   },
   "outputs": [
    {
     "name": "stdout",
     "output_type": "stream",
     "text": [
      "<re.Match object; span=(1, 3), match='ea'>\n",
      "None\n",
      "<re.Match object; span=(3, 5), match='71'>\n"
     ]
    }
   ],
   "source": [
    "# With classes\n",
    "print(re.search(\"[aeiou]+\", \"team\"))\n",
    "print(re.search(\"[aeuio]+\", \"lynx\"))\n",
    "print(re.search(r\"[\\d]+\", \"SR 71\"))"
   ]
  },
  {
   "cell_type": "markdown",
   "id": "06e79a49",
   "metadata": {
    "editable": true,
    "slideshow": {
     "slide_type": "slide"
    },
    "tags": []
   },
   "source": [
    "**Greediness**\n",
    "\n",
    "With operators `*`, `+` the resulting action is to consume as much of the pattern as possible/will match with the longest string they can find. That is"
   ]
  },
  {
   "cell_type": "code",
   "execution_count": 64,
   "id": "f5a8e90b",
   "metadata": {
    "editable": true,
    "slideshow": {
     "slide_type": ""
    },
    "tags": []
   },
   "outputs": [
    {
     "name": "stdout",
     "output_type": "stream",
     "text": [
      "<re.Match object; span=(0, 32), match='<html><head><title>Title</title>'>\n"
     ]
    }
   ],
   "source": [
    "# Pattern starting with < followed by any number of non-newline characters followed by >\n",
    "print(re.search(\"<.*>\", \"<html><head><title>Title</title>\"))\n",
    "#                        |start                         |stop     in greedy way"
   ]
  },
  {
   "cell_type": "code",
   "execution_count": 69,
   "id": "ed847a2f-e293-4ceb-8047-fb3c454ff2f8",
   "metadata": {
    "editable": true,
    "slideshow": {
     "slide_type": "fragment"
    },
    "tags": []
   },
   "outputs": [
    {
     "name": "stdout",
     "output_type": "stream",
     "text": [
      "<re.Match object; span=(0, 12), match='<html><head>'>\n"
     ]
    }
   ],
   "source": [
    "# Pattern starting with < followed by any number of non-newline characters followed by >\n",
    "print(re.search(\"<.*>\", \"<html><head><title\\n>Title</title>\"))\n",
    "#                        |start      |stop     in greedy way"
   ]
  },
  {
   "cell_type": "code",
   "execution_count": 68,
   "id": "da68f0f4",
   "metadata": {
    "editable": true,
    "slideshow": {
     "slide_type": "fragment"
    },
    "tags": []
   },
   "outputs": [
    {
     "name": "stdout",
     "output_type": "stream",
     "text": [
      "<re.Match object; span=(0, 6), match='<html>'>\n"
     ]
    }
   ],
   "source": [
    "print(re.search(\"<.*?>\", \"<html><head><title>Title</title>\"))\n",
    "#                        |start|stop     in non-greedy way stop at first match"
   ]
  },
  {
   "cell_type": "markdown",
   "id": "83817e43",
   "metadata": {
    "editable": true,
    "slideshow": {
     "slide_type": "slide"
    },
    "tags": []
   },
   "source": [
    "## Grouping and capturing\n",
    "\n",
    "Placing parts of the regex inside `()` will group that part of the regex together. Let's look for groups of digits"
   ]
  },
  {
   "cell_type": "code",
   "execution_count": 71,
   "id": "a8dce9aa",
   "metadata": {
    "editable": true,
    "slideshow": {
     "slide_type": ""
    },
    "tags": []
   },
   "outputs": [],
   "source": [
    "# Say you have a phone number of the for XXX-YYYY\n",
    "match = re.search(r\"(\\d{3})-(\\d{4})\", \"123-3333\")"
   ]
  },
  {
   "cell_type": "code",
   "execution_count": 74,
   "id": "e64db738",
   "metadata": {
    "editable": true,
    "slideshow": {
     "slide_type": "fragment"
    },
    "tags": []
   },
   "outputs": [
    {
     "name": "stdout",
     "output_type": "stream",
     "text": [
      "('123', '3333')\n",
      "123-3333\n",
      "123\n",
      "3333\n"
     ]
    }
   ],
   "source": [
    "print(match.groups())\n",
    "print(match.group(0))  # Entire match\n",
    "print(match.group(1))  # Get the group by order (starting from 1)\n",
    "print(match.group(2))"
   ]
  },
  {
   "cell_type": "markdown",
   "id": "fbae437a",
   "metadata": {
    "editable": true,
    "slideshow": {
     "slide_type": "fragment"
    },
    "tags": []
   },
   "source": [
    "We can refer back to captured groups to build up patterns"
   ]
  },
  {
   "cell_type": "code",
   "execution_count": 76,
   "id": "79f7a44d",
   "metadata": {
    "editable": true,
    "slideshow": {
     "slide_type": ""
    },
    "tags": []
   },
   "outputs": [
    {
     "name": "stdout",
     "output_type": "stream",
     "text": [
      "None\n",
      "<re.Match object; span=(0, 12), match='123-3333-123'>\n"
     ]
    }
   ],
   "source": [
    "# The first match shold be repeated\n",
    "print(re.search(r\"(\\d{3})-(\\d{4})-\\1\", \"123-3333-444\"))\n",
    "print(re.search(r\"(\\d{3})-(\\d{4})-\\1\", \"123-3333-123\"))"
   ]
  },
  {
   "cell_type": "markdown",
   "id": "58c9671c",
   "metadata": {
    "editable": true,
    "slideshow": {
     "slide_type": "slide"
    },
    "tags": []
   },
   "source": [
    "With many groups it might be convenient to name them, define `(?P<name>)`, refer `(?P=name)` "
   ]
  },
  {
   "cell_type": "code",
   "execution_count": 78,
   "id": "a33dface",
   "metadata": {
    "editable": true,
    "slideshow": {
     "slide_type": ""
    },
    "tags": []
   },
   "outputs": [
    {
     "name": "stdout",
     "output_type": "stream",
     "text": [
      "123 3333\n"
     ]
    }
   ],
   "source": [
    "match = re.search(r\"(?P<area>\\d{3})-(?P<extension>\\d{4})\", \"123-3333\")\n",
    "print(match.group(\"area\"), match.group(\"extension\"))"
   ]
  },
  {
   "cell_type": "code",
   "execution_count": 79,
   "id": "6f856717-82c9-4b2f-b754-450df968d48c",
   "metadata": {
    "editable": true,
    "slideshow": {
     "slide_type": "fragment"
    },
    "tags": []
   },
   "outputs": [
    {
     "name": "stdout",
     "output_type": "stream",
     "text": [
      "<re.Match object; span=(0, 12), match='123-3333-123'>\n",
      "123\n"
     ]
    }
   ],
   "source": [
    "match = re.search(r\"(?P<area>\\d{3})-(?P<extension>\\d{4})-(?P=area)\", \"123-3333-123\")\n",
    "print(match)\n",
    "print(match.group(\"area\"))"
   ]
  },
  {
   "cell_type": "markdown",
   "id": "1367c8fd",
   "metadata": {
    "editable": true,
    "slideshow": {
     "slide_type": "slide"
    },
    "tags": []
   },
   "source": [
    "Sometimes we might not want to capture/skip the group, `(?:...)`"
   ]
  },
  {
   "cell_type": "code",
   "execution_count": 30,
   "id": "ad7053a3",
   "metadata": {
    "editable": true,
    "slideshow": {
     "slide_type": ""
    },
    "tags": []
   },
   "outputs": [
    {
     "name": "stdout",
     "output_type": "stream",
     "text": [
      "<re.Match object; span=(0, 12), match='123-3333-123'>\n",
      "('123',)\n"
     ]
    }
   ],
   "source": [
    "match = re.search(r\"(?P<area>\\d{3})-(?:\\d{4})-(?P=area)\", \"123-3333-123\")\n",
    "print(match)\n",
    "print(match.groups())"
   ]
  },
  {
   "cell_type": "markdown",
   "id": "a46bb592",
   "metadata": {
    "editable": true,
    "slideshow": {
     "slide_type": "slide"
    },
    "tags": []
   },
   "source": [
    "## Lookahead and Lookbehind assertions and conditional expressions\n",
    "\n",
    "`(?=<lookahead_regex>)` asserts that what follows the regex parser’s current position must match `<lookahead_regex>`"
   ]
  },
  {
   "cell_type": "code",
   "execution_count": 89,
   "id": "03623fbd",
   "metadata": {
    "editable": true,
    "slideshow": {
     "slide_type": ""
    },
    "tags": []
   },
   "outputs": [
    {
     "name": "stdout",
     "output_type": "stream",
     "text": [
      "<re.Match object; span=(0, 8), match='123-miro'> ()\n"
     ]
    }
   ],
   "source": [
    "# Match pattern of 3 digits if they are followed by 4 letter string\n",
    "pattern = r\"\\d{3}-[a-zA-Z]{4}\"\n",
    "match = re.search(pattern, \"123-miro\")\n",
    "print(match, match.groups())"
   ]
  },
  {
   "cell_type": "code",
   "execution_count": 93,
   "id": "20c8e029-5ac1-48c1-8594-6d4141e5b95b",
   "metadata": {
    "editable": true,
    "slideshow": {
     "slide_type": "fragment"
    },
    "tags": []
   },
   "outputs": [
    {
     "name": "stdout",
     "output_type": "stream",
     "text": [
      "<re.Match object; span=(0, 4), match='123-'> ()\n",
      "None\n"
     ]
    }
   ],
   "source": [
    "# Match pattern of 3 digits if they are followed by 4 letter string\n",
    "pattern = r'\\d{3}-(?=[a-zA-Z]{4})'\n",
    "match = re.search(pattern, \"123-miro\")\n",
    "print(match, match.groups())\n",
    "print(re.search(pattern, \"123-45mj\"))"
   ]
  },
  {
   "cell_type": "code",
   "execution_count": 98,
   "id": "421eca55",
   "metadata": {
    "editable": true,
    "slideshow": {
     "slide_type": ""
    },
    "tags": []
   },
   "outputs": [
    {
     "name": "stdout",
     "output_type": "stream",
     "text": [
      "<re.Match object; span=(0, 4), match='123-'>\n"
     ]
    },
    {
     "data": {
      "text/plain": [
       "('123', 'miro')"
      ]
     },
     "execution_count": 98,
     "metadata": {},
     "output_type": "execute_result"
    }
   ],
   "source": [
    "# We can add group names to the previous pattern\n",
    "match = re.search(r\"(\\d{3})-(?=(?P<name>[a-zA-Z]{4}))\", \"123-miro\")\n",
    "print(match)\n",
    "match.group(1, \"name\")"
   ]
  },
  {
   "cell_type": "markdown",
   "id": "9694708a",
   "metadata": {
    "editable": true,
    "slideshow": {
     "slide_type": "slide"
    },
    "tags": []
   },
   "source": [
    "`(?<=<lookbehind_regex>)` asserts that what precedes the regex parser’s current position must match `<lookbehind_regex>`"
   ]
  },
  {
   "cell_type": "code",
   "execution_count": 108,
   "id": "4dca8860",
   "metadata": {
    "editable": true,
    "slideshow": {
     "slide_type": "slide"
    },
    "tags": []
   },
   "outputs": [
    {
     "name": "stdout",
     "output_type": "stream",
     "text": [
      "None\n"
     ]
    }
   ],
   "source": [
    "# Match the 3 digits if they are preceed by string of 4 letters\n",
    "pattern = r\"(?<=(?P<name>^[a-zA-Z]{4})):(?P<phone>\\d{3})\"\n",
    "match = re.search(pattern, \"miroslav:123\")\n",
    "print(match)\n",
    "if match is not None:\n",
    "    print(match.group(\"name\", \"phone\"))"
   ]
  },
  {
   "cell_type": "markdown",
   "id": "7b7f7355-fcf2-4223-a43c-c16bc8b0103e",
   "metadata": {
    "editable": true,
    "slideshow": {
     "slide_type": "fragment"
    },
    "tags": []
   },
   "source": [
    "## Exercise:\n",
    "How can one change the above pattern by changing/adding/removing a single character in the pattern?"
   ]
  },
  {
   "cell_type": "code",
   "execution_count": 109,
   "id": "890566ca-b397-4c7f-856a-297c37ceb765",
   "metadata": {
    "editable": true,
    "slideshow": {
     "slide_type": "slide"
    },
    "tags": []
   },
   "outputs": [
    {
     "name": "stdout",
     "output_type": "stream",
     "text": [
      "<re.Match object; span=(4, 8), match=':123'>\n"
     ]
    },
    {
     "data": {
      "text/plain": [
       "('miro', '123')"
      ]
     },
     "execution_count": 109,
     "metadata": {},
     "output_type": "execute_result"
    }
   ],
   "source": [
    "pattern = r\"(?<=(?P<name>^[a-zA-Z]{4})):(?P<phone>\\d{3})\"\n",
    "match = re.search(pattern, \"miro:123\")\n",
    "print(match)\n",
    "match.group(\"name\", \"phone\")"
   ]
  },
  {
   "cell_type": "markdown",
   "id": "857c70db",
   "metadata": {
    "editable": true,
    "slideshow": {
     "slide_type": "slide"
    },
    "tags": []
   },
   "source": [
    "`(?(phrase)<yes-pattern>|<no-pattern>)` If the group `phrase` exists the match will use `<yes pattern>` otherwise `<no pattern>` is used."
   ]
  },
  {
   "cell_type": "code",
   "execution_count": 165,
   "id": "069c9eff",
   "metadata": {
    "editable": true,
    "slideshow": {
     "slide_type": ""
    },
    "tags": []
   },
   "outputs": [
    {
     "name": "stdout",
     "output_type": "stream",
     "text": [
      "<re.Match object; span=(0, 9), match='phone 223'>\n",
      "<re.Match object; span=(19, 26), match='missing'>\n"
     ]
    }
   ],
   "source": [
    "import re\n",
    "\n",
    "# If there is word phone in the string capture it with group 1 and then the rest of the pattern must be space, digits or word\n",
    "# missing.\n",
    "pattern = r\"(phone)?(?(1)\\s\\d+|missing)\"\n",
    "results = re.finditer(pattern, \"phone 223\\nphone is missing\\nphone is missed\", flags=re.MULTILINE)\n",
    "for result in results:\n",
    "    print(result)"
   ]
  },
  {
   "cell_type": "markdown",
   "id": "51cad150",
   "metadata": {
    "editable": true,
    "slideshow": {
     "slide_type": "slide"
    },
    "tags": []
   },
   "source": [
    "## Verbose patterns\n",
    "Regular expression can become long and convoluted in which case it comes in handy to be able to document them. To this end we can use the `re.VERBOSE` flag. Suppose we want to parse phone numbers of the form `(area code) 4digits 4digits`"
   ]
  },
  {
   "cell_type": "code",
   "execution_count": 167,
   "id": "bbc1bfa4",
   "metadata": {
    "editable": true,
    "slideshow": {
     "slide_type": ""
    },
    "tags": []
   },
   "outputs": [
    {
     "name": "stdout",
     "output_type": "stream",
     "text": [
      "None\n",
      "<re.Match object; span=(0, 15), match='(800)-5555-1234'>\n"
     ]
    }
   ],
   "source": [
    "pattern = r\"\\((\\d{3})\\)\\D*(\\d{4})\\D*(\\d{4})\"\n",
    "print(re.search(pattern, \"800-5555-1234\"))\n",
    "print(re.search(pattern, \"(800)-5555-1234\"))"
   ]
  },
  {
   "cell_type": "markdown",
   "id": "a50b564d",
   "metadata": {
    "editable": true,
    "slideshow": {
     "slide_type": "fragment"
    },
    "tags": []
   },
   "source": [
    "And now a  documented version"
   ]
  },
  {
   "cell_type": "code",
   "execution_count": 36,
   "id": "e8254157",
   "metadata": {
    "editable": true,
    "slideshow": {
     "slide_type": ""
    },
    "tags": []
   },
   "outputs": [
    {
     "name": "stdout",
     "output_type": "stream",
     "text": [
      "<re.Match object; span=(0, 19), match='(800)- - 5555--1234'>\n",
      "<built-in method groups of re.Match object at 0x110ad2f00>\n"
     ]
    }
   ],
   "source": [
    "pattern = r\"\"\"\n",
    "\\(         # Area code begins with (\n",
    "(\\d{3})    # is followed by 3 digits\n",
    "\\)         # and close area code\n",
    "\\D*        # There can be some no digits spaces until the next group\n",
    "(\\d{4})    # of four digits\n",
    "\\D*        # Again some separators\n",
    "(\\d{4})    # and finally a 4 digit group\n",
    "\"\"\"\n",
    "match = re.search(pattern, \"(800)- - 5555--1234\", re.VERBOSE)\n",
    "print(match)\n",
    "print(match.groups)"
   ]
  },
  {
   "cell_type": "markdown",
   "id": "72f8fccc",
   "metadata": {
    "editable": true,
    "slideshow": {
     "slide_type": "slide"
    },
    "tags": []
   },
   "source": [
    "## Functions of the `re` module\n",
    "`re.search` stopped once we found a first match. All matches can be found with `re.findall`"
   ]
  },
  {
   "cell_type": "code",
   "execution_count": 168,
   "id": "977a1b80",
   "metadata": {
    "editable": true,
    "slideshow": {
     "slide_type": ""
    },
    "tags": []
   },
   "outputs": [
    {
     "name": "stdout",
     "output_type": "stream",
     "text": [
      "['a=1', 'a=2', 'a=3']\n",
      "[('a', '1'), ('a', '2'), ('a', '3')]\n"
     ]
    }
   ],
   "source": [
    "string = \"a=1 aa=2 b c aaa=3\"\n",
    "print(re.findall(r\"a=\\d+\", string))\n",
    "# Contrast with the following patterns where we introduce 2 groups\n",
    "print(re.findall(r\"(a)=(\\d+)\", string))"
   ]
  },
  {
   "cell_type": "markdown",
   "id": "8e7a7945",
   "metadata": {
    "editable": true,
    "slideshow": {
     "slide_type": ""
    },
    "tags": []
   },
   "source": [
    "`re.split` lets us split the string where the pattern matched. In the following example we consider numbers whose digits form repeating patterns. These patterns are our split points."
   ]
  },
  {
   "cell_type": "code",
   "execution_count": 172,
   "id": "c1228c35",
   "metadata": {
    "editable": true,
    "slideshow": {
     "slide_type": ""
    },
    "tags": []
   },
   "outputs": [
    {
     "name": "stdout",
     "output_type": "stream",
     "text": [
      "0.14285714285714285714285714285714285714285714285714285714285714285714285714285714\n"
     ]
    }
   ],
   "source": [
    "import sympy as sp\n",
    "\n",
    "r = sp.Rational(1, 7)\n",
    "n = str(sp.N(r, 80))\n",
    "print(n)  # See that they repeat"
   ]
  },
  {
   "cell_type": "code",
   "execution_count": 173,
   "id": "05ea8dc9",
   "metadata": {
    "editable": true,
    "slideshow": {
     "slide_type": ""
    },
    "tags": []
   },
   "outputs": [
    {
     "data": {
      "text/plain": [
       "['0.',\n",
       " '142857',\n",
       " '',\n",
       " '142857',\n",
       " '',\n",
       " '142857',\n",
       " '',\n",
       " '142857',\n",
       " '',\n",
       " '142857',\n",
       " '',\n",
       " '142857',\n",
       " '14285714']"
      ]
     },
     "execution_count": 173,
     "metadata": {},
     "output_type": "execute_result"
    }
   ],
   "source": [
    "pattern = r\"(\\d+?)\\1\"\n",
    "re.search(pattern, n).groups()\n",
    "\n",
    "re.split(pattern, n)"
   ]
  },
  {
   "cell_type": "markdown",
   "id": "4a73f43e",
   "metadata": {
    "editable": true,
    "slideshow": {
     "slide_type": "slide"
    },
    "tags": []
   },
   "source": [
    "`re.sub` will perform substitution for the matched substring. A cool feature is that we can use the groups to build the replacent string. In the following we assume string in the form `DAY MONTH YEAR` encoded respectively as 3-letter word and strings of 2 and 4 digits. We are only after the year and month in the replaced string."
   ]
  },
  {
   "cell_type": "code",
   "execution_count": 175,
   "id": "dbf0eb89",
   "metadata": {
    "editable": true,
    "slideshow": {
     "slide_type": ""
    },
    "tags": []
   },
   "outputs": [
    {
     "data": {
      "text/plain": [
       "<re.Match object; span=(9, 20), match='MON 12 2022'>"
      ]
     },
     "execution_count": 175,
     "metadata": {},
     "output_type": "execute_result"
    }
   ],
   "source": [
    "pattern = r\"([A-Z]{3}) (?:\\d{2}) (\\d{4})\"\n",
    "string = \"today is MON 12 2022 and tomorrow will be\"\n",
    "re.search(pattern, string)"
   ]
  },
  {
   "cell_type": "code",
   "execution_count": 177,
   "id": "f4a48805-fae5-44fc-acd6-9cf7d02b7294",
   "metadata": {
    "editable": true,
    "slideshow": {
     "slide_type": "fragment"
    },
    "tags": []
   },
   "outputs": [
    {
     "data": {
      "text/plain": [
       "'today is replaced: 2022 MON and tomorrow will be'"
      ]
     },
     "execution_count": 177,
     "metadata": {},
     "output_type": "execute_result"
    }
   ],
   "source": [
    "re.sub(pattern, r\"replaced: \\2 \\1\", string)"
   ]
  },
  {
   "cell_type": "markdown",
   "id": "5c466129",
   "metadata": {
    "editable": true,
    "slideshow": {
     "slide_type": "slide"
    },
    "tags": []
   },
   "source": [
    "So far, we have used top-level functions. A building block of these is a pattern which can be complied by `re.compile`.\n",
    "Citing the [re documentation](https://docs.python.org/3/howto/regex.html): _Under the hood, these functions simply create a pattern object for you and call the appropriate method on it. They also store the compiled object in a cache, so future calls using the same RE won’t need to parse the pattern again and again._\n",
    "\n",
    "_Should you use these module-level functions, or should you get the pattern and call its methods yourself? If you’re accessing a regex within a loop, pre-compiling it will save a few function calls. Outside of loops, there’s not much difference thanks to the internal cache._\n",
    "\n",
    "__Question__: 1. Verify the above by profiling."
   ]
  },
  {
   "cell_type": "markdown",
   "id": "7f0b8ee0",
   "metadata": {
    "editable": true,
    "slideshow": {
     "slide_type": "slide"
    },
    "tags": []
   },
   "source": [
    "## Case studies with RegEx\n",
    "\n",
    "Here are some practice examples. The solutions are not unique (as there can be different patterns that match the answer). I also do not claim the solutions are 100% correct."
   ]
  },
  {
   "cell_type": "markdown",
   "id": "6e1ecff5",
   "metadata": {
    "editable": true,
    "slideshow": {
     "slide_type": ""
    },
    "tags": []
   },
   "source": [
    "### Validating an ip4 address\n",
    "\n",
    "The address takes the form X.Y.Z.W where any of X, Y, Z, W represent numbers 0-255. Note that 012 is valid number as is 001."
   ]
  },
  {
   "cell_type": "code",
   "execution_count": 193,
   "id": "8924285f",
   "metadata": {
    "editable": true,
    "slideshow": {
     "slide_type": ""
    },
    "tags": []
   },
   "outputs": [],
   "source": [
    "# https://projects.lukehaas.me/regexhub/\n",
    "\n",
    "def is_valid(string: str) -> bool:\n",
    "    pattern = r\"^(?:(?:25[0-5]|2[0-4][0-9]|[01]?[0-9][0-9]?)\\.){3}(?:25[0-5]|2[0-4][0-9]|[01]?[0-9][0-9]?)$\"\n",
    "    # The key observation here is representation of numbers 0-255\n",
    "    # We have 25[0-5]\n",
    "    #         2[0-4][0-9]\n",
    "    #         1[0-9][0-9]\n",
    "    #         0?[0-9][0-9]?\n",
    "    return re.match(pattern, strings) is not None"
   ]
  },
  {
   "cell_type": "code",
   "execution_count": 194,
   "id": "fe973ffa",
   "metadata": {
    "editable": true,
    "slideshow": {
     "slide_type": ""
    },
    "tags": []
   },
   "outputs": [
    {
     "name": "stdout",
     "output_type": "stream",
     "text": [
      "True\n",
      "True\n",
      "False\n",
      "True\n"
     ]
    }
   ],
   "source": [
    "print(is_valid(\"0.0.0.0\"))\n",
    "print(is_valid(\"255.255.255.0\"))\n",
    "print(is_valid(\"255.255.255.256\"))\n",
    "print(is_valid(\"255.55.05.0\"))"
   ]
  },
  {
   "cell_type": "markdown",
   "id": "69cc173f",
   "metadata": {
    "editable": true,
    "slideshow": {
     "slide_type": "slide"
    },
    "tags": []
   },
   "source": [
    "### Validating nordic email address\n",
    "\n",
    "Suppose we only allow for alpha-numerics caracters in the name and domain name. For valid address we want extract a username and country"
   ]
  },
  {
   "cell_type": "code",
   "execution_count": 198,
   "id": "a827a53b",
   "metadata": {
    "editable": true,
    "slideshow": {
     "slide_type": "slide"
    },
    "tags": []
   },
   "outputs": [],
   "source": [
    "def email_user(address):\n",
    "    pattern = r\"^(?P<user>[a-zA-Z0-9]+)@(?:[a-zA-Z0-9]+)\\.(?P<country>(?:no)|(?:se)|(?:fi)|(?:is)|(?:dk))$\"\n",
    "    match = re.match(pattern, address)\n",
    "    if match is None:\n",
    "        return \"\"\n",
    "    return match.group(\"user\"), match.group(\"country\")"
   ]
  },
  {
   "cell_type": "code",
   "execution_count": 199,
   "id": "644d2396",
   "metadata": {
    "editable": true,
    "slideshow": {
     "slide_type": ""
    },
    "tags": []
   },
   "outputs": [
    {
     "name": "stdout",
     "output_type": "stream",
     "text": [
      "\n",
      "\n",
      "('john', 'no')\n",
      "('john', 'dk')\n"
     ]
    }
   ],
   "source": [
    "print(email_user(\"john@doe.com\"))\n",
    "print(email_user(\"john@doe_.no\"))\n",
    "print(email_user(\"john@doe.no\"))\n",
    "print(email_user(\"john@doe.dk\"))"
   ]
  },
  {
   "cell_type": "markdown",
   "id": "d9187f4e",
   "metadata": {
    "editable": true,
    "slideshow": {
     "slide_type": "slide"
    },
    "tags": []
   },
   "source": [
    "### Finding numbers\n",
    "\n",
    "We come back to our original problem of finding numbers. The number encoding we want to handle \n",
    "1. starts with and optional `+-` sign\n",
    "2. there are digits with an optional `.` followd by more digits\n",
    "3. afterwards we can have an optional exponentiation 'eE' followed by optional `+-` and integers specifying the exponent\n",
    "\n",
    "We consider the regexp as follows"
   ]
  },
  {
   "cell_type": "code",
   "execution_count": 204,
   "id": "cba0324c",
   "metadata": {
    "editable": true,
    "slideshow": {
     "slide_type": ""
    },
    "tags": []
   },
   "outputs": [],
   "source": [
    "def find_numbers_re(string):\n",
    "    pattern = r\"\"\"\n",
    "    [+-]?             # Opional sign\n",
    "    \\d+               # One or more digits\n",
    "    (?:\\.\\d+)?        # followed optionally by . with more digits\n",
    "    (?:[eE][+-]?\\d+)? # Optional exponentiation: eE with optional sign and integer exponent\n",
    "    \"\"\"\n",
    "    pattern = re.compile(pattern, re.VERBOSE)\n",
    "    return re.findall(pattern, string)"
   ]
  },
  {
   "cell_type": "code",
   "execution_count": 207,
   "id": "8462c54c",
   "metadata": {
    "editable": true,
    "slideshow": {
     "slide_type": ""
    },
    "tags": []
   },
   "outputs": [
    {
     "name": "stdout",
     "output_type": "stream",
     "text": [
      "['12'] ['12']\n",
      "['12.3E+3'] ['12.3E+3']\n",
      "[] []\n",
      "['12.334E-04'] ['12.334E-04']\n"
     ]
    }
   ],
   "source": [
    "print(find_numbers_re(\"12\"), find_numbers1(\"12\"))\n",
    "print(find_numbers_re(\"12.3E+3\"), find_numbers1(\"12.3E+3\"))\n",
    "print(find_numbers_re(\"aaa\"), find_numbers1(\"aaa\"))\n",
    "print(find_numbers_re(\"12.334E-04\"), find_numbers1(\"12.334E-04\"))"
   ]
  },
  {
   "cell_type": "markdown",
   "id": "cc70b978",
   "metadata": {
    "editable": true,
    "slideshow": {
     "slide_type": ""
    },
    "tags": []
   },
   "source": [
    "Perhaps the interesting question now that we have two implementations is whether they yield the same answers and \n",
    "what is their speed."
   ]
  },
  {
   "cell_type": "code",
   "execution_count": 209,
   "id": "f0df3c8d",
   "metadata": {
    "editable": true,
    "slideshow": {
     "slide_type": ""
    },
    "tags": []
   },
   "outputs": [
    {
     "name": "stdout",
     "output_type": "stream",
     "text": [
      "True\n"
     ]
    }
   ],
   "source": [
    "from secrets import token_urlsafe\n",
    "\n",
    "string = token_urlsafe(100)\n",
    "result_nore = find_numbers1(string)\n",
    "result_re = find_numbers_re(string)\n",
    "print(set(result_nore) == set(result_re))"
   ]
  },
  {
   "cell_type": "code",
   "execution_count": 210,
   "id": "e8fd0673",
   "metadata": {
    "editable": true,
    "slideshow": {
     "slide_type": ""
    },
    "tags": []
   },
   "outputs": [
    {
     "name": "stdout",
     "output_type": "stream",
     "text": [
      "31.8 ms ± 1.71 ms per loop (mean ± std. dev. of 7 runs, 10 loops each)\n"
     ]
    }
   ],
   "source": [
    "%%timeit\n",
    "result_nore = find_numbers1(string)"
   ]
  },
  {
   "cell_type": "code",
   "execution_count": 211,
   "id": "9c837472",
   "metadata": {
    "editable": true,
    "slideshow": {
     "slide_type": ""
    },
    "tags": []
   },
   "outputs": [
    {
     "name": "stdout",
     "output_type": "stream",
     "text": [
      "19.3 µs ± 928 ns per loop (mean ± std. dev. of 7 runs, 10,000 loops each)\n"
     ]
    }
   ],
   "source": [
    "%%timeit\n",
    "result_nore = find_numbers_re(string)"
   ]
  },
  {
   "cell_type": "markdown",
   "id": "158c2377",
   "metadata": {
    "editable": true,
    "slideshow": {
     "slide_type": ""
    },
    "tags": []
   },
   "source": [
    "### Repeated words\n",
    "\n",
    "It is common when writing text to produce typos of the form `the the` or `a a`. We would like to write a function that fixes strings plagued with these errors. For starters assume that the typos occur only in the sentence interior."
   ]
  },
  {
   "cell_type": "code",
   "execution_count": 216,
   "id": "df86529f",
   "metadata": {
    "editable": true,
    "slideshow": {
     "slide_type": ""
    },
    "tags": []
   },
   "outputs": [],
   "source": [
    "def fix_repeated_words(string):\n",
    "    # Here the pattern will only match 2 repeats\n",
    "    pattern = r\"\\b(\\w+)\\s+\\1\"\n",
    "    match = re.search(pattern, string)\n",
    "    if match is None:\n",
    "        return string\n",
    "    # We deal with N repeats 2 at a time; substitute and reduce to N-1 case by\n",
    "    # replacing the matched substring with the group 1, i.e. the repeated word\n",
    "    return fix_repeated_words(re.sub(pattern, r\"\\1\", string))"
   ]
  },
  {
   "cell_type": "code",
   "execution_count": 215,
   "id": "6e4c2af1",
   "metadata": {
    "editable": true,
    "slideshow": {
     "slide_type": ""
    },
    "tags": []
   },
   "outputs": [
    {
     "name": "stdout",
     "output_type": "stream",
     "text": [
      "xx them yy\n",
      "xx the yy\n",
      "xx the a the yy\n",
      "xx the a yy\n"
     ]
    }
   ],
   "source": [
    "print(fix_repeated_words(\"xx them them yy\"))\n",
    "print(fix_repeated_words(\"xx the the the yy\"))\n",
    "print(fix_repeated_words(\"xx the a a the the yy\"))\n",
    "print(fix_repeated_words(\"xx the the a a yy\"))"
   ]
  },
  {
   "cell_type": "markdown",
   "id": "27674304",
   "metadata": {
    "editable": true,
    "slideshow": {
     "slide_type": ""
    },
    "tags": []
   },
   "source": [
    "__Question__: \n",
    "1. Can you handle 'the the the' case without iterations?\n",
    "2. Can you extend the `fix_repeated_words` to handle typos at the beginning of sentence \"The the\" -> \"The\""
   ]
  },
  {
   "cell_type": "markdown",
   "id": "1d5c22e6",
   "metadata": {},
   "source": [
    "### Algebraic chess notation\n",
    "\n",
    "Moves in a chess game can be described using the following [notation](https://en.wikipedia.org/wiki/Algebraic_notation_(chess)).\n",
    "```\n",
    "1.Nf3 Nf6 2.c4 g6 3.Nc3 Bg7 4.d4 O-O 5.Bf4 d5 6.Qb3 dxc4 7.Qxc4 c6 8.e4 Nbd7 9.Rd1 Nb6 10.Qc5 Bg4 11.Bg5 Na4 12.Qa3 Nxc3 13.bxc3 Nxe4 14.Bxe7 Qb6 15.Bc4 Nxc3 16.Bc5 Rfe8+ 17.Kf1 Be6 18.Bxb6 Bxc4+ 19.Kg1 Ne2+ 20.Kf1 Nxd4+ 21.Kg1 Ne2+ 22.Kf1 Nc3+ 23.Kg1 axb6 24.Qb4 Ra4 25.Qxb6 Nxd1 26.h3 Rxa2 27.Kh2 Nxf2 28.Re1 Rxe1 29.Qd8+ Bf8 30.Nxe1 Bd5 31.Nf3 Ne4 32.Qb8 b5 33.h4 h5 34.Ne5 Kg7 35.Kg1 Bc5+ 36.Kf1 Ng3+ 37.Ke1 Bb4+ 38.Kd1 Bb3+ 39.Kc1 Ne2+ 40.Kb1 Nc3+ 41.Kc1 Rc2# 0-1\n",
    "```\n",
    "Briefly, we have `(move number.)` followed by encoding of the move of the white and black players. Here we would like to implement regexp that matches these meoves. To do this let's look at the moves and build the functionality gradually. To monitor the progress we will use to progressbar from [tqdm](https://pypi.org/project/tqdm/) package."
   ]
  },
  {
   "cell_type": "code",
   "execution_count": 52,
   "id": "56b8ea16",
   "metadata": {},
   "outputs": [],
   "source": [
    "from tqdm.notebook import tqdm\n",
    "\n",
    "game = \"\"\"\n",
    "1.Nf3 Nf6 2.c4 g6 3.Nc3 Bg7 4.d4 O-O 5.Bf4 d5 6.Qb3 dxc4 7.Qxc4 c6 8.e4 Nbd7 9.Rd1 Nb6 10.Qc5 Bg4 11.Bg5 Na4 12.Qa3 Nxc3 13.bxc3 Nxe4 14.Bxe7 Qb6 15.Bc4 Nxc3 16.Bc5 Rfe8+ 17.Kf1 Be6 18.Bxb6 Bxc4+ 19.Kg1 Ne2+ 20.Kf1 Nxd4+ 21.Kg1 Ne2+ 22.Kf1 Nc3+ 23.Kg1 axb6 24.Qb4 Ra4 25.Qxb6 Nxd1 26.h3 Rxa2 27.Kh2 Nxf2 28.Re1 Rxe1 29.Qd8+ Bf8 30.Nxe1 Bd5 31.Nf3 Ne4 32.Qb8 b5 33.h4 h5 34.Ne5 Kg7 35.Kg1 Bc5+ 36.Kf1 Ng3+ 37.Ke1 Bb4+ 38.Kd1 Bb3+ 39.Kc1 Ne2+ 40.Kb1 Nc3+ 41.Kc1 Rc2# 0-1\n",
    "\"\"\"\n",
    "moves = sum([row.split() for row in filter(bool, re.split(r\"\\d+\\.\", game.strip()))], []);"
   ]
  },
  {
   "cell_type": "markdown",
   "id": "8a5053d3",
   "metadata": {},
   "source": [
    "1. `Nf3` means k(`N`)ight moved to `f3`. Other pieces are (K)ing, (Q)ueen, (R)ook and (B)ishop"
   ]
  },
  {
   "cell_type": "code",
   "execution_count": 53,
   "id": "9605c714",
   "metadata": {},
   "outputs": [
    {
     "data": {
      "application/vnd.jupyter.widget-view+json": {
       "model_id": "40261ac72f5c400c9f7ee294fb0cdec5",
       "version_major": 2,
       "version_minor": 0
      },
      "text/plain": [
       "  0%|          | 0/83 [00:00<?, ?it/s]"
      ]
     },
     "metadata": {},
     "output_type": "display_data"
    },
    {
     "name": "stdout",
     "output_type": "stream",
     "text": [
      "c4\n"
     ]
    }
   ],
   "source": [
    "pattern = \"[KQRBN][a-h][1-8]\"\n",
    "\n",
    "for move in tqdm(moves):\n",
    "    if re.match(pattern, move) is None:\n",
    "        print(move)\n",
    "        break"
   ]
  },
  {
   "cell_type": "markdown",
   "id": "4ae5d4fe",
   "metadata": {},
   "source": [
    "2. We see that `c4` is a valid notation - it means that a pawn has moved. For our regexp it means that \n",
    "the piece pattern `[KQRBN]` is optional."
   ]
  },
  {
   "cell_type": "code",
   "execution_count": 54,
   "id": "5098b3f8",
   "metadata": {},
   "outputs": [
    {
     "data": {
      "application/vnd.jupyter.widget-view+json": {
       "model_id": "58f9ac695a8d49b289af20b4be2935fd",
       "version_major": 2,
       "version_minor": 0
      },
      "text/plain": [
       "  0%|          | 0/83 [00:00<?, ?it/s]"
      ]
     },
     "metadata": {},
     "output_type": "display_data"
    },
    {
     "name": "stdout",
     "output_type": "stream",
     "text": [
      "O-O\n"
     ]
    }
   ],
   "source": [
    "pattern = \"[KQRBN]?[a-h][1-8]\"\n",
    "\n",
    "for move in tqdm(moves):\n",
    "    if re.match(pattern, move) is None:\n",
    "        print(move)\n",
    "        break"
   ]
  },
  {
   "cell_type": "markdown",
   "id": "18d6a1f0",
   "metadata": {},
   "source": [
    "3. Castling has a special notation."
   ]
  },
  {
   "cell_type": "code",
   "execution_count": 55,
   "id": "d1d62e31",
   "metadata": {},
   "outputs": [
    {
     "data": {
      "application/vnd.jupyter.widget-view+json": {
       "model_id": "ee60db10bcc642b18ded37bfd78f3722",
       "version_major": 2,
       "version_minor": 0
      },
      "text/plain": [
       "  0%|          | 0/83 [00:00<?, ?it/s]"
      ]
     },
     "metadata": {},
     "output_type": "display_data"
    },
    {
     "name": "stdout",
     "output_type": "stream",
     "text": [
      "dxc4\n"
     ]
    }
   ],
   "source": [
    "pattern = \"([KQRBN]?[a-h][1-8])|(O-O)\"\n",
    "\n",
    "for move in tqdm(moves):\n",
    "    if re.match(pattern, move) is None:\n",
    "        print(move)\n",
    "        break"
   ]
  },
  {
   "cell_type": "markdown",
   "id": "e4e9abc3",
   "metadata": {},
   "source": [
    "4. If the piece captures, this is indicated by 'x' in front of the position where the capture happened. The other new thing that we see here is dealing with ambiguity - more pawns could make a capture at the position so we need to indicate which one it was."
   ]
  },
  {
   "cell_type": "code",
   "execution_count": 56,
   "id": "f55a0ca9",
   "metadata": {},
   "outputs": [
    {
     "data": {
      "application/vnd.jupyter.widget-view+json": {
       "model_id": "0e89ebd0bbe74223849bd89127daeccc",
       "version_major": 2,
       "version_minor": 0
      },
      "text/plain": [
       "  0%|          | 0/83 [00:00<?, ?it/s]"
      ]
     },
     "metadata": {},
     "output_type": "display_data"
    },
    {
     "name": "stdout",
     "output_type": "stream",
     "text": [
      "0-1\n"
     ]
    }
   ],
   "source": [
    "pattern = \"([KQRBN]?[a-h]?x?[a-h][1-8])|(O-O)\"\n",
    "\n",
    "for move in tqdm(moves):\n",
    "    if re.match(pattern, move) is None:\n",
    "        print(move)\n",
    "        break"
   ]
  },
  {
   "cell_type": "markdown",
   "id": "5c881c81",
   "metadata": {},
   "source": [
    "5. Almost there; just need to the score. "
   ]
  },
  {
   "cell_type": "code",
   "execution_count": 57,
   "id": "5504f986",
   "metadata": {},
   "outputs": [
    {
     "data": {
      "application/vnd.jupyter.widget-view+json": {
       "model_id": "b114774131274f61bfd682dc5826bf9e",
       "version_major": 2,
       "version_minor": 0
      },
      "text/plain": [
       "  0%|          | 0/83 [00:00<?, ?it/s]"
      ]
     },
     "metadata": {},
     "output_type": "display_data"
    }
   ],
   "source": [
    "pattern = \"([KQRBN]?[a-h]?x?[a-h][1-8])|(O-O)|(0-1)|(1-0)\"\n",
    "\n",
    "for move in tqdm(moves):\n",
    "    if re.match(pattern, move) is None:\n",
    "        print(move)\n",
    "        break"
   ]
  },
  {
   "cell_type": "markdown",
   "id": "7dfc5ee6",
   "metadata": {},
   "source": [
    "6. If you look into the game in more detail you will see that for moves like `Nc3+ Rc2#` our regexp matches but we are not doing anything about the check `+` or checkmate `#`."
   ]
  },
  {
   "cell_type": "code",
   "execution_count": 58,
   "id": "775b18af",
   "metadata": {},
   "outputs": [
    {
     "data": {
      "application/vnd.jupyter.widget-view+json": {
       "model_id": "1db3a32742fa4d4f9e10aeb6653dbe2e",
       "version_major": 2,
       "version_minor": 0
      },
      "text/plain": [
       "  0%|          | 0/83 [00:00<?, ?it/s]"
      ]
     },
     "metadata": {},
     "output_type": "display_data"
    },
    {
     "name": "stdout",
     "output_type": "stream",
     "text": [
      "Rfe8+\n"
     ]
    }
   ],
   "source": [
    "pattern = \"^([KQRBN]?[a-h]?x?[a-h][1-8])$|^(O-O)$|^(0-1)$|^(1-0)$\"\n",
    "\n",
    "for move in tqdm(moves):\n",
    "    if re.match(pattern, move) is None:\n",
    "        print(move)\n",
    "        break"
   ]
  },
  {
   "cell_type": "code",
   "execution_count": 59,
   "id": "a13e3ec3",
   "metadata": {},
   "outputs": [
    {
     "data": {
      "application/vnd.jupyter.widget-view+json": {
       "model_id": "906a3fd8eaea46fea0f6cc8d62680fd2",
       "version_major": 2,
       "version_minor": 0
      },
      "text/plain": [
       "  0%|          | 0/83 [00:00<?, ?it/s]"
      ]
     },
     "metadata": {},
     "output_type": "display_data"
    }
   ],
   "source": [
    "pattern = \"^[KQRBN]?[a-h]?x?[a-h][1-8][+#]?$|^(O-O)$|^(0-1)$|^(1-0)$\"\n",
    "\n",
    "for move in tqdm(moves):\n",
    "    if re.match(pattern, move) is None:\n",
    "        print(move)\n",
    "        break"
   ]
  },
  {
   "cell_type": "markdown",
   "id": "96e079de",
   "metadata": {},
   "source": [
    "__Question__: 1. There are moves we have not covered like pawn promotion, different castlings or notation for tied games. Can you add them?"
   ]
  },
  {
   "cell_type": "markdown",
   "id": "167c48d2",
   "metadata": {},
   "source": [
    "Now that we have a valid move let us extract some information from it. Here we would like to get a piece that moved and where it went."
   ]
  },
  {
   "cell_type": "code",
   "execution_count": 60,
   "id": "7ffdd938",
   "metadata": {},
   "outputs": [
    {
     "data": {
      "text/plain": [
       "{'piece': 'Bh', 'position': 'g7'}"
      ]
     },
     "execution_count": 60,
     "metadata": {},
     "output_type": "execute_result"
    }
   ],
   "source": [
    "string = \"Bhg7\"\n",
    "pattern = (\n",
    "    \"^(?P<piece>[KQRBN]?[a-h]?)x?(?P<position>[a-h][1-8])[+#]?$|^(O-O)$|^(0-1)$|^(1-0)$\"\n",
    ")\n",
    "re.search(pattern, string).groupdict()"
   ]
  },
  {
   "cell_type": "markdown",
   "id": "e4d08379",
   "metadata": {},
   "source": [
    "__Question__: \n",
    "    \n",
    "1. Write a game narrator that parser the algebraic chess notation and return a text transcription of the game as \n",
    "`chess_narrate('1.Nf3 Nf6 2.c4 g6 3.d4 O-O 4.Qb3 dxc4 5.Qxc4 ...')` returns \n",
    "```\n",
    "White knight moves to f3.\n",
    "Black knight moves to f6.\n",
    "White pawn moves to c4.\n",
    "...\n",
    "Black castles.\n",
    "...\n",
    "White queen captures at c4.\n",
    "```\n",
    "2. For fun, look in the [PyAudio](https://pypi.org/project/PyAudio/) library and make your narrator talk!"
   ]
  },
  {
   "cell_type": "markdown",
   "id": "0de9f990",
   "metadata": {},
   "source": [
    "### Looking at Poker hands\n",
    "\n",
    "Our final example covers another game that Magnus Carlsen likes. A valid hand has 5 cards, each card is (A)ce, 2-9, (T)en, (J)ack, (Q)ueen, (K)ing."
   ]
  },
  {
   "cell_type": "code",
   "execution_count": 61,
   "id": "db782b9f",
   "metadata": {},
   "outputs": [
    {
     "name": "stdout",
     "output_type": "stream",
     "text": [
      "False\n",
      "True\n"
     ]
    }
   ],
   "source": [
    "def valid_hand(string):\n",
    "    \"\"\"Chrck received poker cards\"\"\"\n",
    "    # Any of the allowed ranks is repeated 5 times\n",
    "    pattern = \"^[ATJQK2-9]{5}\"\n",
    "    # NOTE: we are using re.match here and not seach -> ^\n",
    "    return re.match(pattern, string) is not None\n",
    "\n",
    "\n",
    "print(valid_hand(\"A\"))\n",
    "print(valid_hand(\"AJ9K8\"))"
   ]
  },
  {
   "cell_type": "markdown",
   "id": "c05e2a8d",
   "metadata": {},
   "source": [
    "Let us complicate things and also introduce suits (h)earts, (c)lubs, (s)pades, (d)iamonds. The card encoding is now RankSuite"
   ]
  },
  {
   "cell_type": "code",
   "execution_count": 62,
   "id": "de3e94be",
   "metadata": {},
   "outputs": [
    {
     "name": "stdout",
     "output_type": "stream",
     "text": [
      "False\n",
      "True\n",
      "False\n"
     ]
    }
   ],
   "source": [
    "def valid_hand(string):\n",
    "    \"\"\"Check received poker cards\"\"\"\n",
    "    # A card is repeated 5 times where card is 1 occurange of rank and 1 of suite\n",
    "    pattern = \"^(([ATJQK2-9]{1})([hcds]{1})){5}\"\n",
    "    # NOTE: we are using re.match here and not seach -> ^\n",
    "    return re.match(pattern, string) is not None\n",
    "\n",
    "\n",
    "print(valid_hand(\"AcJc9sKd8\"))\n",
    "print(valid_hand(\"AcJc9sKd8h\"))\n",
    "print(valid_hand(\"AcJc9sKdhh\"))"
   ]
  },
  {
   "cell_type": "markdown",
   "id": "2b73fbb0",
   "metadata": {},
   "source": [
    "__Question__: 1. Can you extend the function to validate that the hand comes from a [regular deck](https://www.wsop.com/poker-hands/), e.g. do not allow 5 cards of the same kind/rank?\n",
    "\n",
    "Moving on, assuming the hands are only valid. Let as classify them. For starters, we might want to see if the hand is a _flush_."
   ]
  },
  {
   "cell_type": "code",
   "execution_count": 63,
   "id": "5287d2e5",
   "metadata": {},
   "outputs": [],
   "source": [
    "def flush(string):\n",
    "    \"\"\"All cards have the same suit\"\"\"\n",
    "    # Capture the suit                                            Here refer to it\n",
    "    pattern = r\"^(?:[ATJQK2-9]{1})([hcds]{1})(?:(?:[ATJQK2-9]{1})\\1){4}\"\n",
    "    return re.match(pattern, string) is not None"
   ]
  },
  {
   "cell_type": "code",
   "execution_count": 64,
   "id": "f1e2996a",
   "metadata": {},
   "outputs": [
    {
     "name": "stdout",
     "output_type": "stream",
     "text": [
      "False\n",
      "True\n",
      "False\n",
      "False\n"
     ]
    }
   ],
   "source": [
    "print(flush(\"AcAc\"))\n",
    "print(flush(\"AcJc9cTc8c\"))\n",
    "print(flush(\"AcJc9cTc8s\"))\n",
    "print(flush(\"KdJc9cTc8s\"))"
   ]
  },
  {
   "cell_type": "markdown",
   "id": "f1cf8252",
   "metadata": {},
   "source": [
    "For other hands it might be useful to sort cards. As an example, to check for [4 of a kind](https://www.wsop.com/poker-hands/) we could then see if our hand, once sorted, matches XXXY or YXXXX. Here X and Y are ranks. Let's build the sorting functionality first.  "
   ]
  },
  {
   "cell_type": "code",
   "execution_count": 65,
   "id": "0d292900",
   "metadata": {},
   "outputs": [],
   "source": [
    "# We are on purpose using lots of (too much?) regexp functionality in the implementation\n",
    "\n",
    "\n",
    "def sort_hand(string):\n",
    "    \"\"\"Sort according to rank\"\"\"\n",
    "    # We fist want to break the hand into individual cards\n",
    "    card = \"([ATJQK2-9][hcds])\"\n",
    "    card_pattern = re.compile(f\"{card}\" * 5)\n",
    "\n",
    "    match = card_pattern.search(string)\n",
    "    cards = match.groups()\n",
    "\n",
    "    # For sorting we want to extract the rank of the card. The order\n",
    "    # of the card (string) will then be determined by a lookup table\n",
    "    table = {rank: i for i, rank in enumerate(\"23456789TJQKA\", 2)}\n",
    "    # To get the card we grab the first charcter   [First overkill I think]\n",
    "    rank_pattern = re.compile(\"^.\")\n",
    "    key = lambda card: table[rank_pattern.match(card).group()]\n",
    "\n",
    "    sorted_cards = sorted(cards, key=key)\n",
    "    # We could now just join the sorted cards to build a new string but\n",
    "    # to use more regex let us try to build a substitute string and use\n",
    "    # re.sub. The substitute string should look like r'\\i0\\i1\\i2\\i3\\i4'\n",
    "    # where ij are indices\n",
    "\n",
    "    indices = [cards.index(card) + 1 for card in sorted_cards]\n",
    "    sub = \"\".join([rf\"\\{i}\" for i in indices])\n",
    "    # Finally\n",
    "    sorted_hand = re.sub(card_pattern, sub, string)\n",
    "\n",
    "    return sorted_hand"
   ]
  },
  {
   "cell_type": "markdown",
   "id": "44ae0bd7",
   "metadata": {},
   "source": [
    "Let's give it a try and use it to check if the hand has 4 cards of the same kind."
   ]
  },
  {
   "cell_type": "code",
   "execution_count": 66,
   "id": "d1403094",
   "metadata": {},
   "outputs": [
    {
     "data": {
      "text/plain": [
       "'2c5cJdKsAc'"
      ]
     },
     "execution_count": 66,
     "metadata": {},
     "output_type": "execute_result"
    }
   ],
   "source": [
    "sort_hand(\"AcJd2c5cKs\")"
   ]
  },
  {
   "cell_type": "code",
   "execution_count": 67,
   "id": "fb19104c",
   "metadata": {
    "editable": true,
    "slideshow": {
     "slide_type": ""
    },
    "tags": []
   },
   "outputs": [],
   "source": [
    "def four_of_kind(hand):\n",
    "    \"\"\"Four hand with four of a kind return the kind otherwise empty string\"\"\"\n",
    "    sorted_hand = sort_hand(hand)\n",
    "    # NOTE: at this point we dont care about the suits. So we match\n",
    "    # on the rank and if we want to see if the first card repeats 3 times\n",
    "    first_pattern = r\"([ATJQK2-9]).\\1.\\1.\\1.(?:[ATJQK2-9].)\"\n",
    "    match = re.search(first_pattern, sorted_hand)\n",
    "    if match is not None:\n",
    "        return match.group(1)\n",
    "    # If there is no match we skip the first (lower) card and\n",
    "    # see about the 4 of a kind at the tail\n",
    "    last_pattern = r\"(?:[ATJQK2-9].)([ATJQK2-9]).\\1.\\1.\\1\"\n",
    "    match = re.search(last_pattern, sorted_hand)\n",
    "    if match is not None:\n",
    "        return match.group(1)\n",
    "    # No luck\n",
    "    return \"\""
   ]
  },
  {
   "cell_type": "code",
   "execution_count": 68,
   "id": "6011f502",
   "metadata": {},
   "outputs": [
    {
     "name": "stdout",
     "output_type": "stream",
     "text": [
      "\n",
      "A\n",
      "7\n",
      "K\n",
      "7\n"
     ]
    }
   ],
   "source": [
    "print(four_of_kind(\"AcJd2c5cKs\"))\n",
    "print(four_of_kind(\"AcAdAcAcKs\"))\n",
    "print(four_of_kind(\"7c7d7c7cKs\"))\n",
    "print(four_of_kind(\"2cKdKcKcKs\"))\n",
    "print(four_of_kind(\"7c7d7c7c7s\"))"
   ]
  },
  {
   "cell_type": "markdown",
   "id": "36ea7ae9",
   "metadata": {},
   "source": [
    "__Question__: \n",
    "1. Can you use the OR pattern in the implementation of `four_of_kind`?\n",
    "2. Can you write functions that evaluate remaining [hands](https://www.wsop.com/poker-hands/)?\n",
    "3. On top of functions you wrote could you add a function that generates hands for _N_ players from a regular deck of cards and assigns a winner based on dealt hands?\n",
    "4. Now you can run the simulator for many games - how do your statistics for winning games compare with [Wiki](https://en.wikipedia.org/wiki/Poker_probability)?"
   ]
  },
  {
   "cell_type": "markdown",
   "id": "0c1110d1",
   "metadata": {},
   "source": [
    "## Additional Resources\n",
    "\n",
    "Videos from Simon Funke from previous editions of the course [Regex 1](https://www.youtube.com/watch?v=ma93hpNFXZM), [Regex 2](https://www.youtube.com/watch?v=B6XoKtQA2Fc), [Regex 3](https://www.youtube.com/watch?v=jxNLY0L_N78),[Regex 4](https://www.youtube.com/watch?v=j1jW5EF5jfs)\n",
    "\n",
    "- RegEx [golf](https://nbviewer.org/url/norvig.com/ipython/xkcd1313.ipynb) by Google's Peter Norvig.\n",
    "- Nice [tutorial](https://realpython.com/regex-python/) on RegEx in Python "
   ]
  }
 ],
 "metadata": {
  "kernelspec": {
   "display_name": "Python 3 (ipykernel)",
   "language": "python",
   "name": "python3"
  },
  "language_info": {
   "codemirror_mode": {
    "name": "ipython",
    "version": 3
   },
   "file_extension": ".py",
   "mimetype": "text/x-python",
   "name": "python",
   "nbconvert_exporter": "python",
   "pygments_lexer": "ipython3",
   "version": "3.10.6"
  }
 },
 "nbformat": 4,
 "nbformat_minor": 5
}
