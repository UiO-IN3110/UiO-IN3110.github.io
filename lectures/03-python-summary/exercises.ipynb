{
 "cells": [
  {
   "cell_type": "markdown",
   "metadata": {
    "slideshow": {
     "slide_type": "slide"
    }
   },
   "source": [
    "## Python as a calculator\n",
    "\n",
    "You can use the Python as a simple calculator:"
   ]
  },
  {
   "cell_type": "code",
   "execution_count": null,
   "metadata": {},
   "outputs": [],
   "source": [
    "1 + 2"
   ]
  },
  {
   "cell_type": "code",
   "execution_count": null,
   "metadata": {},
   "outputs": [],
   "source": [
    "4.5 / 3 - (1 + 2) * 3"
   ]
  },
  {
   "cell_type": "markdown",
   "metadata": {},
   "source": [
    "Use `**` to compute the power:"
   ]
  },
  {
   "cell_type": "code",
   "execution_count": null,
   "metadata": {},
   "outputs": [],
   "source": [
    "4 ** 5"
   ]
  },
  {
   "cell_type": "markdown",
   "metadata": {},
   "source": [
    "Python also supports complex numbers:"
   ]
  },
  {
   "cell_type": "code",
   "execution_count": null,
   "metadata": {},
   "outputs": [],
   "source": [
    "a = 1 + 2j\n",
    "b = 3 - 5j\n",
    "a * b"
   ]
  },
  {
   "cell_type": "markdown",
   "metadata": {},
   "source": [
    "\"Modulo\" (`%`) computes the remainder of integer division"
   ]
  },
  {
   "cell_type": "code",
   "execution_count": null,
   "metadata": {},
   "outputs": [],
   "source": [
    "10 % 2"
   ]
  },
  {
   "cell_type": "code",
   "execution_count": null,
   "metadata": {},
   "outputs": [],
   "source": [
    "10 % 3"
   ]
  },
  {
   "cell_type": "code",
   "execution_count": null,
   "metadata": {},
   "outputs": [],
   "source": [
    "for n in range(10):\n",
    "    print(f\"{n} % 3 = {n % 3}\")"
   ]
  },
  {
   "cell_type": "markdown",
   "metadata": {},
   "source": [
    "Division is exact in Python 3, even if both numbers are integers"
   ]
  },
  {
   "cell_type": "code",
   "execution_count": null,
   "metadata": {},
   "outputs": [],
   "source": [
    "3 / 2"
   ]
  },
  {
   "cell_type": "markdown",
   "metadata": {},
   "source": [
    "Integer division  can be done with `//`\n",
    "and always returns an integer"
   ]
  },
  {
   "cell_type": "code",
   "execution_count": null,
   "metadata": {},
   "outputs": [],
   "source": [
    "3 // 2"
   ]
  },
  {
   "cell_type": "markdown",
   "metadata": {
    "slideshow": {
     "slide_type": "subslide"
    }
   },
   "source": [
    "More advanced mathematical functions can be `import`ed:"
   ]
  },
  {
   "cell_type": "code",
   "execution_count": null,
   "metadata": {},
   "outputs": [],
   "source": [
    "from math import log10\n",
    "log10(100)"
   ]
  },
  {
   "cell_type": "code",
   "execution_count": null,
   "metadata": {},
   "outputs": [],
   "source": [
    "help(log10)"
   ]
  },
  {
   "cell_type": "code",
   "execution_count": null,
   "metadata": {},
   "outputs": [],
   "source": [
    "from math import log"
   ]
  },
  {
   "cell_type": "markdown",
   "metadata": {},
   "source": [
    "Some exercises adapted from [Practice Python](https://www.practicepython.org), used under CC-BY-4.0.\n"
   ]
  },
  {
   "cell_type": "markdown",
   "metadata": {},
   "source": [
    "## Exercise\n",
    "\n",
    "starting from either a variable or a command-line,\n",
    "print whether a number is odd or even.\n",
    "\n",
    "Modify `hw.py`.\n",
    "\n",
    "**Bonus:** accept any number of arguments\n",
    "\n",
    "\n",
    "For example:\n",
    "\n",
    "```bash\n",
    "$ python3 hw.py 5\n",
    "5 is odd!\n",
    "$ python3 hw.py 123456\n",
    "123456 is even!\n",
    "```\n",
    "\n",
    "**Bonus:** show both quotient and remainder when given two integers\n",
    "\n",
    "```bash\n",
    "$ python3 hw.py 5 3\n",
    "7 / 3 = 2 remainder 1\n",
    "```"
   ]
  },
  {
   "cell_type": "code",
   "execution_count": null,
   "metadata": {},
   "outputs": [],
   "source": [
    "import sys\n",
    "...\n",
    "\n",
    "\n",
    "\n"
   ]
  },
  {
   "cell_type": "markdown",
   "metadata": {},
   "source": [
    "# Exercise\n",
    "\n",
    "Given a list, return all of the even items.\n",
    "\n",
    "For example, given `[1, 2, 3, 4]` return `[2, 4]`."
   ]
  },
  {
   "cell_type": "code",
   "execution_count": null,
   "metadata": {},
   "outputs": [],
   "source": [
    "def get_even(input_list):\n",
    "    \"\"\"Return even items found in a list\"\"\"\n",
    "    even_items = []\n",
    "    ...\n",
    "    return even_items\n",
    "\n",
    "get_even([1, 2, 3, 4])"
   ]
  },
  {
   "cell_type": "markdown",
   "metadata": {},
   "source": [
    "# Exercise\n",
    "\n",
    "Given a list, return a dictionary of the counts of even and odd items\n",
    "\n",
    "For example, given `[0, 1, 2, 3, 4]` return {\"even\": 2, \"odd\": 3}."
   ]
  },
  {
   "cell_type": "code",
   "execution_count": null,
   "metadata": {},
   "outputs": [],
   "source": [
    "def get_even_counts(input_list):\n",
    "    \"\"\"Return dict of\"\"\"\n",
    "    counts = {}\n",
    "    ...\n",
    "    return counts"
   ]
  },
  {
   "cell_type": "markdown",
   "metadata": {},
   "source": [
    "# Exercise\n",
    "\n",
    "1. list all the files in a directory\n",
    "2. in alphabetical order (bonus: case-insensitive!)\n",
    "3. at the end, show counts by file extension"
   ]
  },
  {
   "cell_type": "code",
   "execution_count": null,
   "metadata": {},
   "outputs": [],
   "source": [
    "paths = ...\n",
    "sorted_paths = ...\n",
    "extension_counts = {}\n",
    "\n",
    "for path in sorted_paths:\n",
    "    ...\n"
   ]
  },
  {
   "cell_type": "markdown",
   "metadata": {},
   "source": [
    "# Subclassing shapes\n",
    "\n",
    "Let's define a base shape class with methods to calculate area and perimiter:"
   ]
  },
  {
   "cell_type": "code",
   "execution_count": null,
   "metadata": {},
   "outputs": [],
   "source": [
    "class Shape:\n",
    "    \"\"\"A class defining Shapes\"\"\"\n",
    "    def __str__(self):\n",
    "        return f\"I am a {self.__class__.__name__}\"\n",
    "\n",
    "    def area(self):\n",
    "        raise NotImplementedError()\n",
    "    \n",
    "    def perimiter(self):\n",
    "        raise NotImplementedError()"
   ]
  },
  {
   "cell_type": "markdown",
   "metadata": {},
   "source": [
    "This base class defines an *API* for shapes.\n",
    "Subclasses can impelement this API by overriding these methods.\n",
    "\n",
    "Now we can make a subclass, `Rectangle`, which has a width and height:"
   ]
  },
  {
   "cell_type": "code",
   "execution_count": 29,
   "metadata": {},
   "outputs": [
    {
     "name": "stdout",
     "output_type": "stream",
     "text": [
      "I am a Rectangle\n",
      "area = 12\n",
      "perimiter = 14\n"
     ]
    }
   ],
   "source": [
    "class Rectangle(Shape):\n",
    "    \"\"\"A rectangle\"\"\"\n",
    "    def __init__(self, width, height):\n",
    "        self.width = width\n",
    "        self.height = height\n",
    "    \n",
    "    def area(self):\n",
    "        return self.width * self.height\n",
    "    \n",
    "    def perimiter(self):\n",
    "        return 2 * (self.width + self.height)\n",
    "\n",
    "r = Rectangle(3, 4)\n",
    "print(r)\n",
    "print(f\"area = {r.area()}\")\n",
    "print(f\"perimiter = {r.perimiter()}\")"
   ]
  },
  {
   "cell_type": "markdown",
   "metadata": {},
   "source": [
    "# Excercise\n",
    "\n",
    "Define a `Square` shape as simply as you can,\n",
    "such that the constructor takes only one argument:\n",
    "\n",
    "```python\n",
    "sq = Square(5)\n",
    "sq.area() # 25\n",
    "sq.perimiter() # 20\n",
    "```\n",
    "\n",
    "and define a `Circle` class that takes a radius:\n",
    "\n",
    "```python\n",
    "circ = Circle(radius=5)\n",
    "circ.area()  #\n",
    "circ.perimiter()\n",
    "```"
   ]
  },
  {
   "cell_type": "code",
   "execution_count": null,
   "metadata": {},
   "outputs": [],
   "source": [
    "class Square(...):\n",
    "    ...\n",
    "\n",
    "sq = Square(5)\n",
    "print(sq)\n",
    "print(f\"area = {sq.area()}\")\n",
    "print(f\"perimiter = {sq.perimiter()}\")"
   ]
  },
  {
   "cell_type": "code",
   "execution_count": null,
   "metadata": {},
   "outputs": [],
   "source": [
    "import ...\n",
    "class Circle(...):\n",
    "    ...\n",
    "\n",
    "circ = Circle(radius=5)\n",
    "print(circ)\n",
    "print(f\"area = {circ.area()}\")\n",
    "print(f\"perimiter = {circ.perimiter()}\")\n"
   ]
  },
  {
   "cell_type": "markdown",
   "metadata": {},
   "source": [
    "# Overriding operators with magic methods\n",
    "\n",
    "`__add__` and `__mul__` are the methods for addition and multiplication.\n",
    "\n",
    "Check out [the Python data model](https://docs.python.org/3/reference/datamodel.html#emulating-numeric-types) for what operator methods are called."
   ]
  },
  {
   "cell_type": "code",
   "execution_count": null,
   "metadata": {},
   "outputs": [],
   "source": [
    "class MyNumber:\n",
    "    def __init__(self, n):\n",
    "        self.n = n\n",
    "    \n",
    "    def __repr__(self):\n",
    "        return f\"MyNumber({self.n})\"\n",
    "\n",
    "    def __add__(self, other):\n",
    "        if not isinstance(other, MyNumber):\n",
    "            raise TypeError(\"Can only add MyNumbers together\")\n",
    "        return MyNumber(self.n + other.n)\n",
    "    \n",
    "    def __mul__(self, other):\n",
    "        if not isinstance(other, MyNumber):\n",
    "            raise TypeError(\"Can only multiply MyNumbers together\")\n",
    "        return MyNumber(self.n * other.n)\n",
    "\n",
    "a = MyNumber(5)\n",
    "b = MyNumber(10)\n",
    "a + b"
   ]
  },
  {
   "cell_type": "code",
   "execution_count": null,
   "metadata": {},
   "outputs": [],
   "source": [
    "a * b"
   ]
  },
  {
   "cell_type": "markdown",
   "metadata": {},
   "source": [
    "But we can't add a together with a regular Python int!"
   ]
  },
  {
   "cell_type": "code",
   "execution_count": null,
   "metadata": {},
   "outputs": [],
   "source": [
    "a + 1"
   ]
  },
  {
   "cell_type": "markdown",
   "metadata": {},
   "source": [
    "# Exercise\n",
    "\n",
    "allow multiplication / addition to accept regular Python floats and ints, in addition to MyNumber classes."
   ]
  },
  {
   "cell_type": "code",
   "execution_count": null,
   "metadata": {},
   "outputs": [],
   "source": [
    "class MyNumber:\n",
    "    def __init__(self, n):\n",
    "        self.n = n\n",
    "    \n",
    "    def __repr__(self):\n",
    "        return f\"MyNumber({self.n})\"\n",
    "\n",
    "    def __add__(self, other):\n",
    "        if not isinstance(other, MyNumber):\n",
    "            raise TypeError(\"Can only add MyNumbers together\")\n",
    "        return MyNumber(self.n + other.n)\n",
    "    \n",
    "    def __mul__(self, other):\n",
    "        if not isinstance(other, MyNumber):\n",
    "            raise TypeError(\"Can only multiply MyNumbers together\")\n",
    "        return MyNumber(self.n * other.n)\n",
    "\n",
    "a = MyNumber(5)\n",
    "print(a + 10)\n",
    "print(a * 2)"
   ]
  },
  {
   "cell_type": "markdown",
   "metadata": {},
   "source": [
    "# Exercise\n",
    "\n",
    "define a Point class which supports addition and subtraction of other Points and multiplication by a scalar (int or float).\n",
    "\n",
    "\n",
    "**Bonus:** implement a 3d Point3d class with x, y, z\n",
    "\n",
    "**Bonus:** implement a dot product with the `@` matrix multiplication operator:\n",
    "\n",
    "```python\n",
    "a @ b -> scalar\n",
    "```\n",
    "\n",
    "**Bonus:** implement an n-dimensional Point class that works for any number of dimensions:\n",
    "\n",
    "```python\n",
    "v = Point(1, -2, 5, 6)\n",
    "len(v)  # 4\n",
    "u = Point(-1, 2, -5, -6) \n",
    "u + v  #  (0, 0, 0, 0)\n"
   ]
  },
  {
   "cell_type": "code",
   "execution_count": null,
   "metadata": {},
   "outputs": [],
   "source": [
    "class Point:\n",
    "    def __init__(self, x, y):\n",
    "        ...\n",
    "    \n",
    "    def __repr__(self):\n",
    "        return f\"Point({self.x}, {self.y})\"\n",
    "    \n",
    "    def __add__(self, other):\n",
    "        ...\n",
    "    \n",
    "    def __mul__(self, n):\n",
    "        ...\n",
    "\n",
    "    def __...__(self, other):\n",
    "        ..."
   ]
  }
 ],
 "metadata": {
  "kernelspec": {
   "display_name": "Python 3",
   "language": "python",
   "name": "python3"
  },
  "language_info": {
   "codemirror_mode": {
    "name": "ipython",
    "version": 3
   },
   "file_extension": ".py",
   "mimetype": "text/x-python",
   "name": "python",
   "nbconvert_exporter": "python",
   "pygments_lexer": "ipython3",
   "version": "3.6.9"
  }
 },
 "nbformat": 4,
 "nbformat_minor": 4
}
