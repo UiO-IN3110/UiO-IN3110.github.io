{
 "cells": [
  {
   "cell_type": "markdown",
   "metadata": {
    "slideshow": {
     "slide_type": "slide"
    }
   },
   "source": [
    "# A glimpse into classes"
   ]
  },
  {
   "cell_type": "markdown",
   "metadata": {},
   "source": [
    "Let's have a brief look how classes work in Python."
   ]
  },
  {
   "cell_type": "markdown",
   "metadata": {
    "slideshow": {
     "slide_type": "subslide"
    }
   },
   "source": [
    "## Classes in Python\n",
    "\n",
    "In Python, everything is an **object**, every object has a **class**."
   ]
  },
  {
   "cell_type": "code",
   "execution_count": null,
   "metadata": {},
   "outputs": [],
   "source": [
    "i = 1\n",
    "print(i.__class__)\n",
    "s = \"hello\"\n",
    "print(s.__class__)"
   ]
  },
  {
   "cell_type": "markdown",
   "metadata": {
    "slideshow": {
     "slide_type": "subslide"
    }
   },
   "source": [
    "A class collects attributes and functions together. Here is an example of a class definition for a car:"
   ]
  },
  {
   "cell_type": "code",
   "execution_count": null,
   "metadata": {},
   "outputs": [],
   "source": [
    "class Car:\n",
    "    \"\"\" A class representing a car \"\"\"\n",
    "    \n",
    "    def __init__(self, year, fuel=\"electric\"):\n",
    "        self.year = year\n",
    "        self.fuel = fuel\n",
    "        self.speed = 0\n",
    "    \n",
    "    def start(self):\n",
    "        if self.fuel == \"electric\":\n",
    "            print(\"sssss\")\n",
    "        else:\n",
    "            print(\"Wohmmm\")\n",
    "            \n",
    "    def accelerate(self, new_speed):\n",
    "        self.speed = new_speed\n",
    "        "
   ]
  },
  {
   "cell_type": "markdown",
   "metadata": {},
   "source": [
    "This class contains three methods: \n",
    "  1. The `__init__` method is the **constructor** function which is called when a new class object is instantiated. \n",
    "  2. The `start` method is a user-defined function.\n",
    "  3. The `accelerate` method is also a user-defined function.\n",
    "\n",
    "\n",
    "**Note**: All instance methods take a **self** variable as first argument. This variable represents the car object itself.\n",
    "We can use the self variable to access information about the object."
   ]
  },
  {
   "cell_type": "markdown",
   "metadata": {
    "slideshow": {
     "slide_type": "subslide"
    }
   },
   "source": [
    "## Using our Python class\n",
    "\n",
    "We can create a new instance of the class:"
   ]
  },
  {
   "cell_type": "code",
   "execution_count": null,
   "metadata": {},
   "outputs": [],
   "source": [
    " mycar = Car(year=2007, fuel=\"Bensin\")\n",
    "print(mycar)"
   ]
  },
  {
   "cell_type": "markdown",
   "metadata": {},
   "source": [
    "Instantiating the class calls the `__init__` constructor and returns a new **object**, an instance of our **class**:"
   ]
  },
  {
   "cell_type": "markdown",
   "metadata": {
    "slideshow": {
     "slide_type": "fragment"
    }
   },
   "source": [
    "We can call the user-defined methods on our object:"
   ]
  },
  {
   "cell_type": "code",
   "execution_count": null,
   "metadata": {},
   "outputs": [],
   "source": [
    "mycar.start()\n",
    "mycar.accelerate(new_speed=100)"
   ]
  },
  {
   "cell_type": "markdown",
   "metadata": {},
   "source": [
    "**Note**: When calling instace methods, the `self` argument in the declaration is not included."
   ]
  },
  {
   "cell_type": "markdown",
   "metadata": {
    "slideshow": {
     "slide_type": "fragment"
    }
   },
   "source": [
    "We can also access the member attributes of the object:"
   ]
  },
  {
   "cell_type": "code",
   "execution_count": null,
   "metadata": {},
   "outputs": [],
   "source": [
    "print(mycar.year)\n",
    "print(mycar.fuel)\n",
    "print(mycar.speed)"
   ]
  },
  {
   "cell_type": "markdown",
   "metadata": {
    "slideshow": {
     "slide_type": "subslide"
    }
   },
   "source": [
    "## Magic class methods\n",
    "* Python classes can implement some magic methods.\n",
    "* If implemented, Python calls these magic methods on certain operations. \n",
    "* Here are some operations defined by magic methods:\n",
    "```python\n",
    "str(a)            # calls a.__str__(), called also with print(a)!\n",
    "len(a)            # calls a.__len__()\n",
    "c = a*b           # calls c = a.__mul__(b)\n",
    "a = a+b           # calls a = a.__add__(b)\n",
    "a += c            # calls a.__iadd__(c)\n",
    "d = a[3]          # calls d = a.__getitem__(3)\n",
    "a[3] = 0          # calls a.__setitem__(3, 0)\n",
    "f = a(1.2, True)  # calls f = a.__call__(1.2, True)\n",
    "if a:             # calls if a.__len__()> 0: or if a.__nonzero__():\n",
    "a == b            # calls a.__eq__(self, b)\n",
    "```\n",
    "\n",
    "A complete list is available here: [Python reference - Data model](https://docs.python.org/3/reference/datamodel.html)"
   ]
  },
  {
   "cell_type": "markdown",
   "metadata": {
    "slideshow": {
     "slide_type": "subslide"
    }
   },
   "source": [
    "## Example"
   ]
  },
  {
   "cell_type": "markdown",
   "metadata": {},
   "source": [
    "Currently, when we try to print our Car object the output is not very informative:"
   ]
  },
  {
   "cell_type": "code",
   "execution_count": null,
   "metadata": {},
   "outputs": [],
   "source": [
    "print(mycar)"
   ]
  },
  {
   "cell_type": "markdown",
   "metadata": {
    "slideshow": {
     "slide_type": "fragment"
    }
   },
   "source": [
    "Let's extend our car class with the magic `__str__` method:"
   ]
  },
  {
   "cell_type": "code",
   "execution_count": null,
   "metadata": {},
   "outputs": [],
   "source": [
    "class Car:\n",
    "    \"\"\" A class representing a car \"\"\"\n",
    "    \n",
    "    def __init__(self, year, fuel=\"electric\"):\n",
    "        self.year = year\n",
    "        self.fuel = fuel\n",
    "        self.speed = 0\n",
    "    \n",
    "    def __str__(self):\n",
    "        return(f\"This is a car from {self.year} driving on {self.fuel} at speed {self.speed}\")"
   ]
  },
  {
   "cell_type": "markdown",
   "metadata": {},
   "source": [
    "This magic `__str__` method is now called when we convert the car object to a string:"
   ]
  },
  {
   "cell_type": "code",
   "execution_count": null,
   "metadata": {},
   "outputs": [],
   "source": [
    "mycar = Car(2007, \"bensin\")\n",
    "str(mycar)"
   ]
  },
  {
   "cell_type": "markdown",
   "metadata": {
    "slideshow": {
     "slide_type": "subslide"
    }
   },
   "source": [
    "## Subclasses\n",
    "\n",
    "**Remember**: A class collects attributes and functions that belong together. \n",
    "\n",
    "Subclasses can be used to specialize and extend existing classes.\n",
    "\n",
    "**Technical notes on sublclasses:**\n",
    "* Python supports single and multiple inheritance\n",
    "* Python has a similar class concept as in Java and C++, but:\n",
    "  * All functions are virtual\n",
    "  * No private/protected variables (the effect can be \"simulated\")\n",
    "  * This makes class programming easier and faster than in C++ and Java:"
   ]
  },
  {
   "cell_type": "code",
   "execution_count": null,
   "metadata": {},
   "outputs": [],
   "source": [
    "class Car:\n",
    "    \"\"\" A class representing a car \"\"\"\n",
    "    \n",
    "    def __init__(self, color):\n",
    "        self.color = color\n",
    "        self.sound = \"Brooom\"\n",
    "    \n",
    "    def start(self):\n",
    "        print(self.sound)"
   ]
  },
  {
   "cell_type": "markdown",
   "metadata": {
    "slideshow": {
     "slide_type": "slide"
    }
   },
   "source": [
    "## Implementing a subclass\n",
    "\n",
    "Subclasses can be used to **inherit** the member functions/attributes from its Base class.\n",
    "\n",
    "It is usefull to create **specialisation** of a class without code duplication.\n",
    "\n",
    "Let's create a subclass `ElectricCar` that inherits the properties from the `Car` class:"
   ]
  },
  {
   "cell_type": "code",
   "execution_count": null,
   "metadata": {},
   "outputs": [],
   "source": [
    "class ElectricCar(Car):\n",
    "    def __init__(self, color):\n",
    "        super().__init__(color) # Calls the parent constructor\n",
    "                                      # self.color and self.sound are now class members\n",
    "        self.sound = \"Sssss\"          # Change the sound\n",
    "        \n",
    "    def stop(self):               # Add a new method to ElectricCars\n",
    "        print(\"Engine stopped\")   "
   ]
  },
  {
   "cell_type": "markdown",
   "metadata": {
    "slideshow": {
     "slide_type": "fragment"
    }
   },
   "source": [
    "If a subclass method is not implemented, Python will try to call the function of the parent class:"
   ]
  },
  {
   "cell_type": "code",
   "execution_count": null,
   "metadata": {},
   "outputs": [],
   "source": [
    "ecar = ElectricCar(\"white\")\n",
    "ecar.start()          \n",
    "ecar.stop()"
   ]
  },
  {
   "cell_type": "markdown",
   "metadata": {
    "slideshow": {
     "slide_type": "slide"
    }
   },
   "source": [
    "# Extending default types\n",
    "\n",
    "Everything is an object! Everything has a class!"
   ]
  },
  {
   "cell_type": "markdown",
   "metadata": {
    "slideshow": {
     "slide_type": "subslide"
    }
   },
   "source": [
    "Let's try counting occurrences of strings in a sequence and storing them in a dict:"
   ]
  },
  {
   "cell_type": "code",
   "execution_count": 53,
   "metadata": {},
   "outputs": [
    {
     "data": {
      "text/plain": [
       "{'a': 2, 'b': 2, 'c': 1}"
      ]
     },
     "execution_count": 53,
     "metadata": {},
     "output_type": "execute_result"
    }
   ],
   "source": [
    "counts = dict()\n",
    "for word in ['a', 'b', 'c', 'a', 'b']:\n",
    "    if word not in counts:\n",
    "        # we have to check every time if we've seen this before!\n",
    "        counts[word] = 0\n",
    "    counts[word] += 1\n",
    "counts"
   ]
  },
  {
   "cell_type": "markdown",
   "metadata": {
    "slideshow": {
     "slide_type": "subslide"
    }
   },
   "source": [
    "We can define a custom subclass of `dict` that overrides `__getitem__` so that it returns a default value when a key hasn't been seen before"
   ]
  },
  {
   "cell_type": "code",
   "execution_count": null,
   "metadata": {},
   "outputs": [],
   "source": [
    "class DefaultDict(dict):\n",
    "    \"\"\"A dictionary that returns a value for undefined keys\"\"\"\n",
    "    \n",
    "    def __init__(self, default_item):\n",
    "        self.default_item = default_item\n",
    "    \n",
    "    def __getitem__(self, key):\n",
    "        if key not in self:\n",
    "            self[key] = self.default_item\n",
    "        return super().__getitem__(key)\n"
   ]
  },
  {
   "cell_type": "code",
   "execution_count": 54,
   "metadata": {},
   "outputs": [
    {
     "data": {
      "text/plain": [
       "{'a': 2, 'b': 2, 'c': 1}"
      ]
     },
     "execution_count": 54,
     "metadata": {},
     "output_type": "execute_result"
    }
   ],
   "source": [
    "counts = DefaultDict(default_item=0)\n",
    "for word in ['a', 'b', 'c', 'a', 'b']:\n",
    "    counts[word] += 1\n",
    "counts"
   ]
  },
  {
   "cell_type": "markdown",
   "metadata": {
    "slideshow": {
     "slide_type": "fragment"
    }
   },
   "source": [
    "counts' class is our DefaultDict,\n",
    "but because it's a subclass, `isinstance` returns True\n",
    "for any parent class of the checked object:"
   ]
  },
  {
   "cell_type": "code",
   "execution_count": 55,
   "metadata": {},
   "outputs": [
    {
     "name": "stdout",
     "output_type": "stream",
     "text": [
      "<class '__main__.DefaultDict'>\n",
      "True\n"
     ]
    }
   ],
   "source": [
    "print(counts.__class__)\n",
    "print(isinstance(counts, dict))"
   ]
  }
 ],
 "metadata": {
  "celltoolbar": "Slideshow",
  "kernelspec": {
   "display_name": "Python 3",
   "language": "python",
   "name": "python3"
  },
  "language_info": {
   "codemirror_mode": {
    "name": "ipython",
    "version": 3
   },
   "file_extension": ".py",
   "mimetype": "text/x-python",
   "name": "python",
   "nbconvert_exporter": "python",
   "pygments_lexer": "ipython3",
   "version": "3.6.9"
  },
  "livereveal": {
   "scroll": true,
   "start_slideshow_at": "selected",
   "theme": "serif"
  }
 },
 "nbformat": 4,
 "nbformat_minor": 4
}
