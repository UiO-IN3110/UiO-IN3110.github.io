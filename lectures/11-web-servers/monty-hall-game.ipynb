{
 "cells": [
  {
   "cell_type": "markdown",
   "metadata": {
    "tags": []
   },
   "source": [
    "## The Monty Hall game\n",
    "\n",
    "Suppose you're on a game show, and you're given the choice of three doors: Behind one door is a car; behind the others, goats.\n",
    "\n",
    "In search of a new car, the player picks a door, say 1. The game host then opens one of the other doors, say 3, to reveal a goat and offers to let the player pick door 2 instead of door 1.\n",
    "\n",
    "![image](pictures/440px-Monty_open_door.svg.png \"image source: Wikipedia\")\n",
    "\n",
    "**Goal**: Implement this game as a web application.\n",
    "\n",
    "If you want to look at the code at home, here is the implementation: https://github.com/UiO-IN3110/UiO-IN3110.github.io/tree/HEAD/lectures/09_web_programming/monty-hall-game"
   ]
  },
  {
   "cell_type": "code",
   "execution_count": 1,
   "metadata": {},
   "outputs": [],
   "source": [
    "import random\n",
    "from functools import partial\n",
    "from typing import Optional\n",
    "\n",
    "from pydantic import BaseModel, Field\n",
    "\n",
    "\n",
    "class MontyHallGame(BaseModel):\n",
    "    winning: int = Field(default_factory=partial(random.randint, 1, 3))\n",
    "    first_choice: Optional[int]\n",
    "    opened: Optional[int]\n",
    "    second_choice: Optional[int]\n",
    "    has_won: Optional[bool]\n",
    "\n",
    "    def choose(self, choice: int):\n",
    "        \"\"\"The first step: Make a choice\"\"\"\n",
    "        self.first_choice = choice\n",
    "\n",
    "    def reveal(self):\n",
    "        \"\"\"The second step: host reveals a door that definitely has a goat.\"\"\"\n",
    "        choices = set([1, 2, 3])\n",
    "        # don't open the winning door\n",
    "        choices.discard(self.winning)\n",
    "        # don't open the door they've already chosen\n",
    "        choices.discard(self.first_choice)\n",
    "        # open a random remaining door.\n",
    "        # there is either 1 or 2 choices left\n",
    "        self.opened = random.choice(list(choices))\n",
    "        return self.opened\n",
    "\n",
    "    def choose_again(self, switch: bool):\n",
    "        \"\"\"Guest can either switch to the other door, or stay with their first choice\"\"\"\n",
    "        if switch:\n",
    "            choices = set([1, 2, 3])\n",
    "            choices.discard(self.first_choice)\n",
    "            choices.discard(self.opened)\n",
    "            self.second_choice = choices.pop()\n",
    "        else:\n",
    "            self.second_choice = self.first_choice\n",
    "        self.has_won = self.second_choice == self.winning\n",
    "        return self.second_choice\n",
    "\n",
    "    def play(self):\n",
    "        \"\"\"Play one full round\"\"\"\n",
    "        first_choice = int(input(\"Pick a door (1, 2, 3): \"))\n",
    "        self.choose(first_choice)\n",
    "        self.reveal()\n",
    "        available = set([1, 2, 3])\n",
    "        available.discard(first_choice)\n",
    "        available.discard(self.opened)\n",
    "        remaining = available.pop()\n",
    "        ans = input(\n",
    "            f\"I've opened door number {self.opened}. Would you like to switch (y/N)?\"\n",
    "        )\n",
    "        second_choice = self.choose_again(switch=ans.lower().startswith(\"y\"))\n",
    "\n",
    "        print(f\"You picked door number {self.second_choice}\")\n",
    "        if self.second_choice == self.winning:\n",
    "            print(\"You win!\")\n",
    "        else:\n",
    "            print(f\"Sorry, it was door number {self.winning} :(\")"
   ]
  },
  {
   "cell_type": "code",
   "execution_count": 2,
   "metadata": {},
   "outputs": [
    {
     "name": "stdin",
     "output_type": "stream",
     "text": [
      "Pick a door (1, 2, 3):  1\n",
      "I've opened door number 2. Would you like to switch (y/N)? y\n"
     ]
    },
    {
     "name": "stdout",
     "output_type": "stream",
     "text": [
      "You picked door number 3\n",
      "You win!\n"
     ]
    }
   ],
   "source": [
    "game = MontyHallGame()\n",
    "game.play()"
   ]
  },
  {
   "cell_type": "code",
   "execution_count": 7,
   "metadata": {},
   "outputs": [
    {
     "data": {
      "application/vnd.jupyter.widget-view+json": {
       "model_id": "7ee69f08316e4c0cab5fa32b2f4dfb9b",
       "version_major": 2,
       "version_minor": 0
      },
      "text/plain": [
       "IntProgress(value=0, description='switch', max=1000)"
      ]
     },
     "metadata": {},
     "output_type": "display_data"
    }
   ],
   "source": [
    "p = ipywidgets.IntProgress(description=\"switch\", max=1000)\n",
    "p"
   ]
  },
  {
   "cell_type": "code",
   "execution_count": 8,
   "metadata": {},
   "outputs": [
    {
     "data": {
      "text/plain": [
       "\u001b[0;31mSignature:\u001b[0m \u001b[0mp\u001b[0m\u001b[0;34m.\u001b[0m\u001b[0mhold_sync\u001b[0m\u001b[0;34m(\u001b[0m\u001b[0;34m)\u001b[0m\u001b[0;34m\u001b[0m\u001b[0;34m\u001b[0m\u001b[0m\n",
       "\u001b[0;31mDocstring:\u001b[0m Hold syncing any state until the outermost context manager exits\n",
       "\u001b[0;31mFile:\u001b[0m      ~/conda/lib/python3.10/site-packages/ipywidgets/widgets/widget.py\n",
       "\u001b[0;31mType:\u001b[0m      method\n"
      ]
     },
     "metadata": {},
     "output_type": "display_data"
    }
   ],
   "source": [
    "p.hold_sync?"
   ]
  },
  {
   "cell_type": "code",
   "execution_count": 30,
   "metadata": {},
   "outputs": [
    {
     "data": {
      "application/vnd.jupyter.widget-view+json": {
       "model_id": "52d1e197ca854ceb9c007014808ae6f9",
       "version_major": 2,
       "version_minor": 0
      },
      "text/plain": [
       "switch:   0%|          | 0/100000 [00:00<?, ?it/s]"
      ]
     },
     "metadata": {},
     "output_type": "display_data"
    },
    {
     "data": {
      "application/vnd.jupyter.widget-view+json": {
       "model_id": "8434032c0b4c42388616a04c6920f20d",
       "version_major": 2,
       "version_minor": 0
      },
      "text/plain": [
       "stay:   0%|          | 0/100000 [00:00<?, ?it/s]"
      ]
     },
     "metadata": {},
     "output_type": "display_data"
    }
   ],
   "source": [
    "import random\n",
    "from IPython.display import display\n",
    "import ipywidgets\n",
    "from tqdm.notebook import tqdm\n",
    "\n",
    "def autoplay(samples):\n",
    "    switch_progress = tqdm(desc=\"switch\", total=samples, mininterval=.01)\n",
    "    stay_progress = tqdm(desc=\"stay\", total=samples, mininterval=.01)\n",
    "    # limit update frequencey\n",
    "#     stay_progress._hold = stay_progress.hold_sync()\n",
    "#     stay_progress._hold.__enter__()\n",
    "    \n",
    "#     switch_progress._hold = switch_progress.hold_sync()\n",
    "#     switch_progress._hold.__enter__()\n",
    "    # display(switch_progress)\n",
    "    # display(stay_progress)\n",
    "\n",
    "    for i in range(samples):\n",
    "        for switch, progress in zip((True, False), (switch_progress, stay_progress)):\n",
    "            first_choice = random.randint(1, 3)\n",
    "            game = MontyHallGame()\n",
    "            game.choose(first_choice)\n",
    "            game.reveal()\n",
    "            game.choose_again(switch=switch)\n",
    "            if game.has_won:\n",
    "                progress.update(1)\n",
    "#                progress.value += 1\n",
    "                # if not progress.value % 10:\n",
    "                #     progress._hold.__exit__()\n",
    "                #     progress._hold.__enter__()\n",
    "    switch_progress.close()\n",
    "    stay_progress.close()\n",
    "            \n",
    "autoplay(100_000)"
   ]
  },
  {
   "cell_type": "markdown",
   "metadata": {},
   "source": [
    "Tasks:\n",
    "\n",
    "1. create a 'welcome' page\n",
    "2. serve a form for \"pick a door\"\n",
    "3. handle form submission for picking a door\n",
    "4. select a door to open\n",
    "5. serve a form to make final pick\n",
    "6. serve a result\n",
    "\n",
    "\n",
    "Initial FastAPI boilerplate:\n",
    "\n",
    "```python\n",
    "from fastapi import FastAPI, Form, Request\n",
    "from fastapi.responses import HTMLResponse\n",
    "from fastapi.templating import Jinja2Templates\n",
    "\n",
    "app = FastAPI()\n",
    "templates = Jinja2Templates(directory=\"templates\")\n",
    "\n",
    "@app.get(\"/\", response_class=HTMLResponse)\n",
    "def welcome():\n",
    "    ...\n",
    "\n",
    "if __name__ == \"__main__\":\n",
    "    import uvicorn\n",
    "    uvicorn.run(app, debug=True)\n",
    "```\n"
   ]
  },
  {
   "cell_type": "code",
   "execution_count": null,
   "metadata": {},
   "outputs": [],
   "source": []
  }
 ],
 "metadata": {
  "kernelspec": {
   "display_name": "Python 3 (ipykernel)",
   "language": "python",
   "name": "python3"
  },
  "language_info": {
   "codemirror_mode": {
    "name": "ipython",
    "version": 3
   },
   "file_extension": ".py",
   "mimetype": "text/x-python",
   "name": "python",
   "nbconvert_exporter": "python",
   "pygments_lexer": "ipython3",
   "version": "3.10.4"
  },
  "widgets": {
   "application/vnd.jupyter.widget-state+json": {
    "state": {
     "00b9709573c24237b701833e126a4d8c": {
      "model_module": "@jupyter-widgets/controls",
      "model_module_version": "1.5.0",
      "model_name": "HTMLModel",
      "state": {
       "layout": "IPY_MODEL_1942aef50d894162a4be46df10c18351",
       "style": "IPY_MODEL_a980fd2dd64245ad974aac6f8c90abae",
       "value": "stay:  34%"
      }
     },
     "00bb9a8c93f5440ea69d8ce3201bfaec": {
      "model_module": "@jupyter-widgets/controls",
      "model_module_version": "1.5.0",
      "model_name": "HTMLModel",
      "state": {
       "layout": "IPY_MODEL_cf95b1ec76bc44b3a3298bae03c24dfd",
       "style": "IPY_MODEL_57fea007ef1b4b4e910b1c54b79a95cc",
       "value": "switch:  67%"
      }
     },
     "00bfab6ffa494a1fb5a66acc167bfc70": {
      "model_module": "@jupyter-widgets/base",
      "model_module_version": "1.2.0",
      "model_name": "LayoutModel",
      "state": {}
     },
     "01e7207089614cffaa5391eb718dc250": {
      "model_module": "@jupyter-widgets/base",
      "model_module_version": "1.2.0",
      "model_name": "LayoutModel",
      "state": {}
     },
     "023292ebc2a54275807a560d3fa9d2aa": {
      "model_module": "@jupyter-widgets/base",
      "model_module_version": "1.2.0",
      "model_name": "LayoutModel",
      "state": {}
     },
     "02882a72cc5e4d3381b8da20b2d7b025": {
      "model_module": "@jupyter-widgets/controls",
      "model_module_version": "1.5.0",
      "model_name": "ProgressStyleModel",
      "state": {
       "description_width": ""
      }
     },
     "02ec57c7ab1e44f08fa21e627dfac065": {
      "model_module": "@jupyter-widgets/base",
      "model_module_version": "1.2.0",
      "model_name": "LayoutModel",
      "state": {}
     },
     "039967db83954e4d91da57f24a7d5c72": {
      "model_module": "@jupyter-widgets/controls",
      "model_module_version": "1.5.0",
      "model_name": "HTMLModel",
      "state": {
       "layout": "IPY_MODEL_1336e87b0c814bbf9523b37fba3fbbcb",
       "style": "IPY_MODEL_867dba2c8dbe4e0bba17a52d99fb921b",
       "value": "stay:  33%"
      }
     },
     "0446d5b3448447f6b119dca180c1e7d2": {
      "model_module": "@jupyter-widgets/controls",
      "model_module_version": "1.5.0",
      "model_name": "FloatProgressModel",
      "state": {
       "bar_style": "danger",
       "layout": "IPY_MODEL_75f3209e47c54e4494d1aff84d618dcd",
       "max": 10000,
       "style": "IPY_MODEL_9be0a5b3403947f09e3fa7263fcd5c94",
       "value": 6553
      }
     },
     "044af622cf9b4ee0b064cd849f9a276f": {
      "model_module": "@jupyter-widgets/controls",
      "model_module_version": "1.5.0",
      "model_name": "IntProgressModel",
      "state": {
       "description": "switch",
       "layout": "IPY_MODEL_7928295ac4774cda837faebe4cfb9a8c",
       "max": 10000,
       "style": "IPY_MODEL_a77ebf6fcd074d579937728f67df4bc5",
       "value": 6697
      }
     },
     "047ee9001c254903a375927ba1620e99": {
      "model_module": "@jupyter-widgets/controls",
      "model_module_version": "1.5.0",
      "model_name": "HBoxModel",
      "state": {
       "children": [
        "IPY_MODEL_81d71828eec745649149eac35971f1f5",
        "IPY_MODEL_ec16cc5b1c974bc3a5c2868335966696",
        "IPY_MODEL_7ee023c53a6c437fb321a0c24607f30c"
       ],
       "layout": "IPY_MODEL_b85200ddad9a4dd4be9868b54272d621"
      }
     },
     "0607803bc4df45ada89e198a766c1a1d": {
      "model_module": "@jupyter-widgets/controls",
      "model_module_version": "1.5.0",
      "model_name": "ProgressStyleModel",
      "state": {
       "description_width": ""
      }
     },
     "073cd760ba7b4cdda2ee6f1dcfb10128": {
      "model_module": "@jupyter-widgets/base",
      "model_module_version": "1.2.0",
      "model_name": "LayoutModel",
      "state": {}
     },
     "07703e32407c4914b48d92770a9727d0": {
      "model_module": "@jupyter-widgets/base",
      "model_module_version": "1.2.0",
      "model_name": "LayoutModel",
      "state": {}
     },
     "0819350cc75b462d8ab1150c49792359": {
      "model_module": "@jupyter-widgets/controls",
      "model_module_version": "1.5.0",
      "model_name": "FloatProgressModel",
      "state": {
       "bar_style": "danger",
       "layout": "IPY_MODEL_26a47c6408844e098e553483c1e9f185",
       "max": 100000,
       "style": "IPY_MODEL_69c57a6aee884a8ea4dfe60bfe8034b4",
       "value": 66736
      }
     },
     "088f488031d641ca875d237a8d923945": {
      "model_module": "@jupyter-widgets/controls",
      "model_module_version": "1.5.0",
      "model_name": "DescriptionStyleModel",
      "state": {
       "description_width": ""
      }
     },
     "08e6e7e451334a10a1b76ee69ff2305f": {
      "model_module": "@jupyter-widgets/base",
      "model_module_version": "1.2.0",
      "model_name": "LayoutModel",
      "state": {}
     },
     "0a7f1fe0b8964feab33662b54a4c4907": {
      "model_module": "@jupyter-widgets/controls",
      "model_module_version": "1.5.0",
      "model_name": "DescriptionStyleModel",
      "state": {
       "description_width": ""
      }
     },
     "0a93d0347a8344ceb5a92b495487a455": {
      "model_module": "@jupyter-widgets/base",
      "model_module_version": "1.2.0",
      "model_name": "LayoutModel",
      "state": {}
     },
     "0bf92296d6d441ab886f665d02db166c": {
      "model_module": "@jupyter-widgets/controls",
      "model_module_version": "1.5.0",
      "model_name": "ProgressStyleModel",
      "state": {
       "description_width": ""
      }
     },
     "0ce40efead65414f919665f825a0735f": {
      "model_module": "@jupyter-widgets/base",
      "model_module_version": "1.2.0",
      "model_name": "LayoutModel",
      "state": {}
     },
     "0d43756428734b7191f0fce5b5ff3b6b": {
      "model_module": "@jupyter-widgets/controls",
      "model_module_version": "1.5.0",
      "model_name": "HTMLModel",
      "state": {
       "layout": "IPY_MODEL_789d5083fa444bc79f63d5044b03e302",
       "style": "IPY_MODEL_66a848e96c374469b53a988146216121",
       "value": "stay:  33%"
      }
     },
     "0f56e49cd5a54c1db3f32909009a0abe": {
      "model_module": "@jupyter-widgets/base",
      "model_module_version": "1.2.0",
      "model_name": "LayoutModel",
      "state": {}
     },
     "12bd8701eaa444f1bfbe170c309cf4a9": {
      "model_module": "@jupyter-widgets/base",
      "model_module_version": "1.2.0",
      "model_name": "LayoutModel",
      "state": {}
     },
     "1336e87b0c814bbf9523b37fba3fbbcb": {
      "model_module": "@jupyter-widgets/base",
      "model_module_version": "1.2.0",
      "model_name": "LayoutModel",
      "state": {}
     },
     "13d6c20592744fed8ac2515309a32114": {
      "model_module": "@jupyter-widgets/controls",
      "model_module_version": "1.5.0",
      "model_name": "IntProgressModel",
      "state": {
       "description": "stay",
       "layout": "IPY_MODEL_61d912e798ae4ebf9622d8c6be64e765",
       "max": 10000,
       "style": "IPY_MODEL_80bb6495e3c04ff8bac16aa325c8d381"
      }
     },
     "13fe01bc5f78426caf07ee147aabd2ab": {
      "model_module": "@jupyter-widgets/controls",
      "model_module_version": "1.5.0",
      "model_name": "HBoxModel",
      "state": {
       "children": [
        "IPY_MODEL_039967db83954e4d91da57f24a7d5c72",
        "IPY_MODEL_6153a9bb7cce4b06b65f99240cd3485a",
        "IPY_MODEL_4a31bf37ffe442f4bd5a0fc159bacc3a"
       ],
       "layout": "IPY_MODEL_c8a16f65c6ea44baac27637be92b0fd0"
      }
     },
     "16b110eb88694e4baabab847a5822c99": {
      "model_module": "@jupyter-widgets/controls",
      "model_module_version": "1.5.0",
      "model_name": "HBoxModel",
      "state": {
       "children": [
        "IPY_MODEL_82330451a935441e96a9e46c55b0b123",
        "IPY_MODEL_77592bf0717142a197684c70433182f9",
        "IPY_MODEL_ff62363a530c4c6289d281021bc8b020"
       ],
       "layout": "IPY_MODEL_c7cb10e0b20d40f9aa01f24dfd0754ad"
      }
     },
     "17260ca15dae4c078b0b003cf172c5f1": {
      "model_module": "@jupyter-widgets/controls",
      "model_module_version": "1.5.0",
      "model_name": "HBoxModel",
      "state": {
       "children": [
        "IPY_MODEL_cbe0fb3fee0b401b95373641cd653626",
        "IPY_MODEL_7d2c8c527d2b48078b0d6108bdaa00f1",
        "IPY_MODEL_19bb23acc18446aca128249609e650b8"
       ],
       "layout": "IPY_MODEL_2ccad7b56152470abc6e1958f6420547"
      }
     },
     "174ca13c41af4835978ca860be70e077": {
      "model_module": "@jupyter-widgets/controls",
      "model_module_version": "1.5.0",
      "model_name": "DescriptionStyleModel",
      "state": {
       "description_width": ""
      }
     },
     "17e07990430d4c8d9c8b78f05c9118ba": {
      "model_module": "@jupyter-widgets/controls",
      "model_module_version": "1.5.0",
      "model_name": "HBoxModel",
      "state": {
       "children": [
        "IPY_MODEL_93cfed655c87472b82065224188cbfa0",
        "IPY_MODEL_41e36beec5ab4d0f9394a229876e79a0",
        "IPY_MODEL_6c0bdbe2fb8a43838f6dad38017c33c2"
       ],
       "layout": "IPY_MODEL_32024450a69a4f1cbaad0515017e90a7"
      }
     },
     "1942aef50d894162a4be46df10c18351": {
      "model_module": "@jupyter-widgets/base",
      "model_module_version": "1.2.0",
      "model_name": "LayoutModel",
      "state": {}
     },
     "19bb23acc18446aca128249609e650b8": {
      "model_module": "@jupyter-widgets/controls",
      "model_module_version": "1.5.0",
      "model_name": "HTMLModel",
      "state": {
       "layout": "IPY_MODEL_2eb0e4721508414d92d096e8b1468039",
       "style": "IPY_MODEL_75cc9a7268314ef78dadbed06583d5be",
       "value": " 33395/100000 [00:01&lt;00:02, 30490.93it/s]"
      }
     },
     "19c1ea4a1d3845c583263bdd28065deb": {
      "model_module": "@jupyter-widgets/base",
      "model_module_version": "1.2.0",
      "model_name": "LayoutModel",
      "state": {}
     },
     "1ad835ac94b340bdba31492be01a9415": {
      "model_module": "@jupyter-widgets/base",
      "model_module_version": "1.2.0",
      "model_name": "LayoutModel",
      "state": {}
     },
     "1b7bc19eff0043f0a3e4ebd9e58e6a2d": {
      "model_module": "@jupyter-widgets/base",
      "model_module_version": "1.2.0",
      "model_name": "LayoutModel",
      "state": {}
     },
     "1bec0e97f0bd48f7938c3a8229b50458": {
      "model_module": "@jupyter-widgets/base",
      "model_module_version": "1.2.0",
      "model_name": "LayoutModel",
      "state": {}
     },
     "1ca7777302d44e959e3be481c8399921": {
      "model_module": "@jupyter-widgets/controls",
      "model_module_version": "1.5.0",
      "model_name": "HTMLModel",
      "state": {
       "layout": "IPY_MODEL_ed21dedd737f425aa584fa7e4fe8fe00",
       "style": "IPY_MODEL_faedc09670f0408aac820811319fc3a1",
       "value": " 3330/10000 [00:00&lt;00:00, 25888.98it/s]"
      }
     },
     "1d96cf6956cf4429b6e4fdaf309747d8": {
      "model_module": "@jupyter-widgets/controls",
      "model_module_version": "1.5.0",
      "model_name": "DescriptionStyleModel",
      "state": {
       "description_width": ""
      }
     },
     "1f308c1576ee4df3aa7da833334ce5b0": {
      "model_module": "@jupyter-widgets/base",
      "model_module_version": "1.2.0",
      "model_name": "LayoutModel",
      "state": {}
     },
     "1f69552fb14e4319943b8e8ef6a8f393": {
      "model_module": "@jupyter-widgets/controls",
      "model_module_version": "1.5.0",
      "model_name": "ProgressStyleModel",
      "state": {
       "description_width": ""
      }
     },
     "20d713fe8f4e44e2b716446f6e8700a3": {
      "model_module": "@jupyter-widgets/controls",
      "model_module_version": "1.5.0",
      "model_name": "HBoxModel",
      "state": {
       "children": [
        "IPY_MODEL_7947de9dcf1f46a4b11256c639aa6cd6",
        "IPY_MODEL_eb78eb0d8c6843e985fafeaa8f93f69f",
        "IPY_MODEL_5d15ae5f781c432eabd90fc64e34d780"
       ],
       "layout": "IPY_MODEL_5e3c12f1e6a548de879a05278b8ad05d"
      }
     },
     "20e5541c41ce47019ca7285d377702d6": {
      "model_module": "@jupyter-widgets/controls",
      "model_module_version": "1.5.0",
      "model_name": "ProgressStyleModel",
      "state": {
       "description_width": ""
      }
     },
     "2110d66071054a5e8a2d17e38cd92f95": {
      "model_module": "@jupyter-widgets/base",
      "model_module_version": "1.2.0",
      "model_name": "LayoutModel",
      "state": {}
     },
     "21d54696e3b145eeb1efe1ee0b688e72": {
      "model_module": "@jupyter-widgets/controls",
      "model_module_version": "1.5.0",
      "model_name": "DescriptionStyleModel",
      "state": {
       "description_width": ""
      }
     },
     "22280d63cb15448eb31855228bb960a8": {
      "model_module": "@jupyter-widgets/controls",
      "model_module_version": "1.5.0",
      "model_name": "DescriptionStyleModel",
      "state": {
       "description_width": ""
      }
     },
     "223018c4b0a64deb912ec986da6fa6dc": {
      "model_module": "@jupyter-widgets/controls",
      "model_module_version": "1.5.0",
      "model_name": "FloatProgressModel",
      "state": {
       "bar_style": "danger",
       "layout": "IPY_MODEL_cacb69ad5a5b4c25bb1f0c084ecd0133",
       "max": 100000,
       "style": "IPY_MODEL_71a93000985c44828d53b0732c480180",
       "value": 33522
      }
     },
     "223fd4d6a6d945489b43716ba1a6e014": {
      "model_module": "@jupyter-widgets/controls",
      "model_module_version": "1.5.0",
      "model_name": "DescriptionStyleModel",
      "state": {
       "description_width": ""
      }
     },
     "22a6954350fe4172b4fe041fff55cd92": {
      "model_module": "@jupyter-widgets/base",
      "model_module_version": "1.2.0",
      "model_name": "LayoutModel",
      "state": {}
     },
     "231e9432dd3f4948b242b7d4733541bd": {
      "model_module": "@jupyter-widgets/base",
      "model_module_version": "1.2.0",
      "model_name": "LayoutModel",
      "state": {}
     },
     "2337e1218ebc422fb910195ef5c916ec": {
      "model_module": "@jupyter-widgets/base",
      "model_module_version": "1.2.0",
      "model_name": "LayoutModel",
      "state": {}
     },
     "2386689db920471dbefda1efb4f07991": {
      "model_module": "@jupyter-widgets/base",
      "model_module_version": "1.2.0",
      "model_name": "LayoutModel",
      "state": {}
     },
     "23b2989e0f6f4e34b65f09d563b64e7b": {
      "model_module": "@jupyter-widgets/base",
      "model_module_version": "1.2.0",
      "model_name": "LayoutModel",
      "state": {}
     },
     "245060bc44d74f5ba6cc3d7109e2414f": {
      "model_module": "@jupyter-widgets/controls",
      "model_module_version": "1.5.0",
      "model_name": "HTMLModel",
      "state": {
       "layout": "IPY_MODEL_f8bf4400fc9a49dea9f72f6a20716df5",
       "style": "IPY_MODEL_804fa8172a0147529d6498e5f430c6b3",
       "value": "stay:  33%"
      }
     },
     "24987b76c764457eb5b76cbac0ce5943": {
      "model_module": "@jupyter-widgets/base",
      "model_module_version": "1.2.0",
      "model_name": "LayoutModel",
      "state": {}
     },
     "252e7f623cc7411e9e95fbfc6033397c": {
      "model_module": "@jupyter-widgets/controls",
      "model_module_version": "1.5.0",
      "model_name": "ProgressStyleModel",
      "state": {
       "description_width": ""
      }
     },
     "26750a1b89d14cccb954744222968571": {
      "model_module": "@jupyter-widgets/base",
      "model_module_version": "1.2.0",
      "model_name": "LayoutModel",
      "state": {}
     },
     "26a47c6408844e098e553483c1e9f185": {
      "model_module": "@jupyter-widgets/base",
      "model_module_version": "1.2.0",
      "model_name": "LayoutModel",
      "state": {}
     },
     "2918b2a3b0e74d70baec619b000da580": {
      "model_module": "@jupyter-widgets/controls",
      "model_module_version": "1.5.0",
      "model_name": "DescriptionStyleModel",
      "state": {
       "description_width": ""
      }
     },
     "29ef2eeb53344aed99348068ddbd6170": {
      "model_module": "@jupyter-widgets/controls",
      "model_module_version": "1.5.0",
      "model_name": "HTMLModel",
      "state": {
       "layout": "IPY_MODEL_feace25697d94ec2868d0ee56adfec80",
       "style": "IPY_MODEL_7e648515faca4bcd95b83626a290fb83",
       "value": "stay:  33%"
      }
     },
     "2a7a1d08349b4acf9ac1e2a833c68b4b": {
      "model_module": "@jupyter-widgets/base",
      "model_module_version": "1.2.0",
      "model_name": "LayoutModel",
      "state": {}
     },
     "2aac1839ec334dfb978bc6f27ddcfa18": {
      "model_module": "@jupyter-widgets/controls",
      "model_module_version": "1.5.0",
      "model_name": "HBoxModel",
      "state": {
       "children": [
        "IPY_MODEL_b11fd8490faa4e5bb7a35d4f2401f0ea",
        "IPY_MODEL_fc92a013d15541a1830a439d8e0ab9cf",
        "IPY_MODEL_b6c47883c7044260b2a9951f02afced9"
       ],
       "layout": "IPY_MODEL_8d6d713d73a042a1bbb9134f018cffdc"
      }
     },
     "2be0a551d42b4ce2a2f5dbe8521c2bf9": {
      "model_module": "@jupyter-widgets/controls",
      "model_module_version": "1.5.0",
      "model_name": "DescriptionStyleModel",
      "state": {
       "description_width": ""
      }
     },
     "2c6349b6bcf645ca8d4193899ffc2b36": {
      "model_module": "@jupyter-widgets/controls",
      "model_module_version": "1.5.0",
      "model_name": "HBoxModel",
      "state": {
       "children": [
        "IPY_MODEL_b3af46554437446cbc426a6125c3e130",
        "IPY_MODEL_0446d5b3448447f6b119dca180c1e7d2",
        "IPY_MODEL_a7829ed9eba842b48ed97d73ffc0a7be"
       ],
       "layout": "IPY_MODEL_4efeb31f12414304843673f7a7a754a3"
      }
     },
     "2cc7986ce7ea46129e7c7e6eab79dba5": {
      "model_module": "@jupyter-widgets/controls",
      "model_module_version": "1.5.0",
      "model_name": "DescriptionStyleModel",
      "state": {
       "description_width": ""
      }
     },
     "2ccad7b56152470abc6e1958f6420547": {
      "model_module": "@jupyter-widgets/base",
      "model_module_version": "1.2.0",
      "model_name": "LayoutModel",
      "state": {}
     },
     "2d4d8d0788ee4933941a21d8d4f60e46": {
      "model_module": "@jupyter-widgets/controls",
      "model_module_version": "1.5.0",
      "model_name": "ProgressStyleModel",
      "state": {
       "description_width": ""
      }
     },
     "2d67b36068f24c6497d5e620578e0e8a": {
      "model_module": "@jupyter-widgets/base",
      "model_module_version": "1.2.0",
      "model_name": "LayoutModel",
      "state": {}
     },
     "2d9bb77fbde8435aa7a559015efb496e": {
      "model_module": "@jupyter-widgets/base",
      "model_module_version": "1.2.0",
      "model_name": "LayoutModel",
      "state": {}
     },
     "2da02a1b1ca8497d83b509311d82c782": {
      "model_module": "@jupyter-widgets/controls",
      "model_module_version": "1.5.0",
      "model_name": "DescriptionStyleModel",
      "state": {
       "description_width": ""
      }
     },
     "2deabc12d9ac4b70bcb4649c463215c0": {
      "model_module": "@jupyter-widgets/base",
      "model_module_version": "1.2.0",
      "model_name": "LayoutModel",
      "state": {}
     },
     "2df3b73a66ef4a6896fb343fbcd3b068": {
      "model_module": "@jupyter-widgets/base",
      "model_module_version": "1.2.0",
      "model_name": "LayoutModel",
      "state": {}
     },
     "2e211d1c942c44a39876f956572e9bdc": {
      "model_module": "@jupyter-widgets/controls",
      "model_module_version": "1.5.0",
      "model_name": "FloatProgressModel",
      "state": {
       "bar_style": "danger",
       "layout": "IPY_MODEL_5b25b1743bf74ce59a9d90a6c4120c2b",
       "max": 10000,
       "style": "IPY_MODEL_20e5541c41ce47019ca7285d377702d6",
       "value": 6641
      }
     },
     "2e24d5031b914828a0ca6d945746283d": {
      "model_module": "@jupyter-widgets/controls",
      "model_module_version": "1.5.0",
      "model_name": "DescriptionStyleModel",
      "state": {
       "description_width": ""
      }
     },
     "2eb0e4721508414d92d096e8b1468039": {
      "model_module": "@jupyter-widgets/base",
      "model_module_version": "1.2.0",
      "model_name": "LayoutModel",
      "state": {}
     },
     "30f9dfd2e71241fb9c037778321e7736": {
      "model_module": "@jupyter-widgets/controls",
      "model_module_version": "1.5.0",
      "model_name": "ProgressStyleModel",
      "state": {
       "description_width": ""
      }
     },
     "32024450a69a4f1cbaad0515017e90a7": {
      "model_module": "@jupyter-widgets/base",
      "model_module_version": "1.2.0",
      "model_name": "LayoutModel",
      "state": {}
     },
     "33922bbfe5634a8d8ec8f6703a24a297": {
      "model_module": "@jupyter-widgets/base",
      "model_module_version": "1.2.0",
      "model_name": "LayoutModel",
      "state": {}
     },
     "33f55d78a5544ad4acd2dcbcc963c5d0": {
      "model_module": "@jupyter-widgets/base",
      "model_module_version": "1.2.0",
      "model_name": "LayoutModel",
      "state": {}
     },
     "344978d7a81644b5a1525971204dd697": {
      "model_module": "@jupyter-widgets/controls",
      "model_module_version": "1.5.0",
      "model_name": "DescriptionStyleModel",
      "state": {
       "description_width": ""
      }
     },
     "36451bdd260044c49fad5265c1ce0615": {
      "model_module": "@jupyter-widgets/controls",
      "model_module_version": "1.5.0",
      "model_name": "DescriptionStyleModel",
      "state": {
       "description_width": ""
      }
     },
     "3798295d0cc84e838703e506b32a6878": {
      "model_module": "@jupyter-widgets/base",
      "model_module_version": "1.2.0",
      "model_name": "LayoutModel",
      "state": {}
     },
     "38aeb95a7ccf488693dcfdc8d8b386af": {
      "model_module": "@jupyter-widgets/controls",
      "model_module_version": "1.5.0",
      "model_name": "HBoxModel",
      "state": {
       "children": [
        "IPY_MODEL_00b9709573c24237b701833e126a4d8c",
        "IPY_MODEL_efb7641e143c43048ea4676edc86acf3",
        "IPY_MODEL_5d73fbf34d00475a99f6ddb6d8ed3cdf"
       ],
       "layout": "IPY_MODEL_572ded9a26ca49698a9c215e1e8c19e0"
      }
     },
     "391d28b21b9444f3be70449f2b0d2c6d": {
      "model_module": "@jupyter-widgets/base",
      "model_module_version": "1.2.0",
      "model_name": "LayoutModel",
      "state": {}
     },
     "391feb4ff63c47628f4ebb1626fd46e3": {
      "model_module": "@jupyter-widgets/controls",
      "model_module_version": "1.5.0",
      "model_name": "IntProgressModel",
      "state": {
       "description": "switch",
       "layout": "IPY_MODEL_08e6e7e451334a10a1b76ee69ff2305f",
       "max": 10000,
       "style": "IPY_MODEL_80430e76df7241aea6a0d8a3df641b8d",
       "value": 10
      }
     },
     "398b469b5bad47f0add1f3fb41032a25": {
      "model_module": "@jupyter-widgets/controls",
      "model_module_version": "1.5.0",
      "model_name": "DescriptionStyleModel",
      "state": {
       "description_width": ""
      }
     },
     "3bc8c135fcfd49f5b236e4a60398544d": {
      "model_module": "@jupyter-widgets/controls",
      "model_module_version": "1.5.0",
      "model_name": "HBoxModel",
      "state": {
       "children": [
        "IPY_MODEL_c62300dc54e7429aac72473eefe866b7",
        "IPY_MODEL_5793abdbcb5e4fce9f4d3005e3582bba",
        "IPY_MODEL_467226ec3e184405b4d3c6dab3536e70"
       ],
       "layout": "IPY_MODEL_8e800f51987e439c8cde84e0012f0860"
      }
     },
     "3fba87c85cc446e5b03cd9bed70ed9b2": {
      "model_module": "@jupyter-widgets/controls",
      "model_module_version": "1.5.0",
      "model_name": "ProgressStyleModel",
      "state": {
       "description_width": ""
      }
     },
     "3fe3d7160aaf44b1920552d7419f1bfa": {
      "model_module": "@jupyter-widgets/controls",
      "model_module_version": "1.5.0",
      "model_name": "DescriptionStyleModel",
      "state": {
       "description_width": ""
      }
     },
     "41e36beec5ab4d0f9394a229876e79a0": {
      "model_module": "@jupyter-widgets/controls",
      "model_module_version": "1.5.0",
      "model_name": "FloatProgressModel",
      "state": {
       "layout": "IPY_MODEL_451bb8aeb3744f66bca79514ff820f27",
       "max": 10000,
       "style": "IPY_MODEL_466b2fb13c4a444597fa9abe7547cb91",
       "value": 3377
      }
     },
     "42a0a5d70ef9456f9ee0011b1c499827": {
      "model_module": "@jupyter-widgets/controls",
      "model_module_version": "1.5.0",
      "model_name": "ProgressStyleModel",
      "state": {
       "description_width": ""
      }
     },
     "4357572f4eb04750a3ee883df6eb64b6": {
      "model_module": "@jupyter-widgets/controls",
      "model_module_version": "1.5.0",
      "model_name": "HTMLModel",
      "state": {
       "layout": "IPY_MODEL_e5861b1556094bc19c7e59affa05224a",
       "style": "IPY_MODEL_d6e5ca47e5ee4730bf200cf17bba06bb",
       "value": " 33475/100000 [00:01&lt;00:02, 33226.30it/s]"
      }
     },
     "43749e15f4fd4891beb18e254d3d0cf4": {
      "model_module": "@jupyter-widgets/controls",
      "model_module_version": "1.5.0",
      "model_name": "DescriptionStyleModel",
      "state": {
       "description_width": ""
      }
     },
     "43d77b86c24d44b59573c9dffcc302b0": {
      "model_module": "@jupyter-widgets/controls",
      "model_module_version": "1.5.0",
      "model_name": "DescriptionStyleModel",
      "state": {
       "description_width": ""
      }
     },
     "447ab133df2f41158a4e94ed3d84be60": {
      "model_module": "@jupyter-widgets/controls",
      "model_module_version": "1.5.0",
      "model_name": "DescriptionStyleModel",
      "state": {
       "description_width": ""
      }
     },
     "447bb4bcd3114f449031c7dd6834d171": {
      "model_module": "@jupyter-widgets/controls",
      "model_module_version": "1.5.0",
      "model_name": "DescriptionStyleModel",
      "state": {
       "description_width": ""
      }
     },
     "44f02d12124c4bf990073f437c81b306": {
      "model_module": "@jupyter-widgets/controls",
      "model_module_version": "1.5.0",
      "model_name": "HTMLModel",
      "state": {
       "layout": "IPY_MODEL_1b7bc19eff0043f0a3e4ebd9e58e6a2d",
       "style": "IPY_MODEL_1d96cf6956cf4429b6e4fdaf309747d8",
       "value": " 66786/100000 [00:01&lt;00:00, 63024.37it/s]"
      }
     },
     "450d3246fb6044488df7f7f452b75461": {
      "model_module": "@jupyter-widgets/base",
      "model_module_version": "1.2.0",
      "model_name": "LayoutModel",
      "state": {}
     },
     "451bb8aeb3744f66bca79514ff820f27": {
      "model_module": "@jupyter-widgets/base",
      "model_module_version": "1.2.0",
      "model_name": "LayoutModel",
      "state": {}
     },
     "4560f2d5fea948f7bda7039c23c553d0": {
      "model_module": "@jupyter-widgets/controls",
      "model_module_version": "1.5.0",
      "model_name": "HBoxModel",
      "state": {
       "children": [
        "IPY_MODEL_cf28936e20e746d4a4a2687379c7432d",
        "IPY_MODEL_650a2d94db134d13aeb0159823890585",
        "IPY_MODEL_1ca7777302d44e959e3be481c8399921"
       ],
       "layout": "IPY_MODEL_ea11e9bb8323457b87372d2e72602406"
      }
     },
     "45bf4c318aa1413696382b6f39180311": {
      "model_module": "@jupyter-widgets/base",
      "model_module_version": "1.2.0",
      "model_name": "LayoutModel",
      "state": {}
     },
     "462c28b506774bbaa8b87aea6c149db2": {
      "model_module": "@jupyter-widgets/controls",
      "model_module_version": "1.5.0",
      "model_name": "HBoxModel",
      "state": {
       "children": [
        "IPY_MODEL_c9c4a9069314473f9a373c1e5d33fbb3",
        "IPY_MODEL_0819350cc75b462d8ab1150c49792359",
        "IPY_MODEL_78bf7ae73df14e92872bc57a70cc86cb"
       ],
       "layout": "IPY_MODEL_01e7207089614cffaa5391eb718dc250"
      }
     },
     "466b2fb13c4a444597fa9abe7547cb91": {
      "model_module": "@jupyter-widgets/controls",
      "model_module_version": "1.5.0",
      "model_name": "ProgressStyleModel",
      "state": {
       "description_width": ""
      }
     },
     "467226ec3e184405b4d3c6dab3536e70": {
      "model_module": "@jupyter-widgets/controls",
      "model_module_version": "1.5.0",
      "model_name": "HTMLModel",
      "state": {
       "layout": "IPY_MODEL_1f308c1576ee4df3aa7da833334ce5b0",
       "style": "IPY_MODEL_5df4493416f74ae9b09b7614b6eaf4a7"
      }
     },
     "472d96d0e2b443f4a0095f613763d0a9": {
      "model_module": "@jupyter-widgets/controls",
      "model_module_version": "1.5.0",
      "model_name": "HBoxModel",
      "state": {
       "children": [
        "IPY_MODEL_00bb9a8c93f5440ea69d8ce3201bfaec",
        "IPY_MODEL_4fe01ada02e542fa9c4ffda2a19a2fa9",
        "IPY_MODEL_656dc76e75d1490c881c3b53c1dcfef1"
       ],
       "layout": "IPY_MODEL_00bfab6ffa494a1fb5a66acc167bfc70"
      }
     },
     "4a31bf37ffe442f4bd5a0fc159bacc3a": {
      "model_module": "@jupyter-widgets/controls",
      "model_module_version": "1.5.0",
      "model_name": "HTMLModel",
      "state": {
       "layout": "IPY_MODEL_4a40d60a5bc94cc1987065690962bbf3",
       "style": "IPY_MODEL_4ad522376f4d4adb9c6e6cbc977085c3",
       "value": " 3329/10000 [00:00&lt;00:00, 25614.89it/s]"
      }
     },
     "4a40d60a5bc94cc1987065690962bbf3": {
      "model_module": "@jupyter-widgets/base",
      "model_module_version": "1.2.0",
      "model_name": "LayoutModel",
      "state": {}
     },
     "4ad522376f4d4adb9c6e6cbc977085c3": {
      "model_module": "@jupyter-widgets/controls",
      "model_module_version": "1.5.0",
      "model_name": "DescriptionStyleModel",
      "state": {
       "description_width": ""
      }
     },
     "4af772779841447e965fb89807983548": {
      "model_module": "@jupyter-widgets/controls",
      "model_module_version": "1.5.0",
      "model_name": "ProgressStyleModel",
      "state": {
       "description_width": ""
      }
     },
     "4ba75418962048bb907a470d124c77c2": {
      "model_module": "@jupyter-widgets/controls",
      "model_module_version": "1.5.0",
      "model_name": "IntProgressModel",
      "state": {
       "description": "stay",
       "layout": "IPY_MODEL_231e9432dd3f4948b242b7d4733541bd",
       "max": 10000,
       "style": "IPY_MODEL_cf3bdef202da4df29d74e785e34e9ca0",
       "value": 3270
      }
     },
     "4c8a588f8b4e44f3b52042b98e78d43e": {
      "model_module": "@jupyter-widgets/base",
      "model_module_version": "1.2.0",
      "model_name": "LayoutModel",
      "state": {}
     },
     "4ed0f6e983c2480a8ec940107c92dadb": {
      "model_module": "@jupyter-widgets/controls",
      "model_module_version": "1.5.0",
      "model_name": "DescriptionStyleModel",
      "state": {
       "description_width": ""
      }
     },
     "4efeb31f12414304843673f7a7a754a3": {
      "model_module": "@jupyter-widgets/base",
      "model_module_version": "1.2.0",
      "model_name": "LayoutModel",
      "state": {}
     },
     "4f8e812a7d1547ab9e80c5a6d7dc9285": {
      "model_module": "@jupyter-widgets/controls",
      "model_module_version": "1.5.0",
      "model_name": "DescriptionStyleModel",
      "state": {
       "description_width": ""
      }
     },
     "4fe01ada02e542fa9c4ffda2a19a2fa9": {
      "model_module": "@jupyter-widgets/controls",
      "model_module_version": "1.5.0",
      "model_name": "FloatProgressModel",
      "state": {
       "bar_style": "danger",
       "layout": "IPY_MODEL_9f423ea96ed3408689a461b0432567a9",
       "max": 10000,
       "style": "IPY_MODEL_0bf92296d6d441ab886f665d02db166c",
       "value": 6691
      }
     },
     "4ffa21a08f70424bb6901e67d7e91265": {
      "model_module": "@jupyter-widgets/controls",
      "model_module_version": "1.5.0",
      "model_name": "ProgressStyleModel",
      "state": {
       "description_width": ""
      }
     },
     "503d831084c8438491b7e7c919f7bfdc": {
      "model_module": "@jupyter-widgets/controls",
      "model_module_version": "1.5.0",
      "model_name": "HBoxModel",
      "state": {
       "children": [
        "IPY_MODEL_810cc8a76ce24444bd19578c96dcf2d0",
        "IPY_MODEL_223018c4b0a64deb912ec986da6fa6dc",
        "IPY_MODEL_61d6e1ba0164440a905e9767e916b998"
       ],
       "layout": "IPY_MODEL_d03b9a2d3b22470381da42a85be13f48"
      }
     },
     "512356df1b744b2ba9a658e7bed39ae9": {
      "model_module": "@jupyter-widgets/controls",
      "model_module_version": "1.5.0",
      "model_name": "DescriptionStyleModel",
      "state": {
       "description_width": ""
      }
     },
     "5142a701140c40f7a211468e5e09bfd9": {
      "model_module": "@jupyter-widgets/base",
      "model_module_version": "1.2.0",
      "model_name": "LayoutModel",
      "state": {}
     },
     "52d1e197ca854ceb9c007014808ae6f9": {
      "model_module": "@jupyter-widgets/controls",
      "model_module_version": "1.5.0",
      "model_name": "HBoxModel",
      "state": {
       "children": [
        "IPY_MODEL_d995acbee854474c88c06c74b021637d",
        "IPY_MODEL_fd69aef48cd845c4a3911b750308fc8a",
        "IPY_MODEL_6ac27ba8c1fa418ab8bbd11738874d66"
       ],
       "layout": "IPY_MODEL_2a7a1d08349b4acf9ac1e2a833c68b4b"
      }
     },
     "5584bab77f3145ae8de831bd186c5e4a": {
      "model_module": "@jupyter-widgets/base",
      "model_module_version": "1.2.0",
      "model_name": "LayoutModel",
      "state": {}
     },
     "56be59e4319940fc9fb2d3f1a3fba3fe": {
      "model_module": "@jupyter-widgets/controls",
      "model_module_version": "1.5.0",
      "model_name": "HTMLModel",
      "state": {
       "layout": "IPY_MODEL_0f56e49cd5a54c1db3f32909009a0abe",
       "style": "IPY_MODEL_512356df1b744b2ba9a658e7bed39ae9",
       "value": "stay:  34%"
      }
     },
     "56c5712a23a94fa5bdbb7f19d43bfc0c": {
      "model_module": "@jupyter-widgets/controls",
      "model_module_version": "1.5.0",
      "model_name": "FloatProgressModel",
      "state": {
       "bar_style": "danger",
       "layout": "IPY_MODEL_e40f1899a87c4a9f835c8d93b3d7dd4e",
       "max": 10000,
       "style": "IPY_MODEL_42a0a5d70ef9456f9ee0011b1c499827",
       "value": 3262
      }
     },
     "56ccb64d4d734609a203752e9bca54b1": {
      "model_module": "@jupyter-widgets/controls",
      "model_module_version": "1.5.0",
      "model_name": "ProgressStyleModel",
      "state": {
       "description_width": ""
      }
     },
     "572ded9a26ca49698a9c215e1e8c19e0": {
      "model_module": "@jupyter-widgets/base",
      "model_module_version": "1.2.0",
      "model_name": "LayoutModel",
      "state": {}
     },
     "5793abdbcb5e4fce9f4d3005e3582bba": {
      "model_module": "@jupyter-widgets/controls",
      "model_module_version": "1.5.0",
      "model_name": "FloatProgressModel",
      "state": {
       "bar_style": "danger",
       "layout": "IPY_MODEL_c057a53ecfe948fd90b6a412efe6a90b",
       "max": 100000,
       "style": "IPY_MODEL_30f9dfd2e71241fb9c037778321e7736",
       "value": 66760
      }
     },
     "57fea007ef1b4b4e910b1c54b79a95cc": {
      "model_module": "@jupyter-widgets/controls",
      "model_module_version": "1.5.0",
      "model_name": "DescriptionStyleModel",
      "state": {
       "description_width": ""
      }
     },
     "58006357b8834274bbc7836104e8a333": {
      "model_module": "@jupyter-widgets/base",
      "model_module_version": "1.2.0",
      "model_name": "LayoutModel",
      "state": {}
     },
     "5b25b1743bf74ce59a9d90a6c4120c2b": {
      "model_module": "@jupyter-widgets/base",
      "model_module_version": "1.2.0",
      "model_name": "LayoutModel",
      "state": {}
     },
     "5cfb69186d634efeb18c7a4ee47c837a": {
      "model_module": "@jupyter-widgets/base",
      "model_module_version": "1.2.0",
      "model_name": "LayoutModel",
      "state": {}
     },
     "5d15ae5f781c432eabd90fc64e34d780": {
      "model_module": "@jupyter-widgets/controls",
      "model_module_version": "1.5.0",
      "model_name": "HTMLModel",
      "state": {
       "layout": "IPY_MODEL_70433b1ea3d548ff963f81b4223c0c74",
       "style": "IPY_MODEL_8f19e602ce6c4f3b867131d234466788",
       "value": " 6569/10000 [00:41&lt;00:00, 40024.12it/s]"
      }
     },
     "5d73fbf34d00475a99f6ddb6d8ed3cdf": {
      "model_module": "@jupyter-widgets/controls",
      "model_module_version": "1.5.0",
      "model_name": "HTMLModel",
      "state": {
       "layout": "IPY_MODEL_ad605cfd992b4c52817e55e0eb580e41",
       "style": "IPY_MODEL_2be0a551d42b4ce2a2f5dbe8521c2bf9",
       "value": " 3370/10000 [00:00&lt;00:00, 25339.78it/s]"
      }
     },
     "5df4493416f74ae9b09b7614b6eaf4a7": {
      "model_module": "@jupyter-widgets/controls",
      "model_module_version": "1.5.0",
      "model_name": "DescriptionStyleModel",
      "state": {
       "description_width": ""
      }
     },
     "5e1ee5de6da54af3b192638f0e6b9002": {
      "model_module": "@jupyter-widgets/base",
      "model_module_version": "1.2.0",
      "model_name": "LayoutModel",
      "state": {}
     },
     "5e3c12f1e6a548de879a05278b8ad05d": {
      "model_module": "@jupyter-widgets/base",
      "model_module_version": "1.2.0",
      "model_name": "LayoutModel",
      "state": {}
     },
     "5e854c5ce8184ad1844565176e6578ff": {
      "model_module": "@jupyter-widgets/controls",
      "model_module_version": "1.5.0",
      "model_name": "HTMLModel",
      "state": {
       "layout": "IPY_MODEL_7b3078470f9547cf81812184f69ba304",
       "style": "IPY_MODEL_83f9ee6b27304d1b804af9e21113676b",
       "value": " 3342/10000 [00:28&lt;00:00, 26469.58it/s]"
      }
     },
     "5ff43ed33d82431b97db8ba9201ce63b": {
      "model_module": "@jupyter-widgets/base",
      "model_module_version": "1.2.0",
      "model_name": "LayoutModel",
      "state": {}
     },
     "5ffce96544f445b9beb2e335c3b6e4f2": {
      "model_module": "@jupyter-widgets/controls",
      "model_module_version": "1.5.0",
      "model_name": "HBoxModel",
      "state": {
       "children": [
        "IPY_MODEL_fd167757382c4e06b63d9c5475cef60e",
        "IPY_MODEL_947faa21be8a49bf8c5a53afc6d249e2",
        "IPY_MODEL_99d0840bb8ee4b9380f709cf0b593962"
       ],
       "layout": "IPY_MODEL_ab2c54b83d8e44afbd8ba3d85f89de02"
      }
     },
     "6153a9bb7cce4b06b65f99240cd3485a": {
      "model_module": "@jupyter-widgets/controls",
      "model_module_version": "1.5.0",
      "model_name": "FloatProgressModel",
      "state": {
       "bar_style": "danger",
       "layout": "IPY_MODEL_bee5d772cacf4d1b81b6acaf8d149a73",
       "max": 10000,
       "style": "IPY_MODEL_1f69552fb14e4319943b8e8ef6a8f393",
       "value": 3329
      }
     },
     "61d6e1ba0164440a905e9767e916b998": {
      "model_module": "@jupyter-widgets/controls",
      "model_module_version": "1.5.0",
      "model_name": "HTMLModel",
      "state": {
       "layout": "IPY_MODEL_e8b7581b13f4405cb7aada8b42d3c47c",
       "style": "IPY_MODEL_7139b8fb9fe94a1bb168fe321022dee0",
       "value": " 33522/100000 [00:01&lt;00:02, 32831.76it/s]"
      }
     },
     "61d912e798ae4ebf9622d8c6be64e765": {
      "model_module": "@jupyter-widgets/base",
      "model_module_version": "1.2.0",
      "model_name": "LayoutModel",
      "state": {}
     },
     "63a30ca093a34066bb4caf537ed927c2": {
      "model_module": "@jupyter-widgets/base",
      "model_module_version": "1.2.0",
      "model_name": "LayoutModel",
      "state": {}
     },
     "650a2d94db134d13aeb0159823890585": {
      "model_module": "@jupyter-widgets/controls",
      "model_module_version": "1.5.0",
      "model_name": "FloatProgressModel",
      "state": {
       "bar_style": "danger",
       "layout": "IPY_MODEL_9d17ea037c6c4c3bb2e8582c1fb2bc76",
       "max": 10000,
       "style": "IPY_MODEL_7664a0694b92438d965e97916d792ccb",
       "value": 3330
      }
     },
     "656dc76e75d1490c881c3b53c1dcfef1": {
      "model_module": "@jupyter-widgets/controls",
      "model_module_version": "1.5.0",
      "model_name": "HTMLModel",
      "state": {
       "layout": "IPY_MODEL_2df3b73a66ef4a6896fb343fbcd3b068",
       "style": "IPY_MODEL_2e24d5031b914828a0ca6d945746283d",
       "value": " 6691/10000 [00:00&lt;00:00, 36087.88it/s]"
      }
     },
     "669c89f6e97c4cf1ab478d479508ed07": {
      "model_module": "@jupyter-widgets/controls",
      "model_module_version": "1.5.0",
      "model_name": "FloatProgressModel",
      "state": {
       "bar_style": "danger",
       "layout": "IPY_MODEL_c5272aa1fdef4bbe9a2950b9bdee0682",
       "max": 100000,
       "style": "IPY_MODEL_56ccb64d4d734609a203752e9bca54b1",
       "value": 66849
      }
     },
     "66a848e96c374469b53a988146216121": {
      "model_module": "@jupyter-widgets/controls",
      "model_module_version": "1.5.0",
      "model_name": "DescriptionStyleModel",
      "state": {
       "description_width": ""
      }
     },
     "69b49f44c8244cc790a8b3eda6fee78a": {
      "model_module": "@jupyter-widgets/controls",
      "model_module_version": "1.5.0",
      "model_name": "HTMLModel",
      "state": {
       "layout": "IPY_MODEL_924fa6f59b864731b87eef00dc5e406c",
       "style": "IPY_MODEL_6b14f9ae42b84ada9d11ef172b8f6401"
      }
     },
     "69c57a6aee884a8ea4dfe60bfe8034b4": {
      "model_module": "@jupyter-widgets/controls",
      "model_module_version": "1.5.0",
      "model_name": "ProgressStyleModel",
      "state": {
       "description_width": ""
      }
     },
     "6ac27ba8c1fa418ab8bbd11738874d66": {
      "model_module": "@jupyter-widgets/controls",
      "model_module_version": "1.5.0",
      "model_name": "HTMLModel",
      "state": {
       "layout": "IPY_MODEL_b0ffcfc573964acea1f9087b0398917a",
       "style": "IPY_MODEL_c64b62181a194c92a32119d8c00ae54b",
       "value": " 66516/100000 [00:01&lt;00:00, 60784.99it/s]"
      }
     },
     "6b14f9ae42b84ada9d11ef172b8f6401": {
      "model_module": "@jupyter-widgets/controls",
      "model_module_version": "1.5.0",
      "model_name": "DescriptionStyleModel",
      "state": {
       "description_width": ""
      }
     },
     "6b2aa1a0174f4920b414f25737439672": {
      "model_module": "@jupyter-widgets/controls",
      "model_module_version": "1.5.0",
      "model_name": "IntProgressModel",
      "state": {
       "description": "stay",
       "layout": "IPY_MODEL_2d67b36068f24c6497d5e620578e0e8a",
       "max": 10000,
       "style": "IPY_MODEL_74728ab911344e61a8bdf9492a99fec1",
       "value": 5
      }
     },
     "6b32f48a5e114681be233bbcefd77848": {
      "model_module": "@jupyter-widgets/controls",
      "model_module_version": "1.5.0",
      "model_name": "ProgressStyleModel",
      "state": {
       "description_width": ""
      }
     },
     "6c0bdbe2fb8a43838f6dad38017c33c2": {
      "model_module": "@jupyter-widgets/controls",
      "model_module_version": "1.5.0",
      "model_name": "HTMLModel",
      "state": {
       "layout": "IPY_MODEL_2386689db920471dbefda1efb4f07991",
       "style": "IPY_MODEL_9c169ab84dee41068bce1d89faa76dea",
       "value": " 3377/10000 [00:13&lt;00:00, 26438.70it/s]"
      }
     },
     "6d938c17ee0b4e988611735bc6faec82": {
      "model_module": "@jupyter-widgets/controls",
      "model_module_version": "1.5.0",
      "model_name": "FloatProgressModel",
      "state": {
       "bar_style": "danger",
       "layout": "IPY_MODEL_2110d66071054a5e8a2d17e38cd92f95",
       "max": 100000,
       "style": "IPY_MODEL_2d4d8d0788ee4933941a21d8d4f60e46",
       "value": 33180
      }
     },
     "6d9ea25d10884902888769b26fadd81b": {
      "model_module": "@jupyter-widgets/base",
      "model_module_version": "1.2.0",
      "model_name": "LayoutModel",
      "state": {}
     },
     "6fbbbf55e7694c5d9d380ddd548107bd": {
      "model_module": "@jupyter-widgets/controls",
      "model_module_version": "1.5.0",
      "model_name": "ProgressStyleModel",
      "state": {
       "description_width": ""
      }
     },
     "70433b1ea3d548ff963f81b4223c0c74": {
      "model_module": "@jupyter-widgets/base",
      "model_module_version": "1.2.0",
      "model_name": "LayoutModel",
      "state": {}
     },
     "7139b8fb9fe94a1bb168fe321022dee0": {
      "model_module": "@jupyter-widgets/controls",
      "model_module_version": "1.5.0",
      "model_name": "DescriptionStyleModel",
      "state": {
       "description_width": ""
      }
     },
     "71a93000985c44828d53b0732c480180": {
      "model_module": "@jupyter-widgets/controls",
      "model_module_version": "1.5.0",
      "model_name": "ProgressStyleModel",
      "state": {
       "description_width": ""
      }
     },
     "739b139075a642ca8566ebc7e8a9ed6e": {
      "model_module": "@jupyter-widgets/controls",
      "model_module_version": "1.5.0",
      "model_name": "DescriptionStyleModel",
      "state": {
       "description_width": ""
      }
     },
     "7439220f3c2d482fb9d27aff9dbfac79": {
      "model_module": "@jupyter-widgets/base",
      "model_module_version": "1.2.0",
      "model_name": "LayoutModel",
      "state": {}
     },
     "74728ab911344e61a8bdf9492a99fec1": {
      "model_module": "@jupyter-widgets/controls",
      "model_module_version": "1.5.0",
      "model_name": "ProgressStyleModel",
      "state": {
       "description_width": ""
      }
     },
     "75cc9a7268314ef78dadbed06583d5be": {
      "model_module": "@jupyter-widgets/controls",
      "model_module_version": "1.5.0",
      "model_name": "DescriptionStyleModel",
      "state": {
       "description_width": ""
      }
     },
     "75f3209e47c54e4494d1aff84d618dcd": {
      "model_module": "@jupyter-widgets/base",
      "model_module_version": "1.2.0",
      "model_name": "LayoutModel",
      "state": {}
     },
     "7664a0694b92438d965e97916d792ccb": {
      "model_module": "@jupyter-widgets/controls",
      "model_module_version": "1.5.0",
      "model_name": "ProgressStyleModel",
      "state": {
       "description_width": ""
      }
     },
     "77592bf0717142a197684c70433182f9": {
      "model_module": "@jupyter-widgets/controls",
      "model_module_version": "1.5.0",
      "model_name": "FloatProgressModel",
      "state": {
       "bar_style": "danger",
       "layout": "IPY_MODEL_6d9ea25d10884902888769b26fadd81b",
       "max": 10000,
       "style": "IPY_MODEL_6fbbbf55e7694c5d9d380ddd548107bd",
       "value": 6689
      }
     },
     "77e1a5796a51421fa2be0d4eeee58a3e": {
      "model_module": "@jupyter-widgets/controls",
      "model_module_version": "1.5.0",
      "model_name": "DescriptionStyleModel",
      "state": {
       "description_width": ""
      }
     },
     "77f422a023fc43b9a146b6eacc77f110": {
      "model_module": "@jupyter-widgets/base",
      "model_module_version": "1.2.0",
      "model_name": "LayoutModel",
      "state": {}
     },
     "781f9d09c6324d31a2134900663bc12b": {
      "model_module": "@jupyter-widgets/controls",
      "model_module_version": "1.5.0",
      "model_name": "HBoxModel",
      "state": {
       "children": [
        "IPY_MODEL_0d43756428734b7191f0fce5b5ff3b6b",
        "IPY_MODEL_7a950e1e102045bda62c96cf28cd7ec5",
        "IPY_MODEL_b8e11a3ebc894ac7a9bcc1c281002630"
       ],
       "layout": "IPY_MODEL_391d28b21b9444f3be70449f2b0d2c6d"
      }
     },
     "789d5083fa444bc79f63d5044b03e302": {
      "model_module": "@jupyter-widgets/base",
      "model_module_version": "1.2.0",
      "model_name": "LayoutModel",
      "state": {}
     },
     "78bf7ae73df14e92872bc57a70cc86cb": {
      "model_module": "@jupyter-widgets/controls",
      "model_module_version": "1.5.0",
      "model_name": "HTMLModel",
      "state": {
       "layout": "IPY_MODEL_9e7f74f4e1884936bb91b4cb1b218f86",
       "style": "IPY_MODEL_174ca13c41af4835978ca860be70e077",
       "value": "1"
      }
     },
     "7928295ac4774cda837faebe4cfb9a8c": {
      "model_module": "@jupyter-widgets/base",
      "model_module_version": "1.2.0",
      "model_name": "LayoutModel",
      "state": {}
     },
     "7947de9dcf1f46a4b11256c639aa6cd6": {
      "model_module": "@jupyter-widgets/controls",
      "model_module_version": "1.5.0",
      "model_name": "HTMLModel",
      "state": {
       "layout": "IPY_MODEL_8795024ae0bf425b91d70ffa7c8d5e47",
       "style": "IPY_MODEL_0a7f1fe0b8964feab33662b54a4c4907",
       "value": "switch:  66%"
      }
     },
     "7966938ee5ee41638e81e69497607bdb": {
      "model_module": "@jupyter-widgets/controls",
      "model_module_version": "1.5.0",
      "model_name": "DescriptionStyleModel",
      "state": {
       "description_width": ""
      }
     },
     "7a950e1e102045bda62c96cf28cd7ec5": {
      "model_module": "@jupyter-widgets/controls",
      "model_module_version": "1.5.0",
      "model_name": "FloatProgressModel",
      "state": {
       "bar_style": "danger",
       "layout": "IPY_MODEL_8e019f637230414cb11c755bcbb3362e",
       "max": 100000,
       "style": "IPY_MODEL_252e7f623cc7411e9e95fbfc6033397c",
       "value": 33276
      }
     },
     "7b113a8fb7e54a8faf07297b0bae685a": {
      "model_module": "@jupyter-widgets/base",
      "model_module_version": "1.2.0",
      "model_name": "LayoutModel",
      "state": {}
     },
     "7b3078470f9547cf81812184f69ba304": {
      "model_module": "@jupyter-widgets/base",
      "model_module_version": "1.2.0",
      "model_name": "LayoutModel",
      "state": {}
     },
     "7b975eeaa2c24bd7b73f2d6a1ba212c8": {
      "model_module": "@jupyter-widgets/controls",
      "model_module_version": "1.5.0",
      "model_name": "HTMLModel",
      "state": {
       "layout": "IPY_MODEL_5ff43ed33d82431b97db8ba9201ce63b",
       "style": "IPY_MODEL_447bb4bcd3114f449031c7dd6834d171",
       "value": "switch:  66%"
      }
     },
     "7d2c8c527d2b48078b0d6108bdaa00f1": {
      "model_module": "@jupyter-widgets/controls",
      "model_module_version": "1.5.0",
      "model_name": "FloatProgressModel",
      "state": {
       "bar_style": "danger",
       "layout": "IPY_MODEL_7b113a8fb7e54a8faf07297b0bae685a",
       "max": 100000,
       "style": "IPY_MODEL_3fba87c85cc446e5b03cd9bed70ed9b2",
       "value": 33395
      }
     },
     "7e648515faca4bcd95b83626a290fb83": {
      "model_module": "@jupyter-widgets/controls",
      "model_module_version": "1.5.0",
      "model_name": "DescriptionStyleModel",
      "state": {
       "description_width": ""
      }
     },
     "7ea8e8be8d39404093e0eb2e085fa5fc": {
      "model_module": "@jupyter-widgets/base",
      "model_module_version": "1.2.0",
      "model_name": "LayoutModel",
      "state": {}
     },
     "7ee023c53a6c437fb321a0c24607f30c": {
      "model_module": "@jupyter-widgets/controls",
      "model_module_version": "1.5.0",
      "model_name": "HTMLModel",
      "state": {
       "layout": "IPY_MODEL_9cd8bf7f46e844afad82cab06391b662",
       "style": "IPY_MODEL_21d54696e3b145eeb1efe1ee0b688e72",
       "value": " 3359/10000 [00:41&lt;00:00, 25773.27it/s]"
      }
     },
     "7ee69f08316e4c0cab5fa32b2f4dfb9b": {
      "model_module": "@jupyter-widgets/controls",
      "model_module_version": "1.5.0",
      "model_name": "IntProgressModel",
      "state": {
       "description": "switch",
       "layout": "IPY_MODEL_b845f2d86e7940f2a223883be529c306",
       "max": 1000,
       "style": "IPY_MODEL_b240c30d03524bf495754306eb579154"
      }
     },
     "7f1eb620d4e348f6b7bec06ee2fd0fba": {
      "model_module": "@jupyter-widgets/base",
      "model_module_version": "1.2.0",
      "model_name": "LayoutModel",
      "state": {}
     },
     "7f2b5cd602914c4da2ec87d5c0fc30f7": {
      "model_module": "@jupyter-widgets/controls",
      "model_module_version": "1.5.0",
      "model_name": "HTMLModel",
      "state": {
       "layout": "IPY_MODEL_2d9bb77fbde8435aa7a559015efb496e",
       "style": "IPY_MODEL_9a9dd34739be453ba373830743b72c61",
       "value": "switch:  67%"
      }
     },
     "8011fac8eadc4182b7aae8785d19cc05": {
      "model_module": "@jupyter-widgets/controls",
      "model_module_version": "1.5.0",
      "model_name": "DescriptionStyleModel",
      "state": {
       "description_width": ""
      }
     },
     "80430e76df7241aea6a0d8a3df641b8d": {
      "model_module": "@jupyter-widgets/controls",
      "model_module_version": "1.5.0",
      "model_name": "ProgressStyleModel",
      "state": {
       "description_width": ""
      }
     },
     "804fa8172a0147529d6498e5f430c6b3": {
      "model_module": "@jupyter-widgets/controls",
      "model_module_version": "1.5.0",
      "model_name": "DescriptionStyleModel",
      "state": {
       "description_width": ""
      }
     },
     "80607a49e5294ce7b6c2b9b8c1cee66f": {
      "model_module": "@jupyter-widgets/controls",
      "model_module_version": "1.5.0",
      "model_name": "HBoxModel",
      "state": {
       "children": [
        "IPY_MODEL_7f2b5cd602914c4da2ec87d5c0fc30f7",
        "IPY_MODEL_c91b0c7b0e86416b8da128a1c8a21ca8",
        "IPY_MODEL_44f02d12124c4bf990073f437c81b306"
       ],
       "layout": "IPY_MODEL_77f422a023fc43b9a146b6eacc77f110"
      }
     },
     "807398ebd33949fb97ef680fb5d9a598": {
      "model_module": "@jupyter-widgets/controls",
      "model_module_version": "1.5.0",
      "model_name": "ProgressStyleModel",
      "state": {
       "description_width": ""
      }
     },
     "80bb6495e3c04ff8bac16aa325c8d381": {
      "model_module": "@jupyter-widgets/controls",
      "model_module_version": "1.5.0",
      "model_name": "ProgressStyleModel",
      "state": {
       "description_width": ""
      }
     },
     "810cc8a76ce24444bd19578c96dcf2d0": {
      "model_module": "@jupyter-widgets/controls",
      "model_module_version": "1.5.0",
      "model_name": "HTMLModel",
      "state": {
       "layout": "IPY_MODEL_63a30ca093a34066bb4caf537ed927c2",
       "style": "IPY_MODEL_b01e13f16dd34859a9fc758398df002a",
       "value": "stay:  34%"
      }
     },
     "819a8468b7184289b053a3af24a6a68b": {
      "model_module": "@jupyter-widgets/base",
      "model_module_version": "1.2.0",
      "model_name": "LayoutModel",
      "state": {}
     },
     "81d71828eec745649149eac35971f1f5": {
      "model_module": "@jupyter-widgets/controls",
      "model_module_version": "1.5.0",
      "model_name": "HTMLModel",
      "state": {
       "layout": "IPY_MODEL_a9f4867cc37847a88433247d48f53933",
       "style": "IPY_MODEL_7966938ee5ee41638e81e69497607bdb",
       "value": "stay:  34%"
      }
     },
     "82330451a935441e96a9e46c55b0b123": {
      "model_module": "@jupyter-widgets/controls",
      "model_module_version": "1.5.0",
      "model_name": "HTMLModel",
      "state": {
       "layout": "IPY_MODEL_5cfb69186d634efeb18c7a4ee47c837a",
       "style": "IPY_MODEL_9f9b9e363ef740e6a93d6827697318ff",
       "value": "switch:  67%"
      }
     },
     "83494086793d47708c73dba15ea40fa6": {
      "model_module": "@jupyter-widgets/controls",
      "model_module_version": "1.5.0",
      "model_name": "HTMLModel",
      "state": {
       "layout": "IPY_MODEL_073cd760ba7b4cdda2ee6f1dcfb10128",
       "style": "IPY_MODEL_4f8e812a7d1547ab9e80c5a6d7dc9285",
       "value": " 3262/10000 [02:35&lt;00:00, 24131.90it/s]"
      }
     },
     "83f9ee6b27304d1b804af9e21113676b": {
      "model_module": "@jupyter-widgets/controls",
      "model_module_version": "1.5.0",
      "model_name": "DescriptionStyleModel",
      "state": {
       "description_width": ""
      }
     },
     "8434032c0b4c42388616a04c6920f20d": {
      "model_module": "@jupyter-widgets/controls",
      "model_module_version": "1.5.0",
      "model_name": "HBoxModel",
      "state": {
       "children": [
        "IPY_MODEL_29ef2eeb53344aed99348068ddbd6170",
        "IPY_MODEL_6d938c17ee0b4e988611735bc6faec82",
        "IPY_MODEL_8555ea70773e4d8085630e5b273f47bd"
       ],
       "layout": "IPY_MODEL_94d5a064c22041739a5b41629b4d61ef"
      }
     },
     "8555ea70773e4d8085630e5b273f47bd": {
      "model_module": "@jupyter-widgets/controls",
      "model_module_version": "1.5.0",
      "model_name": "HTMLModel",
      "state": {
       "layout": "IPY_MODEL_4c8a588f8b4e44f3b52042b98e78d43e",
       "style": "IPY_MODEL_43d77b86c24d44b59573c9dffcc302b0",
       "value": " 33180/100000 [00:01&lt;00:02, 30835.07it/s]"
      }
     },
     "8556c0ca77ac4f119cabad9eba0b6bcb": {
      "model_module": "@jupyter-widgets/base",
      "model_module_version": "1.2.0",
      "model_name": "LayoutModel",
      "state": {}
     },
     "867dba2c8dbe4e0bba17a52d99fb921b": {
      "model_module": "@jupyter-widgets/controls",
      "model_module_version": "1.5.0",
      "model_name": "DescriptionStyleModel",
      "state": {
       "description_width": ""
      }
     },
     "878c20feaf22472ea8586b2ccda7e297": {
      "model_module": "@jupyter-widgets/controls",
      "model_module_version": "1.5.0",
      "model_name": "HTMLModel",
      "state": {
       "layout": "IPY_MODEL_1ad835ac94b340bdba31492be01a9415",
       "style": "IPY_MODEL_36451bdd260044c49fad5265c1ce0615",
       "value": " 33507/100000 [00:01&lt;00:02, 32015.08it/s]"
      }
     },
     "8795024ae0bf425b91d70ffa7c8d5e47": {
      "model_module": "@jupyter-widgets/base",
      "model_module_version": "1.2.0",
      "model_name": "LayoutModel",
      "state": {}
     },
     "8880a7387c5b4f5db7663a243e4e787d": {
      "model_module": "@jupyter-widgets/base",
      "model_module_version": "1.2.0",
      "model_name": "LayoutModel",
      "state": {}
     },
     "8892f772aa3b4ff2ae53e64b5ab18bf4": {
      "model_module": "@jupyter-widgets/controls",
      "model_module_version": "1.5.0",
      "model_name": "DescriptionStyleModel",
      "state": {
       "description_width": ""
      }
     },
     "8bd706325ced40ac9a9fac05806f1beb": {
      "model_module": "@jupyter-widgets/controls",
      "model_module_version": "1.5.0",
      "model_name": "IntProgressModel",
      "state": {
       "description": "stay",
       "layout": "IPY_MODEL_12bd8701eaa444f1bfbe170c309cf4a9",
       "max": 10000,
       "style": "IPY_MODEL_f4c64381c0cc4b3186339b43c95618e6",
       "value": 3285
      }
     },
     "8ca695b582e140688194716973f461ed": {
      "model_module": "@jupyter-widgets/base",
      "model_module_version": "1.2.0",
      "model_name": "LayoutModel",
      "state": {}
     },
     "8d6d713d73a042a1bbb9134f018cffdc": {
      "model_module": "@jupyter-widgets/base",
      "model_module_version": "1.2.0",
      "model_name": "LayoutModel",
      "state": {}
     },
     "8e019f637230414cb11c755bcbb3362e": {
      "model_module": "@jupyter-widgets/base",
      "model_module_version": "1.2.0",
      "model_name": "LayoutModel",
      "state": {}
     },
     "8e800f51987e439c8cde84e0012f0860": {
      "model_module": "@jupyter-widgets/base",
      "model_module_version": "1.2.0",
      "model_name": "LayoutModel",
      "state": {}
     },
     "8f19e602ce6c4f3b867131d234466788": {
      "model_module": "@jupyter-widgets/controls",
      "model_module_version": "1.5.0",
      "model_name": "DescriptionStyleModel",
      "state": {
       "description_width": ""
      }
     },
     "924fa6f59b864731b87eef00dc5e406c": {
      "model_module": "@jupyter-widgets/base",
      "model_module_version": "1.2.0",
      "model_name": "LayoutModel",
      "state": {}
     },
     "92c6f1f950a145c3a51b7813564c564a": {
      "model_module": "@jupyter-widgets/base",
      "model_module_version": "1.2.0",
      "model_name": "LayoutModel",
      "state": {}
     },
     "93633b1dd0c1489287a4d1bfe0f025a4": {
      "model_module": "@jupyter-widgets/base",
      "model_module_version": "1.2.0",
      "model_name": "LayoutModel",
      "state": {}
     },
     "93cfed655c87472b82065224188cbfa0": {
      "model_module": "@jupyter-widgets/controls",
      "model_module_version": "1.5.0",
      "model_name": "HTMLModel",
      "state": {
       "layout": "IPY_MODEL_5584bab77f3145ae8de831bd186c5e4a",
       "style": "IPY_MODEL_fa1f940d01e54ced965a726892cd2e61",
       "value": "stay:  34%"
      }
     },
     "947faa21be8a49bf8c5a53afc6d249e2": {
      "model_module": "@jupyter-widgets/controls",
      "model_module_version": "1.5.0",
      "model_name": "FloatProgressModel",
      "state": {
       "bar_style": "danger",
       "layout": "IPY_MODEL_93633b1dd0c1489287a4d1bfe0f025a4",
       "max": 10000,
       "style": "IPY_MODEL_a4e80a065e0b42af94f9a9590a276230",
       "value": 6648
      }
     },
     "94d5a064c22041739a5b41629b4d61ef": {
      "model_module": "@jupyter-widgets/base",
      "model_module_version": "1.2.0",
      "model_name": "LayoutModel",
      "state": {}
     },
     "976d582d39384851ade757fbc9c05c42": {
      "model_module": "@jupyter-widgets/controls",
      "model_module_version": "1.5.0",
      "model_name": "DescriptionStyleModel",
      "state": {
       "description_width": ""
      }
     },
     "9780452b2af046fdb4201e317b94da33": {
      "model_module": "@jupyter-widgets/controls",
      "model_module_version": "1.5.0",
      "model_name": "FloatProgressModel",
      "state": {
       "bar_style": "danger",
       "layout": "IPY_MODEL_0a93d0347a8344ceb5a92b495487a455",
       "max": 100000,
       "style": "IPY_MODEL_98ab9c9672d84f0c8ac45163fcccc3f0",
       "value": 33507
      }
     },
     "97d64e4f49594161858096b845d2c454": {
      "model_module": "@jupyter-widgets/controls",
      "model_module_version": "1.5.0",
      "model_name": "HBoxModel",
      "state": {
       "children": [
        "IPY_MODEL_7b975eeaa2c24bd7b73f2d6a1ba212c8",
        "IPY_MODEL_2e211d1c942c44a39876f956572e9bdc",
        "IPY_MODEL_e9754c09153a4a0baf99729a209ba25a"
       ],
       "layout": "IPY_MODEL_f07d0b519893464eac8e03fd533ed8c4"
      }
     },
     "97fec9714c2144fc99ee15ff55867af2": {
      "model_module": "@jupyter-widgets/controls",
      "model_module_version": "1.5.0",
      "model_name": "HTMLModel",
      "state": {
       "layout": "IPY_MODEL_8ca695b582e140688194716973f461ed",
       "style": "IPY_MODEL_e54798dff34c4487ad10f9d8d3057c95",
       "value": "switch:  67%"
      }
     },
     "98ab9c9672d84f0c8ac45163fcccc3f0": {
      "model_module": "@jupyter-widgets/controls",
      "model_module_version": "1.5.0",
      "model_name": "ProgressStyleModel",
      "state": {
       "description_width": ""
      }
     },
     "98bb547e2a9f4ee5a075cbe423618560": {
      "model_module": "@jupyter-widgets/controls",
      "model_module_version": "1.5.0",
      "model_name": "HBoxModel",
      "state": {
       "children": [
        "IPY_MODEL_b9e8feab84db4da2bb96ee5d51d38d2c",
        "IPY_MODEL_f412c82442d349c192ad1157fd08f9a2",
        "IPY_MODEL_f687b4abed9344fa8a86b3efac30ce96"
       ],
       "layout": "IPY_MODEL_23b2989e0f6f4e34b65f09d563b64e7b"
      }
     },
     "99d0840bb8ee4b9380f709cf0b593962": {
      "model_module": "@jupyter-widgets/controls",
      "model_module_version": "1.5.0",
      "model_name": "HTMLModel",
      "state": {
       "layout": "IPY_MODEL_33f55d78a5544ad4acd2dcbcc963c5d0",
       "style": "IPY_MODEL_2918b2a3b0e74d70baec619b000da580",
       "value": " 6648/10000 [02:35&lt;00:00, 34346.92it/s]"
      }
     },
     "9a9dd34739be453ba373830743b72c61": {
      "model_module": "@jupyter-widgets/controls",
      "model_module_version": "1.5.0",
      "model_name": "DescriptionStyleModel",
      "state": {
       "description_width": ""
      }
     },
     "9be0a5b3403947f09e3fa7263fcd5c94": {
      "model_module": "@jupyter-widgets/controls",
      "model_module_version": "1.5.0",
      "model_name": "ProgressStyleModel",
      "state": {
       "description_width": ""
      }
     },
     "9bf80e60f4444690a1eb6f1c12d8b3cd": {
      "model_module": "@jupyter-widgets/controls",
      "model_module_version": "1.5.0",
      "model_name": "DescriptionStyleModel",
      "state": {
       "description_width": ""
      }
     },
     "9c169ab84dee41068bce1d89faa76dea": {
      "model_module": "@jupyter-widgets/controls",
      "model_module_version": "1.5.0",
      "model_name": "DescriptionStyleModel",
      "state": {
       "description_width": ""
      }
     },
     "9cd8bf7f46e844afad82cab06391b662": {
      "model_module": "@jupyter-widgets/base",
      "model_module_version": "1.2.0",
      "model_name": "LayoutModel",
      "state": {}
     },
     "9d17ea037c6c4c3bb2e8582c1fb2bc76": {
      "model_module": "@jupyter-widgets/base",
      "model_module_version": "1.2.0",
      "model_name": "LayoutModel",
      "state": {}
     },
     "9d64effe1cb94df4bcfb8f6c59ce45a7": {
      "model_module": "@jupyter-widgets/controls",
      "model_module_version": "1.5.0",
      "model_name": "HTMLModel",
      "state": {
       "layout": "IPY_MODEL_023292ebc2a54275807a560d3fa9d2aa",
       "style": "IPY_MODEL_088f488031d641ca875d237a8d923945",
       "value": "stay:  33%"
      }
     },
     "9e7f74f4e1884936bb91b4cb1b218f86": {
      "model_module": "@jupyter-widgets/base",
      "model_module_version": "1.2.0",
      "model_name": "LayoutModel",
      "state": {}
     },
     "9f423ea96ed3408689a461b0432567a9": {
      "model_module": "@jupyter-widgets/base",
      "model_module_version": "1.2.0",
      "model_name": "LayoutModel",
      "state": {}
     },
     "9f9b9e363ef740e6a93d6827697318ff": {
      "model_module": "@jupyter-widgets/controls",
      "model_module_version": "1.5.0",
      "model_name": "DescriptionStyleModel",
      "state": {
       "description_width": ""
      }
     },
     "a27924cfffa545b3bbc1a4303c65f323": {
      "model_module": "@jupyter-widgets/base",
      "model_module_version": "1.2.0",
      "model_name": "LayoutModel",
      "state": {}
     },
     "a4e80a065e0b42af94f9a9590a276230": {
      "model_module": "@jupyter-widgets/controls",
      "model_module_version": "1.5.0",
      "model_name": "ProgressStyleModel",
      "state": {
       "description_width": ""
      }
     },
     "a587cdcee6514efb84ba3066f19f59c2": {
      "model_module": "@jupyter-widgets/controls",
      "model_module_version": "1.5.0",
      "model_name": "FloatProgressModel",
      "state": {
       "bar_style": "danger",
       "layout": "IPY_MODEL_e1c427f6cd244fa597a550eec6a8a541",
       "max": 100000,
       "style": "IPY_MODEL_c70dcd6f2c264698a7da55975c47d7ef",
       "value": 33506
      }
     },
     "a77ebf6fcd074d579937728f67df4bc5": {
      "model_module": "@jupyter-widgets/controls",
      "model_module_version": "1.5.0",
      "model_name": "ProgressStyleModel",
      "state": {
       "description_width": ""
      }
     },
     "a7829ed9eba842b48ed97d73ffc0a7be": {
      "model_module": "@jupyter-widgets/controls",
      "model_module_version": "1.5.0",
      "model_name": "HTMLModel",
      "state": {
       "layout": "IPY_MODEL_ba30f43c788441a2bfb04dbfe8210563",
       "style": "IPY_MODEL_43749e15f4fd4891beb18e254d3d0cf4",
       "value": " 6553/10000 [00:00&lt;00:00, 40077.55it/s]"
      }
     },
     "a980fd2dd64245ad974aac6f8c90abae": {
      "model_module": "@jupyter-widgets/controls",
      "model_module_version": "1.5.0",
      "model_name": "DescriptionStyleModel",
      "state": {
       "description_width": ""
      }
     },
     "a9f4867cc37847a88433247d48f53933": {
      "model_module": "@jupyter-widgets/base",
      "model_module_version": "1.2.0",
      "model_name": "LayoutModel",
      "state": {}
     },
     "aa789416ec894e309ad54c8c431d74e3": {
      "model_module": "@jupyter-widgets/controls",
      "model_module_version": "1.5.0",
      "model_name": "HTMLModel",
      "state": {
       "layout": "IPY_MODEL_450d3246fb6044488df7f7f452b75461",
       "style": "IPY_MODEL_9bf80e60f4444690a1eb6f1c12d8b3cd",
       "value": "stay:  34%"
      }
     },
     "ab2c54b83d8e44afbd8ba3d85f89de02": {
      "model_module": "@jupyter-widgets/base",
      "model_module_version": "1.2.0",
      "model_name": "LayoutModel",
      "state": {}
     },
     "ac87a03d537741dbbdfd4969c2481482": {
      "model_module": "@jupyter-widgets/controls",
      "model_module_version": "1.5.0",
      "model_name": "HTMLModel",
      "state": {
       "layout": "IPY_MODEL_c1b97e67555f4e36814c92cf536b4a94",
       "style": "IPY_MODEL_22280d63cb15448eb31855228bb960a8",
       "value": "stay:  33%"
      }
     },
     "ad1c7d460e134a1988337433a3a3ecd3": {
      "model_module": "@jupyter-widgets/controls",
      "model_module_version": "1.5.0",
      "model_name": "HBoxModel",
      "state": {
       "children": [
        "IPY_MODEL_245060bc44d74f5ba6cc3d7109e2414f",
        "IPY_MODEL_ba90529dd2d246e2a880c3090c39d282",
        "IPY_MODEL_5e854c5ce8184ad1844565176e6578ff"
       ],
       "layout": "IPY_MODEL_cb8140775db94ab1ad3d496ec0fb9f71"
      }
     },
     "ad605cfd992b4c52817e55e0eb580e41": {
      "model_module": "@jupyter-widgets/base",
      "model_module_version": "1.2.0",
      "model_name": "LayoutModel",
      "state": {}
     },
     "adf4819de7494ba29650e0b2a37cda3f": {
      "model_module": "@jupyter-widgets/controls",
      "model_module_version": "1.5.0",
      "model_name": "DescriptionStyleModel",
      "state": {
       "description_width": ""
      }
     },
     "ae44b2b0aea04dc9a54b7fd679bb9ae1": {
      "model_module": "@jupyter-widgets/controls",
      "model_module_version": "1.5.0",
      "model_name": "IntProgressModel",
      "state": {
       "description": "switch",
       "layout": "IPY_MODEL_92c6f1f950a145c3a51b7813564c564a",
       "max": 10000,
       "style": "IPY_MODEL_e7c54a36d0174436b90bdc80b350c43e"
      }
     },
     "b01e13f16dd34859a9fc758398df002a": {
      "model_module": "@jupyter-widgets/controls",
      "model_module_version": "1.5.0",
      "model_name": "DescriptionStyleModel",
      "state": {
       "description_width": ""
      }
     },
     "b03c08e2eb3d40ed8cfc8c6d52c49fee": {
      "model_module": "@jupyter-widgets/controls",
      "model_module_version": "1.5.0",
      "model_name": "ProgressStyleModel",
      "state": {
       "description_width": ""
      }
     },
     "b0ffcfc573964acea1f9087b0398917a": {
      "model_module": "@jupyter-widgets/base",
      "model_module_version": "1.2.0",
      "model_name": "LayoutModel",
      "state": {}
     },
     "b11fd8490faa4e5bb7a35d4f2401f0ea": {
      "model_module": "@jupyter-widgets/controls",
      "model_module_version": "1.5.0",
      "model_name": "HTMLModel",
      "state": {
       "layout": "IPY_MODEL_26750a1b89d14cccb954744222968571",
       "style": "IPY_MODEL_223fd4d6a6d945489b43716ba1a6e014",
       "value": "switch:  67%"
      }
     },
     "b240c30d03524bf495754306eb579154": {
      "model_module": "@jupyter-widgets/controls",
      "model_module_version": "1.5.0",
      "model_name": "ProgressStyleModel",
      "state": {
       "description_width": ""
      }
     },
     "b3af46554437446cbc426a6125c3e130": {
      "model_module": "@jupyter-widgets/controls",
      "model_module_version": "1.5.0",
      "model_name": "HTMLModel",
      "state": {
       "layout": "IPY_MODEL_e7138ec6b7824c618749a5dea7ec354a",
       "style": "IPY_MODEL_d5bb16e89fc54a42ae9f4f272eca04d8",
       "value": "switch:  66%"
      }
     },
     "b6c47883c7044260b2a9951f02afced9": {
      "model_module": "@jupyter-widgets/controls",
      "model_module_version": "1.5.0",
      "model_name": "HTMLModel",
      "state": {
       "layout": "IPY_MODEL_d31ce7d4c5fe4248a2df66cbfc5e07a0",
       "style": "IPY_MODEL_b70d25749dcb4087b7a5f604f1b29ff2",
       "value": " 66848/100000 [00:01&lt;00:00, 66358.51it/s]"
      }
     },
     "b70d25749dcb4087b7a5f604f1b29ff2": {
      "model_module": "@jupyter-widgets/controls",
      "model_module_version": "1.5.0",
      "model_name": "DescriptionStyleModel",
      "state": {
       "description_width": ""
      }
     },
     "b845f2d86e7940f2a223883be529c306": {
      "model_module": "@jupyter-widgets/base",
      "model_module_version": "1.2.0",
      "model_name": "LayoutModel",
      "state": {}
     },
     "b85200ddad9a4dd4be9868b54272d621": {
      "model_module": "@jupyter-widgets/base",
      "model_module_version": "1.2.0",
      "model_name": "LayoutModel",
      "state": {}
     },
     "b8e11a3ebc894ac7a9bcc1c281002630": {
      "model_module": "@jupyter-widgets/controls",
      "model_module_version": "1.5.0",
      "model_name": "HTMLModel",
      "state": {
       "layout": "IPY_MODEL_8880a7387c5b4f5db7663a243e4e787d",
       "style": "IPY_MODEL_344978d7a81644b5a1525971204dd697",
       "value": " 33276/100000 [00:01&lt;00:02, 32422.29it/s]"
      }
     },
     "b91b14cbe3a64495b7dc01894189c25a": {
      "model_module": "@jupyter-widgets/controls",
      "model_module_version": "1.5.0",
      "model_name": "HBoxModel",
      "state": {
       "children": [
        "IPY_MODEL_9d64effe1cb94df4bcfb8f6c59ce45a7",
        "IPY_MODEL_f486adc410f84647880ea3f9b8f3b0f9",
        "IPY_MODEL_4357572f4eb04750a3ee883df6eb64b6"
       ],
       "layout": "IPY_MODEL_f1461a53f8bc449486e15a6b2bd09aec"
      }
     },
     "b9e8feab84db4da2bb96ee5d51d38d2c": {
      "model_module": "@jupyter-widgets/controls",
      "model_module_version": "1.5.0",
      "model_name": "HTMLModel",
      "state": {
       "layout": "IPY_MODEL_eaade9ba525a4c0e841062fc8ee15cfc",
       "style": "IPY_MODEL_77e1a5796a51421fa2be0d4eeee58a3e",
       "value": "switch:  67%"
      }
     },
     "ba30f43c788441a2bfb04dbfe8210563": {
      "model_module": "@jupyter-widgets/base",
      "model_module_version": "1.2.0",
      "model_name": "LayoutModel",
      "state": {}
     },
     "ba694d1ff6494621b59d7c988bf4e064": {
      "model_module": "@jupyter-widgets/controls",
      "model_module_version": "1.5.0",
      "model_name": "ProgressStyleModel",
      "state": {
       "description_width": ""
      }
     },
     "ba90529dd2d246e2a880c3090c39d282": {
      "model_module": "@jupyter-widgets/controls",
      "model_module_version": "1.5.0",
      "model_name": "FloatProgressModel",
      "state": {
       "bar_style": "danger",
       "layout": "IPY_MODEL_02ec57c7ab1e44f08fa21e627dfac065",
       "max": 10000,
       "style": "IPY_MODEL_4ffa21a08f70424bb6901e67d7e91265",
       "value": 3342
      }
     },
     "bb04aced310a42a7abf474e3ac3e06a3": {
      "model_module": "@jupyter-widgets/base",
      "model_module_version": "1.2.0",
      "model_name": "LayoutModel",
      "state": {}
     },
     "bbbea8ddffa047928fe8155ff4d3ea7b": {
      "model_module": "@jupyter-widgets/controls",
      "model_module_version": "1.5.0",
      "model_name": "DescriptionStyleModel",
      "state": {
       "description_width": ""
      }
     },
     "bee5d772cacf4d1b81b6acaf8d149a73": {
      "model_module": "@jupyter-widgets/base",
      "model_module_version": "1.2.0",
      "model_name": "LayoutModel",
      "state": {}
     },
     "c057a53ecfe948fd90b6a412efe6a90b": {
      "model_module": "@jupyter-widgets/base",
      "model_module_version": "1.2.0",
      "model_name": "LayoutModel",
      "state": {}
     },
     "c1b97e67555f4e36814c92cf536b4a94": {
      "model_module": "@jupyter-widgets/base",
      "model_module_version": "1.2.0",
      "model_name": "LayoutModel",
      "state": {}
     },
     "c233814edf834e50af3173ee02917d36": {
      "model_module": "@jupyter-widgets/controls",
      "model_module_version": "1.5.0",
      "model_name": "ProgressStyleModel",
      "state": {
       "description_width": ""
      }
     },
     "c5272aa1fdef4bbe9a2950b9bdee0682": {
      "model_module": "@jupyter-widgets/base",
      "model_module_version": "1.2.0",
      "model_name": "LayoutModel",
      "state": {}
     },
     "c62300dc54e7429aac72473eefe866b7": {
      "model_module": "@jupyter-widgets/controls",
      "model_module_version": "1.5.0",
      "model_name": "HTMLModel",
      "state": {
       "layout": "IPY_MODEL_2deabc12d9ac4b70bcb4649c463215c0",
       "style": "IPY_MODEL_398b469b5bad47f0add1f3fb41032a25"
      }
     },
     "c64b62181a194c92a32119d8c00ae54b": {
      "model_module": "@jupyter-widgets/controls",
      "model_module_version": "1.5.0",
      "model_name": "DescriptionStyleModel",
      "state": {
       "description_width": ""
      }
     },
     "c70dcd6f2c264698a7da55975c47d7ef": {
      "model_module": "@jupyter-widgets/controls",
      "model_module_version": "1.5.0",
      "model_name": "ProgressStyleModel",
      "state": {
       "description_width": ""
      }
     },
     "c7cb10e0b20d40f9aa01f24dfd0754ad": {
      "model_module": "@jupyter-widgets/base",
      "model_module_version": "1.2.0",
      "model_name": "LayoutModel",
      "state": {}
     },
     "c8a16f65c6ea44baac27637be92b0fd0": {
      "model_module": "@jupyter-widgets/base",
      "model_module_version": "1.2.0",
      "model_name": "LayoutModel",
      "state": {}
     },
     "c91b0c7b0e86416b8da128a1c8a21ca8": {
      "model_module": "@jupyter-widgets/controls",
      "model_module_version": "1.5.0",
      "model_name": "FloatProgressModel",
      "state": {
       "bar_style": "danger",
       "layout": "IPY_MODEL_a27924cfffa545b3bbc1a4303c65f323",
       "max": 100000,
       "style": "IPY_MODEL_0607803bc4df45ada89e198a766c1a1d",
       "value": 66786
      }
     },
     "c9c4a9069314473f9a373c1e5d33fbb3": {
      "model_module": "@jupyter-widgets/controls",
      "model_module_version": "1.5.0",
      "model_name": "HTMLModel",
      "state": {
       "layout": "IPY_MODEL_f13eaee888c64d18873d921702050920",
       "style": "IPY_MODEL_8011fac8eadc4182b7aae8785d19cc05"
      }
     },
     "ca13dad4d73349618bb751e7f430ac43": {
      "model_module": "@jupyter-widgets/base",
      "model_module_version": "1.2.0",
      "model_name": "LayoutModel",
      "state": {}
     },
     "cacb69ad5a5b4c25bb1f0c084ecd0133": {
      "model_module": "@jupyter-widgets/base",
      "model_module_version": "1.2.0",
      "model_name": "LayoutModel",
      "state": {}
     },
     "cb8140775db94ab1ad3d496ec0fb9f71": {
      "model_module": "@jupyter-widgets/base",
      "model_module_version": "1.2.0",
      "model_name": "LayoutModel",
      "state": {}
     },
     "cbe0fb3fee0b401b95373641cd653626": {
      "model_module": "@jupyter-widgets/controls",
      "model_module_version": "1.5.0",
      "model_name": "HTMLModel",
      "state": {
       "layout": "IPY_MODEL_58006357b8834274bbc7836104e8a333",
       "style": "IPY_MODEL_8892f772aa3b4ff2ae53e64b5ab18bf4",
       "value": "stay:  33%"
      }
     },
     "cc475791f2fa438b9af6374941acb613": {
      "model_module": "@jupyter-widgets/controls",
      "model_module_version": "1.5.0",
      "model_name": "ProgressStyleModel",
      "state": {
       "description_width": ""
      }
     },
     "cf28936e20e746d4a4a2687379c7432d": {
      "model_module": "@jupyter-widgets/controls",
      "model_module_version": "1.5.0",
      "model_name": "HTMLModel",
      "state": {
       "layout": "IPY_MODEL_1bec0e97f0bd48f7938c3a8229b50458",
       "style": "IPY_MODEL_bbbea8ddffa047928fe8155ff4d3ea7b",
       "value": "stay:  33%"
      }
     },
     "cf3bdef202da4df29d74e785e34e9ca0": {
      "model_module": "@jupyter-widgets/controls",
      "model_module_version": "1.5.0",
      "model_name": "ProgressStyleModel",
      "state": {
       "description_width": ""
      }
     },
     "cf95b1ec76bc44b3a3298bae03c24dfd": {
      "model_module": "@jupyter-widgets/base",
      "model_module_version": "1.2.0",
      "model_name": "LayoutModel",
      "state": {}
     },
     "cf9feb8b2caf4ad6a3bbf9dc6f0975b3": {
      "model_module": "@jupyter-widgets/controls",
      "model_module_version": "1.5.0",
      "model_name": "FloatProgressModel",
      "state": {
       "bar_style": "danger",
       "layout": "IPY_MODEL_24987b76c764457eb5b76cbac0ce5943",
       "max": 100000,
       "style": "IPY_MODEL_4af772779841447e965fb89807983548",
       "value": 66544
      }
     },
     "d03b9a2d3b22470381da42a85be13f48": {
      "model_module": "@jupyter-widgets/base",
      "model_module_version": "1.2.0",
      "model_name": "LayoutModel",
      "state": {}
     },
     "d0a1f3b94d0e47b68c3cc279fb42265e": {
      "model_module": "@jupyter-widgets/controls",
      "model_module_version": "1.5.0",
      "model_name": "HBoxModel",
      "state": {
       "children": [
        "IPY_MODEL_97fec9714c2144fc99ee15ff55867af2",
        "IPY_MODEL_cf9feb8b2caf4ad6a3bbf9dc6f0975b3",
        "IPY_MODEL_69b49f44c8244cc790a8b3eda6fee78a"
       ],
       "layout": "IPY_MODEL_0ce40efead65414f919665f825a0735f"
      }
     },
     "d19b2066f2c2494fbd184ccc0e75942d": {
      "model_module": "@jupyter-widgets/base",
      "model_module_version": "1.2.0",
      "model_name": "LayoutModel",
      "state": {}
     },
     "d2ee9fa10f5f4194a5d305ac780bec8c": {
      "model_module": "@jupyter-widgets/base",
      "model_module_version": "1.2.0",
      "model_name": "LayoutModel",
      "state": {}
     },
     "d31ce7d4c5fe4248a2df66cbfc5e07a0": {
      "model_module": "@jupyter-widgets/base",
      "model_module_version": "1.2.0",
      "model_name": "LayoutModel",
      "state": {}
     },
     "d32a9eba00fc4944b29fb5cb14a4d8bb": {
      "model_module": "@jupyter-widgets/controls",
      "model_module_version": "1.5.0",
      "model_name": "HTMLModel",
      "state": {
       "layout": "IPY_MODEL_8556c0ca77ac4f119cabad9eba0b6bcb",
       "style": "IPY_MODEL_739b139075a642ca8566ebc7e8a9ed6e",
       "value": " 66849/100000 [00:01&lt;00:00, 63890.65it/s]"
      }
     },
     "d5bb16e89fc54a42ae9f4f272eca04d8": {
      "model_module": "@jupyter-widgets/controls",
      "model_module_version": "1.5.0",
      "model_name": "DescriptionStyleModel",
      "state": {
       "description_width": ""
      }
     },
     "d6e5ca47e5ee4730bf200cf17bba06bb": {
      "model_module": "@jupyter-widgets/controls",
      "model_module_version": "1.5.0",
      "model_name": "DescriptionStyleModel",
      "state": {
       "description_width": ""
      }
     },
     "d995acbee854474c88c06c74b021637d": {
      "model_module": "@jupyter-widgets/controls",
      "model_module_version": "1.5.0",
      "model_name": "HTMLModel",
      "state": {
       "layout": "IPY_MODEL_33922bbfe5634a8d8ec8f6703a24a297",
       "style": "IPY_MODEL_447ab133df2f41158a4e94ed3d84be60",
       "value": "switch:  67%"
      }
     },
     "e19c71d196514f88920adc0da6baf537": {
      "model_module": "@jupyter-widgets/controls",
      "model_module_version": "1.5.0",
      "model_name": "HBoxModel",
      "state": {
       "children": [
        "IPY_MODEL_56be59e4319940fc9fb2d3f1a3fba3fe",
        "IPY_MODEL_9780452b2af046fdb4201e317b94da33",
        "IPY_MODEL_878c20feaf22472ea8586b2ccda7e297"
       ],
       "layout": "IPY_MODEL_d2ee9fa10f5f4194a5d305ac780bec8c"
      }
     },
     "e1c427f6cd244fa597a550eec6a8a541": {
      "model_module": "@jupyter-widgets/base",
      "model_module_version": "1.2.0",
      "model_name": "LayoutModel",
      "state": {}
     },
     "e40f1899a87c4a9f835c8d93b3d7dd4e": {
      "model_module": "@jupyter-widgets/base",
      "model_module_version": "1.2.0",
      "model_name": "LayoutModel",
      "state": {}
     },
     "e54798dff34c4487ad10f9d8d3057c95": {
      "model_module": "@jupyter-widgets/controls",
      "model_module_version": "1.5.0",
      "model_name": "DescriptionStyleModel",
      "state": {
       "description_width": ""
      }
     },
     "e5861b1556094bc19c7e59affa05224a": {
      "model_module": "@jupyter-widgets/base",
      "model_module_version": "1.2.0",
      "model_name": "LayoutModel",
      "state": {}
     },
     "e62fda63216340ed9fb3a15025891ea0": {
      "model_module": "@jupyter-widgets/controls",
      "model_module_version": "1.5.0",
      "model_name": "HTMLModel",
      "state": {
       "layout": "IPY_MODEL_f1994180135c4d17bd13ae4d2b420898",
       "style": "IPY_MODEL_3fe3d7160aaf44b1920552d7419f1bfa",
       "value": "switch:  67%"
      }
     },
     "e7138ec6b7824c618749a5dea7ec354a": {
      "model_module": "@jupyter-widgets/base",
      "model_module_version": "1.2.0",
      "model_name": "LayoutModel",
      "state": {}
     },
     "e7c54a36d0174436b90bdc80b350c43e": {
      "model_module": "@jupyter-widgets/controls",
      "model_module_version": "1.5.0",
      "model_name": "ProgressStyleModel",
      "state": {
       "description_width": ""
      }
     },
     "e8b7581b13f4405cb7aada8b42d3c47c": {
      "model_module": "@jupyter-widgets/base",
      "model_module_version": "1.2.0",
      "model_name": "LayoutModel",
      "state": {}
     },
     "e9624865f63141ce9e12a6aab3b46a9e": {
      "model_module": "@jupyter-widgets/base",
      "model_module_version": "1.2.0",
      "model_name": "LayoutModel",
      "state": {}
     },
     "e9754c09153a4a0baf99729a209ba25a": {
      "model_module": "@jupyter-widgets/controls",
      "model_module_version": "1.5.0",
      "model_name": "HTMLModel",
      "state": {
       "layout": "IPY_MODEL_45bf4c318aa1413696382b6f39180311",
       "style": "IPY_MODEL_adf4819de7494ba29650e0b2a37cda3f",
       "value": " 6641/10000 [00:28&lt;00:00, 35268.35it/s]"
      }
     },
     "ea11e9bb8323457b87372d2e72602406": {
      "model_module": "@jupyter-widgets/base",
      "model_module_version": "1.2.0",
      "model_name": "LayoutModel",
      "state": {}
     },
     "eaade9ba525a4c0e841062fc8ee15cfc": {
      "model_module": "@jupyter-widgets/base",
      "model_module_version": "1.2.0",
      "model_name": "LayoutModel",
      "state": {}
     },
     "eb78eb0d8c6843e985fafeaa8f93f69f": {
      "model_module": "@jupyter-widgets/controls",
      "model_module_version": "1.5.0",
      "model_name": "FloatProgressModel",
      "state": {
       "bar_style": "danger",
       "layout": "IPY_MODEL_819a8468b7184289b053a3af24a6a68b",
       "max": 10000,
       "style": "IPY_MODEL_cc475791f2fa438b9af6374941acb613",
       "value": 6569
      }
     },
     "ec16cc5b1c974bc3a5c2868335966696": {
      "model_module": "@jupyter-widgets/controls",
      "model_module_version": "1.5.0",
      "model_name": "FloatProgressModel",
      "state": {
       "bar_style": "danger",
       "layout": "IPY_MODEL_3798295d0cc84e838703e506b32a6878",
       "max": 10000,
       "style": "IPY_MODEL_6b32f48a5e114681be233bbcefd77848",
       "value": 3359
      }
     },
     "ed21dedd737f425aa584fa7e4fe8fe00": {
      "model_module": "@jupyter-widgets/base",
      "model_module_version": "1.2.0",
      "model_name": "LayoutModel",
      "state": {}
     },
     "ed840758349041d297b708c840323530": {
      "model_module": "@jupyter-widgets/controls",
      "model_module_version": "1.5.0",
      "model_name": "HTMLModel",
      "state": {
       "layout": "IPY_MODEL_07703e32407c4914b48d92770a9727d0",
       "style": "IPY_MODEL_4ed0f6e983c2480a8ec940107c92dadb",
       "value": " 33506/100000 [00:01&lt;00:02, 30500.24it/s]"
      }
     },
     "efb7641e143c43048ea4676edc86acf3": {
      "model_module": "@jupyter-widgets/controls",
      "model_module_version": "1.5.0",
      "model_name": "FloatProgressModel",
      "state": {
       "bar_style": "danger",
       "layout": "IPY_MODEL_7439220f3c2d482fb9d27aff9dbfac79",
       "max": 10000,
       "style": "IPY_MODEL_807398ebd33949fb97ef680fb5d9a598",
       "value": 3370
      }
     },
     "f07d0b519893464eac8e03fd533ed8c4": {
      "model_module": "@jupyter-widgets/base",
      "model_module_version": "1.2.0",
      "model_name": "LayoutModel",
      "state": {}
     },
     "f0b0d1c8b5eb423e9fed772698ef7e66": {
      "model_module": "@jupyter-widgets/controls",
      "model_module_version": "1.5.0",
      "model_name": "ProgressStyleModel",
      "state": {
       "description_width": ""
      }
     },
     "f13eaee888c64d18873d921702050920": {
      "model_module": "@jupyter-widgets/base",
      "model_module_version": "1.2.0",
      "model_name": "LayoutModel",
      "state": {}
     },
     "f1461a53f8bc449486e15a6b2bd09aec": {
      "model_module": "@jupyter-widgets/base",
      "model_module_version": "1.2.0",
      "model_name": "LayoutModel",
      "state": {}
     },
     "f1994180135c4d17bd13ae4d2b420898": {
      "model_module": "@jupyter-widgets/base",
      "model_module_version": "1.2.0",
      "model_name": "LayoutModel",
      "state": {}
     },
     "f412c82442d349c192ad1157fd08f9a2": {
      "model_module": "@jupyter-widgets/controls",
      "model_module_version": "1.5.0",
      "model_name": "FloatProgressModel",
      "state": {
       "layout": "IPY_MODEL_22a6954350fe4172b4fe041fff55cd92",
       "max": 10000,
       "style": "IPY_MODEL_ba694d1ff6494621b59d7c988bf4e064",
       "value": 6732
      }
     },
     "f486adc410f84647880ea3f9b8f3b0f9": {
      "model_module": "@jupyter-widgets/controls",
      "model_module_version": "1.5.0",
      "model_name": "FloatProgressModel",
      "state": {
       "bar_style": "danger",
       "layout": "IPY_MODEL_7ea8e8be8d39404093e0eb2e085fa5fc",
       "max": 100000,
       "style": "IPY_MODEL_c233814edf834e50af3173ee02917d36",
       "value": 33475
      }
     },
     "f4c64381c0cc4b3186339b43c95618e6": {
      "model_module": "@jupyter-widgets/controls",
      "model_module_version": "1.5.0",
      "model_name": "ProgressStyleModel",
      "state": {
       "description_width": ""
      }
     },
     "f687b4abed9344fa8a86b3efac30ce96": {
      "model_module": "@jupyter-widgets/controls",
      "model_module_version": "1.5.0",
      "model_name": "HTMLModel",
      "state": {
       "layout": "IPY_MODEL_19c1ea4a1d3845c583263bdd28065deb",
       "style": "IPY_MODEL_2da02a1b1ca8497d83b509311d82c782",
       "value": " 6732/10000 [00:13&lt;00:00, 41173.46it/s]"
      }
     },
     "f7ef9346bbdf4de8837df1f51400355e": {
      "model_module": "@jupyter-widgets/controls",
      "model_module_version": "1.5.0",
      "model_name": "HBoxModel",
      "state": {
       "children": [
        "IPY_MODEL_ac87a03d537741dbbdfd4969c2481482",
        "IPY_MODEL_56c5712a23a94fa5bdbb7f19d43bfc0c",
        "IPY_MODEL_83494086793d47708c73dba15ea40fa6"
       ],
       "layout": "IPY_MODEL_2337e1218ebc422fb910195ef5c916ec"
      }
     },
     "f8bf4400fc9a49dea9f72f6a20716df5": {
      "model_module": "@jupyter-widgets/base",
      "model_module_version": "1.2.0",
      "model_name": "LayoutModel",
      "state": {}
     },
     "fa1f940d01e54ced965a726892cd2e61": {
      "model_module": "@jupyter-widgets/controls",
      "model_module_version": "1.5.0",
      "model_name": "DescriptionStyleModel",
      "state": {
       "description_width": ""
      }
     },
     "fac8c44fc5fe44c58eedf4b5107f2212": {
      "model_module": "@jupyter-widgets/controls",
      "model_module_version": "1.5.0",
      "model_name": "HBoxModel",
      "state": {
       "children": [
        "IPY_MODEL_aa789416ec894e309ad54c8c431d74e3",
        "IPY_MODEL_a587cdcee6514efb84ba3066f19f59c2",
        "IPY_MODEL_ed840758349041d297b708c840323530"
       ],
       "layout": "IPY_MODEL_d19b2066f2c2494fbd184ccc0e75942d"
      }
     },
     "faedc09670f0408aac820811319fc3a1": {
      "model_module": "@jupyter-widgets/controls",
      "model_module_version": "1.5.0",
      "model_name": "DescriptionStyleModel",
      "state": {
       "description_width": ""
      }
     },
     "fb2da58349774413ae246b4ba26f49c1": {
      "model_module": "@jupyter-widgets/controls",
      "model_module_version": "1.5.0",
      "model_name": "HBoxModel",
      "state": {
       "children": [
        "IPY_MODEL_e62fda63216340ed9fb3a15025891ea0",
        "IPY_MODEL_669c89f6e97c4cf1ab478d479508ed07",
        "IPY_MODEL_d32a9eba00fc4944b29fb5cb14a4d8bb"
       ],
       "layout": "IPY_MODEL_ca13dad4d73349618bb751e7f430ac43"
      }
     },
     "fc92a013d15541a1830a439d8e0ab9cf": {
      "model_module": "@jupyter-widgets/controls",
      "model_module_version": "1.5.0",
      "model_name": "FloatProgressModel",
      "state": {
       "bar_style": "danger",
       "layout": "IPY_MODEL_7f1eb620d4e348f6b7bec06ee2fd0fba",
       "max": 100000,
       "style": "IPY_MODEL_02882a72cc5e4d3381b8da20b2d7b025",
       "value": 66848
      }
     },
     "fca6371f409d47e1b8c427ec98cbce29": {
      "model_module": "@jupyter-widgets/controls",
      "model_module_version": "1.5.0",
      "model_name": "IntProgressModel",
      "state": {
       "description": "switch",
       "layout": "IPY_MODEL_bb04aced310a42a7abf474e3ac3e06a3",
       "max": 10000,
       "style": "IPY_MODEL_f0b0d1c8b5eb423e9fed772698ef7e66",
       "value": 6664
      }
     },
     "fd167757382c4e06b63d9c5475cef60e": {
      "model_module": "@jupyter-widgets/controls",
      "model_module_version": "1.5.0",
      "model_name": "HTMLModel",
      "state": {
       "layout": "IPY_MODEL_e9624865f63141ce9e12a6aab3b46a9e",
       "style": "IPY_MODEL_976d582d39384851ade757fbc9c05c42",
       "value": "switch:  66%"
      }
     },
     "fd69aef48cd845c4a3911b750308fc8a": {
      "model_module": "@jupyter-widgets/controls",
      "model_module_version": "1.5.0",
      "model_name": "FloatProgressModel",
      "state": {
       "bar_style": "danger",
       "layout": "IPY_MODEL_5e1ee5de6da54af3b192638f0e6b9002",
       "max": 100000,
       "style": "IPY_MODEL_b03c08e2eb3d40ed8cfc8c6d52c49fee",
       "value": 66516
      }
     },
     "feace25697d94ec2868d0ee56adfec80": {
      "model_module": "@jupyter-widgets/base",
      "model_module_version": "1.2.0",
      "model_name": "LayoutModel",
      "state": {}
     },
     "ff62363a530c4c6289d281021bc8b020": {
      "model_module": "@jupyter-widgets/controls",
      "model_module_version": "1.5.0",
      "model_name": "HTMLModel",
      "state": {
       "layout": "IPY_MODEL_5142a701140c40f7a211468e5e09bfd9",
       "style": "IPY_MODEL_2cc7986ce7ea46129e7c7e6eab79dba5",
       "value": " 6689/10000 [00:00&lt;00:00, 40724.70it/s]"
      }
     }
    },
    "version_major": 2,
    "version_minor": 0
   }
  }
 },
 "nbformat": 4,
 "nbformat_minor": 4
}
