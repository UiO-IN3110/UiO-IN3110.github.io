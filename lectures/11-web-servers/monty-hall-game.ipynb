{
 "cells": [
  {
   "cell_type": "markdown",
   "metadata": {
    "tags": []
   },
   "source": [
    "## The Monty Hall game\n",
    "\n",
    "Suppose you're on a game show, and you're given the choice of three doors: Behind one door is a car; behind the others, goats.\n",
    "\n",
    "In search of a new car, the player picks a door, say 1. The game host then opens one of the other doors, say 3, to reveal a goat and offers to let the player pick door 2 instead of door 1.\n",
    "\n",
    "![image](pictures/440px-Monty_open_door.svg.png \"image source: Wikipedia\")\n",
    "\n",
    "**Goal**: Implement this game as a web application.\n",
    "\n",
    "If you want to look at the code at home, here is the implementation: https://github.com/UiO-IN3110/UiO-IN3110.github.io/tree/HEAD/lectures/09_web_programming/monty-hall-game"
   ]
  },
  {
   "cell_type": "code",
   "execution_count": 1,
   "metadata": {},
   "outputs": [],
   "source": [
    "import random\n",
    "from functools import partial\n",
    "from typing import Optional\n",
    "\n",
    "from pydantic import BaseModel, Field\n",
    "\n",
    "\n",
    "class MontyHallGame(BaseModel):\n",
    "    winning: int = Field(default_factory=partial(random.randint, 1, 3))\n",
    "    first_choice: Optional[int]\n",
    "    opened: Optional[int]\n",
    "    second_choice: Optional[int]\n",
    "    has_won: Optional[bool]\n",
    "\n",
    "    def choose(self, choice: int):\n",
    "        \"\"\"The first step: Make a choice\"\"\"\n",
    "        self.first_choice = choice\n",
    "\n",
    "    def reveal(self):\n",
    "        \"\"\"The second step: host reveals a door that definitely has a goat.\"\"\"\n",
    "        choices = set([1, 2, 3])\n",
    "        # don't open the winning door\n",
    "        choices.discard(self.winning)\n",
    "        # don't open the door they've already chosen\n",
    "        choices.discard(self.first_choice)\n",
    "        # open a random remaining door.\n",
    "        # there is either 1 or 2 choices left\n",
    "        self.opened = random.choice(list(choices))\n",
    "        return self.opened\n",
    "\n",
    "    def choose_again(self, switch: bool):\n",
    "        \"\"\"Guest can either switch to the other door, or stay with their first choice\"\"\"\n",
    "        if switch:\n",
    "            choices = set([1, 2, 3])\n",
    "            choices.discard(self.first_choice)\n",
    "            choices.discard(self.opened)\n",
    "            self.second_choice = choices.pop()\n",
    "        else:\n",
    "            self.second_choice = self.first_choice\n",
    "        self.has_won = self.second_choice == self.winning\n",
    "        return self.second_choice\n",
    "\n",
    "    def play(self):\n",
    "        \"\"\"Play one full round\"\"\"\n",
    "        first_choice = int(input(\"Pick a door (1, 2, 3): \"))\n",
    "        self.choose(first_choice)\n",
    "        self.reveal()\n",
    "        available = set([1, 2, 3])\n",
    "        available.discard(first_choice)\n",
    "        available.discard(self.opened)\n",
    "        remaining = available.pop()\n",
    "        ans = input(\n",
    "            f\"I've opened door number {self.opened}. Would you like to switch (y/N)?\"\n",
    "        )\n",
    "        second_choice = self.choose_again(switch=ans.lower().startswith(\"y\"))\n",
    "\n",
    "        print(f\"You picked door number {self.second_choice}\")\n",
    "        if self.second_choice == self.winning:\n",
    "            print(\"You win!\")\n",
    "        else:\n",
    "            print(f\"Sorry, it was door number {self.winning} :(\")"
   ]
  },
  {
   "cell_type": "code",
   "execution_count": 2,
   "metadata": {},
   "outputs": [
    {
     "name": "stdin",
     "output_type": "stream",
     "text": [
      "Pick a door (1, 2, 3):  1\n",
      "I've opened door number 3. Would you like to switch (y/N)? y\n"
     ]
    },
    {
     "name": "stdout",
     "output_type": "stream",
     "text": [
      "You picked door number 2\n",
      "You win!\n"
     ]
    }
   ],
   "source": [
    "game = MontyHallGame()\n",
    "game.play()"
   ]
  },
  {
   "cell_type": "markdown",
   "metadata": {},
   "source": [
    "Now we are going to simulate a number of games,\n",
    "recording our win rate for the switch strategy and the stay strategy."
   ]
  },
  {
   "cell_type": "code",
   "execution_count": 3,
   "metadata": {},
   "outputs": [
    {
     "data": {
      "application/vnd.jupyter.widget-view+json": {
       "model_id": "cdfbb644c2b54eba986b9b885f21d9d6",
       "version_major": 2,
       "version_minor": 0
      },
      "text/plain": [
       "switch:   0%|          | 0/100000 [00:00<?, ?it/s]"
      ]
     },
     "metadata": {},
     "output_type": "display_data"
    },
    {
     "data": {
      "application/vnd.jupyter.widget-view+json": {
       "model_id": "872ab317994a42ed99b3be8271df0bfc",
       "version_major": 2,
       "version_minor": 0
      },
      "text/plain": [
       "stay:   0%|          | 0/100000 [00:00<?, ?it/s]"
      ]
     },
     "metadata": {},
     "output_type": "display_data"
    }
   ],
   "source": [
    "import random\n",
    "from IPython.display import display\n",
    "import ipywidgets\n",
    "from tqdm.notebook import tqdm\n",
    "\n",
    "def autoplay(samples):\n",
    "    switch_progress = tqdm(desc=\"switch\", total=samples, mininterval=.01)\n",
    "    stay_progress = tqdm(desc=\"stay\", total=samples, mininterval=.01)\n",
    "\n",
    "    for i in range(samples):\n",
    "        for switch, progress in zip((True, False), (switch_progress, stay_progress)):\n",
    "            first_choice = random.randint(1, 3)\n",
    "            game = MontyHallGame()\n",
    "            game.choose(first_choice)\n",
    "            game.reveal()\n",
    "            game.choose_again(switch=switch)\n",
    "            if game.has_won:\n",
    "                progress.update(1)\n",
    "#                progress.value += 1\n",
    "                # if not progress.value % 10:\n",
    "                #     progress._hold.__exit__()\n",
    "                #     progress._hold.__enter__()\n",
    "    switch_progress.close()\n",
    "    stay_progress.close()\n",
    "            \n",
    "autoplay(100_000)"
   ]
  },
  {
   "cell_type": "markdown",
   "metadata": {},
   "source": [
    "Tasks:\n",
    "\n",
    "1. create a 'welcome' page\n",
    "2. serve a form for \"pick a door\"\n",
    "3. handle form submission for picking a door\n",
    "4. select a door to open\n",
    "5. serve a form to make final pick\n",
    "6. serve a result\n",
    "\n",
    "\n",
    "Initial FastAPI boilerplate:\n",
    "\n",
    "```python\n",
    "from fastapi import FastAPI, Form, Request\n",
    "from fastapi.responses import HTMLResponse\n",
    "from fastapi.templating import Jinja2Templates\n",
    "\n",
    "app = FastAPI()\n",
    "templates = Jinja2Templates(directory=\"templates\")\n",
    "\n",
    "@app.get(\"/\", response_class=HTMLResponse)\n",
    "def welcome():\n",
    "    ...\n",
    "\n",
    "if __name__ == \"__main__\":\n",
    "    import uvicorn\n",
    "    uvicorn.run(app, debug=True)\n",
    "```\n"
   ]
  },
  {
   "cell_type": "code",
   "execution_count": null,
   "metadata": {},
   "outputs": [],
   "source": []
  }
 ],
 "metadata": {
  "kernelspec": {
   "display_name": "Python 3 (ipykernel)",
   "language": "python",
   "name": "python3"
  },
  "language_info": {
   "codemirror_mode": {
    "name": "ipython",
    "version": 3
   },
   "file_extension": ".py",
   "mimetype": "text/x-python",
   "name": "python",
   "nbconvert_exporter": "python",
   "pygments_lexer": "ipython3",
   "version": "3.10.4"
  },
  "widgets": {
   "application/vnd.jupyter.widget-state+json": {
    "state": {
     "2b7b98b16ee147cc961fcf0ef86433cf": {
      "model_module": "@jupyter-widgets/controls",
      "model_module_version": "1.5.0",
      "model_name": "ProgressStyleModel",
      "state": {
       "description_width": ""
      }
     },
     "2efb429d41d94417bc8cbb0ea610d23c": {
      "model_module": "@jupyter-widgets/base",
      "model_module_version": "1.2.0",
      "model_name": "LayoutModel",
      "state": {}
     },
     "3344c3d7c4f14154a61d54031a6206b9": {
      "model_module": "@jupyter-widgets/base",
      "model_module_version": "1.2.0",
      "model_name": "LayoutModel",
      "state": {}
     },
     "39800e9ae78841f9a80ef242845018fc": {
      "model_module": "@jupyter-widgets/controls",
      "model_module_version": "1.5.0",
      "model_name": "ProgressStyleModel",
      "state": {
       "description_width": ""
      }
     },
     "3d75c5bd67e647888a398d8c98cc1143": {
      "model_module": "@jupyter-widgets/controls",
      "model_module_version": "1.5.0",
      "model_name": "HTMLModel",
      "state": {
       "layout": "IPY_MODEL_3344c3d7c4f14154a61d54031a6206b9",
       "style": "IPY_MODEL_6ffd6f34756243daa1376a564b06cf30",
       "value": " 66945/100000 [00:01&lt;00:00, 48690.61it/s]"
      }
     },
     "57b17a05427342059a1e3b4d83212128": {
      "model_module": "@jupyter-widgets/controls",
      "model_module_version": "1.5.0",
      "model_name": "DescriptionStyleModel",
      "state": {
       "description_width": ""
      }
     },
     "6c2aad552a784351bff43e4800dcc519": {
      "model_module": "@jupyter-widgets/controls",
      "model_module_version": "1.5.0",
      "model_name": "DescriptionStyleModel",
      "state": {
       "description_width": ""
      }
     },
     "6ffd6f34756243daa1376a564b06cf30": {
      "model_module": "@jupyter-widgets/controls",
      "model_module_version": "1.5.0",
      "model_name": "DescriptionStyleModel",
      "state": {
       "description_width": ""
      }
     },
     "73840d6096024059996b58ad08887dd3": {
      "model_module": "@jupyter-widgets/controls",
      "model_module_version": "1.5.0",
      "model_name": "HTMLModel",
      "state": {
       "layout": "IPY_MODEL_dda06225b01a4fd1803ea35c3a1168ff",
       "style": "IPY_MODEL_6c2aad552a784351bff43e4800dcc519",
       "value": "switch:  67%"
      }
     },
     "872ab317994a42ed99b3be8271df0bfc": {
      "model_module": "@jupyter-widgets/controls",
      "model_module_version": "1.5.0",
      "model_name": "HBoxModel",
      "state": {
       "children": [
        "IPY_MODEL_fa2aa5f0132547ec9c5a99172e497e79",
        "IPY_MODEL_ce95698d3193469683783268ff1ff410",
        "IPY_MODEL_e47372e1925a492bb5731a48ed6003e3"
       ],
       "layout": "IPY_MODEL_2efb429d41d94417bc8cbb0ea610d23c"
      }
     },
     "998d798b054a4763bac018f8d62aac11": {
      "model_module": "@jupyter-widgets/controls",
      "model_module_version": "1.5.0",
      "model_name": "FloatProgressModel",
      "state": {
       "bar_style": "danger",
       "layout": "IPY_MODEL_c4c62d9a531047dbb02dbb0d951e7ecc",
       "max": 100000,
       "style": "IPY_MODEL_2b7b98b16ee147cc961fcf0ef86433cf",
       "value": 66945
      }
     },
     "b3f31eafbd474abcae3b62f9a54b072a": {
      "model_module": "@jupyter-widgets/base",
      "model_module_version": "1.2.0",
      "model_name": "LayoutModel",
      "state": {}
     },
     "c4c62d9a531047dbb02dbb0d951e7ecc": {
      "model_module": "@jupyter-widgets/base",
      "model_module_version": "1.2.0",
      "model_name": "LayoutModel",
      "state": {}
     },
     "cbd7399faa70471ea03bf5aaf32cf642": {
      "model_module": "@jupyter-widgets/controls",
      "model_module_version": "1.5.0",
      "model_name": "DescriptionStyleModel",
      "state": {
       "description_width": ""
      }
     },
     "cdfbb644c2b54eba986b9b885f21d9d6": {
      "model_module": "@jupyter-widgets/controls",
      "model_module_version": "1.5.0",
      "model_name": "HBoxModel",
      "state": {
       "children": [
        "IPY_MODEL_73840d6096024059996b58ad08887dd3",
        "IPY_MODEL_998d798b054a4763bac018f8d62aac11",
        "IPY_MODEL_3d75c5bd67e647888a398d8c98cc1143"
       ],
       "layout": "IPY_MODEL_e45077c381ca4e769561f27c38c4a249"
      }
     },
     "ce95698d3193469683783268ff1ff410": {
      "model_module": "@jupyter-widgets/controls",
      "model_module_version": "1.5.0",
      "model_name": "FloatProgressModel",
      "state": {
       "bar_style": "danger",
       "layout": "IPY_MODEL_b3f31eafbd474abcae3b62f9a54b072a",
       "max": 100000,
       "style": "IPY_MODEL_39800e9ae78841f9a80ef242845018fc",
       "value": 33132
      }
     },
     "d045705adc174bf68ebc5d03d2613e68": {
      "model_module": "@jupyter-widgets/base",
      "model_module_version": "1.2.0",
      "model_name": "LayoutModel",
      "state": {}
     },
     "dda06225b01a4fd1803ea35c3a1168ff": {
      "model_module": "@jupyter-widgets/base",
      "model_module_version": "1.2.0",
      "model_name": "LayoutModel",
      "state": {}
     },
     "e45077c381ca4e769561f27c38c4a249": {
      "model_module": "@jupyter-widgets/base",
      "model_module_version": "1.2.0",
      "model_name": "LayoutModel",
      "state": {}
     },
     "e47372e1925a492bb5731a48ed6003e3": {
      "model_module": "@jupyter-widgets/controls",
      "model_module_version": "1.5.0",
      "model_name": "HTMLModel",
      "state": {
       "layout": "IPY_MODEL_d045705adc174bf68ebc5d03d2613e68",
       "style": "IPY_MODEL_57b17a05427342059a1e3b4d83212128",
       "value": " 33132/100000 [00:01&lt;00:02, 24395.32it/s]"
      }
     },
     "f6cb2788a2ea41dab60f4d0ce72a1e95": {
      "model_module": "@jupyter-widgets/base",
      "model_module_version": "1.2.0",
      "model_name": "LayoutModel",
      "state": {}
     },
     "fa2aa5f0132547ec9c5a99172e497e79": {
      "model_module": "@jupyter-widgets/controls",
      "model_module_version": "1.5.0",
      "model_name": "HTMLModel",
      "state": {
       "layout": "IPY_MODEL_f6cb2788a2ea41dab60f4d0ce72a1e95",
       "style": "IPY_MODEL_cbd7399faa70471ea03bf5aaf32cf642",
       "value": "stay:  33%"
      }
     }
    },
    "version_major": 2,
    "version_minor": 0
   }
  }
 },
 "nbformat": 4,
 "nbformat_minor": 4
}
