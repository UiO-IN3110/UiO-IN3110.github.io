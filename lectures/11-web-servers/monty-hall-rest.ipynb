{
 "cells": [
  {
   "cell_type": "code",
   "execution_count": null,
   "id": "10b26bf8-5368-4890-81c9-60be933e9e6e",
   "metadata": {},
   "outputs": [],
   "source": [
    "import requests\n",
    "\n",
    "url = \"http://127.0.0.1:8000\""
   ]
  },
  {
   "cell_type": "code",
   "execution_count": null,
   "id": "32d7e6d5-6da5-45c3-90e9-d01b8c1a3d2b",
   "metadata": {},
   "outputs": [],
   "source": [
    "r = requests.post(f\"{url}/games\")\n",
    "r.json()"
   ]
  },
  {
   "cell_type": "code",
   "execution_count": null,
   "id": "38c08778-90ba-4bc6-be12-c5170928931b",
   "metadata": {},
   "outputs": [],
   "source": [
    "import json\n",
    "\n",
    "game_id = r.json()[\"id\"]\n",
    "r = requests.post(f\"{url}/games/{game_id}/choose\", data=json.dumps({\"door\": 1}))\n",
    "r.json()"
   ]
  },
  {
   "cell_type": "code",
   "execution_count": null,
   "id": "4a4df75d-1102-469b-a194-6e932d0d4469",
   "metadata": {},
   "outputs": [],
   "source": [
    "r = requests.post(\n",
    "    f\"{url}/games/{game_id}/choose-again\", data=json.dumps({\"switch\": False})\n",
    ")\n",
    "r.json()"
   ]
  },
  {
   "cell_type": "code",
   "execution_count": null,
   "id": "ea8651b3-d4e8-4797-b6a1-ef26fdafd998",
   "metadata": {},
   "outputs": [],
   "source": [
    "r = requests.get(f\"{url}/statistics\")"
   ]
  },
  {
   "cell_type": "code",
   "execution_count": null,
   "id": "2607e51f-e9a3-407d-9a9b-73d06c4bc4b6",
   "metadata": {},
   "outputs": [],
   "source": [
    "r.json()"
   ]
  },
  {
   "cell_type": "code",
   "execution_count": null,
   "id": "c9a331b7-4d03-44ae-a9c7-147819ef6661",
   "metadata": {},
   "outputs": [],
   "source": [
    "import pandas as pd\n",
    "\n",
    "pd.DataFrame(r.json())"
   ]
  }
 ],
 "metadata": {
  "kernelspec": {
   "display_name": "Python 3 (ipykernel)",
   "language": "python",
   "name": "python3"
  },
  "language_info": {
   "codemirror_mode": {
    "name": "ipython",
    "version": 3
   },
   "file_extension": ".py",
   "mimetype": "text/x-python",
   "name": "python",
   "nbconvert_exporter": "python",
   "pygments_lexer": "ipython3",
   "version": "3.10.4"
  },
  "widgets": {
   "application/vnd.jupyter.widget-state+json": {
    "state": {},
    "version_major": 2,
    "version_minor": 0
   }
  }
 },
 "nbformat": 4,
 "nbformat_minor": 5
}
