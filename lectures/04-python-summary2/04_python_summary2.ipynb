{
 "cells": [
  {
   "cell_type": "markdown",
   "metadata": {
    "slideshow": {
     "slide_type": "slide"
    }
   },
   "source": [
    "# Advanced Python topics\n",
    "\n",
    "\n",
    "<img src=\"https://imgs.xkcd.com/comics/random_number.png\" style=\"width: 800px;\"/>\n"
   ]
  },
  {
   "cell_type": "markdown",
   "metadata": {},
   "source": [
    "## Lecture today:\n",
    "\n",
    "* Essentials to better Python\n",
    " * List comprehensions\n",
    " * Decorators\n",
    " * Subclasses\n",
    " * Error handling\n",
    "* Testing your code\n",
    "* Structuring your project\n",
    "    * Modules and packages\n"
   ]
  },
  {
   "cell_type": "markdown",
   "metadata": {},
   "source": [
    "## Some updates\n",
    "\n",
    "**Assignment 3 (Python)**\n",
    "\n",
    "* Deadline today at 23:59.\n",
    "* Make sure that your solution is in your private github repository.\n",
    "* For extensions, follow the link on the course webpage -> oppgaver\n",
    "\n",
    "**Assignment 4 (Numerical Python)**\n",
    "* Mandatory assignment 4 is online.\n",
    "* This is the three-week deadline assignment, followed by a peer-reviewed.\n",
    "* Optional group session assignment 4 will be published today\n",
    "\n",
    "**Lecture overview**\n",
    "* Today: Advanced Python topics\n",
    "* Next week: Fast numerical Python with NumPy"
   ]
  },
  {
   "cell_type": "code",
   "execution_count": null,
   "metadata": {},
   "outputs": [],
   "source": []
  }
 ],
 "metadata": {
  "celltoolbar": "Slideshow",
  "kernelspec": {
   "display_name": "Python 3",
   "language": "python",
   "name": "python3"
  },
  "language_info": {
   "codemirror_mode": {
    "name": "ipython",
    "version": 3
   },
   "file_extension": ".py",
   "mimetype": "text/x-python",
   "name": "python",
   "nbconvert_exporter": "python",
   "pygments_lexer": "ipython3",
   "version": "3.6.9"
  },
  "livereveal": {
   "scroll": true,
   "start_slideshow_at": "selected",
   "theme": "serif"
  }
 },
 "nbformat": 4,
 "nbformat_minor": 1
}
