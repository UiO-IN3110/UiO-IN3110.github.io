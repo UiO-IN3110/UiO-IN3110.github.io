{
 "cells": [
  {
   "cell_type": "markdown",
   "metadata": {
    "slideshow": {
     "slide_type": "slide"
    }
   },
   "source": [
    "# How to structure your code: Modules and Packages\n",
    "\n",
    "<img src=\"python_structure_options.svg\" style=\"width: 800px;\"/>"
   ]
  },
  {
   "cell_type": "markdown",
   "metadata": {
    "collapsed": true,
    "slideshow": {
     "slide_type": "subslide"
    }
   },
   "source": [
    "### What is a Python module?\n",
    "A module is a file consisting of Python code. A module can define functions, classes and variables. A module can also include runnable code."
   ]
  },
  {
   "cell_type": "markdown",
   "metadata": {
    "collapsed": true,
    "slideshow": {
     "slide_type": "subslide"
    }
   },
   "source": [
    "### What is it good for?\n",
    "\n",
    "Use modules to organize your program logically\n",
    "  * Split the code into several files for easier maintenance.\n",
    "  * Group related code into a module.\n",
    "  * Share common code between scripts.\n",
    "  * Publish modules on the web for other people to use (even better: create a **package**, see below)."
   ]
  },
  {
   "cell_type": "markdown",
   "metadata": {
    "collapsed": true,
    "slideshow": {
     "slide_type": "subslide"
    }
   },
   "source": [
    "## Using modules (i)\n",
    "\n",
    "Python comes with already with many modules that you can use.\n",
    "For example, let's import the module called `sys` and access its `argv` variable:\n",
    "\n",
    "```python\n",
    "import sys\n",
    "x = float(sys.argv[1])\n",
    "```"
   ]
  },
  {
   "cell_type": "markdown",
   "metadata": {
    "collapsed": true,
    "slideshow": {
     "slide_type": "fragment"
    }
   },
   "source": [
    "Import module member `argv` into current namespace:\n",
    "\n",
    "```python\n",
    "from sys import argv\n",
    "x = float(argv[1])\n",
    "```"
   ]
  },
  {
   "cell_type": "markdown",
   "metadata": {
    "collapsed": true,
    "slideshow": {
     "slide_type": "subslide"
    }
   },
   "source": [
    "## Using modules (ii)\n",
    "\n",
    "Import everything from `sys` \n",
    "\n",
    "```python\n",
    "from sys import *\n",
    "x = float(argv[1])\n",
    "\n",
    "flags = ''\n",
    "# Ooops, flags was also imported from sys, this new flags\n",
    "# name overwrites sys.flags!\n",
    "```\n",
    "**Note: This is considered bad style, not recommended!**:"
   ]
  },
  {
   "cell_type": "markdown",
   "metadata": {
    "slideshow": {
     "slide_type": "subslide"
    }
   },
   "source": [
    "### Useful standard modules: Date and time calculations"
   ]
  },
  {
   "cell_type": "code",
   "execution_count": 1,
   "metadata": {
    "slideshow": {
     "slide_type": "-"
    }
   },
   "outputs": [
    {
     "name": "stdout",
     "output_type": "stream",
     "text": [
      "I am 14202 days, 15:37:08.243013 old\n"
     ]
    }
   ],
   "source": [
    "from datetime import datetime\n",
    "\n",
    "birthday = datetime(1981, 10, 16, 23, 50)\n",
    "today = datetime.now()\n",
    "\n",
    "age = today-birthday\n",
    "\n",
    "print(f\"I am {age} old\")"
   ]
  },
  {
   "cell_type": "markdown",
   "metadata": {
    "slideshow": {
     "slide_type": "skip"
    }
   },
   "source": [
    "### Useful standard modules: Pretty printing"
   ]
  },
  {
   "cell_type": "code",
   "execution_count": 40,
   "metadata": {
    "slideshow": {
     "slide_type": "skip"
    }
   },
   "outputs": [
    {
     "name": "stdout",
     "output_type": "stream",
     "text": [
      "{'Bergen': 257087,\n",
      " 'Oslo': 1019513,\n",
      " 'Stavanger': 225020,\n",
      " 'Trondheim': 186364}\n"
     ]
    }
   ],
   "source": [
    "from pprint import pprint\n",
    "\n",
    "cities = {\"Oslo\": 1019513,\n",
    "          \"Bergen\": 257087,\n",
    "          \"Stavanger\": 225020,\n",
    "          \"Trondheim\": 186364 \n",
    "         }\n",
    "\n",
    "pprint(cities, width=70)"
   ]
  },
  {
   "cell_type": "markdown",
   "metadata": {
    "slideshow": {
     "slide_type": "subslide"
    }
   },
   "source": [
    "### Useful standard modules: Operating system specific functionality"
   ]
  },
  {
   "cell_type": "code",
   "execution_count": 31,
   "metadata": {},
   "outputs": [
    {
     "name": "stdout",
     "output_type": "stream",
     "text": [
      "/home/simon/Documents/IN3110/UiO-IN3110.github.io/lectures/04-python-summary2/tmp path already exists.\n"
     ]
    }
   ],
   "source": [
    "import os\n",
    "\n",
    "parent_dir = os.getcwd() # Get current directory\n",
    "directory = \"tmp\"\n",
    "\n",
    "tmp_dir = os.path.join(parent_dir, directory)  # Join directories\n",
    "\n",
    "if not os.path.exists(tmp_dir):   # Check if a path exists\n",
    "    print(f\"Creating {tmp_dir}.\")\n",
    "    os.mkdir(tmp_dir, mode=0o666)   # Create directory \n",
    "else:\n",
    "    print(f\"{tmp_dir} path already exists.\")"
   ]
  },
  {
   "cell_type": "markdown",
   "metadata": {
    "slideshow": {
     "slide_type": "subslide"
    }
   },
   "source": [
    "## Create Python modules\n",
    "\n",
    "\n",
    "Creating modules in Python is **very simple**:\n",
    "\n",
    "1. Put any code (variables, functions, classes) that should be part of the module in a Python file.\n",
    " \n",
    "That is it!"
   ]
  },
  {
   "cell_type": "markdown",
   "metadata": {
    "slideshow": {
     "slide_type": "subslide"
    }
   },
   "source": [
    "## A first module\n",
    "\n",
    "\n",
    "```python\n",
    "# my_module.py\n",
    "\n",
    "name = \"Simon\"\n",
    "\n",
    "def greet():\n",
    "    print(f\"Hello {name}\")\n",
    "```"
   ]
  },
  {
   "cell_type": "markdown",
   "metadata": {
    "collapsed": true,
    "slideshow": {
     "slide_type": "subslide"
    }
   },
   "source": [
    "### Using the custom module "
   ]
  },
  {
   "cell_type": "code",
   "execution_count": 2,
   "metadata": {
    "slideshow": {
     "slide_type": "-"
    }
   },
   "outputs": [
    {
     "name": "stdout",
     "output_type": "stream",
     "text": [
      "Hello Simon\n"
     ]
    }
   ],
   "source": [
    "import my_module\n",
    "my_module.greet()"
   ]
  },
  {
   "cell_type": "markdown",
   "metadata": {},
   "source": [
    "or"
   ]
  },
  {
   "cell_type": "code",
   "execution_count": null,
   "metadata": {
    "slideshow": {
     "slide_type": "fragment"
    }
   },
   "outputs": [],
   "source": [
    "import my_module as mm   # mm is a short form\n",
    "mm.greet()"
   ]
  },
  {
   "cell_type": "markdown",
   "metadata": {},
   "source": [
    "or"
   ]
  },
  {
   "cell_type": "code",
   "execution_count": 2,
   "metadata": {
    "slideshow": {
     "slide_type": "fragment"
    }
   },
   "outputs": [
    {
     "name": "stdout",
     "output_type": "stream",
     "text": [
      "Simon\n"
     ]
    }
   ],
   "source": [
    "from my_module import name\n",
    "print(name)"
   ]
  },
  {
   "cell_type": "markdown",
   "metadata": {
    "slideshow": {
     "slide_type": "subslide"
    }
   },
   "source": [
    "## How does Python find your modules?\n",
    "\n",
    "\n",
    "When importing a module (or package module), Python tries to find it in multiples places (in this order):\n",
    "\n",
    "1. Your current working directory.\n",
    "2. Paths defined by the environment variable `$PYTHONPATH`.\n",
    "3. Some global paths, e.g. `/usr/lib/python3.7/site-packages`. This depends on your OS and Python installation."
   ]
  },
  {
   "cell_type": "markdown",
   "metadata": {
    "collapsed": true,
    "slideshow": {
     "slide_type": "subslide"
    }
   },
   "source": [
    "## Test block in a module\n",
    "\n",
    "\n",
    "Module files can have a test/demo section at the end:\n",
    "    "
   ]
  },
  {
   "cell_type": "markdown",
   "metadata": {
    "collapsed": true,
    "slideshow": {
     "slide_type": "fragment"
    }
   },
   "source": [
    "```python\n",
    "# my_module.py\n",
    "\n",
    "# ...\n",
    "\n",
    "if __name__ == '__main__':\n",
    "    # The following code is only executed when \n",
    "    # my_module.py is used as a script (not a module)\n",
    "    greet()\n",
    "```        "
   ]
  },
  {
   "cell_type": "markdown",
   "metadata": {
    "collapsed": true
   },
   "source": [
    "* The block is executed *only if* the module file is run as a program (not if imported by another script)\n",
    "* The tests at the end of a module often serve as good examples on the usage of the module"
   ]
  },
  {
   "cell_type": "markdown",
   "metadata": {
    "slideshow": {
     "slide_type": "subslide"
    }
   },
   "source": [
    "## Packages\n",
    "\n",
    "\n",
    "<img src=\"python_structure_options.svg\" style=\"width: 800px;\"/>"
   ]
  },
  {
   "cell_type": "markdown",
   "metadata": {
    "slideshow": {
     "slide_type": "subslide"
    }
   },
   "source": [
    "## What is a package?\n",
    "\n",
    "A package is a hierarchical file directory structure that consists of modules and subpackages and sub-subpackages, and so on.\n",
    "\n",
    "**Example:**\n",
    "\n",
    "```python\n",
    "from scipy.optimize import minimize \n",
    "#      ^      ^               ^ \n",
    "#      |      |               |\n",
    "#   Package   |               |\n",
    "#             |               |\n",
    "#           Module            |\n",
    "#                             |\n",
    "#                          Function\n",
    "```\n",
    "\n",
    "\n",
    "Packages allow to organize modules and scripts into  single environment. These can then easily be distributed and imported by name. "
   ]
  },
  {
   "cell_type": "markdown",
   "metadata": {
    "slideshow": {
     "slide_type": "subslide"
    }
   },
   "source": [
    "Python comes with a set of powerful packages, e.g.\n",
    "* **scipy** Scientific Python \n",
    "* **numpy** Numerical Python\n",
    "* **ipython** Interactive Python\n",
    "* **matplotlib** Plotting\n",
    "* **pandas** Data analysis\n",
    "* **scikit learn** Machine learning\n",
    "\n",
    "*Several useful packages are included in Python distributions like Anaconda*"
   ]
  },
  {
   "cell_type": "markdown",
   "metadata": {
    "slideshow": {
     "slide_type": "subslide"
    }
   },
   "source": [
    "## The Python Package Index (PyPI) collects a large number of packages\n",
    "\n",
    "Official webpage https://pypi.python.org/pypi\n",
    "\n",
    "Search the Python index with\n",
    "```bash\n",
    "pip search KEYWORD \n",
    "```\n",
    "Install any new package with\n",
    "```bash\n",
    "pip install PACKAGENAME --user\n",
    "````"
   ]
  },
  {
   "cell_type": "markdown",
   "metadata": {
    "collapsed": true,
    "slideshow": {
     "slide_type": "subslide"
    }
   },
   "source": [
    "## How to create a package\n",
    "\n",
    " * A set of modules can be collected in a *package*\n",
    " * A package is organized as module files in a directory tree\n",
    " * Each subdirectory must have a `__init__.py` file  (can be empty)\n",
    " * More infos: [Section 6 in the Python Tutorial](https://docs.python.org/3/tutorial/modules.html)  "
   ]
  },
  {
   "cell_type": "markdown",
   "metadata": {
    "collapsed": true,
    "slideshow": {
     "slide_type": "subslide"
    }
   },
   "source": [
    "## Packages\n",
    "\n",
    "Example directory tree of a Python package:"
   ]
  },
  {
   "cell_type": "markdown",
   "metadata": {
    "collapsed": true
   },
   "source": [
    "```bash\n",
    "pde_solver/\n",
    "   __init__.py\n",
    "   numerics/\n",
    "       __init__.py\n",
    "       pde/\n",
    "           __init__.py\n",
    "           grids.py     # contains fdm_grids object\n",
    "```"
   ]
  },
  {
   "cell_type": "markdown",
   "metadata": {
    "collapsed": true,
    "slideshow": {
     "slide_type": "fragment"
    }
   },
   "source": [
    "Can import modules in the tree like this:\n",
    "    "
   ]
  },
  {
   "cell_type": "code",
   "execution_count": 1,
   "metadata": {},
   "outputs": [],
   "source": [
    "from pde_solver.numerics.pde.grids import FdmGrids\n",
    "\n",
    "grid = FdmGrids()\n",
    "grid.domain(xmin=0, xmax=1, ymin=0, ymax=1)\n",
    "# ..."
   ]
  },
  {
   "cell_type": "markdown",
   "metadata": {
    "slideshow": {
     "slide_type": "subslide"
    }
   },
   "source": [
    "## How does Python find your packages?\n",
    "\n",
    "\n",
    "When importing a package, Python tries to find it in multiples places (in this order):\n",
    "\n",
    "1. Your current working directory.\n",
    "2. Paths defined by the environment variable `$PYTHONPATH`.\n",
    "3. Some global paths, e.g. `/usr/lib/python3.7/site-packages`. This depends on your OS and Python installation."
   ]
  },
  {
   "cell_type": "markdown",
   "metadata": {
    "slideshow": {
     "slide_type": "subslide"
    }
   },
   "source": [
    "## Option 2: Adding your package path to PYTHONPATH\n",
    "\n",
    "Let's assume that your package is stored in the path `/home/simon/pde_solver/`. \n",
    "\n",
    "Add this path to the Python search path list with:"
   ]
  },
  {
   "cell_type": "markdown",
   "metadata": {
    "slideshow": {
     "slide_type": "-"
    }
   },
   "source": [
    "\n",
    "```bash\n",
    "> export PYTHONPATH=/home/simon/pde_solver:$PYTHONPATH\n",
    "```"
   ]
  },
  {
   "cell_type": "markdown",
   "metadata": {},
   "source": [
    "**Note**: The search path will be lost when you open a new Bash session."
   ]
  },
  {
   "cell_type": "markdown",
   "metadata": {
    "slideshow": {
     "slide_type": "slide"
    }
   },
   "source": [
    "# Option 2: Create a setup.py file\n",
    "\n",
    "Create a `setup.py` file in your package root directory.\n",
    "\n",
    "```python\n",
    "from distutils.core import setup\n",
    "\n",
    "setup(\n",
    "    name='PDE Solver',\n",
    "    version='1.0',\n",
    "    packages=['pde_solver',],\n",
    "    scripts=['scripts/solver.py']\n",
    ")\n",
    "```\n",
    "\n"
   ]
  },
  {
   "cell_type": "markdown",
   "metadata": {
    "slideshow": {
     "slide_type": "subslide"
    }
   },
   "source": [
    "and install with \n",
    "```bash\n",
    "pip3 install . --user  # For single-user installation\n",
    "pip3 install .         # For system wide installation (requires root)\n",
    "```\n",
    "\n",
    "you can remove the package installation again with:\n",
    "\n",
    "```bash\n",
    "pip3 uninstall pde_solver\n",
    "```\n"
   ]
  },
  {
   "cell_type": "markdown",
   "metadata": {
    "slideshow": {
     "slide_type": "subslide"
    }
   },
   "source": [
    "## Complete structure of a Python package\n",
    "\n",
    "The directory tree of the final Python project is:"
   ]
  },
  {
   "cell_type": "markdown",
   "metadata": {},
   "source": [
    "```bash\n",
    "PDESolver/\n",
    "    setup.py                # setup/installation script\n",
    "    pde_solver/             # The actual Python package/modules\n",
    "       __init__.py\n",
    "       numerics/\n",
    "           __init__.py\n",
    "           pde/\n",
    "               __init__.py\n",
    "               grids.py     # contains fdm_grids object\n",
    "    scripts/solver.py       # An executable script\n",
    "```"
   ]
  }
 ],
 "metadata": {
  "celltoolbar": "Slideshow",
  "kernelspec": {
   "display_name": "Python 3",
   "language": "python",
   "name": "python3"
  },
  "language_info": {
   "codemirror_mode": {
    "name": "ipython",
    "version": 3
   },
   "file_extension": ".py",
   "mimetype": "text/x-python",
   "name": "python",
   "nbconvert_exporter": "python",
   "pygments_lexer": "ipython3",
   "version": "3.6.9"
  },
  "livereveal": {
   "scroll": true,
   "start_slideshow_at": "selected",
   "theme": "serif"
  }
 },
 "nbformat": 4,
 "nbformat_minor": 1
}
