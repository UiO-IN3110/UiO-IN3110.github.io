{
 "cells": [
  {
   "cell_type": "markdown",
   "metadata": {
    "slideshow": {
     "slide_type": "slide"
    }
   },
   "source": [
    "# Essentials to better Python\n",
    "\n",
    "**Overview**\n",
    " * Packages and error-handling examples\n",
    " * List comprehensions\n",
    " * Decorators"
   ]
  },
  {
   "cell_type": "markdown",
   "metadata": {
    "slideshow": {
     "slide_type": "subslide"
    }
   },
   "source": [
    "# Error handling\n",
    "How to raise an Exception. Let's look at an example from the array class, here defined as a function for representation. \n",
    "```python\n",
    "def array(shape, *values):\n",
    "    \"\"\"Error example from the array class\"\"\"\n",
    "    arr = []    \n",
    "    n = len(values)        \n",
    "    for val in values:\n",
    "        arr.append(val)\n",
    "    return arr\n",
    "\n",
    "A = array((1,6),2,3,4,5,6)\n",
    "print(A)\n",
    "```\n",
    "\n"
   ]
  },
  {
   "cell_type": "markdown",
   "metadata": {
    "slideshow": {
     "slide_type": "subslide"
    }
   },
   "source": [
    "# Self-made packages\n",
    "\n",
    "You can make your own python packages with (several) subpackages:\n",
    "\n",
    "1) Create a new directory for your package (e.g. MyPackage)\n",
    "\n",
    "2) Create a new folder \"MyPackage\" within the folder MyPackage\n",
    "\n",
    "4) Create a module myModule.py located in MyPackage/MyPackage/myModule.py\n",
    "\n",
    "4) Create a setup.py file, located in (the first) MyPackage\n",
    "\n",
    "5) Create (empty)  \\_\\_init\\_\\_.py files in all folders. \n",
    "\n",
    "6) run \"pip install .\" from the (first) directory MyPackage\n",
    "\n",
    "7) See if you can import MyPackage in python when you are not located inside the MyPackage directory\n",
    "```python\n",
    "from distutils.core import setup\n",
    "import setuptools\n",
    "setup(\n",
    "    name='my_package',\n",
    "    version='1.0',\n",
    "    author='Vegard',\n",
    "    author_email='vegard@simula.no',\n",
    "    packages=setuptools.find_packages(),\n",
    ")\n",
    "```\n",
    "\n"
   ]
  },
  {
   "cell_type": "markdown",
   "metadata": {
    "slideshow": {
     "slide_type": "subslide"
    }
   },
   "source": [
    "# Interactive programming: Make your own package\n",
    "\n",
    "Follow the recipe below. Let myModule.py be a script containing one function my_name() that returns your name (10 minutes). \n",
    "\n",
    "1) Create a new directory for your package (e.g. MyPackage)\n",
    "\n",
    "2) Create a new folder \"MyPackage\" within the folder MyPackage\n",
    "\n",
    "4) Create a module myModule.py located in MyPackage/MyPackage/myModule.py\n",
    "\n",
    "4) Create a setup.py file, located in (the first) MyPackage\n",
    "\n",
    "5) Create (empty)  \\_\\_init\\_\\_.py files in all folders. \n",
    "\n",
    "6) run \"pip install .\" from the (first) directory MyPackage\n",
    "\n",
    "7) See if you can import and use MyPackage in python/ipython. \n",
    "\n",
    "```python\n",
    "from distutils.core import setup\n",
    "import setuptools\n",
    "setup(\n",
    "    name='my_package',\n",
    "    version='1.0',\n",
    "    author='Vegard',\n",
    "    author_email='vegard@simula.no',\n",
    "    packages=setuptools.find_packages(),\n",
    ")\n",
    "```"
   ]
  },
  {
   "cell_type": "markdown",
   "metadata": {
    "slideshow": {
     "slide_type": "subslide"
    }
   },
   "source": [
    "```python\n",
    "import numpy\n",
    "import setuptools\n",
    "from setuptools.extension import Extension\n",
    "from Cython.Build import cythonize\n",
    "with open(\"README.md\", \"r\") as fh:\n",
    "    long_description = fh.read()   \n",
    "extensions=[\n",
    "    Extension(\"cython_color2gray\", [\"instapy/cython_color2gray.pyx\"],\n",
    "    include_dirs=[numpy.get_include()],\n",
    "    ), Extension(\"cython_color2sepia\", [\"instapy/cython_color2sepia.pyx\"],\n",
    "    include_dirs=[numpy.get_include()])\n",
    "]\n",
    "setuptools.setup(\n",
    "    name=\"instapy\",\n",
    "    version=\"0.0.13\",\n",
    "    author=\"Vegard Vinje\",\n",
    "    author_email=\"vegarvi@ifi.uio.no\",\n",
    "    description=\"Instagram filters in Python\",\n",
    "    long_description=long_description,\n",
    "    long_description_content_type=\"text/markdown\",\n",
    "    url=\"https://github.uio.no/IN3110/IN3110-vegarvi/\",\n",
    "    packages=setuptools.find_packages(),\n",
    "    scripts=[\"bin/instapy\"],\n",
    "    ext_modules=cythonize(extensions),\n",
    "    setup_requires=[\"cython\", \"numpy\", \"setuptools>=18.0\"],\n",
    "    install_requires=[\"numpy\", \"numba\", \"opencv-python\"],\n",
    "    classifiers=[\n",
    "        \"Programming Language :: Python :: 3\",\n",
    "        \"License :: OSI Approved :: MIT License\",\n",
    "        \"Operating System :: OS Independent\",\n",
    "    ],\n",
    "    python_requires='>=3.6',\n",
    ")\n",
    "```"
   ]
  },
  {
   "cell_type": "markdown",
   "metadata": {
    "slideshow": {
     "slide_type": "subslide"
    }
   },
   "source": [
    "# List comprehensions\n",
    "\n",
    "List comprehensions provide a compact and readible way to create lists. \n",
    "\n",
    "\n",
    "**Syntax**:\n",
    "\n",
    "Create a list without list comprehension:\n",
    "\n",
    "```python\n",
    "from math import sin\n",
    "old_list = [0.1, 0.3, -0.4, 0.2]\n",
    "def filter(x):\n",
    "    if x > 0:\n",
    "        return True\n",
    "    else:\n",
    "        return False\n",
    "    \n",
    "new_list = []\n",
    "for x in old_list:\n",
    "    if filter(x):\n",
    "        new_list.append(sin(x))\n",
    "```        \n",
    "the same task with list comprehension\n",
    "\n",
    "```python\n",
    "new_list = [sin(x) for x in old_list if filter(x)]\n",
    "```"
   ]
  },
  {
   "cell_type": "markdown",
   "metadata": {
    "slideshow": {
     "slide_type": "subslide"
    }
   },
   "source": [
    "### Example 1: List of even numbers\n",
    "\n",
    "**Task**: Create a list of even numbers.\n",
    "\n",
    "**Solution** without list comprehension:"
   ]
  },
  {
   "cell_type": "code",
   "execution_count": 34,
   "metadata": {
    "slideshow": {
     "slide_type": "-"
    }
   },
   "outputs": [
    {
     "name": "stdout",
     "output_type": "stream",
     "text": [
      "[0, 2, 4, 6, 8, 10, 12, 14, 16, 18]\n"
     ]
    }
   ],
   "source": [
    "def is_even(i):\n",
    "    return i%2==0\n",
    "\n",
    "even_numbers = []\n",
    "for i in range(20):\n",
    "    if is_even(i):\n",
    "        even_numbers.append(i)\n",
    "print(even_numbers)"
   ]
  },
  {
   "cell_type": "markdown",
   "metadata": {
    "slideshow": {
     "slide_type": "subslide"
    }
   },
   "source": [
    "**Solution** with list comprehension:"
   ]
  },
  {
   "cell_type": "code",
   "execution_count": 35,
   "metadata": {},
   "outputs": [
    {
     "data": {
      "text/plain": [
       "[0, 2, 4, 6, 8, 10, 12, 14, 16, 18]"
      ]
     },
     "execution_count": 35,
     "metadata": {},
     "output_type": "execute_result"
    }
   ],
   "source": [
    "even_numbers = [i for i in range(20) if i%2==0]\n",
    "even_numbers"
   ]
  },
  {
   "cell_type": "markdown",
   "metadata": {
    "slideshow": {
     "slide_type": "subslide"
    }
   },
   "source": [
    "### Example 2: Remove sensitive information from log data\n",
    "\n",
    "**Task**: Remove all strings in a logfile that contain passwords\n",
    "\n",
    "**Solution** without list comprehension:"
   ]
  },
  {
   "cell_type": "code",
   "execution_count": 36,
   "metadata": {},
   "outputs": [
    {
     "data": {
      "text/plain": [
       "['09.Sept 2021 14:30: New user enters webpage',\n",
       " '09.Sept 2021 14:31: Login email: vegard@simula.no',\n",
       " '09.Sept 2021 14:35: User leaves webpage']"
      ]
     },
     "execution_count": 36,
     "metadata": {},
     "output_type": "execute_result"
    }
   ],
   "source": [
    "fp = open(\"log.txt\", \"r\")\n",
    "\n",
    "log = []\n",
    "for line in fp:\n",
    "    if \"password\" not in line:\n",
    "        log.append(line.strip())\n",
    "fp.close() \n",
    "\n",
    "log"
   ]
  },
  {
   "cell_type": "markdown",
   "metadata": {
    "slideshow": {
     "slide_type": "subslide"
    }
   },
   "source": [
    "**Solution** with list comprehension:"
   ]
  },
  {
   "cell_type": "code",
   "execution_count": 37,
   "metadata": {
    "scrolled": true
   },
   "outputs": [
    {
     "data": {
      "text/plain": [
       "['09.Sept 2021 14:30: New user enters webpage',\n",
       " '09.Sept 2021 14:31: Login email: vegard@simula.no',\n",
       " '09.Sept 2021 14:35: User leaves webpage']"
      ]
     },
     "execution_count": 37,
     "metadata": {},
     "output_type": "execute_result"
    }
   ],
   "source": [
    "with open('log.txt', \"r\") as fp:\n",
    "    log = [line.strip() for line in fp if \"password\" not in line]\n",
    "    \n",
    "log    "
   ]
  },
  {
   "cell_type": "markdown",
   "metadata": {
    "slideshow": {
     "slide_type": "subslide"
    }
   },
   "source": [
    "## Functions as arguments"
   ]
  },
  {
   "cell_type": "markdown",
   "metadata": {},
   "source": [
    "Like all objects, functions can be arguments to functions"
   ]
  },
  {
   "cell_type": "code",
   "execution_count": 8,
   "metadata": {},
   "outputs": [],
   "source": [
    "def add(x,y):\n",
    "    return x+y\n",
    "\n",
    "def sub(x, y):\n",
    "    return x-y\n",
    "\n",
    "def apply(func, x, y):\n",
    "    return func(x, y)"
   ]
  },
  {
   "cell_type": "code",
   "execution_count": 9,
   "metadata": {},
   "outputs": [
    {
     "data": {
      "text/plain": [
       "3"
      ]
     },
     "execution_count": 9,
     "metadata": {},
     "output_type": "execute_result"
    }
   ],
   "source": [
    "apply(add, 1, 2)"
   ]
  },
  {
   "cell_type": "code",
   "execution_count": 10,
   "metadata": {},
   "outputs": [
    {
     "data": {
      "text/plain": [
       "2"
      ]
     },
     "execution_count": 10,
     "metadata": {},
     "output_type": "execute_result"
    }
   ],
   "source": [
    "apply(sub, 7, 5)"
   ]
  },
  {
   "cell_type": "markdown",
   "metadata": {
    "slideshow": {
     "slide_type": "subslide"
    }
   },
   "source": [
    "## Functions inside functions"
   ]
  },
  {
   "cell_type": "markdown",
   "metadata": {},
   "source": [
    "Python allows nested function definitions:"
   ]
  },
  {
   "cell_type": "code",
   "execution_count": 11,
   "metadata": {},
   "outputs": [
    {
     "data": {
      "text/plain": [
       "384"
      ]
     },
     "execution_count": 11,
     "metadata": {},
     "output_type": "execute_result"
    }
   ],
   "source": [
    "def g(x, y):\n",
    "    \n",
    "    def cube(x):\n",
    "        return x*x*x\n",
    "    \n",
    "    return y*cube(x)\n",
    "\n",
    "g(4, 6) "
   ]
  },
  {
   "cell_type": "markdown",
   "metadata": {
    "slideshow": {
     "slide_type": "subslide"
    }
   },
   "source": [
    "## Function returning functions"
   ]
  },
  {
   "cell_type": "code",
   "execution_count": 12,
   "metadata": {},
   "outputs": [
    {
     "data": {
      "text/plain": [
       "<function __main__.h.<locals>.inner_h>"
      ]
     },
     "execution_count": 12,
     "metadata": {},
     "output_type": "execute_result"
    }
   ],
   "source": [
    "def h():\n",
    "    pi = 0.13\n",
    "    def inner_h():\n",
    "        print(\"Inside inner_h but can access pi={}\".format(pi))\n",
    "        \n",
    "    return inner_h\n",
    "\n",
    "foo = h()\n",
    "foo"
   ]
  },
  {
   "cell_type": "code",
   "execution_count": 13,
   "metadata": {},
   "outputs": [
    {
     "name": "stdout",
     "output_type": "stream",
     "text": [
      "Inside inner_h but can access pi=0.13\n"
     ]
    }
   ],
   "source": [
    "foo()"
   ]
  },
  {
   "cell_type": "markdown",
   "metadata": {
    "slideshow": {
     "slide_type": "subslide"
    }
   },
   "source": [
    "## More functions returning functions: *decorators*"
   ]
  },
  {
   "cell_type": "markdown",
   "metadata": {},
   "source": [
    "A toy example"
   ]
  },
  {
   "cell_type": "code",
   "execution_count": 16,
   "metadata": {},
   "outputs": [],
   "source": [
    "def foo():\n",
    "    return 1\n",
    "\n",
    "def outer(func):\n",
    "    def inner():\n",
    "        print(\"before calling function\")\n",
    "        return func() + 100\n",
    "    return inner\n",
    "\n",
    "decorated = outer(foo)"
   ]
  },
  {
   "cell_type": "markdown",
   "metadata": {},
   "source": [
    "The function `decorated` is a decorated version of function `foo`.\n",
    "It is `foo` plus something more:"
   ]
  },
  {
   "cell_type": "code",
   "execution_count": 17,
   "metadata": {},
   "outputs": [
    {
     "name": "stdout",
     "output_type": "stream",
     "text": [
      "before calling function\n"
     ]
    },
    {
     "data": {
      "text/plain": [
       "101"
      ]
     },
     "execution_count": 17,
     "metadata": {},
     "output_type": "execute_result"
    }
   ],
   "source": [
    "decorated()"
   ]
  },
  {
   "cell_type": "markdown",
   "metadata": {},
   "source": [
    "To simplify, we could just write\n",
    "```python \n",
    "foo = outer(foo)\n",
    "```\n",
    "to replace foo with its decorated version each time it is called"
   ]
  },
  {
   "cell_type": "markdown",
   "metadata": {
    "slideshow": {
     "slide_type": "subslide"
    }
   },
   "source": [
    "## A (slightly) more useful decorator"
   ]
  },
  {
   "cell_type": "markdown",
   "metadata": {},
   "source": [
    "Suppose we have been given a function that only works for some numerical inputs:"
   ]
  },
  {
   "cell_type": "code",
   "execution_count": 17,
   "metadata": {},
   "outputs": [],
   "source": [
    "from math import log\n",
    "def f(x):\n",
    "    return log(x) - 2  # Not defined for x<=0"
   ]
  },
  {
   "cell_type": "code",
   "execution_count": 18,
   "metadata": {},
   "outputs": [
    {
     "data": {
      "text/plain": [
       "-0.3905620875658997"
      ]
     },
     "execution_count": 18,
     "metadata": {},
     "output_type": "execute_result"
    }
   ],
   "source": [
    "f(5)"
   ]
  },
  {
   "cell_type": "code",
   "execution_count": 19,
   "metadata": {},
   "outputs": [
    {
     "ename": "ValueError",
     "evalue": "math domain error",
     "output_type": "error",
     "traceback": [
      "\u001b[0;31m---------------------------------------------------------------------------\u001b[0m",
      "\u001b[0;31mValueError\u001b[0m                                Traceback (most recent call last)",
      "\u001b[0;32m<ipython-input-19-8e6746a6b70d>\u001b[0m in \u001b[0;36m<module>\u001b[0;34m()\u001b[0m\n\u001b[0;32m----> 1\u001b[0;31m \u001b[0mf\u001b[0m\u001b[0;34m(\u001b[0m\u001b[0;34m-\u001b[0m\u001b[0;36m1\u001b[0m\u001b[0;34m)\u001b[0m\u001b[0;34m\u001b[0m\u001b[0;34m\u001b[0m\u001b[0m\n\u001b[0m",
      "\u001b[0;32m<ipython-input-17-10a365a4c7a8>\u001b[0m in \u001b[0;36mf\u001b[0;34m(x)\u001b[0m\n\u001b[1;32m      1\u001b[0m \u001b[0;32mfrom\u001b[0m \u001b[0mmath\u001b[0m \u001b[0;32mimport\u001b[0m \u001b[0mlog\u001b[0m\u001b[0;34m\u001b[0m\u001b[0;34m\u001b[0m\u001b[0m\n\u001b[1;32m      2\u001b[0m \u001b[0;32mdef\u001b[0m \u001b[0mf\u001b[0m\u001b[0;34m(\u001b[0m\u001b[0mx\u001b[0m\u001b[0;34m)\u001b[0m\u001b[0;34m:\u001b[0m\u001b[0;34m\u001b[0m\u001b[0;34m\u001b[0m\u001b[0m\n\u001b[0;32m----> 3\u001b[0;31m     \u001b[0;32mreturn\u001b[0m \u001b[0mlog\u001b[0m\u001b[0;34m(\u001b[0m\u001b[0mx\u001b[0m\u001b[0;34m)\u001b[0m \u001b[0;34m-\u001b[0m \u001b[0;36m2\u001b[0m  \u001b[0;31m# Not defined for x<=0\u001b[0m\u001b[0;34m\u001b[0m\u001b[0;34m\u001b[0m\u001b[0m\n\u001b[0m",
      "\u001b[0;31mValueError\u001b[0m: math domain error"
     ]
    }
   ],
   "source": [
    "f(-1)"
   ]
  },
  {
   "cell_type": "markdown",
   "metadata": {
    "slideshow": {
     "slide_type": "subslide"
    }
   },
   "source": [
    "Suppose we want to limit the range of values sent to this function:"
   ]
  },
  {
   "cell_type": "markdown",
   "metadata": {},
   "source": [
    "The idea is that we **wrap** the function inside another function:"
   ]
  },
  {
   "cell_type": "markdown",
   "metadata": {
    "slideshow": {
     "slide_type": "subslide"
    }
   },
   "source": [
    "## Interactive programming (15 minutes)"
   ]
  },
  {
   "cell_type": "markdown",
   "metadata": {},
   "source": [
    "1) Implement the normal function f(x) in a python script\n",
    "\n",
    "2) Create a decorator-function checkrange that calls f, but prints a custom message to the user if x <= 0. Hint: The decorator function chekcrange should return a function, and not a function call. \n",
    "\n",
    "3) Optional: Perform a test using a test function (with assert) checking that your function works as intended"
   ]
  },
  {
   "cell_type": "code",
   "execution_count": 5,
   "metadata": {},
   "outputs": [],
   "source": [
    "from math import log\n",
    "\n",
    "def checkrange(func):\n",
    "    \"\"\"Provides a safe version of f. Avoids math domain error.\"\"\"\n",
    "    #def inner\n",
    "        #...\n",
    "        # return ...\n",
    "    #return inner\n",
    "\n",
    "def f(x):\n",
    "    return log(x) - 2  # Not defined for x<=0"
   ]
  },
  {
   "cell_type": "code",
   "execution_count": 6,
   "metadata": {
    "slideshow": {
     "slide_type": "subslide"
    }
   },
   "outputs": [],
   "source": [
    "def checkrange(func):\n",
    "    def inner(x):\n",
    "        if x <= 0:\n",
    "            print(\"Error: x must be larger than zero\")\n",
    "        else:\n",
    "            return func(x)\n",
    "    return inner"
   ]
  },
  {
   "cell_type": "code",
   "execution_count": 7,
   "metadata": {},
   "outputs": [
    {
     "data": {
      "text/plain": [
       "-0.3905620875658997"
      ]
     },
     "execution_count": 7,
     "metadata": {},
     "output_type": "execute_result"
    }
   ],
   "source": [
    "f_safe = checkrange(f)\n",
    "f_safe(5)"
   ]
  },
  {
   "cell_type": "code",
   "execution_count": 8,
   "metadata": {},
   "outputs": [
    {
     "name": "stdout",
     "output_type": "stream",
     "text": [
      "Error: x must be larger than zero\n"
     ]
    }
   ],
   "source": [
    "f_safe(-1)"
   ]
  },
  {
   "cell_type": "markdown",
   "metadata": {},
   "source": [
    "Voilà!!"
   ]
  },
  {
   "cell_type": "markdown",
   "metadata": {
    "slideshow": {
     "slide_type": "subslide"
    }
   },
   "source": [
    "## The `@decorator` syntax"
   ]
  },
  {
   "cell_type": "markdown",
   "metadata": {},
   "source": [
    "Python provides a short notation for decorating a function with\n",
    "another function:"
   ]
  },
  {
   "cell_type": "code",
   "execution_count": 26,
   "metadata": {},
   "outputs": [],
   "source": [
    "@checkrange\n",
    "def g(x):\n",
    "    return log(x) - 2"
   ]
  },
  {
   "cell_type": "code",
   "execution_count": 27,
   "metadata": {},
   "outputs": [
    {
     "name": "stdout",
     "output_type": "stream",
     "text": [
      "Error: x must be larger than zero\n"
     ]
    }
   ],
   "source": [
    "g(0)"
   ]
  },
  {
   "cell_type": "markdown",
   "metadata": {},
   "source": [
    "This is essentially the same as writing `g = checkrange(g)`."
   ]
  },
  {
   "cell_type": "markdown",
   "metadata": {},
   "source": [
    "A decorator is simply a function taking a function as input\n",
    "and returning another function. \n",
    "\n",
    "The syntax `@decorator` is a\n",
    "short-cut for the more explicit `f = decorator(f)`."
   ]
  },
  {
   "cell_type": "markdown",
   "metadata": {
    "slideshow": {
     "slide_type": "subslide"
    }
   },
   "source": [
    "## A (much) more useful decorator: memoization"
   ]
  },
  {
   "cell_type": "markdown",
   "metadata": {},
   "source": [
    "The first time we learned multiplication, our strategy might to add cumulatively: e.g. 3x3 = 3 + 3 + 3 = 6 + 3 = 9"
   ]
  },
  {
   "cell_type": "code",
   "execution_count": 1,
   "metadata": {},
   "outputs": [
    {
     "name": "stdout",
     "output_type": "stream",
     "text": [
      "Thinking...\n",
      "Thinking...\n",
      "Thinking...\n",
      "9\n",
      "Thinking...\n",
      "Thinking...\n",
      "Thinking...\n",
      "9\n"
     ]
    }
   ],
   "source": [
    "from time import sleep\n",
    "\n",
    "def slow_mult(x,y):\n",
    "    res = 0\n",
    "    for i in range(y):\n",
    "        print(\"Thinking...\")\n",
    "        sleep(1)\n",
    "        res += x\n",
    "    return res\n",
    "\n",
    "print(slow_mult(3,3))\n",
    "print(slow_mult(3,3))"
   ]
  },
  {
   "cell_type": "markdown",
   "metadata": {},
   "source": [
    "We call the function with the same input arguments, and hence perform the same (slow) calculations multiple times."
   ]
  },
  {
   "cell_type": "markdown",
   "metadata": {
    "slideshow": {
     "slide_type": "subslide"
    }
   },
   "source": [
    "The idea of memoization (or buffering) is to buffer the input-output pairs for which the function was called.\n",
    "If the function is called twice with same input arguments, we return the buffer value."
   ]
  },
  {
   "cell_type": "markdown",
   "metadata": {},
   "source": [
    "The implementation of a memoization with a `decorator` could look like:"
   ]
  },
  {
   "cell_type": "code",
   "execution_count": 2,
   "metadata": {},
   "outputs": [],
   "source": [
    "\n",
    "def memoize(func):\n",
    "    ''' Caches a function's return value each time it is called.\n",
    "        If called later with the same arguments, the cached value is returned\n",
    "        (not reevaluated). '''\n",
    "    cache = {}  # Stores all input-output pairs\n",
    "\n",
    "    def inner(x, y):\n",
    "        if (x, y) in cache:\n",
    "            return cache[(x, y)]\n",
    "        else:\n",
    "            result = func(x, y)\n",
    "            cache[(x, y)] = result\n",
    "            return result\n",
    "        \n",
    "    return inner"
   ]
  },
  {
   "cell_type": "markdown",
   "metadata": {},
   "source": [
    "Now we can apply the decorator to our slow function. Demo:"
   ]
  },
  {
   "cell_type": "code",
   "execution_count": 54,
   "metadata": {
    "slideshow": {
     "slide_type": "skip"
    }
   },
   "outputs": [],
   "source": [
    "@memoize\n",
    "def slow_mult(x, y):\n",
    "    print(\"Thinking...\")\n",
    "    sleep(1)     # Simulate a long computation\n",
    "    return x*y\n",
    "\n",
    "@memoize\n",
    "def slow_add(x, y):\n",
    "    print(\"Thinking...\")\n",
    "    sleep(1)     # Simulate a long computation\n",
    "    return x+y"
   ]
  },
  {
   "cell_type": "markdown",
   "metadata": {
    "slideshow": {
     "slide_type": "skip"
    }
   },
   "source": [
    "... and test it out"
   ]
  },
  {
   "cell_type": "code",
   "execution_count": 59,
   "metadata": {
    "slideshow": {
     "slide_type": "skip"
    }
   },
   "outputs": [
    {
     "data": {
      "text/plain": [
       "18"
      ]
     },
     "execution_count": 59,
     "metadata": {},
     "output_type": "execute_result"
    }
   ],
   "source": [
    "slow_mult(3, 6)"
   ]
  },
  {
   "cell_type": "markdown",
   "metadata": {
    "slideshow": {
     "slide_type": "subslide"
    }
   },
   "source": [
    "## Decorator summary "
   ]
  },
  {
   "cell_type": "markdown",
   "metadata": {},
   "source": [
    "* A function that takes a function as argument and returns a modified function\n",
    "* `@decorator` syntax simply a short cut for the standard function call `f = decorator(f)`."
   ]
  },
  {
   "cell_type": "markdown",
   "metadata": {
    "slideshow": {
     "slide_type": "subslide"
    }
   },
   "source": [
    "## PEP8: How to write more Pythonic code\n",
    "\n",
    "Clear and consistent style is critical for writing \"good code\".\n",
    "\n",
    "* Python comes with an extensive programming style guidline: **PEP8**.\n",
    "* It consists of a list of do's and dont's for writing Python.\n",
    "* Get familiar with the conventions once, and you will automatically start using them.\n",
    "* I will give you some examples below"
   ]
  },
  {
   "cell_type": "markdown",
   "metadata": {
    "slideshow": {
     "slide_type": "subslide"
    }
   },
   "source": [
    "### Guide to Pythonic code: Bindary operations\n",
    "\n",
    "* Add whitespaces around bindary mathematical operations:\n",
    "\n",
    "```python\n",
    "# Do:\n",
    "x = x + 1\n",
    "\n",
    "# Don't:\n",
    "x=x+1\n",
    "```\n"
   ]
  },
  {
   "cell_type": "markdown",
   "metadata": {
    "slideshow": {
     "slide_type": "subslide"
    }
   },
   "source": [
    "### Guide to Pythonic code: Naming conventions \n",
    "\n",
    "\n",
    "* For **variables**:\n",
    "\n",
    "```python\n",
    "# Do\n",
    "shopping_list = [\"Bananas\", \"Apples\"]\n",
    "gravity_acceleration = 9.81\n",
    "# Don't\n",
    "ListOfStudents = [\"Bananas\", \"Apples\"]\n",
    "GRAVITYACCELERATION = 9.91  \n",
    "```\n",
    "\n",
    "* For **functions**:\n",
    "    \n",
    "```python\n",
    "def order_items(image):\n",
    "    pass\n",
    "```\n",
    "\n",
    "* For **classes**:\n",
    "\n",
    "```python\n",
    "# Do:\n",
    "class ElectricCar:\n",
    "    pass\n",
    "\n",
    "# Don't:\n",
    "class electriccar:\n",
    "    pass\n",
    "```\n"
   ]
  },
  {
   "cell_type": "markdown",
   "metadata": {
    "slideshow": {
     "slide_type": "subslide"
    }
   },
   "source": [
    "### Guide to Pythonic code: Indentations and spacing\n",
    "\n",
    "\n",
    "* Aways use **four** white spaces when indenting (set your editor accordingly):\n",
    "\n",
    "```python\n",
    "# Do\n",
    "def order_items(image):\n",
    "    pass  # Four whitespaces\n",
    "\n",
    "\n",
    "# Don't \n",
    "def order_items(image):\n",
    "  pass    # Not four whitespaces\n",
    "```\n",
    "\n",
    "* Break long lines \"nicely\":\n",
    "\n",
    "```python\n",
    "# Do:\n",
    "shopping_list = {\"Apple\": 2, \"Banana\": 10, \"Chocolate\": 1,\n",
    "                 \"Toothpaste\": 1, \"Shampoo\": 2}\n",
    "\n",
    "# Don't: second line is under-indented\n",
    "shopping_list = {\"Apple\": 2, \"Banana\": 10, \"Chocolate\": 1, \"Toothpaste\": 1, \"Shampoo\": 2}\n",
    "```"
   ]
  },
  {
   "cell_type": "markdown",
   "metadata": {},
   "source": [
    "### Guide to Pythonic code: flake8\n",
    "\n",
    "You can use the flake8 command to verify that your code follows the PEP convention.\n",
    "\n",
    "**Demo** on shopping.py"
   ]
  }
 ],
 "metadata": {
  "celltoolbar": "Slideshow",
  "kernelspec": {
   "display_name": "Python 3",
   "language": "python",
   "name": "python3"
  },
  "language_info": {
   "codemirror_mode": {
    "name": "ipython",
    "version": 3
   },
   "file_extension": ".py",
   "mimetype": "text/x-python",
   "name": "python",
   "nbconvert_exporter": "python",
   "pygments_lexer": "ipython3",
   "version": "3.6.9"
  }
 },
 "nbformat": 4,
 "nbformat_minor": 1
}
