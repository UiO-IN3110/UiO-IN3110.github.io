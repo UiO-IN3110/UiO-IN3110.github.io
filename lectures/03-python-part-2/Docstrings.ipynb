{
 "cells": [
  {
   "cell_type": "markdown",
   "metadata": {
    "collapsed": true,
    "slideshow": {
     "slide_type": "subslide"
    }
   },
   "source": [
    "## Docstrings - document your code!"
   ]
  },
  {
   "cell_type": "markdown",
   "metadata": {},
   "source": [
    "Python treats a string in the first line of a module/function/class definition as a special **documentation string**.:"
   ]
  },
  {
   "cell_type": "code",
   "execution_count": 3,
   "metadata": {},
   "outputs": [],
   "source": [
    "from math import sin\n",
    "\n",
    "def pos_sin(x):\n",
    "    \"\"\" Calculates max(0, sin(x)) and returns the result\n",
    "    \n",
    "    For more complex functions, add a more detailed description here.\n",
    "    \"\"\"\n",
    "    \n",
    "    sinx = sin(x)\n",
    "    \n",
    "    return max(0, sinx)"
   ]
  },
  {
   "cell_type": "markdown",
   "metadata": {
    "slideshow": {
     "slide_type": "subslide"
    }
   },
   "source": [
    "**Docstring guideline**: \n",
    "\n",
    "* The first line should be a short, concise summary of the functions’s purpose. \n",
    "* A more detailed description can follow below seperated by a newline.\n",
    "\n",
    "See http://sphinxcontrib-napoleon.readthedocs.io/en/latest/example_google.html for a complete docstring example.\n",
    "    "
   ]
  },
  {
   "cell_type": "markdown",
   "metadata": {
    "slideshow": {
     "slide_type": "subslide"
    }
   },
   "source": [
    "## Where docstrings are used\n",
    "\n",
    "Code editors will present docstrings for you on request. For example:"
   ]
  },
  {
   "cell_type": "code",
   "execution_count": 5,
   "metadata": {},
   "outputs": [],
   "source": [
    "pos_sin?"
   ]
  },
  {
   "cell_type": "markdown",
   "metadata": {},
   "source": [
    "Docstrings can aso be used to automatically generate programmer references from code: https://opentidalfarm.readthedocs.io/en/latest/\n",
    "\n",
    "More on this later durng this course"
   ]
  }
 ],
 "metadata": {
  "celltoolbar": "Slideshow",
  "kernelspec": {
   "display_name": "Python 3",
   "language": "python",
   "name": "python3"
  },
  "language_info": {
   "codemirror_mode": {
    "name": "ipython",
    "version": 3
   },
   "file_extension": ".py",
   "mimetype": "text/x-python",
   "name": "python",
   "nbconvert_exporter": "python",
   "pygments_lexer": "ipython3",
   "version": "3.6.9"
  }
 },
 "nbformat": 4,
 "nbformat_minor": 4
}
