{
 "cells": [
  {
   "cell_type": "markdown",
   "id": "66547259",
   "metadata": {},
   "source": [
    "# Regex\n",
    "\n",
    "Regex is a *language describing patterns of text.* \n",
    "\n",
    "A regex typically consists of a search pattern, which is used by string-searching algorithms to \"find\" or \"find and replace\" sequences in a string.\n",
    " \n",
    "Regex is introduced in more detail by Simon in the video lectures\n",
    "1. [Regex 1](https://www.youtube.com/watch?v=ma93hpNFXZM)\n",
    "2. [Regex 2](https://www.youtube.com/watch?v=B6XoKtQA2Fc)\n",
    "3. [Regex 3](https://www.youtube.com/watch?v=jxNLY0L_N78)\n",
    "4. [Regex 4](https://www.youtube.com/watch?v=j1jW5EF5jfs)\n",
    "\n",
    "Regex is difficult to learn, however, by just watching videos. **It is one of those things you learn by doing!**\n",
    "\n",
    "In the live lecture, we will practice regex together. \n",
    "\n",
    "I encourage you to skim the video lectures, then practice basic regex, and finally rewatch the lecture videos.\n",
    "\n",
    "***\n",
    "***\n",
    "\n",
    "## Basic regex syntax\n",
    "\n",
    "Regex is used across most programming languages. In this lecture, we will be working with regex in [https://regex101.com/](regex101) and python. First, let us learn basic regex syntax by playing around in regex101.\n",
    "\n",
    "\n",
    "***\n",
    "**Character classes**\n",
    "- `\\d` : matches a single character that is a digit\n",
    "- `\\w` : matches a word character\n",
    "- `\\s` : matches a whitespace character\n",
    "- `.`  : matches any character\n",
    "\n",
    "Negations: `\\D`, `\\W`, `\\S` are the *negations* of `\\d`, `\\w` and `\\s`.\n",
    "\n",
    "\n",
    "***\n",
    "**Anchors: `^`, `\\$` and `\\b`**\n",
    "- `^Hat` matches any string that starts with \"Hat\".\n",
    "- `Pay\\$` matches any string that ends with \"Pay\"\n",
    "- `\\b` matches a word boundary\n",
    "***\n",
    "\n",
    "Try it out! Go to [regex 101](regex101.com) and play around in the field where it says \"insert your regular expression here\".\n",
    "\n",
    "![alt text](regex101.png)\n",
    "\n",
    "Questions: \n",
    "- How do you match the \"4\"?\n",
    "- How do you match everything except the \"4\"?\n",
    "- How do you match the *first* \"hat\"?\n",
    "\n",
    "***\n",
    "**Special characters**\n",
    "\n",
    "Special characters are reserved as keywords. They are:\n",
    "   `^`   `[`  `.` `$`     `{`    `*`   `(`  `\\`  `+`    `)`   `|`   `?` \n",
    "\n",
    "Literal versions of these characters have to be *escaped* by adding a \\\\ (backslash) in front of them. \n",
    "\n",
    "For example, ^ is escaped by writing \\\\^.\n",
    "\n",
    "Question:\n",
    "- In our regex101 example, can you match the $?\n",
    "\n",
    "***\n",
    "**Flags**\n",
    "\n",
    "In our example, try matching \"store.\\$\".\n",
    "\n",
    "From the material we have covered so far, you would not expect any matches... Yet we get two!\n",
    "![alt text](regex101-store.png)\n",
    "\n",
    "That is because regex101 is using the multiline flag, where ^ and \\$ are used to match the begin and end of each line. \n",
    "\n",
    "Question:\n",
    "- Can you turn off multi line? (Tip: Hover your mouse over \"mg\")\n",
    "- What happens when you match \"store.\" with the multi line flag on and the global flag off?\n",
    "\n",
    "***\n",
    "**Quantifiers**\n",
    "\n",
    "The characters `*`, `+`, `?` and `{}` are reserved as quantifiers.\n",
    "\n",
    "For example, \n",
    "- `abc*` matches a string that has ab followed by zero or more c.\n",
    "- `abc+` matches a string that has ab followed by one or more c\n",
    "- `abc?` matches a string that has ab followed by zero or one c\n",
    "- `abc{2}` matches a string that has ab followed by 2 c\n",
    "- `abc{2,}` matches a string that has ab followed by 2 or more c\n",
    "- `abc{2, 5}` matches a string that has ab followed by 2 to 5 c\n",
    "\n",
    "Question:\n",
    "- How many regexes can you make that matches \"ccc\" in \"abccc\"?\n",
    "\n",
    "**Greedy and lazy operators**\n",
    "\n",
    "The quantifiers `*`, `+`, `?` and `{}` are all *greedy*, meaning they will match with the longest string they can find. \n",
    "\n",
    "To make them *lazy*, we add a question mark: `*?`, `+?`, `??` and `{}?`\n",
    "\n",
    "Question:\n",
    "- Take as your test string: `Norwegian: \"God dag\". Italian: \"Buongiorno\"`\n",
    "Can you match the greetings?\n",
    "\n",
    "\n",
    "***\n",
    "**OR operator - `|` or `[]`**\n",
    "- `a(b|c)` matches a string that has a followed by b or c\n",
    "- `a[bc] ` matches a string that has a followed by bor c \n",
    "\n",
    "Example: `gr[ae]y` matches gray and grey.\n",
    "\n",
    "We can also negate using `^`. For example, `[^aeiou]` will *not* match any the letters a, e, i, o and u.\n",
    "***\n",
    "\n",
    "\n",
    "***\n",
    "\n",
    "\n",
    "**Grouping and capturing**\n",
    "\n",
    "Placing parts of the regex inside `()` will group that part of the regex together. \n",
    "\n",
    "Example: `a(bc)+` matches strings that have a followed by one or more bc\n",
    "\n",
    "The paranthesis also *captures* the corresponding match and allows us to *backreference* it using `\\1`, `\\2` etc. \n",
    "\n",
    "Example: `a(bc)\\1` will match abcbc.\n",
    "\n",
    "Question: \n",
    "- Can you make a regex that matches any character repeated twice?\n",
    "For example, your regex should match \"ee\" in \"Rita Skeeter\".\n",
    "- Can you make a regex that matches any repeated character?\n",
    "For example, your regex should match \"sss\" in \"headmistressship\".\n",
    "- Bonus: If you work on a text for a long time, you eventually become completely blind to your own mistakes. For example, my master thesis contains double \"the the\" 3 times. Can you make a regex that finds repeated words?\n",
    "\n",
    "That concludes basic regex syntax! Now onto python and regex. \n"
   ]
  },
  {
   "cell_type": "markdown",
   "id": "3495f6dc",
   "metadata": {},
   "source": [
    "*** \n",
    "***\n",
    "***\n",
    "## Python and regex\n",
    "We start by importing regex in python:"
   ]
  },
  {
   "cell_type": "code",
   "execution_count": 26,
   "id": "ceb0d7da",
   "metadata": {},
   "outputs": [],
   "source": [
    "import re"
   ]
  },
  {
   "cell_type": "markdown",
   "id": "66ff2a82",
   "metadata": {},
   "source": [
    "The `re` module has several functions that allow us to search through a string:\n",
    "- `findall` Returns a list containing all matches\n",
    "- `search` Returns a Match object if there is a match anywhere in the string\n",
    "- `split` Returns a list where the string has been split at each match\n",
    "- `sub` Replaces one or many matches with a string\n",
    "\n",
    "We will test out `findall`. Let's read the docstring:"
   ]
  },
  {
   "cell_type": "code",
   "execution_count": 32,
   "id": "e5e2e35d",
   "metadata": {},
   "outputs": [
    {
     "data": {
      "text/plain": [
       "\u001b[0;31mSignature:\u001b[0m \u001b[0mre\u001b[0m\u001b[0;34m.\u001b[0m\u001b[0mfindall\u001b[0m\u001b[0;34m(\u001b[0m\u001b[0mpattern\u001b[0m\u001b[0;34m,\u001b[0m \u001b[0mstring\u001b[0m\u001b[0;34m,\u001b[0m \u001b[0mflags\u001b[0m\u001b[0;34m=\u001b[0m\u001b[0;36m0\u001b[0m\u001b[0;34m)\u001b[0m\u001b[0;34m\u001b[0m\u001b[0;34m\u001b[0m\u001b[0m\n",
       "\u001b[0;31mDocstring:\u001b[0m\n",
       "Return a list of all non-overlapping matches in the string.\n",
       "\n",
       "If one or more capturing groups are present in the pattern, return\n",
       "a list of groups; this will be a list of tuples if the pattern\n",
       "has more than one group.\n",
       "\n",
       "Empty matches are included in the result.\n",
       "\u001b[0;31mFile:\u001b[0m      ~/anaconda3/envs/py38/lib/python3.8/re.py\n",
       "\u001b[0;31mType:\u001b[0m      function\n"
      ]
     },
     "metadata": {},
     "output_type": "display_data"
    }
   ],
   "source": [
    "re.findall?"
   ]
  },
  {
   "cell_type": "markdown",
   "id": "399cfa34",
   "metadata": {},
   "source": [
    "We can try it out on a list of files:"
   ]
  },
  {
   "cell_type": "code",
   "execution_count": 43,
   "id": "91fe6851",
   "metadata": {},
   "outputs": [
    {
     "name": "stdout",
     "output_type": "stream",
     "text": [
      "[('transcript', 'pdf'), ('flower_picture', 'png'), ('thesis', 'tex')]\n"
     ]
    }
   ],
   "source": [
    "files = r'''transcript.pdf\n",
    "           flower_picture.png\n",
    "           thesis.tex'''\n",
    "\n",
    "regex = '(\\w+).(\\w+)'\n",
    "matches = re.findall( regex, files, re.M)\n",
    "print(matches)"
   ]
  },
  {
   "cell_type": "markdown",
   "id": "6603e7b6",
   "metadata": {},
   "source": [
    "Question: Can you loop through the matches to make a nice formatted list of files and extensions?\n",
    "\n",
    "Note: We put a prefix `r` in front of the files string. This tells python we want a raw string, and keeps it from formatting it."
   ]
  },
  {
   "cell_type": "code",
   "execution_count": 44,
   "id": "234dfc12",
   "metadata": {},
   "outputs": [
    {
     "name": "stdout",
     "output_type": "stream",
     "text": [
      "Hello, \n",
      " I am a \n",
      " normal string\n",
      "While \\n I am a \\n raw string\n"
     ]
    }
   ],
   "source": [
    "str_ = 'Hello, \\n I am a \\n normal string'\n",
    "raw_str = r'While \\n I am a \\n raw string'\n",
    "print(str_)\n",
    "print(raw_str)"
   ]
  },
  {
   "cell_type": "markdown",
   "id": "558bff8d",
   "metadata": {},
   "source": [
    "***\n",
    "\n",
    "**Lookahead and lookbehind**\n",
    "\n",
    "The regex engine marches along the string looking for matches to the regex. With the lookahead `(?=foo)` and look behind `(?<=foo)` we can ask it to check for matches *without* moving along the string. \n",
    "\n",
    "Example: Say we want to match all the consonants in a string. Then we can use `[a-z](?<=[^aeiou])`.\n",
    "\n",
    "\n",
    "***\n",
    "\n",
    "For the assignments, you will be working with more complicated input strings and regexs. You can keep using regex101 as you are working out the correct regex, just be sure to switch the flavor to python! There are small syntax differences between different regex engines. For example, python makes you write `\\\"` if you want to match `\"`.\n",
    "\n",
    "<img src=\"regex101-python.png\" alt=\"Drawing\" style=\"width: 400px;\"/>\n",
    "\n",
    "That concludes the live lecture! Python and regex are beautifully covered by Simon in the video lectures. \n",
    "\n",
    "By now you should be comfortable with basic regex and ready to start the Assignment 5 (as soon as it is published). \n",
    "\n",
    "\n",
    "\n",
    "\n",
    "\n",
    "\n"
   ]
  }
 ],
 "metadata": {
  "kernelspec": {
   "display_name": "Python 3 (ipykernel)",
   "language": "python",
   "name": "python3"
  },
  "language_info": {
   "codemirror_mode": {
    "name": "ipython",
    "version": 3
   },
   "file_extension": ".py",
   "mimetype": "text/x-python",
   "name": "python",
   "nbconvert_exporter": "python",
   "pygments_lexer": "ipython3",
   "version": "3.8.13"
  }
 },
 "nbformat": 4,
 "nbformat_minor": 5
}
