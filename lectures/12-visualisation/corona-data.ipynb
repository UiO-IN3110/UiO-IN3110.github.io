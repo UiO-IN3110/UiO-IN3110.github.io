{
 "cells": [
  {
   "cell_type": "code",
   "execution_count": null,
   "id": "5ed80523-0e3b-4f3b-bb1b-b9109bac0583",
   "metadata": {},
   "outputs": [],
   "source": [
    "import io\n",
    "from functools import lru_cache\n",
    "\n",
    "import altair as alt\n",
    "import pandas as pd\n",
    "import requests\n",
    "\n",
    "import matplotlib.pyplot as plt"
   ]
  },
  {
   "cell_type": "code",
   "execution_count": null,
   "id": "1325b8a7-1525-44ad-8ba8-82d3520a113c",
   "metadata": {},
   "outputs": [],
   "source": [
    "data_url = \"https://raw.githubusercontent.com/thohan88/covid19-nor-data/HEAD/data\"\n",
    "\n",
    "@lru_cache()\n",
    "def download_dataset(\n",
    "    path,\n",
    "    parse_dates=[\n",
    "        \"date\",\n",
    "    ],\n",
    "    data_url=data_url,\n",
    "):\n",
    "    \"\"\"Download a dataset from covid19-nor-data archive\"\"\"\n",
    "    url = f\"{data_url}/{path}\"\n",
    "    print(f\"Downloading {url}\")\n",
    "    r = requests.get(f\"{data_url}/{path}\")\n",
    "    r.raise_for_status()\n",
    "    print(f\"Downloaded {len(r.content) // 1024}kB\")\n",
    "    return pd.read_csv(io.BytesIO(r.content), parse_dates=parse_dates)\n",
    "\n",
    "\n",
    "all_cases = download_dataset(\"01_infected/msis/municipality_and_district.csv\")\n",
    "all_cases"
   ]
  },
  {
   "cell_type": "code",
   "execution_count": null,
   "id": "b67e5347-7a65-480c-88fd-0873d653dd5f",
   "metadata": {},
   "outputs": [],
   "source": [
    "# aggregate data by fylke\n",
    "cases = (\n",
    "    all_cases.groupby([\"fylke_name\", \"date\"])[[\"cases\", \"population\"]]\n",
    "    .sum()\n",
    "    .reset_index()\n",
    ")\n",
    "cases"
   ]
  },
  {
   "cell_type": "code",
   "execution_count": null,
   "id": "54dc578e-fb67-4562-9b93-eaa4c92d89f7",
   "metadata": {},
   "outputs": [],
   "source": [
    "# discard ukjent fylke where population 100k doesn't make sense\n",
    "cases = cases[~cases.fylke_name.str.contains(\"Ukjent\")]\n",
    "cases"
   ]
  },
  {
   "cell_type": "code",
   "execution_count": null,
   "id": "b70a9654-e208-4a1b-aca4-00b6089ef17b",
   "metadata": {},
   "outputs": [],
   "source": [
    "# 'cases' is a cumulative sum\n",
    "# reverse that to calculate the daily new case count\n",
    "\n",
    "# 1. createe a new column\n",
    "cases[\"daily cases\"] = 0\n",
    "\n",
    "# 2. populate it per fylke\n",
    "for fylke in cases.fylke_name.unique():\n",
    "    mask = cases.fylke_name == fylke\n",
    "    fylke_cases = cases.loc[mask]\n",
    "    diff = fylke_cases.cases.diff()\n",
    "    # set first value from cases\n",
    "    diff.iloc[0] = fylke_cases.iloc[0].cases\n",
    "    cases.loc[fylke_cases.index, \"daily cases\"] = diff.astype(int)\n",
    "\n",
    "cases"
   ]
  },
  {
   "cell_type": "markdown",
   "id": "a01ad141-cea7-4efa-9f38-398f9f3483a0",
   "metadata": {},
   "source": [
    "# Add per-100,000 population column"
   ]
  },
  {
   "cell_type": "code",
   "execution_count": null,
   "id": "1ec6a2cc-1b26-4c51-a0e3-78fe1970aad6",
   "metadata": {},
   "outputs": [],
   "source": [
    "# per100k is \"daily new cases per 100k population\"\n",
    "cases[\"per100k\"] = (\n",
    "    (cases[\"daily cases\"] * 1e5 / (cases[\"population\"] + 1))\n",
    ")\n",
    "cases"
   ]
  },
  {
   "cell_type": "markdown",
   "id": "441bdc42-2255-418d-9510-e6aac7507dfd",
   "metadata": {},
   "source": [
    "## Exercise\n",
    "\n",
    "plot cases per 1000"
   ]
  },
  {
   "cell_type": "code",
   "execution_count": null,
   "id": "aef07907-687f-49f0-aa44-d14078755dfd",
   "metadata": {},
   "outputs": [],
   "source": [
    "latest_cases = cases[-5000:]"
   ]
  },
  {
   "cell_type": "code",
   "execution_count": null,
   "id": "eac314cb-7181-4265-8401-5a37972992fa",
   "metadata": {},
   "outputs": [],
   "source": [
    "alt.Chart(latest_cases)..."
   ]
  },
  {
   "cell_type": "markdown",
   "id": "382f04f4-1042-4ade-b7f6-5a315c5f377e",
   "metadata": {},
   "source": [
    "We can also do the same with matplotlib"
   ]
  },
  {
   "cell_type": "code",
   "execution_count": null,
   "id": "7ee65a0a-5d81-46ae-b682-e9070417551a",
   "metadata": {},
   "outputs": [],
   "source": []
  }
 ],
 "metadata": {
  "kernelspec": {
   "display_name": "Python 3 (ipykernel)",
   "language": "python",
   "name": "python3"
  },
  "language_info": {
   "codemirror_mode": {
    "name": "ipython",
    "version": 3
   },
   "file_extension": ".py",
   "mimetype": "text/x-python",
   "name": "python",
   "nbconvert_exporter": "python",
   "pygments_lexer": "ipython3",
   "version": "3.9.6"
  },
  "widgets": {
   "application/vnd.jupyter.widget-state+json": {
    "state": {},
    "version_major": 2,
    "version_minor": 0
   }
  }
 },
 "nbformat": 4,
 "nbformat_minor": 5
}
