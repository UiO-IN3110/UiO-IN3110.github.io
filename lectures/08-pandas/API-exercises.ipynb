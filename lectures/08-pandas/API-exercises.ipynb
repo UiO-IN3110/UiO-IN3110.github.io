{
 "cells": [
  {
   "cell_type": "markdown",
   "id": "69550f91-89cd-4784-a267-4e1a5e67f6b0",
   "metadata": {},
   "source": [
    "# Rain in Bergen\n",
    "\n",
    "<img src=\"images/bergen.png\" style=\"width: 500px;\"/>\n",
    "\n",
    "Bergen is famous for having a lot of rain. So much so that the Bergen bunad features umbrella-themed silver:\n",
    "\n",
    "<img src=\"images/bergen-solv.png\" style=\"width: 400px;\"/>\n",
    "\n",
    "To practise ``get`` requests, ``json`` and plotting, we are going to make a bar plot of the rain in Bergen by month. To do so, we will access historical data from MET.\n",
    "\n",
    "## Frost API\n",
    "\n",
    "The [Frost API](https://frost.met.no/index.html) from MET provides historical weather and climate data of e.g. temperature, precipitation and wind. \n",
    "\n",
    "**Step 1**\n",
    "\n",
    "Check the conditions for using this API.\n",
    "\n",
    "What rules do they have for using the API?\n",
    "\n",
    "**Step 2**\n",
    "\n",
    "Complete the following code snippet so that it gets the precipitation per day in Bergen\n",
    "\n",
    "You can use the following parameters for the get request\n",
    "\n",
    "| Key | Value |\n",
    "| --- | --- | \n",
    "| 'sources' | 'SN50540' | \n",
    "| 'elements' | 'sum(precipitation_amount P1D)' | \n",
    "| 'referencetime' | '2020-01-01/2020-12-31' | \n",
    "\n",
    "   \n",
    "Blindern has the code SN18700\n",
    "\n",
    "   "
   ]
  },
  {
   "cell_type": "code",
   "execution_count": null,
   "id": "2c63f8ff-2706-4462-bfd3-acba8a249f7c",
   "metadata": {},
   "outputs": [],
   "source": [
    "import requests\n",
    "import json\n",
    "\n",
    "# Insert your own client ID here\n",
    "client_id = ...\n",
    "\n",
    "# Define url for the get request\n",
    "url = 'https://frost.met.no/observations/v0.jsonld'\n",
    "\n",
    "# Define parameters for the get request (as a dictionary)\n",
    "parameters = { ... }\n",
    "\n",
    "# Issue an HTTP GET request\n",
    "r = requests.get(url, parameters, auth=(client_id,''))\n",
    "\n",
    "# Check if the request worked, print out any errors\n",
    "if r.status_code ...:\n",
    "    ..."
   ]
  },
  {
   "cell_type": "markdown",
   "id": "08f42203-dffd-44e7-a17e-970c345cd9e6",
   "metadata": {},
   "source": [
    "**Step 3:**\n",
    "\n",
    "Parse through the data. Make a dictionary of the total rain by month. "
   ]
  },
  {
   "cell_type": "code",
   "execution_count": null,
   "id": "95b11959-5b77-466c-baf8-9c04b0c61a75",
   "metadata": {},
   "outputs": [],
   "source": [
    "prec_per_month = {}\n",
    "\n",
    "data = r.json()  ...\n",
    "\n",
    "for i in range(len(data)):\n",
    "\n",
    "    month = ...\n",
    "    prec = ...\n",
    "    \n",
    "    if month in prec_per_month: \n",
    "        prec_per_month[month] += prec\n",
    "    else:\n",
    "        prec_per_month[month] = prec\n",
    "\n",
    "tot_prec = prec_per_month.values()\n",
    "months = prec_per_month.keys()"
   ]
  },
  {
   "cell_type": "markdown",
   "id": "14a04c52-a95a-40b5-89cb-dba6fd687d3d",
   "metadata": {},
   "source": [
    "Next we want to plot this data in a bar plot. \n",
    "\n",
    "To do this we use pyplot:"
   ]
  },
  {
   "cell_type": "code",
   "execution_count": null,
   "id": "743da6ae-525a-473b-aa54-5d48393f8e6c",
   "metadata": {},
   "outputs": [],
   "source": [
    "import matplotlib.pyplot as plt\n",
    "\n",
    "fig = plt.figure()\n",
    "ax = plt.axes()"
   ]
  },
  {
   "cell_type": "markdown",
   "id": "b6e3e54f-2c53-4791-a272-adffa7200d0a",
   "metadata": {},
   "source": [
    "In pyplot, the *figure* (an instance of the class ``plt.Figure``) can be thought of as a single container that contains all the objects representing axes, graphics, text and labels. The *axes* (an instance of the class ``plt.axes``) is more or less what is shown above: a bounding box with ticks and labels, which we will fill with plot elements. \n",
    "\n",
    "We want to add a bar plot to ``ax``"
   ]
  },
  {
   "cell_type": "code",
   "execution_count": null,
   "id": "f0279458-1fd8-4494-b2d8-aa0d594c62da",
   "metadata": {},
   "outputs": [],
   "source": [
    "ax.bar?"
   ]
  },
  {
   "cell_type": "markdown",
   "id": "3d994e0a-4dc8-441c-bb5c-e193077d2b08",
   "metadata": {},
   "source": [
    "**Step 4**\n",
    "\n",
    "Make a bar plot showing the total precipitation each month. "
   ]
  },
  {
   "cell_type": "code",
   "execution_count": null,
   "id": "09f6bf9a-9101-4786-976e-3d47a594ced5",
   "metadata": {},
   "outputs": [],
   "source": [
    "ax.bar(...)"
   ]
  },
  {
   "cell_type": "markdown",
   "id": "167c7713-dd0e-4439-a381-2058c9cf670e",
   "metadata": {},
   "source": [
    "**Step 5**\n",
    "\n",
    "Format the bar plot so that the xticks show the abbreviated month name. \n",
    "\n",
    "Tip: Use the calendar package. "
   ]
  },
  {
   "cell_type": "code",
   "execution_count": null,
   "id": "8b04f32b-0539-46aa-bc14-3d4e39330dcc",
   "metadata": {},
   "outputs": [],
   "source": [
    "import calendar\n",
    "import time\n",
    "\n",
    "xticks = ...  # this should be a list of xtick values\n",
    "xtick_vals = ...  # this should be a list of the corresponding xtick labels\n",
    "\n",
    "ax.set_xticks(xticks)\n",
    "ax.set_xticklabels(xtick_vals)\n",
    "fig"
   ]
  }
 ],
 "metadata": {
  "kernelspec": {
   "display_name": "Python 3 (ipykernel)",
   "language": "python",
   "name": "python3"
  },
  "language_info": {
   "codemirror_mode": {
    "name": "ipython",
    "version": 3
   },
   "file_extension": ".py",
   "mimetype": "text/x-python",
   "name": "python",
   "nbconvert_exporter": "python",
   "pygments_lexer": "ipython3",
   "version": "3.10.4"
  },
  "widgets": {
   "application/vnd.jupyter.widget-state+json": {
    "state": {},
    "version_major": 2,
    "version_minor": 0
   }
  }
 },
 "nbformat": 4,
 "nbformat_minor": 5
}
