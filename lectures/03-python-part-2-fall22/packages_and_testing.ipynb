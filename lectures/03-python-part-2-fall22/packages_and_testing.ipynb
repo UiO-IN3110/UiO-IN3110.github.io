{
 "cells": [
  {
   "cell_type": "markdown",
   "id": "65ada78b",
   "metadata": {},
   "source": [
    "# Structuring Python code: Modules and Packages\n",
    "\n",
    "<img src=\"doc/python_structure_options.svg\" style=\"width: 800px;\"/>"
   ]
  },
  {
   "cell_type": "markdown",
   "id": "85205a4b",
   "metadata": {},
   "source": [
    "## What is a Python module and what is it good for?\n",
    "A module is a file consisting of Python code. A module can define functions, classes and variables. A module can also include runnable code.\n",
    "\n",
    "Use modules to organize your program logically\n",
    "  * Split the code into several files for easier maintenance.\n",
    "  * Group related code into a module.\n",
    "  * Share common code between scripts.\n",
    "  * Publish modules on the web for other people to use (even better: create a **package**, see below)."
   ]
  },
  {
   "cell_type": "markdown",
   "id": "cf60eeb1",
   "metadata": {},
   "source": [
    "### Using modules\n",
    "We have already seen some example of usage in the previous lecture part\n",
    "```python\n",
    "import itertools\n",
    "# Access function from the module\n",
    "itertools.product\n",
    "\n",
    "# Alias\n",
    "import itertools as itools\n",
    "itool.product\n",
    "\n",
    "# The following is considered a bad practice\n",
    "from itertools import *\n",
    "# Easy to shadow existing variables (also hard for IDEs)\n",
    "```"
   ]
  },
  {
   "cell_type": "markdown",
   "id": "45076c70",
   "metadata": {},
   "source": [
    "### Some other useful modules from the standard library"
   ]
  },
  {
   "cell_type": "code",
   "execution_count": 2,
   "id": "192024db",
   "metadata": {},
   "outputs": [],
   "source": [
    "import os\n",
    "# See about files in the directory\n",
    "files = os.listdir('.')\n",
    "# Which are directories?\n",
    "directories = [f for f in files if os.path.isdir(f)]\n",
    "# Which are python file\n",
    "pys = [f for f in files if os.path.splitext(f)[1] == '.py']\n",
    "# Where are we?\n",
    "pwd = os.getcwd()\n",
    "# And more https://docs.python.org/3/library/os.path.html"
   ]
  },
  {
   "cell_type": "markdown",
   "id": "e865847c",
   "metadata": {},
   "source": [
    "A different (more bash-like way) of getting `pys` via built-in `glob`"
   ]
  },
  {
   "cell_type": "code",
   "execution_count": 3,
   "id": "838262fe",
   "metadata": {},
   "outputs": [],
   "source": [
    "import glob\n",
    "pys2 = glob.glob('*.py')\n",
    "\n",
    "assert set(pys) == set(pys2), (pys, pys2)"
   ]
  },
  {
   "cell_type": "markdown",
   "id": "7b9d7c41",
   "metadata": {},
   "source": [
    "### Creating and using Python modules\n",
    "Creating own modules in Python is **very simple**:\n",
    "\n",
    "1. Put any code (variables, functions, classes) that should be part of the module in a Python file.\n",
    " \n",
    "That is it! In the previous part of the lecture we already wrote such file containing factorials - let's try to use it"
   ]
  },
  {
   "cell_type": "code",
   "execution_count": 4,
   "id": "6b14e491",
   "metadata": {},
   "outputs": [
    {
     "data": {
      "text/plain": [
       "3628800"
      ]
     },
     "execution_count": 4,
     "metadata": {},
     "output_type": "execute_result"
    }
   ],
   "source": [
    "from factorial_doctest_exceptions import factorial\n",
    "\n",
    "factorial(10)"
   ]
  },
  {
   "cell_type": "markdown",
   "id": "4ef233a4",
   "metadata": {},
   "source": [
    "How does Python find your modules? When importing a module (or package module), Python tries to find it in multiples places (in this order):\n",
    "\n",
    "    Your current working directory.\n",
    "    Paths defined by the environment variable $PYTHONPATH.\n",
    "    Some global paths, e.g. /usr/lib/python3.7/site-packages. This depends on your OS and Python installation.\n",
    "\n",
    "This can be verified as follows via another useful module `sys`"
   ]
  },
  {
   "cell_type": "code",
   "execution_count": 5,
   "id": "df01bd49",
   "metadata": {},
   "outputs": [
    {
     "data": {
      "text/plain": [
       "['/home/mirok/Documents/Teaching/IN3110/lec3',\n",
       " '/home/mirok/Documents/Software/miniconda3/envs/in3110/lib/python38.zip',\n",
       " '/home/mirok/Documents/Software/miniconda3/envs/in3110/lib/python3.8',\n",
       " '/home/mirok/Documents/Software/miniconda3/envs/in3110/lib/python3.8/lib-dynload',\n",
       " '',\n",
       " '/home/mirok/.local/lib/python3.8/site-packages',\n",
       " '/home/mirok/Documents/MkSoftware/ulfy',\n",
       " '/home/mirok/Documents/MkSoftware/hsmg',\n",
       " '/home/mirok/Documents/MkSoftware/gmshnics',\n",
       " '/home/mirok/Documents/MkSoftware/synthetic_pO2_data',\n",
       " '/home/mirok/Documents/MkSoftware/CMRO2estimation_delaunay',\n",
       " '/home/mirok/.local/lib/python3.8/site-packages/oasis-2018.1-py3.8.egg',\n",
       " '/home/mirok/.local/lib/python3.8/site-packages/quadpy-0.12.10-py3.8.egg',\n",
       " '/home/mirok/.local/lib/python3.8/site-packages/pipdate-0.3.5-py3.8.egg',\n",
       " '/home/mirok/.local/lib/python3.8/site-packages/orthopy-0.5.3-py3.8.egg',\n",
       " '/home/mirok/.local/lib/python3.8/site-packages/FEniCS_ii-0.5-py3.8.egg',\n",
       " '/home/mirok/.local/lib/python3.8/site-packages/networkx_metis-1.0-py3.8-linux-x86_64.egg',\n",
       " '/home/mirok/Documents/MkSoftware/fenics_eig',\n",
       " '/home/mirok/Documents/MkSoftware/cbc.block',\n",
       " '/home/mirok/Documents/MkSoftware/graph-mesh',\n",
       " '/home/mirok/Documents/Software/miniconda3/envs/in3110/lib/python3.8/site-packages']"
      ]
     },
     "execution_count": 5,
     "metadata": {},
     "output_type": "execute_result"
    }
   ],
   "source": [
    "import sys\n",
    "# Notice the order\n",
    "sys.path"
   ]
  },
  {
   "cell_type": "markdown",
   "id": "93d3a620",
   "metadata": {},
   "source": [
    "### Test block in a module\n",
    "\n",
    "Module files can have a test/demo section at the end:\n",
    "* The block is executed *only if* the module file is run as a program (not if imported by another script)\n",
    "* The tests at the end of a module often serve as good examples on the usage of the module\n",
    "\n",
    "This is the contruct we used in doctest and factorial:\n",
    "```python\n",
    "# Part of factorial_doctest.py\n",
    "def factorial(n: int) -> int:\n",
    "    '''Return the factorial of n, an exact integer >= 0.\n",
    "\n",
    "    Args:\n",
    "       n (int):  n!\n",
    "\n",
    "    Returns:\n",
    "       int.  The factorial value::\n",
    "\n",
    "    >>> factorial(5)\n",
    "    120\n",
    "    >>> factorial(0)\n",
    "    1\n",
    "\n",
    "    '''\n",
    "    if n == 0:\n",
    "        return 1\n",
    "    return n*factorial(n-1)\n",
    "\n",
    "# --------------------------------------------------------------------\n",
    "\n",
    "if __name__ == '__main__':\n",
    "    import doctest\n",
    "    doctest.testmod()\n",
    "```"
   ]
  },
  {
   "cell_type": "markdown",
   "id": "547317df",
   "metadata": {},
   "source": [
    "## What is a package?\n",
    "\n",
    "A package is a hierarchical file directory structure that consists of modules and subpackages and sub-subpackages, and so on.\n",
    "\n",
    "**Example:**\n",
    "\n",
    "```python\n",
    "from scipy.optimize import minimize \n",
    "#      ^      ^               ^ \n",
    "#      |      |               |\n",
    "#   Package   |               |\n",
    "#           Module            |\n",
    "#                          Function\n",
    "```\n",
    "Packages allow to organize modules and scripts into  single environment. These can then easily be distributed and imported by name. "
   ]
  },
  {
   "cell_type": "markdown",
   "id": "97ceae98",
   "metadata": {},
   "source": [
    "Python comes with a set of powerful packages, e.g.\n",
    "* **scipy** Scientific Python \n",
    "* **numpy** Numerical Python\n",
    "* **ipython** Interactive Python\n",
    "* **matplotlib** Plotting\n",
    "* **pandas** Data analysis\n",
    "* **scikit learn** Machine learning\n",
    "\n",
    "*Several useful packages are included in Python distributions like Anaconda*"
   ]
  },
  {
   "cell_type": "markdown",
   "id": "660fe0ed",
   "metadata": {},
   "source": [
    "### Creating a package\n",
    " * A set of modules can be collected in a *package*\n",
    " * A package is organized as module files in a directory tree\n",
    " * Each subdirectory must have a `__init__.py` file  (can be empty)\n",
    " * More infos: [Section 6 in the Python Tutorial](https://docs.python.org/3/tutorial/modules.html)  \n",
    " \n",
    "We have a sample package in the `data/my-package` directory. The package tree is as follows"
   ]
  },
  {
   "cell_type": "code",
   "execution_count": 6,
   "id": "ed8c503b",
   "metadata": {},
   "outputs": [
    {
     "name": "stdout",
     "output_type": "stream",
     "text": [
      "\u001b[01;34mdata/my-package\u001b[00m\r\n",
      "├── \u001b[01;34mpkg\u001b[00m\r\n",
      "│   ├── analysis.py\r\n",
      "│   ├── analysis.py~\r\n",
      "│   ├── __init__.py\r\n",
      "│   ├── \u001b[01;34mprinting\u001b[00m\r\n",
      "│   │   ├── __init__.py\r\n",
      "│   │   ├── __init__.py~\r\n",
      "│   │   ├── printing.py\r\n",
      "│   │   ├── printing.py~\r\n",
      "│   │   └── \u001b[01;34m__pycache__\u001b[00m\r\n",
      "│   │       ├── __init__.cpython-38.pyc\r\n",
      "│   │       └── printing.cpython-38.pyc\r\n",
      "│   └── \u001b[01;34m__pycache__\u001b[00m\r\n",
      "│       ├── analysis.cpython-38.pyc\r\n",
      "│       └── __init__.cpython-38.pyc\r\n",
      "├── \u001b[01;34mpkg.egg-info\u001b[00m\r\n",
      "│   ├── dependency_links.txt\r\n",
      "│   ├── PKG-INFO\r\n",
      "│   ├── SOURCES.txt\r\n",
      "│   └── top_level.txt\r\n",
      "├── README.md\r\n",
      "├── README.md~\r\n",
      "├── setup.py\r\n",
      "├── setup.py~\r\n",
      "└── \u001b[01;34mtest\u001b[00m\r\n",
      "    ├── \u001b[01;34m__pycache__\u001b[00m\r\n",
      "    │   ├── test_analysis.cpython-38-pytest-6.2.5.pyc\r\n",
      "    │   └── test_printing.cpython-38-pytest-6.2.5.pyc\r\n",
      "    ├── test_analysis.py\r\n",
      "    ├── test_analysis.py~\r\n",
      "    ├── test_printing.py\r\n",
      "    └── test_printing.py~\r\n",
      "\r\n",
      "7 directories, 25 files\r\n"
     ]
    }
   ],
   "source": [
    "!tree data/my-package"
   ]
  },
  {
   "cell_type": "markdown",
   "id": "02aeecd6",
   "metadata": {},
   "source": [
    "## Using a package\n",
    "\n",
    "One option is to manipulate Bash variable PYTHONPATH\n",
    "```bash\n",
    "> export PYTHONPATH=/path/to/my-package:$PYTHONPATH\n",
    "```\n",
    "Note: The search path will be lost when you open a new Bash session. We can accomplish the same by manipulating the\n",
    "path from within python"
   ]
  },
  {
   "cell_type": "code",
   "execution_count": 7,
   "id": "81f8592d",
   "metadata": {},
   "outputs": [
    {
     "data": {
      "text/plain": [
       "['/home/mirok/Documents/Teaching/IN3110/lec3',\n",
       " '/home/mirok/Documents/Software/miniconda3/envs/in3110/lib/python38.zip',\n",
       " '/home/mirok/Documents/Software/miniconda3/envs/in3110/lib/python3.8',\n",
       " '/home/mirok/Documents/Software/miniconda3/envs/in3110/lib/python3.8/lib-dynload',\n",
       " '',\n",
       " '/home/mirok/.local/lib/python3.8/site-packages',\n",
       " '/home/mirok/Documents/MkSoftware/ulfy',\n",
       " '/home/mirok/Documents/MkSoftware/hsmg',\n",
       " '/home/mirok/Documents/MkSoftware/gmshnics',\n",
       " '/home/mirok/Documents/MkSoftware/synthetic_pO2_data',\n",
       " '/home/mirok/Documents/MkSoftware/CMRO2estimation_delaunay',\n",
       " '/home/mirok/.local/lib/python3.8/site-packages/oasis-2018.1-py3.8.egg',\n",
       " '/home/mirok/.local/lib/python3.8/site-packages/quadpy-0.12.10-py3.8.egg',\n",
       " '/home/mirok/.local/lib/python3.8/site-packages/pipdate-0.3.5-py3.8.egg',\n",
       " '/home/mirok/.local/lib/python3.8/site-packages/orthopy-0.5.3-py3.8.egg',\n",
       " '/home/mirok/.local/lib/python3.8/site-packages/FEniCS_ii-0.5-py3.8.egg',\n",
       " '/home/mirok/.local/lib/python3.8/site-packages/networkx_metis-1.0-py3.8-linux-x86_64.egg',\n",
       " '/home/mirok/Documents/MkSoftware/fenics_eig',\n",
       " '/home/mirok/Documents/MkSoftware/cbc.block',\n",
       " '/home/mirok/Documents/MkSoftware/graph-mesh',\n",
       " '/home/mirok/Documents/Software/miniconda3/envs/in3110/lib/python3.8/site-packages',\n",
       " '/home/mirok/Documents/Teaching/IN3110/lec3/data/my-package']"
      ]
     },
     "execution_count": 7,
     "metadata": {},
     "output_type": "execute_result"
    }
   ],
   "source": [
    "import sys, os\n",
    "\n",
    "pkg_path = os.path.abspath('./data/my-package')\n",
    "\n",
    "sys.path.append(pkg_path)\n",
    "sys.path"
   ]
  },
  {
   "cell_type": "code",
   "execution_count": 8,
   "id": "73e34699",
   "metadata": {},
   "outputs": [
    {
     "name": "stdout",
     "output_type": "stream",
     "text": [
      "\u001b[1;37;31mA RED MESSSAGE\u001b[0m\n"
     ]
    },
    {
     "data": {
      "text/plain": [
       "'\\x1b[1;37;31m%s\\x1b[0m'"
      ]
     },
     "execution_count": 8,
     "metadata": {},
     "output_type": "execute_result"
    }
   ],
   "source": [
    "from pkg.printing import print_red\n",
    "print_red('A RED MESSSAGE')"
   ]
  },
  {
   "cell_type": "markdown",
   "id": "3d8d0efe",
   "metadata": {},
   "source": [
    "A better option is to reate a `setup.py` file in your package root directory.\n",
    "\n",
    "```python\n",
    "from setuptools import setup\n",
    "\n",
    "setup(name = 'pkg',\n",
    "      version = '0.1',\n",
    "      description = 'Simple package',\n",
    "      author = 'Miroslav Kuchta',\n",
    "      author_email = 'miroslav.kuchta@gmail.com',\n",
    "      # url = 'https://github.com/mirok/...',\n",
    "      packages = ['pkg'],\n",
    "      package_dir = {'pkg': 'pkg'}\n",
    ")\n",
    "\n",
    "```"
   ]
  },
  {
   "cell_type": "markdown",
   "id": "b35ac273",
   "metadata": {},
   "source": [
    "and install with one of\n",
    "```bash\n",
    "pip3 install . --user  # For single-user installation\n",
    "pip3 install .         # For system wide installation (requires root)\n",
    "pip3 install --editable .        # For developer mode (changes to source are immediately reflected)\n",
    "```\n",
    "\n",
    "you can remove the package installation again with:\n",
    "\n",
    "```bash\n",
    "pip3 uninstall pkg\n",
    "```"
   ]
  },
  {
   "cell_type": "markdown",
   "id": "57ac4a86",
   "metadata": {},
   "source": [
    "We will now work on the package with an aim to cover some of the existing functionality by testing and add new functionality by \n",
    "practicing test-drive-development. First some crash-course in Python unit testing"
   ]
  },
  {
   "cell_type": "markdown",
   "id": "ed279888",
   "metadata": {},
   "source": [
    "# Testing \n",
    "### Why should we test?\n",
    "* To check correctness of software.\n",
    "* To ensure that future changes do not break functionality.\n",
    "* To check if the software runs succesfully in a different environment (newer Python version, upgraded libraries, different operating system)\n",
    "\n",
    "### Unit testing \n",
    " 1. Identify a *unit* in your program that should have a well defined behavior given a certain input. A unit can be a:\n",
    "   - function\n",
    "   - module\n",
    "   - entire program\n",
    " 2. Write a test function that calls this input and checks that the output/behavior is as expected\n",
    " 3. The more the better! Preferably on several levels (function/module/program)."
   ]
  },
  {
   "cell_type": "markdown",
   "id": "9b69d391",
   "metadata": {},
   "source": [
    "## Unit testing in Python\n",
    "Use a test framework like [py.test](http://docs.pytest.org/en/latest/). Several other frameworks exist as well.\n",
    "```bash\n",
    "pip3 install pytest\n",
    "```\n",
    "Call `py.test` in the folder containing your project. The tools will look for anything that looks like a test (e.g. `test_*()` functions in `test_*.py` files) in your project (also subdirectories)."
   ]
  },
  {
   "cell_type": "markdown",
   "id": "c393aaca",
   "metadata": {},
   "source": [
    "```python\n",
    "# From test_factorial.py\n",
    "# Test of factorial function from module\n",
    "from factorial_doctest_exceptions import factorial\n",
    "import pytest\n",
    "\n",
    "\n",
    "def test_correctness():\n",
    "    assert factorial(0) == 1\n",
    "    assert factorial(1) == 1\n",
    "\n",
    "# We can generate more tests with decorators\n",
    "@pytest.mark.parametrize('inp, out', [(2, 2), (3, 6)])\n",
    "def test_correctness_dec(inp, out):\n",
    "    assert factorial(inp) == out\n",
    "\n",
    "\n",
    "def test_raises_not_int():\n",
    "    with pytest.raises(AssertionError):\n",
    "        factorial('1')\n",
    "\n",
    "        \n",
    "def test_raises_negative():\n",
    "    with pytest.raises(ValueError):\n",
    "        factorial(-1)\n",
    "\n",
    "        \n",
    "@pytest.mark.xfail\n",
    "def test_expected_fail():\n",
    "    assert factorial(3) == 4\n",
    "    \n",
    "def test_will_fail():\n",
    "    assert factorial(5) == 6\n",
    "```\n",
    "We can run all the tests or be zoom on individual functions"
   ]
  },
  {
   "cell_type": "code",
   "execution_count": 12,
   "id": "bf77a8ce",
   "metadata": {},
   "outputs": [
    {
     "name": "stdout",
     "output_type": "stream",
     "text": [
      "\u001b[1m============================= test session starts ==============================\u001b[0m\n",
      "platform linux -- Python 3.8.13, pytest-6.2.5, py-1.10.0, pluggy-1.0.0\n",
      "rootdir: /home/mirok/Documents/Teaching/IN3110/lec3\n",
      "collected 7 items / 2 errors / 5 selected                                      \u001b[0m\n",
      "\n",
      "==================================== ERRORS ====================================\n",
      "\u001b[31m\u001b[1m____________ ERROR collecting data/my-package/test/test_analysis.py ____________\u001b[0m\n",
      "\u001b[31mImportError while importing test module '/home/mirok/Documents/Teaching/IN3110/lec3/data/my-package/test/test_analysis.py'.\n",
      "Hint: make sure your test modules/packages have valid Python names.\n",
      "Traceback:\n",
      "../../../Software/miniconda3/envs/in3110/lib/python3.8/importlib/__init__.py:127: in import_module\n",
      "    return _bootstrap._gcd_import(name[level:], package, level)\n",
      "data/my-package/test/test_analysis.py:1: in <module>\n",
      "    from pkg.analysis import is_prime\n",
      "E   ModuleNotFoundError: No module named 'pkg'\u001b[0m\n",
      "\u001b[31m\u001b[1m____________ ERROR collecting data/my-package/test/test_printing.py ____________\u001b[0m\n",
      "\u001b[31mImportError while importing test module '/home/mirok/Documents/Teaching/IN3110/lec3/data/my-package/test/test_printing.py'.\n",
      "Hint: make sure your test modules/packages have valid Python names.\n",
      "Traceback:\n",
      "../../../Software/miniconda3/envs/in3110/lib/python3.8/importlib/__init__.py:127: in import_module\n",
      "    return _bootstrap._gcd_import(name[level:], package, level)\n",
      "data/my-package/test/test_printing.py:1: in <module>\n",
      "    from pkg.printing import print_red\n",
      "E   ModuleNotFoundError: No module named 'pkg'\u001b[0m\n",
      "=========================== short test summary info ============================\n",
      "ERROR data/my-package/test/test_analysis.py\n",
      "ERROR data/my-package/test/test_printing.py\n",
      "!!!!!!!!!!!!!!!!!!! Interrupted: 2 errors during collection !!!!!!!!!!!!!!!!!!!!\n",
      "\u001b[31m============================== \u001b[31m\u001b[1m2 errors\u001b[0m\u001b[31m in 0.08s\u001b[0m\u001b[31m ===============================\u001b[0m\n"
     ]
    }
   ],
   "source": [
    "!pytest ."
   ]
  },
  {
   "cell_type": "code",
   "execution_count": null,
   "id": "9a3c1cfb",
   "metadata": {},
   "outputs": [],
   "source": [
    "!pytest test_factorial.py::test_raises_negative"
   ]
  },
  {
   "cell_type": "markdown",
   "id": "8321b953",
   "metadata": {},
   "source": [
    "Note that you can use pytest to run the docstring tests also, for example\n",
    "```bash\n",
    "pytest --doctest-modules factorial_doctest_exceptions.py \n",
    "```"
   ]
  },
  {
   "cell_type": "markdown",
   "id": "774ac63a",
   "metadata": {},
   "source": [
    "We are now ready to add test suite to our package. It is customary to write them in a test folder. Let us create it"
   ]
  },
  {
   "cell_type": "code",
   "execution_count": 13,
   "id": "e9ff4499",
   "metadata": {},
   "outputs": [
    {
     "data": {
      "text/plain": [
       "False"
      ]
     },
     "execution_count": 13,
     "metadata": {},
     "output_type": "execute_result"
    }
   ],
   "source": [
    "import os\n",
    "\n",
    "not os.path.exists('./data/my-package/test') and os.makedirs('./data/my-package/test')"
   ]
  },
  {
   "cell_type": "markdown",
   "id": "fafceb87",
   "metadata": {},
   "source": [
    "The scanario for class demo is as follows:\n",
    " 1. Add tests to cover function as is\n",
    " 2. Improve the function and cover the functionality under test suit\n",
    " 3. Add new functionality\n",
    " 4. Illustrate debugging in the process\n",
    " For debugging we will use [pdb](https://docs.python.org/3/library/pdb.html), `conda install pdb`, or IPython's embed.\n",
    " ```python\n",
    "from IPython import embed\n",
    "embed()\n",
    "```"
   ]
  },
  {
   "cell_type": "markdown",
   "id": "54ecbfea",
   "metadata": {},
   "source": [
    "Of course, the ultimate form of debuggin are `print` statements :)"
   ]
  }
 ],
 "metadata": {
  "kernelspec": {
   "display_name": "Python 3 (ipykernel)",
   "language": "python",
   "name": "python3"
  },
  "language_info": {
   "codemirror_mode": {
    "name": "ipython",
    "version": 3
   },
   "file_extension": ".py",
   "mimetype": "text/x-python",
   "name": "python",
   "nbconvert_exporter": "python",
   "pygments_lexer": "ipython3",
   "version": "3.8.13"
  }
 },
 "nbformat": 4,
 "nbformat_minor": 5
}
