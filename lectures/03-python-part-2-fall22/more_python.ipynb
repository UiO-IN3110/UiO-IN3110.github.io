{
 "cells": [
  {
   "cell_type": "markdown",
   "id": "3dd8cda0",
   "metadata": {},
   "source": [
    "# Advanced topics in Python programming\n",
    "\n",
    "This notebook explores (slighlty) more advanced elements of programming in Python. Among other we will look into\n",
    "- functional programming \n",
    "- iterators\n",
    "- documenting code \n",
    "- error handling\n",
    "\n",
    "One aspect not addressed here is writting code following the PEP8 style guide, e.g. indentations, class/function names. There are tools to format your code that way (often given as extension to IDEs), for example [flake8](https://flake8.pycqa.org/en/latest/)."
   ]
  },
  {
   "cell_type": "markdown",
   "id": "78ef45ee",
   "metadata": {},
   "source": [
    "## Bits of functional programming\n",
    "\n",
    "We have seen how to define a function, i.e. give it a name\n",
    "\n",
    "```python\n",
    "def identity(x): return x\n",
    "```\n",
    "\n",
    "However, sometimes we might have use for nameless function - enter **Anonymous functions**. For example in sorting"
   ]
  },
  {
   "cell_type": "code",
   "execution_count": 1,
   "id": "6b5ab743",
   "metadata": {},
   "outputs": [
    {
     "data": {
      "text/plain": [
       "[(0.7518127197609292, 0.6174607083975878),\n",
       " (0.4115981594696888, 0.07303216359869236),\n",
       " (0.9390360730649631, 0.24915122361369646),\n",
       " (0.3319462980217811, 0.6122175533553326),\n",
       " (0.7548921538601876, 0.04918301480590781),\n",
       " (0.6803113087429741, 0.3338648303063745),\n",
       " (0.4320524001901337, 0.8606524038469604),\n",
       " (0.04109997598109416, 0.5309751379139265),\n",
       " (0.7370157321504252, 0.8598989017240944),\n",
       " (0.19781178243241992, 0.5006407091667007)]"
      ]
     },
     "execution_count": 1,
     "metadata": {},
     "output_type": "execute_result"
    }
   ],
   "source": [
    "import random\n",
    "\n",
    "# Let's generate random pairs with the idea of sorting them later\n",
    "random_tuples = []\n",
    "for i in range(10):\n",
    "    random_tuples.append((random.random(), random.random()))\n",
    "random_tuples"
   ]
  },
  {
   "cell_type": "code",
   "execution_count": 2,
   "id": "fc35c00b",
   "metadata": {},
   "outputs": [
    {
     "data": {
      "text/plain": [
       "[(0.04109997598109416, 0.5309751379139265),\n",
       " (0.19781178243241992, 0.5006407091667007),\n",
       " (0.3319462980217811, 0.6122175533553326),\n",
       " (0.4115981594696888, 0.07303216359869236),\n",
       " (0.4320524001901337, 0.8606524038469604),\n",
       " (0.6803113087429741, 0.3338648303063745),\n",
       " (0.7370157321504252, 0.8598989017240944),\n",
       " (0.7518127197609292, 0.6174607083975878),\n",
       " (0.7548921538601876, 0.04918301480590781),\n",
       " (0.9390360730649631, 0.24915122361369646)]"
      ]
     },
     "execution_count": 2,
     "metadata": {},
     "output_type": "execute_result"
    }
   ],
   "source": [
    "# By default tuples are sorted by considering first the first elements, then comparing the rest, i.e.\n",
    "sorted(random_tuples)"
   ]
  },
  {
   "cell_type": "code",
   "execution_count": 3,
   "id": "527c607c",
   "metadata": {},
   "outputs": [
    {
     "data": {
      "text/plain": [
       "[(0.4115981594696888, 0.07303216359869236),\n",
       " (0.04109997598109416, 0.5309751379139265),\n",
       " (0.19781178243241992, 0.5006407091667007),\n",
       " (0.3319462980217811, 0.6122175533553326),\n",
       " (0.7548921538601876, 0.04918301480590781),\n",
       " (0.6803113087429741, 0.3338648303063745),\n",
       " (0.4320524001901337, 0.8606524038469604),\n",
       " (0.9390360730649631, 0.24915122361369646),\n",
       " (0.7518127197609292, 0.6174607083975878),\n",
       " (0.7370157321504252, 0.8598989017240944)]"
      ]
     },
     "execution_count": 3,
     "metadata": {},
     "output_type": "execute_result"
    }
   ],
   "source": [
    "# Treating them as points we might want to consider their l^2 norm\n",
    "sorted(random_tuples, key=lambda t: (t[0]**2 + t[1]**2)**0.5)"
   ]
  },
  {
   "cell_type": "markdown",
   "id": "2366c107",
   "metadata": {},
   "source": [
    "Here `lambda` is a key word used for defining anonymous functions. It is followed by arguments. Above the function accepts one argument (referred to as t). The function body follows after `:`. Side note, $\\lambda$-calculus and its inventor [Alonzo Church](https://en.wikipedia.org/wiki/Alonzo_Church)"
   ]
  },
  {
   "cell_type": "markdown",
   "id": "30c83306",
   "metadata": {},
   "source": [
    "__In capturing variables beware of late binding__"
   ]
  },
  {
   "cell_type": "code",
   "execution_count": 4,
   "id": "39132835",
   "metadata": {},
   "outputs": [
    {
     "name": "stdout",
     "output_type": "stream",
     "text": [
      "4\n",
      "4\n",
      "4\n",
      "4\n",
      "4\n"
     ]
    }
   ],
   "source": [
    "# The idea is that foos[1](x) returns x+1 \n",
    "foos = [lambda x: x+n for n in range(5)]\n",
    "# But ...\n",
    "for f in foos:\n",
    "    print(f(0))"
   ]
  },
  {
   "cell_type": "markdown",
   "id": "aa8b9729",
   "metadata": {},
   "source": [
    "Definition is evaluated at runtime (then n = 4) and not at definition time"
   ]
  },
  {
   "cell_type": "code",
   "execution_count": 5,
   "id": "4e9b1d96",
   "metadata": {},
   "outputs": [
    {
     "name": "stdout",
     "output_type": "stream",
     "text": [
      "0\n",
      "1\n",
      "2\n",
      "3\n",
      "4\n"
     ]
    }
   ],
   "source": [
    "# Solution [referred to as currying]\n",
    "foos = [lambda x, n=n: x+n for n in range(5)]\n",
    "for f in foos:\n",
    "    print(f(0))"
   ]
  },
  {
   "cell_type": "markdown",
   "id": "a396f6c2",
   "metadata": {},
   "source": [
    "Anonymous functions are often used to build **iterators**. Here the idea is that we want to compute on demand and not all the answers at once."
   ]
  },
  {
   "cell_type": "code",
   "execution_count": 6,
   "id": "c0f4cd49",
   "metadata": {},
   "outputs": [
    {
     "data": {
      "text/plain": [
       "<filter at 0x7f48dc718be0>"
      ]
     },
     "execution_count": 6,
     "metadata": {},
     "output_type": "execute_result"
    }
   ],
   "source": [
    "selected = filter(lambda p: p[0] < 0.5, random_tuples)\n",
    "# Not the answers but ...\n",
    "selected"
   ]
  },
  {
   "cell_type": "code",
   "execution_count": 7,
   "id": "edf12593",
   "metadata": {},
   "outputs": [
    {
     "data": {
      "text/plain": [
       "(0.4115981594696888, 0.07303216359869236)"
      ]
     },
     "execution_count": 7,
     "metadata": {},
     "output_type": "execute_result"
    }
   ],
   "source": [
    "# Iterator needs to be forced \n",
    "next(selected)"
   ]
  },
  {
   "cell_type": "code",
   "execution_count": 8,
   "id": "b0e22868",
   "metadata": {},
   "outputs": [
    {
     "name": "stdout",
     "output_type": "stream",
     "text": [
      "(0.3319462980217811, 0.6122175533553326)\n",
      "(0.4320524001901337, 0.8606524038469604)\n",
      "(0.04109997598109416, 0.5309751379139265)\n",
      "(0.19781178243241992, 0.5006407091667007)\n"
     ]
    }
   ],
   "source": [
    "# or consumed\n",
    "for item in selected:\n",
    "    print(item)"
   ]
  },
  {
   "cell_type": "code",
   "execution_count": 9,
   "id": "3d07f4e4",
   "metadata": {},
   "outputs": [
    {
     "ename": "StopIteration",
     "evalue": "",
     "output_type": "error",
     "traceback": [
      "\u001b[0;31m---------------------------------------------------------------------------\u001b[0m",
      "\u001b[0;31mStopIteration\u001b[0m                             Traceback (most recent call last)",
      "Cell \u001b[0;32mIn [9], line 2\u001b[0m\n\u001b[1;32m      1\u001b[0m \u001b[38;5;66;03m# Note that we have now exhausted the iterator so that the following attempt to get the next item fails\u001b[39;00m\n\u001b[0;32m----> 2\u001b[0m \u001b[38;5;28;43mnext\u001b[39;49m\u001b[43m(\u001b[49m\u001b[43mselected\u001b[49m\u001b[43m)\u001b[49m\n",
      "\u001b[0;31mStopIteration\u001b[0m: "
     ]
    }
   ],
   "source": [
    "# Note that we have now exhausted the iterator so that the following attempt to get the next item fails\n",
    "next(selected)"
   ]
  },
  {
   "cell_type": "markdown",
   "id": "2938ade0",
   "metadata": {},
   "source": [
    "Iterators can be combined to build processing pipelines"
   ]
  },
  {
   "cell_type": "code",
   "execution_count": 10,
   "id": "d80c7447",
   "metadata": {},
   "outputs": [
    {
     "data": {
      "text/plain": [
       "<map at 0x7f48dc219130>"
      ]
     },
     "execution_count": 10,
     "metadata": {},
     "output_type": "execute_result"
    }
   ],
   "source": [
    " # Keep only the elements in iterable for which the function is true\n",
    "selected = filter(lambda p: p[0] < 0.5, random_tuples) \n",
    "# Apply sum function to all the elements in iterable\n",
    "processed = map(sum, selected)  \n",
    "processed"
   ]
  },
  {
   "cell_type": "markdown",
   "id": "1bd6314d",
   "metadata": {},
   "source": [
    "What is the sum of such elements ? One option is \n",
    "```python\n",
    "sum(list(processed))\n",
    "```\n",
    "Also ```sum(processed)``` would work but we want to showcase a nice module from the standard library, namely, `functools`."
   ]
  },
  {
   "cell_type": "code",
   "execution_count": 11,
   "id": "0c7c492d",
   "metadata": {},
   "outputs": [
    {
     "data": {
      "text/plain": [
       "3.9920265839767297"
      ]
     },
     "execution_count": 11,
     "metadata": {},
     "output_type": "execute_result"
    }
   ],
   "source": [
    "# Option 1) to comsume and turn into a list\n",
    "from functools import reduce\n",
    "# combine first two items of iterable to make the input \n",
    "# for next round while the other argument is the next item in iterable\n",
    "reduce(lambda x, y: x+y, processed)"
   ]
  },
  {
   "cell_type": "markdown",
   "id": "0d184672",
   "metadata": {},
   "source": [
    "**Food for thoought:**\n",
    "1. Could we use `reduce(sum, processed)` above ?\n",
    "2. What does `functools.partial` do?"
   ]
  },
  {
   "cell_type": "markdown",
   "id": "a0b44b95",
   "metadata": {},
   "source": [
    "Many useful iterators can be constucted using standard library module ``itertools``. Let's do cartesian coordinates"
   ]
  },
  {
   "cell_type": "code",
   "execution_count": 12,
   "id": "1347a81b",
   "metadata": {},
   "outputs": [
    {
     "name": "stdout",
     "output_type": "stream",
     "text": [
      "[(1, 4), (1, 5), (1, 6), (1, 7), (1, 8), (1, 9), (1, 10), (1, 11), (2, 4), (2, 5), (2, 6), (2, 7), (2, 8), (2, 9), (2, 10), (2, 11), (3, 4), (3, 5), (3, 6), (3, 7), (3, 8), (3, 9), (3, 10), (3, 11), (4, 4), (4, 5), (4, 6), (4, 7), (4, 8), (4, 9), (4, 10), (4, 11)]\n"
     ]
    }
   ],
   "source": [
    "from itertools import product\n",
    "\n",
    "x = range(1, 5)\n",
    "y = range(4, 12)\n",
    "grid = product(x, y)\n",
    "# Get them all\n",
    "print(list(grid))"
   ]
  },
  {
   "cell_type": "markdown",
   "id": "8e436d3a",
   "metadata": {},
   "source": [
    "Another example of ondemand/lazy computations are **generators**"
   ]
  },
  {
   "cell_type": "code",
   "execution_count": 13,
   "id": "c80d0239",
   "metadata": {},
   "outputs": [],
   "source": [
    "def fibs():\n",
    "    '''Generate Fibonacci numbers'''\n",
    "    a, b = 0, 1\n",
    "    while True:\n",
    "        a, b = a+b, a\n",
    "        yield a   # Yield keywors makes this function a generator\n",
    "\n",
    "numbers = fibs()"
   ]
  },
  {
   "cell_type": "code",
   "execution_count": 17,
   "id": "777d1091",
   "metadata": {},
   "outputs": [
    {
     "name": "stdout",
     "output_type": "stream",
     "text": [
      "0 987\n",
      "1 1597\n",
      "2 2584\n",
      "3 4181\n",
      "4 6765\n"
     ]
    }
   ],
   "source": [
    "# Let get first ten\n",
    "for i, num in zip(range(5), numbers):\n",
    "    print(i, num)\n",
    "# NOTE: zip - pairs iterables into tuples, terminating when one of them is exhaused [range(5) determines this above]\n",
    "# We can run this many times."
   ]
  },
  {
   "cell_type": "markdown",
   "id": "6fb83c65",
   "metadata": {},
   "source": [
    "As a final generator example consider the following definition. Can you guess what is the result?"
   ]
  },
  {
   "cell_type": "code",
   "execution_count": null,
   "id": "ade15c7b",
   "metadata": {},
   "outputs": [],
   "source": [
    "def count(n):\n",
    "    yield n\n",
    "    yield from count(n+1)  \n",
    "# numbers = count(-10)\n",
    "# for i in range(10):\n",
    "#     print(next(numbers))"
   ]
  },
  {
   "cell_type": "markdown",
   "id": "c8fe44c2",
   "metadata": {},
   "source": [
    "When we care about all results of pipeline it might be better/more explicit/readbable to use **comprehensions**. Here we consider list and dictionary comprehensions"
   ]
  },
  {
   "cell_type": "code",
   "execution_count": 20,
   "id": "93a81c5c",
   "metadata": {},
   "outputs": [
    {
     "data": {
      "text/plain": [
       "({}, True)"
      ]
     },
     "execution_count": 20,
     "metadata": {},
     "output_type": "execute_result"
    }
   ],
   "source": [
    "with open('./data/file.txt', 'r') as stream:\n",
    "    # NOTE: with invokes a context manager. We want to manage resources;\n",
    "    # here open a file and then make sure that it is correctly closed no matter what\n",
    "    # will happen during manipulation, e.g. some error \n",
    "    lines = [float(line.strip()) for i, line in enumerate(stream) if i % 2]\n",
    "    \n",
    "    # A Dictionary comprehension, create dict mapping row number to value\n",
    "    d = {i: float(line.strip()) for i, line in enumerate(stream) if i % 2}\n",
    "\n",
    "    \n",
    "    \n",
    "# To be compared with \n",
    "with open('./data/file.txt', 'r') as stream:\n",
    "    iterator = map(lambda p: float(p[1].strip()), filter(lambda p: p[0] % 2, enumerate(stream)))\n",
    "    lines_ = list(iterator)\n",
    "# Check that they are the same. We will come back to the `assert` statement shortly\n",
    "assert lines == lines_\n",
    "(d, bool(lines))"
   ]
  },
  {
   "cell_type": "markdown",
   "id": "fe669b27",
   "metadata": {},
   "source": [
    "**Food for thought:** \n",
    "1. Why is the dictionary empty while we clearly have lines as a non-empty list?\n",
    "2. What is the performance of building list by for-loop versus list comprehensions? [Consider `%%timeit` magic]"
   ]
  },
  {
   "cell_type": "code",
   "execution_count": 21,
   "id": "cb5c7366",
   "metadata": {},
   "outputs": [
    {
     "name": "stdout",
     "output_type": "stream",
     "text": [
      "318 ns ± 3.91 ns per loop (mean ± std. dev. of 7 runs, 1,000,000 loops each)\n"
     ]
    }
   ],
   "source": [
    "%%timeit\n",
    "\n",
    "def f(string):\n",
    "    return sum(map(ord, string))\n",
    "\n",
    "f('IN3110')"
   ]
  },
  {
   "cell_type": "markdown",
   "id": "7e9022cd",
   "metadata": {},
   "source": [
    "## Writting cleaner functions\n",
    "\n",
    "(Personal opinion) A good function 1) does what it is supposed to do, 2) does it quickly, 3) is user/developer friendly. Here we will focus on friendlines"
   ]
  },
  {
   "cell_type": "markdown",
   "id": "886010b0",
   "metadata": {},
   "source": [
    "Python uses so called duck-typing but we can express our intensions of the input arguments and function output by type annotations. These can be checked by `mypy` (but are not enfoced)\n",
    "\n",
    "```python\n",
    "# Following is code included in factorial.py.\n",
    "def factorial(n: int) -> int:\n",
    "    if n == 0:\n",
    "        return 1\n",
    "    return n*factorial(n-1)\n",
    "\n",
    "factorial('works?')\n",
    "```\n",
    "\n",
    "We run type analysis by\n",
    "```bash\n",
    "(in3110) mirok@evalApply:data|$ mypy factorial.py \n",
    "```"
   ]
  },
  {
   "cell_type": "markdown",
   "id": "5a141fed",
   "metadata": {},
   "source": [
    "Role of arguments should be clarified in a docstring of a function (or class). Type can be part of the docstring. We can also include tests via [doctest](https://docs.python.org/3/library/doctest.html). Documentation in the form of for example HTML pages can be generated by [shinx](https://www.sphinx-doc.org/en/master/usage/quickstart.html). The following illustates a doctring with some nonexhaustive tests. For examples of Google-style docstrings see [here](http://sphinxcontrib-napoleon.readthedocs.io/en/latest/example_google.html)\n",
    "\n",
    "```python\n",
    "# Part of factorial_doctest.py\n",
    "def factorial(n: int) -> int:\n",
    "    '''Return the factorial of n, an exact integer >= 0.\n",
    "\n",
    "    Args:\n",
    "       n (int):  n!\n",
    "\n",
    "    Returns:\n",
    "       int.  The factorial value::\n",
    "\n",
    "    >>> factorial(5)\n",
    "    120\n",
    "    >>> factorial(0)\n",
    "    1\n",
    "\n",
    "    '''\n",
    "    if n == 0:\n",
    "        return 1\n",
    "    return n*factorial(n-1)\n",
    "\n",
    "```\n",
    "To run the doctest we execute\n",
    "```bash\n",
    "(in3110) mirok@evalApply:data|$ python factorial_doctest.py -v\n",
    "```"
   ]
  },
  {
   "cell_type": "markdown",
   "id": "09ee4768",
   "metadata": {},
   "source": [
    "We will come back to testing when discussing Python package development in the next part."
   ]
  },
  {
   "cell_type": "markdown",
   "id": "84061c3c",
   "metadata": {},
   "source": [
    "Enforcing the behaviour via exceptions (and their handling). There are several predifined exception types: eg. ValueError, AssertionError, MethodError. We can also define our own type."
   ]
  },
  {
   "cell_type": "code",
   "execution_count": null,
   "id": "d5bdb196",
   "metadata": {},
   "outputs": [],
   "source": [
    "class MyError(BaseException):\n",
    "    def __init__(self, msg):\n",
    "        self.msg = msg\n",
    "        \n",
    "    def __str__(self):\n",
    "        return \"MyError occured with error message \\\"{}\\\"\".format(self.msg)"
   ]
  },
  {
   "cell_type": "code",
   "execution_count": 22,
   "id": "fb7698ed",
   "metadata": {},
   "outputs": [],
   "source": [
    "# This is contrived to illustrate the custom exceptions in action.\n",
    "\n",
    "def factorial(n: int) -> int:\n",
    "    '''Return the factorial of n, an exact integer >= 0.\n",
    "\n",
    "    Args:\n",
    "       n (int):  n!\n",
    "\n",
    "    Returns:\n",
    "       int.  The factorial value::\n",
    "\n",
    "    >>> factorial(5)\n",
    "    120\n",
    "    >>> factorial(0)\n",
    "    1\n",
    "    >>> factorial(-1)\n",
    "    Traceback (most recent call last):\n",
    "        ...\n",
    "    ValueError: Only non-negative inputs are expected\n",
    "    '''\n",
    "    # Raise AssertionError if the type is wrong\n",
    "    assert isinstance(n, int)\n",
    "    # Raise a different exception for negative integers\n",
    "    if n < 0:\n",
    "        raise ValueError('Only non-negative inputs are expected')\n",
    "        \n",
    "    if n == 42:\n",
    "        raise MyError('This is not meant to be')\n",
    "        \n",
    "    if n == 0:\n",
    "        return 1\n",
    "    return n*factorial(n-1)"
   ]
  },
  {
   "cell_type": "markdown",
   "id": "39898ca6",
   "metadata": {},
   "source": [
    "Handling the raised exceptions. There are several predifined expection types: eg. ValueError, AssertionError, MethodError. We can also define our own type."
   ]
  },
  {
   "cell_type": "code",
   "execution_count": 24,
   "id": "f2077764",
   "metadata": {},
   "outputs": [
    {
     "name": "stdout",
     "output_type": "stream",
     "text": [
      "Calling instead with 4\n"
     ]
    }
   ],
   "source": [
    "val = 3.4 #  32\n",
    "\n",
    "try:\n",
    "    f = factorial(val)\n",
    "# We will try with the integer value\n",
    "except AssertionError:\n",
    "    from math import ceil\n",
    "    n = ceil(val)\n",
    "    print(f'Calling instead with {n}')\n",
    "    f = factorial(n)\n",
    "    \n",
    "# Let's say that for negative we flip the sign\n",
    "except ValueError:\n",
    "    n = -val\n",
    "    print(f'Calling instead with {n}')\n",
    "    f = factorial(n)\n",
    "    \n",
    "except MyError as e:\n",
    "    print('42!')\n",
    "    \n",
    "finally:\n",
    "    # Sieve through here\n",
    "    pass"
   ]
  },
  {
   "cell_type": "markdown",
   "id": "fb2fe460",
   "metadata": {},
   "source": [
    "## Modifying function behavior\n",
    "By now we have written function, we have seen functions that take in functions. What we want to do now is to write functions that return __modified__ functions. In our first example we want to write a function which modifies the input function with timing information."
   ]
  },
  {
   "cell_type": "code",
   "execution_count": 25,
   "id": "5ce032e3",
   "metadata": {},
   "outputs": [],
   "source": [
    "import time\n",
    "from functools import wraps\n",
    "\n",
    "def timeit(foo):\n",
    "    '''Return exacution time'''\n",
    "    @wraps(foo)\n",
    "    def wrapper(*args, **kwargs):\n",
    "        then = time.time()\n",
    "        result = foo(*args, **kwargs)\n",
    "        now = time.time()\n",
    "        print(f'{foo.__name__} executed in {now-then} s')\n",
    "        \n",
    "        return result\n",
    "    return wrapper"
   ]
  },
  {
   "cell_type": "markdown",
   "id": "642c5381",
   "metadata": {},
   "source": [
    "Here we use the `@wraps` in order to preserve metadata of `foo` (see below). Let's write the function to be timed."
   ]
  },
  {
   "cell_type": "code",
   "execution_count": 26,
   "id": "e248fd6f",
   "metadata": {},
   "outputs": [
    {
     "name": "stdout",
     "output_type": "stream",
     "text": [
      "None\n"
     ]
    },
    {
     "data": {
      "text/plain": [
       "'one_second'"
      ]
     },
     "execution_count": 26,
     "metadata": {},
     "output_type": "execute_result"
    }
   ],
   "source": [
    "def one_second(): \n",
    "    time.sleep(1)\n",
    "    \n",
    "print(one_second())\n",
    "    \n",
    "timed = timeit(one_second)\n",
    "# As a **Food for thought** omit the @wraps decorator above and consider what happens with timed.__name__\n",
    "timed.__name__"
   ]
  },
  {
   "cell_type": "code",
   "execution_count": 27,
   "id": "213be113",
   "metadata": {},
   "outputs": [
    {
     "name": "stdout",
     "output_type": "stream",
     "text": [
      "one_second executed in 1.0011653900146484 s\n",
      "None\n"
     ]
    }
   ],
   "source": [
    "print(timed())"
   ]
  },
  {
   "cell_type": "markdown",
   "id": "74e2709c",
   "metadata": {},
   "source": [
    "A syntacting sugar for applying timeit is via `@`"
   ]
  },
  {
   "cell_type": "code",
   "execution_count": 28,
   "id": "310cce76",
   "metadata": {},
   "outputs": [
    {
     "name": "stdout",
     "output_type": "stream",
     "text": [
      "one_second executed in 1.0013813972473145 s\n",
      "None\n"
     ]
    }
   ],
   "source": [
    "@timeit\n",
    "def one_second(): \n",
    "    time.sleep(1)\n",
    "    \n",
    "print(one_second())"
   ]
  },
  {
   "cell_type": "markdown",
   "id": "4220e118",
   "metadata": {},
   "source": [
    "Memoization is a technique for caching the function's return value for given input such that it does not need to be computed again. We can test the idea with the functools.lru_cache decorator."
   ]
  },
  {
   "cell_type": "code",
   "execution_count": 29,
   "id": "c30858eb",
   "metadata": {},
   "outputs": [],
   "source": [
    "from functools import lru_cache\n",
    "\n",
    "\n",
    "def slow_factorial(n):\n",
    "    '''Factorial by recursion'''\n",
    "    if n == 0:\n",
    "        return 1\n",
    "    return n*slow_factorial(n-1)\n",
    "\n",
    "@lru_cache\n",
    "def faster_factorial(n):\n",
    "    return slow_factorial(n)"
   ]
  },
  {
   "cell_type": "markdown",
   "id": "945a591e",
   "metadata": {},
   "source": [
    "Let's see about the speed"
   ]
  },
  {
   "cell_type": "code",
   "execution_count": 30,
   "id": "e37d115d",
   "metadata": {},
   "outputs": [
    {
     "name": "stdout",
     "output_type": "stream",
     "text": [
      "825 ns ± 16.4 ns per loop (mean ± std. dev. of 7 runs, 1,000,000 loops each)\n"
     ]
    }
   ],
   "source": [
    "%timeit slow_factorial(10)"
   ]
  },
  {
   "cell_type": "code",
   "execution_count": 31,
   "id": "501bac1f",
   "metadata": {},
   "outputs": [
    {
     "name": "stdout",
     "output_type": "stream",
     "text": [
      "48.9 ns ± 0.553 ns per loop (mean ± std. dev. of 7 runs, 10,000,000 loops each)\n"
     ]
    }
   ],
   "source": [
    "%timeit faster_factorial(10)"
   ]
  },
  {
   "cell_type": "markdown",
   "id": "0bef6031",
   "metadata": {},
   "source": [
    "As an exercise let's write the cache decorator ourselves. However, unlike in `@timeit` we want to make a decorator which takes in an argument which is the cache size. Note that `@lru_cache` has this behavior too. We base our cache on a dictionary"
   ]
  },
  {
   "cell_type": "code",
   "execution_count": 32,
   "id": "d0571479",
   "metadata": {},
   "outputs": [],
   "source": [
    "class Cache(dict):\n",
    "    def __init__(self, size):\n",
    "        self.size = size\n",
    "        \n",
    "    def __setitem__(self, key, value):\n",
    "        # Make room\n",
    "        if len(self) >= self.size:\n",
    "            # Grab some key\n",
    "            key = next(iter(self))\n",
    "            # and remove the entry\n",
    "            self.pop(key)\n",
    "        # Set it via parent (dict class)\n",
    "        super().__setitem__(key, value)"
   ]
  },
  {
   "cell_type": "markdown",
   "id": "efd66d1b",
   "metadata": {},
   "source": [
    "Recall that decorator with arguments is applied as decorator(arguments)(function). That is decorator(arguments) must return a function"
   ]
  },
  {
   "cell_type": "code",
   "execution_count": 33,
   "id": "98fd80bc",
   "metadata": {},
   "outputs": [],
   "source": [
    "from functools import wraps\n",
    "\n",
    "def cache(size):\n",
    "    '''Memoize'''\n",
    "    \n",
    "    def decorate(foo):\n",
    "        memory = Cache(size)\n",
    "    \n",
    "        @wraps(foo)\n",
    "        def wrapper(*args):\n",
    "            # Lookup arguments. NOTE: here we only assumed positional arguments\n",
    "            if args in memory:\n",
    "                return memory[args]\n",
    "            # Compute and remember\n",
    "            result = foo(*args)\n",
    "            memory[args] = val\n",
    "            return result\n",
    "        return wrapper\n",
    "    return decorate\n",
    "\n",
    "@cache(10)\n",
    "def faster_factorial2(n):\n",
    "    return slow_factorial(n)"
   ]
  },
  {
   "cell_type": "code",
   "execution_count": 34,
   "id": "2d18c156",
   "metadata": {},
   "outputs": [
    {
     "name": "stdout",
     "output_type": "stream",
     "text": [
      "165 ns ± 0.0774 ns per loop (mean ± std. dev. of 7 runs, 10,000,000 loops each)\n"
     ]
    }
   ],
   "source": [
    "%timeit faster_factorial2(10)"
   ]
  },
  {
   "cell_type": "markdown",
   "id": "012be29f",
   "metadata": {},
   "source": [
    "Some other useful decorators are `@property` in class definitions."
   ]
  },
  {
   "cell_type": "code",
   "execution_count": 35,
   "id": "9e630ea3",
   "metadata": {},
   "outputs": [
    {
     "data": {
      "text/plain": [
       "('Miro', 'Jawaharl')"
      ]
     },
     "execution_count": 35,
     "metadata": {},
     "output_type": "execute_result"
    }
   ],
   "source": [
    "class UnixName:\n",
    "    '''Max 8 characters'''\n",
    "    def __init__(self, name):\n",
    "        self.name = name  # NOTE: here were're calling the setter\n",
    " \n",
    "    # Get\n",
    "    @property\n",
    "    def name(self):\n",
    "        return self._name\n",
    " \n",
    "    # Set\n",
    "    @name.setter\n",
    "    def name(self, name):\n",
    "        if len(name) > 8:\n",
    "            name = name[:8]\n",
    "        self._name = name\n",
    "\n",
    "(UnixName('Miro').name, UnixName('Jawaharlal').name)"
   ]
  },
  {
   "cell_type": "code",
   "execution_count": null,
   "id": "106ebcfb",
   "metadata": {},
   "outputs": [],
   "source": []
  }
 ],
 "metadata": {
  "kernelspec": {
   "display_name": "Python 3 (ipykernel)",
   "language": "python",
   "name": "python3"
  },
  "language_info": {
   "codemirror_mode": {
    "name": "ipython",
    "version": 3
   },
   "file_extension": ".py",
   "mimetype": "text/x-python",
   "name": "python",
   "nbconvert_exporter": "python",
   "pygments_lexer": "ipython3",
   "version": "3.8.13"
  }
 },
 "nbformat": 4,
 "nbformat_minor": 5
}
