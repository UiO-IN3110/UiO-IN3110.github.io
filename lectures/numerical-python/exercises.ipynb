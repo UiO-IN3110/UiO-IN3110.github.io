{
 "cells": [
  {
   "cell_type": "markdown",
   "metadata": {},
   "source": [
    "# NumPy Exercises"
   ]
  },
  {
   "cell_type": "code",
   "execution_count": null,
   "metadata": {},
   "outputs": [],
   "source": [
    "import numpy as np"
   ]
  },
  {
   "cell_type": "code",
   "execution_count": null,
   "metadata": {},
   "outputs": [],
   "source": [
    "np.zeros(3, dtype=int)"
   ]
  },
  {
   "cell_type": "code",
   "execution_count": null,
   "metadata": {},
   "outputs": [],
   "source": [
    "np.ones((2, 3))"
   ]
  },
  {
   "cell_type": "code",
   "execution_count": null,
   "metadata": {},
   "outputs": [],
   "source": [
    "np.empty((3, 2, 3), dtype=float)"
   ]
  },
  {
   "cell_type": "markdown",
   "metadata": {},
   "source": [
    "## Exercise 1\n",
    "\n",
    "Create a 3D array of integers, 2 x 2 x 3, filled with the number 10"
   ]
  },
  {
   "cell_type": "code",
   "execution_count": null,
   "metadata": {},
   "outputs": [],
   "source": [
    "A = ..."
   ]
  },
  {
   "cell_type": "markdown",
   "metadata": {},
   "source": [
    "## Exercise 2\n",
    "\n",
    "Create a 2D array of integers, 5 x 6, where each item is the product of its row and column:\n",
    "\n",
    "$$\n",
    "A_{i, j} = i \\cdot j ; \\text{where } i \\in [1,5], j \\in [1,6]\n",
    "$$"
   ]
  },
  {
   "cell_type": "code",
   "execution_count": null,
   "metadata": {},
   "outputs": [],
   "source": [
    "A = ..."
   ]
  },
  {
   "cell_type": "markdown",
   "metadata": {},
   "source": [
    "Suggestion: Use for example np.ndindex \n",
    "\n",
    "Write help(np.ndindex) to see its docstring."
   ]
  },
  {
   "cell_type": "markdown",
   "metadata": {},
   "source": [
    "## Exercise 3\n",
    "\n",
    "Make a square wave $u^0$:\n",
    "\n",
    "- length = 64\n",
    "- where every 8 elements is either 0 or 1\n",
    "\n",
    "![squarewave](squarewave.png)\n",
    "\n",
    "\n",
    "Bonus: 2D!\n",
    "\n",
    "- 64 x 64, floats\n",
    "- where every 8 rows and columns is either 1 or 0"
   ]
  },
  {
   "cell_type": "code",
   "execution_count": null,
   "metadata": {},
   "outputs": [],
   "source": [
    "%matplotlib inline\n",
    "import matplotlib.pyplot as plt"
   ]
  },
  {
   "cell_type": "code",
   "execution_count": null,
   "metadata": {},
   "outputs": [],
   "source": [
    "u0 = ..."
   ]
  },
  {
   "cell_type": "markdown",
   "metadata": {},
   "source": [
    "## Physics!\n",
    "\n",
    "The heat equation is often used for blurring:\n",
    "\n",
    "\\begin{align}\n",
    "\\frac{\\partial u}{\\partial t} &= - \\frac{\\partial^2 u}{\\partial x^2} &&\\quad \\text{  for  } x \\in I, \\, t \\in T.\n",
    "\\end{align}\n",
    "\n",
    "We use our square wave as initial solution:\n",
    "$$\n",
    "u = u^0(x) \\quad  \\text{ at } t=0,\n",
    "$$\n",
    "and fix the value of $u$ at the left and right endpoints:\n",
    "\\begin{align}\n",
    "u &= 1  &&\\quad  \\text{ at } x=0, \\\\ \n",
    "u &= 0  &&\\quad  \\text{ at } x=N.\\\\\n",
    "\\end{align}\n",
    "\n",
    "Take $I = (0, N)$ and $T = (0,M)$.\n",
    "\n",
    "We now $discretize$ the heat equation as follows\n",
    "$$\n",
    "\\begin{align}\n",
    "u_i^{n+1} & = u_i^{n} + \\frac{1}{4} \\left( u_{i-1}^n - 2 u_{i}^n + u_{i+1}^n \\right) ; i \\in [1,N-1] \\\\\n",
    "u_0^{n+1} & = u_0^n \\\\\n",
    "u_N^{n+1} & = u_N^n\n",
    "\\end{align}\n",
    "$$\n",
    "where $u_i^n$ means $u$ at $x_i=i$ and $t=n$"
   ]
  },
  {
   "cell_type": "markdown",
   "metadata": {},
   "source": [
    "## Exercise 4:\n",
    "Implement a number of steps of the heat equation."
   ]
  },
  {
   "cell_type": "code",
   "execution_count": null,
   "metadata": {},
   "outputs": [],
   "source": [
    "def heat(u0, time_steps=1):\n",
    "    \n",
    "    u_n = u0 # u_n is the solution at the previous time step\n",
    "             # we initialize it as u0\n",
    "    \n",
    "    for i in range(time_steps):\n",
    "        \n",
    "        # Apply our discretization!\n",
    "        u_n1[...] = ....\n",
    "        \n",
    "        # Assign u_n1 as previous solution\n",
    "        # and proceed to next time step\n",
    "        u_n = u_n1\n",
    "    return u_n1\n",
    "\n",
    "# Plot the solution\n",
    "x = range(64)\n",
    "plt.plot(x, u, label=\"square\")\n",
    "plt.plot(x, heat(u), label=\"heat(1)\")\n",
    "plt.plot(x, heat(u, 10), label=\"heat(10)\")\n",
    "plt.plot(x, heat(u, 50), label=\"heat(50)\")\n",
    "plt.legend(loc=0)"
   ]
  },
  {
   "cell_type": "markdown",
   "metadata": {},
   "source": [
    "Suggestions: \n",
    "- Use a for loop to iterate through range(N).\n",
    "You can then access elements to the left as u_n[i-1] and to the right as u_n[i+1]\n",
    "- Splice the arrays together.\n",
    "For example, u_n[1:-1] will return all elements of u_n except the left and right endpoints\n",
    "\n",
    "## Exercise 4 bonus:\n",
    "In two dimensions, the stencil reads\n",
    "$$\n",
    "\\begin{align}\n",
    "u_{i,j}^{n+1} & = u_{i,j}^{n} + \\frac{1}{4} \\left( u_{i-1,j} + u_{i,j-1} - 4 u_{i,j} + u_{i+1,j} + u_{i,j+1} \\right) ; i,j \\in [1,N-1] \\\\\n",
    "u_{0,j}^{n+1} & = u_{0,j}^n \\\\\n",
    "u_{N,j}^{n+1} & = u_{N,j}^n \\\\\n",
    "u_{i,0}^{n+1} & = u_{i,0}^n \\\\\n",
    "u_{i,N}^{n+1} & = u_{i,N}^n\n",
    "\\end{align}\n",
    "$$\n",
    "\n",
    "Implement the discretized heat equation in 2D.\n"
   ]
  },
  {
   "cell_type": "code",
   "execution_count": null,
   "metadata": {},
   "outputs": [],
   "source": []
  },
  {
   "cell_type": "markdown",
   "metadata": {},
   "source": [
    "## Break??\n",
    "\n",
    "## Exercise 5\n",
    "\n",
    "The dot product $u \\cdot v$ for vectors is defined as the **cumulative sum** of the **elementwise product** of $u$ and $v$:\n",
    "\n",
    "$$\n",
    "u \\cdot v = \\sum_{i=0}^N u_i v_i\n",
    "$$\n",
    "\n",
    "Part 1: implement the dot product for any two Python iterables"
   ]
  },
  {
   "cell_type": "code",
   "execution_count": null,
   "metadata": {},
   "outputs": [],
   "source": [
    "def dot(u, v):\n",
    "    result = 0\n",
    "\n",
    "    ...\n",
    "\n",
    "    return result"
   ]
  },
  {
   "cell_type": "code",
   "execution_count": null,
   "metadata": {},
   "outputs": [],
   "source": [
    "N = 100\n",
    "u = np.arange(N)\n",
    "v = np.arange(N)\n",
    "\n",
    "dot(u, v)"
   ]
  },
  {
   "cell_type": "markdown",
   "metadata": {},
   "source": [
    "Part 2: Measure how long it takes to call your function for iterables of sizes 1000 - 1,000,000\n",
    "\n",
    "Suggestion: Use tic and toc as below"
   ]
  },
  {
   "cell_type": "code",
   "execution_count": null,
   "metadata": {},
   "outputs": [],
   "source": [
    "import time\n",
    "\n",
    "tic = time.perf_counter()\n",
    "time.sleep(0.1)\n",
    "toc = time.perf_counter()\n",
    "duration = toc - tic\n",
    "print(f\"sleep(0.1) took {duration:.4f}s\")"
   ]
  },
  {
   "cell_type": "code",
   "execution_count": null,
   "metadata": {},
   "outputs": [],
   "source": [
    "for N in [1000, 10_000, 100_000, 1_000_000]:\n",
    "    ...\n",
    "\n",
    "    r = dot(u, v)\n",
    "\n",
    "    ...\n",
    "\n",
    "    print(f\"N={N:8}, {1000 * (toc-tic):8.2f}ms\")"
   ]
  },
  {
   "cell_type": "markdown",
   "metadata": {},
   "source": [
    "Numpy has its own builtin dot function:"
   ]
  },
  {
   "cell_type": "code",
   "execution_count": null,
   "metadata": {},
   "outputs": [],
   "source": [
    "np.dot(u, v)"
   ]
  },
  {
   "cell_type": "markdown",
   "metadata": {},
   "source": [
    "This is also called via the matrix multiplication operator `@`:"
   ]
  },
  {
   "cell_type": "code",
   "execution_count": null,
   "metadata": {},
   "outputs": [],
   "source": [
    "u @ v"
   ]
  },
  {
   "cell_type": "markdown",
   "metadata": {},
   "source": [
    "How does numpy's dot function perform?"
   ]
  },
  {
   "cell_type": "code",
   "execution_count": null,
   "metadata": {},
   "outputs": [],
   "source": [
    "for N in [1000, 10_000, 100_000, 1_000_000]:\n",
    "    ...\n",
    "    u = np.arange(N)\n",
    "    v = np.arange(N)\n",
    "    r = np.dot(u, v)\n",
    "    ...\n",
    "    print(f\"N={N:8}, {1000 * (toc-tic):8.2f}ms\")"
   ]
  },
  {
   "cell_type": "markdown",
   "metadata": {},
   "source": [
    "# Plotting"
   ]
  },
  {
   "cell_type": "code",
   "execution_count": null,
   "metadata": {},
   "outputs": [],
   "source": [
    "%matplotlib inline\n",
    "import matplotlib.pyplot as plt"
   ]
  },
  {
   "cell_type": "markdown",
   "metadata": {},
   "source": [
    "For basic plots, `plt.plot` takes an `x` list or array and a `y` list or array\n",
    "and plots them on a linear scale:"
   ]
  },
  {
   "cell_type": "markdown",
   "metadata": {},
   "source": [
    "For certain kinds of data, a linear scale isn't a great fit:"
   ]
  },
  {
   "cell_type": "code",
   "execution_count": null,
   "metadata": {},
   "outputs": [],
   "source": [
    "x = [1, 10, 100, 1_000, 10_000, 100_000]\n",
    "x_squared = np.array(x) ** 2\n",
    "\n",
    "plt.subplot(1, 2, 1)\n",
    "plt.plot(x, x_squared, \"-o\")\n",
    "plt.title(\"  x^2 with linear plot\")\n",
    "\n",
    "plt.subplot(1, 2, 2)\n",
    "plt.loglog(x, x_squared, \"-o\")\n",
    "plt.title(\"  x^2 with loglog plot\")"
   ]
  },
  {
   "cell_type": "markdown",
   "metadata": {},
   "source": [
    "The slope on a linear scale is $\\frac{y}{x}$.\n",
    "The slope on a *log-log* scale is $\\frac{log(y)}{log(x)}$.\n",
    "\n",
    "$$\n",
    "\\begin{align}\n",
    "y &=  x ^ 2 \\\\\n",
    "\\frac{y}{x} & = x \\\\\n",
    "log(y) & = log(x^2) =  2 log(x) \\\\\n",
    "\\frac{log(y)}{log(x)} &= 2  \\text{ (log-log slope) }\n",
    "\\end{align}\n",
    "$$"
   ]
  },
  {
   "cell_type": "markdown",
   "metadata": {},
   "source": [
    "# Exercise 6\n",
    "\n",
    "collect timings for your dot product and numpy's dot for a range of lengths up to $\\sim10^6$,\n",
    "and plot:\n",
    "\n",
    "1. a separate line for each implementation on one plot, and\n",
    "2. a single line showing numpy performance *relative* to yours\n",
    "\n",
    "Think about what axis scale is most appropriate for your data"
   ]
  },
  {
   "cell_type": "code",
   "execution_count": null,
   "metadata": {},
   "outputs": [],
   "source": [
    "my_times = []\n",
    "numpy_times = []\n",
    "relative_performance = []\n",
    "\n",
    "Ns = [1000, 10_000, 100_000, 1_000_000]\n",
    "\n",
    "for N in Ns:\n",
    "    u = np.arange(N)\n",
    "    v = np.arange(N)\n",
    "\n",
    "    ...\n",
    "\n",
    "plt.loglog(Ns, numpy_times, label=\"np\")\n",
    "plt.loglog(Ns, my_times, label=\"mine\")\n",
    "plt.legend()\n",
    "plt.xlabel(\"N\")\n",
    "plt.ylabel(\"time\")"
   ]
  }
 ],
 "metadata": {
  "kernelspec": {
   "display_name": "Python 3 (ipykernel)",
   "language": "python",
   "name": "python3"
  },
  "language_info": {
   "codemirror_mode": {
    "name": "ipython",
    "version": 3
   },
   "file_extension": ".py",
   "mimetype": "text/x-python",
   "name": "python",
   "nbconvert_exporter": "python",
   "pygments_lexer": "ipython3",
   "version": "3.11.4"
  },
  "widgets": {
   "application/vnd.jupyter.widget-state+json": {
    "state": {},
    "version_major": 2,
    "version_minor": 0
   }
  }
 },
 "nbformat": 4,
 "nbformat_minor": 4
}
