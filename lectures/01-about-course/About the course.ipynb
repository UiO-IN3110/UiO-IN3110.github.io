{
 "cells": [
  {
   "cell_type": "markdown",
   "metadata": {
    "slideshow": {
     "slide_type": "slide"
    }
   },
   "source": [
    "# IN3110/IN4110: Problem solving with higher level programming\n",
    "<center>\n",
    "<img src=\"https://imgs.xkcd.com/comics/python.png\" style=\"width: 400px;\"/>\n",
    "    </center>"
   ]
  },
  {
   "cell_type": "markdown",
   "metadata": {
    "slideshow": {
     "slide_type": "slide"
    }
   },
   "source": [
    "# The team behind this course"
   ]
  },
  {
   "cell_type": "markdown",
   "metadata": {
    "slideshow": {
     "slide_type": "subslide"
    }
   },
   "source": [
    "<h3>Lecturers</h3>\n",
    "<center>\n",
    "<figure style=\"float:left;\">\n",
    "    <img src=\"figs/ingeborg.jpg\" style=\"width:200px;\"/>\n",
    "    <figcaption>Ingeborg Gjerde</figcaption>\n",
    "</figure>\n",
    "<figure style=\"float:left;\">\n",
    "    <img src=\"figs/min.jpg\" style=\"width:200px;\"/>\n",
    "    <figcaption>Min Ragan-Kelley</figcaption>\n",
    "</figure> \n",
    "\n",
    "<figure style=\"float:left;\">\n",
    "    <img src=\"figs/vegard.jpg\" style=\"width:200px;\"/>\n",
    "    <figcaption>Vegard Vinje</figcaption>\n",
    "</figure>\n",
    "\n",
    "</center>"
   ]
  },
  {
   "cell_type": "markdown",
   "metadata": {
    "slideshow": {
     "slide_type": "subslide"
    }
   },
   "source": [
    "<br style=\"clear:both\" />\n",
    "\n",
    "<h3>Exercises and assignments</h3>\n",
    "<center>\n",
    "<figure style=\"float:left;\">\n",
    "    <img src=\"figs/pankewitz.jpg\" style=\"width:200px;\"/>\n",
    "    <figcaption>Lisa Pankewitz</figcaption>\n",
    "</figure>\n",
    "</center>\n",
    "   \n",
    "<br style=\"clear:both\" />   \n",
    "    \n",
    "<h3>Group sessions</h3>    \n",
    "\n",
    "Several teaching assistants and assignment correctors\n",
    "\n",
    "Do you have an idea how to make this course better? Contact us!"
   ]
  },
  {
   "cell_type": "markdown",
   "metadata": {
    "slideshow": {
     "slide_type": "subslide"
    }
   },
   "source": [
    "## What we use higher level languages for...\n",
    "\n",
    "* creating efficient working (or problem solving) environments\n",
    "* developing large-scale simulation software\n",
    "* making flexible and user-friendly software\n",
    "* we mostly use the Bash and Python languages\n",
    "\n",
    "<video controls src=\"figs/aneurysm.mp4\"  style=\"width: 600px;\"/>\n",
    "Video credit: Simulation of blood flow through an aneurysms (Kristian Valen-Sendstad et al)\n"
   ]
  },
  {
   "cell_type": "markdown",
   "metadata": {
    "slideshow": {
     "slide_type": "subslide"
    }
   },
   "source": [
    "## What we use higher level languages for...\n",
    "\n",
    "<center>\n",
    "<img src=\"https://i0.wp.com/softwareengineeringdaily.com/wp-content/uploads/2018/07/gravitational-waves-jupyter-notebook.png?fit=1256%2C898&ssl=1\" style=\"width:600px;\"/>\n",
    "<figcaption>Jupyter Notebook</figcaption>\n",
    "    </center>\n",
    "\n"
   ]
  },
  {
   "cell_type": "markdown",
   "metadata": {
    "slideshow": {
     "slide_type": "slide"
    }
   },
   "source": [
    "<center><h1>What will you learn</h1></center>"
   ]
  },
  {
   "cell_type": "markdown",
   "metadata": {
    "slideshow": {
     "slide_type": "subslide"
    }
   },
   "source": [
    "## This course teaches you the tools to become an effective programmer\n",
    "\n",
    "  * **Problem**: you are not an expert (yet).\n",
    "      * Where to find detailed info, and how to understand it?\n",
    "      * How to program in a team?\n",
    "  * The **effective programmer**:\n",
    "      * navigates quickly in the jungle of README files, source code examples, web sites, ... and develops intuition for what to look for. \n",
    "      * knows the tools and best practices for collaborative programming.\n",
    "  * The **aim of the course** is to improve your practical problem-solving abilities.\n",
    " "
   ]
  },
  {
   "cell_type": "markdown",
   "metadata": {
    "slideshow": {
     "slide_type": "subslide"
    }
   },
   "source": [
    "## This course teaches you how to become a practical problem solver\n",
    "\n",
    "  * Scripting in general, but with most examples taken from scientific computing\n",
    "  * Find examples, online documentation and textbooks on demand\n",
    "  * Learn by doing  \n",
    "  * Write robust, well-documented, and fast code \n",
    "  * Provide feedback and learn from fellow student's implementations  \n",
    "  * **Have fun and work with useful things**"
   ]
  },
  {
   "cell_type": "markdown",
   "metadata": {
    "slideshow": {
     "slide_type": "subslide"
    }
   },
   "source": [
    "## An outlook of the first lectures \n",
    "\n",
    "  * Today: The **Git** version control system\n",
    "  * Next week: **Bash** programming and text editors\n",
    "  * Week 3 and 4: Basic and advanced **Python** \n",
    "  * ..."
   ]
  },
  {
   "cell_type": "markdown",
   "metadata": {
    "slideshow": {
     "slide_type": "subslide"
    }
   },
   "source": [
    "## Required background (1): Programming\n",
    "\n",
    "* Wide range of backgrounds with respect to Python and general programming experience.\n",
    "* Some Python programming knowledge is expected for IN3110/IN4110.\n",
    "* Two Python lectures will introduces (basic and advanced) Python features. "
   ]
  },
  {
   "cell_type": "markdown",
   "metadata": {
    "slideshow": {
     "slide_type": "subslide"
    }
   },
   "source": [
    "## Required background (2): Mathematics\n",
    "\n",
    "* Very little mathematics is needed to complete the course.\n",
    "* Basic knowledge will make life easier:\n",
    "  * General functions, such as $f(x) = ax +b$, and how they are turned into computer code.\n",
    "  * Standard mathematical functions such as $\\sin(x),\\cos(x)$ and exponential functions.\n",
    "  * Simple matrix-vector operations.\n",
    "* A learn-on-demand strategy should work fine, as long as you do not panic at the sight of a mathematical expression."
   ]
  },
  {
   "cell_type": "markdown",
   "metadata": {
    "slideshow": {
     "slide_type": "slide"
    }
   },
   "source": [
    "<center><h1>Course organisation</h1></center>\n",
    "\n",
    "\n"
   ]
  },
  {
   "cell_type": "markdown",
   "metadata": {
    "slideshow": {
     "slide_type": "subslide"
    }
   },
   "source": [
    "## Lectures: \"flipped classroom\" \n",
    "\n",
    "* **by Monday**: A new topic is introduced (15-30min of video(s) on YouTube). \n",
    "* **Wednesday**: We demo the topic and answer questions (interactive Zoom lecture). \n",
    "\n",
    "All lectures are recorded (see [course website][]) and pre-recorded videos on our [YouTube channel][], specificaly the [Fall 2021 playlist][] will be updated with videos for this semester. Each pre-recorded video will have a link to the lecture notes (tekstalternative) from this repo. Recordings of live lectures may only be available from the course website.\n",
    "Videos from last year can be found on YouTube as well. Relevant literature will be presented before every lecture. You must find the rest: manuals, textbooks, google, etc.\n",
    "\n",
    "[course website]: https://www.uio.no/studier/emner/matnat/ifi/IN3110/h21\n",
    "[YouTube channel]: https://youtube.com/channel/UCpOB3OcVNTqnIiXcageiv_A\n",
    "[Fall 2021 playlist]: https://www.youtube.com/playlist?list=PL9youHjz4_yyQ6uCWQ5Jibkam6az9CMzp\n",
    "\n"
   ]
  },
  {
   "cell_type": "markdown",
   "metadata": {
    "slideshow": {
     "slide_type": "subslide"
    }
   },
   "source": [
    "## Group sessions and assignments (1)\n",
    "\n",
    "* Two types of assignments:\n",
    "    1. Mandatory assignments (homework)\n",
    "    2. Group session exercises (optional)\n",
    "* Assignments, excercises and deadlines are published on the [course webpage](https://www.uio.no/studier/emner/matnat/ifi/IN3110/h21/oppgaver.html).\n",
    "* First assignment  published by Friday, deadline next Friday.\n",
    "\n",
    "\n",
    "**Groups sessions and exercises are the core of the course: problem solving is in focus**."
   ]
  },
  {
   "cell_type": "markdown",
   "metadata": {
    "slideshow": {
     "slide_type": "subslide"
    }
   },
   "source": [
    "## Group classes and assignments (2)\n",
    "\n",
    "__Mandatory assignments:__\n",
    "\n",
    "* Mix of short (1 week) and large (3 week) assignments.\n",
    "* Large assignments are followd by a peer review phase (1 week).\n",
    "* **Must be solved individually**.\n",
    "* **Give points towards passing the course.**\n",
    "  \n",
    "__Group sessions:__\n",
    "\n",
    "* Can be used to work on exercises or on mandatory assignment.\n",
    "* No strict requirement to show up in group classes, but useful to ask questions and discuss solutions. "
   ]
  },
  {
   "cell_type": "markdown",
   "metadata": {
    "slideshow": {
     "slide_type": "subslide"
    }
   },
   "source": [
    "## How to pass the course\n",
    "\n",
    "* **Pass/fail** course (no exam, no grades).\n",
    "* Mandatory assignments and peer-review give points towards passing the course.\n",
    "* **IN3110**: Max 152 points (plus potentially bonus points). Pass criteria: >=122 points.\n",
    "* **IN4110**: Max 185 points (plus potentially bonus points). Pass criteria: >=154 points.\n",
    "  \n",
    "There is no other difference between IN3110 and IN4110."
   ]
  },
  {
   "cell_type": "markdown",
   "metadata": {
    "slideshow": {
     "slide_type": "subslide"
    }
   },
   "source": [
    "\n",
    "## Mandatory assignments are handed in using github.uio.no\n",
    "\n",
    "  * Login to [github.uio.no](http://www.github.uio.no) **before Friday** with your UiO username and password. This automatically creates your account.\n",
    "  * We established a **github organization called IN3110**.\n",
    "  * Over the weekend you should receive an **invitation** to join this organisation.\n",
    "  * There, you find your **personal git repository IN3110-username** (same name for IN4110 students) where you need to upload the assignment solutions."
   ]
  },
  {
   "cell_type": "markdown",
   "metadata": {
    "slideshow": {
     "slide_type": "subslide"
    }
   },
   "source": [
    "## Software for this course\n",
    "\n",
    "* Git (see https://git-scm.com)\n",
    "* Bash\n",
    "* Python 3 \n",
    "* C (GCC)\n",
    "* Various Python packages\n",
    "    \n",
    "See the course website for installation instructions.\n",
    "\n",
    "Important: **For compatibility reasons, it is recommended to test your assignment solutions on an IfI machine**"
   ]
  },
  {
   "cell_type": "markdown",
   "metadata": {
    "slideshow": {
     "slide_type": "subslide"
    }
   },
   "source": [
    "## We will use Campuswire as a knowledge platform\n",
    "\n",
    "Campuswire page: https://campuswire.com/c/G3555DA99\n",
    "\n",
    "Platform to ask and answer questions. Will also be used to announce course updates. \n",
    "<center><img src=\"figs/campuswire.png\" style=\"width: 80%;\"/>  </center>"
   ]
  },
  {
   "cell_type": "markdown",
   "metadata": {
    "slideshow": {
     "slide_type": "subslide"
    }
   },
   "source": [
    "## Why has the course been organized like this?\n",
    "\n",
    "  * \"Problem solving\" is best learnt by solving a large number of problems.\n",
    "  * With limited resources, this is the only way we can maintain the large number of mandatory assignments.\n",
    "  * You learn from reading and inspecting each other's code.\n",
    "  * **Goal**: more flexible implementation, but which still allows a high volume of programming exercises.\n"
   ]
  },
  {
   "cell_type": "markdown",
   "metadata": {
    "slideshow": {
     "slide_type": "subslide"
    }
   },
   "source": [
    "## Things to do in the first week\n",
    "\n",
    "  1. Subscribe to our [YouTube channel](https://youtube.com/channel/UCpOB3OcVNTqnIiXcageiv_A) to get notified for new lectures, and watch the first video on git.\n",
    "  2. Get your private git repo as described before.\n",
    "  3. Sign up to [Campuswire](https://campuswire.com/c/G3555DA99). \n",
    "  4. Solve the [first assignment](http://www.uio.no/studier/emner/matnat/ifi/IN3110/h21/oppgaver.html).\n",
    "  5. If you want, join the group sessions from next week."
   ]
  }
 ],
 "metadata": {
  "celltoolbar": "Slideshow",
  "kernelspec": {
   "display_name": "Python 3",
   "language": "python",
   "name": "python3"
  },
  "language_info": {
   "codemirror_mode": {
    "name": "ipython",
    "version": 3
   },
   "file_extension": ".py",
   "mimetype": "text/x-python",
   "name": "python",
   "nbconvert_exporter": "python",
   "pygments_lexer": "ipython3",
   "version": "3.6.9"
  },
  "livereveal": {
   "scroll": true,
   "start_slideshow_at": "selected",
   "theme": "serif"
  },
  "widgets": {
   "application/vnd.jupyter.widget-state+json": {
    "state": {},
    "version_major": 2,
    "version_minor": 0
   }
  }
 },
 "nbformat": 4,
 "nbformat_minor": 4
}
