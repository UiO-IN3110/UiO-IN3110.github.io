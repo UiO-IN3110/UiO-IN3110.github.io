{
 "cells": [
  {
   "cell_type": "markdown",
   "metadata": {
    "editable": true,
    "slideshow": {
     "slide_type": ""
    },
    "tags": []
   },
   "source": [
    "# Sphinx API documentation\n",
    "\n",
    "[Sphinx](https://www.sphinx-doc.org) is a powerful documentation tool, based on [reStructuredText](https://www.sphinx-doc.org/en/3.x/usage/restructuredtext/basics.html).\n",
    "\n",
    "If you are more comfortable with markdown, you can use [MyST](https://myst-parser.readthedocs.io)\n"
   ]
  },
  {
   "cell_type": "code",
   "execution_count": 1,
   "metadata": {
    "editable": true,
    "slideshow": {
     "slide_type": ""
    },
    "tags": [],
    "vscode": {
     "languageId": "shellscript"
    }
   },
   "outputs": [
    {
     "name": "stdout",
     "output_type": "stream",
     "text": [
      "env-1                   pipfile       pip-tools         sphinx-docs.ipynb\n",
      "environments.ipynb      Pipfile       requirements.txt\n",
      "from-script-to-project  Pipfile.lock  sphinx-docs\n"
     ]
    }
   ],
   "source": [
    "ls"
   ]
  },
  {
   "cell_type": "code",
   "execution_count": 2,
   "metadata": {
    "editable": true,
    "slideshow": {
     "slide_type": ""
    },
    "tags": [],
    "vscode": {
     "languageId": "shellscript"
    }
   },
   "outputs": [],
   "source": [
    "cd sphinx-docs"
   ]
  },
  {
   "cell_type": "code",
   "execution_count": 3,
   "metadata": {
    "editable": true,
    "slideshow": {
     "slide_type": ""
    },
    "tags": [],
    "vscode": {
     "languageId": "shellscript"
    }
   },
   "outputs": [
    {
     "name": "stdout",
     "output_type": "stream",
     "text": [
      "docs  docs-2023  docs-done  package_to_document  __pycache__\n"
     ]
    }
   ],
   "source": [
    "ls"
   ]
  },
  {
   "cell_type": "markdown",
   "metadata": {
    "editable": true,
    "slideshow": {
     "slide_type": ""
    },
    "tags": []
   },
   "source": [
    "We can initialize our docs with the command:\n",
    "\n",
    "    sphinx-quickstart\n",
    "\n",
    "which will prompt with a few questions to set up the docs directory.\n",
    "\n",
    "There are two key files created (and several more):\n",
    "\n",
    "1. `conf.py` - the sphinx configuration file\n",
    "2. `index.rst` the first page of our documentation. This is the landing page for our docs\n",
    "\n",
    "Let's start by checking out the docs:\n",
    "\n",
    "    make html\n",
    "\n",
    "in the docs directory, then open `_build/index.html`\n"
   ]
  },
  {
   "cell_type": "markdown",
   "metadata": {},
   "source": [
    "The first thing we are going to do is add the [autodoc](https://www.sphinx-doc.org/en/master/usage/extensions/autodoc.html) extension.\n",
    "`autodoc` is an extension that defines **directives** (commands) for automatically documenting your code.\n",
    "\n",
    "We add this extension to the `conf.py` file\n",
    "\n",
    "```python\n",
    "extensions = [\n",
    "    \"sphinx.ext.autodoc\",\n",
    "]\n",
    "```\n",
    "\n",
    "Our module `myarray` defines an `Array` class and an `asarray` function. We want to docment these.\n",
    "Since we went through the trouble of adding docstrings, it would be nice to import those into our docs! That's what autodoc is for.\n",
    "\n",
    "Inspecting our module and class, we can see their docstrings:\n"
   ]
  },
  {
   "cell_type": "code",
   "execution_count": 4,
   "metadata": {
    "vscode": {
     "languageId": "shellscript"
    }
   },
   "outputs": [
    {
     "name": "stdout",
     "output_type": "stream",
     "text": [
      "(UIO-IN3110) \n",
      "Help on package myarray:\n",
      "\n",
      "NAME\n",
      "    myarray\n",
      "\n",
      "PACKAGE CONTENTS\n",
      "    myarray\n",
      "\n",
      "CLASSES\n",
      "    builtins.object\n",
      "        myarray.myarray.Array\n",
      "    \n",
      "    class Array(builtins.object)\n",
      "     |  Array(shape, *values)\n",
      "     |  \n",
      "     |  A class defining an API for arrays\n",
      "     |  \n",
      "     |  Methods defined here:\n",
      "     |  \n",
      "     |  __add__(self, other)\n",
      "     |      Element-wise adds Array with another Array or number.\n",
      "     |      \n",
      "     |      If the method does not support the operation with the supplied arguments\n",
      "     |      (specific data type or shape), it should return NotImplemented.\n",
      "     |      \n",
      "     |      Args:\n",
      "     |          other (Array, float, int): The array or number to add element-wise to this array.\n",
      "     |      \n",
      "     |      Returns:\n",
      "     |          Array: the sum as a new array.\n",
      "     |  \n",
      "     |  __eq__(self, other)\n",
      "     |      Compares an Array with another Array.\n",
      "     |      \n",
      "     |      If the two array shapes do not match, it should return False.\n",
      "     |      If `other` is an unexpected type, return False.\n",
      "     |      \n",
      "     |      Args:\n",
      "     |          other (Array): The array to compare with this array.\n",
      "     |      \n",
      "     |      Returns:\n",
      "     |          bool: True if the two arrays are equal. False otherwise.\n",
      "     |  \n",
      "     |  __init__(self, shape, *values)\n",
      "     |      Make sure that you check that your array actually is an array, which means it is homogeneous (one data type).\n",
      "     |      \n",
      "     |      Args:\n",
      "     |          shape (tuple): shape of the array as a tuple. A 1D array with n elements will have shape = (n,).\n",
      "     |          values: The values in the array. These should all be the same data type. Either numeric or boolean.\n",
      "     |      \n",
      "     |      Raises:\n",
      "     |          ValueError: If the values are not all of the same type.\n",
      "     |          ValueError: If the number of values does not fit with the shape.\n",
      "     |  \n",
      "     |  __mul__(self, other)\n",
      "     |      Element-wise multiplies this Array with a number or array.\n",
      "     |      \n",
      "     |      If the method does not support the operation with the supplied arguments\n",
      "     |      (specific data type or shape), it should return NotImplemented.\n",
      "     |      \n",
      "     |      Args:\n",
      "     |          other (Array, float, int): The array or number to multiply element-wise to this array.\n",
      "     |      \n",
      "     |      Returns:\n",
      "     |          Array: a new array with every element multiplied with `other`.\n",
      "     |  \n",
      "     |  __radd__(self, other)\n",
      "     |      Element-wise adds Array with another Array or number.\n",
      "     |      \n",
      "     |      If the method does not support the operation with the supplied arguments\n",
      "     |      (specific data type or shape), it should return NotImplemented.\n",
      "     |      \n",
      "     |      Args:\n",
      "     |          other (Array, float, int): The array or number to add element-wise to this array.\n",
      "     |      \n",
      "     |      Returns:\n",
      "     |          Array: the sum as a new array.\n",
      "     |  \n",
      "     |  __rmul__(self, other)\n",
      "     |      Element-wise multiplies this Array with a number or array.\n",
      "     |      \n",
      "     |      If the method does not support the operation with the supplied arguments\n",
      "     |      (specific data type or shape), it should return NotImplemented.\n",
      "     |      \n",
      "     |      Args:\n",
      "     |          other (Array, float, int): The array or number to multiply element-wise to this array.\n",
      "     |      \n",
      "     |      Returns:\n",
      "     |          Array: a new array with every element multiplied with `other`.\n",
      "     |  \n",
      "     |  __rsub__(self, other)\n",
      "     |      Element-wise subtracts this Array from a number or Array.\n",
      "     |      \n",
      "     |      If the method does not support the operation with the supplied arguments\n",
      "     |      (specific data type or shape), it should return NotImplemented.\n",
      "     |      \n",
      "     |      Args:\n",
      "     |          other (Array, float, int): The array or number being subtracted from.\n",
      "     |      \n",
      "     |      Returns:\n",
      "     |          Array: the difference as a new array.\n",
      "     |  \n",
      "     |  __str__(self)\n",
      "     |      Returns a nicely printable string representation of the array.\n",
      "     |      \n",
      "     |      Returns:\n",
      "     |          str: A string representation of the array.\n",
      "     |  \n",
      "     |  __sub__(self, other)\n",
      "     |      Element-wise subtracts an Array or number from this Array.\n",
      "     |      \n",
      "     |      If the method does not support the operation with the supplied arguments\n",
      "     |      (specific data type or shape), it should return NotImplemented.\n",
      "     |      \n",
      "     |      Args:\n",
      "     |          other (Array, float, int): The array or number to subtract element-wise from this array.\n",
      "     |      \n",
      "     |      Returns:\n",
      "     |          Array: the difference as a new array.\n",
      "     |  \n",
      "     |  is_equal(self, other)\n",
      "     |      Compares an Array element-wise with another Array or number.\n",
      "     |      \n",
      "     |      If `other` is an array and the two array shapes do not match, this method should raise ValueError.\n",
      "     |      \n",
      "     |      Args:\n",
      "     |          other (Array, float, int): The array or number to compare with this array.\n",
      "     |      \n",
      "     |      Returns:\n",
      "     |          Array: An array of booleans with True where the two arrays match and False where they do not.\n",
      "     |                 Or if `other` is a number, it returns True where the array is equal to the number and False\n",
      "     |                 where it is not.\n",
      "     |      \n",
      "     |      Raises:\n",
      "     |          ValueError: if the shape of self and other are not equal.\n",
      "     |  \n",
      "     |  mean(self)\n",
      "     |      Computes the mean of the array\n",
      "     |      \n",
      "     |      Only needs to work for numeric data types.\n",
      "     |      \n",
      "     |      Returns:\n",
      "     |          float: The mean of the array values.\n",
      "     |  \n",
      "     |  min_element(self)\n",
      "     |      Returns the smallest value of the array.\n",
      "     |      \n",
      "     |      Only needs to work for numeric data types.\n",
      "     |      \n",
      "     |      Returns:\n",
      "     |          float: The value of the smallest element in the array.\n",
      "     |  \n",
      "     |  variance(self)\n",
      "     |      Computes the variance of the array\n",
      "     |      \n",
      "     |      Only needs to work for numeric data types.\n",
      "     |      The variance is computed as: mean((x - x.mean())**2)\n",
      "     |      \n",
      "     |      Returns:\n",
      "     |          float: The mean of the array values.\n",
      "     |  \n",
      "     |  ----------------------------------------------------------------------\n",
      "     |  Data descriptors defined here:\n",
      "     |  \n",
      "     |  __dict__\n",
      "     |      dictionary for instance variables (if defined)\n",
      "     |  \n",
      "     |  __weakref__\n",
      "     |      list of weak references to the object (if defined)\n",
      "     |  \n",
      "     |  ----------------------------------------------------------------------\n",
      "     |  Data and other attributes defined here:\n",
      "     |  \n",
      "     |  __hash__ = None\n",
      "\n",
      "FUNCTIONS\n",
      "    asarray(a)\n",
      "        Cast an object to an array\n",
      "        \n",
      "        Parameters:\n",
      "            a (Array, iterable): An array or any array-like container.\n",
      "        \n",
      "        Returns:\n",
      "            Array:\n",
      "                a, cast as an Array.\n",
      "                If a is already an Array, return it.\n",
      "\n",
      "DATA\n",
      "    __all__ = ['Array', 'asarray']\n",
      "\n",
      "FILE\n",
      "    /home/dokken/Documents/src/UiO/UiO-IN3110.github.io/lectures/production/sphinx-docs/package_to_document/src/myarray/__init__.py\n",
      "\n",
      "\n",
      "(UIO-IN3110) \n"
     ]
    }
   ],
   "source": [
    "conda activate UIO-IN3110\n",
    "python3 -c \"import myarray; help(myarray)\""
   ]
  },
  {
   "cell_type": "code",
   "execution_count": 5,
   "metadata": {
    "vscode": {
     "languageId": "shellscript"
    }
   },
   "outputs": [
    {
     "name": "stdout",
     "output_type": "stream",
     "text": [
      "Help on function mean in module myarray.myarray:\n",
      "\n",
      "mean(self)\n",
      "    Computes the mean of the array\n",
      "    \n",
      "    Only needs to work for numeric data types.\n",
      "    \n",
      "    Returns:\n",
      "        float: The mean of the array values.\n",
      "\n",
      "(UIO-IN3110) \n"
     ]
    }
   ],
   "source": [
    "python3 -c \"import myarray; help(myarray.Array.mean)\""
   ]
  },
  {
   "cell_type": "markdown",
   "metadata": {},
   "source": [
    "Let's get started by creating a new file int he `source` directory, with `source/api.rst`:\n",
    "\n",
    "```rst\n",
    "My Array API\n",
    "============\n",
    "\n",
    ".. automodule:: myarray\n",
    "\n",
    "```\n",
    "\n",
    "and we can try to build the documentation again with `make html`.\n",
    "We get the following warning\n",
    "\n",
    "> ```\n",
    "> docs/api.rst: WARNING: document isn't included in any toctree\n",
    "> ```\n"
   ]
  },
  {
   "cell_type": "markdown",
   "metadata": {},
   "source": [
    "```{note}\n",
    "Inspect the package `myarray`, both `__init__.py` and `myarray.py` contains `__all__ = [...]` statements.\n",
    "This is to instruct Python (and autodoc) what members should be included in an import and in documentation.\n",
    "As we have created the `myarray`-package, the module is described by what is in the `__init__.py` file. We could also document the module `myarray.myarray` explicitly.\n",
    "\n",
    "```\n"
   ]
  },
  {
   "cell_type": "code",
   "execution_count": 6,
   "metadata": {
    "vscode": {
     "languageId": "shellscript"
    }
   },
   "outputs": [
    {
     "name": "stdout",
     "output_type": "stream",
     "text": [
      "from myarray.myarray import Array, asarray\n",
      "\n",
      "__all__ = [\"Array\", \"asarray\"](UIO-IN3110) \n"
     ]
    }
   ],
   "source": [
    "head -n5 package_to_document/src/myarray/__init__.py"
   ]
  },
  {
   "cell_type": "code",
   "execution_count": 7,
   "metadata": {
    "vscode": {
     "languageId": "shellscript"
    }
   },
   "outputs": [
    {
     "name": "stdout",
     "output_type": "stream",
     "text": [
      "\"\"\"\n",
      "Defines an Array class.\n",
      "\n",
      "Class template for Arrays, IN 3110 assignment 3\n",
      "\"\"\"\n",
      "\n",
      "__all__ = [\"Array\", \"asarray\"]\n",
      "\n",
      "(UIO-IN3110) \n"
     ]
    }
   ],
   "source": [
    "head -n8 package_to_document/src/myarray/myarray.py"
   ]
  },
  {
   "cell_type": "markdown",
   "metadata": {},
   "source": [
    "The toctree (**t**able **o**f **c**ontents tree) warning is because our new `api.rst` document is not included in any `.. toc::` directives.\n",
    "Sphinx wants to make sure that you can navigate through all the documentation\n",
    "via table of contents, so it encourages you to include all your documents in\n",
    "\n",
    "We can add our new document to the top-level table of contents in `index.rst`:\n",
    "\n",
    "```rst\n",
    ".. toctree::\n",
    "   :maxdepth: 2\n",
    "   :caption: Contents:\n",
    "\n",
    "   api.rst\n",
    "```\n"
   ]
  },
  {
   "cell_type": "markdown",
   "metadata": {},
   "source": [
    "No we can build again with `make html` and open `_build/html/api.html`.\n",
    "\n",
    "```{note}\n",
    "To build the documentation for a module, it has to be installed on your system.\n",
    "As `myarray` is a proper package, we use `python3 -m pip install /path/to/myarray` to install it prior to building with sphinx.\n",
    "\n",
    "If you really want to avoid making a package, one can modify the `sys.path` inside the `conf.py` file.\n",
    "However, this is not recommended!\n",
    "\n",
    "```\n",
    "\n",
    "Next, we can add our function to the documentation:\n"
   ]
  },
  {
   "cell_type": "markdown",
   "metadata": {},
   "source": [
    "```rst\n",
    "My Array API\n",
    "============\n",
    "\n",
    ".. automodule:: myarray\n",
    "\n",
    ".. autofunction:: asarray\n",
    "```\n",
    "\n",
    "and build again with `make html`, reloading [\\_build/html/api.html](sphinx-docs/docs/_build/html/api.html)\n"
   ]
  },
  {
   "cell_type": "markdown",
   "metadata": {},
   "source": [
    "Similarly, we can document our `Array` class:\n",
    "\n",
    "```rst\n",
    "My Array API\n",
    "============\n",
    "\n",
    ".. automodule:: myarray\n",
    "\n",
    ".. autofunction:: asarray\n",
    "\n",
    ".. autoclass:: Array\n",
    "```\n",
    "\n",
    "now all our top-level items are documented, but we probably want to see our member methods, not just the constructor.\n"
   ]
  },
  {
   "cell_type": "markdown",
   "metadata": {},
   "source": [
    "For that, we add the `:members:` option to autoclass:\n",
    "\n",
    "```rst\n",
    "My Array API\n",
    "============\n",
    "\n",
    ".. automodule:: myarray\n",
    "\n",
    ".. autofunction:: asarray\n",
    "\n",
    ".. autoclass:: Array\n",
    "    :members:\n",
    "```\n"
   ]
  },
  {
   "cell_type": "markdown",
   "metadata": {},
   "source": [
    "And finally, since we are most interested in \"special\" methods (`__mul__` and friends), we may want to document the special methods as well, which are not included by default in `:members:`:\n",
    "\n",
    "```rst\n",
    "My Array API\n",
    "============\n",
    "\n",
    ".. automodule:: myarray\n",
    "\n",
    ".. autofunction:: asarray\n",
    "\n",
    ".. autoclass:: Array\n",
    "    :members:\n",
    "    :special-members:\n",
    "```\n"
   ]
  },
  {
   "cell_type": "markdown",
   "metadata": {},
   "source": [
    "Now we are done setting up our API docs.\n",
    "[autodoc](https://www.sphinx-doc.org/en/3.x/usage/extensions/autodoc.html) has lots of options for controlling which members are\n",
    "\n",
    "The last step we are going to do is enable another extension called [napoleon](https://www.sphinx-doc.org/en/3.x/usage/extensions/napoleon.html),\n",
    "which understands special docstring formats, which are widely used.\n",
    "These give nice highlighting and linking for parameters, return types, etc.\n",
    "\n",
    "```python\n",
    "extensions = [\n",
    "    \"sphinx.ext.autodoc\",\n",
    "    \"sphinx.ext.napoleon\",\n",
    "]\n",
    "```\n",
    "\n",
    "Now rebuild, and see how much nicer the output is!\n"
   ]
  },
  {
   "cell_type": "markdown",
   "metadata": {},
   "source": []
  }
 ],
 "metadata": {
  "kernelspec": {
   "display_name": "Bash",
   "language": "bash",
   "name": "bash"
  },
  "language_info": {
   "codemirror_mode": "shell",
   "file_extension": ".sh",
   "mimetype": "text/x-sh",
   "name": "bash"
  },
  "widgets": {
   "application/vnd.jupyter.widget-state+json": {
    "state": {},
    "version_major": 2,
    "version_minor": 0
   }
  }
 },
 "nbformat": 4,
 "nbformat_minor": 4
}
