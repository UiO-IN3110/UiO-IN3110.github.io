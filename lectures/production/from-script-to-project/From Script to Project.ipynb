{
 "cells": [
  {
   "cell_type": "markdown",
   "metadata": {
    "editable": true,
    "slideshow": {
     "slide_type": ""
    },
    "tags": []
   },
   "source": [
    "# From script to project\n"
   ]
  },
  {
   "cell_type": "markdown",
   "metadata": {},
   "source": [
    "## Typical steps\n",
    "\n",
    "1. Organize your script into a package and modules\n",
    "2. Add install scripts/instructions\n",
    "3. Add documentation and make it available online\n",
    "4. Add tests\n",
    "5. Deploy your application/library\n",
    "\n",
    "The final version of this lecture are available here:\n",
    "\n",
    "Source code:\n",
    "https://github.com/UiO-IN3110/monty_hall_game\n",
    "\n",
    "Online documentation: https://uio-monty-hall-pre.readthedocs.io\n",
    "\n",
    "Automatic testing:\n",
    "https://github.com/UiO-IN3110/monty_hall_game/actions\n"
   ]
  },
  {
   "cell_type": "markdown",
   "metadata": {},
   "source": [
    "## Our test case\n"
   ]
  },
  {
   "cell_type": "markdown",
   "metadata": {},
   "source": [
    "We will use the `Monty Hall Game` implementation from last week as an example.\n"
   ]
  },
  {
   "cell_type": "markdown",
   "metadata": {},
   "source": [
    "<img src=\"images/monty_hall_game.png\" style=\"width: 400px;\"/>\n"
   ]
  },
  {
   "cell_type": "markdown",
   "metadata": {},
   "source": [
    "This `project` currently consists of the game file itself and some html templates:\n"
   ]
  },
  {
   "cell_type": "markdown",
   "metadata": {},
   "source": [
    "```bash\n",
    "monty_hall_game/\n",
    "    game_server.py     # Start web server\n",
    "    templates/*.html   # Templates for web-server\n",
    "```\n"
   ]
  },
  {
   "cell_type": "markdown",
   "metadata": {},
   "source": [
    "**Goal**:\n",
    "Make the game available as a project with:\n",
    "\n",
    "- a _command line_ interface\n",
    "- a _web_ interface\n",
    "- online and offline documentation\n",
    "- tests\n",
    "- error handling.\n"
   ]
  },
  {
   "cell_type": "markdown",
   "metadata": {},
   "source": [
    "## Step 1. Organize your script into modules and functions.\n"
   ]
  },
  {
   "cell_type": "markdown",
   "metadata": {},
   "source": [
    "We would like to offer a command line interface and a web interface. To achieve this,\n",
    "we separate the game logic into a separate package (which is simply a directory with Python modules).\n",
    "\n",
    "```bash\n",
    "myproject/\n",
    "    monty_hall_game/               # Game package\n",
    "        __init__.py                    #    Init file module\n",
    "        monty_hall_game.py             #    Core game module\n",
    "```\n",
    "\n",
    "The core game module contains the class `MontyHallGame`, which implements the core functionality of the game. Here is a the user interface for the game package:\n"
   ]
  },
  {
   "cell_type": "markdown",
   "metadata": {},
   "source": [
    "Let's look at the user interface of the package.\n",
    "\n",
    "Setting up the game:\n"
   ]
  },
  {
   "cell_type": "code",
   "execution_count": 1,
   "metadata": {},
   "outputs": [
    {
     "name": "stdout",
     "output_type": "stream",
     "text": [
      "\u001b[01;34mmonty-hall-game0\u001b[00m\n",
      "├── game_server.py\n",
      "└── \u001b[01;34mtemplates\u001b[00m\n",
      "    ├── final.html\n",
      "    ├── reselect1.html\n",
      "    ├── reselect.html\n",
      "    ├── select2.html\n",
      "    └── select.html\n",
      "\n",
      "1 directory, 6 files\n"
     ]
    }
   ],
   "source": [
    "!tree monty-hall-game0"
   ]
  },
  {
   "cell_type": "code",
   "execution_count": 2,
   "metadata": {},
   "outputs": [
    {
     "name": "stdout",
     "output_type": "stream",
     "text": [
      "\u001b[01;34mmonty-hall-game1\u001b[00m\n",
      "├── \u001b[01;34mbin\u001b[00m\n",
      "│   ├── \u001b[01;32mplay_monty_hall_cli.py\u001b[00m\n",
      "│   └── \u001b[01;32mplay_monty_hall_web.py\u001b[00m\n",
      "├── \u001b[01;34mmonty_hall_game\u001b[00m\n",
      "│   ├── __init__.py\n",
      "│   └── monty_hall_game.py\n",
      "└── \u001b[01;34mtemplates\u001b[00m\n",
      "    ├── final.html\n",
      "    ├── reselect1.html\n",
      "    ├── reselect.html\n",
      "    ├── select2.html\n",
      "    └── select.html\n",
      "\n",
      "3 directories, 9 files\n"
     ]
    }
   ],
   "source": [
    "!tree -I __pycache__ monty-hall-game1"
   ]
  },
  {
   "cell_type": "code",
   "execution_count": 3,
   "metadata": {},
   "outputs": [],
   "source": [
    "import os\n",
    "import sys\n",
    "\n",
    "sys.path.insert(0, os.path.join(os.getcwd(), \"monty-hall-game1\"))"
   ]
  },
  {
   "cell_type": "code",
   "execution_count": 4,
   "metadata": {},
   "outputs": [],
   "source": [
    "import monty_hall_game\n",
    "\n",
    "game = monty_hall_game.MontyHallGame()"
   ]
  },
  {
   "cell_type": "markdown",
   "metadata": {},
   "source": [
    "We can now play one round:\n"
   ]
  },
  {
   "cell_type": "code",
   "execution_count": 5,
   "metadata": {},
   "outputs": [],
   "source": [
    "game.select_door(door=1)"
   ]
  },
  {
   "cell_type": "code",
   "execution_count": 6,
   "metadata": {},
   "outputs": [
    {
     "data": {
      "text/plain": [
       "3"
      ]
     },
     "execution_count": 6,
     "metadata": {},
     "output_type": "execute_result"
    }
   ],
   "source": [
    "game.let_host_open_door()"
   ]
  },
  {
   "cell_type": "code",
   "execution_count": 7,
   "metadata": {},
   "outputs": [],
   "source": [
    "game.select_door(1)"
   ]
  },
  {
   "cell_type": "code",
   "execution_count": 8,
   "metadata": {},
   "outputs": [
    {
     "data": {
      "text/plain": [
       "False"
      ]
     },
     "execution_count": 8,
     "metadata": {},
     "output_type": "execute_result"
    }
   ],
   "source": [
    "game.open_door()  # True == win, False == lose"
   ]
  },
  {
   "cell_type": "markdown",
   "metadata": {},
   "source": [
    "Printing the game statistics:\n"
   ]
  },
  {
   "cell_type": "code",
   "execution_count": 9,
   "metadata": {},
   "outputs": [
    {
     "name": "stdout",
     "output_type": "stream",
     "text": [
      "Changed and won: 0 out of 0\n",
      "Not changed and won: 0 out of 1\n"
     ]
    }
   ],
   "source": [
    "print(game.statistics())"
   ]
  },
  {
   "cell_type": "markdown",
   "metadata": {},
   "source": [
    "With this package, we can build scripts that expose the game to the user via the command line and the web-interface.\n",
    "We implement these in the folder `bin` (for binary files. We use this name of convention reasons, even though our files are not really bindary files).\n"
   ]
  },
  {
   "cell_type": "markdown",
   "metadata": {},
   "source": [
    "Our new directory structure is:\n"
   ]
  },
  {
   "cell_type": "markdown",
   "metadata": {},
   "source": [
    "```bash\n",
    "myproject/\n",
    "    bin/                           # Scripts\n",
    "        play_monty_hall_cli.py         #    Start game with command line interface\n",
    "        play_monty_hall_web.py         #    Start game with web-server\n",
    "    monty_hall_game/               # Game package\n",
    "        __init__.py                    #    Init file module\n",
    "        monty_hall_game.py             #    Core game module\n",
    "    templates/*.html               # Templates for web-server\n",
    "```\n"
   ]
  },
  {
   "cell_type": "markdown",
   "metadata": {},
   "source": [
    "Let's look at the code in more detail (see files in `monty-hall-game1` folder)\n"
   ]
  },
  {
   "cell_type": "markdown",
   "metadata": {},
   "source": [
    "## Step 2. Add installation files and instructions\n"
   ]
  },
  {
   "cell_type": "markdown",
   "metadata": {},
   "source": [
    "### Record dependencies with requirements.txt\n"
   ]
  },
  {
   "cell_type": "markdown",
   "metadata": {},
   "source": [
    "Our project has some dependencies to run it, such as `flask`,\n",
    "and other dependencies to \"develop\" it such as pytest and (later) sphinx:\n"
   ]
  },
  {
   "cell_type": "code",
   "execution_count": 10,
   "metadata": {},
   "outputs": [
    {
     "name": "stdout",
     "output_type": "stream",
     "text": [
      "flask\n"
     ]
    }
   ],
   "source": [
    "!cat monty-hall-game4/requirements.txt"
   ]
  },
  {
   "cell_type": "code",
   "execution_count": 11,
   "metadata": {},
   "outputs": [
    {
     "name": "stdout",
     "output_type": "stream",
     "text": [
      "pytest\n",
      "sphinx\n"
     ]
    }
   ],
   "source": [
    "!cat monty-hall-game4/dev-requirements.txt"
   ]
  },
  {
   "cell_type": "markdown",
   "metadata": {},
   "source": [
    "The dependencies can be automatically installed with\n"
   ]
  },
  {
   "cell_type": "code",
   "execution_count": 12,
   "metadata": {},
   "outputs": [
    {
     "name": "stdout",
     "output_type": "stream",
     "text": [
      "Defaulting to user installation because normal site-packages is not writeable\n",
      "Requirement already satisfied: flask in /home/dokken/.local/lib/python3.8/site-packages (from -r monty-hall-game4/requirements.txt (line 1)) (3.0.0)\n",
      "Requirement already satisfied: pytest in /home/dokken/.local/lib/python3.8/site-packages (from -r monty-hall-game4/dev-requirements.txt (line 1)) (7.1.3)\n",
      "Requirement already satisfied: sphinx in /home/dokken/.local/lib/python3.8/site-packages (from -r monty-hall-game4/dev-requirements.txt (line 2)) (4.5.0)\n",
      "Requirement already satisfied: Werkzeug>=3.0.0 in /home/dokken/.local/lib/python3.8/site-packages (from flask->-r monty-hall-game4/requirements.txt (line 1)) (3.0.1)\n",
      "Requirement already satisfied: Jinja2>=3.1.2 in /home/dokken/.local/lib/python3.8/site-packages (from flask->-r monty-hall-game4/requirements.txt (line 1)) (3.1.2)\n",
      "Requirement already satisfied: itsdangerous>=2.1.2 in /home/dokken/.local/lib/python3.8/site-packages (from flask->-r monty-hall-game4/requirements.txt (line 1)) (2.1.2)\n",
      "Requirement already satisfied: click>=8.1.3 in /home/dokken/.local/lib/python3.8/site-packages (from flask->-r monty-hall-game4/requirements.txt (line 1)) (8.1.7)\n",
      "Requirement already satisfied: blinker>=1.6.2 in /home/dokken/.local/lib/python3.8/site-packages (from flask->-r monty-hall-game4/requirements.txt (line 1)) (1.7.0)\n",
      "Requirement already satisfied: importlib-metadata>=3.6.0 in /home/dokken/.local/lib/python3.8/site-packages (from flask->-r monty-hall-game4/requirements.txt (line 1)) (4.12.0)\n",
      "Requirement already satisfied: attrs>=19.2.0 in /home/dokken/.local/lib/python3.8/site-packages (from pytest->-r monty-hall-game4/dev-requirements.txt (line 1)) (20.3.0)\n",
      "Requirement already satisfied: iniconfig in /home/dokken/.local/lib/python3.8/site-packages (from pytest->-r monty-hall-game4/dev-requirements.txt (line 1)) (1.1.1)\n",
      "Requirement already satisfied: packaging in /home/dokken/.local/lib/python3.8/site-packages (from pytest->-r monty-hall-game4/dev-requirements.txt (line 1)) (23.0)\n",
      "Requirement already satisfied: pluggy<2.0,>=0.12 in /home/dokken/.local/lib/python3.8/site-packages (from pytest->-r monty-hall-game4/dev-requirements.txt (line 1)) (1.0.0)\n",
      "Requirement already satisfied: py>=1.8.2 in /home/dokken/.local/lib/python3.8/site-packages (from pytest->-r monty-hall-game4/dev-requirements.txt (line 1)) (1.11.0)\n",
      "Requirement already satisfied: tomli>=1.0.0 in /home/dokken/.local/lib/python3.8/site-packages (from pytest->-r monty-hall-game4/dev-requirements.txt (line 1)) (2.0.1)\n",
      "Requirement already satisfied: sphinxcontrib-applehelp in /home/dokken/.local/lib/python3.8/site-packages (from sphinx->-r monty-hall-game4/dev-requirements.txt (line 2)) (1.0.2)\n",
      "Requirement already satisfied: sphinxcontrib-devhelp in /home/dokken/.local/lib/python3.8/site-packages (from sphinx->-r monty-hall-game4/dev-requirements.txt (line 2)) (1.0.2)\n",
      "Requirement already satisfied: sphinxcontrib-jsmath in /home/dokken/.local/lib/python3.8/site-packages (from sphinx->-r monty-hall-game4/dev-requirements.txt (line 2)) (1.0.1)\n",
      "Requirement already satisfied: sphinxcontrib-htmlhelp>=2.0.0 in /home/dokken/.local/lib/python3.8/site-packages (from sphinx->-r monty-hall-game4/dev-requirements.txt (line 2)) (2.0.0)\n",
      "Requirement already satisfied: sphinxcontrib-serializinghtml>=1.1.5 in /home/dokken/.local/lib/python3.8/site-packages (from sphinx->-r monty-hall-game4/dev-requirements.txt (line 2)) (1.1.5)\n",
      "Requirement already satisfied: sphinxcontrib-qthelp in /home/dokken/.local/lib/python3.8/site-packages (from sphinx->-r monty-hall-game4/dev-requirements.txt (line 2)) (1.0.3)\n",
      "Requirement already satisfied: Pygments>=2.0 in /home/dokken/.local/lib/python3.8/site-packages (from sphinx->-r monty-hall-game4/dev-requirements.txt (line 2)) (2.8.1)\n",
      "Requirement already satisfied: docutils<0.18,>=0.14 in /home/dokken/.local/lib/python3.8/site-packages (from sphinx->-r monty-hall-game4/dev-requirements.txt (line 2)) (0.17.1)\n",
      "Requirement already satisfied: snowballstemmer>=1.1 in /home/dokken/.local/lib/python3.8/site-packages (from sphinx->-r monty-hall-game4/dev-requirements.txt (line 2)) (2.2.0)\n",
      "Requirement already satisfied: babel>=1.3 in /home/dokken/.local/lib/python3.8/site-packages (from sphinx->-r monty-hall-game4/dev-requirements.txt (line 2)) (2.10.3)\n",
      "Requirement already satisfied: alabaster<0.8,>=0.7 in /home/dokken/.local/lib/python3.8/site-packages (from sphinx->-r monty-hall-game4/dev-requirements.txt (line 2)) (0.7.12)\n",
      "Requirement already satisfied: imagesize in /home/dokken/.local/lib/python3.8/site-packages (from sphinx->-r monty-hall-game4/dev-requirements.txt (line 2)) (1.4.1)\n",
      "Requirement already satisfied: requests>=2.5.0 in /home/dokken/.local/lib/python3.8/site-packages (from sphinx->-r monty-hall-game4/dev-requirements.txt (line 2)) (2.28.1)\n",
      "Requirement already satisfied: pytz>=2015.7 in /usr/lib/python3/dist-packages (from babel>=1.3->sphinx->-r monty-hall-game4/dev-requirements.txt (line 2)) (2019.3)\n",
      "Requirement already satisfied: zipp>=0.5 in /home/dokken/.local/lib/python3.8/site-packages (from importlib-metadata>=3.6.0->flask->-r monty-hall-game4/requirements.txt (line 1)) (3.8.1)\n",
      "Requirement already satisfied: MarkupSafe>=2.0 in /home/dokken/.local/lib/python3.8/site-packages (from Jinja2>=3.1.2->flask->-r monty-hall-game4/requirements.txt (line 1)) (2.1.1)\n",
      "Requirement already satisfied: charset-normalizer<3,>=2 in /home/dokken/.local/lib/python3.8/site-packages (from requests>=2.5.0->sphinx->-r monty-hall-game4/dev-requirements.txt (line 2)) (2.1.1)\n",
      "Requirement already satisfied: idna<4,>=2.5 in /usr/lib/python3/dist-packages (from requests>=2.5.0->sphinx->-r monty-hall-game4/dev-requirements.txt (line 2)) (2.8)\n",
      "Requirement already satisfied: urllib3<1.27,>=1.21.1 in /home/dokken/.local/lib/python3.8/site-packages (from requests>=2.5.0->sphinx->-r monty-hall-game4/dev-requirements.txt (line 2)) (1.26.16)\n",
      "Requirement already satisfied: certifi>=2017.4.17 in /usr/lib/python3/dist-packages (from requests>=2.5.0->sphinx->-r monty-hall-game4/dev-requirements.txt (line 2)) (2019.11.28)\n",
      "Note: you may need to restart the kernel to use updated packages.\n"
     ]
    }
   ],
   "source": [
    "%pip install -r monty-hall-game4/requirements.txt -r monty-hall-game4/dev-requirements.txt"
   ]
  },
  {
   "cell_type": "markdown",
   "metadata": {},
   "source": [
    "### Setuptools\n",
    "\n",
    "Further, we can create a setup file to simplify the installation of our game.\n",
    "First thing we need is a `pyproject.toml` file:\n"
   ]
  },
  {
   "cell_type": "code",
   "execution_count": 13,
   "metadata": {},
   "outputs": [
    {
     "name": "stdout",
     "output_type": "stream",
     "text": [
      "\u001b[0;34m[\u001b[0m\u001b[0mbuild\u001b[0m\u001b[0;34m-\u001b[0m\u001b[0msystem\u001b[0m\u001b[0;34m]\u001b[0m\u001b[0;34m\u001b[0m\n",
      "\u001b[0;34m\u001b[0m\u001b[0mrequires\u001b[0m \u001b[0;34m=\u001b[0m \u001b[0;34m[\u001b[0m\u001b[0;34m\u001b[0m\n",
      "\u001b[0;34m\u001b[0m    \u001b[0;34m\"setuptools\"\u001b[0m\u001b[0;34m,\u001b[0m\u001b[0;34m\u001b[0m\n",
      "\u001b[0;34m\u001b[0m\u001b[0;34m]\u001b[0m\u001b[0;34m\u001b[0m\n",
      "\u001b[0;34m\u001b[0m\u001b[0mbuild\u001b[0m\u001b[0;34m-\u001b[0m\u001b[0mbackend\u001b[0m \u001b[0;34m=\u001b[0m \u001b[0;34m\"setuptools.build_meta\"\u001b[0m\u001b[0;34m\u001b[0m\n",
      "\u001b[0;34m\u001b[0m\u001b[0;34m\u001b[0m\n",
      "\u001b[0;34m\u001b[0m\u001b[0;34m[\u001b[0m\u001b[0mproject\u001b[0m\u001b[0;34m]\u001b[0m\u001b[0;34m\u001b[0m\n",
      "\u001b[0;34m\u001b[0m\u001b[0mversion\u001b[0m \u001b[0;34m=\u001b[0m \u001b[0;34m\"0.1.0\"\u001b[0m\u001b[0;34m\u001b[0m\n",
      "\u001b[0;34m\u001b[0m\u001b[0mrequires\u001b[0m\u001b[0;34m-\u001b[0m\u001b[0mpython\u001b[0m \u001b[0;34m=\u001b[0m \u001b[0;34m\">=3.8\"\u001b[0m\u001b[0;34m\u001b[0m\n",
      "\u001b[0;34m\u001b[0m\u001b[0mlicense\u001b[0m \u001b[0;34m=\u001b[0m \u001b[0;34m{\u001b[0m\u001b[0mtext\u001b[0m \u001b[0;34m=\u001b[0m \u001b[0;34m\"MIT License\"\u001b[0m\u001b[0;34m}\u001b[0m\u001b[0;34m\u001b[0m\n",
      "\u001b[0;34m\u001b[0m\u001b[0;34m\u001b[0m\n",
      "\u001b[0;34m\u001b[0m\u001b[0mname\u001b[0m \u001b[0;34m=\u001b[0m \u001b[0;34m\"monty_hall_game\"\u001b[0m\u001b[0;34m\u001b[0m\n",
      "\u001b[0;34m\u001b[0m\u001b[0mdescription\u001b[0m \u001b[0;34m=\u001b[0m \u001b[0;34m\"...\"\u001b[0m\u001b[0;34m\u001b[0m\n",
      "\u001b[0;34m\u001b[0m\u001b[0mreadme\u001b[0m \u001b[0;34m=\u001b[0m \u001b[0;34m\"README.md\"\u001b[0m\u001b[0;34m\u001b[0m\n",
      "\u001b[0;34m\u001b[0m\u001b[0mdynamic\u001b[0m \u001b[0;34m=\u001b[0m \u001b[0;34m[\u001b[0m\u001b[0;34m\"dependencies\"\u001b[0m\u001b[0;34m,\u001b[0m \u001b[0;34m\"optional-dependencies\"\u001b[0m\u001b[0;34m]\u001b[0m\u001b[0;34m\u001b[0m\n",
      "\u001b[0;34m\u001b[0m\u001b[0;34m\u001b[0m\n",
      "\u001b[0;34m\u001b[0m\u001b[0;34m\u001b[0m\n",
      "\u001b[0;34m\u001b[0m\u001b[0;34m[\u001b[0m\u001b[0mtool\u001b[0m\u001b[0;34m.\u001b[0m\u001b[0msetuptools\u001b[0m\u001b[0;34m.\u001b[0m\u001b[0mdynamic\u001b[0m\u001b[0;34m]\u001b[0m\u001b[0;34m\u001b[0m\n",
      "\u001b[0;34m\u001b[0m\u001b[0mdependencies\u001b[0m \u001b[0;34m=\u001b[0m \u001b[0;34m{\u001b[0m\u001b[0mfile\u001b[0m \u001b[0;34m=\u001b[0m \u001b[0;34m[\u001b[0m\u001b[0;34m\"requirements.txt\"\u001b[0m\u001b[0;34m,\u001b[0m\u001b[0;34m]\u001b[0m\u001b[0;34m}\u001b[0m\u001b[0;34m\u001b[0m\n",
      "\u001b[0;34m\u001b[0m\u001b[0moptional\u001b[0m\u001b[0;34m-\u001b[0m\u001b[0mdependencies\u001b[0m\u001b[0;34m.\u001b[0m\u001b[0mdev\u001b[0m \u001b[0;34m=\u001b[0m \u001b[0;34m{\u001b[0m \u001b[0mfile\u001b[0m \u001b[0;34m=\u001b[0m \u001b[0;34m[\u001b[0m\u001b[0;34m\"dev-requirements.txt\"\u001b[0m\u001b[0;34m]\u001b[0m \u001b[0;34m}\u001b[0m\u001b[0;34m\u001b[0m\n",
      "\u001b[0;34m\u001b[0m\u001b[0;34m\u001b[0m\n",
      "\u001b[0;34m\u001b[0m\u001b[0;34m[\u001b[0m\u001b[0mproject\u001b[0m\u001b[0;34m.\u001b[0m\u001b[0mscripts\u001b[0m\u001b[0;34m]\u001b[0m\u001b[0;34m\u001b[0m\n",
      "\u001b[0;34m\u001b[0m\u001b[0mmonty\u001b[0m\u001b[0;34m-\u001b[0m\u001b[0mhall\u001b[0m\u001b[0;34m-\u001b[0m\u001b[0mcli\u001b[0m \u001b[0;34m=\u001b[0m \u001b[0;34m\"monty_hall_game.cli:main\"\u001b[0m\u001b[0;34m\u001b[0m\n",
      "\u001b[0;34m\u001b[0m\u001b[0mmonty\u001b[0m\u001b[0;34m-\u001b[0m\u001b[0mhall\u001b[0m\u001b[0;34m-\u001b[0m\u001b[0mweb\u001b[0m \u001b[0;34m=\u001b[0m \u001b[0;34m\"monty_hall_game.web:main\"\u001b[0m\u001b[0;34m\u001b[0m\u001b[0;34m\u001b[0m\u001b[0m\n"
     ]
    }
   ],
   "source": [
    "%pycat monty-hall-game4/pyproject.toml"
   ]
  },
  {
   "cell_type": "markdown",
   "metadata": {},
   "source": [
    "We note that we here have used a few new features compared to what we covered in [Structuring Python code](../../python/packages_and_testing.ipynb).\n",
    "\n",
    "- `dynamic`: Some fields can be modified by other packages, scripts etc. when installing. One example is the list of dependencies, that we now let `setuptools` fetch from `requirements.txt`. See [Dynamic metadata](https://setuptools.pypa.io/en/latest/userguide/pyproject_config.html#dynamic-metadata) for more information on this. Similarly, we do the same thing for the `[dev]` extensions that are optional dependencies, only used to build the web client, but not run the `monty_hall_game`.\n",
    "- `[project-scripts]`: creates an alias from calling the `monty_hall_game.cli.main()` function from the command line as `monty-hall-cli`. The syntax is `package.submodule:function`.\n"
   ]
  },
  {
   "cell_type": "markdown",
   "metadata": {},
   "source": [
    "We can now install the `monty_hall_game` package with\n",
    "\n",
    "```bash\n",
    "python3 -m pip install .\n",
    "```\n"
   ]
  },
  {
   "cell_type": "markdown",
   "metadata": {},
   "source": [
    "Using the Python package manager `pip` has the advantage that we can uninstall the package again:\n",
    "\n",
    "```bash\n",
    "python3 -m pip uninstall monty_hall_game\n",
    "```\n"
   ]
  },
  {
   "cell_type": "code",
   "execution_count": 14,
   "metadata": {
    "scrolled": true
   },
   "outputs": [
    {
     "name": "stdout",
     "output_type": "stream",
     "text": [
      "\u001b[01;34mmonty-hall-game4/\u001b[00m\n",
      "├── \u001b[01;34mbuild\u001b[00m\n",
      "│   ├── \u001b[01;34mbdist.linux-x86_64\u001b[00m\n",
      "│   └── \u001b[01;34mlib\u001b[00m\n",
      "│       └── \u001b[01;34mmonty_hall_game\u001b[00m\n",
      "│           ├── cli.py\n",
      "│           ├── game_exceptions.py\n",
      "│           ├── __init__.py\n",
      "│           ├── monty_hall_game.py\n",
      "│           └── web.py\n",
      "├── dev-requirements.txt\n",
      "├── \u001b[01;34mdist\u001b[00m\n",
      "│   ├── monty_hall_game-0.1.0-py3-none-any.whl\n",
      "│   └── \u001b[01;31mmonty_hall_game-0.1.0.tar.gz\u001b[00m\n",
      "├── \u001b[01;34mdocs\u001b[00m\n",
      "│   ├── \u001b[01;34mapi\u001b[00m\n",
      "│   │   ├── index.rst\n",
      "│   │   └── monty_hall_game.rst\n",
      "│   ├── \u001b[01;34m_build\u001b[00m\n",
      "│   │   ├── \u001b[01;34mdoctrees\u001b[00m\n",
      "│   │   │   ├── \u001b[01;34mapi\u001b[00m\n",
      "│   │   │   │   ├── index.doctree\n",
      "│   │   │   │   └── monty_hall_game.doctree\n",
      "│   │   │   ├── environment.pickle\n",
      "│   │   │   └── index.doctree\n",
      "│   │   └── \u001b[01;34mhtml\u001b[00m\n",
      "│   │       ├── \u001b[01;34mapi\u001b[00m\n",
      "│   │       │   ├── index.html\n",
      "│   │       │   └── monty_hall_game.html\n",
      "│   │       ├── genindex.html\n",
      "│   │       ├── index.html\n",
      "│   │       ├── \u001b[01;34m_modules\u001b[00m\n",
      "│   │       │   ├── index.html\n",
      "│   │       │   └── \u001b[01;34mmonty_hall_game\u001b[00m\n",
      "│   │       │       ├── game_exceptions.html\n",
      "│   │       │       └── monty_hall_game.html\n",
      "│   │       ├── objects.inv\n",
      "│   │       ├── py-modindex.html\n",
      "│   │       ├── search.html\n",
      "│   │       ├── searchindex.js\n",
      "│   │       ├── \u001b[01;34m_sources\u001b[00m\n",
      "│   │       │   ├── \u001b[01;34mapi\u001b[00m\n",
      "│   │       │   │   ├── index.rst.txt\n",
      "│   │       │   │   └── monty_hall_game.rst.txt\n",
      "│   │       │   └── index.rst.txt\n",
      "│   │       └── \u001b[01;34m_static\u001b[00m\n",
      "│   │           ├── alabaster.css\n",
      "│   │           ├── basic.css\n",
      "│   │           ├── custom.css\n",
      "│   │           ├── doctools.js\n",
      "│   │           ├── documentation_options.js\n",
      "│   │           ├── file.png\n",
      "│   │           ├── jquery-3.5.1.js\n",
      "│   │           ├── jquery.js\n",
      "│   │           ├── language_data.js\n",
      "│   │           ├── minus.png\n",
      "│   │           ├── plus.png\n",
      "│   │           ├── pygments.css\n",
      "│   │           ├── searchtools.js\n",
      "│   │           ├── underscore-1.13.1.js\n",
      "│   │           └── underscore.js\n",
      "│   ├── conf.py\n",
      "│   ├── index.rst\n",
      "│   ├── \u001b[01;32mmake.bat\u001b[00m\n",
      "│   └── Makefile\n",
      "├── \u001b[01;34mmonty_hall_game\u001b[00m\n",
      "│   ├── \u001b[01;32mcli.py\u001b[00m\n",
      "│   ├── game_exceptions.py\n",
      "│   ├── __init__.py\n",
      "│   ├── monty_hall_game.py\n",
      "│   ├── \u001b[01;34mstatic\u001b[00m\n",
      "│   │   ├── \u001b[01;35mcar.jpg\u001b[00m\n",
      "│   │   ├── door1.png\n",
      "│   │   ├── door2.png\n",
      "│   │   ├── door3.png\n",
      "│   │   ├── \u001b[01;35mgoat.jpg\u001b[00m\n",
      "│   │   ├── \u001b[01;35mgoat_lost.jpg\u001b[00m\n",
      "│   │   └── winner.png\n",
      "│   ├── \u001b[01;34mtemplates\u001b[00m\n",
      "│   │   ├── final.html\n",
      "│   │   ├── layout7.html\n",
      "│   │   ├── reselect.html\n",
      "│   │   └── select.html\n",
      "│   └── \u001b[01;32mweb.py\u001b[00m\n",
      "├── \u001b[01;34mmonty_hall_game.egg-info\u001b[00m\n",
      "│   ├── dependency_links.txt\n",
      "│   ├── entry_points.txt\n",
      "│   ├── PKG-INFO\n",
      "│   ├── requires.txt\n",
      "│   ├── SOURCES.txt\n",
      "│   └── top_level.txt\n",
      "├── pyproject.toml\n",
      "├── README.md\n",
      "├── readthedocs.yml\n",
      "├── requirements.txt\n",
      "├── runtime.txt\n",
      "└── \u001b[01;34mtests\u001b[00m\n",
      "    └── test_game_module.py\n",
      "\n",
      "22 directories, 75 files\n"
     ]
    }
   ],
   "source": [
    "!tree monty-hall-game4/"
   ]
  },
  {
   "cell_type": "markdown",
   "metadata": {},
   "source": [
    "### Installation instructions\n"
   ]
  },
  {
   "cell_type": "markdown",
   "metadata": {},
   "source": [
    "Finally it is good practice to add a installation instructions to the README.md file:\n"
   ]
  },
  {
   "cell_type": "code",
   "execution_count": 15,
   "metadata": {},
   "outputs": [
    {
     "data": {
      "text/markdown": [
       "# Monty Hall Game\n",
       "\n",
       "This repository contains a simple implementation of the Monty Hall Game with\n",
       "a command line and web interface.\n",
       "\n",
       "## Installation\n",
       "\n",
       "Install the game with\n",
       "\n",
       "    pip install .\n",
       "\n",
       "## Running the game\n",
       "\n",
       "The command line interface is started with:\n",
       "\n",
       "    monty-hall-cli\n",
       "\n",
       "The web server is started with:\n",
       "\n",
       "    monty-hall-web\n"
      ],
      "text/plain": [
       "<IPython.core.display.Markdown object>"
      ]
     },
     "metadata": {},
     "output_type": "display_data"
    }
   ],
   "source": [
    "from IPython.display import Markdown, display\n",
    "\n",
    "with open(\"monty-hall-game4/README.md\") as f:\n",
    "    display(Markdown(f.read()))"
   ]
  },
  {
   "cell_type": "markdown",
   "metadata": {},
   "source": [
    "### New files\n",
    "\n",
    "```bash\n",
    "monty_hall_game/\n",
    "    README.md                   # Installation instructions\n",
    "    requirements.txt            # List of project dependencies\n",
    "    dev-requirements.txt        # List of development dependencies\n",
    "    pyproject.toml              # SetupTools file\n",
    "```\n"
   ]
  },
  {
   "cell_type": "code",
   "execution_count": 16,
   "metadata": {},
   "outputs": [
    {
     "name": "stdout",
     "output_type": "stream",
     "text": [
      "/home/dokken/Documents/UiO-IN3110.github.io/lectures/production/from-script-to-project\n"
     ]
    }
   ],
   "source": [
    "!pwd"
   ]
  },
  {
   "cell_type": "code",
   "execution_count": 17,
   "metadata": {},
   "outputs": [
    {
     "name": "stdout",
     "output_type": "stream",
     "text": [
      "/home/dokken/Documents/UiO-IN3110.github.io/lectures/production/from-script-to-project/monty-hall-game4\n",
      "Defaulting to user installation because normal site-packages is not writeable\n",
      "Processing /home/dokken/Documents/UiO-IN3110.github.io/lectures/production/from-script-to-project/monty-hall-game4\n",
      "  Installing build dependencies ... \u001b[?25ldone\n",
      "\u001b[?25h  Getting requirements to build wheel ... \u001b[?25ldone\n",
      "\u001b[?25h  Installing backend dependencies ... \u001b[?25ldone\n",
      "\u001b[?25h  Preparing metadata (pyproject.toml) ... \u001b[?25ldone\n",
      "\u001b[?25hRequirement already satisfied: flask in /home/dokken/.local/lib/python3.8/site-packages (from monty-hall-game==0.1.0) (3.0.0)\n",
      "Requirement already satisfied: Werkzeug>=3.0.0 in /home/dokken/.local/lib/python3.8/site-packages (from flask->monty-hall-game==0.1.0) (3.0.1)\n",
      "Requirement already satisfied: Jinja2>=3.1.2 in /home/dokken/.local/lib/python3.8/site-packages (from flask->monty-hall-game==0.1.0) (3.1.2)\n",
      "Requirement already satisfied: itsdangerous>=2.1.2 in /home/dokken/.local/lib/python3.8/site-packages (from flask->monty-hall-game==0.1.0) (2.1.2)\n",
      "Requirement already satisfied: click>=8.1.3 in /home/dokken/.local/lib/python3.8/site-packages (from flask->monty-hall-game==0.1.0) (8.1.7)\n",
      "Requirement already satisfied: blinker>=1.6.2 in /home/dokken/.local/lib/python3.8/site-packages (from flask->monty-hall-game==0.1.0) (1.7.0)\n",
      "Requirement already satisfied: importlib-metadata>=3.6.0 in /home/dokken/.local/lib/python3.8/site-packages (from flask->monty-hall-game==0.1.0) (4.12.0)\n",
      "Requirement already satisfied: zipp>=0.5 in /home/dokken/.local/lib/python3.8/site-packages (from importlib-metadata>=3.6.0->flask->monty-hall-game==0.1.0) (3.8.1)\n",
      "Requirement already satisfied: MarkupSafe>=2.0 in /home/dokken/.local/lib/python3.8/site-packages (from Jinja2>=3.1.2->flask->monty-hall-game==0.1.0) (2.1.1)\n",
      "Building wheels for collected packages: monty-hall-game\n",
      "  Building wheel for monty-hall-game (pyproject.toml) ... \u001b[?25ldone\n",
      "\u001b[?25h  Created wheel for monty-hall-game: filename=monty_hall_game-0.1.0-py3-none-any.whl size=5185 sha256=176c9aaaa28fdffdbe02b26860a577bffc23094732217bf158dd39f3c8007c56\n",
      "  Stored in directory: /home/dokken/.cache/pip/wheels/86/bc/e5/d84458101c63904d8a2ce3e8a90036d93b07da4125d14faf2d\n",
      "Successfully built monty-hall-game\n",
      "Installing collected packages: monty-hall-game\n",
      "  Attempting uninstall: monty-hall-game\n",
      "    Found existing installation: monty-hall-game 0.1.0\n",
      "    Uninstalling monty-hall-game-0.1.0:\n",
      "      Successfully uninstalled monty-hall-game-0.1.0\n",
      "Successfully installed monty-hall-game-0.1.0\n",
      "Note: you may need to restart the kernel to use updated packages.\n"
     ]
    }
   ],
   "source": [
    "%cd monty-hall-game4/\n",
    "%pip install ."
   ]
  },
  {
   "cell_type": "markdown",
   "metadata": {},
   "source": [
    "## Step 3. Add documentation\n"
   ]
  },
  {
   "cell_type": "markdown",
   "metadata": {},
   "source": [
    "We should add docstrings to the module `monty_hall_game.py` file.\n",
    "\n",
    "Note, that I write the documentation in a Sphinx Markup Style (see https://www.sphinx-doc.org/en/master/usage/extensions/napoleon.html) to obtain nicely rendered online documentation.\n",
    "\n",
    "Let's look at the code in more detail (see files in `monty-hall-game2` folder)\n",
    "\n",
    "Once done, we can access the docstrings as usual:\n"
   ]
  },
  {
   "cell_type": "code",
   "execution_count": 18,
   "metadata": {},
   "outputs": [],
   "source": [
    "# update import path and re-import monty_hall_game\n",
    "sys.path.insert(0, os.path.join(os.getcwd(), \"monty-hall-game2\"))\n",
    "from importlib import reload\n",
    "\n",
    "reload(monty_hall_game)\n",
    "reload(monty_hall_game.monty_hall_game)\n",
    "reload(monty_hall_game)\n",
    "\n",
    "from monty_hall_game.monty_hall_game import MontyHallGame"
   ]
  },
  {
   "cell_type": "code",
   "execution_count": 19,
   "metadata": {},
   "outputs": [
    {
     "name": "stdout",
     "output_type": "stream",
     "text": [
      "\u001b[0;31mSignature:\u001b[0m \u001b[0mMontyHallGame\u001b[0m\u001b[0;34m.\u001b[0m\u001b[0mlet_host_open_door\u001b[0m\u001b[0;34m(\u001b[0m\u001b[0mself\u001b[0m\u001b[0;34m)\u001b[0m\u001b[0;34m\u001b[0m\u001b[0;34m\u001b[0m\u001b[0m\n",
      "\u001b[0;31mDocstring:\u001b[0m <no docstring>\n",
      "\u001b[0;31mFile:\u001b[0m      ~/Documents/UiO-IN3110.github.io/lectures/production/from-script-to-project/monty-hall-game1/monty_hall_game/monty_hall_game.py\n",
      "\u001b[0;31mType:\u001b[0m      function"
     ]
    }
   ],
   "source": [
    "MontyHallGame.let_host_open_door?"
   ]
  },
  {
   "cell_type": "markdown",
   "metadata": {},
   "source": [
    "## Python documentation with Sphinx\n",
    "\n",
    "Sphinx is a powerful tool to create documentation for Python projects and provides more flexibiliy.\n",
    "\n",
    "### Installation\n",
    "\n",
    "```bash\n",
    "python3 -m pip install sphinx\n",
    "```\n",
    "\n",
    "### How to get started\n",
    "\n",
    "1. Use the quick start command to configure a base Sphinx documentation\n",
    "\n",
    "   ```bash\n",
    "   sphinx-quickstart\n",
    "   ```\n",
    "\n",
    "   Among other things, the quickstart guide will ask for the documentation folder. I typically choose `docs` for this.\n",
    "\n",
    "2. Use\n",
    "   ```bash\n",
    "   mkdir -p docs/api\n",
    "   sphinx-apidoc -o docs/api monty_hall_game\n",
    "   ```\n",
    "   to add documentation for each module.\n",
    "3. Edit `docs/index.rst` to change the content of your main page.\n",
    "4. Compile the documentation with:\n",
    "   ```bash\n",
    "   cd docs\n",
    "   make html\n",
    "   ```\n",
    "   (make sure that the module is in sys.path or installed).\n",
    "5. The documentation is available on `docs/_build/html/index.html`.\n"
   ]
  },
  {
   "cell_type": "code",
   "execution_count": 20,
   "metadata": {},
   "outputs": [
    {
     "name": "stdout",
     "output_type": "stream",
     "text": [
      "/home/dokken/Documents/UiO-IN3110.github.io/lectures/production/from-script-to-project/monty-hall-game4/docs\n",
      "sphinx-build -b html -d _build/doctrees   . _build/html\n",
      "\u001b[01mRunning Sphinx v4.5.0\u001b[39;49;00m\n",
      "\u001b[91mWARNING: html_static_path entry '_static' does not exist\u001b[39;49;00m\n",
      "\u001b[01mloading pickled environment... \u001b[39;49;00mdone\n",
      "\u001b[01mbuilding [mo]: \u001b[39;49;00mtargets for 0 po files that are out of date\n",
      "\u001b[01mbuilding [html]: \u001b[39;49;00mtargets for 0 source files that are out of date\n",
      "\u001b[01mupdating environment: \u001b[39;49;00m0 added, 1 changed, 0 removed\n",
      "\u001b[01mreading sources... \u001b[39;49;00m[100%] \u001b[35mapi/monty_hall_game\u001b[39;49;00m                                   \n",
      "\u001b[01mlooking for now-outdated files... \u001b[39;49;00mnone found\n",
      "\u001b[01mpickling environment... \u001b[39;49;00mdone\n",
      "\u001b[01mchecking consistency... \u001b[39;49;00mdone\n",
      "\u001b[01mpreparing documents... \u001b[39;49;00mdone\n",
      "\u001b[01mwriting output... \u001b[39;49;00m[100%] \u001b[32mindex\u001b[39;49;00m                                                  \n",
      "\u001b[01mgenerating indices... \u001b[39;49;00mgenindex py-modindex done\n",
      "\u001b[01mhighlighting module code... \u001b[39;49;00m[100%] \u001b[94mmonty_hall_game.monty_hall_game\u001b[39;49;00m              \n",
      "\u001b[01mwriting additional pages... \u001b[39;49;00msearch done\n",
      "\u001b[01mcopying static files... \u001b[39;49;00mdone\n",
      "\u001b[01mcopying extra files... \u001b[39;49;00mdone\n",
      "\u001b[01mdumping search index in English (code: en)... \u001b[39;49;00mdone\n",
      "\u001b[01mdumping object inventory... \u001b[39;49;00mdone\n",
      "\u001b[01mbuild succeeded, 1 warning.\u001b[39;49;00m\n",
      "\n",
      "The HTML pages are in _build/html.\n",
      "\n",
      "Build finished. The HTML pages are in _build/html.\n"
     ]
    }
   ],
   "source": [
    "%cd docs\n",
    "!make html"
   ]
  },
  {
   "cell_type": "markdown",
   "metadata": {},
   "source": [
    "#### New files (autogenerated with `sphinx-quickstart` and `sphinx-apidoc`)\n",
    "\n",
    "```bash\n",
    "    docs/\n",
    "        conf.py              # Sphinx configuration file\n",
    "        index.rst            # Index page (in markdown format)\n",
    "        make.bat             # Windows build file\n",
    "        Makefile             # Linux/MacOS build file\n",
    "    docs/api\n",
    "        modules.rst          # Module page\n",
    "        monty_hall_game.rst  # Module page\n",
    "```"
   ]
  },
  {
   "cell_type": "markdown",
   "metadata": {},
   "source": [
    "## Step 4. Add tests\n",
    "\n",
    "We will use `pytest` as testing framework.\n",
    "New files:\n",
    "\n",
    "```bash\n",
    "monty_hall_game/\n",
    "    tests\n",
    "        test_game_module.py\n",
    "```\n",
    "\n",
    "We can run the test suite with\n"
   ]
  },
  {
   "cell_type": "markdown",
   "metadata": {},
   "source": [
    "Let's look at the code in more detail (see files in `monty-hall-game4` folder)\n"
   ]
  },
  {
   "cell_type": "code",
   "execution_count": 28,
   "metadata": {},
   "outputs": [
    {
     "name": "stdout",
     "output_type": "stream",
     "text": [
      "\u001b[1m============================= test session starts ==============================\u001b[0m\n",
      "platform linux -- Python 3.8.10, pytest-7.1.3, pluggy-1.0.0\n",
      "rootdir: /home/dokken/Documents/UiO-IN3110.github.io/lectures/production/from-script-to-project/monty-hall-game4\n",
      "plugins: anyio-3.6.1, cov-3.0.0\n",
      "collected 3 items                                                              \u001b[0m\n",
      "\n",
      "tests/test_game_module.py \u001b[32m.\u001b[0m\u001b[32m.\u001b[0m\u001b[32m.\u001b[0m\u001b[32m                                            [100%]\u001b[0m\n",
      "\n",
      "\u001b[32m============================== \u001b[32m\u001b[1m3 passed\u001b[0m\u001b[32m in 0.02s\u001b[0m\u001b[32m ===============================\u001b[0m\n"
     ]
    }
   ],
   "source": [
    "!cd monty-hall-game4 && python3 -m pytest tests"
   ]
  },
  {
   "cell_type": "markdown",
   "metadata": {},
   "source": [
    "## Continuous integration with GitHub Actions\n",
    "\n",
    "[GitHub Actions docs](https://docs.github.com/actions)\n",
    "\n",
    "### Quick guide to GitHub action\n",
    "\n",
    "create `.github/workflows/test.yml` (any `name.yml` will do, you can have several) with steps:\n",
    "\n",
    "1. checkout the repo\n",
    "2. install Python\n",
    "3. install your package and its dependencies\n",
    "4. run the tests\n",
    "\n",
    "```yaml\n",
    "# This is a GitHub workflow defining a set of jobs with a set of steps.\n",
    "# ref: https://docs.github.com/en/free-pro-team@latest/actions/reference/workflow-syntax-for-github-actions\n",
    "#\n",
    "name: Tests\n",
    "\n",
    "on:\n",
    "  pull_request:\n",
    "  push:\n",
    "\n",
    "jobs:\n",
    "  test:\n",
    "    runs-on: ubuntu-22.04\n",
    "\n",
    "    strategy:\n",
    "      matrix:\n",
    "        python:\n",
    "          - \"3.9\"\n",
    "          - \"3.10\"\n",
    "\n",
    "    steps:\n",
    "      # checkout the repository\n",
    "      - uses: actions/checkout@v3\n",
    "\n",
    "      # setup Python\n",
    "      - name: Install Python ${{ matrix.python }}\n",
    "        uses: actions/setup-python@v4\n",
    "        with:\n",
    "          python-version: ${{ matrix.python }}\n",
    "\n",
    "      # preserve pip cache to speed up installation\n",
    "      - name: Cache pip\n",
    "        uses: actions/cache@v3\n",
    "        with:\n",
    "          path: ~/.cache/pip\n",
    "          # Look to see if there is a cache hit for the corresponding requirements file\n",
    "          key: ${{ runner.os }}-pip-${{ hashFiles('*requirements.txt') }}\n",
    "          restore-keys: |\n",
    "            ${{ runner.os }}-pip-\n",
    "\n",
    "      - name: Install Python dependencies\n",
    "        run: |\n",
    "          pip install --upgrade pip\n",
    "          pip install --upgrade .[dev]\n",
    "          pip freeze\n",
    "\n",
    "      - name: Run tests\n",
    "        run: |\n",
    "          pytest -v --color=yes\n",
    "```\n",
    "\n",
    "### Publishing the documentation\n",
    "Similarly, we can use Github actions to publish a webpage hosted by Github.\n",
    "We will first make a stand-alone action that simply uploads the built web-page as an [artifact](https://docs.github.com/en/actions/using-workflows/storing-workflow-data-as-artifacts). This can be downloaded an inspected.\n",
    "\n",
    "```yaml\n",
    "ame: Build documentation\n",
    "\n",
    "on:\n",
    "    workflow_dispatch:\n",
    "    workflow_call:\n",
    "    pull_request:\n",
    "        branches:\n",
    "            - main \n",
    "jobs:\n",
    "  build_docs:\n",
    "    runs-on: ubuntu-22.04\n",
    "    env:\n",
    "        PYTHON_VERSION: \"3.10\"\n",
    "\n",
    "    steps:\n",
    "      # checkout the repository\n",
    "      - uses: actions/checkout@v4\n",
    "\n",
    "      # setup Python\n",
    "      - name: Install Python ${{ env.PYTHON_VERSION }}\n",
    "        uses: actions/setup-python@v4\n",
    "        with:\n",
    "          python-version: ${{ env.PYTHON_VERSION }}\n",
    "\n",
    "      # preserve pip cache to speed up installation\n",
    "      - name: Cache pip\n",
    "        uses: actions/cache@v3\n",
    "        with:\n",
    "          path: ~/.cache/pip\n",
    "          # Look to see if there is a cache hit for the corresponding requirements file\n",
    "          key: ${{ runner.os }}-pip-${{ hashFiles('*requirements.txt') }}\n",
    "          restore-keys: |\n",
    "            ${{ runner.os }}-pip-\n",
    "      - name: Install Python dependencies\n",
    "        run: |\n",
    "          python -m pip install --upgrade pip\n",
    "          python -m pip install --upgrade .[dev]\n",
    "          python -m pip freeze\n",
    "      - name: Build documentation\n",
    "        run: |\n",
    "          cd docs\n",
    "          make html\n",
    "      - name: Upload documentation artifact\n",
    "        uses: actions/upload-artifact@v3\n",
    "        with:\n",
    "            name: documentation\n",
    "            path: ./docs/_build/html\n",
    "            if-no-files-found: error\n",
    "\n",
    "```\n",
    "\n",
    "By adding `workflow_call` to the settings that decide when this is executed, we allow this workflow to be run from inside another workflow.\n",
    "We can then create a Github publishing workflow, that only runs on the main branch, that pushes the web page to Github\n",
    "```yaml\n",
    "name: Github Pages\n",
    "\n",
    "on:\n",
    "  push:\n",
    "    branches: [main]\n",
    "\n",
    "# Sets permissions of the GITHUB_TOKEN to allow deployment to GitHub Pages\n",
    "permissions:\n",
    "  contents: read\n",
    "  pages: write\n",
    "  id-token: write\n",
    "\n",
    "# Allow one concurrent deployment\n",
    "concurrency:\n",
    "  group: \"pages\"\n",
    "  cancel-in-progress: true\n",
    "\n",
    "jobs:  \n",
    "\n",
    "  build-docs:\n",
    "    uses: ./.github/workflows/build_docs.yml\n",
    "\n",
    "  deploy:\n",
    "    needs: [build-docs]\n",
    "\n",
    "    environment:\n",
    "      name: github-pages\n",
    "      url: ${{ steps.deployment.outputs.page_url }}\n",
    "\n",
    "    runs-on: ubuntu-latest\n",
    "    steps:\n",
    "      - name: Download docs artifact\n",
    "        # docs artifact is uploaded by build-docs job\n",
    "        uses: actions/download-artifact@v3\n",
    "        with:\n",
    "          name: documentation\n",
    "          path: \"./public\"\n",
    "\n",
    "\n",
    "      - name: Upload artifact\n",
    "        uses: actions/upload-pages-artifact@v2\n",
    "        with:\n",
    "          path: \"./public\"\n",
    "\n",
    "      - name: Checkout\n",
    "        uses: actions/checkout@v4\n",
    "\n",
    "      - name: Setup Pages\n",
    "        uses: actions/configure-pages@v3\n",
    "\n",
    "      - name: Deploy to GitHub Pages\n",
    "        id: deployment\n",
    "        uses: actions/deploy-pages@v2\n",
    "\n",
    "```\n",
    "\n",
    "\n",
    "Check:\n",
    "\n",
    "https://github.com/UiO-IN3110/monty_hall_game/actions\n",
    "\n",
    "Check the build status page to see if your build passes or fails according to the return status of the build command by visiting your GitHub repository and selecting `actions`.\n"
   ]
  },
  {
   "cell_type": "markdown",
   "metadata": {},
   "source": [
    "## Current directory structure\n",
    "\n",
    "```bash\n",
    "monyty_hall_game/\n",
    "    README.md                      # Installation instructions\n",
    "    requirements.txt               # Dependencies\n",
    "    setup.py                       # Setuptools\n",
    "    monty_hall_game/               # Main module\n",
    "        __init__.py\n",
    "        web.py\n",
    "        cli.py\n",
    "        game_exceptions.py\n",
    "        monty_hall_game.py\n",
    "        templates/*.html\n",
    "        static/*.{png,jpg}\n",
    "    docs/                          # Sphinx documentation (mostly autogenerated)\n",
    "        conf.py\n",
    "        index.rst\n",
    "        Makefile\n",
    "        modules.rst\n",
    "        monty_hall_game.rst\n",
    "    tests                          # tests in pytest format\n",
    "        test_game_module.py\n",
    "    .github/workflows/test.yml     # continuous integration\n",
    "    .gitignore\n",
    "```\n"
   ]
  },
  {
   "cell_type": "markdown",
   "metadata": {},
   "source": [
    "## Deploy your Python library to PyPI\n",
    "\n",
    "Wouldn't it be nice if your users could just type in:\n",
    "\n",
    "```bash\n",
    "python3 -m pip install monty_hall_game\n",
    "```\n",
    "\n",
    "This is possible by uploading the package to the Python Package Index (PyPI).\n",
    "\n",
    "1. Create a source and wheel distribution with the following command:\n",
    "\n",
    "```bash\n",
    "python -m pip install build\n",
    "python -m build .\n",
    "```\n",
    "\n",
    "2. Upload the distribution to pypi (will ask for the pypi credentials) with:\n",
    "\n",
    "```bash\n",
    "twine upload -r test dist/*\n",
    "```\n",
    "\n",
    "Result see https://test.pypi.org/project/uio-monty-hall-game/\n"
   ]
  },
  {
   "cell_type": "code",
   "execution_count": 29,
   "metadata": {},
   "outputs": [
    {
     "name": "stdout",
     "output_type": "stream",
     "text": [
      "/home/dokken/Documents/UiO-IN3110.github.io/lectures/production/from-script-to-project/monty-hall-game4\n",
      "Defaulting to user installation because normal site-packages is not writeable\n",
      "Requirement already satisfied: build in /home/dokken/.local/lib/python3.8/site-packages (0.10.0)\n",
      "Requirement already satisfied: packaging>=19.0 in /home/dokken/.local/lib/python3.8/site-packages (from build) (23.0)\n",
      "Requirement already satisfied: pyproject_hooks in /home/dokken/.local/lib/python3.8/site-packages (from build) (1.0.0)\n",
      "Requirement already satisfied: tomli>=1.1.0 in /home/dokken/.local/lib/python3.8/site-packages (from build) (2.0.1)\n",
      "\u001b[1m* Creating venv isolated environment...\u001b[0m\n",
      "\u001b[1m* Installing packages in isolated environment... (setuptools)\u001b[0m\n",
      "\u001b[1m* Getting build dependencies for sdist...\u001b[0m\n",
      "running egg_info\n",
      "writing monty_hall_game.egg-info/PKG-INFO\n",
      "writing dependency_links to monty_hall_game.egg-info/dependency_links.txt\n",
      "writing entry points to monty_hall_game.egg-info/entry_points.txt\n",
      "writing requirements to monty_hall_game.egg-info/requires.txt\n",
      "writing top-level names to monty_hall_game.egg-info/top_level.txt\n",
      "reading manifest file 'monty_hall_game.egg-info/SOURCES.txt'\n",
      "writing manifest file 'monty_hall_game.egg-info/SOURCES.txt'\n",
      "\u001b[1m* Building sdist...\u001b[0m\n",
      "running sdist\n",
      "running egg_info\n",
      "writing monty_hall_game.egg-info/PKG-INFO\n",
      "writing dependency_links to monty_hall_game.egg-info/dependency_links.txt\n",
      "writing entry points to monty_hall_game.egg-info/entry_points.txt\n",
      "writing requirements to monty_hall_game.egg-info/requires.txt\n",
      "writing top-level names to monty_hall_game.egg-info/top_level.txt\n",
      "reading manifest file 'monty_hall_game.egg-info/SOURCES.txt'\n",
      "writing manifest file 'monty_hall_game.egg-info/SOURCES.txt'\n",
      "running check\n",
      "creating monty_hall_game-0.1.0\n",
      "creating monty_hall_game-0.1.0/monty_hall_game\n",
      "creating monty_hall_game-0.1.0/monty_hall_game.egg-info\n",
      "creating monty_hall_game-0.1.0/tests\n",
      "copying files to monty_hall_game-0.1.0...\n",
      "copying README.md -> monty_hall_game-0.1.0\n",
      "copying dev-requirements.txt -> monty_hall_game-0.1.0\n",
      "copying pyproject.toml -> monty_hall_game-0.1.0\n",
      "copying requirements.txt -> monty_hall_game-0.1.0\n",
      "copying monty_hall_game/__init__.py -> monty_hall_game-0.1.0/monty_hall_game\n",
      "copying monty_hall_game/cli.py -> monty_hall_game-0.1.0/monty_hall_game\n",
      "copying monty_hall_game/game_exceptions.py -> monty_hall_game-0.1.0/monty_hall_game\n",
      "copying monty_hall_game/monty_hall_game.py -> monty_hall_game-0.1.0/monty_hall_game\n",
      "copying monty_hall_game/web.py -> monty_hall_game-0.1.0/monty_hall_game\n",
      "copying monty_hall_game.egg-info/PKG-INFO -> monty_hall_game-0.1.0/monty_hall_game.egg-info\n",
      "copying monty_hall_game.egg-info/SOURCES.txt -> monty_hall_game-0.1.0/monty_hall_game.egg-info\n",
      "copying monty_hall_game.egg-info/dependency_links.txt -> monty_hall_game-0.1.0/monty_hall_game.egg-info\n",
      "copying monty_hall_game.egg-info/entry_points.txt -> monty_hall_game-0.1.0/monty_hall_game.egg-info\n",
      "copying monty_hall_game.egg-info/requires.txt -> monty_hall_game-0.1.0/monty_hall_game.egg-info\n",
      "copying monty_hall_game.egg-info/top_level.txt -> monty_hall_game-0.1.0/monty_hall_game.egg-info\n",
      "copying tests/test_game_module.py -> monty_hall_game-0.1.0/tests\n",
      "Writing monty_hall_game-0.1.0/setup.cfg\n",
      "Creating tar archive\n",
      "removing 'monty_hall_game-0.1.0' (and everything under it)\n",
      "\u001b[1m* Building wheel from sdist\u001b[0m\n",
      "\u001b[1m* Creating venv isolated environment...\u001b[0m\n",
      "\u001b[1m* Installing packages in isolated environment... (setuptools)\u001b[0m\n",
      "\u001b[1m* Getting build dependencies for wheel...\u001b[0m\n",
      "running egg_info\n",
      "writing monty_hall_game.egg-info/PKG-INFO\n",
      "writing dependency_links to monty_hall_game.egg-info/dependency_links.txt\n",
      "writing entry points to monty_hall_game.egg-info/entry_points.txt\n",
      "writing requirements to monty_hall_game.egg-info/requires.txt\n",
      "writing top-level names to monty_hall_game.egg-info/top_level.txt\n",
      "reading manifest file 'monty_hall_game.egg-info/SOURCES.txt'\n",
      "writing manifest file 'monty_hall_game.egg-info/SOURCES.txt'\n",
      "\u001b[1m* Installing packages in isolated environment... (wheel)\u001b[0m\n",
      "\u001b[1m* Building wheel...\u001b[0m\n",
      "running bdist_wheel\n",
      "running build\n",
      "running build_py\n",
      "creating build\n",
      "creating build/lib\n",
      "creating build/lib/monty_hall_game\n",
      "copying monty_hall_game/__init__.py -> build/lib/monty_hall_game\n",
      "copying monty_hall_game/cli.py -> build/lib/monty_hall_game\n",
      "copying monty_hall_game/monty_hall_game.py -> build/lib/monty_hall_game\n",
      "copying monty_hall_game/web.py -> build/lib/monty_hall_game\n",
      "copying monty_hall_game/game_exceptions.py -> build/lib/monty_hall_game\n",
      "running egg_info\n",
      "writing monty_hall_game.egg-info/PKG-INFO\n",
      "writing dependency_links to monty_hall_game.egg-info/dependency_links.txt\n",
      "writing entry points to monty_hall_game.egg-info/entry_points.txt\n",
      "writing requirements to monty_hall_game.egg-info/requires.txt\n",
      "writing top-level names to monty_hall_game.egg-info/top_level.txt\n",
      "reading manifest file 'monty_hall_game.egg-info/SOURCES.txt'\n",
      "writing manifest file 'monty_hall_game.egg-info/SOURCES.txt'\n",
      "installing to build/bdist.linux-x86_64/wheel\n",
      "running install\n",
      "running install_lib\n",
      "creating build/bdist.linux-x86_64\n",
      "creating build/bdist.linux-x86_64/wheel\n",
      "creating build/bdist.linux-x86_64/wheel/monty_hall_game\n",
      "copying build/lib/monty_hall_game/__init__.py -> build/bdist.linux-x86_64/wheel/monty_hall_game\n",
      "copying build/lib/monty_hall_game/cli.py -> build/bdist.linux-x86_64/wheel/monty_hall_game\n",
      "copying build/lib/monty_hall_game/monty_hall_game.py -> build/bdist.linux-x86_64/wheel/monty_hall_game\n",
      "copying build/lib/monty_hall_game/web.py -> build/bdist.linux-x86_64/wheel/monty_hall_game\n",
      "copying build/lib/monty_hall_game/game_exceptions.py -> build/bdist.linux-x86_64/wheel/monty_hall_game\n",
      "running install_egg_info\n",
      "Copying monty_hall_game.egg-info to build/bdist.linux-x86_64/wheel/monty_hall_game-0.1.0-py3.8.egg-info\n",
      "running install_scripts\n",
      "creating build/bdist.linux-x86_64/wheel/monty_hall_game-0.1.0.dist-info/WHEEL\n",
      "creating '/home/dokken/Documents/UiO-IN3110.github.io/lectures/production/from-script-to-project/monty-hall-game4/dist/.tmp-3oth9_sx/monty_hall_game-0.1.0-py3-none-any.whl' and adding 'build/bdist.linux-x86_64/wheel' to it\n",
      "adding 'monty_hall_game/__init__.py'\n",
      "adding 'monty_hall_game/cli.py'\n",
      "adding 'monty_hall_game/game_exceptions.py'\n",
      "adding 'monty_hall_game/monty_hall_game.py'\n",
      "adding 'monty_hall_game/web.py'\n",
      "adding 'monty_hall_game-0.1.0.dist-info/METADATA'\n",
      "adding 'monty_hall_game-0.1.0.dist-info/WHEEL'\n",
      "adding 'monty_hall_game-0.1.0.dist-info/entry_points.txt'\n",
      "adding 'monty_hall_game-0.1.0.dist-info/top_level.txt'\n",
      "adding 'monty_hall_game-0.1.0.dist-info/RECORD'\n",
      "removing build/bdist.linux-x86_64/wheel\n",
      "\u001b[1m\u001b[92mSuccessfully built \u001b[4mmonty_hall_game-0.1.0.tar.gz\u001b[0m\u001b[1m\u001b[92m and \u001b[4mmonty_hall_game-0.1.0-py3-none-any.whl\u001b[0m\u001b[1m\u001b[92m\u001b[0m\n"
     ]
    }
   ],
   "source": [
    "%cd monty-hall-game4\n",
    "!rm -rf dist\n",
    "!python3 -m pip install build\n",
    "!python3 -m build ."
   ]
  },
  {
   "cell_type": "code",
   "execution_count": 30,
   "metadata": {},
   "outputs": [
    {
     "name": "stdout",
     "output_type": "stream",
     "text": [
      "monty_hall_game-0.1.0-py3-none-any.whl  monty_hall_game-0.1.0.tar.gz\n"
     ]
    }
   ],
   "source": [
    "ls dist"
   ]
  },
  {
   "cell_type": "code",
   "execution_count": 32,
   "metadata": {},
   "outputs": [
    {
     "name": "stdout",
     "output_type": "stream",
     "text": [
      "Uploading distributions to https://test.pypi.org/legacy/\n",
      "Uploading uio_monty_hall_game-2022.11.17-py3-none-any.whl\n",
      "\u001b[2K\u001b[35m100%\u001b[0m \u001b[38;2;114;156;31m━━━━━━━━━━━━━━━━━━━━━━━━━━━━━━━━━━━━━━━━\u001b[0m \u001b[32m8.2/8.2 kB\u001b[0m • \u001b[33m00:00\u001b[0m • \u001b[31m278.3 kB/s\u001b[0m\n",
      "\u001b[?25hUploading uio-monty-hall-game-2022.11.17.tar.gz\n",
      "\u001b[2K\u001b[35m100%\u001b[0m \u001b[38;2;114;156;31m━━━━━━━━━━━━━━━━━━━━━━━━━━━━━━━━━━━━━━━━\u001b[0m \u001b[32m6.8/6.8 kB\u001b[0m • \u001b[33m00:00\u001b[0m • \u001b[31m?\u001b[0m\n",
      "\u001b[?25h\n",
      "\u001b[32mView at:\u001b[0m\n",
      "https://test.pypi.org/project/uio-monty-hall-game/2022.11.17/\n"
     ]
    }
   ],
   "source": [
    "!twine upload -r test dist/*"
   ]
  },
  {
   "cell_type": "markdown",
   "metadata": {},
   "source": [
    "## Final directory layout\n"
   ]
  },
  {
   "cell_type": "code",
   "execution_count": 31,
   "metadata": {},
   "outputs": [
    {
     "name": "stdout",
     "output_type": "stream",
     "text": [
      "\u001b[01;34m.\u001b[00m\n",
      "├── \u001b[01;34mbuild\u001b[00m\n",
      "│   ├── \u001b[01;34mbdist.linux-x86_64\u001b[00m\n",
      "│   └── \u001b[01;34mlib\u001b[00m\n",
      "│       └── \u001b[01;34mmonty_hall_game\u001b[00m\n",
      "│           ├── cli.py\n",
      "│           ├── game_exceptions.py\n",
      "│           ├── __init__.py\n",
      "│           ├── monty_hall_game.py\n",
      "│           └── web.py\n",
      "├── dev-requirements.txt\n",
      "├── \u001b[01;34mdist\u001b[00m\n",
      "│   ├── monty_hall_game-0.1.0-py3-none-any.whl\n",
      "│   └── \u001b[01;31mmonty_hall_game-0.1.0.tar.gz\u001b[00m\n",
      "├── \u001b[01;34mdocs\u001b[00m\n",
      "│   ├── \u001b[01;34mapi\u001b[00m\n",
      "│   │   ├── index.rst\n",
      "│   │   └── monty_hall_game.rst\n",
      "│   ├── \u001b[01;34m_build\u001b[00m\n",
      "│   │   ├── \u001b[01;34mdoctrees\u001b[00m\n",
      "│   │   │   ├── \u001b[01;34mapi\u001b[00m\n",
      "│   │   │   │   ├── index.doctree\n",
      "│   │   │   │   └── monty_hall_game.doctree\n",
      "│   │   │   ├── environment.pickle\n",
      "│   │   │   └── index.doctree\n",
      "│   │   └── \u001b[01;34mhtml\u001b[00m\n",
      "│   │       ├── \u001b[01;34mapi\u001b[00m\n",
      "│   │       │   ├── index.html\n",
      "│   │       │   └── monty_hall_game.html\n",
      "│   │       ├── genindex.html\n",
      "│   │       ├── index.html\n",
      "│   │       ├── \u001b[01;34m_modules\u001b[00m\n",
      "│   │       │   ├── index.html\n",
      "│   │       │   └── \u001b[01;34mmonty_hall_game\u001b[00m\n",
      "│   │       │       ├── game_exceptions.html\n",
      "│   │       │       └── monty_hall_game.html\n",
      "│   │       ├── objects.inv\n",
      "│   │       ├── py-modindex.html\n",
      "│   │       ├── search.html\n",
      "│   │       ├── searchindex.js\n",
      "│   │       ├── \u001b[01;34m_sources\u001b[00m\n",
      "│   │       │   ├── \u001b[01;34mapi\u001b[00m\n",
      "│   │       │   │   ├── index.rst.txt\n",
      "│   │       │   │   └── monty_hall_game.rst.txt\n",
      "│   │       │   └── index.rst.txt\n",
      "│   │       └── \u001b[01;34m_static\u001b[00m\n",
      "│   │           ├── alabaster.css\n",
      "│   │           ├── basic.css\n",
      "│   │           ├── custom.css\n",
      "│   │           ├── doctools.js\n",
      "│   │           ├── documentation_options.js\n",
      "│   │           ├── file.png\n",
      "│   │           ├── jquery-3.5.1.js\n",
      "│   │           ├── jquery.js\n",
      "│   │           ├── language_data.js\n",
      "│   │           ├── minus.png\n",
      "│   │           ├── plus.png\n",
      "│   │           ├── pygments.css\n",
      "│   │           ├── searchtools.js\n",
      "│   │           ├── underscore-1.13.1.js\n",
      "│   │           └── underscore.js\n",
      "│   ├── conf.py\n",
      "│   ├── index.rst\n",
      "│   ├── \u001b[01;32mmake.bat\u001b[00m\n",
      "│   └── Makefile\n",
      "├── \u001b[01;34mmonty_hall_game\u001b[00m\n",
      "│   ├── \u001b[01;32mcli.py\u001b[00m\n",
      "│   ├── game_exceptions.py\n",
      "│   ├── __init__.py\n",
      "│   ├── monty_hall_game.py\n",
      "│   ├── \u001b[01;34mstatic\u001b[00m\n",
      "│   │   ├── \u001b[01;35mcar.jpg\u001b[00m\n",
      "│   │   ├── door1.png\n",
      "│   │   ├── door2.png\n",
      "│   │   ├── door3.png\n",
      "│   │   ├── \u001b[01;35mgoat.jpg\u001b[00m\n",
      "│   │   ├── \u001b[01;35mgoat_lost.jpg\u001b[00m\n",
      "│   │   └── winner.png\n",
      "│   ├── \u001b[01;34mtemplates\u001b[00m\n",
      "│   │   ├── final.html\n",
      "│   │   ├── layout7.html\n",
      "│   │   ├── reselect.html\n",
      "│   │   └── select.html\n",
      "│   └── \u001b[01;32mweb.py\u001b[00m\n",
      "├── \u001b[01;34mmonty_hall_game.egg-info\u001b[00m\n",
      "│   ├── dependency_links.txt\n",
      "│   ├── entry_points.txt\n",
      "│   ├── PKG-INFO\n",
      "│   ├── requires.txt\n",
      "│   ├── SOURCES.txt\n",
      "│   └── top_level.txt\n",
      "├── pyproject.toml\n",
      "├── README.md\n",
      "├── readthedocs.yml\n",
      "├── requirements.txt\n",
      "├── runtime.txt\n",
      "└── \u001b[01;34mtests\u001b[00m\n",
      "    └── test_game_module.py\n",
      "\n",
      "22 directories, 75 files\n"
     ]
    }
   ],
   "source": [
    "!tree -I __pycache__ ."
   ]
  },
  {
   "cell_type": "markdown",
   "metadata": {},
   "source": [
    "```bash\n",
    "monyty_hall_game/\n",
    "    README.md                      # Installation instructions\n",
    "    requirements.txt               # Dependencies\n",
    "    setup.py                       # Setuptools\n",
    "    monty_hall_game/               # Our package\n",
    "        __init__.py\n",
    "        game_exceptions.py\n",
    "        monty_hall_game.py\n",
    "\n",
    "    bin/                           # Scripts\n",
    "        play_monty_hall_cli.py\n",
    "        play_monty_hall_web.py\n",
    "        templates/*.html\n",
    "    docs/                          # Sphinx documentation (mostly autogenerated)\n",
    "        conf.py\n",
    "        index.rst\n",
    "        Makefile\n",
    "        modules.rst\n",
    "        monty_hall_game.rst\n",
    "    tests                          # tests in pytest format\n",
    "        test_game_module.py\n",
    "    .github/workflows/test.yml     # continuous integration\n",
    "    .gitignore\n",
    "```\n"
   ]
  },
  {
   "cell_type": "markdown",
   "metadata": {},
   "source": [
    "## Summary of today's topics\n",
    "\n",
    "- **Installation**\n",
    "  - requirements.txt\n",
    "  - Package + pyproject.toml\n",
    "  - README.md\n",
    "- **Testing**\n",
    "  - Continuous integration (with GitHub)\n",
    "- **Documentation**\n",
    "  - Sphinx\n",
    "  - ReadTheDocs\n",
    "- **Deployment / Publishing**\n",
    "  - Deployment of Python packages with PyPI\n"
   ]
  }
 ],
 "metadata": {
  "kernelspec": {
   "display_name": "Python 3 (ipykernel)",
   "language": "python",
   "name": "python3"
  },
  "language_info": {
   "codemirror_mode": {
    "name": "ipython",
    "version": 3
   },
   "file_extension": ".py",
   "mimetype": "text/x-python",
   "name": "python",
   "nbconvert_exporter": "python",
   "pygments_lexer": "ipython3",
   "version": "3.8.10"
  },
  "nteract": {
   "version": "0.26.0"
  },
  "widgets": {
   "application/vnd.jupyter.widget-state+json": {
    "state": {},
    "version_major": 2,
    "version_minor": 0
   }
  }
 },
 "nbformat": 4,
 "nbformat_minor": 4
}
