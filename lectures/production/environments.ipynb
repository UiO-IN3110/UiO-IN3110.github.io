{
 "cells": [
  {
   "cell_type": "markdown",
   "metadata": {
    "editable": true,
    "slideshow": {
     "slide_type": ""
    },
    "tags": []
   },
   "source": [
    "# Environments\n",
    "\n",
    "```{note}\n",
    "This notebook uses the bash kernel. Install it with `python3 -m pip install bash_kernel` or run these commands in a shell.\n",
    "```\n",
    "\n",
    "A \"virtual environment\" is a directory isolating a collection of packages.\n",
    "The `venv` package in the standard library creates virtual environments.\n",
    "There are various wrappers, such as `virtualenvwrapper` that can add some functionality if you use envs a lot.\n",
    "\n",
    "to create an env:\n"
   ]
  },
  {
   "cell_type": "code",
   "execution_count": 1,
   "metadata": {
    "editable": true,
    "slideshow": {
     "slide_type": ""
    },
    "tags": []
   },
   "outputs": [
    {
     "name": "stdout",
     "output_type": "stream",
     "text": [
      "Requirement already satisfied: pip in ./env-1/lib/python3.10/site-packages (23.0.1)\n",
      "Collecting pip\n",
      "  Using cached pip-23.3.1-py3-none-any.whl (2.1 MB)\n",
      "Installing collected packages: pip\n",
      "  Attempting uninstall: pip\n",
      "    Found existing installation: pip 23.0.1\n",
      "    Uninstalling pip-23.0.1:\n",
      "      Successfully uninstalled pip-23.0.1\n",
      "Successfully installed pip-23.3.1\n",
      "\u001b[01;34menv-1\u001b[0m\n",
      "├── \u001b[01;34mbin\u001b[0m\n",
      "│   ├── \u001b[00mactivate\u001b[0m\n",
      "│   ├── \u001b[00mactivate.csh\u001b[0m\n",
      "│   ├── \u001b[00mactivate.fish\u001b[0m\n",
      "│   ├── \u001b[00mActivate.ps1\u001b[0m\n",
      "│   ├── \u001b[01;32mpip\u001b[0m\n",
      "│   ├── \u001b[01;32mpip3\u001b[0m\n",
      "│   ├── \u001b[01;32mpip3.10\u001b[0m\n",
      "│   ├── \u001b[01;36mpython\u001b[0m -> \u001b[01;32mpython3\u001b[0m\n",
      "│   ├── \u001b[01;36mpython3\u001b[0m -> \u001b[01;32m/home/dokken/src/mambaforge/envs/UIO-IN3110/bin/python3\u001b[0m\n",
      "│   └── \u001b[01;36mpython3.10\u001b[0m -> \u001b[01;32mpython3\u001b[0m\n",
      "├── \u001b[01;34minclude\u001b[0m\n",
      "├── \u001b[01;34mlib\u001b[0m\n",
      "│   └── \u001b[01;34mpython3.10\u001b[0m\n",
      "├── \u001b[01;36mlib64\u001b[0m -> \u001b[01;34mlib\u001b[0m\n",
      "└── \u001b[00mpyvenv.cfg\u001b[0m\n",
      "\n",
      "5 directories, 11 files\n"
     ]
    }
   ],
   "source": [
    "# --clear means delete an env if there already was one at this location\n",
    "!python3 -m venv --clear ./env-1\n",
    "!./env-1/bin/pip install --upgrade pip\n",
    "\n",
    "# tree will show us a peek at what's in the env\n",
    "!tree -L 2 env-1"
   ]
  },
  {
   "cell_type": "markdown",
   "metadata": {
    "editable": true,
    "slideshow": {
     "slide_type": ""
    },
    "tags": []
   },
   "source": [
    "I have a lot of packages in my main environment!\n"
   ]
  },
  {
   "cell_type": "code",
   "execution_count": 2,
   "metadata": {
    "editable": true,
    "slideshow": {
     "slide_type": ""
    },
    "tags": []
   },
   "outputs": [
    {
     "name": "stdout",
     "output_type": "stream",
     "text": [
      "\n",
      "\u001b[1m[\u001b[0m\u001b[34;49mnotice\u001b[0m\u001b[1;39;49m]\u001b[0m\u001b[39;49m A new release of pip is available: \u001b[0m\u001b[31;49m23.1.2\u001b[0m\u001b[39;49m -> \u001b[0m\u001b[32;49m23.3.1\u001b[0m\n",
      "\u001b[1m[\u001b[0m\u001b[34;49mnotice\u001b[0m\u001b[1;39;49m]\u001b[0m\u001b[39;49m To update, run: \u001b[0m\u001b[32;49mpip install --upgrade pip\u001b[0m\n",
      "314\n",
      "/home/dokken/src/mambaforge/envs/UIO-IN3110/bin/python3\n"
     ]
    }
   ],
   "source": [
    "!python3 -m pip list | wc -l && which python3"
   ]
  },
  {
   "cell_type": "markdown",
   "metadata": {},
   "source": [
    "If we consider the new environment, we barely have any packages\n"
   ]
  },
  {
   "cell_type": "code",
   "execution_count": 7,
   "metadata": {
    "editable": true,
    "slideshow": {
     "slide_type": ""
    },
    "tags": []
   },
   "outputs": [
    {
     "name": "stdout",
     "output_type": "stream",
     "text": [
      "env: VIRTUAL_ENV_DISABLE_PROMPT=1\n",
      "Package                   Version\n",
      "------------------------- ------------\n",
      "altair                    5.1.2\n",
      "attrs                     23.1.0\n",
      "blinker                   1.7.0\n",
      "click                     8.1.7\n",
      "Flask                     3.0.0\n",
      "itsdangerous              2.1.2\n",
      "Jinja2                    3.1.2\n",
      "jsonschema                4.19.2\n",
      "jsonschema-specifications 2023.7.1\n",
      "MarkupSafe                2.1.3\n",
      "numpy                     1.26.2\n",
      "packaging                 23.2\n",
      "pandas                    2.1.3\n",
      "pip                       23.3.1\n",
      "python-dateutil           2.8.2\n",
      "pytz                      2023.3.post1\n",
      "referencing               0.30.2\n",
      "rpds-py                   0.12.0\n",
      "setuptools                65.5.0\n",
      "six                       1.16.0\n",
      "toolz                     0.12.0\n",
      "typing_extensions         4.8.0\n",
      "tzdata                    2023.3\n",
      "vega-datasets             0.9.0\n",
      "Werkzeug                  3.0.1\n",
      "/home/dokken/Documents/src/UiO/UiO-IN3110.github.io/lectures/production/env-1/bin/python3\n"
     ]
    }
   ],
   "source": [
    "# If you want to run this in the terminal, replace `%env` with `export`\n",
    "%env VIRTUAL_ENV_DISABLE_PROMPT=1\n",
    "!source ./env-1/bin/activate && python3 -m pip list && which python3"
   ]
  },
  {
   "cell_type": "code",
   "execution_count": 8,
   "metadata": {
    "editable": true,
    "slideshow": {
     "slide_type": ""
    },
    "tags": []
   },
   "outputs": [
    {
     "name": "stdout",
     "output_type": "stream",
     "text": [
      "altair\n",
      "flask\n",
      "vega_datasets\n"
     ]
    }
   ],
   "source": [
    "!cat requirements.txt"
   ]
  },
  {
   "cell_type": "code",
   "execution_count": 9,
   "metadata": {
    "editable": true,
    "slideshow": {
     "slide_type": ""
    },
    "tags": []
   },
   "outputs": [
    {
     "name": "stdout",
     "output_type": "stream",
     "text": [
      "Requirement already satisfied: altair in ./env-1/lib/python3.10/site-packages (from -r requirements.txt (line 1)) (5.1.2)\n",
      "Requirement already satisfied: flask in ./env-1/lib/python3.10/site-packages (from -r requirements.txt (line 2)) (3.0.0)\n",
      "Requirement already satisfied: vega_datasets in ./env-1/lib/python3.10/site-packages (from -r requirements.txt (line 3)) (0.9.0)\n",
      "Requirement already satisfied: jinja2 in ./env-1/lib/python3.10/site-packages (from altair->-r requirements.txt (line 1)) (3.1.2)\n",
      "Requirement already satisfied: jsonschema>=3.0 in ./env-1/lib/python3.10/site-packages (from altair->-r requirements.txt (line 1)) (4.19.2)\n",
      "Requirement already satisfied: numpy in ./env-1/lib/python3.10/site-packages (from altair->-r requirements.txt (line 1)) (1.26.2)\n",
      "Requirement already satisfied: packaging in ./env-1/lib/python3.10/site-packages (from altair->-r requirements.txt (line 1)) (23.2)\n",
      "Requirement already satisfied: pandas>=0.25 in ./env-1/lib/python3.10/site-packages (from altair->-r requirements.txt (line 1)) (2.1.3)\n",
      "Requirement already satisfied: toolz in ./env-1/lib/python3.10/site-packages (from altair->-r requirements.txt (line 1)) (0.12.0)\n",
      "Requirement already satisfied: typing-extensions>=4.0.1 in ./env-1/lib/python3.10/site-packages (from altair->-r requirements.txt (line 1)) (4.8.0)\n",
      "Requirement already satisfied: Werkzeug>=3.0.0 in ./env-1/lib/python3.10/site-packages (from flask->-r requirements.txt (line 2)) (3.0.1)\n",
      "Requirement already satisfied: itsdangerous>=2.1.2 in ./env-1/lib/python3.10/site-packages (from flask->-r requirements.txt (line 2)) (2.1.2)\n",
      "Requirement already satisfied: click>=8.1.3 in ./env-1/lib/python3.10/site-packages (from flask->-r requirements.txt (line 2)) (8.1.7)\n",
      "Requirement already satisfied: blinker>=1.6.2 in ./env-1/lib/python3.10/site-packages (from flask->-r requirements.txt (line 2)) (1.7.0)\n",
      "Requirement already satisfied: MarkupSafe>=2.0 in ./env-1/lib/python3.10/site-packages (from jinja2->altair->-r requirements.txt (line 1)) (2.1.3)\n",
      "Requirement already satisfied: attrs>=22.2.0 in ./env-1/lib/python3.10/site-packages (from jsonschema>=3.0->altair->-r requirements.txt (line 1)) (23.1.0)\n",
      "Requirement already satisfied: jsonschema-specifications>=2023.03.6 in ./env-1/lib/python3.10/site-packages (from jsonschema>=3.0->altair->-r requirements.txt (line 1)) (2023.7.1)\n",
      "Requirement already satisfied: referencing>=0.28.4 in ./env-1/lib/python3.10/site-packages (from jsonschema>=3.0->altair->-r requirements.txt (line 1)) (0.30.2)\n",
      "Requirement already satisfied: rpds-py>=0.7.1 in ./env-1/lib/python3.10/site-packages (from jsonschema>=3.0->altair->-r requirements.txt (line 1)) (0.12.0)\n",
      "Requirement already satisfied: python-dateutil>=2.8.2 in ./env-1/lib/python3.10/site-packages (from pandas>=0.25->altair->-r requirements.txt (line 1)) (2.8.2)\n",
      "Requirement already satisfied: pytz>=2020.1 in ./env-1/lib/python3.10/site-packages (from pandas>=0.25->altair->-r requirements.txt (line 1)) (2023.3.post1)\n",
      "Requirement already satisfied: tzdata>=2022.1 in ./env-1/lib/python3.10/site-packages (from pandas>=0.25->altair->-r requirements.txt (line 1)) (2023.3)\n",
      "Requirement already satisfied: six>=1.5 in ./env-1/lib/python3.10/site-packages (from python-dateutil>=2.8.2->pandas>=0.25->altair->-r requirements.txt (line 1)) (1.16.0)\n"
     ]
    }
   ],
   "source": [
    "# To run this command in a terminal, simply call the source command above, as it sets the path to the correct python3 installation\n",
    "!./env-1/bin/python3 -m pip install -r requirements.txt"
   ]
  },
  {
   "cell_type": "code",
   "execution_count": 10,
   "metadata": {
    "editable": true,
    "slideshow": {
     "slide_type": ""
    },
    "tags": []
   },
   "outputs": [
    {
     "name": "stdout",
     "output_type": "stream",
     "text": [
      "Package                   Version\n",
      "------------------------- ------------\n",
      "altair                    5.1.2\n",
      "attrs                     23.1.0\n",
      "blinker                   1.7.0\n",
      "click                     8.1.7\n",
      "Flask                     3.0.0\n",
      "itsdangerous              2.1.2\n",
      "Jinja2                    3.1.2\n",
      "jsonschema                4.19.2\n",
      "jsonschema-specifications 2023.7.1\n",
      "MarkupSafe                2.1.3\n",
      "numpy                     1.26.2\n",
      "packaging                 23.2\n",
      "pandas                    2.1.3\n",
      "pip                       23.3.1\n",
      "python-dateutil           2.8.2\n",
      "pytz                      2023.3.post1\n",
      "referencing               0.30.2\n",
      "rpds-py                   0.12.0\n",
      "setuptools                65.5.0\n",
      "six                       1.16.0\n",
      "toolz                     0.12.0\n",
      "typing_extensions         4.8.0\n",
      "tzdata                    2023.3\n",
      "vega-datasets             0.9.0\n",
      "Werkzeug                  3.0.1\n"
     ]
    }
   ],
   "source": [
    "!./env-1/bin/python3 -m pip list"
   ]
  },
  {
   "cell_type": "markdown",
   "metadata": {
    "editable": true,
    "slideshow": {
     "slide_type": ""
    },
    "tags": []
   },
   "source": [
    "But what about reproducible builds? What if a new release of altair breaks my application?\n",
    "\n",
    "**Solution:** Pin specific versions?\n",
    "\n",
    "```bash\n",
    "# requirements.txt\n",
    "altair==4.1.0\n",
    "vega-datasets==0.8.0\n",
    "flask==1.1.2\n",
    "```\n",
    "\n",
    "```{warning}\n",
    "💣 this is the worst possible thing!\n",
    "\n",
    "1. it ensures that your direct dependencies are not updated (fine), but\n",
    "2. it **does not** ensure that their dependencies are not updated\n",
    "```\n",
    "\n",
    "This _guarantees_ that your env will break when a dependency is updated. If you had left everything unpinned, it is likely your code would not break, unless the APIs your code uses change. But partial pinning is a way to _guarantee_ something will break, even if your code works fine with the latest version of everything.\n",
    "\n",
    "If you are pinning dependencies, it should be _all or nothing_, never partial. Ideally, this should include Python itself!\n"
   ]
  },
  {
   "cell_type": "code",
   "execution_count": 11,
   "metadata": {
    "editable": true,
    "slideshow": {
     "slide_type": ""
    },
    "tags": []
   },
   "outputs": [
    {
     "name": "stdout",
     "output_type": "stream",
     "text": [
      "altair==5.1.2\n",
      "attrs==23.1.0\n",
      "blinker==1.7.0\n",
      "click==8.1.7\n",
      "Flask==3.0.0\n",
      "itsdangerous==2.1.2\n",
      "Jinja2==3.1.2\n",
      "jsonschema==4.19.2\n",
      "jsonschema-specifications==2023.7.1\n",
      "MarkupSafe==2.1.3\n",
      "numpy==1.26.2\n",
      "packaging==23.2\n",
      "pandas==2.1.3\n",
      "python-dateutil==2.8.2\n",
      "pytz==2023.3.post1\n",
      "referencing==0.30.2\n",
      "rpds-py==0.12.0\n",
      "six==1.16.0\n",
      "toolz==0.12.0\n",
      "typing_extensions==4.8.0\n",
      "tzdata==2023.3\n",
      "vega-datasets==0.9.0\n",
      "Werkzeug==3.0.1\n"
     ]
    }
   ],
   "source": [
    "!./env-1/bin/python3 -m pip freeze"
   ]
  },
  {
   "cell_type": "markdown",
   "metadata": {
    "editable": true,
    "slideshow": {
     "slide_type": ""
    },
    "tags": []
   },
   "source": [
    "## Pip-tools\n",
    "\n",
    "[pip-tools](https://github.com/jazzband/pip-tools) is a collection of tools to solve\n",
    "the \"loose vs pinned\" dependency problem.\n",
    "\n",
    "Instead of a single `requirements.txt`, you have a human-mananged `requirements.in` with only direct, loose dependencies, and an automatically managed `requirements.txt` with a fully pinned environment, including all dependencies.\n"
   ]
  },
  {
   "cell_type": "code",
   "execution_count": 12,
   "metadata": {
    "editable": true,
    "slideshow": {
     "slide_type": ""
    },
    "tags": []
   },
   "outputs": [
    {
     "name": "stdout",
     "output_type": "stream",
     "text": [
      "Collecting pip-tools\n",
      "  Using cached pip_tools-7.3.0-py3-none-any.whl.metadata (23 kB)\n",
      "Collecting build (from pip-tools)\n",
      "  Using cached build-1.0.3-py3-none-any.whl.metadata (4.2 kB)\n",
      "Requirement already satisfied: click>=8 in ./env-1/lib/python3.10/site-packages (from pip-tools) (8.1.7)\n",
      "Requirement already satisfied: pip>=22.2 in ./env-1/lib/python3.10/site-packages (from pip-tools) (23.3.1)\n",
      "Requirement already satisfied: setuptools in ./env-1/lib/python3.10/site-packages (from pip-tools) (65.5.0)\n",
      "Collecting wheel (from pip-tools)\n",
      "  Using cached wheel-0.41.3-py3-none-any.whl.metadata (2.2 kB)\n",
      "Collecting tomli (from pip-tools)\n",
      "  Using cached tomli-2.0.1-py3-none-any.whl (12 kB)\n",
      "Requirement already satisfied: packaging>=19.0 in ./env-1/lib/python3.10/site-packages (from build->pip-tools) (23.2)\n",
      "Collecting pyproject_hooks (from build->pip-tools)\n",
      "  Using cached pyproject_hooks-1.0.0-py3-none-any.whl (9.3 kB)\n",
      "Using cached pip_tools-7.3.0-py3-none-any.whl (57 kB)\n",
      "Using cached build-1.0.3-py3-none-any.whl (18 kB)\n",
      "Using cached wheel-0.41.3-py3-none-any.whl (65 kB)\n",
      "Installing collected packages: wheel, tomli, pyproject_hooks, build, pip-tools\n",
      "Successfully installed build-1.0.3 pip-tools-7.3.0 pyproject_hooks-1.0.0 tomli-2.0.1 wheel-0.41.3\n"
     ]
    }
   ],
   "source": [
    "!./env-1/bin/python3 -m pip install pip-tools"
   ]
  },
  {
   "cell_type": "code",
   "execution_count": 13,
   "metadata": {
    "editable": true,
    "slideshow": {
     "slide_type": ""
    },
    "tags": []
   },
   "outputs": [],
   "source": [
    "!cp requirements.txt pip-tools/requirements.in\n",
    "!rm -f pip-tools/requirements.txt"
   ]
  },
  {
   "cell_type": "markdown",
   "metadata": {},
   "source": [
    "We can now navigate into the folder with the `requirements.in` file, and call `pip-compile` (or if we want to be particular about the version, call `path/to/python/installation -m piptools compile`)\n"
   ]
  },
  {
   "cell_type": "code",
   "execution_count": 18,
   "metadata": {
    "editable": true,
    "slideshow": {
     "slide_type": ""
    },
    "tags": []
   },
   "outputs": [
    {
     "name": "stdout",
     "output_type": "stream",
     "text": [
      "\u001b[33mWARNING: --strip-extras is becoming the default in version 8.0.0. To silence this warning, either use --strip-extras to opt into the new default or use --no-strip-extras to retain the existing behavior.\u001b[0m\n",
      "\u001b[32m#\u001b[0m\u001b[0m\n",
      "\u001b[32m# This file is autogenerated by pip-compile with Python 3.10\u001b[0m\u001b[0m\n",
      "\u001b[32m# by the following command:\u001b[0m\u001b[0m\n",
      "\u001b[32m#\u001b[0m\u001b[0m\n",
      "\u001b[32m#    pip-compile\u001b[0m\u001b[0m\n",
      "\u001b[32m#\u001b[0m\u001b[0m\n",
      "altair==5.1.2\n",
      "    \u001b[32m# via -r requirements.in\u001b[0m\u001b[0m\n",
      "attrs==23.1.0\n",
      "    \u001b[32m# via\n",
      "    #   jsonschema\n",
      "    #   referencing\u001b[0m\u001b[0m\n",
      "blinker==1.7.0\n",
      "    \u001b[32m# via flask\u001b[0m\u001b[0m\n",
      "click==8.1.7\n",
      "    \u001b[32m# via flask\u001b[0m\u001b[0m\n",
      "flask==3.0.0\n",
      "    \u001b[32m# via -r requirements.in\u001b[0m\u001b[0m\n",
      "itsdangerous==2.1.2\n",
      "    \u001b[32m# via flask\u001b[0m\u001b[0m\n",
      "jinja2==3.1.2\n",
      "    \u001b[32m# via\n",
      "    #   altair\n",
      "    #   flask\u001b[0m\u001b[0m\n",
      "jsonschema==4.19.2\n",
      "    \u001b[32m# via altair\u001b[0m\u001b[0m\n",
      "jsonschema-specifications==2023.7.1\n",
      "    \u001b[32m# via jsonschema\u001b[0m\u001b[0m\n",
      "markupsafe==2.1.3\n",
      "    \u001b[32m# via\n",
      "    #   jinja2\n",
      "    #   werkzeug\u001b[0m\u001b[0m\n",
      "numpy==1.26.2\n",
      "    \u001b[32m# via\n",
      "    #   altair\n",
      "    #   pandas\u001b[0m\u001b[0m\n",
      "packaging==23.2\n",
      "    \u001b[32m# via altair\u001b[0m\u001b[0m\n",
      "pandas==2.1.3\n",
      "    \u001b[32m# via\n",
      "    #   altair\n",
      "    #   vega-datasets\u001b[0m\u001b[0m\n",
      "python-dateutil==2.8.2\n",
      "    \u001b[32m# via pandas\u001b[0m\u001b[0m\n",
      "pytz==2023.3.post1\n",
      "    \u001b[32m# via pandas\u001b[0m\u001b[0m\n",
      "referencing==0.30.2\n",
      "    \u001b[32m# via\n",
      "    #   jsonschema\n",
      "    #   jsonschema-specifications\u001b[0m\u001b[0m\n",
      "rpds-py==0.12.0\n",
      "    \u001b[32m# via\n",
      "    #   jsonschema\n",
      "    #   referencing\u001b[0m\u001b[0m\n",
      "six==1.16.0\n",
      "    \u001b[32m# via python-dateutil\u001b[0m\u001b[0m\n",
      "toolz==0.12.0\n",
      "    \u001b[32m# via altair\u001b[0m\u001b[0m\n",
      "typing-extensions==4.8.0\n",
      "    \u001b[32m# via altair\u001b[0m\u001b[0m\n",
      "tzdata==2023.3\n",
      "    \u001b[32m# via pandas\u001b[0m\u001b[0m\n",
      "vega-datasets==0.9.0\n",
      "    \u001b[32m# via -r requirements.in\u001b[0m\u001b[0m\n",
      "werkzeug==3.0.1\n",
      "    \u001b[32m# via flask\u001b[0m\u001b[0m\n"
     ]
    }
   ],
   "source": [
    "!cd pip-tools && ../env-1/bin/python3 -m piptools compile"
   ]
  },
  {
   "cell_type": "markdown",
   "metadata": {
    "editable": true,
    "slideshow": {
     "slide_type": ""
    },
    "tags": []
   },
   "source": [
    "When you start, there is no difference between\n",
    "\n",
    "```bash\n",
    "python3 -m pip install -r requirements.in\n",
    "```\n",
    "\n",
    "and\n",
    "\n",
    "```bash\n",
    "python3 -m pip install -r requirements.txt\n",
    "```\n",
    "\n",
    "The distinction is: `requirements.in` will install _different things over time_, while `requirements.txt` will always install the same exact things until you change it, e.g. by running `pip-compile` again to upgrade packages, or after editing `requirements.in`.\n"
   ]
  },
  {
   "cell_type": "code",
   "execution_count": 20,
   "metadata": {
    "editable": true,
    "slideshow": {
     "slide_type": ""
    },
    "tags": []
   },
   "outputs": [
    {
     "name": "stdout",
     "output_type": "stream",
     "text": [
      "altair\n",
      "flask\n",
      "vega_datasets\n"
     ]
    }
   ],
   "source": [
    "!cat pip-tools/requirements.in"
   ]
  },
  {
   "cell_type": "code",
   "execution_count": 21,
   "metadata": {
    "editable": true,
    "slideshow": {
     "slide_type": ""
    },
    "tags": []
   },
   "outputs": [
    {
     "name": "stdout",
     "output_type": "stream",
     "text": [
      "#\n",
      "# This file is autogenerated by pip-compile with Python 3.10\n",
      "# by the following command:\n",
      "#\n",
      "#    pip-compile\n",
      "#\n",
      "altair==5.1.2\n",
      "    # via -r requirements.in\n",
      "attrs==23.1.0\n",
      "    # via\n",
      "    #   jsonschema\n",
      "    #   referencing\n",
      "blinker==1.7.0\n",
      "    # via flask\n",
      "click==8.1.7\n",
      "    # via flask\n",
      "flask==3.0.0\n",
      "    # via -r requirements.in\n",
      "itsdangerous==2.1.2\n",
      "    # via flask\n",
      "jinja2==3.1.2\n",
      "    # via\n",
      "    #   altair\n",
      "    #   flask\n",
      "jsonschema==4.19.2\n",
      "    # via altair\n",
      "jsonschema-specifications==2023.7.1\n",
      "    # via jsonschema\n",
      "markupsafe==2.1.3\n",
      "    # via\n",
      "    #   jinja2\n",
      "    #   werkzeug\n",
      "numpy==1.26.2\n",
      "    # via\n",
      "    #   altair\n",
      "    #   pandas\n",
      "packaging==23.2\n",
      "    # via altair\n",
      "pandas==2.1.3\n",
      "    # via\n",
      "    #   altair\n",
      "    #   vega-datasets\n",
      "python-dateutil==2.8.2\n",
      "    # via pandas\n",
      "pytz==2023.3.post1\n",
      "    # via pandas\n",
      "referencing==0.30.2\n",
      "    # via\n",
      "    #   jsonschema\n",
      "    #   jsonschema-specifications\n",
      "rpds-py==0.12.0\n",
      "    # via\n",
      "    #   jsonschema\n",
      "    #   referencing\n",
      "six==1.16.0\n",
      "    # via python-dateutil\n",
      "toolz==0.12.0\n",
      "    # via altair\n",
      "typing-extensions==4.8.0\n",
      "    # via altair\n",
      "tzdata==2023.3\n",
      "    # via pandas\n",
      "vega-datasets==0.9.0\n",
      "    # via -r requirements.in\n",
      "werkzeug==3.0.1\n",
      "    # via flask\n"
     ]
    }
   ],
   "source": [
    "!cat pip-tools/requirements.txt"
   ]
  },
  {
   "cell_type": "markdown",
   "metadata": {
    "editable": true,
    "slideshow": {
     "slide_type": ""
    },
    "tags": []
   },
   "source": [
    "## pipenv\n",
    "\n",
    "[pipenv](https://pipenv.pypa.io) is a tool built around pipfiles that does a similar thing to pip-tools, but one step removed.\n",
    "\n",
    "- uses [Pipfile](https://github.com/pypa/pipfile) format instead of requirements.txt\n",
    "- Pipfile.lock for pinned versions\n",
    "- includes specifying the Python version itself, and additional informat about _how_ to install pacakges\n",
    "- manages environments as well\n"
   ]
  },
  {
   "cell_type": "code",
   "execution_count": 24,
   "metadata": {
    "editable": true,
    "slideshow": {
     "slide_type": ""
    },
    "tags": []
   },
   "outputs": [
    {
     "name": "stdout",
     "output_type": "stream",
     "text": [
      "[requires]\n",
      "python_version = \"3.10\"\n",
      "\n",
      "[packages]\n",
      "altair = \"*\"\n",
      "flask = \"*\"\n",
      "vega-datasets = \"*\"\n"
     ]
    }
   ],
   "source": [
    "!cd pipfile && cat Pipfile"
   ]
  },
  {
   "cell_type": "markdown",
   "metadata": {
    "editable": true,
    "slideshow": {
     "slide_type": ""
    },
    "tags": []
   },
   "source": [
    "If we are using a terminal were we have activate the `env-1` environment with the `source ./env-1/bin/activate` command, we can deactivate it by calling `deactivate`.\n"
   ]
  },
  {
   "cell_type": "code",
   "execution_count": 25,
   "metadata": {
    "editable": true,
    "slideshow": {
     "slide_type": ""
    },
    "tags": []
   },
   "outputs": [
    {
     "name": "stdout",
     "output_type": "stream",
     "text": [
      "Collecting pipenv\n",
      "  Downloading pipenv-2023.10.24-py3-none-any.whl (3.2 MB)\n",
      "\u001b[2K     \u001b[90m━━━━━━━━━━━━━━━━━━━━━━━━━━━━━━━━━━━━━━━━\u001b[0m \u001b[32m3.2/3.2 MB\u001b[0m \u001b[31m17.2 MB/s\u001b[0m eta \u001b[36m0:00:00\u001b[0m00:01\u001b[0m00:01\u001b[0m\n",
      "\u001b[?25hRequirement already satisfied: certifi in /home/dokken/src/mambaforge/envs/UIO-IN3110/lib/python3.10/site-packages (from pipenv) (2023.7.22)\n",
      "Requirement already satisfied: setuptools>=67 in /home/dokken/src/mambaforge/envs/UIO-IN3110/lib/python3.10/site-packages (from pipenv) (68.1.2)\n",
      "Collecting virtualenv>=20.24.2 (from pipenv)\n",
      "  Downloading virtualenv-20.24.6-py3-none-any.whl (3.8 MB)\n",
      "\u001b[2K     \u001b[90m━━━━━━━━━━━━━━━━━━━━━━━━━━━━━━━━━━━━━━━━\u001b[0m \u001b[32m3.8/3.8 MB\u001b[0m \u001b[31m29.2 MB/s\u001b[0m eta \u001b[36m0:00:00\u001b[0m00:01\u001b[0m00:01\u001b[0m\n",
      "\u001b[?25hCollecting distlib<1,>=0.3.7 (from virtualenv>=20.24.2->pipenv)\n",
      "  Using cached distlib-0.3.7-py2.py3-none-any.whl (468 kB)\n",
      "Collecting filelock<4,>=3.12.2 (from virtualenv>=20.24.2->pipenv)\n",
      "  Downloading filelock-3.13.1-py3-none-any.whl (11 kB)\n",
      "Collecting platformdirs<4,>=3.9.1 (from virtualenv>=20.24.2->pipenv)\n",
      "  Downloading platformdirs-3.11.0-py3-none-any.whl (17 kB)\n",
      "Installing collected packages: distlib, platformdirs, filelock, virtualenv, pipenv\n",
      "  Attempting uninstall: distlib\n",
      "    Found existing installation: distlib 0.3.6\n",
      "    Uninstalling distlib-0.3.6:\n",
      "      Successfully uninstalled distlib-0.3.6\n",
      "  Attempting uninstall: platformdirs\n",
      "    Found existing installation: platformdirs 2.6.2\n",
      "    Uninstalling platformdirs-2.6.2:\n",
      "      Successfully uninstalled platformdirs-2.6.2\n",
      "  Attempting uninstall: filelock\n",
      "    Found existing installation: filelock 3.12.0\n",
      "    Uninstalling filelock-3.12.0:\n",
      "      Successfully uninstalled filelock-3.12.0\n",
      "  Attempting uninstall: virtualenv\n",
      "    Found existing installation: virtualenv 20.21.1\n",
      "    Uninstalling virtualenv-20.21.1:\n",
      "      Successfully uninstalled virtualenv-20.21.1\n",
      "Successfully installed distlib-0.3.7 filelock-3.13.1 pipenv-2023.10.24 platformdirs-3.10.0 virtualenv-20.24.6\n",
      "\n",
      "\u001b[1m[\u001b[0m\u001b[34;49mnotice\u001b[0m\u001b[1;39;49m]\u001b[0m\u001b[39;49m A new release of pip is available: \u001b[0m\u001b[31;49m23.1.2\u001b[0m\u001b[39;49m -> \u001b[0m\u001b[32;49m23.3.1\u001b[0m\n",
      "\u001b[1m[\u001b[0m\u001b[34;49mnotice\u001b[0m\u001b[1;39;49m]\u001b[0m\u001b[39;49m To update, run: \u001b[0m\u001b[32;49mpip install --upgrade pip\u001b[0m\n"
     ]
    }
   ],
   "source": [
    "!python3 -m pip install pipenv"
   ]
  },
  {
   "cell_type": "code",
   "execution_count": 26,
   "metadata": {
    "editable": true,
    "slideshow": {
     "slide_type": ""
    },
    "tags": []
   },
   "outputs": [
    {
     "name": "stdout",
     "output_type": "stream",
     "text": [
      "\u001b[1mCreating a virtualenv for this project...\u001b[0m\n",
      "Pipfile: \u001b[33m\u001b[1m/home/dokken/Documents/src/UiO/UiO-IN3110.github.io/lectures/production/Pipfile\u001b[0m\n",
      "\u001b[1mUsing default python from\u001b[0m \u001b[33m\u001b[1m/home/dokken/src/mambaforge/envs/UIO-IN3110/bin/python3\u001b[0m \u001b[32m(3.10.12)\u001b[0m \u001b[1mto create virtualenv...\u001b[0m\n",
      "\u001b[2K\u001b[32m⠸\u001b[0m Creating virtual environment.....\u001b[36mcreated virtual environment CPython3.10.12.final.0-64 in 639ms\n",
      "  creator CPython3Posix(dest=/home/dokken/.local/share/virtualenvs/production-2vyAGA3H, clear=False, no_vcs_ignore=False, global=False)\n",
      "  seeder FromAppData(download=False, pip=bundle, setuptools=bundle, wheel=bundle, via=copy, app_data_dir=/home/dokken/.local/share/virtualenv)\n",
      "    added seed packages: pip==23.3.1, setuptools==68.2.2, wheel==0.41.2\n",
      "  activators BashActivator,CShellActivator,FishActivator,NushellActivator,PowerShellActivator,PythonActivator\n",
      "\u001b[0m\n",
      "✔ Successfully created virtual environment!\n",
      "\u001b[2K\u001b[32m⠸\u001b[0m Creating virtual environment...\n",
      "\u001b[1A\u001b[2K\u001b[32mVirtualenv location: /home/dokken/.local/share/virtualenvs/production-2vyAGA3H\u001b[0m\n",
      "\u001b[1mrequirements.txt\u001b[0m found in \n",
      "\u001b[1;33m/home/dokken/Documents/src/UiO/UiO-IN3110.github.io/lectures/\u001b[0m\u001b[1;33mproduction\u001b[0m instead \n",
      "of \u001b[1mPipfile\u001b[0m! Converting\u001b[33m...\u001b[0m\n",
      "\u001b[2K✔ Success! Importing requirements.....\n",
      "\u001b[2K\u001b[32m⠸\u001b[0m Importing requirements...\n",
      "\u001b[1A\u001b[2K\u001b[1;31mWarning\u001b[0m: Your \u001b[1mPipfile\u001b[0m now contains pinned versions, if your \u001b[1mrequirements.txt\u001b[0m \n",
      "did. \n",
      "We recommend updating your \u001b[1mPipfile\u001b[0m to specify the \u001b[1;32m\"*\"\u001b[0m version, instead.\n",
      "Locking\u001b[0m \u001b[33m[packages]\u001b[0m dependencies...\u001b[0m\n",
      "\u001b[?25lBuilding requirements\u001b[33m...\u001b[0m\n",
      "\u001b[2KResolving dependencies\u001b[33m...\u001b[0m\n",
      "\u001b[2K✔ Success! Locking...\n",
      "\u001b[2K\u001b[32m⠦\u001b[0m Locking...\n",
      "\u001b[1A\u001b[2KLocking\u001b[0m \u001b[33m[dev-packages]\u001b[0m dependencies...\u001b[0m\n",
      "\u001b[1mUpdated Pipfile.lock (644e57b07835e87b285d8338676a8bde3d24b8412120203e96731a83b770b772)!\u001b[0m\n"
     ]
    }
   ],
   "source": [
    "!python3 -m pipenv lock"
   ]
  },
  {
   "cell_type": "code",
   "execution_count": 27,
   "metadata": {
    "editable": true,
    "slideshow": {
     "slide_type": ""
    },
    "tags": []
   },
   "outputs": [
    {
     "name": "stdout",
     "output_type": "stream",
     "text": [
      "\u001b[1mInstalling dependencies from Pipfile.lock \u001b[0m\u001b[1m(\u001b[0m\u001b[1m70b772\u001b[0m\u001b[1m)\u001b[0m\u001b[1;33m...\u001b[0m\n",
      "To activate this project's virtualenv, run \u001b[33mpipenv shell\u001b[0m.\n",
      "Alternatively, run a command inside the virtualenv with \u001b[33mpipenv run\u001b[0m.\n"
     ]
    }
   ],
   "source": [
    "!python3 -m pipenv install"
   ]
  },
  {
   "cell_type": "code",
   "execution_count": 29,
   "metadata": {
    "editable": true,
    "slideshow": {
     "slide_type": ""
    },
    "tags": []
   },
   "outputs": [
    {
     "name": "stdout",
     "output_type": "stream",
     "text": [
      "/home/dokken/src/mambaforge/envs/UIO-IN3110\n"
     ]
    }
   ],
   "source": [
    "!python3 -c \"import sys; print(sys.prefix)\""
   ]
  },
  {
   "cell_type": "code",
   "execution_count": 30,
   "metadata": {
    "editable": true,
    "slideshow": {
     "slide_type": ""
    },
    "tags": []
   },
   "outputs": [
    {
     "name": "stdout",
     "output_type": "stream",
     "text": [
      "/home/dokken/.local/share/virtualenvs/production-2vyAGA3H\n"
     ]
    }
   ],
   "source": [
    "!python3 -m pipenv run python -c \"import sys; print(sys.prefix)\""
   ]
  },
  {
   "cell_type": "code",
   "execution_count": 32,
   "metadata": {
    "editable": true,
    "slideshow": {
     "slide_type": ""
    },
    "tags": []
   },
   "outputs": [
    {
     "name": "stdout",
     "output_type": "stream",
     "text": [
      "Package                   Version\n",
      "------------------------- ------------\n",
      "altair                    5.1.2\n",
      "attrs                     23.1.0\n",
      "blinker                   1.7.0\n",
      "click                     8.1.7\n",
      "Flask                     3.0.0\n",
      "itsdangerous              2.1.2\n",
      "Jinja2                    3.1.2\n",
      "jsonschema                4.19.2\n",
      "jsonschema-specifications 2023.7.1\n",
      "MarkupSafe                2.1.3\n",
      "numpy                     1.26.2\n",
      "packaging                 23.2\n",
      "pandas                    2.1.3\n",
      "pip                       23.3.1\n",
      "python-dateutil           2.8.2\n",
      "pytz                      2023.3.post1\n",
      "referencing               0.30.2\n",
      "rpds-py                   0.12.0\n",
      "setuptools                68.2.2\n",
      "six                       1.16.0\n",
      "toolz                     0.12.0\n",
      "typing_extensions         4.8.0\n",
      "tzdata                    2023.3\n",
      "vega-datasets             0.9.0\n",
      "Werkzeug                  3.0.1\n",
      "wheel                     0.41.2\n"
     ]
    }
   ],
   "source": [
    "!python3 -m pipenv run pip list"
   ]
  },
  {
   "cell_type": "code",
   "execution_count": 33,
   "metadata": {
    "editable": true,
    "slideshow": {
     "slide_type": ""
    },
    "tags": []
   },
   "outputs": [
    {
     "name": "stdout",
     "output_type": "stream",
     "text": [
      "{\n",
      "    \"_meta\": {\n",
      "        \"hash\": {\n",
      "            \"sha256\": \"644e57b07835e87b285d8338676a8bde3d24b8412120203e96731a83b770b772\"\n",
      "        },\n",
      "        \"pipfile-spec\": 6,\n",
      "        \"requires\": {\n",
      "            \"python_version\": \"3.10\"\n",
      "        },\n",
      "        \"sources\": [\n",
      "            {\n",
      "                \"name\": \"pypi\",\n",
      "                \"url\": \"https://pypi.org/simple\",\n",
      "                \"verify_ssl\": true\n",
      "            }\n",
      "        ]\n",
      "    },\n",
      "    \"default\": {\n",
      "        \"altair\": {\n",
      "            \"hashes\": [\n",
      "                \"sha256:7219708ec33c152e53145485040f428954ed15fd09b2a2d89e543e6d111dae7f\",\n",
      "                \"sha256:e5f52a71853a607c61ce93ad4a414b3d486cd0d46ac597a24ae8bd1ac99dd460\"\n",
      "            ],\n",
      "            \"index\": \"pypi\",\n",
      "            \"markers\": \"python_version >= '3.8'\",\n",
      "            \"version\": \"==5.1.2\"\n",
      "        },\n",
      "        \"attrs\": {\n",
      "            \"hashes\": [\n",
      "                \"sha256:1f28b4522cdc2fb4256ac1a020c78acf9cba2c6b461ccd2c126f3aa8e8335d04\",\n"
     ]
    }
   ],
   "source": [
    "!head -n 30 Pipfile.lock"
   ]
  },
  {
   "cell_type": "code",
   "execution_count": null,
   "metadata": {},
   "outputs": [],
   "source": []
  }
 ],
 "metadata": {
  "kernelspec": {
   "display_name": "UIO-IN3110",
   "language": "python",
   "name": "python3"
  },
  "language_info": {
   "codemirror_mode": {
    "name": "ipython",
    "version": 3
   },
   "file_extension": ".py",
   "mimetype": "text/x-python",
   "name": "python",
   "nbconvert_exporter": "python",
   "pygments_lexer": "ipython3",
   "version": "3.10.12"
  },
  "widgets": {
   "application/vnd.jupyter.widget-state+json": {
    "state": {},
    "version_major": 2,
    "version_minor": 0
   }
  }
 },
 "nbformat": 4,
 "nbformat_minor": 4
}
