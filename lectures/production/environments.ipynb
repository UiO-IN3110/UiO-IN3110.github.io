{
 "cells": [
  {
   "cell_type": "markdown",
   "metadata": {
    "editable": true,
    "slideshow": {
     "slide_type": ""
    },
    "tags": []
   },
   "source": [
    "# Environments\n",
    "\n",
    "\n",
    "**Note:** this notebook uses the bash kernel. Intall it with `pip install bash_kernel` or run these commands in a shell.\n",
    "\n",
    "\n",
    "A \"virtual environment\" is a directory isolating a collection of packages.\n",
    "The `venv` package in the standard library creates virtualenvs.\n",
    "There are various wrappers, such as `virtualenvwrapper` that can add some functionality if you use envs a lot.\n",
    "\n",
    "\n",
    "to create an env:"
   ]
  },
  {
   "cell_type": "code",
   "execution_count": 1,
   "metadata": {
    "editable": true,
    "slideshow": {
     "slide_type": ""
    },
    "tags": []
   },
   "outputs": [
    {
     "name": "stdout",
     "output_type": "stream",
     "text": [
      "Requirement already satisfied: pip in ./env-1/lib/python3.11/site-packages (22.3.1)\n",
      "Collecting pip\n",
      "  Using cached pip-23.2.1-py3-none-any.whl (2.1 MB)\n",
      "Installing collected packages: pip\n",
      "  Attempting uninstall: pip\n",
      "    Found existing installation: pip 22.3.1\n",
      "    Uninstalling pip-22.3.1:\n",
      "      Successfully uninstalled pip-22.3.1\n",
      "Successfully installed pip-23.2.1\n",
      "env-1\n",
      "├── bin\n",
      "│   ├── Activate.ps1\n",
      "│   ├── activate\n",
      "│   ├── activate.csh\n",
      "│   ├── activate.fish\n",
      "│   ├── pip\n",
      "│   ├── pip3\n",
      "│   ├── pip3.11\n",
      "│   ├── python -> /Users/minrk/conda/bin/python\n",
      "│   ├── python3 -> python\n",
      "│   └── python3.11 -> python\n",
      "├── include\n",
      "│   └── python3.11\n",
      "├── lib\n",
      "│   └── python3.11\n",
      "└── pyvenv.cfg\n",
      "\n",
      "6 directories, 11 files\n"
     ]
    }
   ],
   "source": [
    "# --clear means delete an env if there already was one at this location\n",
    "python -m venv --clear ./env-1\n",
    "./env-1/bin/pip install --upgrade pip\n",
    "\n",
    "# tree will show us a peek at what's in the env\n",
    "tree -L 2 env-1"
   ]
  },
  {
   "cell_type": "markdown",
   "metadata": {
    "editable": true,
    "slideshow": {
     "slide_type": ""
    },
    "tags": []
   },
   "source": [
    "I have a lot of packages in my main environment!"
   ]
  },
  {
   "cell_type": "code",
   "execution_count": 2,
   "metadata": {
    "editable": true,
    "slideshow": {
     "slide_type": ""
    },
    "tags": []
   },
   "outputs": [
    {
     "name": "stdout",
     "output_type": "stream",
     "text": [
      "     456\n"
     ]
    }
   ],
   "source": [
    "pip list | wc -l"
   ]
  },
  {
   "cell_type": "code",
   "execution_count": 3,
   "metadata": {
    "editable": true,
    "slideshow": {
     "slide_type": ""
    },
    "tags": []
   },
   "outputs": [
    {
     "name": "stdout",
     "output_type": "stream",
     "text": [
      "Package    Version\n",
      "---------- -------\n",
      "pip        23.2.1\n",
      "setuptools 65.5.0\n"
     ]
    }
   ],
   "source": [
    "VIRTUAL_ENV_DISABLE_PROMPT=1\n",
    "source ./env-1/bin/activate\n",
    "pip list"
   ]
  },
  {
   "cell_type": "code",
   "execution_count": 4,
   "metadata": {
    "editable": true,
    "slideshow": {
     "slide_type": ""
    },
    "tags": []
   },
   "outputs": [
    {
     "name": "stdout",
     "output_type": "stream",
     "text": [
      "altair\n",
      "flask\n",
      "vega_datasets\n"
     ]
    }
   ],
   "source": [
    "cat requirements.txt"
   ]
  },
  {
   "cell_type": "code",
   "execution_count": 5,
   "metadata": {
    "editable": true,
    "slideshow": {
     "slide_type": ""
    },
    "tags": []
   },
   "outputs": [
    {
     "name": "stdout",
     "output_type": "stream",
     "text": [
      "Collecting altair (from -r requirements.txt (line 1))\n",
      "  Obtaining dependency information for altair from https://files.pythonhosted.org/packages/b2/20/5c3b89d6f8d9938325a9330793438389e0dc94c34d921f6da35ec62095f3/altair-5.0.1-py3-none-any.whl.metadata\n",
      "  Downloading altair-5.0.1-py3-none-any.whl.metadata (8.5 kB)\n",
      "Collecting flask (from -r requirements.txt (line 2))\n",
      "  Obtaining dependency information for flask from https://files.pythonhosted.org/packages/fd/56/26f0be8adc2b4257df20c1c4260ddd0aa396cf8e75d90ab2f7ff99bc34f9/flask-2.3.3-py3-none-any.whl.metadata\n",
      "  Downloading flask-2.3.3-py3-none-any.whl.metadata (3.6 kB)\n",
      "Collecting vega_datasets (from -r requirements.txt (line 3))\n",
      "  Using cached vega_datasets-0.9.0-py3-none-any.whl (210 kB)\n",
      "Collecting jinja2 (from altair->-r requirements.txt (line 1))\n",
      "  Using cached Jinja2-3.1.2-py3-none-any.whl (133 kB)\n",
      "Collecting jsonschema>=3.0 (from altair->-r requirements.txt (line 1))\n",
      "  Obtaining dependency information for jsonschema>=3.0 from https://files.pythonhosted.org/packages/2b/ff/af59fd34bc4d7ac3e6e0cd1f3c10317d329b6c1aee179e8b24ad9a79fbac/jsonschema-4.19.0-py3-none-any.whl.metadata\n",
      "  Downloading jsonschema-4.19.0-py3-none-any.whl.metadata (8.2 kB)\n",
      "Collecting numpy (from altair->-r requirements.txt (line 1))\n",
      "  Obtaining dependency information for numpy from https://files.pythonhosted.org/packages/86/a1/b8ef999c32f26a97b5f714887e21f96c12ae99a38583a0a96e65283ac0a1/numpy-1.25.2-cp311-cp311-macosx_11_0_arm64.whl.metadata\n",
      "  Using cached numpy-1.25.2-cp311-cp311-macosx_11_0_arm64.whl.metadata (5.6 kB)\n",
      "Collecting pandas>=0.18 (from altair->-r requirements.txt (line 1))\n",
      "  Obtaining dependency information for pandas>=0.18 from https://files.pythonhosted.org/packages/8f/bb/aea1fbeed5b474cb8634364718abe9030d7cc7a30bf51f40bd494bbc89a2/pandas-2.0.3-cp311-cp311-macosx_11_0_arm64.whl.metadata\n",
      "  Using cached pandas-2.0.3-cp311-cp311-macosx_11_0_arm64.whl.metadata (18 kB)\n",
      "Collecting toolz (from altair->-r requirements.txt (line 1))\n",
      "  Using cached toolz-0.12.0-py3-none-any.whl (55 kB)\n",
      "Collecting Werkzeug>=2.3.7 (from flask->-r requirements.txt (line 2))\n",
      "  Obtaining dependency information for Werkzeug>=2.3.7 from https://files.pythonhosted.org/packages/9b/59/a7c32e3d8d0e546a206e0552a2c04444544f15c1da4a01df8938d20c6ffc/werkzeug-2.3.7-py3-none-any.whl.metadata\n",
      "  Downloading werkzeug-2.3.7-py3-none-any.whl.metadata (4.1 kB)\n",
      "Collecting itsdangerous>=2.1.2 (from flask->-r requirements.txt (line 2))\n",
      "  Using cached itsdangerous-2.1.2-py3-none-any.whl (15 kB)\n",
      "Collecting click>=8.1.3 (from flask->-r requirements.txt (line 2))\n",
      "  Obtaining dependency information for click>=8.1.3 from https://files.pythonhosted.org/packages/00/2e/d53fa4befbf2cfa713304affc7ca780ce4fc1fd8710527771b58311a3229/click-8.1.7-py3-none-any.whl.metadata\n",
      "  Using cached click-8.1.7-py3-none-any.whl.metadata (3.0 kB)\n",
      "Collecting blinker>=1.6.2 (from flask->-r requirements.txt (line 2))\n",
      "  Using cached blinker-1.6.2-py3-none-any.whl (13 kB)\n",
      "Collecting MarkupSafe>=2.0 (from jinja2->altair->-r requirements.txt (line 1))\n",
      "  Obtaining dependency information for MarkupSafe>=2.0 from https://files.pythonhosted.org/packages/fe/09/c31503cb8150cf688c1534a7135cc39bb9092f8e0e6369ec73494d16ee0e/MarkupSafe-2.1.3-cp311-cp311-macosx_10_9_universal2.whl.metadata\n",
      "  Using cached MarkupSafe-2.1.3-cp311-cp311-macosx_10_9_universal2.whl.metadata (3.0 kB)\n",
      "Collecting attrs>=22.2.0 (from jsonschema>=3.0->altair->-r requirements.txt (line 1))\n",
      "  Using cached attrs-23.1.0-py3-none-any.whl (61 kB)\n",
      "Collecting jsonschema-specifications>=2023.03.6 (from jsonschema>=3.0->altair->-r requirements.txt (line 1))\n",
      "  Obtaining dependency information for jsonschema-specifications>=2023.03.6 from https://files.pythonhosted.org/packages/1c/24/83349ac2189cc2435e84da3f69ba3c97314d3c0622628e55171c6798ed80/jsonschema_specifications-2023.7.1-py3-none-any.whl.metadata\n",
      "  Using cached jsonschema_specifications-2023.7.1-py3-none-any.whl.metadata (2.8 kB)\n",
      "Collecting referencing>=0.28.4 (from jsonschema>=3.0->altair->-r requirements.txt (line 1))\n",
      "  Obtaining dependency information for referencing>=0.28.4 from https://files.pythonhosted.org/packages/be/8e/56d6f1e2d591f4d6cbcba446cac4a1b0dc4f584537e2071d9bcee8eeab6b/referencing-0.30.2-py3-none-any.whl.metadata\n",
      "  Downloading referencing-0.30.2-py3-none-any.whl.metadata (2.6 kB)\n",
      "Collecting rpds-py>=0.7.1 (from jsonschema>=3.0->altair->-r requirements.txt (line 1))\n",
      "  Obtaining dependency information for rpds-py>=0.7.1 from https://files.pythonhosted.org/packages/70/bc/63cd73e793ac65059ed7c72659b192e79fb91548fb49854762ce6ab9de23/rpds_py-0.9.2-cp311-cp311-macosx_11_0_arm64.whl.metadata\n",
      "  Using cached rpds_py-0.9.2-cp311-cp311-macosx_11_0_arm64.whl.metadata (3.7 kB)\n",
      "Collecting python-dateutil>=2.8.2 (from pandas>=0.18->altair->-r requirements.txt (line 1))\n",
      "  Using cached python_dateutil-2.8.2-py2.py3-none-any.whl (247 kB)\n",
      "Collecting pytz>=2020.1 (from pandas>=0.18->altair->-r requirements.txt (line 1))\n",
      "  Using cached pytz-2023.3-py2.py3-none-any.whl (502 kB)\n",
      "Collecting tzdata>=2022.1 (from pandas>=0.18->altair->-r requirements.txt (line 1))\n",
      "  Using cached tzdata-2023.3-py2.py3-none-any.whl (341 kB)\n",
      "Collecting six>=1.5 (from python-dateutil>=2.8.2->pandas>=0.18->altair->-r requirements.txt (line 1))\n",
      "  Using cached six-1.16.0-py2.py3-none-any.whl (11 kB)\n",
      "Using cached altair-5.0.1-py3-none-any.whl (471 kB)\n",
      "Downloading flask-2.3.3-py3-none-any.whl (96 kB)\n",
      "\u001b[2K   \u001b[38;2;114;156;31m━━━━━━━━━━━━━━━━━━━━━━━━━━━━━━━━━━━━━━━━\u001b[0m \u001b[32m96.1/96.1 kB\u001b[0m \u001b[31m5.5 MB/s\u001b[0m eta \u001b[36m0:00:00\u001b[0m\n",
      "\u001b[?25hUsing cached click-8.1.7-py3-none-any.whl (97 kB)\n",
      "Using cached jsonschema-4.19.0-py3-none-any.whl (83 kB)\n",
      "Using cached pandas-2.0.3-cp311-cp311-macosx_11_0_arm64.whl (10.7 MB)\n",
      "Using cached numpy-1.25.2-cp311-cp311-macosx_11_0_arm64.whl (14.0 MB)\n",
      "Downloading werkzeug-2.3.7-py3-none-any.whl (242 kB)\n",
      "\u001b[2K   \u001b[38;2;114;156;31m━━━━━━━━━━━━━━━━━━━━━━━━━━━━━━━━━━━━━━━━\u001b[0m \u001b[32m242.2/242.2 kB\u001b[0m \u001b[31m14.2 MB/s\u001b[0m eta \u001b[36m0:00:00\u001b[0m\n",
      "\u001b[?25hUsing cached jsonschema_specifications-2023.7.1-py3-none-any.whl (17 kB)\n",
      "Using cached MarkupSafe-2.1.3-cp311-cp311-macosx_10_9_universal2.whl (17 kB)\n",
      "Using cached referencing-0.30.2-py3-none-any.whl (25 kB)\n",
      "Using cached rpds_py-0.9.2-cp311-cp311-macosx_11_0_arm64.whl (306 kB)\n",
      "Installing collected packages: pytz, tzdata, toolz, six, rpds-py, numpy, MarkupSafe, itsdangerous, click, blinker, attrs, Werkzeug, referencing, python-dateutil, jinja2, pandas, jsonschema-specifications, flask, vega_datasets, jsonschema, altair\n",
      "Successfully installed MarkupSafe-2.1.3 Werkzeug-2.3.7 altair-5.0.1 attrs-23.1.0 blinker-1.6.2 click-8.1.7 flask-2.3.3 itsdangerous-2.1.2 jinja2-3.1.2 jsonschema-4.19.0 jsonschema-specifications-2023.7.1 numpy-1.25.2 pandas-2.0.3 python-dateutil-2.8.2 pytz-2023.3 referencing-0.30.2 rpds-py-0.9.2 six-1.16.0 toolz-0.12.0 tzdata-2023.3 vega_datasets-0.9.0\n"
     ]
    }
   ],
   "source": [
    "pip install -r requirements.txt"
   ]
  },
  {
   "cell_type": "code",
   "execution_count": 6,
   "metadata": {
    "editable": true,
    "slideshow": {
     "slide_type": ""
    },
    "tags": []
   },
   "outputs": [
    {
     "name": "stdout",
     "output_type": "stream",
     "text": [
      "Package                   Version\n",
      "------------------------- --------\n",
      "altair                    5.0.1\n",
      "attrs                     23.1.0\n",
      "blinker                   1.6.2\n",
      "click                     8.1.7\n",
      "Flask                     2.3.3\n",
      "itsdangerous              2.1.2\n",
      "Jinja2                    3.1.2\n",
      "jsonschema                4.19.0\n",
      "jsonschema-specifications 2023.7.1\n",
      "MarkupSafe                2.1.3\n",
      "numpy                     1.25.2\n",
      "pandas                    2.0.3\n",
      "pip                       23.2.1\n",
      "python-dateutil           2.8.2\n",
      "pytz                      2023.3\n",
      "referencing               0.30.2\n",
      "rpds-py                   0.9.2\n",
      "setuptools                65.5.0\n",
      "six                       1.16.0\n",
      "toolz                     0.12.0\n",
      "tzdata                    2023.3\n",
      "vega-datasets             0.9.0\n",
      "Werkzeug                  2.3.7\n"
     ]
    }
   ],
   "source": [
    "pip list"
   ]
  },
  {
   "cell_type": "markdown",
   "metadata": {
    "editable": true,
    "slideshow": {
     "slide_type": ""
    },
    "tags": []
   },
   "source": [
    "But what about reproducible builds? What if a new release of altair breaks my application?\n",
    "\n",
    "Solution: Pin specific versions?\n",
    "\n",
    "```\n",
    "# requirements.txt\n",
    "altair==4.1.0\n",
    "vega-datasets==0.8.0\n",
    "flask==1.1.2\n",
    "```\n",
    "\n",
    "💣 this is the works possible thing!\n",
    "\n",
    "1. it ensures that your direct dependencies are not updated (fine), but\n",
    "2. it **does not** ensure that their dependencies are not updated\n",
    "\n",
    "This *guarantees* that your env will break when a dependency is updated. If you had left everything unpinned, it is likely your code would not break, unless the APIs your code uses change. But partial pinning is a way to *guarantee* something will break, even if your code works fine with the latest version of everything.\n",
    "\n",
    "If you are pinning dependencies, it should be *all or nothing*, never partial. Ideally, this should include Python itself!"
   ]
  },
  {
   "cell_type": "code",
   "execution_count": 7,
   "metadata": {
    "editable": true,
    "slideshow": {
     "slide_type": ""
    },
    "tags": []
   },
   "outputs": [
    {
     "name": "stdout",
     "output_type": "stream",
     "text": [
      "altair==5.0.1\n",
      "attrs==23.1.0\n",
      "blinker==1.6.2\n",
      "click==8.1.7\n",
      "Flask==2.3.3\n",
      "itsdangerous==2.1.2\n",
      "Jinja2==3.1.2\n",
      "jsonschema==4.19.0\n",
      "jsonschema-specifications==2023.7.1\n",
      "MarkupSafe==2.1.3\n",
      "numpy==1.25.2\n",
      "pandas==2.0.3\n",
      "python-dateutil==2.8.2\n",
      "pytz==2023.3\n",
      "referencing==0.30.2\n",
      "rpds-py==0.9.2\n",
      "six==1.16.0\n",
      "toolz==0.12.0\n",
      "tzdata==2023.3\n",
      "vega-datasets==0.9.0\n",
      "Werkzeug==2.3.7\n"
     ]
    }
   ],
   "source": [
    "pip freeze"
   ]
  },
  {
   "cell_type": "markdown",
   "metadata": {
    "editable": true,
    "slideshow": {
     "slide_type": ""
    },
    "tags": []
   },
   "source": [
    "[pip-tools](https://github.com/jazzband/pip-tools) is a collection of tools to solve\n",
    "the \"loose vs pinned\" dependency problem.\n",
    "\n",
    "Instead of a single `requirements.txt`, you have a human-mananged `requirements.in` with only direct, loose dependencies, and an automatically managed `requirements.txt` with a fully pinned environment, including all dependencies."
   ]
  },
  {
   "cell_type": "code",
   "execution_count": 8,
   "metadata": {
    "editable": true,
    "slideshow": {
     "slide_type": ""
    },
    "tags": []
   },
   "outputs": [
    {
     "name": "stdout",
     "output_type": "stream",
     "text": [
      "Collecting pip-tools\n",
      "  Obtaining dependency information for pip-tools from https://files.pythonhosted.org/packages/e8/df/47e6267c6b5cdae867adbdd84b437393e6202ce4322de0a5e0b92960e1d6/pip_tools-7.3.0-py3-none-any.whl.metadata\n",
      "  Using cached pip_tools-7.3.0-py3-none-any.whl.metadata (23 kB)\n",
      "Collecting build (from pip-tools)\n",
      "  Using cached build-0.10.0-py3-none-any.whl (17 kB)\n",
      "Requirement already satisfied: click>=8 in ./env-1/lib/python3.11/site-packages (from pip-tools) (8.1.7)\n",
      "Requirement already satisfied: pip>=22.2 in ./env-1/lib/python3.11/site-packages (from pip-tools) (23.2.1)\n",
      "Requirement already satisfied: setuptools in ./env-1/lib/python3.11/site-packages (from pip-tools) (65.5.0)\n",
      "Collecting wheel (from pip-tools)\n",
      "  Obtaining dependency information for wheel from https://files.pythonhosted.org/packages/b8/8b/31273bf66016be6ad22bb7345c37ff350276cfd46e389a0c2ac5da9d9073/wheel-0.41.2-py3-none-any.whl.metadata\n",
      "  Using cached wheel-0.41.2-py3-none-any.whl.metadata (2.2 kB)\n",
      "Collecting packaging>=19.0 (from build->pip-tools)\n",
      "  Using cached packaging-23.1-py3-none-any.whl (48 kB)\n",
      "Collecting pyproject_hooks (from build->pip-tools)\n",
      "  Using cached pyproject_hooks-1.0.0-py3-none-any.whl (9.3 kB)\n",
      "Using cached pip_tools-7.3.0-py3-none-any.whl (57 kB)\n",
      "Using cached wheel-0.41.2-py3-none-any.whl (64 kB)\n",
      "Installing collected packages: wheel, pyproject_hooks, packaging, build, pip-tools\n",
      "Successfully installed build-0.10.0 packaging-23.1 pip-tools-7.3.0 pyproject_hooks-1.0.0 wheel-0.41.2\n"
     ]
    }
   ],
   "source": [
    "pip install pip-tools"
   ]
  },
  {
   "cell_type": "code",
   "execution_count": 9,
   "metadata": {
    "editable": true,
    "slideshow": {
     "slide_type": ""
    },
    "tags": []
   },
   "outputs": [],
   "source": [
    "cp requirements.txt pip-tools/requirements.in\n",
    "rm -f pip-tools/requirements.txt"
   ]
  },
  {
   "cell_type": "code",
   "execution_count": 10,
   "metadata": {
    "editable": true,
    "slideshow": {
     "slide_type": ""
    },
    "tags": []
   },
   "outputs": [],
   "source": [
    "cd pip-tools"
   ]
  },
  {
   "cell_type": "code",
   "execution_count": 11,
   "metadata": {
    "editable": true,
    "slideshow": {
     "slide_type": ""
    },
    "tags": []
   },
   "outputs": [
    {
     "name": "stdout",
     "output_type": "stream",
     "text": [
      "\u001b[33mWARNING: --strip-extras is becoming the default in version 8.0.0. To silence this warning, either use --strip-extras to opt into the new default or use --no-strip-extras to retain the existing behavior.\u001b[0m\n",
      "\u001b[32m#\u001b[0m\u001b[0m\n",
      "\u001b[32m# This file is autogenerated by pip-compile with Python 3.11\u001b[0m\u001b[0m\n",
      "\u001b[32m# by the following command:\u001b[0m\u001b[0m\n",
      "\u001b[32m#\u001b[0m\u001b[0m\n",
      "\u001b[32m#    pip-compile\u001b[0m\u001b[0m\n",
      "\u001b[32m#\u001b[0m\u001b[0m\n",
      "altair==5.0.1\n",
      "    \u001b[32m# via -r requirements.in\u001b[0m\u001b[0m\n",
      "attrs==23.1.0\n",
      "    \u001b[32m# via\n",
      "    #   jsonschema\n",
      "    #   referencing\u001b[0m\u001b[0m\n",
      "blinker==1.6.2\n",
      "    \u001b[32m# via flask\u001b[0m\u001b[0m\n",
      "click==8.1.7\n",
      "    \u001b[32m# via flask\u001b[0m\u001b[0m\n",
      "flask==2.3.3\n",
      "    \u001b[32m# via -r requirements.in\u001b[0m\u001b[0m\n",
      "itsdangerous==2.1.2\n",
      "    \u001b[32m# via flask\u001b[0m\u001b[0m\n",
      "jinja2==3.1.2\n",
      "    \u001b[32m# via\n",
      "    #   altair\n",
      "    #   flask\u001b[0m\u001b[0m\n",
      "jsonschema==4.19.0\n",
      "    \u001b[32m# via altair\u001b[0m\u001b[0m\n",
      "jsonschema-specifications==2023.7.1\n",
      "    \u001b[32m# via jsonschema\u001b[0m\u001b[0m\n",
      "markupsafe==2.1.3\n",
      "    \u001b[32m# via\n",
      "    #   jinja2\n",
      "    #   werkzeug\u001b[0m\u001b[0m\n",
      "numpy==1.25.2\n",
      "    \u001b[32m# via\n",
      "    #   altair\n",
      "    #   pandas\u001b[0m\u001b[0m\n",
      "pandas==2.0.3\n",
      "    \u001b[32m# via\n",
      "    #   altair\n",
      "    #   vega-datasets\u001b[0m\u001b[0m\n",
      "python-dateutil==2.8.2\n",
      "    \u001b[32m# via pandas\u001b[0m\u001b[0m\n",
      "pytz==2023.3\n",
      "    \u001b[32m# via pandas\u001b[0m\u001b[0m\n",
      "referencing==0.30.2\n",
      "    \u001b[32m# via\n",
      "    #   jsonschema\n",
      "    #   jsonschema-specifications\u001b[0m\u001b[0m\n",
      "rpds-py==0.9.2\n",
      "    \u001b[32m# via\n",
      "    #   jsonschema\n",
      "    #   referencing\u001b[0m\u001b[0m\n",
      "six==1.16.0\n",
      "    \u001b[32m# via python-dateutil\u001b[0m\u001b[0m\n",
      "toolz==0.12.0\n",
      "    \u001b[32m# via altair\u001b[0m\u001b[0m\n",
      "tzdata==2023.3\n",
      "    \u001b[32m# via pandas\u001b[0m\u001b[0m\n",
      "vega-datasets==0.9.0\n",
      "    \u001b[32m# via -r requirements.in\u001b[0m\u001b[0m\n",
      "werkzeug==2.3.7\n",
      "    \u001b[32m# via flask\u001b[0m\u001b[0m\n"
     ]
    }
   ],
   "source": [
    "pip-compile"
   ]
  },
  {
   "cell_type": "markdown",
   "metadata": {
    "editable": true,
    "slideshow": {
     "slide_type": ""
    },
    "tags": []
   },
   "source": [
    "When you start, there is no difference between\n",
    "\n",
    "```bash\n",
    "pip install -r requirements.in\n",
    "```\n",
    "\n",
    "and\n",
    "\n",
    "```bash\n",
    "pip install -r requirements.txt\n",
    "```\n",
    "\n",
    "The distinction is: `requirements.in` will install *different things over time*, while `requirements.txt` will always install the same exact things until you change it, e.g. by running `pip-compile` again to upgrade packages, or after editing `requirements.in`.\n"
   ]
  },
  {
   "cell_type": "code",
   "execution_count": 12,
   "metadata": {
    "editable": true,
    "slideshow": {
     "slide_type": ""
    },
    "tags": []
   },
   "outputs": [
    {
     "name": "stdout",
     "output_type": "stream",
     "text": [
      "altair\n",
      "flask\n",
      "vega_datasets\n"
     ]
    }
   ],
   "source": [
    "cat requirements.in"
   ]
  },
  {
   "cell_type": "code",
   "execution_count": 13,
   "metadata": {
    "editable": true,
    "slideshow": {
     "slide_type": ""
    },
    "tags": []
   },
   "outputs": [
    {
     "name": "stdout",
     "output_type": "stream",
     "text": [
      "#\n",
      "# This file is autogenerated by pip-compile with Python 3.11\n",
      "# by the following command:\n",
      "#\n",
      "#    pip-compile\n",
      "#\n",
      "altair==5.0.1\n",
      "    # via -r requirements.in\n",
      "attrs==23.1.0\n",
      "    # via\n",
      "    #   jsonschema\n",
      "    #   referencing\n",
      "blinker==1.6.2\n",
      "    # via flask\n",
      "click==8.1.7\n",
      "    # via flask\n",
      "flask==2.3.3\n",
      "    # via -r requirements.in\n",
      "itsdangerous==2.1.2\n",
      "    # via flask\n",
      "jinja2==3.1.2\n",
      "    # via\n",
      "    #   altair\n",
      "    #   flask\n",
      "jsonschema==4.19.0\n",
      "    # via altair\n",
      "jsonschema-specifications==2023.7.1\n",
      "    # via jsonschema\n",
      "markupsafe==2.1.3\n",
      "    # via\n",
      "    #   jinja2\n",
      "    #   werkzeug\n",
      "numpy==1.25.2\n",
      "    # via\n",
      "    #   altair\n",
      "    #   pandas\n",
      "pandas==2.0.3\n",
      "    # via\n",
      "    #   altair\n",
      "    #   vega-datasets\n",
      "python-dateutil==2.8.2\n",
      "    # via pandas\n",
      "pytz==2023.3\n",
      "    # via pandas\n",
      "referencing==0.30.2\n",
      "    # via\n",
      "    #   jsonschema\n",
      "    #   jsonschema-specifications\n",
      "rpds-py==0.9.2\n",
      "    # via\n",
      "    #   jsonschema\n",
      "    #   referencing\n",
      "six==1.16.0\n",
      "    # via python-dateutil\n",
      "toolz==0.12.0\n",
      "    # via altair\n",
      "tzdata==2023.3\n",
      "    # via pandas\n",
      "vega-datasets==0.9.0\n",
      "    # via -r requirements.in\n",
      "werkzeug==2.3.7\n",
      "    # via flask\n"
     ]
    }
   ],
   "source": [
    "cat requirements.txt"
   ]
  },
  {
   "cell_type": "markdown",
   "metadata": {
    "editable": true,
    "slideshow": {
     "slide_type": ""
    },
    "tags": []
   },
   "source": [
    "## pipenv\n",
    "\n",
    "[pipenv](https://pipenv.pypa.io) is a tool built around pipfiles that does a similar thing to pip-tools, but one step removed.\n",
    "\n",
    "- uses [Pipfile](https://github.com/pypa/pipfile) format instead of requirements.txt\n",
    "- Pipfile.lock for pinned versions\n",
    "- includes specifying the Python version itself, and additional informat about *how* to install pacakges\n",
    "- manages environments as well\n"
   ]
  },
  {
   "cell_type": "code",
   "execution_count": 14,
   "metadata": {
    "editable": true,
    "slideshow": {
     "slide_type": ""
    },
    "tags": []
   },
   "outputs": [],
   "source": [
    "cd ../pipfile"
   ]
  },
  {
   "cell_type": "code",
   "execution_count": 15,
   "metadata": {
    "editable": true,
    "slideshow": {
     "slide_type": ""
    },
    "tags": []
   },
   "outputs": [
    {
     "name": "stdout",
     "output_type": "stream",
     "text": [
      "[requires]\n",
      "python_version = \"3.10\"\n",
      "\n",
      "[packages]\n",
      "altair = \"*\"\n",
      "flask = \"*\"\n",
      "vega-datasets = \"*\"\n"
     ]
    }
   ],
   "source": [
    "cat Pipfile"
   ]
  },
  {
   "cell_type": "markdown",
   "metadata": {
    "editable": true,
    "slideshow": {
     "slide_type": ""
    },
    "tags": []
   },
   "source": [
    "Leave our earlier env"
   ]
  },
  {
   "cell_type": "code",
   "execution_count": 23,
   "metadata": {
    "editable": true,
    "slideshow": {
     "slide_type": ""
    },
    "tags": []
   },
   "outputs": [
    {
     "name": "stdout",
     "output_type": "stream",
     "text": [
      "DeprecationWarning: 'source deactivate' is deprecated. Use 'conda deactivate'.\n",
      "Requirement already satisfied: pipenv in /Users/minrk/conda/lib/python3.11/site-packages (2023.8.26)\n",
      "Requirement already satisfied: certifi in /Users/minrk/conda/lib/python3.11/site-packages (from pipenv) (2023.7.22)\n",
      "Requirement already satisfied: setuptools>=67.0.0 in /Users/minrk/conda/lib/python3.11/site-packages (from pipenv) (68.1.2)\n",
      "Requirement already satisfied: virtualenv>=20.24.2 in /Users/minrk/conda/lib/python3.11/site-packages (from pipenv) (20.24.3)\n",
      "Requirement already satisfied: distlib<1,>=0.3.7 in /Users/minrk/conda/lib/python3.11/site-packages (from virtualenv>=20.24.2->pipenv) (0.3.7)\n",
      "Requirement already satisfied: filelock<4,>=3.12.2 in /Users/minrk/conda/lib/python3.11/site-packages (from virtualenv>=20.24.2->pipenv) (3.12.2)\n",
      "Requirement already satisfied: platformdirs<4,>=3.9.1 in /Users/minrk/conda/lib/python3.11/site-packages (from virtualenv>=20.24.2->pipenv) (3.10.0)\n"
     ]
    }
   ],
   "source": [
    "deactivate\n",
    "pip install pipenv"
   ]
  },
  {
   "cell_type": "code",
   "execution_count": 17,
   "metadata": {
    "editable": true,
    "slideshow": {
     "slide_type": ""
    },
    "tags": []
   },
   "outputs": [
    {
     "name": "stdout",
     "output_type": "stream",
     "text": [
      "\u001b[1mCreating a virtualenv for this project...\u001b[0m\n",
      "Pipfile: \u001b[33m\u001b[1m/Users/minrk/dev/simula/in3110/site/lectures/production/pipfile/Pipfile\u001b[0m\n",
      "\u001b[1mUsing\u001b[0m \u001b[33m\u001b[1m/opt/homebrew/bin/python3.10\u001b[0m \u001b[32m(3.10.13)\u001b[0m \u001b[1mto create virtualenv...\u001b[0m\n",
      "\u001b[2K\u001b[32m⠸\u001b[0m Creating virtual environment...\u001b[36mcreated virtual environment CPython3.10.13.final.0-64 in 327ms\n",
      "  creator CPython3Posix(dest=/Users/minrk/env/pipfile-9GkG1Y10, clear=False, no_vcs_ignore=False, global=False)\n",
      "  seeder FromAppData(download=False, pip=bundle, setuptools=bundle, wheel=bundle, via=copy, app_data_dir=/Users/minrk/Library/Application Support/virtualenv)\n",
      "    added seed packages: pip==23.1.2, setuptools==68.0.0, wheel==0.40.0\n",
      "  activators XonshActivator,BashActivator,CShellActivator,FishActivator,NushellActivator,PowerShellActivator,PythonActivator\n",
      "\u001b[0m\n",
      "✔ Successfully created virtual environment!\n",
      "\u001b[2K\u001b[32m⠼\u001b[0m Creating virtual environment...\n",
      "\u001b[1A\u001b[2K\u001b[32mVirtualenv location: /Users/minrk/env/pipfile-9GkG1Y10\u001b[0m\n",
      "Locking\u001b[0m \u001b[33m[packages]\u001b[0m dependencies...\u001b[0m\n",
      "\u001b[?25lBuilding requirements\u001b[33m...\u001b[0m\n",
      "\u001b[2KResolving dependencies\u001b[33m...\u001b[0m\n",
      "\u001b[2K✔ Success! Locking...\n",
      "\u001b[32m⠇\u001b[0m Locking...Warning: INFO:pipenv.patched.pip._internal.operations.prepare:Collecting flask (from -r /var/folders/qr/3vxfnp1x2t1fw55dr288mphc0000gn/T/pipenv-4z9petos-requirements/pipenv-k2jk3w_z-constraints.txt (line 3))\n",
      "INFO:pipenv.patched.pip._internal.operations.prepare:Obtaining dependency information for flask from https://files.pythonhosted.org/packages/fd/56/26f0be8adc2b4257df20c1c4260ddd0aa396cf8e75d90ab2f7ff99bc34f9/flask-2.3.3-py3-none-any.whl.metadata\n",
      "INFO:pipenv.patched.pip._internal.network.download:Downloading flask-2.3.3-py3-none-any.whl.metadata (3.6 kB)\n",
      "INFO:pipenv.patched.pip._internal.operations.prepare:Collecting vega-datasets (from -r /var/folders/qr/3vxfnp1x2t1fw55dr288mphc0000gn/T/pipenv-4z9petos-requirements/pipenv-k2jk3w_z-constraints.txt (line 4))\n",
      "INFO:pipenv.patched.pip._internal.network.download:Using cached vega_datasets-0.9.0-py3-none-any.whl (210 kB)\n",
      "INFO:pipenv.patched.pip._internal.operations.prepare:Collecting altair (from -r /var/folders/qr/3vxfnp1x2t1fw55dr288mphc0000gn/T/pipenv-4z9petos-requirements/pipenv-k2jk3w_z-constraints.txt (line 2))\n",
      "INFO:pipenv.patched.pip._internal.operations.prepare:Obtaining dependency information for altair from https://files.pythonhosted.org/packages/b2/20/5c3b89d6f8d9938325a9330793438389e0dc94c34d921f6da35ec62095f3/altair-5.0.1-py3-none-any.whl.metadata\n",
      "INFO:pipenv.patched.pip._internal.network.download:Downloading altair-5.0.1-py3-none-any.whl.metadata (8.5 kB)\n",
      "INFO:pipenv.patched.pip._internal.operations.prepare:Collecting Werkzeug>=2.3.7 (from flask->-r /var/folders/qr/3vxfnp1x2t1fw55dr288mphc0000gn/T/pipenv-4z9petos-requirements/pipenv-k2jk3w_z-constraints.txt (line 3))\n",
      "INFO:pipenv.patched.pip._internal.operations.prepare:Obtaining dependency information for Werkzeug>=2.3.7 from https://files.pythonhosted.org/packages/9b/59/a7c32e3d8d0e546a206e0552a2c04444544f15c1da4a01df8938d20c6ffc/werkzeug-2.3.7-py3-none-any.whl.metadata\n",
      "INFO:pipenv.patched.pip._internal.network.download:Downloading werkzeug-2.3.7-py3-none-any.whl.metadata (4.1 kB)\n",
      "INFO:pipenv.patched.pip._internal.operations.prepare:Collecting Jinja2>=3.1.2 (from flask->-r /var/folders/qr/3vxfnp1x2t1fw55dr288mphc0000gn/T/pipenv-4z9petos-requirements/pipenv-k2jk3w_z-constraints.txt (line 3))\n",
      "INFO:pipenv.patched.pip._internal.network.download:Using cached Jinja2-3.1.2-py3-none-any.whl (133 kB)\n",
      "INFO:pipenv.patched.pip._internal.operations.prepare:Collecting itsdangerous>=2.1.2 (from flask->-r /var/folders/qr/3vxfnp1x2t1fw55dr288mphc0000gn/T/pipenv-4z9petos-requirements/pipenv-k2jk3w_z-constraints.txt (line 3))\n",
      "INFO:pipenv.patched.pip._internal.network.download:Using cached itsdangerous-2.1.2-py3-none-any.whl (15 kB)\n",
      "INFO:pipenv.patched.pip._internal.operations.prepare:Collecting click>=8.1.3 (from flask->-r /var/folders/qr/3vxfnp1x2t1fw55dr288mphc0000gn/T/pipenv-4z9petos-requirements/pipenv-k2jk3w_z-constraints.txt (line 3))\n",
      "INFO:pipenv.patched.pip._internal.operations.prepare:Obtaining dependency information for click>=8.1.3 from https://files.pythonhosted.org/packages/00/2e/d53fa4befbf2cfa713304affc7ca780ce4fc1fd8710527771b58311a3229/click-8.1.7-py3-none-any.whl.metadata\n",
      "INFO:pipenv.patched.pip._internal.network.download:Downloading click-8.1.7-py3-none-any.whl.metadata (3.0 kB)\n",
      "INFO:pipenv.patched.pip._internal.operations.prepare:Collecting blinker>=1.6.2 (from flask->-r /var/folders/qr/3vxfnp1x2t1fw55dr288mphc0000gn/T/pipenv-4z9petos-requirements/pipenv-k2jk3w_z-constraints.txt (line 3))\n",
      "INFO:pipenv.patched.pip._internal.network.download:Downloading blinker-1.6.2-py3-none-any.whl (13 kB)\n",
      "INFO:pipenv.patched.pip._internal.operations.prepare:Collecting pandas (from vega-datasets->-r /var/folders/qr/3vxfnp1x2t1fw55dr288mphc0000gn/T/pipenv-4z9petos-requirements/pipenv-k2jk3w_z-constraints.txt (line 4))\n",
      "INFO:pipenv.patched.pip._internal.operations.prepare:Obtaining dependency information for pandas from https://files.pythonhosted.org/packages/4a/f6/f620ca62365d83e663a255a41b08d2fc2eaf304e0b8b21bb6d62a7390fe3/pandas-2.0.3-cp310-cp310-macosx_11_0_arm64.whl.metadata\n",
      "INFO:pipenv.patched.pip._internal.network.download:Downloading pandas-2.0.3-cp310-cp310-macosx_11_0_arm64.whl.metadata (18 kB)\n",
      "INFO:pipenv.patched.pip._internal.operations.prepare:Collecting jsonschema>=3.0 (from altair->-r /var/folders/qr/3vxfnp1x2t1fw55dr288mphc0000gn/T/pipenv-4z9petos-requirements/pipenv-k2jk3w_z-constraints.txt (line 2))\n",
      "INFO:pipenv.patched.pip._internal.operations.prepare:Obtaining dependency information for jsonschema>=3.0 from https://files.pythonhosted.org/packages/2b/ff/af59fd34bc4d7ac3e6e0cd1f3c10317d329b6c1aee179e8b24ad9a79fbac/jsonschema-4.19.0-py3-none-any.whl.metadata\n",
      "INFO:pipenv.patched.pip._internal.network.download:Downloading jsonschema-4.19.0-py3-none-any.whl.metadata (8.2 kB)\n",
      "INFO:pipenv.patched.pip._internal.operations.prepare:Collecting numpy (from altair->-r /var/folders/qr/3vxfnp1x2t1fw55dr288mphc0000gn/T/pipenv-4z9petos-requirements/pipenv-k2jk3w_z-constraints.txt (line 2))\n",
      "INFO:pipenv.patched.pip._internal.operations.prepare:Obtaining dependency information for numpy from https://files.pythonhosted.org/packages/c3/ea/1d95b399078ecaa7b5d791e1fdbb3aee272077d9fd5fb499593c87dec5ea/numpy-1.25.2-cp310-cp310-macosx_11_0_arm64.whl.metadata\n",
      "INFO:pipenv.patched.pip._internal.network.download:Downloading numpy-1.25.2-cp310-cp310-macosx_11_0_arm64.whl.metadata (5.6 kB)\n",
      "INFO:pipenv.patched.pip._internal.operations.prepare:Collecting toolz (from altair->-r /var/folders/qr/3vxfnp1x2t1fw55dr288mphc0000gn/T/pipenv-4z9petos-requirements/pipenv-k2jk3w_z-constraints.txt (line 2))\n",
      "INFO:pipenv.patched.pip._internal.network.download:Using cached toolz-0.12.0-py3-none-any.whl (55 kB)\n",
      "INFO:pipenv.patched.pip._internal.operations.prepare:Collecting typing-extensions>=4.0.1 (from altair->-r /var/folders/qr/3vxfnp1x2t1fw55dr288mphc0000gn/T/pipenv-4z9petos-requirements/pipenv-k2jk3w_z-constraints.txt (line 2))\n",
      "INFO:pipenv.patched.pip._internal.operations.prepare:Obtaining dependency information for typing-extensions>=4.0.1 from https://files.pythonhosted.org/packages/ec/6b/63cc3df74987c36fe26157ee12e09e8f9db4de771e0f3404263117e75b95/typing_extensions-4.7.1-py3-none-any.whl.metadata\n",
      "INFO:pipenv.patched.pip._internal.network.download:Downloading typing_extensions-4.7.1-py3-none-any.whl.metadata (3.1 kB)\n",
      "INFO:pipenv.patched.pip._internal.operations.prepare:Collecting MarkupSafe>=2.0 (from Jinja2>=3.1.2->flask->-r /var/folders/qr/3vxfnp1x2t1fw55dr288mphc0000gn/T/pipenv-4z9petos-requirements/pipenv-k2jk3w_z-constraints.txt (line 3))\n",
      "INFO:pipenv.patched.pip._internal.operations.prepare:Obtaining dependency information for MarkupSafe>=2.0 from https://files.pythonhosted.org/packages/20/1d/713d443799d935f4d26a4f1510c9e61b1d288592fb869845e5cc92a1e055/MarkupSafe-2.1.3-cp310-cp310-macosx_10_9_universal2.whl.metadata\n",
      "INFO:pipenv.patched.pip._internal.network.download:Downloading MarkupSafe-2.1.3-cp310-cp310-macosx_10_9_universal2.whl.metadata (3.0 kB)\n",
      "INFO:pipenv.patched.pip._internal.operations.prepare:Collecting attrs>=22.2.0 (from jsonschema>=3.0->altair->-r /var/folders/qr/3vxfnp1x2t1fw55dr288mphc0000gn/T/pipenv-4z9petos-requirements/pipenv-k2jk3w_z-constraints.txt (line 2))\n",
      "INFO:pipenv.patched.pip._internal.network.download:Downloading attrs-23.1.0-py3-none-any.whl (61 kB)\n",
      "INFO:pipenv.patched.pip._internal.operations.prepare:Collecting jsonschema-specifications>=2023.03.6 (from jsonschema>=3.0->altair->-r /var/folders/qr/3vxfnp1x2t1fw55dr288mphc0000gn/T/pipenv-4z9petos-requirements/pipenv-k2jk3w_z-constraints.txt (line 2))\n",
      "INFO:pipenv.patched.pip._internal.operations.prepare:Obtaining dependency information for jsonschema-specifications>=2023.03.6 from https://files.pythonhosted.org/packages/1c/24/83349ac2189cc2435e84da3f69ba3c97314d3c0622628e55171c6798ed80/jsonschema_specifications-2023.7.1-py3-none-any.whl.metadata\n",
      "INFO:pipenv.patched.pip._internal.network.download:Downloading jsonschema_specifications-2023.7.1-py3-none-any.whl.metadata (2.8 kB)\n",
      "INFO:pipenv.patched.pip._internal.operations.prepare:Collecting referencing>=0.28.4 (from jsonschema>=3.0->altair->-r /var/folders/qr/3vxfnp1x2t1fw55dr288mphc0000gn/T/pipenv-4z9petos-requirements/pipenv-k2jk3w_z-constraints.txt (line 2))\n",
      "INFO:pipenv.patched.pip._internal.operations.prepare:Obtaining dependency information for referencing>=0.28.4 from https://files.pythonhosted.org/packages/be/8e/56d6f1e2d591f4d6cbcba446cac4a1b0dc4f584537e2071d9bcee8eeab6b/referencing-0.30.2-py3-none-any.whl.metadata\n",
      "INFO:pipenv.patched.pip._internal.network.download:Downloading referencing-0.30.2-py3-none-any.whl.metadata (2.6 kB)\n",
      "INFO:pipenv.patched.pip._internal.operations.prepare:Collecting rpds-py>=0.7.1 (from jsonschema>=3.0->altair->-r /var/folders/qr/3vxfnp1x2t1fw55dr288mphc0000gn/T/pipenv-4z9petos-requirements/pipenv-k2jk3w_z-constraints.txt (line 2))\n",
      "INFO:pipenv.patched.pip._internal.operations.prepare:Obtaining dependency information for rpds-py>=0.7.1 from https://files.pythonhosted.org/packages/cc/21/ee41dbc1f624faf5bb3e1fb936810220801141ffe73c7d2aab221c6ecb4b/rpds_py-0.9.2-cp310-cp310-macosx_11_0_arm64.whl.metadata\n",
      "INFO:pipenv.patched.pip._internal.network.download:Downloading rpds_py-0.9.2-cp310-cp310-macosx_11_0_arm64.whl.metadata (3.7 kB)\n",
      "INFO:pipenv.patched.pip._internal.operations.prepare:Collecting python-dateutil>=2.8.2 (from pandas->vega-datasets->-r /var/folders/qr/3vxfnp1x2t1fw55dr288mphc0000gn/T/pipenv-4z9petos-requirements/pipenv-k2jk3w_z-constraints.txt (line 4))\n",
      "INFO:pipenv.patched.pip._internal.network.download:Using cached python_dateutil-2.8.2-py2.py3-none-any.whl (247 kB)\n",
      "INFO:pipenv.patched.pip._internal.operations.prepare:Collecting pytz>=2020.1 (from pandas->vega-datasets->-r /var/folders/qr/3vxfnp1x2t1fw55dr288mphc0000gn/T/pipenv-4z9petos-requirements/pipenv-k2jk3w_z-constraints.txt (line 4))\n",
      "INFO:pipenv.patched.pip._internal.network.download:Downloading pytz-2023.3-py2.py3-none-any.whl (502 kB)\n",
      "INFO:pipenv.patched.pip._internal.operations.prepare:Collecting tzdata>=2022.1 (from pandas->vega-datasets->-r /var/folders/qr/3vxfnp1x2t1fw55dr288mphc0000gn/T/pipenv-4z9petos-requirements/pipenv-k2jk3w_z-constraints.txt (line 4))\n",
      "INFO:pipenv.patched.pip._internal.network.download:Downloading tzdata-2023.3-py2.py3-none-any.whl (341 kB)\n",
      "INFO:pipenv.patched.pip._internal.operations.prepare:Collecting six>=1.5 (from python-dateutil>=2.8.2->pandas->vega-datasets->-r /var/folders/qr/3vxfnp1x2t1fw55dr288mphc0000gn/T/pipenv-4z9petos-requirements/pipenv-k2jk3w_z-constraints.txt (line 4))\n",
      "INFO:pipenv.patched.pip._internal.network.download:Using cached six-1.16.0-py2.py3-none-any.whl (11 kB)\n",
      "INFO:pipenv.patched.pip._internal.network.download:Downloading flask-2.3.3-py3-none-any.whl (96 kB)\n",
      "INFO:pipenv.patched.pip._internal.network.download:Downloading altair-5.0.1-py3-none-any.whl (471 kB)\n",
      "INFO:pipenv.patched.pip._internal.network.download:Downloading click-8.1.7-py3-none-any.whl (97 kB)\n",
      "INFO:pipenv.patched.pip._internal.network.download:Downloading jsonschema-4.19.0-py3-none-any.whl (83 kB)\n",
      "INFO:pipenv.patched.pip._internal.network.download:Downloading pandas-2.0.3-cp310-cp310-macosx_11_0_arm64.whl (10.8 MB)\n",
      "INFO:pipenv.patched.pip._internal.network.download:Downloading numpy-1.25.2-cp310-cp310-macosx_11_0_arm64.whl (14.0 MB)\n",
      "INFO:pipenv.patched.pip._internal.network.download:Downloading typing_extensions-4.7.1-py3-none-any.whl (33 kB)\n",
      "INFO:pipenv.patched.pip._internal.network.download:Downloading werkzeug-2.3.7-py3-none-any.whl (242 kB)\n",
      "INFO:pipenv.patched.pip._internal.network.download:Downloading jsonschema_specifications-2023.7.1-py3-none-any.whl (17 kB)\n",
      "INFO:pipenv.patched.pip._internal.network.download:Downloading MarkupSafe-2.1.3-cp310-cp310-macosx_10_9_universal2.whl (17 kB)\n",
      "INFO:pipenv.patched.pip._internal.network.download:Downloading referencing-0.30.2-py3-none-any.whl (25 kB)\n",
      "INFO:pipenv.patched.pip._internal.network.download:Downloading rpds_py-0.9.2-cp310-cp310-macosx_11_0_arm64.whl (306 kB)\u001b[0m\n",
      "\u001b[2K\u001b[32m⠇\u001b[0m Locking...\n",
      "\u001b[1A\u001b[2KLocking\u001b[0m \u001b[33m[dev-packages]\u001b[0m dependencies...\u001b[0m\n",
      "\u001b[1mUpdated Pipfile.lock (644e57b07835e87b285d8338676a8bde3d24b8412120203e96731a83b770b772)!\u001b[0m\n"
     ]
    }
   ],
   "source": [
    "pipenv lock"
   ]
  },
  {
   "cell_type": "code",
   "execution_count": 18,
   "metadata": {
    "editable": true,
    "slideshow": {
     "slide_type": ""
    },
    "tags": []
   },
   "outputs": [
    {
     "name": "stdout",
     "output_type": "stream",
     "text": [
      "\u001b[1mInstalling dependencies from Pipfile.lock \u001b[0m\u001b[1m(\u001b[0m\u001b[1m70b772\u001b[0m\u001b[1m)\u001b[0m\u001b[1;33m...\u001b[0m\n",
      "To activate this project's virtualenv, run \u001b[33mpipenv shell\u001b[0m.\n",
      "Alternatively, run a command inside the virtualenv with \u001b[33mpipenv run\u001b[0m.\n"
     ]
    }
   ],
   "source": [
    "pipenv install"
   ]
  },
  {
   "cell_type": "code",
   "execution_count": 19,
   "metadata": {
    "editable": true,
    "slideshow": {
     "slide_type": ""
    },
    "tags": []
   },
   "outputs": [
    {
     "name": "stdout",
     "output_type": "stream",
     "text": [
      "/Users/minrk/conda\n"
     ]
    }
   ],
   "source": [
    "python -c \"import sys; print(sys.prefix)\""
   ]
  },
  {
   "cell_type": "code",
   "execution_count": 20,
   "metadata": {
    "editable": true,
    "slideshow": {
     "slide_type": ""
    },
    "tags": []
   },
   "outputs": [
    {
     "name": "stdout",
     "output_type": "stream",
     "text": [
      "/Users/minrk/env/pipfile-9GkG1Y10\n"
     ]
    }
   ],
   "source": [
    "pipenv run python -c \"import sys; print(sys.prefix)\""
   ]
  },
  {
   "cell_type": "code",
   "execution_count": 21,
   "metadata": {
    "editable": true,
    "slideshow": {
     "slide_type": ""
    },
    "tags": []
   },
   "outputs": [
    {
     "name": "stdout",
     "output_type": "stream",
     "text": [
      "Package                   Version\n",
      "------------------------- --------\n",
      "altair                    5.0.1\n",
      "attrs                     23.1.0\n",
      "blinker                   1.6.2\n",
      "click                     8.1.7\n",
      "Flask                     2.3.3\n",
      "itsdangerous              2.1.2\n",
      "Jinja2                    3.1.2\n",
      "jsonschema                4.19.0\n",
      "jsonschema-specifications 2023.7.1\n",
      "MarkupSafe                2.1.3\n",
      "numpy                     1.25.2\n",
      "pandas                    2.0.3\n",
      "pip                       23.1.2\n",
      "python-dateutil           2.8.2\n",
      "pytz                      2023.3\n",
      "referencing               0.30.2\n",
      "rpds-py                   0.9.2\n",
      "setuptools                68.0.0\n",
      "six                       1.16.0\n",
      "toolz                     0.12.0\n",
      "typing_extensions         4.7.1\n",
      "tzdata                    2023.3\n",
      "vega-datasets             0.9.0\n",
      "Werkzeug                  2.3.7\n",
      "wheel                     0.40.0\n"
     ]
    }
   ],
   "source": [
    "pipenv run pip list"
   ]
  },
  {
   "cell_type": "code",
   "execution_count": 22,
   "metadata": {
    "editable": true,
    "slideshow": {
     "slide_type": ""
    },
    "tags": []
   },
   "outputs": [
    {
     "name": "stdout",
     "output_type": "stream",
     "text": [
      "{\n",
      "    \"_meta\": {\n",
      "        \"hash\": {\n",
      "            \"sha256\": \"644e57b07835e87b285d8338676a8bde3d24b8412120203e96731a83b770b772\"\n",
      "        },\n",
      "        \"pipfile-spec\": 6,\n",
      "        \"requires\": {\n",
      "            \"python_version\": \"3.10\"\n",
      "        },\n",
      "        \"sources\": [\n",
      "            {\n",
      "                \"name\": \"pypi\",\n",
      "                \"url\": \"https://pypi.org/simple\",\n",
      "                \"verify_ssl\": true\n",
      "            }\n",
      "        ]\n",
      "    },\n",
      "    \"default\": {\n",
      "        \"altair\": {\n",
      "            \"hashes\": [\n",
      "                \"sha256:087d7033cb2d6c228493a053e12613058a5d47faf6a36aea3ff60305fd8b4cb0\",\n",
      "                \"sha256:9f3552ed5497d4dfc14cf48a76141d8c29ee56eae2873481b4b28134268c9bbe\"\n",
      "            ],\n",
      "            \"index\": \"pypi\",\n",
      "            \"markers\": \"python_version >= '3.7'\",\n",
      "            \"version\": \"==5.0.1\"\n",
      "        },\n",
      "        \"attrs\": {\n",
      "            \"hashes\": [\n",
      "                \"sha256:1f28b4522cdc2fb4256ac1a020c78acf9cba2c6b461ccd2c126f3aa8e8335d04\",\n"
     ]
    }
   ],
   "source": [
    "head -n 30 Pipfile.lock"
   ]
  }
 ],
 "metadata": {
  "kernelspec": {
   "display_name": "Bash",
   "language": "bash",
   "name": "bash"
  },
  "language_info": {
   "codemirror_mode": "shell",
   "file_extension": ".sh",
   "mimetype": "text/x-sh",
   "name": "bash"
  },
  "widgets": {
   "application/vnd.jupyter.widget-state+json": {
    "state": {},
    "version_major": 2,
    "version_minor": 0
   }
  }
 },
 "nbformat": 4,
 "nbformat_minor": 4
}
